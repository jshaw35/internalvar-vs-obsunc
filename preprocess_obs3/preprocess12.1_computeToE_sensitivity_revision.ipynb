{
 "cells": [
  {
   "cell_type": "markdown",
   "id": "5f04a58b-04e0-4cf7-a891-cea53e8c7645",
   "metadata": {},
   "source": [
    "# Compute time-of-emergence!"
   ]
  },
  {
   "cell_type": "markdown",
   "id": "e9ecb378",
   "metadata": {},
   "source": [
    "Just GISTEMP with the changes in the availability threshold."
   ]
  },
  {
   "cell_type": "markdown",
   "id": "cc79c3f7-0427-4f7e-b5f8-9be8fe9d87ce",
   "metadata": {},
   "source": [
    "### Load functions and packages"
   ]
  },
  {
   "cell_type": "code",
   "execution_count": 1,
   "id": "9bc5947a-35ad-40ae-b216-55ae6a63942d",
   "metadata": {},
   "outputs": [],
   "source": [
    "import glob\n",
    "import os\n",
    "\n",
    "import numpy as np\n",
    "import xarray as xr\n",
    "import pandas as pd\n",
    "import matplotlib.pyplot as plt\n",
    "import matplotlib as mpl\n",
    "import seaborn as sns\n",
    "\n",
    "import regionmask\n",
    "\n",
    "import cartopy.crs as ccrs\n",
    "\n",
    "import copy\n",
    "\n",
    "%matplotlib inline"
   ]
  },
  {
   "cell_type": "code",
   "execution_count": 2,
   "id": "77025944-0658-4a8c-a1ce-b12647f515cb",
   "metadata": {},
   "outputs": [],
   "source": [
    "def sp_map(*nrs, projection = ccrs.PlateCarree(), **kwargs):\n",
    "    return plt.subplots(*nrs, subplot_kw={'projection':projection}, **kwargs)"
   ]
  },
  {
   "cell_type": "markdown",
   "id": "dfbec05c-a09e-43a9-95ed-4503c9e92bc3",
   "metadata": {},
   "source": [
    "## Spatial (5x5 deg.) Data"
   ]
  },
  {
   "cell_type": "markdown",
   "id": "d236b44f-466d-4828-8da2-863d19542da3",
   "metadata": {},
   "source": [
    "### Load processed trend data"
   ]
  },
  {
   "cell_type": "markdown",
   "id": "2a4a17b8-f79e-4a4e-b022-a2611d6a0b83",
   "metadata": {},
   "source": [
    "#### Models"
   ]
  },
  {
   "cell_type": "code",
   "execution_count": 3,
   "id": "fca720bc-6e4d-43b0-a71f-2bc7f12c7693",
   "metadata": {},
   "outputs": [],
   "source": [
    "# I need to go from the CAM output variables to the CMOR/CMIP standard names.\n",
    "pic_tseries_dir = '/glade/work/jonahshaw/trend_uncertainty/nathan/CMIP6_PIC/'\n",
    "cesm1_dir       = 'CESM1/xagg'\n",
    "mpi_dir         = 'MPI-GE/xagg'\n",
    "canesm2_dir     = 'CanESM2/xagg'\n",
    "esm2m_dir       = 'ESM2M/xagg'\n",
    "\n",
    "cesm1_cmor_var_dict = {'ts':'TS','tas':'TREFHT','psl':'PSL'}"
   ]
  },
  {
   "cell_type": "markdown",
   "id": "dee12f0b-255c-48b4-b9e3-098764694d1c",
   "metadata": {},
   "source": [
    "Take percentiles from PI-Control Runs of models"
   ]
  },
  {
   "cell_type": "code",
   "execution_count": 4,
   "id": "4f098a05-91b4-4fcf-a17b-05d2daa71eef",
   "metadata": {},
   "outputs": [],
   "source": [
    "cesm1_regional_trends_filepath   = glob.glob('%s/%s/*.1900trends.Percentiles*.nc' % (pic_tseries_dir,cesm1_dir))\n",
    "mpi_regional_trends_filepath     = glob.glob('%s/%s/*.1900trends.Percentiles*.nc' % (pic_tseries_dir,mpi_dir))\n",
    "canesm2_regional_trends_filepath = glob.glob('%s/%s/*.1900trends.Percentiles*.nc' % (pic_tseries_dir,canesm2_dir))\n",
    "esm2m_regional_trends_filepath   = glob.glob('%s/%s/*.1900trends.Percentiles*.nc' % (pic_tseries_dir,esm2m_dir))"
   ]
  },
  {
   "cell_type": "markdown",
   "id": "d59b9cf1-0f4a-4dcd-a9e2-c84054c53950",
   "metadata": {},
   "source": [
    "Load the trend data."
   ]
  },
  {
   "cell_type": "code",
   "execution_count": 5,
   "id": "dd854b4d-115f-43f7-865d-87efcdf554b9",
   "metadata": {},
   "outputs": [],
   "source": [
    "cesm1_pic_regional_trends_all   = xr.open_dataarray(*cesm1_regional_trends_filepath).chunk({\"RegionIndex\": 1})\n",
    "cesm1_pic_regional_trends_all[\"percentile\"] = cesm1_pic_regional_trends_all[\"percentile\"] * 100\n",
    "\n",
    "mpi_pic_regional_trends_all     = xr.open_dataarray(*mpi_regional_trends_filepath).chunk({\"RegionIndex\": 1})\n",
    "mpi_pic_regional_trends_all[\"percentile\"] = mpi_pic_regional_trends_all[\"percentile\"] * 100\n",
    "\n",
    "canesm2_pic_regional_trends_all = xr.open_dataarray(*canesm2_regional_trends_filepath).chunk({\"RegionIndex\": 1})\n",
    "canesm2_pic_regional_trends_all[\"percentile\"] = canesm2_pic_regional_trends_all[\"percentile\"] * 100\n",
    "\n",
    "esm2m_pic_regional_trends_all   = xr.open_dataarray(*esm2m_regional_trends_filepath).chunk({\"RegionIndex\": 1})\n",
    "esm2m_pic_regional_trends_all[\"percentile\"] = esm2m_pic_regional_trends_all[\"percentile\"] * 100"
   ]
  },
  {
   "cell_type": "markdown",
   "id": "833fda89-8d6e-4f2f-b32e-106f2224895e",
   "metadata": {},
   "source": [
    "#### Observations"
   ]
  },
  {
   "cell_type": "markdown",
   "id": "34ecb1c9-2609-4a58-b868-d330b69713de",
   "metadata": {},
   "source": [
    "And the OBS-LE is effectively used as a model so I just want the percentiles."
   ]
  },
  {
   "cell_type": "code",
   "execution_count": 6,
   "id": "eb917321-dc52-445b-856e-98ab1d93e9aa",
   "metadata": {},
   "outputs": [],
   "source": [
    "obs_tseries_dir = \"/glade/work/jonahshaw/trend_uncertainty/nathan/OBS_LENS/\"\n",
    "\n",
    "gistemp_5x5_95_dir = 'GISTEMP_5x5/20240820/xagg_correctedtime/threshold_0.95/'\n",
    "gistemp_5x5_70_dir = 'GISTEMP_5x5/20240820/xagg_correctedtime/threshold_0.70/'"
   ]
  },
  {
   "cell_type": "code",
   "execution_count": 7,
   "id": "356d3dc2-79be-445b-84a0-66d852178580",
   "metadata": {},
   "outputs": [],
   "source": [
    "gistemp_tas_var = 'tas'"
   ]
  },
  {
   "cell_type": "code",
   "execution_count": 8,
   "id": "c4a5f02f",
   "metadata": {},
   "outputs": [],
   "source": [
    "gistemp_5x5_regional_trends_70_filepath = '%s/%s/ensembleChunks_0001_0200.trends.movingstartdate.IPCCRegions.190001-202012.nc' % (obs_tseries_dir,gistemp_5x5_70_dir)\n",
    "gistemp_5x5_regional_trends_95_filepath = '%s/%s/ensembleChunks_0001_0200.trends.movingstartdate.IPCCRegions.190001-202012.nc' % (obs_tseries_dir,gistemp_5x5_95_dir)"
   ]
  },
  {
   "cell_type": "markdown",
   "id": "154a40ba",
   "metadata": {},
   "source": [
    "Computed start years"
   ]
  },
  {
   "cell_type": "code",
   "execution_count": 9,
   "id": "a301456b",
   "metadata": {},
   "outputs": [],
   "source": [
    "gistemp_5x5_regional_startyears_70_filepath = '%s/%s/ensembleChunks_0001_0200.startyears.IPCCRegions.190001-202012.nc' % (obs_tseries_dir, gistemp_5x5_70_dir)\n",
    "gistemp_5x5_regional_startyears_95_filepath = '%s/%s/ensembleChunks_0001_0200.startyears.IPCCRegions.190001-202012.nc' % (obs_tseries_dir, gistemp_5x5_95_dir)"
   ]
  },
  {
   "cell_type": "markdown",
   "id": "e46a8893",
   "metadata": {},
   "source": [
    "Data availability masks"
   ]
  },
  {
   "cell_type": "code",
   "execution_count": 10,
   "id": "110f3c99",
   "metadata": {},
   "outputs": [],
   "source": [
    "gistemp_5x5_regional_availability_70_filepath = '%s/%s/ensembleChunks_0001_0200.availability.IPCCRegions.190001-202012.nc' % (obs_tseries_dir, gistemp_5x5_70_dir)\n",
    "gistemp_5x5_regional_availability_95_filepath = '%s/%s/ensembleChunks_0001_0200.availability.IPCCRegions.190001-202012.nc' % (obs_tseries_dir, gistemp_5x5_95_dir)"
   ]
  },
  {
   "cell_type": "markdown",
   "id": "012f4512-f36d-4cea-9795-8a19049bf333",
   "metadata": {},
   "source": [
    "Load the trend data"
   ]
  },
  {
   "cell_type": "code",
   "execution_count": 11,
   "id": "20391819-3670-4b7c-a4be-511c7a8c4670",
   "metadata": {},
   "outputs": [],
   "source": [
    "gistemp_regional_trends_70_all = xr.open_dataarray(gistemp_5x5_regional_trends_70_filepath).sel(startyear=1).drop_vars(['startyear']).chunk({\"RegionIndex\": 1})\n",
    "gistemp_regional_trends_95_all = xr.open_dataarray(gistemp_5x5_regional_trends_95_filepath).sel(startyear=1).drop_vars(['startyear']).chunk({\"RegionIndex\": 1})"
   ]
  },
  {
   "cell_type": "markdown",
   "id": "4316dbff",
   "metadata": {},
   "source": [
    "Load the start year data"
   ]
  },
  {
   "cell_type": "code",
   "execution_count": 12,
   "id": "c95fcde8",
   "metadata": {},
   "outputs": [],
   "source": [
    "gistemp_regional_70_startyears = xr.open_dataarray(gistemp_5x5_regional_startyears_70_filepath)\n",
    "gistemp_regional_95_startyears = xr.open_dataarray(gistemp_5x5_regional_startyears_95_filepath)"
   ]
  },
  {
   "cell_type": "markdown",
   "id": "a1fde4ce",
   "metadata": {},
   "source": [
    "Load the availability data"
   ]
  },
  {
   "cell_type": "code",
   "execution_count": 13,
   "id": "f36cb8ea",
   "metadata": {},
   "outputs": [],
   "source": [
    "gistemp_regional_70_availability = xr.open_dataarray(gistemp_5x5_regional_availability_70_filepath)\n",
    "gistemp_regional_95_availability = xr.open_dataarray(gistemp_5x5_regional_availability_95_filepath)"
   ]
  },
  {
   "cell_type": "markdown",
   "id": "9f47edfb",
   "metadata": {},
   "source": [
    "Convert the start years across multiple realizations to the single year used for each data production (see preprocess3.5_obsIPCC_identifystartdate.ipynb)"
   ]
  },
  {
   "cell_type": "code",
   "execution_count": 14,
   "id": "3bab842a",
   "metadata": {},
   "outputs": [],
   "source": [
    "def process_startyears(\n",
    "    startyears: xr.DataArray,\n",
    "    earliest_startyear: int,\n",
    "    fillvalue: int,\n",
    "    ens_dim: str = \"realization\",\n",
    "):\n",
    "\n",
    "    startyears_mid = startyears.quantile(0.75, dim=ens_dim)\n",
    "    \n",
    "    # Set values less than earliest_startyear to earliest_startyear.\n",
    "    startyears_final = xr.where(\n",
    "        startyears_mid > earliest_startyear,\n",
    "        startyears_mid, \n",
    "        earliest_startyear,\n",
    "    )\n",
    "    # Revert masking to a nan\n",
    "    startyears_final = startyears_final.where(startyears_final != fillvalue)\n",
    "    \n",
    "    return startyears_final\n",
    "    "
   ]
  },
  {
   "cell_type": "code",
   "execution_count": 15,
   "id": "fbc53bba",
   "metadata": {},
   "outputs": [],
   "source": [
    "earliest_startyear = 1900\n",
    "fillvalue = 2100\n",
    "\n",
    "gistemp_regional_70_startyears = process_startyears(\n",
    "    gistemp_regional_70_startyears,\n",
    "    earliest_startyear=earliest_startyear,\n",
    "    fillvalue=fillvalue,\n",
    ").drop_vars(\"quantile\").squeeze()\n",
    "\n",
    "gistemp_regional_95_startyears = process_startyears(\n",
    "    gistemp_regional_95_startyears,\n",
    "    earliest_startyear=earliest_startyear,\n",
    "    fillvalue=fillvalue,\n",
    ").drop_vars(\"quantile\").squeeze()"
   ]
  },
  {
   "cell_type": "markdown",
   "id": "93e77fa3",
   "metadata": {},
   "source": [
    "Use startyears and availability to mask the trend data before computing ToE"
   ]
  },
  {
   "cell_type": "code",
   "execution_count": 16,
   "id": "8f74c6c2",
   "metadata": {},
   "outputs": [],
   "source": [
    "def reindex_time_by_startyear(\n",
    "    data_ann_avg: xr.DataArray,\n",
    "    startyears: xr.DataArray,\n",
    "    stack_vars: list = None,\n",
    "    spatial_str: str = \"z\"\n",
    "):\n",
    "    \"\"\"Reindex the temporal dimension so records begin according to a supplied array of start years.\n",
    "\n",
    "    Args:\n",
    "        data_ann_avg (xr.DataArray): Annually averaged data with a \"year\" time dimension.\n",
    "        startyears (xr.DataArray): Array of start years for the spatial dimensions of the data.\n",
    "        stack_vars (list, optional): If the spatial dimensions are more than 1, pass them here.. Defaults to None.\n",
    "        spatial_str (str, optional): Variable to assigned stacked spatial fields. Defaults to \"z\".\n",
    "\n",
    "    Returns:\n",
    "        xr.DataArray: Appropriately reindexed data with new time dimension \"recordlength\".\n",
    "    \"\"\"\n",
    "    \n",
    "    # This doesn't work yet but it should eventually.\n",
    "    if stack_vars is not None:\n",
    "        data_stacked = data_ann_avg.stack({spatial_str: stack_vars})\n",
    "        startyears_stacked = startyears.stack({spatial_str: stack_vars})\n",
    "    else:\n",
    "        data_stacked = data_ann_avg\n",
    "        startyears_stacked = startyears\n",
    "\n",
    "    combino_list = []\n",
    "    for _spatial_startyear in startyears_stacked:\n",
    "        time_subset = data_stacked.sel(\n",
    "            {spatial_str: _spatial_startyear[spatial_str],\n",
    "             \"year\": slice(_spatial_startyear, None),\n",
    "             },\n",
    "        )\n",
    "\n",
    "        durations = np.arange(1, time_subset.year.shape[0] + 1)\n",
    "        \n",
    "        time_subset = time_subset.rename({\"year\": \"recordlength\"}).assign_coords(recordlength=durations)\n",
    "        combino_list.append(time_subset)\n",
    "\n",
    "    tseries_indexed_by_duration = xr.combine_nested(\n",
    "        combino_list,\n",
    "        concat_dim=[spatial_str],\n",
    "    )\n",
    "    if stack_vars is not None:\n",
    "        # Need to apply the multi-index again for some reason to be able to unstack.\n",
    "        tseries_indexed_by_duration = tseries_indexed_by_duration.set_index({spatial_str: stack_vars}).unstack(spatial_str)\n",
    "\n",
    "    return tseries_indexed_by_duration\n",
    "\n",
    "\n",
    "def mask_trends_by_startyear_and_availability(\n",
    "    trends: xr.DataArray,\n",
    "    startyears: xr.DataArray,\n",
    "    availability: xr.DataArray,\n",
    "    record_endyear: int=2020,\n",
    "    stack_vars: list = None,\n",
    "):\n",
    "\n",
    "    # Mask all data if startyear is 2019 or 2020\n",
    "    trends = trends.where(startyears <= record_endyear - 2)\n",
    "    # Mask duration > 2020 - startyear + 1\n",
    "    trends = trends.where(trends.duration <= record_endyear - startyears + 1)\n",
    "\n",
    "    # Apply the availability mask for individual members\n",
    "    # First convert to the duration time coordinate.\n",
    "    availability_by_duration = reindex_time_by_startyear(\n",
    "        availability,\n",
    "        startyears,\n",
    "        stack_vars,\n",
    "    ).rename({\"recordlength\": \"duration\"})\n",
    "    trends = trends.where(availability_by_duration == 1)\n",
    "    \n",
    "    return trends"
   ]
  },
  {
   "cell_type": "markdown",
   "id": "28909096-38d0-414f-8341-71860d204889",
   "metadata": {},
   "source": [
    "### Compute TTE generally"
   ]
  },
  {
   "cell_type": "code",
   "execution_count": 17,
   "id": "0835894e-197e-4dad-b999-64e80f4fe4aa",
   "metadata": {},
   "outputs": [],
   "source": [
    "obs_regional_trend_dict = {\n",
    "    'GISTEMP_5x5_70': gistemp_regional_trends_70_all,\n",
    "    'GISTEMP_5x5_95': gistemp_regional_trends_95_all,\n",
    "}\n",
    "obs_trend_dict = {\n",
    "    'regional':obs_regional_trend_dict,\n",
    "}\n",
    "obs_regional_startyear_dict = {\n",
    "    'GISTEMP_5x5_70': gistemp_regional_70_startyears,\n",
    "    'GISTEMP_5x5_95': gistemp_regional_95_startyears,\n",
    "}\n",
    "obs_startyear_dict = {\n",
    "    'regional':obs_regional_startyear_dict,\n",
    "}\n",
    "obs_regional_availability_dict = {\n",
    "    'GISTEMP_5x5_70': gistemp_regional_70_availability,\n",
    "    'GISTEMP_5x5_95': gistemp_regional_95_availability,\n",
    "}\n",
    "obs_availability_dict = {\n",
    "    'regional':obs_regional_availability_dict,\n",
    "}\n",
    "model_regional_trend_dict = {'CESM1':cesm1_pic_regional_trends_all,\n",
    "                             'MPI':mpi_pic_regional_trends_all,\n",
    "                             'CanESM2':canesm2_pic_regional_trends_all,\n",
    "                             'ESM2M':esm2m_pic_regional_trends_all,\n",
    "                            }\n",
    "                                         \n",
    "model_trend_dict          = {\n",
    "    'regional':model_regional_trend_dict,\n",
    "}"
   ]
  },
  {
   "cell_type": "markdown",
   "id": "4256d072-1c1b-4737-9fd0-e2d1127bbc0c",
   "metadata": {},
   "source": [
    "Compute the TTE for each ensemble member separately."
   ]
  },
  {
   "cell_type": "code",
   "execution_count": 18,
   "id": "ee7d81f2",
   "metadata": {},
   "outputs": [],
   "source": [
    "def compute_tte(\n",
    "    obs_trends,\n",
    "    pic_trends,\n",
    "    startyears,\n",
    "    record_endyear: int=2020\n",
    "):\n",
    "    '''\n",
    "    General function comparing the observed trends with the PIC trends to determine TTE.\n",
    "    '''\n",
    "    # Can only test up to the longest sampled duration of PI-Control or observations\n",
    "    duration_limit = np.minimum(obs_trends.duration.max(), pic_trends.duration.max())\n",
    "\n",
    "    _tte_bool = obs_trends > pic_trends\n",
    "    _tte      = _tte_bool.duration.where(~_tte_bool).max(dim='duration')\n",
    "    _tte      = _tte.where(_tte != duration_limit, np.nan) # Mask the unemerged regions\n",
    "    _tte      = _tte.drop_vars(['percentile'])\n",
    "    \n",
    "    _tte      = _tte + startyears\n",
    "    \n",
    "    return _tte"
   ]
  },
  {
   "cell_type": "code",
   "execution_count": 19,
   "id": "27fa3645",
   "metadata": {},
   "outputs": [],
   "source": [
    "def compute_tte_moving_startyear(\n",
    "    obs_trends,\n",
    "    pic_trends,\n",
    "    startyears,\n",
    "    record_endyear: int=2020\n",
    "):\n",
    "    '''\n",
    "    General function comparing the observed trends with the PIC trends to determine TTE.\n",
    "    '''\n",
    "    \n",
    "    record_mask = obs_trends.duration <= record_endyear - startyears + 1\n",
    "    \n",
    "    # Compare obs and pic trends\n",
    "    _tte_bool = obs_trends > pic_trends\n",
    "    # Mask out durations outside of the record\n",
    "    _tte_bool = _tte_bool.where(record_mask)\n",
    "\n",
    "    _tte      = _tte_bool.duration.where(_tte_bool==0).max(dim='duration')\n",
    "    _tte      = _tte.drop_vars(['percentile'])\n",
    "    \n",
    "    _tte      = _tte + startyears # Convert back to actual year\n",
    "    _tte      = _tte.where(_tte <= record_endyear) # Detection cannot occur after the record has ended\n",
    "    \n",
    "    return _tte"
   ]
  },
  {
   "cell_type": "markdown",
   "id": "05ae5c62",
   "metadata": {},
   "source": [
    "I want to ignore the nan'd data when it means the record has ended.\n",
    "I have already masked out data that isn't part of the record, but this looks identical to missing data. So regions with startyears post-1900 are just getting a false at the end of things. I would rather chop it off there or use a different filler.\n",
    "\n",
    "so what if I do the comparison as per usual and then just mask the values that should be ignored with something other than a nan?"
   ]
  },
  {
   "cell_type": "markdown",
   "id": "2913daab",
   "metadata": {},
   "source": [
    "__Solution: Operate as usual (first year after last false) but if that year is not in the record mask then set the ToE to nan.__"
   ]
  },
  {
   "cell_type": "markdown",
   "id": "5d144726",
   "metadata": {},
   "source": [
    "All models and observations separately."
   ]
  },
  {
   "cell_type": "code",
   "execution_count": null,
   "id": "3501cbda-60da-41b5-8a0a-245c0d43f9c4",
   "metadata": {
    "tags": []
   },
   "outputs": [
    {
     "name": "stdout",
     "output_type": "stream",
     "text": [
      "regional\n",
      "GISTEMP_5x5_70\n",
      "CESM1\n",
      "MPI\n",
      "CanESM2\n",
      "ESM2M\n",
      "GISTEMP_5x5_95\n",
      "CESM1\n",
      "MPI\n",
      "CanESM2\n",
      "ESM2M\n"
     ]
    },
    {
     "name": "stderr",
     "output_type": "stream",
     "text": [
      "/glade/work/jonahshaw/conda-envs/py_xagg/lib/python3.12/site-packages/dask/utils.py:78: RuntimeWarning: All-NaN slice encountered\n",
      "  return func(*args, **kwargs)\n",
      "/glade/work/jonahshaw/conda-envs/py_xagg/lib/python3.12/site-packages/dask/utils.py:78: RuntimeWarning: All-NaN slice encountered\n",
      "  return func(*args, **kwargs)\n",
      "/glade/work/jonahshaw/conda-envs/py_xagg/lib/python3.12/site-packages/dask/utils.py:78: RuntimeWarning: All-NaN slice encountered\n",
      "  return func(*args, **kwargs)\n"
     ]
    },
    {
     "ename": "IndexError",
     "evalue": "list index out of range",
     "output_type": "error",
     "traceback": [
      "\u001b[0;31m---------------------------------------------------------------------------\u001b[0m",
      "\u001b[0;31mIndexError\u001b[0m                                Traceback (most recent call last)",
      "Cell \u001b[0;32mIn[20], line 84\u001b[0m\n\u001b[1;32m     81\u001b[0m         location_box\u001b[38;5;241m.\u001b[39mappend(xr\u001b[38;5;241m.\u001b[39mconcat(obs_box,dim\u001b[38;5;241m=\u001b[39m\u001b[38;5;124m'\u001b[39m\u001b[38;5;124mmodel\u001b[39m\u001b[38;5;124m'\u001b[39m)\u001b[38;5;241m.\u001b[39massign_coords({\u001b[38;5;124m'\u001b[39m\u001b[38;5;124mobs\u001b[39m\u001b[38;5;124m'\u001b[39m:_obs_product},)\u001b[38;5;241m.\u001b[39mexpand_dims([\u001b[38;5;124m'\u001b[39m\u001b[38;5;124mobs\u001b[39m\u001b[38;5;124m'\u001b[39m],axis\u001b[38;5;241m=\u001b[39m[\u001b[38;5;241m-\u001b[39m\u001b[38;5;241m1\u001b[39m]))\n\u001b[1;32m     82\u001b[0m     _box\u001b[38;5;241m.\u001b[39mappend(xr\u001b[38;5;241m.\u001b[39mconcat(location_box, dim\u001b[38;5;241m=\u001b[39m\u001b[38;5;124m'\u001b[39m\u001b[38;5;124mobs\u001b[39m\u001b[38;5;124m'\u001b[39m)\u001b[38;5;241m.\u001b[39mcompute())\n\u001b[0;32m---> 84\u001b[0m spatial_masked_da \u001b[38;5;241m=\u001b[39m \u001b[43mspatial_box\u001b[49m\u001b[43m[\u001b[49m\u001b[38;5;241;43m0\u001b[39;49m\u001b[43m]\u001b[49m\n\u001b[1;32m     85\u001b[0m regional_masked_da \u001b[38;5;241m=\u001b[39m regional_box[\u001b[38;5;241m0\u001b[39m]\n",
      "\u001b[0;31mIndexError\u001b[0m: list index out of range"
     ]
    }
   ],
   "source": [
    "spatial_box = []\n",
    "regional_box = []\n",
    "\n",
    "all_dict = {}\n",
    "\n",
    "# Iterate over regional vs. spatial\n",
    "for _location_type in list(obs_trend_dict.keys()):\n",
    "    \n",
    "    print(_location_type)\n",
    "    _box = spatial_box if (_location_type == 'spatial') else regional_box\n",
    "    location_box = []\n",
    "    \n",
    "    _allobs_trends = obs_trend_dict[_location_type]\n",
    "    _allobs_startyears = obs_startyear_dict[_location_type]\n",
    "    _allobs_avail = obs_availability_dict[_location_type]\n",
    "    _allmodel_trends = model_trend_dict[_location_type]\n",
    "    \n",
    "    for _obs_product in list(_allobs_trends.keys()):\n",
    "        print(_obs_product)\n",
    "        obs_box = []\n",
    "        \n",
    "        _obs_trends = _allobs_trends[_obs_product]\n",
    "        _obs_startyears = _allobs_startyears[_obs_product]\n",
    "        _obs_avail = _allobs_avail[_obs_product]\n",
    "        \n",
    "        if (_location_type == 'spatial'):\n",
    "            _stack_vars = [\"lat\", \"lon\"]\n",
    "            _spatial_str = \"z\"\n",
    "        else:\n",
    "            _stack_vars = None #[\"RegionIndex\"]\n",
    "            _spatial_str = \"RegionIndex\"\n",
    "        \n",
    "        # Mask observations based on individual realization availability.\n",
    "        availability_by_duration = reindex_time_by_startyear(\n",
    "            _obs_avail,\n",
    "            _obs_startyears,\n",
    "            stack_vars=_stack_vars,\n",
    "            spatial_str=_spatial_str,\n",
    "        ).rename({\"recordlength\": \"duration\"})\n",
    "        _obs_trends = _obs_trends.where(availability_by_duration == 1)        \n",
    "        \n",
    "        for _model_product in list(_allmodel_trends.keys()):\n",
    "            print(_model_product)\n",
    "            _model_trends = _allmodel_trends[_model_product]\n",
    "            \n",
    "            # Compute ToE of the median trend (more consistent with using the 50%ile trend for mean)\n",
    "            _mean_toe = compute_tte_moving_startyear(\n",
    "                obs_trends=_obs_trends.median(dim='realization'),\n",
    "                pic_trends=_model_trends.sel(percentile=97.5),\n",
    "                startyears=_obs_startyears,\n",
    "            )\n",
    "\n",
    "            # Compute ToE for each ensemble member and take the 95th percentile\n",
    "            _strict_toe = compute_tte_moving_startyear(\n",
    "                obs_trends=_obs_trends,\n",
    "                pic_trends=_model_trends.sel(percentile=97.5),\n",
    "                startyears=_obs_startyears,\n",
    "            )\n",
    "            _all_toe = _strict_toe.copy().assign_coords({'model':_model_product, 'obs':_obs_product},).expand_dims(['model', \"obs\"])\n",
    "            all_dict[_location_type + _obs_product + _model_product] = _all_toe\n",
    "\n",
    "            # Switch nans to infs in order to compute the strict ToE correctly. Then switch infs back to nans in order to mask correctly.\n",
    "            _strict_toe = _strict_toe.where(~np.isnan(_strict_toe),np.inf).quantile(q=0.95, dim='realization', method='nearest')\n",
    "            _strict_toe = _strict_toe.where(~np.isinf(_strict_toe),np.nan)\n",
    "            \n",
    "            # Compute the delay and conditional delay mask:\n",
    "            _delay_toe = _strict_toe - _mean_toe # Compute the delay\n",
    "            _delay_undef_region = np.bitwise_and(np.isnan(_strict_toe), ~np.isnan(_mean_toe)) # Mask for where tas is emerged in the mean but not the \"strict\" sense.\n",
    "            _delay_toe = xr.where(_delay_undef_region, 2020 - _mean_toe, _delay_toe) # Apply the conditional mask\n",
    "            \n",
    "            _toes = xr.concat([_mean_toe.assign_coords({'metric':'mean'},).expand_dims(['metric'],axis=[-1]),\n",
    "                               _strict_toe.assign_coords({'metric':'strict'},).expand_dims(['metric'],axis=[-1]),\n",
    "                               _delay_toe.assign_coords({'metric':'delay'},).expand_dims(['metric'],axis=[-1]),\n",
    "                               _delay_undef_region.assign_coords({'metric':'delay_mask'},).expand_dims(['metric'],axis=[-1]),\n",
    "                              ],\n",
    "                              dim='metric',\n",
    "                             )            \n",
    "                              \n",
    "            obs_box.append(_toes.assign_coords({'model':_model_product},).expand_dims(['model'],axis=[-1]))\n",
    "                        \n",
    "        location_box.append(xr.concat(obs_box,dim='model').assign_coords({'obs':_obs_product},).expand_dims(['obs'],axis=[-1]))\n",
    "    _box.append(xr.concat(location_box, dim='obs').compute())\n",
    "    \n",
    "regional_masked_da = regional_box[0]"
   ]
  },
  {
   "cell_type": "code",
   "execution_count": 22,
   "id": "3bbc66f0",
   "metadata": {},
   "outputs": [
    {
     "name": "stdout",
     "output_type": "stream",
     "text": [
      "regionalGISTEMP_5x5_70CESM1\n",
      "regionalGISTEMP_5x5_70MPI\n",
      "regionalGISTEMP_5x5_70CanESM2\n",
      "regionalGISTEMP_5x5_70ESM2M\n",
      "regionalGISTEMP_5x5_95CESM1\n",
      "regionalGISTEMP_5x5_95MPI\n",
      "regionalGISTEMP_5x5_95CanESM2\n",
      "regionalGISTEMP_5x5_95ESM2M\n"
     ]
    }
   ],
   "source": [
    "all_regional = []\n",
    "for _key in all_dict:\n",
    "    \n",
    "    print(_key)\n",
    "    if \"spatial\" in _key:\n",
    "        all_spatial.append(all_dict[_key][\"season\"])\n",
    "    if \"regional\" in _key:\n",
    "        _region = all_dict[_key]\n",
    "        _region.name = \"ToE\"\n",
    "        all_regional.append(_region)\n",
    "\n",
    "all_regional_da = xr.merge(all_regional).compute()      "
   ]
  },
  {
   "cell_type": "code",
   "execution_count": 24,
   "id": "944bea24",
   "metadata": {},
   "outputs": [],
   "source": [
    "toe_savedir = \"/glade/u/home/jonahshaw/w/trend_uncertainty/nathan/ToE_output\"\n",
    "\n",
    "regional_masked_da.to_netcdf(f\"{toe_savedir}/ToE_delay.IPCCRegions.GISTEMP_sensitivity.nc\")\n",
    "\n",
    "all_regional_da.to_netcdf(f\"{toe_savedir}/all_ToE.IPCCRegions.GISTEMP_sensitivity.nc\")"
   ]
  },
  {
   "cell_type": "code",
   "execution_count": 28,
   "id": "94e885bd",
   "metadata": {},
   "outputs": [
    {
     "data": {
      "text/plain": [
       "<matplotlib.legend.Legend at 0x14d8b66f6b40>"
      ]
     },
     "execution_count": 28,
     "metadata": {},
     "output_type": "execute_result"
    },
    {
     "data": {
      "image/png": "[encoded data removed]",
      "text/plain": [
       "<Figure size 600x400 with 1 Axes>"
      ]
     },
     "metadata": {},
     "output_type": "display_data"
    }
   ],
   "source": [
    "testlat = 37.5\n",
    "testlon = -157.5\n",
    "\n",
    "fig, ax = plt.subplots(1, 1, figsize=(6,4))\n",
    "\n",
    "ax.plot(\n",
    "    gistemp_5x5_spatial_trends_all.sel(lat=testlat, lon=testlon, realization=1).duration,\n",
    "    gistemp_5x5_spatial_trends_all.sel(lat=testlat, lon=testlon, realization=1),\n",
    "    label=\"GISTEMP\",\n",
    ")\n",
    "ax.plot(\n",
    "    hadcrut5_spatial_trends_all.sel(lat=testlat, lon=testlon, realization=1).duration,\n",
    "    hadcrut5_spatial_trends_all.sel(lat=testlat, lon=testlon, realization=1),\n",
    "    label=\"HadCRUT\",\n",
    ")\n",
    "ax.plot(\n",
    "    13 + dcent_unfilled_spatial_trends_all.sel(lat=testlat, lon=testlon, realization=1).duration,\n",
    "    dcent_unfilled_spatial_trends_all.sel(lat=testlat, lon=testlon, realization=1),\n",
    "    label=\"DCENT\",\n",
    ")\n",
    "\n",
    "ax.fill_between(\n",
    "    cesm1_pic_spatial_trends_all.sel(lat=testlat, lon=testlon).duration,\n",
    "    cesm1_pic_spatial_trends_all.sel(lat=testlat, lon=testlon, percentile=2.5),\n",
    "    cesm1_pic_spatial_trends_all.sel(lat=testlat, lon=testlon, percentile=97.5),\n",
    "    color=\"grey\",\n",
    "    label=\"PIC\",\n",
    "    alpha=0.5\n",
    ")\n",
    "\n",
    "ax.set_ylim(-0.1, 0.1)\n",
    "ax.set_title(\"North Pacific (lat 37.5, lon -157.5)\")\n",
    "\n",
    "plt.legend()"
   ]
  }
 ],
 "metadata": {
  "kernelspec": {
   "display_name": "py_xagg",
   "language": "python",
   "name": "python3"
  },
  "language_info": {
   "codemirror_mode": {
    "name": "ipython",
    "version": 3
   },
   "file_extension": ".py",
   "mimetype": "text/x-python",
   "name": "python",
   "nbconvert_exporter": "python",
   "pygments_lexer": "ipython3",
   "version": "3.12.5"
  }
 },
 "nbformat": 4,
 "nbformat_minor": 5
}
