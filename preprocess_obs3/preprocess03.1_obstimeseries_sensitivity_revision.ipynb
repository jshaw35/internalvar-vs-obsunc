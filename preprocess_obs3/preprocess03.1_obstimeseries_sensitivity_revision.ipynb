{
 "cells": [
  {
   "cell_type": "markdown",
   "id": "9d5702ab-4316-47a2-af40-56d7ce8ccb57",
   "metadata": {},
   "source": [
    "# Process gridded observation data into timeseries"
   ]
  },
  {
   "cell_type": "markdown",
   "id": "9467a1d3-5c6e-4ba9-83a1-91cbaa34bd84",
   "metadata": {},
   "source": [
    "## 2025/03/21\n",
    "\n",
    "The criterion for considering regions unobserved (>10% missing data) is reasonable, but the impact of this threshold on the results should be discussed.\n",
    "\n",
    "The data availability threshold influences our results by determining the “start year” in which observations are considered complete running into the future. This influences both the trend at any given year (since it may start earlier or later with a different availability threshold) and the envelope of internal variability (since a longer and earlier beginning trend has less internal variability). The estimate the impact of our threshold on the results, we have recalculated the start date with more (5%) and less (30%) stringent thresholds. The change in record start years is now included as a supplementary figure (Figure S??). Overall, we see that the influence of the availability threshold on the start year is small (<X years) in most regions.\n"
   ]
  },
  {
   "cell_type": "markdown",
   "id": "18476b97-1df5-45f3-a446-f25bcbe6a735",
   "metadata": {},
   "source": [
    "__1. Process the gridded temperature data into timeseries for each observational product.__\n",
    "\n",
    "Output is a dataArray for each model with dimensions of time and IPCC region containing a time series of the TAS variable.\n"
   ]
  },
  {
   "cell_type": "markdown",
   "id": "030ff2a2-aa9a-4f90-927d-3d5773e96f1d",
   "metadata": {},
   "source": [
    "Use this tool:  \n",
    "\n",
    "https://github.com/IPCC-WG1/Atlas/blob/main/notebooks/reference-regions_Python.ipynb"
   ]
  },
  {
   "cell_type": "markdown",
   "id": "bb8e0e42-e328-46dd-884a-4259b363feda",
   "metadata": {},
   "source": [
    "For now, I will create my code for the CESM1 and MPI models so that it can be generalized easily. I can pull some code from my climatetrend_uncertainty repository (climatetrend_uncertainty/initial_code/PIC_timeseries_preproc.ipynb)."
   ]
  },
  {
   "cell_type": "markdown",
   "id": "6ede891f-af88-4e6d-90de-32be78682d2b",
   "metadata": {},
   "source": [
    "## Code!"
   ]
  },
  {
   "cell_type": "code",
   "execution_count": 1,
   "id": "87b60071",
   "metadata": {},
   "outputs": [],
   "source": [
    "import numpy as np\n",
    "import xarray as xr\n",
    "import pandas as pd\n",
    "import matplotlib.pyplot as plt\n",
    "import os\n",
    "import glob\n",
    "import time\n",
    "\n",
    "import xagg as xa\n",
    "import geopandas as gpd\n",
    "import regionmask\n",
    "\n",
    "from dask_jobqueue import PBSCluster\n",
    "from dask.distributed import Client\n",
    "import dask\n",
    "\n",
    "regionmask.__version__\n",
    "\n",
    "%matplotlib inline"
   ]
  },
  {
   "cell_type": "markdown",
   "id": "ccce121c-ac6a-4cb6-a236-e46b713c300f",
   "metadata": {},
   "source": [
    "__Observational Large Ensembles.__\n",
    "\n",
    "General directory in Nathan's scratch: /glade/scratch/lenssen/data_for_jonah/\n",
    "\n",
    "NASA GISTEMP: GISTEMP_2x2  GISTEMP_5x5\n",
    "\n",
    "HadCRUT5: HadCRUT5"
   ]
  },
  {
   "cell_type": "code",
   "execution_count": 2,
   "id": "432e005a-3470-4a7d-bec7-b3d82dec016e",
   "metadata": {},
   "outputs": [],
   "source": [
    "gistemp_2x2_dir = '/glade/derecho/scratch/lenssen/data4jonah/GISTEMP_Ensemble_Aug/' # I don't want to use this\n",
    "gistemp_dir = \"/glade/derecho/scratch/lenssen/data4jonah/GISTEMP_Ensemble_Aug_5x5/\"\n",
    "hadcrut5_dir = '/glade/derecho/scratch/lenssen/data4jonah/HadCRUT5_Ensemble_Aug/'\n",
    "dcent_unfilled_dir = \"/glade/u/home/jonahshaw/w/trend_uncertainty/nathan/OBS_LENS/DCENT/rawdata/DCENT_ensemble/\""
   ]
  },
  {
   "cell_type": "markdown",
   "id": "45fbcc32-8503-4a17-bbbc-c4dfbafd422e",
   "metadata": {},
   "source": [
    "### Collect file paths."
   ]
  },
  {
   "cell_type": "markdown",
   "id": "fb07889d-8160-45ea-a153-a774b770bb21",
   "metadata": {},
   "source": [
    "#### Collect GISTEMP file paths."
   ]
  },
  {
   "cell_type": "code",
   "execution_count": 3,
   "id": "3babb705-2f59-40e2-8701-c1cc3827b91d",
   "metadata": {},
   "outputs": [],
   "source": [
    "gistemp_files = glob.glob('%s/ensembleChunk_5x5_????.nc' % gistemp_dir)\n",
    "gistemp_files.sort()"
   ]
  },
  {
   "cell_type": "markdown",
   "id": "54a3d34f-bca1-42e5-868e-cef00f85fc6a",
   "metadata": {},
   "source": [
    "#### Collect HadCRUT5 file paths."
   ]
  },
  {
   "cell_type": "code",
   "execution_count": 4,
   "id": "f0e9d6c4-4e77-4db8-b5a0-54589c5c984f",
   "metadata": {},
   "outputs": [],
   "source": [
    "hadcrut5_files = glob.glob('%s/HadCRUT.5.0.2.0.analysis.anomalies.*.nc' % hadcrut5_dir)\n",
    "hadcrut5_files.sort()"
   ]
  },
  {
   "cell_type": "markdown",
   "id": "896fc133",
   "metadata": {},
   "source": [
    "#### Collect DCENT (unfilled) file paths."
   ]
  },
  {
   "cell_type": "code",
   "execution_count": 5,
   "id": "0f4aeb10",
   "metadata": {},
   "outputs": [],
   "source": [
    "dcent_unfilled_files = glob.glob('%s/DCENT_ensemble_1850_2023_member_???.nc' % dcent_unfilled_dir)\n",
    "dcent_unfilled_files.sort()"
   ]
  },
  {
   "cell_type": "markdown",
   "id": "ece2b779",
   "metadata": {},
   "source": [
    "#### BEST file path:"
   ]
  },
  {
   "cell_type": "code",
   "execution_count": 6,
   "id": "cf260eb9",
   "metadata": {},
   "outputs": [],
   "source": [
    "best_files = \"/glade/u/home/jonahshaw/w/obs/BEST/Land_and_Ocean_LatLong1.nc\""
   ]
  },
  {
   "cell_type": "markdown",
   "id": "b92608d6-3949-45ee-89fd-19d6e76e05ca",
   "metadata": {},
   "source": [
    "### Load and process timeseries according to IPCC Region designations."
   ]
  },
  {
   "cell_type": "markdown",
   "id": "f1a26d54",
   "metadata": {},
   "source": [
    "Mask data based on availability."
   ]
  },
  {
   "cell_type": "markdown",
   "id": "8c542cba-5b9a-4dd6-bfac-3125cd91a746",
   "metadata": {},
   "source": [
    "### 2. Do masking for each dataset"
   ]
  },
  {
   "cell_type": "markdown",
   "id": "715917fd-71c2-414d-ab05-82b965bf8003",
   "metadata": {},
   "source": [
    "Variable is \"tempAnom\". \"record\" coordinate will allow for easier concatenation."
   ]
  },
  {
   "cell_type": "code",
   "execution_count": 7,
   "id": "2ab1b16f-56e9-49f8-a416-03702a6dc5fb",
   "metadata": {},
   "outputs": [],
   "source": [
    "gistemp_tas_var = 'tas'\n",
    "hadcrut5_tas_var = 'tas'\n",
    "dcent_unfiled_tas_var = \"temperature\"\n",
    "best_tas_var = \"temperature\""
   ]
  },
  {
   "cell_type": "markdown",
   "id": "65508295-9416-4b0a-8e66-9856954f215b",
   "metadata": {},
   "source": [
    "### Loop over observation files and compute the regional means."
   ]
  },
  {
   "cell_type": "markdown",
   "id": "3370d600",
   "metadata": {},
   "source": [
    "#### GISTEMP"
   ]
  },
  {
   "cell_type": "code",
   "execution_count": 8,
   "id": "38a2000c",
   "metadata": {},
   "outputs": [],
   "source": [
    "def create_ipccregion_timeseries_xagg(\n",
    "    ds_filepath:str,\n",
    "    ds_var:str,\n",
    "    model_str:str,\n",
    "    cesm=False,\n",
    "    read_wm=True,\n",
    "    write_wm=True,\n",
    "    new_times=None,\n",
    "):\n",
    "    \n",
    "    '''\n",
    "    Compute timeseries for all IPCC AR6 regions when given a simple model output file.\n",
    "    Now using xagg to appropriately weight gridcells that fall partly within a region!\n",
    "    '''\n",
    "    # Load data\n",
    "    ds = xr.open_dataset(ds_filepath)\n",
    "    \n",
    "    try:\n",
    "        ds = ds.rename({\"latitude\":\"lat\", \"longitude\":\"lon\"})\n",
    "    except:\n",
    "        pass\n",
    "    \n",
    "    # Correct time if CESM\n",
    "    if cesm:\n",
    "        ds  = fix_cesm_time(ds)\n",
    "    \n",
    "    if new_times is not None:\n",
    "        ds[\"time\"] = new_times\n",
    "\n",
    "    da = ds[ds_var]\n",
    "\n",
    "    xagg_dir = \"/glade/u/home/jonahshaw/w/trend_uncertainty/nathan/xagg_resources\"\n",
    "    xa.set_options(rgrd_alg='bilinear',nan_to_zero_regridding=False)\n",
    "\n",
    "    if (read_wm and os.path.exists(os.path.join(xagg_dir, f'wm_{model_str}'))):\n",
    "        # Load weightmap\n",
    "        weightmap = xa.read_wm(os.path.join(xagg_dir, f'wm_{model_str}'))\n",
    "    else:\n",
    "        # Load IPCC region shp file:\n",
    "        ipcc_wgi_regions_shp = \"IPCC-WGI-reference-regions-v4.shp\"\n",
    "        gdf = gpd.read_file(os.path.join(xagg_dir, ipcc_wgi_regions_shp))\n",
    "                \n",
    "        # Compute weights for entire grid. Assuming lat, lon, time dimension on input\n",
    "        area_weights = np.cos(np.deg2rad(da.lat)).broadcast_like(da.isel(time=0).squeeze())\n",
    "        \n",
    "        weightmap = xa.pixel_overlaps(da, gdf, weights=area_weights)\n",
    "        # Save the weightmap for later:\n",
    "        if write_wm:\n",
    "            weightmap.to_file(os.path.join(xagg_dir, f'wm_{model_str}'))\n",
    "\n",
    "    # Aggregate\n",
    "    with xa.set_options(silent=True):\n",
    "        aggregated = xa.aggregate(da, weightmap)\n",
    "    # aggregated = xa.aggregate(da, weightmap)\n",
    "    \n",
    "    # Convert to an xarray dataset\n",
    "    aggregated_ds = aggregated.to_dataset()\n",
    "    # Change xarray formatting to match previous file organization.\n",
    "    aggregated_ds = aggregated_ds.set_coords((\"Continent\", \"Type\", \"Name\", \"Acronym\")).rename({\"poly_idx\": \"RegionIndex\", \"Name\": \"RegionName\", \"Acronym\": \"RegionAbbrev\"})\n",
    "        \n",
    "    return aggregated_ds"
   ]
  },
  {
   "cell_type": "code",
   "execution_count": 9,
   "id": "170a95e7",
   "metadata": {},
   "outputs": [],
   "source": [
    "def mask_IPCC_byavailability(\n",
    "    filepath: str,\n",
    "    var: str,\n",
    "    regions: regionmask.Regions,\n",
    "    masking_threshold: float=0.9,\n",
    "    ufunc=None,\n",
    "    new_times=None,\n",
    "    verbose=False,\n",
    "):\n",
    "    \"\"\"\n",
    "    Function for masking observational record according to data availability.\n",
    "    True on the output means that region exceeds the threshold.\n",
    "\n",
    "    Args:\n",
    "        filepath (str): Path to file to load\n",
    "        var (str): String identifier of variable to mask by availabiliy\n",
    "        masking_threshold (float, optional): Fraction of region needed to avoid masking. Defaults to 0.9.\n",
    "        ufunc (function, optional): Function to apply to the loaded DataArray. Defaults to None.\n",
    "\n",
    "    Returns:\n",
    "        region_masks (xr.DataArray): Boolean mask for each IPCC region\n",
    "    \"\"\"\n",
    "\n",
    "    ds = xr.open_dataset(filepath)\n",
    "\n",
    "    # Added for BEST, hope it works for others.\n",
    "    try:\n",
    "        ds = ds.rename({\"latitude\":\"lat\", \"longitude\":\"lon\"})\n",
    "    except:\n",
    "        pass\n",
    "\n",
    "    da = ds[var]\n",
    "    if ufunc is not None:\n",
    "        da = ufunc(da)\n",
    "\n",
    "    if new_times is not None:\n",
    "        da[\"time\"] = new_times\n",
    "\n",
    "    mask    = regions.mask(da.isel(time=0))\n",
    "\n",
    "    # Get unique region indices\n",
    "    reg     = np.unique(mask.values)\n",
    "    reg     = reg[~np.isnan(reg)]\n",
    "\n",
    "    # for metadata: find abbreviations of all regions that were selected\n",
    "    abbrevs = regions[reg].abbrevs\n",
    "    names   = regions[reg].names\n",
    "\n",
    "    # Compute weights for entire grid\n",
    "    weights_spatial = np.cos(np.deg2rad(da.lat)).broadcast_like(da.isel(time=0)) # assuming 'lat' used consistently\n",
    "    weights_spatiotemporal = np.cos(np.deg2rad(da.lat)).broadcast_like(da) # assuming 'lat' used consistently\n",
    "\n",
    "    # Iterate over regions and compute a weighted time series\n",
    "    region_masks_list = []\n",
    "    for i,_abbrev,_name in zip(reg, abbrevs, names):\n",
    "        if verbose:\n",
    "            print(f\"Region {i} of {len(reg)}\")\n",
    "        _region_weight = weights_spatial.where(mask == i).sum(dim=[\"lat\", \"lon\"]) # Total weight of the region\n",
    "        _available_region_weights = weights_spatiotemporal.where((mask == i) & (~np.isnan(da))).sum(dim=[\"lat\", \"lon\"]) # Weight of the unmasked portion of the region\n",
    "        \n",
    "        _region_mask = (_available_region_weights / _region_weight) > masking_threshold\n",
    "        _region_mask = _region_mask.assign_coords(RegionIndex=i).expand_dims(\"RegionIndex\")\n",
    "        _region_mask = _region_mask.assign_coords(RegionName=_name)\n",
    "        _region_mask = _region_mask.assign_coords(RegionAbbrev=_abbrev)\n",
    "        \n",
    "        region_masks_list.append(_region_mask)\n",
    "    region_masks = xr.concat(region_masks_list, dim=\"RegionIndex\")\n",
    "    region_masks.name = \"mask\"\n",
    "    \n",
    "    return region_masks\n",
    "\n",
    "\n",
    "def gistemp_5x5_preproc(ds):\n",
    "    \n",
    "    try:\n",
    "        ds = ds.rename({\"latitude\":\"lat\", \"longitude\":\"lon\"})\n",
    "    except:\n",
    "        pass\n",
    "    \n",
    "    return ds\n",
    "    # return ds.rename({\"latitude\":\"lat\", \"longitude\":\"lon\"})"
   ]
  },
  {
   "cell_type": "code",
   "execution_count": 10,
   "id": "315a888c",
   "metadata": {},
   "outputs": [],
   "source": [
    "def aggregateandmask_wrapper(\n",
    "    ds_filepath:str,\n",
    "    save_filepath:str,\n",
    "    ds_var:str,\n",
    "    model_str:str,\n",
    "    realization:int,\n",
    "    regions: regionmask.Regions=regionmask.defined_regions.ar6.all,\n",
    "    masking_threshold: float=0.9,\n",
    "    ufunc=None,\n",
    "    new_times=None,\n",
    "    verbose=False,\n",
    "):\n",
    "    aggregated_ds = create_ipccregion_timeseries_xagg(\n",
    "        ds_filepath=ds_filepath,\n",
    "        ds_var=ds_var,\n",
    "        model_str=model_str,\n",
    "        new_times=new_times,\n",
    "    )\n",
    "\n",
    "    region_masks = mask_IPCC_byavailability(\n",
    "        filepath=ds_filepath,\n",
    "        var=ds_var,\n",
    "        regions=regions,\n",
    "        masking_threshold=masking_threshold,\n",
    "        ufunc=ufunc,\n",
    "        new_times=new_times,\n",
    "        verbose=verbose,\n",
    "    )\n",
    "\n",
    "    ipcc_regions_maskedavail = aggregated_ds.where(region_masks)\n",
    "    \n",
    "    # Add \"realization\" coordinate so concatenation is easier.\n",
    "    ipcc_regions_maskedavail = ipcc_regions_maskedavail.assign_coords(realization=realization).expand_dims(\"realization\")\n",
    "    ipcc_regions_maskedavail.to_netcdf(path=save_filepath)\n"
   ]
  },
  {
   "cell_type": "code",
   "execution_count": 11,
   "id": "427058fd-59d9-47c1-a796-6352baa885f0",
   "metadata": {},
   "outputs": [],
   "source": [
    "save_dir = '/glade/u/home/jonahshaw/w/trend_uncertainty/nathan/OBS_LENS/'"
   ]
  },
  {
   "cell_type": "markdown",
   "id": "c1b0171c-ce6d-4956-8e68-ebc85813c3a7",
   "metadata": {
    "tags": []
   },
   "source": [
    "#### GISTEMP"
   ]
  },
  {
   "cell_type": "markdown",
   "id": "ff255b3f",
   "metadata": {},
   "source": [
    "Use 5% (95% availability) threshold."
   ]
  },
  {
   "cell_type": "code",
   "execution_count": 12,
   "id": "ad670624",
   "metadata": {},
   "outputs": [
    {
     "name": "stdout",
     "output_type": "stream",
     "text": [
      "Skipping /glade/u/home/jonahshaw/w/trend_uncertainty/nathan/OBS_LENS//GISTEMP_5x5/20240820/xagg_correctedtime/threshold_0.95/ensembleChunk_5x5_0001.nc\n",
      "Skipping /glade/u/home/jonahshaw/w/trend_uncertainty/nathan/OBS_LENS//GISTEMP_5x5/20240820/xagg_correctedtime/threshold_0.95/ensembleChunk_5x5_0002.nc\n",
      "Skipping /glade/u/home/jonahshaw/w/trend_uncertainty/nathan/OBS_LENS//GISTEMP_5x5/20240820/xagg_correctedtime/threshold_0.95/ensembleChunk_5x5_0003.nc\n",
      "Skipping /glade/u/home/jonahshaw/w/trend_uncertainty/nathan/OBS_LENS//GISTEMP_5x5/20240820/xagg_correctedtime/threshold_0.95/ensembleChunk_5x5_0004.nc\n",
      "Skipping /glade/u/home/jonahshaw/w/trend_uncertainty/nathan/OBS_LENS//GISTEMP_5x5/20240820/xagg_correctedtime/threshold_0.95/ensembleChunk_5x5_0005.nc\n",
      "Skipping /glade/u/home/jonahshaw/w/trend_uncertainty/nathan/OBS_LENS//GISTEMP_5x5/20240820/xagg_correctedtime/threshold_0.95/ensembleChunk_5x5_0006.nc\n",
      "Skipping /glade/u/home/jonahshaw/w/trend_uncertainty/nathan/OBS_LENS//GISTEMP_5x5/20240820/xagg_correctedtime/threshold_0.95/ensembleChunk_5x5_0007.nc\n",
      "Skipping /glade/u/home/jonahshaw/w/trend_uncertainty/nathan/OBS_LENS//GISTEMP_5x5/20240820/xagg_correctedtime/threshold_0.95/ensembleChunk_5x5_0008.nc\n",
      "Skipping /glade/u/home/jonahshaw/w/trend_uncertainty/nathan/OBS_LENS//GISTEMP_5x5/20240820/xagg_correctedtime/threshold_0.95/ensembleChunk_5x5_0009.nc\n",
      "Skipping /glade/u/home/jonahshaw/w/trend_uncertainty/nathan/OBS_LENS//GISTEMP_5x5/20240820/xagg_correctedtime/threshold_0.95/ensembleChunk_5x5_0010.nc\n",
      "Skipping /glade/u/home/jonahshaw/w/trend_uncertainty/nathan/OBS_LENS//GISTEMP_5x5/20240820/xagg_correctedtime/threshold_0.95/ensembleChunk_5x5_0011.nc\n",
      "Skipping /glade/u/home/jonahshaw/w/trend_uncertainty/nathan/OBS_LENS//GISTEMP_5x5/20240820/xagg_correctedtime/threshold_0.95/ensembleChunk_5x5_0012.nc\n",
      "Skipping /glade/u/home/jonahshaw/w/trend_uncertainty/nathan/OBS_LENS//GISTEMP_5x5/20240820/xagg_correctedtime/threshold_0.95/ensembleChunk_5x5_0013.nc\n",
      "Skipping /glade/u/home/jonahshaw/w/trend_uncertainty/nathan/OBS_LENS//GISTEMP_5x5/20240820/xagg_correctedtime/threshold_0.95/ensembleChunk_5x5_0014.nc\n",
      "Skipping /glade/u/home/jonahshaw/w/trend_uncertainty/nathan/OBS_LENS//GISTEMP_5x5/20240820/xagg_correctedtime/threshold_0.95/ensembleChunk_5x5_0015.nc\n",
      "Skipping /glade/u/home/jonahshaw/w/trend_uncertainty/nathan/OBS_LENS//GISTEMP_5x5/20240820/xagg_correctedtime/threshold_0.95/ensembleChunk_5x5_0016.nc\n",
      "Skipping /glade/u/home/jonahshaw/w/trend_uncertainty/nathan/OBS_LENS//GISTEMP_5x5/20240820/xagg_correctedtime/threshold_0.95/ensembleChunk_5x5_0017.nc\n",
      "Skipping /glade/u/home/jonahshaw/w/trend_uncertainty/nathan/OBS_LENS//GISTEMP_5x5/20240820/xagg_correctedtime/threshold_0.95/ensembleChunk_5x5_0018.nc\n",
      "Skipping /glade/u/home/jonahshaw/w/trend_uncertainty/nathan/OBS_LENS//GISTEMP_5x5/20240820/xagg_correctedtime/threshold_0.95/ensembleChunk_5x5_0019.nc\n",
      "Skipping /glade/u/home/jonahshaw/w/trend_uncertainty/nathan/OBS_LENS//GISTEMP_5x5/20240820/xagg_correctedtime/threshold_0.95/ensembleChunk_5x5_0020.nc\n",
      "Skipping /glade/u/home/jonahshaw/w/trend_uncertainty/nathan/OBS_LENS//GISTEMP_5x5/20240820/xagg_correctedtime/threshold_0.95/ensembleChunk_5x5_0021.nc\n",
      "Skipping /glade/u/home/jonahshaw/w/trend_uncertainty/nathan/OBS_LENS//GISTEMP_5x5/20240820/xagg_correctedtime/threshold_0.95/ensembleChunk_5x5_0022.nc\n",
      "Skipping /glade/u/home/jonahshaw/w/trend_uncertainty/nathan/OBS_LENS//GISTEMP_5x5/20240820/xagg_correctedtime/threshold_0.95/ensembleChunk_5x5_0023.nc\n",
      "Skipping /glade/u/home/jonahshaw/w/trend_uncertainty/nathan/OBS_LENS//GISTEMP_5x5/20240820/xagg_correctedtime/threshold_0.95/ensembleChunk_5x5_0024.nc\n",
      "Skipping /glade/u/home/jonahshaw/w/trend_uncertainty/nathan/OBS_LENS//GISTEMP_5x5/20240820/xagg_correctedtime/threshold_0.95/ensembleChunk_5x5_0025.nc\n",
      "Skipping /glade/u/home/jonahshaw/w/trend_uncertainty/nathan/OBS_LENS//GISTEMP_5x5/20240820/xagg_correctedtime/threshold_0.95/ensembleChunk_5x5_0026.nc\n",
      "Skipping /glade/u/home/jonahshaw/w/trend_uncertainty/nathan/OBS_LENS//GISTEMP_5x5/20240820/xagg_correctedtime/threshold_0.95/ensembleChunk_5x5_0027.nc\n",
      "Skipping /glade/u/home/jonahshaw/w/trend_uncertainty/nathan/OBS_LENS//GISTEMP_5x5/20240820/xagg_correctedtime/threshold_0.95/ensembleChunk_5x5_0028.nc\n",
      "Skipping /glade/u/home/jonahshaw/w/trend_uncertainty/nathan/OBS_LENS//GISTEMP_5x5/20240820/xagg_correctedtime/threshold_0.95/ensembleChunk_5x5_0029.nc\n",
      "Skipping /glade/u/home/jonahshaw/w/trend_uncertainty/nathan/OBS_LENS//GISTEMP_5x5/20240820/xagg_correctedtime/threshold_0.95/ensembleChunk_5x5_0030.nc\n",
      "Skipping /glade/u/home/jonahshaw/w/trend_uncertainty/nathan/OBS_LENS//GISTEMP_5x5/20240820/xagg_correctedtime/threshold_0.95/ensembleChunk_5x5_0031.nc\n",
      "Skipping /glade/u/home/jonahshaw/w/trend_uncertainty/nathan/OBS_LENS//GISTEMP_5x5/20240820/xagg_correctedtime/threshold_0.95/ensembleChunk_5x5_0032.nc\n",
      "Skipping /glade/u/home/jonahshaw/w/trend_uncertainty/nathan/OBS_LENS//GISTEMP_5x5/20240820/xagg_correctedtime/threshold_0.95/ensembleChunk_5x5_0033.nc\n",
      "Skipping /glade/u/home/jonahshaw/w/trend_uncertainty/nathan/OBS_LENS//GISTEMP_5x5/20240820/xagg_correctedtime/threshold_0.95/ensembleChunk_5x5_0034.nc\n",
      "Skipping /glade/u/home/jonahshaw/w/trend_uncertainty/nathan/OBS_LENS//GISTEMP_5x5/20240820/xagg_correctedtime/threshold_0.95/ensembleChunk_5x5_0035.nc\n",
      "Skipping /glade/u/home/jonahshaw/w/trend_uncertainty/nathan/OBS_LENS//GISTEMP_5x5/20240820/xagg_correctedtime/threshold_0.95/ensembleChunk_5x5_0036.nc\n",
      "Skipping /glade/u/home/jonahshaw/w/trend_uncertainty/nathan/OBS_LENS//GISTEMP_5x5/20240820/xagg_correctedtime/threshold_0.95/ensembleChunk_5x5_0037.nc\n",
      "Skipping /glade/u/home/jonahshaw/w/trend_uncertainty/nathan/OBS_LENS//GISTEMP_5x5/20240820/xagg_correctedtime/threshold_0.95/ensembleChunk_5x5_0038.nc\n",
      "Skipping /glade/u/home/jonahshaw/w/trend_uncertainty/nathan/OBS_LENS//GISTEMP_5x5/20240820/xagg_correctedtime/threshold_0.95/ensembleChunk_5x5_0039.nc\n",
      "Skipping /glade/u/home/jonahshaw/w/trend_uncertainty/nathan/OBS_LENS//GISTEMP_5x5/20240820/xagg_correctedtime/threshold_0.95/ensembleChunk_5x5_0040.nc\n",
      "Skipping /glade/u/home/jonahshaw/w/trend_uncertainty/nathan/OBS_LENS//GISTEMP_5x5/20240820/xagg_correctedtime/threshold_0.95/ensembleChunk_5x5_0041.nc\n",
      "Skipping /glade/u/home/jonahshaw/w/trend_uncertainty/nathan/OBS_LENS//GISTEMP_5x5/20240820/xagg_correctedtime/threshold_0.95/ensembleChunk_5x5_0042.nc\n",
      "Skipping /glade/u/home/jonahshaw/w/trend_uncertainty/nathan/OBS_LENS//GISTEMP_5x5/20240820/xagg_correctedtime/threshold_0.95/ensembleChunk_5x5_0043.nc\n",
      "Skipping /glade/u/home/jonahshaw/w/trend_uncertainty/nathan/OBS_LENS//GISTEMP_5x5/20240820/xagg_correctedtime/threshold_0.95/ensembleChunk_5x5_0044.nc\n",
      "Skipping /glade/u/home/jonahshaw/w/trend_uncertainty/nathan/OBS_LENS//GISTEMP_5x5/20240820/xagg_correctedtime/threshold_0.95/ensembleChunk_5x5_0045.nc\n",
      "Skipping /glade/u/home/jonahshaw/w/trend_uncertainty/nathan/OBS_LENS//GISTEMP_5x5/20240820/xagg_correctedtime/threshold_0.95/ensembleChunk_5x5_0046.nc\n",
      "Skipping /glade/u/home/jonahshaw/w/trend_uncertainty/nathan/OBS_LENS//GISTEMP_5x5/20240820/xagg_correctedtime/threshold_0.95/ensembleChunk_5x5_0047.nc\n",
      "Skipping /glade/u/home/jonahshaw/w/trend_uncertainty/nathan/OBS_LENS//GISTEMP_5x5/20240820/xagg_correctedtime/threshold_0.95/ensembleChunk_5x5_0048.nc\n",
      "Skipping /glade/u/home/jonahshaw/w/trend_uncertainty/nathan/OBS_LENS//GISTEMP_5x5/20240820/xagg_correctedtime/threshold_0.95/ensembleChunk_5x5_0049.nc\n",
      "Skipping /glade/u/home/jonahshaw/w/trend_uncertainty/nathan/OBS_LENS//GISTEMP_5x5/20240820/xagg_correctedtime/threshold_0.95/ensembleChunk_5x5_0050.nc\n",
      "Skipping /glade/u/home/jonahshaw/w/trend_uncertainty/nathan/OBS_LENS//GISTEMP_5x5/20240820/xagg_correctedtime/threshold_0.95/ensembleChunk_5x5_0051.nc\n",
      "Skipping /glade/u/home/jonahshaw/w/trend_uncertainty/nathan/OBS_LENS//GISTEMP_5x5/20240820/xagg_correctedtime/threshold_0.95/ensembleChunk_5x5_0052.nc\n",
      "Skipping /glade/u/home/jonahshaw/w/trend_uncertainty/nathan/OBS_LENS//GISTEMP_5x5/20240820/xagg_correctedtime/threshold_0.95/ensembleChunk_5x5_0053.nc\n",
      "Skipping /glade/u/home/jonahshaw/w/trend_uncertainty/nathan/OBS_LENS//GISTEMP_5x5/20240820/xagg_correctedtime/threshold_0.95/ensembleChunk_5x5_0054.nc\n",
      "Skipping /glade/u/home/jonahshaw/w/trend_uncertainty/nathan/OBS_LENS//GISTEMP_5x5/20240820/xagg_correctedtime/threshold_0.95/ensembleChunk_5x5_0055.nc\n",
      "Skipping /glade/u/home/jonahshaw/w/trend_uncertainty/nathan/OBS_LENS//GISTEMP_5x5/20240820/xagg_correctedtime/threshold_0.95/ensembleChunk_5x5_0056.nc\n",
      "Skipping /glade/u/home/jonahshaw/w/trend_uncertainty/nathan/OBS_LENS//GISTEMP_5x5/20240820/xagg_correctedtime/threshold_0.95/ensembleChunk_5x5_0057.nc\n",
      "Skipping /glade/u/home/jonahshaw/w/trend_uncertainty/nathan/OBS_LENS//GISTEMP_5x5/20240820/xagg_correctedtime/threshold_0.95/ensembleChunk_5x5_0058.nc\n",
      "Skipping /glade/u/home/jonahshaw/w/trend_uncertainty/nathan/OBS_LENS//GISTEMP_5x5/20240820/xagg_correctedtime/threshold_0.95/ensembleChunk_5x5_0059.nc\n",
      "Skipping /glade/u/home/jonahshaw/w/trend_uncertainty/nathan/OBS_LENS//GISTEMP_5x5/20240820/xagg_correctedtime/threshold_0.95/ensembleChunk_5x5_0060.nc\n",
      "Skipping /glade/u/home/jonahshaw/w/trend_uncertainty/nathan/OBS_LENS//GISTEMP_5x5/20240820/xagg_correctedtime/threshold_0.95/ensembleChunk_5x5_0061.nc\n",
      "Skipping /glade/u/home/jonahshaw/w/trend_uncertainty/nathan/OBS_LENS//GISTEMP_5x5/20240820/xagg_correctedtime/threshold_0.95/ensembleChunk_5x5_0062.nc\n",
      "Skipping /glade/u/home/jonahshaw/w/trend_uncertainty/nathan/OBS_LENS//GISTEMP_5x5/20240820/xagg_correctedtime/threshold_0.95/ensembleChunk_5x5_0063.nc\n",
      "Skipping /glade/u/home/jonahshaw/w/trend_uncertainty/nathan/OBS_LENS//GISTEMP_5x5/20240820/xagg_correctedtime/threshold_0.95/ensembleChunk_5x5_0064.nc\n",
      "Skipping /glade/u/home/jonahshaw/w/trend_uncertainty/nathan/OBS_LENS//GISTEMP_5x5/20240820/xagg_correctedtime/threshold_0.95/ensembleChunk_5x5_0065.nc\n",
      "Skipping /glade/u/home/jonahshaw/w/trend_uncertainty/nathan/OBS_LENS//GISTEMP_5x5/20240820/xagg_correctedtime/threshold_0.95/ensembleChunk_5x5_0066.nc\n",
      "Skipping /glade/u/home/jonahshaw/w/trend_uncertainty/nathan/OBS_LENS//GISTEMP_5x5/20240820/xagg_correctedtime/threshold_0.95/ensembleChunk_5x5_0067.nc\n",
      "Skipping /glade/u/home/jonahshaw/w/trend_uncertainty/nathan/OBS_LENS//GISTEMP_5x5/20240820/xagg_correctedtime/threshold_0.95/ensembleChunk_5x5_0068.nc\n",
      "Skipping /glade/u/home/jonahshaw/w/trend_uncertainty/nathan/OBS_LENS//GISTEMP_5x5/20240820/xagg_correctedtime/threshold_0.95/ensembleChunk_5x5_0069.nc\n",
      "Skipping /glade/u/home/jonahshaw/w/trend_uncertainty/nathan/OBS_LENS//GISTEMP_5x5/20240820/xagg_correctedtime/threshold_0.95/ensembleChunk_5x5_0070.nc\n",
      "Skipping /glade/u/home/jonahshaw/w/trend_uncertainty/nathan/OBS_LENS//GISTEMP_5x5/20240820/xagg_correctedtime/threshold_0.95/ensembleChunk_5x5_0071.nc\n",
      "Skipping /glade/u/home/jonahshaw/w/trend_uncertainty/nathan/OBS_LENS//GISTEMP_5x5/20240820/xagg_correctedtime/threshold_0.95/ensembleChunk_5x5_0072.nc\n",
      "Skipping /glade/u/home/jonahshaw/w/trend_uncertainty/nathan/OBS_LENS//GISTEMP_5x5/20240820/xagg_correctedtime/threshold_0.95/ensembleChunk_5x5_0073.nc\n",
      "Skipping /glade/u/home/jonahshaw/w/trend_uncertainty/nathan/OBS_LENS//GISTEMP_5x5/20240820/xagg_correctedtime/threshold_0.95/ensembleChunk_5x5_0074.nc\n",
      "Skipping /glade/u/home/jonahshaw/w/trend_uncertainty/nathan/OBS_LENS//GISTEMP_5x5/20240820/xagg_correctedtime/threshold_0.95/ensembleChunk_5x5_0075.nc\n",
      "Skipping /glade/u/home/jonahshaw/w/trend_uncertainty/nathan/OBS_LENS//GISTEMP_5x5/20240820/xagg_correctedtime/threshold_0.95/ensembleChunk_5x5_0076.nc\n",
      "Skipping /glade/u/home/jonahshaw/w/trend_uncertainty/nathan/OBS_LENS//GISTEMP_5x5/20240820/xagg_correctedtime/threshold_0.95/ensembleChunk_5x5_0077.nc\n",
      "Skipping /glade/u/home/jonahshaw/w/trend_uncertainty/nathan/OBS_LENS//GISTEMP_5x5/20240820/xagg_correctedtime/threshold_0.95/ensembleChunk_5x5_0078.nc\n",
      "Skipping /glade/u/home/jonahshaw/w/trend_uncertainty/nathan/OBS_LENS//GISTEMP_5x5/20240820/xagg_correctedtime/threshold_0.95/ensembleChunk_5x5_0079.nc\n",
      "Skipping /glade/u/home/jonahshaw/w/trend_uncertainty/nathan/OBS_LENS//GISTEMP_5x5/20240820/xagg_correctedtime/threshold_0.95/ensembleChunk_5x5_0080.nc\n",
      "Skipping /glade/u/home/jonahshaw/w/trend_uncertainty/nathan/OBS_LENS//GISTEMP_5x5/20240820/xagg_correctedtime/threshold_0.95/ensembleChunk_5x5_0081.nc\n",
      "Skipping /glade/u/home/jonahshaw/w/trend_uncertainty/nathan/OBS_LENS//GISTEMP_5x5/20240820/xagg_correctedtime/threshold_0.95/ensembleChunk_5x5_0082.nc\n",
      "Skipping /glade/u/home/jonahshaw/w/trend_uncertainty/nathan/OBS_LENS//GISTEMP_5x5/20240820/xagg_correctedtime/threshold_0.95/ensembleChunk_5x5_0083.nc\n",
      "Skipping /glade/u/home/jonahshaw/w/trend_uncertainty/nathan/OBS_LENS//GISTEMP_5x5/20240820/xagg_correctedtime/threshold_0.95/ensembleChunk_5x5_0084.nc\n",
      "Skipping /glade/u/home/jonahshaw/w/trend_uncertainty/nathan/OBS_LENS//GISTEMP_5x5/20240820/xagg_correctedtime/threshold_0.95/ensembleChunk_5x5_0085.nc\n",
      "Skipping /glade/u/home/jonahshaw/w/trend_uncertainty/nathan/OBS_LENS//GISTEMP_5x5/20240820/xagg_correctedtime/threshold_0.95/ensembleChunk_5x5_0086.nc\n",
      "Skipping /glade/u/home/jonahshaw/w/trend_uncertainty/nathan/OBS_LENS//GISTEMP_5x5/20240820/xagg_correctedtime/threshold_0.95/ensembleChunk_5x5_0087.nc\n",
      "Skipping /glade/u/home/jonahshaw/w/trend_uncertainty/nathan/OBS_LENS//GISTEMP_5x5/20240820/xagg_correctedtime/threshold_0.95/ensembleChunk_5x5_0088.nc\n",
      "Skipping /glade/u/home/jonahshaw/w/trend_uncertainty/nathan/OBS_LENS//GISTEMP_5x5/20240820/xagg_correctedtime/threshold_0.95/ensembleChunk_5x5_0089.nc\n",
      "Skipping /glade/u/home/jonahshaw/w/trend_uncertainty/nathan/OBS_LENS//GISTEMP_5x5/20240820/xagg_correctedtime/threshold_0.95/ensembleChunk_5x5_0090.nc\n",
      "Skipping /glade/u/home/jonahshaw/w/trend_uncertainty/nathan/OBS_LENS//GISTEMP_5x5/20240820/xagg_correctedtime/threshold_0.95/ensembleChunk_5x5_0091.nc\n",
      "Skipping /glade/u/home/jonahshaw/w/trend_uncertainty/nathan/OBS_LENS//GISTEMP_5x5/20240820/xagg_correctedtime/threshold_0.95/ensembleChunk_5x5_0092.nc\n",
      "Skipping /glade/u/home/jonahshaw/w/trend_uncertainty/nathan/OBS_LENS//GISTEMP_5x5/20240820/xagg_correctedtime/threshold_0.95/ensembleChunk_5x5_0093.nc\n",
      "Skipping /glade/u/home/jonahshaw/w/trend_uncertainty/nathan/OBS_LENS//GISTEMP_5x5/20240820/xagg_correctedtime/threshold_0.95/ensembleChunk_5x5_0094.nc\n",
      "Skipping /glade/u/home/jonahshaw/w/trend_uncertainty/nathan/OBS_LENS//GISTEMP_5x5/20240820/xagg_correctedtime/threshold_0.95/ensembleChunk_5x5_0095.nc\n",
      "Skipping /glade/u/home/jonahshaw/w/trend_uncertainty/nathan/OBS_LENS//GISTEMP_5x5/20240820/xagg_correctedtime/threshold_0.95/ensembleChunk_5x5_0096.nc\n",
      "Skipping /glade/u/home/jonahshaw/w/trend_uncertainty/nathan/OBS_LENS//GISTEMP_5x5/20240820/xagg_correctedtime/threshold_0.95/ensembleChunk_5x5_0097.nc\n",
      "Skipping /glade/u/home/jonahshaw/w/trend_uncertainty/nathan/OBS_LENS//GISTEMP_5x5/20240820/xagg_correctedtime/threshold_0.95/ensembleChunk_5x5_0098.nc\n",
      "Skipping /glade/u/home/jonahshaw/w/trend_uncertainty/nathan/OBS_LENS//GISTEMP_5x5/20240820/xagg_correctedtime/threshold_0.95/ensembleChunk_5x5_0099.nc\n",
      "Skipping /glade/u/home/jonahshaw/w/trend_uncertainty/nathan/OBS_LENS//GISTEMP_5x5/20240820/xagg_correctedtime/threshold_0.95/ensembleChunk_5x5_0100.nc\n",
      "Skipping /glade/u/home/jonahshaw/w/trend_uncertainty/nathan/OBS_LENS//GISTEMP_5x5/20240820/xagg_correctedtime/threshold_0.95/ensembleChunk_5x5_0101.nc\n",
      "Skipping /glade/u/home/jonahshaw/w/trend_uncertainty/nathan/OBS_LENS//GISTEMP_5x5/20240820/xagg_correctedtime/threshold_0.95/ensembleChunk_5x5_0102.nc\n",
      "Skipping /glade/u/home/jonahshaw/w/trend_uncertainty/nathan/OBS_LENS//GISTEMP_5x5/20240820/xagg_correctedtime/threshold_0.95/ensembleChunk_5x5_0103.nc\n",
      "Skipping /glade/u/home/jonahshaw/w/trend_uncertainty/nathan/OBS_LENS//GISTEMP_5x5/20240820/xagg_correctedtime/threshold_0.95/ensembleChunk_5x5_0104.nc\n",
      "Skipping /glade/u/home/jonahshaw/w/trend_uncertainty/nathan/OBS_LENS//GISTEMP_5x5/20240820/xagg_correctedtime/threshold_0.95/ensembleChunk_5x5_0105.nc\n",
      "Skipping /glade/u/home/jonahshaw/w/trend_uncertainty/nathan/OBS_LENS//GISTEMP_5x5/20240820/xagg_correctedtime/threshold_0.95/ensembleChunk_5x5_0106.nc\n",
      "Skipping /glade/u/home/jonahshaw/w/trend_uncertainty/nathan/OBS_LENS//GISTEMP_5x5/20240820/xagg_correctedtime/threshold_0.95/ensembleChunk_5x5_0107.nc\n",
      "Skipping /glade/u/home/jonahshaw/w/trend_uncertainty/nathan/OBS_LENS//GISTEMP_5x5/20240820/xagg_correctedtime/threshold_0.95/ensembleChunk_5x5_0108.nc\n",
      "Skipping /glade/u/home/jonahshaw/w/trend_uncertainty/nathan/OBS_LENS//GISTEMP_5x5/20240820/xagg_correctedtime/threshold_0.95/ensembleChunk_5x5_0109.nc\n",
      "Skipping /glade/u/home/jonahshaw/w/trend_uncertainty/nathan/OBS_LENS//GISTEMP_5x5/20240820/xagg_correctedtime/threshold_0.95/ensembleChunk_5x5_0110.nc\n",
      "Skipping /glade/u/home/jonahshaw/w/trend_uncertainty/nathan/OBS_LENS//GISTEMP_5x5/20240820/xagg_correctedtime/threshold_0.95/ensembleChunk_5x5_0111.nc\n",
      "Skipping /glade/u/home/jonahshaw/w/trend_uncertainty/nathan/OBS_LENS//GISTEMP_5x5/20240820/xagg_correctedtime/threshold_0.95/ensembleChunk_5x5_0112.nc\n",
      "Skipping /glade/u/home/jonahshaw/w/trend_uncertainty/nathan/OBS_LENS//GISTEMP_5x5/20240820/xagg_correctedtime/threshold_0.95/ensembleChunk_5x5_0113.nc\n",
      "Skipping /glade/u/home/jonahshaw/w/trend_uncertainty/nathan/OBS_LENS//GISTEMP_5x5/20240820/xagg_correctedtime/threshold_0.95/ensembleChunk_5x5_0114.nc\n",
      "Skipping /glade/u/home/jonahshaw/w/trend_uncertainty/nathan/OBS_LENS//GISTEMP_5x5/20240820/xagg_correctedtime/threshold_0.95/ensembleChunk_5x5_0115.nc\n",
      "Skipping /glade/u/home/jonahshaw/w/trend_uncertainty/nathan/OBS_LENS//GISTEMP_5x5/20240820/xagg_correctedtime/threshold_0.95/ensembleChunk_5x5_0116.nc\n",
      "Skipping /glade/u/home/jonahshaw/w/trend_uncertainty/nathan/OBS_LENS//GISTEMP_5x5/20240820/xagg_correctedtime/threshold_0.95/ensembleChunk_5x5_0117.nc\n",
      "Skipping /glade/u/home/jonahshaw/w/trend_uncertainty/nathan/OBS_LENS//GISTEMP_5x5/20240820/xagg_correctedtime/threshold_0.95/ensembleChunk_5x5_0118.nc\n",
      "Skipping /glade/u/home/jonahshaw/w/trend_uncertainty/nathan/OBS_LENS//GISTEMP_5x5/20240820/xagg_correctedtime/threshold_0.95/ensembleChunk_5x5_0119.nc\n",
      "Skipping /glade/u/home/jonahshaw/w/trend_uncertainty/nathan/OBS_LENS//GISTEMP_5x5/20240820/xagg_correctedtime/threshold_0.95/ensembleChunk_5x5_0120.nc\n",
      "Skipping /glade/u/home/jonahshaw/w/trend_uncertainty/nathan/OBS_LENS//GISTEMP_5x5/20240820/xagg_correctedtime/threshold_0.95/ensembleChunk_5x5_0121.nc\n",
      "Skipping /glade/u/home/jonahshaw/w/trend_uncertainty/nathan/OBS_LENS//GISTEMP_5x5/20240820/xagg_correctedtime/threshold_0.95/ensembleChunk_5x5_0122.nc\n",
      "Skipping /glade/u/home/jonahshaw/w/trend_uncertainty/nathan/OBS_LENS//GISTEMP_5x5/20240820/xagg_correctedtime/threshold_0.95/ensembleChunk_5x5_0123.nc\n",
      "Skipping /glade/u/home/jonahshaw/w/trend_uncertainty/nathan/OBS_LENS//GISTEMP_5x5/20240820/xagg_correctedtime/threshold_0.95/ensembleChunk_5x5_0124.nc\n",
      "Skipping /glade/u/home/jonahshaw/w/trend_uncertainty/nathan/OBS_LENS//GISTEMP_5x5/20240820/xagg_correctedtime/threshold_0.95/ensembleChunk_5x5_0125.nc\n",
      "Skipping /glade/u/home/jonahshaw/w/trend_uncertainty/nathan/OBS_LENS//GISTEMP_5x5/20240820/xagg_correctedtime/threshold_0.95/ensembleChunk_5x5_0126.nc\n",
      "Skipping /glade/u/home/jonahshaw/w/trend_uncertainty/nathan/OBS_LENS//GISTEMP_5x5/20240820/xagg_correctedtime/threshold_0.95/ensembleChunk_5x5_0127.nc\n",
      "Skipping /glade/u/home/jonahshaw/w/trend_uncertainty/nathan/OBS_LENS//GISTEMP_5x5/20240820/xagg_correctedtime/threshold_0.95/ensembleChunk_5x5_0128.nc\n",
      "Skipping /glade/u/home/jonahshaw/w/trend_uncertainty/nathan/OBS_LENS//GISTEMP_5x5/20240820/xagg_correctedtime/threshold_0.95/ensembleChunk_5x5_0129.nc\n",
      "Skipping /glade/u/home/jonahshaw/w/trend_uncertainty/nathan/OBS_LENS//GISTEMP_5x5/20240820/xagg_correctedtime/threshold_0.95/ensembleChunk_5x5_0130.nc\n",
      "Skipping /glade/u/home/jonahshaw/w/trend_uncertainty/nathan/OBS_LENS//GISTEMP_5x5/20240820/xagg_correctedtime/threshold_0.95/ensembleChunk_5x5_0131.nc\n",
      "Skipping /glade/u/home/jonahshaw/w/trend_uncertainty/nathan/OBS_LENS//GISTEMP_5x5/20240820/xagg_correctedtime/threshold_0.95/ensembleChunk_5x5_0132.nc\n",
      "Skipping /glade/u/home/jonahshaw/w/trend_uncertainty/nathan/OBS_LENS//GISTEMP_5x5/20240820/xagg_correctedtime/threshold_0.95/ensembleChunk_5x5_0133.nc\n",
      "Skipping /glade/u/home/jonahshaw/w/trend_uncertainty/nathan/OBS_LENS//GISTEMP_5x5/20240820/xagg_correctedtime/threshold_0.95/ensembleChunk_5x5_0134.nc\n",
      "Skipping /glade/u/home/jonahshaw/w/trend_uncertainty/nathan/OBS_LENS//GISTEMP_5x5/20240820/xagg_correctedtime/threshold_0.95/ensembleChunk_5x5_0135.nc\n",
      "Skipping /glade/u/home/jonahshaw/w/trend_uncertainty/nathan/OBS_LENS//GISTEMP_5x5/20240820/xagg_correctedtime/threshold_0.95/ensembleChunk_5x5_0136.nc\n",
      "Skipping /glade/u/home/jonahshaw/w/trend_uncertainty/nathan/OBS_LENS//GISTEMP_5x5/20240820/xagg_correctedtime/threshold_0.95/ensembleChunk_5x5_0137.nc\n",
      "Skipping /glade/u/home/jonahshaw/w/trend_uncertainty/nathan/OBS_LENS//GISTEMP_5x5/20240820/xagg_correctedtime/threshold_0.95/ensembleChunk_5x5_0138.nc\n",
      "Skipping /glade/u/home/jonahshaw/w/trend_uncertainty/nathan/OBS_LENS//GISTEMP_5x5/20240820/xagg_correctedtime/threshold_0.95/ensembleChunk_5x5_0139.nc\n",
      "Skipping /glade/u/home/jonahshaw/w/trend_uncertainty/nathan/OBS_LENS//GISTEMP_5x5/20240820/xagg_correctedtime/threshold_0.95/ensembleChunk_5x5_0140.nc\n",
      "Skipping /glade/u/home/jonahshaw/w/trend_uncertainty/nathan/OBS_LENS//GISTEMP_5x5/20240820/xagg_correctedtime/threshold_0.95/ensembleChunk_5x5_0141.nc\n",
      "Skipping /glade/u/home/jonahshaw/w/trend_uncertainty/nathan/OBS_LENS//GISTEMP_5x5/20240820/xagg_correctedtime/threshold_0.95/ensembleChunk_5x5_0142.nc\n",
      "Skipping /glade/u/home/jonahshaw/w/trend_uncertainty/nathan/OBS_LENS//GISTEMP_5x5/20240820/xagg_correctedtime/threshold_0.95/ensembleChunk_5x5_0143.nc\n",
      "Skipping /glade/u/home/jonahshaw/w/trend_uncertainty/nathan/OBS_LENS//GISTEMP_5x5/20240820/xagg_correctedtime/threshold_0.95/ensembleChunk_5x5_0144.nc\n",
      "Skipping /glade/u/home/jonahshaw/w/trend_uncertainty/nathan/OBS_LENS//GISTEMP_5x5/20240820/xagg_correctedtime/threshold_0.95/ensembleChunk_5x5_0145.nc\n",
      "Skipping /glade/u/home/jonahshaw/w/trend_uncertainty/nathan/OBS_LENS//GISTEMP_5x5/20240820/xagg_correctedtime/threshold_0.95/ensembleChunk_5x5_0146.nc\n",
      "Skipping /glade/u/home/jonahshaw/w/trend_uncertainty/nathan/OBS_LENS//GISTEMP_5x5/20240820/xagg_correctedtime/threshold_0.95/ensembleChunk_5x5_0147.nc\n",
      "Skipping /glade/u/home/jonahshaw/w/trend_uncertainty/nathan/OBS_LENS//GISTEMP_5x5/20240820/xagg_correctedtime/threshold_0.95/ensembleChunk_5x5_0148.nc\n",
      "Skipping /glade/u/home/jonahshaw/w/trend_uncertainty/nathan/OBS_LENS//GISTEMP_5x5/20240820/xagg_correctedtime/threshold_0.95/ensembleChunk_5x5_0149.nc\n",
      "Skipping /glade/u/home/jonahshaw/w/trend_uncertainty/nathan/OBS_LENS//GISTEMP_5x5/20240820/xagg_correctedtime/threshold_0.95/ensembleChunk_5x5_0150.nc\n",
      "Skipping /glade/u/home/jonahshaw/w/trend_uncertainty/nathan/OBS_LENS//GISTEMP_5x5/20240820/xagg_correctedtime/threshold_0.95/ensembleChunk_5x5_0151.nc\n",
      "Skipping /glade/u/home/jonahshaw/w/trend_uncertainty/nathan/OBS_LENS//GISTEMP_5x5/20240820/xagg_correctedtime/threshold_0.95/ensembleChunk_5x5_0152.nc\n",
      "Skipping /glade/u/home/jonahshaw/w/trend_uncertainty/nathan/OBS_LENS//GISTEMP_5x5/20240820/xagg_correctedtime/threshold_0.95/ensembleChunk_5x5_0153.nc\n",
      "Skipping /glade/u/home/jonahshaw/w/trend_uncertainty/nathan/OBS_LENS//GISTEMP_5x5/20240820/xagg_correctedtime/threshold_0.95/ensembleChunk_5x5_0154.nc\n",
      "Skipping /glade/u/home/jonahshaw/w/trend_uncertainty/nathan/OBS_LENS//GISTEMP_5x5/20240820/xagg_correctedtime/threshold_0.95/ensembleChunk_5x5_0155.nc\n",
      "Skipping /glade/u/home/jonahshaw/w/trend_uncertainty/nathan/OBS_LENS//GISTEMP_5x5/20240820/xagg_correctedtime/threshold_0.95/ensembleChunk_5x5_0156.nc\n",
      "Skipping /glade/u/home/jonahshaw/w/trend_uncertainty/nathan/OBS_LENS//GISTEMP_5x5/20240820/xagg_correctedtime/threshold_0.95/ensembleChunk_5x5_0157.nc\n",
      "Skipping /glade/u/home/jonahshaw/w/trend_uncertainty/nathan/OBS_LENS//GISTEMP_5x5/20240820/xagg_correctedtime/threshold_0.95/ensembleChunk_5x5_0158.nc\n",
      "Skipping /glade/u/home/jonahshaw/w/trend_uncertainty/nathan/OBS_LENS//GISTEMP_5x5/20240820/xagg_correctedtime/threshold_0.95/ensembleChunk_5x5_0159.nc\n",
      "Skipping /glade/u/home/jonahshaw/w/trend_uncertainty/nathan/OBS_LENS//GISTEMP_5x5/20240820/xagg_correctedtime/threshold_0.95/ensembleChunk_5x5_0160.nc\n",
      "Skipping /glade/u/home/jonahshaw/w/trend_uncertainty/nathan/OBS_LENS//GISTEMP_5x5/20240820/xagg_correctedtime/threshold_0.95/ensembleChunk_5x5_0161.nc\n",
      "Skipping /glade/u/home/jonahshaw/w/trend_uncertainty/nathan/OBS_LENS//GISTEMP_5x5/20240820/xagg_correctedtime/threshold_0.95/ensembleChunk_5x5_0162.nc\n",
      "Skipping /glade/u/home/jonahshaw/w/trend_uncertainty/nathan/OBS_LENS//GISTEMP_5x5/20240820/xagg_correctedtime/threshold_0.95/ensembleChunk_5x5_0163.nc\n",
      "Skipping /glade/u/home/jonahshaw/w/trend_uncertainty/nathan/OBS_LENS//GISTEMP_5x5/20240820/xagg_correctedtime/threshold_0.95/ensembleChunk_5x5_0164.nc\n",
      "Skipping /glade/u/home/jonahshaw/w/trend_uncertainty/nathan/OBS_LENS//GISTEMP_5x5/20240820/xagg_correctedtime/threshold_0.95/ensembleChunk_5x5_0165.nc\n",
      "Skipping /glade/u/home/jonahshaw/w/trend_uncertainty/nathan/OBS_LENS//GISTEMP_5x5/20240820/xagg_correctedtime/threshold_0.95/ensembleChunk_5x5_0166.nc\n",
      "Skipping /glade/u/home/jonahshaw/w/trend_uncertainty/nathan/OBS_LENS//GISTEMP_5x5/20240820/xagg_correctedtime/threshold_0.95/ensembleChunk_5x5_0167.nc\n",
      "Skipping /glade/u/home/jonahshaw/w/trend_uncertainty/nathan/OBS_LENS//GISTEMP_5x5/20240820/xagg_correctedtime/threshold_0.95/ensembleChunk_5x5_0168.nc\n",
      "Skipping /glade/u/home/jonahshaw/w/trend_uncertainty/nathan/OBS_LENS//GISTEMP_5x5/20240820/xagg_correctedtime/threshold_0.95/ensembleChunk_5x5_0169.nc\n",
      "Skipping /glade/u/home/jonahshaw/w/trend_uncertainty/nathan/OBS_LENS//GISTEMP_5x5/20240820/xagg_correctedtime/threshold_0.95/ensembleChunk_5x5_0170.nc\n",
      "Skipping /glade/u/home/jonahshaw/w/trend_uncertainty/nathan/OBS_LENS//GISTEMP_5x5/20240820/xagg_correctedtime/threshold_0.95/ensembleChunk_5x5_0171.nc\n",
      "Skipping /glade/u/home/jonahshaw/w/trend_uncertainty/nathan/OBS_LENS//GISTEMP_5x5/20240820/xagg_correctedtime/threshold_0.95/ensembleChunk_5x5_0172.nc\n",
      "Skipping /glade/u/home/jonahshaw/w/trend_uncertainty/nathan/OBS_LENS//GISTEMP_5x5/20240820/xagg_correctedtime/threshold_0.95/ensembleChunk_5x5_0173.nc\n",
      "Skipping /glade/u/home/jonahshaw/w/trend_uncertainty/nathan/OBS_LENS//GISTEMP_5x5/20240820/xagg_correctedtime/threshold_0.95/ensembleChunk_5x5_0174.nc\n",
      "Skipping /glade/u/home/jonahshaw/w/trend_uncertainty/nathan/OBS_LENS//GISTEMP_5x5/20240820/xagg_correctedtime/threshold_0.95/ensembleChunk_5x5_0175.nc\n",
      "Skipping /glade/u/home/jonahshaw/w/trend_uncertainty/nathan/OBS_LENS//GISTEMP_5x5/20240820/xagg_correctedtime/threshold_0.95/ensembleChunk_5x5_0176.nc\n",
      "Skipping /glade/u/home/jonahshaw/w/trend_uncertainty/nathan/OBS_LENS//GISTEMP_5x5/20240820/xagg_correctedtime/threshold_0.95/ensembleChunk_5x5_0177.nc\n",
      "Skipping /glade/u/home/jonahshaw/w/trend_uncertainty/nathan/OBS_LENS//GISTEMP_5x5/20240820/xagg_correctedtime/threshold_0.95/ensembleChunk_5x5_0178.nc\n",
      "Skipping /glade/u/home/jonahshaw/w/trend_uncertainty/nathan/OBS_LENS//GISTEMP_5x5/20240820/xagg_correctedtime/threshold_0.95/ensembleChunk_5x5_0179.nc\n",
      "Skipping /glade/u/home/jonahshaw/w/trend_uncertainty/nathan/OBS_LENS//GISTEMP_5x5/20240820/xagg_correctedtime/threshold_0.95/ensembleChunk_5x5_0180.nc\n",
      "Skipping /glade/u/home/jonahshaw/w/trend_uncertainty/nathan/OBS_LENS//GISTEMP_5x5/20240820/xagg_correctedtime/threshold_0.95/ensembleChunk_5x5_0181.nc\n",
      "Skipping /glade/u/home/jonahshaw/w/trend_uncertainty/nathan/OBS_LENS//GISTEMP_5x5/20240820/xagg_correctedtime/threshold_0.95/ensembleChunk_5x5_0182.nc\n",
      "Skipping /glade/u/home/jonahshaw/w/trend_uncertainty/nathan/OBS_LENS//GISTEMP_5x5/20240820/xagg_correctedtime/threshold_0.95/ensembleChunk_5x5_0183.nc\n",
      "Skipping /glade/u/home/jonahshaw/w/trend_uncertainty/nathan/OBS_LENS//GISTEMP_5x5/20240820/xagg_correctedtime/threshold_0.95/ensembleChunk_5x5_0184.nc\n",
      "Skipping /glade/u/home/jonahshaw/w/trend_uncertainty/nathan/OBS_LENS//GISTEMP_5x5/20240820/xagg_correctedtime/threshold_0.95/ensembleChunk_5x5_0185.nc\n",
      "Skipping /glade/u/home/jonahshaw/w/trend_uncertainty/nathan/OBS_LENS//GISTEMP_5x5/20240820/xagg_correctedtime/threshold_0.95/ensembleChunk_5x5_0186.nc\n",
      "Skipping /glade/u/home/jonahshaw/w/trend_uncertainty/nathan/OBS_LENS//GISTEMP_5x5/20240820/xagg_correctedtime/threshold_0.95/ensembleChunk_5x5_0187.nc\n",
      "Skipping /glade/u/home/jonahshaw/w/trend_uncertainty/nathan/OBS_LENS//GISTEMP_5x5/20240820/xagg_correctedtime/threshold_0.95/ensembleChunk_5x5_0188.nc\n",
      "Skipping /glade/u/home/jonahshaw/w/trend_uncertainty/nathan/OBS_LENS//GISTEMP_5x5/20240820/xagg_correctedtime/threshold_0.95/ensembleChunk_5x5_0189.nc\n",
      "Skipping /glade/u/home/jonahshaw/w/trend_uncertainty/nathan/OBS_LENS//GISTEMP_5x5/20240820/xagg_correctedtime/threshold_0.95/ensembleChunk_5x5_0190.nc\n",
      "Skipping /glade/u/home/jonahshaw/w/trend_uncertainty/nathan/OBS_LENS//GISTEMP_5x5/20240820/xagg_correctedtime/threshold_0.95/ensembleChunk_5x5_0191.nc\n",
      "Skipping /glade/u/home/jonahshaw/w/trend_uncertainty/nathan/OBS_LENS//GISTEMP_5x5/20240820/xagg_correctedtime/threshold_0.95/ensembleChunk_5x5_0192.nc\n",
      "Skipping /glade/u/home/jonahshaw/w/trend_uncertainty/nathan/OBS_LENS//GISTEMP_5x5/20240820/xagg_correctedtime/threshold_0.95/ensembleChunk_5x5_0193.nc\n",
      "Skipping /glade/u/home/jonahshaw/w/trend_uncertainty/nathan/OBS_LENS//GISTEMP_5x5/20240820/xagg_correctedtime/threshold_0.95/ensembleChunk_5x5_0194.nc\n",
      "Skipping /glade/u/home/jonahshaw/w/trend_uncertainty/nathan/OBS_LENS//GISTEMP_5x5/20240820/xagg_correctedtime/threshold_0.95/ensembleChunk_5x5_0195.nc\n",
      "Skipping /glade/u/home/jonahshaw/w/trend_uncertainty/nathan/OBS_LENS//GISTEMP_5x5/20240820/xagg_correctedtime/threshold_0.95/ensembleChunk_5x5_0196.nc\n",
      "Skipping /glade/u/home/jonahshaw/w/trend_uncertainty/nathan/OBS_LENS//GISTEMP_5x5/20240820/xagg_correctedtime/threshold_0.95/ensembleChunk_5x5_0197.nc\n",
      "Skipping /glade/u/home/jonahshaw/w/trend_uncertainty/nathan/OBS_LENS//GISTEMP_5x5/20240820/xagg_correctedtime/threshold_0.95/ensembleChunk_5x5_0198.nc\n",
      "Skipping /glade/u/home/jonahshaw/w/trend_uncertainty/nathan/OBS_LENS//GISTEMP_5x5/20240820/xagg_correctedtime/threshold_0.95/ensembleChunk_5x5_0199.nc\n",
      "Skipping /glade/u/home/jonahshaw/w/trend_uncertainty/nathan/OBS_LENS//GISTEMP_5x5/20240820/xagg_correctedtime/threshold_0.95/ensembleChunk_5x5_0200.nc\n",
      "CPU times: user 28.4 ms, sys: 3.21 ms, total: 31.6 ms\n",
      "Wall time: 800 ms\n"
     ]
    }
   ],
   "source": [
    "%%time\n",
    "\n",
    "model_subdir = 'GISTEMP_5x5/20240820/xagg_correctedtime/threshold_0.95'\n",
    "\n",
    "if not os.path.exists(os.path.join(save_dir,model_subdir)):\n",
    "    os.makedirs(os.path.join(save_dir,model_subdir))\n",
    "\n",
    "# New time dimension to apply to correct drift from skipping leap years. JKS test.\n",
    "new_times = pd.date_range('1880-01-16', '2020-12-31', freq='1ME') + pd.tseries.offsets.Day(-15)\n",
    "\n",
    "# Variable to select and operate over.\n",
    "_ds_var = gistemp_tas_var\n",
    "\n",
    "tasks = []\n",
    "\n",
    "\n",
    "for i,_ds_filepath in enumerate(gistemp_files):\n",
    "\n",
    "    filename = _ds_filepath.split('/')[-1]\n",
    "    _outfilepath = '%s/%s/%s' % (save_dir,model_subdir,filename)\n",
    "    \n",
    "    if os.path.exists(_outfilepath):\n",
    "        print('Skipping %s' % _outfilepath)\n",
    "        continue\n",
    "\n",
    "    tasks.append(dask.delayed(aggregateandmask_wrapper)(\n",
    "        ds_filepath=_ds_filepath,\n",
    "        save_filepath=_outfilepath,\n",
    "        ds_var=_ds_var,\n",
    "        model_str=\"GISTEMP_5x5\",\n",
    "        realization=i+1,\n",
    "        regions=regionmask.defined_regions.ar6.all,\n",
    "        masking_threshold=0.95,\n",
    "        ufunc=gistemp_5x5_preproc,\n",
    "        new_times=new_times,\n",
    "    ))\n",
    "\n",
    "    # if i == 2: break\n",
    "# dask.compute(*tasks)\n",
    "    \n",
    "    "
   ]
  },
  {
   "cell_type": "code",
   "execution_count": 18,
   "id": "b183df36",
   "metadata": {},
   "outputs": [
    {
     "name": "stderr",
     "output_type": "stream",
     "text": [
      "/glade/work/jonahshaw/conda-envs/py_xagg/lib/python3.12/site-packages/dask_jobqueue/pbs.py:82: FutureWarning: project has been renamed to account as this kwarg was used wit -A option. You are still using it (please also check config files). If you did not set account yet, project will be respected for now, but it will be removed in a future release. If you already set account, project is ignored and you can remove it.\n",
      "  warnings.warn(warn, FutureWarning)\n",
      "/glade/work/jonahshaw/conda-envs/py_xagg/lib/python3.12/site-packages/distributed/node.py:182: UserWarning: Port 8787 is already in use.\n",
      "Perhaps you already have a cluster running?\n",
      "Hosting the HTTP server on port 39817 instead\n",
      "  warnings.warn(\n",
      "/glade/work/jonahshaw/conda-envs/py_xagg/lib/python3.12/site-packages/dask_jobqueue/pbs.py:82: FutureWarning: project has been renamed to account as this kwarg was used wit -A option. You are still using it (please also check config files). If you did not set account yet, project will be respected for now, but it will be removed in a future release. If you already set account, project is ignored and you can remove it.\n",
      "  warnings.warn(warn, FutureWarning)\n",
      "/glade/work/jonahshaw/conda-envs/py_xagg/lib/python3.12/site-packages/dask_jobqueue/pbs.py:82: FutureWarning: project has been renamed to account as this kwarg was used wit -A option. You are still using it (please also check config files). If you did not set account yet, project will be respected for now, but it will be removed in a future release. If you already set account, project is ignored and you can remove it.\n",
      "  warnings.warn(warn, FutureWarning)\n"
     ]
    }
   ],
   "source": [
    "# Launch a Dask cluster using PBSCluster\n",
    "cluster = PBSCluster(cores    = 1,\n",
    "                    memory   = '8GB',\n",
    "                    queue    = 'casper',\n",
    "                    walltime = '00:15:00',\n",
    "                    project  = 'UCUC0007',\n",
    "                    )\n",
    "cluster.scale(jobs=16)\n",
    "client = Client(cluster)\n",
    "\n",
    "dask.compute(*tasks)\n",
    "\n",
    "client.shutdown()"
   ]
  },
  {
   "cell_type": "markdown",
   "id": "1d55cd1d",
   "metadata": {},
   "source": [
    "Use 30% (70% availability) threshold."
   ]
  },
  {
   "cell_type": "code",
   "execution_count": 14,
   "id": "4012ffd1",
   "metadata": {},
   "outputs": [
    {
     "name": "stdout",
     "output_type": "stream",
     "text": [
      "CPU times: user 19.7 ms, sys: 15.8 ms, total: 35.5 ms\n",
      "Wall time: 55.1 ms\n"
     ]
    }
   ],
   "source": [
    "%%time\n",
    "\n",
    "model_subdir = 'GISTEMP_5x5/20240820/xagg_correctedtime/threshold_0.70'\n",
    "\n",
    "if not os.path.exists(os.path.join(save_dir,model_subdir)):\n",
    "    os.makedirs(os.path.join(save_dir,model_subdir))\n",
    "\n",
    "# New time dimension to apply to correct drift from skipping leap years. JKS test.\n",
    "new_times = pd.date_range('1880-01-16', '2020-12-31', freq='1ME') + pd.tseries.offsets.Day(-15)\n",
    "\n",
    "# Variable to select and operate over.\n",
    "_ds_var = gistemp_tas_var\n",
    "\n",
    "tasks = []\n",
    "\n",
    "\n",
    "\n",
    "for i,_ds_filepath in enumerate(gistemp_files):\n",
    "\n",
    "    filename = _ds_filepath.split('/')[-1]\n",
    "    _outfilepath = '%s/%s/%s' % (save_dir,model_subdir,filename)\n",
    "    \n",
    "    if os.path.exists(_outfilepath):\n",
    "        print('Skipping %s' % _outfilepath)\n",
    "        continue\n",
    "\n",
    "    tasks.append(dask.delayed(aggregateandmask_wrapper)(\n",
    "        ds_filepath=_ds_filepath,\n",
    "        save_filepath=_outfilepath,\n",
    "        ds_var=_ds_var,\n",
    "        model_str=\"GISTEMP_5x5\",\n",
    "        realization=i+1,\n",
    "        regions=regionmask.defined_regions.ar6.all,\n",
    "        masking_threshold=0.70,\n",
    "        ufunc=gistemp_5x5_preproc,\n",
    "        new_times=new_times,\n",
    "    ))\n",
    "\n",
    "    # if i == 2: break\n",
    "# dask.compute(*tasks)\n",
    "    \n",
    "    "
   ]
  },
  {
   "cell_type": "code",
   "execution_count": 18,
   "id": "9246f1e6",
   "metadata": {},
   "outputs": [
    {
     "name": "stderr",
     "output_type": "stream",
     "text": [
      "/glade/work/jonahshaw/conda-envs/py_xagg/lib/python3.12/site-packages/dask_jobqueue/pbs.py:82: FutureWarning: project has been renamed to account as this kwarg was used wit -A option. You are still using it (please also check config files). If you did not set account yet, project will be respected for now, but it will be removed in a future release. If you already set account, project is ignored and you can remove it.\n",
      "  warnings.warn(warn, FutureWarning)\n",
      "/glade/work/jonahshaw/conda-envs/py_xagg/lib/python3.12/site-packages/dask_jobqueue/pbs.py:82: FutureWarning: project has been renamed to account as this kwarg was used wit -A option. You are still using it (please also check config files). If you did not set account yet, project will be respected for now, but it will be removed in a future release. If you already set account, project is ignored and you can remove it.\n",
      "  warnings.warn(warn, FutureWarning)\n",
      "/glade/work/jonahshaw/conda-envs/py_xagg/lib/python3.12/site-packages/dask_jobqueue/pbs.py:82: FutureWarning: project has been renamed to account as this kwarg was used wit -A option. You are still using it (please also check config files). If you did not set account yet, project will be respected for now, but it will be removed in a future release. If you already set account, project is ignored and you can remove it.\n",
      "  warnings.warn(warn, FutureWarning)\n"
     ]
    }
   ],
   "source": [
    "# Launch a Dask cluster using PBSCluster\n",
    "cluster = PBSCluster(cores    = 1,\n",
    "                    memory   = '8GB',\n",
    "                    queue    = 'casper',\n",
    "                    walltime = '00:15:00',\n",
    "                    project  = 'UCUC0007',\n",
    "                    )\n",
    "cluster.scale(jobs=16)\n",
    "client = Client(cluster)\n",
    "\n",
    "dask.compute(*tasks)\n",
    "\n",
    "client.shutdown()"
   ]
  },
  {
   "cell_type": "markdown",
   "id": "6a13f127-7653-4b38-833e-8b5b382798e2",
   "metadata": {},
   "source": [
    "#### HadCRUT5"
   ]
  },
  {
   "cell_type": "code",
   "execution_count": 19,
   "id": "68061af7",
   "metadata": {},
   "outputs": [],
   "source": [
    "# Arbitrary function to apply\n",
    "\n",
    "def hadcrut5_preproc(da:xr.DataArray):\n",
    "    \n",
    "    try:\n",
    "        da = da.rename({\"latitude\":\"lat\", \"longitude\":\"lon\"})\n",
    "    except:\n",
    "        pass\n",
    "    \n",
    "    return da"
   ]
  },
  {
   "cell_type": "markdown",
   "id": "20a13f74",
   "metadata": {},
   "source": [
    "Apply the 95% (5%) threshold"
   ]
  },
  {
   "cell_type": "code",
   "execution_count": 20,
   "id": "74c43ce7",
   "metadata": {},
   "outputs": [
    {
     "name": "stdout",
     "output_type": "stream",
     "text": [
      "CPU times: user 15.7 ms, sys: 10.9 ms, total: 26.7 ms\n",
      "Wall time: 29.6 ms\n"
     ]
    }
   ],
   "source": [
    "%%time\n",
    "\n",
    "model_subdir = 'HadCRUT5/20240820/xagg/threshold_0.95/'\n",
    "\n",
    "if not os.path.exists(os.path.join(save_dir,model_subdir)):\n",
    "    os.makedirs(os.path.join(save_dir,model_subdir))\n",
    "\n",
    "# Variable to select and operate over.\n",
    "_ds_var = hadcrut5_tas_var\n",
    "\n",
    "tasks = []\n",
    "\n",
    "for i,_ds_filepath in enumerate(hadcrut5_files):\n",
    "\n",
    "    filename = _ds_filepath.split('/')[-1]\n",
    "    _realization = filename.split(\".\")[-2]\n",
    "    _outfilepath = '%s/%s/%s' % (save_dir,model_subdir,filename)\n",
    "    \n",
    "    if os.path.exists(_outfilepath):\n",
    "        print('Skipping %s' % _outfilepath)\n",
    "        continue\n",
    "\n",
    "    tasks.append(dask.delayed(aggregateandmask_wrapper)(\n",
    "        ds_filepath=_ds_filepath,\n",
    "        save_filepath=_outfilepath,\n",
    "        ds_var=_ds_var,\n",
    "        model_str=\"HadCRUT5\",\n",
    "        realization=_realization,\n",
    "        regions=regionmask.defined_regions.ar6.all,\n",
    "        masking_threshold=0.95,\n",
    "        ufunc=hadcrut5_preproc,\n",
    "    ))"
   ]
  },
  {
   "cell_type": "code",
   "execution_count": 22,
   "id": "7820729e",
   "metadata": {},
   "outputs": [
    {
     "data": {
      "text/plain": [
       "'/glade/u/home/jonahshaw/w/trend_uncertainty/nathan/OBS_LENS//HadCRUT5/20240820/xagg/threshold_0.95//HadCRUT.5.0.2.0.analysis.anomalies.99.nc'"
      ]
     },
     "execution_count": 22,
     "metadata": {},
     "output_type": "execute_result"
    }
   ],
   "source": [
    "_outfilepath"
   ]
  },
  {
   "cell_type": "code",
   "execution_count": 23,
   "id": "29ccaf47",
   "metadata": {},
   "outputs": [
    {
     "name": "stderr",
     "output_type": "stream",
     "text": [
      "/glade/work/jonahshaw/conda-envs/py_xagg/lib/python3.12/site-packages/dask_jobqueue/pbs.py:82: FutureWarning: project has been renamed to account as this kwarg was used wit -A option. You are still using it (please also check config files). If you did not set account yet, project will be respected for now, but it will be removed in a future release. If you already set account, project is ignored and you can remove it.\n",
      "  warnings.warn(warn, FutureWarning)\n",
      "/glade/work/jonahshaw/conda-envs/py_xagg/lib/python3.12/site-packages/dask_jobqueue/pbs.py:82: FutureWarning: project has been renamed to account as this kwarg was used wit -A option. You are still using it (please also check config files). If you did not set account yet, project will be respected for now, but it will be removed in a future release. If you already set account, project is ignored and you can remove it.\n",
      "  warnings.warn(warn, FutureWarning)\n"
     ]
    }
   ],
   "source": [
    "# Launch a Dask cluster using PBSCluster\n",
    "cluster = PBSCluster(cores    = 1,\n",
    "                    memory   = '8GB',\n",
    "                    queue    = 'casper',\n",
    "                    walltime = '00:15:00',\n",
    "                    project  = 'UCUC0007',\n",
    "                    )\n",
    "cluster.scale(jobs=16)\n",
    "client = Client(cluster)\n",
    "\n",
    "dask.compute(*tasks)\n",
    "\n",
    "client.shutdown()"
   ]
  },
  {
   "cell_type": "markdown",
   "id": "5569595d",
   "metadata": {},
   "source": [
    "Apply the 70% (30%) threshold"
   ]
  },
  {
   "cell_type": "code",
   "execution_count": 24,
   "id": "904a6c84",
   "metadata": {},
   "outputs": [
    {
     "name": "stdout",
     "output_type": "stream",
     "text": [
      "CPU times: user 16.6 ms, sys: 16.7 ms, total: 33.4 ms\n",
      "Wall time: 37.3 ms\n"
     ]
    }
   ],
   "source": [
    "%%time\n",
    "\n",
    "model_subdir = 'HadCRUT5/20240820/xagg/threshold_0.70/'\n",
    "\n",
    "if not os.path.exists(os.path.join(save_dir,model_subdir)):\n",
    "    os.makedirs(os.path.join(save_dir,model_subdir))\n",
    "\n",
    "# Variable to select and operate over.\n",
    "_ds_var = hadcrut5_tas_var\n",
    "\n",
    "tasks = []\n",
    "\n",
    "for i,_ds_filepath in enumerate(hadcrut5_files):\n",
    "\n",
    "    filename = _ds_filepath.split('/')[-1]\n",
    "    _realization = filename.split(\".\")[-2]\n",
    "    _outfilepath = '%s/%s/%s' % (save_dir,model_subdir,filename)\n",
    "    \n",
    "    if os.path.exists(_outfilepath):\n",
    "        print('Skipping %s' % _outfilepath)\n",
    "        continue\n",
    "\n",
    "    tasks.append(dask.delayed(aggregateandmask_wrapper)(\n",
    "        ds_filepath=_ds_filepath,\n",
    "        save_filepath=_outfilepath,\n",
    "        ds_var=_ds_var,\n",
    "        model_str=\"HadCRUT5\",\n",
    "        realization=_realization,\n",
    "        regions=regionmask.defined_regions.ar6.all,\n",
    "        masking_threshold=0.70,\n",
    "        ufunc=hadcrut5_preproc,\n",
    "    ))"
   ]
  },
  {
   "cell_type": "code",
   "execution_count": 27,
   "id": "3dd77f7d",
   "metadata": {},
   "outputs": [
    {
     "name": "stderr",
     "output_type": "stream",
     "text": [
      "/glade/work/jonahshaw/conda-envs/py_xagg/lib/python3.12/site-packages/dask_jobqueue/pbs.py:82: FutureWarning: project has been renamed to account as this kwarg was used wit -A option. You are still using it (please also check config files). If you did not set account yet, project will be respected for now, but it will be removed in a future release. If you already set account, project is ignored and you can remove it.\n",
      "  warnings.warn(warn, FutureWarning)\n",
      "/glade/work/jonahshaw/conda-envs/py_xagg/lib/python3.12/site-packages/dask_jobqueue/pbs.py:82: FutureWarning: project has been renamed to account as this kwarg was used wit -A option. You are still using it (please also check config files). If you did not set account yet, project will be respected for now, but it will be removed in a future release. If you already set account, project is ignored and you can remove it.\n",
      "  warnings.warn(warn, FutureWarning)\n"
     ]
    }
   ],
   "source": [
    "# Launch a Dask cluster using PBSCluster\n",
    "cluster = PBSCluster(cores    = 1,\n",
    "                    memory   = '8GB',\n",
    "                    queue    = 'casper',\n",
    "                    walltime = '00:15:00',\n",
    "                    project  = 'UCUC0007',\n",
    "                    )\n",
    "cluster.scale(jobs=16)\n",
    "client = Client(cluster)\n",
    "\n",
    "dask.compute(*tasks)\n",
    "\n",
    "client.shutdown()"
   ]
  },
  {
   "cell_type": "markdown",
   "id": "05f3336c-593d-4478-9ece-61fb47b197b3",
   "metadata": {},
   "source": [
    "#### BEST"
   ]
  },
  {
   "cell_type": "markdown",
   "id": "e391a7fd",
   "metadata": {},
   "source": [
    "Why this take so long?\n",
    "/glade/u/home/jonahshaw/w/trend_uncertainty/nathan/OBS_LENS//BEST/20250320/xagg/Land_and_Ocean_LatLong1.nc"
   ]
  },
  {
   "cell_type": "markdown",
   "id": "2f4dd6c6",
   "metadata": {},
   "source": [
    "Apply the 5% (95%) threshold."
   ]
  },
  {
   "cell_type": "markdown",
   "id": "39a206d9",
   "metadata": {},
   "source": [
    "_Having issues here?_  \n",
    "_available_region_weights = weights_spatiotemporal.where((mask == i) & (~np.isnan(da))).sum(dim=[\"lat\", \"lon\"]) # Weight of the unmasked portion of the region"
   ]
  },
  {
   "cell_type": "code",
   "execution_count": 63,
   "id": "a291ac89",
   "metadata": {},
   "outputs": [
    {
     "name": "stdout",
     "output_type": "stream",
     "text": [
      "CPU times: user 24.5 ms, sys: 0 ns, total: 24.5 ms\n",
      "Wall time: 59.1 ms\n"
     ]
    }
   ],
   "source": [
    "%%time\n",
    "\n",
    "model_subdir = 'BEST/20250320/xagg/threshold_0.95/'\n",
    "\n",
    "if not os.path.exists(os.path.join(save_dir,model_subdir)):\n",
    "    os.makedirs(os.path.join(save_dir,model_subdir))\n",
    "\n",
    "best_newtimes = pd.date_range('1850-01-16', '2024-12-31', freq='1ME') + pd.tseries.offsets.Day(-15)\n",
    "\n",
    "# Variable to select and operate over.\n",
    "_ds_var = best_tas_var\n",
    "_ds_filepath = best_files\n",
    "\n",
    "filename = _ds_filepath.split('/')[-1]\n",
    "_realization = 1\n",
    "_outfilepath = '%s/%s/%s' % (save_dir,model_subdir,filename)\n",
    "tasks = []\n",
    "\n",
    "if os.path.exists(_outfilepath):\n",
    "    print('Skipping %s' % _outfilepath)\n",
    "\n",
    "else:\n",
    "    tasks.append(dask.delayed(aggregateandmask_wrapper)(\n",
    "        ds_filepath=_ds_filepath,\n",
    "        save_filepath=_outfilepath,\n",
    "        ds_var=_ds_var,\n",
    "        model_str=\"BEST\",\n",
    "        realization=_realization,\n",
    "        regions=regionmask.defined_regions.ar6.all,\n",
    "        masking_threshold=0.95,\n",
    "        new_times=best_newtimes\n",
    "    ))"
   ]
  },
  {
   "cell_type": "code",
   "execution_count": 66,
   "id": "e45178ca",
   "metadata": {},
   "outputs": [
    {
     "name": "stderr",
     "output_type": "stream",
     "text": [
      "/glade/work/jonahshaw/conda-envs/py_xagg/lib/python3.12/site-packages/dask_jobqueue/pbs.py:82: FutureWarning: project has been renamed to account as this kwarg was used wit -A option. You are still using it (please also check config files). If you did not set account yet, project will be respected for now, but it will be removed in a future release. If you already set account, project is ignored and you can remove it.\n",
      "  warnings.warn(warn, FutureWarning)\n",
      "/glade/work/jonahshaw/conda-envs/py_xagg/lib/python3.12/site-packages/dask_jobqueue/pbs.py:82: FutureWarning: project has been renamed to account as this kwarg was used wit -A option. You are still using it (please also check config files). If you did not set account yet, project will be respected for now, but it will be removed in a future release. If you already set account, project is ignored and you can remove it.\n",
      "  warnings.warn(warn, FutureWarning)\n"
     ]
    }
   ],
   "source": [
    "# Launch a Dask cluster using PBSCluster\n",
    "cluster = PBSCluster(cores    = 1,\n",
    "                    memory   = '32GB',\n",
    "                    queue    = 'casper',\n",
    "                    walltime = '00:15:00',\n",
    "                    project  = 'UCUC0007',\n",
    "                    )\n",
    "cluster.scale(jobs=1)\n",
    "client = Client(cluster)\n",
    "\n",
    "dask.compute(*tasks)\n",
    "\n",
    "client.shutdown()"
   ]
  },
  {
   "cell_type": "markdown",
   "id": "4ea91636",
   "metadata": {},
   "source": [
    "BEST 0.70 threshold"
   ]
  },
  {
   "cell_type": "code",
   "execution_count": 71,
   "id": "441f64a2",
   "metadata": {},
   "outputs": [
    {
     "name": "stdout",
     "output_type": "stream",
     "text": [
      "CPU times: user 19.4 ms, sys: 4.73 ms, total: 24.1 ms\n",
      "Wall time: 173 ms\n"
     ]
    }
   ],
   "source": [
    "%%time\n",
    "\n",
    "model_subdir = 'BEST/20250320/xagg/threshold_0.70/'\n",
    "\n",
    "if not os.path.exists(os.path.join(save_dir,model_subdir)):\n",
    "    os.makedirs(os.path.join(save_dir,model_subdir))\n",
    "\n",
    "best_newtimes = pd.date_range('1850-01-16', '2024-12-31', freq='1ME') + pd.tseries.offsets.Day(-15)\n",
    "\n",
    "# Variable to select and operate over.\n",
    "_ds_var = best_tas_var\n",
    "_ds_filepath = best_files\n",
    "\n",
    "filename = _ds_filepath.split('/')[-1]\n",
    "_realization = 1\n",
    "_outfilepath = '%s/%s/%s' % (save_dir,model_subdir,filename)\n",
    "\n",
    "tasks = []\n",
    "\n",
    "if os.path.exists(_outfilepath):\n",
    "    print('Skipping %s' % _outfilepath)\n",
    "\n",
    "else:\n",
    "    tasks.append(dask.delayed(aggregateandmask_wrapper)(\n",
    "        ds_filepath=_ds_filepath,\n",
    "        save_filepath=_outfilepath,\n",
    "        ds_var=_ds_var,\n",
    "        model_str=\"BEST\",\n",
    "        realization=_realization,\n",
    "        regions=regionmask.defined_regions.ar6.all,\n",
    "        masking_threshold=0.70,\n",
    "        new_times=best_newtimes\n",
    "    ))"
   ]
  },
  {
   "cell_type": "code",
   "execution_count": 72,
   "id": "f870cd63",
   "metadata": {},
   "outputs": [
    {
     "name": "stderr",
     "output_type": "stream",
     "text": [
      "/glade/work/jonahshaw/conda-envs/py_xagg/lib/python3.12/site-packages/dask_jobqueue/pbs.py:82: FutureWarning: project has been renamed to account as this kwarg was used wit -A option. You are still using it (please also check config files). If you did not set account yet, project will be respected for now, but it will be removed in a future release. If you already set account, project is ignored and you can remove it.\n",
      "  warnings.warn(warn, FutureWarning)\n",
      "/glade/work/jonahshaw/conda-envs/py_xagg/lib/python3.12/site-packages/distributed/node.py:182: UserWarning: Port 8787 is already in use.\n",
      "Perhaps you already have a cluster running?\n",
      "Hosting the HTTP server on port 33827 instead\n",
      "  warnings.warn(\n",
      "/glade/work/jonahshaw/conda-envs/py_xagg/lib/python3.12/site-packages/dask_jobqueue/pbs.py:82: FutureWarning: project has been renamed to account as this kwarg was used wit -A option. You are still using it (please also check config files). If you did not set account yet, project will be respected for now, but it will be removed in a future release. If you already set account, project is ignored and you can remove it.\n",
      "  warnings.warn(warn, FutureWarning)\n"
     ]
    }
   ],
   "source": [
    "# Launch a Dask cluster using PBSCluster\n",
    "cluster = PBSCluster(cores    = 1,\n",
    "                    memory   = '32GB',\n",
    "                    queue    = 'casper',\n",
    "                    walltime = '00:15:00',\n",
    "                    project  = 'UCUC0007',\n",
    "                    )\n",
    "cluster.scale(jobs=1)\n",
    "client = Client(cluster)\n",
    "\n",
    "dask.compute(*tasks)\n",
    "\n",
    "client.shutdown()"
   ]
  },
  {
   "cell_type": "markdown",
   "id": "72c8e81c",
   "metadata": {},
   "source": [
    "Clean-up dask workers"
   ]
  },
  {
   "cell_type": "code",
   "execution_count": 83,
   "id": "b62e3719",
   "metadata": {},
   "outputs": [],
   "source": [
    "working_dir = \"/glade/u/home/jonahshaw/Scripts/git_repos/internalvar-vs-obsunc/preprocess_obs3/\"\n",
    "daskworker_list = glob.glob(f\"{working_dir}/dask-worker.????????\")"
   ]
  },
  {
   "cell_type": "code",
   "execution_count": 87,
   "id": "fc7bc67d",
   "metadata": {},
   "outputs": [
    {
     "name": "stdout",
     "output_type": "stream",
     "text": [
      "/glade/u/home/jonahshaw/Scripts/git_repos/internalvar-vs-obsunc/preprocess_obs3/dask-worker.o4169023\n",
      "Removed: /glade/u/home/jonahshaw/Scripts/git_repos/internalvar-vs-obsunc/preprocess_obs3/dask-worker.o4169023\n",
      "/glade/u/home/jonahshaw/Scripts/git_repos/internalvar-vs-obsunc/preprocess_obs3/dask-worker.o4168980\n",
      "Removed: /glade/u/home/jonahshaw/Scripts/git_repos/internalvar-vs-obsunc/preprocess_obs3/dask-worker.o4168980\n",
      "/glade/u/home/jonahshaw/Scripts/git_repos/internalvar-vs-obsunc/preprocess_obs3/dask-worker.o4169031\n",
      "Removed: /glade/u/home/jonahshaw/Scripts/git_repos/internalvar-vs-obsunc/preprocess_obs3/dask-worker.o4169031\n",
      "/glade/u/home/jonahshaw/Scripts/git_repos/internalvar-vs-obsunc/preprocess_obs3/dask-worker.o4169019\n",
      "Removed: /glade/u/home/jonahshaw/Scripts/git_repos/internalvar-vs-obsunc/preprocess_obs3/dask-worker.o4169019\n",
      "/glade/u/home/jonahshaw/Scripts/git_repos/internalvar-vs-obsunc/preprocess_obs3/dask-worker.o4169071\n",
      "Removed: /glade/u/home/jonahshaw/Scripts/git_repos/internalvar-vs-obsunc/preprocess_obs3/dask-worker.o4169071\n",
      "/glade/u/home/jonahshaw/Scripts/git_repos/internalvar-vs-obsunc/preprocess_obs3/dask-worker.o4168979\n",
      "Removed: /glade/u/home/jonahshaw/Scripts/git_repos/internalvar-vs-obsunc/preprocess_obs3/dask-worker.o4168979\n",
      "/glade/u/home/jonahshaw/Scripts/git_repos/internalvar-vs-obsunc/preprocess_obs3/dask-worker.o4169073\n",
      "Removed: /glade/u/home/jonahshaw/Scripts/git_repos/internalvar-vs-obsunc/preprocess_obs3/dask-worker.o4169073\n",
      "/glade/u/home/jonahshaw/Scripts/git_repos/internalvar-vs-obsunc/preprocess_obs3/dask-worker.o4169038\n",
      "Removed: /glade/u/home/jonahshaw/Scripts/git_repos/internalvar-vs-obsunc/preprocess_obs3/dask-worker.o4169038\n",
      "/glade/u/home/jonahshaw/Scripts/git_repos/internalvar-vs-obsunc/preprocess_obs3/dask-worker.o4169014\n",
      "Removed: /glade/u/home/jonahshaw/Scripts/git_repos/internalvar-vs-obsunc/preprocess_obs3/dask-worker.o4169014\n",
      "/glade/u/home/jonahshaw/Scripts/git_repos/internalvar-vs-obsunc/preprocess_obs3/dask-worker.o4168986\n",
      "Removed: /glade/u/home/jonahshaw/Scripts/git_repos/internalvar-vs-obsunc/preprocess_obs3/dask-worker.o4168986\n",
      "/glade/u/home/jonahshaw/Scripts/git_repos/internalvar-vs-obsunc/preprocess_obs3/dask-worker.o4169010\n",
      "Removed: /glade/u/home/jonahshaw/Scripts/git_repos/internalvar-vs-obsunc/preprocess_obs3/dask-worker.o4169010\n",
      "/glade/u/home/jonahshaw/Scripts/git_repos/internalvar-vs-obsunc/preprocess_obs3/dask-worker.o4169015\n",
      "Removed: /glade/u/home/jonahshaw/Scripts/git_repos/internalvar-vs-obsunc/preprocess_obs3/dask-worker.o4169015\n",
      "/glade/u/home/jonahshaw/Scripts/git_repos/internalvar-vs-obsunc/preprocess_obs3/dask-worker.o4169009\n",
      "Removed: /glade/u/home/jonahshaw/Scripts/git_repos/internalvar-vs-obsunc/preprocess_obs3/dask-worker.o4169009\n",
      "/glade/u/home/jonahshaw/Scripts/git_repos/internalvar-vs-obsunc/preprocess_obs3/dask-worker.o4169036\n",
      "Removed: /glade/u/home/jonahshaw/Scripts/git_repos/internalvar-vs-obsunc/preprocess_obs3/dask-worker.o4169036\n",
      "/glade/u/home/jonahshaw/Scripts/git_repos/internalvar-vs-obsunc/preprocess_obs3/dask-worker.o4169026\n",
      "Removed: /glade/u/home/jonahshaw/Scripts/git_repos/internalvar-vs-obsunc/preprocess_obs3/dask-worker.o4169026\n",
      "/glade/u/home/jonahshaw/Scripts/git_repos/internalvar-vs-obsunc/preprocess_obs3/dask-worker.o4168988\n",
      "Removed: /glade/u/home/jonahshaw/Scripts/git_repos/internalvar-vs-obsunc/preprocess_obs3/dask-worker.o4168988\n",
      "/glade/u/home/jonahshaw/Scripts/git_repos/internalvar-vs-obsunc/preprocess_obs3/dask-worker.o4169027\n",
      "Removed: /glade/u/home/jonahshaw/Scripts/git_repos/internalvar-vs-obsunc/preprocess_obs3/dask-worker.o4169027\n",
      "/glade/u/home/jonahshaw/Scripts/git_repos/internalvar-vs-obsunc/preprocess_obs3/dask-worker.o4169024\n",
      "Removed: /glade/u/home/jonahshaw/Scripts/git_repos/internalvar-vs-obsunc/preprocess_obs3/dask-worker.o4169024\n",
      "/glade/u/home/jonahshaw/Scripts/git_repos/internalvar-vs-obsunc/preprocess_obs3/dask-worker.o4168982\n",
      "Removed: /glade/u/home/jonahshaw/Scripts/git_repos/internalvar-vs-obsunc/preprocess_obs3/dask-worker.o4168982\n",
      "/glade/u/home/jonahshaw/Scripts/git_repos/internalvar-vs-obsunc/preprocess_obs3/dask-worker.o4169028\n",
      "Removed: /glade/u/home/jonahshaw/Scripts/git_repos/internalvar-vs-obsunc/preprocess_obs3/dask-worker.o4169028\n",
      "/glade/u/home/jonahshaw/Scripts/git_repos/internalvar-vs-obsunc/preprocess_obs3/dask-worker.o4169035\n",
      "Removed: /glade/u/home/jonahshaw/Scripts/git_repos/internalvar-vs-obsunc/preprocess_obs3/dask-worker.o4169035\n",
      "/glade/u/home/jonahshaw/Scripts/git_repos/internalvar-vs-obsunc/preprocess_obs3/dask-worker.o4169013\n",
      "Removed: /glade/u/home/jonahshaw/Scripts/git_repos/internalvar-vs-obsunc/preprocess_obs3/dask-worker.o4169013\n",
      "/glade/u/home/jonahshaw/Scripts/git_repos/internalvar-vs-obsunc/preprocess_obs3/dask-worker.o4169030\n",
      "Removed: /glade/u/home/jonahshaw/Scripts/git_repos/internalvar-vs-obsunc/preprocess_obs3/dask-worker.o4169030\n",
      "/glade/u/home/jonahshaw/Scripts/git_repos/internalvar-vs-obsunc/preprocess_obs3/dask-worker.o4168981\n",
      "Removed: /glade/u/home/jonahshaw/Scripts/git_repos/internalvar-vs-obsunc/preprocess_obs3/dask-worker.o4168981\n",
      "/glade/u/home/jonahshaw/Scripts/git_repos/internalvar-vs-obsunc/preprocess_obs3/dask-worker.o4169040\n",
      "Removed: /glade/u/home/jonahshaw/Scripts/git_repos/internalvar-vs-obsunc/preprocess_obs3/dask-worker.o4169040\n",
      "/glade/u/home/jonahshaw/Scripts/git_repos/internalvar-vs-obsunc/preprocess_obs3/dask-worker.o4168985\n",
      "Removed: /glade/u/home/jonahshaw/Scripts/git_repos/internalvar-vs-obsunc/preprocess_obs3/dask-worker.o4168985\n",
      "/glade/u/home/jonahshaw/Scripts/git_repos/internalvar-vs-obsunc/preprocess_obs3/dask-worker.o4169032\n",
      "Removed: /glade/u/home/jonahshaw/Scripts/git_repos/internalvar-vs-obsunc/preprocess_obs3/dask-worker.o4169032\n",
      "/glade/u/home/jonahshaw/Scripts/git_repos/internalvar-vs-obsunc/preprocess_obs3/dask-worker.o4169039\n",
      "Removed: /glade/u/home/jonahshaw/Scripts/git_repos/internalvar-vs-obsunc/preprocess_obs3/dask-worker.o4169039\n",
      "/glade/u/home/jonahshaw/Scripts/git_repos/internalvar-vs-obsunc/preprocess_obs3/dask-worker.o4168989\n",
      "Removed: /glade/u/home/jonahshaw/Scripts/git_repos/internalvar-vs-obsunc/preprocess_obs3/dask-worker.o4168989\n",
      "/glade/u/home/jonahshaw/Scripts/git_repos/internalvar-vs-obsunc/preprocess_obs3/dask-worker.o4168976\n",
      "Removed: /glade/u/home/jonahshaw/Scripts/git_repos/internalvar-vs-obsunc/preprocess_obs3/dask-worker.o4168976\n",
      "/glade/u/home/jonahshaw/Scripts/git_repos/internalvar-vs-obsunc/preprocess_obs3/dask-worker.o4169037\n",
      "Removed: /glade/u/home/jonahshaw/Scripts/git_repos/internalvar-vs-obsunc/preprocess_obs3/dask-worker.o4169037\n",
      "/glade/u/home/jonahshaw/Scripts/git_repos/internalvar-vs-obsunc/preprocess_obs3/dask-worker.o4169033\n",
      "Removed: /glade/u/home/jonahshaw/Scripts/git_repos/internalvar-vs-obsunc/preprocess_obs3/dask-worker.o4169033\n",
      "/glade/u/home/jonahshaw/Scripts/git_repos/internalvar-vs-obsunc/preprocess_obs3/dask-worker.o4169017\n",
      "Removed: /glade/u/home/jonahshaw/Scripts/git_repos/internalvar-vs-obsunc/preprocess_obs3/dask-worker.o4169017\n",
      "/glade/u/home/jonahshaw/Scripts/git_repos/internalvar-vs-obsunc/preprocess_obs3/dask-worker.o4169041\n",
      "Removed: /glade/u/home/jonahshaw/Scripts/git_repos/internalvar-vs-obsunc/preprocess_obs3/dask-worker.o4169041\n",
      "/glade/u/home/jonahshaw/Scripts/git_repos/internalvar-vs-obsunc/preprocess_obs3/dask-worker.o4168990\n",
      "Removed: /glade/u/home/jonahshaw/Scripts/git_repos/internalvar-vs-obsunc/preprocess_obs3/dask-worker.o4168990\n",
      "/glade/u/home/jonahshaw/Scripts/git_repos/internalvar-vs-obsunc/preprocess_obs3/dask-worker.o4169068\n",
      "Removed: /glade/u/home/jonahshaw/Scripts/git_repos/internalvar-vs-obsunc/preprocess_obs3/dask-worker.o4169068\n",
      "/glade/u/home/jonahshaw/Scripts/git_repos/internalvar-vs-obsunc/preprocess_obs3/dask-worker.o4169034\n",
      "Removed: /glade/u/home/jonahshaw/Scripts/git_repos/internalvar-vs-obsunc/preprocess_obs3/dask-worker.o4169034\n",
      "/glade/u/home/jonahshaw/Scripts/git_repos/internalvar-vs-obsunc/preprocess_obs3/dask-worker.o4169022\n",
      "Removed: /glade/u/home/jonahshaw/Scripts/git_repos/internalvar-vs-obsunc/preprocess_obs3/dask-worker.o4169022\n",
      "/glade/u/home/jonahshaw/Scripts/git_repos/internalvar-vs-obsunc/preprocess_obs3/dask-worker.o4169020\n",
      "Removed: /glade/u/home/jonahshaw/Scripts/git_repos/internalvar-vs-obsunc/preprocess_obs3/dask-worker.o4169020\n",
      "/glade/u/home/jonahshaw/Scripts/git_repos/internalvar-vs-obsunc/preprocess_obs3/dask-worker.o4168983\n",
      "Removed: /glade/u/home/jonahshaw/Scripts/git_repos/internalvar-vs-obsunc/preprocess_obs3/dask-worker.o4168983\n",
      "/glade/u/home/jonahshaw/Scripts/git_repos/internalvar-vs-obsunc/preprocess_obs3/dask-worker.o4168987\n",
      "Removed: /glade/u/home/jonahshaw/Scripts/git_repos/internalvar-vs-obsunc/preprocess_obs3/dask-worker.o4168987\n",
      "/glade/u/home/jonahshaw/Scripts/git_repos/internalvar-vs-obsunc/preprocess_obs3/dask-worker.o4168975\n",
      "Removed: /glade/u/home/jonahshaw/Scripts/git_repos/internalvar-vs-obsunc/preprocess_obs3/dask-worker.o4168975\n",
      "/glade/u/home/jonahshaw/Scripts/git_repos/internalvar-vs-obsunc/preprocess_obs3/dask-worker.o4169018\n",
      "Removed: /glade/u/home/jonahshaw/Scripts/git_repos/internalvar-vs-obsunc/preprocess_obs3/dask-worker.o4169018\n",
      "/glade/u/home/jonahshaw/Scripts/git_repos/internalvar-vs-obsunc/preprocess_obs3/dask-worker.o4169012\n",
      "Removed: /glade/u/home/jonahshaw/Scripts/git_repos/internalvar-vs-obsunc/preprocess_obs3/dask-worker.o4169012\n",
      "/glade/u/home/jonahshaw/Scripts/git_repos/internalvar-vs-obsunc/preprocess_obs3/dask-worker.o4168977\n",
      "Removed: /glade/u/home/jonahshaw/Scripts/git_repos/internalvar-vs-obsunc/preprocess_obs3/dask-worker.o4168977\n",
      "/glade/u/home/jonahshaw/Scripts/git_repos/internalvar-vs-obsunc/preprocess_obs3/dask-worker.o4169016\n",
      "Removed: /glade/u/home/jonahshaw/Scripts/git_repos/internalvar-vs-obsunc/preprocess_obs3/dask-worker.o4169016\n",
      "/glade/u/home/jonahshaw/Scripts/git_repos/internalvar-vs-obsunc/preprocess_obs3/dask-worker.o4168978\n",
      "Removed: /glade/u/home/jonahshaw/Scripts/git_repos/internalvar-vs-obsunc/preprocess_obs3/dask-worker.o4168978\n",
      "/glade/u/home/jonahshaw/Scripts/git_repos/internalvar-vs-obsunc/preprocess_obs3/dask-worker.o4169021\n",
      "Removed: /glade/u/home/jonahshaw/Scripts/git_repos/internalvar-vs-obsunc/preprocess_obs3/dask-worker.o4169021\n",
      "/glade/u/home/jonahshaw/Scripts/git_repos/internalvar-vs-obsunc/preprocess_obs3/dask-worker.o4169029\n",
      "Removed: /glade/u/home/jonahshaw/Scripts/git_repos/internalvar-vs-obsunc/preprocess_obs3/dask-worker.o4169029\n",
      "/glade/u/home/jonahshaw/Scripts/git_repos/internalvar-vs-obsunc/preprocess_obs3/dask-worker.o4168984\n",
      "Removed: /glade/u/home/jonahshaw/Scripts/git_repos/internalvar-vs-obsunc/preprocess_obs3/dask-worker.o4168984\n",
      "/glade/u/home/jonahshaw/Scripts/git_repos/internalvar-vs-obsunc/preprocess_obs3/dask-worker.o4169011\n",
      "Removed: /glade/u/home/jonahshaw/Scripts/git_repos/internalvar-vs-obsunc/preprocess_obs3/dask-worker.o4169011\n"
     ]
    }
   ],
   "source": [
    "import subprocess\n",
    "\n",
    "for file_path in daskworker_list:\n",
    "    print(file_path)\n",
    "    try:\n",
    "        subprocess.run(['rm', '-f', file_path], check=True)\n",
    "        print(f\"Removed: {file_path}\")\n",
    "    except subprocess.CalledProcessError as e:\n",
    "        print(f\"Error removing {file_path}: {e}\")\n",
    "    # break\n",
    "        "
   ]
  },
  {
   "cell_type": "markdown",
   "id": "7effbfe4",
   "metadata": {},
   "source": []
  }
 ],
 "metadata": {
  "kernelspec": {
   "display_name": "py_xagg",
   "language": "python",
   "name": "python3"
  },
  "language_info": {
   "codemirror_mode": {
    "name": "ipython",
    "version": 3
   },
   "file_extension": ".py",
   "mimetype": "text/x-python",
   "name": "python",
   "nbconvert_exporter": "python",
   "pygments_lexer": "ipython3",
   "version": "3.12.5"
  }
 },
 "nbformat": 4,
 "nbformat_minor": 5
}
