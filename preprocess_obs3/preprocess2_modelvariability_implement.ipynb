{
 "cells": [
  {
   "cell_type": "markdown",
   "id": "9d5702ab-4316-47a2-af40-56d7ce8ccb57",
   "metadata": {},
   "source": [
    "# Process gridded CMIP6 model data into variability data"
   ]
  },
  {
   "cell_type": "markdown",
   "id": "18476b97-1df5-45f3-a446-f25bcbe6a735",
   "metadata": {},
   "source": [
    "__1. Process the gridded temperature data into timeseries for each model.__\n",
    "\n",
    "Resample for time periods 2-120 years (to compare with 1900-2023 observations) to generate envelopes of internal variability for each region and each model.  \n",
    "\n",
    "- Output is a dataArray for each model with indexed by time period length (3-120 years) and IPCC region containing a 95% confidence interval on unforced TAS trends.\n"
   ]
  },
  {
   "cell_type": "markdown",
   "id": "f1a0c666-c0bf-4014-9973-d6e6bd8d1298",
   "metadata": {},
   "source": [
    "Nathan notes that these models do the best job in CONUS:  MPI-ESM, GFDL-ESM2M, CESM1-CAM5, CanESM2."
   ]
  },
  {
   "cell_type": "markdown",
   "id": "bb8e0e42-e328-46dd-884a-4259b363feda",
   "metadata": {},
   "source": [
    "For now, I will create my code for the CESM1 and MPI models so that it can be generalized easily. I can pull some code from my climatetrend_uncertainty repository (climatetrend_uncertainty/initial_code/PIC_timeseries_preproc.ipynb)."
   ]
  },
  {
   "cell_type": "markdown",
   "id": "6ede891f-af88-4e6d-90de-32be78682d2b",
   "metadata": {},
   "source": [
    "## Code!"
   ]
  },
  {
   "cell_type": "code",
   "execution_count": 1,
   "id": "b694a917-eb11-4e92-8b10-7ffe469b05af",
   "metadata": {},
   "outputs": [],
   "source": [
    "import numpy as np\n",
    "import xarray as xr\n",
    "import pandas as pd\n",
    "import matplotlib.pyplot as plt\n",
    "import os\n",
    "import glob\n",
    "\n",
    "%matplotlib inline"
   ]
  },
  {
   "cell_type": "markdown",
   "id": "6d685127-4e81-4410-b475-006ba5585056",
   "metadata": {},
   "source": [
    "__Processed Data directory:__  \n",
    "\n",
    "Time series of TAS for each IPCC region."
   ]
  },
  {
   "cell_type": "code",
   "execution_count": 2,
   "id": "6f01b30d-895e-47ae-a3fd-5c38913b07b3",
   "metadata": {},
   "outputs": [],
   "source": [
    "pic_tseries_dir = '/glade/u/home/jonahshaw/w/trend_uncertainty/nathan/CMIP6_PIC/'"
   ]
  },
  {
   "cell_type": "markdown",
   "id": "36601876-01f3-4154-9c73-ff1fadf49ebd",
   "metadata": {},
   "source": [
    "#### Collect CESM1 PIC file paths."
   ]
  },
  {
   "cell_type": "code",
   "execution_count": 3,
   "id": "508bc084-4987-4a53-a13d-90da98a69603",
   "metadata": {},
   "outputs": [],
   "source": [
    "# I need to go from the CAM output variables to the CMOR/CMIP standard names.\n",
    "cesm1_cmor_var_dict = {'ts':'TS','tas':'TREFHT','psl':'PSL'}"
   ]
  },
  {
   "cell_type": "code",
   "execution_count": 4,
   "id": "e91f94dc-0594-42e2-8c71-e7c3d00fd037",
   "metadata": {},
   "outputs": [],
   "source": [
    "cesm1_dir = 'CESM1/xagg/'\n",
    "\n",
    "cesm1_pic_tas_files = glob.glob('%s/%s/*%s.?????????????.nc' % (pic_tseries_dir,cesm1_dir,cesm1_cmor_var_dict['tas']))\n",
    "cesm1_pic_tas_files.sort()"
   ]
  },
  {
   "cell_type": "code",
   "execution_count": 5,
   "id": "2dc98cb2-3569-428a-8133-09725308da67",
   "metadata": {},
   "outputs": [],
   "source": [
    "mpi_dir = 'MPI-GE/xagg/'\n",
    "\n",
    "mpi_pic_tas_files = glob.glob('%s/%s/*%s*r001i1850p3_??????-??????.nc' % (pic_tseries_dir,mpi_dir,'tas'))\n",
    "mpi_pic_tas_files.sort()"
   ]
  },
  {
   "cell_type": "code",
   "execution_count": 6,
   "id": "e5c3a2c4-33fc-4eb8-a30f-406d3e2ffaff",
   "metadata": {},
   "outputs": [],
   "source": [
    "canesm2_dir = 'CanESM2/xagg/'\n",
    "\n",
    "canesm2_pic_tas_files = glob.glob('%s/%s/*%s*r1i1p1_??????-??????.nc' % (pic_tseries_dir,canesm2_dir,'tas'))\n",
    "canesm2_pic_tas_files.sort()"
   ]
  },
  {
   "cell_type": "code",
   "execution_count": 7,
   "id": "0fc31369-6cf0-4839-b6b2-209dae055b86",
   "metadata": {},
   "outputs": [],
   "source": [
    "esm2m_dir = 'ESM2M/xagg/'\n",
    "\n",
    "esm2m_pic_tas_files = glob.glob('%s/%s/*%s*r1i1p1_??????-??????.nc' % (pic_tseries_dir,esm2m_dir,'tas'))\n",
    "esm2m_pic_tas_files.sort()"
   ]
  },
  {
   "cell_type": "markdown",
   "id": "b3cfe0ac-40c3-4739-bd4c-ceb1f47c156c",
   "metadata": {},
   "source": [
    "### Process time series into unforced trends as a function of trend duration"
   ]
  },
  {
   "cell_type": "markdown",
   "id": "120a9157-54f2-4038-8fb9-e1428ee0371e",
   "metadata": {},
   "source": [
    "Using code from:  \n",
    "\n",
    "trend_uncertainty/PIC_trend_preproc.ipynb"
   ]
  },
  {
   "cell_type": "markdown",
   "id": "61854763-36ab-48f7-b297-e0b8cb1c371b",
   "metadata": {},
   "source": [
    "__Define functions:__"
   ]
  },
  {
   "cell_type": "code",
   "execution_count": 8,
   "id": "96c62515-82f9-4d1c-b476-4181a92a264b",
   "metadata": {},
   "outputs": [],
   "source": [
    "def get_trends_allstartyears(data,duration,startyears,dim='year'):\n",
    "    '''\n",
    "    Calculate: \n",
    "    a. trends of a given duration\n",
    "    '''\n",
    "    \n",
    "    description = 'Trends for an unforced Pre-Industrial Control simulation sampled by timeseries startyear and duration.'\n",
    "    \n",
    "    # Initialize list to save to\n",
    "    trends_list = []\n",
    "    \n",
    "    for i,startyear in enumerate(startyears):\n",
    "        \n",
    "        _startyr = startyear\n",
    "        _endyr   = startyear + duration - 1\n",
    "\n",
    "        _tsel = data.sel(year=slice(_startyr,_endyr)) # index differently here because the dates are different\n",
    "\n",
    "        # Calculate the slope        \n",
    "        _tsel_polyfit = _tsel.polyfit(dim=dim,deg=1)['polyfit_coefficients'].sel(degree=1)\n",
    "        _tsel_slopes  = _tsel_polyfit.drop_vars('degree')\n",
    "        \n",
    "        trends_list.append(_tsel_slopes.assign_coords({'startyear':startyear}).expand_dims('startyear'))\n",
    "        \n",
    "    out = xr.concat(trends_list,dim='startyear').assign_coords({'duration':duration}).expand_dims('duration')\n",
    "        \n",
    "    return out"
   ]
  },
  {
   "cell_type": "code",
   "execution_count": 9,
   "id": "ce9656e5-2ad7-464c-b48e-a19cb4ff59db",
   "metadata": {},
   "outputs": [],
   "source": [
    "def compute_trends_wrapper(data,durations=np.arange(5,81,),**kwargs):\n",
    "    '''\n",
    "    Wrapper for running 'get_allvar_allstartyears' for different durations.\n",
    "    Setup with correct startyears and concatenate at the end.\n",
    "    '''\n",
    "    \n",
    "    first_year = data['year'][0]\n",
    "    last_year  = data['year'][-1]\n",
    "\n",
    "    trends_allstartyear_allduration_list = []\n",
    "\n",
    "    for duration in durations:\n",
    "        print(duration,end=' ')\n",
    "        _startyears = np.arange(first_year,last_year+2-duration,1)\n",
    "\n",
    "        allvar_onedur_ds = get_trends_allstartyears(data,\n",
    "                                                    duration=duration,\n",
    "                                                    startyears=_startyears,\n",
    "                                                    **kwargs\n",
    "                                                   )\n",
    "        \n",
    "        trends_allstartyear_allduration_list.append(allvar_onedur_ds)\n",
    "        \n",
    "    trends_allstartyear_allduration_ds = xr.concat(trends_allstartyear_allduration_list,dim='duration')\n",
    "        \n",
    "    # Add metadata\n",
    "    trends_allstartyear_allduration_ds = trends_allstartyear_allduration_ds.assign_coords({\"RegionName\":   (\"RegionIndex\", data.RegionName)})\n",
    "    trends_allstartyear_allduration_ds = trends_allstartyear_allduration_ds.assign_coords({\"RegionAbbrev\": (\"RegionIndex\", data.RegionAbbrev)})\n",
    "\n",
    "    trends_allstartyear_allduration_ds.name = 'TAS_trends'\n",
    "    \n",
    "    return trends_allstartyear_allduration_ds"
   ]
  },
  {
   "cell_type": "markdown",
   "id": "71b6eba9-cedd-4820-b214-c52c7c9cd9a0",
   "metadata": {},
   "source": [
    "### Compute trends for all durations and save"
   ]
  },
  {
   "cell_type": "markdown",
   "id": "df23515a-7859-4f63-ba91-6bb352883580",
   "metadata": {},
   "source": [
    "#### CESM1-LE"
   ]
  },
  {
   "cell_type": "markdown",
   "id": "0699f5ea-a612-4024-afa3-665486d46023",
   "metadata": {},
   "source": [
    "Shifting the months up by one so that December fills the spot of January. Then I want to average in a way that masks if a nan is present."
   ]
  },
  {
   "cell_type": "code",
   "execution_count": 10,
   "id": "e7791502-1d35-4d84-9bc1-f8ffb6ceb0a9",
   "metadata": {},
   "outputs": [],
   "source": [
    "cesm1_pic_tas_ds = xr.open_mfdataset(cesm1_pic_tas_files,chunks={'RegionIndex':1})"
   ]
  },
  {
   "cell_type": "markdown",
   "id": "e20ebd5c-2a3e-4025-9513-1e34e99a4d4d",
   "metadata": {},
   "source": [
    "Standard calendar year definition (January through December)."
   ]
  },
  {
   "cell_type": "code",
   "execution_count": 11,
   "id": "6a6748f7-d12f-4ef2-a9db-259a6c696e94",
   "metadata": {},
   "outputs": [
    {
     "name": "stdout",
     "output_type": "stream",
     "text": [
      "CPU times: user 50.8 s, sys: 2.4 s, total: 53.2 s\n",
      "Wall time: 51.4 s\n"
     ]
    }
   ],
   "source": [
    "%%time\n",
    "\n",
    "# Compute annual average\n",
    "cesm1_pic_tas_annual = cesm1_pic_tas_ds[cesm1_cmor_var_dict['tas']].groupby('time.year').mean('time')\n",
    "\n",
    "cesm1_pic_tas_annual = cesm1_pic_tas_annual.compute()"
   ]
  },
  {
   "cell_type": "code",
   "execution_count": 12,
   "id": "ed313110-ba63-4542-8651-99a8ad494462",
   "metadata": {},
   "outputs": [
    {
     "name": "stdout",
     "output_type": "stream",
     "text": [
      "CPU times: user 53.6 s, sys: 1.84 s, total: 55.5 s\n",
      "Wall time: 54 s\n"
     ]
    }
   ],
   "source": [
    "%%time\n",
    "\n",
    "cesm1_pic_tas_ensoshift = cesm1_pic_tas_ds[cesm1_cmor_var_dict['tas']].shift(time=1).groupby('time.year').mean(dim='time',skipna=False)\n",
    "\n",
    "cesm1_pic_tas_annual_ensoshift = cesm1_pic_tas_ensoshift.isel(year=slice(1,None)).compute()"
   ]
  },
  {
   "cell_type": "markdown",
   "id": "2a7f9aca-d8b4-494f-811e-8fedd53ee504",
   "metadata": {},
   "source": [
    "We see a small difference in the Greenland Area when the different sampling techniques are used."
   ]
  },
  {
   "cell_type": "code",
   "execution_count": 13,
   "id": "2006fd82-2d2a-49c4-b9c4-53427c06f65f",
   "metadata": {},
   "outputs": [
    {
     "data": {
      "text/plain": [
       "[<matplotlib.lines.Line2D at 0x7f93f0545650>]"
      ]
     },
     "execution_count": 13,
     "metadata": {},
     "output_type": "execute_result"
    },
    {
     "data": {
      "image/png": "[encoded data removed]",
      "text/plain": [
       "<Figure size 432x288 with 1 Axes>"
      ]
     },
     "metadata": {
      "needs_background": "light"
     },
     "output_type": "display_data"
    }
   ],
   "source": [
    "cesm1_pic_tas_annual.isel(RegionIndex=0,year=slice(None,100)).plot()\n",
    "\n",
    "cesm1_pic_tas_annual_ensoshift.isel(RegionIndex=0,year=slice(None,100)).plot()"
   ]
  },
  {
   "cell_type": "markdown",
   "id": "1558652c-986a-4c45-a2d3-7f1e4782b07a",
   "metadata": {},
   "source": [
    "I see a small difference Equatorial Pacific too. So maybe this effect doesn't matter? At least for this model and its representation of ENSO?"
   ]
  },
  {
   "cell_type": "code",
   "execution_count": 14,
   "id": "0d3baca8-5865-4728-82c3-75ac29a63ca7",
   "metadata": {},
   "outputs": [
    {
     "data": {
      "text/plain": [
       "[<matplotlib.lines.Line2D at 0x7f93cc432890>]"
      ]
     },
     "execution_count": 14,
     "metadata": {},
     "output_type": "execute_result"
    },
    {
     "data": {
      "image/png": "[encoded data removed]",
      "text/plain": [
       "<Figure size 432x288 with 1 Axes>"
      ]
     },
     "metadata": {
      "needs_background": "light"
     },
     "output_type": "display_data"
    }
   ],
   "source": [
    "cesm1_pic_tas_annual.isel(RegionIndex=48,year=slice(None,100)).plot()\n",
    "\n",
    "cesm1_pic_tas_annual_ensoshift.isel(RegionIndex=48,year=slice(None,100)).plot()"
   ]
  },
  {
   "cell_type": "code",
   "execution_count": 21,
   "id": "53fd326b-fc02-41bf-881b-0e60b96174cd",
   "metadata": {},
   "outputs": [
    {
     "name": "stdout",
     "output_type": "stream",
     "text": [
      "3 4 5 6 7 8 9 10 11 12 13 14 15 16 17 18 19 20 21 22 23 24 25 26 27 28 29 30 31 32 33 34 35 36 37 38 39 40 41 42 43 44 45 46 47 48 49 50 51 52 53 54 55 56 57 58 59 60 61 62 63 64 65 66 67 68 69 70 71 72 73 74 75 76 77 78 79 80 81 82 83 84 85 86 87 88 89 90 91 92 93 94 95 96 97 98 99 100 101 102 103 104 105 106 107 108 109 110 111 112 113 114 115 116 117 118 119 120 121 CPU times: user 12min 26s, sys: 4.5 s, total: 12min 30s\n",
      "Wall time: 12min 31s\n"
     ]
    }
   ],
   "source": [
    "%%time\n",
    "\n",
    "cesm1_pic_trends_all = compute_trends_wrapper(cesm1_pic_tas_annual, durations=np.arange(3,122,1))"
   ]
  },
  {
   "cell_type": "markdown",
   "id": "a7a8b782-6ceb-4633-a258-ed217995544d",
   "metadata": {},
   "source": [
    "~12 minutes is totally reasonable!"
   ]
  },
  {
   "cell_type": "code",
   "execution_count": 22,
   "id": "3f952221-b6a9-4f38-8d89-d04a948a3006",
   "metadata": {},
   "outputs": [],
   "source": [
    "cesm1_pic_trends_all.to_netcdf('%s/%s/b.e11.B1850C5CN.f09_g16.005.cam.h0.TREFHT.1900trends.040001-220012.nc' % (pic_tseries_dir, cesm1_dir))\n",
    "del cesm1_pic_trends_all, cesm1_pic_tas_annual"
   ]
  },
  {
   "cell_type": "code",
   "execution_count": 23,
   "id": "c302f7d5-a341-43cd-b060-032e3da995f6",
   "metadata": {},
   "outputs": [
    {
     "name": "stdout",
     "output_type": "stream",
     "text": [
      "3 4 5 6 7 8 9 10 11 12 13 14 15 16 17 18 19 20 21 22 23 24 25 26 27 28 29 30 31 32 33 34 35 36 37 38 39 40 41 42 43 44 45 46 47 48 49 50 51 52 53 54 55 56 57 58 59 60 61 62 63 64 65 66 67 68 69 70 71 72 73 74 75 76 77 78 79 80 81 82 83 84 85 86 87 88 89 90 91 92 93 94 95 96 97 98 99 100 101 102 103 104 105 106 107 108 109 110 111 112 113 114 115 116 117 118 119 120 121 CPU times: user 12min 23s, sys: 3.2 s, total: 12min 26s\n",
      "Wall time: 12min 26s\n"
     ]
    }
   ],
   "source": [
    "%%time\n",
    "\n",
    "cesm1_pic_ensoshift_trends_all = compute_trends_wrapper(cesm1_pic_tas_annual_ensoshift, durations=np.arange(3,122,1))"
   ]
  },
  {
   "cell_type": "code",
   "execution_count": 24,
   "id": "c390200b-254c-4ec4-a20a-e3f388c6a247",
   "metadata": {},
   "outputs": [],
   "source": [
    "cesm1_pic_ensoshift_trends_all.to_netcdf('%s/%s/b.e11.B1850C5CN.f09_g16.005.cam.h0.TREFHT.ENSOshift_1900trends.040001-220012.nc' % (pic_tseries_dir,cesm1_dir))\n",
    "del cesm1_pic_ensoshift_trends_all, cesm1_pic_tas_annual_ensoshift"
   ]
  },
  {
   "cell_type": "markdown",
   "id": "ea4c6f3e-2d25-4168-a68c-c116a55df668",
   "metadata": {},
   "source": [
    "#### MPI-GE"
   ]
  },
  {
   "cell_type": "code",
   "execution_count": 25,
   "id": "2b796f84-1100-4c41-bf3a-4390116771fe",
   "metadata": {},
   "outputs": [],
   "source": [
    "mpi_pic_tas_ds = xr.open_mfdataset(mpi_pic_tas_files,chunks={'RegionIndex':1},use_cftime=True)"
   ]
  },
  {
   "cell_type": "code",
   "execution_count": 26,
   "id": "dbe75861-d48d-4288-9c6c-abe1623bcc42",
   "metadata": {},
   "outputs": [
    {
     "name": "stdout",
     "output_type": "stream",
     "text": [
      "CPU times: user 54.7 s, sys: 3.22 s, total: 57.9 s\n",
      "Wall time: 56.1 s\n"
     ]
    }
   ],
   "source": [
    "%%time\n",
    "\n",
    "# Compute annual average\n",
    "mpi_pic_tas_annual = mpi_pic_tas_ds['tas'].groupby('time.year').mean('time')\n",
    "\n",
    "mpi_pic_tas_annual = mpi_pic_tas_annual.compute()"
   ]
  },
  {
   "cell_type": "code",
   "execution_count": 27,
   "id": "59449c5f-16cb-45ef-baad-0d31b4a1036b",
   "metadata": {},
   "outputs": [
    {
     "name": "stdout",
     "output_type": "stream",
     "text": [
      "3 4 5 6 7 8 9 10 11 12 13 14 15 16 17 18 19 20 21 22 23 24 25 26 27 28 29 30 31 32 33 34 35 36 37 38 39 40 41 42 43 44 45 46 47 48 49 50 51 52 53 54 55 56 57 58 59 60 61 62 63 64 65 66 67 68 69 70 71 72 73 74 75 76 77 78 79 80 81 82 83 84 85 86 87 88 89 90 91 92 93 94 95 96 97 98 99 100 101 102 103 104 105 106 107 108 109 110 111 112 113 114 115 116 117 118 119 120 121 CPU times: user 13min 26s, sys: 2.09 s, total: 13min 28s\n",
      "Wall time: 13min 28s\n"
     ]
    }
   ],
   "source": [
    "%%time\n",
    "\n",
    "mpi_pic_trends_all = compute_trends_wrapper(mpi_pic_tas_annual,durations=np.arange(3,122,1))"
   ]
  },
  {
   "cell_type": "code",
   "execution_count": 28,
   "id": "68ba3eb4-fc7b-4cb4-ab3b-7a5da7d57e26",
   "metadata": {},
   "outputs": [],
   "source": [
    "mpi_pic_trends_all.to_netcdf('%s/%s/tas_Amon_MPI-ESM_piControl_r001i1850p3.1900trends.185001-385012.nc' % (pic_tseries_dir,mpi_dir))"
   ]
  },
  {
   "cell_type": "code",
   "execution_count": 29,
   "id": "95cfec85-dbf4-4d9f-b9c5-bfa0e75c3875",
   "metadata": {},
   "outputs": [],
   "source": [
    "del mpi_pic_trends_all,mpi_pic_tas_annual,mpi_pic_tas_ds"
   ]
  },
  {
   "cell_type": "markdown",
   "id": "82bf6ca6-b2ab-4e3c-8891-e3b0eb6f4397",
   "metadata": {},
   "source": [
    "#### CanESM2"
   ]
  },
  {
   "cell_type": "code",
   "execution_count": 30,
   "id": "efcb1639-30df-48d3-bf55-2c2b7bd532f2",
   "metadata": {},
   "outputs": [],
   "source": [
    "canesm2_pic_tas_ds = xr.open_mfdataset(canesm2_pic_tas_files,chunks={'RegionIndex':1},use_cftime=True)"
   ]
  },
  {
   "cell_type": "code",
   "execution_count": 31,
   "id": "9cbf038c-ae62-4b18-88b0-1b963578be1e",
   "metadata": {},
   "outputs": [
    {
     "name": "stdout",
     "output_type": "stream",
     "text": [
      "CPU times: user 26.6 s, sys: 967 ms, total: 27.6 s\n",
      "Wall time: 26.7 s\n"
     ]
    }
   ],
   "source": [
    "%%time\n",
    "\n",
    "# Compute annual average\n",
    "canesm2_pic_tas_annual = canesm2_pic_tas_ds['tas'].groupby('time.year').mean('time')\n",
    "\n",
    "canesm2_pic_tas_annual = canesm2_pic_tas_annual.compute()"
   ]
  },
  {
   "cell_type": "code",
   "execution_count": 32,
   "id": "6d1641b9-58a7-4338-ac9d-9dc91cc3bc87",
   "metadata": {},
   "outputs": [
    {
     "name": "stdout",
     "output_type": "stream",
     "text": [
      "3 4 5 6 7 8 9 10 11 12 13 14 15 16 17 18 19 20 21 22 23 24 25 26 27 28 29 30 31 32 33 34 35 36 37 38 39 40 41 42 43 44 45 46 47 48 49 50 51 52 53 54 55 56 57 58 59 60 61 62 63 64 65 66 67 68 69 70 71 72 73 74 75 76 77 78 79 80 81 82 83 84 85 86 87 88 89 90 91 92 93 94 95 96 97 98 99 100 101 102 103 104 105 106 107 108 109 110 111 112 113 114 115 116 117 118 119 120 121 CPU times: user 6min 23s, sys: 679 ms, total: 6min 23s\n",
      "Wall time: 6min 23s\n"
     ]
    }
   ],
   "source": [
    "%%time\n",
    "\n",
    "canesm2_pic_trends_all = compute_trends_wrapper(canesm2_pic_tas_annual,durations=np.arange(3,122,1))"
   ]
  },
  {
   "cell_type": "code",
   "execution_count": 33,
   "id": "6f7c7008-9641-4c00-8834-f16381a760f9",
   "metadata": {},
   "outputs": [],
   "source": [
    "canesm2_pic_trends_all.to_netcdf('%s/%s/tas_Amon_CanESM2_piControl_r1i1p1.1900trends.201501-301012.nc' % (pic_tseries_dir,canesm2_dir))"
   ]
  },
  {
   "cell_type": "code",
   "execution_count": 34,
   "id": "e1ec0f51",
   "metadata": {},
   "outputs": [],
   "source": [
    "del canesm2_pic_trends_all, canesm2_pic_tas_annual"
   ]
  },
  {
   "cell_type": "markdown",
   "id": "599962a9-f60b-49fb-af5a-b4a3542fd9ff",
   "metadata": {},
   "source": [
    "#### ESM2M"
   ]
  },
  {
   "cell_type": "code",
   "execution_count": 35,
   "id": "28bcbc91-d10e-4e5f-ba8b-478c673ed63b",
   "metadata": {},
   "outputs": [],
   "source": [
    "esm2m_pic_tas_ds = xr.open_mfdataset(esm2m_pic_tas_files,chunks={'RegionIndex':1},use_cftime=True)"
   ]
  },
  {
   "cell_type": "code",
   "execution_count": 36,
   "id": "5babab91-c420-467b-8a9a-9bc35b4ee054",
   "metadata": {},
   "outputs": [
    {
     "name": "stdout",
     "output_type": "stream",
     "text": [
      "CPU times: user 31.8 s, sys: 1.73 s, total: 33.5 s\n",
      "Wall time: 30.5 s\n"
     ]
    }
   ],
   "source": [
    "%%time\n",
    "\n",
    "# Compute annual average\n",
    "esm2m_pic_tas_annual = esm2m_pic_tas_ds['tas'].groupby('time.year').mean('time')\n",
    "\n",
    "esm2m_pic_tas_annual = esm2m_pic_tas_annual.compute()"
   ]
  },
  {
   "cell_type": "code",
   "execution_count": 37,
   "id": "67bf26c7-f78a-47e6-a958-bda5ac417ef1",
   "metadata": {},
   "outputs": [
    {
     "name": "stdout",
     "output_type": "stream",
     "text": [
      "3 4 5 6 7 8 9 10 11 12 13 14 15 16 17 18 19 20 21 22 23 24 25 26 27 28 29 30 31 32 33 34 35 36 37 38 39 40 41 42 43 44 45 46 47 48 49 50 51 52 53 54 55 56 57 58 59 60 61 62 63 64 65 66 67 68 69 70 71 72 73 74 75 76 77 78 79 80 81 82 83 84 85 86 87 88 89 90 91 92 93 94 95 96 97 98 99 100 101 102 103 104 105 106 107 108 109 110 111 112 113 114 115 116 117 118 119 120 121 CPU times: user 3min 5s, sys: 431 ms, total: 3min 6s\n",
      "Wall time: 3min 6s\n"
     ]
    }
   ],
   "source": [
    "%%time\n",
    "\n",
    "esm2m_pic_trends_all = compute_trends_wrapper(esm2m_pic_tas_annual,durations=np.arange(3,122,1))"
   ]
  },
  {
   "cell_type": "code",
   "execution_count": 38,
   "id": "5fbbf282-6633-4f22-aa7f-4db83dc760de",
   "metadata": {},
   "outputs": [],
   "source": [
    "esm2m_pic_trends_all.to_netcdf('%s/%s/tas_Amon_GFDL-ESM2M_piControl_r1i1p1.1900trends.000101-050012.nc' % (pic_tseries_dir,esm2m_dir))"
   ]
  },
  {
   "cell_type": "code",
   "execution_count": 39,
   "id": "82ccee7b",
   "metadata": {},
   "outputs": [
    {
     "ename": "NameError",
     "evalue": "name 'esm2m_pic_trends_all' is not defined",
     "output_type": "error",
     "traceback": [
      "\u001b[0;31m---------------------------------------------------------------------------\u001b[0m",
      "\u001b[0;31mNameError\u001b[0m                                 Traceback (most recent call last)",
      "\u001b[0;32m<ipython-input-39-24b5dcde09b6>\u001b[0m in \u001b[0;36m<module>\u001b[0;34m\u001b[0m\n\u001b[0;32m----> 1\u001b[0;31m \u001b[0;32mdel\u001b[0m \u001b[0mesm2m_pic_trends_all\u001b[0m\u001b[0;34m,\u001b[0m \u001b[0mesm2m_pic_trends_all\u001b[0m\u001b[0;34m,\u001b[0m \u001b[0mesm2m_pic_tas_annual\u001b[0m\u001b[0;34m\u001b[0m\u001b[0;34m\u001b[0m\u001b[0m\n\u001b[0m",
      "\u001b[0;31mNameError\u001b[0m: name 'esm2m_pic_trends_all' is not defined"
     ]
    }
   ],
   "source": [
    "del esm2m_pic_trends_all, esm2m_pic_tas_annual"
   ]
  },
  {
   "cell_type": "code",
   "execution_count": null,
   "id": "25b246da-cc7a-4f81-80f7-a085be52579e",
   "metadata": {},
   "outputs": [],
   "source": []
  }
 ],
 "metadata": {
  "kernelspec": {
   "display_name": "py_xagg",
   "language": "python",
   "name": "python3"
  },
  "language_info": {
   "codemirror_mode": {
    "name": "ipython",
    "version": 3
   },
   "file_extension": ".py",
   "mimetype": "text/x-python",
   "name": "python",
   "nbconvert_exporter": "python",
   "pygments_lexer": "ipython3",
   "version": "3.7.8"
  }
 },
 "nbformat": 4,
 "nbformat_minor": 5
}
