{
 "cells": [
  {
   "cell_type": "markdown",
   "id": "9d5702ab-4316-47a2-af40-56d7ce8ccb57",
   "metadata": {},
   "source": [
    "# Process gridded observation product data into variability data"
   ]
  },
  {
   "cell_type": "markdown",
   "id": "b048d54c-261d-4701-ae7f-101ac19d02ab",
   "metadata": {},
   "source": [
    "__0. Is already at 5x5 deg resolution.__\n",
    "\n",
    "__1. Use Dask to perform resampling for variability spatially.__\n",
    "\n",
    "Resample for time periods 2-63 years (to compare with 1960-2023 observations) to generate envelopes of internal variability for each region and each model.  \n",
    "\n",
    "- Output is a dataArray for each model with indexed by time period length (2-63 years) and lat-lon gridcell containing unforced TAS trends."
   ]
  },
  {
   "cell_type": "markdown",
   "id": "f1a0c666-c0bf-4014-9973-d6e6bd8d1298",
   "metadata": {},
   "source": [
    "Nathan notes that these models do the best job in CONUS:  MPI-ESM, GFDL-ESM2M, CESM1-CAM5, CanESM2."
   ]
  },
  {
   "cell_type": "markdown",
   "id": "bb8e0e42-e328-46dd-884a-4259b363feda",
   "metadata": {},
   "source": [
    "For now, I will create my code for the CESM1 and MPI models so that it can be generalized easily. I can pull some code from my climatetrend_uncertainty repository (climatetrend_uncertainty/initial_code/PIC_timeseries_preproc.ipynb)."
   ]
  },
  {
   "cell_type": "markdown",
   "id": "6ede891f-af88-4e6d-90de-32be78682d2b",
   "metadata": {},
   "source": [
    "## Code!"
   ]
  },
  {
   "cell_type": "markdown",
   "id": "8bfd8f11-953b-4585-8b58-309c48c65d59",
   "metadata": {},
   "source": [
    "Most important taken from: trend_uncertainty/spatialdata_preproc.ipynb"
   ]
  },
  {
   "cell_type": "code",
   "execution_count": 5,
   "id": "d6e63128-aee3-40e9-b9c9-bffdab779e11",
   "metadata": {},
   "outputs": [],
   "source": [
    "import sys,warnings\n",
    "# Add common resources folder to path\n",
    "sys.path.append('/glade/u/home/jonahshaw/Scripts/git_repos/internalvar-vs-obsunc/')\n",
    "sys.path.append('/glade/u/home/jonahshaw/Scripts/git_repos/internalvar-vs-obsunc/Common/')\n",
    "\n",
    "from imports import (\n",
    "    np, xr, plt, sns, os,\n",
    "    glob, dask, xe, pd\n",
    "    )\n",
    "\n",
    "%matplotlib inline"
   ]
  },
  {
   "cell_type": "markdown",
   "id": "5778b34a-778a-4e38-a7fe-440b0a191d1f",
   "metadata": {},
   "source": [
    "### Get files."
   ]
  },
  {
   "cell_type": "markdown",
   "id": "aced05e4-9ff0-4f2c-b8db-b8eae119ac6f",
   "metadata": {},
   "source": [
    "__OBS-LENS Directory:__"
   ]
  },
  {
   "cell_type": "code",
   "execution_count": 9,
   "id": "f1737ac2-bfcf-4ac3-b77e-ba1b3e4bdac3",
   "metadata": {},
   "outputs": [],
   "source": [
    "gistemp_2x2_dir = '/glade/derecho/scratch/lenssen/data4jonah/GISTEMP_Ensemble_Jan2/'"
   ]
  },
  {
   "cell_type": "code",
   "execution_count": 2,
   "id": "204e42f1-9190-4100-ac8f-bc3b96a5d38e",
   "metadata": {},
   "outputs": [],
   "source": [
    "# gistemp_2x2_dir = '/glade/scratch/lenssen/data_for_jonah/GISTEMP_2x2/'\n",
    "# gistemp_5x5_dir = '/glade/scratch/lenssen/data_for_jonah/GISTEMP_5x5/'\n",
    "# hadcrut5_dir    = '/glade/scratch/lenssen/data_for_jonah/HadCRUT5/'"
   ]
  },
  {
   "cell_type": "markdown",
   "id": "2858d958-6cdb-4364-8f29-a3deb81d5c72",
   "metadata": {},
   "source": [
    "#### Collect GISTEMP 2x2 file paths."
   ]
  },
  {
   "cell_type": "code",
   "execution_count": 12,
   "id": "b71adb27-6f81-4514-8549-239bd54cfae1",
   "metadata": {},
   "outputs": [],
   "source": [
    "gistemp_2x2_files = glob.glob('%s/ensembleChunk_????.nc' % gistemp_2x2_dir)\n",
    "gistemp_2x2_files.sort()"
   ]
  },
  {
   "cell_type": "markdown",
   "id": "1c16f057-a020-44b7-b0bb-ca831b27f2ea",
   "metadata": {},
   "source": [
    "#### Get example HadCRUT file"
   ]
  },
  {
   "cell_type": "code",
   "execution_count": 21,
   "id": "49fdc52e-8424-4744-a745-77b0276cbc59",
   "metadata": {},
   "outputs": [],
   "source": [
    "hadcrut_proc_dir = '/glade/work/jonahshaw/trend_uncertainty/nathan/OBS_LENS/HadCRUT5/'\n",
    "hadcrut_ex_file  = 'HadCRUT.5.0.1.0.analysis.anomalies.54.5x5degSpatialTrends.196001-202012.nc'"
   ]
  },
  {
   "cell_type": "code",
   "execution_count": 22,
   "id": "7f934cc0-a5b6-45dc-b2e0-9060f890e46e",
   "metadata": {},
   "outputs": [],
   "source": [
    "hadcrut_ex_ds = xr.open_dataset('%s/%s' % (hadcrut_proc_dir,hadcrut_ex_file))"
   ]
  },
  {
   "cell_type": "code",
   "execution_count": 46,
   "id": "18244ea6-fa81-44e4-b52e-2afff5db6018",
   "metadata": {},
   "outputs": [],
   "source": [
    "def regrid(ds_in, ds_out, dr_in, method,regridder=None):\n",
    "    \"\"\"Convenience function for one-time regridding\"\"\"\n",
    "    if (regridder is None): # Can pass in a regridder to speed things up\n",
    "        regridder = xe.Regridder(ds_in, ds_out, method, periodic=True)\n",
    "    dr_out = regridder(dr_in)\n",
    "    return dr_out,regridder"
   ]
  },
  {
   "cell_type": "markdown",
   "id": "e5c1c4f2-b14e-4e68-b9a3-033df8472803",
   "metadata": {},
   "source": [
    "##### Regrid 2x2 GISTEMP data to 5x5 HadCRUT resolution"
   ]
  },
  {
   "cell_type": "code",
   "execution_count": 31,
   "id": "e7b240e4-fc05-46b5-b825-bcfba8761d54",
   "metadata": {},
   "outputs": [],
   "source": [
    "out_dir = '/glade/work/jonahshaw/trend_uncertainty/nathan/OBS_LENS/GISTEMP_2x2/20240217_5x5remap/'"
   ]
  },
  {
   "cell_type": "code",
   "execution_count": 75,
   "id": "03c5a4af-116a-4dc5-853e-588624c7b2a2",
   "metadata": {
    "collapsed": true,
    "jupyter": {
     "outputs_hidden": true
    }
   },
   "outputs": [
    {
     "name": "stdout",
     "output_type": "stream",
     "text": [
      "/glade/derecho/scratch/lenssen/data4jonah/GISTEMP_Ensemble_Jan2/ensembleChunk_0001.nc\n",
      "/glade/work/jonahshaw/trend_uncertainty/nathan/OBS_LENS/GISTEMP_2x2/20240217_5x5remap//ensembleChunk_0001.nc\n",
      "/glade/derecho/scratch/lenssen/data4jonah/GISTEMP_Ensemble_Jan2/ensembleChunk_0002.nc\n",
      "/glade/work/jonahshaw/trend_uncertainty/nathan/OBS_LENS/GISTEMP_2x2/20240217_5x5remap//ensembleChunk_0002.nc\n",
      "/glade/derecho/scratch/lenssen/data4jonah/GISTEMP_Ensemble_Jan2/ensembleChunk_0003.nc\n",
      "/glade/work/jonahshaw/trend_uncertainty/nathan/OBS_LENS/GISTEMP_2x2/20240217_5x5remap//ensembleChunk_0003.nc\n",
      "/glade/derecho/scratch/lenssen/data4jonah/GISTEMP_Ensemble_Jan2/ensembleChunk_0004.nc\n",
      "/glade/work/jonahshaw/trend_uncertainty/nathan/OBS_LENS/GISTEMP_2x2/20240217_5x5remap//ensembleChunk_0004.nc\n",
      "/glade/derecho/scratch/lenssen/data4jonah/GISTEMP_Ensemble_Jan2/ensembleChunk_0005.nc\n",
      "/glade/work/jonahshaw/trend_uncertainty/nathan/OBS_LENS/GISTEMP_2x2/20240217_5x5remap//ensembleChunk_0005.nc\n",
      "/glade/derecho/scratch/lenssen/data4jonah/GISTEMP_Ensemble_Jan2/ensembleChunk_0006.nc\n",
      "/glade/work/jonahshaw/trend_uncertainty/nathan/OBS_LENS/GISTEMP_2x2/20240217_5x5remap//ensembleChunk_0006.nc\n",
      "/glade/derecho/scratch/lenssen/data4jonah/GISTEMP_Ensemble_Jan2/ensembleChunk_0007.nc\n",
      "/glade/work/jonahshaw/trend_uncertainty/nathan/OBS_LENS/GISTEMP_2x2/20240217_5x5remap//ensembleChunk_0007.nc\n",
      "/glade/derecho/scratch/lenssen/data4jonah/GISTEMP_Ensemble_Jan2/ensembleChunk_0008.nc\n",
      "/glade/work/jonahshaw/trend_uncertainty/nathan/OBS_LENS/GISTEMP_2x2/20240217_5x5remap//ensembleChunk_0008.nc\n",
      "/glade/derecho/scratch/lenssen/data4jonah/GISTEMP_Ensemble_Jan2/ensembleChunk_0009.nc\n",
      "/glade/work/jonahshaw/trend_uncertainty/nathan/OBS_LENS/GISTEMP_2x2/20240217_5x5remap//ensembleChunk_0009.nc\n",
      "/glade/derecho/scratch/lenssen/data4jonah/GISTEMP_Ensemble_Jan2/ensembleChunk_0010.nc\n",
      "/glade/work/jonahshaw/trend_uncertainty/nathan/OBS_LENS/GISTEMP_2x2/20240217_5x5remap//ensembleChunk_0010.nc\n",
      "/glade/derecho/scratch/lenssen/data4jonah/GISTEMP_Ensemble_Jan2/ensembleChunk_0011.nc\n",
      "/glade/work/jonahshaw/trend_uncertainty/nathan/OBS_LENS/GISTEMP_2x2/20240217_5x5remap//ensembleChunk_0011.nc\n",
      "/glade/derecho/scratch/lenssen/data4jonah/GISTEMP_Ensemble_Jan2/ensembleChunk_0012.nc\n",
      "/glade/work/jonahshaw/trend_uncertainty/nathan/OBS_LENS/GISTEMP_2x2/20240217_5x5remap//ensembleChunk_0012.nc\n",
      "/glade/derecho/scratch/lenssen/data4jonah/GISTEMP_Ensemble_Jan2/ensembleChunk_0013.nc\n",
      "/glade/work/jonahshaw/trend_uncertainty/nathan/OBS_LENS/GISTEMP_2x2/20240217_5x5remap//ensembleChunk_0013.nc\n",
      "/glade/derecho/scratch/lenssen/data4jonah/GISTEMP_Ensemble_Jan2/ensembleChunk_0014.nc\n",
      "/glade/work/jonahshaw/trend_uncertainty/nathan/OBS_LENS/GISTEMP_2x2/20240217_5x5remap//ensembleChunk_0014.nc\n",
      "/glade/derecho/scratch/lenssen/data4jonah/GISTEMP_Ensemble_Jan2/ensembleChunk_0015.nc\n",
      "/glade/work/jonahshaw/trend_uncertainty/nathan/OBS_LENS/GISTEMP_2x2/20240217_5x5remap//ensembleChunk_0015.nc\n",
      "/glade/derecho/scratch/lenssen/data4jonah/GISTEMP_Ensemble_Jan2/ensembleChunk_0016.nc\n",
      "/glade/work/jonahshaw/trend_uncertainty/nathan/OBS_LENS/GISTEMP_2x2/20240217_5x5remap//ensembleChunk_0016.nc\n",
      "/glade/derecho/scratch/lenssen/data4jonah/GISTEMP_Ensemble_Jan2/ensembleChunk_0017.nc\n",
      "/glade/work/jonahshaw/trend_uncertainty/nathan/OBS_LENS/GISTEMP_2x2/20240217_5x5remap//ensembleChunk_0017.nc\n",
      "/glade/derecho/scratch/lenssen/data4jonah/GISTEMP_Ensemble_Jan2/ensembleChunk_0018.nc\n",
      "/glade/work/jonahshaw/trend_uncertainty/nathan/OBS_LENS/GISTEMP_2x2/20240217_5x5remap//ensembleChunk_0018.nc\n",
      "/glade/derecho/scratch/lenssen/data4jonah/GISTEMP_Ensemble_Jan2/ensembleChunk_0019.nc\n",
      "/glade/work/jonahshaw/trend_uncertainty/nathan/OBS_LENS/GISTEMP_2x2/20240217_5x5remap//ensembleChunk_0019.nc\n",
      "/glade/derecho/scratch/lenssen/data4jonah/GISTEMP_Ensemble_Jan2/ensembleChunk_0020.nc\n",
      "/glade/work/jonahshaw/trend_uncertainty/nathan/OBS_LENS/GISTEMP_2x2/20240217_5x5remap//ensembleChunk_0020.nc\n",
      "/glade/derecho/scratch/lenssen/data4jonah/GISTEMP_Ensemble_Jan2/ensembleChunk_0021.nc\n",
      "/glade/work/jonahshaw/trend_uncertainty/nathan/OBS_LENS/GISTEMP_2x2/20240217_5x5remap//ensembleChunk_0021.nc\n",
      "/glade/derecho/scratch/lenssen/data4jonah/GISTEMP_Ensemble_Jan2/ensembleChunk_0022.nc\n",
      "/glade/work/jonahshaw/trend_uncertainty/nathan/OBS_LENS/GISTEMP_2x2/20240217_5x5remap//ensembleChunk_0022.nc\n",
      "/glade/derecho/scratch/lenssen/data4jonah/GISTEMP_Ensemble_Jan2/ensembleChunk_0023.nc\n",
      "/glade/work/jonahshaw/trend_uncertainty/nathan/OBS_LENS/GISTEMP_2x2/20240217_5x5remap//ensembleChunk_0023.nc\n",
      "/glade/derecho/scratch/lenssen/data4jonah/GISTEMP_Ensemble_Jan2/ensembleChunk_0024.nc\n",
      "/glade/work/jonahshaw/trend_uncertainty/nathan/OBS_LENS/GISTEMP_2x2/20240217_5x5remap//ensembleChunk_0024.nc\n",
      "/glade/derecho/scratch/lenssen/data4jonah/GISTEMP_Ensemble_Jan2/ensembleChunk_0025.nc\n",
      "/glade/work/jonahshaw/trend_uncertainty/nathan/OBS_LENS/GISTEMP_2x2/20240217_5x5remap//ensembleChunk_0025.nc\n",
      "/glade/derecho/scratch/lenssen/data4jonah/GISTEMP_Ensemble_Jan2/ensembleChunk_0026.nc\n",
      "/glade/work/jonahshaw/trend_uncertainty/nathan/OBS_LENS/GISTEMP_2x2/20240217_5x5remap//ensembleChunk_0026.nc\n",
      "/glade/derecho/scratch/lenssen/data4jonah/GISTEMP_Ensemble_Jan2/ensembleChunk_0027.nc\n",
      "/glade/work/jonahshaw/trend_uncertainty/nathan/OBS_LENS/GISTEMP_2x2/20240217_5x5remap//ensembleChunk_0027.nc\n",
      "/glade/derecho/scratch/lenssen/data4jonah/GISTEMP_Ensemble_Jan2/ensembleChunk_0028.nc\n",
      "/glade/work/jonahshaw/trend_uncertainty/nathan/OBS_LENS/GISTEMP_2x2/20240217_5x5remap//ensembleChunk_0028.nc\n",
      "/glade/derecho/scratch/lenssen/data4jonah/GISTEMP_Ensemble_Jan2/ensembleChunk_0029.nc\n",
      "/glade/work/jonahshaw/trend_uncertainty/nathan/OBS_LENS/GISTEMP_2x2/20240217_5x5remap//ensembleChunk_0029.nc\n",
      "/glade/derecho/scratch/lenssen/data4jonah/GISTEMP_Ensemble_Jan2/ensembleChunk_0030.nc\n",
      "/glade/work/jonahshaw/trend_uncertainty/nathan/OBS_LENS/GISTEMP_2x2/20240217_5x5remap//ensembleChunk_0030.nc\n",
      "/glade/derecho/scratch/lenssen/data4jonah/GISTEMP_Ensemble_Jan2/ensembleChunk_0031.nc\n",
      "/glade/work/jonahshaw/trend_uncertainty/nathan/OBS_LENS/GISTEMP_2x2/20240217_5x5remap//ensembleChunk_0031.nc\n",
      "/glade/derecho/scratch/lenssen/data4jonah/GISTEMP_Ensemble_Jan2/ensembleChunk_0032.nc\n",
      "/glade/work/jonahshaw/trend_uncertainty/nathan/OBS_LENS/GISTEMP_2x2/20240217_5x5remap//ensembleChunk_0032.nc\n",
      "/glade/derecho/scratch/lenssen/data4jonah/GISTEMP_Ensemble_Jan2/ensembleChunk_0033.nc\n",
      "/glade/work/jonahshaw/trend_uncertainty/nathan/OBS_LENS/GISTEMP_2x2/20240217_5x5remap//ensembleChunk_0033.nc\n",
      "/glade/derecho/scratch/lenssen/data4jonah/GISTEMP_Ensemble_Jan2/ensembleChunk_0034.nc\n",
      "/glade/work/jonahshaw/trend_uncertainty/nathan/OBS_LENS/GISTEMP_2x2/20240217_5x5remap//ensembleChunk_0034.nc\n",
      "/glade/derecho/scratch/lenssen/data4jonah/GISTEMP_Ensemble_Jan2/ensembleChunk_0035.nc\n",
      "/glade/work/jonahshaw/trend_uncertainty/nathan/OBS_LENS/GISTEMP_2x2/20240217_5x5remap//ensembleChunk_0035.nc\n",
      "/glade/derecho/scratch/lenssen/data4jonah/GISTEMP_Ensemble_Jan2/ensembleChunk_0036.nc\n",
      "/glade/work/jonahshaw/trend_uncertainty/nathan/OBS_LENS/GISTEMP_2x2/20240217_5x5remap//ensembleChunk_0036.nc\n",
      "/glade/derecho/scratch/lenssen/data4jonah/GISTEMP_Ensemble_Jan2/ensembleChunk_0037.nc\n",
      "/glade/work/jonahshaw/trend_uncertainty/nathan/OBS_LENS/GISTEMP_2x2/20240217_5x5remap//ensembleChunk_0037.nc\n",
      "/glade/derecho/scratch/lenssen/data4jonah/GISTEMP_Ensemble_Jan2/ensembleChunk_0038.nc\n",
      "/glade/work/jonahshaw/trend_uncertainty/nathan/OBS_LENS/GISTEMP_2x2/20240217_5x5remap//ensembleChunk_0038.nc\n",
      "/glade/derecho/scratch/lenssen/data4jonah/GISTEMP_Ensemble_Jan2/ensembleChunk_0039.nc\n",
      "/glade/work/jonahshaw/trend_uncertainty/nathan/OBS_LENS/GISTEMP_2x2/20240217_5x5remap//ensembleChunk_0039.nc\n",
      "/glade/derecho/scratch/lenssen/data4jonah/GISTEMP_Ensemble_Jan2/ensembleChunk_0040.nc\n",
      "/glade/work/jonahshaw/trend_uncertainty/nathan/OBS_LENS/GISTEMP_2x2/20240217_5x5remap//ensembleChunk_0040.nc\n",
      "/glade/derecho/scratch/lenssen/data4jonah/GISTEMP_Ensemble_Jan2/ensembleChunk_0041.nc\n",
      "/glade/work/jonahshaw/trend_uncertainty/nathan/OBS_LENS/GISTEMP_2x2/20240217_5x5remap//ensembleChunk_0041.nc\n",
      "/glade/derecho/scratch/lenssen/data4jonah/GISTEMP_Ensemble_Jan2/ensembleChunk_0042.nc\n",
      "/glade/work/jonahshaw/trend_uncertainty/nathan/OBS_LENS/GISTEMP_2x2/20240217_5x5remap//ensembleChunk_0042.nc\n",
      "/glade/derecho/scratch/lenssen/data4jonah/GISTEMP_Ensemble_Jan2/ensembleChunk_0043.nc\n",
      "/glade/work/jonahshaw/trend_uncertainty/nathan/OBS_LENS/GISTEMP_2x2/20240217_5x5remap//ensembleChunk_0043.nc\n",
      "/glade/derecho/scratch/lenssen/data4jonah/GISTEMP_Ensemble_Jan2/ensembleChunk_0044.nc\n",
      "/glade/work/jonahshaw/trend_uncertainty/nathan/OBS_LENS/GISTEMP_2x2/20240217_5x5remap//ensembleChunk_0044.nc\n",
      "/glade/derecho/scratch/lenssen/data4jonah/GISTEMP_Ensemble_Jan2/ensembleChunk_0045.nc\n",
      "/glade/work/jonahshaw/trend_uncertainty/nathan/OBS_LENS/GISTEMP_2x2/20240217_5x5remap//ensembleChunk_0045.nc\n",
      "/glade/derecho/scratch/lenssen/data4jonah/GISTEMP_Ensemble_Jan2/ensembleChunk_0046.nc\n",
      "/glade/work/jonahshaw/trend_uncertainty/nathan/OBS_LENS/GISTEMP_2x2/20240217_5x5remap//ensembleChunk_0046.nc\n",
      "/glade/derecho/scratch/lenssen/data4jonah/GISTEMP_Ensemble_Jan2/ensembleChunk_0047.nc\n",
      "/glade/work/jonahshaw/trend_uncertainty/nathan/OBS_LENS/GISTEMP_2x2/20240217_5x5remap//ensembleChunk_0047.nc\n",
      "/glade/derecho/scratch/lenssen/data4jonah/GISTEMP_Ensemble_Jan2/ensembleChunk_0048.nc\n",
      "/glade/work/jonahshaw/trend_uncertainty/nathan/OBS_LENS/GISTEMP_2x2/20240217_5x5remap//ensembleChunk_0048.nc\n",
      "/glade/derecho/scratch/lenssen/data4jonah/GISTEMP_Ensemble_Jan2/ensembleChunk_0049.nc\n",
      "/glade/work/jonahshaw/trend_uncertainty/nathan/OBS_LENS/GISTEMP_2x2/20240217_5x5remap//ensembleChunk_0049.nc\n",
      "/glade/derecho/scratch/lenssen/data4jonah/GISTEMP_Ensemble_Jan2/ensembleChunk_0050.nc\n",
      "/glade/work/jonahshaw/trend_uncertainty/nathan/OBS_LENS/GISTEMP_2x2/20240217_5x5remap//ensembleChunk_0050.nc\n",
      "/glade/derecho/scratch/lenssen/data4jonah/GISTEMP_Ensemble_Jan2/ensembleChunk_0051.nc\n",
      "/glade/work/jonahshaw/trend_uncertainty/nathan/OBS_LENS/GISTEMP_2x2/20240217_5x5remap//ensembleChunk_0051.nc\n",
      "/glade/derecho/scratch/lenssen/data4jonah/GISTEMP_Ensemble_Jan2/ensembleChunk_0052.nc\n",
      "/glade/work/jonahshaw/trend_uncertainty/nathan/OBS_LENS/GISTEMP_2x2/20240217_5x5remap//ensembleChunk_0052.nc\n",
      "/glade/derecho/scratch/lenssen/data4jonah/GISTEMP_Ensemble_Jan2/ensembleChunk_0053.nc\n",
      "/glade/work/jonahshaw/trend_uncertainty/nathan/OBS_LENS/GISTEMP_2x2/20240217_5x5remap//ensembleChunk_0053.nc\n",
      "/glade/derecho/scratch/lenssen/data4jonah/GISTEMP_Ensemble_Jan2/ensembleChunk_0054.nc\n",
      "/glade/work/jonahshaw/trend_uncertainty/nathan/OBS_LENS/GISTEMP_2x2/20240217_5x5remap//ensembleChunk_0054.nc\n",
      "/glade/derecho/scratch/lenssen/data4jonah/GISTEMP_Ensemble_Jan2/ensembleChunk_0055.nc\n",
      "/glade/work/jonahshaw/trend_uncertainty/nathan/OBS_LENS/GISTEMP_2x2/20240217_5x5remap//ensembleChunk_0055.nc\n",
      "/glade/derecho/scratch/lenssen/data4jonah/GISTEMP_Ensemble_Jan2/ensembleChunk_0056.nc\n",
      "/glade/work/jonahshaw/trend_uncertainty/nathan/OBS_LENS/GISTEMP_2x2/20240217_5x5remap//ensembleChunk_0056.nc\n",
      "/glade/derecho/scratch/lenssen/data4jonah/GISTEMP_Ensemble_Jan2/ensembleChunk_0057.nc\n",
      "/glade/work/jonahshaw/trend_uncertainty/nathan/OBS_LENS/GISTEMP_2x2/20240217_5x5remap//ensembleChunk_0057.nc\n",
      "/glade/derecho/scratch/lenssen/data4jonah/GISTEMP_Ensemble_Jan2/ensembleChunk_0058.nc\n",
      "/glade/work/jonahshaw/trend_uncertainty/nathan/OBS_LENS/GISTEMP_2x2/20240217_5x5remap//ensembleChunk_0058.nc\n",
      "/glade/derecho/scratch/lenssen/data4jonah/GISTEMP_Ensemble_Jan2/ensembleChunk_0059.nc\n",
      "/glade/work/jonahshaw/trend_uncertainty/nathan/OBS_LENS/GISTEMP_2x2/20240217_5x5remap//ensembleChunk_0059.nc\n",
      "/glade/derecho/scratch/lenssen/data4jonah/GISTEMP_Ensemble_Jan2/ensembleChunk_0060.nc\n",
      "/glade/work/jonahshaw/trend_uncertainty/nathan/OBS_LENS/GISTEMP_2x2/20240217_5x5remap//ensembleChunk_0060.nc\n",
      "/glade/derecho/scratch/lenssen/data4jonah/GISTEMP_Ensemble_Jan2/ensembleChunk_0061.nc\n",
      "/glade/work/jonahshaw/trend_uncertainty/nathan/OBS_LENS/GISTEMP_2x2/20240217_5x5remap//ensembleChunk_0061.nc\n",
      "/glade/derecho/scratch/lenssen/data4jonah/GISTEMP_Ensemble_Jan2/ensembleChunk_0062.nc\n",
      "/glade/work/jonahshaw/trend_uncertainty/nathan/OBS_LENS/GISTEMP_2x2/20240217_5x5remap//ensembleChunk_0062.nc\n",
      "/glade/derecho/scratch/lenssen/data4jonah/GISTEMP_Ensemble_Jan2/ensembleChunk_0063.nc\n",
      "/glade/work/jonahshaw/trend_uncertainty/nathan/OBS_LENS/GISTEMP_2x2/20240217_5x5remap//ensembleChunk_0063.nc\n",
      "/glade/derecho/scratch/lenssen/data4jonah/GISTEMP_Ensemble_Jan2/ensembleChunk_0064.nc\n",
      "/glade/work/jonahshaw/trend_uncertainty/nathan/OBS_LENS/GISTEMP_2x2/20240217_5x5remap//ensembleChunk_0064.nc\n",
      "/glade/derecho/scratch/lenssen/data4jonah/GISTEMP_Ensemble_Jan2/ensembleChunk_0065.nc\n",
      "/glade/work/jonahshaw/trend_uncertainty/nathan/OBS_LENS/GISTEMP_2x2/20240217_5x5remap//ensembleChunk_0065.nc\n",
      "/glade/derecho/scratch/lenssen/data4jonah/GISTEMP_Ensemble_Jan2/ensembleChunk_0066.nc\n",
      "/glade/work/jonahshaw/trend_uncertainty/nathan/OBS_LENS/GISTEMP_2x2/20240217_5x5remap//ensembleChunk_0066.nc\n",
      "/glade/derecho/scratch/lenssen/data4jonah/GISTEMP_Ensemble_Jan2/ensembleChunk_0067.nc\n",
      "/glade/work/jonahshaw/trend_uncertainty/nathan/OBS_LENS/GISTEMP_2x2/20240217_5x5remap//ensembleChunk_0067.nc\n",
      "/glade/derecho/scratch/lenssen/data4jonah/GISTEMP_Ensemble_Jan2/ensembleChunk_0068.nc\n",
      "/glade/work/jonahshaw/trend_uncertainty/nathan/OBS_LENS/GISTEMP_2x2/20240217_5x5remap//ensembleChunk_0068.nc\n",
      "/glade/derecho/scratch/lenssen/data4jonah/GISTEMP_Ensemble_Jan2/ensembleChunk_0069.nc\n",
      "/glade/work/jonahshaw/trend_uncertainty/nathan/OBS_LENS/GISTEMP_2x2/20240217_5x5remap//ensembleChunk_0069.nc\n",
      "/glade/derecho/scratch/lenssen/data4jonah/GISTEMP_Ensemble_Jan2/ensembleChunk_0070.nc\n",
      "/glade/work/jonahshaw/trend_uncertainty/nathan/OBS_LENS/GISTEMP_2x2/20240217_5x5remap//ensembleChunk_0070.nc\n",
      "/glade/derecho/scratch/lenssen/data4jonah/GISTEMP_Ensemble_Jan2/ensembleChunk_0071.nc\n",
      "/glade/work/jonahshaw/trend_uncertainty/nathan/OBS_LENS/GISTEMP_2x2/20240217_5x5remap//ensembleChunk_0071.nc\n",
      "/glade/derecho/scratch/lenssen/data4jonah/GISTEMP_Ensemble_Jan2/ensembleChunk_0072.nc\n",
      "/glade/work/jonahshaw/trend_uncertainty/nathan/OBS_LENS/GISTEMP_2x2/20240217_5x5remap//ensembleChunk_0072.nc\n",
      "/glade/derecho/scratch/lenssen/data4jonah/GISTEMP_Ensemble_Jan2/ensembleChunk_0073.nc\n",
      "/glade/work/jonahshaw/trend_uncertainty/nathan/OBS_LENS/GISTEMP_2x2/20240217_5x5remap//ensembleChunk_0073.nc\n",
      "/glade/derecho/scratch/lenssen/data4jonah/GISTEMP_Ensemble_Jan2/ensembleChunk_0074.nc\n",
      "/glade/work/jonahshaw/trend_uncertainty/nathan/OBS_LENS/GISTEMP_2x2/20240217_5x5remap//ensembleChunk_0074.nc\n",
      "/glade/derecho/scratch/lenssen/data4jonah/GISTEMP_Ensemble_Jan2/ensembleChunk_0075.nc\n",
      "/glade/work/jonahshaw/trend_uncertainty/nathan/OBS_LENS/GISTEMP_2x2/20240217_5x5remap//ensembleChunk_0075.nc\n",
      "/glade/derecho/scratch/lenssen/data4jonah/GISTEMP_Ensemble_Jan2/ensembleChunk_0076.nc\n",
      "/glade/work/jonahshaw/trend_uncertainty/nathan/OBS_LENS/GISTEMP_2x2/20240217_5x5remap//ensembleChunk_0076.nc\n",
      "/glade/derecho/scratch/lenssen/data4jonah/GISTEMP_Ensemble_Jan2/ensembleChunk_0077.nc\n",
      "/glade/work/jonahshaw/trend_uncertainty/nathan/OBS_LENS/GISTEMP_2x2/20240217_5x5remap//ensembleChunk_0077.nc\n",
      "/glade/derecho/scratch/lenssen/data4jonah/GISTEMP_Ensemble_Jan2/ensembleChunk_0078.nc\n",
      "/glade/work/jonahshaw/trend_uncertainty/nathan/OBS_LENS/GISTEMP_2x2/20240217_5x5remap//ensembleChunk_0078.nc\n",
      "/glade/derecho/scratch/lenssen/data4jonah/GISTEMP_Ensemble_Jan2/ensembleChunk_0079.nc\n",
      "/glade/work/jonahshaw/trend_uncertainty/nathan/OBS_LENS/GISTEMP_2x2/20240217_5x5remap//ensembleChunk_0079.nc\n",
      "/glade/derecho/scratch/lenssen/data4jonah/GISTEMP_Ensemble_Jan2/ensembleChunk_0080.nc\n",
      "/glade/work/jonahshaw/trend_uncertainty/nathan/OBS_LENS/GISTEMP_2x2/20240217_5x5remap//ensembleChunk_0080.nc\n",
      "/glade/derecho/scratch/lenssen/data4jonah/GISTEMP_Ensemble_Jan2/ensembleChunk_0081.nc\n",
      "/glade/work/jonahshaw/trend_uncertainty/nathan/OBS_LENS/GISTEMP_2x2/20240217_5x5remap//ensembleChunk_0081.nc\n",
      "/glade/derecho/scratch/lenssen/data4jonah/GISTEMP_Ensemble_Jan2/ensembleChunk_0082.nc\n",
      "/glade/work/jonahshaw/trend_uncertainty/nathan/OBS_LENS/GISTEMP_2x2/20240217_5x5remap//ensembleChunk_0082.nc\n",
      "/glade/derecho/scratch/lenssen/data4jonah/GISTEMP_Ensemble_Jan2/ensembleChunk_0083.nc\n",
      "/glade/work/jonahshaw/trend_uncertainty/nathan/OBS_LENS/GISTEMP_2x2/20240217_5x5remap//ensembleChunk_0083.nc\n",
      "/glade/derecho/scratch/lenssen/data4jonah/GISTEMP_Ensemble_Jan2/ensembleChunk_0084.nc\n",
      "/glade/work/jonahshaw/trend_uncertainty/nathan/OBS_LENS/GISTEMP_2x2/20240217_5x5remap//ensembleChunk_0084.nc\n",
      "/glade/derecho/scratch/lenssen/data4jonah/GISTEMP_Ensemble_Jan2/ensembleChunk_0085.nc\n",
      "/glade/work/jonahshaw/trend_uncertainty/nathan/OBS_LENS/GISTEMP_2x2/20240217_5x5remap//ensembleChunk_0085.nc\n",
      "/glade/derecho/scratch/lenssen/data4jonah/GISTEMP_Ensemble_Jan2/ensembleChunk_0086.nc\n",
      "/glade/work/jonahshaw/trend_uncertainty/nathan/OBS_LENS/GISTEMP_2x2/20240217_5x5remap//ensembleChunk_0086.nc\n",
      "/glade/derecho/scratch/lenssen/data4jonah/GISTEMP_Ensemble_Jan2/ensembleChunk_0087.nc\n",
      "/glade/work/jonahshaw/trend_uncertainty/nathan/OBS_LENS/GISTEMP_2x2/20240217_5x5remap//ensembleChunk_0087.nc\n",
      "/glade/derecho/scratch/lenssen/data4jonah/GISTEMP_Ensemble_Jan2/ensembleChunk_0088.nc\n",
      "/glade/work/jonahshaw/trend_uncertainty/nathan/OBS_LENS/GISTEMP_2x2/20240217_5x5remap//ensembleChunk_0088.nc\n",
      "/glade/derecho/scratch/lenssen/data4jonah/GISTEMP_Ensemble_Jan2/ensembleChunk_0089.nc\n",
      "/glade/work/jonahshaw/trend_uncertainty/nathan/OBS_LENS/GISTEMP_2x2/20240217_5x5remap//ensembleChunk_0089.nc\n",
      "/glade/derecho/scratch/lenssen/data4jonah/GISTEMP_Ensemble_Jan2/ensembleChunk_0090.nc\n",
      "/glade/work/jonahshaw/trend_uncertainty/nathan/OBS_LENS/GISTEMP_2x2/20240217_5x5remap//ensembleChunk_0090.nc\n",
      "/glade/derecho/scratch/lenssen/data4jonah/GISTEMP_Ensemble_Jan2/ensembleChunk_0091.nc\n",
      "/glade/work/jonahshaw/trend_uncertainty/nathan/OBS_LENS/GISTEMP_2x2/20240217_5x5remap//ensembleChunk_0091.nc\n",
      "/glade/derecho/scratch/lenssen/data4jonah/GISTEMP_Ensemble_Jan2/ensembleChunk_0092.nc\n",
      "/glade/work/jonahshaw/trend_uncertainty/nathan/OBS_LENS/GISTEMP_2x2/20240217_5x5remap//ensembleChunk_0092.nc\n",
      "/glade/derecho/scratch/lenssen/data4jonah/GISTEMP_Ensemble_Jan2/ensembleChunk_0093.nc\n",
      "/glade/work/jonahshaw/trend_uncertainty/nathan/OBS_LENS/GISTEMP_2x2/20240217_5x5remap//ensembleChunk_0093.nc\n",
      "/glade/derecho/scratch/lenssen/data4jonah/GISTEMP_Ensemble_Jan2/ensembleChunk_0094.nc\n",
      "/glade/work/jonahshaw/trend_uncertainty/nathan/OBS_LENS/GISTEMP_2x2/20240217_5x5remap//ensembleChunk_0094.nc\n",
      "/glade/derecho/scratch/lenssen/data4jonah/GISTEMP_Ensemble_Jan2/ensembleChunk_0095.nc\n",
      "/glade/work/jonahshaw/trend_uncertainty/nathan/OBS_LENS/GISTEMP_2x2/20240217_5x5remap//ensembleChunk_0095.nc\n",
      "/glade/derecho/scratch/lenssen/data4jonah/GISTEMP_Ensemble_Jan2/ensembleChunk_0096.nc\n",
      "/glade/work/jonahshaw/trend_uncertainty/nathan/OBS_LENS/GISTEMP_2x2/20240217_5x5remap//ensembleChunk_0096.nc\n",
      "/glade/derecho/scratch/lenssen/data4jonah/GISTEMP_Ensemble_Jan2/ensembleChunk_0097.nc\n",
      "/glade/work/jonahshaw/trend_uncertainty/nathan/OBS_LENS/GISTEMP_2x2/20240217_5x5remap//ensembleChunk_0097.nc\n",
      "/glade/derecho/scratch/lenssen/data4jonah/GISTEMP_Ensemble_Jan2/ensembleChunk_0098.nc\n",
      "/glade/work/jonahshaw/trend_uncertainty/nathan/OBS_LENS/GISTEMP_2x2/20240217_5x5remap//ensembleChunk_0098.nc\n",
      "/glade/derecho/scratch/lenssen/data4jonah/GISTEMP_Ensemble_Jan2/ensembleChunk_0099.nc\n",
      "/glade/work/jonahshaw/trend_uncertainty/nathan/OBS_LENS/GISTEMP_2x2/20240217_5x5remap//ensembleChunk_0099.nc\n",
      "/glade/derecho/scratch/lenssen/data4jonah/GISTEMP_Ensemble_Jan2/ensembleChunk_0100.nc\n",
      "/glade/work/jonahshaw/trend_uncertainty/nathan/OBS_LENS/GISTEMP_2x2/20240217_5x5remap//ensembleChunk_0100.nc\n",
      "/glade/derecho/scratch/lenssen/data4jonah/GISTEMP_Ensemble_Jan2/ensembleChunk_0101.nc\n",
      "/glade/work/jonahshaw/trend_uncertainty/nathan/OBS_LENS/GISTEMP_2x2/20240217_5x5remap//ensembleChunk_0101.nc\n",
      "/glade/derecho/scratch/lenssen/data4jonah/GISTEMP_Ensemble_Jan2/ensembleChunk_0102.nc\n",
      "/glade/work/jonahshaw/trend_uncertainty/nathan/OBS_LENS/GISTEMP_2x2/20240217_5x5remap//ensembleChunk_0102.nc\n",
      "/glade/derecho/scratch/lenssen/data4jonah/GISTEMP_Ensemble_Jan2/ensembleChunk_0103.nc\n",
      "/glade/work/jonahshaw/trend_uncertainty/nathan/OBS_LENS/GISTEMP_2x2/20240217_5x5remap//ensembleChunk_0103.nc\n",
      "/glade/derecho/scratch/lenssen/data4jonah/GISTEMP_Ensemble_Jan2/ensembleChunk_0104.nc\n",
      "/glade/work/jonahshaw/trend_uncertainty/nathan/OBS_LENS/GISTEMP_2x2/20240217_5x5remap//ensembleChunk_0104.nc\n",
      "/glade/derecho/scratch/lenssen/data4jonah/GISTEMP_Ensemble_Jan2/ensembleChunk_0105.nc\n",
      "/glade/work/jonahshaw/trend_uncertainty/nathan/OBS_LENS/GISTEMP_2x2/20240217_5x5remap//ensembleChunk_0105.nc\n",
      "/glade/derecho/scratch/lenssen/data4jonah/GISTEMP_Ensemble_Jan2/ensembleChunk_0106.nc\n",
      "/glade/work/jonahshaw/trend_uncertainty/nathan/OBS_LENS/GISTEMP_2x2/20240217_5x5remap//ensembleChunk_0106.nc\n",
      "/glade/derecho/scratch/lenssen/data4jonah/GISTEMP_Ensemble_Jan2/ensembleChunk_0107.nc\n",
      "/glade/work/jonahshaw/trend_uncertainty/nathan/OBS_LENS/GISTEMP_2x2/20240217_5x5remap//ensembleChunk_0107.nc\n",
      "/glade/derecho/scratch/lenssen/data4jonah/GISTEMP_Ensemble_Jan2/ensembleChunk_0108.nc\n",
      "/glade/work/jonahshaw/trend_uncertainty/nathan/OBS_LENS/GISTEMP_2x2/20240217_5x5remap//ensembleChunk_0108.nc\n",
      "/glade/derecho/scratch/lenssen/data4jonah/GISTEMP_Ensemble_Jan2/ensembleChunk_0109.nc\n",
      "/glade/work/jonahshaw/trend_uncertainty/nathan/OBS_LENS/GISTEMP_2x2/20240217_5x5remap//ensembleChunk_0109.nc\n",
      "/glade/derecho/scratch/lenssen/data4jonah/GISTEMP_Ensemble_Jan2/ensembleChunk_0110.nc\n",
      "/glade/work/jonahshaw/trend_uncertainty/nathan/OBS_LENS/GISTEMP_2x2/20240217_5x5remap//ensembleChunk_0110.nc\n",
      "/glade/derecho/scratch/lenssen/data4jonah/GISTEMP_Ensemble_Jan2/ensembleChunk_0111.nc\n",
      "/glade/work/jonahshaw/trend_uncertainty/nathan/OBS_LENS/GISTEMP_2x2/20240217_5x5remap//ensembleChunk_0111.nc\n",
      "/glade/derecho/scratch/lenssen/data4jonah/GISTEMP_Ensemble_Jan2/ensembleChunk_0112.nc\n",
      "/glade/work/jonahshaw/trend_uncertainty/nathan/OBS_LENS/GISTEMP_2x2/20240217_5x5remap//ensembleChunk_0112.nc\n",
      "/glade/derecho/scratch/lenssen/data4jonah/GISTEMP_Ensemble_Jan2/ensembleChunk_0113.nc\n",
      "/glade/work/jonahshaw/trend_uncertainty/nathan/OBS_LENS/GISTEMP_2x2/20240217_5x5remap//ensembleChunk_0113.nc\n",
      "/glade/derecho/scratch/lenssen/data4jonah/GISTEMP_Ensemble_Jan2/ensembleChunk_0114.nc\n",
      "/glade/work/jonahshaw/trend_uncertainty/nathan/OBS_LENS/GISTEMP_2x2/20240217_5x5remap//ensembleChunk_0114.nc\n",
      "/glade/derecho/scratch/lenssen/data4jonah/GISTEMP_Ensemble_Jan2/ensembleChunk_0115.nc\n",
      "/glade/work/jonahshaw/trend_uncertainty/nathan/OBS_LENS/GISTEMP_2x2/20240217_5x5remap//ensembleChunk_0115.nc\n",
      "/glade/derecho/scratch/lenssen/data4jonah/GISTEMP_Ensemble_Jan2/ensembleChunk_0116.nc\n",
      "/glade/work/jonahshaw/trend_uncertainty/nathan/OBS_LENS/GISTEMP_2x2/20240217_5x5remap//ensembleChunk_0116.nc\n",
      "/glade/derecho/scratch/lenssen/data4jonah/GISTEMP_Ensemble_Jan2/ensembleChunk_0117.nc\n",
      "/glade/work/jonahshaw/trend_uncertainty/nathan/OBS_LENS/GISTEMP_2x2/20240217_5x5remap//ensembleChunk_0117.nc\n",
      "/glade/derecho/scratch/lenssen/data4jonah/GISTEMP_Ensemble_Jan2/ensembleChunk_0118.nc\n",
      "/glade/work/jonahshaw/trend_uncertainty/nathan/OBS_LENS/GISTEMP_2x2/20240217_5x5remap//ensembleChunk_0118.nc\n",
      "/glade/derecho/scratch/lenssen/data4jonah/GISTEMP_Ensemble_Jan2/ensembleChunk_0119.nc\n",
      "/glade/work/jonahshaw/trend_uncertainty/nathan/OBS_LENS/GISTEMP_2x2/20240217_5x5remap//ensembleChunk_0119.nc\n",
      "/glade/derecho/scratch/lenssen/data4jonah/GISTEMP_Ensemble_Jan2/ensembleChunk_0120.nc\n",
      "/glade/work/jonahshaw/trend_uncertainty/nathan/OBS_LENS/GISTEMP_2x2/20240217_5x5remap//ensembleChunk_0120.nc\n",
      "/glade/derecho/scratch/lenssen/data4jonah/GISTEMP_Ensemble_Jan2/ensembleChunk_0121.nc\n",
      "/glade/work/jonahshaw/trend_uncertainty/nathan/OBS_LENS/GISTEMP_2x2/20240217_5x5remap//ensembleChunk_0121.nc\n",
      "/glade/derecho/scratch/lenssen/data4jonah/GISTEMP_Ensemble_Jan2/ensembleChunk_0122.nc\n",
      "/glade/work/jonahshaw/trend_uncertainty/nathan/OBS_LENS/GISTEMP_2x2/20240217_5x5remap//ensembleChunk_0122.nc\n",
      "/glade/derecho/scratch/lenssen/data4jonah/GISTEMP_Ensemble_Jan2/ensembleChunk_0123.nc\n",
      "/glade/work/jonahshaw/trend_uncertainty/nathan/OBS_LENS/GISTEMP_2x2/20240217_5x5remap//ensembleChunk_0123.nc\n",
      "/glade/derecho/scratch/lenssen/data4jonah/GISTEMP_Ensemble_Jan2/ensembleChunk_0124.nc\n",
      "/glade/work/jonahshaw/trend_uncertainty/nathan/OBS_LENS/GISTEMP_2x2/20240217_5x5remap//ensembleChunk_0124.nc\n",
      "/glade/derecho/scratch/lenssen/data4jonah/GISTEMP_Ensemble_Jan2/ensembleChunk_0125.nc\n",
      "/glade/work/jonahshaw/trend_uncertainty/nathan/OBS_LENS/GISTEMP_2x2/20240217_5x5remap//ensembleChunk_0125.nc\n",
      "/glade/derecho/scratch/lenssen/data4jonah/GISTEMP_Ensemble_Jan2/ensembleChunk_0126.nc\n",
      "/glade/work/jonahshaw/trend_uncertainty/nathan/OBS_LENS/GISTEMP_2x2/20240217_5x5remap//ensembleChunk_0126.nc\n",
      "/glade/derecho/scratch/lenssen/data4jonah/GISTEMP_Ensemble_Jan2/ensembleChunk_0127.nc\n",
      "/glade/work/jonahshaw/trend_uncertainty/nathan/OBS_LENS/GISTEMP_2x2/20240217_5x5remap//ensembleChunk_0127.nc\n",
      "/glade/derecho/scratch/lenssen/data4jonah/GISTEMP_Ensemble_Jan2/ensembleChunk_0128.nc\n",
      "/glade/work/jonahshaw/trend_uncertainty/nathan/OBS_LENS/GISTEMP_2x2/20240217_5x5remap//ensembleChunk_0128.nc\n",
      "/glade/derecho/scratch/lenssen/data4jonah/GISTEMP_Ensemble_Jan2/ensembleChunk_0129.nc\n",
      "/glade/work/jonahshaw/trend_uncertainty/nathan/OBS_LENS/GISTEMP_2x2/20240217_5x5remap//ensembleChunk_0129.nc\n",
      "/glade/derecho/scratch/lenssen/data4jonah/GISTEMP_Ensemble_Jan2/ensembleChunk_0130.nc\n",
      "/glade/work/jonahshaw/trend_uncertainty/nathan/OBS_LENS/GISTEMP_2x2/20240217_5x5remap//ensembleChunk_0130.nc\n",
      "/glade/derecho/scratch/lenssen/data4jonah/GISTEMP_Ensemble_Jan2/ensembleChunk_0131.nc\n",
      "/glade/work/jonahshaw/trend_uncertainty/nathan/OBS_LENS/GISTEMP_2x2/20240217_5x5remap//ensembleChunk_0131.nc\n",
      "/glade/derecho/scratch/lenssen/data4jonah/GISTEMP_Ensemble_Jan2/ensembleChunk_0132.nc\n",
      "/glade/work/jonahshaw/trend_uncertainty/nathan/OBS_LENS/GISTEMP_2x2/20240217_5x5remap//ensembleChunk_0132.nc\n",
      "/glade/derecho/scratch/lenssen/data4jonah/GISTEMP_Ensemble_Jan2/ensembleChunk_0133.nc\n",
      "/glade/work/jonahshaw/trend_uncertainty/nathan/OBS_LENS/GISTEMP_2x2/20240217_5x5remap//ensembleChunk_0133.nc\n",
      "/glade/derecho/scratch/lenssen/data4jonah/GISTEMP_Ensemble_Jan2/ensembleChunk_0134.nc\n",
      "/glade/work/jonahshaw/trend_uncertainty/nathan/OBS_LENS/GISTEMP_2x2/20240217_5x5remap//ensembleChunk_0134.nc\n",
      "/glade/derecho/scratch/lenssen/data4jonah/GISTEMP_Ensemble_Jan2/ensembleChunk_0135.nc\n",
      "/glade/work/jonahshaw/trend_uncertainty/nathan/OBS_LENS/GISTEMP_2x2/20240217_5x5remap//ensembleChunk_0135.nc\n",
      "/glade/derecho/scratch/lenssen/data4jonah/GISTEMP_Ensemble_Jan2/ensembleChunk_0136.nc\n",
      "/glade/work/jonahshaw/trend_uncertainty/nathan/OBS_LENS/GISTEMP_2x2/20240217_5x5remap//ensembleChunk_0136.nc\n",
      "/glade/derecho/scratch/lenssen/data4jonah/GISTEMP_Ensemble_Jan2/ensembleChunk_0137.nc\n",
      "/glade/work/jonahshaw/trend_uncertainty/nathan/OBS_LENS/GISTEMP_2x2/20240217_5x5remap//ensembleChunk_0137.nc\n",
      "/glade/derecho/scratch/lenssen/data4jonah/GISTEMP_Ensemble_Jan2/ensembleChunk_0138.nc\n",
      "/glade/work/jonahshaw/trend_uncertainty/nathan/OBS_LENS/GISTEMP_2x2/20240217_5x5remap//ensembleChunk_0138.nc\n",
      "/glade/derecho/scratch/lenssen/data4jonah/GISTEMP_Ensemble_Jan2/ensembleChunk_0139.nc\n",
      "/glade/work/jonahshaw/trend_uncertainty/nathan/OBS_LENS/GISTEMP_2x2/20240217_5x5remap//ensembleChunk_0139.nc\n",
      "/glade/derecho/scratch/lenssen/data4jonah/GISTEMP_Ensemble_Jan2/ensembleChunk_0140.nc\n",
      "/glade/work/jonahshaw/trend_uncertainty/nathan/OBS_LENS/GISTEMP_2x2/20240217_5x5remap//ensembleChunk_0140.nc\n",
      "/glade/derecho/scratch/lenssen/data4jonah/GISTEMP_Ensemble_Jan2/ensembleChunk_0141.nc\n",
      "/glade/work/jonahshaw/trend_uncertainty/nathan/OBS_LENS/GISTEMP_2x2/20240217_5x5remap//ensembleChunk_0141.nc\n",
      "/glade/derecho/scratch/lenssen/data4jonah/GISTEMP_Ensemble_Jan2/ensembleChunk_0142.nc\n",
      "/glade/work/jonahshaw/trend_uncertainty/nathan/OBS_LENS/GISTEMP_2x2/20240217_5x5remap//ensembleChunk_0142.nc\n",
      "/glade/derecho/scratch/lenssen/data4jonah/GISTEMP_Ensemble_Jan2/ensembleChunk_0143.nc\n",
      "/glade/work/jonahshaw/trend_uncertainty/nathan/OBS_LENS/GISTEMP_2x2/20240217_5x5remap//ensembleChunk_0143.nc\n",
      "/glade/derecho/scratch/lenssen/data4jonah/GISTEMP_Ensemble_Jan2/ensembleChunk_0144.nc\n",
      "/glade/work/jonahshaw/trend_uncertainty/nathan/OBS_LENS/GISTEMP_2x2/20240217_5x5remap//ensembleChunk_0144.nc\n",
      "/glade/derecho/scratch/lenssen/data4jonah/GISTEMP_Ensemble_Jan2/ensembleChunk_0145.nc\n",
      "/glade/work/jonahshaw/trend_uncertainty/nathan/OBS_LENS/GISTEMP_2x2/20240217_5x5remap//ensembleChunk_0145.nc\n",
      "/glade/derecho/scratch/lenssen/data4jonah/GISTEMP_Ensemble_Jan2/ensembleChunk_0146.nc\n",
      "/glade/work/jonahshaw/trend_uncertainty/nathan/OBS_LENS/GISTEMP_2x2/20240217_5x5remap//ensembleChunk_0146.nc\n",
      "/glade/derecho/scratch/lenssen/data4jonah/GISTEMP_Ensemble_Jan2/ensembleChunk_0147.nc\n",
      "/glade/work/jonahshaw/trend_uncertainty/nathan/OBS_LENS/GISTEMP_2x2/20240217_5x5remap//ensembleChunk_0147.nc\n",
      "/glade/derecho/scratch/lenssen/data4jonah/GISTEMP_Ensemble_Jan2/ensembleChunk_0148.nc\n",
      "/glade/work/jonahshaw/trend_uncertainty/nathan/OBS_LENS/GISTEMP_2x2/20240217_5x5remap//ensembleChunk_0148.nc\n",
      "/glade/derecho/scratch/lenssen/data4jonah/GISTEMP_Ensemble_Jan2/ensembleChunk_0149.nc\n",
      "/glade/work/jonahshaw/trend_uncertainty/nathan/OBS_LENS/GISTEMP_2x2/20240217_5x5remap//ensembleChunk_0149.nc\n",
      "/glade/derecho/scratch/lenssen/data4jonah/GISTEMP_Ensemble_Jan2/ensembleChunk_0150.nc\n",
      "/glade/work/jonahshaw/trend_uncertainty/nathan/OBS_LENS/GISTEMP_2x2/20240217_5x5remap//ensembleChunk_0150.nc\n",
      "/glade/derecho/scratch/lenssen/data4jonah/GISTEMP_Ensemble_Jan2/ensembleChunk_0151.nc\n",
      "/glade/work/jonahshaw/trend_uncertainty/nathan/OBS_LENS/GISTEMP_2x2/20240217_5x5remap//ensembleChunk_0151.nc\n",
      "/glade/derecho/scratch/lenssen/data4jonah/GISTEMP_Ensemble_Jan2/ensembleChunk_0152.nc\n",
      "/glade/work/jonahshaw/trend_uncertainty/nathan/OBS_LENS/GISTEMP_2x2/20240217_5x5remap//ensembleChunk_0152.nc\n",
      "/glade/derecho/scratch/lenssen/data4jonah/GISTEMP_Ensemble_Jan2/ensembleChunk_0153.nc\n",
      "/glade/work/jonahshaw/trend_uncertainty/nathan/OBS_LENS/GISTEMP_2x2/20240217_5x5remap//ensembleChunk_0153.nc\n",
      "/glade/derecho/scratch/lenssen/data4jonah/GISTEMP_Ensemble_Jan2/ensembleChunk_0154.nc\n",
      "/glade/work/jonahshaw/trend_uncertainty/nathan/OBS_LENS/GISTEMP_2x2/20240217_5x5remap//ensembleChunk_0154.nc\n",
      "/glade/derecho/scratch/lenssen/data4jonah/GISTEMP_Ensemble_Jan2/ensembleChunk_0155.nc\n",
      "/glade/work/jonahshaw/trend_uncertainty/nathan/OBS_LENS/GISTEMP_2x2/20240217_5x5remap//ensembleChunk_0155.nc\n",
      "/glade/derecho/scratch/lenssen/data4jonah/GISTEMP_Ensemble_Jan2/ensembleChunk_0156.nc\n",
      "/glade/work/jonahshaw/trend_uncertainty/nathan/OBS_LENS/GISTEMP_2x2/20240217_5x5remap//ensembleChunk_0156.nc\n",
      "/glade/derecho/scratch/lenssen/data4jonah/GISTEMP_Ensemble_Jan2/ensembleChunk_0157.nc\n",
      "/glade/work/jonahshaw/trend_uncertainty/nathan/OBS_LENS/GISTEMP_2x2/20240217_5x5remap//ensembleChunk_0157.nc\n",
      "/glade/derecho/scratch/lenssen/data4jonah/GISTEMP_Ensemble_Jan2/ensembleChunk_0158.nc\n",
      "/glade/work/jonahshaw/trend_uncertainty/nathan/OBS_LENS/GISTEMP_2x2/20240217_5x5remap//ensembleChunk_0158.nc\n",
      "/glade/derecho/scratch/lenssen/data4jonah/GISTEMP_Ensemble_Jan2/ensembleChunk_0159.nc\n",
      "/glade/work/jonahshaw/trend_uncertainty/nathan/OBS_LENS/GISTEMP_2x2/20240217_5x5remap//ensembleChunk_0159.nc\n",
      "/glade/derecho/scratch/lenssen/data4jonah/GISTEMP_Ensemble_Jan2/ensembleChunk_0160.nc\n",
      "/glade/work/jonahshaw/trend_uncertainty/nathan/OBS_LENS/GISTEMP_2x2/20240217_5x5remap//ensembleChunk_0160.nc\n",
      "/glade/derecho/scratch/lenssen/data4jonah/GISTEMP_Ensemble_Jan2/ensembleChunk_0161.nc\n",
      "/glade/work/jonahshaw/trend_uncertainty/nathan/OBS_LENS/GISTEMP_2x2/20240217_5x5remap//ensembleChunk_0161.nc\n",
      "/glade/derecho/scratch/lenssen/data4jonah/GISTEMP_Ensemble_Jan2/ensembleChunk_0162.nc\n",
      "/glade/work/jonahshaw/trend_uncertainty/nathan/OBS_LENS/GISTEMP_2x2/20240217_5x5remap//ensembleChunk_0162.nc\n",
      "/glade/derecho/scratch/lenssen/data4jonah/GISTEMP_Ensemble_Jan2/ensembleChunk_0163.nc\n",
      "/glade/work/jonahshaw/trend_uncertainty/nathan/OBS_LENS/GISTEMP_2x2/20240217_5x5remap//ensembleChunk_0163.nc\n",
      "/glade/derecho/scratch/lenssen/data4jonah/GISTEMP_Ensemble_Jan2/ensembleChunk_0164.nc\n",
      "/glade/work/jonahshaw/trend_uncertainty/nathan/OBS_LENS/GISTEMP_2x2/20240217_5x5remap//ensembleChunk_0164.nc\n",
      "/glade/derecho/scratch/lenssen/data4jonah/GISTEMP_Ensemble_Jan2/ensembleChunk_0165.nc\n",
      "/glade/work/jonahshaw/trend_uncertainty/nathan/OBS_LENS/GISTEMP_2x2/20240217_5x5remap//ensembleChunk_0165.nc\n",
      "/glade/derecho/scratch/lenssen/data4jonah/GISTEMP_Ensemble_Jan2/ensembleChunk_0166.nc\n",
      "/glade/work/jonahshaw/trend_uncertainty/nathan/OBS_LENS/GISTEMP_2x2/20240217_5x5remap//ensembleChunk_0166.nc\n",
      "/glade/derecho/scratch/lenssen/data4jonah/GISTEMP_Ensemble_Jan2/ensembleChunk_0167.nc\n",
      "/glade/work/jonahshaw/trend_uncertainty/nathan/OBS_LENS/GISTEMP_2x2/20240217_5x5remap//ensembleChunk_0167.nc\n",
      "/glade/derecho/scratch/lenssen/data4jonah/GISTEMP_Ensemble_Jan2/ensembleChunk_0168.nc\n",
      "/glade/work/jonahshaw/trend_uncertainty/nathan/OBS_LENS/GISTEMP_2x2/20240217_5x5remap//ensembleChunk_0168.nc\n",
      "/glade/derecho/scratch/lenssen/data4jonah/GISTEMP_Ensemble_Jan2/ensembleChunk_0169.nc\n",
      "/glade/work/jonahshaw/trend_uncertainty/nathan/OBS_LENS/GISTEMP_2x2/20240217_5x5remap//ensembleChunk_0169.nc\n",
      "/glade/derecho/scratch/lenssen/data4jonah/GISTEMP_Ensemble_Jan2/ensembleChunk_0170.nc\n",
      "/glade/work/jonahshaw/trend_uncertainty/nathan/OBS_LENS/GISTEMP_2x2/20240217_5x5remap//ensembleChunk_0170.nc\n",
      "/glade/derecho/scratch/lenssen/data4jonah/GISTEMP_Ensemble_Jan2/ensembleChunk_0171.nc\n",
      "/glade/work/jonahshaw/trend_uncertainty/nathan/OBS_LENS/GISTEMP_2x2/20240217_5x5remap//ensembleChunk_0171.nc\n",
      "/glade/derecho/scratch/lenssen/data4jonah/GISTEMP_Ensemble_Jan2/ensembleChunk_0172.nc\n",
      "/glade/work/jonahshaw/trend_uncertainty/nathan/OBS_LENS/GISTEMP_2x2/20240217_5x5remap//ensembleChunk_0172.nc\n",
      "/glade/derecho/scratch/lenssen/data4jonah/GISTEMP_Ensemble_Jan2/ensembleChunk_0173.nc\n",
      "/glade/work/jonahshaw/trend_uncertainty/nathan/OBS_LENS/GISTEMP_2x2/20240217_5x5remap//ensembleChunk_0173.nc\n",
      "/glade/derecho/scratch/lenssen/data4jonah/GISTEMP_Ensemble_Jan2/ensembleChunk_0174.nc\n",
      "/glade/work/jonahshaw/trend_uncertainty/nathan/OBS_LENS/GISTEMP_2x2/20240217_5x5remap//ensembleChunk_0174.nc\n",
      "/glade/derecho/scratch/lenssen/data4jonah/GISTEMP_Ensemble_Jan2/ensembleChunk_0175.nc\n",
      "/glade/work/jonahshaw/trend_uncertainty/nathan/OBS_LENS/GISTEMP_2x2/20240217_5x5remap//ensembleChunk_0175.nc\n",
      "/glade/derecho/scratch/lenssen/data4jonah/GISTEMP_Ensemble_Jan2/ensembleChunk_0176.nc\n",
      "/glade/work/jonahshaw/trend_uncertainty/nathan/OBS_LENS/GISTEMP_2x2/20240217_5x5remap//ensembleChunk_0176.nc\n",
      "/glade/derecho/scratch/lenssen/data4jonah/GISTEMP_Ensemble_Jan2/ensembleChunk_0177.nc\n",
      "/glade/work/jonahshaw/trend_uncertainty/nathan/OBS_LENS/GISTEMP_2x2/20240217_5x5remap//ensembleChunk_0177.nc\n",
      "/glade/derecho/scratch/lenssen/data4jonah/GISTEMP_Ensemble_Jan2/ensembleChunk_0178.nc\n",
      "/glade/work/jonahshaw/trend_uncertainty/nathan/OBS_LENS/GISTEMP_2x2/20240217_5x5remap//ensembleChunk_0178.nc\n",
      "/glade/derecho/scratch/lenssen/data4jonah/GISTEMP_Ensemble_Jan2/ensembleChunk_0179.nc\n",
      "/glade/work/jonahshaw/trend_uncertainty/nathan/OBS_LENS/GISTEMP_2x2/20240217_5x5remap//ensembleChunk_0179.nc\n",
      "/glade/derecho/scratch/lenssen/data4jonah/GISTEMP_Ensemble_Jan2/ensembleChunk_0180.nc\n",
      "/glade/work/jonahshaw/trend_uncertainty/nathan/OBS_LENS/GISTEMP_2x2/20240217_5x5remap//ensembleChunk_0180.nc\n",
      "/glade/derecho/scratch/lenssen/data4jonah/GISTEMP_Ensemble_Jan2/ensembleChunk_0181.nc\n",
      "/glade/work/jonahshaw/trend_uncertainty/nathan/OBS_LENS/GISTEMP_2x2/20240217_5x5remap//ensembleChunk_0181.nc\n",
      "/glade/derecho/scratch/lenssen/data4jonah/GISTEMP_Ensemble_Jan2/ensembleChunk_0182.nc\n",
      "/glade/work/jonahshaw/trend_uncertainty/nathan/OBS_LENS/GISTEMP_2x2/20240217_5x5remap//ensembleChunk_0182.nc\n",
      "/glade/derecho/scratch/lenssen/data4jonah/GISTEMP_Ensemble_Jan2/ensembleChunk_0183.nc\n",
      "/glade/work/jonahshaw/trend_uncertainty/nathan/OBS_LENS/GISTEMP_2x2/20240217_5x5remap//ensembleChunk_0183.nc\n",
      "/glade/derecho/scratch/lenssen/data4jonah/GISTEMP_Ensemble_Jan2/ensembleChunk_0184.nc\n",
      "/glade/work/jonahshaw/trend_uncertainty/nathan/OBS_LENS/GISTEMP_2x2/20240217_5x5remap//ensembleChunk_0184.nc\n",
      "/glade/derecho/scratch/lenssen/data4jonah/GISTEMP_Ensemble_Jan2/ensembleChunk_0185.nc\n",
      "/glade/work/jonahshaw/trend_uncertainty/nathan/OBS_LENS/GISTEMP_2x2/20240217_5x5remap//ensembleChunk_0185.nc\n",
      "/glade/derecho/scratch/lenssen/data4jonah/GISTEMP_Ensemble_Jan2/ensembleChunk_0186.nc\n",
      "/glade/work/jonahshaw/trend_uncertainty/nathan/OBS_LENS/GISTEMP_2x2/20240217_5x5remap//ensembleChunk_0186.nc\n",
      "/glade/derecho/scratch/lenssen/data4jonah/GISTEMP_Ensemble_Jan2/ensembleChunk_0187.nc\n",
      "/glade/work/jonahshaw/trend_uncertainty/nathan/OBS_LENS/GISTEMP_2x2/20240217_5x5remap//ensembleChunk_0187.nc\n",
      "/glade/derecho/scratch/lenssen/data4jonah/GISTEMP_Ensemble_Jan2/ensembleChunk_0188.nc\n",
      "/glade/work/jonahshaw/trend_uncertainty/nathan/OBS_LENS/GISTEMP_2x2/20240217_5x5remap//ensembleChunk_0188.nc\n",
      "/glade/derecho/scratch/lenssen/data4jonah/GISTEMP_Ensemble_Jan2/ensembleChunk_0189.nc\n",
      "/glade/work/jonahshaw/trend_uncertainty/nathan/OBS_LENS/GISTEMP_2x2/20240217_5x5remap//ensembleChunk_0189.nc\n",
      "/glade/derecho/scratch/lenssen/data4jonah/GISTEMP_Ensemble_Jan2/ensembleChunk_0190.nc\n",
      "/glade/work/jonahshaw/trend_uncertainty/nathan/OBS_LENS/GISTEMP_2x2/20240217_5x5remap//ensembleChunk_0190.nc\n",
      "/glade/derecho/scratch/lenssen/data4jonah/GISTEMP_Ensemble_Jan2/ensembleChunk_0191.nc\n",
      "/glade/work/jonahshaw/trend_uncertainty/nathan/OBS_LENS/GISTEMP_2x2/20240217_5x5remap//ensembleChunk_0191.nc\n",
      "/glade/derecho/scratch/lenssen/data4jonah/GISTEMP_Ensemble_Jan2/ensembleChunk_0192.nc\n",
      "/glade/work/jonahshaw/trend_uncertainty/nathan/OBS_LENS/GISTEMP_2x2/20240217_5x5remap//ensembleChunk_0192.nc\n",
      "/glade/derecho/scratch/lenssen/data4jonah/GISTEMP_Ensemble_Jan2/ensembleChunk_0193.nc\n",
      "/glade/work/jonahshaw/trend_uncertainty/nathan/OBS_LENS/GISTEMP_2x2/20240217_5x5remap//ensembleChunk_0193.nc\n",
      "/glade/derecho/scratch/lenssen/data4jonah/GISTEMP_Ensemble_Jan2/ensembleChunk_0194.nc\n",
      "/glade/work/jonahshaw/trend_uncertainty/nathan/OBS_LENS/GISTEMP_2x2/20240217_5x5remap//ensembleChunk_0194.nc\n",
      "/glade/derecho/scratch/lenssen/data4jonah/GISTEMP_Ensemble_Jan2/ensembleChunk_0195.nc\n",
      "/glade/work/jonahshaw/trend_uncertainty/nathan/OBS_LENS/GISTEMP_2x2/20240217_5x5remap//ensembleChunk_0195.nc\n",
      "/glade/derecho/scratch/lenssen/data4jonah/GISTEMP_Ensemble_Jan2/ensembleChunk_0196.nc\n",
      "/glade/work/jonahshaw/trend_uncertainty/nathan/OBS_LENS/GISTEMP_2x2/20240217_5x5remap//ensembleChunk_0196.nc\n",
      "/glade/derecho/scratch/lenssen/data4jonah/GISTEMP_Ensemble_Jan2/ensembleChunk_0197.nc\n",
      "/glade/work/jonahshaw/trend_uncertainty/nathan/OBS_LENS/GISTEMP_2x2/20240217_5x5remap//ensembleChunk_0197.nc\n",
      "/glade/derecho/scratch/lenssen/data4jonah/GISTEMP_Ensemble_Jan2/ensembleChunk_0198.nc\n",
      "/glade/work/jonahshaw/trend_uncertainty/nathan/OBS_LENS/GISTEMP_2x2/20240217_5x5remap//ensembleChunk_0198.nc\n",
      "/glade/derecho/scratch/lenssen/data4jonah/GISTEMP_Ensemble_Jan2/ensembleChunk_0199.nc\n",
      "/glade/work/jonahshaw/trend_uncertainty/nathan/OBS_LENS/GISTEMP_2x2/20240217_5x5remap//ensembleChunk_0199.nc\n",
      "/glade/derecho/scratch/lenssen/data4jonah/GISTEMP_Ensemble_Jan2/ensembleChunk_0200.nc\n",
      "/glade/work/jonahshaw/trend_uncertainty/nathan/OBS_LENS/GISTEMP_2x2/20240217_5x5remap//ensembleChunk_0200.nc\n",
      "CPU times: user 38.5 s, sys: 26.5 s, total: 1min 5s\n",
      "Wall time: 1min 49s\n"
     ]
    }
   ],
   "source": [
    "%%time\n",
    "\n",
    "lat_name = 'lat'\n",
    "lon_name = 'lon'\n",
    "var_name = 'tempAnom'\n",
    "\n",
    "# Regrid to match the HadCRUT file\n",
    "target_ds = hadcrut_ex_ds\n",
    "_regridder = None\n",
    "\n",
    "for i,_filepath in enumerate(gistemp_2x2_files):\n",
    "\n",
    "    print(_filepath)\n",
    "    _filename = _filepath.split('/')[-1]\n",
    "    _record = int(_filepath.split('_')[-1][:-3])\n",
    "\n",
    "    _out_path = '%s/%s' % (out_dir,_filename)\n",
    "    print(_out_path)\n",
    "\n",
    "    # Load data\n",
    "    ds      = xr.open_dataset(_filepath,chunks={lat_name:-1,lon_name:-1},decode_times=False)\n",
    "    units, reference_date = ds.time.attrs['units'].split('since')\n",
    "    time_index = ds['time'][0].values\n",
    "    ds['time'] = pd.date_range(start=reference_date, periods=ds.sizes['time']+time_index, freq='MS')[time_index:]\n",
    "\n",
    "    method = 'conservative'\n",
    "    if (_regridder is None):\n",
    "        out_ds,_regridder = regrid(ds,target_ds,ds[var_name],method=method)\n",
    "    else:\n",
    "        out_ds,_ = regrid(ds,target_ds,ds[var_name],method=method,regridder=_regridder)\n",
    "    out_ds = out_ds.compute()\n",
    "\n",
    "    out_ds = out_ds.assign_coords({'record':_record}).expand_dims('record')\n",
    "    \n",
    "    out_ds.to_netcdf(_out_path)\n",
    "    \n",
    "    # if _record==3: break"
   ]
  },
  {
   "cell_type": "markdown",
   "id": "b92f5723-4ea1-47b2-88cf-652e978c8afe",
   "metadata": {},
   "source": [
    "#### Collect GISTEMP 2x2 data interpolated to 5x5 file paths."
   ]
  },
  {
   "cell_type": "code",
   "execution_count": 76,
   "id": "12114dce-8c32-4077-b854-cb0ca4067d4c",
   "metadata": {},
   "outputs": [],
   "source": [
    "gistemp_2x2_5x5_files = glob.glob('%s/ensembleChunk_????.nc' % out_dir)\n",
    "gistemp_2x2_5x5_files.sort()"
   ]
  },
  {
   "cell_type": "markdown",
   "id": "16d8c75a-9e16-4394-87bf-f7aa4bc85422",
   "metadata": {},
   "source": [
    "#### Collect GISTEMP 5x5 file paths."
   ]
  },
  {
   "cell_type": "code",
   "execution_count": 3,
   "id": "c1f6559b-8856-48c7-9757-2554036c9787",
   "metadata": {},
   "outputs": [],
   "source": [
    "# gistemp_5x5_files = glob.glob('%s/*.nc' % gistemp_5x5_dir)\n",
    "# gistemp_5x5_files.sort()"
   ]
  },
  {
   "cell_type": "markdown",
   "id": "64c8fb55-5129-4ab7-9dca-3f14247baa74",
   "metadata": {},
   "source": [
    "#### Collect HadCRUT5 file paths."
   ]
  },
  {
   "cell_type": "code",
   "execution_count": 4,
   "id": "dfd20196-a9a1-44e4-b014-aaee3e1ac8b4",
   "metadata": {},
   "outputs": [],
   "source": [
    "# hadcrut5_files = glob.glob('%s/*.nc' % hadcrut5_dir)\n",
    "# hadcrut5_files.sort()"
   ]
  },
  {
   "cell_type": "markdown",
   "id": "b3cfe0ac-40c3-4739-bd4c-ceb1f47c156c",
   "metadata": {},
   "source": [
    "### Process time series into unforced trends as a function of trend duration"
   ]
  },
  {
   "cell_type": "markdown",
   "id": "120a9157-54f2-4038-8fb9-e1428ee0371e",
   "metadata": {},
   "source": [
    "Using code from:  \n",
    "\n",
    "trend_uncertainty/PIC_trend_preproc.ipynb"
   ]
  },
  {
   "cell_type": "markdown",
   "id": "61854763-36ab-48f7-b297-e0b8cb1c371b",
   "metadata": {},
   "source": [
    "__Define functions:__"
   ]
  },
  {
   "cell_type": "code",
   "execution_count": 86,
   "id": "6a6a3b04-10ba-43a5-bc7c-22bdd1728cbd",
   "metadata": {},
   "outputs": [],
   "source": [
    "# need a wrapper function because you can't groupby multiple dimensions\n",
    "def gettrends_wrapper2(dataarray,dim,sel_dim='time.year'):\n",
    "    \n",
    "    dataarray[dim] = dataarray[sel_dim]\n",
    "\n",
    "    # return dataarray.polyfit(dim=dim,deg=1)['polyfit_coefficients'].sel(degree=1)\n",
    "    \n",
    "    try:\n",
    "        return dataarray.polyfit(dim=dim,deg=1)['polyfit_coefficients'].sel(degree=1)\n",
    "    except ValueError: # Try and catch nan issues and handle them.\n",
    "        print('ERROR:')\n",
    "        print(dim)\n",
    "        print(dataarray)\n",
    "        print(dataarray.polyfit(dim=dim,deg=1))\n",
    "        print(dataarray.polyfit(dim=dim,deg=1)['polyfit_coefficients'])\n",
    "        print(dataarray.polyfit(dim=dim,deg=1)['polyfit_coefficients'].sel(degree=1))\n",
    "        return np.nan\n",
    "\n",
    "def calc_slopes_spatial_ann2(data,_startyr,_endyr,wrapper_func):\n",
    "    '''\n",
    "    Separate function for the annual trends because I was dumb.\n",
    "    '''\n",
    "    \n",
    "    tsel = data.sel(year=slice(None,_endyr))\n",
    "    \n",
    "    # Test for regions with nans and mask them. polyfit breaks when there are less than 3 non-nans.\n",
    "    nan_mask = ((~np.isnan(tsel)).sum(dim='year') > 2)\n",
    "    tsel = tsel.where(nan_mask,np.nan)\n",
    "    \n",
    "    slopes_endyr_ann = wrapper_func(tsel,dim='year',sel_dim='year').drop('degree')\n",
    "\n",
    "    # slopes_endyr = xr.concat([slopes_endyr,slopes_endyr_ann.assign_coords({'month':13}).expand_dims('month',axis=-1)],dim='month')\n",
    "\n",
    "    slopes_endyr_ann['startyear']  = int(_startyr)\n",
    "    slopes_endyr_ann['duration'] = len(tsel.year)\n",
    "    \n",
    "    return slopes_endyr_ann\n",
    "\n",
    "\n",
    "def calc_trends_noload(data:xr.DataArray,var:str,startyear:str,endyears:np.ndarray,\n",
    "                       wrapper_func,calc_slopes_func):\n",
    "    \n",
    "    '''\n",
    "    Takes data. Computes trends. Quietly and efficiently :)\n",
    "    '''\n",
    "    \n",
    "    slopes_by_dur = []\n",
    "    \n",
    "    for _endyr in endyears: # Dasking here? Yessir.\n",
    "\n",
    "        slopes_by_dur.append(calc_slopes_func(data=data,_startyr=int(startyear),_endyr=_endyr,wrapper_func=wrapper_func))\n",
    "\n",
    "    forced_olrslopes_monthly = xr.concat(slopes_by_dur,dim='duration')\n",
    "    forced_olrslopes_monthly.name=var\n",
    "    \n",
    "    return forced_olrslopes_monthly"
   ]
  },
  {
   "cell_type": "code",
   "execution_count": 6,
   "id": "9af302b5-dd65-4799-8631-6feef288ba26",
   "metadata": {},
   "outputs": [],
   "source": [
    "# Arbitrary function to apply\n",
    "\n",
    "def gistemp_5x5_tselect(da:xr.DataArray):\n",
    "    \n",
    "    return da.sel(time_2=slice(1960,None)).rename({'longitude':'lon','latitude':'lat'})"
   ]
  },
  {
   "cell_type": "code",
   "execution_count": 80,
   "id": "396ff5c0-c534-4250-846a-608afa89c3dc",
   "metadata": {},
   "outputs": [],
   "source": [
    "# Arbitrary function to apply\n",
    "\n",
    "def gistemp_2x2_5x5_tselect(da:xr.DataArray):\n",
    "    \n",
    "    return da.sel(time=slice('1960-01-01',None)).rename({'longitude':'lon','latitude':'lat'})"
   ]
  },
  {
   "cell_type": "markdown",
   "id": "d47055bb-f9c7-439e-bc71-a57399e050ec",
   "metadata": {},
   "source": [
    "### For the observational uncertainty products, there are far more files to open. Need to pivot to another approach."
   ]
  },
  {
   "cell_type": "markdown",
   "id": "0fd421eb-dfc9-4ba9-84b5-365fe2ab10ed",
   "metadata": {},
   "source": [
    "#### GISTEMP_2x2_5x5"
   ]
  },
  {
   "cell_type": "code",
   "execution_count": 83,
   "id": "640bfc4e-5a19-4c78-ad07-1c7302991dd8",
   "metadata": {},
   "outputs": [
    {
     "data": {
      "text/html": [
       "<div><svg style=\"position: absolute; width: 0; height: 0; overflow: hidden\">\n",
       "<defs>\n",
       "<symbol id=\"icon-database\" viewBox=\"0 0 32 32\">\n",
       "<path d=\"M16 0c-8.837 0-16 2.239-16 5v4c0 2.761 7.163 5 16 5s16-2.239 16-5v-4c0-2.761-7.163-5-16-5z\"></path>\n",
       "<path d=\"M16 17c-8.837 0-16-2.239-16-5v6c0 2.761 7.163 5 16 5s16-2.239 16-5v-6c0 2.761-7.163 5-16 5z\"></path>\n",
       "<path d=\"M16 26c-8.837 0-16-2.239-16-5v6c0 2.761 7.163 5 16 5s16-2.239 16-5v-6c0 2.761-7.163 5-16 5z\"></path>\n",
       "</symbol>\n",
       "<symbol id=\"icon-file-text2\" viewBox=\"0 0 32 32\">\n",
       "<path d=\"M28.681 7.159c-0.694-0.947-1.662-2.053-2.724-3.116s-2.169-2.030-3.116-2.724c-1.612-1.182-2.393-1.319-2.841-1.319h-15.5c-1.378 0-2.5 1.121-2.5 2.5v27c0 1.378 1.122 2.5 2.5 2.5h23c1.378 0 2.5-1.122 2.5-2.5v-19.5c0-0.448-0.137-1.23-1.319-2.841zM24.543 5.457c0.959 0.959 1.712 1.825 2.268 2.543h-4.811v-4.811c0.718 0.556 1.584 1.309 2.543 2.268zM28 29.5c0 0.271-0.229 0.5-0.5 0.5h-23c-0.271 0-0.5-0.229-0.5-0.5v-27c0-0.271 0.229-0.5 0.5-0.5 0 0 15.499-0 15.5 0v7c0 0.552 0.448 1 1 1h7v19.5z\"></path>\n",
       "<path d=\"M23 26h-14c-0.552 0-1-0.448-1-1s0.448-1 1-1h14c0.552 0 1 0.448 1 1s-0.448 1-1 1z\"></path>\n",
       "<path d=\"M23 22h-14c-0.552 0-1-0.448-1-1s0.448-1 1-1h14c0.552 0 1 0.448 1 1s-0.448 1-1 1z\"></path>\n",
       "<path d=\"M23 18h-14c-0.552 0-1-0.448-1-1s0.448-1 1-1h14c0.552 0 1 0.448 1 1s-0.448 1-1 1z\"></path>\n",
       "</symbol>\n",
       "</defs>\n",
       "</svg>\n",
       "<style>/* CSS stylesheet for displaying xarray objects in jupyterlab.\n",
       " *\n",
       " */\n",
       "\n",
       ":root {\n",
       "  --xr-font-color0: var(--jp-content-font-color0, rgba(0, 0, 0, 1));\n",
       "  --xr-font-color2: var(--jp-content-font-color2, rgba(0, 0, 0, 0.54));\n",
       "  --xr-font-color3: var(--jp-content-font-color3, rgba(0, 0, 0, 0.38));\n",
       "  --xr-border-color: var(--jp-border-color2, #e0e0e0);\n",
       "  --xr-disabled-color: var(--jp-layout-color3, #bdbdbd);\n",
       "  --xr-background-color: var(--jp-layout-color0, white);\n",
       "  --xr-background-color-row-even: var(--jp-layout-color1, white);\n",
       "  --xr-background-color-row-odd: var(--jp-layout-color2, #eeeeee);\n",
       "}\n",
       "\n",
       "html[theme=dark],\n",
       "body.vscode-dark {\n",
       "  --xr-font-color0: rgba(255, 255, 255, 1);\n",
       "  --xr-font-color2: rgba(255, 255, 255, 0.54);\n",
       "  --xr-font-color3: rgba(255, 255, 255, 0.38);\n",
       "  --xr-border-color: #1F1F1F;\n",
       "  --xr-disabled-color: #515151;\n",
       "  --xr-background-color: #111111;\n",
       "  --xr-background-color-row-even: #111111;\n",
       "  --xr-background-color-row-odd: #313131;\n",
       "}\n",
       "\n",
       ".xr-wrap {\n",
       "  display: block;\n",
       "  min-width: 300px;\n",
       "  max-width: 700px;\n",
       "}\n",
       "\n",
       ".xr-text-repr-fallback {\n",
       "  /* fallback to plain text repr when CSS is not injected (untrusted notebook) */\n",
       "  display: none;\n",
       "}\n",
       "\n",
       ".xr-header {\n",
       "  padding-top: 6px;\n",
       "  padding-bottom: 6px;\n",
       "  margin-bottom: 4px;\n",
       "  border-bottom: solid 1px var(--xr-border-color);\n",
       "}\n",
       "\n",
       ".xr-header > div,\n",
       ".xr-header > ul {\n",
       "  display: inline;\n",
       "  margin-top: 0;\n",
       "  margin-bottom: 0;\n",
       "}\n",
       "\n",
       ".xr-obj-type,\n",
       ".xr-array-name {\n",
       "  margin-left: 2px;\n",
       "  margin-right: 10px;\n",
       "}\n",
       "\n",
       ".xr-obj-type {\n",
       "  color: var(--xr-font-color2);\n",
       "}\n",
       "\n",
       ".xr-sections {\n",
       "  padding-left: 0 !important;\n",
       "  display: grid;\n",
       "  grid-template-columns: 150px auto auto 1fr 20px 20px;\n",
       "}\n",
       "\n",
       ".xr-section-item {\n",
       "  display: contents;\n",
       "}\n",
       "\n",
       ".xr-section-item input {\n",
       "  display: none;\n",
       "}\n",
       "\n",
       ".xr-section-item input + label {\n",
       "  color: var(--xr-disabled-color);\n",
       "}\n",
       "\n",
       ".xr-section-item input:enabled + label {\n",
       "  cursor: pointer;\n",
       "  color: var(--xr-font-color2);\n",
       "}\n",
       "\n",
       ".xr-section-item input:enabled + label:hover {\n",
       "  color: var(--xr-font-color0);\n",
       "}\n",
       "\n",
       ".xr-section-summary {\n",
       "  grid-column: 1;\n",
       "  color: var(--xr-font-color2);\n",
       "  font-weight: 500;\n",
       "}\n",
       "\n",
       ".xr-section-summary > span {\n",
       "  display: inline-block;\n",
       "  padding-left: 0.5em;\n",
       "}\n",
       "\n",
       ".xr-section-summary-in:disabled + label {\n",
       "  color: var(--xr-font-color2);\n",
       "}\n",
       "\n",
       ".xr-section-summary-in + label:before {\n",
       "  display: inline-block;\n",
       "  content: '►';\n",
       "  font-size: 11px;\n",
       "  width: 15px;\n",
       "  text-align: center;\n",
       "}\n",
       "\n",
       ".xr-section-summary-in:disabled + label:before {\n",
       "  color: var(--xr-disabled-color);\n",
       "}\n",
       "\n",
       ".xr-section-summary-in:checked + label:before {\n",
       "  content: '▼';\n",
       "}\n",
       "\n",
       ".xr-section-summary-in:checked + label > span {\n",
       "  display: none;\n",
       "}\n",
       "\n",
       ".xr-section-summary,\n",
       ".xr-section-inline-details {\n",
       "  padding-top: 4px;\n",
       "  padding-bottom: 4px;\n",
       "}\n",
       "\n",
       ".xr-section-inline-details {\n",
       "  grid-column: 2 / -1;\n",
       "}\n",
       "\n",
       ".xr-section-details {\n",
       "  display: none;\n",
       "  grid-column: 1 / -1;\n",
       "  margin-bottom: 5px;\n",
       "}\n",
       "\n",
       ".xr-section-summary-in:checked ~ .xr-section-details {\n",
       "  display: contents;\n",
       "}\n",
       "\n",
       ".xr-array-wrap {\n",
       "  grid-column: 1 / -1;\n",
       "  display: grid;\n",
       "  grid-template-columns: 20px auto;\n",
       "}\n",
       "\n",
       ".xr-array-wrap > label {\n",
       "  grid-column: 1;\n",
       "  vertical-align: top;\n",
       "}\n",
       "\n",
       ".xr-preview {\n",
       "  color: var(--xr-font-color3);\n",
       "}\n",
       "\n",
       ".xr-array-preview,\n",
       ".xr-array-data {\n",
       "  padding: 0 5px !important;\n",
       "  grid-column: 2;\n",
       "}\n",
       "\n",
       ".xr-array-data,\n",
       ".xr-array-in:checked ~ .xr-array-preview {\n",
       "  display: none;\n",
       "}\n",
       "\n",
       ".xr-array-in:checked ~ .xr-array-data,\n",
       ".xr-array-preview {\n",
       "  display: inline-block;\n",
       "}\n",
       "\n",
       ".xr-dim-list {\n",
       "  display: inline-block !important;\n",
       "  list-style: none;\n",
       "  padding: 0 !important;\n",
       "  margin: 0;\n",
       "}\n",
       "\n",
       ".xr-dim-list li {\n",
       "  display: inline-block;\n",
       "  padding: 0;\n",
       "  margin: 0;\n",
       "}\n",
       "\n",
       ".xr-dim-list:before {\n",
       "  content: '(';\n",
       "}\n",
       "\n",
       ".xr-dim-list:after {\n",
       "  content: ')';\n",
       "}\n",
       "\n",
       ".xr-dim-list li:not(:last-child):after {\n",
       "  content: ',';\n",
       "  padding-right: 5px;\n",
       "}\n",
       "\n",
       ".xr-has-index {\n",
       "  font-weight: bold;\n",
       "}\n",
       "\n",
       ".xr-var-list,\n",
       ".xr-var-item {\n",
       "  display: contents;\n",
       "}\n",
       "\n",
       ".xr-var-item > div,\n",
       ".xr-var-item label,\n",
       ".xr-var-item > .xr-var-name span {\n",
       "  background-color: var(--xr-background-color-row-even);\n",
       "  margin-bottom: 0;\n",
       "}\n",
       "\n",
       ".xr-var-item > .xr-var-name:hover span {\n",
       "  padding-right: 5px;\n",
       "}\n",
       "\n",
       ".xr-var-list > li:nth-child(odd) > div,\n",
       ".xr-var-list > li:nth-child(odd) > label,\n",
       ".xr-var-list > li:nth-child(odd) > .xr-var-name span {\n",
       "  background-color: var(--xr-background-color-row-odd);\n",
       "}\n",
       "\n",
       ".xr-var-name {\n",
       "  grid-column: 1;\n",
       "}\n",
       "\n",
       ".xr-var-dims {\n",
       "  grid-column: 2;\n",
       "}\n",
       "\n",
       ".xr-var-dtype {\n",
       "  grid-column: 3;\n",
       "  text-align: right;\n",
       "  color: var(--xr-font-color2);\n",
       "}\n",
       "\n",
       ".xr-var-preview {\n",
       "  grid-column: 4;\n",
       "}\n",
       "\n",
       ".xr-var-name,\n",
       ".xr-var-dims,\n",
       ".xr-var-dtype,\n",
       ".xr-preview,\n",
       ".xr-attrs dt {\n",
       "  white-space: nowrap;\n",
       "  overflow: hidden;\n",
       "  text-overflow: ellipsis;\n",
       "  padding-right: 10px;\n",
       "}\n",
       "\n",
       ".xr-var-name:hover,\n",
       ".xr-var-dims:hover,\n",
       ".xr-var-dtype:hover,\n",
       ".xr-attrs dt:hover {\n",
       "  overflow: visible;\n",
       "  width: auto;\n",
       "  z-index: 1;\n",
       "}\n",
       "\n",
       ".xr-var-attrs,\n",
       ".xr-var-data {\n",
       "  display: none;\n",
       "  background-color: var(--xr-background-color) !important;\n",
       "  padding-bottom: 5px !important;\n",
       "}\n",
       "\n",
       ".xr-var-attrs-in:checked ~ .xr-var-attrs,\n",
       ".xr-var-data-in:checked ~ .xr-var-data {\n",
       "  display: block;\n",
       "}\n",
       "\n",
       ".xr-var-data > table {\n",
       "  float: right;\n",
       "}\n",
       "\n",
       ".xr-var-name span,\n",
       ".xr-var-data,\n",
       ".xr-attrs {\n",
       "  padding-left: 25px !important;\n",
       "}\n",
       "\n",
       ".xr-attrs,\n",
       ".xr-var-attrs,\n",
       ".xr-var-data {\n",
       "  grid-column: 1 / -1;\n",
       "}\n",
       "\n",
       "dl.xr-attrs {\n",
       "  padding: 0;\n",
       "  margin: 0;\n",
       "  display: grid;\n",
       "  grid-template-columns: 125px auto;\n",
       "}\n",
       "\n",
       ".xr-attrs dt, dd {\n",
       "  padding: 0;\n",
       "  margin: 0;\n",
       "  float: left;\n",
       "  padding-right: 10px;\n",
       "  width: auto;\n",
       "}\n",
       "\n",
       ".xr-attrs dt {\n",
       "  font-weight: normal;\n",
       "  grid-column: 1;\n",
       "}\n",
       "\n",
       ".xr-attrs dt:hover span {\n",
       "  display: inline-block;\n",
       "  background: var(--xr-background-color);\n",
       "  padding-right: 10px;\n",
       "}\n",
       "\n",
       ".xr-attrs dd {\n",
       "  grid-column: 2;\n",
       "  white-space: pre-wrap;\n",
       "  word-break: break-all;\n",
       "}\n",
       "\n",
       ".xr-icon-database,\n",
       ".xr-icon-file-text2 {\n",
       "  display: inline-block;\n",
       "  vertical-align: middle;\n",
       "  width: 1em;\n",
       "  height: 1.5em !important;\n",
       "  stroke-width: 0;\n",
       "  stroke: currentColor;\n",
       "  fill: currentColor;\n",
       "}\n",
       "</style><pre class='xr-text-repr-fallback'>&lt;xarray.DataArray &#x27;tempAnom&#x27; (record: 1, time: 732, lat: 36, lon: 72)&gt;\n",
       "dask.array&lt;getitem, shape=(1, 732, 36, 72), dtype=float64, chunksize=(1, 732, 36, 72), chunktype=numpy.ndarray&gt;\n",
       "Coordinates:\n",
       "  * time     (time) datetime64[ns] 1960-01-01 1960-02-01 ... 2020-12-01\n",
       "  * lon      (lon) float64 -177.5 -172.5 -167.5 -162.5 ... 167.5 172.5 177.5\n",
       "  * lat      (lat) float64 -87.5 -82.5 -77.5 -72.5 -67.5 ... 72.5 77.5 82.5 87.5\n",
       "  * record   (record) int64 1\n",
       "Attributes:\n",
       "    regrid_method:  conservative</pre><div class='xr-wrap' hidden><div class='xr-header'><div class='xr-obj-type'>xarray.DataArray</div><div class='xr-array-name'>'tempAnom'</div><ul class='xr-dim-list'><li><span class='xr-has-index'>record</span>: 1</li><li><span class='xr-has-index'>time</span>: 732</li><li><span class='xr-has-index'>lat</span>: 36</li><li><span class='xr-has-index'>lon</span>: 72</li></ul></div><ul class='xr-sections'><li class='xr-section-item'><div class='xr-array-wrap'><input id='section-5e3d177e-3094-4d80-9338-d26de0110907' class='xr-array-in' type='checkbox' checked><label for='section-5e3d177e-3094-4d80-9338-d26de0110907' title='Show/hide data repr'><svg class='icon xr-icon-database'><use xlink:href='#icon-database'></use></svg></label><div class='xr-array-preview xr-preview'><span>dask.array&lt;chunksize=(1, 732, 36, 72), meta=np.ndarray&gt;</span></div><div class='xr-array-data'><table>\n",
       "<tr>\n",
       "<td>\n",
       "<table>\n",
       "  <thead>\n",
       "    <tr><td> </td><th> Array </th><th> Chunk </th></tr>\n",
       "  </thead>\n",
       "  <tbody>\n",
       "    <tr><th> Bytes </th><td> 15.18 MB </td> <td> 15.18 MB </td></tr>\n",
       "    <tr><th> Shape </th><td> (1, 732, 36, 72) </td> <td> (1, 732, 36, 72) </td></tr>\n",
       "    <tr><th> Count </th><td> 3 Tasks </td><td> 1 Chunks </td></tr>\n",
       "    <tr><th> Type </th><td> float64 </td><td> numpy.ndarray </td></tr>\n",
       "  </tbody>\n",
       "</table>\n",
       "</td>\n",
       "<td>\n",
       "<svg width=\"349\" height=\"154\" style=\"stroke:rgb(0,0,0);stroke-width:1\" >\n",
       "\n",
       "  <!-- Horizontal lines -->\n",
       "  <line x1=\"0\" y1=\"0\" x2=\"25\" y2=\"0\" style=\"stroke-width:2\" />\n",
       "  <line x1=\"0\" y1=\"25\" x2=\"25\" y2=\"25\" style=\"stroke-width:2\" />\n",
       "\n",
       "  <!-- Vertical lines -->\n",
       "  <line x1=\"0\" y1=\"0\" x2=\"0\" y2=\"25\" style=\"stroke-width:2\" />\n",
       "  <line x1=\"25\" y1=\"0\" x2=\"25\" y2=\"25\" style=\"stroke-width:2\" />\n",
       "\n",
       "  <!-- Colored Rectangle -->\n",
       "  <polygon points=\"0.000000,0.000000 25.412617,0.000000 25.412617,25.412617 0.000000,25.412617\" style=\"fill:#ECB172A0;stroke-width:0\"/>\n",
       "\n",
       "  <!-- Text -->\n",
       "  <text x=\"12.706308\" y=\"45.412617\" font-size=\"1.0rem\" font-weight=\"100\" text-anchor=\"middle\" >1</text>\n",
       "  <text x=\"45.412617\" y=\"12.706308\" font-size=\"1.0rem\" font-weight=\"100\" text-anchor=\"middle\" transform=\"rotate(0,45.412617,12.706308)\">1</text>\n",
       "\n",
       "\n",
       "  <!-- Horizontal lines -->\n",
       "  <line x1=\"95\" y1=\"0\" x2=\"165\" y2=\"70\" style=\"stroke-width:2\" />\n",
       "  <line x1=\"95\" y1=\"34\" x2=\"165\" y2=\"104\" style=\"stroke-width:2\" />\n",
       "\n",
       "  <!-- Vertical lines -->\n",
       "  <line x1=\"95\" y1=\"0\" x2=\"95\" y2=\"34\" style=\"stroke-width:2\" />\n",
       "  <line x1=\"165\" y1=\"70\" x2=\"165\" y2=\"104\" style=\"stroke-width:2\" />\n",
       "\n",
       "  <!-- Colored Rectangle -->\n",
       "  <polygon points=\"95.000000,0.000000 165.588235,70.588235 165.588235,104.988020 95.000000,34.399785\" style=\"fill:#ECB172A0;stroke-width:0\"/>\n",
       "\n",
       "  <!-- Horizontal lines -->\n",
       "  <line x1=\"95\" y1=\"0\" x2=\"133\" y2=\"0\" style=\"stroke-width:2\" />\n",
       "  <line x1=\"165\" y1=\"70\" x2=\"204\" y2=\"70\" style=\"stroke-width:2\" />\n",
       "\n",
       "  <!-- Vertical lines -->\n",
       "  <line x1=\"95\" y1=\"0\" x2=\"165\" y2=\"70\" style=\"stroke-width:2\" />\n",
       "  <line x1=\"133\" y1=\"0\" x2=\"204\" y2=\"70\" style=\"stroke-width:2\" />\n",
       "\n",
       "  <!-- Colored Rectangle -->\n",
       "  <polygon points=\"95.000000,0.000000 133.505055,0.000000 204.093291,70.588235 165.588235,70.588235\" style=\"fill:#ECB172A0;stroke-width:0\"/>\n",
       "\n",
       "  <!-- Horizontal lines -->\n",
       "  <line x1=\"165\" y1=\"70\" x2=\"204\" y2=\"70\" style=\"stroke-width:2\" />\n",
       "  <line x1=\"165\" y1=\"104\" x2=\"204\" y2=\"104\" style=\"stroke-width:2\" />\n",
       "\n",
       "  <!-- Vertical lines -->\n",
       "  <line x1=\"165\" y1=\"70\" x2=\"165\" y2=\"104\" style=\"stroke-width:2\" />\n",
       "  <line x1=\"204\" y1=\"70\" x2=\"204\" y2=\"104\" style=\"stroke-width:2\" />\n",
       "\n",
       "  <!-- Colored Rectangle -->\n",
       "  <polygon points=\"165.588235,70.588235 204.093291,70.588235 204.093291,104.988020 165.588235,104.988020\" style=\"fill:#ECB172A0;stroke-width:0\"/>\n",
       "\n",
       "  <!-- Text -->\n",
       "  <text x=\"184.840763\" y=\"124.988020\" font-size=\"1.0rem\" font-weight=\"100\" text-anchor=\"middle\" >72</text>\n",
       "  <text x=\"224.093291\" y=\"87.788128\" font-size=\"1.0rem\" font-weight=\"100\" text-anchor=\"middle\" transform=\"rotate(0,224.093291,87.788128)\">36</text>\n",
       "  <text x=\"120.294118\" y=\"89.693902\" font-size=\"1.0rem\" font-weight=\"100\" text-anchor=\"middle\" transform=\"rotate(45,120.294118,89.693902)\">732</text>\n",
       "</svg>\n",
       "</td>\n",
       "</tr>\n",
       "</table></div></div></li><li class='xr-section-item'><input id='section-a05877ea-6074-4187-ad20-6069793e27d1' class='xr-section-summary-in' type='checkbox'  checked><label for='section-a05877ea-6074-4187-ad20-6069793e27d1' class='xr-section-summary' >Coordinates: <span>(4)</span></label><div class='xr-section-inline-details'></div><div class='xr-section-details'><ul class='xr-var-list'><li class='xr-var-item'><div class='xr-var-name'><span class='xr-has-index'>time</span></div><div class='xr-var-dims'>(time)</div><div class='xr-var-dtype'>datetime64[ns]</div><div class='xr-var-preview xr-preview'>1960-01-01 ... 2020-12-01</div><input id='attrs-d7be7fa5-cc88-4e74-a195-553834fae441' class='xr-var-attrs-in' type='checkbox' disabled><label for='attrs-d7be7fa5-cc88-4e74-a195-553834fae441' title='Show/Hide attributes'><svg class='icon xr-icon-file-text2'><use xlink:href='#icon-file-text2'></use></svg></label><input id='data-7b5ae11c-088b-4a3f-a6ba-0abec319eb21' class='xr-var-data-in' type='checkbox'><label for='data-7b5ae11c-088b-4a3f-a6ba-0abec319eb21' title='Show/Hide data repr'><svg class='icon xr-icon-database'><use xlink:href='#icon-database'></use></svg></label><div class='xr-var-attrs'><dl class='xr-attrs'></dl></div><div class='xr-var-data'><pre>array([&#x27;1960-01-01T00:00:00.000000000&#x27;, &#x27;1960-02-01T00:00:00.000000000&#x27;,\n",
       "       &#x27;1960-03-01T00:00:00.000000000&#x27;, ..., &#x27;2020-10-01T00:00:00.000000000&#x27;,\n",
       "       &#x27;2020-11-01T00:00:00.000000000&#x27;, &#x27;2020-12-01T00:00:00.000000000&#x27;],\n",
       "      dtype=&#x27;datetime64[ns]&#x27;)</pre></div></li><li class='xr-var-item'><div class='xr-var-name'><span class='xr-has-index'>lon</span></div><div class='xr-var-dims'>(lon)</div><div class='xr-var-dtype'>float64</div><div class='xr-var-preview xr-preview'>-177.5 -172.5 ... 172.5 177.5</div><input id='attrs-c5089a61-c867-40b7-8ced-b93c62388dd9' class='xr-var-attrs-in' type='checkbox' disabled><label for='attrs-c5089a61-c867-40b7-8ced-b93c62388dd9' title='Show/Hide attributes'><svg class='icon xr-icon-file-text2'><use xlink:href='#icon-file-text2'></use></svg></label><input id='data-18009cf7-9163-42ac-ad60-99c37d688a8c' class='xr-var-data-in' type='checkbox'><label for='data-18009cf7-9163-42ac-ad60-99c37d688a8c' title='Show/Hide data repr'><svg class='icon xr-icon-database'><use xlink:href='#icon-database'></use></svg></label><div class='xr-var-attrs'><dl class='xr-attrs'></dl></div><div class='xr-var-data'><pre>array([-177.5, -172.5, -167.5, -162.5, -157.5, -152.5, -147.5, -142.5, -137.5,\n",
       "       -132.5, -127.5, -122.5, -117.5, -112.5, -107.5, -102.5,  -97.5,  -92.5,\n",
       "        -87.5,  -82.5,  -77.5,  -72.5,  -67.5,  -62.5,  -57.5,  -52.5,  -47.5,\n",
       "        -42.5,  -37.5,  -32.5,  -27.5,  -22.5,  -17.5,  -12.5,   -7.5,   -2.5,\n",
       "          2.5,    7.5,   12.5,   17.5,   22.5,   27.5,   32.5,   37.5,   42.5,\n",
       "         47.5,   52.5,   57.5,   62.5,   67.5,   72.5,   77.5,   82.5,   87.5,\n",
       "         92.5,   97.5,  102.5,  107.5,  112.5,  117.5,  122.5,  127.5,  132.5,\n",
       "        137.5,  142.5,  147.5,  152.5,  157.5,  162.5,  167.5,  172.5,  177.5])</pre></div></li><li class='xr-var-item'><div class='xr-var-name'><span class='xr-has-index'>lat</span></div><div class='xr-var-dims'>(lat)</div><div class='xr-var-dtype'>float64</div><div class='xr-var-preview xr-preview'>-87.5 -82.5 -77.5 ... 82.5 87.5</div><input id='attrs-0ee9b0d1-0f57-4374-8cb2-fc7cdaa6f421' class='xr-var-attrs-in' type='checkbox' disabled><label for='attrs-0ee9b0d1-0f57-4374-8cb2-fc7cdaa6f421' title='Show/Hide attributes'><svg class='icon xr-icon-file-text2'><use xlink:href='#icon-file-text2'></use></svg></label><input id='data-cfa094b1-461c-4b04-8d6a-b88d5314fccd' class='xr-var-data-in' type='checkbox'><label for='data-cfa094b1-461c-4b04-8d6a-b88d5314fccd' title='Show/Hide data repr'><svg class='icon xr-icon-database'><use xlink:href='#icon-database'></use></svg></label><div class='xr-var-attrs'><dl class='xr-attrs'></dl></div><div class='xr-var-data'><pre>array([-87.5, -82.5, -77.5, -72.5, -67.5, -62.5, -57.5, -52.5, -47.5, -42.5,\n",
       "       -37.5, -32.5, -27.5, -22.5, -17.5, -12.5,  -7.5,  -2.5,   2.5,   7.5,\n",
       "        12.5,  17.5,  22.5,  27.5,  32.5,  37.5,  42.5,  47.5,  52.5,  57.5,\n",
       "        62.5,  67.5,  72.5,  77.5,  82.5,  87.5])</pre></div></li><li class='xr-var-item'><div class='xr-var-name'><span class='xr-has-index'>record</span></div><div class='xr-var-dims'>(record)</div><div class='xr-var-dtype'>int64</div><div class='xr-var-preview xr-preview'>1</div><input id='attrs-cbae35f3-6091-46b6-8610-08853c4c6c0f' class='xr-var-attrs-in' type='checkbox' disabled><label for='attrs-cbae35f3-6091-46b6-8610-08853c4c6c0f' title='Show/Hide attributes'><svg class='icon xr-icon-file-text2'><use xlink:href='#icon-file-text2'></use></svg></label><input id='data-fffd233a-5ddf-4498-9d7d-fcbeab1f089e' class='xr-var-data-in' type='checkbox'><label for='data-fffd233a-5ddf-4498-9d7d-fcbeab1f089e' title='Show/Hide data repr'><svg class='icon xr-icon-database'><use xlink:href='#icon-database'></use></svg></label><div class='xr-var-attrs'><dl class='xr-attrs'></dl></div><div class='xr-var-data'><pre>array([1])</pre></div></li></ul></div></li><li class='xr-section-item'><input id='section-290a5383-71c2-4184-b55e-ed696f9ce7e0' class='xr-section-summary-in' type='checkbox'  checked><label for='section-290a5383-71c2-4184-b55e-ed696f9ce7e0' class='xr-section-summary' >Attributes: <span>(1)</span></label><div class='xr-section-inline-details'></div><div class='xr-section-details'><dl class='xr-attrs'><dt><span>regrid_method :</span></dt><dd>conservative</dd></dl></div></li></ul></div></div>"
      ],
      "text/plain": [
       "<xarray.DataArray 'tempAnom' (record: 1, time: 732, lat: 36, lon: 72)>\n",
       "dask.array<getitem, shape=(1, 732, 36, 72), dtype=float64, chunksize=(1, 732, 36, 72), chunktype=numpy.ndarray>\n",
       "Coordinates:\n",
       "  * time     (time) datetime64[ns] 1960-01-01 1960-02-01 ... 2020-12-01\n",
       "  * lon      (lon) float64 -177.5 -172.5 -167.5 -162.5 ... 167.5 172.5 177.5\n",
       "  * lat      (lat) float64 -87.5 -82.5 -77.5 -72.5 -67.5 ... 72.5 77.5 82.5 87.5\n",
       "  * record   (record) int64 1\n",
       "Attributes:\n",
       "    regrid_method:  conservative"
      ]
     },
     "execution_count": 83,
     "metadata": {},
     "output_type": "execute_result"
    }
   ],
   "source": [
    "data"
   ]
  },
  {
   "cell_type": "code",
   "execution_count": 97,
   "id": "5704f6f7-953a-4c28-b0de-59cecbdaee8f",
   "metadata": {
    "tags": []
   },
   "outputs": [
    {
     "name": "stdout",
     "output_type": "stream",
     "text": [
      "000\n"
     ]
    },
    {
     "name": "stderr",
     "output_type": "stream",
     "text": [
      "/glade/work/jonahshaw/miniconda3/envs/cheydask/lib/python3.7/site-packages/dask/array/numpy_compat.py:41: RuntimeWarning: invalid value encountered in true_divide\n",
      "  x = np.divide(x1, x2, out)\n"
     ]
    },
    {
     "name": "stdout",
     "output_type": "stream",
     "text": [
      "/glade/work/jonahshaw/trend_uncertainty/nathan/OBS_LENS/GISTEMP_2x2/20240217_5x5remap/ensembleChunk_0001.5x5degSpatialTrends.196001-202012.nc\n",
      "000\n"
     ]
    },
    {
     "name": "stderr",
     "output_type": "stream",
     "text": [
      "/glade/work/jonahshaw/miniconda3/envs/cheydask/lib/python3.7/site-packages/dask/array/numpy_compat.py:41: RuntimeWarning: invalid value encountered in true_divide\n",
      "  x = np.divide(x1, x2, out)\n"
     ]
    },
    {
     "name": "stdout",
     "output_type": "stream",
     "text": [
      "/glade/work/jonahshaw/trend_uncertainty/nathan/OBS_LENS/GISTEMP_2x2/20240217_5x5remap/ensembleChunk_0002.5x5degSpatialTrends.196001-202012.nc\n",
      "000\n"
     ]
    },
    {
     "name": "stderr",
     "output_type": "stream",
     "text": [
      "/glade/work/jonahshaw/miniconda3/envs/cheydask/lib/python3.7/site-packages/dask/array/numpy_compat.py:41: RuntimeWarning: invalid value encountered in true_divide\n",
      "  x = np.divide(x1, x2, out)\n"
     ]
    },
    {
     "name": "stdout",
     "output_type": "stream",
     "text": [
      "/glade/work/jonahshaw/trend_uncertainty/nathan/OBS_LENS/GISTEMP_2x2/20240217_5x5remap/ensembleChunk_0003.5x5degSpatialTrends.196001-202012.nc\n",
      "000\n"
     ]
    },
    {
     "name": "stderr",
     "output_type": "stream",
     "text": [
      "/glade/work/jonahshaw/miniconda3/envs/cheydask/lib/python3.7/site-packages/dask/array/numpy_compat.py:41: RuntimeWarning: invalid value encountered in true_divide\n",
      "  x = np.divide(x1, x2, out)\n"
     ]
    },
    {
     "name": "stdout",
     "output_type": "stream",
     "text": [
      "/glade/work/jonahshaw/trend_uncertainty/nathan/OBS_LENS/GISTEMP_2x2/20240217_5x5remap/ensembleChunk_0004.5x5degSpatialTrends.196001-202012.nc\n",
      "000\n"
     ]
    },
    {
     "name": "stderr",
     "output_type": "stream",
     "text": [
      "/glade/work/jonahshaw/miniconda3/envs/cheydask/lib/python3.7/site-packages/dask/array/numpy_compat.py:41: RuntimeWarning: invalid value encountered in true_divide\n",
      "  x = np.divide(x1, x2, out)\n"
     ]
    },
    {
     "name": "stdout",
     "output_type": "stream",
     "text": [
      "/glade/work/jonahshaw/trend_uncertainty/nathan/OBS_LENS/GISTEMP_2x2/20240217_5x5remap/ensembleChunk_0005.5x5degSpatialTrends.196001-202012.nc\n",
      "000\n"
     ]
    },
    {
     "name": "stderr",
     "output_type": "stream",
     "text": [
      "/glade/work/jonahshaw/miniconda3/envs/cheydask/lib/python3.7/site-packages/dask/array/numpy_compat.py:41: RuntimeWarning: invalid value encountered in true_divide\n",
      "  x = np.divide(x1, x2, out)\n"
     ]
    },
    {
     "name": "stdout",
     "output_type": "stream",
     "text": [
      "/glade/work/jonahshaw/trend_uncertainty/nathan/OBS_LENS/GISTEMP_2x2/20240217_5x5remap/ensembleChunk_0006.5x5degSpatialTrends.196001-202012.nc\n",
      "000\n"
     ]
    },
    {
     "name": "stderr",
     "output_type": "stream",
     "text": [
      "/glade/work/jonahshaw/miniconda3/envs/cheydask/lib/python3.7/site-packages/dask/array/numpy_compat.py:41: RuntimeWarning: invalid value encountered in true_divide\n",
      "  x = np.divide(x1, x2, out)\n"
     ]
    },
    {
     "name": "stdout",
     "output_type": "stream",
     "text": [
      "/glade/work/jonahshaw/trend_uncertainty/nathan/OBS_LENS/GISTEMP_2x2/20240217_5x5remap/ensembleChunk_0007.5x5degSpatialTrends.196001-202012.nc\n",
      "000\n"
     ]
    },
    {
     "name": "stderr",
     "output_type": "stream",
     "text": [
      "/glade/work/jonahshaw/miniconda3/envs/cheydask/lib/python3.7/site-packages/dask/array/numpy_compat.py:41: RuntimeWarning: invalid value encountered in true_divide\n",
      "  x = np.divide(x1, x2, out)\n"
     ]
    },
    {
     "name": "stdout",
     "output_type": "stream",
     "text": [
      "/glade/work/jonahshaw/trend_uncertainty/nathan/OBS_LENS/GISTEMP_2x2/20240217_5x5remap/ensembleChunk_0008.5x5degSpatialTrends.196001-202012.nc\n",
      "000\n"
     ]
    },
    {
     "name": "stderr",
     "output_type": "stream",
     "text": [
      "/glade/work/jonahshaw/miniconda3/envs/cheydask/lib/python3.7/site-packages/dask/array/numpy_compat.py:41: RuntimeWarning: invalid value encountered in true_divide\n",
      "  x = np.divide(x1, x2, out)\n"
     ]
    },
    {
     "name": "stdout",
     "output_type": "stream",
     "text": [
      "/glade/work/jonahshaw/trend_uncertainty/nathan/OBS_LENS/GISTEMP_2x2/20240217_5x5remap/ensembleChunk_0009.5x5degSpatialTrends.196001-202012.nc\n",
      "001\n"
     ]
    },
    {
     "name": "stderr",
     "output_type": "stream",
     "text": [
      "/glade/work/jonahshaw/miniconda3/envs/cheydask/lib/python3.7/site-packages/dask/array/numpy_compat.py:41: RuntimeWarning: invalid value encountered in true_divide\n",
      "  x = np.divide(x1, x2, out)\n"
     ]
    },
    {
     "name": "stdout",
     "output_type": "stream",
     "text": [
      "/glade/work/jonahshaw/trend_uncertainty/nathan/OBS_LENS/GISTEMP_2x2/20240217_5x5remap/ensembleChunk_0010.5x5degSpatialTrends.196001-202012.nc\n",
      "001\n"
     ]
    },
    {
     "name": "stderr",
     "output_type": "stream",
     "text": [
      "/glade/work/jonahshaw/miniconda3/envs/cheydask/lib/python3.7/site-packages/dask/array/numpy_compat.py:41: RuntimeWarning: invalid value encountered in true_divide\n",
      "  x = np.divide(x1, x2, out)\n"
     ]
    },
    {
     "name": "stdout",
     "output_type": "stream",
     "text": [
      "/glade/work/jonahshaw/trend_uncertainty/nathan/OBS_LENS/GISTEMP_2x2/20240217_5x5remap/ensembleChunk_0011.5x5degSpatialTrends.196001-202012.nc\n",
      "001\n"
     ]
    },
    {
     "name": "stderr",
     "output_type": "stream",
     "text": [
      "/glade/work/jonahshaw/miniconda3/envs/cheydask/lib/python3.7/site-packages/dask/array/numpy_compat.py:41: RuntimeWarning: invalid value encountered in true_divide\n",
      "  x = np.divide(x1, x2, out)\n"
     ]
    },
    {
     "name": "stdout",
     "output_type": "stream",
     "text": [
      "/glade/work/jonahshaw/trend_uncertainty/nathan/OBS_LENS/GISTEMP_2x2/20240217_5x5remap/ensembleChunk_0012.5x5degSpatialTrends.196001-202012.nc\n",
      "001\n"
     ]
    },
    {
     "name": "stderr",
     "output_type": "stream",
     "text": [
      "/glade/work/jonahshaw/miniconda3/envs/cheydask/lib/python3.7/site-packages/dask/array/numpy_compat.py:41: RuntimeWarning: invalid value encountered in true_divide\n",
      "  x = np.divide(x1, x2, out)\n"
     ]
    },
    {
     "name": "stdout",
     "output_type": "stream",
     "text": [
      "/glade/work/jonahshaw/trend_uncertainty/nathan/OBS_LENS/GISTEMP_2x2/20240217_5x5remap/ensembleChunk_0013.5x5degSpatialTrends.196001-202012.nc\n",
      "001\n"
     ]
    },
    {
     "name": "stderr",
     "output_type": "stream",
     "text": [
      "/glade/work/jonahshaw/miniconda3/envs/cheydask/lib/python3.7/site-packages/dask/array/numpy_compat.py:41: RuntimeWarning: invalid value encountered in true_divide\n",
      "  x = np.divide(x1, x2, out)\n"
     ]
    },
    {
     "name": "stdout",
     "output_type": "stream",
     "text": [
      "/glade/work/jonahshaw/trend_uncertainty/nathan/OBS_LENS/GISTEMP_2x2/20240217_5x5remap/ensembleChunk_0014.5x5degSpatialTrends.196001-202012.nc\n",
      "001\n"
     ]
    },
    {
     "name": "stderr",
     "output_type": "stream",
     "text": [
      "/glade/work/jonahshaw/miniconda3/envs/cheydask/lib/python3.7/site-packages/dask/array/numpy_compat.py:41: RuntimeWarning: invalid value encountered in true_divide\n",
      "  x = np.divide(x1, x2, out)\n"
     ]
    },
    {
     "name": "stdout",
     "output_type": "stream",
     "text": [
      "/glade/work/jonahshaw/trend_uncertainty/nathan/OBS_LENS/GISTEMP_2x2/20240217_5x5remap/ensembleChunk_0015.5x5degSpatialTrends.196001-202012.nc\n",
      "001\n"
     ]
    },
    {
     "name": "stderr",
     "output_type": "stream",
     "text": [
      "/glade/work/jonahshaw/miniconda3/envs/cheydask/lib/python3.7/site-packages/dask/array/numpy_compat.py:41: RuntimeWarning: invalid value encountered in true_divide\n",
      "  x = np.divide(x1, x2, out)\n"
     ]
    },
    {
     "name": "stdout",
     "output_type": "stream",
     "text": [
      "/glade/work/jonahshaw/trend_uncertainty/nathan/OBS_LENS/GISTEMP_2x2/20240217_5x5remap/ensembleChunk_0016.5x5degSpatialTrends.196001-202012.nc\n",
      "001\n"
     ]
    },
    {
     "name": "stderr",
     "output_type": "stream",
     "text": [
      "/glade/work/jonahshaw/miniconda3/envs/cheydask/lib/python3.7/site-packages/dask/array/numpy_compat.py:41: RuntimeWarning: invalid value encountered in true_divide\n",
      "  x = np.divide(x1, x2, out)\n"
     ]
    },
    {
     "name": "stdout",
     "output_type": "stream",
     "text": [
      "/glade/work/jonahshaw/trend_uncertainty/nathan/OBS_LENS/GISTEMP_2x2/20240217_5x5remap/ensembleChunk_0017.5x5degSpatialTrends.196001-202012.nc\n",
      "001\n"
     ]
    },
    {
     "name": "stderr",
     "output_type": "stream",
     "text": [
      "/glade/work/jonahshaw/miniconda3/envs/cheydask/lib/python3.7/site-packages/dask/array/numpy_compat.py:41: RuntimeWarning: invalid value encountered in true_divide\n",
      "  x = np.divide(x1, x2, out)\n"
     ]
    },
    {
     "name": "stdout",
     "output_type": "stream",
     "text": [
      "/glade/work/jonahshaw/trend_uncertainty/nathan/OBS_LENS/GISTEMP_2x2/20240217_5x5remap/ensembleChunk_0018.5x5degSpatialTrends.196001-202012.nc\n",
      "001\n"
     ]
    },
    {
     "name": "stderr",
     "output_type": "stream",
     "text": [
      "/glade/work/jonahshaw/miniconda3/envs/cheydask/lib/python3.7/site-packages/dask/array/numpy_compat.py:41: RuntimeWarning: invalid value encountered in true_divide\n",
      "  x = np.divide(x1, x2, out)\n"
     ]
    },
    {
     "name": "stdout",
     "output_type": "stream",
     "text": [
      "/glade/work/jonahshaw/trend_uncertainty/nathan/OBS_LENS/GISTEMP_2x2/20240217_5x5remap/ensembleChunk_0019.5x5degSpatialTrends.196001-202012.nc\n",
      "002\n"
     ]
    },
    {
     "name": "stderr",
     "output_type": "stream",
     "text": [
      "/glade/work/jonahshaw/miniconda3/envs/cheydask/lib/python3.7/site-packages/dask/array/numpy_compat.py:41: RuntimeWarning: invalid value encountered in true_divide\n",
      "  x = np.divide(x1, x2, out)\n"
     ]
    },
    {
     "name": "stdout",
     "output_type": "stream",
     "text": [
      "/glade/work/jonahshaw/trend_uncertainty/nathan/OBS_LENS/GISTEMP_2x2/20240217_5x5remap/ensembleChunk_0020.5x5degSpatialTrends.196001-202012.nc\n",
      "002\n"
     ]
    },
    {
     "name": "stderr",
     "output_type": "stream",
     "text": [
      "/glade/work/jonahshaw/miniconda3/envs/cheydask/lib/python3.7/site-packages/dask/array/numpy_compat.py:41: RuntimeWarning: invalid value encountered in true_divide\n",
      "  x = np.divide(x1, x2, out)\n"
     ]
    },
    {
     "name": "stdout",
     "output_type": "stream",
     "text": [
      "/glade/work/jonahshaw/trend_uncertainty/nathan/OBS_LENS/GISTEMP_2x2/20240217_5x5remap/ensembleChunk_0021.5x5degSpatialTrends.196001-202012.nc\n",
      "002\n"
     ]
    },
    {
     "name": "stderr",
     "output_type": "stream",
     "text": [
      "/glade/work/jonahshaw/miniconda3/envs/cheydask/lib/python3.7/site-packages/dask/array/numpy_compat.py:41: RuntimeWarning: invalid value encountered in true_divide\n",
      "  x = np.divide(x1, x2, out)\n"
     ]
    },
    {
     "name": "stdout",
     "output_type": "stream",
     "text": [
      "/glade/work/jonahshaw/trend_uncertainty/nathan/OBS_LENS/GISTEMP_2x2/20240217_5x5remap/ensembleChunk_0022.5x5degSpatialTrends.196001-202012.nc\n",
      "002\n"
     ]
    },
    {
     "name": "stderr",
     "output_type": "stream",
     "text": [
      "/glade/work/jonahshaw/miniconda3/envs/cheydask/lib/python3.7/site-packages/dask/array/numpy_compat.py:41: RuntimeWarning: invalid value encountered in true_divide\n",
      "  x = np.divide(x1, x2, out)\n"
     ]
    },
    {
     "name": "stdout",
     "output_type": "stream",
     "text": [
      "/glade/work/jonahshaw/trend_uncertainty/nathan/OBS_LENS/GISTEMP_2x2/20240217_5x5remap/ensembleChunk_0023.5x5degSpatialTrends.196001-202012.nc\n",
      "002\n"
     ]
    },
    {
     "name": "stderr",
     "output_type": "stream",
     "text": [
      "/glade/work/jonahshaw/miniconda3/envs/cheydask/lib/python3.7/site-packages/dask/array/numpy_compat.py:41: RuntimeWarning: invalid value encountered in true_divide\n",
      "  x = np.divide(x1, x2, out)\n"
     ]
    },
    {
     "name": "stdout",
     "output_type": "stream",
     "text": [
      "/glade/work/jonahshaw/trend_uncertainty/nathan/OBS_LENS/GISTEMP_2x2/20240217_5x5remap/ensembleChunk_0024.5x5degSpatialTrends.196001-202012.nc\n",
      "002\n"
     ]
    },
    {
     "name": "stderr",
     "output_type": "stream",
     "text": [
      "/glade/work/jonahshaw/miniconda3/envs/cheydask/lib/python3.7/site-packages/dask/array/numpy_compat.py:41: RuntimeWarning: invalid value encountered in true_divide\n",
      "  x = np.divide(x1, x2, out)\n"
     ]
    },
    {
     "name": "stdout",
     "output_type": "stream",
     "text": [
      "/glade/work/jonahshaw/trend_uncertainty/nathan/OBS_LENS/GISTEMP_2x2/20240217_5x5remap/ensembleChunk_0025.5x5degSpatialTrends.196001-202012.nc\n",
      "002\n"
     ]
    },
    {
     "name": "stderr",
     "output_type": "stream",
     "text": [
      "/glade/work/jonahshaw/miniconda3/envs/cheydask/lib/python3.7/site-packages/dask/array/numpy_compat.py:41: RuntimeWarning: invalid value encountered in true_divide\n",
      "  x = np.divide(x1, x2, out)\n"
     ]
    },
    {
     "name": "stdout",
     "output_type": "stream",
     "text": [
      "/glade/work/jonahshaw/trend_uncertainty/nathan/OBS_LENS/GISTEMP_2x2/20240217_5x5remap/ensembleChunk_0026.5x5degSpatialTrends.196001-202012.nc\n",
      "002\n"
     ]
    },
    {
     "name": "stderr",
     "output_type": "stream",
     "text": [
      "/glade/work/jonahshaw/miniconda3/envs/cheydask/lib/python3.7/site-packages/dask/array/numpy_compat.py:41: RuntimeWarning: invalid value encountered in true_divide\n",
      "  x = np.divide(x1, x2, out)\n"
     ]
    },
    {
     "name": "stdout",
     "output_type": "stream",
     "text": [
      "/glade/work/jonahshaw/trend_uncertainty/nathan/OBS_LENS/GISTEMP_2x2/20240217_5x5remap/ensembleChunk_0027.5x5degSpatialTrends.196001-202012.nc\n",
      "002\n"
     ]
    },
    {
     "name": "stderr",
     "output_type": "stream",
     "text": [
      "/glade/work/jonahshaw/miniconda3/envs/cheydask/lib/python3.7/site-packages/dask/array/numpy_compat.py:41: RuntimeWarning: invalid value encountered in true_divide\n",
      "  x = np.divide(x1, x2, out)\n"
     ]
    },
    {
     "name": "stdout",
     "output_type": "stream",
     "text": [
      "/glade/work/jonahshaw/trend_uncertainty/nathan/OBS_LENS/GISTEMP_2x2/20240217_5x5remap/ensembleChunk_0028.5x5degSpatialTrends.196001-202012.nc\n",
      "002\n"
     ]
    },
    {
     "name": "stderr",
     "output_type": "stream",
     "text": [
      "/glade/work/jonahshaw/miniconda3/envs/cheydask/lib/python3.7/site-packages/dask/array/numpy_compat.py:41: RuntimeWarning: invalid value encountered in true_divide\n",
      "  x = np.divide(x1, x2, out)\n"
     ]
    },
    {
     "name": "stdout",
     "output_type": "stream",
     "text": [
      "/glade/work/jonahshaw/trend_uncertainty/nathan/OBS_LENS/GISTEMP_2x2/20240217_5x5remap/ensembleChunk_0029.5x5degSpatialTrends.196001-202012.nc\n",
      "003\n"
     ]
    },
    {
     "name": "stderr",
     "output_type": "stream",
     "text": [
      "/glade/work/jonahshaw/miniconda3/envs/cheydask/lib/python3.7/site-packages/dask/array/numpy_compat.py:41: RuntimeWarning: invalid value encountered in true_divide\n",
      "  x = np.divide(x1, x2, out)\n"
     ]
    },
    {
     "name": "stdout",
     "output_type": "stream",
     "text": [
      "/glade/work/jonahshaw/trend_uncertainty/nathan/OBS_LENS/GISTEMP_2x2/20240217_5x5remap/ensembleChunk_0030.5x5degSpatialTrends.196001-202012.nc\n",
      "003\n"
     ]
    },
    {
     "name": "stderr",
     "output_type": "stream",
     "text": [
      "/glade/work/jonahshaw/miniconda3/envs/cheydask/lib/python3.7/site-packages/dask/array/numpy_compat.py:41: RuntimeWarning: invalid value encountered in true_divide\n",
      "  x = np.divide(x1, x2, out)\n"
     ]
    },
    {
     "name": "stdout",
     "output_type": "stream",
     "text": [
      "/glade/work/jonahshaw/trend_uncertainty/nathan/OBS_LENS/GISTEMP_2x2/20240217_5x5remap/ensembleChunk_0031.5x5degSpatialTrends.196001-202012.nc\n",
      "003\n"
     ]
    },
    {
     "name": "stderr",
     "output_type": "stream",
     "text": [
      "/glade/work/jonahshaw/miniconda3/envs/cheydask/lib/python3.7/site-packages/dask/array/numpy_compat.py:41: RuntimeWarning: invalid value encountered in true_divide\n",
      "  x = np.divide(x1, x2, out)\n"
     ]
    },
    {
     "name": "stdout",
     "output_type": "stream",
     "text": [
      "/glade/work/jonahshaw/trend_uncertainty/nathan/OBS_LENS/GISTEMP_2x2/20240217_5x5remap/ensembleChunk_0032.5x5degSpatialTrends.196001-202012.nc\n",
      "003\n"
     ]
    },
    {
     "name": "stderr",
     "output_type": "stream",
     "text": [
      "/glade/work/jonahshaw/miniconda3/envs/cheydask/lib/python3.7/site-packages/dask/array/numpy_compat.py:41: RuntimeWarning: invalid value encountered in true_divide\n",
      "  x = np.divide(x1, x2, out)\n"
     ]
    },
    {
     "name": "stdout",
     "output_type": "stream",
     "text": [
      "/glade/work/jonahshaw/trend_uncertainty/nathan/OBS_LENS/GISTEMP_2x2/20240217_5x5remap/ensembleChunk_0033.5x5degSpatialTrends.196001-202012.nc\n",
      "003\n"
     ]
    },
    {
     "name": "stderr",
     "output_type": "stream",
     "text": [
      "/glade/work/jonahshaw/miniconda3/envs/cheydask/lib/python3.7/site-packages/dask/array/numpy_compat.py:41: RuntimeWarning: invalid value encountered in true_divide\n",
      "  x = np.divide(x1, x2, out)\n"
     ]
    },
    {
     "name": "stdout",
     "output_type": "stream",
     "text": [
      "/glade/work/jonahshaw/trend_uncertainty/nathan/OBS_LENS/GISTEMP_2x2/20240217_5x5remap/ensembleChunk_0034.5x5degSpatialTrends.196001-202012.nc\n",
      "003\n"
     ]
    },
    {
     "name": "stderr",
     "output_type": "stream",
     "text": [
      "/glade/work/jonahshaw/miniconda3/envs/cheydask/lib/python3.7/site-packages/dask/array/numpy_compat.py:41: RuntimeWarning: invalid value encountered in true_divide\n",
      "  x = np.divide(x1, x2, out)\n"
     ]
    },
    {
     "name": "stdout",
     "output_type": "stream",
     "text": [
      "/glade/work/jonahshaw/trend_uncertainty/nathan/OBS_LENS/GISTEMP_2x2/20240217_5x5remap/ensembleChunk_0035.5x5degSpatialTrends.196001-202012.nc\n",
      "003\n"
     ]
    },
    {
     "name": "stderr",
     "output_type": "stream",
     "text": [
      "/glade/work/jonahshaw/miniconda3/envs/cheydask/lib/python3.7/site-packages/dask/array/numpy_compat.py:41: RuntimeWarning: invalid value encountered in true_divide\n",
      "  x = np.divide(x1, x2, out)\n"
     ]
    },
    {
     "name": "stdout",
     "output_type": "stream",
     "text": [
      "/glade/work/jonahshaw/trend_uncertainty/nathan/OBS_LENS/GISTEMP_2x2/20240217_5x5remap/ensembleChunk_0036.5x5degSpatialTrends.196001-202012.nc\n",
      "003\n"
     ]
    },
    {
     "name": "stderr",
     "output_type": "stream",
     "text": [
      "/glade/work/jonahshaw/miniconda3/envs/cheydask/lib/python3.7/site-packages/dask/array/numpy_compat.py:41: RuntimeWarning: invalid value encountered in true_divide\n",
      "  x = np.divide(x1, x2, out)\n"
     ]
    },
    {
     "name": "stdout",
     "output_type": "stream",
     "text": [
      "/glade/work/jonahshaw/trend_uncertainty/nathan/OBS_LENS/GISTEMP_2x2/20240217_5x5remap/ensembleChunk_0037.5x5degSpatialTrends.196001-202012.nc\n",
      "003\n"
     ]
    },
    {
     "name": "stderr",
     "output_type": "stream",
     "text": [
      "/glade/work/jonahshaw/miniconda3/envs/cheydask/lib/python3.7/site-packages/dask/array/numpy_compat.py:41: RuntimeWarning: invalid value encountered in true_divide\n",
      "  x = np.divide(x1, x2, out)\n"
     ]
    },
    {
     "name": "stdout",
     "output_type": "stream",
     "text": [
      "/glade/work/jonahshaw/trend_uncertainty/nathan/OBS_LENS/GISTEMP_2x2/20240217_5x5remap/ensembleChunk_0038.5x5degSpatialTrends.196001-202012.nc\n",
      "003\n"
     ]
    },
    {
     "name": "stderr",
     "output_type": "stream",
     "text": [
      "/glade/work/jonahshaw/miniconda3/envs/cheydask/lib/python3.7/site-packages/dask/array/numpy_compat.py:41: RuntimeWarning: invalid value encountered in true_divide\n",
      "  x = np.divide(x1, x2, out)\n"
     ]
    },
    {
     "name": "stdout",
     "output_type": "stream",
     "text": [
      "/glade/work/jonahshaw/trend_uncertainty/nathan/OBS_LENS/GISTEMP_2x2/20240217_5x5remap/ensembleChunk_0039.5x5degSpatialTrends.196001-202012.nc\n",
      "004\n"
     ]
    },
    {
     "name": "stderr",
     "output_type": "stream",
     "text": [
      "/glade/work/jonahshaw/miniconda3/envs/cheydask/lib/python3.7/site-packages/dask/array/numpy_compat.py:41: RuntimeWarning: invalid value encountered in true_divide\n",
      "  x = np.divide(x1, x2, out)\n"
     ]
    },
    {
     "name": "stdout",
     "output_type": "stream",
     "text": [
      "/glade/work/jonahshaw/trend_uncertainty/nathan/OBS_LENS/GISTEMP_2x2/20240217_5x5remap/ensembleChunk_0040.5x5degSpatialTrends.196001-202012.nc\n",
      "004\n"
     ]
    },
    {
     "name": "stderr",
     "output_type": "stream",
     "text": [
      "/glade/work/jonahshaw/miniconda3/envs/cheydask/lib/python3.7/site-packages/dask/array/numpy_compat.py:41: RuntimeWarning: invalid value encountered in true_divide\n",
      "  x = np.divide(x1, x2, out)\n"
     ]
    },
    {
     "name": "stdout",
     "output_type": "stream",
     "text": [
      "/glade/work/jonahshaw/trend_uncertainty/nathan/OBS_LENS/GISTEMP_2x2/20240217_5x5remap/ensembleChunk_0041.5x5degSpatialTrends.196001-202012.nc\n",
      "004\n"
     ]
    },
    {
     "name": "stderr",
     "output_type": "stream",
     "text": [
      "/glade/work/jonahshaw/miniconda3/envs/cheydask/lib/python3.7/site-packages/dask/array/numpy_compat.py:41: RuntimeWarning: invalid value encountered in true_divide\n",
      "  x = np.divide(x1, x2, out)\n"
     ]
    },
    {
     "name": "stdout",
     "output_type": "stream",
     "text": [
      "/glade/work/jonahshaw/trend_uncertainty/nathan/OBS_LENS/GISTEMP_2x2/20240217_5x5remap/ensembleChunk_0042.5x5degSpatialTrends.196001-202012.nc\n",
      "004\n"
     ]
    },
    {
     "name": "stderr",
     "output_type": "stream",
     "text": [
      "/glade/work/jonahshaw/miniconda3/envs/cheydask/lib/python3.7/site-packages/dask/array/numpy_compat.py:41: RuntimeWarning: invalid value encountered in true_divide\n",
      "  x = np.divide(x1, x2, out)\n"
     ]
    },
    {
     "name": "stdout",
     "output_type": "stream",
     "text": [
      "/glade/work/jonahshaw/trend_uncertainty/nathan/OBS_LENS/GISTEMP_2x2/20240217_5x5remap/ensembleChunk_0043.5x5degSpatialTrends.196001-202012.nc\n",
      "004\n"
     ]
    },
    {
     "name": "stderr",
     "output_type": "stream",
     "text": [
      "/glade/work/jonahshaw/miniconda3/envs/cheydask/lib/python3.7/site-packages/dask/array/numpy_compat.py:41: RuntimeWarning: invalid value encountered in true_divide\n",
      "  x = np.divide(x1, x2, out)\n"
     ]
    },
    {
     "name": "stdout",
     "output_type": "stream",
     "text": [
      "/glade/work/jonahshaw/trend_uncertainty/nathan/OBS_LENS/GISTEMP_2x2/20240217_5x5remap/ensembleChunk_0044.5x5degSpatialTrends.196001-202012.nc\n",
      "004\n"
     ]
    },
    {
     "name": "stderr",
     "output_type": "stream",
     "text": [
      "/glade/work/jonahshaw/miniconda3/envs/cheydask/lib/python3.7/site-packages/dask/array/numpy_compat.py:41: RuntimeWarning: invalid value encountered in true_divide\n",
      "  x = np.divide(x1, x2, out)\n"
     ]
    },
    {
     "name": "stdout",
     "output_type": "stream",
     "text": [
      "/glade/work/jonahshaw/trend_uncertainty/nathan/OBS_LENS/GISTEMP_2x2/20240217_5x5remap/ensembleChunk_0045.5x5degSpatialTrends.196001-202012.nc\n",
      "004\n"
     ]
    },
    {
     "name": "stderr",
     "output_type": "stream",
     "text": [
      "/glade/work/jonahshaw/miniconda3/envs/cheydask/lib/python3.7/site-packages/dask/array/numpy_compat.py:41: RuntimeWarning: invalid value encountered in true_divide\n",
      "  x = np.divide(x1, x2, out)\n"
     ]
    },
    {
     "name": "stdout",
     "output_type": "stream",
     "text": [
      "/glade/work/jonahshaw/trend_uncertainty/nathan/OBS_LENS/GISTEMP_2x2/20240217_5x5remap/ensembleChunk_0046.5x5degSpatialTrends.196001-202012.nc\n",
      "004\n"
     ]
    },
    {
     "name": "stderr",
     "output_type": "stream",
     "text": [
      "/glade/work/jonahshaw/miniconda3/envs/cheydask/lib/python3.7/site-packages/dask/array/numpy_compat.py:41: RuntimeWarning: invalid value encountered in true_divide\n",
      "  x = np.divide(x1, x2, out)\n"
     ]
    },
    {
     "name": "stdout",
     "output_type": "stream",
     "text": [
      "/glade/work/jonahshaw/trend_uncertainty/nathan/OBS_LENS/GISTEMP_2x2/20240217_5x5remap/ensembleChunk_0047.5x5degSpatialTrends.196001-202012.nc\n",
      "004\n"
     ]
    },
    {
     "name": "stderr",
     "output_type": "stream",
     "text": [
      "/glade/work/jonahshaw/miniconda3/envs/cheydask/lib/python3.7/site-packages/dask/array/numpy_compat.py:41: RuntimeWarning: invalid value encountered in true_divide\n",
      "  x = np.divide(x1, x2, out)\n"
     ]
    },
    {
     "name": "stdout",
     "output_type": "stream",
     "text": [
      "/glade/work/jonahshaw/trend_uncertainty/nathan/OBS_LENS/GISTEMP_2x2/20240217_5x5remap/ensembleChunk_0048.5x5degSpatialTrends.196001-202012.nc\n",
      "004\n"
     ]
    },
    {
     "name": "stderr",
     "output_type": "stream",
     "text": [
      "/glade/work/jonahshaw/miniconda3/envs/cheydask/lib/python3.7/site-packages/dask/array/numpy_compat.py:41: RuntimeWarning: invalid value encountered in true_divide\n",
      "  x = np.divide(x1, x2, out)\n"
     ]
    },
    {
     "name": "stdout",
     "output_type": "stream",
     "text": [
      "/glade/work/jonahshaw/trend_uncertainty/nathan/OBS_LENS/GISTEMP_2x2/20240217_5x5remap/ensembleChunk_0049.5x5degSpatialTrends.196001-202012.nc\n",
      "005\n"
     ]
    },
    {
     "name": "stderr",
     "output_type": "stream",
     "text": [
      "/glade/work/jonahshaw/miniconda3/envs/cheydask/lib/python3.7/site-packages/dask/array/numpy_compat.py:41: RuntimeWarning: invalid value encountered in true_divide\n",
      "  x = np.divide(x1, x2, out)\n"
     ]
    },
    {
     "name": "stdout",
     "output_type": "stream",
     "text": [
      "/glade/work/jonahshaw/trend_uncertainty/nathan/OBS_LENS/GISTEMP_2x2/20240217_5x5remap/ensembleChunk_0050.5x5degSpatialTrends.196001-202012.nc\n",
      "005\n"
     ]
    },
    {
     "name": "stderr",
     "output_type": "stream",
     "text": [
      "/glade/work/jonahshaw/miniconda3/envs/cheydask/lib/python3.7/site-packages/dask/array/numpy_compat.py:41: RuntimeWarning: invalid value encountered in true_divide\n",
      "  x = np.divide(x1, x2, out)\n"
     ]
    },
    {
     "name": "stdout",
     "output_type": "stream",
     "text": [
      "/glade/work/jonahshaw/trend_uncertainty/nathan/OBS_LENS/GISTEMP_2x2/20240217_5x5remap/ensembleChunk_0051.5x5degSpatialTrends.196001-202012.nc\n",
      "005\n"
     ]
    },
    {
     "name": "stderr",
     "output_type": "stream",
     "text": [
      "/glade/work/jonahshaw/miniconda3/envs/cheydask/lib/python3.7/site-packages/dask/array/numpy_compat.py:41: RuntimeWarning: invalid value encountered in true_divide\n",
      "  x = np.divide(x1, x2, out)\n"
     ]
    },
    {
     "name": "stdout",
     "output_type": "stream",
     "text": [
      "/glade/work/jonahshaw/trend_uncertainty/nathan/OBS_LENS/GISTEMP_2x2/20240217_5x5remap/ensembleChunk_0052.5x5degSpatialTrends.196001-202012.nc\n",
      "005\n"
     ]
    },
    {
     "name": "stderr",
     "output_type": "stream",
     "text": [
      "/glade/work/jonahshaw/miniconda3/envs/cheydask/lib/python3.7/site-packages/dask/array/numpy_compat.py:41: RuntimeWarning: invalid value encountered in true_divide\n",
      "  x = np.divide(x1, x2, out)\n"
     ]
    },
    {
     "name": "stdout",
     "output_type": "stream",
     "text": [
      "/glade/work/jonahshaw/trend_uncertainty/nathan/OBS_LENS/GISTEMP_2x2/20240217_5x5remap/ensembleChunk_0053.5x5degSpatialTrends.196001-202012.nc\n",
      "005\n"
     ]
    },
    {
     "name": "stderr",
     "output_type": "stream",
     "text": [
      "/glade/work/jonahshaw/miniconda3/envs/cheydask/lib/python3.7/site-packages/dask/array/numpy_compat.py:41: RuntimeWarning: invalid value encountered in true_divide\n",
      "  x = np.divide(x1, x2, out)\n"
     ]
    },
    {
     "name": "stdout",
     "output_type": "stream",
     "text": [
      "/glade/work/jonahshaw/trend_uncertainty/nathan/OBS_LENS/GISTEMP_2x2/20240217_5x5remap/ensembleChunk_0054.5x5degSpatialTrends.196001-202012.nc\n",
      "005\n"
     ]
    },
    {
     "name": "stderr",
     "output_type": "stream",
     "text": [
      "/glade/work/jonahshaw/miniconda3/envs/cheydask/lib/python3.7/site-packages/dask/array/numpy_compat.py:41: RuntimeWarning: invalid value encountered in true_divide\n",
      "  x = np.divide(x1, x2, out)\n"
     ]
    },
    {
     "name": "stdout",
     "output_type": "stream",
     "text": [
      "/glade/work/jonahshaw/trend_uncertainty/nathan/OBS_LENS/GISTEMP_2x2/20240217_5x5remap/ensembleChunk_0055.5x5degSpatialTrends.196001-202012.nc\n",
      "005\n"
     ]
    },
    {
     "name": "stderr",
     "output_type": "stream",
     "text": [
      "/glade/work/jonahshaw/miniconda3/envs/cheydask/lib/python3.7/site-packages/dask/array/numpy_compat.py:41: RuntimeWarning: invalid value encountered in true_divide\n",
      "  x = np.divide(x1, x2, out)\n"
     ]
    },
    {
     "name": "stdout",
     "output_type": "stream",
     "text": [
      "/glade/work/jonahshaw/trend_uncertainty/nathan/OBS_LENS/GISTEMP_2x2/20240217_5x5remap/ensembleChunk_0056.5x5degSpatialTrends.196001-202012.nc\n",
      "005\n"
     ]
    },
    {
     "name": "stderr",
     "output_type": "stream",
     "text": [
      "/glade/work/jonahshaw/miniconda3/envs/cheydask/lib/python3.7/site-packages/dask/array/numpy_compat.py:41: RuntimeWarning: invalid value encountered in true_divide\n",
      "  x = np.divide(x1, x2, out)\n"
     ]
    },
    {
     "name": "stdout",
     "output_type": "stream",
     "text": [
      "/glade/work/jonahshaw/trend_uncertainty/nathan/OBS_LENS/GISTEMP_2x2/20240217_5x5remap/ensembleChunk_0057.5x5degSpatialTrends.196001-202012.nc\n",
      "005\n"
     ]
    },
    {
     "name": "stderr",
     "output_type": "stream",
     "text": [
      "/glade/work/jonahshaw/miniconda3/envs/cheydask/lib/python3.7/site-packages/dask/array/numpy_compat.py:41: RuntimeWarning: invalid value encountered in true_divide\n",
      "  x = np.divide(x1, x2, out)\n"
     ]
    },
    {
     "name": "stdout",
     "output_type": "stream",
     "text": [
      "/glade/work/jonahshaw/trend_uncertainty/nathan/OBS_LENS/GISTEMP_2x2/20240217_5x5remap/ensembleChunk_0058.5x5degSpatialTrends.196001-202012.nc\n",
      "005\n"
     ]
    },
    {
     "name": "stderr",
     "output_type": "stream",
     "text": [
      "/glade/work/jonahshaw/miniconda3/envs/cheydask/lib/python3.7/site-packages/dask/array/numpy_compat.py:41: RuntimeWarning: invalid value encountered in true_divide\n",
      "  x = np.divide(x1, x2, out)\n"
     ]
    },
    {
     "name": "stdout",
     "output_type": "stream",
     "text": [
      "/glade/work/jonahshaw/trend_uncertainty/nathan/OBS_LENS/GISTEMP_2x2/20240217_5x5remap/ensembleChunk_0059.5x5degSpatialTrends.196001-202012.nc\n",
      "006\n"
     ]
    },
    {
     "name": "stderr",
     "output_type": "stream",
     "text": [
      "/glade/work/jonahshaw/miniconda3/envs/cheydask/lib/python3.7/site-packages/dask/array/numpy_compat.py:41: RuntimeWarning: invalid value encountered in true_divide\n",
      "  x = np.divide(x1, x2, out)\n"
     ]
    },
    {
     "name": "stdout",
     "output_type": "stream",
     "text": [
      "/glade/work/jonahshaw/trend_uncertainty/nathan/OBS_LENS/GISTEMP_2x2/20240217_5x5remap/ensembleChunk_0060.5x5degSpatialTrends.196001-202012.nc\n",
      "006\n"
     ]
    },
    {
     "name": "stderr",
     "output_type": "stream",
     "text": [
      "/glade/work/jonahshaw/miniconda3/envs/cheydask/lib/python3.7/site-packages/dask/array/numpy_compat.py:41: RuntimeWarning: invalid value encountered in true_divide\n",
      "  x = np.divide(x1, x2, out)\n"
     ]
    },
    {
     "name": "stdout",
     "output_type": "stream",
     "text": [
      "/glade/work/jonahshaw/trend_uncertainty/nathan/OBS_LENS/GISTEMP_2x2/20240217_5x5remap/ensembleChunk_0061.5x5degSpatialTrends.196001-202012.nc\n",
      "006\n"
     ]
    },
    {
     "name": "stderr",
     "output_type": "stream",
     "text": [
      "/glade/work/jonahshaw/miniconda3/envs/cheydask/lib/python3.7/site-packages/dask/array/numpy_compat.py:41: RuntimeWarning: invalid value encountered in true_divide\n",
      "  x = np.divide(x1, x2, out)\n"
     ]
    },
    {
     "name": "stdout",
     "output_type": "stream",
     "text": [
      "/glade/work/jonahshaw/trend_uncertainty/nathan/OBS_LENS/GISTEMP_2x2/20240217_5x5remap/ensembleChunk_0062.5x5degSpatialTrends.196001-202012.nc\n",
      "006\n"
     ]
    },
    {
     "name": "stderr",
     "output_type": "stream",
     "text": [
      "/glade/work/jonahshaw/miniconda3/envs/cheydask/lib/python3.7/site-packages/dask/array/numpy_compat.py:41: RuntimeWarning: invalid value encountered in true_divide\n",
      "  x = np.divide(x1, x2, out)\n"
     ]
    },
    {
     "name": "stdout",
     "output_type": "stream",
     "text": [
      "/glade/work/jonahshaw/trend_uncertainty/nathan/OBS_LENS/GISTEMP_2x2/20240217_5x5remap/ensembleChunk_0063.5x5degSpatialTrends.196001-202012.nc\n",
      "006\n"
     ]
    },
    {
     "name": "stderr",
     "output_type": "stream",
     "text": [
      "/glade/work/jonahshaw/miniconda3/envs/cheydask/lib/python3.7/site-packages/dask/array/numpy_compat.py:41: RuntimeWarning: invalid value encountered in true_divide\n",
      "  x = np.divide(x1, x2, out)\n"
     ]
    },
    {
     "name": "stdout",
     "output_type": "stream",
     "text": [
      "/glade/work/jonahshaw/trend_uncertainty/nathan/OBS_LENS/GISTEMP_2x2/20240217_5x5remap/ensembleChunk_0064.5x5degSpatialTrends.196001-202012.nc\n",
      "006\n"
     ]
    },
    {
     "name": "stderr",
     "output_type": "stream",
     "text": [
      "/glade/work/jonahshaw/miniconda3/envs/cheydask/lib/python3.7/site-packages/dask/array/numpy_compat.py:41: RuntimeWarning: invalid value encountered in true_divide\n",
      "  x = np.divide(x1, x2, out)\n"
     ]
    },
    {
     "name": "stdout",
     "output_type": "stream",
     "text": [
      "/glade/work/jonahshaw/trend_uncertainty/nathan/OBS_LENS/GISTEMP_2x2/20240217_5x5remap/ensembleChunk_0065.5x5degSpatialTrends.196001-202012.nc\n",
      "006\n"
     ]
    },
    {
     "name": "stderr",
     "output_type": "stream",
     "text": [
      "/glade/work/jonahshaw/miniconda3/envs/cheydask/lib/python3.7/site-packages/dask/array/numpy_compat.py:41: RuntimeWarning: invalid value encountered in true_divide\n",
      "  x = np.divide(x1, x2, out)\n"
     ]
    },
    {
     "name": "stdout",
     "output_type": "stream",
     "text": [
      "/glade/work/jonahshaw/trend_uncertainty/nathan/OBS_LENS/GISTEMP_2x2/20240217_5x5remap/ensembleChunk_0066.5x5degSpatialTrends.196001-202012.nc\n",
      "006\n"
     ]
    },
    {
     "name": "stderr",
     "output_type": "stream",
     "text": [
      "/glade/work/jonahshaw/miniconda3/envs/cheydask/lib/python3.7/site-packages/dask/array/numpy_compat.py:41: RuntimeWarning: invalid value encountered in true_divide\n",
      "  x = np.divide(x1, x2, out)\n"
     ]
    },
    {
     "name": "stdout",
     "output_type": "stream",
     "text": [
      "/glade/work/jonahshaw/trend_uncertainty/nathan/OBS_LENS/GISTEMP_2x2/20240217_5x5remap/ensembleChunk_0067.5x5degSpatialTrends.196001-202012.nc\n",
      "006\n"
     ]
    },
    {
     "name": "stderr",
     "output_type": "stream",
     "text": [
      "/glade/work/jonahshaw/miniconda3/envs/cheydask/lib/python3.7/site-packages/dask/array/numpy_compat.py:41: RuntimeWarning: invalid value encountered in true_divide\n",
      "  x = np.divide(x1, x2, out)\n"
     ]
    },
    {
     "name": "stdout",
     "output_type": "stream",
     "text": [
      "/glade/work/jonahshaw/trend_uncertainty/nathan/OBS_LENS/GISTEMP_2x2/20240217_5x5remap/ensembleChunk_0068.5x5degSpatialTrends.196001-202012.nc\n",
      "006\n"
     ]
    },
    {
     "name": "stderr",
     "output_type": "stream",
     "text": [
      "/glade/work/jonahshaw/miniconda3/envs/cheydask/lib/python3.7/site-packages/dask/array/numpy_compat.py:41: RuntimeWarning: invalid value encountered in true_divide\n",
      "  x = np.divide(x1, x2, out)\n"
     ]
    },
    {
     "name": "stdout",
     "output_type": "stream",
     "text": [
      "/glade/work/jonahshaw/trend_uncertainty/nathan/OBS_LENS/GISTEMP_2x2/20240217_5x5remap/ensembleChunk_0069.5x5degSpatialTrends.196001-202012.nc\n",
      "007\n"
     ]
    },
    {
     "name": "stderr",
     "output_type": "stream",
     "text": [
      "/glade/work/jonahshaw/miniconda3/envs/cheydask/lib/python3.7/site-packages/dask/array/numpy_compat.py:41: RuntimeWarning: invalid value encountered in true_divide\n",
      "  x = np.divide(x1, x2, out)\n"
     ]
    },
    {
     "name": "stdout",
     "output_type": "stream",
     "text": [
      "/glade/work/jonahshaw/trend_uncertainty/nathan/OBS_LENS/GISTEMP_2x2/20240217_5x5remap/ensembleChunk_0070.5x5degSpatialTrends.196001-202012.nc\n",
      "007\n"
     ]
    },
    {
     "name": "stderr",
     "output_type": "stream",
     "text": [
      "/glade/work/jonahshaw/miniconda3/envs/cheydask/lib/python3.7/site-packages/dask/array/numpy_compat.py:41: RuntimeWarning: invalid value encountered in true_divide\n",
      "  x = np.divide(x1, x2, out)\n"
     ]
    },
    {
     "name": "stdout",
     "output_type": "stream",
     "text": [
      "/glade/work/jonahshaw/trend_uncertainty/nathan/OBS_LENS/GISTEMP_2x2/20240217_5x5remap/ensembleChunk_0071.5x5degSpatialTrends.196001-202012.nc\n",
      "007\n"
     ]
    },
    {
     "name": "stderr",
     "output_type": "stream",
     "text": [
      "/glade/work/jonahshaw/miniconda3/envs/cheydask/lib/python3.7/site-packages/dask/array/numpy_compat.py:41: RuntimeWarning: invalid value encountered in true_divide\n",
      "  x = np.divide(x1, x2, out)\n"
     ]
    },
    {
     "name": "stdout",
     "output_type": "stream",
     "text": [
      "/glade/work/jonahshaw/trend_uncertainty/nathan/OBS_LENS/GISTEMP_2x2/20240217_5x5remap/ensembleChunk_0072.5x5degSpatialTrends.196001-202012.nc\n",
      "007\n"
     ]
    },
    {
     "name": "stderr",
     "output_type": "stream",
     "text": [
      "/glade/work/jonahshaw/miniconda3/envs/cheydask/lib/python3.7/site-packages/dask/array/numpy_compat.py:41: RuntimeWarning: invalid value encountered in true_divide\n",
      "  x = np.divide(x1, x2, out)\n"
     ]
    },
    {
     "name": "stdout",
     "output_type": "stream",
     "text": [
      "/glade/work/jonahshaw/trend_uncertainty/nathan/OBS_LENS/GISTEMP_2x2/20240217_5x5remap/ensembleChunk_0073.5x5degSpatialTrends.196001-202012.nc\n",
      "007\n"
     ]
    },
    {
     "name": "stderr",
     "output_type": "stream",
     "text": [
      "/glade/work/jonahshaw/miniconda3/envs/cheydask/lib/python3.7/site-packages/dask/array/numpy_compat.py:41: RuntimeWarning: invalid value encountered in true_divide\n",
      "  x = np.divide(x1, x2, out)\n"
     ]
    },
    {
     "name": "stdout",
     "output_type": "stream",
     "text": [
      "/glade/work/jonahshaw/trend_uncertainty/nathan/OBS_LENS/GISTEMP_2x2/20240217_5x5remap/ensembleChunk_0074.5x5degSpatialTrends.196001-202012.nc\n",
      "007\n"
     ]
    },
    {
     "name": "stderr",
     "output_type": "stream",
     "text": [
      "/glade/work/jonahshaw/miniconda3/envs/cheydask/lib/python3.7/site-packages/dask/array/numpy_compat.py:41: RuntimeWarning: invalid value encountered in true_divide\n",
      "  x = np.divide(x1, x2, out)\n"
     ]
    },
    {
     "name": "stdout",
     "output_type": "stream",
     "text": [
      "/glade/work/jonahshaw/trend_uncertainty/nathan/OBS_LENS/GISTEMP_2x2/20240217_5x5remap/ensembleChunk_0075.5x5degSpatialTrends.196001-202012.nc\n",
      "007\n"
     ]
    },
    {
     "name": "stderr",
     "output_type": "stream",
     "text": [
      "/glade/work/jonahshaw/miniconda3/envs/cheydask/lib/python3.7/site-packages/dask/array/numpy_compat.py:41: RuntimeWarning: invalid value encountered in true_divide\n",
      "  x = np.divide(x1, x2, out)\n"
     ]
    },
    {
     "name": "stdout",
     "output_type": "stream",
     "text": [
      "/glade/work/jonahshaw/trend_uncertainty/nathan/OBS_LENS/GISTEMP_2x2/20240217_5x5remap/ensembleChunk_0076.5x5degSpatialTrends.196001-202012.nc\n",
      "007\n"
     ]
    },
    {
     "name": "stderr",
     "output_type": "stream",
     "text": [
      "/glade/work/jonahshaw/miniconda3/envs/cheydask/lib/python3.7/site-packages/dask/array/numpy_compat.py:41: RuntimeWarning: invalid value encountered in true_divide\n",
      "  x = np.divide(x1, x2, out)\n"
     ]
    },
    {
     "name": "stdout",
     "output_type": "stream",
     "text": [
      "/glade/work/jonahshaw/trend_uncertainty/nathan/OBS_LENS/GISTEMP_2x2/20240217_5x5remap/ensembleChunk_0077.5x5degSpatialTrends.196001-202012.nc\n",
      "007\n"
     ]
    },
    {
     "name": "stderr",
     "output_type": "stream",
     "text": [
      "/glade/work/jonahshaw/miniconda3/envs/cheydask/lib/python3.7/site-packages/dask/array/numpy_compat.py:41: RuntimeWarning: invalid value encountered in true_divide\n",
      "  x = np.divide(x1, x2, out)\n"
     ]
    },
    {
     "name": "stdout",
     "output_type": "stream",
     "text": [
      "/glade/work/jonahshaw/trend_uncertainty/nathan/OBS_LENS/GISTEMP_2x2/20240217_5x5remap/ensembleChunk_0078.5x5degSpatialTrends.196001-202012.nc\n",
      "007\n"
     ]
    },
    {
     "name": "stderr",
     "output_type": "stream",
     "text": [
      "/glade/work/jonahshaw/miniconda3/envs/cheydask/lib/python3.7/site-packages/dask/array/numpy_compat.py:41: RuntimeWarning: invalid value encountered in true_divide\n",
      "  x = np.divide(x1, x2, out)\n"
     ]
    },
    {
     "name": "stdout",
     "output_type": "stream",
     "text": [
      "/glade/work/jonahshaw/trend_uncertainty/nathan/OBS_LENS/GISTEMP_2x2/20240217_5x5remap/ensembleChunk_0079.5x5degSpatialTrends.196001-202012.nc\n",
      "008\n"
     ]
    },
    {
     "name": "stderr",
     "output_type": "stream",
     "text": [
      "/glade/work/jonahshaw/miniconda3/envs/cheydask/lib/python3.7/site-packages/dask/array/numpy_compat.py:41: RuntimeWarning: invalid value encountered in true_divide\n",
      "  x = np.divide(x1, x2, out)\n"
     ]
    },
    {
     "name": "stdout",
     "output_type": "stream",
     "text": [
      "/glade/work/jonahshaw/trend_uncertainty/nathan/OBS_LENS/GISTEMP_2x2/20240217_5x5remap/ensembleChunk_0080.5x5degSpatialTrends.196001-202012.nc\n",
      "008\n"
     ]
    },
    {
     "name": "stderr",
     "output_type": "stream",
     "text": [
      "/glade/work/jonahshaw/miniconda3/envs/cheydask/lib/python3.7/site-packages/dask/array/numpy_compat.py:41: RuntimeWarning: invalid value encountered in true_divide\n",
      "  x = np.divide(x1, x2, out)\n"
     ]
    },
    {
     "name": "stdout",
     "output_type": "stream",
     "text": [
      "/glade/work/jonahshaw/trend_uncertainty/nathan/OBS_LENS/GISTEMP_2x2/20240217_5x5remap/ensembleChunk_0081.5x5degSpatialTrends.196001-202012.nc\n",
      "008\n"
     ]
    },
    {
     "name": "stderr",
     "output_type": "stream",
     "text": [
      "/glade/work/jonahshaw/miniconda3/envs/cheydask/lib/python3.7/site-packages/dask/array/numpy_compat.py:41: RuntimeWarning: invalid value encountered in true_divide\n",
      "  x = np.divide(x1, x2, out)\n"
     ]
    },
    {
     "name": "stdout",
     "output_type": "stream",
     "text": [
      "/glade/work/jonahshaw/trend_uncertainty/nathan/OBS_LENS/GISTEMP_2x2/20240217_5x5remap/ensembleChunk_0082.5x5degSpatialTrends.196001-202012.nc\n",
      "008\n"
     ]
    },
    {
     "name": "stderr",
     "output_type": "stream",
     "text": [
      "/glade/work/jonahshaw/miniconda3/envs/cheydask/lib/python3.7/site-packages/dask/array/numpy_compat.py:41: RuntimeWarning: invalid value encountered in true_divide\n",
      "  x = np.divide(x1, x2, out)\n"
     ]
    },
    {
     "name": "stdout",
     "output_type": "stream",
     "text": [
      "/glade/work/jonahshaw/trend_uncertainty/nathan/OBS_LENS/GISTEMP_2x2/20240217_5x5remap/ensembleChunk_0083.5x5degSpatialTrends.196001-202012.nc\n",
      "008\n"
     ]
    },
    {
     "name": "stderr",
     "output_type": "stream",
     "text": [
      "/glade/work/jonahshaw/miniconda3/envs/cheydask/lib/python3.7/site-packages/dask/array/numpy_compat.py:41: RuntimeWarning: invalid value encountered in true_divide\n",
      "  x = np.divide(x1, x2, out)\n"
     ]
    },
    {
     "name": "stdout",
     "output_type": "stream",
     "text": [
      "/glade/work/jonahshaw/trend_uncertainty/nathan/OBS_LENS/GISTEMP_2x2/20240217_5x5remap/ensembleChunk_0084.5x5degSpatialTrends.196001-202012.nc\n",
      "008\n"
     ]
    },
    {
     "name": "stderr",
     "output_type": "stream",
     "text": [
      "/glade/work/jonahshaw/miniconda3/envs/cheydask/lib/python3.7/site-packages/dask/array/numpy_compat.py:41: RuntimeWarning: invalid value encountered in true_divide\n",
      "  x = np.divide(x1, x2, out)\n"
     ]
    },
    {
     "name": "stdout",
     "output_type": "stream",
     "text": [
      "/glade/work/jonahshaw/trend_uncertainty/nathan/OBS_LENS/GISTEMP_2x2/20240217_5x5remap/ensembleChunk_0085.5x5degSpatialTrends.196001-202012.nc\n",
      "008\n"
     ]
    },
    {
     "name": "stderr",
     "output_type": "stream",
     "text": [
      "/glade/work/jonahshaw/miniconda3/envs/cheydask/lib/python3.7/site-packages/dask/array/numpy_compat.py:41: RuntimeWarning: invalid value encountered in true_divide\n",
      "  x = np.divide(x1, x2, out)\n"
     ]
    },
    {
     "name": "stdout",
     "output_type": "stream",
     "text": [
      "/glade/work/jonahshaw/trend_uncertainty/nathan/OBS_LENS/GISTEMP_2x2/20240217_5x5remap/ensembleChunk_0086.5x5degSpatialTrends.196001-202012.nc\n",
      "008\n"
     ]
    },
    {
     "name": "stderr",
     "output_type": "stream",
     "text": [
      "/glade/work/jonahshaw/miniconda3/envs/cheydask/lib/python3.7/site-packages/dask/array/numpy_compat.py:41: RuntimeWarning: invalid value encountered in true_divide\n",
      "  x = np.divide(x1, x2, out)\n"
     ]
    },
    {
     "name": "stdout",
     "output_type": "stream",
     "text": [
      "/glade/work/jonahshaw/trend_uncertainty/nathan/OBS_LENS/GISTEMP_2x2/20240217_5x5remap/ensembleChunk_0087.5x5degSpatialTrends.196001-202012.nc\n",
      "008\n"
     ]
    },
    {
     "name": "stderr",
     "output_type": "stream",
     "text": [
      "/glade/work/jonahshaw/miniconda3/envs/cheydask/lib/python3.7/site-packages/dask/array/numpy_compat.py:41: RuntimeWarning: invalid value encountered in true_divide\n",
      "  x = np.divide(x1, x2, out)\n"
     ]
    },
    {
     "name": "stdout",
     "output_type": "stream",
     "text": [
      "/glade/work/jonahshaw/trend_uncertainty/nathan/OBS_LENS/GISTEMP_2x2/20240217_5x5remap/ensembleChunk_0088.5x5degSpatialTrends.196001-202012.nc\n",
      "008\n"
     ]
    },
    {
     "name": "stderr",
     "output_type": "stream",
     "text": [
      "/glade/work/jonahshaw/miniconda3/envs/cheydask/lib/python3.7/site-packages/dask/array/numpy_compat.py:41: RuntimeWarning: invalid value encountered in true_divide\n",
      "  x = np.divide(x1, x2, out)\n"
     ]
    },
    {
     "name": "stdout",
     "output_type": "stream",
     "text": [
      "/glade/work/jonahshaw/trend_uncertainty/nathan/OBS_LENS/GISTEMP_2x2/20240217_5x5remap/ensembleChunk_0089.5x5degSpatialTrends.196001-202012.nc\n",
      "009\n"
     ]
    },
    {
     "name": "stderr",
     "output_type": "stream",
     "text": [
      "/glade/work/jonahshaw/miniconda3/envs/cheydask/lib/python3.7/site-packages/dask/array/numpy_compat.py:41: RuntimeWarning: invalid value encountered in true_divide\n",
      "  x = np.divide(x1, x2, out)\n"
     ]
    },
    {
     "name": "stdout",
     "output_type": "stream",
     "text": [
      "/glade/work/jonahshaw/trend_uncertainty/nathan/OBS_LENS/GISTEMP_2x2/20240217_5x5remap/ensembleChunk_0090.5x5degSpatialTrends.196001-202012.nc\n",
      "009\n"
     ]
    },
    {
     "name": "stderr",
     "output_type": "stream",
     "text": [
      "/glade/work/jonahshaw/miniconda3/envs/cheydask/lib/python3.7/site-packages/dask/array/numpy_compat.py:41: RuntimeWarning: invalid value encountered in true_divide\n",
      "  x = np.divide(x1, x2, out)\n"
     ]
    },
    {
     "name": "stdout",
     "output_type": "stream",
     "text": [
      "/glade/work/jonahshaw/trend_uncertainty/nathan/OBS_LENS/GISTEMP_2x2/20240217_5x5remap/ensembleChunk_0091.5x5degSpatialTrends.196001-202012.nc\n",
      "009\n"
     ]
    },
    {
     "name": "stderr",
     "output_type": "stream",
     "text": [
      "/glade/work/jonahshaw/miniconda3/envs/cheydask/lib/python3.7/site-packages/dask/array/numpy_compat.py:41: RuntimeWarning: invalid value encountered in true_divide\n",
      "  x = np.divide(x1, x2, out)\n"
     ]
    },
    {
     "name": "stdout",
     "output_type": "stream",
     "text": [
      "/glade/work/jonahshaw/trend_uncertainty/nathan/OBS_LENS/GISTEMP_2x2/20240217_5x5remap/ensembleChunk_0092.5x5degSpatialTrends.196001-202012.nc\n",
      "009\n"
     ]
    },
    {
     "name": "stderr",
     "output_type": "stream",
     "text": [
      "/glade/work/jonahshaw/miniconda3/envs/cheydask/lib/python3.7/site-packages/dask/array/numpy_compat.py:41: RuntimeWarning: invalid value encountered in true_divide\n",
      "  x = np.divide(x1, x2, out)\n"
     ]
    },
    {
     "name": "stdout",
     "output_type": "stream",
     "text": [
      "/glade/work/jonahshaw/trend_uncertainty/nathan/OBS_LENS/GISTEMP_2x2/20240217_5x5remap/ensembleChunk_0093.5x5degSpatialTrends.196001-202012.nc\n",
      "009\n"
     ]
    },
    {
     "name": "stderr",
     "output_type": "stream",
     "text": [
      "/glade/work/jonahshaw/miniconda3/envs/cheydask/lib/python3.7/site-packages/dask/array/numpy_compat.py:41: RuntimeWarning: invalid value encountered in true_divide\n",
      "  x = np.divide(x1, x2, out)\n"
     ]
    },
    {
     "name": "stdout",
     "output_type": "stream",
     "text": [
      "/glade/work/jonahshaw/trend_uncertainty/nathan/OBS_LENS/GISTEMP_2x2/20240217_5x5remap/ensembleChunk_0094.5x5degSpatialTrends.196001-202012.nc\n",
      "009\n"
     ]
    },
    {
     "name": "stderr",
     "output_type": "stream",
     "text": [
      "/glade/work/jonahshaw/miniconda3/envs/cheydask/lib/python3.7/site-packages/dask/array/numpy_compat.py:41: RuntimeWarning: invalid value encountered in true_divide\n",
      "  x = np.divide(x1, x2, out)\n"
     ]
    },
    {
     "name": "stdout",
     "output_type": "stream",
     "text": [
      "/glade/work/jonahshaw/trend_uncertainty/nathan/OBS_LENS/GISTEMP_2x2/20240217_5x5remap/ensembleChunk_0095.5x5degSpatialTrends.196001-202012.nc\n",
      "009\n"
     ]
    },
    {
     "name": "stderr",
     "output_type": "stream",
     "text": [
      "/glade/work/jonahshaw/miniconda3/envs/cheydask/lib/python3.7/site-packages/dask/array/numpy_compat.py:41: RuntimeWarning: invalid value encountered in true_divide\n",
      "  x = np.divide(x1, x2, out)\n"
     ]
    },
    {
     "name": "stdout",
     "output_type": "stream",
     "text": [
      "/glade/work/jonahshaw/trend_uncertainty/nathan/OBS_LENS/GISTEMP_2x2/20240217_5x5remap/ensembleChunk_0096.5x5degSpatialTrends.196001-202012.nc\n",
      "009\n"
     ]
    },
    {
     "name": "stderr",
     "output_type": "stream",
     "text": [
      "/glade/work/jonahshaw/miniconda3/envs/cheydask/lib/python3.7/site-packages/dask/array/numpy_compat.py:41: RuntimeWarning: invalid value encountered in true_divide\n",
      "  x = np.divide(x1, x2, out)\n"
     ]
    },
    {
     "name": "stdout",
     "output_type": "stream",
     "text": [
      "/glade/work/jonahshaw/trend_uncertainty/nathan/OBS_LENS/GISTEMP_2x2/20240217_5x5remap/ensembleChunk_0097.5x5degSpatialTrends.196001-202012.nc\n",
      "009\n"
     ]
    },
    {
     "name": "stderr",
     "output_type": "stream",
     "text": [
      "/glade/work/jonahshaw/miniconda3/envs/cheydask/lib/python3.7/site-packages/dask/array/numpy_compat.py:41: RuntimeWarning: invalid value encountered in true_divide\n",
      "  x = np.divide(x1, x2, out)\n"
     ]
    },
    {
     "name": "stdout",
     "output_type": "stream",
     "text": [
      "/glade/work/jonahshaw/trend_uncertainty/nathan/OBS_LENS/GISTEMP_2x2/20240217_5x5remap/ensembleChunk_0098.5x5degSpatialTrends.196001-202012.nc\n",
      "009\n"
     ]
    },
    {
     "name": "stderr",
     "output_type": "stream",
     "text": [
      "/glade/work/jonahshaw/miniconda3/envs/cheydask/lib/python3.7/site-packages/dask/array/numpy_compat.py:41: RuntimeWarning: invalid value encountered in true_divide\n",
      "  x = np.divide(x1, x2, out)\n"
     ]
    },
    {
     "name": "stdout",
     "output_type": "stream",
     "text": [
      "/glade/work/jonahshaw/trend_uncertainty/nathan/OBS_LENS/GISTEMP_2x2/20240217_5x5remap/ensembleChunk_0099.5x5degSpatialTrends.196001-202012.nc\n",
      "010\n"
     ]
    },
    {
     "name": "stderr",
     "output_type": "stream",
     "text": [
      "/glade/work/jonahshaw/miniconda3/envs/cheydask/lib/python3.7/site-packages/dask/array/numpy_compat.py:41: RuntimeWarning: invalid value encountered in true_divide\n",
      "  x = np.divide(x1, x2, out)\n"
     ]
    },
    {
     "name": "stdout",
     "output_type": "stream",
     "text": [
      "/glade/work/jonahshaw/trend_uncertainty/nathan/OBS_LENS/GISTEMP_2x2/20240217_5x5remap/ensembleChunk_0100.5x5degSpatialTrends.196001-202012.nc\n",
      "010\n"
     ]
    },
    {
     "name": "stderr",
     "output_type": "stream",
     "text": [
      "/glade/work/jonahshaw/miniconda3/envs/cheydask/lib/python3.7/site-packages/dask/array/numpy_compat.py:41: RuntimeWarning: invalid value encountered in true_divide\n",
      "  x = np.divide(x1, x2, out)\n"
     ]
    },
    {
     "name": "stdout",
     "output_type": "stream",
     "text": [
      "/glade/work/jonahshaw/trend_uncertainty/nathan/OBS_LENS/GISTEMP_2x2/20240217_5x5remap/ensembleChunk_0101.5x5degSpatialTrends.196001-202012.nc\n",
      "010\n"
     ]
    },
    {
     "name": "stderr",
     "output_type": "stream",
     "text": [
      "/glade/work/jonahshaw/miniconda3/envs/cheydask/lib/python3.7/site-packages/dask/array/numpy_compat.py:41: RuntimeWarning: invalid value encountered in true_divide\n",
      "  x = np.divide(x1, x2, out)\n"
     ]
    },
    {
     "name": "stdout",
     "output_type": "stream",
     "text": [
      "/glade/work/jonahshaw/trend_uncertainty/nathan/OBS_LENS/GISTEMP_2x2/20240217_5x5remap/ensembleChunk_0102.5x5degSpatialTrends.196001-202012.nc\n",
      "010\n"
     ]
    },
    {
     "name": "stderr",
     "output_type": "stream",
     "text": [
      "/glade/work/jonahshaw/miniconda3/envs/cheydask/lib/python3.7/site-packages/dask/array/numpy_compat.py:41: RuntimeWarning: invalid value encountered in true_divide\n",
      "  x = np.divide(x1, x2, out)\n"
     ]
    },
    {
     "name": "stdout",
     "output_type": "stream",
     "text": [
      "/glade/work/jonahshaw/trend_uncertainty/nathan/OBS_LENS/GISTEMP_2x2/20240217_5x5remap/ensembleChunk_0103.5x5degSpatialTrends.196001-202012.nc\n",
      "010\n"
     ]
    },
    {
     "name": "stderr",
     "output_type": "stream",
     "text": [
      "/glade/work/jonahshaw/miniconda3/envs/cheydask/lib/python3.7/site-packages/dask/array/numpy_compat.py:41: RuntimeWarning: invalid value encountered in true_divide\n",
      "  x = np.divide(x1, x2, out)\n"
     ]
    },
    {
     "name": "stdout",
     "output_type": "stream",
     "text": [
      "/glade/work/jonahshaw/trend_uncertainty/nathan/OBS_LENS/GISTEMP_2x2/20240217_5x5remap/ensembleChunk_0104.5x5degSpatialTrends.196001-202012.nc\n",
      "010\n"
     ]
    },
    {
     "name": "stderr",
     "output_type": "stream",
     "text": [
      "/glade/work/jonahshaw/miniconda3/envs/cheydask/lib/python3.7/site-packages/dask/array/numpy_compat.py:41: RuntimeWarning: invalid value encountered in true_divide\n",
      "  x = np.divide(x1, x2, out)\n"
     ]
    },
    {
     "name": "stdout",
     "output_type": "stream",
     "text": [
      "/glade/work/jonahshaw/trend_uncertainty/nathan/OBS_LENS/GISTEMP_2x2/20240217_5x5remap/ensembleChunk_0105.5x5degSpatialTrends.196001-202012.nc\n",
      "010\n"
     ]
    },
    {
     "name": "stderr",
     "output_type": "stream",
     "text": [
      "/glade/work/jonahshaw/miniconda3/envs/cheydask/lib/python3.7/site-packages/dask/array/numpy_compat.py:41: RuntimeWarning: invalid value encountered in true_divide\n",
      "  x = np.divide(x1, x2, out)\n"
     ]
    },
    {
     "name": "stdout",
     "output_type": "stream",
     "text": [
      "/glade/work/jonahshaw/trend_uncertainty/nathan/OBS_LENS/GISTEMP_2x2/20240217_5x5remap/ensembleChunk_0106.5x5degSpatialTrends.196001-202012.nc\n",
      "010\n"
     ]
    },
    {
     "name": "stderr",
     "output_type": "stream",
     "text": [
      "/glade/work/jonahshaw/miniconda3/envs/cheydask/lib/python3.7/site-packages/dask/array/numpy_compat.py:41: RuntimeWarning: invalid value encountered in true_divide\n",
      "  x = np.divide(x1, x2, out)\n"
     ]
    },
    {
     "name": "stdout",
     "output_type": "stream",
     "text": [
      "/glade/work/jonahshaw/trend_uncertainty/nathan/OBS_LENS/GISTEMP_2x2/20240217_5x5remap/ensembleChunk_0107.5x5degSpatialTrends.196001-202012.nc\n",
      "010\n"
     ]
    },
    {
     "name": "stderr",
     "output_type": "stream",
     "text": [
      "/glade/work/jonahshaw/miniconda3/envs/cheydask/lib/python3.7/site-packages/dask/array/numpy_compat.py:41: RuntimeWarning: invalid value encountered in true_divide\n",
      "  x = np.divide(x1, x2, out)\n"
     ]
    },
    {
     "name": "stdout",
     "output_type": "stream",
     "text": [
      "/glade/work/jonahshaw/trend_uncertainty/nathan/OBS_LENS/GISTEMP_2x2/20240217_5x5remap/ensembleChunk_0108.5x5degSpatialTrends.196001-202012.nc\n",
      "010\n"
     ]
    },
    {
     "name": "stderr",
     "output_type": "stream",
     "text": [
      "/glade/work/jonahshaw/miniconda3/envs/cheydask/lib/python3.7/site-packages/dask/array/numpy_compat.py:41: RuntimeWarning: invalid value encountered in true_divide\n",
      "  x = np.divide(x1, x2, out)\n"
     ]
    },
    {
     "name": "stdout",
     "output_type": "stream",
     "text": [
      "/glade/work/jonahshaw/trend_uncertainty/nathan/OBS_LENS/GISTEMP_2x2/20240217_5x5remap/ensembleChunk_0109.5x5degSpatialTrends.196001-202012.nc\n",
      "011\n"
     ]
    },
    {
     "name": "stderr",
     "output_type": "stream",
     "text": [
      "/glade/work/jonahshaw/miniconda3/envs/cheydask/lib/python3.7/site-packages/dask/array/numpy_compat.py:41: RuntimeWarning: invalid value encountered in true_divide\n",
      "  x = np.divide(x1, x2, out)\n"
     ]
    },
    {
     "name": "stdout",
     "output_type": "stream",
     "text": [
      "/glade/work/jonahshaw/trend_uncertainty/nathan/OBS_LENS/GISTEMP_2x2/20240217_5x5remap/ensembleChunk_0110.5x5degSpatialTrends.196001-202012.nc\n",
      "011\n"
     ]
    },
    {
     "name": "stderr",
     "output_type": "stream",
     "text": [
      "/glade/work/jonahshaw/miniconda3/envs/cheydask/lib/python3.7/site-packages/dask/array/numpy_compat.py:41: RuntimeWarning: invalid value encountered in true_divide\n",
      "  x = np.divide(x1, x2, out)\n"
     ]
    },
    {
     "name": "stdout",
     "output_type": "stream",
     "text": [
      "/glade/work/jonahshaw/trend_uncertainty/nathan/OBS_LENS/GISTEMP_2x2/20240217_5x5remap/ensembleChunk_0111.5x5degSpatialTrends.196001-202012.nc\n",
      "011\n"
     ]
    },
    {
     "name": "stderr",
     "output_type": "stream",
     "text": [
      "/glade/work/jonahshaw/miniconda3/envs/cheydask/lib/python3.7/site-packages/dask/array/numpy_compat.py:41: RuntimeWarning: invalid value encountered in true_divide\n",
      "  x = np.divide(x1, x2, out)\n"
     ]
    },
    {
     "name": "stdout",
     "output_type": "stream",
     "text": [
      "/glade/work/jonahshaw/trend_uncertainty/nathan/OBS_LENS/GISTEMP_2x2/20240217_5x5remap/ensembleChunk_0112.5x5degSpatialTrends.196001-202012.nc\n",
      "011\n"
     ]
    },
    {
     "name": "stderr",
     "output_type": "stream",
     "text": [
      "/glade/work/jonahshaw/miniconda3/envs/cheydask/lib/python3.7/site-packages/dask/array/numpy_compat.py:41: RuntimeWarning: invalid value encountered in true_divide\n",
      "  x = np.divide(x1, x2, out)\n"
     ]
    },
    {
     "name": "stdout",
     "output_type": "stream",
     "text": [
      "/glade/work/jonahshaw/trend_uncertainty/nathan/OBS_LENS/GISTEMP_2x2/20240217_5x5remap/ensembleChunk_0113.5x5degSpatialTrends.196001-202012.nc\n",
      "011\n"
     ]
    },
    {
     "name": "stderr",
     "output_type": "stream",
     "text": [
      "/glade/work/jonahshaw/miniconda3/envs/cheydask/lib/python3.7/site-packages/dask/array/numpy_compat.py:41: RuntimeWarning: invalid value encountered in true_divide\n",
      "  x = np.divide(x1, x2, out)\n"
     ]
    },
    {
     "name": "stdout",
     "output_type": "stream",
     "text": [
      "/glade/work/jonahshaw/trend_uncertainty/nathan/OBS_LENS/GISTEMP_2x2/20240217_5x5remap/ensembleChunk_0114.5x5degSpatialTrends.196001-202012.nc\n",
      "011\n"
     ]
    },
    {
     "name": "stderr",
     "output_type": "stream",
     "text": [
      "/glade/work/jonahshaw/miniconda3/envs/cheydask/lib/python3.7/site-packages/dask/array/numpy_compat.py:41: RuntimeWarning: invalid value encountered in true_divide\n",
      "  x = np.divide(x1, x2, out)\n"
     ]
    },
    {
     "name": "stdout",
     "output_type": "stream",
     "text": [
      "/glade/work/jonahshaw/trend_uncertainty/nathan/OBS_LENS/GISTEMP_2x2/20240217_5x5remap/ensembleChunk_0115.5x5degSpatialTrends.196001-202012.nc\n",
      "011\n"
     ]
    },
    {
     "name": "stderr",
     "output_type": "stream",
     "text": [
      "/glade/work/jonahshaw/miniconda3/envs/cheydask/lib/python3.7/site-packages/dask/array/numpy_compat.py:41: RuntimeWarning: invalid value encountered in true_divide\n",
      "  x = np.divide(x1, x2, out)\n"
     ]
    },
    {
     "name": "stdout",
     "output_type": "stream",
     "text": [
      "/glade/work/jonahshaw/trend_uncertainty/nathan/OBS_LENS/GISTEMP_2x2/20240217_5x5remap/ensembleChunk_0116.5x5degSpatialTrends.196001-202012.nc\n",
      "011\n"
     ]
    },
    {
     "name": "stderr",
     "output_type": "stream",
     "text": [
      "/glade/work/jonahshaw/miniconda3/envs/cheydask/lib/python3.7/site-packages/dask/array/numpy_compat.py:41: RuntimeWarning: invalid value encountered in true_divide\n",
      "  x = np.divide(x1, x2, out)\n"
     ]
    },
    {
     "name": "stdout",
     "output_type": "stream",
     "text": [
      "/glade/work/jonahshaw/trend_uncertainty/nathan/OBS_LENS/GISTEMP_2x2/20240217_5x5remap/ensembleChunk_0117.5x5degSpatialTrends.196001-202012.nc\n",
      "011\n"
     ]
    },
    {
     "name": "stderr",
     "output_type": "stream",
     "text": [
      "/glade/work/jonahshaw/miniconda3/envs/cheydask/lib/python3.7/site-packages/dask/array/numpy_compat.py:41: RuntimeWarning: invalid value encountered in true_divide\n",
      "  x = np.divide(x1, x2, out)\n"
     ]
    },
    {
     "name": "stdout",
     "output_type": "stream",
     "text": [
      "/glade/work/jonahshaw/trend_uncertainty/nathan/OBS_LENS/GISTEMP_2x2/20240217_5x5remap/ensembleChunk_0118.5x5degSpatialTrends.196001-202012.nc\n",
      "011\n"
     ]
    },
    {
     "name": "stderr",
     "output_type": "stream",
     "text": [
      "/glade/work/jonahshaw/miniconda3/envs/cheydask/lib/python3.7/site-packages/dask/array/numpy_compat.py:41: RuntimeWarning: invalid value encountered in true_divide\n",
      "  x = np.divide(x1, x2, out)\n"
     ]
    },
    {
     "name": "stdout",
     "output_type": "stream",
     "text": [
      "/glade/work/jonahshaw/trend_uncertainty/nathan/OBS_LENS/GISTEMP_2x2/20240217_5x5remap/ensembleChunk_0119.5x5degSpatialTrends.196001-202012.nc\n",
      "012\n"
     ]
    },
    {
     "name": "stderr",
     "output_type": "stream",
     "text": [
      "/glade/work/jonahshaw/miniconda3/envs/cheydask/lib/python3.7/site-packages/dask/array/numpy_compat.py:41: RuntimeWarning: invalid value encountered in true_divide\n",
      "  x = np.divide(x1, x2, out)\n"
     ]
    },
    {
     "name": "stdout",
     "output_type": "stream",
     "text": [
      "/glade/work/jonahshaw/trend_uncertainty/nathan/OBS_LENS/GISTEMP_2x2/20240217_5x5remap/ensembleChunk_0120.5x5degSpatialTrends.196001-202012.nc\n",
      "012\n"
     ]
    },
    {
     "name": "stderr",
     "output_type": "stream",
     "text": [
      "/glade/work/jonahshaw/miniconda3/envs/cheydask/lib/python3.7/site-packages/dask/array/numpy_compat.py:41: RuntimeWarning: invalid value encountered in true_divide\n",
      "  x = np.divide(x1, x2, out)\n"
     ]
    },
    {
     "name": "stdout",
     "output_type": "stream",
     "text": [
      "/glade/work/jonahshaw/trend_uncertainty/nathan/OBS_LENS/GISTEMP_2x2/20240217_5x5remap/ensembleChunk_0121.5x5degSpatialTrends.196001-202012.nc\n",
      "012\n"
     ]
    },
    {
     "name": "stderr",
     "output_type": "stream",
     "text": [
      "/glade/work/jonahshaw/miniconda3/envs/cheydask/lib/python3.7/site-packages/dask/array/numpy_compat.py:41: RuntimeWarning: invalid value encountered in true_divide\n",
      "  x = np.divide(x1, x2, out)\n"
     ]
    },
    {
     "name": "stdout",
     "output_type": "stream",
     "text": [
      "/glade/work/jonahshaw/trend_uncertainty/nathan/OBS_LENS/GISTEMP_2x2/20240217_5x5remap/ensembleChunk_0122.5x5degSpatialTrends.196001-202012.nc\n",
      "012\n"
     ]
    },
    {
     "name": "stderr",
     "output_type": "stream",
     "text": [
      "/glade/work/jonahshaw/miniconda3/envs/cheydask/lib/python3.7/site-packages/dask/array/numpy_compat.py:41: RuntimeWarning: invalid value encountered in true_divide\n",
      "  x = np.divide(x1, x2, out)\n"
     ]
    },
    {
     "name": "stdout",
     "output_type": "stream",
     "text": [
      "/glade/work/jonahshaw/trend_uncertainty/nathan/OBS_LENS/GISTEMP_2x2/20240217_5x5remap/ensembleChunk_0123.5x5degSpatialTrends.196001-202012.nc\n",
      "012\n"
     ]
    },
    {
     "name": "stderr",
     "output_type": "stream",
     "text": [
      "/glade/work/jonahshaw/miniconda3/envs/cheydask/lib/python3.7/site-packages/dask/array/numpy_compat.py:41: RuntimeWarning: invalid value encountered in true_divide\n",
      "  x = np.divide(x1, x2, out)\n"
     ]
    },
    {
     "name": "stdout",
     "output_type": "stream",
     "text": [
      "/glade/work/jonahshaw/trend_uncertainty/nathan/OBS_LENS/GISTEMP_2x2/20240217_5x5remap/ensembleChunk_0124.5x5degSpatialTrends.196001-202012.nc\n",
      "012\n"
     ]
    },
    {
     "name": "stderr",
     "output_type": "stream",
     "text": [
      "/glade/work/jonahshaw/miniconda3/envs/cheydask/lib/python3.7/site-packages/dask/array/numpy_compat.py:41: RuntimeWarning: invalid value encountered in true_divide\n",
      "  x = np.divide(x1, x2, out)\n"
     ]
    },
    {
     "name": "stdout",
     "output_type": "stream",
     "text": [
      "/glade/work/jonahshaw/trend_uncertainty/nathan/OBS_LENS/GISTEMP_2x2/20240217_5x5remap/ensembleChunk_0125.5x5degSpatialTrends.196001-202012.nc\n",
      "012\n"
     ]
    },
    {
     "name": "stderr",
     "output_type": "stream",
     "text": [
      "/glade/work/jonahshaw/miniconda3/envs/cheydask/lib/python3.7/site-packages/dask/array/numpy_compat.py:41: RuntimeWarning: invalid value encountered in true_divide\n",
      "  x = np.divide(x1, x2, out)\n"
     ]
    },
    {
     "name": "stdout",
     "output_type": "stream",
     "text": [
      "/glade/work/jonahshaw/trend_uncertainty/nathan/OBS_LENS/GISTEMP_2x2/20240217_5x5remap/ensembleChunk_0126.5x5degSpatialTrends.196001-202012.nc\n",
      "012\n"
     ]
    },
    {
     "name": "stderr",
     "output_type": "stream",
     "text": [
      "/glade/work/jonahshaw/miniconda3/envs/cheydask/lib/python3.7/site-packages/dask/array/numpy_compat.py:41: RuntimeWarning: invalid value encountered in true_divide\n",
      "  x = np.divide(x1, x2, out)\n"
     ]
    },
    {
     "name": "stdout",
     "output_type": "stream",
     "text": [
      "/glade/work/jonahshaw/trend_uncertainty/nathan/OBS_LENS/GISTEMP_2x2/20240217_5x5remap/ensembleChunk_0127.5x5degSpatialTrends.196001-202012.nc\n",
      "012\n"
     ]
    },
    {
     "name": "stderr",
     "output_type": "stream",
     "text": [
      "/glade/work/jonahshaw/miniconda3/envs/cheydask/lib/python3.7/site-packages/dask/array/numpy_compat.py:41: RuntimeWarning: invalid value encountered in true_divide\n",
      "  x = np.divide(x1, x2, out)\n"
     ]
    },
    {
     "name": "stdout",
     "output_type": "stream",
     "text": [
      "/glade/work/jonahshaw/trend_uncertainty/nathan/OBS_LENS/GISTEMP_2x2/20240217_5x5remap/ensembleChunk_0128.5x5degSpatialTrends.196001-202012.nc\n",
      "012\n"
     ]
    },
    {
     "name": "stderr",
     "output_type": "stream",
     "text": [
      "/glade/work/jonahshaw/miniconda3/envs/cheydask/lib/python3.7/site-packages/dask/array/numpy_compat.py:41: RuntimeWarning: invalid value encountered in true_divide\n",
      "  x = np.divide(x1, x2, out)\n"
     ]
    },
    {
     "name": "stdout",
     "output_type": "stream",
     "text": [
      "/glade/work/jonahshaw/trend_uncertainty/nathan/OBS_LENS/GISTEMP_2x2/20240217_5x5remap/ensembleChunk_0129.5x5degSpatialTrends.196001-202012.nc\n",
      "013\n"
     ]
    },
    {
     "name": "stderr",
     "output_type": "stream",
     "text": [
      "/glade/work/jonahshaw/miniconda3/envs/cheydask/lib/python3.7/site-packages/dask/array/numpy_compat.py:41: RuntimeWarning: invalid value encountered in true_divide\n",
      "  x = np.divide(x1, x2, out)\n"
     ]
    },
    {
     "name": "stdout",
     "output_type": "stream",
     "text": [
      "/glade/work/jonahshaw/trend_uncertainty/nathan/OBS_LENS/GISTEMP_2x2/20240217_5x5remap/ensembleChunk_0130.5x5degSpatialTrends.196001-202012.nc\n",
      "013\n"
     ]
    },
    {
     "name": "stderr",
     "output_type": "stream",
     "text": [
      "/glade/work/jonahshaw/miniconda3/envs/cheydask/lib/python3.7/site-packages/dask/array/numpy_compat.py:41: RuntimeWarning: invalid value encountered in true_divide\n",
      "  x = np.divide(x1, x2, out)\n"
     ]
    },
    {
     "name": "stdout",
     "output_type": "stream",
     "text": [
      "/glade/work/jonahshaw/trend_uncertainty/nathan/OBS_LENS/GISTEMP_2x2/20240217_5x5remap/ensembleChunk_0131.5x5degSpatialTrends.196001-202012.nc\n",
      "013\n"
     ]
    },
    {
     "name": "stderr",
     "output_type": "stream",
     "text": [
      "/glade/work/jonahshaw/miniconda3/envs/cheydask/lib/python3.7/site-packages/dask/array/numpy_compat.py:41: RuntimeWarning: invalid value encountered in true_divide\n",
      "  x = np.divide(x1, x2, out)\n"
     ]
    },
    {
     "name": "stdout",
     "output_type": "stream",
     "text": [
      "/glade/work/jonahshaw/trend_uncertainty/nathan/OBS_LENS/GISTEMP_2x2/20240217_5x5remap/ensembleChunk_0132.5x5degSpatialTrends.196001-202012.nc\n",
      "013\n"
     ]
    },
    {
     "name": "stderr",
     "output_type": "stream",
     "text": [
      "/glade/work/jonahshaw/miniconda3/envs/cheydask/lib/python3.7/site-packages/dask/array/numpy_compat.py:41: RuntimeWarning: invalid value encountered in true_divide\n",
      "  x = np.divide(x1, x2, out)\n"
     ]
    },
    {
     "name": "stdout",
     "output_type": "stream",
     "text": [
      "/glade/work/jonahshaw/trend_uncertainty/nathan/OBS_LENS/GISTEMP_2x2/20240217_5x5remap/ensembleChunk_0133.5x5degSpatialTrends.196001-202012.nc\n",
      "013\n"
     ]
    },
    {
     "name": "stderr",
     "output_type": "stream",
     "text": [
      "/glade/work/jonahshaw/miniconda3/envs/cheydask/lib/python3.7/site-packages/dask/array/numpy_compat.py:41: RuntimeWarning: invalid value encountered in true_divide\n",
      "  x = np.divide(x1, x2, out)\n"
     ]
    },
    {
     "name": "stdout",
     "output_type": "stream",
     "text": [
      "/glade/work/jonahshaw/trend_uncertainty/nathan/OBS_LENS/GISTEMP_2x2/20240217_5x5remap/ensembleChunk_0134.5x5degSpatialTrends.196001-202012.nc\n",
      "013\n"
     ]
    },
    {
     "name": "stderr",
     "output_type": "stream",
     "text": [
      "/glade/work/jonahshaw/miniconda3/envs/cheydask/lib/python3.7/site-packages/dask/array/numpy_compat.py:41: RuntimeWarning: invalid value encountered in true_divide\n",
      "  x = np.divide(x1, x2, out)\n"
     ]
    },
    {
     "name": "stdout",
     "output_type": "stream",
     "text": [
      "/glade/work/jonahshaw/trend_uncertainty/nathan/OBS_LENS/GISTEMP_2x2/20240217_5x5remap/ensembleChunk_0135.5x5degSpatialTrends.196001-202012.nc\n",
      "013\n"
     ]
    },
    {
     "name": "stderr",
     "output_type": "stream",
     "text": [
      "/glade/work/jonahshaw/miniconda3/envs/cheydask/lib/python3.7/site-packages/dask/array/numpy_compat.py:41: RuntimeWarning: invalid value encountered in true_divide\n",
      "  x = np.divide(x1, x2, out)\n"
     ]
    },
    {
     "name": "stdout",
     "output_type": "stream",
     "text": [
      "/glade/work/jonahshaw/trend_uncertainty/nathan/OBS_LENS/GISTEMP_2x2/20240217_5x5remap/ensembleChunk_0136.5x5degSpatialTrends.196001-202012.nc\n",
      "013\n"
     ]
    },
    {
     "name": "stderr",
     "output_type": "stream",
     "text": [
      "/glade/work/jonahshaw/miniconda3/envs/cheydask/lib/python3.7/site-packages/dask/array/numpy_compat.py:41: RuntimeWarning: invalid value encountered in true_divide\n",
      "  x = np.divide(x1, x2, out)\n"
     ]
    },
    {
     "name": "stdout",
     "output_type": "stream",
     "text": [
      "/glade/work/jonahshaw/trend_uncertainty/nathan/OBS_LENS/GISTEMP_2x2/20240217_5x5remap/ensembleChunk_0137.5x5degSpatialTrends.196001-202012.nc\n",
      "013\n"
     ]
    },
    {
     "name": "stderr",
     "output_type": "stream",
     "text": [
      "/glade/work/jonahshaw/miniconda3/envs/cheydask/lib/python3.7/site-packages/dask/array/numpy_compat.py:41: RuntimeWarning: invalid value encountered in true_divide\n",
      "  x = np.divide(x1, x2, out)\n"
     ]
    },
    {
     "name": "stdout",
     "output_type": "stream",
     "text": [
      "/glade/work/jonahshaw/trend_uncertainty/nathan/OBS_LENS/GISTEMP_2x2/20240217_5x5remap/ensembleChunk_0138.5x5degSpatialTrends.196001-202012.nc\n",
      "013\n"
     ]
    },
    {
     "name": "stderr",
     "output_type": "stream",
     "text": [
      "/glade/work/jonahshaw/miniconda3/envs/cheydask/lib/python3.7/site-packages/dask/array/numpy_compat.py:41: RuntimeWarning: invalid value encountered in true_divide\n",
      "  x = np.divide(x1, x2, out)\n"
     ]
    },
    {
     "name": "stdout",
     "output_type": "stream",
     "text": [
      "/glade/work/jonahshaw/trend_uncertainty/nathan/OBS_LENS/GISTEMP_2x2/20240217_5x5remap/ensembleChunk_0139.5x5degSpatialTrends.196001-202012.nc\n",
      "014\n"
     ]
    },
    {
     "name": "stderr",
     "output_type": "stream",
     "text": [
      "/glade/work/jonahshaw/miniconda3/envs/cheydask/lib/python3.7/site-packages/dask/array/numpy_compat.py:41: RuntimeWarning: invalid value encountered in true_divide\n",
      "  x = np.divide(x1, x2, out)\n"
     ]
    },
    {
     "name": "stdout",
     "output_type": "stream",
     "text": [
      "/glade/work/jonahshaw/trend_uncertainty/nathan/OBS_LENS/GISTEMP_2x2/20240217_5x5remap/ensembleChunk_0140.5x5degSpatialTrends.196001-202012.nc\n",
      "014\n"
     ]
    },
    {
     "name": "stderr",
     "output_type": "stream",
     "text": [
      "/glade/work/jonahshaw/miniconda3/envs/cheydask/lib/python3.7/site-packages/dask/array/numpy_compat.py:41: RuntimeWarning: invalid value encountered in true_divide\n",
      "  x = np.divide(x1, x2, out)\n"
     ]
    },
    {
     "name": "stdout",
     "output_type": "stream",
     "text": [
      "/glade/work/jonahshaw/trend_uncertainty/nathan/OBS_LENS/GISTEMP_2x2/20240217_5x5remap/ensembleChunk_0141.5x5degSpatialTrends.196001-202012.nc\n",
      "014\n"
     ]
    },
    {
     "name": "stderr",
     "output_type": "stream",
     "text": [
      "/glade/work/jonahshaw/miniconda3/envs/cheydask/lib/python3.7/site-packages/dask/array/numpy_compat.py:41: RuntimeWarning: invalid value encountered in true_divide\n",
      "  x = np.divide(x1, x2, out)\n"
     ]
    },
    {
     "name": "stdout",
     "output_type": "stream",
     "text": [
      "/glade/work/jonahshaw/trend_uncertainty/nathan/OBS_LENS/GISTEMP_2x2/20240217_5x5remap/ensembleChunk_0142.5x5degSpatialTrends.196001-202012.nc\n",
      "014\n"
     ]
    },
    {
     "name": "stderr",
     "output_type": "stream",
     "text": [
      "/glade/work/jonahshaw/miniconda3/envs/cheydask/lib/python3.7/site-packages/dask/array/numpy_compat.py:41: RuntimeWarning: invalid value encountered in true_divide\n",
      "  x = np.divide(x1, x2, out)\n"
     ]
    },
    {
     "name": "stdout",
     "output_type": "stream",
     "text": [
      "/glade/work/jonahshaw/trend_uncertainty/nathan/OBS_LENS/GISTEMP_2x2/20240217_5x5remap/ensembleChunk_0143.5x5degSpatialTrends.196001-202012.nc\n",
      "014\n"
     ]
    },
    {
     "name": "stderr",
     "output_type": "stream",
     "text": [
      "/glade/work/jonahshaw/miniconda3/envs/cheydask/lib/python3.7/site-packages/dask/array/numpy_compat.py:41: RuntimeWarning: invalid value encountered in true_divide\n",
      "  x = np.divide(x1, x2, out)\n"
     ]
    },
    {
     "name": "stdout",
     "output_type": "stream",
     "text": [
      "/glade/work/jonahshaw/trend_uncertainty/nathan/OBS_LENS/GISTEMP_2x2/20240217_5x5remap/ensembleChunk_0144.5x5degSpatialTrends.196001-202012.nc\n",
      "014\n"
     ]
    },
    {
     "name": "stderr",
     "output_type": "stream",
     "text": [
      "/glade/work/jonahshaw/miniconda3/envs/cheydask/lib/python3.7/site-packages/dask/array/numpy_compat.py:41: RuntimeWarning: invalid value encountered in true_divide\n",
      "  x = np.divide(x1, x2, out)\n"
     ]
    },
    {
     "name": "stdout",
     "output_type": "stream",
     "text": [
      "/glade/work/jonahshaw/trend_uncertainty/nathan/OBS_LENS/GISTEMP_2x2/20240217_5x5remap/ensembleChunk_0145.5x5degSpatialTrends.196001-202012.nc\n",
      "014\n"
     ]
    },
    {
     "name": "stderr",
     "output_type": "stream",
     "text": [
      "/glade/work/jonahshaw/miniconda3/envs/cheydask/lib/python3.7/site-packages/dask/array/numpy_compat.py:41: RuntimeWarning: invalid value encountered in true_divide\n",
      "  x = np.divide(x1, x2, out)\n"
     ]
    },
    {
     "name": "stdout",
     "output_type": "stream",
     "text": [
      "/glade/work/jonahshaw/trend_uncertainty/nathan/OBS_LENS/GISTEMP_2x2/20240217_5x5remap/ensembleChunk_0146.5x5degSpatialTrends.196001-202012.nc\n",
      "014\n"
     ]
    },
    {
     "name": "stderr",
     "output_type": "stream",
     "text": [
      "/glade/work/jonahshaw/miniconda3/envs/cheydask/lib/python3.7/site-packages/dask/array/numpy_compat.py:41: RuntimeWarning: invalid value encountered in true_divide\n",
      "  x = np.divide(x1, x2, out)\n"
     ]
    },
    {
     "name": "stdout",
     "output_type": "stream",
     "text": [
      "/glade/work/jonahshaw/trend_uncertainty/nathan/OBS_LENS/GISTEMP_2x2/20240217_5x5remap/ensembleChunk_0147.5x5degSpatialTrends.196001-202012.nc\n",
      "014\n"
     ]
    },
    {
     "name": "stderr",
     "output_type": "stream",
     "text": [
      "/glade/work/jonahshaw/miniconda3/envs/cheydask/lib/python3.7/site-packages/dask/array/numpy_compat.py:41: RuntimeWarning: invalid value encountered in true_divide\n",
      "  x = np.divide(x1, x2, out)\n"
     ]
    },
    {
     "name": "stdout",
     "output_type": "stream",
     "text": [
      "/glade/work/jonahshaw/trend_uncertainty/nathan/OBS_LENS/GISTEMP_2x2/20240217_5x5remap/ensembleChunk_0148.5x5degSpatialTrends.196001-202012.nc\n",
      "014\n"
     ]
    },
    {
     "name": "stderr",
     "output_type": "stream",
     "text": [
      "/glade/work/jonahshaw/miniconda3/envs/cheydask/lib/python3.7/site-packages/dask/array/numpy_compat.py:41: RuntimeWarning: invalid value encountered in true_divide\n",
      "  x = np.divide(x1, x2, out)\n"
     ]
    },
    {
     "name": "stdout",
     "output_type": "stream",
     "text": [
      "/glade/work/jonahshaw/trend_uncertainty/nathan/OBS_LENS/GISTEMP_2x2/20240217_5x5remap/ensembleChunk_0149.5x5degSpatialTrends.196001-202012.nc\n",
      "015\n"
     ]
    },
    {
     "name": "stderr",
     "output_type": "stream",
     "text": [
      "/glade/work/jonahshaw/miniconda3/envs/cheydask/lib/python3.7/site-packages/dask/array/numpy_compat.py:41: RuntimeWarning: invalid value encountered in true_divide\n",
      "  x = np.divide(x1, x2, out)\n"
     ]
    },
    {
     "name": "stdout",
     "output_type": "stream",
     "text": [
      "/glade/work/jonahshaw/trend_uncertainty/nathan/OBS_LENS/GISTEMP_2x2/20240217_5x5remap/ensembleChunk_0150.5x5degSpatialTrends.196001-202012.nc\n",
      "015\n"
     ]
    },
    {
     "name": "stderr",
     "output_type": "stream",
     "text": [
      "/glade/work/jonahshaw/miniconda3/envs/cheydask/lib/python3.7/site-packages/dask/array/numpy_compat.py:41: RuntimeWarning: invalid value encountered in true_divide\n",
      "  x = np.divide(x1, x2, out)\n"
     ]
    },
    {
     "name": "stdout",
     "output_type": "stream",
     "text": [
      "/glade/work/jonahshaw/trend_uncertainty/nathan/OBS_LENS/GISTEMP_2x2/20240217_5x5remap/ensembleChunk_0151.5x5degSpatialTrends.196001-202012.nc\n",
      "015\n"
     ]
    },
    {
     "name": "stderr",
     "output_type": "stream",
     "text": [
      "/glade/work/jonahshaw/miniconda3/envs/cheydask/lib/python3.7/site-packages/dask/array/numpy_compat.py:41: RuntimeWarning: invalid value encountered in true_divide\n",
      "  x = np.divide(x1, x2, out)\n"
     ]
    },
    {
     "name": "stdout",
     "output_type": "stream",
     "text": [
      "/glade/work/jonahshaw/trend_uncertainty/nathan/OBS_LENS/GISTEMP_2x2/20240217_5x5remap/ensembleChunk_0152.5x5degSpatialTrends.196001-202012.nc\n",
      "015\n"
     ]
    },
    {
     "name": "stderr",
     "output_type": "stream",
     "text": [
      "/glade/work/jonahshaw/miniconda3/envs/cheydask/lib/python3.7/site-packages/dask/array/numpy_compat.py:41: RuntimeWarning: invalid value encountered in true_divide\n",
      "  x = np.divide(x1, x2, out)\n"
     ]
    },
    {
     "name": "stdout",
     "output_type": "stream",
     "text": [
      "/glade/work/jonahshaw/trend_uncertainty/nathan/OBS_LENS/GISTEMP_2x2/20240217_5x5remap/ensembleChunk_0153.5x5degSpatialTrends.196001-202012.nc\n",
      "015\n"
     ]
    },
    {
     "name": "stderr",
     "output_type": "stream",
     "text": [
      "/glade/work/jonahshaw/miniconda3/envs/cheydask/lib/python3.7/site-packages/dask/array/numpy_compat.py:41: RuntimeWarning: invalid value encountered in true_divide\n",
      "  x = np.divide(x1, x2, out)\n"
     ]
    },
    {
     "name": "stdout",
     "output_type": "stream",
     "text": [
      "/glade/work/jonahshaw/trend_uncertainty/nathan/OBS_LENS/GISTEMP_2x2/20240217_5x5remap/ensembleChunk_0154.5x5degSpatialTrends.196001-202012.nc\n",
      "015\n"
     ]
    },
    {
     "name": "stderr",
     "output_type": "stream",
     "text": [
      "/glade/work/jonahshaw/miniconda3/envs/cheydask/lib/python3.7/site-packages/dask/array/numpy_compat.py:41: RuntimeWarning: invalid value encountered in true_divide\n",
      "  x = np.divide(x1, x2, out)\n"
     ]
    },
    {
     "name": "stdout",
     "output_type": "stream",
     "text": [
      "/glade/work/jonahshaw/trend_uncertainty/nathan/OBS_LENS/GISTEMP_2x2/20240217_5x5remap/ensembleChunk_0155.5x5degSpatialTrends.196001-202012.nc\n",
      "015\n"
     ]
    },
    {
     "name": "stderr",
     "output_type": "stream",
     "text": [
      "/glade/work/jonahshaw/miniconda3/envs/cheydask/lib/python3.7/site-packages/dask/array/numpy_compat.py:41: RuntimeWarning: invalid value encountered in true_divide\n",
      "  x = np.divide(x1, x2, out)\n"
     ]
    },
    {
     "name": "stdout",
     "output_type": "stream",
     "text": [
      "/glade/work/jonahshaw/trend_uncertainty/nathan/OBS_LENS/GISTEMP_2x2/20240217_5x5remap/ensembleChunk_0156.5x5degSpatialTrends.196001-202012.nc\n",
      "015\n"
     ]
    },
    {
     "name": "stderr",
     "output_type": "stream",
     "text": [
      "/glade/work/jonahshaw/miniconda3/envs/cheydask/lib/python3.7/site-packages/dask/array/numpy_compat.py:41: RuntimeWarning: invalid value encountered in true_divide\n",
      "  x = np.divide(x1, x2, out)\n"
     ]
    },
    {
     "name": "stdout",
     "output_type": "stream",
     "text": [
      "/glade/work/jonahshaw/trend_uncertainty/nathan/OBS_LENS/GISTEMP_2x2/20240217_5x5remap/ensembleChunk_0157.5x5degSpatialTrends.196001-202012.nc\n",
      "015\n"
     ]
    },
    {
     "name": "stderr",
     "output_type": "stream",
     "text": [
      "/glade/work/jonahshaw/miniconda3/envs/cheydask/lib/python3.7/site-packages/dask/array/numpy_compat.py:41: RuntimeWarning: invalid value encountered in true_divide\n",
      "  x = np.divide(x1, x2, out)\n"
     ]
    },
    {
     "name": "stdout",
     "output_type": "stream",
     "text": [
      "/glade/work/jonahshaw/trend_uncertainty/nathan/OBS_LENS/GISTEMP_2x2/20240217_5x5remap/ensembleChunk_0158.5x5degSpatialTrends.196001-202012.nc\n",
      "015\n"
     ]
    },
    {
     "name": "stderr",
     "output_type": "stream",
     "text": [
      "/glade/work/jonahshaw/miniconda3/envs/cheydask/lib/python3.7/site-packages/dask/array/numpy_compat.py:41: RuntimeWarning: invalid value encountered in true_divide\n",
      "  x = np.divide(x1, x2, out)\n"
     ]
    },
    {
     "name": "stdout",
     "output_type": "stream",
     "text": [
      "/glade/work/jonahshaw/trend_uncertainty/nathan/OBS_LENS/GISTEMP_2x2/20240217_5x5remap/ensembleChunk_0159.5x5degSpatialTrends.196001-202012.nc\n",
      "016\n"
     ]
    },
    {
     "name": "stderr",
     "output_type": "stream",
     "text": [
      "/glade/work/jonahshaw/miniconda3/envs/cheydask/lib/python3.7/site-packages/dask/array/numpy_compat.py:41: RuntimeWarning: invalid value encountered in true_divide\n",
      "  x = np.divide(x1, x2, out)\n"
     ]
    },
    {
     "name": "stdout",
     "output_type": "stream",
     "text": [
      "/glade/work/jonahshaw/trend_uncertainty/nathan/OBS_LENS/GISTEMP_2x2/20240217_5x5remap/ensembleChunk_0160.5x5degSpatialTrends.196001-202012.nc\n",
      "016\n"
     ]
    },
    {
     "name": "stderr",
     "output_type": "stream",
     "text": [
      "/glade/work/jonahshaw/miniconda3/envs/cheydask/lib/python3.7/site-packages/dask/array/numpy_compat.py:41: RuntimeWarning: invalid value encountered in true_divide\n",
      "  x = np.divide(x1, x2, out)\n"
     ]
    },
    {
     "name": "stdout",
     "output_type": "stream",
     "text": [
      "/glade/work/jonahshaw/trend_uncertainty/nathan/OBS_LENS/GISTEMP_2x2/20240217_5x5remap/ensembleChunk_0161.5x5degSpatialTrends.196001-202012.nc\n",
      "016\n"
     ]
    },
    {
     "name": "stderr",
     "output_type": "stream",
     "text": [
      "/glade/work/jonahshaw/miniconda3/envs/cheydask/lib/python3.7/site-packages/dask/array/numpy_compat.py:41: RuntimeWarning: invalid value encountered in true_divide\n",
      "  x = np.divide(x1, x2, out)\n"
     ]
    },
    {
     "name": "stdout",
     "output_type": "stream",
     "text": [
      "/glade/work/jonahshaw/trend_uncertainty/nathan/OBS_LENS/GISTEMP_2x2/20240217_5x5remap/ensembleChunk_0162.5x5degSpatialTrends.196001-202012.nc\n",
      "016\n"
     ]
    },
    {
     "name": "stderr",
     "output_type": "stream",
     "text": [
      "/glade/work/jonahshaw/miniconda3/envs/cheydask/lib/python3.7/site-packages/dask/array/numpy_compat.py:41: RuntimeWarning: invalid value encountered in true_divide\n",
      "  x = np.divide(x1, x2, out)\n"
     ]
    },
    {
     "name": "stdout",
     "output_type": "stream",
     "text": [
      "/glade/work/jonahshaw/trend_uncertainty/nathan/OBS_LENS/GISTEMP_2x2/20240217_5x5remap/ensembleChunk_0163.5x5degSpatialTrends.196001-202012.nc\n",
      "016\n"
     ]
    },
    {
     "name": "stderr",
     "output_type": "stream",
     "text": [
      "/glade/work/jonahshaw/miniconda3/envs/cheydask/lib/python3.7/site-packages/dask/array/numpy_compat.py:41: RuntimeWarning: invalid value encountered in true_divide\n",
      "  x = np.divide(x1, x2, out)\n"
     ]
    },
    {
     "name": "stdout",
     "output_type": "stream",
     "text": [
      "/glade/work/jonahshaw/trend_uncertainty/nathan/OBS_LENS/GISTEMP_2x2/20240217_5x5remap/ensembleChunk_0164.5x5degSpatialTrends.196001-202012.nc\n",
      "016\n"
     ]
    },
    {
     "name": "stderr",
     "output_type": "stream",
     "text": [
      "/glade/work/jonahshaw/miniconda3/envs/cheydask/lib/python3.7/site-packages/dask/array/numpy_compat.py:41: RuntimeWarning: invalid value encountered in true_divide\n",
      "  x = np.divide(x1, x2, out)\n"
     ]
    },
    {
     "name": "stdout",
     "output_type": "stream",
     "text": [
      "/glade/work/jonahshaw/trend_uncertainty/nathan/OBS_LENS/GISTEMP_2x2/20240217_5x5remap/ensembleChunk_0165.5x5degSpatialTrends.196001-202012.nc\n",
      "016\n"
     ]
    },
    {
     "name": "stderr",
     "output_type": "stream",
     "text": [
      "/glade/work/jonahshaw/miniconda3/envs/cheydask/lib/python3.7/site-packages/dask/array/numpy_compat.py:41: RuntimeWarning: invalid value encountered in true_divide\n",
      "  x = np.divide(x1, x2, out)\n"
     ]
    },
    {
     "name": "stdout",
     "output_type": "stream",
     "text": [
      "/glade/work/jonahshaw/trend_uncertainty/nathan/OBS_LENS/GISTEMP_2x2/20240217_5x5remap/ensembleChunk_0166.5x5degSpatialTrends.196001-202012.nc\n",
      "016\n"
     ]
    },
    {
     "name": "stderr",
     "output_type": "stream",
     "text": [
      "/glade/work/jonahshaw/miniconda3/envs/cheydask/lib/python3.7/site-packages/dask/array/numpy_compat.py:41: RuntimeWarning: invalid value encountered in true_divide\n",
      "  x = np.divide(x1, x2, out)\n"
     ]
    },
    {
     "name": "stdout",
     "output_type": "stream",
     "text": [
      "/glade/work/jonahshaw/trend_uncertainty/nathan/OBS_LENS/GISTEMP_2x2/20240217_5x5remap/ensembleChunk_0167.5x5degSpatialTrends.196001-202012.nc\n",
      "016\n"
     ]
    },
    {
     "name": "stderr",
     "output_type": "stream",
     "text": [
      "/glade/work/jonahshaw/miniconda3/envs/cheydask/lib/python3.7/site-packages/dask/array/numpy_compat.py:41: RuntimeWarning: invalid value encountered in true_divide\n",
      "  x = np.divide(x1, x2, out)\n"
     ]
    },
    {
     "name": "stdout",
     "output_type": "stream",
     "text": [
      "/glade/work/jonahshaw/trend_uncertainty/nathan/OBS_LENS/GISTEMP_2x2/20240217_5x5remap/ensembleChunk_0168.5x5degSpatialTrends.196001-202012.nc\n",
      "016\n"
     ]
    },
    {
     "name": "stderr",
     "output_type": "stream",
     "text": [
      "/glade/work/jonahshaw/miniconda3/envs/cheydask/lib/python3.7/site-packages/dask/array/numpy_compat.py:41: RuntimeWarning: invalid value encountered in true_divide\n",
      "  x = np.divide(x1, x2, out)\n"
     ]
    },
    {
     "name": "stdout",
     "output_type": "stream",
     "text": [
      "/glade/work/jonahshaw/trend_uncertainty/nathan/OBS_LENS/GISTEMP_2x2/20240217_5x5remap/ensembleChunk_0169.5x5degSpatialTrends.196001-202012.nc\n",
      "017\n"
     ]
    },
    {
     "name": "stderr",
     "output_type": "stream",
     "text": [
      "/glade/work/jonahshaw/miniconda3/envs/cheydask/lib/python3.7/site-packages/dask/array/numpy_compat.py:41: RuntimeWarning: invalid value encountered in true_divide\n",
      "  x = np.divide(x1, x2, out)\n"
     ]
    },
    {
     "name": "stdout",
     "output_type": "stream",
     "text": [
      "/glade/work/jonahshaw/trend_uncertainty/nathan/OBS_LENS/GISTEMP_2x2/20240217_5x5remap/ensembleChunk_0170.5x5degSpatialTrends.196001-202012.nc\n",
      "017\n"
     ]
    },
    {
     "name": "stderr",
     "output_type": "stream",
     "text": [
      "/glade/work/jonahshaw/miniconda3/envs/cheydask/lib/python3.7/site-packages/dask/array/numpy_compat.py:41: RuntimeWarning: invalid value encountered in true_divide\n",
      "  x = np.divide(x1, x2, out)\n"
     ]
    },
    {
     "name": "stdout",
     "output_type": "stream",
     "text": [
      "/glade/work/jonahshaw/trend_uncertainty/nathan/OBS_LENS/GISTEMP_2x2/20240217_5x5remap/ensembleChunk_0171.5x5degSpatialTrends.196001-202012.nc\n",
      "017\n"
     ]
    },
    {
     "name": "stderr",
     "output_type": "stream",
     "text": [
      "/glade/work/jonahshaw/miniconda3/envs/cheydask/lib/python3.7/site-packages/dask/array/numpy_compat.py:41: RuntimeWarning: invalid value encountered in true_divide\n",
      "  x = np.divide(x1, x2, out)\n"
     ]
    },
    {
     "name": "stdout",
     "output_type": "stream",
     "text": [
      "/glade/work/jonahshaw/trend_uncertainty/nathan/OBS_LENS/GISTEMP_2x2/20240217_5x5remap/ensembleChunk_0172.5x5degSpatialTrends.196001-202012.nc\n",
      "017\n"
     ]
    },
    {
     "name": "stderr",
     "output_type": "stream",
     "text": [
      "/glade/work/jonahshaw/miniconda3/envs/cheydask/lib/python3.7/site-packages/dask/array/numpy_compat.py:41: RuntimeWarning: invalid value encountered in true_divide\n",
      "  x = np.divide(x1, x2, out)\n"
     ]
    },
    {
     "name": "stdout",
     "output_type": "stream",
     "text": [
      "/glade/work/jonahshaw/trend_uncertainty/nathan/OBS_LENS/GISTEMP_2x2/20240217_5x5remap/ensembleChunk_0173.5x5degSpatialTrends.196001-202012.nc\n",
      "017\n"
     ]
    },
    {
     "name": "stderr",
     "output_type": "stream",
     "text": [
      "/glade/work/jonahshaw/miniconda3/envs/cheydask/lib/python3.7/site-packages/dask/array/numpy_compat.py:41: RuntimeWarning: invalid value encountered in true_divide\n",
      "  x = np.divide(x1, x2, out)\n"
     ]
    },
    {
     "name": "stdout",
     "output_type": "stream",
     "text": [
      "/glade/work/jonahshaw/trend_uncertainty/nathan/OBS_LENS/GISTEMP_2x2/20240217_5x5remap/ensembleChunk_0174.5x5degSpatialTrends.196001-202012.nc\n",
      "017\n"
     ]
    },
    {
     "name": "stderr",
     "output_type": "stream",
     "text": [
      "/glade/work/jonahshaw/miniconda3/envs/cheydask/lib/python3.7/site-packages/dask/array/numpy_compat.py:41: RuntimeWarning: invalid value encountered in true_divide\n",
      "  x = np.divide(x1, x2, out)\n"
     ]
    },
    {
     "name": "stdout",
     "output_type": "stream",
     "text": [
      "/glade/work/jonahshaw/trend_uncertainty/nathan/OBS_LENS/GISTEMP_2x2/20240217_5x5remap/ensembleChunk_0175.5x5degSpatialTrends.196001-202012.nc\n",
      "017\n"
     ]
    },
    {
     "name": "stderr",
     "output_type": "stream",
     "text": [
      "/glade/work/jonahshaw/miniconda3/envs/cheydask/lib/python3.7/site-packages/dask/array/numpy_compat.py:41: RuntimeWarning: invalid value encountered in true_divide\n",
      "  x = np.divide(x1, x2, out)\n"
     ]
    },
    {
     "name": "stdout",
     "output_type": "stream",
     "text": [
      "/glade/work/jonahshaw/trend_uncertainty/nathan/OBS_LENS/GISTEMP_2x2/20240217_5x5remap/ensembleChunk_0176.5x5degSpatialTrends.196001-202012.nc\n",
      "017\n"
     ]
    },
    {
     "name": "stderr",
     "output_type": "stream",
     "text": [
      "/glade/work/jonahshaw/miniconda3/envs/cheydask/lib/python3.7/site-packages/dask/array/numpy_compat.py:41: RuntimeWarning: invalid value encountered in true_divide\n",
      "  x = np.divide(x1, x2, out)\n"
     ]
    },
    {
     "name": "stdout",
     "output_type": "stream",
     "text": [
      "/glade/work/jonahshaw/trend_uncertainty/nathan/OBS_LENS/GISTEMP_2x2/20240217_5x5remap/ensembleChunk_0177.5x5degSpatialTrends.196001-202012.nc\n",
      "017\n"
     ]
    },
    {
     "name": "stderr",
     "output_type": "stream",
     "text": [
      "/glade/work/jonahshaw/miniconda3/envs/cheydask/lib/python3.7/site-packages/dask/array/numpy_compat.py:41: RuntimeWarning: invalid value encountered in true_divide\n",
      "  x = np.divide(x1, x2, out)\n"
     ]
    },
    {
     "name": "stdout",
     "output_type": "stream",
     "text": [
      "/glade/work/jonahshaw/trend_uncertainty/nathan/OBS_LENS/GISTEMP_2x2/20240217_5x5remap/ensembleChunk_0178.5x5degSpatialTrends.196001-202012.nc\n",
      "017\n"
     ]
    },
    {
     "name": "stderr",
     "output_type": "stream",
     "text": [
      "/glade/work/jonahshaw/miniconda3/envs/cheydask/lib/python3.7/site-packages/dask/array/numpy_compat.py:41: RuntimeWarning: invalid value encountered in true_divide\n",
      "  x = np.divide(x1, x2, out)\n"
     ]
    },
    {
     "name": "stdout",
     "output_type": "stream",
     "text": [
      "/glade/work/jonahshaw/trend_uncertainty/nathan/OBS_LENS/GISTEMP_2x2/20240217_5x5remap/ensembleChunk_0179.5x5degSpatialTrends.196001-202012.nc\n",
      "018\n"
     ]
    },
    {
     "name": "stderr",
     "output_type": "stream",
     "text": [
      "/glade/work/jonahshaw/miniconda3/envs/cheydask/lib/python3.7/site-packages/dask/array/numpy_compat.py:41: RuntimeWarning: invalid value encountered in true_divide\n",
      "  x = np.divide(x1, x2, out)\n"
     ]
    },
    {
     "name": "stdout",
     "output_type": "stream",
     "text": [
      "/glade/work/jonahshaw/trend_uncertainty/nathan/OBS_LENS/GISTEMP_2x2/20240217_5x5remap/ensembleChunk_0180.5x5degSpatialTrends.196001-202012.nc\n",
      "018\n"
     ]
    },
    {
     "name": "stderr",
     "output_type": "stream",
     "text": [
      "/glade/work/jonahshaw/miniconda3/envs/cheydask/lib/python3.7/site-packages/dask/array/numpy_compat.py:41: RuntimeWarning: invalid value encountered in true_divide\n",
      "  x = np.divide(x1, x2, out)\n"
     ]
    },
    {
     "name": "stdout",
     "output_type": "stream",
     "text": [
      "/glade/work/jonahshaw/trend_uncertainty/nathan/OBS_LENS/GISTEMP_2x2/20240217_5x5remap/ensembleChunk_0181.5x5degSpatialTrends.196001-202012.nc\n",
      "018\n"
     ]
    },
    {
     "name": "stderr",
     "output_type": "stream",
     "text": [
      "/glade/work/jonahshaw/miniconda3/envs/cheydask/lib/python3.7/site-packages/dask/array/numpy_compat.py:41: RuntimeWarning: invalid value encountered in true_divide\n",
      "  x = np.divide(x1, x2, out)\n"
     ]
    },
    {
     "name": "stdout",
     "output_type": "stream",
     "text": [
      "/glade/work/jonahshaw/trend_uncertainty/nathan/OBS_LENS/GISTEMP_2x2/20240217_5x5remap/ensembleChunk_0182.5x5degSpatialTrends.196001-202012.nc\n",
      "018\n"
     ]
    },
    {
     "name": "stderr",
     "output_type": "stream",
     "text": [
      "/glade/work/jonahshaw/miniconda3/envs/cheydask/lib/python3.7/site-packages/dask/array/numpy_compat.py:41: RuntimeWarning: invalid value encountered in true_divide\n",
      "  x = np.divide(x1, x2, out)\n"
     ]
    },
    {
     "name": "stdout",
     "output_type": "stream",
     "text": [
      "/glade/work/jonahshaw/trend_uncertainty/nathan/OBS_LENS/GISTEMP_2x2/20240217_5x5remap/ensembleChunk_0183.5x5degSpatialTrends.196001-202012.nc\n",
      "018\n"
     ]
    },
    {
     "name": "stderr",
     "output_type": "stream",
     "text": [
      "/glade/work/jonahshaw/miniconda3/envs/cheydask/lib/python3.7/site-packages/dask/array/numpy_compat.py:41: RuntimeWarning: invalid value encountered in true_divide\n",
      "  x = np.divide(x1, x2, out)\n"
     ]
    },
    {
     "name": "stdout",
     "output_type": "stream",
     "text": [
      "/glade/work/jonahshaw/trend_uncertainty/nathan/OBS_LENS/GISTEMP_2x2/20240217_5x5remap/ensembleChunk_0184.5x5degSpatialTrends.196001-202012.nc\n",
      "018\n"
     ]
    },
    {
     "name": "stderr",
     "output_type": "stream",
     "text": [
      "/glade/work/jonahshaw/miniconda3/envs/cheydask/lib/python3.7/site-packages/dask/array/numpy_compat.py:41: RuntimeWarning: invalid value encountered in true_divide\n",
      "  x = np.divide(x1, x2, out)\n"
     ]
    },
    {
     "name": "stdout",
     "output_type": "stream",
     "text": [
      "/glade/work/jonahshaw/trend_uncertainty/nathan/OBS_LENS/GISTEMP_2x2/20240217_5x5remap/ensembleChunk_0185.5x5degSpatialTrends.196001-202012.nc\n",
      "018\n"
     ]
    },
    {
     "name": "stderr",
     "output_type": "stream",
     "text": [
      "/glade/work/jonahshaw/miniconda3/envs/cheydask/lib/python3.7/site-packages/dask/array/numpy_compat.py:41: RuntimeWarning: invalid value encountered in true_divide\n",
      "  x = np.divide(x1, x2, out)\n"
     ]
    },
    {
     "name": "stdout",
     "output_type": "stream",
     "text": [
      "/glade/work/jonahshaw/trend_uncertainty/nathan/OBS_LENS/GISTEMP_2x2/20240217_5x5remap/ensembleChunk_0186.5x5degSpatialTrends.196001-202012.nc\n",
      "018\n"
     ]
    },
    {
     "name": "stderr",
     "output_type": "stream",
     "text": [
      "/glade/work/jonahshaw/miniconda3/envs/cheydask/lib/python3.7/site-packages/dask/array/numpy_compat.py:41: RuntimeWarning: invalid value encountered in true_divide\n",
      "  x = np.divide(x1, x2, out)\n"
     ]
    },
    {
     "name": "stdout",
     "output_type": "stream",
     "text": [
      "/glade/work/jonahshaw/trend_uncertainty/nathan/OBS_LENS/GISTEMP_2x2/20240217_5x5remap/ensembleChunk_0187.5x5degSpatialTrends.196001-202012.nc\n",
      "018\n"
     ]
    },
    {
     "name": "stderr",
     "output_type": "stream",
     "text": [
      "/glade/work/jonahshaw/miniconda3/envs/cheydask/lib/python3.7/site-packages/dask/array/numpy_compat.py:41: RuntimeWarning: invalid value encountered in true_divide\n",
      "  x = np.divide(x1, x2, out)\n"
     ]
    },
    {
     "name": "stdout",
     "output_type": "stream",
     "text": [
      "/glade/work/jonahshaw/trend_uncertainty/nathan/OBS_LENS/GISTEMP_2x2/20240217_5x5remap/ensembleChunk_0188.5x5degSpatialTrends.196001-202012.nc\n",
      "018\n"
     ]
    },
    {
     "name": "stderr",
     "output_type": "stream",
     "text": [
      "/glade/work/jonahshaw/miniconda3/envs/cheydask/lib/python3.7/site-packages/dask/array/numpy_compat.py:41: RuntimeWarning: invalid value encountered in true_divide\n",
      "  x = np.divide(x1, x2, out)\n"
     ]
    },
    {
     "name": "stdout",
     "output_type": "stream",
     "text": [
      "/glade/work/jonahshaw/trend_uncertainty/nathan/OBS_LENS/GISTEMP_2x2/20240217_5x5remap/ensembleChunk_0189.5x5degSpatialTrends.196001-202012.nc\n",
      "019\n"
     ]
    },
    {
     "name": "stderr",
     "output_type": "stream",
     "text": [
      "/glade/work/jonahshaw/miniconda3/envs/cheydask/lib/python3.7/site-packages/dask/array/numpy_compat.py:41: RuntimeWarning: invalid value encountered in true_divide\n",
      "  x = np.divide(x1, x2, out)\n"
     ]
    },
    {
     "name": "stdout",
     "output_type": "stream",
     "text": [
      "/glade/work/jonahshaw/trend_uncertainty/nathan/OBS_LENS/GISTEMP_2x2/20240217_5x5remap/ensembleChunk_0190.5x5degSpatialTrends.196001-202012.nc\n",
      "019\n"
     ]
    },
    {
     "name": "stderr",
     "output_type": "stream",
     "text": [
      "/glade/work/jonahshaw/miniconda3/envs/cheydask/lib/python3.7/site-packages/dask/array/numpy_compat.py:41: RuntimeWarning: invalid value encountered in true_divide\n",
      "  x = np.divide(x1, x2, out)\n"
     ]
    },
    {
     "name": "stdout",
     "output_type": "stream",
     "text": [
      "/glade/work/jonahshaw/trend_uncertainty/nathan/OBS_LENS/GISTEMP_2x2/20240217_5x5remap/ensembleChunk_0191.5x5degSpatialTrends.196001-202012.nc\n",
      "019\n"
     ]
    },
    {
     "name": "stderr",
     "output_type": "stream",
     "text": [
      "/glade/work/jonahshaw/miniconda3/envs/cheydask/lib/python3.7/site-packages/dask/array/numpy_compat.py:41: RuntimeWarning: invalid value encountered in true_divide\n",
      "  x = np.divide(x1, x2, out)\n"
     ]
    },
    {
     "name": "stdout",
     "output_type": "stream",
     "text": [
      "/glade/work/jonahshaw/trend_uncertainty/nathan/OBS_LENS/GISTEMP_2x2/20240217_5x5remap/ensembleChunk_0192.5x5degSpatialTrends.196001-202012.nc\n",
      "019\n"
     ]
    },
    {
     "name": "stderr",
     "output_type": "stream",
     "text": [
      "/glade/work/jonahshaw/miniconda3/envs/cheydask/lib/python3.7/site-packages/dask/array/numpy_compat.py:41: RuntimeWarning: invalid value encountered in true_divide\n",
      "  x = np.divide(x1, x2, out)\n"
     ]
    },
    {
     "name": "stdout",
     "output_type": "stream",
     "text": [
      "/glade/work/jonahshaw/trend_uncertainty/nathan/OBS_LENS/GISTEMP_2x2/20240217_5x5remap/ensembleChunk_0193.5x5degSpatialTrends.196001-202012.nc\n",
      "019\n"
     ]
    },
    {
     "name": "stderr",
     "output_type": "stream",
     "text": [
      "/glade/work/jonahshaw/miniconda3/envs/cheydask/lib/python3.7/site-packages/dask/array/numpy_compat.py:41: RuntimeWarning: invalid value encountered in true_divide\n",
      "  x = np.divide(x1, x2, out)\n"
     ]
    },
    {
     "name": "stdout",
     "output_type": "stream",
     "text": [
      "/glade/work/jonahshaw/trend_uncertainty/nathan/OBS_LENS/GISTEMP_2x2/20240217_5x5remap/ensembleChunk_0194.5x5degSpatialTrends.196001-202012.nc\n",
      "019\n"
     ]
    },
    {
     "name": "stderr",
     "output_type": "stream",
     "text": [
      "/glade/work/jonahshaw/miniconda3/envs/cheydask/lib/python3.7/site-packages/dask/array/numpy_compat.py:41: RuntimeWarning: invalid value encountered in true_divide\n",
      "  x = np.divide(x1, x2, out)\n"
     ]
    },
    {
     "name": "stdout",
     "output_type": "stream",
     "text": [
      "/glade/work/jonahshaw/trend_uncertainty/nathan/OBS_LENS/GISTEMP_2x2/20240217_5x5remap/ensembleChunk_0195.5x5degSpatialTrends.196001-202012.nc\n",
      "019\n"
     ]
    },
    {
     "name": "stderr",
     "output_type": "stream",
     "text": [
      "/glade/work/jonahshaw/miniconda3/envs/cheydask/lib/python3.7/site-packages/dask/array/numpy_compat.py:41: RuntimeWarning: invalid value encountered in true_divide\n",
      "  x = np.divide(x1, x2, out)\n"
     ]
    },
    {
     "name": "stdout",
     "output_type": "stream",
     "text": [
      "/glade/work/jonahshaw/trend_uncertainty/nathan/OBS_LENS/GISTEMP_2x2/20240217_5x5remap/ensembleChunk_0196.5x5degSpatialTrends.196001-202012.nc\n",
      "019\n"
     ]
    },
    {
     "name": "stderr",
     "output_type": "stream",
     "text": [
      "/glade/work/jonahshaw/miniconda3/envs/cheydask/lib/python3.7/site-packages/dask/array/numpy_compat.py:41: RuntimeWarning: invalid value encountered in true_divide\n",
      "  x = np.divide(x1, x2, out)\n"
     ]
    },
    {
     "name": "stdout",
     "output_type": "stream",
     "text": [
      "/glade/work/jonahshaw/trend_uncertainty/nathan/OBS_LENS/GISTEMP_2x2/20240217_5x5remap/ensembleChunk_0197.5x5degSpatialTrends.196001-202012.nc\n",
      "019\n"
     ]
    },
    {
     "name": "stderr",
     "output_type": "stream",
     "text": [
      "/glade/work/jonahshaw/miniconda3/envs/cheydask/lib/python3.7/site-packages/dask/array/numpy_compat.py:41: RuntimeWarning: invalid value encountered in true_divide\n",
      "  x = np.divide(x1, x2, out)\n"
     ]
    },
    {
     "name": "stdout",
     "output_type": "stream",
     "text": [
      "/glade/work/jonahshaw/trend_uncertainty/nathan/OBS_LENS/GISTEMP_2x2/20240217_5x5remap/ensembleChunk_0198.5x5degSpatialTrends.196001-202012.nc\n",
      "019\n"
     ]
    },
    {
     "name": "stderr",
     "output_type": "stream",
     "text": [
      "/glade/work/jonahshaw/miniconda3/envs/cheydask/lib/python3.7/site-packages/dask/array/numpy_compat.py:41: RuntimeWarning: invalid value encountered in true_divide\n",
      "  x = np.divide(x1, x2, out)\n"
     ]
    },
    {
     "name": "stdout",
     "output_type": "stream",
     "text": [
      "/glade/work/jonahshaw/trend_uncertainty/nathan/OBS_LENS/GISTEMP_2x2/20240217_5x5remap/ensembleChunk_0199.5x5degSpatialTrends.196001-202012.nc\n",
      "020\n"
     ]
    },
    {
     "name": "stderr",
     "output_type": "stream",
     "text": [
      "/glade/work/jonahshaw/miniconda3/envs/cheydask/lib/python3.7/site-packages/dask/array/numpy_compat.py:41: RuntimeWarning: invalid value encountered in true_divide\n",
      "  x = np.divide(x1, x2, out)\n"
     ]
    },
    {
     "name": "stdout",
     "output_type": "stream",
     "text": [
      "/glade/work/jonahshaw/trend_uncertainty/nathan/OBS_LENS/GISTEMP_2x2/20240217_5x5remap/ensembleChunk_0200.5x5degSpatialTrends.196001-202012.nc\n",
      "CPU times: user 2min 50s, sys: 3.56 s, total: 2min 54s\n",
      "Wall time: 3min 54s\n"
     ]
    }
   ],
   "source": [
    "%%time\n",
    "save_path = '/glade/work/jonahshaw/trend_uncertainty/nathan/OBS_LENS/GISTEMP_2x2/20240217_5x5remap'\n",
    "\n",
    "# Set File list\n",
    "data_paths = gistemp_2x2_5x5_files\n",
    "# data_paths = data_paths # consider those already processed\n",
    "\n",
    "# Set var\n",
    "var_gistemp = 'tempAnom'\n",
    "# var = 'tempAnom'\n",
    "var = 'tas'\n",
    "\n",
    "# Set startyears and durations\n",
    "startyears = [1960]\n",
    "_startyear = 1960\n",
    "durations = np.arange(2,61) # Only goes through 2020\n",
    "\n",
    "gistemp_new_times = (pd.date_range(\"1960-01-01\", freq=\"1M\", periods=12*61)-pd.offsets.MonthBegin(1)).shift(periods=14,freq='D')\n",
    "\n",
    "record_list = []\n",
    "for _data_path in data_paths:\n",
    "    \n",
    "    filename = _data_path.split('/')[-1][:-3]\n",
    "    \n",
    "    output_string = '%s/%s.5x5degSpatialTrends.196001-202012.nc' % (save_path,filename)\n",
    "    \n",
    "    i = _data_path.split('_')[-1][:3]\n",
    "    print(i)\n",
    "    \n",
    "    data = xr.open_dataset(_data_path,chunks={'time': -1})[var_gistemp]\n",
    "\n",
    "    data = gistemp_2x2_5x5_tselect(data) # Select post 1960 period\n",
    "    data_ann = data.groupby('time.year').mean(dim='time')\n",
    "    # data_ann = data.groupby('time_2').mean(dim='time_2').rename({'time_2':'year','time':'record'})\n",
    "    # data_ann['record'] = 2*int(i) + np.arange(1,2.1,1) # New data only has 2 records per file?\n",
    "    # data_ann['record'] = 10*int(i) + np.arange(1,10.1,1)    \n",
    "    \n",
    "    _endyears = _startyear + durations\n",
    "    _startyear_str = str(_startyear)\n",
    "    \n",
    "    while len(_startyear_str) < 4: # pad with zeros\n",
    "        _startyear_str = '0' + _startyear_str\n",
    "    \n",
    "    data_ann_slice = data_ann.sel(year=slice(_startyear,_startyear+durations[-1]))\n",
    "    \n",
    "    slopes_by_dur = []\n",
    "    \n",
    "    _endyears = _startyear + durations\n",
    "    _startyear_str = str(_startyear)\n",
    "    \n",
    "    slopes_by_dur.append(dask.delayed(calc_trends_noload)(data=data_ann_slice,\n",
    "                                                          var=var,\n",
    "                                                          startyear=_startyear_str,\n",
    "                                                          endyears=_endyears,\n",
    "                                                          wrapper_func=gettrends_wrapper2,\n",
    "                                                          calc_slopes_func=calc_slopes_spatial_ann2,\n",
    "                                                          ))\n",
    "    # break\n",
    "    \n",
    "    try:\n",
    "        slopes_by_dur_computed = dask.compute(*slopes_by_dur)\n",
    "        slopes_by_dur_computed[0].to_netcdf(output_string)\n",
    "        print(output_string)\n",
    "    except ValueError:\n",
    "        print('ValueError for %s' % filename)\n",
    "        print('var: ',var)\n",
    "        print('startyear: ',_startyear_str)\n",
    "        print('endyears: ',_endyears)\n",
    "        break\n",
    "\n",
    "    # break\n",
    "    "
   ]
  },
  {
   "cell_type": "code",
   "execution_count": 91,
   "id": "56eb8bef-12f6-4d93-89eb-ee34ad4dbb2d",
   "metadata": {},
   "outputs": [
    {
     "name": "stderr",
     "output_type": "stream",
     "text": [
      "/glade/work/jonahshaw/miniconda3/envs/cheydask/lib/python3.7/site-packages/dask/array/numpy_compat.py:41: RuntimeWarning: invalid value encountered in true_divide\n",
      "  x = np.divide(x1, x2, out)\n"
     ]
    }
   ],
   "source": [
    "out = slopes_by_dur[0].compute()"
   ]
  },
  {
   "cell_type": "code",
   "execution_count": 96,
   "id": "b64dcea9-ab75-4fc5-bf29-9cfff1ced833",
   "metadata": {},
   "outputs": [
    {
     "data": {
      "text/plain": [
       "<matplotlib.collections.QuadMesh at 0x155184560c50>"
      ]
     },
     "execution_count": 96,
     "metadata": {},
     "output_type": "execute_result"
    },
    {
     "data": {
      "image/png": "[encoded data removed]",
      "text/plain": [
       "<Figure size 432x288 with 2 Axes>"
      ]
     },
     "metadata": {
      "needs_background": "light"
     },
     "output_type": "display_data"
    }
   ],
   "source": [
    "out.sel(duration=45,record=1).plot()"
   ]
  },
  {
   "cell_type": "markdown",
   "id": "db61905b-e8b6-45e1-aee3-6f81b4bd246e",
   "metadata": {},
   "source": [
    "#### GISTEMP_5x5"
   ]
  },
  {
   "cell_type": "code",
   "execution_count": 10,
   "id": "544e16a3-15d9-4179-b942-b5541fcae041",
   "metadata": {
    "tags": []
   },
   "outputs": [
    {
     "name": "stdout",
     "output_type": "stream",
     "text": [
      "001\n"
     ]
    },
    {
     "name": "stderr",
     "output_type": "stream",
     "text": [
      "/glade/work/jonahshaw/miniconda3/envs/cheydask/lib/python3.7/site-packages/dask/array/numpy_compat.py:41: RuntimeWarning: invalid value encountered in true_divide\n",
      "  x = np.divide(x1, x2, out)\n"
     ]
    },
    {
     "name": "stdout",
     "output_type": "stream",
     "text": [
      "/glade/work/jonahshaw/trend_uncertainty/nathan/OBS_LENS/GISTEMP_5x5//ensembleChunk_5x5_001.5x5degSpatialTrends.196001-202012.nc\n",
      "002\n"
     ]
    },
    {
     "name": "stderr",
     "output_type": "stream",
     "text": [
      "/glade/work/jonahshaw/miniconda3/envs/cheydask/lib/python3.7/site-packages/dask/array/numpy_compat.py:41: RuntimeWarning: invalid value encountered in true_divide\n",
      "  x = np.divide(x1, x2, out)\n"
     ]
    },
    {
     "name": "stdout",
     "output_type": "stream",
     "text": [
      "/glade/work/jonahshaw/trend_uncertainty/nathan/OBS_LENS/GISTEMP_5x5//ensembleChunk_5x5_002.5x5degSpatialTrends.196001-202012.nc\n",
      "003\n"
     ]
    },
    {
     "name": "stderr",
     "output_type": "stream",
     "text": [
      "/glade/work/jonahshaw/miniconda3/envs/cheydask/lib/python3.7/site-packages/dask/array/numpy_compat.py:41: RuntimeWarning: invalid value encountered in true_divide\n",
      "  x = np.divide(x1, x2, out)\n"
     ]
    },
    {
     "name": "stdout",
     "output_type": "stream",
     "text": [
      "/glade/work/jonahshaw/trend_uncertainty/nathan/OBS_LENS/GISTEMP_5x5//ensembleChunk_5x5_003.5x5degSpatialTrends.196001-202012.nc\n",
      "004\n"
     ]
    },
    {
     "name": "stderr",
     "output_type": "stream",
     "text": [
      "/glade/work/jonahshaw/miniconda3/envs/cheydask/lib/python3.7/site-packages/dask/array/numpy_compat.py:41: RuntimeWarning: invalid value encountered in true_divide\n",
      "  x = np.divide(x1, x2, out)\n"
     ]
    },
    {
     "name": "stdout",
     "output_type": "stream",
     "text": [
      "/glade/work/jonahshaw/trend_uncertainty/nathan/OBS_LENS/GISTEMP_5x5//ensembleChunk_5x5_004.5x5degSpatialTrends.196001-202012.nc\n",
      "005\n"
     ]
    },
    {
     "name": "stderr",
     "output_type": "stream",
     "text": [
      "/glade/work/jonahshaw/miniconda3/envs/cheydask/lib/python3.7/site-packages/dask/array/numpy_compat.py:41: RuntimeWarning: invalid value encountered in true_divide\n",
      "  x = np.divide(x1, x2, out)\n"
     ]
    },
    {
     "name": "stdout",
     "output_type": "stream",
     "text": [
      "/glade/work/jonahshaw/trend_uncertainty/nathan/OBS_LENS/GISTEMP_5x5//ensembleChunk_5x5_005.5x5degSpatialTrends.196001-202012.nc\n",
      "006\n"
     ]
    },
    {
     "name": "stderr",
     "output_type": "stream",
     "text": [
      "/glade/work/jonahshaw/miniconda3/envs/cheydask/lib/python3.7/site-packages/dask/array/numpy_compat.py:41: RuntimeWarning: invalid value encountered in true_divide\n",
      "  x = np.divide(x1, x2, out)\n"
     ]
    },
    {
     "name": "stdout",
     "output_type": "stream",
     "text": [
      "/glade/work/jonahshaw/trend_uncertainty/nathan/OBS_LENS/GISTEMP_5x5//ensembleChunk_5x5_006.5x5degSpatialTrends.196001-202012.nc\n",
      "007\n"
     ]
    },
    {
     "name": "stderr",
     "output_type": "stream",
     "text": [
      "/glade/work/jonahshaw/miniconda3/envs/cheydask/lib/python3.7/site-packages/dask/array/numpy_compat.py:41: RuntimeWarning: invalid value encountered in true_divide\n",
      "  x = np.divide(x1, x2, out)\n"
     ]
    },
    {
     "name": "stdout",
     "output_type": "stream",
     "text": [
      "/glade/work/jonahshaw/trend_uncertainty/nathan/OBS_LENS/GISTEMP_5x5//ensembleChunk_5x5_007.5x5degSpatialTrends.196001-202012.nc\n",
      "008\n"
     ]
    },
    {
     "name": "stderr",
     "output_type": "stream",
     "text": [
      "/glade/work/jonahshaw/miniconda3/envs/cheydask/lib/python3.7/site-packages/dask/array/numpy_compat.py:41: RuntimeWarning: invalid value encountered in true_divide\n",
      "  x = np.divide(x1, x2, out)\n"
     ]
    },
    {
     "name": "stdout",
     "output_type": "stream",
     "text": [
      "/glade/work/jonahshaw/trend_uncertainty/nathan/OBS_LENS/GISTEMP_5x5//ensembleChunk_5x5_008.5x5degSpatialTrends.196001-202012.nc\n",
      "009\n"
     ]
    },
    {
     "name": "stderr",
     "output_type": "stream",
     "text": [
      "/glade/work/jonahshaw/miniconda3/envs/cheydask/lib/python3.7/site-packages/dask/array/numpy_compat.py:41: RuntimeWarning: invalid value encountered in true_divide\n",
      "  x = np.divide(x1, x2, out)\n"
     ]
    },
    {
     "name": "stdout",
     "output_type": "stream",
     "text": [
      "/glade/work/jonahshaw/trend_uncertainty/nathan/OBS_LENS/GISTEMP_5x5//ensembleChunk_5x5_009.5x5degSpatialTrends.196001-202012.nc\n",
      "010\n"
     ]
    },
    {
     "name": "stderr",
     "output_type": "stream",
     "text": [
      "/glade/work/jonahshaw/miniconda3/envs/cheydask/lib/python3.7/site-packages/dask/array/numpy_compat.py:41: RuntimeWarning: invalid value encountered in true_divide\n",
      "  x = np.divide(x1, x2, out)\n"
     ]
    },
    {
     "name": "stdout",
     "output_type": "stream",
     "text": [
      "/glade/work/jonahshaw/trend_uncertainty/nathan/OBS_LENS/GISTEMP_5x5//ensembleChunk_5x5_010.5x5degSpatialTrends.196001-202012.nc\n",
      "011\n"
     ]
    },
    {
     "name": "stderr",
     "output_type": "stream",
     "text": [
      "/glade/work/jonahshaw/miniconda3/envs/cheydask/lib/python3.7/site-packages/dask/array/numpy_compat.py:41: RuntimeWarning: invalid value encountered in true_divide\n",
      "  x = np.divide(x1, x2, out)\n"
     ]
    },
    {
     "name": "stdout",
     "output_type": "stream",
     "text": [
      "/glade/work/jonahshaw/trend_uncertainty/nathan/OBS_LENS/GISTEMP_5x5//ensembleChunk_5x5_011.5x5degSpatialTrends.196001-202012.nc\n",
      "012\n"
     ]
    },
    {
     "name": "stderr",
     "output_type": "stream",
     "text": [
      "/glade/work/jonahshaw/miniconda3/envs/cheydask/lib/python3.7/site-packages/dask/array/numpy_compat.py:41: RuntimeWarning: invalid value encountered in true_divide\n",
      "  x = np.divide(x1, x2, out)\n"
     ]
    },
    {
     "name": "stdout",
     "output_type": "stream",
     "text": [
      "/glade/work/jonahshaw/trend_uncertainty/nathan/OBS_LENS/GISTEMP_5x5//ensembleChunk_5x5_012.5x5degSpatialTrends.196001-202012.nc\n",
      "013\n"
     ]
    },
    {
     "name": "stderr",
     "output_type": "stream",
     "text": [
      "/glade/work/jonahshaw/miniconda3/envs/cheydask/lib/python3.7/site-packages/dask/array/numpy_compat.py:41: RuntimeWarning: invalid value encountered in true_divide\n",
      "  x = np.divide(x1, x2, out)\n"
     ]
    },
    {
     "name": "stdout",
     "output_type": "stream",
     "text": [
      "/glade/work/jonahshaw/trend_uncertainty/nathan/OBS_LENS/GISTEMP_5x5//ensembleChunk_5x5_013.5x5degSpatialTrends.196001-202012.nc\n",
      "014\n"
     ]
    },
    {
     "name": "stderr",
     "output_type": "stream",
     "text": [
      "/glade/work/jonahshaw/miniconda3/envs/cheydask/lib/python3.7/site-packages/dask/array/numpy_compat.py:41: RuntimeWarning: invalid value encountered in true_divide\n",
      "  x = np.divide(x1, x2, out)\n"
     ]
    },
    {
     "name": "stdout",
     "output_type": "stream",
     "text": [
      "/glade/work/jonahshaw/trend_uncertainty/nathan/OBS_LENS/GISTEMP_5x5//ensembleChunk_5x5_014.5x5degSpatialTrends.196001-202012.nc\n",
      "015\n"
     ]
    },
    {
     "name": "stderr",
     "output_type": "stream",
     "text": [
      "/glade/work/jonahshaw/miniconda3/envs/cheydask/lib/python3.7/site-packages/dask/array/numpy_compat.py:41: RuntimeWarning: invalid value encountered in true_divide\n",
      "  x = np.divide(x1, x2, out)\n"
     ]
    },
    {
     "name": "stdout",
     "output_type": "stream",
     "text": [
      "/glade/work/jonahshaw/trend_uncertainty/nathan/OBS_LENS/GISTEMP_5x5//ensembleChunk_5x5_015.5x5degSpatialTrends.196001-202012.nc\n",
      "016\n"
     ]
    },
    {
     "name": "stderr",
     "output_type": "stream",
     "text": [
      "/glade/work/jonahshaw/miniconda3/envs/cheydask/lib/python3.7/site-packages/dask/array/numpy_compat.py:41: RuntimeWarning: invalid value encountered in true_divide\n",
      "  x = np.divide(x1, x2, out)\n"
     ]
    },
    {
     "name": "stdout",
     "output_type": "stream",
     "text": [
      "/glade/work/jonahshaw/trend_uncertainty/nathan/OBS_LENS/GISTEMP_5x5//ensembleChunk_5x5_016.5x5degSpatialTrends.196001-202012.nc\n",
      "017\n"
     ]
    },
    {
     "name": "stderr",
     "output_type": "stream",
     "text": [
      "/glade/work/jonahshaw/miniconda3/envs/cheydask/lib/python3.7/site-packages/dask/array/numpy_compat.py:41: RuntimeWarning: invalid value encountered in true_divide\n",
      "  x = np.divide(x1, x2, out)\n"
     ]
    },
    {
     "name": "stdout",
     "output_type": "stream",
     "text": [
      "/glade/work/jonahshaw/trend_uncertainty/nathan/OBS_LENS/GISTEMP_5x5//ensembleChunk_5x5_017.5x5degSpatialTrends.196001-202012.nc\n",
      "018\n"
     ]
    },
    {
     "name": "stderr",
     "output_type": "stream",
     "text": [
      "/glade/work/jonahshaw/miniconda3/envs/cheydask/lib/python3.7/site-packages/dask/array/numpy_compat.py:41: RuntimeWarning: invalid value encountered in true_divide\n",
      "  x = np.divide(x1, x2, out)\n"
     ]
    },
    {
     "name": "stdout",
     "output_type": "stream",
     "text": [
      "/glade/work/jonahshaw/trend_uncertainty/nathan/OBS_LENS/GISTEMP_5x5//ensembleChunk_5x5_018.5x5degSpatialTrends.196001-202012.nc\n",
      "019\n"
     ]
    },
    {
     "name": "stderr",
     "output_type": "stream",
     "text": [
      "/glade/work/jonahshaw/miniconda3/envs/cheydask/lib/python3.7/site-packages/dask/array/numpy_compat.py:41: RuntimeWarning: invalid value encountered in true_divide\n",
      "  x = np.divide(x1, x2, out)\n"
     ]
    },
    {
     "name": "stdout",
     "output_type": "stream",
     "text": [
      "/glade/work/jonahshaw/trend_uncertainty/nathan/OBS_LENS/GISTEMP_5x5//ensembleChunk_5x5_019.5x5degSpatialTrends.196001-202012.nc\n",
      "020\n"
     ]
    },
    {
     "name": "stderr",
     "output_type": "stream",
     "text": [
      "/glade/work/jonahshaw/miniconda3/envs/cheydask/lib/python3.7/site-packages/dask/array/numpy_compat.py:41: RuntimeWarning: invalid value encountered in true_divide\n",
      "  x = np.divide(x1, x2, out)\n"
     ]
    },
    {
     "name": "stdout",
     "output_type": "stream",
     "text": [
      "/glade/work/jonahshaw/trend_uncertainty/nathan/OBS_LENS/GISTEMP_5x5//ensembleChunk_5x5_020.5x5degSpatialTrends.196001-202012.nc\n",
      "021\n"
     ]
    },
    {
     "name": "stderr",
     "output_type": "stream",
     "text": [
      "/glade/work/jonahshaw/miniconda3/envs/cheydask/lib/python3.7/site-packages/dask/array/numpy_compat.py:41: RuntimeWarning: invalid value encountered in true_divide\n",
      "  x = np.divide(x1, x2, out)\n"
     ]
    },
    {
     "name": "stdout",
     "output_type": "stream",
     "text": [
      "/glade/work/jonahshaw/trend_uncertainty/nathan/OBS_LENS/GISTEMP_5x5//ensembleChunk_5x5_021.5x5degSpatialTrends.196001-202012.nc\n",
      "022\n"
     ]
    },
    {
     "name": "stderr",
     "output_type": "stream",
     "text": [
      "/glade/work/jonahshaw/miniconda3/envs/cheydask/lib/python3.7/site-packages/dask/array/numpy_compat.py:41: RuntimeWarning: invalid value encountered in true_divide\n",
      "  x = np.divide(x1, x2, out)\n"
     ]
    },
    {
     "name": "stdout",
     "output_type": "stream",
     "text": [
      "/glade/work/jonahshaw/trend_uncertainty/nathan/OBS_LENS/GISTEMP_5x5//ensembleChunk_5x5_022.5x5degSpatialTrends.196001-202012.nc\n",
      "CPU times: user 21.6 s, sys: 964 ms, total: 22.6 s\n",
      "Wall time: 26.7 s\n"
     ]
    }
   ],
   "source": [
    "%%time\n",
    "save_path = '/glade/work/jonahshaw/trend_uncertainty/nathan/OBS_LENS/GISTEMP_5x5/'\n",
    "\n",
    "# Set File list\n",
    "data_paths = gistemp_5x5_files\n",
    "data_paths = data_paths # consider those already processed\n",
    "\n",
    "# Set var\n",
    "var_gistemp = 'tempAnom'\n",
    "# var = 'tempAnom'\n",
    "var = 'tas'\n",
    "\n",
    "# Set startyears and durations\n",
    "startyears = [1960]\n",
    "_startyear = 1960\n",
    "durations = np.arange(2,61) # Only goes through 2020\n",
    "\n",
    "gistemp_new_times = (pd.date_range(\"1960-01-01\", freq=\"1M\", periods=12*61)-pd.offsets.MonthBegin(1)).shift(periods=14,freq='D')\n",
    "\n",
    "record_list = []\n",
    "for _data_path in data_paths:\n",
    "    \n",
    "    filename = _data_path.split('/')[-1][:-3]\n",
    "    \n",
    "    output_string = '%s/%s.5x5degSpatialTrends.196001-202012.nc' % (save_path,filename)\n",
    "    \n",
    "    i = _data_path.split('_')[-1][:3]\n",
    "    print(i)\n",
    "    \n",
    "    data = xr.open_dataset(_data_path,chunks={'time': -1})[var_gistemp]\n",
    "\n",
    "    data = gistemp_5x5_tselect(data) # Select post 1960 period\n",
    "\n",
    "    data_ann = data.groupby('time_2').mean(dim='time_2').rename({'time_2':'year','time':'record'})\n",
    "    data_ann['record'] = 2*int(i) + np.arange(1,2.1,1) # New data only has 2 records per file?\n",
    "    # data_ann['record'] = 10*int(i) + np.arange(1,10.1,1)    \n",
    "    \n",
    "    _endyears = _startyear + durations\n",
    "    _startyear_str = str(_startyear)\n",
    "    \n",
    "    while len(_startyear_str) < 4: # pad with zeros\n",
    "        _startyear_str = '0' + _startyear_str\n",
    "    \n",
    "    data_ann_slice = data_ann.sel(year=slice(_startyear,_startyear+durations[-1]))\n",
    "    \n",
    "    slopes_by_dur = []\n",
    "    \n",
    "    _endyears = _startyear + durations\n",
    "    _startyear_str = str(_startyear)\n",
    "    \n",
    "    slopes_by_dur.append(dask.delayed(calc_trends_noload)(data=data_ann_slice,\n",
    "                                                          var=var,\n",
    "                                                          startyear=_startyear_str,\n",
    "                                                          endyears=_endyears,\n",
    "                                                          wrapper_func=gettrends_wrapper2,\n",
    "                                                          calc_slopes_func=calc_slopes_spatial_ann2,\n",
    "                                                          ))\n",
    "    try:\n",
    "        slopes_by_dur_computed = dask.compute(*slopes_by_dur)\n",
    "        slopes_by_dur_computed[0].to_netcdf(output_string)\n",
    "        print(output_string)\n",
    "    except ValueError:\n",
    "        print('ValueError for %s' % filename)\n",
    "        print('var: ',var)\n",
    "        print('startyear: ',_startyear_str)\n",
    "        print('endyears: ',_endyears)\n",
    "        break\n",
    "    "
   ]
  },
  {
   "cell_type": "markdown",
   "id": "b3d12ae3-5a1d-46b9-8084-518f08827673",
   "metadata": {},
   "source": [
    "#### HadCrut5"
   ]
  },
  {
   "cell_type": "code",
   "execution_count": 9,
   "id": "5df3512e-2e89-437b-8514-5399c60ca775",
   "metadata": {},
   "outputs": [],
   "source": [
    "save_path = '/glade/work/jonahshaw/trend_uncertainty/nathan/OBS_LENS/HadCRUT5/'\n"
   ]
  },
  {
   "cell_type": "code",
   "execution_count": 10,
   "id": "607ec38b-843c-4cfd-a36c-7fe74e3829a8",
   "metadata": {},
   "outputs": [],
   "source": [
    "test_ds = xr.open_dataset('%s/HadCRUT.5.0.1.0.analysis.anomalies.39.nc' % (save_path))"
   ]
  },
  {
   "cell_type": "code",
   "execution_count": 12,
   "id": "95c7c5e9-2298-434f-8d0f-f5d046cafe36",
   "metadata": {},
   "outputs": [
    {
     "data": {
      "text/html": [
       "<div><svg style=\"position: absolute; width: 0; height: 0; overflow: hidden\">\n",
       "<defs>\n",
       "<symbol id=\"icon-database\" viewBox=\"0 0 32 32\">\n",
       "<path d=\"M16 0c-8.837 0-16 2.239-16 5v4c0 2.761 7.163 5 16 5s16-2.239 16-5v-4c0-2.761-7.163-5-16-5z\"></path>\n",
       "<path d=\"M16 17c-8.837 0-16-2.239-16-5v6c0 2.761 7.163 5 16 5s16-2.239 16-5v-6c0 2.761-7.163 5-16 5z\"></path>\n",
       "<path d=\"M16 26c-8.837 0-16-2.239-16-5v6c0 2.761 7.163 5 16 5s16-2.239 16-5v-6c0 2.761-7.163 5-16 5z\"></path>\n",
       "</symbol>\n",
       "<symbol id=\"icon-file-text2\" viewBox=\"0 0 32 32\">\n",
       "<path d=\"M28.681 7.159c-0.694-0.947-1.662-2.053-2.724-3.116s-2.169-2.030-3.116-2.724c-1.612-1.182-2.393-1.319-2.841-1.319h-15.5c-1.378 0-2.5 1.121-2.5 2.5v27c0 1.378 1.122 2.5 2.5 2.5h23c1.378 0 2.5-1.122 2.5-2.5v-19.5c0-0.448-0.137-1.23-1.319-2.841zM24.543 5.457c0.959 0.959 1.712 1.825 2.268 2.543h-4.811v-4.811c0.718 0.556 1.584 1.309 2.543 2.268zM28 29.5c0 0.271-0.229 0.5-0.5 0.5h-23c-0.271 0-0.5-0.229-0.5-0.5v-27c0-0.271 0.229-0.5 0.5-0.5 0 0 15.499-0 15.5 0v7c0 0.552 0.448 1 1 1h7v19.5z\"></path>\n",
       "<path d=\"M23 26h-14c-0.552 0-1-0.448-1-1s0.448-1 1-1h14c0.552 0 1 0.448 1 1s-0.448 1-1 1z\"></path>\n",
       "<path d=\"M23 22h-14c-0.552 0-1-0.448-1-1s0.448-1 1-1h14c0.552 0 1 0.448 1 1s-0.448 1-1 1z\"></path>\n",
       "<path d=\"M23 18h-14c-0.552 0-1-0.448-1-1s0.448-1 1-1h14c0.552 0 1 0.448 1 1s-0.448 1-1 1z\"></path>\n",
       "</symbol>\n",
       "</defs>\n",
       "</svg>\n",
       "<style>/* CSS stylesheet for displaying xarray objects in jupyterlab.\n",
       " *\n",
       " */\n",
       "\n",
       ":root {\n",
       "  --xr-font-color0: var(--jp-content-font-color0, rgba(0, 0, 0, 1));\n",
       "  --xr-font-color2: var(--jp-content-font-color2, rgba(0, 0, 0, 0.54));\n",
       "  --xr-font-color3: var(--jp-content-font-color3, rgba(0, 0, 0, 0.38));\n",
       "  --xr-border-color: var(--jp-border-color2, #e0e0e0);\n",
       "  --xr-disabled-color: var(--jp-layout-color3, #bdbdbd);\n",
       "  --xr-background-color: var(--jp-layout-color0, white);\n",
       "  --xr-background-color-row-even: var(--jp-layout-color1, white);\n",
       "  --xr-background-color-row-odd: var(--jp-layout-color2, #eeeeee);\n",
       "}\n",
       "\n",
       "html[theme=dark],\n",
       "body.vscode-dark {\n",
       "  --xr-font-color0: rgba(255, 255, 255, 1);\n",
       "  --xr-font-color2: rgba(255, 255, 255, 0.54);\n",
       "  --xr-font-color3: rgba(255, 255, 255, 0.38);\n",
       "  --xr-border-color: #1F1F1F;\n",
       "  --xr-disabled-color: #515151;\n",
       "  --xr-background-color: #111111;\n",
       "  --xr-background-color-row-even: #111111;\n",
       "  --xr-background-color-row-odd: #313131;\n",
       "}\n",
       "\n",
       ".xr-wrap {\n",
       "  display: block;\n",
       "  min-width: 300px;\n",
       "  max-width: 700px;\n",
       "}\n",
       "\n",
       ".xr-text-repr-fallback {\n",
       "  /* fallback to plain text repr when CSS is not injected (untrusted notebook) */\n",
       "  display: none;\n",
       "}\n",
       "\n",
       ".xr-header {\n",
       "  padding-top: 6px;\n",
       "  padding-bottom: 6px;\n",
       "  margin-bottom: 4px;\n",
       "  border-bottom: solid 1px var(--xr-border-color);\n",
       "}\n",
       "\n",
       ".xr-header > div,\n",
       ".xr-header > ul {\n",
       "  display: inline;\n",
       "  margin-top: 0;\n",
       "  margin-bottom: 0;\n",
       "}\n",
       "\n",
       ".xr-obj-type,\n",
       ".xr-array-name {\n",
       "  margin-left: 2px;\n",
       "  margin-right: 10px;\n",
       "}\n",
       "\n",
       ".xr-obj-type {\n",
       "  color: var(--xr-font-color2);\n",
       "}\n",
       "\n",
       ".xr-sections {\n",
       "  padding-left: 0 !important;\n",
       "  display: grid;\n",
       "  grid-template-columns: 150px auto auto 1fr 20px 20px;\n",
       "}\n",
       "\n",
       ".xr-section-item {\n",
       "  display: contents;\n",
       "}\n",
       "\n",
       ".xr-section-item input {\n",
       "  display: none;\n",
       "}\n",
       "\n",
       ".xr-section-item input + label {\n",
       "  color: var(--xr-disabled-color);\n",
       "}\n",
       "\n",
       ".xr-section-item input:enabled + label {\n",
       "  cursor: pointer;\n",
       "  color: var(--xr-font-color2);\n",
       "}\n",
       "\n",
       ".xr-section-item input:enabled + label:hover {\n",
       "  color: var(--xr-font-color0);\n",
       "}\n",
       "\n",
       ".xr-section-summary {\n",
       "  grid-column: 1;\n",
       "  color: var(--xr-font-color2);\n",
       "  font-weight: 500;\n",
       "}\n",
       "\n",
       ".xr-section-summary > span {\n",
       "  display: inline-block;\n",
       "  padding-left: 0.5em;\n",
       "}\n",
       "\n",
       ".xr-section-summary-in:disabled + label {\n",
       "  color: var(--xr-font-color2);\n",
       "}\n",
       "\n",
       ".xr-section-summary-in + label:before {\n",
       "  display: inline-block;\n",
       "  content: '►';\n",
       "  font-size: 11px;\n",
       "  width: 15px;\n",
       "  text-align: center;\n",
       "}\n",
       "\n",
       ".xr-section-summary-in:disabled + label:before {\n",
       "  color: var(--xr-disabled-color);\n",
       "}\n",
       "\n",
       ".xr-section-summary-in:checked + label:before {\n",
       "  content: '▼';\n",
       "}\n",
       "\n",
       ".xr-section-summary-in:checked + label > span {\n",
       "  display: none;\n",
       "}\n",
       "\n",
       ".xr-section-summary,\n",
       ".xr-section-inline-details {\n",
       "  padding-top: 4px;\n",
       "  padding-bottom: 4px;\n",
       "}\n",
       "\n",
       ".xr-section-inline-details {\n",
       "  grid-column: 2 / -1;\n",
       "}\n",
       "\n",
       ".xr-section-details {\n",
       "  display: none;\n",
       "  grid-column: 1 / -1;\n",
       "  margin-bottom: 5px;\n",
       "}\n",
       "\n",
       ".xr-section-summary-in:checked ~ .xr-section-details {\n",
       "  display: contents;\n",
       "}\n",
       "\n",
       ".xr-array-wrap {\n",
       "  grid-column: 1 / -1;\n",
       "  display: grid;\n",
       "  grid-template-columns: 20px auto;\n",
       "}\n",
       "\n",
       ".xr-array-wrap > label {\n",
       "  grid-column: 1;\n",
       "  vertical-align: top;\n",
       "}\n",
       "\n",
       ".xr-preview {\n",
       "  color: var(--xr-font-color3);\n",
       "}\n",
       "\n",
       ".xr-array-preview,\n",
       ".xr-array-data {\n",
       "  padding: 0 5px !important;\n",
       "  grid-column: 2;\n",
       "}\n",
       "\n",
       ".xr-array-data,\n",
       ".xr-array-in:checked ~ .xr-array-preview {\n",
       "  display: none;\n",
       "}\n",
       "\n",
       ".xr-array-in:checked ~ .xr-array-data,\n",
       ".xr-array-preview {\n",
       "  display: inline-block;\n",
       "}\n",
       "\n",
       ".xr-dim-list {\n",
       "  display: inline-block !important;\n",
       "  list-style: none;\n",
       "  padding: 0 !important;\n",
       "  margin: 0;\n",
       "}\n",
       "\n",
       ".xr-dim-list li {\n",
       "  display: inline-block;\n",
       "  padding: 0;\n",
       "  margin: 0;\n",
       "}\n",
       "\n",
       ".xr-dim-list:before {\n",
       "  content: '(';\n",
       "}\n",
       "\n",
       ".xr-dim-list:after {\n",
       "  content: ')';\n",
       "}\n",
       "\n",
       ".xr-dim-list li:not(:last-child):after {\n",
       "  content: ',';\n",
       "  padding-right: 5px;\n",
       "}\n",
       "\n",
       ".xr-has-index {\n",
       "  font-weight: bold;\n",
       "}\n",
       "\n",
       ".xr-var-list,\n",
       ".xr-var-item {\n",
       "  display: contents;\n",
       "}\n",
       "\n",
       ".xr-var-item > div,\n",
       ".xr-var-item label,\n",
       ".xr-var-item > .xr-var-name span {\n",
       "  background-color: var(--xr-background-color-row-even);\n",
       "  margin-bottom: 0;\n",
       "}\n",
       "\n",
       ".xr-var-item > .xr-var-name:hover span {\n",
       "  padding-right: 5px;\n",
       "}\n",
       "\n",
       ".xr-var-list > li:nth-child(odd) > div,\n",
       ".xr-var-list > li:nth-child(odd) > label,\n",
       ".xr-var-list > li:nth-child(odd) > .xr-var-name span {\n",
       "  background-color: var(--xr-background-color-row-odd);\n",
       "}\n",
       "\n",
       ".xr-var-name {\n",
       "  grid-column: 1;\n",
       "}\n",
       "\n",
       ".xr-var-dims {\n",
       "  grid-column: 2;\n",
       "}\n",
       "\n",
       ".xr-var-dtype {\n",
       "  grid-column: 3;\n",
       "  text-align: right;\n",
       "  color: var(--xr-font-color2);\n",
       "}\n",
       "\n",
       ".xr-var-preview {\n",
       "  grid-column: 4;\n",
       "}\n",
       "\n",
       ".xr-var-name,\n",
       ".xr-var-dims,\n",
       ".xr-var-dtype,\n",
       ".xr-preview,\n",
       ".xr-attrs dt {\n",
       "  white-space: nowrap;\n",
       "  overflow: hidden;\n",
       "  text-overflow: ellipsis;\n",
       "  padding-right: 10px;\n",
       "}\n",
       "\n",
       ".xr-var-name:hover,\n",
       ".xr-var-dims:hover,\n",
       ".xr-var-dtype:hover,\n",
       ".xr-attrs dt:hover {\n",
       "  overflow: visible;\n",
       "  width: auto;\n",
       "  z-index: 1;\n",
       "}\n",
       "\n",
       ".xr-var-attrs,\n",
       ".xr-var-data {\n",
       "  display: none;\n",
       "  background-color: var(--xr-background-color) !important;\n",
       "  padding-bottom: 5px !important;\n",
       "}\n",
       "\n",
       ".xr-var-attrs-in:checked ~ .xr-var-attrs,\n",
       ".xr-var-data-in:checked ~ .xr-var-data {\n",
       "  display: block;\n",
       "}\n",
       "\n",
       ".xr-var-data > table {\n",
       "  float: right;\n",
       "}\n",
       "\n",
       ".xr-var-name span,\n",
       ".xr-var-data,\n",
       ".xr-attrs {\n",
       "  padding-left: 25px !important;\n",
       "}\n",
       "\n",
       ".xr-attrs,\n",
       ".xr-var-attrs,\n",
       ".xr-var-data {\n",
       "  grid-column: 1 / -1;\n",
       "}\n",
       "\n",
       "dl.xr-attrs {\n",
       "  padding: 0;\n",
       "  margin: 0;\n",
       "  display: grid;\n",
       "  grid-template-columns: 125px auto;\n",
       "}\n",
       "\n",
       ".xr-attrs dt, dd {\n",
       "  padding: 0;\n",
       "  margin: 0;\n",
       "  float: left;\n",
       "  padding-right: 10px;\n",
       "  width: auto;\n",
       "}\n",
       "\n",
       ".xr-attrs dt {\n",
       "  font-weight: normal;\n",
       "  grid-column: 1;\n",
       "}\n",
       "\n",
       ".xr-attrs dt:hover span {\n",
       "  display: inline-block;\n",
       "  background: var(--xr-background-color);\n",
       "  padding-right: 10px;\n",
       "}\n",
       "\n",
       ".xr-attrs dd {\n",
       "  grid-column: 2;\n",
       "  white-space: pre-wrap;\n",
       "  word-break: break-all;\n",
       "}\n",
       "\n",
       ".xr-icon-database,\n",
       ".xr-icon-file-text2 {\n",
       "  display: inline-block;\n",
       "  vertical-align: middle;\n",
       "  width: 1em;\n",
       "  height: 1.5em !important;\n",
       "  stroke-width: 0;\n",
       "  stroke: currentColor;\n",
       "  fill: currentColor;\n",
       "}\n",
       "</style><pre class='xr-text-repr-fallback'>&lt;xarray.DataArray &#x27;tas&#x27; (realization: 1, time: 756, RegionIndex: 58)&gt;\n",
       "array([[[ 2.025099, -0.656034, ..., -0.338793, -0.433678],\n",
       "        [ 0.130127,  2.011232, ..., -0.43788 , -0.530713],\n",
       "        ...,\n",
       "        [ 2.335976,  1.777205, ...,  0.368178,  0.415087],\n",
       "        [ 1.631569,  0.527166, ...,  0.394958,  0.577558]]])\n",
       "Coordinates:\n",
       "  * realization   (realization) int64 39\n",
       "  * time          (time) datetime64[ns] 1960-01-16T12:00:00 ... 2022-12-16T12...\n",
       "  * RegionIndex   (RegionIndex) int64 0 1 2 3 4 5 6 7 ... 51 52 53 54 55 56 57\n",
       "    RegionAbbrev  (RegionIndex) object &#x27;GIC&#x27; &#x27;NWN&#x27; &#x27;NEN&#x27; ... &#x27;EIO&#x27; &#x27;SIO&#x27; &#x27;SOO&#x27;\n",
       "    RegionName    (RegionIndex) object &#x27;Greenland/Iceland&#x27; ... &#x27;Southern-Ocean&#x27;</pre><div class='xr-wrap' hidden><div class='xr-header'><div class='xr-obj-type'>xarray.DataArray</div><div class='xr-array-name'>'tas'</div><ul class='xr-dim-list'><li><span class='xr-has-index'>realization</span>: 1</li><li><span class='xr-has-index'>time</span>: 756</li><li><span class='xr-has-index'>RegionIndex</span>: 58</li></ul></div><ul class='xr-sections'><li class='xr-section-item'><div class='xr-array-wrap'><input id='section-28a2d6aa-95cc-4643-95a4-9ed02e200805' class='xr-array-in' type='checkbox' checked><label for='section-28a2d6aa-95cc-4643-95a4-9ed02e200805' title='Show/hide data repr'><svg class='icon xr-icon-database'><use xlink:href='#icon-database'></use></svg></label><div class='xr-array-preview xr-preview'><span>2.025 -0.656 1.426 -0.9718 0.2795 ... 0.6364 0.4432 0.395 0.5776</span></div><div class='xr-array-data'><pre>array([[[ 2.025099, -0.656034, ..., -0.338793, -0.433678],\n",
       "        [ 0.130127,  2.011232, ..., -0.43788 , -0.530713],\n",
       "        ...,\n",
       "        [ 2.335976,  1.777205, ...,  0.368178,  0.415087],\n",
       "        [ 1.631569,  0.527166, ...,  0.394958,  0.577558]]])</pre></div></div></li><li class='xr-section-item'><input id='section-3851f274-fa24-4c21-8a4c-a2cc45255917' class='xr-section-summary-in' type='checkbox'  checked><label for='section-3851f274-fa24-4c21-8a4c-a2cc45255917' class='xr-section-summary' >Coordinates: <span>(5)</span></label><div class='xr-section-inline-details'></div><div class='xr-section-details'><ul class='xr-var-list'><li class='xr-var-item'><div class='xr-var-name'><span class='xr-has-index'>realization</span></div><div class='xr-var-dims'>(realization)</div><div class='xr-var-dtype'>int64</div><div class='xr-var-preview xr-preview'>39</div><input id='attrs-dd39725b-10e2-4b52-b83e-2372a99b924a' class='xr-var-attrs-in' type='checkbox' ><label for='attrs-dd39725b-10e2-4b52-b83e-2372a99b924a' title='Show/Hide attributes'><svg class='icon xr-icon-file-text2'><use xlink:href='#icon-file-text2'></use></svg></label><input id='data-d30df4dd-564c-468b-b277-fba078c64aba' class='xr-var-data-in' type='checkbox'><label for='data-d30df4dd-564c-468b-b277-fba078c64aba' title='Show/Hide data repr'><svg class='icon xr-icon-database'><use xlink:href='#icon-database'></use></svg></label><div class='xr-var-attrs'><dl class='xr-attrs'><dt><span>units :</span></dt><dd>1</dd><dt><span>standard_name :</span></dt><dd>realization</dd></dl></div><div class='xr-var-data'><pre>array([39])</pre></div></li><li class='xr-var-item'><div class='xr-var-name'><span class='xr-has-index'>time</span></div><div class='xr-var-dims'>(time)</div><div class='xr-var-dtype'>datetime64[ns]</div><div class='xr-var-preview xr-preview'>1960-01-16T12:00:00 ... 2022-12-...</div><input id='attrs-6fb92e1d-d54f-47d0-bcdc-9f2fc3c79c3b' class='xr-var-attrs-in' type='checkbox' ><label for='attrs-6fb92e1d-d54f-47d0-bcdc-9f2fc3c79c3b' title='Show/Hide attributes'><svg class='icon xr-icon-file-text2'><use xlink:href='#icon-file-text2'></use></svg></label><input id='data-6811b4c4-590d-421d-9cba-03fb3c529738' class='xr-var-data-in' type='checkbox'><label for='data-6811b4c4-590d-421d-9cba-03fb3c529738' title='Show/Hide data repr'><svg class='icon xr-icon-database'><use xlink:href='#icon-database'></use></svg></label><div class='xr-var-attrs'><dl class='xr-attrs'><dt><span>axis :</span></dt><dd>T</dd><dt><span>bounds :</span></dt><dd>time_bnds</dd><dt><span>standard_name :</span></dt><dd>time</dd><dt><span>long_name :</span></dt><dd>time</dd></dl></div><div class='xr-var-data'><pre>array([&#x27;1960-01-16T12:00:00.000000000&#x27;, &#x27;1960-02-15T12:00:00.000000000&#x27;,\n",
       "       &#x27;1960-03-16T12:00:00.000000000&#x27;, ..., &#x27;2022-10-16T12:00:00.000000000&#x27;,\n",
       "       &#x27;2022-11-16T00:00:00.000000000&#x27;, &#x27;2022-12-16T12:00:00.000000000&#x27;],\n",
       "      dtype=&#x27;datetime64[ns]&#x27;)</pre></div></li><li class='xr-var-item'><div class='xr-var-name'><span class='xr-has-index'>RegionIndex</span></div><div class='xr-var-dims'>(RegionIndex)</div><div class='xr-var-dtype'>int64</div><div class='xr-var-preview xr-preview'>0 1 2 3 4 5 6 ... 52 53 54 55 56 57</div><input id='attrs-2276c80b-2db0-4d0f-9be4-3c698ada6107' class='xr-var-attrs-in' type='checkbox' disabled><label for='attrs-2276c80b-2db0-4d0f-9be4-3c698ada6107' title='Show/Hide attributes'><svg class='icon xr-icon-file-text2'><use xlink:href='#icon-file-text2'></use></svg></label><input id='data-04092d34-5eb9-43b9-9d3e-132101e5d80b' class='xr-var-data-in' type='checkbox'><label for='data-04092d34-5eb9-43b9-9d3e-132101e5d80b' title='Show/Hide data repr'><svg class='icon xr-icon-database'><use xlink:href='#icon-database'></use></svg></label><div class='xr-var-attrs'><dl class='xr-attrs'></dl></div><div class='xr-var-data'><pre>array([ 0,  1,  2,  3,  4,  5,  6,  7,  8,  9, 10, 11, 12, 13, 14, 15, 16, 17,\n",
       "       18, 19, 20, 21, 22, 23, 24, 25, 26, 27, 28, 29, 30, 31, 32, 33, 34, 35,\n",
       "       36, 37, 38, 39, 40, 41, 42, 43, 44, 45, 46, 47, 48, 49, 50, 51, 52, 53,\n",
       "       54, 55, 56, 57])</pre></div></li><li class='xr-var-item'><div class='xr-var-name'><span>RegionAbbrev</span></div><div class='xr-var-dims'>(RegionIndex)</div><div class='xr-var-dtype'>object</div><div class='xr-var-preview xr-preview'>&#x27;GIC&#x27; &#x27;NWN&#x27; &#x27;NEN&#x27; ... &#x27;SIO&#x27; &#x27;SOO&#x27;</div><input id='attrs-4581fcef-58cd-45fc-9bb0-2ed20e526040' class='xr-var-attrs-in' type='checkbox' disabled><label for='attrs-4581fcef-58cd-45fc-9bb0-2ed20e526040' title='Show/Hide attributes'><svg class='icon xr-icon-file-text2'><use xlink:href='#icon-file-text2'></use></svg></label><input id='data-17b04602-37e7-4cba-baae-faf8fae2e030' class='xr-var-data-in' type='checkbox'><label for='data-17b04602-37e7-4cba-baae-faf8fae2e030' title='Show/Hide data repr'><svg class='icon xr-icon-database'><use xlink:href='#icon-database'></use></svg></label><div class='xr-var-attrs'><dl class='xr-attrs'></dl></div><div class='xr-var-data'><pre>array([&#x27;GIC&#x27;, &#x27;NWN&#x27;, &#x27;NEN&#x27;, &#x27;WNA&#x27;, &#x27;CNA&#x27;, &#x27;ENA&#x27;, &#x27;NCA&#x27;, &#x27;SCA&#x27;, &#x27;CAR&#x27;, &#x27;NWS&#x27;,\n",
       "       &#x27;NSA&#x27;, &#x27;NES&#x27;, &#x27;SAM&#x27;, &#x27;SWS&#x27;, &#x27;SES&#x27;, &#x27;SSA&#x27;, &#x27;NEU&#x27;, &#x27;WCE&#x27;, &#x27;EEU&#x27;, &#x27;MED&#x27;,\n",
       "       &#x27;SAH&#x27;, &#x27;WAF&#x27;, &#x27;CAF&#x27;, &#x27;NEAF&#x27;, &#x27;SEAF&#x27;, &#x27;WSAF&#x27;, &#x27;ESAF&#x27;, &#x27;MDG&#x27;, &#x27;RAR&#x27;,\n",
       "       &#x27;WSB&#x27;, &#x27;ESB&#x27;, &#x27;RFE&#x27;, &#x27;WCA&#x27;, &#x27;ECA&#x27;, &#x27;TIB&#x27;, &#x27;EAS&#x27;, &#x27;ARP&#x27;, &#x27;SAS&#x27;, &#x27;SEA&#x27;,\n",
       "       &#x27;NAU&#x27;, &#x27;CAU&#x27;, &#x27;EAU&#x27;, &#x27;SAU&#x27;, &#x27;NZ&#x27;, &#x27;EAN&#x27;, &#x27;WAN&#x27;, &#x27;ARO&#x27;, &#x27;NPO&#x27;, &#x27;EPO&#x27;,\n",
       "       &#x27;SPO&#x27;, &#x27;NAO&#x27;, &#x27;EAO&#x27;, &#x27;SAO&#x27;, &#x27;ARS&#x27;, &#x27;BOB&#x27;, &#x27;EIO&#x27;, &#x27;SIO&#x27;, &#x27;SOO&#x27;],\n",
       "      dtype=object)</pre></div></li><li class='xr-var-item'><div class='xr-var-name'><span>RegionName</span></div><div class='xr-var-dims'>(RegionIndex)</div><div class='xr-var-dtype'>object</div><div class='xr-var-preview xr-preview'>&#x27;Greenland/Iceland&#x27; ... &#x27;Souther...</div><input id='attrs-3e1b85d7-eed0-4e41-a20e-5e23ecf298b8' class='xr-var-attrs-in' type='checkbox' disabled><label for='attrs-3e1b85d7-eed0-4e41-a20e-5e23ecf298b8' title='Show/Hide attributes'><svg class='icon xr-icon-file-text2'><use xlink:href='#icon-file-text2'></use></svg></label><input id='data-133b9b73-9ab7-4ee2-bd7d-7b4bab748913' class='xr-var-data-in' type='checkbox'><label for='data-133b9b73-9ab7-4ee2-bd7d-7b4bab748913' title='Show/Hide data repr'><svg class='icon xr-icon-database'><use xlink:href='#icon-database'></use></svg></label><div class='xr-var-attrs'><dl class='xr-attrs'></dl></div><div class='xr-var-data'><pre>array([&#x27;Greenland/Iceland&#x27;, &#x27;N.W.North-America&#x27;, &#x27;N.E.North-America&#x27;,\n",
       "       &#x27;W.North-America&#x27;, &#x27;C.North-America&#x27;, &#x27;E.North-America&#x27;,\n",
       "       &#x27;N.Central-America&#x27;, &#x27;S.Central-America&#x27;, &#x27;Caribbean&#x27;,\n",
       "       &#x27;N.W.South-America&#x27;, &#x27;N.South-America&#x27;, &#x27;N.E.South-America&#x27;,\n",
       "       &#x27;South-American-Monsoon&#x27;, &#x27;S.W.South-America&#x27;, &#x27;S.E.South-America&#x27;,\n",
       "       &#x27;S.South-America&#x27;, &#x27;N.Europe&#x27;, &#x27;West&amp;Central-Europe&#x27;, &#x27;E.Europe&#x27;,\n",
       "       &#x27;Mediterranean&#x27;, &#x27;Sahara&#x27;, &#x27;Western-Africa&#x27;, &#x27;Central-Africa&#x27;,\n",
       "       &#x27;N.Eastern-Africa&#x27;, &#x27;S.Eastern-Africa&#x27;, &#x27;W.Southern-Africa&#x27;,\n",
       "       &#x27;E.Southern-Africa&#x27;, &#x27;Madagascar&#x27;, &#x27;Russian-Arctic&#x27;, &#x27;W.Siberia&#x27;,\n",
       "       &#x27;E.Siberia&#x27;, &#x27;Russian-Far-East&#x27;, &#x27;W.C.Asia&#x27;, &#x27;E.C.Asia&#x27;,\n",
       "       &#x27;Tibetan-Plateau&#x27;, &#x27;E.Asia&#x27;, &#x27;Arabian-Peninsula&#x27;, &#x27;S.Asia&#x27;, &#x27;S.E.Asia&#x27;,\n",
       "       &#x27;N.Australia&#x27;, &#x27;C.Australia&#x27;, &#x27;E.Australia&#x27;, &#x27;S.Australia&#x27;,\n",
       "       &#x27;New-Zealand&#x27;, &#x27;E.Antarctica&#x27;, &#x27;W.Antarctica&#x27;, &#x27;Arctic-Ocean&#x27;,\n",
       "       &#x27;N.Pacific-Ocean&#x27;, &#x27;Equatorial.Pacific-Ocean&#x27;, &#x27;S.Pacific-Ocean&#x27;,\n",
       "       &#x27;N.Atlantic-Ocean&#x27;, &#x27;Equatorial.Atlantic-Ocean&#x27;, &#x27;S.Atlantic-Ocean&#x27;,\n",
       "       &#x27;Arabian-Sea&#x27;, &#x27;Bay-of-Bengal&#x27;, &#x27;Equatorial.Indic-Ocean&#x27;,\n",
       "       &#x27;S.Indic-Ocean&#x27;, &#x27;Southern-Ocean&#x27;], dtype=object)</pre></div></li></ul></div></li><li class='xr-section-item'><input id='section-7ccd3fc3-f843-4b8b-bda1-ee12b52c5945' class='xr-section-summary-in' type='checkbox' disabled ><label for='section-7ccd3fc3-f843-4b8b-bda1-ee12b52c5945' class='xr-section-summary'  title='Expand/collapse section'>Attributes: <span>(0)</span></label><div class='xr-section-inline-details'></div><div class='xr-section-details'><dl class='xr-attrs'></dl></div></li></ul></div></div>"
      ],
      "text/plain": [
       "<xarray.DataArray 'tas' (realization: 1, time: 756, RegionIndex: 58)>\n",
       "array([[[ 2.025099, -0.656034, ..., -0.338793, -0.433678],\n",
       "        [ 0.130127,  2.011232, ..., -0.43788 , -0.530713],\n",
       "        ...,\n",
       "        [ 2.335976,  1.777205, ...,  0.368178,  0.415087],\n",
       "        [ 1.631569,  0.527166, ...,  0.394958,  0.577558]]])\n",
       "Coordinates:\n",
       "  * realization   (realization) int64 39\n",
       "  * time          (time) datetime64[ns] 1960-01-16T12:00:00 ... 2022-12-16T12...\n",
       "  * RegionIndex   (RegionIndex) int64 0 1 2 3 4 5 6 7 ... 51 52 53 54 55 56 57\n",
       "    RegionAbbrev  (RegionIndex) object 'GIC' 'NWN' 'NEN' ... 'EIO' 'SIO' 'SOO'\n",
       "    RegionName    (RegionIndex) object 'Greenland/Iceland' ... 'Southern-Ocean'"
      ]
     },
     "execution_count": 12,
     "metadata": {},
     "output_type": "execute_result"
    }
   ],
   "source": [
    "test_ds['tas']"
   ]
  },
  {
   "cell_type": "code",
   "execution_count": null,
   "id": "16df8a4c-c318-4945-b5d1-a551b33948fc",
   "metadata": {},
   "outputs": [
    {
     "name": "stderr",
     "output_type": "stream",
     "text": [
      "/glade/work/jonahshaw/miniconda3/envs/cheydask/lib/python3.7/site-packages/dask/array/numpy_compat.py:41: RuntimeWarning: invalid value encountered in true_divide\n",
      "  x = np.divide(x1, x2, out)\n"
     ]
    },
    {
     "name": "stdout",
     "output_type": "stream",
     "text": [
      "/glade/work/jonahshaw/trend_uncertainty/nathan/OBS_LENS/HadCRUT5//HadCRUT.5.0.1.0.analysis.anomalies.1.5x5degSpatialTrends.196001-202012.nc\n"
     ]
    },
    {
     "name": "stderr",
     "output_type": "stream",
     "text": [
      "/glade/work/jonahshaw/miniconda3/envs/cheydask/lib/python3.7/site-packages/dask/array/numpy_compat.py:41: RuntimeWarning: invalid value encountered in true_divide\n",
      "  x = np.divide(x1, x2, out)\n"
     ]
    },
    {
     "name": "stdout",
     "output_type": "stream",
     "text": [
      "/glade/work/jonahshaw/trend_uncertainty/nathan/OBS_LENS/HadCRUT5//HadCRUT.5.0.1.0.analysis.anomalies.10.5x5degSpatialTrends.196001-202012.nc\n"
     ]
    },
    {
     "name": "stderr",
     "output_type": "stream",
     "text": [
      "/glade/work/jonahshaw/miniconda3/envs/cheydask/lib/python3.7/site-packages/dask/array/numpy_compat.py:41: RuntimeWarning: invalid value encountered in true_divide\n",
      "  x = np.divide(x1, x2, out)\n"
     ]
    },
    {
     "name": "stdout",
     "output_type": "stream",
     "text": [
      "/glade/work/jonahshaw/trend_uncertainty/nathan/OBS_LENS/HadCRUT5//HadCRUT.5.0.1.0.analysis.anomalies.100.5x5degSpatialTrends.196001-202012.nc\n"
     ]
    },
    {
     "name": "stderr",
     "output_type": "stream",
     "text": [
      "/glade/work/jonahshaw/miniconda3/envs/cheydask/lib/python3.7/site-packages/dask/array/numpy_compat.py:41: RuntimeWarning: invalid value encountered in true_divide\n",
      "  x = np.divide(x1, x2, out)\n"
     ]
    },
    {
     "name": "stdout",
     "output_type": "stream",
     "text": [
      "/glade/work/jonahshaw/trend_uncertainty/nathan/OBS_LENS/HadCRUT5//HadCRUT.5.0.1.0.analysis.anomalies.101.5x5degSpatialTrends.196001-202012.nc\n"
     ]
    },
    {
     "name": "stderr",
     "output_type": "stream",
     "text": [
      "/glade/work/jonahshaw/miniconda3/envs/cheydask/lib/python3.7/site-packages/dask/array/numpy_compat.py:41: RuntimeWarning: invalid value encountered in true_divide\n",
      "  x = np.divide(x1, x2, out)\n"
     ]
    },
    {
     "name": "stdout",
     "output_type": "stream",
     "text": [
      "/glade/work/jonahshaw/trend_uncertainty/nathan/OBS_LENS/HadCRUT5//HadCRUT.5.0.1.0.analysis.anomalies.102.5x5degSpatialTrends.196001-202012.nc\n"
     ]
    },
    {
     "name": "stderr",
     "output_type": "stream",
     "text": [
      "/glade/work/jonahshaw/miniconda3/envs/cheydask/lib/python3.7/site-packages/dask/array/numpy_compat.py:41: RuntimeWarning: invalid value encountered in true_divide\n",
      "  x = np.divide(x1, x2, out)\n"
     ]
    },
    {
     "name": "stdout",
     "output_type": "stream",
     "text": [
      "/glade/work/jonahshaw/trend_uncertainty/nathan/OBS_LENS/HadCRUT5//HadCRUT.5.0.1.0.analysis.anomalies.103.5x5degSpatialTrends.196001-202012.nc\n"
     ]
    },
    {
     "name": "stderr",
     "output_type": "stream",
     "text": [
      "/glade/work/jonahshaw/miniconda3/envs/cheydask/lib/python3.7/site-packages/dask/array/numpy_compat.py:41: RuntimeWarning: invalid value encountered in true_divide\n",
      "  x = np.divide(x1, x2, out)\n"
     ]
    },
    {
     "name": "stdout",
     "output_type": "stream",
     "text": [
      "/glade/work/jonahshaw/trend_uncertainty/nathan/OBS_LENS/HadCRUT5//HadCRUT.5.0.1.0.analysis.anomalies.104.5x5degSpatialTrends.196001-202012.nc\n"
     ]
    },
    {
     "name": "stderr",
     "output_type": "stream",
     "text": [
      "/glade/work/jonahshaw/miniconda3/envs/cheydask/lib/python3.7/site-packages/dask/array/numpy_compat.py:41: RuntimeWarning: invalid value encountered in true_divide\n",
      "  x = np.divide(x1, x2, out)\n"
     ]
    },
    {
     "name": "stdout",
     "output_type": "stream",
     "text": [
      "/glade/work/jonahshaw/trend_uncertainty/nathan/OBS_LENS/HadCRUT5//HadCRUT.5.0.1.0.analysis.anomalies.105.5x5degSpatialTrends.196001-202012.nc\n"
     ]
    },
    {
     "name": "stderr",
     "output_type": "stream",
     "text": [
      "/glade/work/jonahshaw/miniconda3/envs/cheydask/lib/python3.7/site-packages/dask/array/numpy_compat.py:41: RuntimeWarning: invalid value encountered in true_divide\n",
      "  x = np.divide(x1, x2, out)\n"
     ]
    },
    {
     "name": "stdout",
     "output_type": "stream",
     "text": [
      "/glade/work/jonahshaw/trend_uncertainty/nathan/OBS_LENS/HadCRUT5//HadCRUT.5.0.1.0.analysis.anomalies.106.5x5degSpatialTrends.196001-202012.nc\n"
     ]
    },
    {
     "name": "stderr",
     "output_type": "stream",
     "text": [
      "/glade/work/jonahshaw/miniconda3/envs/cheydask/lib/python3.7/site-packages/dask/array/numpy_compat.py:41: RuntimeWarning: invalid value encountered in true_divide\n",
      "  x = np.divide(x1, x2, out)\n"
     ]
    },
    {
     "name": "stdout",
     "output_type": "stream",
     "text": [
      "/glade/work/jonahshaw/trend_uncertainty/nathan/OBS_LENS/HadCRUT5//HadCRUT.5.0.1.0.analysis.anomalies.107.5x5degSpatialTrends.196001-202012.nc\n"
     ]
    },
    {
     "name": "stderr",
     "output_type": "stream",
     "text": [
      "/glade/work/jonahshaw/miniconda3/envs/cheydask/lib/python3.7/site-packages/dask/array/numpy_compat.py:41: RuntimeWarning: invalid value encountered in true_divide\n",
      "  x = np.divide(x1, x2, out)\n"
     ]
    },
    {
     "name": "stdout",
     "output_type": "stream",
     "text": [
      "/glade/work/jonahshaw/trend_uncertainty/nathan/OBS_LENS/HadCRUT5//HadCRUT.5.0.1.0.analysis.anomalies.108.5x5degSpatialTrends.196001-202012.nc\n"
     ]
    },
    {
     "name": "stderr",
     "output_type": "stream",
     "text": [
      "/glade/work/jonahshaw/miniconda3/envs/cheydask/lib/python3.7/site-packages/dask/array/numpy_compat.py:41: RuntimeWarning: invalid value encountered in true_divide\n",
      "  x = np.divide(x1, x2, out)\n"
     ]
    },
    {
     "name": "stdout",
     "output_type": "stream",
     "text": [
      "/glade/work/jonahshaw/trend_uncertainty/nathan/OBS_LENS/HadCRUT5//HadCRUT.5.0.1.0.analysis.anomalies.109.5x5degSpatialTrends.196001-202012.nc\n"
     ]
    },
    {
     "name": "stderr",
     "output_type": "stream",
     "text": [
      "/glade/work/jonahshaw/miniconda3/envs/cheydask/lib/python3.7/site-packages/dask/array/numpy_compat.py:41: RuntimeWarning: invalid value encountered in true_divide\n",
      "  x = np.divide(x1, x2, out)\n"
     ]
    },
    {
     "name": "stdout",
     "output_type": "stream",
     "text": [
      "/glade/work/jonahshaw/trend_uncertainty/nathan/OBS_LENS/HadCRUT5//HadCRUT.5.0.1.0.analysis.anomalies.11.5x5degSpatialTrends.196001-202012.nc\n"
     ]
    },
    {
     "name": "stderr",
     "output_type": "stream",
     "text": [
      "/glade/work/jonahshaw/miniconda3/envs/cheydask/lib/python3.7/site-packages/dask/array/numpy_compat.py:41: RuntimeWarning: invalid value encountered in true_divide\n",
      "  x = np.divide(x1, x2, out)\n"
     ]
    },
    {
     "name": "stdout",
     "output_type": "stream",
     "text": [
      "/glade/work/jonahshaw/trend_uncertainty/nathan/OBS_LENS/HadCRUT5//HadCRUT.5.0.1.0.analysis.anomalies.110.5x5degSpatialTrends.196001-202012.nc\n"
     ]
    },
    {
     "name": "stderr",
     "output_type": "stream",
     "text": [
      "/glade/work/jonahshaw/miniconda3/envs/cheydask/lib/python3.7/site-packages/dask/array/numpy_compat.py:41: RuntimeWarning: invalid value encountered in true_divide\n",
      "  x = np.divide(x1, x2, out)\n"
     ]
    },
    {
     "name": "stdout",
     "output_type": "stream",
     "text": [
      "/glade/work/jonahshaw/trend_uncertainty/nathan/OBS_LENS/HadCRUT5//HadCRUT.5.0.1.0.analysis.anomalies.111.5x5degSpatialTrends.196001-202012.nc\n"
     ]
    },
    {
     "name": "stderr",
     "output_type": "stream",
     "text": [
      "/glade/work/jonahshaw/miniconda3/envs/cheydask/lib/python3.7/site-packages/dask/array/numpy_compat.py:41: RuntimeWarning: invalid value encountered in true_divide\n",
      "  x = np.divide(x1, x2, out)\n"
     ]
    },
    {
     "name": "stdout",
     "output_type": "stream",
     "text": [
      "/glade/work/jonahshaw/trend_uncertainty/nathan/OBS_LENS/HadCRUT5//HadCRUT.5.0.1.0.analysis.anomalies.112.5x5degSpatialTrends.196001-202012.nc\n"
     ]
    },
    {
     "name": "stderr",
     "output_type": "stream",
     "text": [
      "/glade/work/jonahshaw/miniconda3/envs/cheydask/lib/python3.7/site-packages/dask/array/numpy_compat.py:41: RuntimeWarning: invalid value encountered in true_divide\n",
      "  x = np.divide(x1, x2, out)\n"
     ]
    },
    {
     "name": "stdout",
     "output_type": "stream",
     "text": [
      "/glade/work/jonahshaw/trend_uncertainty/nathan/OBS_LENS/HadCRUT5//HadCRUT.5.0.1.0.analysis.anomalies.113.5x5degSpatialTrends.196001-202012.nc\n"
     ]
    },
    {
     "name": "stderr",
     "output_type": "stream",
     "text": [
      "/glade/work/jonahshaw/miniconda3/envs/cheydask/lib/python3.7/site-packages/dask/array/numpy_compat.py:41: RuntimeWarning: invalid value encountered in true_divide\n",
      "  x = np.divide(x1, x2, out)\n"
     ]
    },
    {
     "name": "stdout",
     "output_type": "stream",
     "text": [
      "/glade/work/jonahshaw/trend_uncertainty/nathan/OBS_LENS/HadCRUT5//HadCRUT.5.0.1.0.analysis.anomalies.114.5x5degSpatialTrends.196001-202012.nc\n"
     ]
    },
    {
     "name": "stderr",
     "output_type": "stream",
     "text": [
      "/glade/work/jonahshaw/miniconda3/envs/cheydask/lib/python3.7/site-packages/dask/array/numpy_compat.py:41: RuntimeWarning: invalid value encountered in true_divide\n",
      "  x = np.divide(x1, x2, out)\n"
     ]
    },
    {
     "name": "stdout",
     "output_type": "stream",
     "text": [
      "/glade/work/jonahshaw/trend_uncertainty/nathan/OBS_LENS/HadCRUT5//HadCRUT.5.0.1.0.analysis.anomalies.115.5x5degSpatialTrends.196001-202012.nc\n"
     ]
    },
    {
     "name": "stderr",
     "output_type": "stream",
     "text": [
      "/glade/work/jonahshaw/miniconda3/envs/cheydask/lib/python3.7/site-packages/dask/array/numpy_compat.py:41: RuntimeWarning: invalid value encountered in true_divide\n",
      "  x = np.divide(x1, x2, out)\n"
     ]
    },
    {
     "name": "stdout",
     "output_type": "stream",
     "text": [
      "/glade/work/jonahshaw/trend_uncertainty/nathan/OBS_LENS/HadCRUT5//HadCRUT.5.0.1.0.analysis.anomalies.116.5x5degSpatialTrends.196001-202012.nc\n"
     ]
    },
    {
     "name": "stderr",
     "output_type": "stream",
     "text": [
      "/glade/work/jonahshaw/miniconda3/envs/cheydask/lib/python3.7/site-packages/dask/array/numpy_compat.py:41: RuntimeWarning: invalid value encountered in true_divide\n",
      "  x = np.divide(x1, x2, out)\n"
     ]
    },
    {
     "name": "stdout",
     "output_type": "stream",
     "text": [
      "/glade/work/jonahshaw/trend_uncertainty/nathan/OBS_LENS/HadCRUT5//HadCRUT.5.0.1.0.analysis.anomalies.117.5x5degSpatialTrends.196001-202012.nc\n"
     ]
    },
    {
     "name": "stderr",
     "output_type": "stream",
     "text": [
      "/glade/work/jonahshaw/miniconda3/envs/cheydask/lib/python3.7/site-packages/dask/array/numpy_compat.py:41: RuntimeWarning: invalid value encountered in true_divide\n",
      "  x = np.divide(x1, x2, out)\n"
     ]
    },
    {
     "name": "stdout",
     "output_type": "stream",
     "text": [
      "/glade/work/jonahshaw/trend_uncertainty/nathan/OBS_LENS/HadCRUT5//HadCRUT.5.0.1.0.analysis.anomalies.118.5x5degSpatialTrends.196001-202012.nc\n"
     ]
    },
    {
     "name": "stderr",
     "output_type": "stream",
     "text": [
      "/glade/work/jonahshaw/miniconda3/envs/cheydask/lib/python3.7/site-packages/dask/array/numpy_compat.py:41: RuntimeWarning: invalid value encountered in true_divide\n",
      "  x = np.divide(x1, x2, out)\n"
     ]
    },
    {
     "name": "stdout",
     "output_type": "stream",
     "text": [
      "/glade/work/jonahshaw/trend_uncertainty/nathan/OBS_LENS/HadCRUT5//HadCRUT.5.0.1.0.analysis.anomalies.119.5x5degSpatialTrends.196001-202012.nc\n"
     ]
    },
    {
     "name": "stderr",
     "output_type": "stream",
     "text": [
      "/glade/work/jonahshaw/miniconda3/envs/cheydask/lib/python3.7/site-packages/dask/array/numpy_compat.py:41: RuntimeWarning: invalid value encountered in true_divide\n",
      "  x = np.divide(x1, x2, out)\n"
     ]
    },
    {
     "name": "stdout",
     "output_type": "stream",
     "text": [
      "/glade/work/jonahshaw/trend_uncertainty/nathan/OBS_LENS/HadCRUT5//HadCRUT.5.0.1.0.analysis.anomalies.12.5x5degSpatialTrends.196001-202012.nc\n"
     ]
    },
    {
     "name": "stderr",
     "output_type": "stream",
     "text": [
      "/glade/work/jonahshaw/miniconda3/envs/cheydask/lib/python3.7/site-packages/dask/array/numpy_compat.py:41: RuntimeWarning: invalid value encountered in true_divide\n",
      "  x = np.divide(x1, x2, out)\n"
     ]
    },
    {
     "name": "stdout",
     "output_type": "stream",
     "text": [
      "/glade/work/jonahshaw/trend_uncertainty/nathan/OBS_LENS/HadCRUT5//HadCRUT.5.0.1.0.analysis.anomalies.120.5x5degSpatialTrends.196001-202012.nc\n"
     ]
    },
    {
     "name": "stderr",
     "output_type": "stream",
     "text": [
      "/glade/work/jonahshaw/miniconda3/envs/cheydask/lib/python3.7/site-packages/dask/array/numpy_compat.py:41: RuntimeWarning: invalid value encountered in true_divide\n",
      "  x = np.divide(x1, x2, out)\n"
     ]
    },
    {
     "name": "stdout",
     "output_type": "stream",
     "text": [
      "/glade/work/jonahshaw/trend_uncertainty/nathan/OBS_LENS/HadCRUT5//HadCRUT.5.0.1.0.analysis.anomalies.121.5x5degSpatialTrends.196001-202012.nc\n"
     ]
    },
    {
     "name": "stderr",
     "output_type": "stream",
     "text": [
      "/glade/work/jonahshaw/miniconda3/envs/cheydask/lib/python3.7/site-packages/dask/array/numpy_compat.py:41: RuntimeWarning: invalid value encountered in true_divide\n",
      "  x = np.divide(x1, x2, out)\n"
     ]
    },
    {
     "name": "stdout",
     "output_type": "stream",
     "text": [
      "/glade/work/jonahshaw/trend_uncertainty/nathan/OBS_LENS/HadCRUT5//HadCRUT.5.0.1.0.analysis.anomalies.122.5x5degSpatialTrends.196001-202012.nc\n"
     ]
    },
    {
     "name": "stderr",
     "output_type": "stream",
     "text": [
      "/glade/work/jonahshaw/miniconda3/envs/cheydask/lib/python3.7/site-packages/dask/array/numpy_compat.py:41: RuntimeWarning: invalid value encountered in true_divide\n",
      "  x = np.divide(x1, x2, out)\n"
     ]
    },
    {
     "name": "stdout",
     "output_type": "stream",
     "text": [
      "/glade/work/jonahshaw/trend_uncertainty/nathan/OBS_LENS/HadCRUT5//HadCRUT.5.0.1.0.analysis.anomalies.123.5x5degSpatialTrends.196001-202012.nc\n"
     ]
    },
    {
     "name": "stderr",
     "output_type": "stream",
     "text": [
      "/glade/work/jonahshaw/miniconda3/envs/cheydask/lib/python3.7/site-packages/dask/array/numpy_compat.py:41: RuntimeWarning: invalid value encountered in true_divide\n",
      "  x = np.divide(x1, x2, out)\n"
     ]
    },
    {
     "name": "stdout",
     "output_type": "stream",
     "text": [
      "/glade/work/jonahshaw/trend_uncertainty/nathan/OBS_LENS/HadCRUT5//HadCRUT.5.0.1.0.analysis.anomalies.124.5x5degSpatialTrends.196001-202012.nc\n"
     ]
    },
    {
     "name": "stderr",
     "output_type": "stream",
     "text": [
      "/glade/work/jonahshaw/miniconda3/envs/cheydask/lib/python3.7/site-packages/dask/array/numpy_compat.py:41: RuntimeWarning: invalid value encountered in true_divide\n",
      "  x = np.divide(x1, x2, out)\n"
     ]
    },
    {
     "name": "stdout",
     "output_type": "stream",
     "text": [
      "/glade/work/jonahshaw/trend_uncertainty/nathan/OBS_LENS/HadCRUT5//HadCRUT.5.0.1.0.analysis.anomalies.125.5x5degSpatialTrends.196001-202012.nc\n"
     ]
    },
    {
     "name": "stderr",
     "output_type": "stream",
     "text": [
      "/glade/work/jonahshaw/miniconda3/envs/cheydask/lib/python3.7/site-packages/dask/array/numpy_compat.py:41: RuntimeWarning: invalid value encountered in true_divide\n",
      "  x = np.divide(x1, x2, out)\n"
     ]
    },
    {
     "name": "stdout",
     "output_type": "stream",
     "text": [
      "/glade/work/jonahshaw/trend_uncertainty/nathan/OBS_LENS/HadCRUT5//HadCRUT.5.0.1.0.analysis.anomalies.126.5x5degSpatialTrends.196001-202012.nc\n"
     ]
    },
    {
     "name": "stderr",
     "output_type": "stream",
     "text": [
      "/glade/work/jonahshaw/miniconda3/envs/cheydask/lib/python3.7/site-packages/dask/array/numpy_compat.py:41: RuntimeWarning: invalid value encountered in true_divide\n",
      "  x = np.divide(x1, x2, out)\n"
     ]
    },
    {
     "name": "stdout",
     "output_type": "stream",
     "text": [
      "/glade/work/jonahshaw/trend_uncertainty/nathan/OBS_LENS/HadCRUT5//HadCRUT.5.0.1.0.analysis.anomalies.127.5x5degSpatialTrends.196001-202012.nc\n"
     ]
    },
    {
     "name": "stderr",
     "output_type": "stream",
     "text": [
      "/glade/work/jonahshaw/miniconda3/envs/cheydask/lib/python3.7/site-packages/dask/array/numpy_compat.py:41: RuntimeWarning: invalid value encountered in true_divide\n",
      "  x = np.divide(x1, x2, out)\n"
     ]
    },
    {
     "name": "stdout",
     "output_type": "stream",
     "text": [
      "/glade/work/jonahshaw/trend_uncertainty/nathan/OBS_LENS/HadCRUT5//HadCRUT.5.0.1.0.analysis.anomalies.128.5x5degSpatialTrends.196001-202012.nc\n"
     ]
    },
    {
     "name": "stderr",
     "output_type": "stream",
     "text": [
      "/glade/work/jonahshaw/miniconda3/envs/cheydask/lib/python3.7/site-packages/dask/array/numpy_compat.py:41: RuntimeWarning: invalid value encountered in true_divide\n",
      "  x = np.divide(x1, x2, out)\n"
     ]
    },
    {
     "name": "stdout",
     "output_type": "stream",
     "text": [
      "/glade/work/jonahshaw/trend_uncertainty/nathan/OBS_LENS/HadCRUT5//HadCRUT.5.0.1.0.analysis.anomalies.129.5x5degSpatialTrends.196001-202012.nc\n"
     ]
    },
    {
     "name": "stderr",
     "output_type": "stream",
     "text": [
      "/glade/work/jonahshaw/miniconda3/envs/cheydask/lib/python3.7/site-packages/dask/array/numpy_compat.py:41: RuntimeWarning: invalid value encountered in true_divide\n",
      "  x = np.divide(x1, x2, out)\n"
     ]
    },
    {
     "name": "stdout",
     "output_type": "stream",
     "text": [
      "/glade/work/jonahshaw/trend_uncertainty/nathan/OBS_LENS/HadCRUT5//HadCRUT.5.0.1.0.analysis.anomalies.13.5x5degSpatialTrends.196001-202012.nc\n"
     ]
    },
    {
     "name": "stderr",
     "output_type": "stream",
     "text": [
      "/glade/work/jonahshaw/miniconda3/envs/cheydask/lib/python3.7/site-packages/dask/array/numpy_compat.py:41: RuntimeWarning: invalid value encountered in true_divide\n",
      "  x = np.divide(x1, x2, out)\n"
     ]
    },
    {
     "name": "stdout",
     "output_type": "stream",
     "text": [
      "/glade/work/jonahshaw/trend_uncertainty/nathan/OBS_LENS/HadCRUT5//HadCRUT.5.0.1.0.analysis.anomalies.130.5x5degSpatialTrends.196001-202012.nc\n"
     ]
    },
    {
     "name": "stderr",
     "output_type": "stream",
     "text": [
      "/glade/work/jonahshaw/miniconda3/envs/cheydask/lib/python3.7/site-packages/dask/array/numpy_compat.py:41: RuntimeWarning: invalid value encountered in true_divide\n",
      "  x = np.divide(x1, x2, out)\n"
     ]
    },
    {
     "name": "stdout",
     "output_type": "stream",
     "text": [
      "/glade/work/jonahshaw/trend_uncertainty/nathan/OBS_LENS/HadCRUT5//HadCRUT.5.0.1.0.analysis.anomalies.131.5x5degSpatialTrends.196001-202012.nc\n"
     ]
    },
    {
     "name": "stderr",
     "output_type": "stream",
     "text": [
      "/glade/work/jonahshaw/miniconda3/envs/cheydask/lib/python3.7/site-packages/dask/array/numpy_compat.py:41: RuntimeWarning: invalid value encountered in true_divide\n",
      "  x = np.divide(x1, x2, out)\n"
     ]
    },
    {
     "name": "stdout",
     "output_type": "stream",
     "text": [
      "/glade/work/jonahshaw/trend_uncertainty/nathan/OBS_LENS/HadCRUT5//HadCRUT.5.0.1.0.analysis.anomalies.132.5x5degSpatialTrends.196001-202012.nc\n"
     ]
    },
    {
     "name": "stderr",
     "output_type": "stream",
     "text": [
      "/glade/work/jonahshaw/miniconda3/envs/cheydask/lib/python3.7/site-packages/dask/array/numpy_compat.py:41: RuntimeWarning: invalid value encountered in true_divide\n",
      "  x = np.divide(x1, x2, out)\n"
     ]
    },
    {
     "name": "stdout",
     "output_type": "stream",
     "text": [
      "/glade/work/jonahshaw/trend_uncertainty/nathan/OBS_LENS/HadCRUT5//HadCRUT.5.0.1.0.analysis.anomalies.133.5x5degSpatialTrends.196001-202012.nc\n"
     ]
    },
    {
     "name": "stderr",
     "output_type": "stream",
     "text": [
      "/glade/work/jonahshaw/miniconda3/envs/cheydask/lib/python3.7/site-packages/dask/array/numpy_compat.py:41: RuntimeWarning: invalid value encountered in true_divide\n",
      "  x = np.divide(x1, x2, out)\n"
     ]
    },
    {
     "name": "stdout",
     "output_type": "stream",
     "text": [
      "/glade/work/jonahshaw/trend_uncertainty/nathan/OBS_LENS/HadCRUT5//HadCRUT.5.0.1.0.analysis.anomalies.134.5x5degSpatialTrends.196001-202012.nc\n"
     ]
    },
    {
     "name": "stderr",
     "output_type": "stream",
     "text": [
      "/glade/work/jonahshaw/miniconda3/envs/cheydask/lib/python3.7/site-packages/dask/array/numpy_compat.py:41: RuntimeWarning: invalid value encountered in true_divide\n",
      "  x = np.divide(x1, x2, out)\n"
     ]
    },
    {
     "name": "stdout",
     "output_type": "stream",
     "text": [
      "/glade/work/jonahshaw/trend_uncertainty/nathan/OBS_LENS/HadCRUT5//HadCRUT.5.0.1.0.analysis.anomalies.135.5x5degSpatialTrends.196001-202012.nc\n"
     ]
    },
    {
     "name": "stderr",
     "output_type": "stream",
     "text": [
      "/glade/work/jonahshaw/miniconda3/envs/cheydask/lib/python3.7/site-packages/dask/array/numpy_compat.py:41: RuntimeWarning: invalid value encountered in true_divide\n",
      "  x = np.divide(x1, x2, out)\n"
     ]
    },
    {
     "name": "stdout",
     "output_type": "stream",
     "text": [
      "/glade/work/jonahshaw/trend_uncertainty/nathan/OBS_LENS/HadCRUT5//HadCRUT.5.0.1.0.analysis.anomalies.136.5x5degSpatialTrends.196001-202012.nc\n"
     ]
    },
    {
     "name": "stderr",
     "output_type": "stream",
     "text": [
      "/glade/work/jonahshaw/miniconda3/envs/cheydask/lib/python3.7/site-packages/dask/array/numpy_compat.py:41: RuntimeWarning: invalid value encountered in true_divide\n",
      "  x = np.divide(x1, x2, out)\n"
     ]
    },
    {
     "name": "stdout",
     "output_type": "stream",
     "text": [
      "/glade/work/jonahshaw/trend_uncertainty/nathan/OBS_LENS/HadCRUT5//HadCRUT.5.0.1.0.analysis.anomalies.137.5x5degSpatialTrends.196001-202012.nc\n"
     ]
    },
    {
     "name": "stderr",
     "output_type": "stream",
     "text": [
      "/glade/work/jonahshaw/miniconda3/envs/cheydask/lib/python3.7/site-packages/dask/array/numpy_compat.py:41: RuntimeWarning: invalid value encountered in true_divide\n",
      "  x = np.divide(x1, x2, out)\n"
     ]
    },
    {
     "name": "stdout",
     "output_type": "stream",
     "text": [
      "/glade/work/jonahshaw/trend_uncertainty/nathan/OBS_LENS/HadCRUT5//HadCRUT.5.0.1.0.analysis.anomalies.138.5x5degSpatialTrends.196001-202012.nc\n"
     ]
    },
    {
     "name": "stderr",
     "output_type": "stream",
     "text": [
      "/glade/work/jonahshaw/miniconda3/envs/cheydask/lib/python3.7/site-packages/dask/array/numpy_compat.py:41: RuntimeWarning: invalid value encountered in true_divide\n",
      "  x = np.divide(x1, x2, out)\n"
     ]
    },
    {
     "name": "stdout",
     "output_type": "stream",
     "text": [
      "/glade/work/jonahshaw/trend_uncertainty/nathan/OBS_LENS/HadCRUT5//HadCRUT.5.0.1.0.analysis.anomalies.139.5x5degSpatialTrends.196001-202012.nc\n"
     ]
    },
    {
     "name": "stderr",
     "output_type": "stream",
     "text": [
      "/glade/work/jonahshaw/miniconda3/envs/cheydask/lib/python3.7/site-packages/dask/array/numpy_compat.py:41: RuntimeWarning: invalid value encountered in true_divide\n",
      "  x = np.divide(x1, x2, out)\n"
     ]
    },
    {
     "name": "stdout",
     "output_type": "stream",
     "text": [
      "/glade/work/jonahshaw/trend_uncertainty/nathan/OBS_LENS/HadCRUT5//HadCRUT.5.0.1.0.analysis.anomalies.14.5x5degSpatialTrends.196001-202012.nc\n"
     ]
    },
    {
     "name": "stderr",
     "output_type": "stream",
     "text": [
      "/glade/work/jonahshaw/miniconda3/envs/cheydask/lib/python3.7/site-packages/dask/array/numpy_compat.py:41: RuntimeWarning: invalid value encountered in true_divide\n",
      "  x = np.divide(x1, x2, out)\n"
     ]
    },
    {
     "name": "stdout",
     "output_type": "stream",
     "text": [
      "/glade/work/jonahshaw/trend_uncertainty/nathan/OBS_LENS/HadCRUT5//HadCRUT.5.0.1.0.analysis.anomalies.140.5x5degSpatialTrends.196001-202012.nc\n"
     ]
    },
    {
     "name": "stderr",
     "output_type": "stream",
     "text": [
      "/glade/work/jonahshaw/miniconda3/envs/cheydask/lib/python3.7/site-packages/dask/array/numpy_compat.py:41: RuntimeWarning: invalid value encountered in true_divide\n",
      "  x = np.divide(x1, x2, out)\n"
     ]
    },
    {
     "name": "stdout",
     "output_type": "stream",
     "text": [
      "/glade/work/jonahshaw/trend_uncertainty/nathan/OBS_LENS/HadCRUT5//HadCRUT.5.0.1.0.analysis.anomalies.141.5x5degSpatialTrends.196001-202012.nc\n"
     ]
    },
    {
     "name": "stderr",
     "output_type": "stream",
     "text": [
      "/glade/work/jonahshaw/miniconda3/envs/cheydask/lib/python3.7/site-packages/dask/array/numpy_compat.py:41: RuntimeWarning: invalid value encountered in true_divide\n",
      "  x = np.divide(x1, x2, out)\n"
     ]
    },
    {
     "name": "stdout",
     "output_type": "stream",
     "text": [
      "/glade/work/jonahshaw/trend_uncertainty/nathan/OBS_LENS/HadCRUT5//HadCRUT.5.0.1.0.analysis.anomalies.142.5x5degSpatialTrends.196001-202012.nc\n"
     ]
    },
    {
     "name": "stderr",
     "output_type": "stream",
     "text": [
      "/glade/work/jonahshaw/miniconda3/envs/cheydask/lib/python3.7/site-packages/dask/array/numpy_compat.py:41: RuntimeWarning: invalid value encountered in true_divide\n",
      "  x = np.divide(x1, x2, out)\n"
     ]
    },
    {
     "name": "stdout",
     "output_type": "stream",
     "text": [
      "/glade/work/jonahshaw/trend_uncertainty/nathan/OBS_LENS/HadCRUT5//HadCRUT.5.0.1.0.analysis.anomalies.143.5x5degSpatialTrends.196001-202012.nc\n"
     ]
    },
    {
     "name": "stderr",
     "output_type": "stream",
     "text": [
      "/glade/work/jonahshaw/miniconda3/envs/cheydask/lib/python3.7/site-packages/dask/array/numpy_compat.py:41: RuntimeWarning: invalid value encountered in true_divide\n",
      "  x = np.divide(x1, x2, out)\n"
     ]
    },
    {
     "name": "stdout",
     "output_type": "stream",
     "text": [
      "/glade/work/jonahshaw/trend_uncertainty/nathan/OBS_LENS/HadCRUT5//HadCRUT.5.0.1.0.analysis.anomalies.144.5x5degSpatialTrends.196001-202012.nc\n"
     ]
    },
    {
     "name": "stderr",
     "output_type": "stream",
     "text": [
      "/glade/work/jonahshaw/miniconda3/envs/cheydask/lib/python3.7/site-packages/dask/array/numpy_compat.py:41: RuntimeWarning: invalid value encountered in true_divide\n",
      "  x = np.divide(x1, x2, out)\n"
     ]
    },
    {
     "name": "stdout",
     "output_type": "stream",
     "text": [
      "/glade/work/jonahshaw/trend_uncertainty/nathan/OBS_LENS/HadCRUT5//HadCRUT.5.0.1.0.analysis.anomalies.145.5x5degSpatialTrends.196001-202012.nc\n"
     ]
    },
    {
     "name": "stderr",
     "output_type": "stream",
     "text": [
      "/glade/work/jonahshaw/miniconda3/envs/cheydask/lib/python3.7/site-packages/dask/array/numpy_compat.py:41: RuntimeWarning: invalid value encountered in true_divide\n",
      "  x = np.divide(x1, x2, out)\n"
     ]
    },
    {
     "name": "stdout",
     "output_type": "stream",
     "text": [
      "/glade/work/jonahshaw/trend_uncertainty/nathan/OBS_LENS/HadCRUT5//HadCRUT.5.0.1.0.analysis.anomalies.146.5x5degSpatialTrends.196001-202012.nc\n"
     ]
    },
    {
     "name": "stderr",
     "output_type": "stream",
     "text": [
      "/glade/work/jonahshaw/miniconda3/envs/cheydask/lib/python3.7/site-packages/dask/array/numpy_compat.py:41: RuntimeWarning: invalid value encountered in true_divide\n",
      "  x = np.divide(x1, x2, out)\n"
     ]
    },
    {
     "name": "stdout",
     "output_type": "stream",
     "text": [
      "/glade/work/jonahshaw/trend_uncertainty/nathan/OBS_LENS/HadCRUT5//HadCRUT.5.0.1.0.analysis.anomalies.147.5x5degSpatialTrends.196001-202012.nc\n"
     ]
    },
    {
     "name": "stderr",
     "output_type": "stream",
     "text": [
      "/glade/work/jonahshaw/miniconda3/envs/cheydask/lib/python3.7/site-packages/dask/array/numpy_compat.py:41: RuntimeWarning: invalid value encountered in true_divide\n",
      "  x = np.divide(x1, x2, out)\n"
     ]
    },
    {
     "name": "stdout",
     "output_type": "stream",
     "text": [
      "/glade/work/jonahshaw/trend_uncertainty/nathan/OBS_LENS/HadCRUT5//HadCRUT.5.0.1.0.analysis.anomalies.148.5x5degSpatialTrends.196001-202012.nc\n"
     ]
    },
    {
     "name": "stderr",
     "output_type": "stream",
     "text": [
      "/glade/work/jonahshaw/miniconda3/envs/cheydask/lib/python3.7/site-packages/dask/array/numpy_compat.py:41: RuntimeWarning: invalid value encountered in true_divide\n",
      "  x = np.divide(x1, x2, out)\n"
     ]
    },
    {
     "name": "stdout",
     "output_type": "stream",
     "text": [
      "/glade/work/jonahshaw/trend_uncertainty/nathan/OBS_LENS/HadCRUT5//HadCRUT.5.0.1.0.analysis.anomalies.149.5x5degSpatialTrends.196001-202012.nc\n"
     ]
    },
    {
     "name": "stderr",
     "output_type": "stream",
     "text": [
      "/glade/work/jonahshaw/miniconda3/envs/cheydask/lib/python3.7/site-packages/dask/array/numpy_compat.py:41: RuntimeWarning: invalid value encountered in true_divide\n",
      "  x = np.divide(x1, x2, out)\n"
     ]
    },
    {
     "name": "stdout",
     "output_type": "stream",
     "text": [
      "/glade/work/jonahshaw/trend_uncertainty/nathan/OBS_LENS/HadCRUT5//HadCRUT.5.0.1.0.analysis.anomalies.15.5x5degSpatialTrends.196001-202012.nc\n"
     ]
    },
    {
     "name": "stderr",
     "output_type": "stream",
     "text": [
      "/glade/work/jonahshaw/miniconda3/envs/cheydask/lib/python3.7/site-packages/dask/array/numpy_compat.py:41: RuntimeWarning: invalid value encountered in true_divide\n",
      "  x = np.divide(x1, x2, out)\n"
     ]
    },
    {
     "name": "stdout",
     "output_type": "stream",
     "text": [
      "/glade/work/jonahshaw/trend_uncertainty/nathan/OBS_LENS/HadCRUT5//HadCRUT.5.0.1.0.analysis.anomalies.150.5x5degSpatialTrends.196001-202012.nc\n"
     ]
    },
    {
     "name": "stderr",
     "output_type": "stream",
     "text": [
      "/glade/work/jonahshaw/miniconda3/envs/cheydask/lib/python3.7/site-packages/dask/array/numpy_compat.py:41: RuntimeWarning: invalid value encountered in true_divide\n",
      "  x = np.divide(x1, x2, out)\n"
     ]
    },
    {
     "name": "stdout",
     "output_type": "stream",
     "text": [
      "/glade/work/jonahshaw/trend_uncertainty/nathan/OBS_LENS/HadCRUT5//HadCRUT.5.0.1.0.analysis.anomalies.151.5x5degSpatialTrends.196001-202012.nc\n"
     ]
    },
    {
     "name": "stderr",
     "output_type": "stream",
     "text": [
      "/glade/work/jonahshaw/miniconda3/envs/cheydask/lib/python3.7/site-packages/dask/array/numpy_compat.py:41: RuntimeWarning: invalid value encountered in true_divide\n",
      "  x = np.divide(x1, x2, out)\n"
     ]
    },
    {
     "name": "stdout",
     "output_type": "stream",
     "text": [
      "/glade/work/jonahshaw/trend_uncertainty/nathan/OBS_LENS/HadCRUT5//HadCRUT.5.0.1.0.analysis.anomalies.152.5x5degSpatialTrends.196001-202012.nc\n"
     ]
    },
    {
     "name": "stderr",
     "output_type": "stream",
     "text": [
      "/glade/work/jonahshaw/miniconda3/envs/cheydask/lib/python3.7/site-packages/dask/array/numpy_compat.py:41: RuntimeWarning: invalid value encountered in true_divide\n",
      "  x = np.divide(x1, x2, out)\n"
     ]
    },
    {
     "name": "stdout",
     "output_type": "stream",
     "text": [
      "/glade/work/jonahshaw/trend_uncertainty/nathan/OBS_LENS/HadCRUT5//HadCRUT.5.0.1.0.analysis.anomalies.153.5x5degSpatialTrends.196001-202012.nc\n"
     ]
    },
    {
     "name": "stderr",
     "output_type": "stream",
     "text": [
      "/glade/work/jonahshaw/miniconda3/envs/cheydask/lib/python3.7/site-packages/dask/array/numpy_compat.py:41: RuntimeWarning: invalid value encountered in true_divide\n",
      "  x = np.divide(x1, x2, out)\n"
     ]
    },
    {
     "name": "stdout",
     "output_type": "stream",
     "text": [
      "/glade/work/jonahshaw/trend_uncertainty/nathan/OBS_LENS/HadCRUT5//HadCRUT.5.0.1.0.analysis.anomalies.154.5x5degSpatialTrends.196001-202012.nc\n"
     ]
    },
    {
     "name": "stderr",
     "output_type": "stream",
     "text": [
      "/glade/work/jonahshaw/miniconda3/envs/cheydask/lib/python3.7/site-packages/dask/array/numpy_compat.py:41: RuntimeWarning: invalid value encountered in true_divide\n",
      "  x = np.divide(x1, x2, out)\n"
     ]
    },
    {
     "name": "stdout",
     "output_type": "stream",
     "text": [
      "/glade/work/jonahshaw/trend_uncertainty/nathan/OBS_LENS/HadCRUT5//HadCRUT.5.0.1.0.analysis.anomalies.155.5x5degSpatialTrends.196001-202012.nc\n"
     ]
    },
    {
     "name": "stderr",
     "output_type": "stream",
     "text": [
      "/glade/work/jonahshaw/miniconda3/envs/cheydask/lib/python3.7/site-packages/dask/array/numpy_compat.py:41: RuntimeWarning: invalid value encountered in true_divide\n",
      "  x = np.divide(x1, x2, out)\n"
     ]
    },
    {
     "name": "stdout",
     "output_type": "stream",
     "text": [
      "/glade/work/jonahshaw/trend_uncertainty/nathan/OBS_LENS/HadCRUT5//HadCRUT.5.0.1.0.analysis.anomalies.156.5x5degSpatialTrends.196001-202012.nc\n"
     ]
    },
    {
     "name": "stderr",
     "output_type": "stream",
     "text": [
      "/glade/work/jonahshaw/miniconda3/envs/cheydask/lib/python3.7/site-packages/dask/array/numpy_compat.py:41: RuntimeWarning: invalid value encountered in true_divide\n",
      "  x = np.divide(x1, x2, out)\n"
     ]
    },
    {
     "name": "stdout",
     "output_type": "stream",
     "text": [
      "/glade/work/jonahshaw/trend_uncertainty/nathan/OBS_LENS/HadCRUT5//HadCRUT.5.0.1.0.analysis.anomalies.157.5x5degSpatialTrends.196001-202012.nc\n"
     ]
    },
    {
     "name": "stderr",
     "output_type": "stream",
     "text": [
      "/glade/work/jonahshaw/miniconda3/envs/cheydask/lib/python3.7/site-packages/dask/array/numpy_compat.py:41: RuntimeWarning: invalid value encountered in true_divide\n",
      "  x = np.divide(x1, x2, out)\n"
     ]
    },
    {
     "name": "stdout",
     "output_type": "stream",
     "text": [
      "/glade/work/jonahshaw/trend_uncertainty/nathan/OBS_LENS/HadCRUT5//HadCRUT.5.0.1.0.analysis.anomalies.158.5x5degSpatialTrends.196001-202012.nc\n"
     ]
    },
    {
     "name": "stderr",
     "output_type": "stream",
     "text": [
      "/glade/work/jonahshaw/miniconda3/envs/cheydask/lib/python3.7/site-packages/dask/array/numpy_compat.py:41: RuntimeWarning: invalid value encountered in true_divide\n",
      "  x = np.divide(x1, x2, out)\n"
     ]
    },
    {
     "name": "stdout",
     "output_type": "stream",
     "text": [
      "/glade/work/jonahshaw/trend_uncertainty/nathan/OBS_LENS/HadCRUT5//HadCRUT.5.0.1.0.analysis.anomalies.159.5x5degSpatialTrends.196001-202012.nc\n"
     ]
    },
    {
     "name": "stderr",
     "output_type": "stream",
     "text": [
      "/glade/work/jonahshaw/miniconda3/envs/cheydask/lib/python3.7/site-packages/dask/array/numpy_compat.py:41: RuntimeWarning: invalid value encountered in true_divide\n",
      "  x = np.divide(x1, x2, out)\n"
     ]
    },
    {
     "name": "stdout",
     "output_type": "stream",
     "text": [
      "/glade/work/jonahshaw/trend_uncertainty/nathan/OBS_LENS/HadCRUT5//HadCRUT.5.0.1.0.analysis.anomalies.16.5x5degSpatialTrends.196001-202012.nc\n"
     ]
    },
    {
     "name": "stderr",
     "output_type": "stream",
     "text": [
      "/glade/work/jonahshaw/miniconda3/envs/cheydask/lib/python3.7/site-packages/dask/array/numpy_compat.py:41: RuntimeWarning: invalid value encountered in true_divide\n",
      "  x = np.divide(x1, x2, out)\n"
     ]
    },
    {
     "name": "stdout",
     "output_type": "stream",
     "text": [
      "/glade/work/jonahshaw/trend_uncertainty/nathan/OBS_LENS/HadCRUT5//HadCRUT.5.0.1.0.analysis.anomalies.160.5x5degSpatialTrends.196001-202012.nc\n"
     ]
    },
    {
     "name": "stderr",
     "output_type": "stream",
     "text": [
      "/glade/work/jonahshaw/miniconda3/envs/cheydask/lib/python3.7/site-packages/dask/array/numpy_compat.py:41: RuntimeWarning: invalid value encountered in true_divide\n",
      "  x = np.divide(x1, x2, out)\n"
     ]
    },
    {
     "name": "stdout",
     "output_type": "stream",
     "text": [
      "/glade/work/jonahshaw/trend_uncertainty/nathan/OBS_LENS/HadCRUT5//HadCRUT.5.0.1.0.analysis.anomalies.161.5x5degSpatialTrends.196001-202012.nc\n"
     ]
    },
    {
     "name": "stderr",
     "output_type": "stream",
     "text": [
      "/glade/work/jonahshaw/miniconda3/envs/cheydask/lib/python3.7/site-packages/dask/array/numpy_compat.py:41: RuntimeWarning: invalid value encountered in true_divide\n",
      "  x = np.divide(x1, x2, out)\n"
     ]
    },
    {
     "name": "stdout",
     "output_type": "stream",
     "text": [
      "/glade/work/jonahshaw/trend_uncertainty/nathan/OBS_LENS/HadCRUT5//HadCRUT.5.0.1.0.analysis.anomalies.162.5x5degSpatialTrends.196001-202012.nc\n"
     ]
    },
    {
     "name": "stderr",
     "output_type": "stream",
     "text": [
      "/glade/work/jonahshaw/miniconda3/envs/cheydask/lib/python3.7/site-packages/dask/array/numpy_compat.py:41: RuntimeWarning: invalid value encountered in true_divide\n",
      "  x = np.divide(x1, x2, out)\n"
     ]
    },
    {
     "name": "stdout",
     "output_type": "stream",
     "text": [
      "/glade/work/jonahshaw/trend_uncertainty/nathan/OBS_LENS/HadCRUT5//HadCRUT.5.0.1.0.analysis.anomalies.163.5x5degSpatialTrends.196001-202012.nc\n"
     ]
    },
    {
     "name": "stderr",
     "output_type": "stream",
     "text": [
      "/glade/work/jonahshaw/miniconda3/envs/cheydask/lib/python3.7/site-packages/dask/array/numpy_compat.py:41: RuntimeWarning: invalid value encountered in true_divide\n",
      "  x = np.divide(x1, x2, out)\n"
     ]
    },
    {
     "name": "stdout",
     "output_type": "stream",
     "text": [
      "/glade/work/jonahshaw/trend_uncertainty/nathan/OBS_LENS/HadCRUT5//HadCRUT.5.0.1.0.analysis.anomalies.164.5x5degSpatialTrends.196001-202012.nc\n"
     ]
    },
    {
     "name": "stderr",
     "output_type": "stream",
     "text": [
      "/glade/work/jonahshaw/miniconda3/envs/cheydask/lib/python3.7/site-packages/dask/array/numpy_compat.py:41: RuntimeWarning: invalid value encountered in true_divide\n",
      "  x = np.divide(x1, x2, out)\n"
     ]
    },
    {
     "name": "stdout",
     "output_type": "stream",
     "text": [
      "/glade/work/jonahshaw/trend_uncertainty/nathan/OBS_LENS/HadCRUT5//HadCRUT.5.0.1.0.analysis.anomalies.165.5x5degSpatialTrends.196001-202012.nc\n"
     ]
    },
    {
     "name": "stderr",
     "output_type": "stream",
     "text": [
      "/glade/work/jonahshaw/miniconda3/envs/cheydask/lib/python3.7/site-packages/dask/array/numpy_compat.py:41: RuntimeWarning: invalid value encountered in true_divide\n",
      "  x = np.divide(x1, x2, out)\n"
     ]
    },
    {
     "name": "stdout",
     "output_type": "stream",
     "text": [
      "/glade/work/jonahshaw/trend_uncertainty/nathan/OBS_LENS/HadCRUT5//HadCRUT.5.0.1.0.analysis.anomalies.166.5x5degSpatialTrends.196001-202012.nc\n"
     ]
    },
    {
     "name": "stderr",
     "output_type": "stream",
     "text": [
      "/glade/work/jonahshaw/miniconda3/envs/cheydask/lib/python3.7/site-packages/dask/array/numpy_compat.py:41: RuntimeWarning: invalid value encountered in true_divide\n",
      "  x = np.divide(x1, x2, out)\n"
     ]
    },
    {
     "name": "stdout",
     "output_type": "stream",
     "text": [
      "/glade/work/jonahshaw/trend_uncertainty/nathan/OBS_LENS/HadCRUT5//HadCRUT.5.0.1.0.analysis.anomalies.167.5x5degSpatialTrends.196001-202012.nc\n"
     ]
    },
    {
     "name": "stderr",
     "output_type": "stream",
     "text": [
      "/glade/work/jonahshaw/miniconda3/envs/cheydask/lib/python3.7/site-packages/dask/array/numpy_compat.py:41: RuntimeWarning: invalid value encountered in true_divide\n",
      "  x = np.divide(x1, x2, out)\n"
     ]
    },
    {
     "name": "stdout",
     "output_type": "stream",
     "text": [
      "/glade/work/jonahshaw/trend_uncertainty/nathan/OBS_LENS/HadCRUT5//HadCRUT.5.0.1.0.analysis.anomalies.168.5x5degSpatialTrends.196001-202012.nc\n"
     ]
    },
    {
     "name": "stderr",
     "output_type": "stream",
     "text": [
      "/glade/work/jonahshaw/miniconda3/envs/cheydask/lib/python3.7/site-packages/dask/array/numpy_compat.py:41: RuntimeWarning: invalid value encountered in true_divide\n",
      "  x = np.divide(x1, x2, out)\n"
     ]
    },
    {
     "name": "stdout",
     "output_type": "stream",
     "text": [
      "/glade/work/jonahshaw/trend_uncertainty/nathan/OBS_LENS/HadCRUT5//HadCRUT.5.0.1.0.analysis.anomalies.169.5x5degSpatialTrends.196001-202012.nc\n"
     ]
    },
    {
     "name": "stderr",
     "output_type": "stream",
     "text": [
      "/glade/work/jonahshaw/miniconda3/envs/cheydask/lib/python3.7/site-packages/dask/array/numpy_compat.py:41: RuntimeWarning: invalid value encountered in true_divide\n",
      "  x = np.divide(x1, x2, out)\n"
     ]
    },
    {
     "name": "stdout",
     "output_type": "stream",
     "text": [
      "/glade/work/jonahshaw/trend_uncertainty/nathan/OBS_LENS/HadCRUT5//HadCRUT.5.0.1.0.analysis.anomalies.17.5x5degSpatialTrends.196001-202012.nc\n"
     ]
    },
    {
     "name": "stderr",
     "output_type": "stream",
     "text": [
      "/glade/work/jonahshaw/miniconda3/envs/cheydask/lib/python3.7/site-packages/dask/array/numpy_compat.py:41: RuntimeWarning: invalid value encountered in true_divide\n",
      "  x = np.divide(x1, x2, out)\n"
     ]
    },
    {
     "name": "stdout",
     "output_type": "stream",
     "text": [
      "/glade/work/jonahshaw/trend_uncertainty/nathan/OBS_LENS/HadCRUT5//HadCRUT.5.0.1.0.analysis.anomalies.170.5x5degSpatialTrends.196001-202012.nc\n"
     ]
    },
    {
     "name": "stderr",
     "output_type": "stream",
     "text": [
      "/glade/work/jonahshaw/miniconda3/envs/cheydask/lib/python3.7/site-packages/dask/array/numpy_compat.py:41: RuntimeWarning: invalid value encountered in true_divide\n",
      "  x = np.divide(x1, x2, out)\n"
     ]
    },
    {
     "name": "stdout",
     "output_type": "stream",
     "text": [
      "/glade/work/jonahshaw/trend_uncertainty/nathan/OBS_LENS/HadCRUT5//HadCRUT.5.0.1.0.analysis.anomalies.171.5x5degSpatialTrends.196001-202012.nc\n"
     ]
    },
    {
     "name": "stderr",
     "output_type": "stream",
     "text": [
      "/glade/work/jonahshaw/miniconda3/envs/cheydask/lib/python3.7/site-packages/dask/array/numpy_compat.py:41: RuntimeWarning: invalid value encountered in true_divide\n",
      "  x = np.divide(x1, x2, out)\n"
     ]
    },
    {
     "name": "stdout",
     "output_type": "stream",
     "text": [
      "/glade/work/jonahshaw/trend_uncertainty/nathan/OBS_LENS/HadCRUT5//HadCRUT.5.0.1.0.analysis.anomalies.172.5x5degSpatialTrends.196001-202012.nc\n"
     ]
    },
    {
     "name": "stderr",
     "output_type": "stream",
     "text": [
      "/glade/work/jonahshaw/miniconda3/envs/cheydask/lib/python3.7/site-packages/dask/array/numpy_compat.py:41: RuntimeWarning: invalid value encountered in true_divide\n",
      "  x = np.divide(x1, x2, out)\n"
     ]
    },
    {
     "name": "stdout",
     "output_type": "stream",
     "text": [
      "/glade/work/jonahshaw/trend_uncertainty/nathan/OBS_LENS/HadCRUT5//HadCRUT.5.0.1.0.analysis.anomalies.173.5x5degSpatialTrends.196001-202012.nc\n"
     ]
    },
    {
     "name": "stderr",
     "output_type": "stream",
     "text": [
      "/glade/work/jonahshaw/miniconda3/envs/cheydask/lib/python3.7/site-packages/dask/array/numpy_compat.py:41: RuntimeWarning: invalid value encountered in true_divide\n",
      "  x = np.divide(x1, x2, out)\n"
     ]
    },
    {
     "name": "stdout",
     "output_type": "stream",
     "text": [
      "/glade/work/jonahshaw/trend_uncertainty/nathan/OBS_LENS/HadCRUT5//HadCRUT.5.0.1.0.analysis.anomalies.174.5x5degSpatialTrends.196001-202012.nc\n"
     ]
    },
    {
     "name": "stderr",
     "output_type": "stream",
     "text": [
      "/glade/work/jonahshaw/miniconda3/envs/cheydask/lib/python3.7/site-packages/dask/array/numpy_compat.py:41: RuntimeWarning: invalid value encountered in true_divide\n",
      "  x = np.divide(x1, x2, out)\n"
     ]
    },
    {
     "name": "stdout",
     "output_type": "stream",
     "text": [
      "/glade/work/jonahshaw/trend_uncertainty/nathan/OBS_LENS/HadCRUT5//HadCRUT.5.0.1.0.analysis.anomalies.175.5x5degSpatialTrends.196001-202012.nc\n"
     ]
    },
    {
     "name": "stderr",
     "output_type": "stream",
     "text": [
      "/glade/work/jonahshaw/miniconda3/envs/cheydask/lib/python3.7/site-packages/dask/array/numpy_compat.py:41: RuntimeWarning: invalid value encountered in true_divide\n",
      "  x = np.divide(x1, x2, out)\n"
     ]
    },
    {
     "name": "stdout",
     "output_type": "stream",
     "text": [
      "/glade/work/jonahshaw/trend_uncertainty/nathan/OBS_LENS/HadCRUT5//HadCRUT.5.0.1.0.analysis.anomalies.176.5x5degSpatialTrends.196001-202012.nc\n"
     ]
    },
    {
     "name": "stderr",
     "output_type": "stream",
     "text": [
      "/glade/work/jonahshaw/miniconda3/envs/cheydask/lib/python3.7/site-packages/dask/array/numpy_compat.py:41: RuntimeWarning: invalid value encountered in true_divide\n",
      "  x = np.divide(x1, x2, out)\n"
     ]
    },
    {
     "name": "stdout",
     "output_type": "stream",
     "text": [
      "/glade/work/jonahshaw/trend_uncertainty/nathan/OBS_LENS/HadCRUT5//HadCRUT.5.0.1.0.analysis.anomalies.177.5x5degSpatialTrends.196001-202012.nc\n"
     ]
    },
    {
     "name": "stderr",
     "output_type": "stream",
     "text": [
      "/glade/work/jonahshaw/miniconda3/envs/cheydask/lib/python3.7/site-packages/dask/array/numpy_compat.py:41: RuntimeWarning: invalid value encountered in true_divide\n",
      "  x = np.divide(x1, x2, out)\n"
     ]
    },
    {
     "name": "stdout",
     "output_type": "stream",
     "text": [
      "/glade/work/jonahshaw/trend_uncertainty/nathan/OBS_LENS/HadCRUT5//HadCRUT.5.0.1.0.analysis.anomalies.178.5x5degSpatialTrends.196001-202012.nc\n"
     ]
    },
    {
     "name": "stderr",
     "output_type": "stream",
     "text": [
      "/glade/work/jonahshaw/miniconda3/envs/cheydask/lib/python3.7/site-packages/dask/array/numpy_compat.py:41: RuntimeWarning: invalid value encountered in true_divide\n",
      "  x = np.divide(x1, x2, out)\n"
     ]
    },
    {
     "name": "stdout",
     "output_type": "stream",
     "text": [
      "/glade/work/jonahshaw/trend_uncertainty/nathan/OBS_LENS/HadCRUT5//HadCRUT.5.0.1.0.analysis.anomalies.179.5x5degSpatialTrends.196001-202012.nc\n"
     ]
    },
    {
     "name": "stderr",
     "output_type": "stream",
     "text": [
      "/glade/work/jonahshaw/miniconda3/envs/cheydask/lib/python3.7/site-packages/dask/array/numpy_compat.py:41: RuntimeWarning: invalid value encountered in true_divide\n",
      "  x = np.divide(x1, x2, out)\n"
     ]
    },
    {
     "name": "stdout",
     "output_type": "stream",
     "text": [
      "/glade/work/jonahshaw/trend_uncertainty/nathan/OBS_LENS/HadCRUT5//HadCRUT.5.0.1.0.analysis.anomalies.18.5x5degSpatialTrends.196001-202012.nc\n"
     ]
    },
    {
     "name": "stderr",
     "output_type": "stream",
     "text": [
      "/glade/work/jonahshaw/miniconda3/envs/cheydask/lib/python3.7/site-packages/dask/array/numpy_compat.py:41: RuntimeWarning: invalid value encountered in true_divide\n",
      "  x = np.divide(x1, x2, out)\n"
     ]
    },
    {
     "name": "stdout",
     "output_type": "stream",
     "text": [
      "/glade/work/jonahshaw/trend_uncertainty/nathan/OBS_LENS/HadCRUT5//HadCRUT.5.0.1.0.analysis.anomalies.180.5x5degSpatialTrends.196001-202012.nc\n"
     ]
    },
    {
     "name": "stderr",
     "output_type": "stream",
     "text": [
      "/glade/work/jonahshaw/miniconda3/envs/cheydask/lib/python3.7/site-packages/dask/array/numpy_compat.py:41: RuntimeWarning: invalid value encountered in true_divide\n",
      "  x = np.divide(x1, x2, out)\n"
     ]
    },
    {
     "name": "stdout",
     "output_type": "stream",
     "text": [
      "/glade/work/jonahshaw/trend_uncertainty/nathan/OBS_LENS/HadCRUT5//HadCRUT.5.0.1.0.analysis.anomalies.181.5x5degSpatialTrends.196001-202012.nc\n"
     ]
    },
    {
     "name": "stderr",
     "output_type": "stream",
     "text": [
      "/glade/work/jonahshaw/miniconda3/envs/cheydask/lib/python3.7/site-packages/dask/array/numpy_compat.py:41: RuntimeWarning: invalid value encountered in true_divide\n",
      "  x = np.divide(x1, x2, out)\n"
     ]
    },
    {
     "name": "stdout",
     "output_type": "stream",
     "text": [
      "/glade/work/jonahshaw/trend_uncertainty/nathan/OBS_LENS/HadCRUT5//HadCRUT.5.0.1.0.analysis.anomalies.182.5x5degSpatialTrends.196001-202012.nc\n"
     ]
    },
    {
     "name": "stderr",
     "output_type": "stream",
     "text": [
      "/glade/work/jonahshaw/miniconda3/envs/cheydask/lib/python3.7/site-packages/dask/array/numpy_compat.py:41: RuntimeWarning: invalid value encountered in true_divide\n",
      "  x = np.divide(x1, x2, out)\n"
     ]
    },
    {
     "name": "stdout",
     "output_type": "stream",
     "text": [
      "/glade/work/jonahshaw/trend_uncertainty/nathan/OBS_LENS/HadCRUT5//HadCRUT.5.0.1.0.analysis.anomalies.183.5x5degSpatialTrends.196001-202012.nc\n"
     ]
    },
    {
     "name": "stderr",
     "output_type": "stream",
     "text": [
      "/glade/work/jonahshaw/miniconda3/envs/cheydask/lib/python3.7/site-packages/dask/array/numpy_compat.py:41: RuntimeWarning: invalid value encountered in true_divide\n",
      "  x = np.divide(x1, x2, out)\n"
     ]
    },
    {
     "name": "stdout",
     "output_type": "stream",
     "text": [
      "/glade/work/jonahshaw/trend_uncertainty/nathan/OBS_LENS/HadCRUT5//HadCRUT.5.0.1.0.analysis.anomalies.184.5x5degSpatialTrends.196001-202012.nc\n"
     ]
    },
    {
     "name": "stderr",
     "output_type": "stream",
     "text": [
      "/glade/work/jonahshaw/miniconda3/envs/cheydask/lib/python3.7/site-packages/dask/array/numpy_compat.py:41: RuntimeWarning: invalid value encountered in true_divide\n",
      "  x = np.divide(x1, x2, out)\n"
     ]
    },
    {
     "name": "stdout",
     "output_type": "stream",
     "text": [
      "/glade/work/jonahshaw/trend_uncertainty/nathan/OBS_LENS/HadCRUT5//HadCRUT.5.0.1.0.analysis.anomalies.185.5x5degSpatialTrends.196001-202012.nc\n"
     ]
    },
    {
     "name": "stderr",
     "output_type": "stream",
     "text": [
      "/glade/work/jonahshaw/miniconda3/envs/cheydask/lib/python3.7/site-packages/dask/array/numpy_compat.py:41: RuntimeWarning: invalid value encountered in true_divide\n",
      "  x = np.divide(x1, x2, out)\n"
     ]
    },
    {
     "name": "stdout",
     "output_type": "stream",
     "text": [
      "/glade/work/jonahshaw/trend_uncertainty/nathan/OBS_LENS/HadCRUT5//HadCRUT.5.0.1.0.analysis.anomalies.186.5x5degSpatialTrends.196001-202012.nc\n"
     ]
    },
    {
     "name": "stderr",
     "output_type": "stream",
     "text": [
      "/glade/work/jonahshaw/miniconda3/envs/cheydask/lib/python3.7/site-packages/dask/array/numpy_compat.py:41: RuntimeWarning: invalid value encountered in true_divide\n",
      "  x = np.divide(x1, x2, out)\n"
     ]
    },
    {
     "name": "stdout",
     "output_type": "stream",
     "text": [
      "/glade/work/jonahshaw/trend_uncertainty/nathan/OBS_LENS/HadCRUT5//HadCRUT.5.0.1.0.analysis.anomalies.187.5x5degSpatialTrends.196001-202012.nc\n"
     ]
    },
    {
     "name": "stderr",
     "output_type": "stream",
     "text": [
      "/glade/work/jonahshaw/miniconda3/envs/cheydask/lib/python3.7/site-packages/dask/array/numpy_compat.py:41: RuntimeWarning: invalid value encountered in true_divide\n",
      "  x = np.divide(x1, x2, out)\n"
     ]
    },
    {
     "name": "stdout",
     "output_type": "stream",
     "text": [
      "/glade/work/jonahshaw/trend_uncertainty/nathan/OBS_LENS/HadCRUT5//HadCRUT.5.0.1.0.analysis.anomalies.188.5x5degSpatialTrends.196001-202012.nc\n"
     ]
    },
    {
     "name": "stderr",
     "output_type": "stream",
     "text": [
      "/glade/work/jonahshaw/miniconda3/envs/cheydask/lib/python3.7/site-packages/dask/array/numpy_compat.py:41: RuntimeWarning: invalid value encountered in true_divide\n",
      "  x = np.divide(x1, x2, out)\n"
     ]
    },
    {
     "name": "stdout",
     "output_type": "stream",
     "text": [
      "/glade/work/jonahshaw/trend_uncertainty/nathan/OBS_LENS/HadCRUT5//HadCRUT.5.0.1.0.analysis.anomalies.189.5x5degSpatialTrends.196001-202012.nc\n"
     ]
    },
    {
     "name": "stderr",
     "output_type": "stream",
     "text": [
      "/glade/work/jonahshaw/miniconda3/envs/cheydask/lib/python3.7/site-packages/dask/array/numpy_compat.py:41: RuntimeWarning: invalid value encountered in true_divide\n",
      "  x = np.divide(x1, x2, out)\n"
     ]
    },
    {
     "name": "stdout",
     "output_type": "stream",
     "text": [
      "/glade/work/jonahshaw/trend_uncertainty/nathan/OBS_LENS/HadCRUT5//HadCRUT.5.0.1.0.analysis.anomalies.19.5x5degSpatialTrends.196001-202012.nc\n"
     ]
    },
    {
     "name": "stderr",
     "output_type": "stream",
     "text": [
      "/glade/work/jonahshaw/miniconda3/envs/cheydask/lib/python3.7/site-packages/dask/array/numpy_compat.py:41: RuntimeWarning: invalid value encountered in true_divide\n",
      "  x = np.divide(x1, x2, out)\n"
     ]
    },
    {
     "name": "stdout",
     "output_type": "stream",
     "text": [
      "/glade/work/jonahshaw/trend_uncertainty/nathan/OBS_LENS/HadCRUT5//HadCRUT.5.0.1.0.analysis.anomalies.190.5x5degSpatialTrends.196001-202012.nc\n"
     ]
    },
    {
     "name": "stderr",
     "output_type": "stream",
     "text": [
      "/glade/work/jonahshaw/miniconda3/envs/cheydask/lib/python3.7/site-packages/dask/array/numpy_compat.py:41: RuntimeWarning: invalid value encountered in true_divide\n",
      "  x = np.divide(x1, x2, out)\n"
     ]
    },
    {
     "name": "stdout",
     "output_type": "stream",
     "text": [
      "/glade/work/jonahshaw/trend_uncertainty/nathan/OBS_LENS/HadCRUT5//HadCRUT.5.0.1.0.analysis.anomalies.191.5x5degSpatialTrends.196001-202012.nc\n"
     ]
    },
    {
     "name": "stderr",
     "output_type": "stream",
     "text": [
      "/glade/work/jonahshaw/miniconda3/envs/cheydask/lib/python3.7/site-packages/dask/array/numpy_compat.py:41: RuntimeWarning: invalid value encountered in true_divide\n",
      "  x = np.divide(x1, x2, out)\n"
     ]
    },
    {
     "name": "stdout",
     "output_type": "stream",
     "text": [
      "/glade/work/jonahshaw/trend_uncertainty/nathan/OBS_LENS/HadCRUT5//HadCRUT.5.0.1.0.analysis.anomalies.192.5x5degSpatialTrends.196001-202012.nc\n"
     ]
    },
    {
     "name": "stderr",
     "output_type": "stream",
     "text": [
      "/glade/work/jonahshaw/miniconda3/envs/cheydask/lib/python3.7/site-packages/dask/array/numpy_compat.py:41: RuntimeWarning: invalid value encountered in true_divide\n",
      "  x = np.divide(x1, x2, out)\n"
     ]
    },
    {
     "name": "stdout",
     "output_type": "stream",
     "text": [
      "/glade/work/jonahshaw/trend_uncertainty/nathan/OBS_LENS/HadCRUT5//HadCRUT.5.0.1.0.analysis.anomalies.193.5x5degSpatialTrends.196001-202012.nc\n"
     ]
    },
    {
     "name": "stderr",
     "output_type": "stream",
     "text": [
      "/glade/work/jonahshaw/miniconda3/envs/cheydask/lib/python3.7/site-packages/dask/array/numpy_compat.py:41: RuntimeWarning: invalid value encountered in true_divide\n",
      "  x = np.divide(x1, x2, out)\n"
     ]
    },
    {
     "name": "stdout",
     "output_type": "stream",
     "text": [
      "/glade/work/jonahshaw/trend_uncertainty/nathan/OBS_LENS/HadCRUT5//HadCRUT.5.0.1.0.analysis.anomalies.194.5x5degSpatialTrends.196001-202012.nc\n"
     ]
    },
    {
     "name": "stderr",
     "output_type": "stream",
     "text": [
      "/glade/work/jonahshaw/miniconda3/envs/cheydask/lib/python3.7/site-packages/dask/array/numpy_compat.py:41: RuntimeWarning: invalid value encountered in true_divide\n",
      "  x = np.divide(x1, x2, out)\n"
     ]
    },
    {
     "name": "stdout",
     "output_type": "stream",
     "text": [
      "/glade/work/jonahshaw/trend_uncertainty/nathan/OBS_LENS/HadCRUT5//HadCRUT.5.0.1.0.analysis.anomalies.195.5x5degSpatialTrends.196001-202012.nc\n"
     ]
    },
    {
     "name": "stderr",
     "output_type": "stream",
     "text": [
      "/glade/work/jonahshaw/miniconda3/envs/cheydask/lib/python3.7/site-packages/dask/array/numpy_compat.py:41: RuntimeWarning: invalid value encountered in true_divide\n",
      "  x = np.divide(x1, x2, out)\n"
     ]
    },
    {
     "name": "stdout",
     "output_type": "stream",
     "text": [
      "/glade/work/jonahshaw/trend_uncertainty/nathan/OBS_LENS/HadCRUT5//HadCRUT.5.0.1.0.analysis.anomalies.196.5x5degSpatialTrends.196001-202012.nc\n"
     ]
    },
    {
     "name": "stderr",
     "output_type": "stream",
     "text": [
      "/glade/work/jonahshaw/miniconda3/envs/cheydask/lib/python3.7/site-packages/dask/array/numpy_compat.py:41: RuntimeWarning: invalid value encountered in true_divide\n",
      "  x = np.divide(x1, x2, out)\n"
     ]
    },
    {
     "name": "stdout",
     "output_type": "stream",
     "text": [
      "/glade/work/jonahshaw/trend_uncertainty/nathan/OBS_LENS/HadCRUT5//HadCRUT.5.0.1.0.analysis.anomalies.197.5x5degSpatialTrends.196001-202012.nc\n"
     ]
    },
    {
     "name": "stderr",
     "output_type": "stream",
     "text": [
      "/glade/work/jonahshaw/miniconda3/envs/cheydask/lib/python3.7/site-packages/dask/array/numpy_compat.py:41: RuntimeWarning: invalid value encountered in true_divide\n",
      "  x = np.divide(x1, x2, out)\n"
     ]
    },
    {
     "name": "stdout",
     "output_type": "stream",
     "text": [
      "/glade/work/jonahshaw/trend_uncertainty/nathan/OBS_LENS/HadCRUT5//HadCRUT.5.0.1.0.analysis.anomalies.198.5x5degSpatialTrends.196001-202012.nc\n"
     ]
    },
    {
     "name": "stderr",
     "output_type": "stream",
     "text": [
      "/glade/work/jonahshaw/miniconda3/envs/cheydask/lib/python3.7/site-packages/dask/array/numpy_compat.py:41: RuntimeWarning: invalid value encountered in true_divide\n",
      "  x = np.divide(x1, x2, out)\n"
     ]
    },
    {
     "name": "stdout",
     "output_type": "stream",
     "text": [
      "/glade/work/jonahshaw/trend_uncertainty/nathan/OBS_LENS/HadCRUT5//HadCRUT.5.0.1.0.analysis.anomalies.199.5x5degSpatialTrends.196001-202012.nc\n"
     ]
    },
    {
     "name": "stderr",
     "output_type": "stream",
     "text": [
      "/glade/work/jonahshaw/miniconda3/envs/cheydask/lib/python3.7/site-packages/dask/array/numpy_compat.py:41: RuntimeWarning: invalid value encountered in true_divide\n",
      "  x = np.divide(x1, x2, out)\n"
     ]
    },
    {
     "name": "stdout",
     "output_type": "stream",
     "text": [
      "/glade/work/jonahshaw/trend_uncertainty/nathan/OBS_LENS/HadCRUT5//HadCRUT.5.0.1.0.analysis.anomalies.2.5x5degSpatialTrends.196001-202012.nc\n"
     ]
    },
    {
     "name": "stderr",
     "output_type": "stream",
     "text": [
      "/glade/work/jonahshaw/miniconda3/envs/cheydask/lib/python3.7/site-packages/dask/array/numpy_compat.py:41: RuntimeWarning: invalid value encountered in true_divide\n",
      "  x = np.divide(x1, x2, out)\n"
     ]
    },
    {
     "name": "stdout",
     "output_type": "stream",
     "text": [
      "/glade/work/jonahshaw/trend_uncertainty/nathan/OBS_LENS/HadCRUT5//HadCRUT.5.0.1.0.analysis.anomalies.20.5x5degSpatialTrends.196001-202012.nc\n"
     ]
    },
    {
     "name": "stderr",
     "output_type": "stream",
     "text": [
      "/glade/work/jonahshaw/miniconda3/envs/cheydask/lib/python3.7/site-packages/dask/array/numpy_compat.py:41: RuntimeWarning: invalid value encountered in true_divide\n",
      "  x = np.divide(x1, x2, out)\n"
     ]
    },
    {
     "name": "stdout",
     "output_type": "stream",
     "text": [
      "/glade/work/jonahshaw/trend_uncertainty/nathan/OBS_LENS/HadCRUT5//HadCRUT.5.0.1.0.analysis.anomalies.200.5x5degSpatialTrends.196001-202012.nc\n"
     ]
    },
    {
     "name": "stderr",
     "output_type": "stream",
     "text": [
      "/glade/work/jonahshaw/miniconda3/envs/cheydask/lib/python3.7/site-packages/dask/array/numpy_compat.py:41: RuntimeWarning: invalid value encountered in true_divide\n",
      "  x = np.divide(x1, x2, out)\n"
     ]
    },
    {
     "name": "stdout",
     "output_type": "stream",
     "text": [
      "/glade/work/jonahshaw/trend_uncertainty/nathan/OBS_LENS/HadCRUT5//HadCRUT.5.0.1.0.analysis.anomalies.21.5x5degSpatialTrends.196001-202012.nc\n"
     ]
    },
    {
     "name": "stderr",
     "output_type": "stream",
     "text": [
      "/glade/work/jonahshaw/miniconda3/envs/cheydask/lib/python3.7/site-packages/dask/array/numpy_compat.py:41: RuntimeWarning: invalid value encountered in true_divide\n",
      "  x = np.divide(x1, x2, out)\n"
     ]
    },
    {
     "name": "stdout",
     "output_type": "stream",
     "text": [
      "/glade/work/jonahshaw/trend_uncertainty/nathan/OBS_LENS/HadCRUT5//HadCRUT.5.0.1.0.analysis.anomalies.22.5x5degSpatialTrends.196001-202012.nc\n"
     ]
    },
    {
     "name": "stderr",
     "output_type": "stream",
     "text": [
      "/glade/work/jonahshaw/miniconda3/envs/cheydask/lib/python3.7/site-packages/dask/array/numpy_compat.py:41: RuntimeWarning: invalid value encountered in true_divide\n",
      "  x = np.divide(x1, x2, out)\n"
     ]
    },
    {
     "name": "stdout",
     "output_type": "stream",
     "text": [
      "/glade/work/jonahshaw/trend_uncertainty/nathan/OBS_LENS/HadCRUT5//HadCRUT.5.0.1.0.analysis.anomalies.23.5x5degSpatialTrends.196001-202012.nc\n"
     ]
    },
    {
     "name": "stderr",
     "output_type": "stream",
     "text": [
      "/glade/work/jonahshaw/miniconda3/envs/cheydask/lib/python3.7/site-packages/dask/array/numpy_compat.py:41: RuntimeWarning: invalid value encountered in true_divide\n",
      "  x = np.divide(x1, x2, out)\n"
     ]
    },
    {
     "name": "stdout",
     "output_type": "stream",
     "text": [
      "/glade/work/jonahshaw/trend_uncertainty/nathan/OBS_LENS/HadCRUT5//HadCRUT.5.0.1.0.analysis.anomalies.24.5x5degSpatialTrends.196001-202012.nc\n"
     ]
    },
    {
     "name": "stderr",
     "output_type": "stream",
     "text": [
      "/glade/work/jonahshaw/miniconda3/envs/cheydask/lib/python3.7/site-packages/dask/array/numpy_compat.py:41: RuntimeWarning: invalid value encountered in true_divide\n",
      "  x = np.divide(x1, x2, out)\n"
     ]
    },
    {
     "name": "stdout",
     "output_type": "stream",
     "text": [
      "/glade/work/jonahshaw/trend_uncertainty/nathan/OBS_LENS/HadCRUT5//HadCRUT.5.0.1.0.analysis.anomalies.25.5x5degSpatialTrends.196001-202012.nc\n"
     ]
    },
    {
     "name": "stderr",
     "output_type": "stream",
     "text": [
      "/glade/work/jonahshaw/miniconda3/envs/cheydask/lib/python3.7/site-packages/dask/array/numpy_compat.py:41: RuntimeWarning: invalid value encountered in true_divide\n",
      "  x = np.divide(x1, x2, out)\n"
     ]
    },
    {
     "name": "stdout",
     "output_type": "stream",
     "text": [
      "/glade/work/jonahshaw/trend_uncertainty/nathan/OBS_LENS/HadCRUT5//HadCRUT.5.0.1.0.analysis.anomalies.26.5x5degSpatialTrends.196001-202012.nc\n"
     ]
    },
    {
     "name": "stderr",
     "output_type": "stream",
     "text": [
      "/glade/work/jonahshaw/miniconda3/envs/cheydask/lib/python3.7/site-packages/dask/array/numpy_compat.py:41: RuntimeWarning: invalid value encountered in true_divide\n",
      "  x = np.divide(x1, x2, out)\n"
     ]
    },
    {
     "name": "stdout",
     "output_type": "stream",
     "text": [
      "/glade/work/jonahshaw/trend_uncertainty/nathan/OBS_LENS/HadCRUT5//HadCRUT.5.0.1.0.analysis.anomalies.27.5x5degSpatialTrends.196001-202012.nc\n"
     ]
    },
    {
     "name": "stderr",
     "output_type": "stream",
     "text": [
      "/glade/work/jonahshaw/miniconda3/envs/cheydask/lib/python3.7/site-packages/dask/array/numpy_compat.py:41: RuntimeWarning: invalid value encountered in true_divide\n",
      "  x = np.divide(x1, x2, out)\n"
     ]
    },
    {
     "name": "stdout",
     "output_type": "stream",
     "text": [
      "/glade/work/jonahshaw/trend_uncertainty/nathan/OBS_LENS/HadCRUT5//HadCRUT.5.0.1.0.analysis.anomalies.28.5x5degSpatialTrends.196001-202012.nc\n"
     ]
    },
    {
     "name": "stderr",
     "output_type": "stream",
     "text": [
      "/glade/work/jonahshaw/miniconda3/envs/cheydask/lib/python3.7/site-packages/dask/array/numpy_compat.py:41: RuntimeWarning: invalid value encountered in true_divide\n",
      "  x = np.divide(x1, x2, out)\n"
     ]
    },
    {
     "name": "stdout",
     "output_type": "stream",
     "text": [
      "/glade/work/jonahshaw/trend_uncertainty/nathan/OBS_LENS/HadCRUT5//HadCRUT.5.0.1.0.analysis.anomalies.29.5x5degSpatialTrends.196001-202012.nc\n"
     ]
    },
    {
     "name": "stderr",
     "output_type": "stream",
     "text": [
      "/glade/work/jonahshaw/miniconda3/envs/cheydask/lib/python3.7/site-packages/dask/array/numpy_compat.py:41: RuntimeWarning: invalid value encountered in true_divide\n",
      "  x = np.divide(x1, x2, out)\n"
     ]
    },
    {
     "name": "stdout",
     "output_type": "stream",
     "text": [
      "/glade/work/jonahshaw/trend_uncertainty/nathan/OBS_LENS/HadCRUT5//HadCRUT.5.0.1.0.analysis.anomalies.3.5x5degSpatialTrends.196001-202012.nc\n"
     ]
    },
    {
     "name": "stderr",
     "output_type": "stream",
     "text": [
      "/glade/work/jonahshaw/miniconda3/envs/cheydask/lib/python3.7/site-packages/dask/array/numpy_compat.py:41: RuntimeWarning: invalid value encountered in true_divide\n",
      "  x = np.divide(x1, x2, out)\n"
     ]
    },
    {
     "name": "stdout",
     "output_type": "stream",
     "text": [
      "/glade/work/jonahshaw/trend_uncertainty/nathan/OBS_LENS/HadCRUT5//HadCRUT.5.0.1.0.analysis.anomalies.30.5x5degSpatialTrends.196001-202012.nc\n"
     ]
    },
    {
     "name": "stderr",
     "output_type": "stream",
     "text": [
      "/glade/work/jonahshaw/miniconda3/envs/cheydask/lib/python3.7/site-packages/dask/array/numpy_compat.py:41: RuntimeWarning: invalid value encountered in true_divide\n",
      "  x = np.divide(x1, x2, out)\n"
     ]
    },
    {
     "name": "stdout",
     "output_type": "stream",
     "text": [
      "/glade/work/jonahshaw/trend_uncertainty/nathan/OBS_LENS/HadCRUT5//HadCRUT.5.0.1.0.analysis.anomalies.31.5x5degSpatialTrends.196001-202012.nc\n"
     ]
    },
    {
     "name": "stderr",
     "output_type": "stream",
     "text": [
      "/glade/work/jonahshaw/miniconda3/envs/cheydask/lib/python3.7/site-packages/dask/array/numpy_compat.py:41: RuntimeWarning: invalid value encountered in true_divide\n",
      "  x = np.divide(x1, x2, out)\n"
     ]
    },
    {
     "name": "stdout",
     "output_type": "stream",
     "text": [
      "/glade/work/jonahshaw/trend_uncertainty/nathan/OBS_LENS/HadCRUT5//HadCRUT.5.0.1.0.analysis.anomalies.32.5x5degSpatialTrends.196001-202012.nc\n"
     ]
    },
    {
     "name": "stderr",
     "output_type": "stream",
     "text": [
      "/glade/work/jonahshaw/miniconda3/envs/cheydask/lib/python3.7/site-packages/dask/array/numpy_compat.py:41: RuntimeWarning: invalid value encountered in true_divide\n",
      "  x = np.divide(x1, x2, out)\n"
     ]
    },
    {
     "name": "stdout",
     "output_type": "stream",
     "text": [
      "/glade/work/jonahshaw/trend_uncertainty/nathan/OBS_LENS/HadCRUT5//HadCRUT.5.0.1.0.analysis.anomalies.33.5x5degSpatialTrends.196001-202012.nc\n"
     ]
    },
    {
     "name": "stderr",
     "output_type": "stream",
     "text": [
      "/glade/work/jonahshaw/miniconda3/envs/cheydask/lib/python3.7/site-packages/dask/array/numpy_compat.py:41: RuntimeWarning: invalid value encountered in true_divide\n",
      "  x = np.divide(x1, x2, out)\n"
     ]
    },
    {
     "name": "stdout",
     "output_type": "stream",
     "text": [
      "/glade/work/jonahshaw/trend_uncertainty/nathan/OBS_LENS/HadCRUT5//HadCRUT.5.0.1.0.analysis.anomalies.34.5x5degSpatialTrends.196001-202012.nc\n"
     ]
    },
    {
     "name": "stderr",
     "output_type": "stream",
     "text": [
      "/glade/work/jonahshaw/miniconda3/envs/cheydask/lib/python3.7/site-packages/dask/array/numpy_compat.py:41: RuntimeWarning: invalid value encountered in true_divide\n",
      "  x = np.divide(x1, x2, out)\n"
     ]
    },
    {
     "name": "stdout",
     "output_type": "stream",
     "text": [
      "/glade/work/jonahshaw/trend_uncertainty/nathan/OBS_LENS/HadCRUT5//HadCRUT.5.0.1.0.analysis.anomalies.35.5x5degSpatialTrends.196001-202012.nc\n"
     ]
    },
    {
     "name": "stderr",
     "output_type": "stream",
     "text": [
      "/glade/work/jonahshaw/miniconda3/envs/cheydask/lib/python3.7/site-packages/dask/array/numpy_compat.py:41: RuntimeWarning: invalid value encountered in true_divide\n",
      "  x = np.divide(x1, x2, out)\n"
     ]
    },
    {
     "name": "stdout",
     "output_type": "stream",
     "text": [
      "/glade/work/jonahshaw/trend_uncertainty/nathan/OBS_LENS/HadCRUT5//HadCRUT.5.0.1.0.analysis.anomalies.36.5x5degSpatialTrends.196001-202012.nc\n"
     ]
    },
    {
     "name": "stderr",
     "output_type": "stream",
     "text": [
      "/glade/work/jonahshaw/miniconda3/envs/cheydask/lib/python3.7/site-packages/dask/array/numpy_compat.py:41: RuntimeWarning: invalid value encountered in true_divide\n",
      "  x = np.divide(x1, x2, out)\n"
     ]
    },
    {
     "name": "stdout",
     "output_type": "stream",
     "text": [
      "/glade/work/jonahshaw/trend_uncertainty/nathan/OBS_LENS/HadCRUT5//HadCRUT.5.0.1.0.analysis.anomalies.37.5x5degSpatialTrends.196001-202012.nc\n"
     ]
    },
    {
     "name": "stderr",
     "output_type": "stream",
     "text": [
      "/glade/work/jonahshaw/miniconda3/envs/cheydask/lib/python3.7/site-packages/dask/array/numpy_compat.py:41: RuntimeWarning: invalid value encountered in true_divide\n",
      "  x = np.divide(x1, x2, out)\n"
     ]
    },
    {
     "name": "stdout",
     "output_type": "stream",
     "text": [
      "/glade/work/jonahshaw/trend_uncertainty/nathan/OBS_LENS/HadCRUT5//HadCRUT.5.0.1.0.analysis.anomalies.38.5x5degSpatialTrends.196001-202012.nc\n"
     ]
    },
    {
     "name": "stderr",
     "output_type": "stream",
     "text": [
      "/glade/work/jonahshaw/miniconda3/envs/cheydask/lib/python3.7/site-packages/dask/array/numpy_compat.py:41: RuntimeWarning: invalid value encountered in true_divide\n",
      "  x = np.divide(x1, x2, out)\n"
     ]
    },
    {
     "name": "stdout",
     "output_type": "stream",
     "text": [
      "/glade/work/jonahshaw/trend_uncertainty/nathan/OBS_LENS/HadCRUT5//HadCRUT.5.0.1.0.analysis.anomalies.39.5x5degSpatialTrends.196001-202012.nc\n"
     ]
    },
    {
     "name": "stderr",
     "output_type": "stream",
     "text": [
      "/glade/work/jonahshaw/miniconda3/envs/cheydask/lib/python3.7/site-packages/dask/array/numpy_compat.py:41: RuntimeWarning: invalid value encountered in true_divide\n",
      "  x = np.divide(x1, x2, out)\n"
     ]
    },
    {
     "name": "stdout",
     "output_type": "stream",
     "text": [
      "/glade/work/jonahshaw/trend_uncertainty/nathan/OBS_LENS/HadCRUT5//HadCRUT.5.0.1.0.analysis.anomalies.4.5x5degSpatialTrends.196001-202012.nc\n"
     ]
    },
    {
     "name": "stderr",
     "output_type": "stream",
     "text": [
      "/glade/work/jonahshaw/miniconda3/envs/cheydask/lib/python3.7/site-packages/dask/array/numpy_compat.py:41: RuntimeWarning: invalid value encountered in true_divide\n",
      "  x = np.divide(x1, x2, out)\n"
     ]
    },
    {
     "name": "stdout",
     "output_type": "stream",
     "text": [
      "/glade/work/jonahshaw/trend_uncertainty/nathan/OBS_LENS/HadCRUT5//HadCRUT.5.0.1.0.analysis.anomalies.40.5x5degSpatialTrends.196001-202012.nc\n"
     ]
    },
    {
     "name": "stderr",
     "output_type": "stream",
     "text": [
      "/glade/work/jonahshaw/miniconda3/envs/cheydask/lib/python3.7/site-packages/dask/array/numpy_compat.py:41: RuntimeWarning: invalid value encountered in true_divide\n",
      "  x = np.divide(x1, x2, out)\n"
     ]
    },
    {
     "name": "stdout",
     "output_type": "stream",
     "text": [
      "/glade/work/jonahshaw/trend_uncertainty/nathan/OBS_LENS/HadCRUT5//HadCRUT.5.0.1.0.analysis.anomalies.41.5x5degSpatialTrends.196001-202012.nc\n"
     ]
    },
    {
     "name": "stderr",
     "output_type": "stream",
     "text": [
      "/glade/work/jonahshaw/miniconda3/envs/cheydask/lib/python3.7/site-packages/dask/array/numpy_compat.py:41: RuntimeWarning: invalid value encountered in true_divide\n",
      "  x = np.divide(x1, x2, out)\n"
     ]
    },
    {
     "name": "stdout",
     "output_type": "stream",
     "text": [
      "/glade/work/jonahshaw/trend_uncertainty/nathan/OBS_LENS/HadCRUT5//HadCRUT.5.0.1.0.analysis.anomalies.42.5x5degSpatialTrends.196001-202012.nc\n"
     ]
    },
    {
     "name": "stderr",
     "output_type": "stream",
     "text": [
      "/glade/work/jonahshaw/miniconda3/envs/cheydask/lib/python3.7/site-packages/dask/array/numpy_compat.py:41: RuntimeWarning: invalid value encountered in true_divide\n",
      "  x = np.divide(x1, x2, out)\n"
     ]
    },
    {
     "name": "stdout",
     "output_type": "stream",
     "text": [
      "/glade/work/jonahshaw/trend_uncertainty/nathan/OBS_LENS/HadCRUT5//HadCRUT.5.0.1.0.analysis.anomalies.43.5x5degSpatialTrends.196001-202012.nc\n"
     ]
    },
    {
     "name": "stderr",
     "output_type": "stream",
     "text": [
      "/glade/work/jonahshaw/miniconda3/envs/cheydask/lib/python3.7/site-packages/dask/array/numpy_compat.py:41: RuntimeWarning: invalid value encountered in true_divide\n",
      "  x = np.divide(x1, x2, out)\n"
     ]
    },
    {
     "name": "stdout",
     "output_type": "stream",
     "text": [
      "/glade/work/jonahshaw/trend_uncertainty/nathan/OBS_LENS/HadCRUT5//HadCRUT.5.0.1.0.analysis.anomalies.44.5x5degSpatialTrends.196001-202012.nc\n"
     ]
    },
    {
     "name": "stderr",
     "output_type": "stream",
     "text": [
      "/glade/work/jonahshaw/miniconda3/envs/cheydask/lib/python3.7/site-packages/dask/array/numpy_compat.py:41: RuntimeWarning: invalid value encountered in true_divide\n",
      "  x = np.divide(x1, x2, out)\n"
     ]
    },
    {
     "name": "stdout",
     "output_type": "stream",
     "text": [
      "/glade/work/jonahshaw/trend_uncertainty/nathan/OBS_LENS/HadCRUT5//HadCRUT.5.0.1.0.analysis.anomalies.45.5x5degSpatialTrends.196001-202012.nc\n"
     ]
    },
    {
     "name": "stderr",
     "output_type": "stream",
     "text": [
      "/glade/work/jonahshaw/miniconda3/envs/cheydask/lib/python3.7/site-packages/dask/array/numpy_compat.py:41: RuntimeWarning: invalid value encountered in true_divide\n",
      "  x = np.divide(x1, x2, out)\n"
     ]
    },
    {
     "name": "stdout",
     "output_type": "stream",
     "text": [
      "/glade/work/jonahshaw/trend_uncertainty/nathan/OBS_LENS/HadCRUT5//HadCRUT.5.0.1.0.analysis.anomalies.46.5x5degSpatialTrends.196001-202012.nc\n"
     ]
    },
    {
     "name": "stderr",
     "output_type": "stream",
     "text": [
      "/glade/work/jonahshaw/miniconda3/envs/cheydask/lib/python3.7/site-packages/dask/array/numpy_compat.py:41: RuntimeWarning: invalid value encountered in true_divide\n",
      "  x = np.divide(x1, x2, out)\n"
     ]
    },
    {
     "name": "stdout",
     "output_type": "stream",
     "text": [
      "/glade/work/jonahshaw/trend_uncertainty/nathan/OBS_LENS/HadCRUT5//HadCRUT.5.0.1.0.analysis.anomalies.47.5x5degSpatialTrends.196001-202012.nc\n"
     ]
    },
    {
     "name": "stderr",
     "output_type": "stream",
     "text": [
      "/glade/work/jonahshaw/miniconda3/envs/cheydask/lib/python3.7/site-packages/dask/array/numpy_compat.py:41: RuntimeWarning: invalid value encountered in true_divide\n",
      "  x = np.divide(x1, x2, out)\n"
     ]
    },
    {
     "name": "stdout",
     "output_type": "stream",
     "text": [
      "/glade/work/jonahshaw/trend_uncertainty/nathan/OBS_LENS/HadCRUT5//HadCRUT.5.0.1.0.analysis.anomalies.48.5x5degSpatialTrends.196001-202012.nc\n"
     ]
    },
    {
     "name": "stderr",
     "output_type": "stream",
     "text": [
      "/glade/work/jonahshaw/miniconda3/envs/cheydask/lib/python3.7/site-packages/dask/array/numpy_compat.py:41: RuntimeWarning: invalid value encountered in true_divide\n",
      "  x = np.divide(x1, x2, out)\n"
     ]
    },
    {
     "name": "stdout",
     "output_type": "stream",
     "text": [
      "/glade/work/jonahshaw/trend_uncertainty/nathan/OBS_LENS/HadCRUT5//HadCRUT.5.0.1.0.analysis.anomalies.49.5x5degSpatialTrends.196001-202012.nc\n"
     ]
    },
    {
     "name": "stderr",
     "output_type": "stream",
     "text": [
      "/glade/work/jonahshaw/miniconda3/envs/cheydask/lib/python3.7/site-packages/dask/array/numpy_compat.py:41: RuntimeWarning: invalid value encountered in true_divide\n",
      "  x = np.divide(x1, x2, out)\n"
     ]
    },
    {
     "name": "stdout",
     "output_type": "stream",
     "text": [
      "/glade/work/jonahshaw/trend_uncertainty/nathan/OBS_LENS/HadCRUT5//HadCRUT.5.0.1.0.analysis.anomalies.5.5x5degSpatialTrends.196001-202012.nc\n"
     ]
    },
    {
     "name": "stderr",
     "output_type": "stream",
     "text": [
      "/glade/work/jonahshaw/miniconda3/envs/cheydask/lib/python3.7/site-packages/dask/array/numpy_compat.py:41: RuntimeWarning: invalid value encountered in true_divide\n",
      "  x = np.divide(x1, x2, out)\n"
     ]
    },
    {
     "name": "stdout",
     "output_type": "stream",
     "text": [
      "/glade/work/jonahshaw/trend_uncertainty/nathan/OBS_LENS/HadCRUT5//HadCRUT.5.0.1.0.analysis.anomalies.50.5x5degSpatialTrends.196001-202012.nc\n"
     ]
    },
    {
     "name": "stderr",
     "output_type": "stream",
     "text": [
      "/glade/work/jonahshaw/miniconda3/envs/cheydask/lib/python3.7/site-packages/dask/array/numpy_compat.py:41: RuntimeWarning: invalid value encountered in true_divide\n",
      "  x = np.divide(x1, x2, out)\n"
     ]
    },
    {
     "name": "stdout",
     "output_type": "stream",
     "text": [
      "/glade/work/jonahshaw/trend_uncertainty/nathan/OBS_LENS/HadCRUT5//HadCRUT.5.0.1.0.analysis.anomalies.51.5x5degSpatialTrends.196001-202012.nc\n"
     ]
    },
    {
     "name": "stderr",
     "output_type": "stream",
     "text": [
      "/glade/work/jonahshaw/miniconda3/envs/cheydask/lib/python3.7/site-packages/dask/array/numpy_compat.py:41: RuntimeWarning: invalid value encountered in true_divide\n",
      "  x = np.divide(x1, x2, out)\n"
     ]
    },
    {
     "name": "stdout",
     "output_type": "stream",
     "text": [
      "/glade/work/jonahshaw/trend_uncertainty/nathan/OBS_LENS/HadCRUT5//HadCRUT.5.0.1.0.analysis.anomalies.52.5x5degSpatialTrends.196001-202012.nc\n"
     ]
    },
    {
     "name": "stderr",
     "output_type": "stream",
     "text": [
      "/glade/work/jonahshaw/miniconda3/envs/cheydask/lib/python3.7/site-packages/dask/array/numpy_compat.py:41: RuntimeWarning: invalid value encountered in true_divide\n",
      "  x = np.divide(x1, x2, out)\n"
     ]
    },
    {
     "name": "stdout",
     "output_type": "stream",
     "text": [
      "/glade/work/jonahshaw/trend_uncertainty/nathan/OBS_LENS/HadCRUT5//HadCRUT.5.0.1.0.analysis.anomalies.53.5x5degSpatialTrends.196001-202012.nc\n"
     ]
    },
    {
     "name": "stderr",
     "output_type": "stream",
     "text": [
      "/glade/work/jonahshaw/miniconda3/envs/cheydask/lib/python3.7/site-packages/dask/array/numpy_compat.py:41: RuntimeWarning: invalid value encountered in true_divide\n",
      "  x = np.divide(x1, x2, out)\n"
     ]
    },
    {
     "name": "stdout",
     "output_type": "stream",
     "text": [
      "/glade/work/jonahshaw/trend_uncertainty/nathan/OBS_LENS/HadCRUT5//HadCRUT.5.0.1.0.analysis.anomalies.54.5x5degSpatialTrends.196001-202012.nc\n"
     ]
    },
    {
     "name": "stderr",
     "output_type": "stream",
     "text": [
      "/glade/work/jonahshaw/miniconda3/envs/cheydask/lib/python3.7/site-packages/dask/array/numpy_compat.py:41: RuntimeWarning: invalid value encountered in true_divide\n",
      "  x = np.divide(x1, x2, out)\n"
     ]
    },
    {
     "name": "stdout",
     "output_type": "stream",
     "text": [
      "/glade/work/jonahshaw/trend_uncertainty/nathan/OBS_LENS/HadCRUT5//HadCRUT.5.0.1.0.analysis.anomalies.55.5x5degSpatialTrends.196001-202012.nc\n"
     ]
    },
    {
     "name": "stderr",
     "output_type": "stream",
     "text": [
      "/glade/work/jonahshaw/miniconda3/envs/cheydask/lib/python3.7/site-packages/dask/array/numpy_compat.py:41: RuntimeWarning: invalid value encountered in true_divide\n",
      "  x = np.divide(x1, x2, out)\n"
     ]
    },
    {
     "name": "stdout",
     "output_type": "stream",
     "text": [
      "/glade/work/jonahshaw/trend_uncertainty/nathan/OBS_LENS/HadCRUT5//HadCRUT.5.0.1.0.analysis.anomalies.56.5x5degSpatialTrends.196001-202012.nc\n"
     ]
    },
    {
     "name": "stderr",
     "output_type": "stream",
     "text": [
      "/glade/work/jonahshaw/miniconda3/envs/cheydask/lib/python3.7/site-packages/dask/array/numpy_compat.py:41: RuntimeWarning: invalid value encountered in true_divide\n",
      "  x = np.divide(x1, x2, out)\n"
     ]
    },
    {
     "name": "stdout",
     "output_type": "stream",
     "text": [
      "/glade/work/jonahshaw/trend_uncertainty/nathan/OBS_LENS/HadCRUT5//HadCRUT.5.0.1.0.analysis.anomalies.57.5x5degSpatialTrends.196001-202012.nc\n"
     ]
    },
    {
     "name": "stderr",
     "output_type": "stream",
     "text": [
      "/glade/work/jonahshaw/miniconda3/envs/cheydask/lib/python3.7/site-packages/dask/array/numpy_compat.py:41: RuntimeWarning: invalid value encountered in true_divide\n",
      "  x = np.divide(x1, x2, out)\n"
     ]
    },
    {
     "name": "stdout",
     "output_type": "stream",
     "text": [
      "/glade/work/jonahshaw/trend_uncertainty/nathan/OBS_LENS/HadCRUT5//HadCRUT.5.0.1.0.analysis.anomalies.58.5x5degSpatialTrends.196001-202012.nc\n"
     ]
    },
    {
     "name": "stderr",
     "output_type": "stream",
     "text": [
      "/glade/work/jonahshaw/miniconda3/envs/cheydask/lib/python3.7/site-packages/dask/array/numpy_compat.py:41: RuntimeWarning: invalid value encountered in true_divide\n",
      "  x = np.divide(x1, x2, out)\n"
     ]
    },
    {
     "name": "stdout",
     "output_type": "stream",
     "text": [
      "/glade/work/jonahshaw/trend_uncertainty/nathan/OBS_LENS/HadCRUT5//HadCRUT.5.0.1.0.analysis.anomalies.59.5x5degSpatialTrends.196001-202012.nc\n"
     ]
    },
    {
     "name": "stderr",
     "output_type": "stream",
     "text": [
      "/glade/work/jonahshaw/miniconda3/envs/cheydask/lib/python3.7/site-packages/dask/array/numpy_compat.py:41: RuntimeWarning: invalid value encountered in true_divide\n",
      "  x = np.divide(x1, x2, out)\n"
     ]
    },
    {
     "name": "stdout",
     "output_type": "stream",
     "text": [
      "/glade/work/jonahshaw/trend_uncertainty/nathan/OBS_LENS/HadCRUT5//HadCRUT.5.0.1.0.analysis.anomalies.6.5x5degSpatialTrends.196001-202012.nc\n"
     ]
    },
    {
     "name": "stderr",
     "output_type": "stream",
     "text": [
      "/glade/work/jonahshaw/miniconda3/envs/cheydask/lib/python3.7/site-packages/dask/array/numpy_compat.py:41: RuntimeWarning: invalid value encountered in true_divide\n",
      "  x = np.divide(x1, x2, out)\n"
     ]
    },
    {
     "name": "stdout",
     "output_type": "stream",
     "text": [
      "/glade/work/jonahshaw/trend_uncertainty/nathan/OBS_LENS/HadCRUT5//HadCRUT.5.0.1.0.analysis.anomalies.60.5x5degSpatialTrends.196001-202012.nc\n"
     ]
    },
    {
     "name": "stderr",
     "output_type": "stream",
     "text": [
      "/glade/work/jonahshaw/miniconda3/envs/cheydask/lib/python3.7/site-packages/dask/array/numpy_compat.py:41: RuntimeWarning: invalid value encountered in true_divide\n",
      "  x = np.divide(x1, x2, out)\n"
     ]
    },
    {
     "name": "stdout",
     "output_type": "stream",
     "text": [
      "/glade/work/jonahshaw/trend_uncertainty/nathan/OBS_LENS/HadCRUT5//HadCRUT.5.0.1.0.analysis.anomalies.61.5x5degSpatialTrends.196001-202012.nc\n"
     ]
    },
    {
     "name": "stderr",
     "output_type": "stream",
     "text": [
      "/glade/work/jonahshaw/miniconda3/envs/cheydask/lib/python3.7/site-packages/dask/array/numpy_compat.py:41: RuntimeWarning: invalid value encountered in true_divide\n",
      "  x = np.divide(x1, x2, out)\n"
     ]
    },
    {
     "name": "stdout",
     "output_type": "stream",
     "text": [
      "/glade/work/jonahshaw/trend_uncertainty/nathan/OBS_LENS/HadCRUT5//HadCRUT.5.0.1.0.analysis.anomalies.62.5x5degSpatialTrends.196001-202012.nc\n"
     ]
    },
    {
     "name": "stderr",
     "output_type": "stream",
     "text": [
      "/glade/work/jonahshaw/miniconda3/envs/cheydask/lib/python3.7/site-packages/dask/array/numpy_compat.py:41: RuntimeWarning: invalid value encountered in true_divide\n",
      "  x = np.divide(x1, x2, out)\n"
     ]
    },
    {
     "name": "stdout",
     "output_type": "stream",
     "text": [
      "/glade/work/jonahshaw/trend_uncertainty/nathan/OBS_LENS/HadCRUT5//HadCRUT.5.0.1.0.analysis.anomalies.63.5x5degSpatialTrends.196001-202012.nc\n"
     ]
    },
    {
     "name": "stderr",
     "output_type": "stream",
     "text": [
      "/glade/work/jonahshaw/miniconda3/envs/cheydask/lib/python3.7/site-packages/dask/array/numpy_compat.py:41: RuntimeWarning: invalid value encountered in true_divide\n",
      "  x = np.divide(x1, x2, out)\n"
     ]
    },
    {
     "name": "stdout",
     "output_type": "stream",
     "text": [
      "/glade/work/jonahshaw/trend_uncertainty/nathan/OBS_LENS/HadCRUT5//HadCRUT.5.0.1.0.analysis.anomalies.64.5x5degSpatialTrends.196001-202012.nc\n"
     ]
    },
    {
     "name": "stderr",
     "output_type": "stream",
     "text": [
      "/glade/work/jonahshaw/miniconda3/envs/cheydask/lib/python3.7/site-packages/dask/array/numpy_compat.py:41: RuntimeWarning: invalid value encountered in true_divide\n",
      "  x = np.divide(x1, x2, out)\n"
     ]
    },
    {
     "name": "stdout",
     "output_type": "stream",
     "text": [
      "/glade/work/jonahshaw/trend_uncertainty/nathan/OBS_LENS/HadCRUT5//HadCRUT.5.0.1.0.analysis.anomalies.65.5x5degSpatialTrends.196001-202012.nc\n"
     ]
    },
    {
     "name": "stderr",
     "output_type": "stream",
     "text": [
      "/glade/work/jonahshaw/miniconda3/envs/cheydask/lib/python3.7/site-packages/dask/array/numpy_compat.py:41: RuntimeWarning: invalid value encountered in true_divide\n",
      "  x = np.divide(x1, x2, out)\n"
     ]
    },
    {
     "name": "stdout",
     "output_type": "stream",
     "text": [
      "/glade/work/jonahshaw/trend_uncertainty/nathan/OBS_LENS/HadCRUT5//HadCRUT.5.0.1.0.analysis.anomalies.66.5x5degSpatialTrends.196001-202012.nc\n"
     ]
    },
    {
     "name": "stderr",
     "output_type": "stream",
     "text": [
      "/glade/work/jonahshaw/miniconda3/envs/cheydask/lib/python3.7/site-packages/dask/array/numpy_compat.py:41: RuntimeWarning: invalid value encountered in true_divide\n",
      "  x = np.divide(x1, x2, out)\n"
     ]
    },
    {
     "name": "stdout",
     "output_type": "stream",
     "text": [
      "/glade/work/jonahshaw/trend_uncertainty/nathan/OBS_LENS/HadCRUT5//HadCRUT.5.0.1.0.analysis.anomalies.67.5x5degSpatialTrends.196001-202012.nc\n"
     ]
    },
    {
     "name": "stderr",
     "output_type": "stream",
     "text": [
      "/glade/work/jonahshaw/miniconda3/envs/cheydask/lib/python3.7/site-packages/dask/array/numpy_compat.py:41: RuntimeWarning: invalid value encountered in true_divide\n",
      "  x = np.divide(x1, x2, out)\n"
     ]
    },
    {
     "name": "stdout",
     "output_type": "stream",
     "text": [
      "/glade/work/jonahshaw/trend_uncertainty/nathan/OBS_LENS/HadCRUT5//HadCRUT.5.0.1.0.analysis.anomalies.68.5x5degSpatialTrends.196001-202012.nc\n"
     ]
    },
    {
     "name": "stderr",
     "output_type": "stream",
     "text": [
      "/glade/work/jonahshaw/miniconda3/envs/cheydask/lib/python3.7/site-packages/dask/array/numpy_compat.py:41: RuntimeWarning: invalid value encountered in true_divide\n",
      "  x = np.divide(x1, x2, out)\n"
     ]
    },
    {
     "name": "stdout",
     "output_type": "stream",
     "text": [
      "/glade/work/jonahshaw/trend_uncertainty/nathan/OBS_LENS/HadCRUT5//HadCRUT.5.0.1.0.analysis.anomalies.69.5x5degSpatialTrends.196001-202012.nc\n"
     ]
    },
    {
     "name": "stderr",
     "output_type": "stream",
     "text": [
      "/glade/work/jonahshaw/miniconda3/envs/cheydask/lib/python3.7/site-packages/dask/array/numpy_compat.py:41: RuntimeWarning: invalid value encountered in true_divide\n",
      "  x = np.divide(x1, x2, out)\n"
     ]
    },
    {
     "name": "stdout",
     "output_type": "stream",
     "text": [
      "/glade/work/jonahshaw/trend_uncertainty/nathan/OBS_LENS/HadCRUT5//HadCRUT.5.0.1.0.analysis.anomalies.7.5x5degSpatialTrends.196001-202012.nc\n"
     ]
    },
    {
     "name": "stderr",
     "output_type": "stream",
     "text": [
      "/glade/work/jonahshaw/miniconda3/envs/cheydask/lib/python3.7/site-packages/dask/array/numpy_compat.py:41: RuntimeWarning: invalid value encountered in true_divide\n",
      "  x = np.divide(x1, x2, out)\n"
     ]
    },
    {
     "name": "stdout",
     "output_type": "stream",
     "text": [
      "/glade/work/jonahshaw/trend_uncertainty/nathan/OBS_LENS/HadCRUT5//HadCRUT.5.0.1.0.analysis.anomalies.70.5x5degSpatialTrends.196001-202012.nc\n"
     ]
    },
    {
     "name": "stderr",
     "output_type": "stream",
     "text": [
      "/glade/work/jonahshaw/miniconda3/envs/cheydask/lib/python3.7/site-packages/dask/array/numpy_compat.py:41: RuntimeWarning: invalid value encountered in true_divide\n",
      "  x = np.divide(x1, x2, out)\n"
     ]
    },
    {
     "name": "stdout",
     "output_type": "stream",
     "text": [
      "/glade/work/jonahshaw/trend_uncertainty/nathan/OBS_LENS/HadCRUT5//HadCRUT.5.0.1.0.analysis.anomalies.71.5x5degSpatialTrends.196001-202012.nc\n"
     ]
    },
    {
     "name": "stderr",
     "output_type": "stream",
     "text": [
      "/glade/work/jonahshaw/miniconda3/envs/cheydask/lib/python3.7/site-packages/dask/array/numpy_compat.py:41: RuntimeWarning: invalid value encountered in true_divide\n",
      "  x = np.divide(x1, x2, out)\n"
     ]
    },
    {
     "name": "stdout",
     "output_type": "stream",
     "text": [
      "/glade/work/jonahshaw/trend_uncertainty/nathan/OBS_LENS/HadCRUT5//HadCRUT.5.0.1.0.analysis.anomalies.72.5x5degSpatialTrends.196001-202012.nc\n"
     ]
    },
    {
     "name": "stderr",
     "output_type": "stream",
     "text": [
      "/glade/work/jonahshaw/miniconda3/envs/cheydask/lib/python3.7/site-packages/dask/array/numpy_compat.py:41: RuntimeWarning: invalid value encountered in true_divide\n",
      "  x = np.divide(x1, x2, out)\n"
     ]
    },
    {
     "name": "stdout",
     "output_type": "stream",
     "text": [
      "/glade/work/jonahshaw/trend_uncertainty/nathan/OBS_LENS/HadCRUT5//HadCRUT.5.0.1.0.analysis.anomalies.73.5x5degSpatialTrends.196001-202012.nc\n"
     ]
    },
    {
     "name": "stderr",
     "output_type": "stream",
     "text": [
      "/glade/work/jonahshaw/miniconda3/envs/cheydask/lib/python3.7/site-packages/dask/array/numpy_compat.py:41: RuntimeWarning: invalid value encountered in true_divide\n",
      "  x = np.divide(x1, x2, out)\n"
     ]
    },
    {
     "name": "stdout",
     "output_type": "stream",
     "text": [
      "/glade/work/jonahshaw/trend_uncertainty/nathan/OBS_LENS/HadCRUT5//HadCRUT.5.0.1.0.analysis.anomalies.74.5x5degSpatialTrends.196001-202012.nc\n"
     ]
    },
    {
     "name": "stderr",
     "output_type": "stream",
     "text": [
      "/glade/work/jonahshaw/miniconda3/envs/cheydask/lib/python3.7/site-packages/dask/array/numpy_compat.py:41: RuntimeWarning: invalid value encountered in true_divide\n",
      "  x = np.divide(x1, x2, out)\n"
     ]
    },
    {
     "name": "stdout",
     "output_type": "stream",
     "text": [
      "/glade/work/jonahshaw/trend_uncertainty/nathan/OBS_LENS/HadCRUT5//HadCRUT.5.0.1.0.analysis.anomalies.75.5x5degSpatialTrends.196001-202012.nc\n"
     ]
    },
    {
     "name": "stderr",
     "output_type": "stream",
     "text": [
      "/glade/work/jonahshaw/miniconda3/envs/cheydask/lib/python3.7/site-packages/dask/array/numpy_compat.py:41: RuntimeWarning: invalid value encountered in true_divide\n",
      "  x = np.divide(x1, x2, out)\n"
     ]
    },
    {
     "name": "stdout",
     "output_type": "stream",
     "text": [
      "/glade/work/jonahshaw/trend_uncertainty/nathan/OBS_LENS/HadCRUT5//HadCRUT.5.0.1.0.analysis.anomalies.76.5x5degSpatialTrends.196001-202012.nc\n"
     ]
    },
    {
     "name": "stderr",
     "output_type": "stream",
     "text": [
      "/glade/work/jonahshaw/miniconda3/envs/cheydask/lib/python3.7/site-packages/dask/array/numpy_compat.py:41: RuntimeWarning: invalid value encountered in true_divide\n",
      "  x = np.divide(x1, x2, out)\n"
     ]
    },
    {
     "name": "stdout",
     "output_type": "stream",
     "text": [
      "/glade/work/jonahshaw/trend_uncertainty/nathan/OBS_LENS/HadCRUT5//HadCRUT.5.0.1.0.analysis.anomalies.77.5x5degSpatialTrends.196001-202012.nc\n"
     ]
    },
    {
     "name": "stderr",
     "output_type": "stream",
     "text": [
      "/glade/work/jonahshaw/miniconda3/envs/cheydask/lib/python3.7/site-packages/dask/array/numpy_compat.py:41: RuntimeWarning: invalid value encountered in true_divide\n",
      "  x = np.divide(x1, x2, out)\n"
     ]
    },
    {
     "name": "stdout",
     "output_type": "stream",
     "text": [
      "/glade/work/jonahshaw/trend_uncertainty/nathan/OBS_LENS/HadCRUT5//HadCRUT.5.0.1.0.analysis.anomalies.78.5x5degSpatialTrends.196001-202012.nc\n"
     ]
    },
    {
     "name": "stderr",
     "output_type": "stream",
     "text": [
      "/glade/work/jonahshaw/miniconda3/envs/cheydask/lib/python3.7/site-packages/dask/array/numpy_compat.py:41: RuntimeWarning: invalid value encountered in true_divide\n",
      "  x = np.divide(x1, x2, out)\n"
     ]
    },
    {
     "name": "stdout",
     "output_type": "stream",
     "text": [
      "/glade/work/jonahshaw/trend_uncertainty/nathan/OBS_LENS/HadCRUT5//HadCRUT.5.0.1.0.analysis.anomalies.79.5x5degSpatialTrends.196001-202012.nc\n"
     ]
    },
    {
     "name": "stderr",
     "output_type": "stream",
     "text": [
      "/glade/work/jonahshaw/miniconda3/envs/cheydask/lib/python3.7/site-packages/dask/array/numpy_compat.py:41: RuntimeWarning: invalid value encountered in true_divide\n",
      "  x = np.divide(x1, x2, out)\n"
     ]
    },
    {
     "name": "stdout",
     "output_type": "stream",
     "text": [
      "/glade/work/jonahshaw/trend_uncertainty/nathan/OBS_LENS/HadCRUT5//HadCRUT.5.0.1.0.analysis.anomalies.8.5x5degSpatialTrends.196001-202012.nc\n"
     ]
    },
    {
     "name": "stderr",
     "output_type": "stream",
     "text": [
      "/glade/work/jonahshaw/miniconda3/envs/cheydask/lib/python3.7/site-packages/dask/array/numpy_compat.py:41: RuntimeWarning: invalid value encountered in true_divide\n",
      "  x = np.divide(x1, x2, out)\n"
     ]
    },
    {
     "name": "stdout",
     "output_type": "stream",
     "text": [
      "/glade/work/jonahshaw/trend_uncertainty/nathan/OBS_LENS/HadCRUT5//HadCRUT.5.0.1.0.analysis.anomalies.80.5x5degSpatialTrends.196001-202012.nc\n"
     ]
    },
    {
     "name": "stderr",
     "output_type": "stream",
     "text": [
      "/glade/work/jonahshaw/miniconda3/envs/cheydask/lib/python3.7/site-packages/dask/array/numpy_compat.py:41: RuntimeWarning: invalid value encountered in true_divide\n",
      "  x = np.divide(x1, x2, out)\n"
     ]
    },
    {
     "name": "stdout",
     "output_type": "stream",
     "text": [
      "/glade/work/jonahshaw/trend_uncertainty/nathan/OBS_LENS/HadCRUT5//HadCRUT.5.0.1.0.analysis.anomalies.81.5x5degSpatialTrends.196001-202012.nc\n"
     ]
    }
   ],
   "source": [
    "%%time\n",
    "save_path = '/glade/work/jonahshaw/trend_uncertainty/nathan/OBS_LENS/HadCRUT5/'\n",
    "\n",
    "# Set File list\n",
    "data_paths = hadcrut5_files\n",
    "\n",
    "# Set var\n",
    "var_gistemp = 'tempAnom'\n",
    "var = 'tas'\n",
    "\n",
    "# Set startyears and durations\n",
    "startyears = [1960]\n",
    "_startyear = 1960\n",
    "durations = np.arange(2,61) # Only goes through 2020\n",
    "\n",
    "# gistemp_new_times = (pd.date_range(\"1960-01-01\", freq=\"1M\", periods=12*61)-pd.offsets.MonthBegin(1)).shift(periods=14,freq='D')\n",
    "\n",
    "record_list = []\n",
    "for _data_path in data_paths:\n",
    "    \n",
    "    i = _data_path.split('_')[-1][:3]\n",
    "    # print(i)\n",
    "    \n",
    "    data = xr.open_dataset(_data_path,chunks={'time': -1})[var]\n",
    "\n",
    "    data = data.sel(time=slice('1960-01-01',None)) # Select post 1960 period\n",
    "\n",
    "    data_ann = data.groupby('time.year').mean(dim='time')\n",
    "    # data_ann = data.groupby('time_2').mean(dim='time_2').rename({'time_2':'year','time':'record'})\n",
    "    # data_ann['record'] = 10*int(i) + np.arange(1,10.1,1)    \n",
    "    \n",
    "    _endyears = _startyear + durations\n",
    "    _startyear_str = str(_startyear)\n",
    "    \n",
    "    while len(_startyear_str) < 4: # pad with zeros\n",
    "        _startyear_str = '0' + _startyear_str\n",
    "    \n",
    "    data_ann_slice = data_ann.sel(year=slice(_startyear,_startyear+durations[-1]))\n",
    "    \n",
    "    slopes_by_dur = []\n",
    "    \n",
    "    _endyears = _startyear + durations\n",
    "    _startyear_str = str(_startyear)\n",
    "    \n",
    "    slopes_by_dur.append(dask.delayed(calc_trends_noload)(data=data_ann_slice,\n",
    "                                                          var=var,\n",
    "                                                          startyear=_startyear_str,\n",
    "                                                          endyears=_endyears,\n",
    "                                                          wrapper_func=gettrends_wrapper2,\n",
    "                                                          calc_slopes_func=calc_slopes_spatial_ann2,\n",
    "                                                          ))\n",
    "    \n",
    "    slopes_by_dur_computed = dask.compute(*slopes_by_dur)\n",
    "    \n",
    "    filename = _data_path.split('/')[-1][:-3]\n",
    "    \n",
    "    output_string = '%s/%s.5x5degSpatialTrends.196001-202012.nc' % (save_path,filename)\n",
    "    print(output_string)\n",
    "    \n",
    "    slopes_by_dur_computed_final = slopes_by_dur_computed[0].assign_coords({'realization':data.realization}).expand_dims('realization',axis=-1)    \n",
    "    \n",
    "    slopes_by_dur_computed_final.to_netcdf(output_string)"
   ]
  },
  {
   "cell_type": "code",
   "execution_count": null,
   "id": "0790bb1b-fc9f-4421-a33b-3147fc4c4802",
   "metadata": {},
   "outputs": [],
   "source": []
  }
 ],
 "metadata": {
  "kernelspec": {
   "display_name": "Python [conda env:miniconda3-cheydask]",
   "language": "python",
   "name": "conda-env-miniconda3-cheydask-py"
  },
  "language_info": {
   "codemirror_mode": {
    "name": "ipython",
    "version": 3
   },
   "file_extension": ".py",
   "mimetype": "text/x-python",
   "name": "python",
   "nbconvert_exporter": "python",
   "pygments_lexer": "ipython3",
   "version": "3.7.8"
  }
 },
 "nbformat": 4,
 "nbformat_minor": 5
}
