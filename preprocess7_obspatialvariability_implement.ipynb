{
 "cells": [
  {
   "cell_type": "markdown",
   "id": "9d5702ab-4316-47a2-af40-56d7ce8ccb57",
   "metadata": {},
   "source": [
    "# Process gridded observation product data into variability data"
   ]
  },
  {
   "cell_type": "markdown",
   "id": "b048d54c-261d-4701-ae7f-101ac19d02ab",
   "metadata": {},
   "source": [
    "__0. Is already at 5x5 deg resolution.__\n",
    "\n",
    "__1. Use Dask to perform resampling for variability spatially.__\n",
    "\n",
    "Resample for time periods 2-63 years (to compare with 1960-2023 observations) to generate envelopes of internal variability for each region and each model.  \n",
    "\n",
    "- Output is a dataArray for each model with indexed by time period length (2-63 years) and lat-lon gridcell containing unforced TAS trends."
   ]
  },
  {
   "cell_type": "markdown",
   "id": "f1a0c666-c0bf-4014-9973-d6e6bd8d1298",
   "metadata": {},
   "source": [
    "Nathan notes that these models do the best job in CONUS:  MPI-ESM, GFDL-ESM2M, CESM1-CAM5, CanESM2."
   ]
  },
  {
   "cell_type": "markdown",
   "id": "bb8e0e42-e328-46dd-884a-4259b363feda",
   "metadata": {},
   "source": [
    "For now, I will create my code for the CESM1 and MPI models so that it can be generalized easily. I can pull some code from my climatetrend_uncertainty repository (climatetrend_uncertainty/initial_code/PIC_timeseries_preproc.ipynb)."
   ]
  },
  {
   "cell_type": "markdown",
   "id": "6ede891f-af88-4e6d-90de-32be78682d2b",
   "metadata": {},
   "source": [
    "## Code!"
   ]
  },
  {
   "cell_type": "markdown",
   "id": "8bfd8f11-953b-4585-8b58-309c48c65d59",
   "metadata": {},
   "source": [
    "Most important taken from: trend_uncertainty/spatialdata_preproc.ipynb"
   ]
  },
  {
   "cell_type": "code",
   "execution_count": 24,
   "id": "d6e63128-aee3-40e9-b9c9-bffdab779e11",
   "metadata": {},
   "outputs": [],
   "source": [
    "import sys,warnings\n",
    "# Add common resources folder to path\n",
    "sys.path.append('/glade/u/home/jonahshaw/Scripts/git_repos/internalvar-vs-obsunc/')\n",
    "sys.path.append('/glade/u/home/jonahshaw/Scripts/git_repos/internalvar-vs-obsunc/Common/')\n",
    "\n",
    "from imports import (\n",
    "    np, xr, plt, sns, os,\n",
    "    glob, dask, xe, pd\n",
    "    )\n",
    "\n",
    "%matplotlib inline"
   ]
  },
  {
   "cell_type": "markdown",
   "id": "5778b34a-778a-4e38-a7fe-440b0a191d1f",
   "metadata": {},
   "source": [
    "### Get files."
   ]
  },
  {
   "cell_type": "markdown",
   "id": "aced05e4-9ff0-4f2c-b8db-b8eae119ac6f",
   "metadata": {},
   "source": [
    "__OBS-LENS Directory:__"
   ]
  },
  {
   "cell_type": "code",
   "execution_count": 2,
   "id": "204e42f1-9190-4100-ac8f-bc3b96a5d38e",
   "metadata": {},
   "outputs": [],
   "source": [
    "gistemp_2x2_dir = '/glade/scratch/lenssen/data_for_jonah/GISTEMP_2x2/'\n",
    "gistemp_5x5_dir = '/glade/scratch/lenssen/data_for_jonah/GISTEMP_5x5/'\n",
    "hadcrut5_dir    = '/glade/scratch/lenssen/data_for_jonah/HadCRUT5/'"
   ]
  },
  {
   "cell_type": "markdown",
   "id": "b92f5723-4ea1-47b2-88cf-652e978c8afe",
   "metadata": {},
   "source": [
    "#### Collect GISTEMP 5x5 file paths."
   ]
  },
  {
   "cell_type": "code",
   "execution_count": 9,
   "id": "c1f6559b-8856-48c7-9757-2554036c9787",
   "metadata": {},
   "outputs": [],
   "source": [
    "gistemp_5x5_files = glob.glob('%s/*.nc' % gistemp_5x5_dir)\n",
    "gistemp_5x5_files.sort()"
   ]
  },
  {
   "cell_type": "markdown",
   "id": "64c8fb55-5129-4ab7-9dca-3f14247baa74",
   "metadata": {},
   "source": [
    "#### Collect HadCRUT5 file paths."
   ]
  },
  {
   "cell_type": "code",
   "execution_count": 12,
   "id": "dfd20196-a9a1-44e4-b014-aaee3e1ac8b4",
   "metadata": {},
   "outputs": [],
   "source": [
    "hadcrut5_files = glob.glob('%s/*.nc' % hadcrut5_dir)\n",
    "hadcrut5_files.sort()"
   ]
  },
  {
   "cell_type": "code",
   "execution_count": 4,
   "id": "93923c54-6836-43c2-867d-1bada4ced7de",
   "metadata": {},
   "outputs": [],
   "source": [
    "# For regridding to 5x5 deg resolution.\n",
    "latitude_bnds  = np.arange(-87.5,88,5)\n",
    "longitude_bnds = np.arange(-177.5,178,5)"
   ]
  },
  {
   "cell_type": "markdown",
   "id": "b3cfe0ac-40c3-4739-bd4c-ceb1f47c156c",
   "metadata": {},
   "source": [
    "### Process time series into unforced trends as a function of trend duration"
   ]
  },
  {
   "cell_type": "markdown",
   "id": "120a9157-54f2-4038-8fb9-e1428ee0371e",
   "metadata": {},
   "source": [
    "Using code from:  \n",
    "\n",
    "trend_uncertainty/PIC_trend_preproc.ipynb"
   ]
  },
  {
   "cell_type": "markdown",
   "id": "61854763-36ab-48f7-b297-e0b8cb1c371b",
   "metadata": {},
   "source": [
    "__Define functions:__"
   ]
  },
  {
   "cell_type": "code",
   "execution_count": 326,
   "id": "6a6a3b04-10ba-43a5-bc7c-22bdd1728cbd",
   "metadata": {},
   "outputs": [],
   "source": [
    "# need a wrapper function because you can't groupby multiple dimensions\n",
    "def gettrends_wrapper2(dataarray,dim,sel_dim='time.year'):\n",
    "    \n",
    "    dataarray[dim] = dataarray[sel_dim]\n",
    "\n",
    "    # return dataarray.polyfit(dim=dim,deg=1)['polyfit_coefficients'].sel(degree=1)\n",
    "    \n",
    "    try:\n",
    "        return dataarray.polyfit(dim=dim,deg=1)['polyfit_coefficients'].sel(degree=1)\n",
    "    except ValueError: # Try and catch nan issues and handle them.\n",
    "        print('ERROR:')\n",
    "        print(dim)\n",
    "        print(dataarray)\n",
    "        print(dataarray.polyfit(dim=dim,deg=1))\n",
    "        print(dataarray.polyfit(dim=dim,deg=1)['polyfit_coefficients'])\n",
    "        print(dataarray.polyfit(dim=dim,deg=1)['polyfit_coefficients'].sel(degree=1))\n",
    "        return np.nan\n",
    "\n",
    "def calc_slopes_spatial_ann2(data,_startyr,_endyr,wrapper_func):\n",
    "    '''\n",
    "    Separate function for the annual trends because I was dumb.\n",
    "    '''\n",
    "    \n",
    "    tsel = data.sel(year=slice(None,_endyr))\n",
    "    \n",
    "    # Test for regions with nans and mask them. polyfit breaks when there are less than 3 non-nans.\n",
    "    nan_mask = ((~np.isnan(tsel)).sum(dim='year') > 2)\n",
    "    tsel = tsel.where(nan_mask,np.nan)\n",
    "    \n",
    "    slopes_endyr_ann = wrapper_func(tsel,dim='year',sel_dim='year').drop('degree')\n",
    "\n",
    "    # slopes_endyr = xr.concat([slopes_endyr,slopes_endyr_ann.assign_coords({'month':13}).expand_dims('month',axis=-1)],dim='month')\n",
    "\n",
    "    slopes_endyr_ann['startyear']  = int(_startyr)\n",
    "    slopes_endyr_ann['duration'] = len(tsel.year)\n",
    "    \n",
    "    return slopes_endyr_ann\n",
    "\n",
    "\n",
    "def calc_trends_noload(data:xr.DataArray,var:str,startyear:str,endyears:np.ndarray,\n",
    "                       wrapper_func,calc_slopes_func):\n",
    "    \n",
    "    '''\n",
    "    Takes data. Computes trends. Quietly and efficiently :)\n",
    "    '''\n",
    "    \n",
    "    slopes_by_dur = []\n",
    "    \n",
    "    for _endyr in endyears: # Dasking here? Yessir.\n",
    "\n",
    "        slopes_by_dur.append(calc_slopes_func(data=data,_startyr=int(startyear),_endyr=_endyr,wrapper_func=wrapper_func))\n",
    "\n",
    "    forced_olrslopes_monthly = xr.concat(slopes_by_dur,dim='duration')\n",
    "    forced_olrslopes_monthly.name=var\n",
    "    \n",
    "    return forced_olrslopes_monthly"
   ]
  },
  {
   "cell_type": "code",
   "execution_count": 41,
   "id": "9af302b5-dd65-4799-8631-6feef288ba26",
   "metadata": {},
   "outputs": [],
   "source": [
    "# Arbitrary function to apply\n",
    "\n",
    "def gistemp_5x5_tselect(da:xr.DataArray):\n",
    "    \n",
    "    return da.sel(time_2=slice(1960,None)).rename({'longitude':'lon','latitude':'lat'})"
   ]
  },
  {
   "cell_type": "markdown",
   "id": "d47055bb-f9c7-439e-bc71-a57399e050ec",
   "metadata": {},
   "source": [
    "### For the observational uncertainty products, there are far more files to open. Need to pivot to another approach."
   ]
  },
  {
   "cell_type": "markdown",
   "id": "db61905b-e8b6-45e1-aee3-6f81b4bd246e",
   "metadata": {},
   "source": [
    "#### GISTEMP_5x5"
   ]
  },
  {
   "cell_type": "code",
   "execution_count": 328,
   "id": "544e16a3-15d9-4179-b942-b5541fcae041",
   "metadata": {
    "tags": []
   },
   "outputs": [
    {
     "name": "stdout",
     "output_type": "stream",
     "text": [
      "023\n"
     ]
    },
    {
     "name": "stderr",
     "output_type": "stream",
     "text": [
      "/glade/work/jonahshaw/miniconda3/envs/cheydask/lib/python3.7/site-packages/dask/array/numpy_compat.py:41: RuntimeWarning: invalid value encountered in true_divide\n",
      "  x = np.divide(x1, x2, out)\n"
     ]
    },
    {
     "name": "stdout",
     "output_type": "stream",
     "text": [
      "/glade/work/jonahshaw/trend_uncertainty/nathan/OBS_LENS/GISTEMP_5x5//ensembleChunk_5x5_023.5x5degSpatialTrends.196001-202012.nc\n",
      "024\n"
     ]
    },
    {
     "name": "stderr",
     "output_type": "stream",
     "text": [
      "/glade/work/jonahshaw/miniconda3/envs/cheydask/lib/python3.7/site-packages/dask/array/numpy_compat.py:41: RuntimeWarning: invalid value encountered in true_divide\n",
      "  x = np.divide(x1, x2, out)\n"
     ]
    },
    {
     "name": "stdout",
     "output_type": "stream",
     "text": [
      "/glade/work/jonahshaw/trend_uncertainty/nathan/OBS_LENS/GISTEMP_5x5//ensembleChunk_5x5_024.5x5degSpatialTrends.196001-202012.nc\n",
      "025\n"
     ]
    },
    {
     "name": "stderr",
     "output_type": "stream",
     "text": [
      "/glade/work/jonahshaw/miniconda3/envs/cheydask/lib/python3.7/site-packages/dask/array/numpy_compat.py:41: RuntimeWarning: invalid value encountered in true_divide\n",
      "  x = np.divide(x1, x2, out)\n"
     ]
    },
    {
     "name": "stdout",
     "output_type": "stream",
     "text": [
      "/glade/work/jonahshaw/trend_uncertainty/nathan/OBS_LENS/GISTEMP_5x5//ensembleChunk_5x5_025.5x5degSpatialTrends.196001-202012.nc\n",
      "026\n"
     ]
    },
    {
     "name": "stderr",
     "output_type": "stream",
     "text": [
      "/glade/work/jonahshaw/miniconda3/envs/cheydask/lib/python3.7/site-packages/dask/array/numpy_compat.py:41: RuntimeWarning: invalid value encountered in true_divide\n",
      "  x = np.divide(x1, x2, out)\n"
     ]
    },
    {
     "name": "stdout",
     "output_type": "stream",
     "text": [
      "/glade/work/jonahshaw/trend_uncertainty/nathan/OBS_LENS/GISTEMP_5x5//ensembleChunk_5x5_026.5x5degSpatialTrends.196001-202012.nc\n",
      "027\n"
     ]
    },
    {
     "name": "stderr",
     "output_type": "stream",
     "text": [
      "/glade/work/jonahshaw/miniconda3/envs/cheydask/lib/python3.7/site-packages/dask/array/numpy_compat.py:41: RuntimeWarning: invalid value encountered in true_divide\n",
      "  x = np.divide(x1, x2, out)\n"
     ]
    },
    {
     "name": "stdout",
     "output_type": "stream",
     "text": [
      "/glade/work/jonahshaw/trend_uncertainty/nathan/OBS_LENS/GISTEMP_5x5//ensembleChunk_5x5_027.5x5degSpatialTrends.196001-202012.nc\n",
      "028\n"
     ]
    },
    {
     "name": "stderr",
     "output_type": "stream",
     "text": [
      "/glade/work/jonahshaw/miniconda3/envs/cheydask/lib/python3.7/site-packages/dask/array/numpy_compat.py:41: RuntimeWarning: invalid value encountered in true_divide\n",
      "  x = np.divide(x1, x2, out)\n"
     ]
    },
    {
     "name": "stdout",
     "output_type": "stream",
     "text": [
      "/glade/work/jonahshaw/trend_uncertainty/nathan/OBS_LENS/GISTEMP_5x5//ensembleChunk_5x5_028.5x5degSpatialTrends.196001-202012.nc\n",
      "029\n"
     ]
    },
    {
     "name": "stderr",
     "output_type": "stream",
     "text": [
      "/glade/work/jonahshaw/miniconda3/envs/cheydask/lib/python3.7/site-packages/dask/array/numpy_compat.py:41: RuntimeWarning: invalid value encountered in true_divide\n",
      "  x = np.divide(x1, x2, out)\n"
     ]
    },
    {
     "name": "stdout",
     "output_type": "stream",
     "text": [
      "/glade/work/jonahshaw/trend_uncertainty/nathan/OBS_LENS/GISTEMP_5x5//ensembleChunk_5x5_029.5x5degSpatialTrends.196001-202012.nc\n",
      "030\n"
     ]
    },
    {
     "name": "stderr",
     "output_type": "stream",
     "text": [
      "/glade/work/jonahshaw/miniconda3/envs/cheydask/lib/python3.7/site-packages/dask/array/numpy_compat.py:41: RuntimeWarning: invalid value encountered in true_divide\n",
      "  x = np.divide(x1, x2, out)\n"
     ]
    },
    {
     "name": "stdout",
     "output_type": "stream",
     "text": [
      "/glade/work/jonahshaw/trend_uncertainty/nathan/OBS_LENS/GISTEMP_5x5//ensembleChunk_5x5_030.5x5degSpatialTrends.196001-202012.nc\n",
      "031\n"
     ]
    },
    {
     "name": "stderr",
     "output_type": "stream",
     "text": [
      "/glade/work/jonahshaw/miniconda3/envs/cheydask/lib/python3.7/site-packages/dask/array/numpy_compat.py:41: RuntimeWarning: invalid value encountered in true_divide\n",
      "  x = np.divide(x1, x2, out)\n"
     ]
    },
    {
     "name": "stdout",
     "output_type": "stream",
     "text": [
      "/glade/work/jonahshaw/trend_uncertainty/nathan/OBS_LENS/GISTEMP_5x5//ensembleChunk_5x5_031.5x5degSpatialTrends.196001-202012.nc\n",
      "032\n"
     ]
    },
    {
     "name": "stderr",
     "output_type": "stream",
     "text": [
      "/glade/work/jonahshaw/miniconda3/envs/cheydask/lib/python3.7/site-packages/dask/array/numpy_compat.py:41: RuntimeWarning: invalid value encountered in true_divide\n",
      "  x = np.divide(x1, x2, out)\n"
     ]
    },
    {
     "name": "stdout",
     "output_type": "stream",
     "text": [
      "/glade/work/jonahshaw/trend_uncertainty/nathan/OBS_LENS/GISTEMP_5x5//ensembleChunk_5x5_032.5x5degSpatialTrends.196001-202012.nc\n",
      "033\n"
     ]
    },
    {
     "name": "stderr",
     "output_type": "stream",
     "text": [
      "/glade/work/jonahshaw/miniconda3/envs/cheydask/lib/python3.7/site-packages/dask/array/numpy_compat.py:41: RuntimeWarning: invalid value encountered in true_divide\n",
      "  x = np.divide(x1, x2, out)\n"
     ]
    },
    {
     "name": "stdout",
     "output_type": "stream",
     "text": [
      "/glade/work/jonahshaw/trend_uncertainty/nathan/OBS_LENS/GISTEMP_5x5//ensembleChunk_5x5_033.5x5degSpatialTrends.196001-202012.nc\n",
      "034\n"
     ]
    },
    {
     "name": "stderr",
     "output_type": "stream",
     "text": [
      "/glade/work/jonahshaw/miniconda3/envs/cheydask/lib/python3.7/site-packages/dask/array/numpy_compat.py:41: RuntimeWarning: invalid value encountered in true_divide\n",
      "  x = np.divide(x1, x2, out)\n"
     ]
    },
    {
     "name": "stdout",
     "output_type": "stream",
     "text": [
      "/glade/work/jonahshaw/trend_uncertainty/nathan/OBS_LENS/GISTEMP_5x5//ensembleChunk_5x5_034.5x5degSpatialTrends.196001-202012.nc\n",
      "035\n"
     ]
    },
    {
     "name": "stderr",
     "output_type": "stream",
     "text": [
      "/glade/work/jonahshaw/miniconda3/envs/cheydask/lib/python3.7/site-packages/dask/array/numpy_compat.py:41: RuntimeWarning: invalid value encountered in true_divide\n",
      "  x = np.divide(x1, x2, out)\n"
     ]
    },
    {
     "name": "stdout",
     "output_type": "stream",
     "text": [
      "/glade/work/jonahshaw/trend_uncertainty/nathan/OBS_LENS/GISTEMP_5x5//ensembleChunk_5x5_035.5x5degSpatialTrends.196001-202012.nc\n",
      "036\n"
     ]
    },
    {
     "name": "stderr",
     "output_type": "stream",
     "text": [
      "/glade/work/jonahshaw/miniconda3/envs/cheydask/lib/python3.7/site-packages/dask/array/numpy_compat.py:41: RuntimeWarning: invalid value encountered in true_divide\n",
      "  x = np.divide(x1, x2, out)\n"
     ]
    },
    {
     "name": "stdout",
     "output_type": "stream",
     "text": [
      "/glade/work/jonahshaw/trend_uncertainty/nathan/OBS_LENS/GISTEMP_5x5//ensembleChunk_5x5_036.5x5degSpatialTrends.196001-202012.nc\n",
      "037\n"
     ]
    },
    {
     "name": "stderr",
     "output_type": "stream",
     "text": [
      "/glade/work/jonahshaw/miniconda3/envs/cheydask/lib/python3.7/site-packages/dask/array/numpy_compat.py:41: RuntimeWarning: invalid value encountered in true_divide\n",
      "  x = np.divide(x1, x2, out)\n"
     ]
    },
    {
     "name": "stdout",
     "output_type": "stream",
     "text": [
      "/glade/work/jonahshaw/trend_uncertainty/nathan/OBS_LENS/GISTEMP_5x5//ensembleChunk_5x5_037.5x5degSpatialTrends.196001-202012.nc\n",
      "038\n"
     ]
    },
    {
     "name": "stderr",
     "output_type": "stream",
     "text": [
      "/glade/work/jonahshaw/miniconda3/envs/cheydask/lib/python3.7/site-packages/dask/array/numpy_compat.py:41: RuntimeWarning: invalid value encountered in true_divide\n",
      "  x = np.divide(x1, x2, out)\n"
     ]
    },
    {
     "name": "stdout",
     "output_type": "stream",
     "text": [
      "/glade/work/jonahshaw/trend_uncertainty/nathan/OBS_LENS/GISTEMP_5x5//ensembleChunk_5x5_038.5x5degSpatialTrends.196001-202012.nc\n",
      "039\n"
     ]
    },
    {
     "name": "stderr",
     "output_type": "stream",
     "text": [
      "/glade/work/jonahshaw/miniconda3/envs/cheydask/lib/python3.7/site-packages/dask/array/numpy_compat.py:41: RuntimeWarning: invalid value encountered in true_divide\n",
      "  x = np.divide(x1, x2, out)\n"
     ]
    },
    {
     "name": "stdout",
     "output_type": "stream",
     "text": [
      "/glade/work/jonahshaw/trend_uncertainty/nathan/OBS_LENS/GISTEMP_5x5//ensembleChunk_5x5_039.5x5degSpatialTrends.196001-202012.nc\n",
      "040\n"
     ]
    },
    {
     "name": "stderr",
     "output_type": "stream",
     "text": [
      "/glade/work/jonahshaw/miniconda3/envs/cheydask/lib/python3.7/site-packages/dask/array/numpy_compat.py:41: RuntimeWarning: invalid value encountered in true_divide\n",
      "  x = np.divide(x1, x2, out)\n"
     ]
    },
    {
     "name": "stdout",
     "output_type": "stream",
     "text": [
      "/glade/work/jonahshaw/trend_uncertainty/nathan/OBS_LENS/GISTEMP_5x5//ensembleChunk_5x5_040.5x5degSpatialTrends.196001-202012.nc\n",
      "041\n"
     ]
    },
    {
     "name": "stderr",
     "output_type": "stream",
     "text": [
      "/glade/work/jonahshaw/miniconda3/envs/cheydask/lib/python3.7/site-packages/dask/array/numpy_compat.py:41: RuntimeWarning: invalid value encountered in true_divide\n",
      "  x = np.divide(x1, x2, out)\n"
     ]
    },
    {
     "name": "stdout",
     "output_type": "stream",
     "text": [
      "/glade/work/jonahshaw/trend_uncertainty/nathan/OBS_LENS/GISTEMP_5x5//ensembleChunk_5x5_041.5x5degSpatialTrends.196001-202012.nc\n",
      "042\n"
     ]
    },
    {
     "name": "stderr",
     "output_type": "stream",
     "text": [
      "/glade/work/jonahshaw/miniconda3/envs/cheydask/lib/python3.7/site-packages/dask/array/numpy_compat.py:41: RuntimeWarning: invalid value encountered in true_divide\n",
      "  x = np.divide(x1, x2, out)\n"
     ]
    },
    {
     "name": "stdout",
     "output_type": "stream",
     "text": [
      "/glade/work/jonahshaw/trend_uncertainty/nathan/OBS_LENS/GISTEMP_5x5//ensembleChunk_5x5_042.5x5degSpatialTrends.196001-202012.nc\n",
      "043\n"
     ]
    },
    {
     "name": "stderr",
     "output_type": "stream",
     "text": [
      "/glade/work/jonahshaw/miniconda3/envs/cheydask/lib/python3.7/site-packages/dask/array/numpy_compat.py:41: RuntimeWarning: invalid value encountered in true_divide\n",
      "  x = np.divide(x1, x2, out)\n"
     ]
    },
    {
     "name": "stdout",
     "output_type": "stream",
     "text": [
      "/glade/work/jonahshaw/trend_uncertainty/nathan/OBS_LENS/GISTEMP_5x5//ensembleChunk_5x5_043.5x5degSpatialTrends.196001-202012.nc\n",
      "044\n"
     ]
    },
    {
     "name": "stderr",
     "output_type": "stream",
     "text": [
      "/glade/work/jonahshaw/miniconda3/envs/cheydask/lib/python3.7/site-packages/dask/array/numpy_compat.py:41: RuntimeWarning: invalid value encountered in true_divide\n",
      "  x = np.divide(x1, x2, out)\n"
     ]
    },
    {
     "name": "stdout",
     "output_type": "stream",
     "text": [
      "/glade/work/jonahshaw/trend_uncertainty/nathan/OBS_LENS/GISTEMP_5x5//ensembleChunk_5x5_044.5x5degSpatialTrends.196001-202012.nc\n",
      "045\n"
     ]
    },
    {
     "name": "stderr",
     "output_type": "stream",
     "text": [
      "/glade/work/jonahshaw/miniconda3/envs/cheydask/lib/python3.7/site-packages/dask/array/numpy_compat.py:41: RuntimeWarning: invalid value encountered in true_divide\n",
      "  x = np.divide(x1, x2, out)\n"
     ]
    },
    {
     "name": "stdout",
     "output_type": "stream",
     "text": [
      "/glade/work/jonahshaw/trend_uncertainty/nathan/OBS_LENS/GISTEMP_5x5//ensembleChunk_5x5_045.5x5degSpatialTrends.196001-202012.nc\n",
      "046\n"
     ]
    },
    {
     "name": "stderr",
     "output_type": "stream",
     "text": [
      "/glade/work/jonahshaw/miniconda3/envs/cheydask/lib/python3.7/site-packages/dask/array/numpy_compat.py:41: RuntimeWarning: invalid value encountered in true_divide\n",
      "  x = np.divide(x1, x2, out)\n"
     ]
    },
    {
     "name": "stdout",
     "output_type": "stream",
     "text": [
      "/glade/work/jonahshaw/trend_uncertainty/nathan/OBS_LENS/GISTEMP_5x5//ensembleChunk_5x5_046.5x5degSpatialTrends.196001-202012.nc\n",
      "047\n"
     ]
    },
    {
     "name": "stderr",
     "output_type": "stream",
     "text": [
      "/glade/work/jonahshaw/miniconda3/envs/cheydask/lib/python3.7/site-packages/dask/array/numpy_compat.py:41: RuntimeWarning: invalid value encountered in true_divide\n",
      "  x = np.divide(x1, x2, out)\n"
     ]
    },
    {
     "name": "stdout",
     "output_type": "stream",
     "text": [
      "/glade/work/jonahshaw/trend_uncertainty/nathan/OBS_LENS/GISTEMP_5x5//ensembleChunk_5x5_047.5x5degSpatialTrends.196001-202012.nc\n",
      "048\n"
     ]
    },
    {
     "name": "stderr",
     "output_type": "stream",
     "text": [
      "/glade/work/jonahshaw/miniconda3/envs/cheydask/lib/python3.7/site-packages/dask/array/numpy_compat.py:41: RuntimeWarning: invalid value encountered in true_divide\n",
      "  x = np.divide(x1, x2, out)\n"
     ]
    },
    {
     "name": "stdout",
     "output_type": "stream",
     "text": [
      "/glade/work/jonahshaw/trend_uncertainty/nathan/OBS_LENS/GISTEMP_5x5//ensembleChunk_5x5_048.5x5degSpatialTrends.196001-202012.nc\n",
      "049\n"
     ]
    },
    {
     "name": "stderr",
     "output_type": "stream",
     "text": [
      "/glade/work/jonahshaw/miniconda3/envs/cheydask/lib/python3.7/site-packages/dask/array/numpy_compat.py:41: RuntimeWarning: invalid value encountered in true_divide\n",
      "  x = np.divide(x1, x2, out)\n"
     ]
    },
    {
     "name": "stdout",
     "output_type": "stream",
     "text": [
      "/glade/work/jonahshaw/trend_uncertainty/nathan/OBS_LENS/GISTEMP_5x5//ensembleChunk_5x5_049.5x5degSpatialTrends.196001-202012.nc\n",
      "050\n"
     ]
    },
    {
     "name": "stderr",
     "output_type": "stream",
     "text": [
      "/glade/work/jonahshaw/miniconda3/envs/cheydask/lib/python3.7/site-packages/dask/array/numpy_compat.py:41: RuntimeWarning: invalid value encountered in true_divide\n",
      "  x = np.divide(x1, x2, out)\n"
     ]
    },
    {
     "name": "stdout",
     "output_type": "stream",
     "text": [
      "/glade/work/jonahshaw/trend_uncertainty/nathan/OBS_LENS/GISTEMP_5x5//ensembleChunk_5x5_050.5x5degSpatialTrends.196001-202012.nc\n",
      "051\n"
     ]
    },
    {
     "name": "stderr",
     "output_type": "stream",
     "text": [
      "/glade/work/jonahshaw/miniconda3/envs/cheydask/lib/python3.7/site-packages/dask/array/numpy_compat.py:41: RuntimeWarning: invalid value encountered in true_divide\n",
      "  x = np.divide(x1, x2, out)\n"
     ]
    },
    {
     "name": "stdout",
     "output_type": "stream",
     "text": [
      "/glade/work/jonahshaw/trend_uncertainty/nathan/OBS_LENS/GISTEMP_5x5//ensembleChunk_5x5_051.5x5degSpatialTrends.196001-202012.nc\n",
      "052\n"
     ]
    },
    {
     "name": "stderr",
     "output_type": "stream",
     "text": [
      "/glade/work/jonahshaw/miniconda3/envs/cheydask/lib/python3.7/site-packages/dask/array/numpy_compat.py:41: RuntimeWarning: invalid value encountered in true_divide\n",
      "  x = np.divide(x1, x2, out)\n"
     ]
    },
    {
     "name": "stdout",
     "output_type": "stream",
     "text": [
      "/glade/work/jonahshaw/trend_uncertainty/nathan/OBS_LENS/GISTEMP_5x5//ensembleChunk_5x5_052.5x5degSpatialTrends.196001-202012.nc\n",
      "053\n"
     ]
    },
    {
     "name": "stderr",
     "output_type": "stream",
     "text": [
      "/glade/work/jonahshaw/miniconda3/envs/cheydask/lib/python3.7/site-packages/dask/array/numpy_compat.py:41: RuntimeWarning: invalid value encountered in true_divide\n",
      "  x = np.divide(x1, x2, out)\n"
     ]
    },
    {
     "name": "stdout",
     "output_type": "stream",
     "text": [
      "/glade/work/jonahshaw/trend_uncertainty/nathan/OBS_LENS/GISTEMP_5x5//ensembleChunk_5x5_053.5x5degSpatialTrends.196001-202012.nc\n",
      "054\n"
     ]
    },
    {
     "name": "stderr",
     "output_type": "stream",
     "text": [
      "/glade/work/jonahshaw/miniconda3/envs/cheydask/lib/python3.7/site-packages/dask/array/numpy_compat.py:41: RuntimeWarning: invalid value encountered in true_divide\n",
      "  x = np.divide(x1, x2, out)\n"
     ]
    },
    {
     "name": "stdout",
     "output_type": "stream",
     "text": [
      "/glade/work/jonahshaw/trend_uncertainty/nathan/OBS_LENS/GISTEMP_5x5//ensembleChunk_5x5_054.5x5degSpatialTrends.196001-202012.nc\n",
      "055\n"
     ]
    },
    {
     "name": "stderr",
     "output_type": "stream",
     "text": [
      "/glade/work/jonahshaw/miniconda3/envs/cheydask/lib/python3.7/site-packages/dask/array/numpy_compat.py:41: RuntimeWarning: invalid value encountered in true_divide\n",
      "  x = np.divide(x1, x2, out)\n"
     ]
    },
    {
     "name": "stdout",
     "output_type": "stream",
     "text": [
      "/glade/work/jonahshaw/trend_uncertainty/nathan/OBS_LENS/GISTEMP_5x5//ensembleChunk_5x5_055.5x5degSpatialTrends.196001-202012.nc\n",
      "056\n"
     ]
    },
    {
     "name": "stderr",
     "output_type": "stream",
     "text": [
      "/glade/work/jonahshaw/miniconda3/envs/cheydask/lib/python3.7/site-packages/dask/array/numpy_compat.py:41: RuntimeWarning: invalid value encountered in true_divide\n",
      "  x = np.divide(x1, x2, out)\n"
     ]
    },
    {
     "name": "stdout",
     "output_type": "stream",
     "text": [
      "/glade/work/jonahshaw/trend_uncertainty/nathan/OBS_LENS/GISTEMP_5x5//ensembleChunk_5x5_056.5x5degSpatialTrends.196001-202012.nc\n",
      "057\n"
     ]
    },
    {
     "name": "stderr",
     "output_type": "stream",
     "text": [
      "/glade/work/jonahshaw/miniconda3/envs/cheydask/lib/python3.7/site-packages/dask/array/numpy_compat.py:41: RuntimeWarning: invalid value encountered in true_divide\n",
      "  x = np.divide(x1, x2, out)\n"
     ]
    },
    {
     "name": "stdout",
     "output_type": "stream",
     "text": [
      "/glade/work/jonahshaw/trend_uncertainty/nathan/OBS_LENS/GISTEMP_5x5//ensembleChunk_5x5_057.5x5degSpatialTrends.196001-202012.nc\n",
      "058\n"
     ]
    },
    {
     "name": "stderr",
     "output_type": "stream",
     "text": [
      "/glade/work/jonahshaw/miniconda3/envs/cheydask/lib/python3.7/site-packages/dask/array/numpy_compat.py:41: RuntimeWarning: invalid value encountered in true_divide\n",
      "  x = np.divide(x1, x2, out)\n"
     ]
    },
    {
     "name": "stdout",
     "output_type": "stream",
     "text": [
      "/glade/work/jonahshaw/trend_uncertainty/nathan/OBS_LENS/GISTEMP_5x5//ensembleChunk_5x5_058.5x5degSpatialTrends.196001-202012.nc\n",
      "059\n"
     ]
    },
    {
     "name": "stderr",
     "output_type": "stream",
     "text": [
      "/glade/work/jonahshaw/miniconda3/envs/cheydask/lib/python3.7/site-packages/dask/array/numpy_compat.py:41: RuntimeWarning: invalid value encountered in true_divide\n",
      "  x = np.divide(x1, x2, out)\n"
     ]
    },
    {
     "name": "stdout",
     "output_type": "stream",
     "text": [
      "/glade/work/jonahshaw/trend_uncertainty/nathan/OBS_LENS/GISTEMP_5x5//ensembleChunk_5x5_059.5x5degSpatialTrends.196001-202012.nc\n",
      "060\n"
     ]
    },
    {
     "name": "stderr",
     "output_type": "stream",
     "text": [
      "/glade/work/jonahshaw/miniconda3/envs/cheydask/lib/python3.7/site-packages/dask/array/numpy_compat.py:41: RuntimeWarning: invalid value encountered in true_divide\n",
      "  x = np.divide(x1, x2, out)\n"
     ]
    },
    {
     "name": "stdout",
     "output_type": "stream",
     "text": [
      "/glade/work/jonahshaw/trend_uncertainty/nathan/OBS_LENS/GISTEMP_5x5//ensembleChunk_5x5_060.5x5degSpatialTrends.196001-202012.nc\n",
      "061\n"
     ]
    },
    {
     "name": "stderr",
     "output_type": "stream",
     "text": [
      "/glade/work/jonahshaw/miniconda3/envs/cheydask/lib/python3.7/site-packages/dask/array/numpy_compat.py:41: RuntimeWarning: invalid value encountered in true_divide\n",
      "  x = np.divide(x1, x2, out)\n"
     ]
    },
    {
     "name": "stdout",
     "output_type": "stream",
     "text": [
      "/glade/work/jonahshaw/trend_uncertainty/nathan/OBS_LENS/GISTEMP_5x5//ensembleChunk_5x5_061.5x5degSpatialTrends.196001-202012.nc\n",
      "062\n"
     ]
    },
    {
     "name": "stderr",
     "output_type": "stream",
     "text": [
      "/glade/work/jonahshaw/miniconda3/envs/cheydask/lib/python3.7/site-packages/dask/array/numpy_compat.py:41: RuntimeWarning: invalid value encountered in true_divide\n",
      "  x = np.divide(x1, x2, out)\n"
     ]
    },
    {
     "name": "stdout",
     "output_type": "stream",
     "text": [
      "/glade/work/jonahshaw/trend_uncertainty/nathan/OBS_LENS/GISTEMP_5x5//ensembleChunk_5x5_062.5x5degSpatialTrends.196001-202012.nc\n",
      "063\n"
     ]
    },
    {
     "name": "stderr",
     "output_type": "stream",
     "text": [
      "/glade/work/jonahshaw/miniconda3/envs/cheydask/lib/python3.7/site-packages/dask/array/numpy_compat.py:41: RuntimeWarning: invalid value encountered in true_divide\n",
      "  x = np.divide(x1, x2, out)\n"
     ]
    },
    {
     "name": "stdout",
     "output_type": "stream",
     "text": [
      "/glade/work/jonahshaw/trend_uncertainty/nathan/OBS_LENS/GISTEMP_5x5//ensembleChunk_5x5_063.5x5degSpatialTrends.196001-202012.nc\n",
      "064\n"
     ]
    },
    {
     "name": "stderr",
     "output_type": "stream",
     "text": [
      "/glade/work/jonahshaw/miniconda3/envs/cheydask/lib/python3.7/site-packages/dask/array/numpy_compat.py:41: RuntimeWarning: invalid value encountered in true_divide\n",
      "  x = np.divide(x1, x2, out)\n"
     ]
    },
    {
     "name": "stdout",
     "output_type": "stream",
     "text": [
      "/glade/work/jonahshaw/trend_uncertainty/nathan/OBS_LENS/GISTEMP_5x5//ensembleChunk_5x5_064.5x5degSpatialTrends.196001-202012.nc\n",
      "065\n"
     ]
    },
    {
     "name": "stderr",
     "output_type": "stream",
     "text": [
      "/glade/work/jonahshaw/miniconda3/envs/cheydask/lib/python3.7/site-packages/dask/array/numpy_compat.py:41: RuntimeWarning: invalid value encountered in true_divide\n",
      "  x = np.divide(x1, x2, out)\n"
     ]
    },
    {
     "name": "stdout",
     "output_type": "stream",
     "text": [
      "/glade/work/jonahshaw/trend_uncertainty/nathan/OBS_LENS/GISTEMP_5x5//ensembleChunk_5x5_065.5x5degSpatialTrends.196001-202012.nc\n",
      "066\n"
     ]
    },
    {
     "name": "stderr",
     "output_type": "stream",
     "text": [
      "/glade/work/jonahshaw/miniconda3/envs/cheydask/lib/python3.7/site-packages/dask/array/numpy_compat.py:41: RuntimeWarning: invalid value encountered in true_divide\n",
      "  x = np.divide(x1, x2, out)\n"
     ]
    },
    {
     "name": "stdout",
     "output_type": "stream",
     "text": [
      "/glade/work/jonahshaw/trend_uncertainty/nathan/OBS_LENS/GISTEMP_5x5//ensembleChunk_5x5_066.5x5degSpatialTrends.196001-202012.nc\n",
      "067\n"
     ]
    },
    {
     "name": "stderr",
     "output_type": "stream",
     "text": [
      "/glade/work/jonahshaw/miniconda3/envs/cheydask/lib/python3.7/site-packages/dask/array/numpy_compat.py:41: RuntimeWarning: invalid value encountered in true_divide\n",
      "  x = np.divide(x1, x2, out)\n"
     ]
    },
    {
     "name": "stdout",
     "output_type": "stream",
     "text": [
      "/glade/work/jonahshaw/trend_uncertainty/nathan/OBS_LENS/GISTEMP_5x5//ensembleChunk_5x5_067.5x5degSpatialTrends.196001-202012.nc\n",
      "069\n"
     ]
    },
    {
     "name": "stderr",
     "output_type": "stream",
     "text": [
      "/glade/work/jonahshaw/miniconda3/envs/cheydask/lib/python3.7/site-packages/dask/array/numpy_compat.py:41: RuntimeWarning: invalid value encountered in true_divide\n",
      "  x = np.divide(x1, x2, out)\n"
     ]
    },
    {
     "name": "stdout",
     "output_type": "stream",
     "text": [
      "/glade/work/jonahshaw/trend_uncertainty/nathan/OBS_LENS/GISTEMP_5x5//ensembleChunk_5x5_069.5x5degSpatialTrends.196001-202012.nc\n",
      "070\n"
     ]
    },
    {
     "name": "stderr",
     "output_type": "stream",
     "text": [
      "/glade/work/jonahshaw/miniconda3/envs/cheydask/lib/python3.7/site-packages/dask/array/numpy_compat.py:41: RuntimeWarning: invalid value encountered in true_divide\n",
      "  x = np.divide(x1, x2, out)\n"
     ]
    },
    {
     "name": "stdout",
     "output_type": "stream",
     "text": [
      "/glade/work/jonahshaw/trend_uncertainty/nathan/OBS_LENS/GISTEMP_5x5//ensembleChunk_5x5_070.5x5degSpatialTrends.196001-202012.nc\n",
      "071\n"
     ]
    },
    {
     "name": "stderr",
     "output_type": "stream",
     "text": [
      "/glade/work/jonahshaw/miniconda3/envs/cheydask/lib/python3.7/site-packages/dask/array/numpy_compat.py:41: RuntimeWarning: invalid value encountered in true_divide\n",
      "  x = np.divide(x1, x2, out)\n"
     ]
    },
    {
     "name": "stdout",
     "output_type": "stream",
     "text": [
      "/glade/work/jonahshaw/trend_uncertainty/nathan/OBS_LENS/GISTEMP_5x5//ensembleChunk_5x5_071.5x5degSpatialTrends.196001-202012.nc\n",
      "072\n"
     ]
    },
    {
     "name": "stderr",
     "output_type": "stream",
     "text": [
      "/glade/work/jonahshaw/miniconda3/envs/cheydask/lib/python3.7/site-packages/dask/array/numpy_compat.py:41: RuntimeWarning: invalid value encountered in true_divide\n",
      "  x = np.divide(x1, x2, out)\n"
     ]
    },
    {
     "name": "stdout",
     "output_type": "stream",
     "text": [
      "/glade/work/jonahshaw/trend_uncertainty/nathan/OBS_LENS/GISTEMP_5x5//ensembleChunk_5x5_072.5x5degSpatialTrends.196001-202012.nc\n",
      "073\n"
     ]
    },
    {
     "name": "stderr",
     "output_type": "stream",
     "text": [
      "/glade/work/jonahshaw/miniconda3/envs/cheydask/lib/python3.7/site-packages/dask/array/numpy_compat.py:41: RuntimeWarning: invalid value encountered in true_divide\n",
      "  x = np.divide(x1, x2, out)\n"
     ]
    },
    {
     "name": "stdout",
     "output_type": "stream",
     "text": [
      "/glade/work/jonahshaw/trend_uncertainty/nathan/OBS_LENS/GISTEMP_5x5//ensembleChunk_5x5_073.5x5degSpatialTrends.196001-202012.nc\n",
      "074\n"
     ]
    },
    {
     "name": "stderr",
     "output_type": "stream",
     "text": [
      "/glade/work/jonahshaw/miniconda3/envs/cheydask/lib/python3.7/site-packages/dask/array/numpy_compat.py:41: RuntimeWarning: invalid value encountered in true_divide\n",
      "  x = np.divide(x1, x2, out)\n"
     ]
    },
    {
     "name": "stdout",
     "output_type": "stream",
     "text": [
      "/glade/work/jonahshaw/trend_uncertainty/nathan/OBS_LENS/GISTEMP_5x5//ensembleChunk_5x5_074.5x5degSpatialTrends.196001-202012.nc\n",
      "075\n"
     ]
    },
    {
     "name": "stderr",
     "output_type": "stream",
     "text": [
      "/glade/work/jonahshaw/miniconda3/envs/cheydask/lib/python3.7/site-packages/dask/array/numpy_compat.py:41: RuntimeWarning: invalid value encountered in true_divide\n",
      "  x = np.divide(x1, x2, out)\n"
     ]
    },
    {
     "name": "stdout",
     "output_type": "stream",
     "text": [
      "/glade/work/jonahshaw/trend_uncertainty/nathan/OBS_LENS/GISTEMP_5x5//ensembleChunk_5x5_075.5x5degSpatialTrends.196001-202012.nc\n",
      "076\n"
     ]
    },
    {
     "name": "stderr",
     "output_type": "stream",
     "text": [
      "/glade/work/jonahshaw/miniconda3/envs/cheydask/lib/python3.7/site-packages/dask/array/numpy_compat.py:41: RuntimeWarning: invalid value encountered in true_divide\n",
      "  x = np.divide(x1, x2, out)\n"
     ]
    },
    {
     "name": "stdout",
     "output_type": "stream",
     "text": [
      "/glade/work/jonahshaw/trend_uncertainty/nathan/OBS_LENS/GISTEMP_5x5//ensembleChunk_5x5_076.5x5degSpatialTrends.196001-202012.nc\n",
      "077\n"
     ]
    },
    {
     "name": "stderr",
     "output_type": "stream",
     "text": [
      "/glade/work/jonahshaw/miniconda3/envs/cheydask/lib/python3.7/site-packages/dask/array/numpy_compat.py:41: RuntimeWarning: invalid value encountered in true_divide\n",
      "  x = np.divide(x1, x2, out)\n"
     ]
    },
    {
     "name": "stdout",
     "output_type": "stream",
     "text": [
      "/glade/work/jonahshaw/trend_uncertainty/nathan/OBS_LENS/GISTEMP_5x5//ensembleChunk_5x5_077.5x5degSpatialTrends.196001-202012.nc\n",
      "078\n"
     ]
    },
    {
     "name": "stderr",
     "output_type": "stream",
     "text": [
      "/glade/work/jonahshaw/miniconda3/envs/cheydask/lib/python3.7/site-packages/dask/array/numpy_compat.py:41: RuntimeWarning: invalid value encountered in true_divide\n",
      "  x = np.divide(x1, x2, out)\n"
     ]
    },
    {
     "name": "stdout",
     "output_type": "stream",
     "text": [
      "/glade/work/jonahshaw/trend_uncertainty/nathan/OBS_LENS/GISTEMP_5x5//ensembleChunk_5x5_078.5x5degSpatialTrends.196001-202012.nc\n",
      "079\n"
     ]
    },
    {
     "name": "stderr",
     "output_type": "stream",
     "text": [
      "/glade/work/jonahshaw/miniconda3/envs/cheydask/lib/python3.7/site-packages/dask/array/numpy_compat.py:41: RuntimeWarning: invalid value encountered in true_divide\n",
      "  x = np.divide(x1, x2, out)\n"
     ]
    },
    {
     "name": "stdout",
     "output_type": "stream",
     "text": [
      "/glade/work/jonahshaw/trend_uncertainty/nathan/OBS_LENS/GISTEMP_5x5//ensembleChunk_5x5_079.5x5degSpatialTrends.196001-202012.nc\n",
      "080\n"
     ]
    },
    {
     "name": "stderr",
     "output_type": "stream",
     "text": [
      "/glade/work/jonahshaw/miniconda3/envs/cheydask/lib/python3.7/site-packages/dask/array/numpy_compat.py:41: RuntimeWarning: invalid value encountered in true_divide\n",
      "  x = np.divide(x1, x2, out)\n"
     ]
    },
    {
     "name": "stdout",
     "output_type": "stream",
     "text": [
      "/glade/work/jonahshaw/trend_uncertainty/nathan/OBS_LENS/GISTEMP_5x5//ensembleChunk_5x5_080.5x5degSpatialTrends.196001-202012.nc\n",
      "081\n"
     ]
    },
    {
     "name": "stderr",
     "output_type": "stream",
     "text": [
      "/glade/work/jonahshaw/miniconda3/envs/cheydask/lib/python3.7/site-packages/dask/array/numpy_compat.py:41: RuntimeWarning: invalid value encountered in true_divide\n",
      "  x = np.divide(x1, x2, out)\n"
     ]
    },
    {
     "name": "stdout",
     "output_type": "stream",
     "text": [
      "/glade/work/jonahshaw/trend_uncertainty/nathan/OBS_LENS/GISTEMP_5x5//ensembleChunk_5x5_081.5x5degSpatialTrends.196001-202012.nc\n",
      "082\n"
     ]
    },
    {
     "name": "stderr",
     "output_type": "stream",
     "text": [
      "/glade/work/jonahshaw/miniconda3/envs/cheydask/lib/python3.7/site-packages/dask/array/numpy_compat.py:41: RuntimeWarning: invalid value encountered in true_divide\n",
      "  x = np.divide(x1, x2, out)\n"
     ]
    },
    {
     "name": "stdout",
     "output_type": "stream",
     "text": [
      "/glade/work/jonahshaw/trend_uncertainty/nathan/OBS_LENS/GISTEMP_5x5//ensembleChunk_5x5_082.5x5degSpatialTrends.196001-202012.nc\n",
      "083\n"
     ]
    },
    {
     "name": "stderr",
     "output_type": "stream",
     "text": [
      "/glade/work/jonahshaw/miniconda3/envs/cheydask/lib/python3.7/site-packages/dask/array/numpy_compat.py:41: RuntimeWarning: invalid value encountered in true_divide\n",
      "  x = np.divide(x1, x2, out)\n"
     ]
    },
    {
     "name": "stdout",
     "output_type": "stream",
     "text": [
      "/glade/work/jonahshaw/trend_uncertainty/nathan/OBS_LENS/GISTEMP_5x5//ensembleChunk_5x5_083.5x5degSpatialTrends.196001-202012.nc\n",
      "084\n"
     ]
    },
    {
     "name": "stderr",
     "output_type": "stream",
     "text": [
      "/glade/work/jonahshaw/miniconda3/envs/cheydask/lib/python3.7/site-packages/dask/array/numpy_compat.py:41: RuntimeWarning: invalid value encountered in true_divide\n",
      "  x = np.divide(x1, x2, out)\n"
     ]
    },
    {
     "name": "stdout",
     "output_type": "stream",
     "text": [
      "/glade/work/jonahshaw/trend_uncertainty/nathan/OBS_LENS/GISTEMP_5x5//ensembleChunk_5x5_084.5x5degSpatialTrends.196001-202012.nc\n",
      "085\n"
     ]
    },
    {
     "name": "stderr",
     "output_type": "stream",
     "text": [
      "/glade/work/jonahshaw/miniconda3/envs/cheydask/lib/python3.7/site-packages/dask/array/numpy_compat.py:41: RuntimeWarning: invalid value encountered in true_divide\n",
      "  x = np.divide(x1, x2, out)\n"
     ]
    },
    {
     "name": "stdout",
     "output_type": "stream",
     "text": [
      "/glade/work/jonahshaw/trend_uncertainty/nathan/OBS_LENS/GISTEMP_5x5//ensembleChunk_5x5_085.5x5degSpatialTrends.196001-202012.nc\n",
      "086\n"
     ]
    },
    {
     "name": "stderr",
     "output_type": "stream",
     "text": [
      "/glade/work/jonahshaw/miniconda3/envs/cheydask/lib/python3.7/site-packages/dask/array/numpy_compat.py:41: RuntimeWarning: invalid value encountered in true_divide\n",
      "  x = np.divide(x1, x2, out)\n"
     ]
    },
    {
     "name": "stdout",
     "output_type": "stream",
     "text": [
      "/glade/work/jonahshaw/trend_uncertainty/nathan/OBS_LENS/GISTEMP_5x5//ensembleChunk_5x5_086.5x5degSpatialTrends.196001-202012.nc\n",
      "087\n"
     ]
    },
    {
     "name": "stderr",
     "output_type": "stream",
     "text": [
      "/glade/work/jonahshaw/miniconda3/envs/cheydask/lib/python3.7/site-packages/dask/array/numpy_compat.py:41: RuntimeWarning: invalid value encountered in true_divide\n",
      "  x = np.divide(x1, x2, out)\n"
     ]
    },
    {
     "name": "stdout",
     "output_type": "stream",
     "text": [
      "/glade/work/jonahshaw/trend_uncertainty/nathan/OBS_LENS/GISTEMP_5x5//ensembleChunk_5x5_087.5x5degSpatialTrends.196001-202012.nc\n",
      "088\n"
     ]
    },
    {
     "name": "stderr",
     "output_type": "stream",
     "text": [
      "/glade/work/jonahshaw/miniconda3/envs/cheydask/lib/python3.7/site-packages/dask/array/numpy_compat.py:41: RuntimeWarning: invalid value encountered in true_divide\n",
      "  x = np.divide(x1, x2, out)\n"
     ]
    },
    {
     "name": "stdout",
     "output_type": "stream",
     "text": [
      "/glade/work/jonahshaw/trend_uncertainty/nathan/OBS_LENS/GISTEMP_5x5//ensembleChunk_5x5_088.5x5degSpatialTrends.196001-202012.nc\n",
      "089\n"
     ]
    },
    {
     "name": "stderr",
     "output_type": "stream",
     "text": [
      "/glade/work/jonahshaw/miniconda3/envs/cheydask/lib/python3.7/site-packages/dask/array/numpy_compat.py:41: RuntimeWarning: invalid value encountered in true_divide\n",
      "  x = np.divide(x1, x2, out)\n"
     ]
    },
    {
     "name": "stdout",
     "output_type": "stream",
     "text": [
      "/glade/work/jonahshaw/trend_uncertainty/nathan/OBS_LENS/GISTEMP_5x5//ensembleChunk_5x5_089.5x5degSpatialTrends.196001-202012.nc\n",
      "090\n"
     ]
    },
    {
     "name": "stderr",
     "output_type": "stream",
     "text": [
      "/glade/work/jonahshaw/miniconda3/envs/cheydask/lib/python3.7/site-packages/dask/array/numpy_compat.py:41: RuntimeWarning: invalid value encountered in true_divide\n",
      "  x = np.divide(x1, x2, out)\n"
     ]
    },
    {
     "name": "stdout",
     "output_type": "stream",
     "text": [
      "/glade/work/jonahshaw/trend_uncertainty/nathan/OBS_LENS/GISTEMP_5x5//ensembleChunk_5x5_090.5x5degSpatialTrends.196001-202012.nc\n",
      "091\n"
     ]
    },
    {
     "name": "stderr",
     "output_type": "stream",
     "text": [
      "/glade/work/jonahshaw/miniconda3/envs/cheydask/lib/python3.7/site-packages/dask/array/numpy_compat.py:41: RuntimeWarning: invalid value encountered in true_divide\n",
      "  x = np.divide(x1, x2, out)\n"
     ]
    },
    {
     "name": "stdout",
     "output_type": "stream",
     "text": [
      "/glade/work/jonahshaw/trend_uncertainty/nathan/OBS_LENS/GISTEMP_5x5//ensembleChunk_5x5_091.5x5degSpatialTrends.196001-202012.nc\n",
      "092\n"
     ]
    },
    {
     "name": "stderr",
     "output_type": "stream",
     "text": [
      "/glade/work/jonahshaw/miniconda3/envs/cheydask/lib/python3.7/site-packages/dask/array/numpy_compat.py:41: RuntimeWarning: invalid value encountered in true_divide\n",
      "  x = np.divide(x1, x2, out)\n"
     ]
    },
    {
     "name": "stdout",
     "output_type": "stream",
     "text": [
      "/glade/work/jonahshaw/trend_uncertainty/nathan/OBS_LENS/GISTEMP_5x5//ensembleChunk_5x5_092.5x5degSpatialTrends.196001-202012.nc\n",
      "093\n"
     ]
    },
    {
     "name": "stderr",
     "output_type": "stream",
     "text": [
      "/glade/work/jonahshaw/miniconda3/envs/cheydask/lib/python3.7/site-packages/dask/array/numpy_compat.py:41: RuntimeWarning: invalid value encountered in true_divide\n",
      "  x = np.divide(x1, x2, out)\n"
     ]
    },
    {
     "name": "stdout",
     "output_type": "stream",
     "text": [
      "/glade/work/jonahshaw/trend_uncertainty/nathan/OBS_LENS/GISTEMP_5x5//ensembleChunk_5x5_093.5x5degSpatialTrends.196001-202012.nc\n",
      "094\n"
     ]
    },
    {
     "name": "stderr",
     "output_type": "stream",
     "text": [
      "/glade/work/jonahshaw/miniconda3/envs/cheydask/lib/python3.7/site-packages/dask/array/numpy_compat.py:41: RuntimeWarning: invalid value encountered in true_divide\n",
      "  x = np.divide(x1, x2, out)\n"
     ]
    },
    {
     "name": "stdout",
     "output_type": "stream",
     "text": [
      "/glade/work/jonahshaw/trend_uncertainty/nathan/OBS_LENS/GISTEMP_5x5//ensembleChunk_5x5_094.5x5degSpatialTrends.196001-202012.nc\n",
      "095\n"
     ]
    },
    {
     "name": "stderr",
     "output_type": "stream",
     "text": [
      "/glade/work/jonahshaw/miniconda3/envs/cheydask/lib/python3.7/site-packages/dask/array/numpy_compat.py:41: RuntimeWarning: invalid value encountered in true_divide\n",
      "  x = np.divide(x1, x2, out)\n"
     ]
    },
    {
     "name": "stdout",
     "output_type": "stream",
     "text": [
      "/glade/work/jonahshaw/trend_uncertainty/nathan/OBS_LENS/GISTEMP_5x5//ensembleChunk_5x5_095.5x5degSpatialTrends.196001-202012.nc\n",
      "096\n"
     ]
    },
    {
     "name": "stderr",
     "output_type": "stream",
     "text": [
      "/glade/work/jonahshaw/miniconda3/envs/cheydask/lib/python3.7/site-packages/dask/array/numpy_compat.py:41: RuntimeWarning: invalid value encountered in true_divide\n",
      "  x = np.divide(x1, x2, out)\n"
     ]
    },
    {
     "name": "stdout",
     "output_type": "stream",
     "text": [
      "/glade/work/jonahshaw/trend_uncertainty/nathan/OBS_LENS/GISTEMP_5x5//ensembleChunk_5x5_096.5x5degSpatialTrends.196001-202012.nc\n",
      "097\n"
     ]
    },
    {
     "name": "stderr",
     "output_type": "stream",
     "text": [
      "/glade/work/jonahshaw/miniconda3/envs/cheydask/lib/python3.7/site-packages/dask/array/numpy_compat.py:41: RuntimeWarning: invalid value encountered in true_divide\n",
      "  x = np.divide(x1, x2, out)\n"
     ]
    },
    {
     "name": "stdout",
     "output_type": "stream",
     "text": [
      "/glade/work/jonahshaw/trend_uncertainty/nathan/OBS_LENS/GISTEMP_5x5//ensembleChunk_5x5_097.5x5degSpatialTrends.196001-202012.nc\n",
      "098\n"
     ]
    },
    {
     "name": "stderr",
     "output_type": "stream",
     "text": [
      "/glade/work/jonahshaw/miniconda3/envs/cheydask/lib/python3.7/site-packages/dask/array/numpy_compat.py:41: RuntimeWarning: invalid value encountered in true_divide\n",
      "  x = np.divide(x1, x2, out)\n"
     ]
    },
    {
     "name": "stdout",
     "output_type": "stream",
     "text": [
      "/glade/work/jonahshaw/trend_uncertainty/nathan/OBS_LENS/GISTEMP_5x5//ensembleChunk_5x5_098.5x5degSpatialTrends.196001-202012.nc\n",
      "099\n"
     ]
    },
    {
     "name": "stderr",
     "output_type": "stream",
     "text": [
      "/glade/work/jonahshaw/miniconda3/envs/cheydask/lib/python3.7/site-packages/dask/array/numpy_compat.py:41: RuntimeWarning: invalid value encountered in true_divide\n",
      "  x = np.divide(x1, x2, out)\n"
     ]
    },
    {
     "name": "stdout",
     "output_type": "stream",
     "text": [
      "/glade/work/jonahshaw/trend_uncertainty/nathan/OBS_LENS/GISTEMP_5x5//ensembleChunk_5x5_099.5x5degSpatialTrends.196001-202012.nc\n",
      "100\n"
     ]
    },
    {
     "name": "stderr",
     "output_type": "stream",
     "text": [
      "/glade/work/jonahshaw/miniconda3/envs/cheydask/lib/python3.7/site-packages/dask/array/numpy_compat.py:41: RuntimeWarning: invalid value encountered in true_divide\n",
      "  x = np.divide(x1, x2, out)\n"
     ]
    },
    {
     "name": "stdout",
     "output_type": "stream",
     "text": [
      "/glade/work/jonahshaw/trend_uncertainty/nathan/OBS_LENS/GISTEMP_5x5//ensembleChunk_5x5_100.5x5degSpatialTrends.196001-202012.nc\n",
      "CPU times: user 4min 31s, sys: 10.9 s, total: 4min 42s\n",
      "Wall time: 5min 9s\n"
     ]
    }
   ],
   "source": [
    "%%time\n",
    "save_path = '/glade/work/jonahshaw/trend_uncertainty/nathan/OBS_LENS/GISTEMP_5x5/'\n",
    "\n",
    "# Set File list\n",
    "data_paths = gistemp_5x5_files\n",
    "data_paths = data_paths[22:]# consider those already processed\n",
    "\n",
    "# Set var\n",
    "var_gistemp = 'tempAnom'\n",
    "# var = 'tempAnom'\n",
    "var = 'tas'\n",
    "\n",
    "# Set startyears and durations\n",
    "startyears = [1960]\n",
    "_startyear = 1960\n",
    "durations = np.arange(2,61) # Only goes through 2020\n",
    "\n",
    "gistemp_new_times = (pd.date_range(\"1960-01-01\", freq=\"1M\", periods=12*61)-pd.offsets.MonthBegin(1)).shift(periods=14,freq='D')\n",
    "\n",
    "record_list = []\n",
    "for _data_path in data_paths:\n",
    "    \n",
    "    filename = _data_path.split('/')[-1][:-3]\n",
    "    \n",
    "    output_string = '%s/%s.5x5degSpatialTrends.196001-202012.nc' % (save_path,filename)\n",
    "    \n",
    "    i = _data_path.split('_')[-1][:3]\n",
    "    print(i)\n",
    "    \n",
    "    data = xr.open_dataset(_data_path,chunks={'time': -1})[var_gistemp]\n",
    "\n",
    "    data = gistemp_5x5_tselect(data) # Select post 1960 period\n",
    "\n",
    "    data_ann = data.groupby('time_2').mean(dim='time_2').rename({'time_2':'year','time':'record'})\n",
    "    data_ann['record'] = 10*int(i) + np.arange(1,10.1,1)    \n",
    "    \n",
    "    _endyears = _startyear + durations\n",
    "    _startyear_str = str(_startyear)\n",
    "    \n",
    "    while len(_startyear_str) < 4: # pad with zeros\n",
    "        _startyear_str = '0' + _startyear_str\n",
    "    \n",
    "    data_ann_slice = data_ann.sel(year=slice(_startyear,_startyear+durations[-1]))\n",
    "    \n",
    "    slopes_by_dur = []\n",
    "    \n",
    "    _endyears = _startyear + durations\n",
    "    _startyear_str = str(_startyear)\n",
    "    \n",
    "    slopes_by_dur.append(dask.delayed(calc_trends_noload)(data=data_ann_slice,\n",
    "                                                          var=var,\n",
    "                                                          startyear=_startyear_str,\n",
    "                                                          endyears=_endyears,\n",
    "                                                          wrapper_func=gettrends_wrapper2,\n",
    "                                                          calc_slopes_func=calc_slopes_spatial_ann2,\n",
    "                                                          ))\n",
    "    try:\n",
    "        slopes_by_dur_computed = dask.compute(*slopes_by_dur)\n",
    "        slopes_by_dur_computed[0].to_netcdf(output_string)\n",
    "        print(output_string)\n",
    "    except ValueError:\n",
    "        print('ValueError for %s' % filename)\n",
    "        print('var: ',var)\n",
    "        print('startyear: ',_startyear_str)\n",
    "        print('endyears: ',_endyears)\n",
    "        break\n",
    "    "
   ]
  },
  {
   "cell_type": "markdown",
   "id": "b3d12ae3-5a1d-46b9-8084-518f08827673",
   "metadata": {},
   "source": [
    "#### HadCrut5"
   ]
  },
  {
   "cell_type": "code",
   "execution_count": 152,
   "id": "16df8a4c-c318-4945-b5d1-a551b33948fc",
   "metadata": {},
   "outputs": [
    {
     "name": "stderr",
     "output_type": "stream",
     "text": [
      "/glade/work/jonahshaw/miniconda3/envs/cheydask/lib/python3.7/site-packages/dask/array/numpy_compat.py:41: RuntimeWarning: invalid value encountered in true_divide\n",
      "  x = np.divide(x1, x2, out)\n"
     ]
    },
    {
     "name": "stdout",
     "output_type": "stream",
     "text": [
      "/glade/work/jonahshaw/trend_uncertainty/nathan/OBS_LENS/HadCRUT5//HadCRUT.5.0.1.0.analysis.anomalies.1.5x5degSpatialTrends.196001-202012.nc\n"
     ]
    },
    {
     "name": "stderr",
     "output_type": "stream",
     "text": [
      "/glade/work/jonahshaw/miniconda3/envs/cheydask/lib/python3.7/site-packages/dask/array/numpy_compat.py:41: RuntimeWarning: invalid value encountered in true_divide\n",
      "  x = np.divide(x1, x2, out)\n"
     ]
    },
    {
     "name": "stdout",
     "output_type": "stream",
     "text": [
      "/glade/work/jonahshaw/trend_uncertainty/nathan/OBS_LENS/HadCRUT5//HadCRUT.5.0.1.0.analysis.anomalies.10.5x5degSpatialTrends.196001-202012.nc\n"
     ]
    },
    {
     "name": "stderr",
     "output_type": "stream",
     "text": [
      "/glade/work/jonahshaw/miniconda3/envs/cheydask/lib/python3.7/site-packages/dask/array/numpy_compat.py:41: RuntimeWarning: invalid value encountered in true_divide\n",
      "  x = np.divide(x1, x2, out)\n"
     ]
    },
    {
     "name": "stdout",
     "output_type": "stream",
     "text": [
      "/glade/work/jonahshaw/trend_uncertainty/nathan/OBS_LENS/HadCRUT5//HadCRUT.5.0.1.0.analysis.anomalies.100.5x5degSpatialTrends.196001-202012.nc\n"
     ]
    },
    {
     "name": "stderr",
     "output_type": "stream",
     "text": [
      "/glade/work/jonahshaw/miniconda3/envs/cheydask/lib/python3.7/site-packages/dask/array/numpy_compat.py:41: RuntimeWarning: invalid value encountered in true_divide\n",
      "  x = np.divide(x1, x2, out)\n"
     ]
    },
    {
     "name": "stdout",
     "output_type": "stream",
     "text": [
      "/glade/work/jonahshaw/trend_uncertainty/nathan/OBS_LENS/HadCRUT5//HadCRUT.5.0.1.0.analysis.anomalies.101.5x5degSpatialTrends.196001-202012.nc\n"
     ]
    },
    {
     "name": "stderr",
     "output_type": "stream",
     "text": [
      "/glade/work/jonahshaw/miniconda3/envs/cheydask/lib/python3.7/site-packages/dask/array/numpy_compat.py:41: RuntimeWarning: invalid value encountered in true_divide\n",
      "  x = np.divide(x1, x2, out)\n"
     ]
    },
    {
     "name": "stdout",
     "output_type": "stream",
     "text": [
      "/glade/work/jonahshaw/trend_uncertainty/nathan/OBS_LENS/HadCRUT5//HadCRUT.5.0.1.0.analysis.anomalies.102.5x5degSpatialTrends.196001-202012.nc\n"
     ]
    },
    {
     "name": "stderr",
     "output_type": "stream",
     "text": [
      "/glade/work/jonahshaw/miniconda3/envs/cheydask/lib/python3.7/site-packages/dask/array/numpy_compat.py:41: RuntimeWarning: invalid value encountered in true_divide\n",
      "  x = np.divide(x1, x2, out)\n"
     ]
    },
    {
     "name": "stdout",
     "output_type": "stream",
     "text": [
      "/glade/work/jonahshaw/trend_uncertainty/nathan/OBS_LENS/HadCRUT5//HadCRUT.5.0.1.0.analysis.anomalies.103.5x5degSpatialTrends.196001-202012.nc\n"
     ]
    },
    {
     "name": "stderr",
     "output_type": "stream",
     "text": [
      "/glade/work/jonahshaw/miniconda3/envs/cheydask/lib/python3.7/site-packages/dask/array/numpy_compat.py:41: RuntimeWarning: invalid value encountered in true_divide\n",
      "  x = np.divide(x1, x2, out)\n"
     ]
    },
    {
     "name": "stdout",
     "output_type": "stream",
     "text": [
      "/glade/work/jonahshaw/trend_uncertainty/nathan/OBS_LENS/HadCRUT5//HadCRUT.5.0.1.0.analysis.anomalies.104.5x5degSpatialTrends.196001-202012.nc\n"
     ]
    },
    {
     "name": "stderr",
     "output_type": "stream",
     "text": [
      "/glade/work/jonahshaw/miniconda3/envs/cheydask/lib/python3.7/site-packages/dask/array/numpy_compat.py:41: RuntimeWarning: invalid value encountered in true_divide\n",
      "  x = np.divide(x1, x2, out)\n"
     ]
    },
    {
     "name": "stdout",
     "output_type": "stream",
     "text": [
      "/glade/work/jonahshaw/trend_uncertainty/nathan/OBS_LENS/HadCRUT5//HadCRUT.5.0.1.0.analysis.anomalies.105.5x5degSpatialTrends.196001-202012.nc\n"
     ]
    },
    {
     "name": "stderr",
     "output_type": "stream",
     "text": [
      "/glade/work/jonahshaw/miniconda3/envs/cheydask/lib/python3.7/site-packages/dask/array/numpy_compat.py:41: RuntimeWarning: invalid value encountered in true_divide\n",
      "  x = np.divide(x1, x2, out)\n"
     ]
    },
    {
     "name": "stdout",
     "output_type": "stream",
     "text": [
      "/glade/work/jonahshaw/trend_uncertainty/nathan/OBS_LENS/HadCRUT5//HadCRUT.5.0.1.0.analysis.anomalies.106.5x5degSpatialTrends.196001-202012.nc\n"
     ]
    },
    {
     "name": "stderr",
     "output_type": "stream",
     "text": [
      "/glade/work/jonahshaw/miniconda3/envs/cheydask/lib/python3.7/site-packages/dask/array/numpy_compat.py:41: RuntimeWarning: invalid value encountered in true_divide\n",
      "  x = np.divide(x1, x2, out)\n"
     ]
    },
    {
     "name": "stdout",
     "output_type": "stream",
     "text": [
      "/glade/work/jonahshaw/trend_uncertainty/nathan/OBS_LENS/HadCRUT5//HadCRUT.5.0.1.0.analysis.anomalies.107.5x5degSpatialTrends.196001-202012.nc\n"
     ]
    },
    {
     "name": "stderr",
     "output_type": "stream",
     "text": [
      "/glade/work/jonahshaw/miniconda3/envs/cheydask/lib/python3.7/site-packages/dask/array/numpy_compat.py:41: RuntimeWarning: invalid value encountered in true_divide\n",
      "  x = np.divide(x1, x2, out)\n"
     ]
    },
    {
     "name": "stdout",
     "output_type": "stream",
     "text": [
      "/glade/work/jonahshaw/trend_uncertainty/nathan/OBS_LENS/HadCRUT5//HadCRUT.5.0.1.0.analysis.anomalies.108.5x5degSpatialTrends.196001-202012.nc\n"
     ]
    },
    {
     "name": "stderr",
     "output_type": "stream",
     "text": [
      "/glade/work/jonahshaw/miniconda3/envs/cheydask/lib/python3.7/site-packages/dask/array/numpy_compat.py:41: RuntimeWarning: invalid value encountered in true_divide\n",
      "  x = np.divide(x1, x2, out)\n"
     ]
    },
    {
     "name": "stdout",
     "output_type": "stream",
     "text": [
      "/glade/work/jonahshaw/trend_uncertainty/nathan/OBS_LENS/HadCRUT5//HadCRUT.5.0.1.0.analysis.anomalies.109.5x5degSpatialTrends.196001-202012.nc\n"
     ]
    },
    {
     "name": "stderr",
     "output_type": "stream",
     "text": [
      "/glade/work/jonahshaw/miniconda3/envs/cheydask/lib/python3.7/site-packages/dask/array/numpy_compat.py:41: RuntimeWarning: invalid value encountered in true_divide\n",
      "  x = np.divide(x1, x2, out)\n"
     ]
    },
    {
     "name": "stdout",
     "output_type": "stream",
     "text": [
      "/glade/work/jonahshaw/trend_uncertainty/nathan/OBS_LENS/HadCRUT5//HadCRUT.5.0.1.0.analysis.anomalies.11.5x5degSpatialTrends.196001-202012.nc\n"
     ]
    },
    {
     "name": "stderr",
     "output_type": "stream",
     "text": [
      "/glade/work/jonahshaw/miniconda3/envs/cheydask/lib/python3.7/site-packages/dask/array/numpy_compat.py:41: RuntimeWarning: invalid value encountered in true_divide\n",
      "  x = np.divide(x1, x2, out)\n"
     ]
    },
    {
     "name": "stdout",
     "output_type": "stream",
     "text": [
      "/glade/work/jonahshaw/trend_uncertainty/nathan/OBS_LENS/HadCRUT5//HadCRUT.5.0.1.0.analysis.anomalies.110.5x5degSpatialTrends.196001-202012.nc\n"
     ]
    },
    {
     "name": "stderr",
     "output_type": "stream",
     "text": [
      "/glade/work/jonahshaw/miniconda3/envs/cheydask/lib/python3.7/site-packages/dask/array/numpy_compat.py:41: RuntimeWarning: invalid value encountered in true_divide\n",
      "  x = np.divide(x1, x2, out)\n"
     ]
    },
    {
     "name": "stdout",
     "output_type": "stream",
     "text": [
      "/glade/work/jonahshaw/trend_uncertainty/nathan/OBS_LENS/HadCRUT5//HadCRUT.5.0.1.0.analysis.anomalies.111.5x5degSpatialTrends.196001-202012.nc\n"
     ]
    },
    {
     "name": "stderr",
     "output_type": "stream",
     "text": [
      "/glade/work/jonahshaw/miniconda3/envs/cheydask/lib/python3.7/site-packages/dask/array/numpy_compat.py:41: RuntimeWarning: invalid value encountered in true_divide\n",
      "  x = np.divide(x1, x2, out)\n"
     ]
    },
    {
     "name": "stdout",
     "output_type": "stream",
     "text": [
      "/glade/work/jonahshaw/trend_uncertainty/nathan/OBS_LENS/HadCRUT5//HadCRUT.5.0.1.0.analysis.anomalies.112.5x5degSpatialTrends.196001-202012.nc\n"
     ]
    },
    {
     "name": "stderr",
     "output_type": "stream",
     "text": [
      "/glade/work/jonahshaw/miniconda3/envs/cheydask/lib/python3.7/site-packages/dask/array/numpy_compat.py:41: RuntimeWarning: invalid value encountered in true_divide\n",
      "  x = np.divide(x1, x2, out)\n"
     ]
    },
    {
     "name": "stdout",
     "output_type": "stream",
     "text": [
      "/glade/work/jonahshaw/trend_uncertainty/nathan/OBS_LENS/HadCRUT5//HadCRUT.5.0.1.0.analysis.anomalies.113.5x5degSpatialTrends.196001-202012.nc\n"
     ]
    },
    {
     "name": "stderr",
     "output_type": "stream",
     "text": [
      "/glade/work/jonahshaw/miniconda3/envs/cheydask/lib/python3.7/site-packages/dask/array/numpy_compat.py:41: RuntimeWarning: invalid value encountered in true_divide\n",
      "  x = np.divide(x1, x2, out)\n"
     ]
    },
    {
     "name": "stdout",
     "output_type": "stream",
     "text": [
      "/glade/work/jonahshaw/trend_uncertainty/nathan/OBS_LENS/HadCRUT5//HadCRUT.5.0.1.0.analysis.anomalies.114.5x5degSpatialTrends.196001-202012.nc\n"
     ]
    },
    {
     "name": "stderr",
     "output_type": "stream",
     "text": [
      "/glade/work/jonahshaw/miniconda3/envs/cheydask/lib/python3.7/site-packages/dask/array/numpy_compat.py:41: RuntimeWarning: invalid value encountered in true_divide\n",
      "  x = np.divide(x1, x2, out)\n"
     ]
    },
    {
     "name": "stdout",
     "output_type": "stream",
     "text": [
      "/glade/work/jonahshaw/trend_uncertainty/nathan/OBS_LENS/HadCRUT5//HadCRUT.5.0.1.0.analysis.anomalies.115.5x5degSpatialTrends.196001-202012.nc\n"
     ]
    },
    {
     "name": "stderr",
     "output_type": "stream",
     "text": [
      "/glade/work/jonahshaw/miniconda3/envs/cheydask/lib/python3.7/site-packages/dask/array/numpy_compat.py:41: RuntimeWarning: invalid value encountered in true_divide\n",
      "  x = np.divide(x1, x2, out)\n"
     ]
    },
    {
     "name": "stdout",
     "output_type": "stream",
     "text": [
      "/glade/work/jonahshaw/trend_uncertainty/nathan/OBS_LENS/HadCRUT5//HadCRUT.5.0.1.0.analysis.anomalies.116.5x5degSpatialTrends.196001-202012.nc\n"
     ]
    },
    {
     "name": "stderr",
     "output_type": "stream",
     "text": [
      "/glade/work/jonahshaw/miniconda3/envs/cheydask/lib/python3.7/site-packages/dask/array/numpy_compat.py:41: RuntimeWarning: invalid value encountered in true_divide\n",
      "  x = np.divide(x1, x2, out)\n"
     ]
    },
    {
     "name": "stdout",
     "output_type": "stream",
     "text": [
      "/glade/work/jonahshaw/trend_uncertainty/nathan/OBS_LENS/HadCRUT5//HadCRUT.5.0.1.0.analysis.anomalies.117.5x5degSpatialTrends.196001-202012.nc\n"
     ]
    },
    {
     "name": "stderr",
     "output_type": "stream",
     "text": [
      "/glade/work/jonahshaw/miniconda3/envs/cheydask/lib/python3.7/site-packages/dask/array/numpy_compat.py:41: RuntimeWarning: invalid value encountered in true_divide\n",
      "  x = np.divide(x1, x2, out)\n"
     ]
    },
    {
     "name": "stdout",
     "output_type": "stream",
     "text": [
      "/glade/work/jonahshaw/trend_uncertainty/nathan/OBS_LENS/HadCRUT5//HadCRUT.5.0.1.0.analysis.anomalies.118.5x5degSpatialTrends.196001-202012.nc\n"
     ]
    },
    {
     "name": "stderr",
     "output_type": "stream",
     "text": [
      "/glade/work/jonahshaw/miniconda3/envs/cheydask/lib/python3.7/site-packages/dask/array/numpy_compat.py:41: RuntimeWarning: invalid value encountered in true_divide\n",
      "  x = np.divide(x1, x2, out)\n"
     ]
    },
    {
     "name": "stdout",
     "output_type": "stream",
     "text": [
      "/glade/work/jonahshaw/trend_uncertainty/nathan/OBS_LENS/HadCRUT5//HadCRUT.5.0.1.0.analysis.anomalies.119.5x5degSpatialTrends.196001-202012.nc\n"
     ]
    },
    {
     "name": "stderr",
     "output_type": "stream",
     "text": [
      "/glade/work/jonahshaw/miniconda3/envs/cheydask/lib/python3.7/site-packages/dask/array/numpy_compat.py:41: RuntimeWarning: invalid value encountered in true_divide\n",
      "  x = np.divide(x1, x2, out)\n"
     ]
    },
    {
     "name": "stdout",
     "output_type": "stream",
     "text": [
      "/glade/work/jonahshaw/trend_uncertainty/nathan/OBS_LENS/HadCRUT5//HadCRUT.5.0.1.0.analysis.anomalies.12.5x5degSpatialTrends.196001-202012.nc\n"
     ]
    },
    {
     "name": "stderr",
     "output_type": "stream",
     "text": [
      "/glade/work/jonahshaw/miniconda3/envs/cheydask/lib/python3.7/site-packages/dask/array/numpy_compat.py:41: RuntimeWarning: invalid value encountered in true_divide\n",
      "  x = np.divide(x1, x2, out)\n"
     ]
    },
    {
     "name": "stdout",
     "output_type": "stream",
     "text": [
      "/glade/work/jonahshaw/trend_uncertainty/nathan/OBS_LENS/HadCRUT5//HadCRUT.5.0.1.0.analysis.anomalies.120.5x5degSpatialTrends.196001-202012.nc\n"
     ]
    },
    {
     "name": "stderr",
     "output_type": "stream",
     "text": [
      "/glade/work/jonahshaw/miniconda3/envs/cheydask/lib/python3.7/site-packages/dask/array/numpy_compat.py:41: RuntimeWarning: invalid value encountered in true_divide\n",
      "  x = np.divide(x1, x2, out)\n"
     ]
    },
    {
     "name": "stdout",
     "output_type": "stream",
     "text": [
      "/glade/work/jonahshaw/trend_uncertainty/nathan/OBS_LENS/HadCRUT5//HadCRUT.5.0.1.0.analysis.anomalies.121.5x5degSpatialTrends.196001-202012.nc\n"
     ]
    },
    {
     "name": "stderr",
     "output_type": "stream",
     "text": [
      "/glade/work/jonahshaw/miniconda3/envs/cheydask/lib/python3.7/site-packages/dask/array/numpy_compat.py:41: RuntimeWarning: invalid value encountered in true_divide\n",
      "  x = np.divide(x1, x2, out)\n"
     ]
    },
    {
     "name": "stdout",
     "output_type": "stream",
     "text": [
      "/glade/work/jonahshaw/trend_uncertainty/nathan/OBS_LENS/HadCRUT5//HadCRUT.5.0.1.0.analysis.anomalies.122.5x5degSpatialTrends.196001-202012.nc\n"
     ]
    },
    {
     "name": "stderr",
     "output_type": "stream",
     "text": [
      "/glade/work/jonahshaw/miniconda3/envs/cheydask/lib/python3.7/site-packages/dask/array/numpy_compat.py:41: RuntimeWarning: invalid value encountered in true_divide\n",
      "  x = np.divide(x1, x2, out)\n"
     ]
    },
    {
     "name": "stdout",
     "output_type": "stream",
     "text": [
      "/glade/work/jonahshaw/trend_uncertainty/nathan/OBS_LENS/HadCRUT5//HadCRUT.5.0.1.0.analysis.anomalies.123.5x5degSpatialTrends.196001-202012.nc\n"
     ]
    },
    {
     "name": "stderr",
     "output_type": "stream",
     "text": [
      "/glade/work/jonahshaw/miniconda3/envs/cheydask/lib/python3.7/site-packages/dask/array/numpy_compat.py:41: RuntimeWarning: invalid value encountered in true_divide\n",
      "  x = np.divide(x1, x2, out)\n"
     ]
    },
    {
     "name": "stdout",
     "output_type": "stream",
     "text": [
      "/glade/work/jonahshaw/trend_uncertainty/nathan/OBS_LENS/HadCRUT5//HadCRUT.5.0.1.0.analysis.anomalies.124.5x5degSpatialTrends.196001-202012.nc\n"
     ]
    },
    {
     "name": "stderr",
     "output_type": "stream",
     "text": [
      "/glade/work/jonahshaw/miniconda3/envs/cheydask/lib/python3.7/site-packages/dask/array/numpy_compat.py:41: RuntimeWarning: invalid value encountered in true_divide\n",
      "  x = np.divide(x1, x2, out)\n"
     ]
    },
    {
     "name": "stdout",
     "output_type": "stream",
     "text": [
      "/glade/work/jonahshaw/trend_uncertainty/nathan/OBS_LENS/HadCRUT5//HadCRUT.5.0.1.0.analysis.anomalies.125.5x5degSpatialTrends.196001-202012.nc\n"
     ]
    },
    {
     "name": "stderr",
     "output_type": "stream",
     "text": [
      "/glade/work/jonahshaw/miniconda3/envs/cheydask/lib/python3.7/site-packages/dask/array/numpy_compat.py:41: RuntimeWarning: invalid value encountered in true_divide\n",
      "  x = np.divide(x1, x2, out)\n"
     ]
    },
    {
     "name": "stdout",
     "output_type": "stream",
     "text": [
      "/glade/work/jonahshaw/trend_uncertainty/nathan/OBS_LENS/HadCRUT5//HadCRUT.5.0.1.0.analysis.anomalies.126.5x5degSpatialTrends.196001-202012.nc\n"
     ]
    },
    {
     "name": "stderr",
     "output_type": "stream",
     "text": [
      "/glade/work/jonahshaw/miniconda3/envs/cheydask/lib/python3.7/site-packages/dask/array/numpy_compat.py:41: RuntimeWarning: invalid value encountered in true_divide\n",
      "  x = np.divide(x1, x2, out)\n"
     ]
    },
    {
     "name": "stdout",
     "output_type": "stream",
     "text": [
      "/glade/work/jonahshaw/trend_uncertainty/nathan/OBS_LENS/HadCRUT5//HadCRUT.5.0.1.0.analysis.anomalies.127.5x5degSpatialTrends.196001-202012.nc\n"
     ]
    },
    {
     "name": "stderr",
     "output_type": "stream",
     "text": [
      "/glade/work/jonahshaw/miniconda3/envs/cheydask/lib/python3.7/site-packages/dask/array/numpy_compat.py:41: RuntimeWarning: invalid value encountered in true_divide\n",
      "  x = np.divide(x1, x2, out)\n"
     ]
    },
    {
     "name": "stdout",
     "output_type": "stream",
     "text": [
      "/glade/work/jonahshaw/trend_uncertainty/nathan/OBS_LENS/HadCRUT5//HadCRUT.5.0.1.0.analysis.anomalies.128.5x5degSpatialTrends.196001-202012.nc\n"
     ]
    },
    {
     "name": "stderr",
     "output_type": "stream",
     "text": [
      "/glade/work/jonahshaw/miniconda3/envs/cheydask/lib/python3.7/site-packages/dask/array/numpy_compat.py:41: RuntimeWarning: invalid value encountered in true_divide\n",
      "  x = np.divide(x1, x2, out)\n"
     ]
    },
    {
     "name": "stdout",
     "output_type": "stream",
     "text": [
      "/glade/work/jonahshaw/trend_uncertainty/nathan/OBS_LENS/HadCRUT5//HadCRUT.5.0.1.0.analysis.anomalies.129.5x5degSpatialTrends.196001-202012.nc\n"
     ]
    },
    {
     "name": "stderr",
     "output_type": "stream",
     "text": [
      "/glade/work/jonahshaw/miniconda3/envs/cheydask/lib/python3.7/site-packages/dask/array/numpy_compat.py:41: RuntimeWarning: invalid value encountered in true_divide\n",
      "  x = np.divide(x1, x2, out)\n"
     ]
    },
    {
     "name": "stdout",
     "output_type": "stream",
     "text": [
      "/glade/work/jonahshaw/trend_uncertainty/nathan/OBS_LENS/HadCRUT5//HadCRUT.5.0.1.0.analysis.anomalies.13.5x5degSpatialTrends.196001-202012.nc\n"
     ]
    },
    {
     "name": "stderr",
     "output_type": "stream",
     "text": [
      "/glade/work/jonahshaw/miniconda3/envs/cheydask/lib/python3.7/site-packages/dask/array/numpy_compat.py:41: RuntimeWarning: invalid value encountered in true_divide\n",
      "  x = np.divide(x1, x2, out)\n"
     ]
    },
    {
     "name": "stdout",
     "output_type": "stream",
     "text": [
      "/glade/work/jonahshaw/trend_uncertainty/nathan/OBS_LENS/HadCRUT5//HadCRUT.5.0.1.0.analysis.anomalies.130.5x5degSpatialTrends.196001-202012.nc\n"
     ]
    },
    {
     "name": "stderr",
     "output_type": "stream",
     "text": [
      "/glade/work/jonahshaw/miniconda3/envs/cheydask/lib/python3.7/site-packages/dask/array/numpy_compat.py:41: RuntimeWarning: invalid value encountered in true_divide\n",
      "  x = np.divide(x1, x2, out)\n"
     ]
    },
    {
     "name": "stdout",
     "output_type": "stream",
     "text": [
      "/glade/work/jonahshaw/trend_uncertainty/nathan/OBS_LENS/HadCRUT5//HadCRUT.5.0.1.0.analysis.anomalies.131.5x5degSpatialTrends.196001-202012.nc\n"
     ]
    },
    {
     "name": "stderr",
     "output_type": "stream",
     "text": [
      "/glade/work/jonahshaw/miniconda3/envs/cheydask/lib/python3.7/site-packages/dask/array/numpy_compat.py:41: RuntimeWarning: invalid value encountered in true_divide\n",
      "  x = np.divide(x1, x2, out)\n"
     ]
    },
    {
     "name": "stdout",
     "output_type": "stream",
     "text": [
      "/glade/work/jonahshaw/trend_uncertainty/nathan/OBS_LENS/HadCRUT5//HadCRUT.5.0.1.0.analysis.anomalies.132.5x5degSpatialTrends.196001-202012.nc\n"
     ]
    },
    {
     "name": "stderr",
     "output_type": "stream",
     "text": [
      "/glade/work/jonahshaw/miniconda3/envs/cheydask/lib/python3.7/site-packages/dask/array/numpy_compat.py:41: RuntimeWarning: invalid value encountered in true_divide\n",
      "  x = np.divide(x1, x2, out)\n"
     ]
    },
    {
     "name": "stdout",
     "output_type": "stream",
     "text": [
      "/glade/work/jonahshaw/trend_uncertainty/nathan/OBS_LENS/HadCRUT5//HadCRUT.5.0.1.0.analysis.anomalies.133.5x5degSpatialTrends.196001-202012.nc\n"
     ]
    },
    {
     "name": "stderr",
     "output_type": "stream",
     "text": [
      "/glade/work/jonahshaw/miniconda3/envs/cheydask/lib/python3.7/site-packages/dask/array/numpy_compat.py:41: RuntimeWarning: invalid value encountered in true_divide\n",
      "  x = np.divide(x1, x2, out)\n"
     ]
    },
    {
     "name": "stdout",
     "output_type": "stream",
     "text": [
      "/glade/work/jonahshaw/trend_uncertainty/nathan/OBS_LENS/HadCRUT5//HadCRUT.5.0.1.0.analysis.anomalies.134.5x5degSpatialTrends.196001-202012.nc\n"
     ]
    },
    {
     "name": "stderr",
     "output_type": "stream",
     "text": [
      "/glade/work/jonahshaw/miniconda3/envs/cheydask/lib/python3.7/site-packages/dask/array/numpy_compat.py:41: RuntimeWarning: invalid value encountered in true_divide\n",
      "  x = np.divide(x1, x2, out)\n"
     ]
    },
    {
     "name": "stdout",
     "output_type": "stream",
     "text": [
      "/glade/work/jonahshaw/trend_uncertainty/nathan/OBS_LENS/HadCRUT5//HadCRUT.5.0.1.0.analysis.anomalies.135.5x5degSpatialTrends.196001-202012.nc\n"
     ]
    },
    {
     "name": "stderr",
     "output_type": "stream",
     "text": [
      "/glade/work/jonahshaw/miniconda3/envs/cheydask/lib/python3.7/site-packages/dask/array/numpy_compat.py:41: RuntimeWarning: invalid value encountered in true_divide\n",
      "  x = np.divide(x1, x2, out)\n"
     ]
    },
    {
     "name": "stdout",
     "output_type": "stream",
     "text": [
      "/glade/work/jonahshaw/trend_uncertainty/nathan/OBS_LENS/HadCRUT5//HadCRUT.5.0.1.0.analysis.anomalies.136.5x5degSpatialTrends.196001-202012.nc\n"
     ]
    },
    {
     "name": "stderr",
     "output_type": "stream",
     "text": [
      "/glade/work/jonahshaw/miniconda3/envs/cheydask/lib/python3.7/site-packages/dask/array/numpy_compat.py:41: RuntimeWarning: invalid value encountered in true_divide\n",
      "  x = np.divide(x1, x2, out)\n"
     ]
    },
    {
     "name": "stdout",
     "output_type": "stream",
     "text": [
      "/glade/work/jonahshaw/trend_uncertainty/nathan/OBS_LENS/HadCRUT5//HadCRUT.5.0.1.0.analysis.anomalies.137.5x5degSpatialTrends.196001-202012.nc\n"
     ]
    },
    {
     "name": "stderr",
     "output_type": "stream",
     "text": [
      "/glade/work/jonahshaw/miniconda3/envs/cheydask/lib/python3.7/site-packages/dask/array/numpy_compat.py:41: RuntimeWarning: invalid value encountered in true_divide\n",
      "  x = np.divide(x1, x2, out)\n"
     ]
    },
    {
     "name": "stdout",
     "output_type": "stream",
     "text": [
      "/glade/work/jonahshaw/trend_uncertainty/nathan/OBS_LENS/HadCRUT5//HadCRUT.5.0.1.0.analysis.anomalies.138.5x5degSpatialTrends.196001-202012.nc\n"
     ]
    },
    {
     "name": "stderr",
     "output_type": "stream",
     "text": [
      "/glade/work/jonahshaw/miniconda3/envs/cheydask/lib/python3.7/site-packages/dask/array/numpy_compat.py:41: RuntimeWarning: invalid value encountered in true_divide\n",
      "  x = np.divide(x1, x2, out)\n"
     ]
    },
    {
     "name": "stdout",
     "output_type": "stream",
     "text": [
      "/glade/work/jonahshaw/trend_uncertainty/nathan/OBS_LENS/HadCRUT5//HadCRUT.5.0.1.0.analysis.anomalies.139.5x5degSpatialTrends.196001-202012.nc\n"
     ]
    },
    {
     "name": "stderr",
     "output_type": "stream",
     "text": [
      "/glade/work/jonahshaw/miniconda3/envs/cheydask/lib/python3.7/site-packages/dask/array/numpy_compat.py:41: RuntimeWarning: invalid value encountered in true_divide\n",
      "  x = np.divide(x1, x2, out)\n"
     ]
    },
    {
     "name": "stdout",
     "output_type": "stream",
     "text": [
      "/glade/work/jonahshaw/trend_uncertainty/nathan/OBS_LENS/HadCRUT5//HadCRUT.5.0.1.0.analysis.anomalies.14.5x5degSpatialTrends.196001-202012.nc\n"
     ]
    },
    {
     "name": "stderr",
     "output_type": "stream",
     "text": [
      "/glade/work/jonahshaw/miniconda3/envs/cheydask/lib/python3.7/site-packages/dask/array/numpy_compat.py:41: RuntimeWarning: invalid value encountered in true_divide\n",
      "  x = np.divide(x1, x2, out)\n"
     ]
    },
    {
     "name": "stdout",
     "output_type": "stream",
     "text": [
      "/glade/work/jonahshaw/trend_uncertainty/nathan/OBS_LENS/HadCRUT5//HadCRUT.5.0.1.0.analysis.anomalies.140.5x5degSpatialTrends.196001-202012.nc\n"
     ]
    },
    {
     "name": "stderr",
     "output_type": "stream",
     "text": [
      "/glade/work/jonahshaw/miniconda3/envs/cheydask/lib/python3.7/site-packages/dask/array/numpy_compat.py:41: RuntimeWarning: invalid value encountered in true_divide\n",
      "  x = np.divide(x1, x2, out)\n"
     ]
    },
    {
     "name": "stdout",
     "output_type": "stream",
     "text": [
      "/glade/work/jonahshaw/trend_uncertainty/nathan/OBS_LENS/HadCRUT5//HadCRUT.5.0.1.0.analysis.anomalies.141.5x5degSpatialTrends.196001-202012.nc\n"
     ]
    },
    {
     "name": "stderr",
     "output_type": "stream",
     "text": [
      "/glade/work/jonahshaw/miniconda3/envs/cheydask/lib/python3.7/site-packages/dask/array/numpy_compat.py:41: RuntimeWarning: invalid value encountered in true_divide\n",
      "  x = np.divide(x1, x2, out)\n"
     ]
    },
    {
     "name": "stdout",
     "output_type": "stream",
     "text": [
      "/glade/work/jonahshaw/trend_uncertainty/nathan/OBS_LENS/HadCRUT5//HadCRUT.5.0.1.0.analysis.anomalies.142.5x5degSpatialTrends.196001-202012.nc\n"
     ]
    },
    {
     "name": "stderr",
     "output_type": "stream",
     "text": [
      "/glade/work/jonahshaw/miniconda3/envs/cheydask/lib/python3.7/site-packages/dask/array/numpy_compat.py:41: RuntimeWarning: invalid value encountered in true_divide\n",
      "  x = np.divide(x1, x2, out)\n"
     ]
    },
    {
     "name": "stdout",
     "output_type": "stream",
     "text": [
      "/glade/work/jonahshaw/trend_uncertainty/nathan/OBS_LENS/HadCRUT5//HadCRUT.5.0.1.0.analysis.anomalies.143.5x5degSpatialTrends.196001-202012.nc\n"
     ]
    },
    {
     "name": "stderr",
     "output_type": "stream",
     "text": [
      "/glade/work/jonahshaw/miniconda3/envs/cheydask/lib/python3.7/site-packages/dask/array/numpy_compat.py:41: RuntimeWarning: invalid value encountered in true_divide\n",
      "  x = np.divide(x1, x2, out)\n"
     ]
    },
    {
     "name": "stdout",
     "output_type": "stream",
     "text": [
      "/glade/work/jonahshaw/trend_uncertainty/nathan/OBS_LENS/HadCRUT5//HadCRUT.5.0.1.0.analysis.anomalies.144.5x5degSpatialTrends.196001-202012.nc\n"
     ]
    },
    {
     "name": "stderr",
     "output_type": "stream",
     "text": [
      "/glade/work/jonahshaw/miniconda3/envs/cheydask/lib/python3.7/site-packages/dask/array/numpy_compat.py:41: RuntimeWarning: invalid value encountered in true_divide\n",
      "  x = np.divide(x1, x2, out)\n"
     ]
    },
    {
     "name": "stdout",
     "output_type": "stream",
     "text": [
      "/glade/work/jonahshaw/trend_uncertainty/nathan/OBS_LENS/HadCRUT5//HadCRUT.5.0.1.0.analysis.anomalies.145.5x5degSpatialTrends.196001-202012.nc\n"
     ]
    },
    {
     "name": "stderr",
     "output_type": "stream",
     "text": [
      "/glade/work/jonahshaw/miniconda3/envs/cheydask/lib/python3.7/site-packages/dask/array/numpy_compat.py:41: RuntimeWarning: invalid value encountered in true_divide\n",
      "  x = np.divide(x1, x2, out)\n"
     ]
    },
    {
     "name": "stdout",
     "output_type": "stream",
     "text": [
      "/glade/work/jonahshaw/trend_uncertainty/nathan/OBS_LENS/HadCRUT5//HadCRUT.5.0.1.0.analysis.anomalies.146.5x5degSpatialTrends.196001-202012.nc\n"
     ]
    },
    {
     "name": "stderr",
     "output_type": "stream",
     "text": [
      "/glade/work/jonahshaw/miniconda3/envs/cheydask/lib/python3.7/site-packages/dask/array/numpy_compat.py:41: RuntimeWarning: invalid value encountered in true_divide\n",
      "  x = np.divide(x1, x2, out)\n"
     ]
    },
    {
     "name": "stdout",
     "output_type": "stream",
     "text": [
      "/glade/work/jonahshaw/trend_uncertainty/nathan/OBS_LENS/HadCRUT5//HadCRUT.5.0.1.0.analysis.anomalies.147.5x5degSpatialTrends.196001-202012.nc\n"
     ]
    },
    {
     "name": "stderr",
     "output_type": "stream",
     "text": [
      "/glade/work/jonahshaw/miniconda3/envs/cheydask/lib/python3.7/site-packages/dask/array/numpy_compat.py:41: RuntimeWarning: invalid value encountered in true_divide\n",
      "  x = np.divide(x1, x2, out)\n"
     ]
    },
    {
     "name": "stdout",
     "output_type": "stream",
     "text": [
      "/glade/work/jonahshaw/trend_uncertainty/nathan/OBS_LENS/HadCRUT5//HadCRUT.5.0.1.0.analysis.anomalies.148.5x5degSpatialTrends.196001-202012.nc\n"
     ]
    },
    {
     "name": "stderr",
     "output_type": "stream",
     "text": [
      "/glade/work/jonahshaw/miniconda3/envs/cheydask/lib/python3.7/site-packages/dask/array/numpy_compat.py:41: RuntimeWarning: invalid value encountered in true_divide\n",
      "  x = np.divide(x1, x2, out)\n"
     ]
    },
    {
     "name": "stdout",
     "output_type": "stream",
     "text": [
      "/glade/work/jonahshaw/trend_uncertainty/nathan/OBS_LENS/HadCRUT5//HadCRUT.5.0.1.0.analysis.anomalies.149.5x5degSpatialTrends.196001-202012.nc\n"
     ]
    },
    {
     "name": "stderr",
     "output_type": "stream",
     "text": [
      "/glade/work/jonahshaw/miniconda3/envs/cheydask/lib/python3.7/site-packages/dask/array/numpy_compat.py:41: RuntimeWarning: invalid value encountered in true_divide\n",
      "  x = np.divide(x1, x2, out)\n"
     ]
    },
    {
     "name": "stdout",
     "output_type": "stream",
     "text": [
      "/glade/work/jonahshaw/trend_uncertainty/nathan/OBS_LENS/HadCRUT5//HadCRUT.5.0.1.0.analysis.anomalies.15.5x5degSpatialTrends.196001-202012.nc\n"
     ]
    },
    {
     "name": "stderr",
     "output_type": "stream",
     "text": [
      "/glade/work/jonahshaw/miniconda3/envs/cheydask/lib/python3.7/site-packages/dask/array/numpy_compat.py:41: RuntimeWarning: invalid value encountered in true_divide\n",
      "  x = np.divide(x1, x2, out)\n"
     ]
    },
    {
     "name": "stdout",
     "output_type": "stream",
     "text": [
      "/glade/work/jonahshaw/trend_uncertainty/nathan/OBS_LENS/HadCRUT5//HadCRUT.5.0.1.0.analysis.anomalies.150.5x5degSpatialTrends.196001-202012.nc\n"
     ]
    },
    {
     "name": "stderr",
     "output_type": "stream",
     "text": [
      "/glade/work/jonahshaw/miniconda3/envs/cheydask/lib/python3.7/site-packages/dask/array/numpy_compat.py:41: RuntimeWarning: invalid value encountered in true_divide\n",
      "  x = np.divide(x1, x2, out)\n"
     ]
    },
    {
     "name": "stdout",
     "output_type": "stream",
     "text": [
      "/glade/work/jonahshaw/trend_uncertainty/nathan/OBS_LENS/HadCRUT5//HadCRUT.5.0.1.0.analysis.anomalies.151.5x5degSpatialTrends.196001-202012.nc\n"
     ]
    },
    {
     "name": "stderr",
     "output_type": "stream",
     "text": [
      "/glade/work/jonahshaw/miniconda3/envs/cheydask/lib/python3.7/site-packages/dask/array/numpy_compat.py:41: RuntimeWarning: invalid value encountered in true_divide\n",
      "  x = np.divide(x1, x2, out)\n"
     ]
    },
    {
     "name": "stdout",
     "output_type": "stream",
     "text": [
      "/glade/work/jonahshaw/trend_uncertainty/nathan/OBS_LENS/HadCRUT5//HadCRUT.5.0.1.0.analysis.anomalies.152.5x5degSpatialTrends.196001-202012.nc\n"
     ]
    },
    {
     "name": "stderr",
     "output_type": "stream",
     "text": [
      "/glade/work/jonahshaw/miniconda3/envs/cheydask/lib/python3.7/site-packages/dask/array/numpy_compat.py:41: RuntimeWarning: invalid value encountered in true_divide\n",
      "  x = np.divide(x1, x2, out)\n"
     ]
    },
    {
     "name": "stdout",
     "output_type": "stream",
     "text": [
      "/glade/work/jonahshaw/trend_uncertainty/nathan/OBS_LENS/HadCRUT5//HadCRUT.5.0.1.0.analysis.anomalies.153.5x5degSpatialTrends.196001-202012.nc\n"
     ]
    },
    {
     "name": "stderr",
     "output_type": "stream",
     "text": [
      "/glade/work/jonahshaw/miniconda3/envs/cheydask/lib/python3.7/site-packages/dask/array/numpy_compat.py:41: RuntimeWarning: invalid value encountered in true_divide\n",
      "  x = np.divide(x1, x2, out)\n"
     ]
    },
    {
     "name": "stdout",
     "output_type": "stream",
     "text": [
      "/glade/work/jonahshaw/trend_uncertainty/nathan/OBS_LENS/HadCRUT5//HadCRUT.5.0.1.0.analysis.anomalies.154.5x5degSpatialTrends.196001-202012.nc\n"
     ]
    },
    {
     "name": "stderr",
     "output_type": "stream",
     "text": [
      "/glade/work/jonahshaw/miniconda3/envs/cheydask/lib/python3.7/site-packages/dask/array/numpy_compat.py:41: RuntimeWarning: invalid value encountered in true_divide\n",
      "  x = np.divide(x1, x2, out)\n"
     ]
    },
    {
     "name": "stdout",
     "output_type": "stream",
     "text": [
      "/glade/work/jonahshaw/trend_uncertainty/nathan/OBS_LENS/HadCRUT5//HadCRUT.5.0.1.0.analysis.anomalies.155.5x5degSpatialTrends.196001-202012.nc\n"
     ]
    },
    {
     "name": "stderr",
     "output_type": "stream",
     "text": [
      "/glade/work/jonahshaw/miniconda3/envs/cheydask/lib/python3.7/site-packages/dask/array/numpy_compat.py:41: RuntimeWarning: invalid value encountered in true_divide\n",
      "  x = np.divide(x1, x2, out)\n"
     ]
    },
    {
     "name": "stdout",
     "output_type": "stream",
     "text": [
      "/glade/work/jonahshaw/trend_uncertainty/nathan/OBS_LENS/HadCRUT5//HadCRUT.5.0.1.0.analysis.anomalies.156.5x5degSpatialTrends.196001-202012.nc\n"
     ]
    },
    {
     "name": "stderr",
     "output_type": "stream",
     "text": [
      "/glade/work/jonahshaw/miniconda3/envs/cheydask/lib/python3.7/site-packages/dask/array/numpy_compat.py:41: RuntimeWarning: invalid value encountered in true_divide\n",
      "  x = np.divide(x1, x2, out)\n"
     ]
    },
    {
     "name": "stdout",
     "output_type": "stream",
     "text": [
      "/glade/work/jonahshaw/trend_uncertainty/nathan/OBS_LENS/HadCRUT5//HadCRUT.5.0.1.0.analysis.anomalies.157.5x5degSpatialTrends.196001-202012.nc\n"
     ]
    },
    {
     "name": "stderr",
     "output_type": "stream",
     "text": [
      "/glade/work/jonahshaw/miniconda3/envs/cheydask/lib/python3.7/site-packages/dask/array/numpy_compat.py:41: RuntimeWarning: invalid value encountered in true_divide\n",
      "  x = np.divide(x1, x2, out)\n"
     ]
    },
    {
     "name": "stdout",
     "output_type": "stream",
     "text": [
      "/glade/work/jonahshaw/trend_uncertainty/nathan/OBS_LENS/HadCRUT5//HadCRUT.5.0.1.0.analysis.anomalies.158.5x5degSpatialTrends.196001-202012.nc\n"
     ]
    },
    {
     "name": "stderr",
     "output_type": "stream",
     "text": [
      "/glade/work/jonahshaw/miniconda3/envs/cheydask/lib/python3.7/site-packages/dask/array/numpy_compat.py:41: RuntimeWarning: invalid value encountered in true_divide\n",
      "  x = np.divide(x1, x2, out)\n"
     ]
    },
    {
     "name": "stdout",
     "output_type": "stream",
     "text": [
      "/glade/work/jonahshaw/trend_uncertainty/nathan/OBS_LENS/HadCRUT5//HadCRUT.5.0.1.0.analysis.anomalies.159.5x5degSpatialTrends.196001-202012.nc\n"
     ]
    },
    {
     "name": "stderr",
     "output_type": "stream",
     "text": [
      "/glade/work/jonahshaw/miniconda3/envs/cheydask/lib/python3.7/site-packages/dask/array/numpy_compat.py:41: RuntimeWarning: invalid value encountered in true_divide\n",
      "  x = np.divide(x1, x2, out)\n"
     ]
    },
    {
     "name": "stdout",
     "output_type": "stream",
     "text": [
      "/glade/work/jonahshaw/trend_uncertainty/nathan/OBS_LENS/HadCRUT5//HadCRUT.5.0.1.0.analysis.anomalies.16.5x5degSpatialTrends.196001-202012.nc\n"
     ]
    },
    {
     "name": "stderr",
     "output_type": "stream",
     "text": [
      "/glade/work/jonahshaw/miniconda3/envs/cheydask/lib/python3.7/site-packages/dask/array/numpy_compat.py:41: RuntimeWarning: invalid value encountered in true_divide\n",
      "  x = np.divide(x1, x2, out)\n"
     ]
    },
    {
     "name": "stdout",
     "output_type": "stream",
     "text": [
      "/glade/work/jonahshaw/trend_uncertainty/nathan/OBS_LENS/HadCRUT5//HadCRUT.5.0.1.0.analysis.anomalies.160.5x5degSpatialTrends.196001-202012.nc\n"
     ]
    },
    {
     "name": "stderr",
     "output_type": "stream",
     "text": [
      "/glade/work/jonahshaw/miniconda3/envs/cheydask/lib/python3.7/site-packages/dask/array/numpy_compat.py:41: RuntimeWarning: invalid value encountered in true_divide\n",
      "  x = np.divide(x1, x2, out)\n"
     ]
    },
    {
     "name": "stdout",
     "output_type": "stream",
     "text": [
      "/glade/work/jonahshaw/trend_uncertainty/nathan/OBS_LENS/HadCRUT5//HadCRUT.5.0.1.0.analysis.anomalies.161.5x5degSpatialTrends.196001-202012.nc\n"
     ]
    },
    {
     "name": "stderr",
     "output_type": "stream",
     "text": [
      "/glade/work/jonahshaw/miniconda3/envs/cheydask/lib/python3.7/site-packages/dask/array/numpy_compat.py:41: RuntimeWarning: invalid value encountered in true_divide\n",
      "  x = np.divide(x1, x2, out)\n"
     ]
    },
    {
     "name": "stdout",
     "output_type": "stream",
     "text": [
      "/glade/work/jonahshaw/trend_uncertainty/nathan/OBS_LENS/HadCRUT5//HadCRUT.5.0.1.0.analysis.anomalies.162.5x5degSpatialTrends.196001-202012.nc\n"
     ]
    },
    {
     "name": "stderr",
     "output_type": "stream",
     "text": [
      "/glade/work/jonahshaw/miniconda3/envs/cheydask/lib/python3.7/site-packages/dask/array/numpy_compat.py:41: RuntimeWarning: invalid value encountered in true_divide\n",
      "  x = np.divide(x1, x2, out)\n"
     ]
    },
    {
     "name": "stdout",
     "output_type": "stream",
     "text": [
      "/glade/work/jonahshaw/trend_uncertainty/nathan/OBS_LENS/HadCRUT5//HadCRUT.5.0.1.0.analysis.anomalies.163.5x5degSpatialTrends.196001-202012.nc\n"
     ]
    },
    {
     "name": "stderr",
     "output_type": "stream",
     "text": [
      "/glade/work/jonahshaw/miniconda3/envs/cheydask/lib/python3.7/site-packages/dask/array/numpy_compat.py:41: RuntimeWarning: invalid value encountered in true_divide\n",
      "  x = np.divide(x1, x2, out)\n"
     ]
    },
    {
     "name": "stdout",
     "output_type": "stream",
     "text": [
      "/glade/work/jonahshaw/trend_uncertainty/nathan/OBS_LENS/HadCRUT5//HadCRUT.5.0.1.0.analysis.anomalies.164.5x5degSpatialTrends.196001-202012.nc\n"
     ]
    },
    {
     "name": "stderr",
     "output_type": "stream",
     "text": [
      "/glade/work/jonahshaw/miniconda3/envs/cheydask/lib/python3.7/site-packages/dask/array/numpy_compat.py:41: RuntimeWarning: invalid value encountered in true_divide\n",
      "  x = np.divide(x1, x2, out)\n"
     ]
    },
    {
     "name": "stdout",
     "output_type": "stream",
     "text": [
      "/glade/work/jonahshaw/trend_uncertainty/nathan/OBS_LENS/HadCRUT5//HadCRUT.5.0.1.0.analysis.anomalies.165.5x5degSpatialTrends.196001-202012.nc\n"
     ]
    },
    {
     "name": "stderr",
     "output_type": "stream",
     "text": [
      "/glade/work/jonahshaw/miniconda3/envs/cheydask/lib/python3.7/site-packages/dask/array/numpy_compat.py:41: RuntimeWarning: invalid value encountered in true_divide\n",
      "  x = np.divide(x1, x2, out)\n"
     ]
    },
    {
     "name": "stdout",
     "output_type": "stream",
     "text": [
      "/glade/work/jonahshaw/trend_uncertainty/nathan/OBS_LENS/HadCRUT5//HadCRUT.5.0.1.0.analysis.anomalies.166.5x5degSpatialTrends.196001-202012.nc\n"
     ]
    },
    {
     "name": "stderr",
     "output_type": "stream",
     "text": [
      "/glade/work/jonahshaw/miniconda3/envs/cheydask/lib/python3.7/site-packages/dask/array/numpy_compat.py:41: RuntimeWarning: invalid value encountered in true_divide\n",
      "  x = np.divide(x1, x2, out)\n"
     ]
    },
    {
     "name": "stdout",
     "output_type": "stream",
     "text": [
      "/glade/work/jonahshaw/trend_uncertainty/nathan/OBS_LENS/HadCRUT5//HadCRUT.5.0.1.0.analysis.anomalies.167.5x5degSpatialTrends.196001-202012.nc\n"
     ]
    },
    {
     "name": "stderr",
     "output_type": "stream",
     "text": [
      "/glade/work/jonahshaw/miniconda3/envs/cheydask/lib/python3.7/site-packages/dask/array/numpy_compat.py:41: RuntimeWarning: invalid value encountered in true_divide\n",
      "  x = np.divide(x1, x2, out)\n"
     ]
    },
    {
     "name": "stdout",
     "output_type": "stream",
     "text": [
      "/glade/work/jonahshaw/trend_uncertainty/nathan/OBS_LENS/HadCRUT5//HadCRUT.5.0.1.0.analysis.anomalies.168.5x5degSpatialTrends.196001-202012.nc\n"
     ]
    },
    {
     "name": "stderr",
     "output_type": "stream",
     "text": [
      "/glade/work/jonahshaw/miniconda3/envs/cheydask/lib/python3.7/site-packages/dask/array/numpy_compat.py:41: RuntimeWarning: invalid value encountered in true_divide\n",
      "  x = np.divide(x1, x2, out)\n"
     ]
    },
    {
     "name": "stdout",
     "output_type": "stream",
     "text": [
      "/glade/work/jonahshaw/trend_uncertainty/nathan/OBS_LENS/HadCRUT5//HadCRUT.5.0.1.0.analysis.anomalies.169.5x5degSpatialTrends.196001-202012.nc\n"
     ]
    },
    {
     "name": "stderr",
     "output_type": "stream",
     "text": [
      "/glade/work/jonahshaw/miniconda3/envs/cheydask/lib/python3.7/site-packages/dask/array/numpy_compat.py:41: RuntimeWarning: invalid value encountered in true_divide\n",
      "  x = np.divide(x1, x2, out)\n"
     ]
    },
    {
     "name": "stdout",
     "output_type": "stream",
     "text": [
      "/glade/work/jonahshaw/trend_uncertainty/nathan/OBS_LENS/HadCRUT5//HadCRUT.5.0.1.0.analysis.anomalies.17.5x5degSpatialTrends.196001-202012.nc\n"
     ]
    },
    {
     "name": "stderr",
     "output_type": "stream",
     "text": [
      "/glade/work/jonahshaw/miniconda3/envs/cheydask/lib/python3.7/site-packages/dask/array/numpy_compat.py:41: RuntimeWarning: invalid value encountered in true_divide\n",
      "  x = np.divide(x1, x2, out)\n"
     ]
    },
    {
     "name": "stdout",
     "output_type": "stream",
     "text": [
      "/glade/work/jonahshaw/trend_uncertainty/nathan/OBS_LENS/HadCRUT5//HadCRUT.5.0.1.0.analysis.anomalies.170.5x5degSpatialTrends.196001-202012.nc\n"
     ]
    },
    {
     "name": "stderr",
     "output_type": "stream",
     "text": [
      "/glade/work/jonahshaw/miniconda3/envs/cheydask/lib/python3.7/site-packages/dask/array/numpy_compat.py:41: RuntimeWarning: invalid value encountered in true_divide\n",
      "  x = np.divide(x1, x2, out)\n"
     ]
    },
    {
     "name": "stdout",
     "output_type": "stream",
     "text": [
      "/glade/work/jonahshaw/trend_uncertainty/nathan/OBS_LENS/HadCRUT5//HadCRUT.5.0.1.0.analysis.anomalies.171.5x5degSpatialTrends.196001-202012.nc\n"
     ]
    },
    {
     "name": "stderr",
     "output_type": "stream",
     "text": [
      "/glade/work/jonahshaw/miniconda3/envs/cheydask/lib/python3.7/site-packages/dask/array/numpy_compat.py:41: RuntimeWarning: invalid value encountered in true_divide\n",
      "  x = np.divide(x1, x2, out)\n"
     ]
    },
    {
     "name": "stdout",
     "output_type": "stream",
     "text": [
      "/glade/work/jonahshaw/trend_uncertainty/nathan/OBS_LENS/HadCRUT5//HadCRUT.5.0.1.0.analysis.anomalies.172.5x5degSpatialTrends.196001-202012.nc\n"
     ]
    },
    {
     "name": "stderr",
     "output_type": "stream",
     "text": [
      "/glade/work/jonahshaw/miniconda3/envs/cheydask/lib/python3.7/site-packages/dask/array/numpy_compat.py:41: RuntimeWarning: invalid value encountered in true_divide\n",
      "  x = np.divide(x1, x2, out)\n"
     ]
    },
    {
     "name": "stdout",
     "output_type": "stream",
     "text": [
      "/glade/work/jonahshaw/trend_uncertainty/nathan/OBS_LENS/HadCRUT5//HadCRUT.5.0.1.0.analysis.anomalies.173.5x5degSpatialTrends.196001-202012.nc\n"
     ]
    },
    {
     "name": "stderr",
     "output_type": "stream",
     "text": [
      "/glade/work/jonahshaw/miniconda3/envs/cheydask/lib/python3.7/site-packages/dask/array/numpy_compat.py:41: RuntimeWarning: invalid value encountered in true_divide\n",
      "  x = np.divide(x1, x2, out)\n"
     ]
    },
    {
     "name": "stdout",
     "output_type": "stream",
     "text": [
      "/glade/work/jonahshaw/trend_uncertainty/nathan/OBS_LENS/HadCRUT5//HadCRUT.5.0.1.0.analysis.anomalies.174.5x5degSpatialTrends.196001-202012.nc\n"
     ]
    },
    {
     "name": "stderr",
     "output_type": "stream",
     "text": [
      "/glade/work/jonahshaw/miniconda3/envs/cheydask/lib/python3.7/site-packages/dask/array/numpy_compat.py:41: RuntimeWarning: invalid value encountered in true_divide\n",
      "  x = np.divide(x1, x2, out)\n"
     ]
    },
    {
     "name": "stdout",
     "output_type": "stream",
     "text": [
      "/glade/work/jonahshaw/trend_uncertainty/nathan/OBS_LENS/HadCRUT5//HadCRUT.5.0.1.0.analysis.anomalies.175.5x5degSpatialTrends.196001-202012.nc\n"
     ]
    },
    {
     "name": "stderr",
     "output_type": "stream",
     "text": [
      "/glade/work/jonahshaw/miniconda3/envs/cheydask/lib/python3.7/site-packages/dask/array/numpy_compat.py:41: RuntimeWarning: invalid value encountered in true_divide\n",
      "  x = np.divide(x1, x2, out)\n"
     ]
    },
    {
     "name": "stdout",
     "output_type": "stream",
     "text": [
      "/glade/work/jonahshaw/trend_uncertainty/nathan/OBS_LENS/HadCRUT5//HadCRUT.5.0.1.0.analysis.anomalies.176.5x5degSpatialTrends.196001-202012.nc\n"
     ]
    },
    {
     "name": "stderr",
     "output_type": "stream",
     "text": [
      "/glade/work/jonahshaw/miniconda3/envs/cheydask/lib/python3.7/site-packages/dask/array/numpy_compat.py:41: RuntimeWarning: invalid value encountered in true_divide\n",
      "  x = np.divide(x1, x2, out)\n"
     ]
    },
    {
     "name": "stdout",
     "output_type": "stream",
     "text": [
      "/glade/work/jonahshaw/trend_uncertainty/nathan/OBS_LENS/HadCRUT5//HadCRUT.5.0.1.0.analysis.anomalies.177.5x5degSpatialTrends.196001-202012.nc\n"
     ]
    },
    {
     "name": "stderr",
     "output_type": "stream",
     "text": [
      "/glade/work/jonahshaw/miniconda3/envs/cheydask/lib/python3.7/site-packages/dask/array/numpy_compat.py:41: RuntimeWarning: invalid value encountered in true_divide\n",
      "  x = np.divide(x1, x2, out)\n"
     ]
    },
    {
     "name": "stdout",
     "output_type": "stream",
     "text": [
      "/glade/work/jonahshaw/trend_uncertainty/nathan/OBS_LENS/HadCRUT5//HadCRUT.5.0.1.0.analysis.anomalies.178.5x5degSpatialTrends.196001-202012.nc\n"
     ]
    },
    {
     "name": "stderr",
     "output_type": "stream",
     "text": [
      "/glade/work/jonahshaw/miniconda3/envs/cheydask/lib/python3.7/site-packages/dask/array/numpy_compat.py:41: RuntimeWarning: invalid value encountered in true_divide\n",
      "  x = np.divide(x1, x2, out)\n"
     ]
    },
    {
     "name": "stdout",
     "output_type": "stream",
     "text": [
      "/glade/work/jonahshaw/trend_uncertainty/nathan/OBS_LENS/HadCRUT5//HadCRUT.5.0.1.0.analysis.anomalies.179.5x5degSpatialTrends.196001-202012.nc\n"
     ]
    },
    {
     "name": "stderr",
     "output_type": "stream",
     "text": [
      "/glade/work/jonahshaw/miniconda3/envs/cheydask/lib/python3.7/site-packages/dask/array/numpy_compat.py:41: RuntimeWarning: invalid value encountered in true_divide\n",
      "  x = np.divide(x1, x2, out)\n"
     ]
    },
    {
     "name": "stdout",
     "output_type": "stream",
     "text": [
      "/glade/work/jonahshaw/trend_uncertainty/nathan/OBS_LENS/HadCRUT5//HadCRUT.5.0.1.0.analysis.anomalies.18.5x5degSpatialTrends.196001-202012.nc\n"
     ]
    },
    {
     "name": "stderr",
     "output_type": "stream",
     "text": [
      "/glade/work/jonahshaw/miniconda3/envs/cheydask/lib/python3.7/site-packages/dask/array/numpy_compat.py:41: RuntimeWarning: invalid value encountered in true_divide\n",
      "  x = np.divide(x1, x2, out)\n"
     ]
    },
    {
     "name": "stdout",
     "output_type": "stream",
     "text": [
      "/glade/work/jonahshaw/trend_uncertainty/nathan/OBS_LENS/HadCRUT5//HadCRUT.5.0.1.0.analysis.anomalies.180.5x5degSpatialTrends.196001-202012.nc\n"
     ]
    },
    {
     "name": "stderr",
     "output_type": "stream",
     "text": [
      "/glade/work/jonahshaw/miniconda3/envs/cheydask/lib/python3.7/site-packages/dask/array/numpy_compat.py:41: RuntimeWarning: invalid value encountered in true_divide\n",
      "  x = np.divide(x1, x2, out)\n"
     ]
    },
    {
     "name": "stdout",
     "output_type": "stream",
     "text": [
      "/glade/work/jonahshaw/trend_uncertainty/nathan/OBS_LENS/HadCRUT5//HadCRUT.5.0.1.0.analysis.anomalies.181.5x5degSpatialTrends.196001-202012.nc\n"
     ]
    },
    {
     "name": "stderr",
     "output_type": "stream",
     "text": [
      "/glade/work/jonahshaw/miniconda3/envs/cheydask/lib/python3.7/site-packages/dask/array/numpy_compat.py:41: RuntimeWarning: invalid value encountered in true_divide\n",
      "  x = np.divide(x1, x2, out)\n"
     ]
    },
    {
     "name": "stdout",
     "output_type": "stream",
     "text": [
      "/glade/work/jonahshaw/trend_uncertainty/nathan/OBS_LENS/HadCRUT5//HadCRUT.5.0.1.0.analysis.anomalies.182.5x5degSpatialTrends.196001-202012.nc\n"
     ]
    },
    {
     "name": "stderr",
     "output_type": "stream",
     "text": [
      "/glade/work/jonahshaw/miniconda3/envs/cheydask/lib/python3.7/site-packages/dask/array/numpy_compat.py:41: RuntimeWarning: invalid value encountered in true_divide\n",
      "  x = np.divide(x1, x2, out)\n"
     ]
    },
    {
     "name": "stdout",
     "output_type": "stream",
     "text": [
      "/glade/work/jonahshaw/trend_uncertainty/nathan/OBS_LENS/HadCRUT5//HadCRUT.5.0.1.0.analysis.anomalies.183.5x5degSpatialTrends.196001-202012.nc\n"
     ]
    },
    {
     "name": "stderr",
     "output_type": "stream",
     "text": [
      "/glade/work/jonahshaw/miniconda3/envs/cheydask/lib/python3.7/site-packages/dask/array/numpy_compat.py:41: RuntimeWarning: invalid value encountered in true_divide\n",
      "  x = np.divide(x1, x2, out)\n"
     ]
    },
    {
     "name": "stdout",
     "output_type": "stream",
     "text": [
      "/glade/work/jonahshaw/trend_uncertainty/nathan/OBS_LENS/HadCRUT5//HadCRUT.5.0.1.0.analysis.anomalies.184.5x5degSpatialTrends.196001-202012.nc\n"
     ]
    },
    {
     "name": "stderr",
     "output_type": "stream",
     "text": [
      "/glade/work/jonahshaw/miniconda3/envs/cheydask/lib/python3.7/site-packages/dask/array/numpy_compat.py:41: RuntimeWarning: invalid value encountered in true_divide\n",
      "  x = np.divide(x1, x2, out)\n"
     ]
    },
    {
     "name": "stdout",
     "output_type": "stream",
     "text": [
      "/glade/work/jonahshaw/trend_uncertainty/nathan/OBS_LENS/HadCRUT5//HadCRUT.5.0.1.0.analysis.anomalies.185.5x5degSpatialTrends.196001-202012.nc\n"
     ]
    },
    {
     "name": "stderr",
     "output_type": "stream",
     "text": [
      "/glade/work/jonahshaw/miniconda3/envs/cheydask/lib/python3.7/site-packages/dask/array/numpy_compat.py:41: RuntimeWarning: invalid value encountered in true_divide\n",
      "  x = np.divide(x1, x2, out)\n"
     ]
    },
    {
     "name": "stdout",
     "output_type": "stream",
     "text": [
      "/glade/work/jonahshaw/trend_uncertainty/nathan/OBS_LENS/HadCRUT5//HadCRUT.5.0.1.0.analysis.anomalies.186.5x5degSpatialTrends.196001-202012.nc\n"
     ]
    },
    {
     "name": "stderr",
     "output_type": "stream",
     "text": [
      "/glade/work/jonahshaw/miniconda3/envs/cheydask/lib/python3.7/site-packages/dask/array/numpy_compat.py:41: RuntimeWarning: invalid value encountered in true_divide\n",
      "  x = np.divide(x1, x2, out)\n"
     ]
    },
    {
     "name": "stdout",
     "output_type": "stream",
     "text": [
      "/glade/work/jonahshaw/trend_uncertainty/nathan/OBS_LENS/HadCRUT5//HadCRUT.5.0.1.0.analysis.anomalies.187.5x5degSpatialTrends.196001-202012.nc\n"
     ]
    },
    {
     "name": "stderr",
     "output_type": "stream",
     "text": [
      "/glade/work/jonahshaw/miniconda3/envs/cheydask/lib/python3.7/site-packages/dask/array/numpy_compat.py:41: RuntimeWarning: invalid value encountered in true_divide\n",
      "  x = np.divide(x1, x2, out)\n"
     ]
    },
    {
     "name": "stdout",
     "output_type": "stream",
     "text": [
      "/glade/work/jonahshaw/trend_uncertainty/nathan/OBS_LENS/HadCRUT5//HadCRUT.5.0.1.0.analysis.anomalies.188.5x5degSpatialTrends.196001-202012.nc\n"
     ]
    },
    {
     "name": "stderr",
     "output_type": "stream",
     "text": [
      "/glade/work/jonahshaw/miniconda3/envs/cheydask/lib/python3.7/site-packages/dask/array/numpy_compat.py:41: RuntimeWarning: invalid value encountered in true_divide\n",
      "  x = np.divide(x1, x2, out)\n"
     ]
    },
    {
     "name": "stdout",
     "output_type": "stream",
     "text": [
      "/glade/work/jonahshaw/trend_uncertainty/nathan/OBS_LENS/HadCRUT5//HadCRUT.5.0.1.0.analysis.anomalies.189.5x5degSpatialTrends.196001-202012.nc\n"
     ]
    },
    {
     "name": "stderr",
     "output_type": "stream",
     "text": [
      "/glade/work/jonahshaw/miniconda3/envs/cheydask/lib/python3.7/site-packages/dask/array/numpy_compat.py:41: RuntimeWarning: invalid value encountered in true_divide\n",
      "  x = np.divide(x1, x2, out)\n"
     ]
    },
    {
     "name": "stdout",
     "output_type": "stream",
     "text": [
      "/glade/work/jonahshaw/trend_uncertainty/nathan/OBS_LENS/HadCRUT5//HadCRUT.5.0.1.0.analysis.anomalies.19.5x5degSpatialTrends.196001-202012.nc\n"
     ]
    },
    {
     "name": "stderr",
     "output_type": "stream",
     "text": [
      "/glade/work/jonahshaw/miniconda3/envs/cheydask/lib/python3.7/site-packages/dask/array/numpy_compat.py:41: RuntimeWarning: invalid value encountered in true_divide\n",
      "  x = np.divide(x1, x2, out)\n"
     ]
    },
    {
     "name": "stdout",
     "output_type": "stream",
     "text": [
      "/glade/work/jonahshaw/trend_uncertainty/nathan/OBS_LENS/HadCRUT5//HadCRUT.5.0.1.0.analysis.anomalies.190.5x5degSpatialTrends.196001-202012.nc\n"
     ]
    },
    {
     "name": "stderr",
     "output_type": "stream",
     "text": [
      "/glade/work/jonahshaw/miniconda3/envs/cheydask/lib/python3.7/site-packages/dask/array/numpy_compat.py:41: RuntimeWarning: invalid value encountered in true_divide\n",
      "  x = np.divide(x1, x2, out)\n"
     ]
    },
    {
     "name": "stdout",
     "output_type": "stream",
     "text": [
      "/glade/work/jonahshaw/trend_uncertainty/nathan/OBS_LENS/HadCRUT5//HadCRUT.5.0.1.0.analysis.anomalies.191.5x5degSpatialTrends.196001-202012.nc\n"
     ]
    },
    {
     "name": "stderr",
     "output_type": "stream",
     "text": [
      "/glade/work/jonahshaw/miniconda3/envs/cheydask/lib/python3.7/site-packages/dask/array/numpy_compat.py:41: RuntimeWarning: invalid value encountered in true_divide\n",
      "  x = np.divide(x1, x2, out)\n"
     ]
    },
    {
     "name": "stdout",
     "output_type": "stream",
     "text": [
      "/glade/work/jonahshaw/trend_uncertainty/nathan/OBS_LENS/HadCRUT5//HadCRUT.5.0.1.0.analysis.anomalies.192.5x5degSpatialTrends.196001-202012.nc\n"
     ]
    },
    {
     "name": "stderr",
     "output_type": "stream",
     "text": [
      "/glade/work/jonahshaw/miniconda3/envs/cheydask/lib/python3.7/site-packages/dask/array/numpy_compat.py:41: RuntimeWarning: invalid value encountered in true_divide\n",
      "  x = np.divide(x1, x2, out)\n"
     ]
    },
    {
     "name": "stdout",
     "output_type": "stream",
     "text": [
      "/glade/work/jonahshaw/trend_uncertainty/nathan/OBS_LENS/HadCRUT5//HadCRUT.5.0.1.0.analysis.anomalies.193.5x5degSpatialTrends.196001-202012.nc\n"
     ]
    },
    {
     "name": "stderr",
     "output_type": "stream",
     "text": [
      "/glade/work/jonahshaw/miniconda3/envs/cheydask/lib/python3.7/site-packages/dask/array/numpy_compat.py:41: RuntimeWarning: invalid value encountered in true_divide\n",
      "  x = np.divide(x1, x2, out)\n"
     ]
    },
    {
     "name": "stdout",
     "output_type": "stream",
     "text": [
      "/glade/work/jonahshaw/trend_uncertainty/nathan/OBS_LENS/HadCRUT5//HadCRUT.5.0.1.0.analysis.anomalies.194.5x5degSpatialTrends.196001-202012.nc\n"
     ]
    },
    {
     "name": "stderr",
     "output_type": "stream",
     "text": [
      "/glade/work/jonahshaw/miniconda3/envs/cheydask/lib/python3.7/site-packages/dask/array/numpy_compat.py:41: RuntimeWarning: invalid value encountered in true_divide\n",
      "  x = np.divide(x1, x2, out)\n"
     ]
    },
    {
     "name": "stdout",
     "output_type": "stream",
     "text": [
      "/glade/work/jonahshaw/trend_uncertainty/nathan/OBS_LENS/HadCRUT5//HadCRUT.5.0.1.0.analysis.anomalies.195.5x5degSpatialTrends.196001-202012.nc\n"
     ]
    },
    {
     "name": "stderr",
     "output_type": "stream",
     "text": [
      "/glade/work/jonahshaw/miniconda3/envs/cheydask/lib/python3.7/site-packages/dask/array/numpy_compat.py:41: RuntimeWarning: invalid value encountered in true_divide\n",
      "  x = np.divide(x1, x2, out)\n"
     ]
    },
    {
     "name": "stdout",
     "output_type": "stream",
     "text": [
      "/glade/work/jonahshaw/trend_uncertainty/nathan/OBS_LENS/HadCRUT5//HadCRUT.5.0.1.0.analysis.anomalies.196.5x5degSpatialTrends.196001-202012.nc\n"
     ]
    },
    {
     "name": "stderr",
     "output_type": "stream",
     "text": [
      "/glade/work/jonahshaw/miniconda3/envs/cheydask/lib/python3.7/site-packages/dask/array/numpy_compat.py:41: RuntimeWarning: invalid value encountered in true_divide\n",
      "  x = np.divide(x1, x2, out)\n"
     ]
    },
    {
     "name": "stdout",
     "output_type": "stream",
     "text": [
      "/glade/work/jonahshaw/trend_uncertainty/nathan/OBS_LENS/HadCRUT5//HadCRUT.5.0.1.0.analysis.anomalies.197.5x5degSpatialTrends.196001-202012.nc\n"
     ]
    },
    {
     "name": "stderr",
     "output_type": "stream",
     "text": [
      "/glade/work/jonahshaw/miniconda3/envs/cheydask/lib/python3.7/site-packages/dask/array/numpy_compat.py:41: RuntimeWarning: invalid value encountered in true_divide\n",
      "  x = np.divide(x1, x2, out)\n"
     ]
    },
    {
     "name": "stdout",
     "output_type": "stream",
     "text": [
      "/glade/work/jonahshaw/trend_uncertainty/nathan/OBS_LENS/HadCRUT5//HadCRUT.5.0.1.0.analysis.anomalies.198.5x5degSpatialTrends.196001-202012.nc\n"
     ]
    },
    {
     "name": "stderr",
     "output_type": "stream",
     "text": [
      "/glade/work/jonahshaw/miniconda3/envs/cheydask/lib/python3.7/site-packages/dask/array/numpy_compat.py:41: RuntimeWarning: invalid value encountered in true_divide\n",
      "  x = np.divide(x1, x2, out)\n"
     ]
    },
    {
     "name": "stdout",
     "output_type": "stream",
     "text": [
      "/glade/work/jonahshaw/trend_uncertainty/nathan/OBS_LENS/HadCRUT5//HadCRUT.5.0.1.0.analysis.anomalies.199.5x5degSpatialTrends.196001-202012.nc\n"
     ]
    },
    {
     "name": "stderr",
     "output_type": "stream",
     "text": [
      "/glade/work/jonahshaw/miniconda3/envs/cheydask/lib/python3.7/site-packages/dask/array/numpy_compat.py:41: RuntimeWarning: invalid value encountered in true_divide\n",
      "  x = np.divide(x1, x2, out)\n"
     ]
    },
    {
     "name": "stdout",
     "output_type": "stream",
     "text": [
      "/glade/work/jonahshaw/trend_uncertainty/nathan/OBS_LENS/HadCRUT5//HadCRUT.5.0.1.0.analysis.anomalies.2.5x5degSpatialTrends.196001-202012.nc\n"
     ]
    },
    {
     "name": "stderr",
     "output_type": "stream",
     "text": [
      "/glade/work/jonahshaw/miniconda3/envs/cheydask/lib/python3.7/site-packages/dask/array/numpy_compat.py:41: RuntimeWarning: invalid value encountered in true_divide\n",
      "  x = np.divide(x1, x2, out)\n"
     ]
    },
    {
     "name": "stdout",
     "output_type": "stream",
     "text": [
      "/glade/work/jonahshaw/trend_uncertainty/nathan/OBS_LENS/HadCRUT5//HadCRUT.5.0.1.0.analysis.anomalies.20.5x5degSpatialTrends.196001-202012.nc\n"
     ]
    },
    {
     "name": "stderr",
     "output_type": "stream",
     "text": [
      "/glade/work/jonahshaw/miniconda3/envs/cheydask/lib/python3.7/site-packages/dask/array/numpy_compat.py:41: RuntimeWarning: invalid value encountered in true_divide\n",
      "  x = np.divide(x1, x2, out)\n"
     ]
    },
    {
     "name": "stdout",
     "output_type": "stream",
     "text": [
      "/glade/work/jonahshaw/trend_uncertainty/nathan/OBS_LENS/HadCRUT5//HadCRUT.5.0.1.0.analysis.anomalies.200.5x5degSpatialTrends.196001-202012.nc\n"
     ]
    },
    {
     "name": "stderr",
     "output_type": "stream",
     "text": [
      "/glade/work/jonahshaw/miniconda3/envs/cheydask/lib/python3.7/site-packages/dask/array/numpy_compat.py:41: RuntimeWarning: invalid value encountered in true_divide\n",
      "  x = np.divide(x1, x2, out)\n"
     ]
    },
    {
     "name": "stdout",
     "output_type": "stream",
     "text": [
      "/glade/work/jonahshaw/trend_uncertainty/nathan/OBS_LENS/HadCRUT5//HadCRUT.5.0.1.0.analysis.anomalies.21.5x5degSpatialTrends.196001-202012.nc\n"
     ]
    },
    {
     "name": "stderr",
     "output_type": "stream",
     "text": [
      "/glade/work/jonahshaw/miniconda3/envs/cheydask/lib/python3.7/site-packages/dask/array/numpy_compat.py:41: RuntimeWarning: invalid value encountered in true_divide\n",
      "  x = np.divide(x1, x2, out)\n"
     ]
    },
    {
     "name": "stdout",
     "output_type": "stream",
     "text": [
      "/glade/work/jonahshaw/trend_uncertainty/nathan/OBS_LENS/HadCRUT5//HadCRUT.5.0.1.0.analysis.anomalies.22.5x5degSpatialTrends.196001-202012.nc\n"
     ]
    },
    {
     "name": "stderr",
     "output_type": "stream",
     "text": [
      "/glade/work/jonahshaw/miniconda3/envs/cheydask/lib/python3.7/site-packages/dask/array/numpy_compat.py:41: RuntimeWarning: invalid value encountered in true_divide\n",
      "  x = np.divide(x1, x2, out)\n"
     ]
    },
    {
     "name": "stdout",
     "output_type": "stream",
     "text": [
      "/glade/work/jonahshaw/trend_uncertainty/nathan/OBS_LENS/HadCRUT5//HadCRUT.5.0.1.0.analysis.anomalies.23.5x5degSpatialTrends.196001-202012.nc\n"
     ]
    },
    {
     "name": "stderr",
     "output_type": "stream",
     "text": [
      "/glade/work/jonahshaw/miniconda3/envs/cheydask/lib/python3.7/site-packages/dask/array/numpy_compat.py:41: RuntimeWarning: invalid value encountered in true_divide\n",
      "  x = np.divide(x1, x2, out)\n"
     ]
    },
    {
     "name": "stdout",
     "output_type": "stream",
     "text": [
      "/glade/work/jonahshaw/trend_uncertainty/nathan/OBS_LENS/HadCRUT5//HadCRUT.5.0.1.0.analysis.anomalies.24.5x5degSpatialTrends.196001-202012.nc\n"
     ]
    },
    {
     "name": "stderr",
     "output_type": "stream",
     "text": [
      "/glade/work/jonahshaw/miniconda3/envs/cheydask/lib/python3.7/site-packages/dask/array/numpy_compat.py:41: RuntimeWarning: invalid value encountered in true_divide\n",
      "  x = np.divide(x1, x2, out)\n"
     ]
    },
    {
     "name": "stdout",
     "output_type": "stream",
     "text": [
      "/glade/work/jonahshaw/trend_uncertainty/nathan/OBS_LENS/HadCRUT5//HadCRUT.5.0.1.0.analysis.anomalies.25.5x5degSpatialTrends.196001-202012.nc\n"
     ]
    },
    {
     "name": "stderr",
     "output_type": "stream",
     "text": [
      "/glade/work/jonahshaw/miniconda3/envs/cheydask/lib/python3.7/site-packages/dask/array/numpy_compat.py:41: RuntimeWarning: invalid value encountered in true_divide\n",
      "  x = np.divide(x1, x2, out)\n"
     ]
    },
    {
     "name": "stdout",
     "output_type": "stream",
     "text": [
      "/glade/work/jonahshaw/trend_uncertainty/nathan/OBS_LENS/HadCRUT5//HadCRUT.5.0.1.0.analysis.anomalies.26.5x5degSpatialTrends.196001-202012.nc\n"
     ]
    },
    {
     "name": "stderr",
     "output_type": "stream",
     "text": [
      "/glade/work/jonahshaw/miniconda3/envs/cheydask/lib/python3.7/site-packages/dask/array/numpy_compat.py:41: RuntimeWarning: invalid value encountered in true_divide\n",
      "  x = np.divide(x1, x2, out)\n"
     ]
    },
    {
     "name": "stdout",
     "output_type": "stream",
     "text": [
      "/glade/work/jonahshaw/trend_uncertainty/nathan/OBS_LENS/HadCRUT5//HadCRUT.5.0.1.0.analysis.anomalies.27.5x5degSpatialTrends.196001-202012.nc\n"
     ]
    },
    {
     "name": "stderr",
     "output_type": "stream",
     "text": [
      "/glade/work/jonahshaw/miniconda3/envs/cheydask/lib/python3.7/site-packages/dask/array/numpy_compat.py:41: RuntimeWarning: invalid value encountered in true_divide\n",
      "  x = np.divide(x1, x2, out)\n"
     ]
    },
    {
     "name": "stdout",
     "output_type": "stream",
     "text": [
      "/glade/work/jonahshaw/trend_uncertainty/nathan/OBS_LENS/HadCRUT5//HadCRUT.5.0.1.0.analysis.anomalies.28.5x5degSpatialTrends.196001-202012.nc\n"
     ]
    },
    {
     "name": "stderr",
     "output_type": "stream",
     "text": [
      "/glade/work/jonahshaw/miniconda3/envs/cheydask/lib/python3.7/site-packages/dask/array/numpy_compat.py:41: RuntimeWarning: invalid value encountered in true_divide\n",
      "  x = np.divide(x1, x2, out)\n"
     ]
    },
    {
     "name": "stdout",
     "output_type": "stream",
     "text": [
      "/glade/work/jonahshaw/trend_uncertainty/nathan/OBS_LENS/HadCRUT5//HadCRUT.5.0.1.0.analysis.anomalies.29.5x5degSpatialTrends.196001-202012.nc\n"
     ]
    },
    {
     "name": "stderr",
     "output_type": "stream",
     "text": [
      "/glade/work/jonahshaw/miniconda3/envs/cheydask/lib/python3.7/site-packages/dask/array/numpy_compat.py:41: RuntimeWarning: invalid value encountered in true_divide\n",
      "  x = np.divide(x1, x2, out)\n"
     ]
    },
    {
     "name": "stdout",
     "output_type": "stream",
     "text": [
      "/glade/work/jonahshaw/trend_uncertainty/nathan/OBS_LENS/HadCRUT5//HadCRUT.5.0.1.0.analysis.anomalies.3.5x5degSpatialTrends.196001-202012.nc\n"
     ]
    },
    {
     "name": "stderr",
     "output_type": "stream",
     "text": [
      "/glade/work/jonahshaw/miniconda3/envs/cheydask/lib/python3.7/site-packages/dask/array/numpy_compat.py:41: RuntimeWarning: invalid value encountered in true_divide\n",
      "  x = np.divide(x1, x2, out)\n"
     ]
    },
    {
     "name": "stdout",
     "output_type": "stream",
     "text": [
      "/glade/work/jonahshaw/trend_uncertainty/nathan/OBS_LENS/HadCRUT5//HadCRUT.5.0.1.0.analysis.anomalies.30.5x5degSpatialTrends.196001-202012.nc\n"
     ]
    },
    {
     "name": "stderr",
     "output_type": "stream",
     "text": [
      "/glade/work/jonahshaw/miniconda3/envs/cheydask/lib/python3.7/site-packages/dask/array/numpy_compat.py:41: RuntimeWarning: invalid value encountered in true_divide\n",
      "  x = np.divide(x1, x2, out)\n"
     ]
    },
    {
     "name": "stdout",
     "output_type": "stream",
     "text": [
      "/glade/work/jonahshaw/trend_uncertainty/nathan/OBS_LENS/HadCRUT5//HadCRUT.5.0.1.0.analysis.anomalies.31.5x5degSpatialTrends.196001-202012.nc\n"
     ]
    },
    {
     "name": "stderr",
     "output_type": "stream",
     "text": [
      "/glade/work/jonahshaw/miniconda3/envs/cheydask/lib/python3.7/site-packages/dask/array/numpy_compat.py:41: RuntimeWarning: invalid value encountered in true_divide\n",
      "  x = np.divide(x1, x2, out)\n"
     ]
    },
    {
     "name": "stdout",
     "output_type": "stream",
     "text": [
      "/glade/work/jonahshaw/trend_uncertainty/nathan/OBS_LENS/HadCRUT5//HadCRUT.5.0.1.0.analysis.anomalies.32.5x5degSpatialTrends.196001-202012.nc\n"
     ]
    },
    {
     "name": "stderr",
     "output_type": "stream",
     "text": [
      "/glade/work/jonahshaw/miniconda3/envs/cheydask/lib/python3.7/site-packages/dask/array/numpy_compat.py:41: RuntimeWarning: invalid value encountered in true_divide\n",
      "  x = np.divide(x1, x2, out)\n"
     ]
    },
    {
     "name": "stdout",
     "output_type": "stream",
     "text": [
      "/glade/work/jonahshaw/trend_uncertainty/nathan/OBS_LENS/HadCRUT5//HadCRUT.5.0.1.0.analysis.anomalies.33.5x5degSpatialTrends.196001-202012.nc\n"
     ]
    },
    {
     "name": "stderr",
     "output_type": "stream",
     "text": [
      "/glade/work/jonahshaw/miniconda3/envs/cheydask/lib/python3.7/site-packages/dask/array/numpy_compat.py:41: RuntimeWarning: invalid value encountered in true_divide\n",
      "  x = np.divide(x1, x2, out)\n"
     ]
    },
    {
     "name": "stdout",
     "output_type": "stream",
     "text": [
      "/glade/work/jonahshaw/trend_uncertainty/nathan/OBS_LENS/HadCRUT5//HadCRUT.5.0.1.0.analysis.anomalies.34.5x5degSpatialTrends.196001-202012.nc\n"
     ]
    },
    {
     "name": "stderr",
     "output_type": "stream",
     "text": [
      "/glade/work/jonahshaw/miniconda3/envs/cheydask/lib/python3.7/site-packages/dask/array/numpy_compat.py:41: RuntimeWarning: invalid value encountered in true_divide\n",
      "  x = np.divide(x1, x2, out)\n"
     ]
    },
    {
     "name": "stdout",
     "output_type": "stream",
     "text": [
      "/glade/work/jonahshaw/trend_uncertainty/nathan/OBS_LENS/HadCRUT5//HadCRUT.5.0.1.0.analysis.anomalies.35.5x5degSpatialTrends.196001-202012.nc\n"
     ]
    },
    {
     "name": "stderr",
     "output_type": "stream",
     "text": [
      "/glade/work/jonahshaw/miniconda3/envs/cheydask/lib/python3.7/site-packages/dask/array/numpy_compat.py:41: RuntimeWarning: invalid value encountered in true_divide\n",
      "  x = np.divide(x1, x2, out)\n"
     ]
    },
    {
     "name": "stdout",
     "output_type": "stream",
     "text": [
      "/glade/work/jonahshaw/trend_uncertainty/nathan/OBS_LENS/HadCRUT5//HadCRUT.5.0.1.0.analysis.anomalies.36.5x5degSpatialTrends.196001-202012.nc\n"
     ]
    },
    {
     "name": "stderr",
     "output_type": "stream",
     "text": [
      "/glade/work/jonahshaw/miniconda3/envs/cheydask/lib/python3.7/site-packages/dask/array/numpy_compat.py:41: RuntimeWarning: invalid value encountered in true_divide\n",
      "  x = np.divide(x1, x2, out)\n"
     ]
    },
    {
     "name": "stdout",
     "output_type": "stream",
     "text": [
      "/glade/work/jonahshaw/trend_uncertainty/nathan/OBS_LENS/HadCRUT5//HadCRUT.5.0.1.0.analysis.anomalies.37.5x5degSpatialTrends.196001-202012.nc\n"
     ]
    },
    {
     "name": "stderr",
     "output_type": "stream",
     "text": [
      "/glade/work/jonahshaw/miniconda3/envs/cheydask/lib/python3.7/site-packages/dask/array/numpy_compat.py:41: RuntimeWarning: invalid value encountered in true_divide\n",
      "  x = np.divide(x1, x2, out)\n"
     ]
    },
    {
     "name": "stdout",
     "output_type": "stream",
     "text": [
      "/glade/work/jonahshaw/trend_uncertainty/nathan/OBS_LENS/HadCRUT5//HadCRUT.5.0.1.0.analysis.anomalies.38.5x5degSpatialTrends.196001-202012.nc\n"
     ]
    },
    {
     "name": "stderr",
     "output_type": "stream",
     "text": [
      "/glade/work/jonahshaw/miniconda3/envs/cheydask/lib/python3.7/site-packages/dask/array/numpy_compat.py:41: RuntimeWarning: invalid value encountered in true_divide\n",
      "  x = np.divide(x1, x2, out)\n"
     ]
    },
    {
     "name": "stdout",
     "output_type": "stream",
     "text": [
      "/glade/work/jonahshaw/trend_uncertainty/nathan/OBS_LENS/HadCRUT5//HadCRUT.5.0.1.0.analysis.anomalies.39.5x5degSpatialTrends.196001-202012.nc\n"
     ]
    },
    {
     "name": "stderr",
     "output_type": "stream",
     "text": [
      "/glade/work/jonahshaw/miniconda3/envs/cheydask/lib/python3.7/site-packages/dask/array/numpy_compat.py:41: RuntimeWarning: invalid value encountered in true_divide\n",
      "  x = np.divide(x1, x2, out)\n"
     ]
    },
    {
     "name": "stdout",
     "output_type": "stream",
     "text": [
      "/glade/work/jonahshaw/trend_uncertainty/nathan/OBS_LENS/HadCRUT5//HadCRUT.5.0.1.0.analysis.anomalies.4.5x5degSpatialTrends.196001-202012.nc\n"
     ]
    },
    {
     "name": "stderr",
     "output_type": "stream",
     "text": [
      "/glade/work/jonahshaw/miniconda3/envs/cheydask/lib/python3.7/site-packages/dask/array/numpy_compat.py:41: RuntimeWarning: invalid value encountered in true_divide\n",
      "  x = np.divide(x1, x2, out)\n"
     ]
    },
    {
     "name": "stdout",
     "output_type": "stream",
     "text": [
      "/glade/work/jonahshaw/trend_uncertainty/nathan/OBS_LENS/HadCRUT5//HadCRUT.5.0.1.0.analysis.anomalies.40.5x5degSpatialTrends.196001-202012.nc\n"
     ]
    },
    {
     "name": "stderr",
     "output_type": "stream",
     "text": [
      "/glade/work/jonahshaw/miniconda3/envs/cheydask/lib/python3.7/site-packages/dask/array/numpy_compat.py:41: RuntimeWarning: invalid value encountered in true_divide\n",
      "  x = np.divide(x1, x2, out)\n"
     ]
    },
    {
     "name": "stdout",
     "output_type": "stream",
     "text": [
      "/glade/work/jonahshaw/trend_uncertainty/nathan/OBS_LENS/HadCRUT5//HadCRUT.5.0.1.0.analysis.anomalies.41.5x5degSpatialTrends.196001-202012.nc\n"
     ]
    },
    {
     "name": "stderr",
     "output_type": "stream",
     "text": [
      "/glade/work/jonahshaw/miniconda3/envs/cheydask/lib/python3.7/site-packages/dask/array/numpy_compat.py:41: RuntimeWarning: invalid value encountered in true_divide\n",
      "  x = np.divide(x1, x2, out)\n"
     ]
    },
    {
     "name": "stdout",
     "output_type": "stream",
     "text": [
      "/glade/work/jonahshaw/trend_uncertainty/nathan/OBS_LENS/HadCRUT5//HadCRUT.5.0.1.0.analysis.anomalies.42.5x5degSpatialTrends.196001-202012.nc\n"
     ]
    },
    {
     "name": "stderr",
     "output_type": "stream",
     "text": [
      "/glade/work/jonahshaw/miniconda3/envs/cheydask/lib/python3.7/site-packages/dask/array/numpy_compat.py:41: RuntimeWarning: invalid value encountered in true_divide\n",
      "  x = np.divide(x1, x2, out)\n"
     ]
    },
    {
     "name": "stdout",
     "output_type": "stream",
     "text": [
      "/glade/work/jonahshaw/trend_uncertainty/nathan/OBS_LENS/HadCRUT5//HadCRUT.5.0.1.0.analysis.anomalies.43.5x5degSpatialTrends.196001-202012.nc\n"
     ]
    },
    {
     "name": "stderr",
     "output_type": "stream",
     "text": [
      "/glade/work/jonahshaw/miniconda3/envs/cheydask/lib/python3.7/site-packages/dask/array/numpy_compat.py:41: RuntimeWarning: invalid value encountered in true_divide\n",
      "  x = np.divide(x1, x2, out)\n"
     ]
    },
    {
     "name": "stdout",
     "output_type": "stream",
     "text": [
      "/glade/work/jonahshaw/trend_uncertainty/nathan/OBS_LENS/HadCRUT5//HadCRUT.5.0.1.0.analysis.anomalies.44.5x5degSpatialTrends.196001-202012.nc\n"
     ]
    },
    {
     "name": "stderr",
     "output_type": "stream",
     "text": [
      "/glade/work/jonahshaw/miniconda3/envs/cheydask/lib/python3.7/site-packages/dask/array/numpy_compat.py:41: RuntimeWarning: invalid value encountered in true_divide\n",
      "  x = np.divide(x1, x2, out)\n"
     ]
    },
    {
     "name": "stdout",
     "output_type": "stream",
     "text": [
      "/glade/work/jonahshaw/trend_uncertainty/nathan/OBS_LENS/HadCRUT5//HadCRUT.5.0.1.0.analysis.anomalies.45.5x5degSpatialTrends.196001-202012.nc\n"
     ]
    },
    {
     "name": "stderr",
     "output_type": "stream",
     "text": [
      "/glade/work/jonahshaw/miniconda3/envs/cheydask/lib/python3.7/site-packages/dask/array/numpy_compat.py:41: RuntimeWarning: invalid value encountered in true_divide\n",
      "  x = np.divide(x1, x2, out)\n"
     ]
    },
    {
     "name": "stdout",
     "output_type": "stream",
     "text": [
      "/glade/work/jonahshaw/trend_uncertainty/nathan/OBS_LENS/HadCRUT5//HadCRUT.5.0.1.0.analysis.anomalies.46.5x5degSpatialTrends.196001-202012.nc\n"
     ]
    },
    {
     "name": "stderr",
     "output_type": "stream",
     "text": [
      "/glade/work/jonahshaw/miniconda3/envs/cheydask/lib/python3.7/site-packages/dask/array/numpy_compat.py:41: RuntimeWarning: invalid value encountered in true_divide\n",
      "  x = np.divide(x1, x2, out)\n"
     ]
    },
    {
     "name": "stdout",
     "output_type": "stream",
     "text": [
      "/glade/work/jonahshaw/trend_uncertainty/nathan/OBS_LENS/HadCRUT5//HadCRUT.5.0.1.0.analysis.anomalies.47.5x5degSpatialTrends.196001-202012.nc\n"
     ]
    },
    {
     "name": "stderr",
     "output_type": "stream",
     "text": [
      "/glade/work/jonahshaw/miniconda3/envs/cheydask/lib/python3.7/site-packages/dask/array/numpy_compat.py:41: RuntimeWarning: invalid value encountered in true_divide\n",
      "  x = np.divide(x1, x2, out)\n"
     ]
    },
    {
     "name": "stdout",
     "output_type": "stream",
     "text": [
      "/glade/work/jonahshaw/trend_uncertainty/nathan/OBS_LENS/HadCRUT5//HadCRUT.5.0.1.0.analysis.anomalies.48.5x5degSpatialTrends.196001-202012.nc\n"
     ]
    },
    {
     "name": "stderr",
     "output_type": "stream",
     "text": [
      "/glade/work/jonahshaw/miniconda3/envs/cheydask/lib/python3.7/site-packages/dask/array/numpy_compat.py:41: RuntimeWarning: invalid value encountered in true_divide\n",
      "  x = np.divide(x1, x2, out)\n"
     ]
    },
    {
     "name": "stdout",
     "output_type": "stream",
     "text": [
      "/glade/work/jonahshaw/trend_uncertainty/nathan/OBS_LENS/HadCRUT5//HadCRUT.5.0.1.0.analysis.anomalies.49.5x5degSpatialTrends.196001-202012.nc\n"
     ]
    },
    {
     "name": "stderr",
     "output_type": "stream",
     "text": [
      "/glade/work/jonahshaw/miniconda3/envs/cheydask/lib/python3.7/site-packages/dask/array/numpy_compat.py:41: RuntimeWarning: invalid value encountered in true_divide\n",
      "  x = np.divide(x1, x2, out)\n"
     ]
    },
    {
     "name": "stdout",
     "output_type": "stream",
     "text": [
      "/glade/work/jonahshaw/trend_uncertainty/nathan/OBS_LENS/HadCRUT5//HadCRUT.5.0.1.0.analysis.anomalies.5.5x5degSpatialTrends.196001-202012.nc\n"
     ]
    },
    {
     "name": "stderr",
     "output_type": "stream",
     "text": [
      "/glade/work/jonahshaw/miniconda3/envs/cheydask/lib/python3.7/site-packages/dask/array/numpy_compat.py:41: RuntimeWarning: invalid value encountered in true_divide\n",
      "  x = np.divide(x1, x2, out)\n"
     ]
    },
    {
     "name": "stdout",
     "output_type": "stream",
     "text": [
      "/glade/work/jonahshaw/trend_uncertainty/nathan/OBS_LENS/HadCRUT5//HadCRUT.5.0.1.0.analysis.anomalies.50.5x5degSpatialTrends.196001-202012.nc\n"
     ]
    },
    {
     "name": "stderr",
     "output_type": "stream",
     "text": [
      "/glade/work/jonahshaw/miniconda3/envs/cheydask/lib/python3.7/site-packages/dask/array/numpy_compat.py:41: RuntimeWarning: invalid value encountered in true_divide\n",
      "  x = np.divide(x1, x2, out)\n"
     ]
    },
    {
     "name": "stdout",
     "output_type": "stream",
     "text": [
      "/glade/work/jonahshaw/trend_uncertainty/nathan/OBS_LENS/HadCRUT5//HadCRUT.5.0.1.0.analysis.anomalies.51.5x5degSpatialTrends.196001-202012.nc\n"
     ]
    },
    {
     "name": "stderr",
     "output_type": "stream",
     "text": [
      "/glade/work/jonahshaw/miniconda3/envs/cheydask/lib/python3.7/site-packages/dask/array/numpy_compat.py:41: RuntimeWarning: invalid value encountered in true_divide\n",
      "  x = np.divide(x1, x2, out)\n"
     ]
    },
    {
     "name": "stdout",
     "output_type": "stream",
     "text": [
      "/glade/work/jonahshaw/trend_uncertainty/nathan/OBS_LENS/HadCRUT5//HadCRUT.5.0.1.0.analysis.anomalies.52.5x5degSpatialTrends.196001-202012.nc\n"
     ]
    },
    {
     "name": "stderr",
     "output_type": "stream",
     "text": [
      "/glade/work/jonahshaw/miniconda3/envs/cheydask/lib/python3.7/site-packages/dask/array/numpy_compat.py:41: RuntimeWarning: invalid value encountered in true_divide\n",
      "  x = np.divide(x1, x2, out)\n"
     ]
    },
    {
     "name": "stdout",
     "output_type": "stream",
     "text": [
      "/glade/work/jonahshaw/trend_uncertainty/nathan/OBS_LENS/HadCRUT5//HadCRUT.5.0.1.0.analysis.anomalies.53.5x5degSpatialTrends.196001-202012.nc\n"
     ]
    },
    {
     "name": "stderr",
     "output_type": "stream",
     "text": [
      "/glade/work/jonahshaw/miniconda3/envs/cheydask/lib/python3.7/site-packages/dask/array/numpy_compat.py:41: RuntimeWarning: invalid value encountered in true_divide\n",
      "  x = np.divide(x1, x2, out)\n"
     ]
    },
    {
     "name": "stdout",
     "output_type": "stream",
     "text": [
      "/glade/work/jonahshaw/trend_uncertainty/nathan/OBS_LENS/HadCRUT5//HadCRUT.5.0.1.0.analysis.anomalies.54.5x5degSpatialTrends.196001-202012.nc\n"
     ]
    },
    {
     "name": "stderr",
     "output_type": "stream",
     "text": [
      "/glade/work/jonahshaw/miniconda3/envs/cheydask/lib/python3.7/site-packages/dask/array/numpy_compat.py:41: RuntimeWarning: invalid value encountered in true_divide\n",
      "  x = np.divide(x1, x2, out)\n"
     ]
    },
    {
     "name": "stdout",
     "output_type": "stream",
     "text": [
      "/glade/work/jonahshaw/trend_uncertainty/nathan/OBS_LENS/HadCRUT5//HadCRUT.5.0.1.0.analysis.anomalies.55.5x5degSpatialTrends.196001-202012.nc\n"
     ]
    },
    {
     "name": "stderr",
     "output_type": "stream",
     "text": [
      "/glade/work/jonahshaw/miniconda3/envs/cheydask/lib/python3.7/site-packages/dask/array/numpy_compat.py:41: RuntimeWarning: invalid value encountered in true_divide\n",
      "  x = np.divide(x1, x2, out)\n"
     ]
    },
    {
     "name": "stdout",
     "output_type": "stream",
     "text": [
      "/glade/work/jonahshaw/trend_uncertainty/nathan/OBS_LENS/HadCRUT5//HadCRUT.5.0.1.0.analysis.anomalies.56.5x5degSpatialTrends.196001-202012.nc\n"
     ]
    },
    {
     "name": "stderr",
     "output_type": "stream",
     "text": [
      "/glade/work/jonahshaw/miniconda3/envs/cheydask/lib/python3.7/site-packages/dask/array/numpy_compat.py:41: RuntimeWarning: invalid value encountered in true_divide\n",
      "  x = np.divide(x1, x2, out)\n"
     ]
    },
    {
     "name": "stdout",
     "output_type": "stream",
     "text": [
      "/glade/work/jonahshaw/trend_uncertainty/nathan/OBS_LENS/HadCRUT5//HadCRUT.5.0.1.0.analysis.anomalies.57.5x5degSpatialTrends.196001-202012.nc\n"
     ]
    },
    {
     "name": "stderr",
     "output_type": "stream",
     "text": [
      "/glade/work/jonahshaw/miniconda3/envs/cheydask/lib/python3.7/site-packages/dask/array/numpy_compat.py:41: RuntimeWarning: invalid value encountered in true_divide\n",
      "  x = np.divide(x1, x2, out)\n"
     ]
    },
    {
     "name": "stdout",
     "output_type": "stream",
     "text": [
      "/glade/work/jonahshaw/trend_uncertainty/nathan/OBS_LENS/HadCRUT5//HadCRUT.5.0.1.0.analysis.anomalies.58.5x5degSpatialTrends.196001-202012.nc\n"
     ]
    },
    {
     "name": "stderr",
     "output_type": "stream",
     "text": [
      "/glade/work/jonahshaw/miniconda3/envs/cheydask/lib/python3.7/site-packages/dask/array/numpy_compat.py:41: RuntimeWarning: invalid value encountered in true_divide\n",
      "  x = np.divide(x1, x2, out)\n"
     ]
    },
    {
     "name": "stdout",
     "output_type": "stream",
     "text": [
      "/glade/work/jonahshaw/trend_uncertainty/nathan/OBS_LENS/HadCRUT5//HadCRUT.5.0.1.0.analysis.anomalies.59.5x5degSpatialTrends.196001-202012.nc\n"
     ]
    },
    {
     "name": "stderr",
     "output_type": "stream",
     "text": [
      "/glade/work/jonahshaw/miniconda3/envs/cheydask/lib/python3.7/site-packages/dask/array/numpy_compat.py:41: RuntimeWarning: invalid value encountered in true_divide\n",
      "  x = np.divide(x1, x2, out)\n"
     ]
    },
    {
     "name": "stdout",
     "output_type": "stream",
     "text": [
      "/glade/work/jonahshaw/trend_uncertainty/nathan/OBS_LENS/HadCRUT5//HadCRUT.5.0.1.0.analysis.anomalies.6.5x5degSpatialTrends.196001-202012.nc\n"
     ]
    },
    {
     "name": "stderr",
     "output_type": "stream",
     "text": [
      "/glade/work/jonahshaw/miniconda3/envs/cheydask/lib/python3.7/site-packages/dask/array/numpy_compat.py:41: RuntimeWarning: invalid value encountered in true_divide\n",
      "  x = np.divide(x1, x2, out)\n"
     ]
    },
    {
     "name": "stdout",
     "output_type": "stream",
     "text": [
      "/glade/work/jonahshaw/trend_uncertainty/nathan/OBS_LENS/HadCRUT5//HadCRUT.5.0.1.0.analysis.anomalies.60.5x5degSpatialTrends.196001-202012.nc\n"
     ]
    },
    {
     "name": "stderr",
     "output_type": "stream",
     "text": [
      "/glade/work/jonahshaw/miniconda3/envs/cheydask/lib/python3.7/site-packages/dask/array/numpy_compat.py:41: RuntimeWarning: invalid value encountered in true_divide\n",
      "  x = np.divide(x1, x2, out)\n"
     ]
    },
    {
     "name": "stdout",
     "output_type": "stream",
     "text": [
      "/glade/work/jonahshaw/trend_uncertainty/nathan/OBS_LENS/HadCRUT5//HadCRUT.5.0.1.0.analysis.anomalies.61.5x5degSpatialTrends.196001-202012.nc\n"
     ]
    },
    {
     "name": "stderr",
     "output_type": "stream",
     "text": [
      "/glade/work/jonahshaw/miniconda3/envs/cheydask/lib/python3.7/site-packages/dask/array/numpy_compat.py:41: RuntimeWarning: invalid value encountered in true_divide\n",
      "  x = np.divide(x1, x2, out)\n"
     ]
    },
    {
     "name": "stdout",
     "output_type": "stream",
     "text": [
      "/glade/work/jonahshaw/trend_uncertainty/nathan/OBS_LENS/HadCRUT5//HadCRUT.5.0.1.0.analysis.anomalies.62.5x5degSpatialTrends.196001-202012.nc\n"
     ]
    },
    {
     "name": "stderr",
     "output_type": "stream",
     "text": [
      "/glade/work/jonahshaw/miniconda3/envs/cheydask/lib/python3.7/site-packages/dask/array/numpy_compat.py:41: RuntimeWarning: invalid value encountered in true_divide\n",
      "  x = np.divide(x1, x2, out)\n"
     ]
    },
    {
     "name": "stdout",
     "output_type": "stream",
     "text": [
      "/glade/work/jonahshaw/trend_uncertainty/nathan/OBS_LENS/HadCRUT5//HadCRUT.5.0.1.0.analysis.anomalies.63.5x5degSpatialTrends.196001-202012.nc\n"
     ]
    },
    {
     "name": "stderr",
     "output_type": "stream",
     "text": [
      "/glade/work/jonahshaw/miniconda3/envs/cheydask/lib/python3.7/site-packages/dask/array/numpy_compat.py:41: RuntimeWarning: invalid value encountered in true_divide\n",
      "  x = np.divide(x1, x2, out)\n"
     ]
    },
    {
     "name": "stdout",
     "output_type": "stream",
     "text": [
      "/glade/work/jonahshaw/trend_uncertainty/nathan/OBS_LENS/HadCRUT5//HadCRUT.5.0.1.0.analysis.anomalies.64.5x5degSpatialTrends.196001-202012.nc\n"
     ]
    },
    {
     "name": "stderr",
     "output_type": "stream",
     "text": [
      "/glade/work/jonahshaw/miniconda3/envs/cheydask/lib/python3.7/site-packages/dask/array/numpy_compat.py:41: RuntimeWarning: invalid value encountered in true_divide\n",
      "  x = np.divide(x1, x2, out)\n"
     ]
    },
    {
     "name": "stdout",
     "output_type": "stream",
     "text": [
      "/glade/work/jonahshaw/trend_uncertainty/nathan/OBS_LENS/HadCRUT5//HadCRUT.5.0.1.0.analysis.anomalies.65.5x5degSpatialTrends.196001-202012.nc\n"
     ]
    },
    {
     "name": "stderr",
     "output_type": "stream",
     "text": [
      "/glade/work/jonahshaw/miniconda3/envs/cheydask/lib/python3.7/site-packages/dask/array/numpy_compat.py:41: RuntimeWarning: invalid value encountered in true_divide\n",
      "  x = np.divide(x1, x2, out)\n"
     ]
    },
    {
     "name": "stdout",
     "output_type": "stream",
     "text": [
      "/glade/work/jonahshaw/trend_uncertainty/nathan/OBS_LENS/HadCRUT5//HadCRUT.5.0.1.0.analysis.anomalies.66.5x5degSpatialTrends.196001-202012.nc\n"
     ]
    },
    {
     "name": "stderr",
     "output_type": "stream",
     "text": [
      "/glade/work/jonahshaw/miniconda3/envs/cheydask/lib/python3.7/site-packages/dask/array/numpy_compat.py:41: RuntimeWarning: invalid value encountered in true_divide\n",
      "  x = np.divide(x1, x2, out)\n"
     ]
    },
    {
     "name": "stdout",
     "output_type": "stream",
     "text": [
      "/glade/work/jonahshaw/trend_uncertainty/nathan/OBS_LENS/HadCRUT5//HadCRUT.5.0.1.0.analysis.anomalies.67.5x5degSpatialTrends.196001-202012.nc\n"
     ]
    },
    {
     "name": "stderr",
     "output_type": "stream",
     "text": [
      "/glade/work/jonahshaw/miniconda3/envs/cheydask/lib/python3.7/site-packages/dask/array/numpy_compat.py:41: RuntimeWarning: invalid value encountered in true_divide\n",
      "  x = np.divide(x1, x2, out)\n"
     ]
    },
    {
     "name": "stdout",
     "output_type": "stream",
     "text": [
      "/glade/work/jonahshaw/trend_uncertainty/nathan/OBS_LENS/HadCRUT5//HadCRUT.5.0.1.0.analysis.anomalies.68.5x5degSpatialTrends.196001-202012.nc\n"
     ]
    },
    {
     "name": "stderr",
     "output_type": "stream",
     "text": [
      "/glade/work/jonahshaw/miniconda3/envs/cheydask/lib/python3.7/site-packages/dask/array/numpy_compat.py:41: RuntimeWarning: invalid value encountered in true_divide\n",
      "  x = np.divide(x1, x2, out)\n"
     ]
    },
    {
     "name": "stdout",
     "output_type": "stream",
     "text": [
      "/glade/work/jonahshaw/trend_uncertainty/nathan/OBS_LENS/HadCRUT5//HadCRUT.5.0.1.0.analysis.anomalies.69.5x5degSpatialTrends.196001-202012.nc\n"
     ]
    },
    {
     "name": "stderr",
     "output_type": "stream",
     "text": [
      "/glade/work/jonahshaw/miniconda3/envs/cheydask/lib/python3.7/site-packages/dask/array/numpy_compat.py:41: RuntimeWarning: invalid value encountered in true_divide\n",
      "  x = np.divide(x1, x2, out)\n"
     ]
    },
    {
     "name": "stdout",
     "output_type": "stream",
     "text": [
      "/glade/work/jonahshaw/trend_uncertainty/nathan/OBS_LENS/HadCRUT5//HadCRUT.5.0.1.0.analysis.anomalies.7.5x5degSpatialTrends.196001-202012.nc\n"
     ]
    },
    {
     "name": "stderr",
     "output_type": "stream",
     "text": [
      "/glade/work/jonahshaw/miniconda3/envs/cheydask/lib/python3.7/site-packages/dask/array/numpy_compat.py:41: RuntimeWarning: invalid value encountered in true_divide\n",
      "  x = np.divide(x1, x2, out)\n"
     ]
    },
    {
     "name": "stdout",
     "output_type": "stream",
     "text": [
      "/glade/work/jonahshaw/trend_uncertainty/nathan/OBS_LENS/HadCRUT5//HadCRUT.5.0.1.0.analysis.anomalies.70.5x5degSpatialTrends.196001-202012.nc\n"
     ]
    },
    {
     "name": "stderr",
     "output_type": "stream",
     "text": [
      "/glade/work/jonahshaw/miniconda3/envs/cheydask/lib/python3.7/site-packages/dask/array/numpy_compat.py:41: RuntimeWarning: invalid value encountered in true_divide\n",
      "  x = np.divide(x1, x2, out)\n"
     ]
    },
    {
     "name": "stdout",
     "output_type": "stream",
     "text": [
      "/glade/work/jonahshaw/trend_uncertainty/nathan/OBS_LENS/HadCRUT5//HadCRUT.5.0.1.0.analysis.anomalies.71.5x5degSpatialTrends.196001-202012.nc\n"
     ]
    },
    {
     "name": "stderr",
     "output_type": "stream",
     "text": [
      "/glade/work/jonahshaw/miniconda3/envs/cheydask/lib/python3.7/site-packages/dask/array/numpy_compat.py:41: RuntimeWarning: invalid value encountered in true_divide\n",
      "  x = np.divide(x1, x2, out)\n"
     ]
    },
    {
     "name": "stdout",
     "output_type": "stream",
     "text": [
      "/glade/work/jonahshaw/trend_uncertainty/nathan/OBS_LENS/HadCRUT5//HadCRUT.5.0.1.0.analysis.anomalies.72.5x5degSpatialTrends.196001-202012.nc\n"
     ]
    },
    {
     "name": "stderr",
     "output_type": "stream",
     "text": [
      "/glade/work/jonahshaw/miniconda3/envs/cheydask/lib/python3.7/site-packages/dask/array/numpy_compat.py:41: RuntimeWarning: invalid value encountered in true_divide\n",
      "  x = np.divide(x1, x2, out)\n"
     ]
    },
    {
     "name": "stdout",
     "output_type": "stream",
     "text": [
      "/glade/work/jonahshaw/trend_uncertainty/nathan/OBS_LENS/HadCRUT5//HadCRUT.5.0.1.0.analysis.anomalies.73.5x5degSpatialTrends.196001-202012.nc\n"
     ]
    },
    {
     "name": "stderr",
     "output_type": "stream",
     "text": [
      "/glade/work/jonahshaw/miniconda3/envs/cheydask/lib/python3.7/site-packages/dask/array/numpy_compat.py:41: RuntimeWarning: invalid value encountered in true_divide\n",
      "  x = np.divide(x1, x2, out)\n"
     ]
    },
    {
     "name": "stdout",
     "output_type": "stream",
     "text": [
      "/glade/work/jonahshaw/trend_uncertainty/nathan/OBS_LENS/HadCRUT5//HadCRUT.5.0.1.0.analysis.anomalies.74.5x5degSpatialTrends.196001-202012.nc\n"
     ]
    },
    {
     "name": "stderr",
     "output_type": "stream",
     "text": [
      "/glade/work/jonahshaw/miniconda3/envs/cheydask/lib/python3.7/site-packages/dask/array/numpy_compat.py:41: RuntimeWarning: invalid value encountered in true_divide\n",
      "  x = np.divide(x1, x2, out)\n"
     ]
    },
    {
     "name": "stdout",
     "output_type": "stream",
     "text": [
      "/glade/work/jonahshaw/trend_uncertainty/nathan/OBS_LENS/HadCRUT5//HadCRUT.5.0.1.0.analysis.anomalies.75.5x5degSpatialTrends.196001-202012.nc\n"
     ]
    },
    {
     "name": "stderr",
     "output_type": "stream",
     "text": [
      "/glade/work/jonahshaw/miniconda3/envs/cheydask/lib/python3.7/site-packages/dask/array/numpy_compat.py:41: RuntimeWarning: invalid value encountered in true_divide\n",
      "  x = np.divide(x1, x2, out)\n"
     ]
    },
    {
     "name": "stdout",
     "output_type": "stream",
     "text": [
      "/glade/work/jonahshaw/trend_uncertainty/nathan/OBS_LENS/HadCRUT5//HadCRUT.5.0.1.0.analysis.anomalies.76.5x5degSpatialTrends.196001-202012.nc\n"
     ]
    },
    {
     "name": "stderr",
     "output_type": "stream",
     "text": [
      "/glade/work/jonahshaw/miniconda3/envs/cheydask/lib/python3.7/site-packages/dask/array/numpy_compat.py:41: RuntimeWarning: invalid value encountered in true_divide\n",
      "  x = np.divide(x1, x2, out)\n"
     ]
    },
    {
     "name": "stdout",
     "output_type": "stream",
     "text": [
      "/glade/work/jonahshaw/trend_uncertainty/nathan/OBS_LENS/HadCRUT5//HadCRUT.5.0.1.0.analysis.anomalies.77.5x5degSpatialTrends.196001-202012.nc\n"
     ]
    },
    {
     "name": "stderr",
     "output_type": "stream",
     "text": [
      "/glade/work/jonahshaw/miniconda3/envs/cheydask/lib/python3.7/site-packages/dask/array/numpy_compat.py:41: RuntimeWarning: invalid value encountered in true_divide\n",
      "  x = np.divide(x1, x2, out)\n"
     ]
    },
    {
     "name": "stdout",
     "output_type": "stream",
     "text": [
      "/glade/work/jonahshaw/trend_uncertainty/nathan/OBS_LENS/HadCRUT5//HadCRUT.5.0.1.0.analysis.anomalies.78.5x5degSpatialTrends.196001-202012.nc\n"
     ]
    },
    {
     "name": "stderr",
     "output_type": "stream",
     "text": [
      "/glade/work/jonahshaw/miniconda3/envs/cheydask/lib/python3.7/site-packages/dask/array/numpy_compat.py:41: RuntimeWarning: invalid value encountered in true_divide\n",
      "  x = np.divide(x1, x2, out)\n"
     ]
    },
    {
     "name": "stdout",
     "output_type": "stream",
     "text": [
      "/glade/work/jonahshaw/trend_uncertainty/nathan/OBS_LENS/HadCRUT5//HadCRUT.5.0.1.0.analysis.anomalies.79.5x5degSpatialTrends.196001-202012.nc\n"
     ]
    },
    {
     "name": "stderr",
     "output_type": "stream",
     "text": [
      "/glade/work/jonahshaw/miniconda3/envs/cheydask/lib/python3.7/site-packages/dask/array/numpy_compat.py:41: RuntimeWarning: invalid value encountered in true_divide\n",
      "  x = np.divide(x1, x2, out)\n"
     ]
    },
    {
     "name": "stdout",
     "output_type": "stream",
     "text": [
      "/glade/work/jonahshaw/trend_uncertainty/nathan/OBS_LENS/HadCRUT5//HadCRUT.5.0.1.0.analysis.anomalies.8.5x5degSpatialTrends.196001-202012.nc\n"
     ]
    },
    {
     "name": "stderr",
     "output_type": "stream",
     "text": [
      "/glade/work/jonahshaw/miniconda3/envs/cheydask/lib/python3.7/site-packages/dask/array/numpy_compat.py:41: RuntimeWarning: invalid value encountered in true_divide\n",
      "  x = np.divide(x1, x2, out)\n"
     ]
    },
    {
     "name": "stdout",
     "output_type": "stream",
     "text": [
      "/glade/work/jonahshaw/trend_uncertainty/nathan/OBS_LENS/HadCRUT5//HadCRUT.5.0.1.0.analysis.anomalies.80.5x5degSpatialTrends.196001-202012.nc\n"
     ]
    },
    {
     "name": "stderr",
     "output_type": "stream",
     "text": [
      "/glade/work/jonahshaw/miniconda3/envs/cheydask/lib/python3.7/site-packages/dask/array/numpy_compat.py:41: RuntimeWarning: invalid value encountered in true_divide\n",
      "  x = np.divide(x1, x2, out)\n"
     ]
    },
    {
     "name": "stdout",
     "output_type": "stream",
     "text": [
      "/glade/work/jonahshaw/trend_uncertainty/nathan/OBS_LENS/HadCRUT5//HadCRUT.5.0.1.0.analysis.anomalies.81.5x5degSpatialTrends.196001-202012.nc\n"
     ]
    },
    {
     "name": "stderr",
     "output_type": "stream",
     "text": [
      "/glade/work/jonahshaw/miniconda3/envs/cheydask/lib/python3.7/site-packages/dask/array/numpy_compat.py:41: RuntimeWarning: invalid value encountered in true_divide\n",
      "  x = np.divide(x1, x2, out)\n"
     ]
    },
    {
     "name": "stdout",
     "output_type": "stream",
     "text": [
      "/glade/work/jonahshaw/trend_uncertainty/nathan/OBS_LENS/HadCRUT5//HadCRUT.5.0.1.0.analysis.anomalies.82.5x5degSpatialTrends.196001-202012.nc\n"
     ]
    },
    {
     "name": "stderr",
     "output_type": "stream",
     "text": [
      "/glade/work/jonahshaw/miniconda3/envs/cheydask/lib/python3.7/site-packages/dask/array/numpy_compat.py:41: RuntimeWarning: invalid value encountered in true_divide\n",
      "  x = np.divide(x1, x2, out)\n"
     ]
    },
    {
     "name": "stdout",
     "output_type": "stream",
     "text": [
      "/glade/work/jonahshaw/trend_uncertainty/nathan/OBS_LENS/HadCRUT5//HadCRUT.5.0.1.0.analysis.anomalies.83.5x5degSpatialTrends.196001-202012.nc\n"
     ]
    },
    {
     "name": "stderr",
     "output_type": "stream",
     "text": [
      "/glade/work/jonahshaw/miniconda3/envs/cheydask/lib/python3.7/site-packages/dask/array/numpy_compat.py:41: RuntimeWarning: invalid value encountered in true_divide\n",
      "  x = np.divide(x1, x2, out)\n"
     ]
    },
    {
     "name": "stdout",
     "output_type": "stream",
     "text": [
      "/glade/work/jonahshaw/trend_uncertainty/nathan/OBS_LENS/HadCRUT5//HadCRUT.5.0.1.0.analysis.anomalies.84.5x5degSpatialTrends.196001-202012.nc\n"
     ]
    },
    {
     "name": "stderr",
     "output_type": "stream",
     "text": [
      "/glade/work/jonahshaw/miniconda3/envs/cheydask/lib/python3.7/site-packages/dask/array/numpy_compat.py:41: RuntimeWarning: invalid value encountered in true_divide\n",
      "  x = np.divide(x1, x2, out)\n"
     ]
    },
    {
     "name": "stdout",
     "output_type": "stream",
     "text": [
      "/glade/work/jonahshaw/trend_uncertainty/nathan/OBS_LENS/HadCRUT5//HadCRUT.5.0.1.0.analysis.anomalies.85.5x5degSpatialTrends.196001-202012.nc\n"
     ]
    },
    {
     "name": "stderr",
     "output_type": "stream",
     "text": [
      "/glade/work/jonahshaw/miniconda3/envs/cheydask/lib/python3.7/site-packages/dask/array/numpy_compat.py:41: RuntimeWarning: invalid value encountered in true_divide\n",
      "  x = np.divide(x1, x2, out)\n"
     ]
    },
    {
     "name": "stdout",
     "output_type": "stream",
     "text": [
      "/glade/work/jonahshaw/trend_uncertainty/nathan/OBS_LENS/HadCRUT5//HadCRUT.5.0.1.0.analysis.anomalies.86.5x5degSpatialTrends.196001-202012.nc\n"
     ]
    },
    {
     "name": "stderr",
     "output_type": "stream",
     "text": [
      "/glade/work/jonahshaw/miniconda3/envs/cheydask/lib/python3.7/site-packages/dask/array/numpy_compat.py:41: RuntimeWarning: invalid value encountered in true_divide\n",
      "  x = np.divide(x1, x2, out)\n"
     ]
    },
    {
     "name": "stdout",
     "output_type": "stream",
     "text": [
      "/glade/work/jonahshaw/trend_uncertainty/nathan/OBS_LENS/HadCRUT5//HadCRUT.5.0.1.0.analysis.anomalies.87.5x5degSpatialTrends.196001-202012.nc\n"
     ]
    },
    {
     "name": "stderr",
     "output_type": "stream",
     "text": [
      "/glade/work/jonahshaw/miniconda3/envs/cheydask/lib/python3.7/site-packages/dask/array/numpy_compat.py:41: RuntimeWarning: invalid value encountered in true_divide\n",
      "  x = np.divide(x1, x2, out)\n"
     ]
    },
    {
     "name": "stdout",
     "output_type": "stream",
     "text": [
      "/glade/work/jonahshaw/trend_uncertainty/nathan/OBS_LENS/HadCRUT5//HadCRUT.5.0.1.0.analysis.anomalies.88.5x5degSpatialTrends.196001-202012.nc\n"
     ]
    },
    {
     "name": "stderr",
     "output_type": "stream",
     "text": [
      "/glade/work/jonahshaw/miniconda3/envs/cheydask/lib/python3.7/site-packages/dask/array/numpy_compat.py:41: RuntimeWarning: invalid value encountered in true_divide\n",
      "  x = np.divide(x1, x2, out)\n"
     ]
    },
    {
     "name": "stdout",
     "output_type": "stream",
     "text": [
      "/glade/work/jonahshaw/trend_uncertainty/nathan/OBS_LENS/HadCRUT5//HadCRUT.5.0.1.0.analysis.anomalies.89.5x5degSpatialTrends.196001-202012.nc\n"
     ]
    },
    {
     "name": "stderr",
     "output_type": "stream",
     "text": [
      "/glade/work/jonahshaw/miniconda3/envs/cheydask/lib/python3.7/site-packages/dask/array/numpy_compat.py:41: RuntimeWarning: invalid value encountered in true_divide\n",
      "  x = np.divide(x1, x2, out)\n"
     ]
    },
    {
     "name": "stdout",
     "output_type": "stream",
     "text": [
      "/glade/work/jonahshaw/trend_uncertainty/nathan/OBS_LENS/HadCRUT5//HadCRUT.5.0.1.0.analysis.anomalies.9.5x5degSpatialTrends.196001-202012.nc\n"
     ]
    },
    {
     "name": "stderr",
     "output_type": "stream",
     "text": [
      "/glade/work/jonahshaw/miniconda3/envs/cheydask/lib/python3.7/site-packages/dask/array/numpy_compat.py:41: RuntimeWarning: invalid value encountered in true_divide\n",
      "  x = np.divide(x1, x2, out)\n"
     ]
    },
    {
     "name": "stdout",
     "output_type": "stream",
     "text": [
      "/glade/work/jonahshaw/trend_uncertainty/nathan/OBS_LENS/HadCRUT5//HadCRUT.5.0.1.0.analysis.anomalies.90.5x5degSpatialTrends.196001-202012.nc\n"
     ]
    },
    {
     "name": "stderr",
     "output_type": "stream",
     "text": [
      "/glade/work/jonahshaw/miniconda3/envs/cheydask/lib/python3.7/site-packages/dask/array/numpy_compat.py:41: RuntimeWarning: invalid value encountered in true_divide\n",
      "  x = np.divide(x1, x2, out)\n"
     ]
    },
    {
     "name": "stdout",
     "output_type": "stream",
     "text": [
      "/glade/work/jonahshaw/trend_uncertainty/nathan/OBS_LENS/HadCRUT5//HadCRUT.5.0.1.0.analysis.anomalies.91.5x5degSpatialTrends.196001-202012.nc\n"
     ]
    },
    {
     "name": "stderr",
     "output_type": "stream",
     "text": [
      "/glade/work/jonahshaw/miniconda3/envs/cheydask/lib/python3.7/site-packages/dask/array/numpy_compat.py:41: RuntimeWarning: invalid value encountered in true_divide\n",
      "  x = np.divide(x1, x2, out)\n"
     ]
    },
    {
     "name": "stdout",
     "output_type": "stream",
     "text": [
      "/glade/work/jonahshaw/trend_uncertainty/nathan/OBS_LENS/HadCRUT5//HadCRUT.5.0.1.0.analysis.anomalies.92.5x5degSpatialTrends.196001-202012.nc\n"
     ]
    },
    {
     "name": "stderr",
     "output_type": "stream",
     "text": [
      "/glade/work/jonahshaw/miniconda3/envs/cheydask/lib/python3.7/site-packages/dask/array/numpy_compat.py:41: RuntimeWarning: invalid value encountered in true_divide\n",
      "  x = np.divide(x1, x2, out)\n"
     ]
    },
    {
     "name": "stdout",
     "output_type": "stream",
     "text": [
      "/glade/work/jonahshaw/trend_uncertainty/nathan/OBS_LENS/HadCRUT5//HadCRUT.5.0.1.0.analysis.anomalies.93.5x5degSpatialTrends.196001-202012.nc\n"
     ]
    },
    {
     "name": "stderr",
     "output_type": "stream",
     "text": [
      "/glade/work/jonahshaw/miniconda3/envs/cheydask/lib/python3.7/site-packages/dask/array/numpy_compat.py:41: RuntimeWarning: invalid value encountered in true_divide\n",
      "  x = np.divide(x1, x2, out)\n"
     ]
    },
    {
     "name": "stdout",
     "output_type": "stream",
     "text": [
      "/glade/work/jonahshaw/trend_uncertainty/nathan/OBS_LENS/HadCRUT5//HadCRUT.5.0.1.0.analysis.anomalies.94.5x5degSpatialTrends.196001-202012.nc\n"
     ]
    },
    {
     "name": "stderr",
     "output_type": "stream",
     "text": [
      "/glade/work/jonahshaw/miniconda3/envs/cheydask/lib/python3.7/site-packages/dask/array/numpy_compat.py:41: RuntimeWarning: invalid value encountered in true_divide\n",
      "  x = np.divide(x1, x2, out)\n"
     ]
    },
    {
     "name": "stdout",
     "output_type": "stream",
     "text": [
      "/glade/work/jonahshaw/trend_uncertainty/nathan/OBS_LENS/HadCRUT5//HadCRUT.5.0.1.0.analysis.anomalies.95.5x5degSpatialTrends.196001-202012.nc\n"
     ]
    },
    {
     "name": "stderr",
     "output_type": "stream",
     "text": [
      "/glade/work/jonahshaw/miniconda3/envs/cheydask/lib/python3.7/site-packages/dask/array/numpy_compat.py:41: RuntimeWarning: invalid value encountered in true_divide\n",
      "  x = np.divide(x1, x2, out)\n"
     ]
    },
    {
     "name": "stdout",
     "output_type": "stream",
     "text": [
      "/glade/work/jonahshaw/trend_uncertainty/nathan/OBS_LENS/HadCRUT5//HadCRUT.5.0.1.0.analysis.anomalies.96.5x5degSpatialTrends.196001-202012.nc\n"
     ]
    },
    {
     "name": "stderr",
     "output_type": "stream",
     "text": [
      "/glade/work/jonahshaw/miniconda3/envs/cheydask/lib/python3.7/site-packages/dask/array/numpy_compat.py:41: RuntimeWarning: invalid value encountered in true_divide\n",
      "  x = np.divide(x1, x2, out)\n"
     ]
    },
    {
     "name": "stdout",
     "output_type": "stream",
     "text": [
      "/glade/work/jonahshaw/trend_uncertainty/nathan/OBS_LENS/HadCRUT5//HadCRUT.5.0.1.0.analysis.anomalies.97.5x5degSpatialTrends.196001-202012.nc\n"
     ]
    },
    {
     "name": "stderr",
     "output_type": "stream",
     "text": [
      "/glade/work/jonahshaw/miniconda3/envs/cheydask/lib/python3.7/site-packages/dask/array/numpy_compat.py:41: RuntimeWarning: invalid value encountered in true_divide\n",
      "  x = np.divide(x1, x2, out)\n"
     ]
    },
    {
     "name": "stdout",
     "output_type": "stream",
     "text": [
      "/glade/work/jonahshaw/trend_uncertainty/nathan/OBS_LENS/HadCRUT5//HadCRUT.5.0.1.0.analysis.anomalies.98.5x5degSpatialTrends.196001-202012.nc\n"
     ]
    },
    {
     "name": "stderr",
     "output_type": "stream",
     "text": [
      "/glade/work/jonahshaw/miniconda3/envs/cheydask/lib/python3.7/site-packages/dask/array/numpy_compat.py:41: RuntimeWarning: invalid value encountered in true_divide\n",
      "  x = np.divide(x1, x2, out)\n"
     ]
    },
    {
     "name": "stdout",
     "output_type": "stream",
     "text": [
      "/glade/work/jonahshaw/trend_uncertainty/nathan/OBS_LENS/HadCRUT5//HadCRUT.5.0.1.0.analysis.anomalies.99.5x5degSpatialTrends.196001-202012.nc\n",
      "CPU times: user 2min 19s, sys: 2.55 s, total: 2min 22s\n",
      "Wall time: 3min\n"
     ]
    }
   ],
   "source": [
    "%%time\n",
    "save_path = '/glade/work/jonahshaw/trend_uncertainty/nathan/OBS_LENS/HadCRUT5/'\n",
    "\n",
    "# Set File list\n",
    "data_paths = hadcrut5_files\n",
    "\n",
    "# Set var\n",
    "var_gistemp = 'tempAnom'\n",
    "var = 'tas'\n",
    "\n",
    "# Set startyears and durations\n",
    "startyears = [1960]\n",
    "_startyear = 1960\n",
    "durations = np.arange(2,61) # Only goes through 2020\n",
    "\n",
    "# gistemp_new_times = (pd.date_range(\"1960-01-01\", freq=\"1M\", periods=12*61)-pd.offsets.MonthBegin(1)).shift(periods=14,freq='D')\n",
    "\n",
    "record_list = []\n",
    "for _data_path in data_paths:\n",
    "    \n",
    "    i = _data_path.split('_')[-1][:3]\n",
    "    # print(i)\n",
    "    \n",
    "    data = xr.open_dataset(_data_path,chunks={'time': -1})[var]\n",
    "\n",
    "    data = data.sel(time=slice('1960-01-01',None)) # Select post 1960 period\n",
    "\n",
    "    data_ann = data.groupby('time.year').mean(dim='time')\n",
    "    # data_ann = data.groupby('time_2').mean(dim='time_2').rename({'time_2':'year','time':'record'})\n",
    "    # data_ann['record'] = 10*int(i) + np.arange(1,10.1,1)    \n",
    "    \n",
    "    _endyears = _startyear + durations\n",
    "    _startyear_str = str(_startyear)\n",
    "    \n",
    "    while len(_startyear_str) < 4: # pad with zeros\n",
    "        _startyear_str = '0' + _startyear_str\n",
    "    \n",
    "    data_ann_slice = data_ann.sel(year=slice(_startyear,_startyear+durations[-1]))\n",
    "    \n",
    "    slopes_by_dur = []\n",
    "    \n",
    "    _endyears = _startyear + durations\n",
    "    _startyear_str = str(_startyear)\n",
    "    \n",
    "    slopes_by_dur.append(dask.delayed(calc_trends_noload)(data=data_ann_slice,\n",
    "                                                          var=var,\n",
    "                                                          startyear=_startyear_str,\n",
    "                                                          endyears=_endyears,\n",
    "                                                          wrapper_func=gettrends_wrapper2,\n",
    "                                                          calc_slopes_func=calc_slopes_spatial_ann2,\n",
    "                                                          ))\n",
    "    \n",
    "    slopes_by_dur_computed = dask.compute(*slopes_by_dur)\n",
    "    \n",
    "    filename = _data_path.split('/')[-1][:-3]\n",
    "    \n",
    "    output_string = '%s/%s.5x5degSpatialTrends.196001-202012.nc' % (save_path,filename)\n",
    "    print(output_string)\n",
    "    \n",
    "    slopes_by_dur_computed[0].to_netcdf(output_string)"
   ]
  },
  {
   "cell_type": "code",
   "execution_count": null,
   "id": "bc368a37-1825-4b11-b701-ff160849ca5a",
   "metadata": {},
   "outputs": [],
   "source": []
  }
 ],
 "metadata": {
  "kernelspec": {
   "display_name": "Python [conda env:miniconda3-cheydask]",
   "language": "python",
   "name": "conda-env-miniconda3-cheydask-py"
  },
  "language_info": {
   "codemirror_mode": {
    "name": "ipython",
    "version": 3
   },
   "file_extension": ".py",
   "mimetype": "text/x-python",
   "name": "python",
   "nbconvert_exporter": "python",
   "pygments_lexer": "ipython3",
   "version": "3.7.8"
  }
 },
 "nbformat": 4,
 "nbformat_minor": 5
}
