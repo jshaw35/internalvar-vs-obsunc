{
 "cells": [
  {
   "cell_type": "markdown",
   "id": "b1014406-41cb-4418-81fb-232d633a66fd",
   "metadata": {},
   "source": [
    "# Compute percentiles on the trends for both regional and spatial processed data"
   ]
  },
  {
   "cell_type": "markdown",
   "id": "7a7e6591-838a-4d52-93d0-c92ccb06fc90",
   "metadata": {},
   "source": [
    "### Imports"
   ]
  },
  {
   "cell_type": "code",
   "execution_count": 1,
   "id": "9c71c311-fe02-4913-92cf-7d771da3c42f",
   "metadata": {},
   "outputs": [],
   "source": [
    "import glob\n",
    "import os\n",
    "import numpy as np\n",
    "import xarray as xr"
   ]
  },
  {
   "cell_type": "markdown",
   "id": "c86383b5-6381-4db0-93ec-f142cab38924",
   "metadata": {},
   "source": [
    "### Define functions"
   ]
  },
  {
   "cell_type": "code",
   "execution_count": 2,
   "id": "9ba6c103-27d1-4b0a-8204-904328f2f971",
   "metadata": {},
   "outputs": [],
   "source": [
    "# These functions allow me to calculate a percentile across all variables for each month of the year. \n",
    "# Essentially a poorman's version of creating the numpy.percentile function within xarray. But it works!\n",
    "\n",
    "def xr_percentile_wrapper(nparray,q,axis):\n",
    "    '''\n",
    "    Wrapper for a non-xarray function so that it returns a DataArray object.\n",
    "    I am using nanpercentile here because it handles all cases.\n",
    "    '''\n",
    "    return xr.DataArray(np.nanpercentile(nparray,q=q,axis=axis))\n",
    "\n",
    "def percentile_monthly_wrapper(data,dim,q,axis):\n",
    "    \n",
    "    return data.groupby(dim).map(xr_percentile_wrapper,q=q,axis=axis)"
   ]
  },
  {
   "cell_type": "code",
   "execution_count": 3,
   "id": "e181837b-0650-46da-86ad-b3f56a30870f",
   "metadata": {},
   "outputs": [],
   "source": [
    "def percentile_vec(data,core_dim:str,q,**kwargs):\n",
    "    \n",
    "    data_chunk = data.chunk({core_dim:-1}) # needed!\n",
    "\n",
    "    res_out = xr.apply_ufunc(np.nanpercentile,              # Function to apply\n",
    "                             data_chunk,                      # Positional arguments for the function\n",
    "                             input_core_dims=[[core_dim]],    # Dimension(s) to apply the function over\n",
    "                             kwargs={**{'q':q}, **kwargs},                   # Keyword arguments for the function\n",
    "                             # kwargs=kwargs,                   # Keyword arguments for the function\n",
    "                             dask=\"parallelized\",             # These may be necessary for efficient use via dask.\n",
    "                             output_dtypes=['float64'],\n",
    "                             vectorize = True)                # Vectorize\n",
    "    \n",
    "    return res_out\n",
    "\n",
    "\n",
    "# You can also do this in numpy if you are ok converting back to xarray\n",
    "# out_np = np.nanpercentile(data,q=95,axis=1,keepdims=False)"
   ]
  },
  {
   "cell_type": "markdown",
   "id": "8f895851-5fda-4e68-8b02-d0b462a037a8",
   "metadata": {},
   "source": [
    "### Load and process regional trend data"
   ]
  },
  {
   "cell_type": "markdown",
   "id": "f6c8f6e1-c07b-428c-b6bd-08656a851160",
   "metadata": {},
   "source": [
    "#### Models"
   ]
  },
  {
   "cell_type": "code",
   "execution_count": 4,
   "id": "e5157658-24e0-49cd-9b54-71dbbcd8d24b",
   "metadata": {},
   "outputs": [],
   "source": [
    "# I need to go from the CAM output variables to the CMOR/CMIP standard names.\n",
    "pic_tseries_dir = '/glade/u/home/jonahshaw/w/trend_uncertainty/nathan/CMIP6_PIC/'\n",
    "cesm1_dir       = 'CESM1/'\n",
    "mpi_dir         = 'MPI-GE/'\n",
    "canesm2_dir     = 'CanESM2/'\n",
    "esm2m_dir       = 'ESM2M/'\n",
    "\n",
    "cesm1_cmor_var_dict = {'ts':'TS','tas':'TREFHT','psl':'PSL'}"
   ]
  },
  {
   "cell_type": "code",
   "execution_count": 5,
   "id": "4d3e5cd7-d447-4fc7-ac3d-2448f1edc964",
   "metadata": {},
   "outputs": [],
   "source": [
    "cesm1_trends_filepath   = glob.glob('%s/%s/*.1900trends.040001-220012.nc' % (pic_tseries_dir,cesm1_dir))\n",
    "mpi_trends_filepath     = glob.glob('%s/%s/*.1900trends.185001-385012.nc' % (pic_tseries_dir,mpi_dir))\n",
    "canesm2_trends_filepath = glob.glob('%s/%s/*.1900trends.201501-301012.nc' % (pic_tseries_dir,canesm2_dir))\n",
    "esm2m_trends_filepath   = glob.glob('%s/%s/*.1900trends.000101-050012.nc' % (pic_tseries_dir,esm2m_dir))"
   ]
  },
  {
   "cell_type": "markdown",
   "id": "d74a6391-5393-494c-ab07-e5cd0b7e1e6b",
   "metadata": {},
   "source": [
    "Load the trend data."
   ]
  },
  {
   "cell_type": "code",
   "execution_count": 6,
   "id": "8b12dee2-fbce-4530-bfc9-173e303c1fa6",
   "metadata": {},
   "outputs": [],
   "source": [
    "cesm1_pic_trends_all   = xr.open_dataarray(*cesm1_trends_filepath)\n",
    "\n",
    "mpi_pic_trends_all     = xr.open_dataarray(*mpi_trends_filepath)\n",
    "\n",
    "canesm2_pic_trends_all = xr.open_dataarray(*canesm2_trends_filepath)\n",
    "\n",
    "esm2m_pic_trends_all   = xr.open_dataarray(*esm2m_trends_filepath)"
   ]
  },
  {
   "cell_type": "markdown",
   "id": "b69abbb8-721c-4c27-85f3-cd84fb3617a7",
   "metadata": {},
   "source": [
    "### Compute trend percentiles (regional)"
   ]
  },
  {
   "cell_type": "markdown",
   "id": "38728f76-656f-4b91-862c-8cf4e6aa36d6",
   "metadata": {},
   "source": [
    "Calculate a 95% confidence interval on the PI-Control trends."
   ]
  },
  {
   "cell_type": "code",
   "execution_count": 7,
   "id": "c37d1f69-3489-45db-8801-55d8f8e7cfe3",
   "metadata": {},
   "outputs": [],
   "source": [
    "# CESM1\n",
    "cesm1_pic_trends_2_5perc  = percentile_vec(cesm1_pic_trends_all,q=2.5,core_dim='startyear').compute()\n",
    "cesm1_pic_trends_97_5perc = percentile_vec(cesm1_pic_trends_all,q=97.5,core_dim='startyear').compute()\n",
    "\n",
    "# MPI-GE\n",
    "mpi_pic_trends_2_5perc  = percentile_vec(mpi_pic_trends_all,q=2.5,core_dim='startyear').compute()\n",
    "mpi_pic_trends_97_5perc = percentile_vec(mpi_pic_trends_all,q=97.5,core_dim='startyear').compute()\n",
    "\n",
    "# CanESM2\n",
    "canesm2_pic_trends_2_5perc  = percentile_vec(canesm2_pic_trends_all,q=2.5,core_dim='startyear').compute()\n",
    "canesm2_pic_trends_97_5perc = percentile_vec(canesm2_pic_trends_all,q=97.5,core_dim='startyear').compute()\n",
    "\n",
    "# ESM2M\n",
    "esm2m_pic_trends_2_5perc  = percentile_vec(esm2m_pic_trends_all,q=2.5,core_dim='startyear').compute()\n",
    "esm2m_pic_trends_97_5perc = percentile_vec(esm2m_pic_trends_all,q=97.5,core_dim='startyear').compute()"
   ]
  },
  {
   "cell_type": "code",
   "execution_count": 8,
   "id": "b0dcd860-68c1-47a0-a6ef-39e1ceaed78a",
   "metadata": {},
   "outputs": [],
   "source": [
    "cesm1_ipccregion_trends_percentiles = xr.merge([cesm1_pic_trends_2_5perc.assign_coords({'percentile':2.5}).expand_dims('percentile',axis=-1),\n",
    "                                           cesm1_pic_trends_97_5perc.assign_coords({'percentile':97.5}).expand_dims('percentile',axis=-1)])\n",
    "\n",
    "filename = 'b.e11.B1850C5CN.f09_g16.005.cam.h0.TREFHT.040001-220012.1900trends.Percentiles.nc'\n",
    "\n",
    "cesm1_ipccregion_trends_percentiles.to_netcdf('%s/%s/%s' % (pic_tseries_dir,cesm1_dir,filename))"
   ]
  },
  {
   "cell_type": "code",
   "execution_count": null,
   "id": "29726a00-2b86-4af0-9cd4-1809b201a3a5",
   "metadata": {},
   "outputs": [],
   "source": [
    "mpi_ipccregion_trends_percentiles = xr.merge([mpi_pic_trends_2_5perc.assign_coords({'percentile':2.5}).expand_dims('percentile',axis=-1),\n",
    "                                           mpi_pic_trends_97_5perc.assign_coords({'percentile':97.5}).expand_dims('percentile',axis=-1)])\n",
    "\n",
    "filename = 'tas_Amon_MPI-ESM_piControl_r001i1850p3.185001-385012.1900trends.Percentiles.nc'\n",
    "\n",
    "mpi_ipccregion_trends_percentiles.to_netcdf('%s/%s/%s' % (pic_tseries_dir,mpi_dir,filename))"
   ]
  },
  {
   "cell_type": "code",
   "execution_count": null,
   "id": "28461f59-9995-4d4a-b992-7d474f8c54ef",
   "metadata": {},
   "outputs": [],
   "source": [
    "canesm2_ipccregion_trends_percentiles = xr.merge([canesm2_pic_trends_2_5perc.assign_coords({'percentile':2.5}).expand_dims('percentile',axis=-1),\n",
    "                                           canesm2_pic_trends_97_5perc.assign_coords({'percentile':97.5}).expand_dims('percentile',axis=-1)])\n",
    "\n",
    "filename = 'tas_Amon_CanESM2_piControl_r1i1p1.201501-301012.1900trends.Percentiles.nc'\n",
    "\n",
    "canesm2_ipccregion_trends_percentiles.to_netcdf('%s/%s/%s' % (pic_tseries_dir,canesm2_dir,filename))"
   ]
  },
  {
   "cell_type": "code",
   "execution_count": null,
   "id": "27bb3d68-2d5d-4f34-b87b-b4f92fefa632",
   "metadata": {},
   "outputs": [],
   "source": [
    "esm2m_ipccregion_trends_percentiles = xr.merge([esm2m_pic_trends_2_5perc.assign_coords({'percentile':2.5}).expand_dims('percentile',axis=-1),\n",
    "                                           esm2m_pic_trends_97_5perc.assign_coords({'percentile':97.5}).expand_dims('percentile',axis=-1)])\n",
    "\n",
    "filename = 'tas_Amon_GFDL-ESM2M_piControl_r1i1p1.000101-050012.1900trends.Percentiles.nc'\n",
    "\n",
    "esm2m_ipccregion_trends_percentiles.to_netcdf('%s/%s/%s' % (pic_tseries_dir,esm2m_dir,filename))"
   ]
  },
  {
   "cell_type": "markdown",
   "id": "c27b819e-ba25-4558-a4f8-8e088ef2d607",
   "metadata": {},
   "source": [
    "#### Clean up regional data from models"
   ]
  },
  {
   "cell_type": "code",
   "execution_count": 9,
   "id": "01a16e94-dda2-4bd0-b929-55a64ec2aa60",
   "metadata": {},
   "outputs": [],
   "source": [
    "del (cesm1_pic_trends_all,\n",
    "    mpi_pic_trends_all,\n",
    "    canesm2_pic_trends_all,\n",
    "    esm2m_pic_trends_all)"
   ]
  },
  {
   "cell_type": "code",
   "execution_count": 10,
   "id": "fb461ed1-0e67-4a1f-b226-1f5d417a811c",
   "metadata": {},
   "outputs": [],
   "source": [
    "del (cesm1_pic_trends_2_5perc,\n",
    "    cesm1_pic_trends_97_5perc,\n",
    "    mpi_pic_trends_2_5perc,\n",
    "    mpi_pic_trends_97_5perc,\n",
    "    canesm2_pic_trends_2_5perc,\n",
    "    canesm2_pic_trends_97_5perc,\n",
    "    esm2m_pic_trends_2_5perc,\n",
    "    esm2m_pic_trends_97_5perc)"
   ]
  },
  {
   "cell_type": "code",
   "execution_count": 11,
   "id": "9fed2caa-cef1-4737-899d-12598b93b2bf",
   "metadata": {},
   "outputs": [
    {
     "ename": "NameError",
     "evalue": "name 'mpi_ipccregion_trends_percentiles' is not defined",
     "output_type": "error",
     "traceback": [
      "\u001b[0;31m---------------------------------------------------------------------------\u001b[0m",
      "\u001b[0;31mNameError\u001b[0m                                 Traceback (most recent call last)",
      "\u001b[0;32m<ipython-input-11-8a355667c574>\u001b[0m in \u001b[0;36m<module>\u001b[0;34m\u001b[0m\n\u001b[1;32m      1\u001b[0m del (cesm1_ipccregion_trends_percentiles,\n\u001b[0;32m----> 2\u001b[0;31m     \u001b[0mmpi_ipccregion_trends_percentiles\u001b[0m\u001b[0;34m,\u001b[0m\u001b[0;34m\u001b[0m\u001b[0;34m\u001b[0m\u001b[0m\n\u001b[0m\u001b[1;32m      3\u001b[0m     \u001b[0mcanesm2_ipccregion_trends_percentiles\u001b[0m\u001b[0;34m,\u001b[0m\u001b[0;34m\u001b[0m\u001b[0;34m\u001b[0m\u001b[0m\n\u001b[1;32m      4\u001b[0m     esm2m_ipccregion_trends_percentiles)\n",
      "\u001b[0;31mNameError\u001b[0m: name 'mpi_ipccregion_trends_percentiles' is not defined"
     ]
    }
   ],
   "source": [
    "del (cesm1_ipccregion_trends_percentiles,\n",
    "    mpi_ipccregion_trends_percentiles,\n",
    "    canesm2_ipccregion_trends_percentiles,\n",
    "    esm2m_ipccregion_trends_percentiles)"
   ]
  },
  {
   "cell_type": "markdown",
   "id": "ee1c0bcb-ce46-4f06-80eb-cb899ef42dc1",
   "metadata": {},
   "source": [
    "#### Observations"
   ]
  },
  {
   "cell_type": "code",
   "execution_count": null,
   "id": "4dbc8c2b-0f46-41e7-89d2-2be2db30d8d6",
   "metadata": {},
   "outputs": [],
   "source": [
    "obs_tseries_dir = '/glade/u/home/jonahshaw/w/trend_uncertainty/nathan/OBS_LENS/'\n",
    "gistemp_5x5_dir = 'GISTEMP_5x5/20240820/'\n",
    "hadcrut5_dir    = 'HadCRUT5/20240820/'"
   ]
  },
  {
   "cell_type": "code",
   "execution_count": null,
   "id": "4e7966a4-7506-46ff-b99d-dfa250ad64be",
   "metadata": {},
   "outputs": [],
   "source": [
    "gistemp_tas_var = 'tas'\n",
    "hadcrut5_tas_var = 'tas'"
   ]
  },
  {
   "cell_type": "code",
   "execution_count": null,
   "id": "8af8d12c-daab-46ef-bd61-f8c2ff72ede0",
   "metadata": {},
   "outputs": [],
   "source": [
    "gistemp_5x5_trends_filepath  = glob.glob('%s/%s/*.trends.190001-202012*.nc' % (obs_tseries_dir,gistemp_5x5_dir))\n",
    "hadcrut5_trends_filepath     = glob.glob('%s/%s/*.trends.1900*.nc' % (obs_tseries_dir,hadcrut5_dir))"
   ]
  },
  {
   "cell_type": "markdown",
   "id": "f0f069b5-d5c9-4e8e-882d-1d281f6ebe5c",
   "metadata": {},
   "source": [
    "Load the trend data"
   ]
  },
  {
   "cell_type": "code",
   "execution_count": null,
   "id": "bca107d1-20cc-4741-963b-474eef62ba6e",
   "metadata": {},
   "outputs": [],
   "source": [
    "gistemp_5x5_trends_all  = xr.open_dataarray(*gistemp_5x5_trends_filepath)\n",
    "hadcrut5_trends_all     = xr.open_dataarray(*hadcrut5_trends_filepath)"
   ]
  },
  {
   "cell_type": "code",
   "execution_count": null,
   "id": "78983990-30bf-48ef-9595-a521be789845",
   "metadata": {},
   "outputs": [],
   "source": [
    "gistemp_5x5_trends_1900 = gistemp_5x5_trends_all.sel(startyear=1900)\n",
    "hadcrut5_trends_1900    = hadcrut5_trends_all.sel(startyear=1900)"
   ]
  },
  {
   "cell_type": "code",
   "execution_count": null,
   "id": "04863e41-2650-41c5-a852-0913e6716da6",
   "metadata": {},
   "outputs": [],
   "source": [
    "# Compute the low and high bounds on the trends from the observational products\n",
    "\n",
    "# GISTEMP 5x5\n",
    "gistemp_5x5_trends_2_5perc  = percentile_vec(gistemp_5x5_trends_1900,q=2.5,core_dim='realization')\n",
    "gistemp_5x5_trends_50perc  = percentile_vec(gistemp_5x5_trends_1900,q=50,core_dim='realization')\n",
    "gistemp_5x5_trends_97_5perc = percentile_vec(gistemp_5x5_trends_1900,q=97.5,core_dim='realization')\n",
    "\n",
    "# HadCRUT5\n",
    "hadcrut5_trends_2_5perc  = percentile_vec(hadcrut5_trends_1900,q=2.5,core_dim='realization')\n",
    "hadcrut5_trends_50perc  = percentile_vec(hadcrut5_trends_1900,q=50,core_dim='realization')\n",
    "hadcrut5_trends_97_5perc = percentile_vec(hadcrut5_trends_1900,q=97.5,core_dim='realization')"
   ]
  },
  {
   "cell_type": "code",
   "execution_count": null,
   "id": "74c41e10-f187-4a2d-bddb-1e0b5dcb74c1",
   "metadata": {},
   "outputs": [],
   "source": [
    "gistemp_5x5_trends_percentiles = xr.merge([gistemp_5x5_trends_2_5perc.assign_coords({'percentile':2.5}).expand_dims('percentile',axis=-1),\n",
    "                                           gistemp_5x5_trends_50perc.assign_coords({'percentile':50.0}).expand_dims('percentile',axis=-1),\n",
    "                                           gistemp_5x5_trends_97_5perc.assign_coords({'percentile':97.5}).expand_dims('percentile',axis=-1)])\n",
    "\n",
    "filename = 'ensembleChunks_5x5_0001_0200.190001-202012.trends.Percentiles.nc'\n",
    "\n",
    "gistemp_5x5_trends_percentiles.to_netcdf('%s/%s/%s' % (obs_tseries_dir,gistemp_5x5_dir,filename))"
   ]
  },
  {
   "cell_type": "code",
   "execution_count": null,
   "id": "7a7b7c35-ceb7-4ec4-8544-a65e0fa8e46b",
   "metadata": {},
   "outputs": [],
   "source": [
    "hadcrut5_5x5_trends_percentiles = xr.merge([hadcrut5_trends_2_5perc.assign_coords({'percentile':2.5}).expand_dims('percentile',axis=-1),\n",
    "                                            hadcrut5_trends_50perc.assign_coords({'percentile':50.0}).expand_dims('percentile',axis=-1),\n",
    "                                            hadcrut5_trends_97_5perc.assign_coords({'percentile':97.5}).expand_dims('percentile',axis=-1)])\n",
    "\n",
    "filename = 'HadCRUT.5.0.1.0.analysis.anomalies.1_200.190001-202012.trends.Percentiles.nc'\n",
    "\n",
    "hadcrut5_5x5_trends_percentiles.to_netcdf('%s/%s/%s' % (obs_tseries_dir,hadcrut5_dir,filename))"
   ]
  },
  {
   "cell_type": "markdown",
   "id": "9d668fef-e1e6-4eb0-9c3e-c8e34f84754d",
   "metadata": {},
   "source": [
    "#### Clean up regional data from observations"
   ]
  },
  {
   "cell_type": "code",
   "execution_count": null,
   "id": "30cda69d-ad17-4c49-93d8-5d8d47ab437d",
   "metadata": {},
   "outputs": [],
   "source": [
    "del gistemp_5x5_trends_all,hadcrut5_trends_all"
   ]
  },
  {
   "cell_type": "code",
   "execution_count": null,
   "id": "9b46f70b-525e-4b9e-9de0-9377a49e9405",
   "metadata": {},
   "outputs": [],
   "source": [
    "del (gistemp_5x5_trends_2_5perc,\n",
    "    gistemp_5x5_trends_50perc,\n",
    "    gistemp_5x5_trends_97_5perc,\n",
    "    hadcrut5_trends_2_5perc,\n",
    "    hadcrut5_trends_50perc,\n",
    "    hadcrut5_trends_97_5perc)"
   ]
  },
  {
   "cell_type": "code",
   "execution_count": null,
   "id": "bd691ec7-4061-4bec-80ff-dbdce23e162f",
   "metadata": {},
   "outputs": [],
   "source": [
    "del (gistemp_5x5_trends_percentiles,\n",
    "    hadcrut5_5x5_trends_percentiles)"
   ]
  },
  {
   "cell_type": "markdown",
   "id": "870b0ab6-d3ff-4170-898a-01047d1a9c0d",
   "metadata": {},
   "source": [
    "## Compute trend percentiles (spatial 5x5 deg.)"
   ]
  },
  {
   "cell_type": "markdown",
   "id": "29e2d0f3-556f-495c-a1ba-292e8b15b633",
   "metadata": {},
   "source": [
    "Don't need to do this for the obs. unless for visualization, not used in ToE."
   ]
  },
  {
   "cell_type": "markdown",
   "id": "f39057e7-36b2-4eb7-a852-19e4c54a6b71",
   "metadata": {},
   "source": [
    "### Load processed trend data"
   ]
  },
  {
   "cell_type": "markdown",
   "id": "7962f0a2-4d5b-40cb-a851-dde5a8c8d18c",
   "metadata": {},
   "source": [
    "#### Models"
   ]
  },
  {
   "cell_type": "code",
   "execution_count": null,
   "id": "d652c0c3-c806-4639-89c4-bc6757e4431e",
   "metadata": {},
   "outputs": [],
   "source": [
    "# I need to go from the CAM output variables to the CMOR/CMIP standard names.\n",
    "pic_tseries_dir = '/glade/work/jonahshaw/trend_uncertainty/nathan/CMIP6_PIC/'\n",
    "cesm1_dir       = 'CESM1/'\n",
    "mpi_dir         = 'MPI-GE/'\n",
    "canesm2_dir     = 'CanESM2/'\n",
    "esm2m_dir       = 'ESM2M/'\n",
    "\n",
    "cesm1_cmor_var_dict = {'ts':'TS','tas':'TREFHT','psl':'PSL'}"
   ]
  },
  {
   "cell_type": "code",
   "execution_count": null,
   "id": "13a23089-e15c-482c-a181-077c2dc8b763",
   "metadata": {},
   "outputs": [],
   "source": [
    "cesm1_trends_filepath   = glob.glob('%s/%s/*5x5degSpatialTrends.3_120_years.nc' % (pic_tseries_dir,cesm1_dir))\n",
    "mpi_trends_filepath     = glob.glob('%s/%s/*5x5degSpatialTrends.3_120_years.nc' % (pic_tseries_dir,mpi_dir))\n",
    "canesm2_trends_filepath = glob.glob('%s/%s/*5x5degSpatialTrends.3_120_years.nc' % (pic_tseries_dir,canesm2_dir))\n",
    "esm2m_trends_filepath   = glob.glob('%s/%s/*5x5degSpatialTrends.3_120_years.nc' % (pic_tseries_dir,esm2m_dir))"
   ]
  },
  {
   "cell_type": "markdown",
   "id": "2f0da8f6-20c0-4a31-aa50-3e9c0fcf0efc",
   "metadata": {},
   "source": [
    "Load the trend data."
   ]
  },
  {
   "cell_type": "code",
   "execution_count": null,
   "id": "1ac81616-be1e-45e3-99bb-7ec6510d751b",
   "metadata": {},
   "outputs": [],
   "source": [
    "cesm1_pic_trends_all   = xr.open_dataarray(*cesm1_trends_filepath)\n",
    "\n",
    "mpi_pic_trends_all     = xr.open_dataarray(*mpi_trends_filepath)\n",
    "\n",
    "canesm2_pic_trends_all = xr.open_dataarray(*canesm2_trends_filepath)\n",
    "\n",
    "esm2m_pic_trends_all   = xr.open_dataarray(*esm2m_trends_filepath)"
   ]
  },
  {
   "cell_type": "markdown",
   "id": "ab4f8a16-3f42-4fe1-ae08-472fe27f0678",
   "metadata": {},
   "source": [
    "Calculate a 95% confidence interval on the PI-Control trends."
   ]
  },
  {
   "cell_type": "code",
   "execution_count": null,
   "id": "07cf2b76-8d2b-406d-b0e2-c4754e337953",
   "metadata": {
    "tags": []
   },
   "outputs": [],
   "source": [
    "%%time\n",
    "\n",
    "# CESM1\n",
    "cesm1_pic_trends_2_5perc  = percentile_vec(cesm1_pic_trends_all,q=2.5,core_dim='startyear').compute()\n",
    "cesm1_pic_trends_97_5perc = percentile_vec(cesm1_pic_trends_all,q=97.5,core_dim='startyear').compute()\n",
    "\n",
    "# MPI-GE\n",
    "mpi_pic_trends_2_5perc  = percentile_vec(mpi_pic_trends_all,q=2.5,core_dim='startyear').compute()\n",
    "mpi_pic_trends_97_5perc = percentile_vec(mpi_pic_trends_all,q=97.5,core_dim='startyear').compute()\n",
    "\n",
    "# CanESM2\n",
    "canesm2_pic_trends_2_5perc  = percentile_vec(canesm2_pic_trends_all,q=2.5,core_dim='startyear').compute()\n",
    "canesm2_pic_trends_97_5perc = percentile_vec(canesm2_pic_trends_all,q=97.5,core_dim='startyear').compute()\n",
    "\n",
    "# ESM2M\n",
    "esm2m_pic_trends_2_5perc  = percentile_vec(esm2m_pic_trends_all,q=2.5,core_dim='startyear').compute()\n",
    "esm2m_pic_trends_97_5perc = percentile_vec(esm2m_pic_trends_all,q=97.5,core_dim='startyear').compute()"
   ]
  },
  {
   "cell_type": "code",
   "execution_count": null,
   "id": "3fa79c89-5faa-490a-8a01-e6dfb30c704c",
   "metadata": {},
   "outputs": [],
   "source": [
    "save_dir = '/glade/work/jonahshaw/trend_uncertainty/nathan/CMIP6_PIC/'"
   ]
  },
  {
   "cell_type": "markdown",
   "id": "4671e1de-fde1-4f6a-9be9-20c38f13f665",
   "metadata": {},
   "source": [
    "CESM1"
   ]
  },
  {
   "cell_type": "code",
   "execution_count": null,
   "id": "4dabbc52-6968-466e-a314-e601625b3d87",
   "metadata": {},
   "outputs": [],
   "source": [
    "cesm1_pic_trends_percentiles = xr.merge([cesm1_pic_trends_2_5perc.assign_coords({'percentile':2.5}).expand_dims('percentile',axis=-1),\n",
    "                                         cesm1_pic_trends_97_5perc.assign_coords({'percentile':97.5}).expand_dims('percentile',axis=-1)])"
   ]
  },
  {
   "cell_type": "code",
   "execution_count": null,
   "id": "970a43fc-959f-4e9d-b4b7-a1c508a571e7",
   "metadata": {},
   "outputs": [],
   "source": [
    "filename = 'b.e11.B1850C5CN.f09_g16.005.cam.h0.TREFHT.040001-179912.5x5degSpatialTrends.3_120_years.Percentiles.nc'\n",
    "\n",
    "# Don't delete\n",
    "cesm1_pic_trends_percentiles.to_netcdf('%s/CESM1/%s' % (save_dir,filename))"
   ]
  },
  {
   "cell_type": "markdown",
   "id": "b5e1df3b-0724-4a76-9dc9-ef2b86f2009c",
   "metadata": {},
   "source": [
    "MPI-GE"
   ]
  },
  {
   "cell_type": "code",
   "execution_count": null,
   "id": "7a3c1e12-1f37-4586-b88a-2f08d480fbbf",
   "metadata": {},
   "outputs": [],
   "source": [
    "mpi_pic_trends_percentiles = xr.merge([mpi_pic_trends_2_5perc.assign_coords({'percentile':2.5}).expand_dims('percentile',axis=-1),\n",
    "                                       mpi_pic_trends_97_5perc.assign_coords({'percentile':97.5}).expand_dims('percentile',axis=-1)])"
   ]
  },
  {
   "cell_type": "code",
   "execution_count": null,
   "id": "fd982713-769d-4b02-a1c2-fc464204406d",
   "metadata": {},
   "outputs": [],
   "source": [
    "filename = 'tas_Amon_MPI-ESM_piControl_r001i1850p3_185001-359912.5x5degSpatialTrends.3_120_years.Percentiles.nc'\n",
    "\n",
    "# Don't delete\n",
    "mpi_pic_trends_percentiles.to_netcdf('%s/MPI-GE/%s' % (save_dir,filename))"
   ]
  },
  {
   "cell_type": "markdown",
   "id": "a75047c5-e0d4-4344-a657-546dfd190f8c",
   "metadata": {},
   "source": [
    "CanESM2"
   ]
  },
  {
   "cell_type": "code",
   "execution_count": null,
   "id": "d21d4400-dc51-4788-8eab-6a6d1fa380e9",
   "metadata": {},
   "outputs": [],
   "source": [
    "canesm2_pic_trends_percentiles = xr.merge([canesm2_pic_trends_2_5perc.assign_coords({'percentile':2.5}).expand_dims('percentile',axis=-1),\n",
    "                                           canesm2_pic_trends_97_5perc.assign_coords({'percentile':97.5}).expand_dims('percentile',axis=-1)])"
   ]
  },
  {
   "cell_type": "code",
   "execution_count": null,
   "id": "63292791-837d-40bc-8b33-11ce2729f9fa",
   "metadata": {},
   "outputs": [],
   "source": [
    "filename = 'tas_Amon_CanESM2_piControl_r1i1p1_201501-301012.5x5degSpatialTrends.3_120_years.Percentiles.nc'\n",
    "\n",
    "# Don't delete\n",
    "canesm2_pic_trends_percentiles.to_netcdf('%s/CanESM2/%s' % (save_dir,filename))"
   ]
  },
  {
   "cell_type": "markdown",
   "id": "db4cfac9-c488-4c71-b4b1-970b816c53fc",
   "metadata": {},
   "source": [
    "ESM2M"
   ]
  },
  {
   "cell_type": "code",
   "execution_count": null,
   "id": "c3e09530-76eb-422b-ba3d-6ec7c8f4957e",
   "metadata": {},
   "outputs": [],
   "source": [
    "esm2m_pic_trends_percentiles = xr.merge([esm2m_pic_trends_2_5perc.assign_coords({'percentile':2.5}).expand_dims('percentile',axis=-1),\n",
    "                                         esm2m_pic_trends_97_5perc.assign_coords({'percentile':97.5}).expand_dims('percentile',axis=-1)])"
   ]
  },
  {
   "cell_type": "code",
   "execution_count": null,
   "id": "4c1c3ef7-ac9b-4027-91c5-76f89de54534",
   "metadata": {},
   "outputs": [],
   "source": [
    "filename = 'tas_Amon_GFDL-ESM2M_piControl_r1i1p1_000101-050012.5x5degSpatialTrends.3_120_years.Percentiles.nc'\n",
    "\n",
    "# Don't delete\n",
    "esm2m_pic_trends_percentiles.to_netcdf('%s/ESM2M/%s' % (save_dir,filename))"
   ]
  },
  {
   "cell_type": "markdown",
   "id": "9c351d75-321e-45c5-9c01-089fc27b92bd",
   "metadata": {},
   "source": [
    "#### Clean up"
   ]
  },
  {
   "cell_type": "code",
   "execution_count": null,
   "id": "bee018b9-25a4-4a8e-9294-f70d2c7c2e08",
   "metadata": {},
   "outputs": [],
   "source": [
    "del (cesm1_pic_trends_all,\n",
    "    mpi_pic_trends_all,\n",
    "    canesm2_pic_trends_all,\n",
    "    esm2m_pic_trends_all)"
   ]
  },
  {
   "cell_type": "code",
   "execution_count": null,
   "id": "fcbfdd38-d3e2-4f22-bcef-7bc3e9782494",
   "metadata": {},
   "outputs": [],
   "source": [
    "del (cesm1_pic_trends_2_5perc,\n",
    "    cesm1_pic_trends_97_5perc,\n",
    "    mpi_pic_trends_2_5perc,\n",
    "    mpi_pic_trends_97_5perc,\n",
    "    canesm2_pic_trends_2_5perc,\n",
    "    canesm2_pic_trends_97_5perc,\n",
    "    esm2m_pic_trends_2_5perc,\n",
    "    esm2m_pic_trends_97_5perc)"
   ]
  },
  {
   "cell_type": "code",
   "execution_count": null,
   "id": "de0e6fb4-bcd9-4315-838a-59576af96980",
   "metadata": {},
   "outputs": [],
   "source": [
    "del (cesm1_pic_trends_percentiles,\n",
    "    mpi_pic_trends_percentiles,\n",
    "    canesm2_pic_trends_percentiles,\n",
    "    esm2m_pic_trends_percentiles)"
   ]
  },
  {
   "cell_type": "markdown",
   "id": "2f2068c0-ea35-4573-9cb1-e5d0d5a0a010",
   "metadata": {},
   "source": [
    "#### Observations"
   ]
  },
  {
   "cell_type": "code",
   "execution_count": 12,
   "id": "0c294ea7-a9b9-4c18-bbd1-1d3eb1967d4c",
   "metadata": {},
   "outputs": [],
   "source": [
    "obs_tseries_dir = '/glade/u/home/jonahshaw/w/trend_uncertainty/nathan/OBS_LENS/'\n",
    "gistemp_5x5_dir = 'GISTEMP_5x5/20240820/'\n",
    "hadcrut5_dir    = 'HadCRUT5/20240820/'"
   ]
  },
  {
   "cell_type": "code",
   "execution_count": 13,
   "id": "a9efc5c0-9d47-4c48-be26-4a4c574b7a71",
   "metadata": {},
   "outputs": [],
   "source": [
    "gistemp_tas_var = 'tas'\n",
    "hadcrut5_tas_var = 'tas'"
   ]
  },
  {
   "cell_type": "code",
   "execution_count": 14,
   "id": "970c54ec-8ef6-4589-86d9-620764443f1f",
   "metadata": {},
   "outputs": [],
   "source": [
    "gistemp_5x5_trends_filepath  = glob.glob('%s/%s/*5x5degSpatialTrends.190001-202012.nc' % (obs_tseries_dir,gistemp_5x5_dir))\n",
    "hadcrut5_trends_filepath     = glob.glob('%s/%s/*5x5degSpatialTrends.190001-202012.nc' % (obs_tseries_dir,hadcrut5_dir))"
   ]
  },
  {
   "cell_type": "markdown",
   "id": "755a42cc-b035-4a97-8f0c-301f222835a9",
   "metadata": {},
   "source": [
    "Load the trend data"
   ]
  },
  {
   "cell_type": "code",
   "execution_count": 15,
   "id": "d05b13ec-bfb7-4278-9387-49b7fa8197d2",
   "metadata": {},
   "outputs": [],
   "source": [
    "gistemp_5x5_trends_all  = xr.open_mfdataset(gistemp_5x5_trends_filepath)\n",
    "\n",
    "hadcrut5_trends_all     = xr.open_mfdataset(hadcrut5_trends_filepath).rename({'longitude':'lon','latitude':'lat'})"
   ]
  },
  {
   "cell_type": "markdown",
   "id": "7ae451ac-951d-42dc-90bd-4c84622204ed",
   "metadata": {},
   "source": [
    "Observational Uncertainty"
   ]
  },
  {
   "cell_type": "code",
   "execution_count": null,
   "id": "a0efe3d5-cb31-430c-99ab-b67d8147d7fe",
   "metadata": {},
   "outputs": [],
   "source": [
    "# gistemp_5x5_trends_all  = xr.open_dataarray(*gistemp_5x5_trends_filepath)\n",
    "\n",
    "# hadcrut5_trends_all     = xr.open_dataarray(*hadcrut5_trends_filepath)\n",
    "\n",
    "# gistemp_5x5_trends_1960 = gistemp_5x5_trends_all.sel(startyear=1960)\n",
    "# hadcrut5_trends_1960    = hadcrut5_trends_all.sel(startyear=1960)"
   ]
  },
  {
   "cell_type": "code",
   "execution_count": 16,
   "id": "8dcec413-5f38-4ea9-ac77-095317cc70af",
   "metadata": {},
   "outputs": [
    {
     "name": "stdout",
     "output_type": "stream",
     "text": [
      "CPU times: user 12.3 ms, sys: 0 ns, total: 12.3 ms\n",
      "Wall time: 12.3 ms\n"
     ]
    }
   ],
   "source": [
    "%%time\n",
    "# Compute the low and high bounds on the trends from the observational products\n",
    "\n",
    "# GISTEMP 5x5\n",
    "gistemp_5x5_trends_2_5perc  = percentile_vec(gistemp_5x5_trends_all,q=2.5,core_dim='realization')\n",
    "gistemp_5x5_trends_50perc  = percentile_vec(gistemp_5x5_trends_all,q=50,core_dim='realization')\n",
    "gistemp_5x5_trends_97_5perc = percentile_vec(gistemp_5x5_trends_all,q=97.5,core_dim='realization')\n",
    "\n",
    "# HadCRUT5\n",
    "hadcrut5_trends_2_5perc  = percentile_vec(hadcrut5_trends_all,q=2.5,core_dim='realization')\n",
    "hadcrut5_trends_50perc  = percentile_vec(hadcrut5_trends_all,q=50,core_dim='realization')\n",
    "hadcrut5_trends_97_5perc = percentile_vec(hadcrut5_trends_all,q=97.5,core_dim='realization')"
   ]
  },
  {
   "cell_type": "markdown",
   "id": "9c36182c-1920-44b4-8407-40893ff2eb6e",
   "metadata": {},
   "source": [
    "Save Obs Data"
   ]
  },
  {
   "cell_type": "code",
   "execution_count": 17,
   "id": "1c73e857-30d7-40a8-8a89-17a7517b6b27",
   "metadata": {},
   "outputs": [],
   "source": [
    "save_dir_obs = '/glade/work/jonahshaw/trend_uncertainty/nathan/OBS_LENS/'"
   ]
  },
  {
   "cell_type": "markdown",
   "id": "b007d0ff-788d-45c4-b15e-1a648004a297",
   "metadata": {},
   "source": [
    "GISTEMP"
   ]
  },
  {
   "cell_type": "code",
   "execution_count": null,
   "id": "ca59ab17-2dc1-448d-a849-2ec4122dea07",
   "metadata": {},
   "outputs": [],
   "source": [
    "gistemp_5x5_trends_percentiles = xr.merge([gistemp_5x5_trends_2_5perc.assign_coords({'percentile':2.5}).expand_dims('percentile',axis=-1),\n",
    "                                           gistemp_5x5_trends_50perc.assign_coords({'percentile':50.0}).expand_dims('percentile',axis=-1),\n",
    "                                           gistemp_5x5_trends_97_5perc.assign_coords({'percentile':97.5}).expand_dims('percentile',axis=-1)])"
   ]
  },
  {
   "cell_type": "code",
   "execution_count": null,
   "id": "ee415470-7310-4e70-b94d-c0eff27ed8b5",
   "metadata": {},
   "outputs": [],
   "source": [
    "filename = 'ensembleChunk_5x5_1_100.5x5degSpatialTrends.190001-202012.Percentiles.nc'\n",
    "\n",
    "gistemp_5x5_trends_percentiles.to_netcdf('%s/%s/%s' % (save_dir_obs,gistemp_5x5_dir,filename))"
   ]
  },
  {
   "cell_type": "markdown",
   "id": "92a45b21-b216-42c8-9814-81b00dbc49c6",
   "metadata": {},
   "source": [
    "HadCRUT5"
   ]
  },
  {
   "cell_type": "code",
   "execution_count": 18,
   "id": "0e6a5fb5-d166-4ca4-bd8f-3a3999722b9d",
   "metadata": {},
   "outputs": [
    {
     "name": "stderr",
     "output_type": "stream",
     "text": [
      "/glade/work/jonahshaw/miniconda3/envs/cheycomp/lib/python3.7/site-packages/numpy/lib/nanfunctions.py:1370: RuntimeWarning: All-NaN slice encountered\n",
      "  overwrite_input=overwrite_input, interpolation=interpolation\n",
      "/glade/work/jonahshaw/miniconda3/envs/cheycomp/lib/python3.7/site-packages/numpy/lib/nanfunctions.py:1370: RuntimeWarning: All-NaN slice encountered\n",
      "  overwrite_input=overwrite_input, interpolation=interpolation\n",
      "/glade/work/jonahshaw/miniconda3/envs/cheycomp/lib/python3.7/site-packages/numpy/lib/nanfunctions.py:1370: RuntimeWarning: All-NaN slice encountered\n",
      "  overwrite_input=overwrite_input, interpolation=interpolation\n"
     ]
    }
   ],
   "source": [
    "hadcrut5_5x5_trends_percentiles = xr.merge([hadcrut5_trends_2_5perc.assign_coords({'percentile':2.5}).expand_dims('percentile',axis=-1),\n",
    "                                            hadcrut5_trends_50perc.assign_coords({'percentile':50.0}).expand_dims('percentile',axis=-1),\n",
    "                                            hadcrut5_trends_97_5perc.assign_coords({'percentile':97.5}).expand_dims('percentile',axis=-1)])"
   ]
  },
  {
   "cell_type": "code",
   "execution_count": 19,
   "id": "5984aa58-3e0b-4d46-976e-d1a772687fff",
   "metadata": {},
   "outputs": [
    {
     "data": {
      "text/html": [
       "<div><svg style=\"position: absolute; width: 0; height: 0; overflow: hidden\">\n",
       "<defs>\n",
       "<symbol id=\"icon-database\" viewBox=\"0 0 32 32\">\n",
       "<path d=\"M16 0c-8.837 0-16 2.239-16 5v4c0 2.761 7.163 5 16 5s16-2.239 16-5v-4c0-2.761-7.163-5-16-5z\"></path>\n",
       "<path d=\"M16 17c-8.837 0-16-2.239-16-5v6c0 2.761 7.163 5 16 5s16-2.239 16-5v-6c0 2.761-7.163 5-16 5z\"></path>\n",
       "<path d=\"M16 26c-8.837 0-16-2.239-16-5v6c0 2.761 7.163 5 16 5s16-2.239 16-5v-6c0 2.761-7.163 5-16 5z\"></path>\n",
       "</symbol>\n",
       "<symbol id=\"icon-file-text2\" viewBox=\"0 0 32 32\">\n",
       "<path d=\"M28.681 7.159c-0.694-0.947-1.662-2.053-2.724-3.116s-2.169-2.030-3.116-2.724c-1.612-1.182-2.393-1.319-2.841-1.319h-15.5c-1.378 0-2.5 1.121-2.5 2.5v27c0 1.378 1.122 2.5 2.5 2.5h23c1.378 0 2.5-1.122 2.5-2.5v-19.5c0-0.448-0.137-1.23-1.319-2.841zM24.543 5.457c0.959 0.959 1.712 1.825 2.268 2.543h-4.811v-4.811c0.718 0.556 1.584 1.309 2.543 2.268zM28 29.5c0 0.271-0.229 0.5-0.5 0.5h-23c-0.271 0-0.5-0.229-0.5-0.5v-27c0-0.271 0.229-0.5 0.5-0.5 0 0 15.499-0 15.5 0v7c0 0.552 0.448 1 1 1h7v19.5z\"></path>\n",
       "<path d=\"M23 26h-14c-0.552 0-1-0.448-1-1s0.448-1 1-1h14c0.552 0 1 0.448 1 1s-0.448 1-1 1z\"></path>\n",
       "<path d=\"M23 22h-14c-0.552 0-1-0.448-1-1s0.448-1 1-1h14c0.552 0 1 0.448 1 1s-0.448 1-1 1z\"></path>\n",
       "<path d=\"M23 18h-14c-0.552 0-1-0.448-1-1s0.448-1 1-1h14c0.552 0 1 0.448 1 1s-0.448 1-1 1z\"></path>\n",
       "</symbol>\n",
       "</defs>\n",
       "</svg>\n",
       "<style>/* CSS stylesheet for displaying xarray objects in jupyterlab.\n",
       " *\n",
       " */\n",
       "\n",
       ":root {\n",
       "  --xr-font-color0: var(--jp-content-font-color0, rgba(0, 0, 0, 1));\n",
       "  --xr-font-color2: var(--jp-content-font-color2, rgba(0, 0, 0, 0.54));\n",
       "  --xr-font-color3: var(--jp-content-font-color3, rgba(0, 0, 0, 0.38));\n",
       "  --xr-border-color: var(--jp-border-color2, #e0e0e0);\n",
       "  --xr-disabled-color: var(--jp-layout-color3, #bdbdbd);\n",
       "  --xr-background-color: var(--jp-layout-color0, white);\n",
       "  --xr-background-color-row-even: var(--jp-layout-color1, white);\n",
       "  --xr-background-color-row-odd: var(--jp-layout-color2, #eeeeee);\n",
       "}\n",
       "\n",
       "html[theme=dark],\n",
       "body.vscode-dark {\n",
       "  --xr-font-color0: rgba(255, 255, 255, 1);\n",
       "  --xr-font-color2: rgba(255, 255, 255, 0.54);\n",
       "  --xr-font-color3: rgba(255, 255, 255, 0.38);\n",
       "  --xr-border-color: #1F1F1F;\n",
       "  --xr-disabled-color: #515151;\n",
       "  --xr-background-color: #111111;\n",
       "  --xr-background-color-row-even: #111111;\n",
       "  --xr-background-color-row-odd: #313131;\n",
       "}\n",
       "\n",
       ".xr-wrap {\n",
       "  display: block;\n",
       "  min-width: 300px;\n",
       "  max-width: 700px;\n",
       "}\n",
       "\n",
       ".xr-text-repr-fallback {\n",
       "  /* fallback to plain text repr when CSS is not injected (untrusted notebook) */\n",
       "  display: none;\n",
       "}\n",
       "\n",
       ".xr-header {\n",
       "  padding-top: 6px;\n",
       "  padding-bottom: 6px;\n",
       "  margin-bottom: 4px;\n",
       "  border-bottom: solid 1px var(--xr-border-color);\n",
       "}\n",
       "\n",
       ".xr-header > div,\n",
       ".xr-header > ul {\n",
       "  display: inline;\n",
       "  margin-top: 0;\n",
       "  margin-bottom: 0;\n",
       "}\n",
       "\n",
       ".xr-obj-type,\n",
       ".xr-array-name {\n",
       "  margin-left: 2px;\n",
       "  margin-right: 10px;\n",
       "}\n",
       "\n",
       ".xr-obj-type {\n",
       "  color: var(--xr-font-color2);\n",
       "}\n",
       "\n",
       ".xr-sections {\n",
       "  padding-left: 0 !important;\n",
       "  display: grid;\n",
       "  grid-template-columns: 150px auto auto 1fr 20px 20px;\n",
       "}\n",
       "\n",
       ".xr-section-item {\n",
       "  display: contents;\n",
       "}\n",
       "\n",
       ".xr-section-item input {\n",
       "  display: none;\n",
       "}\n",
       "\n",
       ".xr-section-item input + label {\n",
       "  color: var(--xr-disabled-color);\n",
       "}\n",
       "\n",
       ".xr-section-item input:enabled + label {\n",
       "  cursor: pointer;\n",
       "  color: var(--xr-font-color2);\n",
       "}\n",
       "\n",
       ".xr-section-item input:enabled + label:hover {\n",
       "  color: var(--xr-font-color0);\n",
       "}\n",
       "\n",
       ".xr-section-summary {\n",
       "  grid-column: 1;\n",
       "  color: var(--xr-font-color2);\n",
       "  font-weight: 500;\n",
       "}\n",
       "\n",
       ".xr-section-summary > span {\n",
       "  display: inline-block;\n",
       "  padding-left: 0.5em;\n",
       "}\n",
       "\n",
       ".xr-section-summary-in:disabled + label {\n",
       "  color: var(--xr-font-color2);\n",
       "}\n",
       "\n",
       ".xr-section-summary-in + label:before {\n",
       "  display: inline-block;\n",
       "  content: '►';\n",
       "  font-size: 11px;\n",
       "  width: 15px;\n",
       "  text-align: center;\n",
       "}\n",
       "\n",
       ".xr-section-summary-in:disabled + label:before {\n",
       "  color: var(--xr-disabled-color);\n",
       "}\n",
       "\n",
       ".xr-section-summary-in:checked + label:before {\n",
       "  content: '▼';\n",
       "}\n",
       "\n",
       ".xr-section-summary-in:checked + label > span {\n",
       "  display: none;\n",
       "}\n",
       "\n",
       ".xr-section-summary,\n",
       ".xr-section-inline-details {\n",
       "  padding-top: 4px;\n",
       "  padding-bottom: 4px;\n",
       "}\n",
       "\n",
       ".xr-section-inline-details {\n",
       "  grid-column: 2 / -1;\n",
       "}\n",
       "\n",
       ".xr-section-details {\n",
       "  display: none;\n",
       "  grid-column: 1 / -1;\n",
       "  margin-bottom: 5px;\n",
       "}\n",
       "\n",
       ".xr-section-summary-in:checked ~ .xr-section-details {\n",
       "  display: contents;\n",
       "}\n",
       "\n",
       ".xr-array-wrap {\n",
       "  grid-column: 1 / -1;\n",
       "  display: grid;\n",
       "  grid-template-columns: 20px auto;\n",
       "}\n",
       "\n",
       ".xr-array-wrap > label {\n",
       "  grid-column: 1;\n",
       "  vertical-align: top;\n",
       "}\n",
       "\n",
       ".xr-preview {\n",
       "  color: var(--xr-font-color3);\n",
       "}\n",
       "\n",
       ".xr-array-preview,\n",
       ".xr-array-data {\n",
       "  padding: 0 5px !important;\n",
       "  grid-column: 2;\n",
       "}\n",
       "\n",
       ".xr-array-data,\n",
       ".xr-array-in:checked ~ .xr-array-preview {\n",
       "  display: none;\n",
       "}\n",
       "\n",
       ".xr-array-in:checked ~ .xr-array-data,\n",
       ".xr-array-preview {\n",
       "  display: inline-block;\n",
       "}\n",
       "\n",
       ".xr-dim-list {\n",
       "  display: inline-block !important;\n",
       "  list-style: none;\n",
       "  padding: 0 !important;\n",
       "  margin: 0;\n",
       "}\n",
       "\n",
       ".xr-dim-list li {\n",
       "  display: inline-block;\n",
       "  padding: 0;\n",
       "  margin: 0;\n",
       "}\n",
       "\n",
       ".xr-dim-list:before {\n",
       "  content: '(';\n",
       "}\n",
       "\n",
       ".xr-dim-list:after {\n",
       "  content: ')';\n",
       "}\n",
       "\n",
       ".xr-dim-list li:not(:last-child):after {\n",
       "  content: ',';\n",
       "  padding-right: 5px;\n",
       "}\n",
       "\n",
       ".xr-has-index {\n",
       "  font-weight: bold;\n",
       "}\n",
       "\n",
       ".xr-var-list,\n",
       ".xr-var-item {\n",
       "  display: contents;\n",
       "}\n",
       "\n",
       ".xr-var-item > div,\n",
       ".xr-var-item label,\n",
       ".xr-var-item > .xr-var-name span {\n",
       "  background-color: var(--xr-background-color-row-even);\n",
       "  margin-bottom: 0;\n",
       "}\n",
       "\n",
       ".xr-var-item > .xr-var-name:hover span {\n",
       "  padding-right: 5px;\n",
       "}\n",
       "\n",
       ".xr-var-list > li:nth-child(odd) > div,\n",
       ".xr-var-list > li:nth-child(odd) > label,\n",
       ".xr-var-list > li:nth-child(odd) > .xr-var-name span {\n",
       "  background-color: var(--xr-background-color-row-odd);\n",
       "}\n",
       "\n",
       ".xr-var-name {\n",
       "  grid-column: 1;\n",
       "}\n",
       "\n",
       ".xr-var-dims {\n",
       "  grid-column: 2;\n",
       "}\n",
       "\n",
       ".xr-var-dtype {\n",
       "  grid-column: 3;\n",
       "  text-align: right;\n",
       "  color: var(--xr-font-color2);\n",
       "}\n",
       "\n",
       ".xr-var-preview {\n",
       "  grid-column: 4;\n",
       "}\n",
       "\n",
       ".xr-var-name,\n",
       ".xr-var-dims,\n",
       ".xr-var-dtype,\n",
       ".xr-preview,\n",
       ".xr-attrs dt {\n",
       "  white-space: nowrap;\n",
       "  overflow: hidden;\n",
       "  text-overflow: ellipsis;\n",
       "  padding-right: 10px;\n",
       "}\n",
       "\n",
       ".xr-var-name:hover,\n",
       ".xr-var-dims:hover,\n",
       ".xr-var-dtype:hover,\n",
       ".xr-attrs dt:hover {\n",
       "  overflow: visible;\n",
       "  width: auto;\n",
       "  z-index: 1;\n",
       "}\n",
       "\n",
       ".xr-var-attrs,\n",
       ".xr-var-data {\n",
       "  display: none;\n",
       "  background-color: var(--xr-background-color) !important;\n",
       "  padding-bottom: 5px !important;\n",
       "}\n",
       "\n",
       ".xr-var-attrs-in:checked ~ .xr-var-attrs,\n",
       ".xr-var-data-in:checked ~ .xr-var-data {\n",
       "  display: block;\n",
       "}\n",
       "\n",
       ".xr-var-data > table {\n",
       "  float: right;\n",
       "}\n",
       "\n",
       ".xr-var-name span,\n",
       ".xr-var-data,\n",
       ".xr-attrs {\n",
       "  padding-left: 25px !important;\n",
       "}\n",
       "\n",
       ".xr-attrs,\n",
       ".xr-var-attrs,\n",
       ".xr-var-data {\n",
       "  grid-column: 1 / -1;\n",
       "}\n",
       "\n",
       "dl.xr-attrs {\n",
       "  padding: 0;\n",
       "  margin: 0;\n",
       "  display: grid;\n",
       "  grid-template-columns: 125px auto;\n",
       "}\n",
       "\n",
       ".xr-attrs dt, dd {\n",
       "  padding: 0;\n",
       "  margin: 0;\n",
       "  float: left;\n",
       "  padding-right: 10px;\n",
       "  width: auto;\n",
       "}\n",
       "\n",
       ".xr-attrs dt {\n",
       "  font-weight: normal;\n",
       "  grid-column: 1;\n",
       "}\n",
       "\n",
       ".xr-attrs dt:hover span {\n",
       "  display: inline-block;\n",
       "  background: var(--xr-background-color);\n",
       "  padding-right: 10px;\n",
       "}\n",
       "\n",
       ".xr-attrs dd {\n",
       "  grid-column: 2;\n",
       "  white-space: pre-wrap;\n",
       "  word-break: break-all;\n",
       "}\n",
       "\n",
       ".xr-icon-database,\n",
       ".xr-icon-file-text2 {\n",
       "  display: inline-block;\n",
       "  vertical-align: middle;\n",
       "  width: 1em;\n",
       "  height: 1.5em !important;\n",
       "  stroke-width: 0;\n",
       "  stroke: currentColor;\n",
       "  fill: currentColor;\n",
       "}\n",
       "</style><pre class='xr-text-repr-fallback'>&lt;xarray.Dataset&gt;\n",
       "Dimensions:     (duration: 119, lat: 36, lon: 72, percentile: 3)\n",
       "Coordinates:\n",
       "  * percentile  (percentile) float64 2.5 50.0 97.5\n",
       "    startyear   int64 1900\n",
       "  * lon         (lon) float64 -177.5 -172.5 -167.5 -162.5 ... 167.5 172.5 177.5\n",
       "  * duration    (duration) int64 3 4 5 6 7 8 9 ... 115 116 117 118 119 120 121\n",
       "  * lat         (lat) float64 -87.5 -82.5 -77.5 -72.5 ... 72.5 77.5 82.5 87.5\n",
       "Data variables:\n",
       "    tas         (duration, lat, lon, percentile) float64 dask.array&lt;chunksize=(119, 36, 72, 3), meta=np.ndarray&gt;</pre><div class='xr-wrap' hidden><div class='xr-header'><div class='xr-obj-type'>xarray.Dataset</div></div><ul class='xr-sections'><li class='xr-section-item'><input id='section-91cbe404-4b8a-4bbb-8952-0007dee13a9a' class='xr-section-summary-in' type='checkbox' disabled ><label for='section-91cbe404-4b8a-4bbb-8952-0007dee13a9a' class='xr-section-summary'  title='Expand/collapse section'>Dimensions:</label><div class='xr-section-inline-details'><ul class='xr-dim-list'><li><span class='xr-has-index'>duration</span>: 119</li><li><span class='xr-has-index'>lat</span>: 36</li><li><span class='xr-has-index'>lon</span>: 72</li><li><span class='xr-has-index'>percentile</span>: 3</li></ul></div><div class='xr-section-details'></div></li><li class='xr-section-item'><input id='section-9d4cd0fe-8f0e-4d9a-a940-4d7b1752340f' class='xr-section-summary-in' type='checkbox'  checked><label for='section-9d4cd0fe-8f0e-4d9a-a940-4d7b1752340f' class='xr-section-summary' >Coordinates: <span>(5)</span></label><div class='xr-section-inline-details'></div><div class='xr-section-details'><ul class='xr-var-list'><li class='xr-var-item'><div class='xr-var-name'><span class='xr-has-index'>percentile</span></div><div class='xr-var-dims'>(percentile)</div><div class='xr-var-dtype'>float64</div><div class='xr-var-preview xr-preview'>2.5 50.0 97.5</div><input id='attrs-2e4ee1d9-7437-480c-814e-c643d5f3c4a7' class='xr-var-attrs-in' type='checkbox' disabled><label for='attrs-2e4ee1d9-7437-480c-814e-c643d5f3c4a7' title='Show/Hide attributes'><svg class='icon xr-icon-file-text2'><use xlink:href='#icon-file-text2'></use></svg></label><input id='data-42b3b0a2-4a6e-4c68-a56d-f0d4c6caea7e' class='xr-var-data-in' type='checkbox'><label for='data-42b3b0a2-4a6e-4c68-a56d-f0d4c6caea7e' title='Show/Hide data repr'><svg class='icon xr-icon-database'><use xlink:href='#icon-database'></use></svg></label><div class='xr-var-attrs'><dl class='xr-attrs'></dl></div><div class='xr-var-data'><pre>array([ 2.5, 50. , 97.5])</pre></div></li><li class='xr-var-item'><div class='xr-var-name'><span>startyear</span></div><div class='xr-var-dims'>()</div><div class='xr-var-dtype'>int64</div><div class='xr-var-preview xr-preview'>1900</div><input id='attrs-4ff29434-8438-42cd-b9a4-8e0a2a716cb6' class='xr-var-attrs-in' type='checkbox' disabled><label for='attrs-4ff29434-8438-42cd-b9a4-8e0a2a716cb6' title='Show/Hide attributes'><svg class='icon xr-icon-file-text2'><use xlink:href='#icon-file-text2'></use></svg></label><input id='data-b61caf66-fb95-4b2b-bba0-b9435e53bd94' class='xr-var-data-in' type='checkbox'><label for='data-b61caf66-fb95-4b2b-bba0-b9435e53bd94' title='Show/Hide data repr'><svg class='icon xr-icon-database'><use xlink:href='#icon-database'></use></svg></label><div class='xr-var-attrs'><dl class='xr-attrs'></dl></div><div class='xr-var-data'><pre>array(1900)</pre></div></li><li class='xr-var-item'><div class='xr-var-name'><span class='xr-has-index'>lon</span></div><div class='xr-var-dims'>(lon)</div><div class='xr-var-dtype'>float64</div><div class='xr-var-preview xr-preview'>-177.5 -172.5 ... 172.5 177.5</div><input id='attrs-e1d1acb3-2e89-438f-a41a-98e82d0a6260' class='xr-var-attrs-in' type='checkbox' disabled><label for='attrs-e1d1acb3-2e89-438f-a41a-98e82d0a6260' title='Show/Hide attributes'><svg class='icon xr-icon-file-text2'><use xlink:href='#icon-file-text2'></use></svg></label><input id='data-8fb0eb45-f87e-426e-b8c8-baea5a473bae' class='xr-var-data-in' type='checkbox'><label for='data-8fb0eb45-f87e-426e-b8c8-baea5a473bae' title='Show/Hide data repr'><svg class='icon xr-icon-database'><use xlink:href='#icon-database'></use></svg></label><div class='xr-var-attrs'><dl class='xr-attrs'></dl></div><div class='xr-var-data'><pre>array([-177.5, -172.5, -167.5, -162.5, -157.5, -152.5, -147.5, -142.5, -137.5,\n",
       "       -132.5, -127.5, -122.5, -117.5, -112.5, -107.5, -102.5,  -97.5,  -92.5,\n",
       "        -87.5,  -82.5,  -77.5,  -72.5,  -67.5,  -62.5,  -57.5,  -52.5,  -47.5,\n",
       "        -42.5,  -37.5,  -32.5,  -27.5,  -22.5,  -17.5,  -12.5,   -7.5,   -2.5,\n",
       "          2.5,    7.5,   12.5,   17.5,   22.5,   27.5,   32.5,   37.5,   42.5,\n",
       "         47.5,   52.5,   57.5,   62.5,   67.5,   72.5,   77.5,   82.5,   87.5,\n",
       "         92.5,   97.5,  102.5,  107.5,  112.5,  117.5,  122.5,  127.5,  132.5,\n",
       "        137.5,  142.5,  147.5,  152.5,  157.5,  162.5,  167.5,  172.5,  177.5])</pre></div></li><li class='xr-var-item'><div class='xr-var-name'><span class='xr-has-index'>duration</span></div><div class='xr-var-dims'>(duration)</div><div class='xr-var-dtype'>int64</div><div class='xr-var-preview xr-preview'>3 4 5 6 7 8 ... 117 118 119 120 121</div><input id='attrs-5bb89abf-ad3e-4415-b3b2-9a5faa50bc8c' class='xr-var-attrs-in' type='checkbox' disabled><label for='attrs-5bb89abf-ad3e-4415-b3b2-9a5faa50bc8c' title='Show/Hide attributes'><svg class='icon xr-icon-file-text2'><use xlink:href='#icon-file-text2'></use></svg></label><input id='data-abc43037-7402-4cf0-bfec-05b320da1b59' class='xr-var-data-in' type='checkbox'><label for='data-abc43037-7402-4cf0-bfec-05b320da1b59' title='Show/Hide data repr'><svg class='icon xr-icon-database'><use xlink:href='#icon-database'></use></svg></label><div class='xr-var-attrs'><dl class='xr-attrs'></dl></div><div class='xr-var-data'><pre>array([  3,   4,   5,   6,   7,   8,   9,  10,  11,  12,  13,  14,  15,  16,\n",
       "        17,  18,  19,  20,  21,  22,  23,  24,  25,  26,  27,  28,  29,  30,\n",
       "        31,  32,  33,  34,  35,  36,  37,  38,  39,  40,  41,  42,  43,  44,\n",
       "        45,  46,  47,  48,  49,  50,  51,  52,  53,  54,  55,  56,  57,  58,\n",
       "        59,  60,  61,  62,  63,  64,  65,  66,  67,  68,  69,  70,  71,  72,\n",
       "        73,  74,  75,  76,  77,  78,  79,  80,  81,  82,  83,  84,  85,  86,\n",
       "        87,  88,  89,  90,  91,  92,  93,  94,  95,  96,  97,  98,  99, 100,\n",
       "       101, 102, 103, 104, 105, 106, 107, 108, 109, 110, 111, 112, 113, 114,\n",
       "       115, 116, 117, 118, 119, 120, 121])</pre></div></li><li class='xr-var-item'><div class='xr-var-name'><span class='xr-has-index'>lat</span></div><div class='xr-var-dims'>(lat)</div><div class='xr-var-dtype'>float64</div><div class='xr-var-preview xr-preview'>-87.5 -82.5 -77.5 ... 82.5 87.5</div><input id='attrs-6edf3aab-3b0f-418f-aee9-a76ef1edb6b8' class='xr-var-attrs-in' type='checkbox' disabled><label for='attrs-6edf3aab-3b0f-418f-aee9-a76ef1edb6b8' title='Show/Hide attributes'><svg class='icon xr-icon-file-text2'><use xlink:href='#icon-file-text2'></use></svg></label><input id='data-09ddd163-12a9-4a4a-96b4-295cd3f85c69' class='xr-var-data-in' type='checkbox'><label for='data-09ddd163-12a9-4a4a-96b4-295cd3f85c69' title='Show/Hide data repr'><svg class='icon xr-icon-database'><use xlink:href='#icon-database'></use></svg></label><div class='xr-var-attrs'><dl class='xr-attrs'></dl></div><div class='xr-var-data'><pre>array([-87.5, -82.5, -77.5, -72.5, -67.5, -62.5, -57.5, -52.5, -47.5, -42.5,\n",
       "       -37.5, -32.5, -27.5, -22.5, -17.5, -12.5,  -7.5,  -2.5,   2.5,   7.5,\n",
       "        12.5,  17.5,  22.5,  27.5,  32.5,  37.5,  42.5,  47.5,  52.5,  57.5,\n",
       "        62.5,  67.5,  72.5,  77.5,  82.5,  87.5])</pre></div></li></ul></div></li><li class='xr-section-item'><input id='section-100f590a-b2ae-46a6-8612-bb2a40c2462f' class='xr-section-summary-in' type='checkbox'  checked><label for='section-100f590a-b2ae-46a6-8612-bb2a40c2462f' class='xr-section-summary' >Data variables: <span>(1)</span></label><div class='xr-section-inline-details'></div><div class='xr-section-details'><ul class='xr-var-list'><li class='xr-var-item'><div class='xr-var-name'><span>tas</span></div><div class='xr-var-dims'>(duration, lat, lon, percentile)</div><div class='xr-var-dtype'>float64</div><div class='xr-var-preview xr-preview'>dask.array&lt;chunksize=(119, 36, 72, 3), meta=np.ndarray&gt;</div><input id='attrs-0ad3e278-f39c-45e6-b0fc-2bc71c0d93ff' class='xr-var-attrs-in' type='checkbox' disabled><label for='attrs-0ad3e278-f39c-45e6-b0fc-2bc71c0d93ff' title='Show/Hide attributes'><svg class='icon xr-icon-file-text2'><use xlink:href='#icon-file-text2'></use></svg></label><input id='data-3ec6a368-0093-4cda-9cf2-6d9ae5097a62' class='xr-var-data-in' type='checkbox'><label for='data-3ec6a368-0093-4cda-9cf2-6d9ae5097a62' title='Show/Hide data repr'><svg class='icon xr-icon-database'><use xlink:href='#icon-database'></use></svg></label><div class='xr-var-attrs'><dl class='xr-attrs'></dl></div><div class='xr-var-data'><table>\n",
       "<tr>\n",
       "<td>\n",
       "<table>\n",
       "  <thead>\n",
       "    <tr><td> </td><th> Array </th><th> Chunk </th></tr>\n",
       "  </thead>\n",
       "  <tbody>\n",
       "    <tr><th> Bytes </th><td> 7.40 MB </td> <td> 7.40 MB </td></tr>\n",
       "    <tr><th> Shape </th><td> (119, 36, 72, 3) </td> <td> (119, 36, 72, 3) </td></tr>\n",
       "    <tr><th> Count </th><td> 633 Tasks </td><td> 1 Chunks </td></tr>\n",
       "    <tr><th> Type </th><td> float64 </td><td> numpy.ndarray </td></tr>\n",
       "  </tbody>\n",
       "</table>\n",
       "</td>\n",
       "<td>\n",
       "<svg width=\"485\" height=\"148\" style=\"stroke:rgb(0,0,0);stroke-width:1\" >\n",
       "\n",
       "  <!-- Horizontal lines -->\n",
       "  <line x1=\"0\" y1=\"0\" x2=\"120\" y2=\"0\" style=\"stroke-width:2\" />\n",
       "  <line x1=\"0\" y1=\"25\" x2=\"120\" y2=\"25\" style=\"stroke-width:2\" />\n",
       "\n",
       "  <!-- Vertical lines -->\n",
       "  <line x1=\"0\" y1=\"0\" x2=\"0\" y2=\"25\" style=\"stroke-width:2\" />\n",
       "  <line x1=\"120\" y1=\"0\" x2=\"120\" y2=\"25\" style=\"stroke-width:2\" />\n",
       "\n",
       "  <!-- Colored Rectangle -->\n",
       "  <polygon points=\"0.000000,0.000000 120.000000,0.000000 120.000000,25.412617 0.000000,25.412617\" style=\"fill:#ECB172A0;stroke-width:0\"/>\n",
       "\n",
       "  <!-- Text -->\n",
       "  <text x=\"60.000000\" y=\"45.412617\" font-size=\"1.0rem\" font-weight=\"100\" text-anchor=\"middle\" >119</text>\n",
       "  <text x=\"140.000000\" y=\"12.706308\" font-size=\"1.0rem\" font-weight=\"100\" text-anchor=\"middle\" transform=\"rotate(0,140.000000,12.706308)\">1</text>\n",
       "\n",
       "\n",
       "  <!-- Horizontal lines -->\n",
       "  <line x1=\"190\" y1=\"0\" x2=\"215\" y2=\"25\" style=\"stroke-width:2\" />\n",
       "  <line x1=\"190\" y1=\"72\" x2=\"215\" y2=\"98\" style=\"stroke-width:2\" />\n",
       "\n",
       "  <!-- Vertical lines -->\n",
       "  <line x1=\"190\" y1=\"0\" x2=\"190\" y2=\"72\" style=\"stroke-width:2\" />\n",
       "  <line x1=\"215\" y1=\"25\" x2=\"215\" y2=\"98\" style=\"stroke-width:2\" />\n",
       "\n",
       "  <!-- Colored Rectangle -->\n",
       "  <polygon points=\"190.000000,0.000000 215.631032,25.631032 215.631032,98.236075 190.000000,72.605042\" style=\"fill:#ECB172A0;stroke-width:0\"/>\n",
       "\n",
       "  <!-- Horizontal lines -->\n",
       "  <line x1=\"190\" y1=\"0\" x2=\"220\" y2=\"0\" style=\"stroke-width:2\" />\n",
       "  <line x1=\"215\" y1=\"25\" x2=\"245\" y2=\"25\" style=\"stroke-width:2\" />\n",
       "\n",
       "  <!-- Vertical lines -->\n",
       "  <line x1=\"190\" y1=\"0\" x2=\"215\" y2=\"25\" style=\"stroke-width:2\" />\n",
       "  <line x1=\"220\" y1=\"0\" x2=\"245\" y2=\"25\" style=\"stroke-width:2\" />\n",
       "\n",
       "  <!-- Colored Rectangle -->\n",
       "  <polygon points=\"190.000000,0.000000 220.360340,0.000000 245.991372,25.631032 215.631032,25.631032\" style=\"fill:#ECB172A0;stroke-width:0\"/>\n",
       "\n",
       "  <!-- Horizontal lines -->\n",
       "  <line x1=\"215\" y1=\"25\" x2=\"245\" y2=\"25\" style=\"stroke-width:2\" />\n",
       "  <line x1=\"215\" y1=\"98\" x2=\"245\" y2=\"98\" style=\"stroke-width:2\" />\n",
       "\n",
       "  <!-- Vertical lines -->\n",
       "  <line x1=\"215\" y1=\"25\" x2=\"215\" y2=\"98\" style=\"stroke-width:2\" />\n",
       "  <line x1=\"245\" y1=\"25\" x2=\"245\" y2=\"98\" style=\"stroke-width:2\" />\n",
       "\n",
       "  <!-- Colored Rectangle -->\n",
       "  <polygon points=\"215.631032,25.631032 245.991372,25.631032 245.991372,98.236075 215.631032,98.236075\" style=\"fill:#ECB172A0;stroke-width:0\"/>\n",
       "\n",
       "  <!-- Text -->\n",
       "  <text x=\"230.811202\" y=\"118.236075\" font-size=\"1.0rem\" font-weight=\"100\" text-anchor=\"middle\" >3</text>\n",
       "  <text x=\"265.991372\" y=\"61.933553\" font-size=\"1.0rem\" font-weight=\"100\" text-anchor=\"middle\" transform=\"rotate(0,265.991372,61.933553)\">72</text>\n",
       "  <text x=\"192.815516\" y=\"105.420558\" font-size=\"1.0rem\" font-weight=\"100\" text-anchor=\"middle\" transform=\"rotate(45,192.815516,105.420558)\">36</text>\n",
       "</svg>\n",
       "</td>\n",
       "</tr>\n",
       "</table></div></li></ul></div></li><li class='xr-section-item'><input id='section-091cf0ff-ff88-4276-a3ba-d03683fb2033' class='xr-section-summary-in' type='checkbox' disabled ><label for='section-091cf0ff-ff88-4276-a3ba-d03683fb2033' class='xr-section-summary'  title='Expand/collapse section'>Attributes: <span>(0)</span></label><div class='xr-section-inline-details'></div><div class='xr-section-details'><dl class='xr-attrs'></dl></div></li></ul></div></div>"
      ],
      "text/plain": [
       "<xarray.Dataset>\n",
       "Dimensions:     (duration: 119, lat: 36, lon: 72, percentile: 3)\n",
       "Coordinates:\n",
       "  * percentile  (percentile) float64 2.5 50.0 97.5\n",
       "    startyear   int64 1900\n",
       "  * lon         (lon) float64 -177.5 -172.5 -167.5 -162.5 ... 167.5 172.5 177.5\n",
       "  * duration    (duration) int64 3 4 5 6 7 8 9 ... 115 116 117 118 119 120 121\n",
       "  * lat         (lat) float64 -87.5 -82.5 -77.5 -72.5 ... 72.5 77.5 82.5 87.5\n",
       "Data variables:\n",
       "    tas         (duration, lat, lon, percentile) float64 dask.array<chunksize=(119, 36, 72, 3), meta=np.ndarray>"
      ]
     },
     "execution_count": 19,
     "metadata": {},
     "output_type": "execute_result"
    }
   ],
   "source": [
    "hadcrut5_5x5_trends_percentiles"
   ]
  },
  {
   "cell_type": "code",
   "execution_count": 20,
   "id": "48cea50b-89f5-4d0e-930e-8eefa0527fa0",
   "metadata": {},
   "outputs": [
    {
     "name": "stderr",
     "output_type": "stream",
     "text": [
      "/glade/work/jonahshaw/miniconda3/envs/cheycomp/lib/python3.7/site-packages/numpy/lib/nanfunctions.py:1370: RuntimeWarning: All-NaN slice encountered\n",
      "  overwrite_input=overwrite_input, interpolation=interpolation\n"
     ]
    }
   ],
   "source": [
    "filename = 'HadCRUT.5.0.2.0.analysis.anomalies.1_200.5x5degSpatialTrends.190001-202012.Percentiles.nc'\n",
    "\n",
    "hadcrut5_5x5_trends_percentiles.to_netcdf('%s/%s/%s' % (save_dir_obs,hadcrut5_dir,filename))"
   ]
  },
  {
   "cell_type": "markdown",
   "id": "5747c431-df81-4fe8-a774-485600991b69",
   "metadata": {},
   "source": [
    "#### Clean-up"
   ]
  },
  {
   "cell_type": "code",
   "execution_count": null,
   "id": "b72f957d-ea69-449e-833e-3f6063db0935",
   "metadata": {},
   "outputs": [],
   "source": [
    "del (gistemp_5x5_trends_all,\n",
    "    hadcrut5_trends_all)"
   ]
  },
  {
   "cell_type": "code",
   "execution_count": null,
   "id": "911c61d0-ff02-4080-adf1-5dc5c3621ff3",
   "metadata": {},
   "outputs": [],
   "source": [
    "del (gistemp_5x5_trends_2_5perc,\n",
    "    gistemp_5x5_trends_50perc,\n",
    "    gistemp_5x5_trends_97_5perc,\n",
    "    hadcrut5_trends_2_5perc,\n",
    "    hadcrut5_trends_50perc,\n",
    "    hadcrut5_trends_97_5perc)"
   ]
  },
  {
   "cell_type": "code",
   "execution_count": null,
   "id": "7ecbd2c4-2510-4327-88db-79e1815e2c20",
   "metadata": {},
   "outputs": [],
   "source": [
    "del (gistemp_5x5_trends_percentiles,\n",
    "    hadcrut5_5x5_trends_percentiles)"
   ]
  },
  {
   "cell_type": "code",
   "execution_count": null,
   "id": "aa4025fd-5bc5-4739-b929-1cafc5a2e930",
   "metadata": {},
   "outputs": [],
   "source": []
  }
 ],
 "metadata": {
  "kernelspec": {
   "display_name": "Python [conda env:miniconda3-cheycomp]",
   "language": "python",
   "name": "conda-env-miniconda3-cheycomp-py"
  },
  "language_info": {
   "codemirror_mode": {
    "name": "ipython",
    "version": 3
   },
   "file_extension": ".py",
   "mimetype": "text/x-python",
   "name": "python",
   "nbconvert_exporter": "python",
   "pygments_lexer": "ipython3",
   "version": "3.7.8"
  }
 },
 "nbformat": 4,
 "nbformat_minor": 5
}
