{
 "cells": [
  {
   "cell_type": "markdown",
   "id": "9d5702ab-4316-47a2-af40-56d7ce8ccb57",
   "metadata": {},
   "source": [
    "# Process gridded observation data into timeseries"
   ]
  },
  {
   "cell_type": "markdown",
   "id": "9467a1d3-5c6e-4ba9-83a1-91cbaa34bd84",
   "metadata": {},
   "source": [
    "## 2024/08/20\n",
    "\n",
    "Just do 5x5 data."
   ]
  },
  {
   "cell_type": "markdown",
   "id": "18476b97-1df5-45f3-a446-f25bcbe6a735",
   "metadata": {},
   "source": [
    "__1. Process the gridded temperature data into timeseries for each observational product.__\n",
    "\n",
    "Output is a dataArray for each model with dimensions of time and IPCC region containing a time series of the TAS variable.\n"
   ]
  },
  {
   "cell_type": "markdown",
   "id": "030ff2a2-aa9a-4f90-927d-3d5773e96f1d",
   "metadata": {},
   "source": [
    "Use this tool:  \n",
    "\n",
    "https://github.com/IPCC-WG1/Atlas/blob/main/notebooks/reference-regions_Python.ipynb"
   ]
  },
  {
   "cell_type": "markdown",
   "id": "bb8e0e42-e328-46dd-884a-4259b363feda",
   "metadata": {},
   "source": [
    "For now, I will create my code for the CESM1 and MPI models so that it can be generalized easily. I can pull some code from my climatetrend_uncertainty repository (climatetrend_uncertainty/initial_code/PIC_timeseries_preproc.ipynb)."
   ]
  },
  {
   "cell_type": "markdown",
   "id": "6ede891f-af88-4e6d-90de-32be78682d2b",
   "metadata": {},
   "source": [
    "## Code!"
   ]
  },
  {
   "cell_type": "code",
   "execution_count": 1,
   "id": "8d37ff0a-6540-4fc2-9654-dc2faac44e57",
   "metadata": {},
   "outputs": [
    {
     "data": {
      "text/plain": [
       "'0.9.0'"
      ]
     },
     "execution_count": 1,
     "metadata": {},
     "output_type": "execute_result"
    }
   ],
   "source": [
    "import numpy as np\n",
    "import xarray as xr\n",
    "import pandas as pd\n",
    "import matplotlib.pyplot as plt\n",
    "import os\n",
    "import glob\n",
    "\n",
    "import regionmask\n",
    "\n",
    "regionmask.__version__"
   ]
  },
  {
   "cell_type": "markdown",
   "id": "ccce121c-ac6a-4cb6-a236-e46b713c300f",
   "metadata": {},
   "source": [
    "__Observational Large Ensembles.__\n",
    "\n",
    "General directory in Nathan's scratch: /glade/scratch/lenssen/data_for_jonah/\n",
    "\n",
    "NASA GISTEMP: GISTEMP_2x2  GISTEMP_5x5\n",
    "\n",
    "HadCRUT5: HadCRUT5"
   ]
  },
  {
   "cell_type": "code",
   "execution_count": 3,
   "id": "432e005a-3470-4a7d-bec7-b3d82dec016e",
   "metadata": {},
   "outputs": [],
   "source": [
    "gistemp_dir = '/glade/derecho/scratch/lenssen/data4jonah/GISTEMP_Ensemble_Aug/'\n",
    "hadcrut5_dir = '/glade/derecho/scratch/lenssen/data4jonah/HadCRUT5_Ensemble_Aug/'"
   ]
  },
  {
   "cell_type": "markdown",
   "id": "45fbcc32-8503-4a17-bbbc-c4dfbafd422e",
   "metadata": {},
   "source": [
    "### Collect file paths."
   ]
  },
  {
   "cell_type": "markdown",
   "id": "fb07889d-8160-45ea-a153-a774b770bb21",
   "metadata": {},
   "source": [
    "#### Collect GISTEMP file paths."
   ]
  },
  {
   "cell_type": "code",
   "execution_count": 4,
   "id": "3babb705-2f59-40e2-8701-c1cc3827b91d",
   "metadata": {},
   "outputs": [],
   "source": [
    "gistemp_files = glob.glob('%s/ensembleChunk_5x5_????.nc' % gistemp_dir)\n",
    "gistemp_files.sort()"
   ]
  },
  {
   "cell_type": "markdown",
   "id": "54a3d34f-bca1-42e5-868e-cef00f85fc6a",
   "metadata": {},
   "source": [
    "#### Collect HadCRUT5 file paths."
   ]
  },
  {
   "cell_type": "code",
   "execution_count": 5,
   "id": "f0e9d6c4-4e77-4db8-b5a0-54589c5c984f",
   "metadata": {},
   "outputs": [],
   "source": [
    "hadcrut5_files = glob.glob('%s/HadCRUT.5.0.2.0.analysis.anomalies.*.nc' % hadcrut5_dir)\n",
    "hadcrut5_files.sort()"
   ]
  },
  {
   "cell_type": "markdown",
   "id": "b92608d6-3949-45ee-89fd-19d6e76e05ca",
   "metadata": {},
   "source": [
    "### Load and process timeseries according to IPCC Region designations."
   ]
  },
  {
   "cell_type": "markdown",
   "id": "2cf02f0d-2f0e-4c6d-8329-ebc4bb4b40f1",
   "metadata": {},
   "source": [
    "#### 1. Visualize the IPCC AR6 regions"
   ]
  },
  {
   "cell_type": "markdown",
   "id": "8c542cba-5b9a-4dd6-bfac-3125cd91a746",
   "metadata": {},
   "source": [
    "### 2. Do masking for each dataset"
   ]
  },
  {
   "cell_type": "markdown",
   "id": "715917fd-71c2-414d-ab05-82b965bf8003",
   "metadata": {},
   "source": [
    "Variable is \"tempAnom\". \"record\" coordinate will allow for easier concatenation."
   ]
  },
  {
   "cell_type": "code",
   "execution_count": 6,
   "id": "2ab1b16f-56e9-49f8-a416-03702a6dc5fb",
   "metadata": {},
   "outputs": [],
   "source": [
    "gistemp_tas_var = 'tas'\n",
    "hadcrut5_tas_var = 'tas'"
   ]
  },
  {
   "cell_type": "markdown",
   "id": "65508295-9416-4b0a-8e66-9856954f215b",
   "metadata": {},
   "source": [
    "### Loop over observation files and compute the regional means."
   ]
  },
  {
   "cell_type": "code",
   "execution_count": 7,
   "id": "e8a2a744-981a-4b12-a78a-81d4d183e515",
   "metadata": {},
   "outputs": [],
   "source": [
    "def create_ipccregion_timeseries(_ds_filepath:str,_ds_var:str,regions:regionmask.Regions,cesm=False,ufunc=None,\n",
    "                                 lon=None,lat=None,lon_name='lon',lat_name='lat'):\n",
    "    \n",
    "    '''\n",
    "    Compute timeseries for all IPCC AR6 regions when given a simple model output file.\n",
    "    '''\n",
    "    # Load data\n",
    "    ds      = xr.open_dataset(_ds_filepath,chunks={lat_name:-1,lon_name:-1})\n",
    "    \n",
    "    # Correct time if CESM\n",
    "    if cesm:\n",
    "        ds  = fix_cesm_time(ds)\n",
    "    \n",
    "    da      = ds[_ds_var]\n",
    "    \n",
    "    if (ufunc is not None):\n",
    "        da = ufunc(da) #.sel(time=slice(1960,None))\n",
    "    # da = da.chunk(chunks={'lat':-1,'lon':-1,'record':1}) # JKS speed-up attempt\n",
    "    \n",
    "    # Generate mask\n",
    "    if ((lon is not None) and (lat is not None)):\n",
    "        print('Using \"lat\" and \"lon\" supplied as input')\n",
    "        \n",
    "        # Make sure the passed grid values match the data approximately.\n",
    "        np.testing.assert_allclose(lat,da['lat'],atol=5e-2,rtol=1e-1,err_msg='Supplied latitudes do not match data')\n",
    "        np.testing.assert_allclose(lon,da['lon'],atol=5e-2,rtol=1e-1,err_msg='Supplied longitudes do not match data')\n",
    "        \n",
    "        mask    = regions.mask(lon,lat=lat)\n",
    "        \n",
    "        da['lon'] = lon\n",
    "        da['lat'] = lat\n",
    "        \n",
    "    else:\n",
    "        mask    = regions.mask(da)\n",
    "    \n",
    "    # Get unique region indices\n",
    "    reg     = np.unique(mask.values)\n",
    "    reg     = reg[~np.isnan(reg)]\n",
    "    \n",
    "    # for metadata: find abbreviations of all regions that were selected\n",
    "    abbrevs = regions[reg].abbrevs\n",
    "    names   = regions[reg].names\n",
    "    \n",
    "    # Compute weights for entire grid\n",
    "    weights = np.cos(np.deg2rad(da.lat)) # assuming 'lat' used consistently\n",
    "    \n",
    "    # Iterate over regions and compute a weighted time series\n",
    "    region_timeseries = []\n",
    "    for i,_abbrev,_name in zip(reg,abbrevs,names):\n",
    "        \n",
    "        _region = da.where(mask == i)\n",
    "        \n",
    "        _region_avg = _region.weighted(weights).mean(dim=(\"lat\", \"lon\")) # - 273.15\n",
    "                \n",
    "        # Using an int here should help with subsetting later.\n",
    "        _region_avg = _region_avg.assign_coords({'RegionIndex':int(i)}).expand_dims('RegionIndex',axis=-1)\n",
    "\n",
    "        # Include region abbreviation and name for easier use later\n",
    "        _region_avg = _region_avg.assign_coords({'RegionAbbrev':_abbrev})\n",
    "        _region_avg = _region_avg.assign_coords({'RegionName':_name})\n",
    "        \n",
    "        region_timeseries.append(_region_avg)\n",
    "        \n",
    "    region_timeseries_ds = xr.concat(region_timeseries,dim='RegionIndex')\n",
    "    region_timeseries_ds.name = _ds_var\n",
    "        \n",
    "    return region_timeseries_ds"
   ]
  },
  {
   "cell_type": "code",
   "execution_count": 8,
   "id": "427058fd-59d9-47c1-a796-6352baa885f0",
   "metadata": {},
   "outputs": [],
   "source": [
    "save_dir = '/glade/u/home/jonahshaw/w/trend_uncertainty/nathan/OBS_LENS/'"
   ]
  },
  {
   "cell_type": "markdown",
   "id": "c1b0171c-ce6d-4956-8e68-ebc85813c3a7",
   "metadata": {
    "tags": []
   },
   "source": [
    "#### GISTEMP"
   ]
  },
  {
   "cell_type": "markdown",
   "id": "8d94ee4b-4c9e-4d9e-8c34-2235f44771be",
   "metadata": {},
   "source": [
    "The coordinate labelling here is kind of weird and harder to work with."
   ]
  },
  {
   "cell_type": "code",
   "execution_count": 9,
   "id": "5ba59126-c9c2-496a-8cd0-53cffe573eb3",
   "metadata": {},
   "outputs": [],
   "source": [
    "# Arbitrary function to apply\n",
    "\n",
    "def gistemp_5x5_tselect(da:xr.DataArray):\n",
    "    \n",
    "    return da.sel(time=slice(\"1900-01-01\",'2022-12-31')).rename({'longitude':'lon','latitude':'lat'})"
   ]
  },
  {
   "cell_type": "code",
   "execution_count": 10,
   "id": "8f343d34-dcdb-460d-aa32-1b496e8dd906",
   "metadata": {},
   "outputs": [],
   "source": [
    "test_ds = xr.open_dataset(gistemp_files[0])"
   ]
  },
  {
   "cell_type": "code",
   "execution_count": 12,
   "id": "30d62b57-7b35-477a-a278-550fb7fc04cd",
   "metadata": {},
   "outputs": [
    {
     "data": {
      "text/html": [
       "<div><svg style=\"position: absolute; width: 0; height: 0; overflow: hidden\">\n",
       "<defs>\n",
       "<symbol id=\"icon-database\" viewBox=\"0 0 32 32\">\n",
       "<path d=\"M16 0c-8.837 0-16 2.239-16 5v4c0 2.761 7.163 5 16 5s16-2.239 16-5v-4c0-2.761-7.163-5-16-5z\"></path>\n",
       "<path d=\"M16 17c-8.837 0-16-2.239-16-5v6c0 2.761 7.163 5 16 5s16-2.239 16-5v-6c0 2.761-7.163 5-16 5z\"></path>\n",
       "<path d=\"M16 26c-8.837 0-16-2.239-16-5v6c0 2.761 7.163 5 16 5s16-2.239 16-5v-6c0 2.761-7.163 5-16 5z\"></path>\n",
       "</symbol>\n",
       "<symbol id=\"icon-file-text2\" viewBox=\"0 0 32 32\">\n",
       "<path d=\"M28.681 7.159c-0.694-0.947-1.662-2.053-2.724-3.116s-2.169-2.030-3.116-2.724c-1.612-1.182-2.393-1.319-2.841-1.319h-15.5c-1.378 0-2.5 1.121-2.5 2.5v27c0 1.378 1.122 2.5 2.5 2.5h23c1.378 0 2.5-1.122 2.5-2.5v-19.5c0-0.448-0.137-1.23-1.319-2.841zM24.543 5.457c0.959 0.959 1.712 1.825 2.268 2.543h-4.811v-4.811c0.718 0.556 1.584 1.309 2.543 2.268zM28 29.5c0 0.271-0.229 0.5-0.5 0.5h-23c-0.271 0-0.5-0.229-0.5-0.5v-27c0-0.271 0.229-0.5 0.5-0.5 0 0 15.499-0 15.5 0v7c0 0.552 0.448 1 1 1h7v19.5z\"></path>\n",
       "<path d=\"M23 26h-14c-0.552 0-1-0.448-1-1s0.448-1 1-1h14c0.552 0 1 0.448 1 1s-0.448 1-1 1z\"></path>\n",
       "<path d=\"M23 22h-14c-0.552 0-1-0.448-1-1s0.448-1 1-1h14c0.552 0 1 0.448 1 1s-0.448 1-1 1z\"></path>\n",
       "<path d=\"M23 18h-14c-0.552 0-1-0.448-1-1s0.448-1 1-1h14c0.552 0 1 0.448 1 1s-0.448 1-1 1z\"></path>\n",
       "</symbol>\n",
       "</defs>\n",
       "</svg>\n",
       "<style>/* CSS stylesheet for displaying xarray objects in jupyterlab.\n",
       " *\n",
       " */\n",
       "\n",
       ":root {\n",
       "  --xr-font-color0: var(--jp-content-font-color0, rgba(0, 0, 0, 1));\n",
       "  --xr-font-color2: var(--jp-content-font-color2, rgba(0, 0, 0, 0.54));\n",
       "  --xr-font-color3: var(--jp-content-font-color3, rgba(0, 0, 0, 0.38));\n",
       "  --xr-border-color: var(--jp-border-color2, #e0e0e0);\n",
       "  --xr-disabled-color: var(--jp-layout-color3, #bdbdbd);\n",
       "  --xr-background-color: var(--jp-layout-color0, white);\n",
       "  --xr-background-color-row-even: var(--jp-layout-color1, white);\n",
       "  --xr-background-color-row-odd: var(--jp-layout-color2, #eeeeee);\n",
       "}\n",
       "\n",
       "html[theme=dark],\n",
       "body.vscode-dark {\n",
       "  --xr-font-color0: rgba(255, 255, 255, 1);\n",
       "  --xr-font-color2: rgba(255, 255, 255, 0.54);\n",
       "  --xr-font-color3: rgba(255, 255, 255, 0.38);\n",
       "  --xr-border-color: #1F1F1F;\n",
       "  --xr-disabled-color: #515151;\n",
       "  --xr-background-color: #111111;\n",
       "  --xr-background-color-row-even: #111111;\n",
       "  --xr-background-color-row-odd: #313131;\n",
       "}\n",
       "\n",
       ".xr-wrap {\n",
       "  display: block;\n",
       "  min-width: 300px;\n",
       "  max-width: 700px;\n",
       "}\n",
       "\n",
       ".xr-text-repr-fallback {\n",
       "  /* fallback to plain text repr when CSS is not injected (untrusted notebook) */\n",
       "  display: none;\n",
       "}\n",
       "\n",
       ".xr-header {\n",
       "  padding-top: 6px;\n",
       "  padding-bottom: 6px;\n",
       "  margin-bottom: 4px;\n",
       "  border-bottom: solid 1px var(--xr-border-color);\n",
       "}\n",
       "\n",
       ".xr-header > div,\n",
       ".xr-header > ul {\n",
       "  display: inline;\n",
       "  margin-top: 0;\n",
       "  margin-bottom: 0;\n",
       "}\n",
       "\n",
       ".xr-obj-type,\n",
       ".xr-array-name {\n",
       "  margin-left: 2px;\n",
       "  margin-right: 10px;\n",
       "}\n",
       "\n",
       ".xr-obj-type {\n",
       "  color: var(--xr-font-color2);\n",
       "}\n",
       "\n",
       ".xr-sections {\n",
       "  padding-left: 0 !important;\n",
       "  display: grid;\n",
       "  grid-template-columns: 150px auto auto 1fr 20px 20px;\n",
       "}\n",
       "\n",
       ".xr-section-item {\n",
       "  display: contents;\n",
       "}\n",
       "\n",
       ".xr-section-item input {\n",
       "  display: none;\n",
       "}\n",
       "\n",
       ".xr-section-item input + label {\n",
       "  color: var(--xr-disabled-color);\n",
       "}\n",
       "\n",
       ".xr-section-item input:enabled + label {\n",
       "  cursor: pointer;\n",
       "  color: var(--xr-font-color2);\n",
       "}\n",
       "\n",
       ".xr-section-item input:enabled + label:hover {\n",
       "  color: var(--xr-font-color0);\n",
       "}\n",
       "\n",
       ".xr-section-summary {\n",
       "  grid-column: 1;\n",
       "  color: var(--xr-font-color2);\n",
       "  font-weight: 500;\n",
       "}\n",
       "\n",
       ".xr-section-summary > span {\n",
       "  display: inline-block;\n",
       "  padding-left: 0.5em;\n",
       "}\n",
       "\n",
       ".xr-section-summary-in:disabled + label {\n",
       "  color: var(--xr-font-color2);\n",
       "}\n",
       "\n",
       ".xr-section-summary-in + label:before {\n",
       "  display: inline-block;\n",
       "  content: '►';\n",
       "  font-size: 11px;\n",
       "  width: 15px;\n",
       "  text-align: center;\n",
       "}\n",
       "\n",
       ".xr-section-summary-in:disabled + label:before {\n",
       "  color: var(--xr-disabled-color);\n",
       "}\n",
       "\n",
       ".xr-section-summary-in:checked + label:before {\n",
       "  content: '▼';\n",
       "}\n",
       "\n",
       ".xr-section-summary-in:checked + label > span {\n",
       "  display: none;\n",
       "}\n",
       "\n",
       ".xr-section-summary,\n",
       ".xr-section-inline-details {\n",
       "  padding-top: 4px;\n",
       "  padding-bottom: 4px;\n",
       "}\n",
       "\n",
       ".xr-section-inline-details {\n",
       "  grid-column: 2 / -1;\n",
       "}\n",
       "\n",
       ".xr-section-details {\n",
       "  display: none;\n",
       "  grid-column: 1 / -1;\n",
       "  margin-bottom: 5px;\n",
       "}\n",
       "\n",
       ".xr-section-summary-in:checked ~ .xr-section-details {\n",
       "  display: contents;\n",
       "}\n",
       "\n",
       ".xr-array-wrap {\n",
       "  grid-column: 1 / -1;\n",
       "  display: grid;\n",
       "  grid-template-columns: 20px auto;\n",
       "}\n",
       "\n",
       ".xr-array-wrap > label {\n",
       "  grid-column: 1;\n",
       "  vertical-align: top;\n",
       "}\n",
       "\n",
       ".xr-preview {\n",
       "  color: var(--xr-font-color3);\n",
       "}\n",
       "\n",
       ".xr-array-preview,\n",
       ".xr-array-data {\n",
       "  padding: 0 5px !important;\n",
       "  grid-column: 2;\n",
       "}\n",
       "\n",
       ".xr-array-data,\n",
       ".xr-array-in:checked ~ .xr-array-preview {\n",
       "  display: none;\n",
       "}\n",
       "\n",
       ".xr-array-in:checked ~ .xr-array-data,\n",
       ".xr-array-preview {\n",
       "  display: inline-block;\n",
       "}\n",
       "\n",
       ".xr-dim-list {\n",
       "  display: inline-block !important;\n",
       "  list-style: none;\n",
       "  padding: 0 !important;\n",
       "  margin: 0;\n",
       "}\n",
       "\n",
       ".xr-dim-list li {\n",
       "  display: inline-block;\n",
       "  padding: 0;\n",
       "  margin: 0;\n",
       "}\n",
       "\n",
       ".xr-dim-list:before {\n",
       "  content: '(';\n",
       "}\n",
       "\n",
       ".xr-dim-list:after {\n",
       "  content: ')';\n",
       "}\n",
       "\n",
       ".xr-dim-list li:not(:last-child):after {\n",
       "  content: ',';\n",
       "  padding-right: 5px;\n",
       "}\n",
       "\n",
       ".xr-has-index {\n",
       "  font-weight: bold;\n",
       "}\n",
       "\n",
       ".xr-var-list,\n",
       ".xr-var-item {\n",
       "  display: contents;\n",
       "}\n",
       "\n",
       ".xr-var-item > div,\n",
       ".xr-var-item label,\n",
       ".xr-var-item > .xr-var-name span {\n",
       "  background-color: var(--xr-background-color-row-even);\n",
       "  margin-bottom: 0;\n",
       "}\n",
       "\n",
       ".xr-var-item > .xr-var-name:hover span {\n",
       "  padding-right: 5px;\n",
       "}\n",
       "\n",
       ".xr-var-list > li:nth-child(odd) > div,\n",
       ".xr-var-list > li:nth-child(odd) > label,\n",
       ".xr-var-list > li:nth-child(odd) > .xr-var-name span {\n",
       "  background-color: var(--xr-background-color-row-odd);\n",
       "}\n",
       "\n",
       ".xr-var-name {\n",
       "  grid-column: 1;\n",
       "}\n",
       "\n",
       ".xr-var-dims {\n",
       "  grid-column: 2;\n",
       "}\n",
       "\n",
       ".xr-var-dtype {\n",
       "  grid-column: 3;\n",
       "  text-align: right;\n",
       "  color: var(--xr-font-color2);\n",
       "}\n",
       "\n",
       ".xr-var-preview {\n",
       "  grid-column: 4;\n",
       "}\n",
       "\n",
       ".xr-var-name,\n",
       ".xr-var-dims,\n",
       ".xr-var-dtype,\n",
       ".xr-preview,\n",
       ".xr-attrs dt {\n",
       "  white-space: nowrap;\n",
       "  overflow: hidden;\n",
       "  text-overflow: ellipsis;\n",
       "  padding-right: 10px;\n",
       "}\n",
       "\n",
       ".xr-var-name:hover,\n",
       ".xr-var-dims:hover,\n",
       ".xr-var-dtype:hover,\n",
       ".xr-attrs dt:hover {\n",
       "  overflow: visible;\n",
       "  width: auto;\n",
       "  z-index: 1;\n",
       "}\n",
       "\n",
       ".xr-var-attrs,\n",
       ".xr-var-data {\n",
       "  display: none;\n",
       "  background-color: var(--xr-background-color) !important;\n",
       "  padding-bottom: 5px !important;\n",
       "}\n",
       "\n",
       ".xr-var-attrs-in:checked ~ .xr-var-attrs,\n",
       ".xr-var-data-in:checked ~ .xr-var-data {\n",
       "  display: block;\n",
       "}\n",
       "\n",
       ".xr-var-data > table {\n",
       "  float: right;\n",
       "}\n",
       "\n",
       ".xr-var-name span,\n",
       ".xr-var-data,\n",
       ".xr-attrs {\n",
       "  padding-left: 25px !important;\n",
       "}\n",
       "\n",
       ".xr-attrs,\n",
       ".xr-var-attrs,\n",
       ".xr-var-data {\n",
       "  grid-column: 1 / -1;\n",
       "}\n",
       "\n",
       "dl.xr-attrs {\n",
       "  padding: 0;\n",
       "  margin: 0;\n",
       "  display: grid;\n",
       "  grid-template-columns: 125px auto;\n",
       "}\n",
       "\n",
       ".xr-attrs dt, dd {\n",
       "  padding: 0;\n",
       "  margin: 0;\n",
       "  float: left;\n",
       "  padding-right: 10px;\n",
       "  width: auto;\n",
       "}\n",
       "\n",
       ".xr-attrs dt {\n",
       "  font-weight: normal;\n",
       "  grid-column: 1;\n",
       "}\n",
       "\n",
       ".xr-attrs dt:hover span {\n",
       "  display: inline-block;\n",
       "  background: var(--xr-background-color);\n",
       "  padding-right: 10px;\n",
       "}\n",
       "\n",
       ".xr-attrs dd {\n",
       "  grid-column: 2;\n",
       "  white-space: pre-wrap;\n",
       "  word-break: break-all;\n",
       "}\n",
       "\n",
       ".xr-icon-database,\n",
       ".xr-icon-file-text2 {\n",
       "  display: inline-block;\n",
       "  vertical-align: middle;\n",
       "  width: 1em;\n",
       "  height: 1.5em !important;\n",
       "  stroke-width: 0;\n",
       "  stroke: currentColor;\n",
       "  fill: currentColor;\n",
       "}\n",
       "</style><pre class='xr-text-repr-fallback'>&lt;xarray.DataArray &#x27;tas&#x27; (time: 1452, lat: 36, lon: 72)&gt;\n",
       "[3763584 values with dtype=float32]\n",
       "Coordinates:\n",
       "  * time     (time) datetime64[ns] 1900-01-11 1900-02-10 ... 2020-11-11\n",
       "  * lon      (lon) float64 -177.5 -172.5 -167.5 -162.5 ... 167.5 172.5 177.5\n",
       "  * lat      (lat) float64 -87.5 -82.5 -77.5 -72.5 -67.5 ... 72.5 77.5 82.5 87.5\n",
       "Attributes:\n",
       "    long_name:  blended LSAT and SST temperature anomalies (1951-1980 climato...\n",
       "    units:      Kelvin</pre><div class='xr-wrap' hidden><div class='xr-header'><div class='xr-obj-type'>xarray.DataArray</div><div class='xr-array-name'>'tas'</div><ul class='xr-dim-list'><li><span class='xr-has-index'>time</span>: 1452</li><li><span class='xr-has-index'>lat</span>: 36</li><li><span class='xr-has-index'>lon</span>: 72</li></ul></div><ul class='xr-sections'><li class='xr-section-item'><div class='xr-array-wrap'><input id='section-b7645a68-df01-48bb-8e3c-5b8f345cbc85' class='xr-array-in' type='checkbox' checked><label for='section-b7645a68-df01-48bb-8e3c-5b8f345cbc85' title='Show/hide data repr'><svg class='icon xr-icon-database'><use xlink:href='#icon-database'></use></svg></label><div class='xr-array-preview xr-preview'><span>...</span></div><div class='xr-array-data'><pre>[3763584 values with dtype=float32]</pre></div></div></li><li class='xr-section-item'><input id='section-5c83522a-a1d0-4fa6-a1d6-3c56c54cc2a3' class='xr-section-summary-in' type='checkbox'  checked><label for='section-5c83522a-a1d0-4fa6-a1d6-3c56c54cc2a3' class='xr-section-summary' >Coordinates: <span>(3)</span></label><div class='xr-section-inline-details'></div><div class='xr-section-details'><ul class='xr-var-list'><li class='xr-var-item'><div class='xr-var-name'><span class='xr-has-index'>time</span></div><div class='xr-var-dims'>(time)</div><div class='xr-var-dtype'>datetime64[ns]</div><div class='xr-var-preview xr-preview'>1900-01-11 ... 2020-11-11</div><input id='attrs-c461b861-722b-44cb-8ab4-d5d93e34e0d9' class='xr-var-attrs-in' type='checkbox' ><label for='attrs-c461b861-722b-44cb-8ab4-d5d93e34e0d9' title='Show/Hide attributes'><svg class='icon xr-icon-file-text2'><use xlink:href='#icon-file-text2'></use></svg></label><input id='data-fe5131aa-fbb2-431b-9b65-2abf8a46e988' class='xr-var-data-in' type='checkbox'><label for='data-fe5131aa-fbb2-431b-9b65-2abf8a46e988' title='Show/Hide data repr'><svg class='icon xr-icon-database'><use xlink:href='#icon-database'></use></svg></label><div class='xr-var-attrs'><dl class='xr-attrs'><dt><span>standard_name :</span></dt><dd>time</dd><dt><span>long_name :</span></dt><dd>time</dd><dt><span>axis :</span></dt><dd>T</dd></dl></div><div class='xr-var-data'><pre>array([&#x27;1900-01-11T00:00:00.000000000&#x27;, &#x27;1900-02-10T00:00:00.000000000&#x27;,\n",
       "       &#x27;1900-03-11T00:00:00.000000000&#x27;, ..., &#x27;2020-09-11T00:00:00.000000000&#x27;,\n",
       "       &#x27;2020-10-12T00:00:00.000000000&#x27;, &#x27;2020-11-11T00:00:00.000000000&#x27;],\n",
       "      dtype=&#x27;datetime64[ns]&#x27;)</pre></div></li><li class='xr-var-item'><div class='xr-var-name'><span class='xr-has-index'>lon</span></div><div class='xr-var-dims'>(lon)</div><div class='xr-var-dtype'>float64</div><div class='xr-var-preview xr-preview'>-177.5 -172.5 ... 172.5 177.5</div><input id='attrs-0c3c1c9e-a231-4218-9174-75058ce2c022' class='xr-var-attrs-in' type='checkbox' ><label for='attrs-0c3c1c9e-a231-4218-9174-75058ce2c022' title='Show/Hide attributes'><svg class='icon xr-icon-file-text2'><use xlink:href='#icon-file-text2'></use></svg></label><input id='data-c7c875e6-f620-48db-84fb-9a03ab883f6a' class='xr-var-data-in' type='checkbox'><label for='data-c7c875e6-f620-48db-84fb-9a03ab883f6a' title='Show/Hide data repr'><svg class='icon xr-icon-database'><use xlink:href='#icon-database'></use></svg></label><div class='xr-var-attrs'><dl class='xr-attrs'><dt><span>standard_name :</span></dt><dd>longitude</dd><dt><span>long_name :</span></dt><dd>longitude</dd><dt><span>units :</span></dt><dd>degrees_east</dd><dt><span>axis :</span></dt><dd>X</dd><dt><span>bounds :</span></dt><dd>longitude_bnds</dd></dl></div><div class='xr-var-data'><pre>array([-177.5, -172.5, -167.5, -162.5, -157.5, -152.5, -147.5, -142.5, -137.5,\n",
       "       -132.5, -127.5, -122.5, -117.5, -112.5, -107.5, -102.5,  -97.5,  -92.5,\n",
       "        -87.5,  -82.5,  -77.5,  -72.5,  -67.5,  -62.5,  -57.5,  -52.5,  -47.5,\n",
       "        -42.5,  -37.5,  -32.5,  -27.5,  -22.5,  -17.5,  -12.5,   -7.5,   -2.5,\n",
       "          2.5,    7.5,   12.5,   17.5,   22.5,   27.5,   32.5,   37.5,   42.5,\n",
       "         47.5,   52.5,   57.5,   62.5,   67.5,   72.5,   77.5,   82.5,   87.5,\n",
       "         92.5,   97.5,  102.5,  107.5,  112.5,  117.5,  122.5,  127.5,  132.5,\n",
       "        137.5,  142.5,  147.5,  152.5,  157.5,  162.5,  167.5,  172.5,  177.5])</pre></div></li><li class='xr-var-item'><div class='xr-var-name'><span class='xr-has-index'>lat</span></div><div class='xr-var-dims'>(lat)</div><div class='xr-var-dtype'>float64</div><div class='xr-var-preview xr-preview'>-87.5 -82.5 -77.5 ... 82.5 87.5</div><input id='attrs-23b3a505-9174-49b0-a184-2e4d3b4566ba' class='xr-var-attrs-in' type='checkbox' ><label for='attrs-23b3a505-9174-49b0-a184-2e4d3b4566ba' title='Show/Hide attributes'><svg class='icon xr-icon-file-text2'><use xlink:href='#icon-file-text2'></use></svg></label><input id='data-293e2760-3839-4ce5-bff4-cd17793210c1' class='xr-var-data-in' type='checkbox'><label for='data-293e2760-3839-4ce5-bff4-cd17793210c1' title='Show/Hide data repr'><svg class='icon xr-icon-database'><use xlink:href='#icon-database'></use></svg></label><div class='xr-var-attrs'><dl class='xr-attrs'><dt><span>standard_name :</span></dt><dd>latitude</dd><dt><span>long_name :</span></dt><dd>latitude</dd><dt><span>units :</span></dt><dd>degrees_north</dd><dt><span>axis :</span></dt><dd>Y</dd><dt><span>bounds :</span></dt><dd>latitude_bnds</dd></dl></div><div class='xr-var-data'><pre>array([-87.5, -82.5, -77.5, -72.5, -67.5, -62.5, -57.5, -52.5, -47.5, -42.5,\n",
       "       -37.5, -32.5, -27.5, -22.5, -17.5, -12.5,  -7.5,  -2.5,   2.5,   7.5,\n",
       "        12.5,  17.5,  22.5,  27.5,  32.5,  37.5,  42.5,  47.5,  52.5,  57.5,\n",
       "        62.5,  67.5,  72.5,  77.5,  82.5,  87.5])</pre></div></li></ul></div></li><li class='xr-section-item'><input id='section-e28c5e95-4ff0-4d45-94f3-a2d37d64cdba' class='xr-section-summary-in' type='checkbox'  checked><label for='section-e28c5e95-4ff0-4d45-94f3-a2d37d64cdba' class='xr-section-summary' >Attributes: <span>(2)</span></label><div class='xr-section-inline-details'></div><div class='xr-section-details'><dl class='xr-attrs'><dt><span>long_name :</span></dt><dd>blended LSAT and SST temperature anomalies (1951-1980 climatology)</dd><dt><span>units :</span></dt><dd>Kelvin</dd></dl></div></li></ul></div></div>"
      ],
      "text/plain": [
       "<xarray.DataArray 'tas' (time: 1452, lat: 36, lon: 72)>\n",
       "[3763584 values with dtype=float32]\n",
       "Coordinates:\n",
       "  * time     (time) datetime64[ns] 1900-01-11 1900-02-10 ... 2020-11-11\n",
       "  * lon      (lon) float64 -177.5 -172.5 -167.5 -162.5 ... 167.5 172.5 177.5\n",
       "  * lat      (lat) float64 -87.5 -82.5 -77.5 -72.5 -67.5 ... 72.5 77.5 82.5 87.5\n",
       "Attributes:\n",
       "    long_name:  blended LSAT and SST temperature anomalies (1951-1980 climato...\n",
       "    units:      Kelvin"
      ]
     },
     "execution_count": 12,
     "metadata": {},
     "output_type": "execute_result"
    }
   ],
   "source": [
    "gistemp_5x5_tselect(test_ds[\"tas\"])"
   ]
  },
  {
   "cell_type": "code",
   "execution_count": 35,
   "id": "282c21ed-3879-4ee8-9560-e95a09bf8269",
   "metadata": {
    "tags": []
   },
   "outputs": [
    {
     "name": "stdout",
     "output_type": "stream",
     "text": [
      "/glade/u/home/jonahshaw/w/trend_uncertainty/nathan/OBS_LENS//GISTEMP_5x5/20240820//ensembleChunk_5x5_0001.nc\n",
      "/glade/u/home/jonahshaw/w/trend_uncertainty/nathan/OBS_LENS//GISTEMP_5x5/20240820//ensembleChunk_5x5_0002.nc\n",
      "/glade/u/home/jonahshaw/w/trend_uncertainty/nathan/OBS_LENS//GISTEMP_5x5/20240820//ensembleChunk_5x5_0003.nc\n",
      "/glade/u/home/jonahshaw/w/trend_uncertainty/nathan/OBS_LENS//GISTEMP_5x5/20240820//ensembleChunk_5x5_0004.nc\n",
      "/glade/u/home/jonahshaw/w/trend_uncertainty/nathan/OBS_LENS//GISTEMP_5x5/20240820//ensembleChunk_5x5_0005.nc\n",
      "/glade/u/home/jonahshaw/w/trend_uncertainty/nathan/OBS_LENS//GISTEMP_5x5/20240820//ensembleChunk_5x5_0006.nc\n",
      "/glade/u/home/jonahshaw/w/trend_uncertainty/nathan/OBS_LENS//GISTEMP_5x5/20240820//ensembleChunk_5x5_0007.nc\n",
      "/glade/u/home/jonahshaw/w/trend_uncertainty/nathan/OBS_LENS//GISTEMP_5x5/20240820//ensembleChunk_5x5_0008.nc\n",
      "/glade/u/home/jonahshaw/w/trend_uncertainty/nathan/OBS_LENS//GISTEMP_5x5/20240820//ensembleChunk_5x5_0009.nc\n",
      "/glade/u/home/jonahshaw/w/trend_uncertainty/nathan/OBS_LENS//GISTEMP_5x5/20240820//ensembleChunk_5x5_0010.nc\n",
      "/glade/u/home/jonahshaw/w/trend_uncertainty/nathan/OBS_LENS//GISTEMP_5x5/20240820//ensembleChunk_5x5_0011.nc\n",
      "/glade/u/home/jonahshaw/w/trend_uncertainty/nathan/OBS_LENS//GISTEMP_5x5/20240820//ensembleChunk_5x5_0012.nc\n",
      "/glade/u/home/jonahshaw/w/trend_uncertainty/nathan/OBS_LENS//GISTEMP_5x5/20240820//ensembleChunk_5x5_0013.nc\n",
      "/glade/u/home/jonahshaw/w/trend_uncertainty/nathan/OBS_LENS//GISTEMP_5x5/20240820//ensembleChunk_5x5_0014.nc\n",
      "/glade/u/home/jonahshaw/w/trend_uncertainty/nathan/OBS_LENS//GISTEMP_5x5/20240820//ensembleChunk_5x5_0015.nc\n",
      "/glade/u/home/jonahshaw/w/trend_uncertainty/nathan/OBS_LENS//GISTEMP_5x5/20240820//ensembleChunk_5x5_0016.nc\n",
      "/glade/u/home/jonahshaw/w/trend_uncertainty/nathan/OBS_LENS//GISTEMP_5x5/20240820//ensembleChunk_5x5_0017.nc\n",
      "/glade/u/home/jonahshaw/w/trend_uncertainty/nathan/OBS_LENS//GISTEMP_5x5/20240820//ensembleChunk_5x5_0018.nc\n",
      "/glade/u/home/jonahshaw/w/trend_uncertainty/nathan/OBS_LENS//GISTEMP_5x5/20240820//ensembleChunk_5x5_0019.nc\n",
      "/glade/u/home/jonahshaw/w/trend_uncertainty/nathan/OBS_LENS//GISTEMP_5x5/20240820//ensembleChunk_5x5_0020.nc\n",
      "/glade/u/home/jonahshaw/w/trend_uncertainty/nathan/OBS_LENS//GISTEMP_5x5/20240820//ensembleChunk_5x5_0021.nc\n",
      "/glade/u/home/jonahshaw/w/trend_uncertainty/nathan/OBS_LENS//GISTEMP_5x5/20240820//ensembleChunk_5x5_0022.nc\n",
      "/glade/u/home/jonahshaw/w/trend_uncertainty/nathan/OBS_LENS//GISTEMP_5x5/20240820//ensembleChunk_5x5_0023.nc\n",
      "/glade/u/home/jonahshaw/w/trend_uncertainty/nathan/OBS_LENS//GISTEMP_5x5/20240820//ensembleChunk_5x5_0024.nc\n",
      "/glade/u/home/jonahshaw/w/trend_uncertainty/nathan/OBS_LENS//GISTEMP_5x5/20240820//ensembleChunk_5x5_0025.nc\n",
      "/glade/u/home/jonahshaw/w/trend_uncertainty/nathan/OBS_LENS//GISTEMP_5x5/20240820//ensembleChunk_5x5_0026.nc\n",
      "/glade/u/home/jonahshaw/w/trend_uncertainty/nathan/OBS_LENS//GISTEMP_5x5/20240820//ensembleChunk_5x5_0027.nc\n",
      "/glade/u/home/jonahshaw/w/trend_uncertainty/nathan/OBS_LENS//GISTEMP_5x5/20240820//ensembleChunk_5x5_0028.nc\n",
      "/glade/u/home/jonahshaw/w/trend_uncertainty/nathan/OBS_LENS//GISTEMP_5x5/20240820//ensembleChunk_5x5_0029.nc\n",
      "/glade/u/home/jonahshaw/w/trend_uncertainty/nathan/OBS_LENS//GISTEMP_5x5/20240820//ensembleChunk_5x5_0030.nc\n",
      "/glade/u/home/jonahshaw/w/trend_uncertainty/nathan/OBS_LENS//GISTEMP_5x5/20240820//ensembleChunk_5x5_0031.nc\n",
      "/glade/u/home/jonahshaw/w/trend_uncertainty/nathan/OBS_LENS//GISTEMP_5x5/20240820//ensembleChunk_5x5_0032.nc\n",
      "/glade/u/home/jonahshaw/w/trend_uncertainty/nathan/OBS_LENS//GISTEMP_5x5/20240820//ensembleChunk_5x5_0033.nc\n",
      "/glade/u/home/jonahshaw/w/trend_uncertainty/nathan/OBS_LENS//GISTEMP_5x5/20240820//ensembleChunk_5x5_0034.nc\n",
      "/glade/u/home/jonahshaw/w/trend_uncertainty/nathan/OBS_LENS//GISTEMP_5x5/20240820//ensembleChunk_5x5_0035.nc\n",
      "/glade/u/home/jonahshaw/w/trend_uncertainty/nathan/OBS_LENS//GISTEMP_5x5/20240820//ensembleChunk_5x5_0036.nc\n",
      "/glade/u/home/jonahshaw/w/trend_uncertainty/nathan/OBS_LENS//GISTEMP_5x5/20240820//ensembleChunk_5x5_0037.nc\n",
      "/glade/u/home/jonahshaw/w/trend_uncertainty/nathan/OBS_LENS//GISTEMP_5x5/20240820//ensembleChunk_5x5_0038.nc\n",
      "/glade/u/home/jonahshaw/w/trend_uncertainty/nathan/OBS_LENS//GISTEMP_5x5/20240820//ensembleChunk_5x5_0039.nc\n",
      "/glade/u/home/jonahshaw/w/trend_uncertainty/nathan/OBS_LENS//GISTEMP_5x5/20240820//ensembleChunk_5x5_0040.nc\n",
      "/glade/u/home/jonahshaw/w/trend_uncertainty/nathan/OBS_LENS//GISTEMP_5x5/20240820//ensembleChunk_5x5_0041.nc\n",
      "/glade/u/home/jonahshaw/w/trend_uncertainty/nathan/OBS_LENS//GISTEMP_5x5/20240820//ensembleChunk_5x5_0042.nc\n",
      "/glade/u/home/jonahshaw/w/trend_uncertainty/nathan/OBS_LENS//GISTEMP_5x5/20240820//ensembleChunk_5x5_0043.nc\n",
      "/glade/u/home/jonahshaw/w/trend_uncertainty/nathan/OBS_LENS//GISTEMP_5x5/20240820//ensembleChunk_5x5_0044.nc\n",
      "/glade/u/home/jonahshaw/w/trend_uncertainty/nathan/OBS_LENS//GISTEMP_5x5/20240820//ensembleChunk_5x5_0045.nc\n",
      "/glade/u/home/jonahshaw/w/trend_uncertainty/nathan/OBS_LENS//GISTEMP_5x5/20240820//ensembleChunk_5x5_0046.nc\n",
      "/glade/u/home/jonahshaw/w/trend_uncertainty/nathan/OBS_LENS//GISTEMP_5x5/20240820//ensembleChunk_5x5_0047.nc\n",
      "/glade/u/home/jonahshaw/w/trend_uncertainty/nathan/OBS_LENS//GISTEMP_5x5/20240820//ensembleChunk_5x5_0048.nc\n",
      "/glade/u/home/jonahshaw/w/trend_uncertainty/nathan/OBS_LENS//GISTEMP_5x5/20240820//ensembleChunk_5x5_0049.nc\n",
      "/glade/u/home/jonahshaw/w/trend_uncertainty/nathan/OBS_LENS//GISTEMP_5x5/20240820//ensembleChunk_5x5_0050.nc\n",
      "/glade/u/home/jonahshaw/w/trend_uncertainty/nathan/OBS_LENS//GISTEMP_5x5/20240820//ensembleChunk_5x5_0051.nc\n",
      "/glade/u/home/jonahshaw/w/trend_uncertainty/nathan/OBS_LENS//GISTEMP_5x5/20240820//ensembleChunk_5x5_0052.nc\n",
      "/glade/u/home/jonahshaw/w/trend_uncertainty/nathan/OBS_LENS//GISTEMP_5x5/20240820//ensembleChunk_5x5_0053.nc\n",
      "/glade/u/home/jonahshaw/w/trend_uncertainty/nathan/OBS_LENS//GISTEMP_5x5/20240820//ensembleChunk_5x5_0054.nc\n",
      "/glade/u/home/jonahshaw/w/trend_uncertainty/nathan/OBS_LENS//GISTEMP_5x5/20240820//ensembleChunk_5x5_0055.nc\n",
      "/glade/u/home/jonahshaw/w/trend_uncertainty/nathan/OBS_LENS//GISTEMP_5x5/20240820//ensembleChunk_5x5_0056.nc\n",
      "/glade/u/home/jonahshaw/w/trend_uncertainty/nathan/OBS_LENS//GISTEMP_5x5/20240820//ensembleChunk_5x5_0057.nc\n",
      "/glade/u/home/jonahshaw/w/trend_uncertainty/nathan/OBS_LENS//GISTEMP_5x5/20240820//ensembleChunk_5x5_0058.nc\n",
      "/glade/u/home/jonahshaw/w/trend_uncertainty/nathan/OBS_LENS//GISTEMP_5x5/20240820//ensembleChunk_5x5_0059.nc\n",
      "/glade/u/home/jonahshaw/w/trend_uncertainty/nathan/OBS_LENS//GISTEMP_5x5/20240820//ensembleChunk_5x5_0060.nc\n",
      "/glade/u/home/jonahshaw/w/trend_uncertainty/nathan/OBS_LENS//GISTEMP_5x5/20240820//ensembleChunk_5x5_0061.nc\n",
      "/glade/u/home/jonahshaw/w/trend_uncertainty/nathan/OBS_LENS//GISTEMP_5x5/20240820//ensembleChunk_5x5_0062.nc\n",
      "/glade/u/home/jonahshaw/w/trend_uncertainty/nathan/OBS_LENS//GISTEMP_5x5/20240820//ensembleChunk_5x5_0063.nc\n",
      "/glade/u/home/jonahshaw/w/trend_uncertainty/nathan/OBS_LENS//GISTEMP_5x5/20240820//ensembleChunk_5x5_0064.nc\n",
      "/glade/u/home/jonahshaw/w/trend_uncertainty/nathan/OBS_LENS//GISTEMP_5x5/20240820//ensembleChunk_5x5_0065.nc\n",
      "/glade/u/home/jonahshaw/w/trend_uncertainty/nathan/OBS_LENS//GISTEMP_5x5/20240820//ensembleChunk_5x5_0066.nc\n",
      "/glade/u/home/jonahshaw/w/trend_uncertainty/nathan/OBS_LENS//GISTEMP_5x5/20240820//ensembleChunk_5x5_0067.nc\n",
      "/glade/u/home/jonahshaw/w/trend_uncertainty/nathan/OBS_LENS//GISTEMP_5x5/20240820//ensembleChunk_5x5_0068.nc\n",
      "/glade/u/home/jonahshaw/w/trend_uncertainty/nathan/OBS_LENS//GISTEMP_5x5/20240820//ensembleChunk_5x5_0069.nc\n",
      "/glade/u/home/jonahshaw/w/trend_uncertainty/nathan/OBS_LENS//GISTEMP_5x5/20240820//ensembleChunk_5x5_0070.nc\n",
      "/glade/u/home/jonahshaw/w/trend_uncertainty/nathan/OBS_LENS//GISTEMP_5x5/20240820//ensembleChunk_5x5_0071.nc\n",
      "/glade/u/home/jonahshaw/w/trend_uncertainty/nathan/OBS_LENS//GISTEMP_5x5/20240820//ensembleChunk_5x5_0072.nc\n",
      "/glade/u/home/jonahshaw/w/trend_uncertainty/nathan/OBS_LENS//GISTEMP_5x5/20240820//ensembleChunk_5x5_0073.nc\n",
      "/glade/u/home/jonahshaw/w/trend_uncertainty/nathan/OBS_LENS//GISTEMP_5x5/20240820//ensembleChunk_5x5_0074.nc\n",
      "/glade/u/home/jonahshaw/w/trend_uncertainty/nathan/OBS_LENS//GISTEMP_5x5/20240820//ensembleChunk_5x5_0075.nc\n",
      "/glade/u/home/jonahshaw/w/trend_uncertainty/nathan/OBS_LENS//GISTEMP_5x5/20240820//ensembleChunk_5x5_0076.nc\n",
      "/glade/u/home/jonahshaw/w/trend_uncertainty/nathan/OBS_LENS//GISTEMP_5x5/20240820//ensembleChunk_5x5_0077.nc\n",
      "/glade/u/home/jonahshaw/w/trend_uncertainty/nathan/OBS_LENS//GISTEMP_5x5/20240820//ensembleChunk_5x5_0078.nc\n",
      "/glade/u/home/jonahshaw/w/trend_uncertainty/nathan/OBS_LENS//GISTEMP_5x5/20240820//ensembleChunk_5x5_0079.nc\n",
      "/glade/u/home/jonahshaw/w/trend_uncertainty/nathan/OBS_LENS//GISTEMP_5x5/20240820//ensembleChunk_5x5_0080.nc\n",
      "/glade/u/home/jonahshaw/w/trend_uncertainty/nathan/OBS_LENS//GISTEMP_5x5/20240820//ensembleChunk_5x5_0081.nc\n",
      "/glade/u/home/jonahshaw/w/trend_uncertainty/nathan/OBS_LENS//GISTEMP_5x5/20240820//ensembleChunk_5x5_0082.nc\n",
      "/glade/u/home/jonahshaw/w/trend_uncertainty/nathan/OBS_LENS//GISTEMP_5x5/20240820//ensembleChunk_5x5_0083.nc\n",
      "/glade/u/home/jonahshaw/w/trend_uncertainty/nathan/OBS_LENS//GISTEMP_5x5/20240820//ensembleChunk_5x5_0084.nc\n",
      "/glade/u/home/jonahshaw/w/trend_uncertainty/nathan/OBS_LENS//GISTEMP_5x5/20240820//ensembleChunk_5x5_0085.nc\n",
      "/glade/u/home/jonahshaw/w/trend_uncertainty/nathan/OBS_LENS//GISTEMP_5x5/20240820//ensembleChunk_5x5_0086.nc\n",
      "/glade/u/home/jonahshaw/w/trend_uncertainty/nathan/OBS_LENS//GISTEMP_5x5/20240820//ensembleChunk_5x5_0087.nc\n",
      "/glade/u/home/jonahshaw/w/trend_uncertainty/nathan/OBS_LENS//GISTEMP_5x5/20240820//ensembleChunk_5x5_0088.nc\n",
      "/glade/u/home/jonahshaw/w/trend_uncertainty/nathan/OBS_LENS//GISTEMP_5x5/20240820//ensembleChunk_5x5_0089.nc\n",
      "/glade/u/home/jonahshaw/w/trend_uncertainty/nathan/OBS_LENS//GISTEMP_5x5/20240820//ensembleChunk_5x5_0090.nc\n",
      "/glade/u/home/jonahshaw/w/trend_uncertainty/nathan/OBS_LENS//GISTEMP_5x5/20240820//ensembleChunk_5x5_0091.nc\n",
      "/glade/u/home/jonahshaw/w/trend_uncertainty/nathan/OBS_LENS//GISTEMP_5x5/20240820//ensembleChunk_5x5_0092.nc\n",
      "/glade/u/home/jonahshaw/w/trend_uncertainty/nathan/OBS_LENS//GISTEMP_5x5/20240820//ensembleChunk_5x5_0093.nc\n",
      "/glade/u/home/jonahshaw/w/trend_uncertainty/nathan/OBS_LENS//GISTEMP_5x5/20240820//ensembleChunk_5x5_0094.nc\n",
      "/glade/u/home/jonahshaw/w/trend_uncertainty/nathan/OBS_LENS//GISTEMP_5x5/20240820//ensembleChunk_5x5_0095.nc\n",
      "/glade/u/home/jonahshaw/w/trend_uncertainty/nathan/OBS_LENS//GISTEMP_5x5/20240820//ensembleChunk_5x5_0096.nc\n",
      "/glade/u/home/jonahshaw/w/trend_uncertainty/nathan/OBS_LENS//GISTEMP_5x5/20240820//ensembleChunk_5x5_0097.nc\n",
      "/glade/u/home/jonahshaw/w/trend_uncertainty/nathan/OBS_LENS//GISTEMP_5x5/20240820//ensembleChunk_5x5_0098.nc\n",
      "/glade/u/home/jonahshaw/w/trend_uncertainty/nathan/OBS_LENS//GISTEMP_5x5/20240820//ensembleChunk_5x5_0099.nc\n",
      "/glade/u/home/jonahshaw/w/trend_uncertainty/nathan/OBS_LENS//GISTEMP_5x5/20240820//ensembleChunk_5x5_0100.nc\n",
      "/glade/u/home/jonahshaw/w/trend_uncertainty/nathan/OBS_LENS//GISTEMP_5x5/20240820//ensembleChunk_5x5_0101.nc\n",
      "/glade/u/home/jonahshaw/w/trend_uncertainty/nathan/OBS_LENS//GISTEMP_5x5/20240820//ensembleChunk_5x5_0102.nc\n",
      "/glade/u/home/jonahshaw/w/trend_uncertainty/nathan/OBS_LENS//GISTEMP_5x5/20240820//ensembleChunk_5x5_0103.nc\n",
      "/glade/u/home/jonahshaw/w/trend_uncertainty/nathan/OBS_LENS//GISTEMP_5x5/20240820//ensembleChunk_5x5_0104.nc\n",
      "/glade/u/home/jonahshaw/w/trend_uncertainty/nathan/OBS_LENS//GISTEMP_5x5/20240820//ensembleChunk_5x5_0105.nc\n",
      "/glade/u/home/jonahshaw/w/trend_uncertainty/nathan/OBS_LENS//GISTEMP_5x5/20240820//ensembleChunk_5x5_0106.nc\n",
      "/glade/u/home/jonahshaw/w/trend_uncertainty/nathan/OBS_LENS//GISTEMP_5x5/20240820//ensembleChunk_5x5_0107.nc\n",
      "/glade/u/home/jonahshaw/w/trend_uncertainty/nathan/OBS_LENS//GISTEMP_5x5/20240820//ensembleChunk_5x5_0108.nc\n",
      "/glade/u/home/jonahshaw/w/trend_uncertainty/nathan/OBS_LENS//GISTEMP_5x5/20240820//ensembleChunk_5x5_0109.nc\n",
      "/glade/u/home/jonahshaw/w/trend_uncertainty/nathan/OBS_LENS//GISTEMP_5x5/20240820//ensembleChunk_5x5_0110.nc\n",
      "/glade/u/home/jonahshaw/w/trend_uncertainty/nathan/OBS_LENS//GISTEMP_5x5/20240820//ensembleChunk_5x5_0111.nc\n",
      "/glade/u/home/jonahshaw/w/trend_uncertainty/nathan/OBS_LENS//GISTEMP_5x5/20240820//ensembleChunk_5x5_0112.nc\n",
      "/glade/u/home/jonahshaw/w/trend_uncertainty/nathan/OBS_LENS//GISTEMP_5x5/20240820//ensembleChunk_5x5_0113.nc\n",
      "/glade/u/home/jonahshaw/w/trend_uncertainty/nathan/OBS_LENS//GISTEMP_5x5/20240820//ensembleChunk_5x5_0114.nc\n",
      "/glade/u/home/jonahshaw/w/trend_uncertainty/nathan/OBS_LENS//GISTEMP_5x5/20240820//ensembleChunk_5x5_0115.nc\n",
      "/glade/u/home/jonahshaw/w/trend_uncertainty/nathan/OBS_LENS//GISTEMP_5x5/20240820//ensembleChunk_5x5_0116.nc\n",
      "/glade/u/home/jonahshaw/w/trend_uncertainty/nathan/OBS_LENS//GISTEMP_5x5/20240820//ensembleChunk_5x5_0117.nc\n",
      "/glade/u/home/jonahshaw/w/trend_uncertainty/nathan/OBS_LENS//GISTEMP_5x5/20240820//ensembleChunk_5x5_0118.nc\n",
      "/glade/u/home/jonahshaw/w/trend_uncertainty/nathan/OBS_LENS//GISTEMP_5x5/20240820//ensembleChunk_5x5_0119.nc\n",
      "/glade/u/home/jonahshaw/w/trend_uncertainty/nathan/OBS_LENS//GISTEMP_5x5/20240820//ensembleChunk_5x5_0120.nc\n",
      "/glade/u/home/jonahshaw/w/trend_uncertainty/nathan/OBS_LENS//GISTEMP_5x5/20240820//ensembleChunk_5x5_0121.nc\n",
      "/glade/u/home/jonahshaw/w/trend_uncertainty/nathan/OBS_LENS//GISTEMP_5x5/20240820//ensembleChunk_5x5_0122.nc\n",
      "/glade/u/home/jonahshaw/w/trend_uncertainty/nathan/OBS_LENS//GISTEMP_5x5/20240820//ensembleChunk_5x5_0123.nc\n",
      "/glade/u/home/jonahshaw/w/trend_uncertainty/nathan/OBS_LENS//GISTEMP_5x5/20240820//ensembleChunk_5x5_0124.nc\n",
      "/glade/u/home/jonahshaw/w/trend_uncertainty/nathan/OBS_LENS//GISTEMP_5x5/20240820//ensembleChunk_5x5_0125.nc\n",
      "/glade/u/home/jonahshaw/w/trend_uncertainty/nathan/OBS_LENS//GISTEMP_5x5/20240820//ensembleChunk_5x5_0126.nc\n",
      "/glade/u/home/jonahshaw/w/trend_uncertainty/nathan/OBS_LENS//GISTEMP_5x5/20240820//ensembleChunk_5x5_0127.nc\n",
      "/glade/u/home/jonahshaw/w/trend_uncertainty/nathan/OBS_LENS//GISTEMP_5x5/20240820//ensembleChunk_5x5_0128.nc\n",
      "/glade/u/home/jonahshaw/w/trend_uncertainty/nathan/OBS_LENS//GISTEMP_5x5/20240820//ensembleChunk_5x5_0129.nc\n",
      "/glade/u/home/jonahshaw/w/trend_uncertainty/nathan/OBS_LENS//GISTEMP_5x5/20240820//ensembleChunk_5x5_0130.nc\n",
      "/glade/u/home/jonahshaw/w/trend_uncertainty/nathan/OBS_LENS//GISTEMP_5x5/20240820//ensembleChunk_5x5_0131.nc\n",
      "/glade/u/home/jonahshaw/w/trend_uncertainty/nathan/OBS_LENS//GISTEMP_5x5/20240820//ensembleChunk_5x5_0132.nc\n",
      "/glade/u/home/jonahshaw/w/trend_uncertainty/nathan/OBS_LENS//GISTEMP_5x5/20240820//ensembleChunk_5x5_0133.nc\n",
      "/glade/u/home/jonahshaw/w/trend_uncertainty/nathan/OBS_LENS//GISTEMP_5x5/20240820//ensembleChunk_5x5_0134.nc\n",
      "/glade/u/home/jonahshaw/w/trend_uncertainty/nathan/OBS_LENS//GISTEMP_5x5/20240820//ensembleChunk_5x5_0135.nc\n",
      "/glade/u/home/jonahshaw/w/trend_uncertainty/nathan/OBS_LENS//GISTEMP_5x5/20240820//ensembleChunk_5x5_0136.nc\n",
      "/glade/u/home/jonahshaw/w/trend_uncertainty/nathan/OBS_LENS//GISTEMP_5x5/20240820//ensembleChunk_5x5_0137.nc\n",
      "/glade/u/home/jonahshaw/w/trend_uncertainty/nathan/OBS_LENS//GISTEMP_5x5/20240820//ensembleChunk_5x5_0138.nc\n",
      "/glade/u/home/jonahshaw/w/trend_uncertainty/nathan/OBS_LENS//GISTEMP_5x5/20240820//ensembleChunk_5x5_0139.nc\n",
      "/glade/u/home/jonahshaw/w/trend_uncertainty/nathan/OBS_LENS//GISTEMP_5x5/20240820//ensembleChunk_5x5_0140.nc\n",
      "/glade/u/home/jonahshaw/w/trend_uncertainty/nathan/OBS_LENS//GISTEMP_5x5/20240820//ensembleChunk_5x5_0141.nc\n",
      "/glade/u/home/jonahshaw/w/trend_uncertainty/nathan/OBS_LENS//GISTEMP_5x5/20240820//ensembleChunk_5x5_0142.nc\n",
      "/glade/u/home/jonahshaw/w/trend_uncertainty/nathan/OBS_LENS//GISTEMP_5x5/20240820//ensembleChunk_5x5_0143.nc\n",
      "/glade/u/home/jonahshaw/w/trend_uncertainty/nathan/OBS_LENS//GISTEMP_5x5/20240820//ensembleChunk_5x5_0144.nc\n",
      "/glade/u/home/jonahshaw/w/trend_uncertainty/nathan/OBS_LENS//GISTEMP_5x5/20240820//ensembleChunk_5x5_0145.nc\n",
      "/glade/u/home/jonahshaw/w/trend_uncertainty/nathan/OBS_LENS//GISTEMP_5x5/20240820//ensembleChunk_5x5_0146.nc\n",
      "/glade/u/home/jonahshaw/w/trend_uncertainty/nathan/OBS_LENS//GISTEMP_5x5/20240820//ensembleChunk_5x5_0147.nc\n",
      "/glade/u/home/jonahshaw/w/trend_uncertainty/nathan/OBS_LENS//GISTEMP_5x5/20240820//ensembleChunk_5x5_0148.nc\n",
      "/glade/u/home/jonahshaw/w/trend_uncertainty/nathan/OBS_LENS//GISTEMP_5x5/20240820//ensembleChunk_5x5_0149.nc\n",
      "/glade/u/home/jonahshaw/w/trend_uncertainty/nathan/OBS_LENS//GISTEMP_5x5/20240820//ensembleChunk_5x5_0150.nc\n",
      "/glade/u/home/jonahshaw/w/trend_uncertainty/nathan/OBS_LENS//GISTEMP_5x5/20240820//ensembleChunk_5x5_0151.nc\n",
      "/glade/u/home/jonahshaw/w/trend_uncertainty/nathan/OBS_LENS//GISTEMP_5x5/20240820//ensembleChunk_5x5_0152.nc\n",
      "/glade/u/home/jonahshaw/w/trend_uncertainty/nathan/OBS_LENS//GISTEMP_5x5/20240820//ensembleChunk_5x5_0153.nc\n",
      "/glade/u/home/jonahshaw/w/trend_uncertainty/nathan/OBS_LENS//GISTEMP_5x5/20240820//ensembleChunk_5x5_0154.nc\n",
      "/glade/u/home/jonahshaw/w/trend_uncertainty/nathan/OBS_LENS//GISTEMP_5x5/20240820//ensembleChunk_5x5_0155.nc\n",
      "/glade/u/home/jonahshaw/w/trend_uncertainty/nathan/OBS_LENS//GISTEMP_5x5/20240820//ensembleChunk_5x5_0156.nc\n",
      "/glade/u/home/jonahshaw/w/trend_uncertainty/nathan/OBS_LENS//GISTEMP_5x5/20240820//ensembleChunk_5x5_0157.nc\n",
      "/glade/u/home/jonahshaw/w/trend_uncertainty/nathan/OBS_LENS//GISTEMP_5x5/20240820//ensembleChunk_5x5_0158.nc\n",
      "/glade/u/home/jonahshaw/w/trend_uncertainty/nathan/OBS_LENS//GISTEMP_5x5/20240820//ensembleChunk_5x5_0159.nc\n",
      "/glade/u/home/jonahshaw/w/trend_uncertainty/nathan/OBS_LENS//GISTEMP_5x5/20240820//ensembleChunk_5x5_0160.nc\n",
      "/glade/u/home/jonahshaw/w/trend_uncertainty/nathan/OBS_LENS//GISTEMP_5x5/20240820//ensembleChunk_5x5_0161.nc\n",
      "/glade/u/home/jonahshaw/w/trend_uncertainty/nathan/OBS_LENS//GISTEMP_5x5/20240820//ensembleChunk_5x5_0162.nc\n",
      "/glade/u/home/jonahshaw/w/trend_uncertainty/nathan/OBS_LENS//GISTEMP_5x5/20240820//ensembleChunk_5x5_0163.nc\n",
      "/glade/u/home/jonahshaw/w/trend_uncertainty/nathan/OBS_LENS//GISTEMP_5x5/20240820//ensembleChunk_5x5_0164.nc\n",
      "/glade/u/home/jonahshaw/w/trend_uncertainty/nathan/OBS_LENS//GISTEMP_5x5/20240820//ensembleChunk_5x5_0165.nc\n",
      "/glade/u/home/jonahshaw/w/trend_uncertainty/nathan/OBS_LENS//GISTEMP_5x5/20240820//ensembleChunk_5x5_0166.nc\n",
      "/glade/u/home/jonahshaw/w/trend_uncertainty/nathan/OBS_LENS//GISTEMP_5x5/20240820//ensembleChunk_5x5_0167.nc\n",
      "/glade/u/home/jonahshaw/w/trend_uncertainty/nathan/OBS_LENS//GISTEMP_5x5/20240820//ensembleChunk_5x5_0168.nc\n",
      "/glade/u/home/jonahshaw/w/trend_uncertainty/nathan/OBS_LENS//GISTEMP_5x5/20240820//ensembleChunk_5x5_0169.nc\n",
      "/glade/u/home/jonahshaw/w/trend_uncertainty/nathan/OBS_LENS//GISTEMP_5x5/20240820//ensembleChunk_5x5_0170.nc\n",
      "/glade/u/home/jonahshaw/w/trend_uncertainty/nathan/OBS_LENS//GISTEMP_5x5/20240820//ensembleChunk_5x5_0171.nc\n",
      "/glade/u/home/jonahshaw/w/trend_uncertainty/nathan/OBS_LENS//GISTEMP_5x5/20240820//ensembleChunk_5x5_0172.nc\n",
      "/glade/u/home/jonahshaw/w/trend_uncertainty/nathan/OBS_LENS//GISTEMP_5x5/20240820//ensembleChunk_5x5_0173.nc\n",
      "/glade/u/home/jonahshaw/w/trend_uncertainty/nathan/OBS_LENS//GISTEMP_5x5/20240820//ensembleChunk_5x5_0174.nc\n",
      "/glade/u/home/jonahshaw/w/trend_uncertainty/nathan/OBS_LENS//GISTEMP_5x5/20240820//ensembleChunk_5x5_0175.nc\n",
      "/glade/u/home/jonahshaw/w/trend_uncertainty/nathan/OBS_LENS//GISTEMP_5x5/20240820//ensembleChunk_5x5_0176.nc\n",
      "/glade/u/home/jonahshaw/w/trend_uncertainty/nathan/OBS_LENS//GISTEMP_5x5/20240820//ensembleChunk_5x5_0177.nc\n",
      "/glade/u/home/jonahshaw/w/trend_uncertainty/nathan/OBS_LENS//GISTEMP_5x5/20240820//ensembleChunk_5x5_0178.nc\n",
      "/glade/u/home/jonahshaw/w/trend_uncertainty/nathan/OBS_LENS//GISTEMP_5x5/20240820//ensembleChunk_5x5_0179.nc\n",
      "/glade/u/home/jonahshaw/w/trend_uncertainty/nathan/OBS_LENS//GISTEMP_5x5/20240820//ensembleChunk_5x5_0180.nc\n",
      "/glade/u/home/jonahshaw/w/trend_uncertainty/nathan/OBS_LENS//GISTEMP_5x5/20240820//ensembleChunk_5x5_0181.nc\n",
      "/glade/u/home/jonahshaw/w/trend_uncertainty/nathan/OBS_LENS//GISTEMP_5x5/20240820//ensembleChunk_5x5_0182.nc\n",
      "/glade/u/home/jonahshaw/w/trend_uncertainty/nathan/OBS_LENS//GISTEMP_5x5/20240820//ensembleChunk_5x5_0183.nc\n",
      "/glade/u/home/jonahshaw/w/trend_uncertainty/nathan/OBS_LENS//GISTEMP_5x5/20240820//ensembleChunk_5x5_0184.nc\n",
      "/glade/u/home/jonahshaw/w/trend_uncertainty/nathan/OBS_LENS//GISTEMP_5x5/20240820//ensembleChunk_5x5_0185.nc\n",
      "/glade/u/home/jonahshaw/w/trend_uncertainty/nathan/OBS_LENS//GISTEMP_5x5/20240820//ensembleChunk_5x5_0186.nc\n",
      "/glade/u/home/jonahshaw/w/trend_uncertainty/nathan/OBS_LENS//GISTEMP_5x5/20240820//ensembleChunk_5x5_0187.nc\n",
      "/glade/u/home/jonahshaw/w/trend_uncertainty/nathan/OBS_LENS//GISTEMP_5x5/20240820//ensembleChunk_5x5_0188.nc\n",
      "/glade/u/home/jonahshaw/w/trend_uncertainty/nathan/OBS_LENS//GISTEMP_5x5/20240820//ensembleChunk_5x5_0189.nc\n",
      "/glade/u/home/jonahshaw/w/trend_uncertainty/nathan/OBS_LENS//GISTEMP_5x5/20240820//ensembleChunk_5x5_0190.nc\n",
      "/glade/u/home/jonahshaw/w/trend_uncertainty/nathan/OBS_LENS//GISTEMP_5x5/20240820//ensembleChunk_5x5_0191.nc\n",
      "/glade/u/home/jonahshaw/w/trend_uncertainty/nathan/OBS_LENS//GISTEMP_5x5/20240820//ensembleChunk_5x5_0192.nc\n",
      "/glade/u/home/jonahshaw/w/trend_uncertainty/nathan/OBS_LENS//GISTEMP_5x5/20240820//ensembleChunk_5x5_0193.nc\n",
      "/glade/u/home/jonahshaw/w/trend_uncertainty/nathan/OBS_LENS//GISTEMP_5x5/20240820//ensembleChunk_5x5_0194.nc\n",
      "/glade/u/home/jonahshaw/w/trend_uncertainty/nathan/OBS_LENS//GISTEMP_5x5/20240820//ensembleChunk_5x5_0195.nc\n",
      "/glade/u/home/jonahshaw/w/trend_uncertainty/nathan/OBS_LENS//GISTEMP_5x5/20240820//ensembleChunk_5x5_0196.nc\n",
      "/glade/u/home/jonahshaw/w/trend_uncertainty/nathan/OBS_LENS//GISTEMP_5x5/20240820//ensembleChunk_5x5_0197.nc\n",
      "/glade/u/home/jonahshaw/w/trend_uncertainty/nathan/OBS_LENS//GISTEMP_5x5/20240820//ensembleChunk_5x5_0198.nc\n",
      "/glade/u/home/jonahshaw/w/trend_uncertainty/nathan/OBS_LENS//GISTEMP_5x5/20240820//ensembleChunk_5x5_0199.nc\n",
      "/glade/u/home/jonahshaw/w/trend_uncertainty/nathan/OBS_LENS//GISTEMP_5x5/20240820//ensembleChunk_5x5_0200.nc\n",
      "CPU times: user 6min 58s, sys: 29.4 s, total: 7min 27s\n",
      "Wall time: 13min 45s\n"
     ]
    }
   ],
   "source": [
    "%%time\n",
    "\n",
    "# gistemp_new_times = (pd.date_range(\"1900-01-01\", freq=\"1M\", periods=12*61)-pd.offsets.MonthBegin(1)).shift(periods=14,freq='D')\n",
    "model_subdir = 'GISTEMP_5x5/20240820/'\n",
    "\n",
    "if not os.path.exists(os.path.join(save_dir,model_subdir)):\n",
    "    os.makedirs(os.path.join(save_dir,model_subdir))\n",
    "\n",
    "# Variable to select and operate over.\n",
    "_ds_var = gistemp_tas_var\n",
    "\n",
    "for i,_ds_filepath in enumerate(gistemp_files):\n",
    "    # break\n",
    "    _regional_tseries_delayed = create_ipccregion_timeseries(_ds_filepath=_ds_filepath,\n",
    "                                                             _ds_var=_ds_var,\n",
    "                                                             regions=regionmask.defined_regions.ar6.all,\n",
    "                                                             cesm=False,\n",
    "                                                             ufunc=gistemp_5x5_tselect,\n",
    "                                                             lon_name='longitude',\n",
    "                                                             lat_name='latitude',\n",
    "                                                            )\n",
    "    _regional_tseries = _regional_tseries_delayed.compute()\n",
    "    # Add \"realization\" coordinate so concatenation is easier.\n",
    "    _regional_tseries = _regional_tseries.assign_coords(realization=i+1).expand_dims(\"realization\")\n",
    "    \n",
    "    filename = _ds_filepath.split('/')[-1]\n",
    "    \n",
    "    _outfilepath = '%s/%s/%s' % (save_dir,model_subdir,filename)\n",
    "    \n",
    "    _regional_tseries.to_netcdf(path=_outfilepath)\n",
    "    \n",
    "    print(_outfilepath)\n",
    "    "
   ]
  },
  {
   "cell_type": "code",
   "execution_count": null,
   "id": "cd28859a-a801-4994-9538-48dcc151e990",
   "metadata": {},
   "outputs": [],
   "source": []
  },
  {
   "cell_type": "code",
   "execution_count": 22,
   "id": "54246a4f-8e69-4a11-a2ab-6d8808261a24",
   "metadata": {},
   "outputs": [],
   "source": [
    "ex_gistemp_5x5_tseries = _regional_tseries"
   ]
  },
  {
   "cell_type": "markdown",
   "id": "6a13f127-7653-4b38-833e-8b5b382798e2",
   "metadata": {},
   "source": [
    "#### HadCRUT5"
   ]
  },
  {
   "cell_type": "code",
   "execution_count": 31,
   "id": "94fa0520-888a-49e4-8aa5-3f3d3b3a1e4d",
   "metadata": {},
   "outputs": [],
   "source": [
    "# Arbitrary function to apply\n",
    "\n",
    "def hadcrut5_tselect(da:xr.DataArray):\n",
    "    \n",
    "    return da.sel(time=slice('1900-01-01','2022-12-31')).rename({'longitude':'lon','latitude':'lat'})"
   ]
  },
  {
   "cell_type": "code",
   "execution_count": 32,
   "id": "1fbac4c5-43cf-4727-b293-f080f69fbbb0",
   "metadata": {
    "tags": []
   },
   "outputs": [
    {
     "name": "stdout",
     "output_type": "stream",
     "text": [
      "/glade/u/home/jonahshaw/w/trend_uncertainty/nathan/OBS_LENS//HadCRUT5/20240820//HadCRUT.5.0.2.0.analysis.anomalies.1.nc\n",
      "/glade/u/home/jonahshaw/w/trend_uncertainty/nathan/OBS_LENS//HadCRUT5/20240820//HadCRUT.5.0.2.0.analysis.anomalies.10.nc\n",
      "/glade/u/home/jonahshaw/w/trend_uncertainty/nathan/OBS_LENS//HadCRUT5/20240820//HadCRUT.5.0.2.0.analysis.anomalies.100.nc\n",
      "/glade/u/home/jonahshaw/w/trend_uncertainty/nathan/OBS_LENS//HadCRUT5/20240820//HadCRUT.5.0.2.0.analysis.anomalies.101.nc\n",
      "/glade/u/home/jonahshaw/w/trend_uncertainty/nathan/OBS_LENS//HadCRUT5/20240820//HadCRUT.5.0.2.0.analysis.anomalies.102.nc\n",
      "/glade/u/home/jonahshaw/w/trend_uncertainty/nathan/OBS_LENS//HadCRUT5/20240820//HadCRUT.5.0.2.0.analysis.anomalies.103.nc\n",
      "/glade/u/home/jonahshaw/w/trend_uncertainty/nathan/OBS_LENS//HadCRUT5/20240820//HadCRUT.5.0.2.0.analysis.anomalies.104.nc\n",
      "/glade/u/home/jonahshaw/w/trend_uncertainty/nathan/OBS_LENS//HadCRUT5/20240820//HadCRUT.5.0.2.0.analysis.anomalies.105.nc\n",
      "/glade/u/home/jonahshaw/w/trend_uncertainty/nathan/OBS_LENS//HadCRUT5/20240820//HadCRUT.5.0.2.0.analysis.anomalies.106.nc\n",
      "/glade/u/home/jonahshaw/w/trend_uncertainty/nathan/OBS_LENS//HadCRUT5/20240820//HadCRUT.5.0.2.0.analysis.anomalies.107.nc\n",
      "/glade/u/home/jonahshaw/w/trend_uncertainty/nathan/OBS_LENS//HadCRUT5/20240820//HadCRUT.5.0.2.0.analysis.anomalies.108.nc\n",
      "/glade/u/home/jonahshaw/w/trend_uncertainty/nathan/OBS_LENS//HadCRUT5/20240820//HadCRUT.5.0.2.0.analysis.anomalies.109.nc\n",
      "/glade/u/home/jonahshaw/w/trend_uncertainty/nathan/OBS_LENS//HadCRUT5/20240820//HadCRUT.5.0.2.0.analysis.anomalies.11.nc\n",
      "/glade/u/home/jonahshaw/w/trend_uncertainty/nathan/OBS_LENS//HadCRUT5/20240820//HadCRUT.5.0.2.0.analysis.anomalies.110.nc\n",
      "/glade/u/home/jonahshaw/w/trend_uncertainty/nathan/OBS_LENS//HadCRUT5/20240820//HadCRUT.5.0.2.0.analysis.anomalies.111.nc\n",
      "/glade/u/home/jonahshaw/w/trend_uncertainty/nathan/OBS_LENS//HadCRUT5/20240820//HadCRUT.5.0.2.0.analysis.anomalies.112.nc\n",
      "/glade/u/home/jonahshaw/w/trend_uncertainty/nathan/OBS_LENS//HadCRUT5/20240820//HadCRUT.5.0.2.0.analysis.anomalies.113.nc\n",
      "/glade/u/home/jonahshaw/w/trend_uncertainty/nathan/OBS_LENS//HadCRUT5/20240820//HadCRUT.5.0.2.0.analysis.anomalies.114.nc\n",
      "/glade/u/home/jonahshaw/w/trend_uncertainty/nathan/OBS_LENS//HadCRUT5/20240820//HadCRUT.5.0.2.0.analysis.anomalies.115.nc\n",
      "/glade/u/home/jonahshaw/w/trend_uncertainty/nathan/OBS_LENS//HadCRUT5/20240820//HadCRUT.5.0.2.0.analysis.anomalies.116.nc\n",
      "/glade/u/home/jonahshaw/w/trend_uncertainty/nathan/OBS_LENS//HadCRUT5/20240820//HadCRUT.5.0.2.0.analysis.anomalies.117.nc\n",
      "/glade/u/home/jonahshaw/w/trend_uncertainty/nathan/OBS_LENS//HadCRUT5/20240820//HadCRUT.5.0.2.0.analysis.anomalies.118.nc\n",
      "/glade/u/home/jonahshaw/w/trend_uncertainty/nathan/OBS_LENS//HadCRUT5/20240820//HadCRUT.5.0.2.0.analysis.anomalies.119.nc\n",
      "/glade/u/home/jonahshaw/w/trend_uncertainty/nathan/OBS_LENS//HadCRUT5/20240820//HadCRUT.5.0.2.0.analysis.anomalies.12.nc\n",
      "/glade/u/home/jonahshaw/w/trend_uncertainty/nathan/OBS_LENS//HadCRUT5/20240820//HadCRUT.5.0.2.0.analysis.anomalies.120.nc\n",
      "/glade/u/home/jonahshaw/w/trend_uncertainty/nathan/OBS_LENS//HadCRUT5/20240820//HadCRUT.5.0.2.0.analysis.anomalies.121.nc\n",
      "/glade/u/home/jonahshaw/w/trend_uncertainty/nathan/OBS_LENS//HadCRUT5/20240820//HadCRUT.5.0.2.0.analysis.anomalies.122.nc\n",
      "/glade/u/home/jonahshaw/w/trend_uncertainty/nathan/OBS_LENS//HadCRUT5/20240820//HadCRUT.5.0.2.0.analysis.anomalies.123.nc\n",
      "/glade/u/home/jonahshaw/w/trend_uncertainty/nathan/OBS_LENS//HadCRUT5/20240820//HadCRUT.5.0.2.0.analysis.anomalies.124.nc\n",
      "/glade/u/home/jonahshaw/w/trend_uncertainty/nathan/OBS_LENS//HadCRUT5/20240820//HadCRUT.5.0.2.0.analysis.anomalies.125.nc\n",
      "/glade/u/home/jonahshaw/w/trend_uncertainty/nathan/OBS_LENS//HadCRUT5/20240820//HadCRUT.5.0.2.0.analysis.anomalies.126.nc\n",
      "/glade/u/home/jonahshaw/w/trend_uncertainty/nathan/OBS_LENS//HadCRUT5/20240820//HadCRUT.5.0.2.0.analysis.anomalies.127.nc\n",
      "/glade/u/home/jonahshaw/w/trend_uncertainty/nathan/OBS_LENS//HadCRUT5/20240820//HadCRUT.5.0.2.0.analysis.anomalies.128.nc\n",
      "/glade/u/home/jonahshaw/w/trend_uncertainty/nathan/OBS_LENS//HadCRUT5/20240820//HadCRUT.5.0.2.0.analysis.anomalies.129.nc\n",
      "/glade/u/home/jonahshaw/w/trend_uncertainty/nathan/OBS_LENS//HadCRUT5/20240820//HadCRUT.5.0.2.0.analysis.anomalies.13.nc\n",
      "/glade/u/home/jonahshaw/w/trend_uncertainty/nathan/OBS_LENS//HadCRUT5/20240820//HadCRUT.5.0.2.0.analysis.anomalies.130.nc\n",
      "/glade/u/home/jonahshaw/w/trend_uncertainty/nathan/OBS_LENS//HadCRUT5/20240820//HadCRUT.5.0.2.0.analysis.anomalies.131.nc\n",
      "/glade/u/home/jonahshaw/w/trend_uncertainty/nathan/OBS_LENS//HadCRUT5/20240820//HadCRUT.5.0.2.0.analysis.anomalies.132.nc\n",
      "/glade/u/home/jonahshaw/w/trend_uncertainty/nathan/OBS_LENS//HadCRUT5/20240820//HadCRUT.5.0.2.0.analysis.anomalies.133.nc\n",
      "/glade/u/home/jonahshaw/w/trend_uncertainty/nathan/OBS_LENS//HadCRUT5/20240820//HadCRUT.5.0.2.0.analysis.anomalies.134.nc\n",
      "/glade/u/home/jonahshaw/w/trend_uncertainty/nathan/OBS_LENS//HadCRUT5/20240820//HadCRUT.5.0.2.0.analysis.anomalies.135.nc\n",
      "/glade/u/home/jonahshaw/w/trend_uncertainty/nathan/OBS_LENS//HadCRUT5/20240820//HadCRUT.5.0.2.0.analysis.anomalies.136.nc\n",
      "/glade/u/home/jonahshaw/w/trend_uncertainty/nathan/OBS_LENS//HadCRUT5/20240820//HadCRUT.5.0.2.0.analysis.anomalies.137.nc\n",
      "/glade/u/home/jonahshaw/w/trend_uncertainty/nathan/OBS_LENS//HadCRUT5/20240820//HadCRUT.5.0.2.0.analysis.anomalies.138.nc\n",
      "/glade/u/home/jonahshaw/w/trend_uncertainty/nathan/OBS_LENS//HadCRUT5/20240820//HadCRUT.5.0.2.0.analysis.anomalies.139.nc\n",
      "/glade/u/home/jonahshaw/w/trend_uncertainty/nathan/OBS_LENS//HadCRUT5/20240820//HadCRUT.5.0.2.0.analysis.anomalies.14.nc\n",
      "/glade/u/home/jonahshaw/w/trend_uncertainty/nathan/OBS_LENS//HadCRUT5/20240820//HadCRUT.5.0.2.0.analysis.anomalies.140.nc\n",
      "/glade/u/home/jonahshaw/w/trend_uncertainty/nathan/OBS_LENS//HadCRUT5/20240820//HadCRUT.5.0.2.0.analysis.anomalies.141.nc\n",
      "/glade/u/home/jonahshaw/w/trend_uncertainty/nathan/OBS_LENS//HadCRUT5/20240820//HadCRUT.5.0.2.0.analysis.anomalies.142.nc\n",
      "/glade/u/home/jonahshaw/w/trend_uncertainty/nathan/OBS_LENS//HadCRUT5/20240820//HadCRUT.5.0.2.0.analysis.anomalies.143.nc\n",
      "/glade/u/home/jonahshaw/w/trend_uncertainty/nathan/OBS_LENS//HadCRUT5/20240820//HadCRUT.5.0.2.0.analysis.anomalies.144.nc\n",
      "/glade/u/home/jonahshaw/w/trend_uncertainty/nathan/OBS_LENS//HadCRUT5/20240820//HadCRUT.5.0.2.0.analysis.anomalies.145.nc\n",
      "/glade/u/home/jonahshaw/w/trend_uncertainty/nathan/OBS_LENS//HadCRUT5/20240820//HadCRUT.5.0.2.0.analysis.anomalies.146.nc\n",
      "/glade/u/home/jonahshaw/w/trend_uncertainty/nathan/OBS_LENS//HadCRUT5/20240820//HadCRUT.5.0.2.0.analysis.anomalies.147.nc\n",
      "/glade/u/home/jonahshaw/w/trend_uncertainty/nathan/OBS_LENS//HadCRUT5/20240820//HadCRUT.5.0.2.0.analysis.anomalies.148.nc\n",
      "/glade/u/home/jonahshaw/w/trend_uncertainty/nathan/OBS_LENS//HadCRUT5/20240820//HadCRUT.5.0.2.0.analysis.anomalies.149.nc\n",
      "/glade/u/home/jonahshaw/w/trend_uncertainty/nathan/OBS_LENS//HadCRUT5/20240820//HadCRUT.5.0.2.0.analysis.anomalies.15.nc\n",
      "/glade/u/home/jonahshaw/w/trend_uncertainty/nathan/OBS_LENS//HadCRUT5/20240820//HadCRUT.5.0.2.0.analysis.anomalies.150.nc\n",
      "/glade/u/home/jonahshaw/w/trend_uncertainty/nathan/OBS_LENS//HadCRUT5/20240820//HadCRUT.5.0.2.0.analysis.anomalies.151.nc\n",
      "/glade/u/home/jonahshaw/w/trend_uncertainty/nathan/OBS_LENS//HadCRUT5/20240820//HadCRUT.5.0.2.0.analysis.anomalies.152.nc\n",
      "/glade/u/home/jonahshaw/w/trend_uncertainty/nathan/OBS_LENS//HadCRUT5/20240820//HadCRUT.5.0.2.0.analysis.anomalies.153.nc\n",
      "/glade/u/home/jonahshaw/w/trend_uncertainty/nathan/OBS_LENS//HadCRUT5/20240820//HadCRUT.5.0.2.0.analysis.anomalies.154.nc\n",
      "/glade/u/home/jonahshaw/w/trend_uncertainty/nathan/OBS_LENS//HadCRUT5/20240820//HadCRUT.5.0.2.0.analysis.anomalies.155.nc\n",
      "/glade/u/home/jonahshaw/w/trend_uncertainty/nathan/OBS_LENS//HadCRUT5/20240820//HadCRUT.5.0.2.0.analysis.anomalies.156.nc\n",
      "/glade/u/home/jonahshaw/w/trend_uncertainty/nathan/OBS_LENS//HadCRUT5/20240820//HadCRUT.5.0.2.0.analysis.anomalies.157.nc\n",
      "/glade/u/home/jonahshaw/w/trend_uncertainty/nathan/OBS_LENS//HadCRUT5/20240820//HadCRUT.5.0.2.0.analysis.anomalies.158.nc\n",
      "/glade/u/home/jonahshaw/w/trend_uncertainty/nathan/OBS_LENS//HadCRUT5/20240820//HadCRUT.5.0.2.0.analysis.anomalies.159.nc\n",
      "/glade/u/home/jonahshaw/w/trend_uncertainty/nathan/OBS_LENS//HadCRUT5/20240820//HadCRUT.5.0.2.0.analysis.anomalies.16.nc\n",
      "/glade/u/home/jonahshaw/w/trend_uncertainty/nathan/OBS_LENS//HadCRUT5/20240820//HadCRUT.5.0.2.0.analysis.anomalies.160.nc\n",
      "/glade/u/home/jonahshaw/w/trend_uncertainty/nathan/OBS_LENS//HadCRUT5/20240820//HadCRUT.5.0.2.0.analysis.anomalies.161.nc\n",
      "/glade/u/home/jonahshaw/w/trend_uncertainty/nathan/OBS_LENS//HadCRUT5/20240820//HadCRUT.5.0.2.0.analysis.anomalies.162.nc\n",
      "/glade/u/home/jonahshaw/w/trend_uncertainty/nathan/OBS_LENS//HadCRUT5/20240820//HadCRUT.5.0.2.0.analysis.anomalies.163.nc\n",
      "/glade/u/home/jonahshaw/w/trend_uncertainty/nathan/OBS_LENS//HadCRUT5/20240820//HadCRUT.5.0.2.0.analysis.anomalies.164.nc\n",
      "/glade/u/home/jonahshaw/w/trend_uncertainty/nathan/OBS_LENS//HadCRUT5/20240820//HadCRUT.5.0.2.0.analysis.anomalies.165.nc\n",
      "/glade/u/home/jonahshaw/w/trend_uncertainty/nathan/OBS_LENS//HadCRUT5/20240820//HadCRUT.5.0.2.0.analysis.anomalies.166.nc\n",
      "/glade/u/home/jonahshaw/w/trend_uncertainty/nathan/OBS_LENS//HadCRUT5/20240820//HadCRUT.5.0.2.0.analysis.anomalies.167.nc\n",
      "/glade/u/home/jonahshaw/w/trend_uncertainty/nathan/OBS_LENS//HadCRUT5/20240820//HadCRUT.5.0.2.0.analysis.anomalies.168.nc\n",
      "/glade/u/home/jonahshaw/w/trend_uncertainty/nathan/OBS_LENS//HadCRUT5/20240820//HadCRUT.5.0.2.0.analysis.anomalies.169.nc\n",
      "/glade/u/home/jonahshaw/w/trend_uncertainty/nathan/OBS_LENS//HadCRUT5/20240820//HadCRUT.5.0.2.0.analysis.anomalies.17.nc\n",
      "/glade/u/home/jonahshaw/w/trend_uncertainty/nathan/OBS_LENS//HadCRUT5/20240820//HadCRUT.5.0.2.0.analysis.anomalies.170.nc\n",
      "/glade/u/home/jonahshaw/w/trend_uncertainty/nathan/OBS_LENS//HadCRUT5/20240820//HadCRUT.5.0.2.0.analysis.anomalies.171.nc\n",
      "/glade/u/home/jonahshaw/w/trend_uncertainty/nathan/OBS_LENS//HadCRUT5/20240820//HadCRUT.5.0.2.0.analysis.anomalies.172.nc\n",
      "/glade/u/home/jonahshaw/w/trend_uncertainty/nathan/OBS_LENS//HadCRUT5/20240820//HadCRUT.5.0.2.0.analysis.anomalies.173.nc\n",
      "/glade/u/home/jonahshaw/w/trend_uncertainty/nathan/OBS_LENS//HadCRUT5/20240820//HadCRUT.5.0.2.0.analysis.anomalies.174.nc\n",
      "/glade/u/home/jonahshaw/w/trend_uncertainty/nathan/OBS_LENS//HadCRUT5/20240820//HadCRUT.5.0.2.0.analysis.anomalies.175.nc\n",
      "/glade/u/home/jonahshaw/w/trend_uncertainty/nathan/OBS_LENS//HadCRUT5/20240820//HadCRUT.5.0.2.0.analysis.anomalies.176.nc\n",
      "/glade/u/home/jonahshaw/w/trend_uncertainty/nathan/OBS_LENS//HadCRUT5/20240820//HadCRUT.5.0.2.0.analysis.anomalies.177.nc\n",
      "/glade/u/home/jonahshaw/w/trend_uncertainty/nathan/OBS_LENS//HadCRUT5/20240820//HadCRUT.5.0.2.0.analysis.anomalies.178.nc\n",
      "/glade/u/home/jonahshaw/w/trend_uncertainty/nathan/OBS_LENS//HadCRUT5/20240820//HadCRUT.5.0.2.0.analysis.anomalies.179.nc\n",
      "/glade/u/home/jonahshaw/w/trend_uncertainty/nathan/OBS_LENS//HadCRUT5/20240820//HadCRUT.5.0.2.0.analysis.anomalies.18.nc\n",
      "/glade/u/home/jonahshaw/w/trend_uncertainty/nathan/OBS_LENS//HadCRUT5/20240820//HadCRUT.5.0.2.0.analysis.anomalies.180.nc\n",
      "/glade/u/home/jonahshaw/w/trend_uncertainty/nathan/OBS_LENS//HadCRUT5/20240820//HadCRUT.5.0.2.0.analysis.anomalies.181.nc\n",
      "/glade/u/home/jonahshaw/w/trend_uncertainty/nathan/OBS_LENS//HadCRUT5/20240820//HadCRUT.5.0.2.0.analysis.anomalies.182.nc\n",
      "/glade/u/home/jonahshaw/w/trend_uncertainty/nathan/OBS_LENS//HadCRUT5/20240820//HadCRUT.5.0.2.0.analysis.anomalies.183.nc\n",
      "/glade/u/home/jonahshaw/w/trend_uncertainty/nathan/OBS_LENS//HadCRUT5/20240820//HadCRUT.5.0.2.0.analysis.anomalies.184.nc\n",
      "/glade/u/home/jonahshaw/w/trend_uncertainty/nathan/OBS_LENS//HadCRUT5/20240820//HadCRUT.5.0.2.0.analysis.anomalies.185.nc\n",
      "/glade/u/home/jonahshaw/w/trend_uncertainty/nathan/OBS_LENS//HadCRUT5/20240820//HadCRUT.5.0.2.0.analysis.anomalies.186.nc\n",
      "/glade/u/home/jonahshaw/w/trend_uncertainty/nathan/OBS_LENS//HadCRUT5/20240820//HadCRUT.5.0.2.0.analysis.anomalies.187.nc\n",
      "/glade/u/home/jonahshaw/w/trend_uncertainty/nathan/OBS_LENS//HadCRUT5/20240820//HadCRUT.5.0.2.0.analysis.anomalies.188.nc\n",
      "/glade/u/home/jonahshaw/w/trend_uncertainty/nathan/OBS_LENS//HadCRUT5/20240820//HadCRUT.5.0.2.0.analysis.anomalies.189.nc\n",
      "/glade/u/home/jonahshaw/w/trend_uncertainty/nathan/OBS_LENS//HadCRUT5/20240820//HadCRUT.5.0.2.0.analysis.anomalies.19.nc\n",
      "/glade/u/home/jonahshaw/w/trend_uncertainty/nathan/OBS_LENS//HadCRUT5/20240820//HadCRUT.5.0.2.0.analysis.anomalies.190.nc\n",
      "/glade/u/home/jonahshaw/w/trend_uncertainty/nathan/OBS_LENS//HadCRUT5/20240820//HadCRUT.5.0.2.0.analysis.anomalies.191.nc\n",
      "/glade/u/home/jonahshaw/w/trend_uncertainty/nathan/OBS_LENS//HadCRUT5/20240820//HadCRUT.5.0.2.0.analysis.anomalies.192.nc\n",
      "/glade/u/home/jonahshaw/w/trend_uncertainty/nathan/OBS_LENS//HadCRUT5/20240820//HadCRUT.5.0.2.0.analysis.anomalies.193.nc\n",
      "/glade/u/home/jonahshaw/w/trend_uncertainty/nathan/OBS_LENS//HadCRUT5/20240820//HadCRUT.5.0.2.0.analysis.anomalies.194.nc\n",
      "/glade/u/home/jonahshaw/w/trend_uncertainty/nathan/OBS_LENS//HadCRUT5/20240820//HadCRUT.5.0.2.0.analysis.anomalies.195.nc\n",
      "/glade/u/home/jonahshaw/w/trend_uncertainty/nathan/OBS_LENS//HadCRUT5/20240820//HadCRUT.5.0.2.0.analysis.anomalies.196.nc\n",
      "/glade/u/home/jonahshaw/w/trend_uncertainty/nathan/OBS_LENS//HadCRUT5/20240820//HadCRUT.5.0.2.0.analysis.anomalies.197.nc\n",
      "/glade/u/home/jonahshaw/w/trend_uncertainty/nathan/OBS_LENS//HadCRUT5/20240820//HadCRUT.5.0.2.0.analysis.anomalies.198.nc\n",
      "/glade/u/home/jonahshaw/w/trend_uncertainty/nathan/OBS_LENS//HadCRUT5/20240820//HadCRUT.5.0.2.0.analysis.anomalies.199.nc\n",
      "/glade/u/home/jonahshaw/w/trend_uncertainty/nathan/OBS_LENS//HadCRUT5/20240820//HadCRUT.5.0.2.0.analysis.anomalies.2.nc\n",
      "/glade/u/home/jonahshaw/w/trend_uncertainty/nathan/OBS_LENS//HadCRUT5/20240820//HadCRUT.5.0.2.0.analysis.anomalies.20.nc\n",
      "/glade/u/home/jonahshaw/w/trend_uncertainty/nathan/OBS_LENS//HadCRUT5/20240820//HadCRUT.5.0.2.0.analysis.anomalies.200.nc\n",
      "/glade/u/home/jonahshaw/w/trend_uncertainty/nathan/OBS_LENS//HadCRUT5/20240820//HadCRUT.5.0.2.0.analysis.anomalies.21.nc\n",
      "/glade/u/home/jonahshaw/w/trend_uncertainty/nathan/OBS_LENS//HadCRUT5/20240820//HadCRUT.5.0.2.0.analysis.anomalies.22.nc\n",
      "/glade/u/home/jonahshaw/w/trend_uncertainty/nathan/OBS_LENS//HadCRUT5/20240820//HadCRUT.5.0.2.0.analysis.anomalies.23.nc\n",
      "/glade/u/home/jonahshaw/w/trend_uncertainty/nathan/OBS_LENS//HadCRUT5/20240820//HadCRUT.5.0.2.0.analysis.anomalies.24.nc\n",
      "/glade/u/home/jonahshaw/w/trend_uncertainty/nathan/OBS_LENS//HadCRUT5/20240820//HadCRUT.5.0.2.0.analysis.anomalies.25.nc\n",
      "/glade/u/home/jonahshaw/w/trend_uncertainty/nathan/OBS_LENS//HadCRUT5/20240820//HadCRUT.5.0.2.0.analysis.anomalies.26.nc\n",
      "/glade/u/home/jonahshaw/w/trend_uncertainty/nathan/OBS_LENS//HadCRUT5/20240820//HadCRUT.5.0.2.0.analysis.anomalies.27.nc\n",
      "/glade/u/home/jonahshaw/w/trend_uncertainty/nathan/OBS_LENS//HadCRUT5/20240820//HadCRUT.5.0.2.0.analysis.anomalies.28.nc\n",
      "/glade/u/home/jonahshaw/w/trend_uncertainty/nathan/OBS_LENS//HadCRUT5/20240820//HadCRUT.5.0.2.0.analysis.anomalies.29.nc\n",
      "/glade/u/home/jonahshaw/w/trend_uncertainty/nathan/OBS_LENS//HadCRUT5/20240820//HadCRUT.5.0.2.0.analysis.anomalies.3.nc\n",
      "/glade/u/home/jonahshaw/w/trend_uncertainty/nathan/OBS_LENS//HadCRUT5/20240820//HadCRUT.5.0.2.0.analysis.anomalies.30.nc\n",
      "/glade/u/home/jonahshaw/w/trend_uncertainty/nathan/OBS_LENS//HadCRUT5/20240820//HadCRUT.5.0.2.0.analysis.anomalies.31.nc\n",
      "/glade/u/home/jonahshaw/w/trend_uncertainty/nathan/OBS_LENS//HadCRUT5/20240820//HadCRUT.5.0.2.0.analysis.anomalies.32.nc\n",
      "/glade/u/home/jonahshaw/w/trend_uncertainty/nathan/OBS_LENS//HadCRUT5/20240820//HadCRUT.5.0.2.0.analysis.anomalies.33.nc\n",
      "/glade/u/home/jonahshaw/w/trend_uncertainty/nathan/OBS_LENS//HadCRUT5/20240820//HadCRUT.5.0.2.0.analysis.anomalies.34.nc\n",
      "/glade/u/home/jonahshaw/w/trend_uncertainty/nathan/OBS_LENS//HadCRUT5/20240820//HadCRUT.5.0.2.0.analysis.anomalies.35.nc\n",
      "/glade/u/home/jonahshaw/w/trend_uncertainty/nathan/OBS_LENS//HadCRUT5/20240820//HadCRUT.5.0.2.0.analysis.anomalies.36.nc\n",
      "/glade/u/home/jonahshaw/w/trend_uncertainty/nathan/OBS_LENS//HadCRUT5/20240820//HadCRUT.5.0.2.0.analysis.anomalies.37.nc\n",
      "/glade/u/home/jonahshaw/w/trend_uncertainty/nathan/OBS_LENS//HadCRUT5/20240820//HadCRUT.5.0.2.0.analysis.anomalies.38.nc\n",
      "/glade/u/home/jonahshaw/w/trend_uncertainty/nathan/OBS_LENS//HadCRUT5/20240820//HadCRUT.5.0.2.0.analysis.anomalies.39.nc\n",
      "/glade/u/home/jonahshaw/w/trend_uncertainty/nathan/OBS_LENS//HadCRUT5/20240820//HadCRUT.5.0.2.0.analysis.anomalies.4.nc\n",
      "/glade/u/home/jonahshaw/w/trend_uncertainty/nathan/OBS_LENS//HadCRUT5/20240820//HadCRUT.5.0.2.0.analysis.anomalies.40.nc\n",
      "/glade/u/home/jonahshaw/w/trend_uncertainty/nathan/OBS_LENS//HadCRUT5/20240820//HadCRUT.5.0.2.0.analysis.anomalies.41.nc\n",
      "/glade/u/home/jonahshaw/w/trend_uncertainty/nathan/OBS_LENS//HadCRUT5/20240820//HadCRUT.5.0.2.0.analysis.anomalies.42.nc\n",
      "/glade/u/home/jonahshaw/w/trend_uncertainty/nathan/OBS_LENS//HadCRUT5/20240820//HadCRUT.5.0.2.0.analysis.anomalies.43.nc\n",
      "/glade/u/home/jonahshaw/w/trend_uncertainty/nathan/OBS_LENS//HadCRUT5/20240820//HadCRUT.5.0.2.0.analysis.anomalies.44.nc\n",
      "/glade/u/home/jonahshaw/w/trend_uncertainty/nathan/OBS_LENS//HadCRUT5/20240820//HadCRUT.5.0.2.0.analysis.anomalies.45.nc\n",
      "/glade/u/home/jonahshaw/w/trend_uncertainty/nathan/OBS_LENS//HadCRUT5/20240820//HadCRUT.5.0.2.0.analysis.anomalies.46.nc\n",
      "/glade/u/home/jonahshaw/w/trend_uncertainty/nathan/OBS_LENS//HadCRUT5/20240820//HadCRUT.5.0.2.0.analysis.anomalies.47.nc\n",
      "/glade/u/home/jonahshaw/w/trend_uncertainty/nathan/OBS_LENS//HadCRUT5/20240820//HadCRUT.5.0.2.0.analysis.anomalies.48.nc\n",
      "/glade/u/home/jonahshaw/w/trend_uncertainty/nathan/OBS_LENS//HadCRUT5/20240820//HadCRUT.5.0.2.0.analysis.anomalies.49.nc\n",
      "/glade/u/home/jonahshaw/w/trend_uncertainty/nathan/OBS_LENS//HadCRUT5/20240820//HadCRUT.5.0.2.0.analysis.anomalies.5.nc\n",
      "/glade/u/home/jonahshaw/w/trend_uncertainty/nathan/OBS_LENS//HadCRUT5/20240820//HadCRUT.5.0.2.0.analysis.anomalies.50.nc\n",
      "/glade/u/home/jonahshaw/w/trend_uncertainty/nathan/OBS_LENS//HadCRUT5/20240820//HadCRUT.5.0.2.0.analysis.anomalies.51.nc\n",
      "/glade/u/home/jonahshaw/w/trend_uncertainty/nathan/OBS_LENS//HadCRUT5/20240820//HadCRUT.5.0.2.0.analysis.anomalies.52.nc\n",
      "/glade/u/home/jonahshaw/w/trend_uncertainty/nathan/OBS_LENS//HadCRUT5/20240820//HadCRUT.5.0.2.0.analysis.anomalies.53.nc\n",
      "/glade/u/home/jonahshaw/w/trend_uncertainty/nathan/OBS_LENS//HadCRUT5/20240820//HadCRUT.5.0.2.0.analysis.anomalies.54.nc\n",
      "/glade/u/home/jonahshaw/w/trend_uncertainty/nathan/OBS_LENS//HadCRUT5/20240820//HadCRUT.5.0.2.0.analysis.anomalies.55.nc\n",
      "/glade/u/home/jonahshaw/w/trend_uncertainty/nathan/OBS_LENS//HadCRUT5/20240820//HadCRUT.5.0.2.0.analysis.anomalies.56.nc\n",
      "/glade/u/home/jonahshaw/w/trend_uncertainty/nathan/OBS_LENS//HadCRUT5/20240820//HadCRUT.5.0.2.0.analysis.anomalies.57.nc\n",
      "/glade/u/home/jonahshaw/w/trend_uncertainty/nathan/OBS_LENS//HadCRUT5/20240820//HadCRUT.5.0.2.0.analysis.anomalies.58.nc\n",
      "/glade/u/home/jonahshaw/w/trend_uncertainty/nathan/OBS_LENS//HadCRUT5/20240820//HadCRUT.5.0.2.0.analysis.anomalies.59.nc\n",
      "/glade/u/home/jonahshaw/w/trend_uncertainty/nathan/OBS_LENS//HadCRUT5/20240820//HadCRUT.5.0.2.0.analysis.anomalies.6.nc\n",
      "/glade/u/home/jonahshaw/w/trend_uncertainty/nathan/OBS_LENS//HadCRUT5/20240820//HadCRUT.5.0.2.0.analysis.anomalies.60.nc\n",
      "/glade/u/home/jonahshaw/w/trend_uncertainty/nathan/OBS_LENS//HadCRUT5/20240820//HadCRUT.5.0.2.0.analysis.anomalies.61.nc\n",
      "/glade/u/home/jonahshaw/w/trend_uncertainty/nathan/OBS_LENS//HadCRUT5/20240820//HadCRUT.5.0.2.0.analysis.anomalies.62.nc\n",
      "/glade/u/home/jonahshaw/w/trend_uncertainty/nathan/OBS_LENS//HadCRUT5/20240820//HadCRUT.5.0.2.0.analysis.anomalies.63.nc\n",
      "/glade/u/home/jonahshaw/w/trend_uncertainty/nathan/OBS_LENS//HadCRUT5/20240820//HadCRUT.5.0.2.0.analysis.anomalies.64.nc\n",
      "/glade/u/home/jonahshaw/w/trend_uncertainty/nathan/OBS_LENS//HadCRUT5/20240820//HadCRUT.5.0.2.0.analysis.anomalies.65.nc\n",
      "/glade/u/home/jonahshaw/w/trend_uncertainty/nathan/OBS_LENS//HadCRUT5/20240820//HadCRUT.5.0.2.0.analysis.anomalies.66.nc\n",
      "/glade/u/home/jonahshaw/w/trend_uncertainty/nathan/OBS_LENS//HadCRUT5/20240820//HadCRUT.5.0.2.0.analysis.anomalies.67.nc\n",
      "/glade/u/home/jonahshaw/w/trend_uncertainty/nathan/OBS_LENS//HadCRUT5/20240820//HadCRUT.5.0.2.0.analysis.anomalies.68.nc\n",
      "/glade/u/home/jonahshaw/w/trend_uncertainty/nathan/OBS_LENS//HadCRUT5/20240820//HadCRUT.5.0.2.0.analysis.anomalies.69.nc\n",
      "/glade/u/home/jonahshaw/w/trend_uncertainty/nathan/OBS_LENS//HadCRUT5/20240820//HadCRUT.5.0.2.0.analysis.anomalies.7.nc\n",
      "/glade/u/home/jonahshaw/w/trend_uncertainty/nathan/OBS_LENS//HadCRUT5/20240820//HadCRUT.5.0.2.0.analysis.anomalies.70.nc\n",
      "/glade/u/home/jonahshaw/w/trend_uncertainty/nathan/OBS_LENS//HadCRUT5/20240820//HadCRUT.5.0.2.0.analysis.anomalies.71.nc\n",
      "/glade/u/home/jonahshaw/w/trend_uncertainty/nathan/OBS_LENS//HadCRUT5/20240820//HadCRUT.5.0.2.0.analysis.anomalies.72.nc\n",
      "/glade/u/home/jonahshaw/w/trend_uncertainty/nathan/OBS_LENS//HadCRUT5/20240820//HadCRUT.5.0.2.0.analysis.anomalies.73.nc\n",
      "/glade/u/home/jonahshaw/w/trend_uncertainty/nathan/OBS_LENS//HadCRUT5/20240820//HadCRUT.5.0.2.0.analysis.anomalies.74.nc\n",
      "/glade/u/home/jonahshaw/w/trend_uncertainty/nathan/OBS_LENS//HadCRUT5/20240820//HadCRUT.5.0.2.0.analysis.anomalies.75.nc\n",
      "/glade/u/home/jonahshaw/w/trend_uncertainty/nathan/OBS_LENS//HadCRUT5/20240820//HadCRUT.5.0.2.0.analysis.anomalies.76.nc\n",
      "/glade/u/home/jonahshaw/w/trend_uncertainty/nathan/OBS_LENS//HadCRUT5/20240820//HadCRUT.5.0.2.0.analysis.anomalies.77.nc\n",
      "/glade/u/home/jonahshaw/w/trend_uncertainty/nathan/OBS_LENS//HadCRUT5/20240820//HadCRUT.5.0.2.0.analysis.anomalies.78.nc\n",
      "/glade/u/home/jonahshaw/w/trend_uncertainty/nathan/OBS_LENS//HadCRUT5/20240820//HadCRUT.5.0.2.0.analysis.anomalies.79.nc\n",
      "/glade/u/home/jonahshaw/w/trend_uncertainty/nathan/OBS_LENS//HadCRUT5/20240820//HadCRUT.5.0.2.0.analysis.anomalies.8.nc\n",
      "/glade/u/home/jonahshaw/w/trend_uncertainty/nathan/OBS_LENS//HadCRUT5/20240820//HadCRUT.5.0.2.0.analysis.anomalies.80.nc\n",
      "/glade/u/home/jonahshaw/w/trend_uncertainty/nathan/OBS_LENS//HadCRUT5/20240820//HadCRUT.5.0.2.0.analysis.anomalies.81.nc\n",
      "/glade/u/home/jonahshaw/w/trend_uncertainty/nathan/OBS_LENS//HadCRUT5/20240820//HadCRUT.5.0.2.0.analysis.anomalies.82.nc\n",
      "/glade/u/home/jonahshaw/w/trend_uncertainty/nathan/OBS_LENS//HadCRUT5/20240820//HadCRUT.5.0.2.0.analysis.anomalies.83.nc\n",
      "/glade/u/home/jonahshaw/w/trend_uncertainty/nathan/OBS_LENS//HadCRUT5/20240820//HadCRUT.5.0.2.0.analysis.anomalies.84.nc\n",
      "/glade/u/home/jonahshaw/w/trend_uncertainty/nathan/OBS_LENS//HadCRUT5/20240820//HadCRUT.5.0.2.0.analysis.anomalies.85.nc\n",
      "/glade/u/home/jonahshaw/w/trend_uncertainty/nathan/OBS_LENS//HadCRUT5/20240820//HadCRUT.5.0.2.0.analysis.anomalies.86.nc\n",
      "/glade/u/home/jonahshaw/w/trend_uncertainty/nathan/OBS_LENS//HadCRUT5/20240820//HadCRUT.5.0.2.0.analysis.anomalies.87.nc\n",
      "/glade/u/home/jonahshaw/w/trend_uncertainty/nathan/OBS_LENS//HadCRUT5/20240820//HadCRUT.5.0.2.0.analysis.anomalies.88.nc\n",
      "/glade/u/home/jonahshaw/w/trend_uncertainty/nathan/OBS_LENS//HadCRUT5/20240820//HadCRUT.5.0.2.0.analysis.anomalies.89.nc\n",
      "/glade/u/home/jonahshaw/w/trend_uncertainty/nathan/OBS_LENS//HadCRUT5/20240820//HadCRUT.5.0.2.0.analysis.anomalies.9.nc\n",
      "/glade/u/home/jonahshaw/w/trend_uncertainty/nathan/OBS_LENS//HadCRUT5/20240820//HadCRUT.5.0.2.0.analysis.anomalies.90.nc\n",
      "/glade/u/home/jonahshaw/w/trend_uncertainty/nathan/OBS_LENS//HadCRUT5/20240820//HadCRUT.5.0.2.0.analysis.anomalies.91.nc\n",
      "/glade/u/home/jonahshaw/w/trend_uncertainty/nathan/OBS_LENS//HadCRUT5/20240820//HadCRUT.5.0.2.0.analysis.anomalies.92.nc\n",
      "/glade/u/home/jonahshaw/w/trend_uncertainty/nathan/OBS_LENS//HadCRUT5/20240820//HadCRUT.5.0.2.0.analysis.anomalies.93.nc\n",
      "/glade/u/home/jonahshaw/w/trend_uncertainty/nathan/OBS_LENS//HadCRUT5/20240820//HadCRUT.5.0.2.0.analysis.anomalies.94.nc\n",
      "/glade/u/home/jonahshaw/w/trend_uncertainty/nathan/OBS_LENS//HadCRUT5/20240820//HadCRUT.5.0.2.0.analysis.anomalies.95.nc\n",
      "/glade/u/home/jonahshaw/w/trend_uncertainty/nathan/OBS_LENS//HadCRUT5/20240820//HadCRUT.5.0.2.0.analysis.anomalies.96.nc\n",
      "/glade/u/home/jonahshaw/w/trend_uncertainty/nathan/OBS_LENS//HadCRUT5/20240820//HadCRUT.5.0.2.0.analysis.anomalies.97.nc\n",
      "/glade/u/home/jonahshaw/w/trend_uncertainty/nathan/OBS_LENS//HadCRUT5/20240820//HadCRUT.5.0.2.0.analysis.anomalies.98.nc\n",
      "/glade/u/home/jonahshaw/w/trend_uncertainty/nathan/OBS_LENS//HadCRUT5/20240820//HadCRUT.5.0.2.0.analysis.anomalies.99.nc\n",
      "CPU times: user 8min 54s, sys: 3min 41s, total: 12min 36s\n",
      "Wall time: 13min 56s\n"
     ]
    }
   ],
   "source": [
    "%%time\n",
    "\n",
    "model_subdir = 'HadCRUT5/20240820/'\n",
    "\n",
    "if not os.path.exists(os.path.join(save_dir,model_subdir)):\n",
    "    os.makedirs(os.path.join(save_dir,model_subdir))\n",
    "\n",
    "# Variable to select and operate over.\n",
    "_ds_var = hadcrut5_tas_var\n",
    "\n",
    "for _ds_filepath in hadcrut5_files:\n",
    "\n",
    "    _regional_tseries_delayed = create_ipccregion_timeseries(_ds_filepath=_ds_filepath,\n",
    "                                                             _ds_var=_ds_var,\n",
    "                                                             regions=regionmask.defined_regions.ar6.all,\n",
    "                                                             cesm=False,\n",
    "                                                             ufunc=hadcrut5_tselect,\n",
    "                                                             lon_name='longitude',\n",
    "                                                             lat_name='latitude',\n",
    "                                                            )\n",
    "    _regional_tseries = _regional_tseries_delayed.compute()\n",
    "    _regional_tseries = _regional_tseries.expand_dims('realization')\n",
    "    \n",
    "    filename = _ds_filepath.split('/')[-1]\n",
    "    \n",
    "    _outfilepath = '%s/%s/%s' % (save_dir,model_subdir,filename)\n",
    "    \n",
    "    _regional_tseries.to_netcdf(path=_outfilepath)\n",
    "    \n",
    "    print(_outfilepath)\n",
    "    \n",
    "    # break"
   ]
  },
  {
   "cell_type": "code",
   "execution_count": 20,
   "id": "01caaf1c-fb43-4f42-9e62-958221c26e42",
   "metadata": {},
   "outputs": [
    {
     "data": {
      "text/plain": [
       "[<matplotlib.lines.Line2D at 0x150b958ac1d0>]"
      ]
     },
     "execution_count": 20,
     "metadata": {},
     "output_type": "execute_result"
    },
    {
     "data": {
      "image/png": "[encoded data removed]",
      "text/plain": [
       "<Figure size 432x288 with 1 Axes>"
      ]
     },
     "metadata": {
      "needs_background": "light"
     },
     "output_type": "display_data"
    }
   ],
   "source": [
    "_regional_tseries.isel(RegionIndex=0).plot()"
   ]
  },
  {
   "cell_type": "code",
   "execution_count": 27,
   "id": "57d7b679-e805-4931-a3d1-08e6aa5e667c",
   "metadata": {},
   "outputs": [],
   "source": [
    "ex_hadcrut5_tseries = _regional_tseries"
   ]
  },
  {
   "cell_type": "code",
   "execution_count": null,
   "id": "016a3ce9-010d-414e-8a3b-cf08413bc456",
   "metadata": {},
   "outputs": [],
   "source": []
  },
  {
   "cell_type": "code",
   "execution_count": null,
   "id": "a7aad7f5-8550-43ed-9bac-4257c3a049d4",
   "metadata": {},
   "outputs": [],
   "source": []
  },
  {
   "cell_type": "code",
   "execution_count": 29,
   "id": "ec3d5d31-09d6-47be-b868-9ee9475c4446",
   "metadata": {},
   "outputs": [
    {
     "data": {
      "text/plain": [
       "<matplotlib.legend.Legend at 0x150b95578f50>"
      ]
     },
     "execution_count": 29,
     "metadata": {},
     "output_type": "execute_result"
    },
    {
     "data": {
      "image/png": "[encoded data removed]",
      "text/plain": [
       "<Figure size 1296x432 with 3 Axes>"
      ]
     },
     "metadata": {
      "needs_background": "light"
     },
     "output_type": "display_data"
    }
   ],
   "source": [
    "fig,axs = plt.subplots(1,2,figsize=(12,6))\n",
    "\n",
    "region_index = 1\n",
    "\n",
    "ex_hadcrut5_tseries.sel(RegionIndex=region_index).plot(color='blue',label='HadCRUT5',linestyle='dashed',ax=axs[0])\n",
    "\n",
    "ex_gistemp_5x5_tseries.sel(RegionIndex=region_index).isel(realization=0).plot(color='red',label='GISTEMP 5x5',linestyle='dashed',ax=axs[1])\n",
    "\n",
    "plt.legend()"
   ]
  },
  {
   "cell_type": "code",
   "execution_count": 24,
   "id": "a5202107-d3a2-463f-898d-412dc0b4f44b",
   "metadata": {},
   "outputs": [
    {
     "data": {
      "text/plain": [
       "DatetimeIndex(['2000-01-01 00:00:00', '2000-01-01 01:00:00',\n",
       "               '2000-01-01 02:00:00', '2000-01-01 03:00:00',\n",
       "               '2000-01-01 04:00:00', '2000-01-01 05:00:00',\n",
       "               '2000-01-01 06:00:00', '2000-01-01 07:00:00',\n",
       "               '2000-01-01 08:00:00', '2000-01-01 09:00:00',\n",
       "               ...\n",
       "               '2000-12-30 14:00:00', '2000-12-30 15:00:00',\n",
       "               '2000-12-30 16:00:00', '2000-12-30 17:00:00',\n",
       "               '2000-12-30 18:00:00', '2000-12-30 19:00:00',\n",
       "               '2000-12-30 20:00:00', '2000-12-30 21:00:00',\n",
       "               '2000-12-30 22:00:00', '2000-12-30 23:00:00'],\n",
       "              dtype='datetime64[ns]', length=8760, freq='H')"
      ]
     },
     "execution_count": 24,
     "metadata": {},
     "output_type": "execute_result"
    }
   ],
   "source": [
    "pd.date_range(\"2000-01-01\", freq=\"H\", periods=365 * 24)"
   ]
  },
  {
   "cell_type": "code",
   "execution_count": 34,
   "id": "bf96797f-3bf6-49c9-af64-c42b023c030d",
   "metadata": {},
   "outputs": [
    {
     "data": {
      "text/plain": [
       "DatetimeIndex(['1960-01-15', '1960-02-15', '1960-03-15', '1960-04-15',\n",
       "               '1960-05-15', '1960-06-15', '1960-07-15', '1960-08-15',\n",
       "               '1960-09-15', '1960-10-15',\n",
       "               ...\n",
       "               '2020-03-15', '2020-04-15', '2020-05-15', '2020-06-15',\n",
       "               '2020-07-15', '2020-08-15', '2020-09-15', '2020-10-15',\n",
       "               '2020-11-15', '2020-12-15'],\n",
       "              dtype='datetime64[ns]', length=732, freq=None)"
      ]
     },
     "execution_count": 34,
     "metadata": {},
     "output_type": "execute_result"
    }
   ],
   "source": [
    "gistemp_new_times = (pd.date_range(\"1900-01-01\", freq=\"1M\", periods=12*61)-pd.offsets.MonthBegin(1)).shift(periods=14,freq='D')"
   ]
  },
  {
   "cell_type": "code",
   "execution_count": 27,
   "id": "732cd4b7-4207-47cb-b9f7-276e8eac36df",
   "metadata": {},
   "outputs": [],
   "source": [
    "out = pd.date_range(\"1900-01-01\", freq=\"M\", periods=12*61)"
   ]
  },
  {
   "cell_type": "code",
   "execution_count": 28,
   "id": "3fce9bf3-93dc-4ef3-80b4-35485e1560de",
   "metadata": {},
   "outputs": [
    {
     "data": {
      "text/plain": [
       "DatetimeIndex(['1960-01-16', '1960-02-14', '1960-03-16', '1960-04-15',\n",
       "               '1960-05-16', '1960-06-15', '1960-07-16', '1960-08-16',\n",
       "               '1960-09-15', '1960-10-16',\n",
       "               ...\n",
       "               '2020-03-16', '2020-04-15', '2020-05-16', '2020-06-15',\n",
       "               '2020-07-16', '2020-08-16', '2020-09-15', '2020-10-16',\n",
       "               '2020-11-15', '2020-12-16'],\n",
       "              dtype='datetime64[ns]', length=732, freq=None)"
      ]
     },
     "execution_count": 28,
     "metadata": {},
     "output_type": "execute_result"
    }
   ],
   "source": [
    "out.shift(periods=-15,freq='D')"
   ]
  },
  {
   "cell_type": "code",
   "execution_count": null,
   "id": "d3a39358-5c14-44d2-932e-a6f69cb39e1b",
   "metadata": {},
   "outputs": [],
   "source": [
    "pd.date"
   ]
  },
  {
   "cell_type": "code",
   "execution_count": null,
   "id": "8c02f0cc-926d-4339-b93f-d6547ac6d5aa",
   "metadata": {},
   "outputs": [],
   "source": []
  },
  {
   "cell_type": "code",
   "execution_count": 97,
   "id": "f9abb4b4-de1f-4d84-83fd-27d5a260297c",
   "metadata": {},
   "outputs": [
    {
     "data": {
      "text/plain": [
       "[<matplotlib.lines.Line2D at 0x2b15e25fdb90>]"
      ]
     },
     "execution_count": 97,
     "metadata": {},
     "output_type": "execute_result"
    },
    {
     "data": {
      "image/png": "[encoded data removed]",
      "text/plain": [
       "<Figure size 432x288 with 1 Axes>"
      ]
     },
     "metadata": {
      "needs_background": "light"
     },
     "output_type": "display_data"
    }
   ],
   "source": [
    "_regional_tseries.sel(RegionIndex=1).plot()"
   ]
  },
  {
   "cell_type": "code",
   "execution_count": null,
   "id": "05f3336c-593d-4478-9ece-61fb47b197b3",
   "metadata": {},
   "outputs": [],
   "source": []
  },
  {
   "cell_type": "markdown",
   "id": "f11f633e-69f7-4fd2-b020-30bfbc6667bb",
   "metadata": {},
   "source": [
    "#### CESM1-CAM5 (CESM1-LE)"
   ]
  },
  {
   "cell_type": "code",
   "execution_count": 23,
   "id": "ba612d81-f0a4-48eb-85ea-61c907a519bd",
   "metadata": {
    "tags": []
   },
   "outputs": [],
   "source": [
    "model_subdir = 'CESM1/'\n",
    "\n",
    "# Variable to select and operate over.\n",
    "_ds_var = cesm1_cmor_var_dict['tas']\n",
    "\n",
    "for _ds_filepath in cesm1_pic_path_dict['tas']:\n",
    "    # break\n",
    "    _regional_tseries_delayed = create_ipccregion_timeseries(_ds_filepath=_ds_filepath,\n",
    "                                                             _ds_var=_ds_var,\n",
    "                                                             regions=regionmask.defined_regions.ar6.all,\n",
    "                                                             cesm=True,\n",
    "                                                            )\n",
    "    _regional_tseries = _regional_tseries_delayed.compute()\n",
    "    break\n",
    "    \n",
    "    filename = _ds_filepath.split('/')[-1]\n",
    "    \n",
    "    _outfilepath = '%s/%s/%s' % (save_dir,model_subdir,filename)\n",
    "    \n",
    "    _regional_tseries.to_netcdf(path=_outfilepath)\n",
    "    \n",
    "    print(_outfilepath)"
   ]
  },
  {
   "cell_type": "markdown",
   "id": "0f3f7051-ae75-43e4-8bcc-ae0eebf1adab",
   "metadata": {},
   "source": [
    "Create mask."
   ]
  },
  {
   "cell_type": "code",
   "execution_count": 14,
   "id": "78ef3ba1-d664-4224-88dd-28abc7a4c75a",
   "metadata": {},
   "outputs": [
    {
     "data": {
      "text/plain": [
       "<regionmask.Regions>\n",
       "Name:     AR6 reference regions (land only)\n",
       "Source:   Iturbide et al., 2020 (Earth Syst. Sci. Data)\n",
       "overlap:  False\n",
       "\n",
       "Regions:\n",
       "  0  GIC  Greenland/Iceland\n",
       "  1  NWN  N.W.North-America\n",
       "  2  NEN  N.E.North-America\n",
       "  3  WNA    W.North-America\n",
       "  4  CNA    C.North-America\n",
       "..   ...                ...\n",
       " 41  EAU        E.Australia\n",
       " 42  SAU        S.Australia\n",
       " 43   NZ        New-Zealand\n",
       " 44  EAN       E.Antarctica\n",
       " 45  WAN       W.Antarctica\n",
       "\n",
       "[46 regions]"
      ]
     },
     "execution_count": 14,
     "metadata": {},
     "output_type": "execute_result"
    }
   ],
   "source": [
    "regionmask.defined_regions.ar6.land"
   ]
  },
  {
   "cell_type": "code",
   "execution_count": 15,
   "id": "58d96313-f3c9-427b-b917-8171c77cca2a",
   "metadata": {},
   "outputs": [],
   "source": [
    "mask = regionmask.defined_regions.ar6.land.mask(ex_tas_da)"
   ]
  },
  {
   "cell_type": "code",
   "execution_count": 16,
   "id": "10b389bc-873f-4128-9338-7f6964961887",
   "metadata": {},
   "outputs": [],
   "source": [
    "mask_fake = regionmask.defined_regions.ar6.land.mask(mpi_lons,mpi_lats)"
   ]
  },
  {
   "cell_type": "code",
   "execution_count": null,
   "id": "54228790-400c-4b64-8a1b-a2a029b65c2d",
   "metadata": {},
   "outputs": [],
   "source": [
    "# mask_mpi = regionmask.defined_regions.ar6.land.mask(ex_mpi_tas_ds) # kills the kernel!"
   ]
  },
  {
   "cell_type": "code",
   "execution_count": 18,
   "id": "64cd4411-eed7-4625-a450-8bc9aa356fa9",
   "metadata": {},
   "outputs": [
    {
     "data": {
      "text/plain": [
       "<matplotlib.collections.QuadMesh at 0x2ba6e5a4c690>"
      ]
     },
     "execution_count": 18,
     "metadata": {},
     "output_type": "execute_result"
    },
    {
     "data": {
      "image/png": "[encoded data removed]",
      "text/plain": [
       "<Figure size 432x288 with 2 Axes>"
      ]
     },
     "metadata": {
      "needs_background": "light"
     },
     "output_type": "display_data"
    }
   ],
   "source": [
    "mask.plot()"
   ]
  },
  {
   "cell_type": "code",
   "execution_count": 16,
   "id": "b8f58ac4-8078-4b6f-b9d3-956601c51eff",
   "metadata": {},
   "outputs": [
    {
     "data": {
      "text/html": [
       "<div><svg style=\"position: absolute; width: 0; height: 0; overflow: hidden\">\n",
       "<defs>\n",
       "<symbol id=\"icon-database\" viewBox=\"0 0 32 32\">\n",
       "<path d=\"M16 0c-8.837 0-16 2.239-16 5v4c0 2.761 7.163 5 16 5s16-2.239 16-5v-4c0-2.761-7.163-5-16-5z\"></path>\n",
       "<path d=\"M16 17c-8.837 0-16-2.239-16-5v6c0 2.761 7.163 5 16 5s16-2.239 16-5v-6c0 2.761-7.163 5-16 5z\"></path>\n",
       "<path d=\"M16 26c-8.837 0-16-2.239-16-5v6c0 2.761 7.163 5 16 5s16-2.239 16-5v-6c0 2.761-7.163 5-16 5z\"></path>\n",
       "</symbol>\n",
       "<symbol id=\"icon-file-text2\" viewBox=\"0 0 32 32\">\n",
       "<path d=\"M28.681 7.159c-0.694-0.947-1.662-2.053-2.724-3.116s-2.169-2.030-3.116-2.724c-1.612-1.182-2.393-1.319-2.841-1.319h-15.5c-1.378 0-2.5 1.121-2.5 2.5v27c0 1.378 1.122 2.5 2.5 2.5h23c1.378 0 2.5-1.122 2.5-2.5v-19.5c0-0.448-0.137-1.23-1.319-2.841zM24.543 5.457c0.959 0.959 1.712 1.825 2.268 2.543h-4.811v-4.811c0.718 0.556 1.584 1.309 2.543 2.268zM28 29.5c0 0.271-0.229 0.5-0.5 0.5h-23c-0.271 0-0.5-0.229-0.5-0.5v-27c0-0.271 0.229-0.5 0.5-0.5 0 0 15.499-0 15.5 0v7c0 0.552 0.448 1 1 1h7v19.5z\"></path>\n",
       "<path d=\"M23 26h-14c-0.552 0-1-0.448-1-1s0.448-1 1-1h14c0.552 0 1 0.448 1 1s-0.448 1-1 1z\"></path>\n",
       "<path d=\"M23 22h-14c-0.552 0-1-0.448-1-1s0.448-1 1-1h14c0.552 0 1 0.448 1 1s-0.448 1-1 1z\"></path>\n",
       "<path d=\"M23 18h-14c-0.552 0-1-0.448-1-1s0.448-1 1-1h14c0.552 0 1 0.448 1 1s-0.448 1-1 1z\"></path>\n",
       "</symbol>\n",
       "</defs>\n",
       "</svg>\n",
       "<style>/* CSS stylesheet for displaying xarray objects in jupyterlab.\n",
       " *\n",
       " */\n",
       "\n",
       ":root {\n",
       "  --xr-font-color0: var(--jp-content-font-color0, rgba(0, 0, 0, 1));\n",
       "  --xr-font-color2: var(--jp-content-font-color2, rgba(0, 0, 0, 0.54));\n",
       "  --xr-font-color3: var(--jp-content-font-color3, rgba(0, 0, 0, 0.38));\n",
       "  --xr-border-color: var(--jp-border-color2, #e0e0e0);\n",
       "  --xr-disabled-color: var(--jp-layout-color3, #bdbdbd);\n",
       "  --xr-background-color: var(--jp-layout-color0, white);\n",
       "  --xr-background-color-row-even: var(--jp-layout-color1, white);\n",
       "  --xr-background-color-row-odd: var(--jp-layout-color2, #eeeeee);\n",
       "}\n",
       "\n",
       "html[theme=dark],\n",
       "body.vscode-dark {\n",
       "  --xr-font-color0: rgba(255, 255, 255, 1);\n",
       "  --xr-font-color2: rgba(255, 255, 255, 0.54);\n",
       "  --xr-font-color3: rgba(255, 255, 255, 0.38);\n",
       "  --xr-border-color: #1F1F1F;\n",
       "  --xr-disabled-color: #515151;\n",
       "  --xr-background-color: #111111;\n",
       "  --xr-background-color-row-even: #111111;\n",
       "  --xr-background-color-row-odd: #313131;\n",
       "}\n",
       "\n",
       ".xr-wrap {\n",
       "  display: block;\n",
       "  min-width: 300px;\n",
       "  max-width: 700px;\n",
       "}\n",
       "\n",
       ".xr-text-repr-fallback {\n",
       "  /* fallback to plain text repr when CSS is not injected (untrusted notebook) */\n",
       "  display: none;\n",
       "}\n",
       "\n",
       ".xr-header {\n",
       "  padding-top: 6px;\n",
       "  padding-bottom: 6px;\n",
       "  margin-bottom: 4px;\n",
       "  border-bottom: solid 1px var(--xr-border-color);\n",
       "}\n",
       "\n",
       ".xr-header > div,\n",
       ".xr-header > ul {\n",
       "  display: inline;\n",
       "  margin-top: 0;\n",
       "  margin-bottom: 0;\n",
       "}\n",
       "\n",
       ".xr-obj-type,\n",
       ".xr-array-name {\n",
       "  margin-left: 2px;\n",
       "  margin-right: 10px;\n",
       "}\n",
       "\n",
       ".xr-obj-type {\n",
       "  color: var(--xr-font-color2);\n",
       "}\n",
       "\n",
       ".xr-sections {\n",
       "  padding-left: 0 !important;\n",
       "  display: grid;\n",
       "  grid-template-columns: 150px auto auto 1fr 20px 20px;\n",
       "}\n",
       "\n",
       ".xr-section-item {\n",
       "  display: contents;\n",
       "}\n",
       "\n",
       ".xr-section-item input {\n",
       "  display: none;\n",
       "}\n",
       "\n",
       ".xr-section-item input + label {\n",
       "  color: var(--xr-disabled-color);\n",
       "}\n",
       "\n",
       ".xr-section-item input:enabled + label {\n",
       "  cursor: pointer;\n",
       "  color: var(--xr-font-color2);\n",
       "}\n",
       "\n",
       ".xr-section-item input:enabled + label:hover {\n",
       "  color: var(--xr-font-color0);\n",
       "}\n",
       "\n",
       ".xr-section-summary {\n",
       "  grid-column: 1;\n",
       "  color: var(--xr-font-color2);\n",
       "  font-weight: 500;\n",
       "}\n",
       "\n",
       ".xr-section-summary > span {\n",
       "  display: inline-block;\n",
       "  padding-left: 0.5em;\n",
       "}\n",
       "\n",
       ".xr-section-summary-in:disabled + label {\n",
       "  color: var(--xr-font-color2);\n",
       "}\n",
       "\n",
       ".xr-section-summary-in + label:before {\n",
       "  display: inline-block;\n",
       "  content: '►';\n",
       "  font-size: 11px;\n",
       "  width: 15px;\n",
       "  text-align: center;\n",
       "}\n",
       "\n",
       ".xr-section-summary-in:disabled + label:before {\n",
       "  color: var(--xr-disabled-color);\n",
       "}\n",
       "\n",
       ".xr-section-summary-in:checked + label:before {\n",
       "  content: '▼';\n",
       "}\n",
       "\n",
       ".xr-section-summary-in:checked + label > span {\n",
       "  display: none;\n",
       "}\n",
       "\n",
       ".xr-section-summary,\n",
       ".xr-section-inline-details {\n",
       "  padding-top: 4px;\n",
       "  padding-bottom: 4px;\n",
       "}\n",
       "\n",
       ".xr-section-inline-details {\n",
       "  grid-column: 2 / -1;\n",
       "}\n",
       "\n",
       ".xr-section-details {\n",
       "  display: none;\n",
       "  grid-column: 1 / -1;\n",
       "  margin-bottom: 5px;\n",
       "}\n",
       "\n",
       ".xr-section-summary-in:checked ~ .xr-section-details {\n",
       "  display: contents;\n",
       "}\n",
       "\n",
       ".xr-array-wrap {\n",
       "  grid-column: 1 / -1;\n",
       "  display: grid;\n",
       "  grid-template-columns: 20px auto;\n",
       "}\n",
       "\n",
       ".xr-array-wrap > label {\n",
       "  grid-column: 1;\n",
       "  vertical-align: top;\n",
       "}\n",
       "\n",
       ".xr-preview {\n",
       "  color: var(--xr-font-color3);\n",
       "}\n",
       "\n",
       ".xr-array-preview,\n",
       ".xr-array-data {\n",
       "  padding: 0 5px !important;\n",
       "  grid-column: 2;\n",
       "}\n",
       "\n",
       ".xr-array-data,\n",
       ".xr-array-in:checked ~ .xr-array-preview {\n",
       "  display: none;\n",
       "}\n",
       "\n",
       ".xr-array-in:checked ~ .xr-array-data,\n",
       ".xr-array-preview {\n",
       "  display: inline-block;\n",
       "}\n",
       "\n",
       ".xr-dim-list {\n",
       "  display: inline-block !important;\n",
       "  list-style: none;\n",
       "  padding: 0 !important;\n",
       "  margin: 0;\n",
       "}\n",
       "\n",
       ".xr-dim-list li {\n",
       "  display: inline-block;\n",
       "  padding: 0;\n",
       "  margin: 0;\n",
       "}\n",
       "\n",
       ".xr-dim-list:before {\n",
       "  content: '(';\n",
       "}\n",
       "\n",
       ".xr-dim-list:after {\n",
       "  content: ')';\n",
       "}\n",
       "\n",
       ".xr-dim-list li:not(:last-child):after {\n",
       "  content: ',';\n",
       "  padding-right: 5px;\n",
       "}\n",
       "\n",
       ".xr-has-index {\n",
       "  font-weight: bold;\n",
       "}\n",
       "\n",
       ".xr-var-list,\n",
       ".xr-var-item {\n",
       "  display: contents;\n",
       "}\n",
       "\n",
       ".xr-var-item > div,\n",
       ".xr-var-item label,\n",
       ".xr-var-item > .xr-var-name span {\n",
       "  background-color: var(--xr-background-color-row-even);\n",
       "  margin-bottom: 0;\n",
       "}\n",
       "\n",
       ".xr-var-item > .xr-var-name:hover span {\n",
       "  padding-right: 5px;\n",
       "}\n",
       "\n",
       ".xr-var-list > li:nth-child(odd) > div,\n",
       ".xr-var-list > li:nth-child(odd) > label,\n",
       ".xr-var-list > li:nth-child(odd) > .xr-var-name span {\n",
       "  background-color: var(--xr-background-color-row-odd);\n",
       "}\n",
       "\n",
       ".xr-var-name {\n",
       "  grid-column: 1;\n",
       "}\n",
       "\n",
       ".xr-var-dims {\n",
       "  grid-column: 2;\n",
       "}\n",
       "\n",
       ".xr-var-dtype {\n",
       "  grid-column: 3;\n",
       "  text-align: right;\n",
       "  color: var(--xr-font-color2);\n",
       "}\n",
       "\n",
       ".xr-var-preview {\n",
       "  grid-column: 4;\n",
       "}\n",
       "\n",
       ".xr-var-name,\n",
       ".xr-var-dims,\n",
       ".xr-var-dtype,\n",
       ".xr-preview,\n",
       ".xr-attrs dt {\n",
       "  white-space: nowrap;\n",
       "  overflow: hidden;\n",
       "  text-overflow: ellipsis;\n",
       "  padding-right: 10px;\n",
       "}\n",
       "\n",
       ".xr-var-name:hover,\n",
       ".xr-var-dims:hover,\n",
       ".xr-var-dtype:hover,\n",
       ".xr-attrs dt:hover {\n",
       "  overflow: visible;\n",
       "  width: auto;\n",
       "  z-index: 1;\n",
       "}\n",
       "\n",
       ".xr-var-attrs,\n",
       ".xr-var-data {\n",
       "  display: none;\n",
       "  background-color: var(--xr-background-color) !important;\n",
       "  padding-bottom: 5px !important;\n",
       "}\n",
       "\n",
       ".xr-var-attrs-in:checked ~ .xr-var-attrs,\n",
       ".xr-var-data-in:checked ~ .xr-var-data {\n",
       "  display: block;\n",
       "}\n",
       "\n",
       ".xr-var-data > table {\n",
       "  float: right;\n",
       "}\n",
       "\n",
       ".xr-var-name span,\n",
       ".xr-var-data,\n",
       ".xr-attrs {\n",
       "  padding-left: 25px !important;\n",
       "}\n",
       "\n",
       ".xr-attrs,\n",
       ".xr-var-attrs,\n",
       ".xr-var-data {\n",
       "  grid-column: 1 / -1;\n",
       "}\n",
       "\n",
       "dl.xr-attrs {\n",
       "  padding: 0;\n",
       "  margin: 0;\n",
       "  display: grid;\n",
       "  grid-template-columns: 125px auto;\n",
       "}\n",
       "\n",
       ".xr-attrs dt, dd {\n",
       "  padding: 0;\n",
       "  margin: 0;\n",
       "  float: left;\n",
       "  padding-right: 10px;\n",
       "  width: auto;\n",
       "}\n",
       "\n",
       ".xr-attrs dt {\n",
       "  font-weight: normal;\n",
       "  grid-column: 1;\n",
       "}\n",
       "\n",
       ".xr-attrs dt:hover span {\n",
       "  display: inline-block;\n",
       "  background: var(--xr-background-color);\n",
       "  padding-right: 10px;\n",
       "}\n",
       "\n",
       ".xr-attrs dd {\n",
       "  grid-column: 2;\n",
       "  white-space: pre-wrap;\n",
       "  word-break: break-all;\n",
       "}\n",
       "\n",
       ".xr-icon-database,\n",
       ".xr-icon-file-text2 {\n",
       "  display: inline-block;\n",
       "  vertical-align: middle;\n",
       "  width: 1em;\n",
       "  height: 1.5em !important;\n",
       "  stroke-width: 0;\n",
       "  stroke: currentColor;\n",
       "  fill: currentColor;\n",
       "}\n",
       "</style><pre class='xr-text-repr-fallback'>&lt;xarray.DataArray &#x27;mask&#x27; (lat: 192, lon: 288)&gt;\n",
       "array([[44., 44., 44., ..., 44., 44., 44.],\n",
       "       [44., 44., 44., ..., 44., 44., 44.],\n",
       "       [44., 44., 44., ..., 44., 44., 44.],\n",
       "       ...,\n",
       "       [nan, nan, nan, ..., nan, nan, nan],\n",
       "       [nan, nan, nan, ..., nan, nan, nan],\n",
       "       [nan, nan, nan, ..., nan, nan, nan]])\n",
       "Coordinates:\n",
       "  * lat      (lat) float64 -90.0 -89.06 -88.12 -87.17 ... 87.17 88.12 89.06 90.0\n",
       "  * lon      (lon) float64 0.0 1.25 2.5 3.75 5.0 ... 355.0 356.2 357.5 358.8</pre><div class='xr-wrap' hidden><div class='xr-header'><div class='xr-obj-type'>xarray.DataArray</div><div class='xr-array-name'>'mask'</div><ul class='xr-dim-list'><li><span class='xr-has-index'>lat</span>: 192</li><li><span class='xr-has-index'>lon</span>: 288</li></ul></div><ul class='xr-sections'><li class='xr-section-item'><div class='xr-array-wrap'><input id='section-2654a9ad-66de-410d-a717-404f5ac30ef8' class='xr-array-in' type='checkbox' checked><label for='section-2654a9ad-66de-410d-a717-404f5ac30ef8' title='Show/hide data repr'><svg class='icon xr-icon-database'><use xlink:href='#icon-database'></use></svg></label><div class='xr-array-preview xr-preview'><span>44.0 44.0 44.0 44.0 44.0 44.0 44.0 ... nan nan nan nan nan nan nan</span></div><div class='xr-array-data'><pre>array([[44., 44., 44., ..., 44., 44., 44.],\n",
       "       [44., 44., 44., ..., 44., 44., 44.],\n",
       "       [44., 44., 44., ..., 44., 44., 44.],\n",
       "       ...,\n",
       "       [nan, nan, nan, ..., nan, nan, nan],\n",
       "       [nan, nan, nan, ..., nan, nan, nan],\n",
       "       [nan, nan, nan, ..., nan, nan, nan]])</pre></div></div></li><li class='xr-section-item'><input id='section-24ca7330-4b11-41fa-99b4-13b0058a6ec2' class='xr-section-summary-in' type='checkbox'  checked><label for='section-24ca7330-4b11-41fa-99b4-13b0058a6ec2' class='xr-section-summary' >Coordinates: <span>(2)</span></label><div class='xr-section-inline-details'></div><div class='xr-section-details'><ul class='xr-var-list'><li class='xr-var-item'><div class='xr-var-name'><span class='xr-has-index'>lat</span></div><div class='xr-var-dims'>(lat)</div><div class='xr-var-dtype'>float64</div><div class='xr-var-preview xr-preview'>-90.0 -89.06 -88.12 ... 89.06 90.0</div><input id='attrs-5677a447-50cc-483a-b9e0-620998cedbc4' class='xr-var-attrs-in' type='checkbox' ><label for='attrs-5677a447-50cc-483a-b9e0-620998cedbc4' title='Show/Hide attributes'><svg class='icon xr-icon-file-text2'><use xlink:href='#icon-file-text2'></use></svg></label><input id='data-6eb554ce-5755-4897-8a1b-3f27d1436fbe' class='xr-var-data-in' type='checkbox'><label for='data-6eb554ce-5755-4897-8a1b-3f27d1436fbe' title='Show/Hide data repr'><svg class='icon xr-icon-database'><use xlink:href='#icon-database'></use></svg></label><div class='xr-var-attrs'><dl class='xr-attrs'><dt><span>long_name :</span></dt><dd>latitude</dd><dt><span>units :</span></dt><dd>degrees_north</dd></dl></div><div class='xr-var-data'><pre>array([-90.      , -89.057592, -88.115183, -87.172775, -86.230366, -85.287958,\n",
       "       -84.34555 , -83.403141, -82.460733, -81.518325, -80.575916, -79.633508,\n",
       "       -78.691099, -77.748691, -76.806283, -75.863874, -74.921466, -73.979058,\n",
       "       -73.036649, -72.094241, -71.151832, -70.209424, -69.267016, -68.324607,\n",
       "       -67.382199, -66.439791, -65.497382, -64.554974, -63.612565, -62.670157,\n",
       "       -61.727749, -60.78534 , -59.842932, -58.900524, -57.958115, -57.015707,\n",
       "       -56.073298, -55.13089 , -54.188482, -53.246073, -52.303665, -51.361257,\n",
       "       -50.418848, -49.47644 , -48.534031, -47.591623, -46.649215, -45.706806,\n",
       "       -44.764398, -43.82199 , -42.879581, -41.937173, -40.994764, -40.052356,\n",
       "       -39.109948, -38.167539, -37.225131, -36.282723, -35.340314, -34.397906,\n",
       "       -33.455497, -32.513089, -31.570681, -30.628272, -29.685864, -28.743455,\n",
       "       -27.801047, -26.858639, -25.91623 , -24.973822, -24.031414, -23.089005,\n",
       "       -22.146597, -21.204188, -20.26178 , -19.319372, -18.376963, -17.434555,\n",
       "       -16.492147, -15.549738, -14.60733 , -13.664921, -12.722513, -11.780105,\n",
       "       -10.837696,  -9.895288,  -8.95288 ,  -8.010471,  -7.068063,  -6.125654,\n",
       "        -5.183246,  -4.240838,  -3.298429,  -2.356021,  -1.413613,  -0.471204,\n",
       "         0.471204,   1.413613,   2.356021,   3.298429,   4.240838,   5.183246,\n",
       "         6.125654,   7.068063,   8.010471,   8.95288 ,   9.895288,  10.837696,\n",
       "        11.780105,  12.722513,  13.664921,  14.60733 ,  15.549738,  16.492147,\n",
       "        17.434555,  18.376963,  19.319372,  20.26178 ,  21.204188,  22.146597,\n",
       "        23.089005,  24.031414,  24.973822,  25.91623 ,  26.858639,  27.801047,\n",
       "        28.743455,  29.685864,  30.628272,  31.570681,  32.513089,  33.455497,\n",
       "        34.397906,  35.340314,  36.282723,  37.225131,  38.167539,  39.109948,\n",
       "        40.052356,  40.994764,  41.937173,  42.879581,  43.82199 ,  44.764398,\n",
       "        45.706806,  46.649215,  47.591623,  48.534031,  49.47644 ,  50.418848,\n",
       "        51.361257,  52.303665,  53.246073,  54.188482,  55.13089 ,  56.073298,\n",
       "        57.015707,  57.958115,  58.900524,  59.842932,  60.78534 ,  61.727749,\n",
       "        62.670157,  63.612565,  64.554974,  65.497382,  66.439791,  67.382199,\n",
       "        68.324607,  69.267016,  70.209424,  71.151832,  72.094241,  73.036649,\n",
       "        73.979058,  74.921466,  75.863874,  76.806283,  77.748691,  78.691099,\n",
       "        79.633508,  80.575916,  81.518325,  82.460733,  83.403141,  84.34555 ,\n",
       "        85.287958,  86.230366,  87.172775,  88.115183,  89.057592,  90.      ])</pre></div></li><li class='xr-var-item'><div class='xr-var-name'><span class='xr-has-index'>lon</span></div><div class='xr-var-dims'>(lon)</div><div class='xr-var-dtype'>float64</div><div class='xr-var-preview xr-preview'>0.0 1.25 2.5 ... 356.2 357.5 358.8</div><input id='attrs-b996c31c-058c-4ba7-8bd3-ff8a2dbe44d3' class='xr-var-attrs-in' type='checkbox' ><label for='attrs-b996c31c-058c-4ba7-8bd3-ff8a2dbe44d3' title='Show/Hide attributes'><svg class='icon xr-icon-file-text2'><use xlink:href='#icon-file-text2'></use></svg></label><input id='data-542d4b9d-44d5-4b84-96d4-224d47d97359' class='xr-var-data-in' type='checkbox'><label for='data-542d4b9d-44d5-4b84-96d4-224d47d97359' title='Show/Hide data repr'><svg class='icon xr-icon-database'><use xlink:href='#icon-database'></use></svg></label><div class='xr-var-attrs'><dl class='xr-attrs'><dt><span>long_name :</span></dt><dd>longitude</dd><dt><span>units :</span></dt><dd>degrees_east</dd></dl></div><div class='xr-var-data'><pre>array([  0.  ,   1.25,   2.5 , ..., 356.25, 357.5 , 358.75])</pre></div></li></ul></div></li><li class='xr-section-item'><input id='section-a361ebbe-0b70-4bb2-aba6-0d4d3790fc0a' class='xr-section-summary-in' type='checkbox' disabled ><label for='section-a361ebbe-0b70-4bb2-aba6-0d4d3790fc0a' class='xr-section-summary'  title='Expand/collapse section'>Attributes: <span>(0)</span></label><div class='xr-section-inline-details'></div><div class='xr-section-details'><dl class='xr-attrs'></dl></div></li></ul></div></div>"
      ],
      "text/plain": [
       "<xarray.DataArray 'mask' (lat: 192, lon: 288)>\n",
       "array([[44., 44., 44., ..., 44., 44., 44.],\n",
       "       [44., 44., 44., ..., 44., 44., 44.],\n",
       "       [44., 44., 44., ..., 44., 44., 44.],\n",
       "       ...,\n",
       "       [nan, nan, nan, ..., nan, nan, nan],\n",
       "       [nan, nan, nan, ..., nan, nan, nan],\n",
       "       [nan, nan, nan, ..., nan, nan, nan]])\n",
       "Coordinates:\n",
       "  * lat      (lat) float64 -90.0 -89.06 -88.12 -87.17 ... 87.17 88.12 89.06 90.0\n",
       "  * lon      (lon) float64 0.0 1.25 2.5 3.75 5.0 ... 355.0 356.2 357.5 358.8"
      ]
     },
     "execution_count": 16,
     "metadata": {},
     "output_type": "execute_result"
    }
   ],
   "source": [
    "mask"
   ]
  },
  {
   "cell_type": "markdown",
   "id": "c3125061-52dd-47ed-80a1-3deb576f5aa2",
   "metadata": {},
   "source": [
    "Oh cool! The mask has the value corresponding to the region's index?"
   ]
  },
  {
   "cell_type": "code",
   "execution_count": 17,
   "id": "ccd6fa81-e995-4971-8996-0ee44ecca2ad",
   "metadata": {},
   "outputs": [],
   "source": [
    "# for colorbar: find abbreviations of all regions that were selected\n",
    "reg = np.unique(mask.values)\n",
    "reg = reg[~np.isnan(reg)]\n",
    "abbrevs = regionmask.defined_regions.ar6.land[reg].abbrevs\n",
    "names   = regionmask.defined_regions.ar6.land[reg].names"
   ]
  },
  {
   "cell_type": "markdown",
   "id": "984b738f-6a20-4a61-8001-40d3dd7d08f6",
   "metadata": {},
   "source": [
    "The CNA (central north america) region is index 4."
   ]
  },
  {
   "cell_type": "code",
   "execution_count": 18,
   "id": "706e10ce-d249-497b-8bff-b51cf9ea120c",
   "metadata": {},
   "outputs": [],
   "source": [
    "CNA_index = regionmask.defined_regions.ar6.land.map_keys(\"C.North-America\")"
   ]
  },
  {
   "cell_type": "code",
   "execution_count": 19,
   "id": "4fee68a1-05a2-459d-b2fe-eba5e8316fa5",
   "metadata": {},
   "outputs": [],
   "source": [
    "# Mask out (in) a region\n",
    "airtemps_CNA = ex_tas_da.where(mask == CNA_index)"
   ]
  },
  {
   "cell_type": "code",
   "execution_count": 20,
   "id": "ffa4f8e7-b8af-4cff-a16c-3158a0c14866",
   "metadata": {},
   "outputs": [
    {
     "data": {
      "text/plain": [
       "<matplotlib.collections.QuadMesh at 0x2b69bb24f250>"
      ]
     },
     "execution_count": 20,
     "metadata": {},
     "output_type": "execute_result"
    },
    {
     "data": {
      "image/png": "[encoded data removed]",
      "text/plain": [
       "<Figure size 432x288 with 2 Axes>"
      ]
     },
     "metadata": {
      "needs_background": "light"
     },
     "output_type": "display_data"
    }
   ],
   "source": [
    "airtemps_CNA.isel(time=0).plot()"
   ]
  },
  {
   "cell_type": "code",
   "execution_count": 21,
   "id": "1f7f76f8-a706-450e-bc25-3129d3e4c2af",
   "metadata": {},
   "outputs": [],
   "source": [
    "weights = np.cos(np.deg2rad(airtemps_CNA.lat))\n",
    "\n",
    "ts_airtemps_CNA = airtemps_CNA.weighted(weights).mean(dim=(\"lat\", \"lon\")) - 273.15"
   ]
  },
  {
   "cell_type": "code",
   "execution_count": 22,
   "id": "7a083600-575d-439c-abfd-1ee2328b5a1b",
   "metadata": {},
   "outputs": [
    {
     "data": {
      "text/plain": [
       "[<matplotlib.lines.Line2D at 0x2b69cb10c110>]"
      ]
     },
     "execution_count": 22,
     "metadata": {},
     "output_type": "execute_result"
    },
    {
     "data": {
      "image/png": "[encoded data removed]",
      "text/plain": [
       "<Figure size 432x288 with 1 Axes>"
      ]
     },
     "metadata": {
      "needs_background": "light"
     },
     "output_type": "display_data"
    }
   ],
   "source": [
    "ts_airtemps_CNA.isel(time=slice(None,60)).plot()"
   ]
  },
  {
   "cell_type": "markdown",
   "id": "94229603-a5bf-48f9-ad34-7751186cc5fe",
   "metadata": {},
   "source": [
    "### Write a function to compute timeseries for all IPCC AR6 regions when given a simple model output file."
   ]
  },
  {
   "cell_type": "code",
   "execution_count": 23,
   "id": "f64d8f50-bbb3-4f6f-8d52-96a81f189630",
   "metadata": {},
   "outputs": [],
   "source": [
    "# Filepath to a netcdf dataset.\n",
    "_ds_filepath = cesm1_pic_path_dict['tas'][0]\n",
    "\n",
    "# Variable to select and operate over.\n",
    "_ds_var = cesm1_cmor_var_dict['tas']"
   ]
  },
  {
   "cell_type": "code",
   "execution_count": 24,
   "id": "5638da24-6caf-420f-9bec-47a16b7affa0",
   "metadata": {},
   "outputs": [],
   "source": [
    "def create_ipccregion_timeseries(_ds_filepath:str,_ds_var:str,regions:regionmask.Regions):\n",
    "    \n",
    "    '''\n",
    "    Compute timeseries for all IPCC AR6 regions when given a simple model output file.\n",
    "    '''\n",
    "\n",
    "    # Load data\n",
    "    ds      = xr.open_dataset(_ds_filepath,chunks={'lat':-1,'lon':-1}) \n",
    "    da      = ds[_ds_var]\n",
    "    \n",
    "    # Generate mask\n",
    "    mask    = regions.mask(da)\n",
    "    \n",
    "    # Get unique region indices\n",
    "    reg     = np.unique(mask.values)\n",
    "    reg     = reg[~np.isnan(reg)]\n",
    "    \n",
    "    # for metadata: find abbreviations of all regions that were selected\n",
    "    abbrevs = regions[reg].abbrevs\n",
    "    names   = regions[reg].names\n",
    "    \n",
    "    # Compute weights for entire grid\n",
    "    weights = np.cos(np.deg2rad(da.lat)) # assuming 'lat' used consistently\n",
    "    \n",
    "    # Iterate over regions and compute a weighted time series\n",
    "    region_timeseries = []\n",
    "    for i,_abbrev,_name in zip(reg,abbrevs,names):\n",
    "        \n",
    "        _region = da.where(mask == i)\n",
    "        \n",
    "        _region_avg = _region.weighted(weights).mean(dim=(\"lat\", \"lon\")) # - 273.15\n",
    "                \n",
    "        # Using an int here should help with subsetting later.\n",
    "        _region_avg = _region_avg.assign_coords({'RegionIndex':int(i)}).expand_dims('RegionIndex',axis=-1)\n",
    "\n",
    "        # Include region abbreviation and name for easier use later\n",
    "        _region_avg = _region_avg.assign_coords({'RegionName':_abbrev})\n",
    "        _region_avg = _region_avg.assign_coords({'RegionAbbrev':_name})\n",
    "        \n",
    "        region_timeseries.append(_region_avg)\n",
    "        \n",
    "    region_timeseries_ds = xr.concat(region_timeseries,dim='RegionIndex')\n",
    "        \n",
    "    return region_timeseries_ds"
   ]
  },
  {
   "cell_type": "code",
   "execution_count": 25,
   "id": "21024601-c912-4f44-aead-8cd8f0935cee",
   "metadata": {},
   "outputs": [
    {
     "name": "stdout",
     "output_type": "stream",
     "text": [
      "CPU times: user 781 ms, sys: 8.3 ms, total: 789 ms\n",
      "Wall time: 804 ms\n"
     ]
    }
   ],
   "source": [
    "%%time\n",
    "\n",
    "out = create_ipccregion_timeseries(_ds_filepath=_ds_filepath,_ds_var=_ds_var,regions=regionmask.defined_regions.ar6.land)"
   ]
  },
  {
   "cell_type": "code",
   "execution_count": 26,
   "id": "e15d54b2-98cd-48cb-8763-af4b55b984e8",
   "metadata": {},
   "outputs": [
    {
     "name": "stdout",
     "output_type": "stream",
     "text": [
      "CPU times: user 19.7 s, sys: 11 s, total: 30.7 s\n",
      "Wall time: 31.8 s\n"
     ]
    }
   ],
   "source": [
    "%%time\n",
    "\n",
    "# Everything is delayed, so the real computations take a bit longer (30s for 100 years of CESM1 data, not bad!)\n",
    "testout = out.compute()"
   ]
  },
  {
   "cell_type": "markdown",
   "id": "714a6c97-0cd5-4bb0-a848-c28125a7ce44",
   "metadata": {},
   "source": [
    "Test it!"
   ]
  },
  {
   "cell_type": "code",
   "execution_count": 27,
   "id": "43e6571f-426c-41dd-8989-fd291ca17378",
   "metadata": {},
   "outputs": [
    {
     "data": {
      "text/plain": [
       "[<matplotlib.lines.Line2D at 0x2b69cb48a250>]"
      ]
     },
     "execution_count": 27,
     "metadata": {},
     "output_type": "execute_result"
    },
    {
     "data": {
      "image/png": "[encoded data removed]",
      "text/plain": [
       "<Figure size 432x288 with 1 Axes>"
      ]
     },
     "metadata": {
      "needs_background": "light"
     },
     "output_type": "display_data"
    }
   ],
   "source": [
    "testout.sel(RegionIndex=0).plot()"
   ]
  },
  {
   "cell_type": "code",
   "execution_count": 28,
   "id": "4585f5b7-7ab6-429c-9434-8aa6e107df76",
   "metadata": {},
   "outputs": [
    {
     "data": {
      "text/plain": [
       "[<matplotlib.lines.Line2D at 0x2b69cb161950>]"
      ]
     },
     "execution_count": 28,
     "metadata": {},
     "output_type": "execute_result"
    },
    {
     "data": {
      "image/png": "[encoded data removed]",
      "text/plain": [
       "<Figure size 432x288 with 1 Axes>"
      ]
     },
     "metadata": {
      "needs_background": "light"
     },
     "output_type": "display_data"
    }
   ],
   "source": [
    "testout.sel(RegionIndex=12).plot()"
   ]
  },
  {
   "cell_type": "code",
   "execution_count": null,
   "id": "62b7a63b-92fc-40fa-87fe-6403328590b8",
   "metadata": {},
   "outputs": [],
   "source": []
  }
 ],
 "metadata": {
  "kernelspec": {
   "display_name": "Python [conda env:miniconda3-cheydask]",
   "language": "python",
   "name": "conda-env-miniconda3-cheydask-py"
  },
  "language_info": {
   "codemirror_mode": {
    "name": "ipython",
    "version": 3
   },
   "file_extension": ".py",
   "mimetype": "text/x-python",
   "name": "python",
   "nbconvert_exporter": "python",
   "pygments_lexer": "ipython3",
   "version": "3.7.8"
  }
 },
 "nbformat": 4,
 "nbformat_minor": 5
}
