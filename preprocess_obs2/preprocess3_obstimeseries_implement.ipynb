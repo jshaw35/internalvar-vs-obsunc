{
 "cells": [
  {
   "cell_type": "markdown",
   "id": "9d5702ab-4316-47a2-af40-56d7ce8ccb57",
   "metadata": {},
   "source": [
    "# Process gridded observation data into timeseries"
   ]
  },
  {
   "cell_type": "markdown",
   "id": "9467a1d3-5c6e-4ba9-83a1-91cbaa34bd84",
   "metadata": {},
   "source": [
    "## 2024/08/20\n",
    "\n",
    "Just do 5x5 data."
   ]
  },
  {
   "cell_type": "markdown",
   "id": "18476b97-1df5-45f3-a446-f25bcbe6a735",
   "metadata": {},
   "source": [
    "__1. Process the gridded temperature data into timeseries for each observational product.__\n",
    "\n",
    "Output is a dataArray for each model with dimensions of time and IPCC region containing a time series of the TAS variable.\n"
   ]
  },
  {
   "cell_type": "markdown",
   "id": "030ff2a2-aa9a-4f90-927d-3d5773e96f1d",
   "metadata": {},
   "source": [
    "Use this tool:  \n",
    "\n",
    "https://github.com/IPCC-WG1/Atlas/blob/main/notebooks/reference-regions_Python.ipynb"
   ]
  },
  {
   "cell_type": "markdown",
   "id": "bb8e0e42-e328-46dd-884a-4259b363feda",
   "metadata": {},
   "source": [
    "For now, I will create my code for the CESM1 and MPI models so that it can be generalized easily. I can pull some code from my climatetrend_uncertainty repository (climatetrend_uncertainty/initial_code/PIC_timeseries_preproc.ipynb)."
   ]
  },
  {
   "cell_type": "markdown",
   "id": "6ede891f-af88-4e6d-90de-32be78682d2b",
   "metadata": {},
   "source": [
    "## Code!"
   ]
  },
  {
   "cell_type": "code",
   "execution_count": 1,
   "id": "87b60071",
   "metadata": {},
   "outputs": [],
   "source": [
    "import numpy as np\n",
    "import xarray as xr\n",
    "import pandas as pd\n",
    "import matplotlib.pyplot as plt\n",
    "import os\n",
    "import glob\n",
    "\n",
    "import xagg as xa\n",
    "import geopandas as gpd\n",
    "import regionmask\n",
    "\n",
    "regionmask.__version__\n",
    "\n",
    "%matplotlib inline"
   ]
  },
  {
   "cell_type": "markdown",
   "id": "ccce121c-ac6a-4cb6-a236-e46b713c300f",
   "metadata": {},
   "source": [
    "__Observational Large Ensembles.__\n",
    "\n",
    "General directory in Nathan's scratch: /glade/scratch/lenssen/data_for_jonah/\n",
    "\n",
    "NASA GISTEMP: GISTEMP_2x2  GISTEMP_5x5\n",
    "\n",
    "HadCRUT5: HadCRUT5"
   ]
  },
  {
   "cell_type": "code",
   "execution_count": 2,
   "id": "432e005a-3470-4a7d-bec7-b3d82dec016e",
   "metadata": {},
   "outputs": [],
   "source": [
    "gistemp_2x2_dir = '/glade/derecho/scratch/lenssen/data4jonah/GISTEMP_Ensemble_Aug/' # I don't want to use this\n",
    "gistemp_dir = \"/glade/derecho/scratch/lenssen/data4jonah/GISTEMP_Ensemble_Aug_5x5/\"\n",
    "hadcrut5_dir = '/glade/derecho/scratch/lenssen/data4jonah/HadCRUT5_Ensemble_Aug/'"
   ]
  },
  {
   "cell_type": "markdown",
   "id": "45fbcc32-8503-4a17-bbbc-c4dfbafd422e",
   "metadata": {},
   "source": [
    "### Collect file paths."
   ]
  },
  {
   "cell_type": "markdown",
   "id": "fb07889d-8160-45ea-a153-a774b770bb21",
   "metadata": {},
   "source": [
    "#### Collect GISTEMP file paths."
   ]
  },
  {
   "cell_type": "code",
   "execution_count": 3,
   "id": "3babb705-2f59-40e2-8701-c1cc3827b91d",
   "metadata": {},
   "outputs": [],
   "source": [
    "gistemp_files = glob.glob('%s/ensembleChunk_5x5_????.nc' % gistemp_dir)\n",
    "gistemp_files.sort()"
   ]
  },
  {
   "cell_type": "markdown",
   "id": "54a3d34f-bca1-42e5-868e-cef00f85fc6a",
   "metadata": {},
   "source": [
    "#### Collect HadCRUT5 file paths."
   ]
  },
  {
   "cell_type": "code",
   "execution_count": 4,
   "id": "f0e9d6c4-4e77-4db8-b5a0-54589c5c984f",
   "metadata": {},
   "outputs": [],
   "source": [
    "hadcrut5_files = glob.glob('%s/HadCRUT.5.0.2.0.analysis.anomalies.*.nc' % hadcrut5_dir)\n",
    "hadcrut5_files.sort()"
   ]
  },
  {
   "cell_type": "markdown",
   "id": "b92608d6-3949-45ee-89fd-19d6e76e05ca",
   "metadata": {},
   "source": [
    "### Load and process timeseries according to IPCC Region designations."
   ]
  },
  {
   "cell_type": "markdown",
   "id": "f1a26d54",
   "metadata": {},
   "source": [
    "Mask data based on availability."
   ]
  },
  {
   "cell_type": "code",
   "execution_count": 5,
   "id": "0838745c",
   "metadata": {},
   "outputs": [],
   "source": [
    "# gistemp_files[0]"
   ]
  },
  {
   "cell_type": "code",
   "execution_count": 6,
   "id": "bd6926d6",
   "metadata": {},
   "outputs": [],
   "source": [
    "# # Create mask based on data availability. Then I will need to apply it to mask the averaged data before saving.\n",
    "# test_file = gistemp_files[0]\n",
    "# test_var = \"tas\"\n",
    "\n",
    "# masking_threshold = 0.9 # 90% of a region must be available\n",
    "\n",
    "# ds = xr.open_dataset(test_file)\n",
    "# da = ds[test_var]a\n",
    "\n",
    "# mask    = regions.mask(da.isel(time=0))\n",
    "\n",
    "# # Get unique region indices\n",
    "# reg     = np.unique(mask.values)\n",
    "# reg     = reg[~np.isnan(reg)]\n",
    "\n",
    "# # for metadata: find abbreviations of all regions that were selected\n",
    "# abbrevs = regions[reg].abbrevs\n",
    "# names   = regions[reg].names\n",
    "\n",
    "# # Compute weights for entire grid\n",
    "# weights_spatial = np.cos(np.deg2rad(da.lat)).broadcast_like(da.isel(time=0)) # assuming 'lat' used consistently\n",
    "# weights_spatiotemporal = np.cos(np.deg2rad(da.lat)).broadcast_like(da) # assuming 'lat' used consistently\n",
    "\n",
    "# # Iterate over regions and compute a weighted time series\n",
    "# region_masks_list = []\n",
    "# for i,_abbrev,_name in zip(reg, abbrevs, names):\n",
    "    \n",
    "#     _region_weight = weights_spatial.where(mask == i).sum(dim=[\"lat\", \"lon\"]) # Total weight of the region\n",
    "#     _available_region_weights = weights_spatiotemporal.where((mask == i) & (~np.isnan(da))).sum(dim=[\"lat\", \"lon\"]) # Weight of the unmasked portion of the region\n",
    "    \n",
    "#     _region_mask = (_available_region_weights / _region_weight) > masking_threshold\n",
    "#     _region_mask = _region_mask.assign_coords(RegionIndex=i).expand_dims(\"RegionIndex\")\n",
    "#     _region_mask = _region_mask.assign_coords(RegionName=_name)\n",
    "#     _region_mask = _region_mask.assign_coords(RegionAbbrev=_abbrev)\n",
    "    \n",
    "#     region_masks_list.append(_region_mask)\n",
    "# region_masks = xr.concat(region_masks_list, dim=\"RegionIndex\")\n"
   ]
  },
  {
   "cell_type": "code",
   "execution_count": 7,
   "id": "703a18ff",
   "metadata": {},
   "outputs": [],
   "source": [
    "# testmask = mask_IPCC_byavailability(\n",
    "#     filepath=gistemp_files[0],\n",
    "#     var=\"tas\",\n",
    "#     regions=regionmask.defined_regions.ar6.all,\n",
    "#     masking_threshold=0.9,\n",
    "#     ufunc=gistemp_5x5_preproc,\n",
    "# )"
   ]
  },
  {
   "cell_type": "code",
   "execution_count": 8,
   "id": "4163f218",
   "metadata": {},
   "outputs": [],
   "source": [
    "# testmask.sum(dim=\"RegionIndex\").plot()"
   ]
  },
  {
   "cell_type": "code",
   "execution_count": 9,
   "id": "49ad68f3",
   "metadata": {},
   "outputs": [],
   "source": [
    "# testmask.sel(time=\"1901-07-11\")"
   ]
  },
  {
   "cell_type": "code",
   "execution_count": 10,
   "id": "e2ad360b",
   "metadata": {},
   "outputs": [],
   "source": [
    "# testmask.sel(RegionIndex=22).plot()"
   ]
  },
  {
   "cell_type": "code",
   "execution_count": 11,
   "id": "812890e3",
   "metadata": {},
   "outputs": [],
   "source": [
    "# # Ok, yeah so a lot of regions might be missing for this. \n",
    "# # Not sure why it doesn't match up well with the plots I made earlier,\n",
    "# # perhaps because this is just one ensemble member that may be conservative?\n",
    "# np.isnan(ds[\"tas\"]).any(dim=\"time\").plot()"
   ]
  },
  {
   "cell_type": "code",
   "execution_count": 12,
   "id": "f748eb8c",
   "metadata": {},
   "outputs": [],
   "source": [
    "# # Ok this makes sense now given the map, but have I made a mistake earlier?\n",
    "# for i in (~region_masks).any(dim=\"time\"):\n",
    "#     print(f\"Region: {i.RegionName.values} {bool(i.values)}\" )\n",
    "#     #.plot()"
   ]
  },
  {
   "cell_type": "markdown",
   "id": "2cf02f0d-2f0e-4c6d-8329-ebc4bb4b40f1",
   "metadata": {},
   "source": [
    "#### 1. Visualize the IPCC AR6 regions"
   ]
  },
  {
   "cell_type": "markdown",
   "id": "8c542cba-5b9a-4dd6-bfac-3125cd91a746",
   "metadata": {},
   "source": [
    "### 2. Do masking for each dataset"
   ]
  },
  {
   "cell_type": "markdown",
   "id": "715917fd-71c2-414d-ab05-82b965bf8003",
   "metadata": {},
   "source": [
    "Variable is \"tempAnom\". \"record\" coordinate will allow for easier concatenation."
   ]
  },
  {
   "cell_type": "code",
   "execution_count": 13,
   "id": "2ab1b16f-56e9-49f8-a416-03702a6dc5fb",
   "metadata": {},
   "outputs": [],
   "source": [
    "gistemp_tas_var = 'tas'\n",
    "hadcrut5_tas_var = 'tas'"
   ]
  },
  {
   "cell_type": "markdown",
   "id": "65508295-9416-4b0a-8e66-9856954f215b",
   "metadata": {},
   "source": [
    "### Loop over observation files and compute the regional means."
   ]
  },
  {
   "cell_type": "markdown",
   "id": "3370d600",
   "metadata": {},
   "source": [
    "#### GISTEMP"
   ]
  },
  {
   "cell_type": "code",
   "execution_count": 14,
   "id": "38a2000c",
   "metadata": {},
   "outputs": [],
   "source": [
    "def create_ipccregion_timeseries_xagg(\n",
    "    ds_filepath:str,\n",
    "    ds_var:str,\n",
    "    model_str:str,\n",
    "    cesm=False,\n",
    "    read_wm=True,\n",
    "    write_wm=True,\n",
    "):\n",
    "    \n",
    "    '''\n",
    "    Compute timeseries for all IPCC AR6 regions when given a simple model output file.\n",
    "    Now using xagg to appropriately weight gridcells that fall partly within a region!\n",
    "    '''\n",
    "    # Load data\n",
    "    ds = xr.open_dataset(ds_filepath)\n",
    "    \n",
    "    try:\n",
    "        ds = ds.rename({\"latitude\":\"lat\", \"longitude\":\"lon\"})\n",
    "    except:\n",
    "        pass\n",
    "    \n",
    "    # Correct time if CESM\n",
    "    if cesm:\n",
    "        ds  = fix_cesm_time(ds)\n",
    "    \n",
    "    da = ds[ds_var]\n",
    "\n",
    "    xagg_dir = \"/glade/u/home/jonahshaw/w/trend_uncertainty/nathan/xagg_resources\"\n",
    "    xa.set_options(rgrd_alg='bilinear',nan_to_zero_regridding=False)\n",
    "\n",
    "    if (read_wm and os.path.exists(os.path.join(xagg_dir, f'wm_{model_str}'))):\n",
    "        # Load weightmap\n",
    "        weightmap = xa.read_wm(os.path.join(xagg_dir, f'wm_{model_str}'))\n",
    "    else:\n",
    "        # Load IPCC region shp file:\n",
    "        ipcc_wgi_regions_shp = \"IPCC-WGI-reference-regions-v4.shp\"\n",
    "        gdf = gpd.read_file(os.path.join(xagg_dir, ipcc_wgi_regions_shp))\n",
    "                \n",
    "        # Compute weights for entire grid. Assuming lat, lon, time dimension on input\n",
    "        area_weights = np.cos(np.deg2rad(da.lat)).broadcast_like(da.isel(time=0).squeeze())\n",
    "        \n",
    "        weightmap = xa.pixel_overlaps(da, gdf, weights=area_weights)\n",
    "        # Save the weightmap for later:\n",
    "        if write_wm:\n",
    "            weightmap.to_file(os.path.join(xagg_dir, f'wm_{model_str}'))\n",
    "\n",
    "    # Aggregate\n",
    "    with xa.set_options(silent=True):\n",
    "        aggregated = xa.aggregate(da, weightmap)\n",
    "    # aggregated = xa.aggregate(da, weightmap)\n",
    "    \n",
    "    # Convert to an xarray dataset\n",
    "    aggregated_ds = aggregated.to_dataset()\n",
    "    # Change xarray formatting to match previous file organization.\n",
    "    aggregated_ds = aggregated_ds.set_coords((\"Continent\", \"Type\", \"Name\", \"Acronym\")).rename({\"poly_idx\": \"RegionIndex\", \"Name\": \"RegionName\", \"Acronym\": \"RegionAbbrev\"})\n",
    "        \n",
    "    return aggregated_ds"
   ]
  },
  {
   "cell_type": "code",
   "execution_count": 15,
   "id": "170a95e7",
   "metadata": {},
   "outputs": [],
   "source": [
    "def mask_IPCC_byavailability(\n",
    "    filepath: str,\n",
    "    var: str,\n",
    "    regions: regionmask.Regions,\n",
    "    masking_threshold: float=0.9,\n",
    "    ufunc=None,\n",
    "):\n",
    "    \"\"\"\n",
    "    Function for masking observational record according to data availability.\n",
    "    True on the output means that region exceeds the threshold.\n",
    "\n",
    "    Args:\n",
    "        filepath (str): Path to file to load\n",
    "        var (str): String identifier of variable to mask by availabiliy\n",
    "        masking_threshold (float, optional): Fraction of region needed to avoid masking. Defaults to 0.9.\n",
    "        ufunc (function, optional): Function to apply to the loaded DataArray. Defaults to None.\n",
    "\n",
    "    Returns:\n",
    "        region_masks (xr.DataArray): Boolean mask for each IPCC region\n",
    "    \"\"\"\n",
    "\n",
    "    ds = xr.open_dataset(filepath)\n",
    "\n",
    "    da = ds[var]\n",
    "    if ufunc is not None:\n",
    "        da = ufunc(da)\n",
    "\n",
    "    mask    = regions.mask(da.isel(time=0))\n",
    "\n",
    "    # Get unique region indices\n",
    "    reg     = np.unique(mask.values)\n",
    "    reg     = reg[~np.isnan(reg)]\n",
    "\n",
    "    # for metadata: find abbreviations of all regions that were selected\n",
    "    abbrevs = regions[reg].abbrevs\n",
    "    names   = regions[reg].names\n",
    "\n",
    "    # Compute weights for entire grid\n",
    "    weights_spatial = np.cos(np.deg2rad(da.lat)).broadcast_like(da.isel(time=0)) # assuming 'lat' used consistently\n",
    "    weights_spatiotemporal = np.cos(np.deg2rad(da.lat)).broadcast_like(da) # assuming 'lat' used consistently\n",
    "\n",
    "    # Iterate over regions and compute a weighted time series\n",
    "    region_masks_list = []\n",
    "    for i,_abbrev,_name in zip(reg, abbrevs, names):\n",
    "        \n",
    "        _region_weight = weights_spatial.where(mask == i).sum(dim=[\"lat\", \"lon\"]) # Total weight of the region\n",
    "        _available_region_weights = weights_spatiotemporal.where((mask == i) & (~np.isnan(da))).sum(dim=[\"lat\", \"lon\"]) # Weight of the unmasked portion of the region\n",
    "        \n",
    "        _region_mask = (_available_region_weights / _region_weight) > masking_threshold\n",
    "        _region_mask = _region_mask.assign_coords(RegionIndex=i).expand_dims(\"RegionIndex\")\n",
    "        _region_mask = _region_mask.assign_coords(RegionName=_name)\n",
    "        _region_mask = _region_mask.assign_coords(RegionAbbrev=_abbrev)\n",
    "        \n",
    "        region_masks_list.append(_region_mask)\n",
    "    region_masks = xr.concat(region_masks_list, dim=\"RegionIndex\")\n",
    "    region_masks.name = \"mask\"\n",
    "    \n",
    "    return region_masks\n",
    "\n",
    "\n",
    "def gistemp_5x5_preproc(ds):\n",
    "    \n",
    "    return ds.rename({\"latitude\":\"lat\", \"longitude\":\"lon\"})"
   ]
  },
  {
   "cell_type": "code",
   "execution_count": 16,
   "id": "135fea94",
   "metadata": {},
   "outputs": [],
   "source": [
    "# def create_ipccregion_timeseries(_ds_filepath:str,_ds_var:str,regions:regionmask.Regions,cesm=False,ufunc=None,\n",
    "#                                  lon=None,lat=None,lon_name='lon',lat_name='lat'):\n",
    "    \n",
    "#     '''\n",
    "#     Compute timeseries for all IPCC AR6 regions when given a simple model output file.\n",
    "#     '''\n",
    "#     # Load data\n",
    "#     ds      = xr.open_dataset(_ds_filepath,chunks={lat_name:-1,lon_name:-1})\n",
    "    \n",
    "#     # Correct time if CESM\n",
    "#     if cesm:\n",
    "#         ds  = fix_cesm_time(ds)\n",
    "    \n",
    "#     da      = ds[_ds_var]\n",
    "    \n",
    "#     if (ufunc is not None):\n",
    "#         da = ufunc(da) #.sel(time=slice(1960,None))\n",
    "#     # da = da.chunk(chunks={'lat':-1,'lon':-1,'record':1}) # JKS speed-up attempt\n",
    "    \n",
    "#     # Generate mask\n",
    "#     if ((lon is not None) and (lat is not None)):\n",
    "#         print('Using \"lat\" and \"lon\" supplied as input')\n",
    "        \n",
    "#         # Make sure the passed grid values match the data approximately.\n",
    "#         np.testing.assert_allclose(lat,da['lat'],atol=5e-2,rtol=1e-1,err_msg='Supplied latitudes do not match data')\n",
    "#         np.testing.assert_allclose(lon,da['lon'],atol=5e-2,rtol=1e-1,err_msg='Supplied longitudes do not match data')\n",
    "        \n",
    "#         mask    = regions.mask(lon,lat=lat)\n",
    "        \n",
    "#         da['lon'] = lon\n",
    "#         da['lat'] = lat\n",
    "        \n",
    "#     else:\n",
    "#         mask    = regions.mask(da)\n",
    "    \n",
    "#     # Get unique region indices\n",
    "#     reg     = np.unique(mask.values)\n",
    "#     reg     = reg[~np.isnan(reg)]\n",
    "    \n",
    "#     # for metadata: find abbreviations of all regions that were selected\n",
    "#     abbrevs = regions[reg].abbrevs\n",
    "#     names   = regions[reg].names\n",
    "    \n",
    "#     # Compute weights for entire grid\n",
    "#     weights = np.cos(np.deg2rad(da.lat)) # assuming 'lat' used consistently\n",
    "    \n",
    "#     # Iterate over regions and compute a weighted time series\n",
    "#     region_timeseries = []\n",
    "#     for i,_abbrev,_name in zip(reg,abbrevs,names):\n",
    "        \n",
    "#         _region = da.where(mask == i)\n",
    "        \n",
    "#         _region_avg = _region.weighted(weights).mean(dim=(\"lat\", \"lon\")) # - 273.15\n",
    "                \n",
    "#         # Using an int here should help with subsetting later.\n",
    "#         _region_avg = _region_avg.assign_coords({'RegionIndex':int(i)}).expand_dims('RegionIndex',axis=-1)\n",
    "\n",
    "#         # Include region abbreviation and name for easier use later\n",
    "#         _region_avg = _region_avg.assign_coords({'RegionAbbrev':_abbrev})\n",
    "#         _region_avg = _region_avg.assign_coords({'RegionName':_name})\n",
    "        \n",
    "#         region_timeseries.append(_region_avg)\n",
    "        \n",
    "#     region_timeseries_ds = xr.concat(region_timeseries,dim='RegionIndex')\n",
    "#     region_timeseries_ds.name = _ds_var\n",
    "        \n",
    "#     return region_timeseries_ds"
   ]
  },
  {
   "cell_type": "code",
   "execution_count": 17,
   "id": "53e006ce",
   "metadata": {},
   "outputs": [],
   "source": [
    "# # Arbitrary function to apply\n",
    "\n",
    "# def gistemp_5x5_tselect(da:xr.DataArray):\n",
    "    \n",
    "#     # return da.sel(time=slice(\"1900-01-01\",'2022-12-31')).rename({'longitude':'lon','latitude':'lat'})\n",
    "#     return da.sel(time=slice(None, '2022-12-31')).rename({'longitude':'lon','latitude':'lat'})"
   ]
  },
  {
   "cell_type": "code",
   "execution_count": 18,
   "id": "8d0e005a",
   "metadata": {},
   "outputs": [],
   "source": [
    "# standard_test = create_ipccregion_timeseries(\n",
    "#     _ds_filepath=gistemp_files[0],\n",
    "#     _ds_var=gistemp_tas_var,\n",
    "#     regions=regionmask.defined_regions.ar6.all,\n",
    "#     cesm=False,\n",
    "#     ufunc=gistemp_5x5_tselect,\n",
    "#     lon_name='longitude',\n",
    "#     lat_name='latitude',\n",
    "# )"
   ]
  },
  {
   "cell_type": "code",
   "execution_count": 19,
   "id": "6e0201fd",
   "metadata": {},
   "outputs": [],
   "source": [
    "# ipcc_regions_maskedavail = xagg_test.where(avail_mask)"
   ]
  },
  {
   "cell_type": "code",
   "execution_count": 20,
   "id": "2529a502",
   "metadata": {},
   "outputs": [],
   "source": [
    "# ipcc_regions_maskedavail[\"tas\"].sel(RegionIndex=44).plot()\n",
    "# xagg_test[\"tas\"].sel(RegionIndex=44).plot()"
   ]
  },
  {
   "cell_type": "code",
   "execution_count": 21,
   "id": "0690a9bb",
   "metadata": {},
   "outputs": [],
   "source": [
    "# xagg_test = create_ipccregion_timeseries_xagg(\n",
    "#     ds_filepath=gistemp_files[0],\n",
    "#     ds_var=gistemp_tas_var,\n",
    "#     model_str=\"GISTEMP_5x5\",\n",
    "#     cesm=False,\n",
    "# )\n",
    "\n",
    "# avail_mask = mask_IPCC_byavailability(\n",
    "#     filepath=gistemp_files[0],\n",
    "#     var=gistemp_tas_var,\n",
    "#     regions=regionmask.defined_regions.ar6.all,\n",
    "#     masking_threshold=0.9,\n",
    "#     ufunc=gistemp_5x5_preproc,\n",
    "# )\n",
    "\n",
    "# ipcc_regions_maskedavail = xagg_test.where(avail_mask)"
   ]
  },
  {
   "cell_type": "code",
   "execution_count": 22,
   "id": "af4a17d9",
   "metadata": {},
   "outputs": [],
   "source": [
    "# fig, axs = plt.subplots(1, 2, figsize=(12,6))\n",
    "# axs = axs.flat\n",
    "\n",
    "# xagg_test[\"tas\"].isel(time=0).plot(label=\"xagg\", ax=axs[0])\n",
    "# standard_test.isel(time=0).plot(label=\"RegionMask\", ax=axs[0])\n",
    "\n",
    "# xagg_test[\"tas\"].isel(time=-1).plot(label=\"xagg\", ax=axs[1])\n",
    "# standard_test.isel(time=-1).plot(label=\"RegionMask\", ax=axs[1])\n",
    "\n",
    "# plt.legend()"
   ]
  },
  {
   "cell_type": "code",
   "execution_count": 23,
   "id": "427058fd-59d9-47c1-a796-6352baa885f0",
   "metadata": {},
   "outputs": [],
   "source": [
    "save_dir = '/glade/u/home/jonahshaw/w/trend_uncertainty/nathan/OBS_LENS/'"
   ]
  },
  {
   "cell_type": "markdown",
   "id": "c1b0171c-ce6d-4956-8e68-ebc85813c3a7",
   "metadata": {
    "tags": []
   },
   "source": [
    "#### GISTEMP"
   ]
  },
  {
   "cell_type": "code",
   "execution_count": 38,
   "id": "282c21ed-3879-4ee8-9560-e95a09bf8269",
   "metadata": {
    "tags": []
   },
   "outputs": [
    {
     "name": "stderr",
     "output_type": "stream",
     "text": [
      "/glade/work/jonahshaw/conda-envs/py_xagg/lib/python3.12/site-packages/xagg/core.py:724: UserWarning: One or more of the pixels in variable tas have nans in them in the dimensions time. The code can currently only deal with pixels for which the *entire* pixel has nan values in all dimensions, however there is currently no  support for data in which pixels have only some nan values. The aggregation calculation is likely incorrect.\n",
      "  warnings.warn('One or more of the pixels in variable '+var+' have nans in them in the dimensions '+\n",
      "/glade/work/jonahshaw/conda-envs/py_xagg/lib/python3.12/site-packages/xagg/core.py:724: UserWarning: One or more of the pixels in variable tas have nans in them in the dimensions time. The code can currently only deal with pixels for which the *entire* pixel has nan values in all dimensions, however there is currently no  support for data in which pixels have only some nan values. The aggregation calculation is likely incorrect.\n",
      "  warnings.warn('One or more of the pixels in variable '+var+' have nans in them in the dimensions '+\n",
      "/glade/work/jonahshaw/conda-envs/py_xagg/lib/python3.12/site-packages/xagg/core.py:724: UserWarning: One or more of the pixels in variable tas have nans in them in the dimensions time. The code can currently only deal with pixels for which the *entire* pixel has nan values in all dimensions, however there is currently no  support for data in which pixels have only some nan values. The aggregation calculation is likely incorrect.\n",
      "  warnings.warn('One or more of the pixels in variable '+var+' have nans in them in the dimensions '+\n",
      "/glade/work/jonahshaw/conda-envs/py_xagg/lib/python3.12/site-packages/xagg/core.py:724: UserWarning: One or more of the pixels in variable tas have nans in them in the dimensions time. The code can currently only deal with pixels for which the *entire* pixel has nan values in all dimensions, however there is currently no  support for data in which pixels have only some nan values. The aggregation calculation is likely incorrect.\n",
      "  warnings.warn('One or more of the pixels in variable '+var+' have nans in them in the dimensions '+\n",
      "/glade/work/jonahshaw/conda-envs/py_xagg/lib/python3.12/site-packages/xagg/core.py:724: UserWarning: One or more of the pixels in variable tas have nans in them in the dimensions time. The code can currently only deal with pixels for which the *entire* pixel has nan values in all dimensions, however there is currently no  support for data in which pixels have only some nan values. The aggregation calculation is likely incorrect.\n",
      "  warnings.warn('One or more of the pixels in variable '+var+' have nans in them in the dimensions '+\n",
      "/glade/work/jonahshaw/conda-envs/py_xagg/lib/python3.12/site-packages/xagg/core.py:724: UserWarning: One or more of the pixels in variable tas have nans in them in the dimensions time. The code can currently only deal with pixels for which the *entire* pixel has nan values in all dimensions, however there is currently no  support for data in which pixels have only some nan values. The aggregation calculation is likely incorrect.\n",
      "  warnings.warn('One or more of the pixels in variable '+var+' have nans in them in the dimensions '+\n",
      "/glade/work/jonahshaw/conda-envs/py_xagg/lib/python3.12/site-packages/xagg/core.py:724: UserWarning: One or more of the pixels in variable tas have nans in them in the dimensions time. The code can currently only deal with pixels for which the *entire* pixel has nan values in all dimensions, however there is currently no  support for data in which pixels have only some nan values. The aggregation calculation is likely incorrect.\n",
      "  warnings.warn('One or more of the pixels in variable '+var+' have nans in them in the dimensions '+\n",
      "/glade/work/jonahshaw/conda-envs/py_xagg/lib/python3.12/site-packages/xagg/core.py:724: UserWarning: One or more of the pixels in variable tas have nans in them in the dimensions time. The code can currently only deal with pixels for which the *entire* pixel has nan values in all dimensions, however there is currently no  support for data in which pixels have only some nan values. The aggregation calculation is likely incorrect.\n",
      "  warnings.warn('One or more of the pixels in variable '+var+' have nans in them in the dimensions '+\n",
      "/glade/work/jonahshaw/conda-envs/py_xagg/lib/python3.12/site-packages/xagg/core.py:724: UserWarning: One or more of the pixels in variable tas have nans in them in the dimensions time. The code can currently only deal with pixels for which the *entire* pixel has nan values in all dimensions, however there is currently no  support for data in which pixels have only some nan values. The aggregation calculation is likely incorrect.\n",
      "  warnings.warn('One or more of the pixels in variable '+var+' have nans in them in the dimensions '+\n",
      "/glade/work/jonahshaw/conda-envs/py_xagg/lib/python3.12/site-packages/xagg/core.py:724: UserWarning: One or more of the pixels in variable tas have nans in them in the dimensions time. The code can currently only deal with pixels for which the *entire* pixel has nan values in all dimensions, however there is currently no  support for data in which pixels have only some nan values. The aggregation calculation is likely incorrect.\n",
      "  warnings.warn('One or more of the pixels in variable '+var+' have nans in them in the dimensions '+\n",
      "/glade/work/jonahshaw/conda-envs/py_xagg/lib/python3.12/site-packages/xagg/core.py:724: UserWarning: One or more of the pixels in variable tas have nans in them in the dimensions time. The code can currently only deal with pixels for which the *entire* pixel has nan values in all dimensions, however there is currently no  support for data in which pixels have only some nan values. The aggregation calculation is likely incorrect.\n",
      "  warnings.warn('One or more of the pixels in variable '+var+' have nans in them in the dimensions '+\n",
      "/glade/work/jonahshaw/conda-envs/py_xagg/lib/python3.12/site-packages/xagg/core.py:724: UserWarning: One or more of the pixels in variable tas have nans in them in the dimensions time. The code can currently only deal with pixels for which the *entire* pixel has nan values in all dimensions, however there is currently no  support for data in which pixels have only some nan values. The aggregation calculation is likely incorrect.\n",
      "  warnings.warn('One or more of the pixels in variable '+var+' have nans in them in the dimensions '+\n",
      "/glade/work/jonahshaw/conda-envs/py_xagg/lib/python3.12/site-packages/xagg/core.py:724: UserWarning: One or more of the pixels in variable tas have nans in them in the dimensions time. The code can currently only deal with pixels for which the *entire* pixel has nan values in all dimensions, however there is currently no  support for data in which pixels have only some nan values. The aggregation calculation is likely incorrect.\n",
      "  warnings.warn('One or more of the pixels in variable '+var+' have nans in them in the dimensions '+\n",
      "/glade/work/jonahshaw/conda-envs/py_xagg/lib/python3.12/site-packages/xagg/core.py:724: UserWarning: One or more of the pixels in variable tas have nans in them in the dimensions time. The code can currently only deal with pixels for which the *entire* pixel has nan values in all dimensions, however there is currently no  support for data in which pixels have only some nan values. The aggregation calculation is likely incorrect.\n",
      "  warnings.warn('One or more of the pixels in variable '+var+' have nans in them in the dimensions '+\n",
      "/glade/work/jonahshaw/conda-envs/py_xagg/lib/python3.12/site-packages/xagg/core.py:724: UserWarning: One or more of the pixels in variable tas have nans in them in the dimensions time. The code can currently only deal with pixels for which the *entire* pixel has nan values in all dimensions, however there is currently no  support for data in which pixels have only some nan values. The aggregation calculation is likely incorrect.\n",
      "  warnings.warn('One or more of the pixels in variable '+var+' have nans in them in the dimensions '+\n",
      "/glade/work/jonahshaw/conda-envs/py_xagg/lib/python3.12/site-packages/xagg/core.py:724: UserWarning: One or more of the pixels in variable tas have nans in them in the dimensions time. The code can currently only deal with pixels for which the *entire* pixel has nan values in all dimensions, however there is currently no  support for data in which pixels have only some nan values. The aggregation calculation is likely incorrect.\n",
      "  warnings.warn('One or more of the pixels in variable '+var+' have nans in them in the dimensions '+\n",
      "/glade/work/jonahshaw/conda-envs/py_xagg/lib/python3.12/site-packages/xagg/core.py:724: UserWarning: One or more of the pixels in variable tas have nans in them in the dimensions time. The code can currently only deal with pixels for which the *entire* pixel has nan values in all dimensions, however there is currently no  support for data in which pixels have only some nan values. The aggregation calculation is likely incorrect.\n",
      "  warnings.warn('One or more of the pixels in variable '+var+' have nans in them in the dimensions '+\n",
      "/glade/work/jonahshaw/conda-envs/py_xagg/lib/python3.12/site-packages/xagg/core.py:724: UserWarning: One or more of the pixels in variable tas have nans in them in the dimensions time. The code can currently only deal with pixels for which the *entire* pixel has nan values in all dimensions, however there is currently no  support for data in which pixels have only some nan values. The aggregation calculation is likely incorrect.\n",
      "  warnings.warn('One or more of the pixels in variable '+var+' have nans in them in the dimensions '+\n",
      "/glade/work/jonahshaw/conda-envs/py_xagg/lib/python3.12/site-packages/xagg/core.py:724: UserWarning: One or more of the pixels in variable tas have nans in them in the dimensions time. The code can currently only deal with pixels for which the *entire* pixel has nan values in all dimensions, however there is currently no  support for data in which pixels have only some nan values. The aggregation calculation is likely incorrect.\n",
      "  warnings.warn('One or more of the pixels in variable '+var+' have nans in them in the dimensions '+\n",
      "/glade/work/jonahshaw/conda-envs/py_xagg/lib/python3.12/site-packages/xagg/core.py:724: UserWarning: One or more of the pixels in variable tas have nans in them in the dimensions time. The code can currently only deal with pixels for which the *entire* pixel has nan values in all dimensions, however there is currently no  support for data in which pixels have only some nan values. The aggregation calculation is likely incorrect.\n",
      "  warnings.warn('One or more of the pixels in variable '+var+' have nans in them in the dimensions '+\n",
      "/glade/work/jonahshaw/conda-envs/py_xagg/lib/python3.12/site-packages/xagg/core.py:724: UserWarning: One or more of the pixels in variable tas have nans in them in the dimensions time. The code can currently only deal with pixels for which the *entire* pixel has nan values in all dimensions, however there is currently no  support for data in which pixels have only some nan values. The aggregation calculation is likely incorrect.\n",
      "  warnings.warn('One or more of the pixels in variable '+var+' have nans in them in the dimensions '+\n",
      "/glade/work/jonahshaw/conda-envs/py_xagg/lib/python3.12/site-packages/xagg/core.py:724: UserWarning: One or more of the pixels in variable tas have nans in them in the dimensions time. The code can currently only deal with pixels for which the *entire* pixel has nan values in all dimensions, however there is currently no  support for data in which pixels have only some nan values. The aggregation calculation is likely incorrect.\n",
      "  warnings.warn('One or more of the pixels in variable '+var+' have nans in them in the dimensions '+\n",
      "/glade/work/jonahshaw/conda-envs/py_xagg/lib/python3.12/site-packages/xagg/core.py:724: UserWarning: One or more of the pixels in variable tas have nans in them in the dimensions time. The code can currently only deal with pixels for which the *entire* pixel has nan values in all dimensions, however there is currently no  support for data in which pixels have only some nan values. The aggregation calculation is likely incorrect.\n",
      "  warnings.warn('One or more of the pixels in variable '+var+' have nans in them in the dimensions '+\n",
      "/glade/work/jonahshaw/conda-envs/py_xagg/lib/python3.12/site-packages/xagg/core.py:724: UserWarning: One or more of the pixels in variable tas have nans in them in the dimensions time. The code can currently only deal with pixels for which the *entire* pixel has nan values in all dimensions, however there is currently no  support for data in which pixels have only some nan values. The aggregation calculation is likely incorrect.\n",
      "  warnings.warn('One or more of the pixels in variable '+var+' have nans in them in the dimensions '+\n"
     ]
    },
    {
     "name": "stdout",
     "output_type": "stream",
     "text": [
      "/glade/u/home/jonahshaw/w/trend_uncertainty/nathan/OBS_LENS//GISTEMP_5x5/20240820/xagg//ensembleChunk_5x5_0001.nc\n"
     ]
    },
    {
     "name": "stderr",
     "output_type": "stream",
     "text": [
      "/glade/work/jonahshaw/conda-envs/py_xagg/lib/python3.12/site-packages/xagg/core.py:724: UserWarning: One or more of the pixels in variable tas have nans in them in the dimensions time. The code can currently only deal with pixels for which the *entire* pixel has nan values in all dimensions, however there is currently no  support for data in which pixels have only some nan values. The aggregation calculation is likely incorrect.\n",
      "  warnings.warn('One or more of the pixels in variable '+var+' have nans in them in the dimensions '+\n",
      "/glade/work/jonahshaw/conda-envs/py_xagg/lib/python3.12/site-packages/xagg/core.py:724: UserWarning: One or more of the pixels in variable tas have nans in them in the dimensions time. The code can currently only deal with pixels for which the *entire* pixel has nan values in all dimensions, however there is currently no  support for data in which pixels have only some nan values. The aggregation calculation is likely incorrect.\n",
      "  warnings.warn('One or more of the pixels in variable '+var+' have nans in them in the dimensions '+\n",
      "/glade/work/jonahshaw/conda-envs/py_xagg/lib/python3.12/site-packages/xagg/core.py:724: UserWarning: One or more of the pixels in variable tas have nans in them in the dimensions time. The code can currently only deal with pixels for which the *entire* pixel has nan values in all dimensions, however there is currently no  support for data in which pixels have only some nan values. The aggregation calculation is likely incorrect.\n",
      "  warnings.warn('One or more of the pixels in variable '+var+' have nans in them in the dimensions '+\n",
      "/glade/work/jonahshaw/conda-envs/py_xagg/lib/python3.12/site-packages/xagg/core.py:724: UserWarning: One or more of the pixels in variable tas have nans in them in the dimensions time. The code can currently only deal with pixels for which the *entire* pixel has nan values in all dimensions, however there is currently no  support for data in which pixels have only some nan values. The aggregation calculation is likely incorrect.\n",
      "  warnings.warn('One or more of the pixels in variable '+var+' have nans in them in the dimensions '+\n",
      "/glade/work/jonahshaw/conda-envs/py_xagg/lib/python3.12/site-packages/xagg/core.py:724: UserWarning: One or more of the pixels in variable tas have nans in them in the dimensions time. The code can currently only deal with pixels for which the *entire* pixel has nan values in all dimensions, however there is currently no  support for data in which pixels have only some nan values. The aggregation calculation is likely incorrect.\n",
      "  warnings.warn('One or more of the pixels in variable '+var+' have nans in them in the dimensions '+\n",
      "/glade/work/jonahshaw/conda-envs/py_xagg/lib/python3.12/site-packages/xagg/core.py:724: UserWarning: One or more of the pixels in variable tas have nans in them in the dimensions time. The code can currently only deal with pixels for which the *entire* pixel has nan values in all dimensions, however there is currently no  support for data in which pixels have only some nan values. The aggregation calculation is likely incorrect.\n",
      "  warnings.warn('One or more of the pixels in variable '+var+' have nans in them in the dimensions '+\n",
      "/glade/work/jonahshaw/conda-envs/py_xagg/lib/python3.12/site-packages/xagg/core.py:724: UserWarning: One or more of the pixels in variable tas have nans in them in the dimensions time. The code can currently only deal with pixels for which the *entire* pixel has nan values in all dimensions, however there is currently no  support for data in which pixels have only some nan values. The aggregation calculation is likely incorrect.\n",
      "  warnings.warn('One or more of the pixels in variable '+var+' have nans in them in the dimensions '+\n",
      "/glade/work/jonahshaw/conda-envs/py_xagg/lib/python3.12/site-packages/xagg/core.py:724: UserWarning: One or more of the pixels in variable tas have nans in them in the dimensions time. The code can currently only deal with pixels for which the *entire* pixel has nan values in all dimensions, however there is currently no  support for data in which pixels have only some nan values. The aggregation calculation is likely incorrect.\n",
      "  warnings.warn('One or more of the pixels in variable '+var+' have nans in them in the dimensions '+\n",
      "/glade/work/jonahshaw/conda-envs/py_xagg/lib/python3.12/site-packages/xagg/core.py:724: UserWarning: One or more of the pixels in variable tas have nans in them in the dimensions time. The code can currently only deal with pixels for which the *entire* pixel has nan values in all dimensions, however there is currently no  support for data in which pixels have only some nan values. The aggregation calculation is likely incorrect.\n",
      "  warnings.warn('One or more of the pixels in variable '+var+' have nans in them in the dimensions '+\n",
      "/glade/work/jonahshaw/conda-envs/py_xagg/lib/python3.12/site-packages/xagg/core.py:724: UserWarning: One or more of the pixels in variable tas have nans in them in the dimensions time. The code can currently only deal with pixels for which the *entire* pixel has nan values in all dimensions, however there is currently no  support for data in which pixels have only some nan values. The aggregation calculation is likely incorrect.\n",
      "  warnings.warn('One or more of the pixels in variable '+var+' have nans in them in the dimensions '+\n",
      "/glade/work/jonahshaw/conda-envs/py_xagg/lib/python3.12/site-packages/xagg/core.py:724: UserWarning: One or more of the pixels in variable tas have nans in them in the dimensions time. The code can currently only deal with pixels for which the *entire* pixel has nan values in all dimensions, however there is currently no  support for data in which pixels have only some nan values. The aggregation calculation is likely incorrect.\n",
      "  warnings.warn('One or more of the pixels in variable '+var+' have nans in them in the dimensions '+\n",
      "/glade/work/jonahshaw/conda-envs/py_xagg/lib/python3.12/site-packages/xagg/core.py:724: UserWarning: One or more of the pixels in variable tas have nans in them in the dimensions time. The code can currently only deal with pixels for which the *entire* pixel has nan values in all dimensions, however there is currently no  support for data in which pixels have only some nan values. The aggregation calculation is likely incorrect.\n",
      "  warnings.warn('One or more of the pixels in variable '+var+' have nans in them in the dimensions '+\n",
      "/glade/work/jonahshaw/conda-envs/py_xagg/lib/python3.12/site-packages/xagg/core.py:724: UserWarning: One or more of the pixels in variable tas have nans in them in the dimensions time. The code can currently only deal with pixels for which the *entire* pixel has nan values in all dimensions, however there is currently no  support for data in which pixels have only some nan values. The aggregation calculation is likely incorrect.\n",
      "  warnings.warn('One or more of the pixels in variable '+var+' have nans in them in the dimensions '+\n",
      "/glade/work/jonahshaw/conda-envs/py_xagg/lib/python3.12/site-packages/xagg/core.py:724: UserWarning: One or more of the pixels in variable tas have nans in them in the dimensions time. The code can currently only deal with pixels for which the *entire* pixel has nan values in all dimensions, however there is currently no  support for data in which pixels have only some nan values. The aggregation calculation is likely incorrect.\n",
      "  warnings.warn('One or more of the pixels in variable '+var+' have nans in them in the dimensions '+\n",
      "/glade/work/jonahshaw/conda-envs/py_xagg/lib/python3.12/site-packages/xagg/core.py:724: UserWarning: One or more of the pixels in variable tas have nans in them in the dimensions time. The code can currently only deal with pixels for which the *entire* pixel has nan values in all dimensions, however there is currently no  support for data in which pixels have only some nan values. The aggregation calculation is likely incorrect.\n",
      "  warnings.warn('One or more of the pixels in variable '+var+' have nans in them in the dimensions '+\n",
      "/glade/work/jonahshaw/conda-envs/py_xagg/lib/python3.12/site-packages/xagg/core.py:724: UserWarning: One or more of the pixels in variable tas have nans in them in the dimensions time. The code can currently only deal with pixels for which the *entire* pixel has nan values in all dimensions, however there is currently no  support for data in which pixels have only some nan values. The aggregation calculation is likely incorrect.\n",
      "  warnings.warn('One or more of the pixels in variable '+var+' have nans in them in the dimensions '+\n",
      "/glade/work/jonahshaw/conda-envs/py_xagg/lib/python3.12/site-packages/xagg/core.py:724: UserWarning: One or more of the pixels in variable tas have nans in them in the dimensions time. The code can currently only deal with pixels for which the *entire* pixel has nan values in all dimensions, however there is currently no  support for data in which pixels have only some nan values. The aggregation calculation is likely incorrect.\n",
      "  warnings.warn('One or more of the pixels in variable '+var+' have nans in them in the dimensions '+\n",
      "/glade/work/jonahshaw/conda-envs/py_xagg/lib/python3.12/site-packages/xagg/core.py:724: UserWarning: One or more of the pixels in variable tas have nans in them in the dimensions time. The code can currently only deal with pixels for which the *entire* pixel has nan values in all dimensions, however there is currently no  support for data in which pixels have only some nan values. The aggregation calculation is likely incorrect.\n",
      "  warnings.warn('One or more of the pixels in variable '+var+' have nans in them in the dimensions '+\n",
      "/glade/work/jonahshaw/conda-envs/py_xagg/lib/python3.12/site-packages/xagg/core.py:724: UserWarning: One or more of the pixels in variable tas have nans in them in the dimensions time. The code can currently only deal with pixels for which the *entire* pixel has nan values in all dimensions, however there is currently no  support for data in which pixels have only some nan values. The aggregation calculation is likely incorrect.\n",
      "  warnings.warn('One or more of the pixels in variable '+var+' have nans in them in the dimensions '+\n",
      "/glade/work/jonahshaw/conda-envs/py_xagg/lib/python3.12/site-packages/xagg/core.py:724: UserWarning: One or more of the pixels in variable tas have nans in them in the dimensions time. The code can currently only deal with pixels for which the *entire* pixel has nan values in all dimensions, however there is currently no  support for data in which pixels have only some nan values. The aggregation calculation is likely incorrect.\n",
      "  warnings.warn('One or more of the pixels in variable '+var+' have nans in them in the dimensions '+\n",
      "/glade/work/jonahshaw/conda-envs/py_xagg/lib/python3.12/site-packages/xagg/core.py:724: UserWarning: One or more of the pixels in variable tas have nans in them in the dimensions time. The code can currently only deal with pixels for which the *entire* pixel has nan values in all dimensions, however there is currently no  support for data in which pixels have only some nan values. The aggregation calculation is likely incorrect.\n",
      "  warnings.warn('One or more of the pixels in variable '+var+' have nans in them in the dimensions '+\n",
      "/glade/work/jonahshaw/conda-envs/py_xagg/lib/python3.12/site-packages/xagg/core.py:724: UserWarning: One or more of the pixels in variable tas have nans in them in the dimensions time. The code can currently only deal with pixels for which the *entire* pixel has nan values in all dimensions, however there is currently no  support for data in which pixels have only some nan values. The aggregation calculation is likely incorrect.\n",
      "  warnings.warn('One or more of the pixels in variable '+var+' have nans in them in the dimensions '+\n",
      "/glade/work/jonahshaw/conda-envs/py_xagg/lib/python3.12/site-packages/xagg/core.py:724: UserWarning: One or more of the pixels in variable tas have nans in them in the dimensions time. The code can currently only deal with pixels for which the *entire* pixel has nan values in all dimensions, however there is currently no  support for data in which pixels have only some nan values. The aggregation calculation is likely incorrect.\n",
      "  warnings.warn('One or more of the pixels in variable '+var+' have nans in them in the dimensions '+\n",
      "/glade/work/jonahshaw/conda-envs/py_xagg/lib/python3.12/site-packages/xagg/core.py:724: UserWarning: One or more of the pixels in variable tas have nans in them in the dimensions time. The code can currently only deal with pixels for which the *entire* pixel has nan values in all dimensions, however there is currently no  support for data in which pixels have only some nan values. The aggregation calculation is likely incorrect.\n",
      "  warnings.warn('One or more of the pixels in variable '+var+' have nans in them in the dimensions '+\n"
     ]
    },
    {
     "name": "stdout",
     "output_type": "stream",
     "text": [
      "/glade/u/home/jonahshaw/w/trend_uncertainty/nathan/OBS_LENS//GISTEMP_5x5/20240820/xagg//ensembleChunk_5x5_0002.nc\n"
     ]
    },
    {
     "name": "stderr",
     "output_type": "stream",
     "text": [
      "/glade/work/jonahshaw/conda-envs/py_xagg/lib/python3.12/site-packages/xagg/core.py:724: UserWarning: One or more of the pixels in variable tas have nans in them in the dimensions time. The code can currently only deal with pixels for which the *entire* pixel has nan values in all dimensions, however there is currently no  support for data in which pixels have only some nan values. The aggregation calculation is likely incorrect.\n",
      "  warnings.warn('One or more of the pixels in variable '+var+' have nans in them in the dimensions '+\n",
      "/glade/work/jonahshaw/conda-envs/py_xagg/lib/python3.12/site-packages/xagg/core.py:724: UserWarning: One or more of the pixels in variable tas have nans in them in the dimensions time. The code can currently only deal with pixels for which the *entire* pixel has nan values in all dimensions, however there is currently no  support for data in which pixels have only some nan values. The aggregation calculation is likely incorrect.\n",
      "  warnings.warn('One or more of the pixels in variable '+var+' have nans in them in the dimensions '+\n",
      "/glade/work/jonahshaw/conda-envs/py_xagg/lib/python3.12/site-packages/xagg/core.py:724: UserWarning: One or more of the pixels in variable tas have nans in them in the dimensions time. The code can currently only deal with pixels for which the *entire* pixel has nan values in all dimensions, however there is currently no  support for data in which pixels have only some nan values. The aggregation calculation is likely incorrect.\n",
      "  warnings.warn('One or more of the pixels in variable '+var+' have nans in them in the dimensions '+\n",
      "/glade/work/jonahshaw/conda-envs/py_xagg/lib/python3.12/site-packages/xagg/core.py:724: UserWarning: One or more of the pixels in variable tas have nans in them in the dimensions time. The code can currently only deal with pixels for which the *entire* pixel has nan values in all dimensions, however there is currently no  support for data in which pixels have only some nan values. The aggregation calculation is likely incorrect.\n",
      "  warnings.warn('One or more of the pixels in variable '+var+' have nans in them in the dimensions '+\n",
      "/glade/work/jonahshaw/conda-envs/py_xagg/lib/python3.12/site-packages/xagg/core.py:724: UserWarning: One or more of the pixels in variable tas have nans in them in the dimensions time. The code can currently only deal with pixels for which the *entire* pixel has nan values in all dimensions, however there is currently no  support for data in which pixels have only some nan values. The aggregation calculation is likely incorrect.\n",
      "  warnings.warn('One or more of the pixels in variable '+var+' have nans in them in the dimensions '+\n",
      "/glade/work/jonahshaw/conda-envs/py_xagg/lib/python3.12/site-packages/xagg/core.py:724: UserWarning: One or more of the pixels in variable tas have nans in them in the dimensions time. The code can currently only deal with pixels for which the *entire* pixel has nan values in all dimensions, however there is currently no  support for data in which pixels have only some nan values. The aggregation calculation is likely incorrect.\n",
      "  warnings.warn('One or more of the pixels in variable '+var+' have nans in them in the dimensions '+\n",
      "/glade/work/jonahshaw/conda-envs/py_xagg/lib/python3.12/site-packages/xagg/core.py:724: UserWarning: One or more of the pixels in variable tas have nans in them in the dimensions time. The code can currently only deal with pixels for which the *entire* pixel has nan values in all dimensions, however there is currently no  support for data in which pixels have only some nan values. The aggregation calculation is likely incorrect.\n",
      "  warnings.warn('One or more of the pixels in variable '+var+' have nans in them in the dimensions '+\n",
      "/glade/work/jonahshaw/conda-envs/py_xagg/lib/python3.12/site-packages/xagg/core.py:724: UserWarning: One or more of the pixels in variable tas have nans in them in the dimensions time. The code can currently only deal with pixels for which the *entire* pixel has nan values in all dimensions, however there is currently no  support for data in which pixels have only some nan values. The aggregation calculation is likely incorrect.\n",
      "  warnings.warn('One or more of the pixels in variable '+var+' have nans in them in the dimensions '+\n",
      "/glade/work/jonahshaw/conda-envs/py_xagg/lib/python3.12/site-packages/xagg/core.py:724: UserWarning: One or more of the pixels in variable tas have nans in them in the dimensions time. The code can currently only deal with pixels for which the *entire* pixel has nan values in all dimensions, however there is currently no  support for data in which pixels have only some nan values. The aggregation calculation is likely incorrect.\n",
      "  warnings.warn('One or more of the pixels in variable '+var+' have nans in them in the dimensions '+\n",
      "/glade/work/jonahshaw/conda-envs/py_xagg/lib/python3.12/site-packages/xagg/core.py:724: UserWarning: One or more of the pixels in variable tas have nans in them in the dimensions time. The code can currently only deal with pixels for which the *entire* pixel has nan values in all dimensions, however there is currently no  support for data in which pixels have only some nan values. The aggregation calculation is likely incorrect.\n",
      "  warnings.warn('One or more of the pixels in variable '+var+' have nans in them in the dimensions '+\n",
      "/glade/work/jonahshaw/conda-envs/py_xagg/lib/python3.12/site-packages/xagg/core.py:724: UserWarning: One or more of the pixels in variable tas have nans in them in the dimensions time. The code can currently only deal with pixels for which the *entire* pixel has nan values in all dimensions, however there is currently no  support for data in which pixels have only some nan values. The aggregation calculation is likely incorrect.\n",
      "  warnings.warn('One or more of the pixels in variable '+var+' have nans in them in the dimensions '+\n",
      "/glade/work/jonahshaw/conda-envs/py_xagg/lib/python3.12/site-packages/xagg/core.py:724: UserWarning: One or more of the pixels in variable tas have nans in them in the dimensions time. The code can currently only deal with pixels for which the *entire* pixel has nan values in all dimensions, however there is currently no  support for data in which pixels have only some nan values. The aggregation calculation is likely incorrect.\n",
      "  warnings.warn('One or more of the pixels in variable '+var+' have nans in them in the dimensions '+\n",
      "/glade/work/jonahshaw/conda-envs/py_xagg/lib/python3.12/site-packages/xagg/core.py:724: UserWarning: One or more of the pixels in variable tas have nans in them in the dimensions time. The code can currently only deal with pixels for which the *entire* pixel has nan values in all dimensions, however there is currently no  support for data in which pixels have only some nan values. The aggregation calculation is likely incorrect.\n",
      "  warnings.warn('One or more of the pixels in variable '+var+' have nans in them in the dimensions '+\n",
      "/glade/work/jonahshaw/conda-envs/py_xagg/lib/python3.12/site-packages/xagg/core.py:724: UserWarning: One or more of the pixels in variable tas have nans in them in the dimensions time. The code can currently only deal with pixels for which the *entire* pixel has nan values in all dimensions, however there is currently no  support for data in which pixels have only some nan values. The aggregation calculation is likely incorrect.\n",
      "  warnings.warn('One or more of the pixels in variable '+var+' have nans in them in the dimensions '+\n",
      "/glade/work/jonahshaw/conda-envs/py_xagg/lib/python3.12/site-packages/xagg/core.py:724: UserWarning: One or more of the pixels in variable tas have nans in them in the dimensions time. The code can currently only deal with pixels for which the *entire* pixel has nan values in all dimensions, however there is currently no  support for data in which pixels have only some nan values. The aggregation calculation is likely incorrect.\n",
      "  warnings.warn('One or more of the pixels in variable '+var+' have nans in them in the dimensions '+\n",
      "/glade/work/jonahshaw/conda-envs/py_xagg/lib/python3.12/site-packages/xagg/core.py:724: UserWarning: One or more of the pixels in variable tas have nans in them in the dimensions time. The code can currently only deal with pixels for which the *entire* pixel has nan values in all dimensions, however there is currently no  support for data in which pixels have only some nan values. The aggregation calculation is likely incorrect.\n",
      "  warnings.warn('One or more of the pixels in variable '+var+' have nans in them in the dimensions '+\n",
      "/glade/work/jonahshaw/conda-envs/py_xagg/lib/python3.12/site-packages/xagg/core.py:724: UserWarning: One or more of the pixels in variable tas have nans in them in the dimensions time. The code can currently only deal with pixels for which the *entire* pixel has nan values in all dimensions, however there is currently no  support for data in which pixels have only some nan values. The aggregation calculation is likely incorrect.\n",
      "  warnings.warn('One or more of the pixels in variable '+var+' have nans in them in the dimensions '+\n",
      "/glade/work/jonahshaw/conda-envs/py_xagg/lib/python3.12/site-packages/xagg/core.py:724: UserWarning: One or more of the pixels in variable tas have nans in them in the dimensions time. The code can currently only deal with pixels for which the *entire* pixel has nan values in all dimensions, however there is currently no  support for data in which pixels have only some nan values. The aggregation calculation is likely incorrect.\n",
      "  warnings.warn('One or more of the pixels in variable '+var+' have nans in them in the dimensions '+\n",
      "/glade/work/jonahshaw/conda-envs/py_xagg/lib/python3.12/site-packages/xagg/core.py:724: UserWarning: One or more of the pixels in variable tas have nans in them in the dimensions time. The code can currently only deal with pixels for which the *entire* pixel has nan values in all dimensions, however there is currently no  support for data in which pixels have only some nan values. The aggregation calculation is likely incorrect.\n",
      "  warnings.warn('One or more of the pixels in variable '+var+' have nans in them in the dimensions '+\n",
      "/glade/work/jonahshaw/conda-envs/py_xagg/lib/python3.12/site-packages/xagg/core.py:724: UserWarning: One or more of the pixels in variable tas have nans in them in the dimensions time. The code can currently only deal with pixels for which the *entire* pixel has nan values in all dimensions, however there is currently no  support for data in which pixels have only some nan values. The aggregation calculation is likely incorrect.\n",
      "  warnings.warn('One or more of the pixels in variable '+var+' have nans in them in the dimensions '+\n",
      "/glade/work/jonahshaw/conda-envs/py_xagg/lib/python3.12/site-packages/xagg/core.py:724: UserWarning: One or more of the pixels in variable tas have nans in them in the dimensions time. The code can currently only deal with pixels for which the *entire* pixel has nan values in all dimensions, however there is currently no  support for data in which pixels have only some nan values. The aggregation calculation is likely incorrect.\n",
      "  warnings.warn('One or more of the pixels in variable '+var+' have nans in them in the dimensions '+\n",
      "/glade/work/jonahshaw/conda-envs/py_xagg/lib/python3.12/site-packages/xagg/core.py:724: UserWarning: One or more of the pixels in variable tas have nans in them in the dimensions time. The code can currently only deal with pixels for which the *entire* pixel has nan values in all dimensions, however there is currently no  support for data in which pixels have only some nan values. The aggregation calculation is likely incorrect.\n",
      "  warnings.warn('One or more of the pixels in variable '+var+' have nans in them in the dimensions '+\n",
      "/glade/work/jonahshaw/conda-envs/py_xagg/lib/python3.12/site-packages/xagg/core.py:724: UserWarning: One or more of the pixels in variable tas have nans in them in the dimensions time. The code can currently only deal with pixels for which the *entire* pixel has nan values in all dimensions, however there is currently no  support for data in which pixels have only some nan values. The aggregation calculation is likely incorrect.\n",
      "  warnings.warn('One or more of the pixels in variable '+var+' have nans in them in the dimensions '+\n",
      "/glade/work/jonahshaw/conda-envs/py_xagg/lib/python3.12/site-packages/xagg/core.py:724: UserWarning: One or more of the pixels in variable tas have nans in them in the dimensions time. The code can currently only deal with pixels for which the *entire* pixel has nan values in all dimensions, however there is currently no  support for data in which pixels have only some nan values. The aggregation calculation is likely incorrect.\n",
      "  warnings.warn('One or more of the pixels in variable '+var+' have nans in them in the dimensions '+\n"
     ]
    },
    {
     "name": "stdout",
     "output_type": "stream",
     "text": [
      "/glade/u/home/jonahshaw/w/trend_uncertainty/nathan/OBS_LENS//GISTEMP_5x5/20240820/xagg//ensembleChunk_5x5_0003.nc\n",
      "CPU times: user 6.59 s, sys: 4.24 s, total: 10.8 s\n",
      "Wall time: 11.2 s\n"
     ]
    }
   ],
   "source": [
    "%%time\n",
    "\n",
    "# gistemp_new_times = (pd.date_range(\"1900-01-01\", freq=\"1M\", periods=12*61)-pd.offsets.MonthBegin(1)).shift(periods=14,freq='D')\n",
    "model_subdir = 'GISTEMP_5x5/20240820/xagg/'\n",
    "\n",
    "if not os.path.exists(os.path.join(save_dir,model_subdir)):\n",
    "    os.makedirs(os.path.join(save_dir,model_subdir))\n",
    "\n",
    "# Variable to select and operate over.\n",
    "_ds_var = gistemp_tas_var\n",
    "\n",
    "for i,_ds_filepath in enumerate(gistemp_files):\n",
    "    # break\n",
    "    xagg_region_means = create_ipccregion_timeseries_xagg(\n",
    "        ds_filepath=_ds_filepath,\n",
    "        ds_var=_ds_var,\n",
    "        model_str=\"GISTEMP_5x5\",\n",
    "        cesm=False,\n",
    "    )\n",
    "\n",
    "    avail_mask = mask_IPCC_byavailability(\n",
    "        filepath=_ds_filepath,\n",
    "        var=gistemp_tas_var,\n",
    "        regions=regionmask.defined_regions.ar6.all,\n",
    "        masking_threshold=0.9,\n",
    "        ufunc=gistemp_5x5_preproc,\n",
    "    )\n",
    "\n",
    "    ipcc_regions_maskedavail = xagg_region_means.where(avail_mask)\n",
    "    \n",
    "    # Add \"realization\" coordinate so concatenation is easier.\n",
    "    ipcc_regions_maskedavail = ipcc_regions_maskedavail.assign_coords(realization=i+1).expand_dims(\"realization\")\n",
    "    \n",
    "    filename = _ds_filepath.split('/')[-1]\n",
    "    \n",
    "    _outfilepath = '%s/%s/%s' % (save_dir,model_subdir,filename)\n",
    "    print(_outfilepath)\n",
    "    \n",
    "    # break\n",
    "    ipcc_regions_maskedavail.to_netcdf(path=_outfilepath)\n",
    "    if i == 2: break\n",
    "    \n",
    "    "
   ]
  },
  {
   "cell_type": "code",
   "execution_count": 22,
   "id": "54246a4f-8e69-4a11-a2ab-6d8808261a24",
   "metadata": {},
   "outputs": [],
   "source": [
    "ex_gistemp_5x5_tseries = _regional_tseries"
   ]
  },
  {
   "cell_type": "markdown",
   "id": "6a13f127-7653-4b38-833e-8b5b382798e2",
   "metadata": {},
   "source": [
    "#### HadCRUT5"
   ]
  },
  {
   "cell_type": "code",
   "execution_count": 31,
   "id": "94fa0520-888a-49e4-8aa5-3f3d3b3a1e4d",
   "metadata": {},
   "outputs": [],
   "source": [
    "# # Arbitrary function to apply\n",
    "\n",
    "# def hadcrut5_tselect(da:xr.DataArray):\n",
    "    \n",
    "#     return da.sel(time=slice('1900-01-01','2022-12-31')).rename({'longitude':'lon','latitude':'lat'})"
   ]
  },
  {
   "cell_type": "code",
   "execution_count": null,
   "id": "68061af7",
   "metadata": {},
   "outputs": [],
   "source": [
    "# Arbitrary function to apply\n",
    "\n",
    "def hadcrut5_preproc(da:xr.DataArray):\n",
    "    \n",
    "    return da.rename({'longitude':'lon','latitude':'lat'})"
   ]
  },
  {
   "cell_type": "code",
   "execution_count": 32,
   "id": "1fbac4c5-43cf-4727-b293-f080f69fbbb0",
   "metadata": {
    "tags": []
   },
   "outputs": [
    {
     "name": "stdout",
     "output_type": "stream",
     "text": [
      "/glade/u/home/jonahshaw/w/trend_uncertainty/nathan/OBS_LENS//HadCRUT5/20240820//HadCRUT.5.0.2.0.analysis.anomalies.1.nc\n",
      "/glade/u/home/jonahshaw/w/trend_uncertainty/nathan/OBS_LENS//HadCRUT5/20240820//HadCRUT.5.0.2.0.analysis.anomalies.10.nc\n",
      "/glade/u/home/jonahshaw/w/trend_uncertainty/nathan/OBS_LENS//HadCRUT5/20240820//HadCRUT.5.0.2.0.analysis.anomalies.100.nc\n",
      "/glade/u/home/jonahshaw/w/trend_uncertainty/nathan/OBS_LENS//HadCRUT5/20240820//HadCRUT.5.0.2.0.analysis.anomalies.101.nc\n",
      "/glade/u/home/jonahshaw/w/trend_uncertainty/nathan/OBS_LENS//HadCRUT5/20240820//HadCRUT.5.0.2.0.analysis.anomalies.102.nc\n",
      "/glade/u/home/jonahshaw/w/trend_uncertainty/nathan/OBS_LENS//HadCRUT5/20240820//HadCRUT.5.0.2.0.analysis.anomalies.103.nc\n",
      "/glade/u/home/jonahshaw/w/trend_uncertainty/nathan/OBS_LENS//HadCRUT5/20240820//HadCRUT.5.0.2.0.analysis.anomalies.104.nc\n",
      "/glade/u/home/jonahshaw/w/trend_uncertainty/nathan/OBS_LENS//HadCRUT5/20240820//HadCRUT.5.0.2.0.analysis.anomalies.105.nc\n",
      "/glade/u/home/jonahshaw/w/trend_uncertainty/nathan/OBS_LENS//HadCRUT5/20240820//HadCRUT.5.0.2.0.analysis.anomalies.106.nc\n",
      "/glade/u/home/jonahshaw/w/trend_uncertainty/nathan/OBS_LENS//HadCRUT5/20240820//HadCRUT.5.0.2.0.analysis.anomalies.107.nc\n",
      "/glade/u/home/jonahshaw/w/trend_uncertainty/nathan/OBS_LENS//HadCRUT5/20240820//HadCRUT.5.0.2.0.analysis.anomalies.108.nc\n",
      "/glade/u/home/jonahshaw/w/trend_uncertainty/nathan/OBS_LENS//HadCRUT5/20240820//HadCRUT.5.0.2.0.analysis.anomalies.109.nc\n",
      "/glade/u/home/jonahshaw/w/trend_uncertainty/nathan/OBS_LENS//HadCRUT5/20240820//HadCRUT.5.0.2.0.analysis.anomalies.11.nc\n",
      "/glade/u/home/jonahshaw/w/trend_uncertainty/nathan/OBS_LENS//HadCRUT5/20240820//HadCRUT.5.0.2.0.analysis.anomalies.110.nc\n",
      "/glade/u/home/jonahshaw/w/trend_uncertainty/nathan/OBS_LENS//HadCRUT5/20240820//HadCRUT.5.0.2.0.analysis.anomalies.111.nc\n",
      "/glade/u/home/jonahshaw/w/trend_uncertainty/nathan/OBS_LENS//HadCRUT5/20240820//HadCRUT.5.0.2.0.analysis.anomalies.112.nc\n",
      "/glade/u/home/jonahshaw/w/trend_uncertainty/nathan/OBS_LENS//HadCRUT5/20240820//HadCRUT.5.0.2.0.analysis.anomalies.113.nc\n",
      "/glade/u/home/jonahshaw/w/trend_uncertainty/nathan/OBS_LENS//HadCRUT5/20240820//HadCRUT.5.0.2.0.analysis.anomalies.114.nc\n",
      "/glade/u/home/jonahshaw/w/trend_uncertainty/nathan/OBS_LENS//HadCRUT5/20240820//HadCRUT.5.0.2.0.analysis.anomalies.115.nc\n",
      "/glade/u/home/jonahshaw/w/trend_uncertainty/nathan/OBS_LENS//HadCRUT5/20240820//HadCRUT.5.0.2.0.analysis.anomalies.116.nc\n",
      "/glade/u/home/jonahshaw/w/trend_uncertainty/nathan/OBS_LENS//HadCRUT5/20240820//HadCRUT.5.0.2.0.analysis.anomalies.117.nc\n",
      "/glade/u/home/jonahshaw/w/trend_uncertainty/nathan/OBS_LENS//HadCRUT5/20240820//HadCRUT.5.0.2.0.analysis.anomalies.118.nc\n",
      "/glade/u/home/jonahshaw/w/trend_uncertainty/nathan/OBS_LENS//HadCRUT5/20240820//HadCRUT.5.0.2.0.analysis.anomalies.119.nc\n",
      "/glade/u/home/jonahshaw/w/trend_uncertainty/nathan/OBS_LENS//HadCRUT5/20240820//HadCRUT.5.0.2.0.analysis.anomalies.12.nc\n",
      "/glade/u/home/jonahshaw/w/trend_uncertainty/nathan/OBS_LENS//HadCRUT5/20240820//HadCRUT.5.0.2.0.analysis.anomalies.120.nc\n",
      "/glade/u/home/jonahshaw/w/trend_uncertainty/nathan/OBS_LENS//HadCRUT5/20240820//HadCRUT.5.0.2.0.analysis.anomalies.121.nc\n",
      "/glade/u/home/jonahshaw/w/trend_uncertainty/nathan/OBS_LENS//HadCRUT5/20240820//HadCRUT.5.0.2.0.analysis.anomalies.122.nc\n",
      "/glade/u/home/jonahshaw/w/trend_uncertainty/nathan/OBS_LENS//HadCRUT5/20240820//HadCRUT.5.0.2.0.analysis.anomalies.123.nc\n",
      "/glade/u/home/jonahshaw/w/trend_uncertainty/nathan/OBS_LENS//HadCRUT5/20240820//HadCRUT.5.0.2.0.analysis.anomalies.124.nc\n",
      "/glade/u/home/jonahshaw/w/trend_uncertainty/nathan/OBS_LENS//HadCRUT5/20240820//HadCRUT.5.0.2.0.analysis.anomalies.125.nc\n",
      "/glade/u/home/jonahshaw/w/trend_uncertainty/nathan/OBS_LENS//HadCRUT5/20240820//HadCRUT.5.0.2.0.analysis.anomalies.126.nc\n",
      "/glade/u/home/jonahshaw/w/trend_uncertainty/nathan/OBS_LENS//HadCRUT5/20240820//HadCRUT.5.0.2.0.analysis.anomalies.127.nc\n",
      "/glade/u/home/jonahshaw/w/trend_uncertainty/nathan/OBS_LENS//HadCRUT5/20240820//HadCRUT.5.0.2.0.analysis.anomalies.128.nc\n",
      "/glade/u/home/jonahshaw/w/trend_uncertainty/nathan/OBS_LENS//HadCRUT5/20240820//HadCRUT.5.0.2.0.analysis.anomalies.129.nc\n",
      "/glade/u/home/jonahshaw/w/trend_uncertainty/nathan/OBS_LENS//HadCRUT5/20240820//HadCRUT.5.0.2.0.analysis.anomalies.13.nc\n",
      "/glade/u/home/jonahshaw/w/trend_uncertainty/nathan/OBS_LENS//HadCRUT5/20240820//HadCRUT.5.0.2.0.analysis.anomalies.130.nc\n",
      "/glade/u/home/jonahshaw/w/trend_uncertainty/nathan/OBS_LENS//HadCRUT5/20240820//HadCRUT.5.0.2.0.analysis.anomalies.131.nc\n",
      "/glade/u/home/jonahshaw/w/trend_uncertainty/nathan/OBS_LENS//HadCRUT5/20240820//HadCRUT.5.0.2.0.analysis.anomalies.132.nc\n",
      "/glade/u/home/jonahshaw/w/trend_uncertainty/nathan/OBS_LENS//HadCRUT5/20240820//HadCRUT.5.0.2.0.analysis.anomalies.133.nc\n",
      "/glade/u/home/jonahshaw/w/trend_uncertainty/nathan/OBS_LENS//HadCRUT5/20240820//HadCRUT.5.0.2.0.analysis.anomalies.134.nc\n",
      "/glade/u/home/jonahshaw/w/trend_uncertainty/nathan/OBS_LENS//HadCRUT5/20240820//HadCRUT.5.0.2.0.analysis.anomalies.135.nc\n",
      "/glade/u/home/jonahshaw/w/trend_uncertainty/nathan/OBS_LENS//HadCRUT5/20240820//HadCRUT.5.0.2.0.analysis.anomalies.136.nc\n",
      "/glade/u/home/jonahshaw/w/trend_uncertainty/nathan/OBS_LENS//HadCRUT5/20240820//HadCRUT.5.0.2.0.analysis.anomalies.137.nc\n",
      "/glade/u/home/jonahshaw/w/trend_uncertainty/nathan/OBS_LENS//HadCRUT5/20240820//HadCRUT.5.0.2.0.analysis.anomalies.138.nc\n",
      "/glade/u/home/jonahshaw/w/trend_uncertainty/nathan/OBS_LENS//HadCRUT5/20240820//HadCRUT.5.0.2.0.analysis.anomalies.139.nc\n",
      "/glade/u/home/jonahshaw/w/trend_uncertainty/nathan/OBS_LENS//HadCRUT5/20240820//HadCRUT.5.0.2.0.analysis.anomalies.14.nc\n",
      "/glade/u/home/jonahshaw/w/trend_uncertainty/nathan/OBS_LENS//HadCRUT5/20240820//HadCRUT.5.0.2.0.analysis.anomalies.140.nc\n",
      "/glade/u/home/jonahshaw/w/trend_uncertainty/nathan/OBS_LENS//HadCRUT5/20240820//HadCRUT.5.0.2.0.analysis.anomalies.141.nc\n",
      "/glade/u/home/jonahshaw/w/trend_uncertainty/nathan/OBS_LENS//HadCRUT5/20240820//HadCRUT.5.0.2.0.analysis.anomalies.142.nc\n",
      "/glade/u/home/jonahshaw/w/trend_uncertainty/nathan/OBS_LENS//HadCRUT5/20240820//HadCRUT.5.0.2.0.analysis.anomalies.143.nc\n",
      "/glade/u/home/jonahshaw/w/trend_uncertainty/nathan/OBS_LENS//HadCRUT5/20240820//HadCRUT.5.0.2.0.analysis.anomalies.144.nc\n",
      "/glade/u/home/jonahshaw/w/trend_uncertainty/nathan/OBS_LENS//HadCRUT5/20240820//HadCRUT.5.0.2.0.analysis.anomalies.145.nc\n",
      "/glade/u/home/jonahshaw/w/trend_uncertainty/nathan/OBS_LENS//HadCRUT5/20240820//HadCRUT.5.0.2.0.analysis.anomalies.146.nc\n",
      "/glade/u/home/jonahshaw/w/trend_uncertainty/nathan/OBS_LENS//HadCRUT5/20240820//HadCRUT.5.0.2.0.analysis.anomalies.147.nc\n",
      "/glade/u/home/jonahshaw/w/trend_uncertainty/nathan/OBS_LENS//HadCRUT5/20240820//HadCRUT.5.0.2.0.analysis.anomalies.148.nc\n",
      "/glade/u/home/jonahshaw/w/trend_uncertainty/nathan/OBS_LENS//HadCRUT5/20240820//HadCRUT.5.0.2.0.analysis.anomalies.149.nc\n",
      "/glade/u/home/jonahshaw/w/trend_uncertainty/nathan/OBS_LENS//HadCRUT5/20240820//HadCRUT.5.0.2.0.analysis.anomalies.15.nc\n",
      "/glade/u/home/jonahshaw/w/trend_uncertainty/nathan/OBS_LENS//HadCRUT5/20240820//HadCRUT.5.0.2.0.analysis.anomalies.150.nc\n",
      "/glade/u/home/jonahshaw/w/trend_uncertainty/nathan/OBS_LENS//HadCRUT5/20240820//HadCRUT.5.0.2.0.analysis.anomalies.151.nc\n",
      "/glade/u/home/jonahshaw/w/trend_uncertainty/nathan/OBS_LENS//HadCRUT5/20240820//HadCRUT.5.0.2.0.analysis.anomalies.152.nc\n",
      "/glade/u/home/jonahshaw/w/trend_uncertainty/nathan/OBS_LENS//HadCRUT5/20240820//HadCRUT.5.0.2.0.analysis.anomalies.153.nc\n",
      "/glade/u/home/jonahshaw/w/trend_uncertainty/nathan/OBS_LENS//HadCRUT5/20240820//HadCRUT.5.0.2.0.analysis.anomalies.154.nc\n",
      "/glade/u/home/jonahshaw/w/trend_uncertainty/nathan/OBS_LENS//HadCRUT5/20240820//HadCRUT.5.0.2.0.analysis.anomalies.155.nc\n",
      "/glade/u/home/jonahshaw/w/trend_uncertainty/nathan/OBS_LENS//HadCRUT5/20240820//HadCRUT.5.0.2.0.analysis.anomalies.156.nc\n",
      "/glade/u/home/jonahshaw/w/trend_uncertainty/nathan/OBS_LENS//HadCRUT5/20240820//HadCRUT.5.0.2.0.analysis.anomalies.157.nc\n",
      "/glade/u/home/jonahshaw/w/trend_uncertainty/nathan/OBS_LENS//HadCRUT5/20240820//HadCRUT.5.0.2.0.analysis.anomalies.158.nc\n",
      "/glade/u/home/jonahshaw/w/trend_uncertainty/nathan/OBS_LENS//HadCRUT5/20240820//HadCRUT.5.0.2.0.analysis.anomalies.159.nc\n",
      "/glade/u/home/jonahshaw/w/trend_uncertainty/nathan/OBS_LENS//HadCRUT5/20240820//HadCRUT.5.0.2.0.analysis.anomalies.16.nc\n",
      "/glade/u/home/jonahshaw/w/trend_uncertainty/nathan/OBS_LENS//HadCRUT5/20240820//HadCRUT.5.0.2.0.analysis.anomalies.160.nc\n",
      "/glade/u/home/jonahshaw/w/trend_uncertainty/nathan/OBS_LENS//HadCRUT5/20240820//HadCRUT.5.0.2.0.analysis.anomalies.161.nc\n",
      "/glade/u/home/jonahshaw/w/trend_uncertainty/nathan/OBS_LENS//HadCRUT5/20240820//HadCRUT.5.0.2.0.analysis.anomalies.162.nc\n",
      "/glade/u/home/jonahshaw/w/trend_uncertainty/nathan/OBS_LENS//HadCRUT5/20240820//HadCRUT.5.0.2.0.analysis.anomalies.163.nc\n",
      "/glade/u/home/jonahshaw/w/trend_uncertainty/nathan/OBS_LENS//HadCRUT5/20240820//HadCRUT.5.0.2.0.analysis.anomalies.164.nc\n",
      "/glade/u/home/jonahshaw/w/trend_uncertainty/nathan/OBS_LENS//HadCRUT5/20240820//HadCRUT.5.0.2.0.analysis.anomalies.165.nc\n",
      "/glade/u/home/jonahshaw/w/trend_uncertainty/nathan/OBS_LENS//HadCRUT5/20240820//HadCRUT.5.0.2.0.analysis.anomalies.166.nc\n",
      "/glade/u/home/jonahshaw/w/trend_uncertainty/nathan/OBS_LENS//HadCRUT5/20240820//HadCRUT.5.0.2.0.analysis.anomalies.167.nc\n",
      "/glade/u/home/jonahshaw/w/trend_uncertainty/nathan/OBS_LENS//HadCRUT5/20240820//HadCRUT.5.0.2.0.analysis.anomalies.168.nc\n",
      "/glade/u/home/jonahshaw/w/trend_uncertainty/nathan/OBS_LENS//HadCRUT5/20240820//HadCRUT.5.0.2.0.analysis.anomalies.169.nc\n",
      "/glade/u/home/jonahshaw/w/trend_uncertainty/nathan/OBS_LENS//HadCRUT5/20240820//HadCRUT.5.0.2.0.analysis.anomalies.17.nc\n",
      "/glade/u/home/jonahshaw/w/trend_uncertainty/nathan/OBS_LENS//HadCRUT5/20240820//HadCRUT.5.0.2.0.analysis.anomalies.170.nc\n",
      "/glade/u/home/jonahshaw/w/trend_uncertainty/nathan/OBS_LENS//HadCRUT5/20240820//HadCRUT.5.0.2.0.analysis.anomalies.171.nc\n",
      "/glade/u/home/jonahshaw/w/trend_uncertainty/nathan/OBS_LENS//HadCRUT5/20240820//HadCRUT.5.0.2.0.analysis.anomalies.172.nc\n",
      "/glade/u/home/jonahshaw/w/trend_uncertainty/nathan/OBS_LENS//HadCRUT5/20240820//HadCRUT.5.0.2.0.analysis.anomalies.173.nc\n",
      "/glade/u/home/jonahshaw/w/trend_uncertainty/nathan/OBS_LENS//HadCRUT5/20240820//HadCRUT.5.0.2.0.analysis.anomalies.174.nc\n",
      "/glade/u/home/jonahshaw/w/trend_uncertainty/nathan/OBS_LENS//HadCRUT5/20240820//HadCRUT.5.0.2.0.analysis.anomalies.175.nc\n",
      "/glade/u/home/jonahshaw/w/trend_uncertainty/nathan/OBS_LENS//HadCRUT5/20240820//HadCRUT.5.0.2.0.analysis.anomalies.176.nc\n",
      "/glade/u/home/jonahshaw/w/trend_uncertainty/nathan/OBS_LENS//HadCRUT5/20240820//HadCRUT.5.0.2.0.analysis.anomalies.177.nc\n",
      "/glade/u/home/jonahshaw/w/trend_uncertainty/nathan/OBS_LENS//HadCRUT5/20240820//HadCRUT.5.0.2.0.analysis.anomalies.178.nc\n",
      "/glade/u/home/jonahshaw/w/trend_uncertainty/nathan/OBS_LENS//HadCRUT5/20240820//HadCRUT.5.0.2.0.analysis.anomalies.179.nc\n",
      "/glade/u/home/jonahshaw/w/trend_uncertainty/nathan/OBS_LENS//HadCRUT5/20240820//HadCRUT.5.0.2.0.analysis.anomalies.18.nc\n",
      "/glade/u/home/jonahshaw/w/trend_uncertainty/nathan/OBS_LENS//HadCRUT5/20240820//HadCRUT.5.0.2.0.analysis.anomalies.180.nc\n",
      "/glade/u/home/jonahshaw/w/trend_uncertainty/nathan/OBS_LENS//HadCRUT5/20240820//HadCRUT.5.0.2.0.analysis.anomalies.181.nc\n",
      "/glade/u/home/jonahshaw/w/trend_uncertainty/nathan/OBS_LENS//HadCRUT5/20240820//HadCRUT.5.0.2.0.analysis.anomalies.182.nc\n",
      "/glade/u/home/jonahshaw/w/trend_uncertainty/nathan/OBS_LENS//HadCRUT5/20240820//HadCRUT.5.0.2.0.analysis.anomalies.183.nc\n",
      "/glade/u/home/jonahshaw/w/trend_uncertainty/nathan/OBS_LENS//HadCRUT5/20240820//HadCRUT.5.0.2.0.analysis.anomalies.184.nc\n",
      "/glade/u/home/jonahshaw/w/trend_uncertainty/nathan/OBS_LENS//HadCRUT5/20240820//HadCRUT.5.0.2.0.analysis.anomalies.185.nc\n",
      "/glade/u/home/jonahshaw/w/trend_uncertainty/nathan/OBS_LENS//HadCRUT5/20240820//HadCRUT.5.0.2.0.analysis.anomalies.186.nc\n",
      "/glade/u/home/jonahshaw/w/trend_uncertainty/nathan/OBS_LENS//HadCRUT5/20240820//HadCRUT.5.0.2.0.analysis.anomalies.187.nc\n",
      "/glade/u/home/jonahshaw/w/trend_uncertainty/nathan/OBS_LENS//HadCRUT5/20240820//HadCRUT.5.0.2.0.analysis.anomalies.188.nc\n",
      "/glade/u/home/jonahshaw/w/trend_uncertainty/nathan/OBS_LENS//HadCRUT5/20240820//HadCRUT.5.0.2.0.analysis.anomalies.189.nc\n",
      "/glade/u/home/jonahshaw/w/trend_uncertainty/nathan/OBS_LENS//HadCRUT5/20240820//HadCRUT.5.0.2.0.analysis.anomalies.19.nc\n",
      "/glade/u/home/jonahshaw/w/trend_uncertainty/nathan/OBS_LENS//HadCRUT5/20240820//HadCRUT.5.0.2.0.analysis.anomalies.190.nc\n",
      "/glade/u/home/jonahshaw/w/trend_uncertainty/nathan/OBS_LENS//HadCRUT5/20240820//HadCRUT.5.0.2.0.analysis.anomalies.191.nc\n",
      "/glade/u/home/jonahshaw/w/trend_uncertainty/nathan/OBS_LENS//HadCRUT5/20240820//HadCRUT.5.0.2.0.analysis.anomalies.192.nc\n",
      "/glade/u/home/jonahshaw/w/trend_uncertainty/nathan/OBS_LENS//HadCRUT5/20240820//HadCRUT.5.0.2.0.analysis.anomalies.193.nc\n",
      "/glade/u/home/jonahshaw/w/trend_uncertainty/nathan/OBS_LENS//HadCRUT5/20240820//HadCRUT.5.0.2.0.analysis.anomalies.194.nc\n",
      "/glade/u/home/jonahshaw/w/trend_uncertainty/nathan/OBS_LENS//HadCRUT5/20240820//HadCRUT.5.0.2.0.analysis.anomalies.195.nc\n",
      "/glade/u/home/jonahshaw/w/trend_uncertainty/nathan/OBS_LENS//HadCRUT5/20240820//HadCRUT.5.0.2.0.analysis.anomalies.196.nc\n",
      "/glade/u/home/jonahshaw/w/trend_uncertainty/nathan/OBS_LENS//HadCRUT5/20240820//HadCRUT.5.0.2.0.analysis.anomalies.197.nc\n",
      "/glade/u/home/jonahshaw/w/trend_uncertainty/nathan/OBS_LENS//HadCRUT5/20240820//HadCRUT.5.0.2.0.analysis.anomalies.198.nc\n",
      "/glade/u/home/jonahshaw/w/trend_uncertainty/nathan/OBS_LENS//HadCRUT5/20240820//HadCRUT.5.0.2.0.analysis.anomalies.199.nc\n",
      "/glade/u/home/jonahshaw/w/trend_uncertainty/nathan/OBS_LENS//HadCRUT5/20240820//HadCRUT.5.0.2.0.analysis.anomalies.2.nc\n",
      "/glade/u/home/jonahshaw/w/trend_uncertainty/nathan/OBS_LENS//HadCRUT5/20240820//HadCRUT.5.0.2.0.analysis.anomalies.20.nc\n",
      "/glade/u/home/jonahshaw/w/trend_uncertainty/nathan/OBS_LENS//HadCRUT5/20240820//HadCRUT.5.0.2.0.analysis.anomalies.200.nc\n",
      "/glade/u/home/jonahshaw/w/trend_uncertainty/nathan/OBS_LENS//HadCRUT5/20240820//HadCRUT.5.0.2.0.analysis.anomalies.21.nc\n",
      "/glade/u/home/jonahshaw/w/trend_uncertainty/nathan/OBS_LENS//HadCRUT5/20240820//HadCRUT.5.0.2.0.analysis.anomalies.22.nc\n",
      "/glade/u/home/jonahshaw/w/trend_uncertainty/nathan/OBS_LENS//HadCRUT5/20240820//HadCRUT.5.0.2.0.analysis.anomalies.23.nc\n",
      "/glade/u/home/jonahshaw/w/trend_uncertainty/nathan/OBS_LENS//HadCRUT5/20240820//HadCRUT.5.0.2.0.analysis.anomalies.24.nc\n",
      "/glade/u/home/jonahshaw/w/trend_uncertainty/nathan/OBS_LENS//HadCRUT5/20240820//HadCRUT.5.0.2.0.analysis.anomalies.25.nc\n",
      "/glade/u/home/jonahshaw/w/trend_uncertainty/nathan/OBS_LENS//HadCRUT5/20240820//HadCRUT.5.0.2.0.analysis.anomalies.26.nc\n",
      "/glade/u/home/jonahshaw/w/trend_uncertainty/nathan/OBS_LENS//HadCRUT5/20240820//HadCRUT.5.0.2.0.analysis.anomalies.27.nc\n",
      "/glade/u/home/jonahshaw/w/trend_uncertainty/nathan/OBS_LENS//HadCRUT5/20240820//HadCRUT.5.0.2.0.analysis.anomalies.28.nc\n",
      "/glade/u/home/jonahshaw/w/trend_uncertainty/nathan/OBS_LENS//HadCRUT5/20240820//HadCRUT.5.0.2.0.analysis.anomalies.29.nc\n",
      "/glade/u/home/jonahshaw/w/trend_uncertainty/nathan/OBS_LENS//HadCRUT5/20240820//HadCRUT.5.0.2.0.analysis.anomalies.3.nc\n",
      "/glade/u/home/jonahshaw/w/trend_uncertainty/nathan/OBS_LENS//HadCRUT5/20240820//HadCRUT.5.0.2.0.analysis.anomalies.30.nc\n",
      "/glade/u/home/jonahshaw/w/trend_uncertainty/nathan/OBS_LENS//HadCRUT5/20240820//HadCRUT.5.0.2.0.analysis.anomalies.31.nc\n",
      "/glade/u/home/jonahshaw/w/trend_uncertainty/nathan/OBS_LENS//HadCRUT5/20240820//HadCRUT.5.0.2.0.analysis.anomalies.32.nc\n",
      "/glade/u/home/jonahshaw/w/trend_uncertainty/nathan/OBS_LENS//HadCRUT5/20240820//HadCRUT.5.0.2.0.analysis.anomalies.33.nc\n",
      "/glade/u/home/jonahshaw/w/trend_uncertainty/nathan/OBS_LENS//HadCRUT5/20240820//HadCRUT.5.0.2.0.analysis.anomalies.34.nc\n",
      "/glade/u/home/jonahshaw/w/trend_uncertainty/nathan/OBS_LENS//HadCRUT5/20240820//HadCRUT.5.0.2.0.analysis.anomalies.35.nc\n",
      "/glade/u/home/jonahshaw/w/trend_uncertainty/nathan/OBS_LENS//HadCRUT5/20240820//HadCRUT.5.0.2.0.analysis.anomalies.36.nc\n",
      "/glade/u/home/jonahshaw/w/trend_uncertainty/nathan/OBS_LENS//HadCRUT5/20240820//HadCRUT.5.0.2.0.analysis.anomalies.37.nc\n",
      "/glade/u/home/jonahshaw/w/trend_uncertainty/nathan/OBS_LENS//HadCRUT5/20240820//HadCRUT.5.0.2.0.analysis.anomalies.38.nc\n",
      "/glade/u/home/jonahshaw/w/trend_uncertainty/nathan/OBS_LENS//HadCRUT5/20240820//HadCRUT.5.0.2.0.analysis.anomalies.39.nc\n",
      "/glade/u/home/jonahshaw/w/trend_uncertainty/nathan/OBS_LENS//HadCRUT5/20240820//HadCRUT.5.0.2.0.analysis.anomalies.4.nc\n",
      "/glade/u/home/jonahshaw/w/trend_uncertainty/nathan/OBS_LENS//HadCRUT5/20240820//HadCRUT.5.0.2.0.analysis.anomalies.40.nc\n",
      "/glade/u/home/jonahshaw/w/trend_uncertainty/nathan/OBS_LENS//HadCRUT5/20240820//HadCRUT.5.0.2.0.analysis.anomalies.41.nc\n",
      "/glade/u/home/jonahshaw/w/trend_uncertainty/nathan/OBS_LENS//HadCRUT5/20240820//HadCRUT.5.0.2.0.analysis.anomalies.42.nc\n",
      "/glade/u/home/jonahshaw/w/trend_uncertainty/nathan/OBS_LENS//HadCRUT5/20240820//HadCRUT.5.0.2.0.analysis.anomalies.43.nc\n",
      "/glade/u/home/jonahshaw/w/trend_uncertainty/nathan/OBS_LENS//HadCRUT5/20240820//HadCRUT.5.0.2.0.analysis.anomalies.44.nc\n",
      "/glade/u/home/jonahshaw/w/trend_uncertainty/nathan/OBS_LENS//HadCRUT5/20240820//HadCRUT.5.0.2.0.analysis.anomalies.45.nc\n",
      "/glade/u/home/jonahshaw/w/trend_uncertainty/nathan/OBS_LENS//HadCRUT5/20240820//HadCRUT.5.0.2.0.analysis.anomalies.46.nc\n",
      "/glade/u/home/jonahshaw/w/trend_uncertainty/nathan/OBS_LENS//HadCRUT5/20240820//HadCRUT.5.0.2.0.analysis.anomalies.47.nc\n",
      "/glade/u/home/jonahshaw/w/trend_uncertainty/nathan/OBS_LENS//HadCRUT5/20240820//HadCRUT.5.0.2.0.analysis.anomalies.48.nc\n",
      "/glade/u/home/jonahshaw/w/trend_uncertainty/nathan/OBS_LENS//HadCRUT5/20240820//HadCRUT.5.0.2.0.analysis.anomalies.49.nc\n",
      "/glade/u/home/jonahshaw/w/trend_uncertainty/nathan/OBS_LENS//HadCRUT5/20240820//HadCRUT.5.0.2.0.analysis.anomalies.5.nc\n",
      "/glade/u/home/jonahshaw/w/trend_uncertainty/nathan/OBS_LENS//HadCRUT5/20240820//HadCRUT.5.0.2.0.analysis.anomalies.50.nc\n",
      "/glade/u/home/jonahshaw/w/trend_uncertainty/nathan/OBS_LENS//HadCRUT5/20240820//HadCRUT.5.0.2.0.analysis.anomalies.51.nc\n",
      "/glade/u/home/jonahshaw/w/trend_uncertainty/nathan/OBS_LENS//HadCRUT5/20240820//HadCRUT.5.0.2.0.analysis.anomalies.52.nc\n",
      "/glade/u/home/jonahshaw/w/trend_uncertainty/nathan/OBS_LENS//HadCRUT5/20240820//HadCRUT.5.0.2.0.analysis.anomalies.53.nc\n",
      "/glade/u/home/jonahshaw/w/trend_uncertainty/nathan/OBS_LENS//HadCRUT5/20240820//HadCRUT.5.0.2.0.analysis.anomalies.54.nc\n",
      "/glade/u/home/jonahshaw/w/trend_uncertainty/nathan/OBS_LENS//HadCRUT5/20240820//HadCRUT.5.0.2.0.analysis.anomalies.55.nc\n",
      "/glade/u/home/jonahshaw/w/trend_uncertainty/nathan/OBS_LENS//HadCRUT5/20240820//HadCRUT.5.0.2.0.analysis.anomalies.56.nc\n",
      "/glade/u/home/jonahshaw/w/trend_uncertainty/nathan/OBS_LENS//HadCRUT5/20240820//HadCRUT.5.0.2.0.analysis.anomalies.57.nc\n",
      "/glade/u/home/jonahshaw/w/trend_uncertainty/nathan/OBS_LENS//HadCRUT5/20240820//HadCRUT.5.0.2.0.analysis.anomalies.58.nc\n",
      "/glade/u/home/jonahshaw/w/trend_uncertainty/nathan/OBS_LENS//HadCRUT5/20240820//HadCRUT.5.0.2.0.analysis.anomalies.59.nc\n",
      "/glade/u/home/jonahshaw/w/trend_uncertainty/nathan/OBS_LENS//HadCRUT5/20240820//HadCRUT.5.0.2.0.analysis.anomalies.6.nc\n",
      "/glade/u/home/jonahshaw/w/trend_uncertainty/nathan/OBS_LENS//HadCRUT5/20240820//HadCRUT.5.0.2.0.analysis.anomalies.60.nc\n",
      "/glade/u/home/jonahshaw/w/trend_uncertainty/nathan/OBS_LENS//HadCRUT5/20240820//HadCRUT.5.0.2.0.analysis.anomalies.61.nc\n",
      "/glade/u/home/jonahshaw/w/trend_uncertainty/nathan/OBS_LENS//HadCRUT5/20240820//HadCRUT.5.0.2.0.analysis.anomalies.62.nc\n",
      "/glade/u/home/jonahshaw/w/trend_uncertainty/nathan/OBS_LENS//HadCRUT5/20240820//HadCRUT.5.0.2.0.analysis.anomalies.63.nc\n",
      "/glade/u/home/jonahshaw/w/trend_uncertainty/nathan/OBS_LENS//HadCRUT5/20240820//HadCRUT.5.0.2.0.analysis.anomalies.64.nc\n",
      "/glade/u/home/jonahshaw/w/trend_uncertainty/nathan/OBS_LENS//HadCRUT5/20240820//HadCRUT.5.0.2.0.analysis.anomalies.65.nc\n",
      "/glade/u/home/jonahshaw/w/trend_uncertainty/nathan/OBS_LENS//HadCRUT5/20240820//HadCRUT.5.0.2.0.analysis.anomalies.66.nc\n",
      "/glade/u/home/jonahshaw/w/trend_uncertainty/nathan/OBS_LENS//HadCRUT5/20240820//HadCRUT.5.0.2.0.analysis.anomalies.67.nc\n",
      "/glade/u/home/jonahshaw/w/trend_uncertainty/nathan/OBS_LENS//HadCRUT5/20240820//HadCRUT.5.0.2.0.analysis.anomalies.68.nc\n",
      "/glade/u/home/jonahshaw/w/trend_uncertainty/nathan/OBS_LENS//HadCRUT5/20240820//HadCRUT.5.0.2.0.analysis.anomalies.69.nc\n",
      "/glade/u/home/jonahshaw/w/trend_uncertainty/nathan/OBS_LENS//HadCRUT5/20240820//HadCRUT.5.0.2.0.analysis.anomalies.7.nc\n",
      "/glade/u/home/jonahshaw/w/trend_uncertainty/nathan/OBS_LENS//HadCRUT5/20240820//HadCRUT.5.0.2.0.analysis.anomalies.70.nc\n",
      "/glade/u/home/jonahshaw/w/trend_uncertainty/nathan/OBS_LENS//HadCRUT5/20240820//HadCRUT.5.0.2.0.analysis.anomalies.71.nc\n",
      "/glade/u/home/jonahshaw/w/trend_uncertainty/nathan/OBS_LENS//HadCRUT5/20240820//HadCRUT.5.0.2.0.analysis.anomalies.72.nc\n",
      "/glade/u/home/jonahshaw/w/trend_uncertainty/nathan/OBS_LENS//HadCRUT5/20240820//HadCRUT.5.0.2.0.analysis.anomalies.73.nc\n",
      "/glade/u/home/jonahshaw/w/trend_uncertainty/nathan/OBS_LENS//HadCRUT5/20240820//HadCRUT.5.0.2.0.analysis.anomalies.74.nc\n",
      "/glade/u/home/jonahshaw/w/trend_uncertainty/nathan/OBS_LENS//HadCRUT5/20240820//HadCRUT.5.0.2.0.analysis.anomalies.75.nc\n",
      "/glade/u/home/jonahshaw/w/trend_uncertainty/nathan/OBS_LENS//HadCRUT5/20240820//HadCRUT.5.0.2.0.analysis.anomalies.76.nc\n",
      "/glade/u/home/jonahshaw/w/trend_uncertainty/nathan/OBS_LENS//HadCRUT5/20240820//HadCRUT.5.0.2.0.analysis.anomalies.77.nc\n",
      "/glade/u/home/jonahshaw/w/trend_uncertainty/nathan/OBS_LENS//HadCRUT5/20240820//HadCRUT.5.0.2.0.analysis.anomalies.78.nc\n",
      "/glade/u/home/jonahshaw/w/trend_uncertainty/nathan/OBS_LENS//HadCRUT5/20240820//HadCRUT.5.0.2.0.analysis.anomalies.79.nc\n",
      "/glade/u/home/jonahshaw/w/trend_uncertainty/nathan/OBS_LENS//HadCRUT5/20240820//HadCRUT.5.0.2.0.analysis.anomalies.8.nc\n",
      "/glade/u/home/jonahshaw/w/trend_uncertainty/nathan/OBS_LENS//HadCRUT5/20240820//HadCRUT.5.0.2.0.analysis.anomalies.80.nc\n",
      "/glade/u/home/jonahshaw/w/trend_uncertainty/nathan/OBS_LENS//HadCRUT5/20240820//HadCRUT.5.0.2.0.analysis.anomalies.81.nc\n",
      "/glade/u/home/jonahshaw/w/trend_uncertainty/nathan/OBS_LENS//HadCRUT5/20240820//HadCRUT.5.0.2.0.analysis.anomalies.82.nc\n",
      "/glade/u/home/jonahshaw/w/trend_uncertainty/nathan/OBS_LENS//HadCRUT5/20240820//HadCRUT.5.0.2.0.analysis.anomalies.83.nc\n",
      "/glade/u/home/jonahshaw/w/trend_uncertainty/nathan/OBS_LENS//HadCRUT5/20240820//HadCRUT.5.0.2.0.analysis.anomalies.84.nc\n",
      "/glade/u/home/jonahshaw/w/trend_uncertainty/nathan/OBS_LENS//HadCRUT5/20240820//HadCRUT.5.0.2.0.analysis.anomalies.85.nc\n",
      "/glade/u/home/jonahshaw/w/trend_uncertainty/nathan/OBS_LENS//HadCRUT5/20240820//HadCRUT.5.0.2.0.analysis.anomalies.86.nc\n",
      "/glade/u/home/jonahshaw/w/trend_uncertainty/nathan/OBS_LENS//HadCRUT5/20240820//HadCRUT.5.0.2.0.analysis.anomalies.87.nc\n",
      "/glade/u/home/jonahshaw/w/trend_uncertainty/nathan/OBS_LENS//HadCRUT5/20240820//HadCRUT.5.0.2.0.analysis.anomalies.88.nc\n",
      "/glade/u/home/jonahshaw/w/trend_uncertainty/nathan/OBS_LENS//HadCRUT5/20240820//HadCRUT.5.0.2.0.analysis.anomalies.89.nc\n",
      "/glade/u/home/jonahshaw/w/trend_uncertainty/nathan/OBS_LENS//HadCRUT5/20240820//HadCRUT.5.0.2.0.analysis.anomalies.9.nc\n",
      "/glade/u/home/jonahshaw/w/trend_uncertainty/nathan/OBS_LENS//HadCRUT5/20240820//HadCRUT.5.0.2.0.analysis.anomalies.90.nc\n",
      "/glade/u/home/jonahshaw/w/trend_uncertainty/nathan/OBS_LENS//HadCRUT5/20240820//HadCRUT.5.0.2.0.analysis.anomalies.91.nc\n",
      "/glade/u/home/jonahshaw/w/trend_uncertainty/nathan/OBS_LENS//HadCRUT5/20240820//HadCRUT.5.0.2.0.analysis.anomalies.92.nc\n",
      "/glade/u/home/jonahshaw/w/trend_uncertainty/nathan/OBS_LENS//HadCRUT5/20240820//HadCRUT.5.0.2.0.analysis.anomalies.93.nc\n",
      "/glade/u/home/jonahshaw/w/trend_uncertainty/nathan/OBS_LENS//HadCRUT5/20240820//HadCRUT.5.0.2.0.analysis.anomalies.94.nc\n",
      "/glade/u/home/jonahshaw/w/trend_uncertainty/nathan/OBS_LENS//HadCRUT5/20240820//HadCRUT.5.0.2.0.analysis.anomalies.95.nc\n",
      "/glade/u/home/jonahshaw/w/trend_uncertainty/nathan/OBS_LENS//HadCRUT5/20240820//HadCRUT.5.0.2.0.analysis.anomalies.96.nc\n",
      "/glade/u/home/jonahshaw/w/trend_uncertainty/nathan/OBS_LENS//HadCRUT5/20240820//HadCRUT.5.0.2.0.analysis.anomalies.97.nc\n",
      "/glade/u/home/jonahshaw/w/trend_uncertainty/nathan/OBS_LENS//HadCRUT5/20240820//HadCRUT.5.0.2.0.analysis.anomalies.98.nc\n",
      "/glade/u/home/jonahshaw/w/trend_uncertainty/nathan/OBS_LENS//HadCRUT5/20240820//HadCRUT.5.0.2.0.analysis.anomalies.99.nc\n",
      "CPU times: user 8min 54s, sys: 3min 41s, total: 12min 36s\n",
      "Wall time: 13min 56s\n"
     ]
    }
   ],
   "source": [
    "%%time\n",
    "\n",
    "model_subdir = 'HadCRUT5/20240820/xagg'\n",
    "\n",
    "if not os.path.exists(os.path.join(save_dir,model_subdir)):\n",
    "    os.makedirs(os.path.join(save_dir,model_subdir))\n",
    "\n",
    "# Variable to select and operate over.\n",
    "_ds_var = hadcrut5_tas_var\n",
    "\n",
    "for _ds_filepath in hadcrut5_files:\n",
    "\n",
    "    _regional_tseries_delayed = create_ipccregion_timeseries(_ds_filepath=_ds_filepath,\n",
    "                                                             _ds_var=_ds_var,\n",
    "                                                             regions=regionmask.defined_regions.ar6.all,\n",
    "                                                             cesm=False,\n",
    "                                                             ufunc=hadcrut5_tselect,\n",
    "                                                             lon_name='longitude',\n",
    "                                                             lat_name='latitude',\n",
    "                                                            )\n",
    "    _regional_tseries = _regional_tseries_delayed.compute()\n",
    "    _regional_tseries = _regional_tseries.expand_dims('realization')\n",
    "    \n",
    "    filename = _ds_filepath.split('/')[-1]\n",
    "    \n",
    "    _outfilepath = '%s/%s/%s' % (save_dir,model_subdir,filename)\n",
    "    \n",
    "    _regional_tseries.to_netcdf(path=_outfilepath)\n",
    "    \n",
    "    print(_outfilepath)\n",
    "    \n",
    "    # break"
   ]
  },
  {
   "cell_type": "code",
   "execution_count": 20,
   "id": "01caaf1c-fb43-4f42-9e62-958221c26e42",
   "metadata": {},
   "outputs": [
    {
     "data": {
      "text/plain": [
       "[<matplotlib.lines.Line2D at 0x150b958ac1d0>]"
      ]
     },
     "execution_count": 20,
     "metadata": {},
     "output_type": "execute_result"
    },
    {
     "data": {
      "image/png": "[encoded data removed]",
      "text/plain": [
       "<Figure size 432x288 with 1 Axes>"
      ]
     },
     "metadata": {
      "needs_background": "light"
     },
     "output_type": "display_data"
    }
   ],
   "source": [
    "_regional_tseries.isel(RegionIndex=0).plot()"
   ]
  },
  {
   "cell_type": "code",
   "execution_count": 27,
   "id": "57d7b679-e805-4931-a3d1-08e6aa5e667c",
   "metadata": {},
   "outputs": [],
   "source": [
    "ex_hadcrut5_tseries = _regional_tseries"
   ]
  },
  {
   "cell_type": "code",
   "execution_count": 29,
   "id": "ec3d5d31-09d6-47be-b868-9ee9475c4446",
   "metadata": {},
   "outputs": [
    {
     "data": {
      "text/plain": [
       "<matplotlib.legend.Legend at 0x150b95578f50>"
      ]
     },
     "execution_count": 29,
     "metadata": {},
     "output_type": "execute_result"
    },
    {
     "data": {
      "image/png": "[encoded data removed]",
      "text/plain": [
       "<Figure size 1296x432 with 3 Axes>"
      ]
     },
     "metadata": {
      "needs_background": "light"
     },
     "output_type": "display_data"
    }
   ],
   "source": [
    "fig,axs = plt.subplots(1,2,figsize=(12,6))\n",
    "\n",
    "region_index = 1\n",
    "\n",
    "ex_hadcrut5_tseries.sel(RegionIndex=region_index).plot(color='blue',label='HadCRUT5',linestyle='dashed',ax=axs[0])\n",
    "\n",
    "ex_gistemp_5x5_tseries.sel(RegionIndex=region_index).isel(realization=0).plot(color='red',label='GISTEMP 5x5',linestyle='dashed',ax=axs[1])\n",
    "\n",
    "plt.legend()"
   ]
  },
  {
   "cell_type": "code",
   "execution_count": null,
   "id": "05f3336c-593d-4478-9ece-61fb47b197b3",
   "metadata": {},
   "outputs": [],
   "source": []
  }
 ],
 "metadata": {
  "kernelspec": {
   "display_name": "py_xagg",
   "language": "python",
   "name": "python3"
  },
  "language_info": {
   "codemirror_mode": {
    "name": "ipython",
    "version": 3
   },
   "file_extension": ".py",
   "mimetype": "text/x-python",
   "name": "python",
   "nbconvert_exporter": "python",
   "pygments_lexer": "ipython3",
   "version": "3.12.5"
  }
 },
 "nbformat": 4,
 "nbformat_minor": 5
}
