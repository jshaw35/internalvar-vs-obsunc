{
 "cells": [
  {
   "cell_type": "markdown",
   "id": "9d5702ab-4316-47a2-af40-56d7ce8ccb57",
   "metadata": {},
   "source": [
    "# Process gridded observation product data into variability data"
   ]
  },
  {
   "cell_type": "markdown",
   "id": "b048d54c-261d-4701-ae7f-101ac19d02ab",
   "metadata": {},
   "source": [
    "__0. Is already at 5x5 deg resolution.__\n",
    "\n",
    "__1. Use Dask to perform resampling for variability spatially.__\n",
    "\n",
    "Resample for time periods 3-120 years (to compare with 1900-2020 observations) to generate envelopes of internal variability for each region and each model.  \n",
    "\n",
    "- Output is a dataArray for each model with indexed by time period length (2-63 years) and lat-lon gridcell containing unforced TAS trends."
   ]
  },
  {
   "cell_type": "markdown",
   "id": "f1a0c666-c0bf-4014-9973-d6e6bd8d1298",
   "metadata": {},
   "source": [
    "Nathan notes that these models do the best job in CONUS:  MPI-ESM, GFDL-ESM2M, CESM1-CAM5, CanESM2."
   ]
  },
  {
   "cell_type": "markdown",
   "id": "bb8e0e42-e328-46dd-884a-4259b363feda",
   "metadata": {},
   "source": [
    "For now, I will create my code for the CESM1 and MPI models so that it can be generalized easily. I can pull some code from my climatetrend_uncertainty repository (climatetrend_uncertainty/initial_code/PIC_timeseries_preproc.ipynb)."
   ]
  },
  {
   "cell_type": "markdown",
   "id": "6ede891f-af88-4e6d-90de-32be78682d2b",
   "metadata": {},
   "source": [
    "## Code!"
   ]
  },
  {
   "cell_type": "markdown",
   "id": "8bfd8f11-953b-4585-8b58-309c48c65d59",
   "metadata": {},
   "source": [
    "Most important taken from: trend_uncertainty/spatialdata_preproc.ipynb"
   ]
  },
  {
   "cell_type": "code",
   "execution_count": 21,
   "id": "421a683e-77dd-46f4-8b24-dfb20e85b926",
   "metadata": {},
   "outputs": [],
   "source": [
    "import numpy as np\n",
    "import xarray as xr\n",
    "import pandas as pd\n",
    "import os\n",
    "import glob\n",
    "import dask\n",
    "\n",
    "%matplotlib inline"
   ]
  },
  {
   "cell_type": "markdown",
   "id": "5778b34a-778a-4e38-a7fe-440b0a191d1f",
   "metadata": {},
   "source": [
    "### Get files."
   ]
  },
  {
   "cell_type": "markdown",
   "id": "aced05e4-9ff0-4f2c-b8db-b8eae119ac6f",
   "metadata": {},
   "source": [
    "__OBS-LENS Directory:__"
   ]
  },
  {
   "cell_type": "code",
   "execution_count": 2,
   "id": "f1737ac2-bfcf-4ac3-b77e-ba1b3e4bdac3",
   "metadata": {},
   "outputs": [],
   "source": [
    "gistemp_dir = '/glade/derecho/scratch/lenssen/data4jonah/GISTEMP_Ensemble_Aug/'\n",
    "hadcrut5_dir = '/glade/derecho/scratch/lenssen/data4jonah/HadCRUT5_Ensemble_Aug/'"
   ]
  },
  {
   "cell_type": "markdown",
   "id": "16d8c75a-9e16-4394-87bf-f7aa4bc85422",
   "metadata": {},
   "source": [
    "#### Collect GISTEMP 5x5 file paths."
   ]
  },
  {
   "cell_type": "code",
   "execution_count": 3,
   "id": "c1f6559b-8856-48c7-9757-2554036c9787",
   "metadata": {},
   "outputs": [],
   "source": [
    "gistemp_files = glob.glob('%s/*.nc' % gistemp_dir)\n",
    "gistemp_files.sort()"
   ]
  },
  {
   "cell_type": "markdown",
   "id": "64c8fb55-5129-4ab7-9dca-3f14247baa74",
   "metadata": {},
   "source": [
    "#### Collect HadCRUT5 file paths."
   ]
  },
  {
   "cell_type": "code",
   "execution_count": 4,
   "id": "dfd20196-a9a1-44e4-b014-aaee3e1ac8b4",
   "metadata": {},
   "outputs": [],
   "source": [
    "hadcrut5_files = glob.glob('%s/*.nc' % hadcrut5_dir)\n",
    "hadcrut5_files.sort()"
   ]
  },
  {
   "cell_type": "markdown",
   "id": "b3cfe0ac-40c3-4739-bd4c-ceb1f47c156c",
   "metadata": {},
   "source": [
    "### Process time series into unforced trends as a function of trend duration"
   ]
  },
  {
   "cell_type": "markdown",
   "id": "120a9157-54f2-4038-8fb9-e1428ee0371e",
   "metadata": {},
   "source": [
    "Using code from:  \n",
    "\n",
    "trend_uncertainty/PIC_trend_preproc.ipynb"
   ]
  },
  {
   "cell_type": "markdown",
   "id": "61854763-36ab-48f7-b297-e0b8cb1c371b",
   "metadata": {},
   "source": [
    "__Define functions:__"
   ]
  },
  {
   "cell_type": "code",
   "execution_count": 5,
   "id": "6a6a3b04-10ba-43a5-bc7c-22bdd1728cbd",
   "metadata": {},
   "outputs": [],
   "source": [
    "# need a wrapper function because you can't groupby multiple dimensions\n",
    "def gettrends_wrapper2(dataarray,dim,sel_dim='time.year'):\n",
    "    \n",
    "    dataarray[dim] = dataarray[sel_dim]\n",
    "\n",
    "    # return dataarray.polyfit(dim=dim,deg=1)['polyfit_coefficients'].sel(degree=1)\n",
    "    \n",
    "    try:\n",
    "        return dataarray.polyfit(dim=dim,deg=1)['polyfit_coefficients'].sel(degree=1)\n",
    "    except ValueError: # Try and catch nan issues and handle them.\n",
    "        print('ERROR:')\n",
    "        print(dim)\n",
    "        print(dataarray)\n",
    "        print(dataarray.polyfit(dim=dim,deg=1))\n",
    "        print(dataarray.polyfit(dim=dim,deg=1)['polyfit_coefficients'])\n",
    "        print(dataarray.polyfit(dim=dim,deg=1)['polyfit_coefficients'].sel(degree=1))\n",
    "        return np.nan\n",
    "\n",
    "def calc_slopes_spatial_ann2(data,_startyr,_endyr,wrapper_func):\n",
    "    '''\n",
    "    Separate function for the annual trends because I was dumb.\n",
    "    '''\n",
    "    \n",
    "    tsel = data.sel(year=slice(None,_endyr))\n",
    "    \n",
    "    # Test for regions with nans and mask them. polyfit breaks when there are less than 3 non-nans.\n",
    "    nan_mask = ((~np.isnan(tsel)).sum(dim='year') > 2)\n",
    "    tsel = tsel.where(nan_mask,np.nan)\n",
    "    \n",
    "    slopes_endyr_ann = wrapper_func(tsel,dim='year',sel_dim='year').drop('degree')\n",
    "\n",
    "    # slopes_endyr = xr.concat([slopes_endyr,slopes_endyr_ann.assign_coords({'month':13}).expand_dims('month',axis=-1)],dim='month')\n",
    "\n",
    "    slopes_endyr_ann['startyear']  = int(_startyr)\n",
    "    slopes_endyr_ann['duration'] = len(tsel.year)\n",
    "    \n",
    "    return slopes_endyr_ann\n",
    "\n",
    "\n",
    "def calc_trends_noload(data:xr.DataArray,var:str,startyear:str,endyears:np.ndarray,\n",
    "                       wrapper_func,calc_slopes_func):\n",
    "    \n",
    "    '''\n",
    "    Takes data. Computes trends. Quietly and efficiently :)\n",
    "    '''\n",
    "    \n",
    "    slopes_by_dur = []\n",
    "    \n",
    "    for _endyr in endyears: # Dasking here? Yessir.\n",
    "\n",
    "        slopes_by_dur.append(calc_slopes_func(data=data,_startyr=int(startyear),_endyr=_endyr,wrapper_func=wrapper_func))\n",
    "\n",
    "    forced_olrslopes_monthly = xr.concat(slopes_by_dur,dim='duration')\n",
    "    forced_olrslopes_monthly.name=var\n",
    "    \n",
    "    return forced_olrslopes_monthly"
   ]
  },
  {
   "cell_type": "code",
   "execution_count": 6,
   "id": "9af302b5-dd65-4799-8631-6feef288ba26",
   "metadata": {},
   "outputs": [],
   "source": [
    "# Arbitrary function to apply\n",
    "\n",
    "def gistemp_5x5_tselect(da:xr.DataArray):\n",
    "    \n",
    "    return da.sel(time=slice(\"1900-01-01\",\"2020-12-31\")).rename({'longitude':'lon','latitude':'lat'})"
   ]
  },
  {
   "cell_type": "markdown",
   "id": "d47055bb-f9c7-439e-bc71-a57399e050ec",
   "metadata": {},
   "source": [
    "### For the observational uncertainty products, there are far more files to open. Need to pivot to another approach."
   ]
  },
  {
   "cell_type": "markdown",
   "id": "db61905b-e8b6-45e1-aee3-6f81b4bd246e",
   "metadata": {},
   "source": [
    "#### GISTEMP_5x5"
   ]
  },
  {
   "cell_type": "code",
   "execution_count": 64,
   "id": "544e16a3-15d9-4179-b942-b5541fcae041",
   "metadata": {
    "tags": []
   },
   "outputs": [
    {
     "name": "stdout",
     "output_type": "stream",
     "text": [
      "0001\n"
     ]
    },
    {
     "name": "stderr",
     "output_type": "stream",
     "text": [
      "/glade/work/jonahshaw/miniconda3/envs/cheydask/lib/python3.7/site-packages/dask/array/numpy_compat.py:41: RuntimeWarning: invalid value encountered in true_divide\n",
      "  x = np.divide(x1, x2, out)\n"
     ]
    },
    {
     "name": "stdout",
     "output_type": "stream",
     "text": [
      "/glade/work/jonahshaw/trend_uncertainty/nathan/OBS_LENS/GISTEMP_5x5/20240820//ensembleChunk_5x5_0001.5x5degSpatialTrends.190001-202012.nc\n",
      "0002\n"
     ]
    },
    {
     "name": "stderr",
     "output_type": "stream",
     "text": [
      "/glade/work/jonahshaw/miniconda3/envs/cheydask/lib/python3.7/site-packages/dask/array/numpy_compat.py:41: RuntimeWarning: invalid value encountered in true_divide\n",
      "  x = np.divide(x1, x2, out)\n"
     ]
    },
    {
     "name": "stdout",
     "output_type": "stream",
     "text": [
      "/glade/work/jonahshaw/trend_uncertainty/nathan/OBS_LENS/GISTEMP_5x5/20240820//ensembleChunk_5x5_0002.5x5degSpatialTrends.190001-202012.nc\n",
      "0003\n"
     ]
    },
    {
     "name": "stderr",
     "output_type": "stream",
     "text": [
      "/glade/work/jonahshaw/miniconda3/envs/cheydask/lib/python3.7/site-packages/dask/array/numpy_compat.py:41: RuntimeWarning: invalid value encountered in true_divide\n",
      "  x = np.divide(x1, x2, out)\n"
     ]
    },
    {
     "name": "stdout",
     "output_type": "stream",
     "text": [
      "/glade/work/jonahshaw/trend_uncertainty/nathan/OBS_LENS/GISTEMP_5x5/20240820//ensembleChunk_5x5_0003.5x5degSpatialTrends.190001-202012.nc\n",
      "0004\n"
     ]
    },
    {
     "name": "stderr",
     "output_type": "stream",
     "text": [
      "/glade/work/jonahshaw/miniconda3/envs/cheydask/lib/python3.7/site-packages/dask/array/numpy_compat.py:41: RuntimeWarning: invalid value encountered in true_divide\n",
      "  x = np.divide(x1, x2, out)\n"
     ]
    },
    {
     "name": "stdout",
     "output_type": "stream",
     "text": [
      "/glade/work/jonahshaw/trend_uncertainty/nathan/OBS_LENS/GISTEMP_5x5/20240820//ensembleChunk_5x5_0004.5x5degSpatialTrends.190001-202012.nc\n",
      "0005\n"
     ]
    },
    {
     "name": "stderr",
     "output_type": "stream",
     "text": [
      "/glade/work/jonahshaw/miniconda3/envs/cheydask/lib/python3.7/site-packages/dask/array/numpy_compat.py:41: RuntimeWarning: invalid value encountered in true_divide\n",
      "  x = np.divide(x1, x2, out)\n"
     ]
    },
    {
     "name": "stdout",
     "output_type": "stream",
     "text": [
      "/glade/work/jonahshaw/trend_uncertainty/nathan/OBS_LENS/GISTEMP_5x5/20240820//ensembleChunk_5x5_0005.5x5degSpatialTrends.190001-202012.nc\n",
      "0006\n"
     ]
    },
    {
     "name": "stderr",
     "output_type": "stream",
     "text": [
      "/glade/work/jonahshaw/miniconda3/envs/cheydask/lib/python3.7/site-packages/dask/array/numpy_compat.py:41: RuntimeWarning: invalid value encountered in true_divide\n",
      "  x = np.divide(x1, x2, out)\n"
     ]
    },
    {
     "name": "stdout",
     "output_type": "stream",
     "text": [
      "/glade/work/jonahshaw/trend_uncertainty/nathan/OBS_LENS/GISTEMP_5x5/20240820//ensembleChunk_5x5_0006.5x5degSpatialTrends.190001-202012.nc\n",
      "0007\n"
     ]
    },
    {
     "name": "stderr",
     "output_type": "stream",
     "text": [
      "/glade/work/jonahshaw/miniconda3/envs/cheydask/lib/python3.7/site-packages/dask/array/numpy_compat.py:41: RuntimeWarning: invalid value encountered in true_divide\n",
      "  x = np.divide(x1, x2, out)\n"
     ]
    },
    {
     "name": "stdout",
     "output_type": "stream",
     "text": [
      "/glade/work/jonahshaw/trend_uncertainty/nathan/OBS_LENS/GISTEMP_5x5/20240820//ensembleChunk_5x5_0007.5x5degSpatialTrends.190001-202012.nc\n",
      "0008\n"
     ]
    },
    {
     "name": "stderr",
     "output_type": "stream",
     "text": [
      "/glade/work/jonahshaw/miniconda3/envs/cheydask/lib/python3.7/site-packages/dask/array/numpy_compat.py:41: RuntimeWarning: invalid value encountered in true_divide\n",
      "  x = np.divide(x1, x2, out)\n"
     ]
    },
    {
     "name": "stdout",
     "output_type": "stream",
     "text": [
      "/glade/work/jonahshaw/trend_uncertainty/nathan/OBS_LENS/GISTEMP_5x5/20240820//ensembleChunk_5x5_0008.5x5degSpatialTrends.190001-202012.nc\n",
      "0009\n"
     ]
    },
    {
     "name": "stderr",
     "output_type": "stream",
     "text": [
      "/glade/work/jonahshaw/miniconda3/envs/cheydask/lib/python3.7/site-packages/dask/array/numpy_compat.py:41: RuntimeWarning: invalid value encountered in true_divide\n",
      "  x = np.divide(x1, x2, out)\n"
     ]
    },
    {
     "name": "stdout",
     "output_type": "stream",
     "text": [
      "/glade/work/jonahshaw/trend_uncertainty/nathan/OBS_LENS/GISTEMP_5x5/20240820//ensembleChunk_5x5_0009.5x5degSpatialTrends.190001-202012.nc\n",
      "0010\n"
     ]
    },
    {
     "name": "stderr",
     "output_type": "stream",
     "text": [
      "/glade/work/jonahshaw/miniconda3/envs/cheydask/lib/python3.7/site-packages/dask/array/numpy_compat.py:41: RuntimeWarning: invalid value encountered in true_divide\n",
      "  x = np.divide(x1, x2, out)\n"
     ]
    },
    {
     "name": "stdout",
     "output_type": "stream",
     "text": [
      "/glade/work/jonahshaw/trend_uncertainty/nathan/OBS_LENS/GISTEMP_5x5/20240820//ensembleChunk_5x5_0010.5x5degSpatialTrends.190001-202012.nc\n",
      "0011\n"
     ]
    },
    {
     "name": "stderr",
     "output_type": "stream",
     "text": [
      "/glade/work/jonahshaw/miniconda3/envs/cheydask/lib/python3.7/site-packages/dask/array/numpy_compat.py:41: RuntimeWarning: invalid value encountered in true_divide\n",
      "  x = np.divide(x1, x2, out)\n"
     ]
    },
    {
     "name": "stdout",
     "output_type": "stream",
     "text": [
      "/glade/work/jonahshaw/trend_uncertainty/nathan/OBS_LENS/GISTEMP_5x5/20240820//ensembleChunk_5x5_0011.5x5degSpatialTrends.190001-202012.nc\n",
      "0012\n"
     ]
    },
    {
     "name": "stderr",
     "output_type": "stream",
     "text": [
      "/glade/work/jonahshaw/miniconda3/envs/cheydask/lib/python3.7/site-packages/dask/array/numpy_compat.py:41: RuntimeWarning: invalid value encountered in true_divide\n",
      "  x = np.divide(x1, x2, out)\n"
     ]
    },
    {
     "name": "stdout",
     "output_type": "stream",
     "text": [
      "/glade/work/jonahshaw/trend_uncertainty/nathan/OBS_LENS/GISTEMP_5x5/20240820//ensembleChunk_5x5_0012.5x5degSpatialTrends.190001-202012.nc\n",
      "0013\n"
     ]
    },
    {
     "name": "stderr",
     "output_type": "stream",
     "text": [
      "/glade/work/jonahshaw/miniconda3/envs/cheydask/lib/python3.7/site-packages/dask/array/numpy_compat.py:41: RuntimeWarning: invalid value encountered in true_divide\n",
      "  x = np.divide(x1, x2, out)\n"
     ]
    },
    {
     "name": "stdout",
     "output_type": "stream",
     "text": [
      "/glade/work/jonahshaw/trend_uncertainty/nathan/OBS_LENS/GISTEMP_5x5/20240820//ensembleChunk_5x5_0013.5x5degSpatialTrends.190001-202012.nc\n",
      "0014\n"
     ]
    },
    {
     "name": "stderr",
     "output_type": "stream",
     "text": [
      "/glade/work/jonahshaw/miniconda3/envs/cheydask/lib/python3.7/site-packages/dask/array/numpy_compat.py:41: RuntimeWarning: invalid value encountered in true_divide\n",
      "  x = np.divide(x1, x2, out)\n"
     ]
    },
    {
     "name": "stdout",
     "output_type": "stream",
     "text": [
      "/glade/work/jonahshaw/trend_uncertainty/nathan/OBS_LENS/GISTEMP_5x5/20240820//ensembleChunk_5x5_0014.5x5degSpatialTrends.190001-202012.nc\n",
      "0015\n"
     ]
    },
    {
     "name": "stderr",
     "output_type": "stream",
     "text": [
      "/glade/work/jonahshaw/miniconda3/envs/cheydask/lib/python3.7/site-packages/dask/array/numpy_compat.py:41: RuntimeWarning: invalid value encountered in true_divide\n",
      "  x = np.divide(x1, x2, out)\n"
     ]
    },
    {
     "name": "stdout",
     "output_type": "stream",
     "text": [
      "/glade/work/jonahshaw/trend_uncertainty/nathan/OBS_LENS/GISTEMP_5x5/20240820//ensembleChunk_5x5_0015.5x5degSpatialTrends.190001-202012.nc\n",
      "0016\n"
     ]
    },
    {
     "name": "stderr",
     "output_type": "stream",
     "text": [
      "/glade/work/jonahshaw/miniconda3/envs/cheydask/lib/python3.7/site-packages/dask/array/numpy_compat.py:41: RuntimeWarning: invalid value encountered in true_divide\n",
      "  x = np.divide(x1, x2, out)\n"
     ]
    },
    {
     "name": "stdout",
     "output_type": "stream",
     "text": [
      "/glade/work/jonahshaw/trend_uncertainty/nathan/OBS_LENS/GISTEMP_5x5/20240820//ensembleChunk_5x5_0016.5x5degSpatialTrends.190001-202012.nc\n",
      "0017\n"
     ]
    },
    {
     "name": "stderr",
     "output_type": "stream",
     "text": [
      "/glade/work/jonahshaw/miniconda3/envs/cheydask/lib/python3.7/site-packages/dask/array/numpy_compat.py:41: RuntimeWarning: invalid value encountered in true_divide\n",
      "  x = np.divide(x1, x2, out)\n"
     ]
    },
    {
     "name": "stdout",
     "output_type": "stream",
     "text": [
      "/glade/work/jonahshaw/trend_uncertainty/nathan/OBS_LENS/GISTEMP_5x5/20240820//ensembleChunk_5x5_0017.5x5degSpatialTrends.190001-202012.nc\n",
      "0018\n"
     ]
    },
    {
     "name": "stderr",
     "output_type": "stream",
     "text": [
      "/glade/work/jonahshaw/miniconda3/envs/cheydask/lib/python3.7/site-packages/dask/array/numpy_compat.py:41: RuntimeWarning: invalid value encountered in true_divide\n",
      "  x = np.divide(x1, x2, out)\n"
     ]
    },
    {
     "name": "stdout",
     "output_type": "stream",
     "text": [
      "/glade/work/jonahshaw/trend_uncertainty/nathan/OBS_LENS/GISTEMP_5x5/20240820//ensembleChunk_5x5_0018.5x5degSpatialTrends.190001-202012.nc\n",
      "0019\n"
     ]
    },
    {
     "name": "stderr",
     "output_type": "stream",
     "text": [
      "/glade/work/jonahshaw/miniconda3/envs/cheydask/lib/python3.7/site-packages/dask/array/numpy_compat.py:41: RuntimeWarning: invalid value encountered in true_divide\n",
      "  x = np.divide(x1, x2, out)\n"
     ]
    },
    {
     "name": "stdout",
     "output_type": "stream",
     "text": [
      "/glade/work/jonahshaw/trend_uncertainty/nathan/OBS_LENS/GISTEMP_5x5/20240820//ensembleChunk_5x5_0019.5x5degSpatialTrends.190001-202012.nc\n",
      "0020\n"
     ]
    },
    {
     "name": "stderr",
     "output_type": "stream",
     "text": [
      "/glade/work/jonahshaw/miniconda3/envs/cheydask/lib/python3.7/site-packages/dask/array/numpy_compat.py:41: RuntimeWarning: invalid value encountered in true_divide\n",
      "  x = np.divide(x1, x2, out)\n"
     ]
    },
    {
     "name": "stdout",
     "output_type": "stream",
     "text": [
      "/glade/work/jonahshaw/trend_uncertainty/nathan/OBS_LENS/GISTEMP_5x5/20240820//ensembleChunk_5x5_0020.5x5degSpatialTrends.190001-202012.nc\n",
      "0021\n"
     ]
    },
    {
     "name": "stderr",
     "output_type": "stream",
     "text": [
      "/glade/work/jonahshaw/miniconda3/envs/cheydask/lib/python3.7/site-packages/dask/array/numpy_compat.py:41: RuntimeWarning: invalid value encountered in true_divide\n",
      "  x = np.divide(x1, x2, out)\n"
     ]
    },
    {
     "name": "stdout",
     "output_type": "stream",
     "text": [
      "/glade/work/jonahshaw/trend_uncertainty/nathan/OBS_LENS/GISTEMP_5x5/20240820//ensembleChunk_5x5_0021.5x5degSpatialTrends.190001-202012.nc\n",
      "0022\n"
     ]
    },
    {
     "name": "stderr",
     "output_type": "stream",
     "text": [
      "/glade/work/jonahshaw/miniconda3/envs/cheydask/lib/python3.7/site-packages/dask/array/numpy_compat.py:41: RuntimeWarning: invalid value encountered in true_divide\n",
      "  x = np.divide(x1, x2, out)\n"
     ]
    },
    {
     "name": "stdout",
     "output_type": "stream",
     "text": [
      "/glade/work/jonahshaw/trend_uncertainty/nathan/OBS_LENS/GISTEMP_5x5/20240820//ensembleChunk_5x5_0022.5x5degSpatialTrends.190001-202012.nc\n",
      "0023\n"
     ]
    },
    {
     "name": "stderr",
     "output_type": "stream",
     "text": [
      "/glade/work/jonahshaw/miniconda3/envs/cheydask/lib/python3.7/site-packages/dask/array/numpy_compat.py:41: RuntimeWarning: invalid value encountered in true_divide\n",
      "  x = np.divide(x1, x2, out)\n"
     ]
    },
    {
     "name": "stdout",
     "output_type": "stream",
     "text": [
      "/glade/work/jonahshaw/trend_uncertainty/nathan/OBS_LENS/GISTEMP_5x5/20240820//ensembleChunk_5x5_0023.5x5degSpatialTrends.190001-202012.nc\n",
      "0024\n"
     ]
    },
    {
     "name": "stderr",
     "output_type": "stream",
     "text": [
      "/glade/work/jonahshaw/miniconda3/envs/cheydask/lib/python3.7/site-packages/dask/array/numpy_compat.py:41: RuntimeWarning: invalid value encountered in true_divide\n",
      "  x = np.divide(x1, x2, out)\n"
     ]
    },
    {
     "name": "stdout",
     "output_type": "stream",
     "text": [
      "/glade/work/jonahshaw/trend_uncertainty/nathan/OBS_LENS/GISTEMP_5x5/20240820//ensembleChunk_5x5_0024.5x5degSpatialTrends.190001-202012.nc\n",
      "0025\n"
     ]
    },
    {
     "name": "stderr",
     "output_type": "stream",
     "text": [
      "/glade/work/jonahshaw/miniconda3/envs/cheydask/lib/python3.7/site-packages/dask/array/numpy_compat.py:41: RuntimeWarning: invalid value encountered in true_divide\n",
      "  x = np.divide(x1, x2, out)\n"
     ]
    },
    {
     "name": "stdout",
     "output_type": "stream",
     "text": [
      "/glade/work/jonahshaw/trend_uncertainty/nathan/OBS_LENS/GISTEMP_5x5/20240820//ensembleChunk_5x5_0025.5x5degSpatialTrends.190001-202012.nc\n",
      "0026\n"
     ]
    },
    {
     "name": "stderr",
     "output_type": "stream",
     "text": [
      "/glade/work/jonahshaw/miniconda3/envs/cheydask/lib/python3.7/site-packages/dask/array/numpy_compat.py:41: RuntimeWarning: invalid value encountered in true_divide\n",
      "  x = np.divide(x1, x2, out)\n"
     ]
    },
    {
     "name": "stdout",
     "output_type": "stream",
     "text": [
      "/glade/work/jonahshaw/trend_uncertainty/nathan/OBS_LENS/GISTEMP_5x5/20240820//ensembleChunk_5x5_0026.5x5degSpatialTrends.190001-202012.nc\n",
      "0027\n"
     ]
    },
    {
     "name": "stderr",
     "output_type": "stream",
     "text": [
      "/glade/work/jonahshaw/miniconda3/envs/cheydask/lib/python3.7/site-packages/dask/array/numpy_compat.py:41: RuntimeWarning: invalid value encountered in true_divide\n",
      "  x = np.divide(x1, x2, out)\n"
     ]
    },
    {
     "name": "stdout",
     "output_type": "stream",
     "text": [
      "/glade/work/jonahshaw/trend_uncertainty/nathan/OBS_LENS/GISTEMP_5x5/20240820//ensembleChunk_5x5_0027.5x5degSpatialTrends.190001-202012.nc\n",
      "0028\n"
     ]
    },
    {
     "name": "stderr",
     "output_type": "stream",
     "text": [
      "/glade/work/jonahshaw/miniconda3/envs/cheydask/lib/python3.7/site-packages/dask/array/numpy_compat.py:41: RuntimeWarning: invalid value encountered in true_divide\n",
      "  x = np.divide(x1, x2, out)\n"
     ]
    },
    {
     "name": "stdout",
     "output_type": "stream",
     "text": [
      "/glade/work/jonahshaw/trend_uncertainty/nathan/OBS_LENS/GISTEMP_5x5/20240820//ensembleChunk_5x5_0028.5x5degSpatialTrends.190001-202012.nc\n",
      "0029\n"
     ]
    },
    {
     "name": "stderr",
     "output_type": "stream",
     "text": [
      "/glade/work/jonahshaw/miniconda3/envs/cheydask/lib/python3.7/site-packages/dask/array/numpy_compat.py:41: RuntimeWarning: invalid value encountered in true_divide\n",
      "  x = np.divide(x1, x2, out)\n"
     ]
    },
    {
     "name": "stdout",
     "output_type": "stream",
     "text": [
      "/glade/work/jonahshaw/trend_uncertainty/nathan/OBS_LENS/GISTEMP_5x5/20240820//ensembleChunk_5x5_0029.5x5degSpatialTrends.190001-202012.nc\n",
      "0030\n"
     ]
    },
    {
     "name": "stderr",
     "output_type": "stream",
     "text": [
      "/glade/work/jonahshaw/miniconda3/envs/cheydask/lib/python3.7/site-packages/dask/array/numpy_compat.py:41: RuntimeWarning: invalid value encountered in true_divide\n",
      "  x = np.divide(x1, x2, out)\n"
     ]
    },
    {
     "name": "stdout",
     "output_type": "stream",
     "text": [
      "/glade/work/jonahshaw/trend_uncertainty/nathan/OBS_LENS/GISTEMP_5x5/20240820//ensembleChunk_5x5_0030.5x5degSpatialTrends.190001-202012.nc\n",
      "0031\n"
     ]
    },
    {
     "name": "stderr",
     "output_type": "stream",
     "text": [
      "/glade/work/jonahshaw/miniconda3/envs/cheydask/lib/python3.7/site-packages/dask/array/numpy_compat.py:41: RuntimeWarning: invalid value encountered in true_divide\n",
      "  x = np.divide(x1, x2, out)\n"
     ]
    },
    {
     "name": "stdout",
     "output_type": "stream",
     "text": [
      "/glade/work/jonahshaw/trend_uncertainty/nathan/OBS_LENS/GISTEMP_5x5/20240820//ensembleChunk_5x5_0031.5x5degSpatialTrends.190001-202012.nc\n",
      "0032\n"
     ]
    },
    {
     "name": "stderr",
     "output_type": "stream",
     "text": [
      "/glade/work/jonahshaw/miniconda3/envs/cheydask/lib/python3.7/site-packages/dask/array/numpy_compat.py:41: RuntimeWarning: invalid value encountered in true_divide\n",
      "  x = np.divide(x1, x2, out)\n"
     ]
    },
    {
     "name": "stdout",
     "output_type": "stream",
     "text": [
      "/glade/work/jonahshaw/trend_uncertainty/nathan/OBS_LENS/GISTEMP_5x5/20240820//ensembleChunk_5x5_0032.5x5degSpatialTrends.190001-202012.nc\n",
      "0033\n"
     ]
    },
    {
     "name": "stderr",
     "output_type": "stream",
     "text": [
      "/glade/work/jonahshaw/miniconda3/envs/cheydask/lib/python3.7/site-packages/dask/array/numpy_compat.py:41: RuntimeWarning: invalid value encountered in true_divide\n",
      "  x = np.divide(x1, x2, out)\n"
     ]
    },
    {
     "name": "stdout",
     "output_type": "stream",
     "text": [
      "/glade/work/jonahshaw/trend_uncertainty/nathan/OBS_LENS/GISTEMP_5x5/20240820//ensembleChunk_5x5_0033.5x5degSpatialTrends.190001-202012.nc\n",
      "0034\n"
     ]
    },
    {
     "name": "stderr",
     "output_type": "stream",
     "text": [
      "/glade/work/jonahshaw/miniconda3/envs/cheydask/lib/python3.7/site-packages/dask/array/numpy_compat.py:41: RuntimeWarning: invalid value encountered in true_divide\n",
      "  x = np.divide(x1, x2, out)\n"
     ]
    },
    {
     "name": "stdout",
     "output_type": "stream",
     "text": [
      "/glade/work/jonahshaw/trend_uncertainty/nathan/OBS_LENS/GISTEMP_5x5/20240820//ensembleChunk_5x5_0034.5x5degSpatialTrends.190001-202012.nc\n",
      "0035\n"
     ]
    },
    {
     "name": "stderr",
     "output_type": "stream",
     "text": [
      "/glade/work/jonahshaw/miniconda3/envs/cheydask/lib/python3.7/site-packages/dask/array/numpy_compat.py:41: RuntimeWarning: invalid value encountered in true_divide\n",
      "  x = np.divide(x1, x2, out)\n"
     ]
    },
    {
     "name": "stdout",
     "output_type": "stream",
     "text": [
      "/glade/work/jonahshaw/trend_uncertainty/nathan/OBS_LENS/GISTEMP_5x5/20240820//ensembleChunk_5x5_0035.5x5degSpatialTrends.190001-202012.nc\n",
      "0036\n"
     ]
    },
    {
     "name": "stderr",
     "output_type": "stream",
     "text": [
      "/glade/work/jonahshaw/miniconda3/envs/cheydask/lib/python3.7/site-packages/dask/array/numpy_compat.py:41: RuntimeWarning: invalid value encountered in true_divide\n",
      "  x = np.divide(x1, x2, out)\n"
     ]
    },
    {
     "name": "stdout",
     "output_type": "stream",
     "text": [
      "/glade/work/jonahshaw/trend_uncertainty/nathan/OBS_LENS/GISTEMP_5x5/20240820//ensembleChunk_5x5_0036.5x5degSpatialTrends.190001-202012.nc\n",
      "0037\n"
     ]
    },
    {
     "name": "stderr",
     "output_type": "stream",
     "text": [
      "/glade/work/jonahshaw/miniconda3/envs/cheydask/lib/python3.7/site-packages/dask/array/numpy_compat.py:41: RuntimeWarning: invalid value encountered in true_divide\n",
      "  x = np.divide(x1, x2, out)\n"
     ]
    },
    {
     "name": "stdout",
     "output_type": "stream",
     "text": [
      "/glade/work/jonahshaw/trend_uncertainty/nathan/OBS_LENS/GISTEMP_5x5/20240820//ensembleChunk_5x5_0037.5x5degSpatialTrends.190001-202012.nc\n",
      "0038\n"
     ]
    },
    {
     "name": "stderr",
     "output_type": "stream",
     "text": [
      "/glade/work/jonahshaw/miniconda3/envs/cheydask/lib/python3.7/site-packages/dask/array/numpy_compat.py:41: RuntimeWarning: invalid value encountered in true_divide\n",
      "  x = np.divide(x1, x2, out)\n"
     ]
    },
    {
     "name": "stdout",
     "output_type": "stream",
     "text": [
      "/glade/work/jonahshaw/trend_uncertainty/nathan/OBS_LENS/GISTEMP_5x5/20240820//ensembleChunk_5x5_0038.5x5degSpatialTrends.190001-202012.nc\n",
      "0039\n"
     ]
    },
    {
     "name": "stderr",
     "output_type": "stream",
     "text": [
      "/glade/work/jonahshaw/miniconda3/envs/cheydask/lib/python3.7/site-packages/dask/array/numpy_compat.py:41: RuntimeWarning: invalid value encountered in true_divide\n",
      "  x = np.divide(x1, x2, out)\n"
     ]
    },
    {
     "name": "stdout",
     "output_type": "stream",
     "text": [
      "/glade/work/jonahshaw/trend_uncertainty/nathan/OBS_LENS/GISTEMP_5x5/20240820//ensembleChunk_5x5_0039.5x5degSpatialTrends.190001-202012.nc\n",
      "0040\n"
     ]
    },
    {
     "name": "stderr",
     "output_type": "stream",
     "text": [
      "/glade/work/jonahshaw/miniconda3/envs/cheydask/lib/python3.7/site-packages/dask/array/numpy_compat.py:41: RuntimeWarning: invalid value encountered in true_divide\n",
      "  x = np.divide(x1, x2, out)\n"
     ]
    },
    {
     "name": "stdout",
     "output_type": "stream",
     "text": [
      "/glade/work/jonahshaw/trend_uncertainty/nathan/OBS_LENS/GISTEMP_5x5/20240820//ensembleChunk_5x5_0040.5x5degSpatialTrends.190001-202012.nc\n",
      "0041\n"
     ]
    },
    {
     "name": "stderr",
     "output_type": "stream",
     "text": [
      "/glade/work/jonahshaw/miniconda3/envs/cheydask/lib/python3.7/site-packages/dask/array/numpy_compat.py:41: RuntimeWarning: invalid value encountered in true_divide\n",
      "  x = np.divide(x1, x2, out)\n"
     ]
    },
    {
     "name": "stdout",
     "output_type": "stream",
     "text": [
      "/glade/work/jonahshaw/trend_uncertainty/nathan/OBS_LENS/GISTEMP_5x5/20240820//ensembleChunk_5x5_0041.5x5degSpatialTrends.190001-202012.nc\n",
      "0042\n"
     ]
    },
    {
     "name": "stderr",
     "output_type": "stream",
     "text": [
      "/glade/work/jonahshaw/miniconda3/envs/cheydask/lib/python3.7/site-packages/dask/array/numpy_compat.py:41: RuntimeWarning: invalid value encountered in true_divide\n",
      "  x = np.divide(x1, x2, out)\n"
     ]
    },
    {
     "name": "stdout",
     "output_type": "stream",
     "text": [
      "/glade/work/jonahshaw/trend_uncertainty/nathan/OBS_LENS/GISTEMP_5x5/20240820//ensembleChunk_5x5_0042.5x5degSpatialTrends.190001-202012.nc\n",
      "0043\n"
     ]
    },
    {
     "name": "stderr",
     "output_type": "stream",
     "text": [
      "/glade/work/jonahshaw/miniconda3/envs/cheydask/lib/python3.7/site-packages/dask/array/numpy_compat.py:41: RuntimeWarning: invalid value encountered in true_divide\n",
      "  x = np.divide(x1, x2, out)\n"
     ]
    },
    {
     "name": "stdout",
     "output_type": "stream",
     "text": [
      "/glade/work/jonahshaw/trend_uncertainty/nathan/OBS_LENS/GISTEMP_5x5/20240820//ensembleChunk_5x5_0043.5x5degSpatialTrends.190001-202012.nc\n",
      "0044\n"
     ]
    },
    {
     "name": "stderr",
     "output_type": "stream",
     "text": [
      "/glade/work/jonahshaw/miniconda3/envs/cheydask/lib/python3.7/site-packages/dask/array/numpy_compat.py:41: RuntimeWarning: invalid value encountered in true_divide\n",
      "  x = np.divide(x1, x2, out)\n"
     ]
    },
    {
     "name": "stdout",
     "output_type": "stream",
     "text": [
      "/glade/work/jonahshaw/trend_uncertainty/nathan/OBS_LENS/GISTEMP_5x5/20240820//ensembleChunk_5x5_0044.5x5degSpatialTrends.190001-202012.nc\n",
      "0045\n"
     ]
    },
    {
     "name": "stderr",
     "output_type": "stream",
     "text": [
      "/glade/work/jonahshaw/miniconda3/envs/cheydask/lib/python3.7/site-packages/dask/array/numpy_compat.py:41: RuntimeWarning: invalid value encountered in true_divide\n",
      "  x = np.divide(x1, x2, out)\n"
     ]
    },
    {
     "name": "stdout",
     "output_type": "stream",
     "text": [
      "/glade/work/jonahshaw/trend_uncertainty/nathan/OBS_LENS/GISTEMP_5x5/20240820//ensembleChunk_5x5_0045.5x5degSpatialTrends.190001-202012.nc\n",
      "0046\n"
     ]
    },
    {
     "name": "stderr",
     "output_type": "stream",
     "text": [
      "/glade/work/jonahshaw/miniconda3/envs/cheydask/lib/python3.7/site-packages/dask/array/numpy_compat.py:41: RuntimeWarning: invalid value encountered in true_divide\n",
      "  x = np.divide(x1, x2, out)\n"
     ]
    },
    {
     "name": "stdout",
     "output_type": "stream",
     "text": [
      "/glade/work/jonahshaw/trend_uncertainty/nathan/OBS_LENS/GISTEMP_5x5/20240820//ensembleChunk_5x5_0046.5x5degSpatialTrends.190001-202012.nc\n",
      "0047\n"
     ]
    },
    {
     "name": "stderr",
     "output_type": "stream",
     "text": [
      "/glade/work/jonahshaw/miniconda3/envs/cheydask/lib/python3.7/site-packages/dask/array/numpy_compat.py:41: RuntimeWarning: invalid value encountered in true_divide\n",
      "  x = np.divide(x1, x2, out)\n"
     ]
    },
    {
     "name": "stdout",
     "output_type": "stream",
     "text": [
      "/glade/work/jonahshaw/trend_uncertainty/nathan/OBS_LENS/GISTEMP_5x5/20240820//ensembleChunk_5x5_0047.5x5degSpatialTrends.190001-202012.nc\n",
      "0048\n"
     ]
    },
    {
     "name": "stderr",
     "output_type": "stream",
     "text": [
      "/glade/work/jonahshaw/miniconda3/envs/cheydask/lib/python3.7/site-packages/dask/array/numpy_compat.py:41: RuntimeWarning: invalid value encountered in true_divide\n",
      "  x = np.divide(x1, x2, out)\n"
     ]
    },
    {
     "name": "stdout",
     "output_type": "stream",
     "text": [
      "/glade/work/jonahshaw/trend_uncertainty/nathan/OBS_LENS/GISTEMP_5x5/20240820//ensembleChunk_5x5_0048.5x5degSpatialTrends.190001-202012.nc\n",
      "0049\n"
     ]
    },
    {
     "name": "stderr",
     "output_type": "stream",
     "text": [
      "/glade/work/jonahshaw/miniconda3/envs/cheydask/lib/python3.7/site-packages/dask/array/numpy_compat.py:41: RuntimeWarning: invalid value encountered in true_divide\n",
      "  x = np.divide(x1, x2, out)\n"
     ]
    },
    {
     "name": "stdout",
     "output_type": "stream",
     "text": [
      "/glade/work/jonahshaw/trend_uncertainty/nathan/OBS_LENS/GISTEMP_5x5/20240820//ensembleChunk_5x5_0049.5x5degSpatialTrends.190001-202012.nc\n",
      "0050\n"
     ]
    },
    {
     "name": "stderr",
     "output_type": "stream",
     "text": [
      "/glade/work/jonahshaw/miniconda3/envs/cheydask/lib/python3.7/site-packages/dask/array/numpy_compat.py:41: RuntimeWarning: invalid value encountered in true_divide\n",
      "  x = np.divide(x1, x2, out)\n"
     ]
    },
    {
     "name": "stdout",
     "output_type": "stream",
     "text": [
      "/glade/work/jonahshaw/trend_uncertainty/nathan/OBS_LENS/GISTEMP_5x5/20240820//ensembleChunk_5x5_0050.5x5degSpatialTrends.190001-202012.nc\n",
      "0051\n"
     ]
    },
    {
     "name": "stderr",
     "output_type": "stream",
     "text": [
      "/glade/work/jonahshaw/miniconda3/envs/cheydask/lib/python3.7/site-packages/dask/array/numpy_compat.py:41: RuntimeWarning: invalid value encountered in true_divide\n",
      "  x = np.divide(x1, x2, out)\n"
     ]
    },
    {
     "name": "stdout",
     "output_type": "stream",
     "text": [
      "/glade/work/jonahshaw/trend_uncertainty/nathan/OBS_LENS/GISTEMP_5x5/20240820//ensembleChunk_5x5_0051.5x5degSpatialTrends.190001-202012.nc\n",
      "0052\n"
     ]
    },
    {
     "name": "stderr",
     "output_type": "stream",
     "text": [
      "/glade/work/jonahshaw/miniconda3/envs/cheydask/lib/python3.7/site-packages/dask/array/numpy_compat.py:41: RuntimeWarning: invalid value encountered in true_divide\n",
      "  x = np.divide(x1, x2, out)\n"
     ]
    },
    {
     "name": "stdout",
     "output_type": "stream",
     "text": [
      "/glade/work/jonahshaw/trend_uncertainty/nathan/OBS_LENS/GISTEMP_5x5/20240820//ensembleChunk_5x5_0052.5x5degSpatialTrends.190001-202012.nc\n",
      "0053\n"
     ]
    },
    {
     "name": "stderr",
     "output_type": "stream",
     "text": [
      "/glade/work/jonahshaw/miniconda3/envs/cheydask/lib/python3.7/site-packages/dask/array/numpy_compat.py:41: RuntimeWarning: invalid value encountered in true_divide\n",
      "  x = np.divide(x1, x2, out)\n"
     ]
    },
    {
     "name": "stdout",
     "output_type": "stream",
     "text": [
      "/glade/work/jonahshaw/trend_uncertainty/nathan/OBS_LENS/GISTEMP_5x5/20240820//ensembleChunk_5x5_0053.5x5degSpatialTrends.190001-202012.nc\n",
      "0054\n"
     ]
    },
    {
     "name": "stderr",
     "output_type": "stream",
     "text": [
      "/glade/work/jonahshaw/miniconda3/envs/cheydask/lib/python3.7/site-packages/dask/array/numpy_compat.py:41: RuntimeWarning: invalid value encountered in true_divide\n",
      "  x = np.divide(x1, x2, out)\n"
     ]
    },
    {
     "name": "stdout",
     "output_type": "stream",
     "text": [
      "/glade/work/jonahshaw/trend_uncertainty/nathan/OBS_LENS/GISTEMP_5x5/20240820//ensembleChunk_5x5_0054.5x5degSpatialTrends.190001-202012.nc\n",
      "0055\n"
     ]
    },
    {
     "name": "stderr",
     "output_type": "stream",
     "text": [
      "/glade/work/jonahshaw/miniconda3/envs/cheydask/lib/python3.7/site-packages/dask/array/numpy_compat.py:41: RuntimeWarning: invalid value encountered in true_divide\n",
      "  x = np.divide(x1, x2, out)\n"
     ]
    },
    {
     "name": "stdout",
     "output_type": "stream",
     "text": [
      "/glade/work/jonahshaw/trend_uncertainty/nathan/OBS_LENS/GISTEMP_5x5/20240820//ensembleChunk_5x5_0055.5x5degSpatialTrends.190001-202012.nc\n",
      "0056\n"
     ]
    },
    {
     "name": "stderr",
     "output_type": "stream",
     "text": [
      "/glade/work/jonahshaw/miniconda3/envs/cheydask/lib/python3.7/site-packages/dask/array/numpy_compat.py:41: RuntimeWarning: invalid value encountered in true_divide\n",
      "  x = np.divide(x1, x2, out)\n"
     ]
    },
    {
     "name": "stdout",
     "output_type": "stream",
     "text": [
      "/glade/work/jonahshaw/trend_uncertainty/nathan/OBS_LENS/GISTEMP_5x5/20240820//ensembleChunk_5x5_0056.5x5degSpatialTrends.190001-202012.nc\n",
      "0057\n"
     ]
    },
    {
     "name": "stderr",
     "output_type": "stream",
     "text": [
      "/glade/work/jonahshaw/miniconda3/envs/cheydask/lib/python3.7/site-packages/dask/array/numpy_compat.py:41: RuntimeWarning: invalid value encountered in true_divide\n",
      "  x = np.divide(x1, x2, out)\n"
     ]
    },
    {
     "name": "stdout",
     "output_type": "stream",
     "text": [
      "/glade/work/jonahshaw/trend_uncertainty/nathan/OBS_LENS/GISTEMP_5x5/20240820//ensembleChunk_5x5_0057.5x5degSpatialTrends.190001-202012.nc\n",
      "0058\n"
     ]
    },
    {
     "name": "stderr",
     "output_type": "stream",
     "text": [
      "/glade/work/jonahshaw/miniconda3/envs/cheydask/lib/python3.7/site-packages/dask/array/numpy_compat.py:41: RuntimeWarning: invalid value encountered in true_divide\n",
      "  x = np.divide(x1, x2, out)\n"
     ]
    },
    {
     "name": "stdout",
     "output_type": "stream",
     "text": [
      "/glade/work/jonahshaw/trend_uncertainty/nathan/OBS_LENS/GISTEMP_5x5/20240820//ensembleChunk_5x5_0058.5x5degSpatialTrends.190001-202012.nc\n",
      "0059\n"
     ]
    },
    {
     "name": "stderr",
     "output_type": "stream",
     "text": [
      "/glade/work/jonahshaw/miniconda3/envs/cheydask/lib/python3.7/site-packages/dask/array/numpy_compat.py:41: RuntimeWarning: invalid value encountered in true_divide\n",
      "  x = np.divide(x1, x2, out)\n"
     ]
    },
    {
     "name": "stdout",
     "output_type": "stream",
     "text": [
      "/glade/work/jonahshaw/trend_uncertainty/nathan/OBS_LENS/GISTEMP_5x5/20240820//ensembleChunk_5x5_0059.5x5degSpatialTrends.190001-202012.nc\n",
      "0060\n"
     ]
    },
    {
     "name": "stderr",
     "output_type": "stream",
     "text": [
      "/glade/work/jonahshaw/miniconda3/envs/cheydask/lib/python3.7/site-packages/dask/array/numpy_compat.py:41: RuntimeWarning: invalid value encountered in true_divide\n",
      "  x = np.divide(x1, x2, out)\n"
     ]
    },
    {
     "name": "stdout",
     "output_type": "stream",
     "text": [
      "/glade/work/jonahshaw/trend_uncertainty/nathan/OBS_LENS/GISTEMP_5x5/20240820//ensembleChunk_5x5_0060.5x5degSpatialTrends.190001-202012.nc\n",
      "0061\n"
     ]
    },
    {
     "name": "stderr",
     "output_type": "stream",
     "text": [
      "/glade/work/jonahshaw/miniconda3/envs/cheydask/lib/python3.7/site-packages/dask/array/numpy_compat.py:41: RuntimeWarning: invalid value encountered in true_divide\n",
      "  x = np.divide(x1, x2, out)\n"
     ]
    },
    {
     "name": "stdout",
     "output_type": "stream",
     "text": [
      "/glade/work/jonahshaw/trend_uncertainty/nathan/OBS_LENS/GISTEMP_5x5/20240820//ensembleChunk_5x5_0061.5x5degSpatialTrends.190001-202012.nc\n",
      "0062\n"
     ]
    },
    {
     "name": "stderr",
     "output_type": "stream",
     "text": [
      "/glade/work/jonahshaw/miniconda3/envs/cheydask/lib/python3.7/site-packages/dask/array/numpy_compat.py:41: RuntimeWarning: invalid value encountered in true_divide\n",
      "  x = np.divide(x1, x2, out)\n"
     ]
    },
    {
     "name": "stdout",
     "output_type": "stream",
     "text": [
      "/glade/work/jonahshaw/trend_uncertainty/nathan/OBS_LENS/GISTEMP_5x5/20240820//ensembleChunk_5x5_0062.5x5degSpatialTrends.190001-202012.nc\n",
      "0063\n"
     ]
    },
    {
     "name": "stderr",
     "output_type": "stream",
     "text": [
      "/glade/work/jonahshaw/miniconda3/envs/cheydask/lib/python3.7/site-packages/dask/array/numpy_compat.py:41: RuntimeWarning: invalid value encountered in true_divide\n",
      "  x = np.divide(x1, x2, out)\n"
     ]
    },
    {
     "name": "stdout",
     "output_type": "stream",
     "text": [
      "/glade/work/jonahshaw/trend_uncertainty/nathan/OBS_LENS/GISTEMP_5x5/20240820//ensembleChunk_5x5_0063.5x5degSpatialTrends.190001-202012.nc\n",
      "0064\n"
     ]
    },
    {
     "name": "stderr",
     "output_type": "stream",
     "text": [
      "/glade/work/jonahshaw/miniconda3/envs/cheydask/lib/python3.7/site-packages/dask/array/numpy_compat.py:41: RuntimeWarning: invalid value encountered in true_divide\n",
      "  x = np.divide(x1, x2, out)\n"
     ]
    },
    {
     "name": "stdout",
     "output_type": "stream",
     "text": [
      "/glade/work/jonahshaw/trend_uncertainty/nathan/OBS_LENS/GISTEMP_5x5/20240820//ensembleChunk_5x5_0064.5x5degSpatialTrends.190001-202012.nc\n",
      "0065\n"
     ]
    },
    {
     "name": "stderr",
     "output_type": "stream",
     "text": [
      "/glade/work/jonahshaw/miniconda3/envs/cheydask/lib/python3.7/site-packages/dask/array/numpy_compat.py:41: RuntimeWarning: invalid value encountered in true_divide\n",
      "  x = np.divide(x1, x2, out)\n"
     ]
    },
    {
     "name": "stdout",
     "output_type": "stream",
     "text": [
      "/glade/work/jonahshaw/trend_uncertainty/nathan/OBS_LENS/GISTEMP_5x5/20240820//ensembleChunk_5x5_0065.5x5degSpatialTrends.190001-202012.nc\n",
      "0066\n"
     ]
    },
    {
     "name": "stderr",
     "output_type": "stream",
     "text": [
      "/glade/work/jonahshaw/miniconda3/envs/cheydask/lib/python3.7/site-packages/dask/array/numpy_compat.py:41: RuntimeWarning: invalid value encountered in true_divide\n",
      "  x = np.divide(x1, x2, out)\n"
     ]
    },
    {
     "name": "stdout",
     "output_type": "stream",
     "text": [
      "/glade/work/jonahshaw/trend_uncertainty/nathan/OBS_LENS/GISTEMP_5x5/20240820//ensembleChunk_5x5_0066.5x5degSpatialTrends.190001-202012.nc\n",
      "0067\n"
     ]
    },
    {
     "name": "stderr",
     "output_type": "stream",
     "text": [
      "/glade/work/jonahshaw/miniconda3/envs/cheydask/lib/python3.7/site-packages/dask/array/numpy_compat.py:41: RuntimeWarning: invalid value encountered in true_divide\n",
      "  x = np.divide(x1, x2, out)\n"
     ]
    },
    {
     "name": "stdout",
     "output_type": "stream",
     "text": [
      "/glade/work/jonahshaw/trend_uncertainty/nathan/OBS_LENS/GISTEMP_5x5/20240820//ensembleChunk_5x5_0067.5x5degSpatialTrends.190001-202012.nc\n",
      "0068\n"
     ]
    },
    {
     "name": "stderr",
     "output_type": "stream",
     "text": [
      "/glade/work/jonahshaw/miniconda3/envs/cheydask/lib/python3.7/site-packages/dask/array/numpy_compat.py:41: RuntimeWarning: invalid value encountered in true_divide\n",
      "  x = np.divide(x1, x2, out)\n"
     ]
    },
    {
     "name": "stdout",
     "output_type": "stream",
     "text": [
      "/glade/work/jonahshaw/trend_uncertainty/nathan/OBS_LENS/GISTEMP_5x5/20240820//ensembleChunk_5x5_0068.5x5degSpatialTrends.190001-202012.nc\n",
      "0069\n"
     ]
    },
    {
     "name": "stderr",
     "output_type": "stream",
     "text": [
      "/glade/work/jonahshaw/miniconda3/envs/cheydask/lib/python3.7/site-packages/dask/array/numpy_compat.py:41: RuntimeWarning: invalid value encountered in true_divide\n",
      "  x = np.divide(x1, x2, out)\n"
     ]
    },
    {
     "name": "stdout",
     "output_type": "stream",
     "text": [
      "/glade/work/jonahshaw/trend_uncertainty/nathan/OBS_LENS/GISTEMP_5x5/20240820//ensembleChunk_5x5_0069.5x5degSpatialTrends.190001-202012.nc\n",
      "0070\n"
     ]
    },
    {
     "name": "stderr",
     "output_type": "stream",
     "text": [
      "/glade/work/jonahshaw/miniconda3/envs/cheydask/lib/python3.7/site-packages/dask/array/numpy_compat.py:41: RuntimeWarning: invalid value encountered in true_divide\n",
      "  x = np.divide(x1, x2, out)\n"
     ]
    },
    {
     "name": "stdout",
     "output_type": "stream",
     "text": [
      "/glade/work/jonahshaw/trend_uncertainty/nathan/OBS_LENS/GISTEMP_5x5/20240820//ensembleChunk_5x5_0070.5x5degSpatialTrends.190001-202012.nc\n",
      "0071\n"
     ]
    },
    {
     "name": "stderr",
     "output_type": "stream",
     "text": [
      "/glade/work/jonahshaw/miniconda3/envs/cheydask/lib/python3.7/site-packages/dask/array/numpy_compat.py:41: RuntimeWarning: invalid value encountered in true_divide\n",
      "  x = np.divide(x1, x2, out)\n"
     ]
    },
    {
     "name": "stdout",
     "output_type": "stream",
     "text": [
      "/glade/work/jonahshaw/trend_uncertainty/nathan/OBS_LENS/GISTEMP_5x5/20240820//ensembleChunk_5x5_0071.5x5degSpatialTrends.190001-202012.nc\n",
      "0072\n"
     ]
    },
    {
     "name": "stderr",
     "output_type": "stream",
     "text": [
      "/glade/work/jonahshaw/miniconda3/envs/cheydask/lib/python3.7/site-packages/dask/array/numpy_compat.py:41: RuntimeWarning: invalid value encountered in true_divide\n",
      "  x = np.divide(x1, x2, out)\n"
     ]
    },
    {
     "name": "stdout",
     "output_type": "stream",
     "text": [
      "/glade/work/jonahshaw/trend_uncertainty/nathan/OBS_LENS/GISTEMP_5x5/20240820//ensembleChunk_5x5_0072.5x5degSpatialTrends.190001-202012.nc\n",
      "0073\n"
     ]
    },
    {
     "name": "stderr",
     "output_type": "stream",
     "text": [
      "/glade/work/jonahshaw/miniconda3/envs/cheydask/lib/python3.7/site-packages/dask/array/numpy_compat.py:41: RuntimeWarning: invalid value encountered in true_divide\n",
      "  x = np.divide(x1, x2, out)\n"
     ]
    },
    {
     "name": "stdout",
     "output_type": "stream",
     "text": [
      "/glade/work/jonahshaw/trend_uncertainty/nathan/OBS_LENS/GISTEMP_5x5/20240820//ensembleChunk_5x5_0073.5x5degSpatialTrends.190001-202012.nc\n",
      "0074\n"
     ]
    },
    {
     "name": "stderr",
     "output_type": "stream",
     "text": [
      "/glade/work/jonahshaw/miniconda3/envs/cheydask/lib/python3.7/site-packages/dask/array/numpy_compat.py:41: RuntimeWarning: invalid value encountered in true_divide\n",
      "  x = np.divide(x1, x2, out)\n"
     ]
    },
    {
     "name": "stdout",
     "output_type": "stream",
     "text": [
      "/glade/work/jonahshaw/trend_uncertainty/nathan/OBS_LENS/GISTEMP_5x5/20240820//ensembleChunk_5x5_0074.5x5degSpatialTrends.190001-202012.nc\n",
      "0075\n"
     ]
    },
    {
     "name": "stderr",
     "output_type": "stream",
     "text": [
      "/glade/work/jonahshaw/miniconda3/envs/cheydask/lib/python3.7/site-packages/dask/array/numpy_compat.py:41: RuntimeWarning: invalid value encountered in true_divide\n",
      "  x = np.divide(x1, x2, out)\n"
     ]
    },
    {
     "name": "stdout",
     "output_type": "stream",
     "text": [
      "/glade/work/jonahshaw/trend_uncertainty/nathan/OBS_LENS/GISTEMP_5x5/20240820//ensembleChunk_5x5_0075.5x5degSpatialTrends.190001-202012.nc\n",
      "0076\n"
     ]
    },
    {
     "name": "stderr",
     "output_type": "stream",
     "text": [
      "/glade/work/jonahshaw/miniconda3/envs/cheydask/lib/python3.7/site-packages/dask/array/numpy_compat.py:41: RuntimeWarning: invalid value encountered in true_divide\n",
      "  x = np.divide(x1, x2, out)\n"
     ]
    },
    {
     "name": "stdout",
     "output_type": "stream",
     "text": [
      "/glade/work/jonahshaw/trend_uncertainty/nathan/OBS_LENS/GISTEMP_5x5/20240820//ensembleChunk_5x5_0076.5x5degSpatialTrends.190001-202012.nc\n",
      "0077\n"
     ]
    },
    {
     "name": "stderr",
     "output_type": "stream",
     "text": [
      "/glade/work/jonahshaw/miniconda3/envs/cheydask/lib/python3.7/site-packages/dask/array/numpy_compat.py:41: RuntimeWarning: invalid value encountered in true_divide\n",
      "  x = np.divide(x1, x2, out)\n"
     ]
    },
    {
     "name": "stdout",
     "output_type": "stream",
     "text": [
      "/glade/work/jonahshaw/trend_uncertainty/nathan/OBS_LENS/GISTEMP_5x5/20240820//ensembleChunk_5x5_0077.5x5degSpatialTrends.190001-202012.nc\n",
      "0078\n"
     ]
    },
    {
     "name": "stderr",
     "output_type": "stream",
     "text": [
      "/glade/work/jonahshaw/miniconda3/envs/cheydask/lib/python3.7/site-packages/dask/array/numpy_compat.py:41: RuntimeWarning: invalid value encountered in true_divide\n",
      "  x = np.divide(x1, x2, out)\n"
     ]
    },
    {
     "name": "stdout",
     "output_type": "stream",
     "text": [
      "/glade/work/jonahshaw/trend_uncertainty/nathan/OBS_LENS/GISTEMP_5x5/20240820//ensembleChunk_5x5_0078.5x5degSpatialTrends.190001-202012.nc\n",
      "0079\n"
     ]
    },
    {
     "name": "stderr",
     "output_type": "stream",
     "text": [
      "/glade/work/jonahshaw/miniconda3/envs/cheydask/lib/python3.7/site-packages/dask/array/numpy_compat.py:41: RuntimeWarning: invalid value encountered in true_divide\n",
      "  x = np.divide(x1, x2, out)\n"
     ]
    },
    {
     "name": "stdout",
     "output_type": "stream",
     "text": [
      "/glade/work/jonahshaw/trend_uncertainty/nathan/OBS_LENS/GISTEMP_5x5/20240820//ensembleChunk_5x5_0079.5x5degSpatialTrends.190001-202012.nc\n",
      "0080\n"
     ]
    },
    {
     "name": "stderr",
     "output_type": "stream",
     "text": [
      "/glade/work/jonahshaw/miniconda3/envs/cheydask/lib/python3.7/site-packages/dask/array/numpy_compat.py:41: RuntimeWarning: invalid value encountered in true_divide\n",
      "  x = np.divide(x1, x2, out)\n"
     ]
    },
    {
     "name": "stdout",
     "output_type": "stream",
     "text": [
      "/glade/work/jonahshaw/trend_uncertainty/nathan/OBS_LENS/GISTEMP_5x5/20240820//ensembleChunk_5x5_0080.5x5degSpatialTrends.190001-202012.nc\n",
      "0081\n"
     ]
    },
    {
     "name": "stderr",
     "output_type": "stream",
     "text": [
      "/glade/work/jonahshaw/miniconda3/envs/cheydask/lib/python3.7/site-packages/dask/array/numpy_compat.py:41: RuntimeWarning: invalid value encountered in true_divide\n",
      "  x = np.divide(x1, x2, out)\n"
     ]
    },
    {
     "name": "stdout",
     "output_type": "stream",
     "text": [
      "/glade/work/jonahshaw/trend_uncertainty/nathan/OBS_LENS/GISTEMP_5x5/20240820//ensembleChunk_5x5_0081.5x5degSpatialTrends.190001-202012.nc\n",
      "0082\n"
     ]
    },
    {
     "name": "stderr",
     "output_type": "stream",
     "text": [
      "/glade/work/jonahshaw/miniconda3/envs/cheydask/lib/python3.7/site-packages/dask/array/numpy_compat.py:41: RuntimeWarning: invalid value encountered in true_divide\n",
      "  x = np.divide(x1, x2, out)\n"
     ]
    },
    {
     "name": "stdout",
     "output_type": "stream",
     "text": [
      "/glade/work/jonahshaw/trend_uncertainty/nathan/OBS_LENS/GISTEMP_5x5/20240820//ensembleChunk_5x5_0082.5x5degSpatialTrends.190001-202012.nc\n",
      "0083\n"
     ]
    },
    {
     "name": "stderr",
     "output_type": "stream",
     "text": [
      "/glade/work/jonahshaw/miniconda3/envs/cheydask/lib/python3.7/site-packages/dask/array/numpy_compat.py:41: RuntimeWarning: invalid value encountered in true_divide\n",
      "  x = np.divide(x1, x2, out)\n"
     ]
    },
    {
     "name": "stdout",
     "output_type": "stream",
     "text": [
      "/glade/work/jonahshaw/trend_uncertainty/nathan/OBS_LENS/GISTEMP_5x5/20240820//ensembleChunk_5x5_0083.5x5degSpatialTrends.190001-202012.nc\n",
      "0084\n"
     ]
    },
    {
     "name": "stderr",
     "output_type": "stream",
     "text": [
      "/glade/work/jonahshaw/miniconda3/envs/cheydask/lib/python3.7/site-packages/dask/array/numpy_compat.py:41: RuntimeWarning: invalid value encountered in true_divide\n",
      "  x = np.divide(x1, x2, out)\n"
     ]
    },
    {
     "name": "stdout",
     "output_type": "stream",
     "text": [
      "/glade/work/jonahshaw/trend_uncertainty/nathan/OBS_LENS/GISTEMP_5x5/20240820//ensembleChunk_5x5_0084.5x5degSpatialTrends.190001-202012.nc\n",
      "0085\n"
     ]
    },
    {
     "name": "stderr",
     "output_type": "stream",
     "text": [
      "/glade/work/jonahshaw/miniconda3/envs/cheydask/lib/python3.7/site-packages/dask/array/numpy_compat.py:41: RuntimeWarning: invalid value encountered in true_divide\n",
      "  x = np.divide(x1, x2, out)\n"
     ]
    },
    {
     "name": "stdout",
     "output_type": "stream",
     "text": [
      "/glade/work/jonahshaw/trend_uncertainty/nathan/OBS_LENS/GISTEMP_5x5/20240820//ensembleChunk_5x5_0085.5x5degSpatialTrends.190001-202012.nc\n",
      "0086\n"
     ]
    },
    {
     "name": "stderr",
     "output_type": "stream",
     "text": [
      "/glade/work/jonahshaw/miniconda3/envs/cheydask/lib/python3.7/site-packages/dask/array/numpy_compat.py:41: RuntimeWarning: invalid value encountered in true_divide\n",
      "  x = np.divide(x1, x2, out)\n"
     ]
    },
    {
     "name": "stdout",
     "output_type": "stream",
     "text": [
      "/glade/work/jonahshaw/trend_uncertainty/nathan/OBS_LENS/GISTEMP_5x5/20240820//ensembleChunk_5x5_0086.5x5degSpatialTrends.190001-202012.nc\n",
      "0087\n"
     ]
    },
    {
     "name": "stderr",
     "output_type": "stream",
     "text": [
      "/glade/work/jonahshaw/miniconda3/envs/cheydask/lib/python3.7/site-packages/dask/array/numpy_compat.py:41: RuntimeWarning: invalid value encountered in true_divide\n",
      "  x = np.divide(x1, x2, out)\n"
     ]
    },
    {
     "name": "stdout",
     "output_type": "stream",
     "text": [
      "/glade/work/jonahshaw/trend_uncertainty/nathan/OBS_LENS/GISTEMP_5x5/20240820//ensembleChunk_5x5_0087.5x5degSpatialTrends.190001-202012.nc\n",
      "0088\n"
     ]
    },
    {
     "name": "stderr",
     "output_type": "stream",
     "text": [
      "/glade/work/jonahshaw/miniconda3/envs/cheydask/lib/python3.7/site-packages/dask/array/numpy_compat.py:41: RuntimeWarning: invalid value encountered in true_divide\n",
      "  x = np.divide(x1, x2, out)\n"
     ]
    },
    {
     "name": "stdout",
     "output_type": "stream",
     "text": [
      "/glade/work/jonahshaw/trend_uncertainty/nathan/OBS_LENS/GISTEMP_5x5/20240820//ensembleChunk_5x5_0088.5x5degSpatialTrends.190001-202012.nc\n",
      "0089\n"
     ]
    },
    {
     "name": "stderr",
     "output_type": "stream",
     "text": [
      "/glade/work/jonahshaw/miniconda3/envs/cheydask/lib/python3.7/site-packages/dask/array/numpy_compat.py:41: RuntimeWarning: invalid value encountered in true_divide\n",
      "  x = np.divide(x1, x2, out)\n"
     ]
    },
    {
     "name": "stdout",
     "output_type": "stream",
     "text": [
      "/glade/work/jonahshaw/trend_uncertainty/nathan/OBS_LENS/GISTEMP_5x5/20240820//ensembleChunk_5x5_0089.5x5degSpatialTrends.190001-202012.nc\n",
      "0090\n"
     ]
    },
    {
     "name": "stderr",
     "output_type": "stream",
     "text": [
      "/glade/work/jonahshaw/miniconda3/envs/cheydask/lib/python3.7/site-packages/dask/array/numpy_compat.py:41: RuntimeWarning: invalid value encountered in true_divide\n",
      "  x = np.divide(x1, x2, out)\n"
     ]
    },
    {
     "name": "stdout",
     "output_type": "stream",
     "text": [
      "/glade/work/jonahshaw/trend_uncertainty/nathan/OBS_LENS/GISTEMP_5x5/20240820//ensembleChunk_5x5_0090.5x5degSpatialTrends.190001-202012.nc\n",
      "0091\n"
     ]
    },
    {
     "name": "stderr",
     "output_type": "stream",
     "text": [
      "/glade/work/jonahshaw/miniconda3/envs/cheydask/lib/python3.7/site-packages/dask/array/numpy_compat.py:41: RuntimeWarning: invalid value encountered in true_divide\n",
      "  x = np.divide(x1, x2, out)\n"
     ]
    },
    {
     "name": "stdout",
     "output_type": "stream",
     "text": [
      "/glade/work/jonahshaw/trend_uncertainty/nathan/OBS_LENS/GISTEMP_5x5/20240820//ensembleChunk_5x5_0091.5x5degSpatialTrends.190001-202012.nc\n",
      "0092\n"
     ]
    },
    {
     "name": "stderr",
     "output_type": "stream",
     "text": [
      "/glade/work/jonahshaw/miniconda3/envs/cheydask/lib/python3.7/site-packages/dask/array/numpy_compat.py:41: RuntimeWarning: invalid value encountered in true_divide\n",
      "  x = np.divide(x1, x2, out)\n"
     ]
    },
    {
     "name": "stdout",
     "output_type": "stream",
     "text": [
      "/glade/work/jonahshaw/trend_uncertainty/nathan/OBS_LENS/GISTEMP_5x5/20240820//ensembleChunk_5x5_0092.5x5degSpatialTrends.190001-202012.nc\n",
      "0093\n"
     ]
    },
    {
     "name": "stderr",
     "output_type": "stream",
     "text": [
      "/glade/work/jonahshaw/miniconda3/envs/cheydask/lib/python3.7/site-packages/dask/array/numpy_compat.py:41: RuntimeWarning: invalid value encountered in true_divide\n",
      "  x = np.divide(x1, x2, out)\n"
     ]
    },
    {
     "name": "stdout",
     "output_type": "stream",
     "text": [
      "/glade/work/jonahshaw/trend_uncertainty/nathan/OBS_LENS/GISTEMP_5x5/20240820//ensembleChunk_5x5_0093.5x5degSpatialTrends.190001-202012.nc\n",
      "0094\n"
     ]
    },
    {
     "name": "stderr",
     "output_type": "stream",
     "text": [
      "/glade/work/jonahshaw/miniconda3/envs/cheydask/lib/python3.7/site-packages/dask/array/numpy_compat.py:41: RuntimeWarning: invalid value encountered in true_divide\n",
      "  x = np.divide(x1, x2, out)\n"
     ]
    },
    {
     "name": "stdout",
     "output_type": "stream",
     "text": [
      "/glade/work/jonahshaw/trend_uncertainty/nathan/OBS_LENS/GISTEMP_5x5/20240820//ensembleChunk_5x5_0094.5x5degSpatialTrends.190001-202012.nc\n",
      "0095\n"
     ]
    },
    {
     "name": "stderr",
     "output_type": "stream",
     "text": [
      "/glade/work/jonahshaw/miniconda3/envs/cheydask/lib/python3.7/site-packages/dask/array/numpy_compat.py:41: RuntimeWarning: invalid value encountered in true_divide\n",
      "  x = np.divide(x1, x2, out)\n"
     ]
    },
    {
     "name": "stdout",
     "output_type": "stream",
     "text": [
      "/glade/work/jonahshaw/trend_uncertainty/nathan/OBS_LENS/GISTEMP_5x5/20240820//ensembleChunk_5x5_0095.5x5degSpatialTrends.190001-202012.nc\n",
      "0096\n"
     ]
    },
    {
     "name": "stderr",
     "output_type": "stream",
     "text": [
      "/glade/work/jonahshaw/miniconda3/envs/cheydask/lib/python3.7/site-packages/dask/array/numpy_compat.py:41: RuntimeWarning: invalid value encountered in true_divide\n",
      "  x = np.divide(x1, x2, out)\n"
     ]
    },
    {
     "name": "stdout",
     "output_type": "stream",
     "text": [
      "/glade/work/jonahshaw/trend_uncertainty/nathan/OBS_LENS/GISTEMP_5x5/20240820//ensembleChunk_5x5_0096.5x5degSpatialTrends.190001-202012.nc\n",
      "0097\n"
     ]
    },
    {
     "name": "stderr",
     "output_type": "stream",
     "text": [
      "/glade/work/jonahshaw/miniconda3/envs/cheydask/lib/python3.7/site-packages/dask/array/numpy_compat.py:41: RuntimeWarning: invalid value encountered in true_divide\n",
      "  x = np.divide(x1, x2, out)\n"
     ]
    },
    {
     "name": "stdout",
     "output_type": "stream",
     "text": [
      "/glade/work/jonahshaw/trend_uncertainty/nathan/OBS_LENS/GISTEMP_5x5/20240820//ensembleChunk_5x5_0097.5x5degSpatialTrends.190001-202012.nc\n",
      "0098\n"
     ]
    },
    {
     "name": "stderr",
     "output_type": "stream",
     "text": [
      "/glade/work/jonahshaw/miniconda3/envs/cheydask/lib/python3.7/site-packages/dask/array/numpy_compat.py:41: RuntimeWarning: invalid value encountered in true_divide\n",
      "  x = np.divide(x1, x2, out)\n"
     ]
    },
    {
     "name": "stdout",
     "output_type": "stream",
     "text": [
      "/glade/work/jonahshaw/trend_uncertainty/nathan/OBS_LENS/GISTEMP_5x5/20240820//ensembleChunk_5x5_0098.5x5degSpatialTrends.190001-202012.nc\n",
      "0099\n"
     ]
    },
    {
     "name": "stderr",
     "output_type": "stream",
     "text": [
      "/glade/work/jonahshaw/miniconda3/envs/cheydask/lib/python3.7/site-packages/dask/array/numpy_compat.py:41: RuntimeWarning: invalid value encountered in true_divide\n",
      "  x = np.divide(x1, x2, out)\n"
     ]
    },
    {
     "name": "stdout",
     "output_type": "stream",
     "text": [
      "/glade/work/jonahshaw/trend_uncertainty/nathan/OBS_LENS/GISTEMP_5x5/20240820//ensembleChunk_5x5_0099.5x5degSpatialTrends.190001-202012.nc\n",
      "0100\n"
     ]
    },
    {
     "name": "stderr",
     "output_type": "stream",
     "text": [
      "/glade/work/jonahshaw/miniconda3/envs/cheydask/lib/python3.7/site-packages/dask/array/numpy_compat.py:41: RuntimeWarning: invalid value encountered in true_divide\n",
      "  x = np.divide(x1, x2, out)\n"
     ]
    },
    {
     "name": "stdout",
     "output_type": "stream",
     "text": [
      "/glade/work/jonahshaw/trend_uncertainty/nathan/OBS_LENS/GISTEMP_5x5/20240820//ensembleChunk_5x5_0100.5x5degSpatialTrends.190001-202012.nc\n",
      "0101\n"
     ]
    },
    {
     "name": "stderr",
     "output_type": "stream",
     "text": [
      "/glade/work/jonahshaw/miniconda3/envs/cheydask/lib/python3.7/site-packages/dask/array/numpy_compat.py:41: RuntimeWarning: invalid value encountered in true_divide\n",
      "  x = np.divide(x1, x2, out)\n"
     ]
    },
    {
     "name": "stdout",
     "output_type": "stream",
     "text": [
      "/glade/work/jonahshaw/trend_uncertainty/nathan/OBS_LENS/GISTEMP_5x5/20240820//ensembleChunk_5x5_0101.5x5degSpatialTrends.190001-202012.nc\n",
      "0102\n"
     ]
    },
    {
     "name": "stderr",
     "output_type": "stream",
     "text": [
      "/glade/work/jonahshaw/miniconda3/envs/cheydask/lib/python3.7/site-packages/dask/array/numpy_compat.py:41: RuntimeWarning: invalid value encountered in true_divide\n",
      "  x = np.divide(x1, x2, out)\n"
     ]
    },
    {
     "name": "stdout",
     "output_type": "stream",
     "text": [
      "/glade/work/jonahshaw/trend_uncertainty/nathan/OBS_LENS/GISTEMP_5x5/20240820//ensembleChunk_5x5_0102.5x5degSpatialTrends.190001-202012.nc\n",
      "0103\n"
     ]
    },
    {
     "name": "stderr",
     "output_type": "stream",
     "text": [
      "/glade/work/jonahshaw/miniconda3/envs/cheydask/lib/python3.7/site-packages/dask/array/numpy_compat.py:41: RuntimeWarning: invalid value encountered in true_divide\n",
      "  x = np.divide(x1, x2, out)\n"
     ]
    },
    {
     "name": "stdout",
     "output_type": "stream",
     "text": [
      "/glade/work/jonahshaw/trend_uncertainty/nathan/OBS_LENS/GISTEMP_5x5/20240820//ensembleChunk_5x5_0103.5x5degSpatialTrends.190001-202012.nc\n",
      "0104\n"
     ]
    },
    {
     "name": "stderr",
     "output_type": "stream",
     "text": [
      "/glade/work/jonahshaw/miniconda3/envs/cheydask/lib/python3.7/site-packages/dask/array/numpy_compat.py:41: RuntimeWarning: invalid value encountered in true_divide\n",
      "  x = np.divide(x1, x2, out)\n"
     ]
    },
    {
     "name": "stdout",
     "output_type": "stream",
     "text": [
      "/glade/work/jonahshaw/trend_uncertainty/nathan/OBS_LENS/GISTEMP_5x5/20240820//ensembleChunk_5x5_0104.5x5degSpatialTrends.190001-202012.nc\n",
      "0105\n"
     ]
    },
    {
     "name": "stderr",
     "output_type": "stream",
     "text": [
      "/glade/work/jonahshaw/miniconda3/envs/cheydask/lib/python3.7/site-packages/dask/array/numpy_compat.py:41: RuntimeWarning: invalid value encountered in true_divide\n",
      "  x = np.divide(x1, x2, out)\n"
     ]
    },
    {
     "name": "stdout",
     "output_type": "stream",
     "text": [
      "/glade/work/jonahshaw/trend_uncertainty/nathan/OBS_LENS/GISTEMP_5x5/20240820//ensembleChunk_5x5_0105.5x5degSpatialTrends.190001-202012.nc\n",
      "0106\n"
     ]
    },
    {
     "name": "stderr",
     "output_type": "stream",
     "text": [
      "/glade/work/jonahshaw/miniconda3/envs/cheydask/lib/python3.7/site-packages/dask/array/numpy_compat.py:41: RuntimeWarning: invalid value encountered in true_divide\n",
      "  x = np.divide(x1, x2, out)\n"
     ]
    },
    {
     "name": "stdout",
     "output_type": "stream",
     "text": [
      "/glade/work/jonahshaw/trend_uncertainty/nathan/OBS_LENS/GISTEMP_5x5/20240820//ensembleChunk_5x5_0106.5x5degSpatialTrends.190001-202012.nc\n",
      "0107\n"
     ]
    },
    {
     "name": "stderr",
     "output_type": "stream",
     "text": [
      "/glade/work/jonahshaw/miniconda3/envs/cheydask/lib/python3.7/site-packages/dask/array/numpy_compat.py:41: RuntimeWarning: invalid value encountered in true_divide\n",
      "  x = np.divide(x1, x2, out)\n"
     ]
    },
    {
     "name": "stdout",
     "output_type": "stream",
     "text": [
      "/glade/work/jonahshaw/trend_uncertainty/nathan/OBS_LENS/GISTEMP_5x5/20240820//ensembleChunk_5x5_0107.5x5degSpatialTrends.190001-202012.nc\n",
      "0108\n"
     ]
    },
    {
     "name": "stderr",
     "output_type": "stream",
     "text": [
      "/glade/work/jonahshaw/miniconda3/envs/cheydask/lib/python3.7/site-packages/dask/array/numpy_compat.py:41: RuntimeWarning: invalid value encountered in true_divide\n",
      "  x = np.divide(x1, x2, out)\n"
     ]
    },
    {
     "name": "stdout",
     "output_type": "stream",
     "text": [
      "/glade/work/jonahshaw/trend_uncertainty/nathan/OBS_LENS/GISTEMP_5x5/20240820//ensembleChunk_5x5_0108.5x5degSpatialTrends.190001-202012.nc\n",
      "0109\n"
     ]
    },
    {
     "name": "stderr",
     "output_type": "stream",
     "text": [
      "/glade/work/jonahshaw/miniconda3/envs/cheydask/lib/python3.7/site-packages/dask/array/numpy_compat.py:41: RuntimeWarning: invalid value encountered in true_divide\n",
      "  x = np.divide(x1, x2, out)\n"
     ]
    },
    {
     "name": "stdout",
     "output_type": "stream",
     "text": [
      "/glade/work/jonahshaw/trend_uncertainty/nathan/OBS_LENS/GISTEMP_5x5/20240820//ensembleChunk_5x5_0109.5x5degSpatialTrends.190001-202012.nc\n",
      "0110\n"
     ]
    },
    {
     "name": "stderr",
     "output_type": "stream",
     "text": [
      "/glade/work/jonahshaw/miniconda3/envs/cheydask/lib/python3.7/site-packages/dask/array/numpy_compat.py:41: RuntimeWarning: invalid value encountered in true_divide\n",
      "  x = np.divide(x1, x2, out)\n"
     ]
    },
    {
     "name": "stdout",
     "output_type": "stream",
     "text": [
      "/glade/work/jonahshaw/trend_uncertainty/nathan/OBS_LENS/GISTEMP_5x5/20240820//ensembleChunk_5x5_0110.5x5degSpatialTrends.190001-202012.nc\n",
      "0111\n"
     ]
    },
    {
     "name": "stderr",
     "output_type": "stream",
     "text": [
      "/glade/work/jonahshaw/miniconda3/envs/cheydask/lib/python3.7/site-packages/dask/array/numpy_compat.py:41: RuntimeWarning: invalid value encountered in true_divide\n",
      "  x = np.divide(x1, x2, out)\n"
     ]
    },
    {
     "name": "stdout",
     "output_type": "stream",
     "text": [
      "/glade/work/jonahshaw/trend_uncertainty/nathan/OBS_LENS/GISTEMP_5x5/20240820//ensembleChunk_5x5_0111.5x5degSpatialTrends.190001-202012.nc\n",
      "0112\n"
     ]
    },
    {
     "name": "stderr",
     "output_type": "stream",
     "text": [
      "/glade/work/jonahshaw/miniconda3/envs/cheydask/lib/python3.7/site-packages/dask/array/numpy_compat.py:41: RuntimeWarning: invalid value encountered in true_divide\n",
      "  x = np.divide(x1, x2, out)\n"
     ]
    },
    {
     "name": "stdout",
     "output_type": "stream",
     "text": [
      "/glade/work/jonahshaw/trend_uncertainty/nathan/OBS_LENS/GISTEMP_5x5/20240820//ensembleChunk_5x5_0112.5x5degSpatialTrends.190001-202012.nc\n",
      "0113\n"
     ]
    },
    {
     "name": "stderr",
     "output_type": "stream",
     "text": [
      "/glade/work/jonahshaw/miniconda3/envs/cheydask/lib/python3.7/site-packages/dask/array/numpy_compat.py:41: RuntimeWarning: invalid value encountered in true_divide\n",
      "  x = np.divide(x1, x2, out)\n"
     ]
    },
    {
     "name": "stdout",
     "output_type": "stream",
     "text": [
      "/glade/work/jonahshaw/trend_uncertainty/nathan/OBS_LENS/GISTEMP_5x5/20240820//ensembleChunk_5x5_0113.5x5degSpatialTrends.190001-202012.nc\n",
      "0114\n"
     ]
    },
    {
     "name": "stderr",
     "output_type": "stream",
     "text": [
      "/glade/work/jonahshaw/miniconda3/envs/cheydask/lib/python3.7/site-packages/dask/array/numpy_compat.py:41: RuntimeWarning: invalid value encountered in true_divide\n",
      "  x = np.divide(x1, x2, out)\n"
     ]
    },
    {
     "name": "stdout",
     "output_type": "stream",
     "text": [
      "/glade/work/jonahshaw/trend_uncertainty/nathan/OBS_LENS/GISTEMP_5x5/20240820//ensembleChunk_5x5_0114.5x5degSpatialTrends.190001-202012.nc\n",
      "0115\n"
     ]
    },
    {
     "name": "stderr",
     "output_type": "stream",
     "text": [
      "/glade/work/jonahshaw/miniconda3/envs/cheydask/lib/python3.7/site-packages/dask/array/numpy_compat.py:41: RuntimeWarning: invalid value encountered in true_divide\n",
      "  x = np.divide(x1, x2, out)\n"
     ]
    },
    {
     "name": "stdout",
     "output_type": "stream",
     "text": [
      "/glade/work/jonahshaw/trend_uncertainty/nathan/OBS_LENS/GISTEMP_5x5/20240820//ensembleChunk_5x5_0115.5x5degSpatialTrends.190001-202012.nc\n",
      "0116\n"
     ]
    },
    {
     "name": "stderr",
     "output_type": "stream",
     "text": [
      "/glade/work/jonahshaw/miniconda3/envs/cheydask/lib/python3.7/site-packages/dask/array/numpy_compat.py:41: RuntimeWarning: invalid value encountered in true_divide\n",
      "  x = np.divide(x1, x2, out)\n"
     ]
    },
    {
     "name": "stdout",
     "output_type": "stream",
     "text": [
      "/glade/work/jonahshaw/trend_uncertainty/nathan/OBS_LENS/GISTEMP_5x5/20240820//ensembleChunk_5x5_0116.5x5degSpatialTrends.190001-202012.nc\n",
      "0117\n"
     ]
    },
    {
     "name": "stderr",
     "output_type": "stream",
     "text": [
      "/glade/work/jonahshaw/miniconda3/envs/cheydask/lib/python3.7/site-packages/dask/array/numpy_compat.py:41: RuntimeWarning: invalid value encountered in true_divide\n",
      "  x = np.divide(x1, x2, out)\n"
     ]
    },
    {
     "name": "stdout",
     "output_type": "stream",
     "text": [
      "/glade/work/jonahshaw/trend_uncertainty/nathan/OBS_LENS/GISTEMP_5x5/20240820//ensembleChunk_5x5_0117.5x5degSpatialTrends.190001-202012.nc\n",
      "0118\n"
     ]
    },
    {
     "name": "stderr",
     "output_type": "stream",
     "text": [
      "/glade/work/jonahshaw/miniconda3/envs/cheydask/lib/python3.7/site-packages/dask/array/numpy_compat.py:41: RuntimeWarning: invalid value encountered in true_divide\n",
      "  x = np.divide(x1, x2, out)\n"
     ]
    },
    {
     "name": "stdout",
     "output_type": "stream",
     "text": [
      "/glade/work/jonahshaw/trend_uncertainty/nathan/OBS_LENS/GISTEMP_5x5/20240820//ensembleChunk_5x5_0118.5x5degSpatialTrends.190001-202012.nc\n",
      "0119\n"
     ]
    },
    {
     "name": "stderr",
     "output_type": "stream",
     "text": [
      "/glade/work/jonahshaw/miniconda3/envs/cheydask/lib/python3.7/site-packages/dask/array/numpy_compat.py:41: RuntimeWarning: invalid value encountered in true_divide\n",
      "  x = np.divide(x1, x2, out)\n"
     ]
    },
    {
     "name": "stdout",
     "output_type": "stream",
     "text": [
      "/glade/work/jonahshaw/trend_uncertainty/nathan/OBS_LENS/GISTEMP_5x5/20240820//ensembleChunk_5x5_0119.5x5degSpatialTrends.190001-202012.nc\n",
      "0120\n"
     ]
    },
    {
     "name": "stderr",
     "output_type": "stream",
     "text": [
      "/glade/work/jonahshaw/miniconda3/envs/cheydask/lib/python3.7/site-packages/dask/array/numpy_compat.py:41: RuntimeWarning: invalid value encountered in true_divide\n",
      "  x = np.divide(x1, x2, out)\n"
     ]
    },
    {
     "name": "stdout",
     "output_type": "stream",
     "text": [
      "/glade/work/jonahshaw/trend_uncertainty/nathan/OBS_LENS/GISTEMP_5x5/20240820//ensembleChunk_5x5_0120.5x5degSpatialTrends.190001-202012.nc\n",
      "0121\n"
     ]
    },
    {
     "name": "stderr",
     "output_type": "stream",
     "text": [
      "/glade/work/jonahshaw/miniconda3/envs/cheydask/lib/python3.7/site-packages/dask/array/numpy_compat.py:41: RuntimeWarning: invalid value encountered in true_divide\n",
      "  x = np.divide(x1, x2, out)\n"
     ]
    },
    {
     "name": "stdout",
     "output_type": "stream",
     "text": [
      "/glade/work/jonahshaw/trend_uncertainty/nathan/OBS_LENS/GISTEMP_5x5/20240820//ensembleChunk_5x5_0121.5x5degSpatialTrends.190001-202012.nc\n",
      "0122\n"
     ]
    },
    {
     "name": "stderr",
     "output_type": "stream",
     "text": [
      "/glade/work/jonahshaw/miniconda3/envs/cheydask/lib/python3.7/site-packages/dask/array/numpy_compat.py:41: RuntimeWarning: invalid value encountered in true_divide\n",
      "  x = np.divide(x1, x2, out)\n"
     ]
    },
    {
     "name": "stdout",
     "output_type": "stream",
     "text": [
      "/glade/work/jonahshaw/trend_uncertainty/nathan/OBS_LENS/GISTEMP_5x5/20240820//ensembleChunk_5x5_0122.5x5degSpatialTrends.190001-202012.nc\n",
      "0123\n"
     ]
    },
    {
     "name": "stderr",
     "output_type": "stream",
     "text": [
      "/glade/work/jonahshaw/miniconda3/envs/cheydask/lib/python3.7/site-packages/dask/array/numpy_compat.py:41: RuntimeWarning: invalid value encountered in true_divide\n",
      "  x = np.divide(x1, x2, out)\n"
     ]
    },
    {
     "name": "stdout",
     "output_type": "stream",
     "text": [
      "/glade/work/jonahshaw/trend_uncertainty/nathan/OBS_LENS/GISTEMP_5x5/20240820//ensembleChunk_5x5_0123.5x5degSpatialTrends.190001-202012.nc\n",
      "0124\n"
     ]
    },
    {
     "name": "stderr",
     "output_type": "stream",
     "text": [
      "/glade/work/jonahshaw/miniconda3/envs/cheydask/lib/python3.7/site-packages/dask/array/numpy_compat.py:41: RuntimeWarning: invalid value encountered in true_divide\n",
      "  x = np.divide(x1, x2, out)\n"
     ]
    },
    {
     "name": "stdout",
     "output_type": "stream",
     "text": [
      "/glade/work/jonahshaw/trend_uncertainty/nathan/OBS_LENS/GISTEMP_5x5/20240820//ensembleChunk_5x5_0124.5x5degSpatialTrends.190001-202012.nc\n",
      "0125\n"
     ]
    },
    {
     "name": "stderr",
     "output_type": "stream",
     "text": [
      "/glade/work/jonahshaw/miniconda3/envs/cheydask/lib/python3.7/site-packages/dask/array/numpy_compat.py:41: RuntimeWarning: invalid value encountered in true_divide\n",
      "  x = np.divide(x1, x2, out)\n"
     ]
    },
    {
     "name": "stdout",
     "output_type": "stream",
     "text": [
      "/glade/work/jonahshaw/trend_uncertainty/nathan/OBS_LENS/GISTEMP_5x5/20240820//ensembleChunk_5x5_0125.5x5degSpatialTrends.190001-202012.nc\n",
      "0126\n"
     ]
    },
    {
     "name": "stderr",
     "output_type": "stream",
     "text": [
      "/glade/work/jonahshaw/miniconda3/envs/cheydask/lib/python3.7/site-packages/dask/array/numpy_compat.py:41: RuntimeWarning: invalid value encountered in true_divide\n",
      "  x = np.divide(x1, x2, out)\n"
     ]
    },
    {
     "name": "stdout",
     "output_type": "stream",
     "text": [
      "/glade/work/jonahshaw/trend_uncertainty/nathan/OBS_LENS/GISTEMP_5x5/20240820//ensembleChunk_5x5_0126.5x5degSpatialTrends.190001-202012.nc\n",
      "0127\n"
     ]
    },
    {
     "name": "stderr",
     "output_type": "stream",
     "text": [
      "/glade/work/jonahshaw/miniconda3/envs/cheydask/lib/python3.7/site-packages/dask/array/numpy_compat.py:41: RuntimeWarning: invalid value encountered in true_divide\n",
      "  x = np.divide(x1, x2, out)\n"
     ]
    },
    {
     "name": "stdout",
     "output_type": "stream",
     "text": [
      "/glade/work/jonahshaw/trend_uncertainty/nathan/OBS_LENS/GISTEMP_5x5/20240820//ensembleChunk_5x5_0127.5x5degSpatialTrends.190001-202012.nc\n",
      "0128\n"
     ]
    },
    {
     "name": "stderr",
     "output_type": "stream",
     "text": [
      "/glade/work/jonahshaw/miniconda3/envs/cheydask/lib/python3.7/site-packages/dask/array/numpy_compat.py:41: RuntimeWarning: invalid value encountered in true_divide\n",
      "  x = np.divide(x1, x2, out)\n"
     ]
    },
    {
     "name": "stdout",
     "output_type": "stream",
     "text": [
      "/glade/work/jonahshaw/trend_uncertainty/nathan/OBS_LENS/GISTEMP_5x5/20240820//ensembleChunk_5x5_0128.5x5degSpatialTrends.190001-202012.nc\n",
      "0129\n"
     ]
    },
    {
     "name": "stderr",
     "output_type": "stream",
     "text": [
      "/glade/work/jonahshaw/miniconda3/envs/cheydask/lib/python3.7/site-packages/dask/array/numpy_compat.py:41: RuntimeWarning: invalid value encountered in true_divide\n",
      "  x = np.divide(x1, x2, out)\n"
     ]
    },
    {
     "name": "stdout",
     "output_type": "stream",
     "text": [
      "/glade/work/jonahshaw/trend_uncertainty/nathan/OBS_LENS/GISTEMP_5x5/20240820//ensembleChunk_5x5_0129.5x5degSpatialTrends.190001-202012.nc\n",
      "0130\n"
     ]
    },
    {
     "name": "stderr",
     "output_type": "stream",
     "text": [
      "/glade/work/jonahshaw/miniconda3/envs/cheydask/lib/python3.7/site-packages/dask/array/numpy_compat.py:41: RuntimeWarning: invalid value encountered in true_divide\n",
      "  x = np.divide(x1, x2, out)\n"
     ]
    },
    {
     "name": "stdout",
     "output_type": "stream",
     "text": [
      "/glade/work/jonahshaw/trend_uncertainty/nathan/OBS_LENS/GISTEMP_5x5/20240820//ensembleChunk_5x5_0130.5x5degSpatialTrends.190001-202012.nc\n",
      "0131\n"
     ]
    },
    {
     "name": "stderr",
     "output_type": "stream",
     "text": [
      "/glade/work/jonahshaw/miniconda3/envs/cheydask/lib/python3.7/site-packages/dask/array/numpy_compat.py:41: RuntimeWarning: invalid value encountered in true_divide\n",
      "  x = np.divide(x1, x2, out)\n"
     ]
    },
    {
     "name": "stdout",
     "output_type": "stream",
     "text": [
      "/glade/work/jonahshaw/trend_uncertainty/nathan/OBS_LENS/GISTEMP_5x5/20240820//ensembleChunk_5x5_0131.5x5degSpatialTrends.190001-202012.nc\n",
      "0132\n"
     ]
    },
    {
     "name": "stderr",
     "output_type": "stream",
     "text": [
      "/glade/work/jonahshaw/miniconda3/envs/cheydask/lib/python3.7/site-packages/dask/array/numpy_compat.py:41: RuntimeWarning: invalid value encountered in true_divide\n",
      "  x = np.divide(x1, x2, out)\n"
     ]
    },
    {
     "name": "stdout",
     "output_type": "stream",
     "text": [
      "/glade/work/jonahshaw/trend_uncertainty/nathan/OBS_LENS/GISTEMP_5x5/20240820//ensembleChunk_5x5_0132.5x5degSpatialTrends.190001-202012.nc\n",
      "0133\n"
     ]
    },
    {
     "name": "stderr",
     "output_type": "stream",
     "text": [
      "/glade/work/jonahshaw/miniconda3/envs/cheydask/lib/python3.7/site-packages/dask/array/numpy_compat.py:41: RuntimeWarning: invalid value encountered in true_divide\n",
      "  x = np.divide(x1, x2, out)\n"
     ]
    },
    {
     "name": "stdout",
     "output_type": "stream",
     "text": [
      "/glade/work/jonahshaw/trend_uncertainty/nathan/OBS_LENS/GISTEMP_5x5/20240820//ensembleChunk_5x5_0133.5x5degSpatialTrends.190001-202012.nc\n",
      "0134\n"
     ]
    },
    {
     "name": "stderr",
     "output_type": "stream",
     "text": [
      "/glade/work/jonahshaw/miniconda3/envs/cheydask/lib/python3.7/site-packages/dask/array/numpy_compat.py:41: RuntimeWarning: invalid value encountered in true_divide\n",
      "  x = np.divide(x1, x2, out)\n"
     ]
    },
    {
     "name": "stdout",
     "output_type": "stream",
     "text": [
      "/glade/work/jonahshaw/trend_uncertainty/nathan/OBS_LENS/GISTEMP_5x5/20240820//ensembleChunk_5x5_0134.5x5degSpatialTrends.190001-202012.nc\n",
      "0135\n"
     ]
    },
    {
     "name": "stderr",
     "output_type": "stream",
     "text": [
      "/glade/work/jonahshaw/miniconda3/envs/cheydask/lib/python3.7/site-packages/dask/array/numpy_compat.py:41: RuntimeWarning: invalid value encountered in true_divide\n",
      "  x = np.divide(x1, x2, out)\n"
     ]
    },
    {
     "name": "stdout",
     "output_type": "stream",
     "text": [
      "/glade/work/jonahshaw/trend_uncertainty/nathan/OBS_LENS/GISTEMP_5x5/20240820//ensembleChunk_5x5_0135.5x5degSpatialTrends.190001-202012.nc\n",
      "0136\n"
     ]
    },
    {
     "name": "stderr",
     "output_type": "stream",
     "text": [
      "/glade/work/jonahshaw/miniconda3/envs/cheydask/lib/python3.7/site-packages/dask/array/numpy_compat.py:41: RuntimeWarning: invalid value encountered in true_divide\n",
      "  x = np.divide(x1, x2, out)\n"
     ]
    },
    {
     "name": "stdout",
     "output_type": "stream",
     "text": [
      "/glade/work/jonahshaw/trend_uncertainty/nathan/OBS_LENS/GISTEMP_5x5/20240820//ensembleChunk_5x5_0136.5x5degSpatialTrends.190001-202012.nc\n",
      "0137\n"
     ]
    },
    {
     "name": "stderr",
     "output_type": "stream",
     "text": [
      "/glade/work/jonahshaw/miniconda3/envs/cheydask/lib/python3.7/site-packages/dask/array/numpy_compat.py:41: RuntimeWarning: invalid value encountered in true_divide\n",
      "  x = np.divide(x1, x2, out)\n"
     ]
    },
    {
     "name": "stdout",
     "output_type": "stream",
     "text": [
      "/glade/work/jonahshaw/trend_uncertainty/nathan/OBS_LENS/GISTEMP_5x5/20240820//ensembleChunk_5x5_0137.5x5degSpatialTrends.190001-202012.nc\n",
      "0138\n"
     ]
    },
    {
     "name": "stderr",
     "output_type": "stream",
     "text": [
      "/glade/work/jonahshaw/miniconda3/envs/cheydask/lib/python3.7/site-packages/dask/array/numpy_compat.py:41: RuntimeWarning: invalid value encountered in true_divide\n",
      "  x = np.divide(x1, x2, out)\n"
     ]
    },
    {
     "name": "stdout",
     "output_type": "stream",
     "text": [
      "/glade/work/jonahshaw/trend_uncertainty/nathan/OBS_LENS/GISTEMP_5x5/20240820//ensembleChunk_5x5_0138.5x5degSpatialTrends.190001-202012.nc\n",
      "0139\n"
     ]
    },
    {
     "name": "stderr",
     "output_type": "stream",
     "text": [
      "/glade/work/jonahshaw/miniconda3/envs/cheydask/lib/python3.7/site-packages/dask/array/numpy_compat.py:41: RuntimeWarning: invalid value encountered in true_divide\n",
      "  x = np.divide(x1, x2, out)\n"
     ]
    },
    {
     "name": "stdout",
     "output_type": "stream",
     "text": [
      "/glade/work/jonahshaw/trend_uncertainty/nathan/OBS_LENS/GISTEMP_5x5/20240820//ensembleChunk_5x5_0139.5x5degSpatialTrends.190001-202012.nc\n",
      "0140\n"
     ]
    },
    {
     "name": "stderr",
     "output_type": "stream",
     "text": [
      "/glade/work/jonahshaw/miniconda3/envs/cheydask/lib/python3.7/site-packages/dask/array/numpy_compat.py:41: RuntimeWarning: invalid value encountered in true_divide\n",
      "  x = np.divide(x1, x2, out)\n"
     ]
    },
    {
     "name": "stdout",
     "output_type": "stream",
     "text": [
      "/glade/work/jonahshaw/trend_uncertainty/nathan/OBS_LENS/GISTEMP_5x5/20240820//ensembleChunk_5x5_0140.5x5degSpatialTrends.190001-202012.nc\n",
      "0141\n"
     ]
    },
    {
     "name": "stderr",
     "output_type": "stream",
     "text": [
      "/glade/work/jonahshaw/miniconda3/envs/cheydask/lib/python3.7/site-packages/dask/array/numpy_compat.py:41: RuntimeWarning: invalid value encountered in true_divide\n",
      "  x = np.divide(x1, x2, out)\n"
     ]
    },
    {
     "name": "stdout",
     "output_type": "stream",
     "text": [
      "/glade/work/jonahshaw/trend_uncertainty/nathan/OBS_LENS/GISTEMP_5x5/20240820//ensembleChunk_5x5_0141.5x5degSpatialTrends.190001-202012.nc\n",
      "0142\n"
     ]
    },
    {
     "name": "stderr",
     "output_type": "stream",
     "text": [
      "/glade/work/jonahshaw/miniconda3/envs/cheydask/lib/python3.7/site-packages/dask/array/numpy_compat.py:41: RuntimeWarning: invalid value encountered in true_divide\n",
      "  x = np.divide(x1, x2, out)\n"
     ]
    },
    {
     "name": "stdout",
     "output_type": "stream",
     "text": [
      "/glade/work/jonahshaw/trend_uncertainty/nathan/OBS_LENS/GISTEMP_5x5/20240820//ensembleChunk_5x5_0142.5x5degSpatialTrends.190001-202012.nc\n",
      "0143\n"
     ]
    },
    {
     "name": "stderr",
     "output_type": "stream",
     "text": [
      "/glade/work/jonahshaw/miniconda3/envs/cheydask/lib/python3.7/site-packages/dask/array/numpy_compat.py:41: RuntimeWarning: invalid value encountered in true_divide\n",
      "  x = np.divide(x1, x2, out)\n"
     ]
    },
    {
     "name": "stdout",
     "output_type": "stream",
     "text": [
      "/glade/work/jonahshaw/trend_uncertainty/nathan/OBS_LENS/GISTEMP_5x5/20240820//ensembleChunk_5x5_0143.5x5degSpatialTrends.190001-202012.nc\n",
      "0144\n"
     ]
    },
    {
     "name": "stderr",
     "output_type": "stream",
     "text": [
      "/glade/work/jonahshaw/miniconda3/envs/cheydask/lib/python3.7/site-packages/dask/array/numpy_compat.py:41: RuntimeWarning: invalid value encountered in true_divide\n",
      "  x = np.divide(x1, x2, out)\n"
     ]
    },
    {
     "name": "stdout",
     "output_type": "stream",
     "text": [
      "/glade/work/jonahshaw/trend_uncertainty/nathan/OBS_LENS/GISTEMP_5x5/20240820//ensembleChunk_5x5_0144.5x5degSpatialTrends.190001-202012.nc\n",
      "0145\n"
     ]
    },
    {
     "name": "stderr",
     "output_type": "stream",
     "text": [
      "/glade/work/jonahshaw/miniconda3/envs/cheydask/lib/python3.7/site-packages/dask/array/numpy_compat.py:41: RuntimeWarning: invalid value encountered in true_divide\n",
      "  x = np.divide(x1, x2, out)\n"
     ]
    },
    {
     "name": "stdout",
     "output_type": "stream",
     "text": [
      "/glade/work/jonahshaw/trend_uncertainty/nathan/OBS_LENS/GISTEMP_5x5/20240820//ensembleChunk_5x5_0145.5x5degSpatialTrends.190001-202012.nc\n",
      "0146\n"
     ]
    },
    {
     "name": "stderr",
     "output_type": "stream",
     "text": [
      "/glade/work/jonahshaw/miniconda3/envs/cheydask/lib/python3.7/site-packages/dask/array/numpy_compat.py:41: RuntimeWarning: invalid value encountered in true_divide\n",
      "  x = np.divide(x1, x2, out)\n"
     ]
    },
    {
     "name": "stdout",
     "output_type": "stream",
     "text": [
      "/glade/work/jonahshaw/trend_uncertainty/nathan/OBS_LENS/GISTEMP_5x5/20240820//ensembleChunk_5x5_0146.5x5degSpatialTrends.190001-202012.nc\n",
      "0147\n"
     ]
    },
    {
     "name": "stderr",
     "output_type": "stream",
     "text": [
      "/glade/work/jonahshaw/miniconda3/envs/cheydask/lib/python3.7/site-packages/dask/array/numpy_compat.py:41: RuntimeWarning: invalid value encountered in true_divide\n",
      "  x = np.divide(x1, x2, out)\n"
     ]
    },
    {
     "name": "stdout",
     "output_type": "stream",
     "text": [
      "/glade/work/jonahshaw/trend_uncertainty/nathan/OBS_LENS/GISTEMP_5x5/20240820//ensembleChunk_5x5_0147.5x5degSpatialTrends.190001-202012.nc\n",
      "0148\n"
     ]
    },
    {
     "name": "stderr",
     "output_type": "stream",
     "text": [
      "/glade/work/jonahshaw/miniconda3/envs/cheydask/lib/python3.7/site-packages/dask/array/numpy_compat.py:41: RuntimeWarning: invalid value encountered in true_divide\n",
      "  x = np.divide(x1, x2, out)\n"
     ]
    },
    {
     "name": "stdout",
     "output_type": "stream",
     "text": [
      "/glade/work/jonahshaw/trend_uncertainty/nathan/OBS_LENS/GISTEMP_5x5/20240820//ensembleChunk_5x5_0148.5x5degSpatialTrends.190001-202012.nc\n",
      "0149\n"
     ]
    },
    {
     "name": "stderr",
     "output_type": "stream",
     "text": [
      "/glade/work/jonahshaw/miniconda3/envs/cheydask/lib/python3.7/site-packages/dask/array/numpy_compat.py:41: RuntimeWarning: invalid value encountered in true_divide\n",
      "  x = np.divide(x1, x2, out)\n"
     ]
    },
    {
     "name": "stdout",
     "output_type": "stream",
     "text": [
      "/glade/work/jonahshaw/trend_uncertainty/nathan/OBS_LENS/GISTEMP_5x5/20240820//ensembleChunk_5x5_0149.5x5degSpatialTrends.190001-202012.nc\n",
      "0150\n"
     ]
    },
    {
     "name": "stderr",
     "output_type": "stream",
     "text": [
      "/glade/work/jonahshaw/miniconda3/envs/cheydask/lib/python3.7/site-packages/dask/array/numpy_compat.py:41: RuntimeWarning: invalid value encountered in true_divide\n",
      "  x = np.divide(x1, x2, out)\n"
     ]
    },
    {
     "name": "stdout",
     "output_type": "stream",
     "text": [
      "/glade/work/jonahshaw/trend_uncertainty/nathan/OBS_LENS/GISTEMP_5x5/20240820//ensembleChunk_5x5_0150.5x5degSpatialTrends.190001-202012.nc\n",
      "0151\n"
     ]
    },
    {
     "name": "stderr",
     "output_type": "stream",
     "text": [
      "/glade/work/jonahshaw/miniconda3/envs/cheydask/lib/python3.7/site-packages/dask/array/numpy_compat.py:41: RuntimeWarning: invalid value encountered in true_divide\n",
      "  x = np.divide(x1, x2, out)\n"
     ]
    },
    {
     "name": "stdout",
     "output_type": "stream",
     "text": [
      "/glade/work/jonahshaw/trend_uncertainty/nathan/OBS_LENS/GISTEMP_5x5/20240820//ensembleChunk_5x5_0151.5x5degSpatialTrends.190001-202012.nc\n",
      "0152\n"
     ]
    },
    {
     "name": "stderr",
     "output_type": "stream",
     "text": [
      "/glade/work/jonahshaw/miniconda3/envs/cheydask/lib/python3.7/site-packages/dask/array/numpy_compat.py:41: RuntimeWarning: invalid value encountered in true_divide\n",
      "  x = np.divide(x1, x2, out)\n"
     ]
    },
    {
     "name": "stdout",
     "output_type": "stream",
     "text": [
      "/glade/work/jonahshaw/trend_uncertainty/nathan/OBS_LENS/GISTEMP_5x5/20240820//ensembleChunk_5x5_0152.5x5degSpatialTrends.190001-202012.nc\n",
      "0153\n"
     ]
    },
    {
     "name": "stderr",
     "output_type": "stream",
     "text": [
      "/glade/work/jonahshaw/miniconda3/envs/cheydask/lib/python3.7/site-packages/dask/array/numpy_compat.py:41: RuntimeWarning: invalid value encountered in true_divide\n",
      "  x = np.divide(x1, x2, out)\n"
     ]
    },
    {
     "name": "stdout",
     "output_type": "stream",
     "text": [
      "/glade/work/jonahshaw/trend_uncertainty/nathan/OBS_LENS/GISTEMP_5x5/20240820//ensembleChunk_5x5_0153.5x5degSpatialTrends.190001-202012.nc\n",
      "0154\n"
     ]
    },
    {
     "name": "stderr",
     "output_type": "stream",
     "text": [
      "/glade/work/jonahshaw/miniconda3/envs/cheydask/lib/python3.7/site-packages/dask/array/numpy_compat.py:41: RuntimeWarning: invalid value encountered in true_divide\n",
      "  x = np.divide(x1, x2, out)\n"
     ]
    },
    {
     "name": "stdout",
     "output_type": "stream",
     "text": [
      "/glade/work/jonahshaw/trend_uncertainty/nathan/OBS_LENS/GISTEMP_5x5/20240820//ensembleChunk_5x5_0154.5x5degSpatialTrends.190001-202012.nc\n",
      "0155\n"
     ]
    },
    {
     "name": "stderr",
     "output_type": "stream",
     "text": [
      "/glade/work/jonahshaw/miniconda3/envs/cheydask/lib/python3.7/site-packages/dask/array/numpy_compat.py:41: RuntimeWarning: invalid value encountered in true_divide\n",
      "  x = np.divide(x1, x2, out)\n"
     ]
    },
    {
     "name": "stdout",
     "output_type": "stream",
     "text": [
      "/glade/work/jonahshaw/trend_uncertainty/nathan/OBS_LENS/GISTEMP_5x5/20240820//ensembleChunk_5x5_0155.5x5degSpatialTrends.190001-202012.nc\n",
      "0156\n"
     ]
    },
    {
     "name": "stderr",
     "output_type": "stream",
     "text": [
      "/glade/work/jonahshaw/miniconda3/envs/cheydask/lib/python3.7/site-packages/dask/array/numpy_compat.py:41: RuntimeWarning: invalid value encountered in true_divide\n",
      "  x = np.divide(x1, x2, out)\n"
     ]
    },
    {
     "name": "stdout",
     "output_type": "stream",
     "text": [
      "/glade/work/jonahshaw/trend_uncertainty/nathan/OBS_LENS/GISTEMP_5x5/20240820//ensembleChunk_5x5_0156.5x5degSpatialTrends.190001-202012.nc\n",
      "0157\n"
     ]
    },
    {
     "name": "stderr",
     "output_type": "stream",
     "text": [
      "/glade/work/jonahshaw/miniconda3/envs/cheydask/lib/python3.7/site-packages/dask/array/numpy_compat.py:41: RuntimeWarning: invalid value encountered in true_divide\n",
      "  x = np.divide(x1, x2, out)\n"
     ]
    },
    {
     "name": "stdout",
     "output_type": "stream",
     "text": [
      "/glade/work/jonahshaw/trend_uncertainty/nathan/OBS_LENS/GISTEMP_5x5/20240820//ensembleChunk_5x5_0157.5x5degSpatialTrends.190001-202012.nc\n",
      "0158\n"
     ]
    },
    {
     "name": "stderr",
     "output_type": "stream",
     "text": [
      "/glade/work/jonahshaw/miniconda3/envs/cheydask/lib/python3.7/site-packages/dask/array/numpy_compat.py:41: RuntimeWarning: invalid value encountered in true_divide\n",
      "  x = np.divide(x1, x2, out)\n"
     ]
    },
    {
     "name": "stdout",
     "output_type": "stream",
     "text": [
      "/glade/work/jonahshaw/trend_uncertainty/nathan/OBS_LENS/GISTEMP_5x5/20240820//ensembleChunk_5x5_0158.5x5degSpatialTrends.190001-202012.nc\n",
      "0159\n"
     ]
    },
    {
     "name": "stderr",
     "output_type": "stream",
     "text": [
      "/glade/work/jonahshaw/miniconda3/envs/cheydask/lib/python3.7/site-packages/dask/array/numpy_compat.py:41: RuntimeWarning: invalid value encountered in true_divide\n",
      "  x = np.divide(x1, x2, out)\n"
     ]
    },
    {
     "name": "stdout",
     "output_type": "stream",
     "text": [
      "/glade/work/jonahshaw/trend_uncertainty/nathan/OBS_LENS/GISTEMP_5x5/20240820//ensembleChunk_5x5_0159.5x5degSpatialTrends.190001-202012.nc\n",
      "0160\n"
     ]
    },
    {
     "name": "stderr",
     "output_type": "stream",
     "text": [
      "/glade/work/jonahshaw/miniconda3/envs/cheydask/lib/python3.7/site-packages/dask/array/numpy_compat.py:41: RuntimeWarning: invalid value encountered in true_divide\n",
      "  x = np.divide(x1, x2, out)\n"
     ]
    },
    {
     "name": "stdout",
     "output_type": "stream",
     "text": [
      "/glade/work/jonahshaw/trend_uncertainty/nathan/OBS_LENS/GISTEMP_5x5/20240820//ensembleChunk_5x5_0160.5x5degSpatialTrends.190001-202012.nc\n",
      "0161\n"
     ]
    },
    {
     "name": "stderr",
     "output_type": "stream",
     "text": [
      "/glade/work/jonahshaw/miniconda3/envs/cheydask/lib/python3.7/site-packages/dask/array/numpy_compat.py:41: RuntimeWarning: invalid value encountered in true_divide\n",
      "  x = np.divide(x1, x2, out)\n"
     ]
    },
    {
     "name": "stdout",
     "output_type": "stream",
     "text": [
      "/glade/work/jonahshaw/trend_uncertainty/nathan/OBS_LENS/GISTEMP_5x5/20240820//ensembleChunk_5x5_0161.5x5degSpatialTrends.190001-202012.nc\n",
      "0162\n"
     ]
    },
    {
     "name": "stderr",
     "output_type": "stream",
     "text": [
      "/glade/work/jonahshaw/miniconda3/envs/cheydask/lib/python3.7/site-packages/dask/array/numpy_compat.py:41: RuntimeWarning: invalid value encountered in true_divide\n",
      "  x = np.divide(x1, x2, out)\n"
     ]
    },
    {
     "name": "stdout",
     "output_type": "stream",
     "text": [
      "/glade/work/jonahshaw/trend_uncertainty/nathan/OBS_LENS/GISTEMP_5x5/20240820//ensembleChunk_5x5_0162.5x5degSpatialTrends.190001-202012.nc\n",
      "0163\n"
     ]
    },
    {
     "name": "stderr",
     "output_type": "stream",
     "text": [
      "/glade/work/jonahshaw/miniconda3/envs/cheydask/lib/python3.7/site-packages/dask/array/numpy_compat.py:41: RuntimeWarning: invalid value encountered in true_divide\n",
      "  x = np.divide(x1, x2, out)\n"
     ]
    },
    {
     "name": "stdout",
     "output_type": "stream",
     "text": [
      "/glade/work/jonahshaw/trend_uncertainty/nathan/OBS_LENS/GISTEMP_5x5/20240820//ensembleChunk_5x5_0163.5x5degSpatialTrends.190001-202012.nc\n",
      "0164\n"
     ]
    },
    {
     "name": "stderr",
     "output_type": "stream",
     "text": [
      "/glade/work/jonahshaw/miniconda3/envs/cheydask/lib/python3.7/site-packages/dask/array/numpy_compat.py:41: RuntimeWarning: invalid value encountered in true_divide\n",
      "  x = np.divide(x1, x2, out)\n"
     ]
    },
    {
     "name": "stdout",
     "output_type": "stream",
     "text": [
      "/glade/work/jonahshaw/trend_uncertainty/nathan/OBS_LENS/GISTEMP_5x5/20240820//ensembleChunk_5x5_0164.5x5degSpatialTrends.190001-202012.nc\n",
      "0165\n"
     ]
    },
    {
     "name": "stderr",
     "output_type": "stream",
     "text": [
      "/glade/work/jonahshaw/miniconda3/envs/cheydask/lib/python3.7/site-packages/dask/array/numpy_compat.py:41: RuntimeWarning: invalid value encountered in true_divide\n",
      "  x = np.divide(x1, x2, out)\n"
     ]
    },
    {
     "name": "stdout",
     "output_type": "stream",
     "text": [
      "/glade/work/jonahshaw/trend_uncertainty/nathan/OBS_LENS/GISTEMP_5x5/20240820//ensembleChunk_5x5_0165.5x5degSpatialTrends.190001-202012.nc\n",
      "0166\n"
     ]
    },
    {
     "name": "stderr",
     "output_type": "stream",
     "text": [
      "/glade/work/jonahshaw/miniconda3/envs/cheydask/lib/python3.7/site-packages/dask/array/numpy_compat.py:41: RuntimeWarning: invalid value encountered in true_divide\n",
      "  x = np.divide(x1, x2, out)\n"
     ]
    },
    {
     "name": "stdout",
     "output_type": "stream",
     "text": [
      "/glade/work/jonahshaw/trend_uncertainty/nathan/OBS_LENS/GISTEMP_5x5/20240820//ensembleChunk_5x5_0166.5x5degSpatialTrends.190001-202012.nc\n",
      "0167\n"
     ]
    },
    {
     "name": "stderr",
     "output_type": "stream",
     "text": [
      "/glade/work/jonahshaw/miniconda3/envs/cheydask/lib/python3.7/site-packages/dask/array/numpy_compat.py:41: RuntimeWarning: invalid value encountered in true_divide\n",
      "  x = np.divide(x1, x2, out)\n"
     ]
    },
    {
     "name": "stdout",
     "output_type": "stream",
     "text": [
      "/glade/work/jonahshaw/trend_uncertainty/nathan/OBS_LENS/GISTEMP_5x5/20240820//ensembleChunk_5x5_0167.5x5degSpatialTrends.190001-202012.nc\n",
      "0168\n"
     ]
    },
    {
     "name": "stderr",
     "output_type": "stream",
     "text": [
      "/glade/work/jonahshaw/miniconda3/envs/cheydask/lib/python3.7/site-packages/dask/array/numpy_compat.py:41: RuntimeWarning: invalid value encountered in true_divide\n",
      "  x = np.divide(x1, x2, out)\n"
     ]
    },
    {
     "name": "stdout",
     "output_type": "stream",
     "text": [
      "/glade/work/jonahshaw/trend_uncertainty/nathan/OBS_LENS/GISTEMP_5x5/20240820//ensembleChunk_5x5_0168.5x5degSpatialTrends.190001-202012.nc\n",
      "0169\n"
     ]
    },
    {
     "name": "stderr",
     "output_type": "stream",
     "text": [
      "/glade/work/jonahshaw/miniconda3/envs/cheydask/lib/python3.7/site-packages/dask/array/numpy_compat.py:41: RuntimeWarning: invalid value encountered in true_divide\n",
      "  x = np.divide(x1, x2, out)\n"
     ]
    },
    {
     "name": "stdout",
     "output_type": "stream",
     "text": [
      "/glade/work/jonahshaw/trend_uncertainty/nathan/OBS_LENS/GISTEMP_5x5/20240820//ensembleChunk_5x5_0169.5x5degSpatialTrends.190001-202012.nc\n",
      "0170\n"
     ]
    },
    {
     "name": "stderr",
     "output_type": "stream",
     "text": [
      "/glade/work/jonahshaw/miniconda3/envs/cheydask/lib/python3.7/site-packages/dask/array/numpy_compat.py:41: RuntimeWarning: invalid value encountered in true_divide\n",
      "  x = np.divide(x1, x2, out)\n"
     ]
    },
    {
     "name": "stdout",
     "output_type": "stream",
     "text": [
      "/glade/work/jonahshaw/trend_uncertainty/nathan/OBS_LENS/GISTEMP_5x5/20240820//ensembleChunk_5x5_0170.5x5degSpatialTrends.190001-202012.nc\n",
      "0171\n"
     ]
    },
    {
     "name": "stderr",
     "output_type": "stream",
     "text": [
      "/glade/work/jonahshaw/miniconda3/envs/cheydask/lib/python3.7/site-packages/dask/array/numpy_compat.py:41: RuntimeWarning: invalid value encountered in true_divide\n",
      "  x = np.divide(x1, x2, out)\n"
     ]
    },
    {
     "name": "stdout",
     "output_type": "stream",
     "text": [
      "/glade/work/jonahshaw/trend_uncertainty/nathan/OBS_LENS/GISTEMP_5x5/20240820//ensembleChunk_5x5_0171.5x5degSpatialTrends.190001-202012.nc\n",
      "0172\n"
     ]
    },
    {
     "name": "stderr",
     "output_type": "stream",
     "text": [
      "/glade/work/jonahshaw/miniconda3/envs/cheydask/lib/python3.7/site-packages/dask/array/numpy_compat.py:41: RuntimeWarning: invalid value encountered in true_divide\n",
      "  x = np.divide(x1, x2, out)\n"
     ]
    },
    {
     "name": "stdout",
     "output_type": "stream",
     "text": [
      "/glade/work/jonahshaw/trend_uncertainty/nathan/OBS_LENS/GISTEMP_5x5/20240820//ensembleChunk_5x5_0172.5x5degSpatialTrends.190001-202012.nc\n",
      "0173\n"
     ]
    },
    {
     "name": "stderr",
     "output_type": "stream",
     "text": [
      "/glade/work/jonahshaw/miniconda3/envs/cheydask/lib/python3.7/site-packages/dask/array/numpy_compat.py:41: RuntimeWarning: invalid value encountered in true_divide\n",
      "  x = np.divide(x1, x2, out)\n"
     ]
    },
    {
     "name": "stdout",
     "output_type": "stream",
     "text": [
      "/glade/work/jonahshaw/trend_uncertainty/nathan/OBS_LENS/GISTEMP_5x5/20240820//ensembleChunk_5x5_0173.5x5degSpatialTrends.190001-202012.nc\n",
      "0174\n"
     ]
    },
    {
     "name": "stderr",
     "output_type": "stream",
     "text": [
      "/glade/work/jonahshaw/miniconda3/envs/cheydask/lib/python3.7/site-packages/dask/array/numpy_compat.py:41: RuntimeWarning: invalid value encountered in true_divide\n",
      "  x = np.divide(x1, x2, out)\n"
     ]
    },
    {
     "name": "stdout",
     "output_type": "stream",
     "text": [
      "/glade/work/jonahshaw/trend_uncertainty/nathan/OBS_LENS/GISTEMP_5x5/20240820//ensembleChunk_5x5_0174.5x5degSpatialTrends.190001-202012.nc\n",
      "0175\n"
     ]
    },
    {
     "name": "stderr",
     "output_type": "stream",
     "text": [
      "/glade/work/jonahshaw/miniconda3/envs/cheydask/lib/python3.7/site-packages/dask/array/numpy_compat.py:41: RuntimeWarning: invalid value encountered in true_divide\n",
      "  x = np.divide(x1, x2, out)\n"
     ]
    },
    {
     "name": "stdout",
     "output_type": "stream",
     "text": [
      "/glade/work/jonahshaw/trend_uncertainty/nathan/OBS_LENS/GISTEMP_5x5/20240820//ensembleChunk_5x5_0175.5x5degSpatialTrends.190001-202012.nc\n",
      "0176\n"
     ]
    },
    {
     "name": "stderr",
     "output_type": "stream",
     "text": [
      "/glade/work/jonahshaw/miniconda3/envs/cheydask/lib/python3.7/site-packages/dask/array/numpy_compat.py:41: RuntimeWarning: invalid value encountered in true_divide\n",
      "  x = np.divide(x1, x2, out)\n"
     ]
    },
    {
     "name": "stdout",
     "output_type": "stream",
     "text": [
      "/glade/work/jonahshaw/trend_uncertainty/nathan/OBS_LENS/GISTEMP_5x5/20240820//ensembleChunk_5x5_0176.5x5degSpatialTrends.190001-202012.nc\n",
      "0177\n"
     ]
    },
    {
     "name": "stderr",
     "output_type": "stream",
     "text": [
      "/glade/work/jonahshaw/miniconda3/envs/cheydask/lib/python3.7/site-packages/dask/array/numpy_compat.py:41: RuntimeWarning: invalid value encountered in true_divide\n",
      "  x = np.divide(x1, x2, out)\n"
     ]
    },
    {
     "name": "stdout",
     "output_type": "stream",
     "text": [
      "/glade/work/jonahshaw/trend_uncertainty/nathan/OBS_LENS/GISTEMP_5x5/20240820//ensembleChunk_5x5_0177.5x5degSpatialTrends.190001-202012.nc\n",
      "0178\n"
     ]
    },
    {
     "name": "stderr",
     "output_type": "stream",
     "text": [
      "/glade/work/jonahshaw/miniconda3/envs/cheydask/lib/python3.7/site-packages/dask/array/numpy_compat.py:41: RuntimeWarning: invalid value encountered in true_divide\n",
      "  x = np.divide(x1, x2, out)\n"
     ]
    },
    {
     "name": "stdout",
     "output_type": "stream",
     "text": [
      "/glade/work/jonahshaw/trend_uncertainty/nathan/OBS_LENS/GISTEMP_5x5/20240820//ensembleChunk_5x5_0178.5x5degSpatialTrends.190001-202012.nc\n",
      "0179\n"
     ]
    },
    {
     "name": "stderr",
     "output_type": "stream",
     "text": [
      "/glade/work/jonahshaw/miniconda3/envs/cheydask/lib/python3.7/site-packages/dask/array/numpy_compat.py:41: RuntimeWarning: invalid value encountered in true_divide\n",
      "  x = np.divide(x1, x2, out)\n"
     ]
    },
    {
     "name": "stdout",
     "output_type": "stream",
     "text": [
      "/glade/work/jonahshaw/trend_uncertainty/nathan/OBS_LENS/GISTEMP_5x5/20240820//ensembleChunk_5x5_0179.5x5degSpatialTrends.190001-202012.nc\n",
      "0180\n"
     ]
    },
    {
     "name": "stderr",
     "output_type": "stream",
     "text": [
      "/glade/work/jonahshaw/miniconda3/envs/cheydask/lib/python3.7/site-packages/dask/array/numpy_compat.py:41: RuntimeWarning: invalid value encountered in true_divide\n",
      "  x = np.divide(x1, x2, out)\n"
     ]
    },
    {
     "name": "stdout",
     "output_type": "stream",
     "text": [
      "/glade/work/jonahshaw/trend_uncertainty/nathan/OBS_LENS/GISTEMP_5x5/20240820//ensembleChunk_5x5_0180.5x5degSpatialTrends.190001-202012.nc\n",
      "0181\n"
     ]
    },
    {
     "name": "stderr",
     "output_type": "stream",
     "text": [
      "/glade/work/jonahshaw/miniconda3/envs/cheydask/lib/python3.7/site-packages/dask/array/numpy_compat.py:41: RuntimeWarning: invalid value encountered in true_divide\n",
      "  x = np.divide(x1, x2, out)\n"
     ]
    },
    {
     "name": "stdout",
     "output_type": "stream",
     "text": [
      "/glade/work/jonahshaw/trend_uncertainty/nathan/OBS_LENS/GISTEMP_5x5/20240820//ensembleChunk_5x5_0181.5x5degSpatialTrends.190001-202012.nc\n",
      "0182\n"
     ]
    },
    {
     "name": "stderr",
     "output_type": "stream",
     "text": [
      "/glade/work/jonahshaw/miniconda3/envs/cheydask/lib/python3.7/site-packages/dask/array/numpy_compat.py:41: RuntimeWarning: invalid value encountered in true_divide\n",
      "  x = np.divide(x1, x2, out)\n"
     ]
    },
    {
     "name": "stdout",
     "output_type": "stream",
     "text": [
      "/glade/work/jonahshaw/trend_uncertainty/nathan/OBS_LENS/GISTEMP_5x5/20240820//ensembleChunk_5x5_0182.5x5degSpatialTrends.190001-202012.nc\n",
      "0183\n"
     ]
    },
    {
     "name": "stderr",
     "output_type": "stream",
     "text": [
      "/glade/work/jonahshaw/miniconda3/envs/cheydask/lib/python3.7/site-packages/dask/array/numpy_compat.py:41: RuntimeWarning: invalid value encountered in true_divide\n",
      "  x = np.divide(x1, x2, out)\n"
     ]
    },
    {
     "name": "stdout",
     "output_type": "stream",
     "text": [
      "/glade/work/jonahshaw/trend_uncertainty/nathan/OBS_LENS/GISTEMP_5x5/20240820//ensembleChunk_5x5_0183.5x5degSpatialTrends.190001-202012.nc\n",
      "0184\n"
     ]
    },
    {
     "name": "stderr",
     "output_type": "stream",
     "text": [
      "/glade/work/jonahshaw/miniconda3/envs/cheydask/lib/python3.7/site-packages/dask/array/numpy_compat.py:41: RuntimeWarning: invalid value encountered in true_divide\n",
      "  x = np.divide(x1, x2, out)\n"
     ]
    },
    {
     "name": "stdout",
     "output_type": "stream",
     "text": [
      "/glade/work/jonahshaw/trend_uncertainty/nathan/OBS_LENS/GISTEMP_5x5/20240820//ensembleChunk_5x5_0184.5x5degSpatialTrends.190001-202012.nc\n",
      "0185\n"
     ]
    },
    {
     "name": "stderr",
     "output_type": "stream",
     "text": [
      "/glade/work/jonahshaw/miniconda3/envs/cheydask/lib/python3.7/site-packages/dask/array/numpy_compat.py:41: RuntimeWarning: invalid value encountered in true_divide\n",
      "  x = np.divide(x1, x2, out)\n"
     ]
    },
    {
     "name": "stdout",
     "output_type": "stream",
     "text": [
      "/glade/work/jonahshaw/trend_uncertainty/nathan/OBS_LENS/GISTEMP_5x5/20240820//ensembleChunk_5x5_0185.5x5degSpatialTrends.190001-202012.nc\n",
      "0186\n"
     ]
    },
    {
     "name": "stderr",
     "output_type": "stream",
     "text": [
      "/glade/work/jonahshaw/miniconda3/envs/cheydask/lib/python3.7/site-packages/dask/array/numpy_compat.py:41: RuntimeWarning: invalid value encountered in true_divide\n",
      "  x = np.divide(x1, x2, out)\n"
     ]
    },
    {
     "name": "stdout",
     "output_type": "stream",
     "text": [
      "/glade/work/jonahshaw/trend_uncertainty/nathan/OBS_LENS/GISTEMP_5x5/20240820//ensembleChunk_5x5_0186.5x5degSpatialTrends.190001-202012.nc\n",
      "0187\n"
     ]
    },
    {
     "name": "stderr",
     "output_type": "stream",
     "text": [
      "/glade/work/jonahshaw/miniconda3/envs/cheydask/lib/python3.7/site-packages/dask/array/numpy_compat.py:41: RuntimeWarning: invalid value encountered in true_divide\n",
      "  x = np.divide(x1, x2, out)\n"
     ]
    },
    {
     "name": "stdout",
     "output_type": "stream",
     "text": [
      "/glade/work/jonahshaw/trend_uncertainty/nathan/OBS_LENS/GISTEMP_5x5/20240820//ensembleChunk_5x5_0187.5x5degSpatialTrends.190001-202012.nc\n",
      "0188\n"
     ]
    },
    {
     "name": "stderr",
     "output_type": "stream",
     "text": [
      "/glade/work/jonahshaw/miniconda3/envs/cheydask/lib/python3.7/site-packages/dask/array/numpy_compat.py:41: RuntimeWarning: invalid value encountered in true_divide\n",
      "  x = np.divide(x1, x2, out)\n"
     ]
    },
    {
     "name": "stdout",
     "output_type": "stream",
     "text": [
      "/glade/work/jonahshaw/trend_uncertainty/nathan/OBS_LENS/GISTEMP_5x5/20240820//ensembleChunk_5x5_0188.5x5degSpatialTrends.190001-202012.nc\n",
      "0189\n"
     ]
    },
    {
     "name": "stderr",
     "output_type": "stream",
     "text": [
      "/glade/work/jonahshaw/miniconda3/envs/cheydask/lib/python3.7/site-packages/dask/array/numpy_compat.py:41: RuntimeWarning: invalid value encountered in true_divide\n",
      "  x = np.divide(x1, x2, out)\n"
     ]
    },
    {
     "name": "stdout",
     "output_type": "stream",
     "text": [
      "/glade/work/jonahshaw/trend_uncertainty/nathan/OBS_LENS/GISTEMP_5x5/20240820//ensembleChunk_5x5_0189.5x5degSpatialTrends.190001-202012.nc\n",
      "0190\n"
     ]
    },
    {
     "name": "stderr",
     "output_type": "stream",
     "text": [
      "/glade/work/jonahshaw/miniconda3/envs/cheydask/lib/python3.7/site-packages/dask/array/numpy_compat.py:41: RuntimeWarning: invalid value encountered in true_divide\n",
      "  x = np.divide(x1, x2, out)\n"
     ]
    },
    {
     "name": "stdout",
     "output_type": "stream",
     "text": [
      "/glade/work/jonahshaw/trend_uncertainty/nathan/OBS_LENS/GISTEMP_5x5/20240820//ensembleChunk_5x5_0190.5x5degSpatialTrends.190001-202012.nc\n",
      "0191\n"
     ]
    },
    {
     "name": "stderr",
     "output_type": "stream",
     "text": [
      "/glade/work/jonahshaw/miniconda3/envs/cheydask/lib/python3.7/site-packages/dask/array/numpy_compat.py:41: RuntimeWarning: invalid value encountered in true_divide\n",
      "  x = np.divide(x1, x2, out)\n"
     ]
    },
    {
     "name": "stdout",
     "output_type": "stream",
     "text": [
      "/glade/work/jonahshaw/trend_uncertainty/nathan/OBS_LENS/GISTEMP_5x5/20240820//ensembleChunk_5x5_0191.5x5degSpatialTrends.190001-202012.nc\n",
      "0192\n"
     ]
    },
    {
     "name": "stderr",
     "output_type": "stream",
     "text": [
      "/glade/work/jonahshaw/miniconda3/envs/cheydask/lib/python3.7/site-packages/dask/array/numpy_compat.py:41: RuntimeWarning: invalid value encountered in true_divide\n",
      "  x = np.divide(x1, x2, out)\n"
     ]
    },
    {
     "name": "stdout",
     "output_type": "stream",
     "text": [
      "/glade/work/jonahshaw/trend_uncertainty/nathan/OBS_LENS/GISTEMP_5x5/20240820//ensembleChunk_5x5_0192.5x5degSpatialTrends.190001-202012.nc\n",
      "0193\n"
     ]
    },
    {
     "name": "stderr",
     "output_type": "stream",
     "text": [
      "/glade/work/jonahshaw/miniconda3/envs/cheydask/lib/python3.7/site-packages/dask/array/numpy_compat.py:41: RuntimeWarning: invalid value encountered in true_divide\n",
      "  x = np.divide(x1, x2, out)\n"
     ]
    },
    {
     "name": "stdout",
     "output_type": "stream",
     "text": [
      "/glade/work/jonahshaw/trend_uncertainty/nathan/OBS_LENS/GISTEMP_5x5/20240820//ensembleChunk_5x5_0193.5x5degSpatialTrends.190001-202012.nc\n",
      "0194\n"
     ]
    },
    {
     "name": "stderr",
     "output_type": "stream",
     "text": [
      "/glade/work/jonahshaw/miniconda3/envs/cheydask/lib/python3.7/site-packages/dask/array/numpy_compat.py:41: RuntimeWarning: invalid value encountered in true_divide\n",
      "  x = np.divide(x1, x2, out)\n"
     ]
    },
    {
     "name": "stdout",
     "output_type": "stream",
     "text": [
      "/glade/work/jonahshaw/trend_uncertainty/nathan/OBS_LENS/GISTEMP_5x5/20240820//ensembleChunk_5x5_0194.5x5degSpatialTrends.190001-202012.nc\n",
      "0195\n"
     ]
    },
    {
     "name": "stderr",
     "output_type": "stream",
     "text": [
      "/glade/work/jonahshaw/miniconda3/envs/cheydask/lib/python3.7/site-packages/dask/array/numpy_compat.py:41: RuntimeWarning: invalid value encountered in true_divide\n",
      "  x = np.divide(x1, x2, out)\n"
     ]
    },
    {
     "name": "stdout",
     "output_type": "stream",
     "text": [
      "/glade/work/jonahshaw/trend_uncertainty/nathan/OBS_LENS/GISTEMP_5x5/20240820//ensembleChunk_5x5_0195.5x5degSpatialTrends.190001-202012.nc\n",
      "0196\n"
     ]
    },
    {
     "name": "stderr",
     "output_type": "stream",
     "text": [
      "/glade/work/jonahshaw/miniconda3/envs/cheydask/lib/python3.7/site-packages/dask/array/numpy_compat.py:41: RuntimeWarning: invalid value encountered in true_divide\n",
      "  x = np.divide(x1, x2, out)\n"
     ]
    },
    {
     "name": "stdout",
     "output_type": "stream",
     "text": [
      "/glade/work/jonahshaw/trend_uncertainty/nathan/OBS_LENS/GISTEMP_5x5/20240820//ensembleChunk_5x5_0196.5x5degSpatialTrends.190001-202012.nc\n",
      "0197\n"
     ]
    },
    {
     "name": "stderr",
     "output_type": "stream",
     "text": [
      "/glade/work/jonahshaw/miniconda3/envs/cheydask/lib/python3.7/site-packages/dask/array/numpy_compat.py:41: RuntimeWarning: invalid value encountered in true_divide\n",
      "  x = np.divide(x1, x2, out)\n"
     ]
    },
    {
     "name": "stdout",
     "output_type": "stream",
     "text": [
      "/glade/work/jonahshaw/trend_uncertainty/nathan/OBS_LENS/GISTEMP_5x5/20240820//ensembleChunk_5x5_0197.5x5degSpatialTrends.190001-202012.nc\n",
      "0198\n"
     ]
    },
    {
     "name": "stderr",
     "output_type": "stream",
     "text": [
      "/glade/work/jonahshaw/miniconda3/envs/cheydask/lib/python3.7/site-packages/dask/array/numpy_compat.py:41: RuntimeWarning: invalid value encountered in true_divide\n",
      "  x = np.divide(x1, x2, out)\n"
     ]
    },
    {
     "name": "stdout",
     "output_type": "stream",
     "text": [
      "/glade/work/jonahshaw/trend_uncertainty/nathan/OBS_LENS/GISTEMP_5x5/20240820//ensembleChunk_5x5_0198.5x5degSpatialTrends.190001-202012.nc\n",
      "0199\n"
     ]
    },
    {
     "name": "stderr",
     "output_type": "stream",
     "text": [
      "/glade/work/jonahshaw/miniconda3/envs/cheydask/lib/python3.7/site-packages/dask/array/numpy_compat.py:41: RuntimeWarning: invalid value encountered in true_divide\n",
      "  x = np.divide(x1, x2, out)\n"
     ]
    },
    {
     "name": "stdout",
     "output_type": "stream",
     "text": [
      "/glade/work/jonahshaw/trend_uncertainty/nathan/OBS_LENS/GISTEMP_5x5/20240820//ensembleChunk_5x5_0199.5x5degSpatialTrends.190001-202012.nc\n",
      "0200\n"
     ]
    },
    {
     "name": "stderr",
     "output_type": "stream",
     "text": [
      "/glade/work/jonahshaw/miniconda3/envs/cheydask/lib/python3.7/site-packages/dask/array/numpy_compat.py:41: RuntimeWarning: invalid value encountered in true_divide\n",
      "  x = np.divide(x1, x2, out)\n"
     ]
    },
    {
     "name": "stdout",
     "output_type": "stream",
     "text": [
      "/glade/work/jonahshaw/trend_uncertainty/nathan/OBS_LENS/GISTEMP_5x5/20240820//ensembleChunk_5x5_0200.5x5degSpatialTrends.190001-202012.nc\n",
      "CPU times: user 8min 58s, sys: 5.84 s, total: 9min 4s\n",
      "Wall time: 9min 35s\n"
     ]
    }
   ],
   "source": [
    "%%time\n",
    "save_path = '/glade/work/jonahshaw/trend_uncertainty/nathan/OBS_LENS/GISTEMP_5x5/20240820/'\n",
    "\n",
    "# Set File list\n",
    "data_paths = gistemp_files\n",
    "\n",
    "# Set var\n",
    "var = 'tas'\n",
    "\n",
    "# Set startyears and durations\n",
    "startyears = [1900]\n",
    "_startyear = 1900\n",
    "durations = np.arange(2,121) # Only goes through 2020\n",
    "\n",
    "gistemp_new_times = (pd.date_range(\"1900-01-01\", freq=\"1M\", periods=12*61)-pd.offsets.MonthBegin(1)).shift(periods=14,freq='D')\n",
    "\n",
    "record_list = []\n",
    "for _data_path in data_paths:\n",
    "    \n",
    "    filename = _data_path.split('/')[-1][:-3]\n",
    "    \n",
    "    output_string = '%s/%s.5x5degSpatialTrends.190001-202012.nc' % (save_path,filename)\n",
    "    \n",
    "    i = _data_path.split('_')[-1][:4]\n",
    "    print(i)\n",
    "    \n",
    "    data = xr.open_dataset(_data_path,chunks={'time': -1})[var]\n",
    "\n",
    "    data = gistemp_5x5_tselect(data) # Select post 1900 period\n",
    "\n",
    "    data_ann = data.groupby('time.year').mean(dim='time')\n",
    "    data_ann = data_ann.assign_coords(realization=int(i)+1).expand_dims(\"realization\") \n",
    "    \n",
    "    _endyears = _startyear + durations\n",
    "    _startyear_str = str(_startyear)\n",
    "    \n",
    "    while len(_startyear_str) < 4: # pad with zeros\n",
    "        _startyear_str = '0' + _startyear_str\n",
    "    \n",
    "    data_ann_slice = data_ann.sel(year=slice(_startyear,_startyear+durations[-1]))\n",
    "    \n",
    "    slopes_by_dur = []\n",
    "    \n",
    "    _endyears = _startyear + durations\n",
    "    _startyear_str = str(_startyear)\n",
    "    \n",
    "    slopes_by_dur.append(dask.delayed(calc_trends_noload)(data=data_ann_slice,\n",
    "                                                          var=var,\n",
    "                                                          startyear=_startyear_str,\n",
    "                                                          endyears=_endyears,\n",
    "                                                          wrapper_func=gettrends_wrapper2,\n",
    "                                                          calc_slopes_func=calc_slopes_spatial_ann2,\n",
    "                                                          ))\n",
    "    try:\n",
    "        slopes_by_dur_computed = dask.compute(*slopes_by_dur)\n",
    "        slopes_by_dur_computed[0].to_netcdf(output_string)\n",
    "        print(output_string)\n",
    "    except ValueError:\n",
    "        print('ValueError for %s' % filename)\n",
    "        print('var: ',var)\n",
    "        print('startyear: ',_startyear_str)\n",
    "        print('endyears: ',_endyears)\n",
    "        break"
   ]
  },
  {
   "cell_type": "markdown",
   "id": "b3d12ae3-5a1d-46b9-8084-518f08827673",
   "metadata": {},
   "source": [
    "#### HadCrut5"
   ]
  },
  {
   "cell_type": "code",
   "execution_count": 24,
   "id": "b06f77d8-0d75-40a0-8050-26df57149f54",
   "metadata": {},
   "outputs": [],
   "source": [
    "hadcrut_test = xr.open_dataset(hadcrut5_files[0])"
   ]
  },
  {
   "cell_type": "code",
   "execution_count": 66,
   "id": "16df8a4c-c318-4945-b5d1-a551b33948fc",
   "metadata": {},
   "outputs": [
    {
     "name": "stderr",
     "output_type": "stream",
     "text": [
      "/glade/work/jonahshaw/miniconda3/envs/cheydask/lib/python3.7/site-packages/dask/array/numpy_compat.py:41: RuntimeWarning: invalid value encountered in true_divide\n",
      "  x = np.divide(x1, x2, out)\n"
     ]
    },
    {
     "name": "stdout",
     "output_type": "stream",
     "text": [
      "/glade/work/jonahshaw/trend_uncertainty/nathan/OBS_LENS/HadCRUT5/20240820//HadCRUT.5.0.2.0.analysis.anomalies.1.5x5degSpatialTrends.190001-202012.nc\n"
     ]
    },
    {
     "name": "stderr",
     "output_type": "stream",
     "text": [
      "/glade/work/jonahshaw/miniconda3/envs/cheydask/lib/python3.7/site-packages/dask/array/numpy_compat.py:41: RuntimeWarning: invalid value encountered in true_divide\n",
      "  x = np.divide(x1, x2, out)\n"
     ]
    },
    {
     "name": "stdout",
     "output_type": "stream",
     "text": [
      "/glade/work/jonahshaw/trend_uncertainty/nathan/OBS_LENS/HadCRUT5/20240820//HadCRUT.5.0.2.0.analysis.anomalies.10.5x5degSpatialTrends.190001-202012.nc\n"
     ]
    },
    {
     "name": "stderr",
     "output_type": "stream",
     "text": [
      "/glade/work/jonahshaw/miniconda3/envs/cheydask/lib/python3.7/site-packages/dask/array/numpy_compat.py:41: RuntimeWarning: invalid value encountered in true_divide\n",
      "  x = np.divide(x1, x2, out)\n"
     ]
    },
    {
     "name": "stdout",
     "output_type": "stream",
     "text": [
      "/glade/work/jonahshaw/trend_uncertainty/nathan/OBS_LENS/HadCRUT5/20240820//HadCRUT.5.0.2.0.analysis.anomalies.100.5x5degSpatialTrends.190001-202012.nc\n"
     ]
    },
    {
     "name": "stderr",
     "output_type": "stream",
     "text": [
      "/glade/work/jonahshaw/miniconda3/envs/cheydask/lib/python3.7/site-packages/dask/array/numpy_compat.py:41: RuntimeWarning: invalid value encountered in true_divide\n",
      "  x = np.divide(x1, x2, out)\n"
     ]
    },
    {
     "name": "stdout",
     "output_type": "stream",
     "text": [
      "/glade/work/jonahshaw/trend_uncertainty/nathan/OBS_LENS/HadCRUT5/20240820//HadCRUT.5.0.2.0.analysis.anomalies.101.5x5degSpatialTrends.190001-202012.nc\n"
     ]
    },
    {
     "name": "stderr",
     "output_type": "stream",
     "text": [
      "/glade/work/jonahshaw/miniconda3/envs/cheydask/lib/python3.7/site-packages/dask/array/numpy_compat.py:41: RuntimeWarning: invalid value encountered in true_divide\n",
      "  x = np.divide(x1, x2, out)\n"
     ]
    },
    {
     "name": "stdout",
     "output_type": "stream",
     "text": [
      "/glade/work/jonahshaw/trend_uncertainty/nathan/OBS_LENS/HadCRUT5/20240820//HadCRUT.5.0.2.0.analysis.anomalies.102.5x5degSpatialTrends.190001-202012.nc\n"
     ]
    },
    {
     "name": "stderr",
     "output_type": "stream",
     "text": [
      "/glade/work/jonahshaw/miniconda3/envs/cheydask/lib/python3.7/site-packages/dask/array/numpy_compat.py:41: RuntimeWarning: invalid value encountered in true_divide\n",
      "  x = np.divide(x1, x2, out)\n"
     ]
    },
    {
     "name": "stdout",
     "output_type": "stream",
     "text": [
      "/glade/work/jonahshaw/trend_uncertainty/nathan/OBS_LENS/HadCRUT5/20240820//HadCRUT.5.0.2.0.analysis.anomalies.103.5x5degSpatialTrends.190001-202012.nc\n"
     ]
    },
    {
     "name": "stderr",
     "output_type": "stream",
     "text": [
      "/glade/work/jonahshaw/miniconda3/envs/cheydask/lib/python3.7/site-packages/dask/array/numpy_compat.py:41: RuntimeWarning: invalid value encountered in true_divide\n",
      "  x = np.divide(x1, x2, out)\n"
     ]
    },
    {
     "name": "stdout",
     "output_type": "stream",
     "text": [
      "/glade/work/jonahshaw/trend_uncertainty/nathan/OBS_LENS/HadCRUT5/20240820//HadCRUT.5.0.2.0.analysis.anomalies.104.5x5degSpatialTrends.190001-202012.nc\n"
     ]
    },
    {
     "name": "stderr",
     "output_type": "stream",
     "text": [
      "/glade/work/jonahshaw/miniconda3/envs/cheydask/lib/python3.7/site-packages/dask/array/numpy_compat.py:41: RuntimeWarning: invalid value encountered in true_divide\n",
      "  x = np.divide(x1, x2, out)\n"
     ]
    },
    {
     "name": "stdout",
     "output_type": "stream",
     "text": [
      "/glade/work/jonahshaw/trend_uncertainty/nathan/OBS_LENS/HadCRUT5/20240820//HadCRUT.5.0.2.0.analysis.anomalies.105.5x5degSpatialTrends.190001-202012.nc\n"
     ]
    },
    {
     "name": "stderr",
     "output_type": "stream",
     "text": [
      "/glade/work/jonahshaw/miniconda3/envs/cheydask/lib/python3.7/site-packages/dask/array/numpy_compat.py:41: RuntimeWarning: invalid value encountered in true_divide\n",
      "  x = np.divide(x1, x2, out)\n"
     ]
    },
    {
     "name": "stdout",
     "output_type": "stream",
     "text": [
      "/glade/work/jonahshaw/trend_uncertainty/nathan/OBS_LENS/HadCRUT5/20240820//HadCRUT.5.0.2.0.analysis.anomalies.106.5x5degSpatialTrends.190001-202012.nc\n"
     ]
    },
    {
     "name": "stderr",
     "output_type": "stream",
     "text": [
      "/glade/work/jonahshaw/miniconda3/envs/cheydask/lib/python3.7/site-packages/dask/array/numpy_compat.py:41: RuntimeWarning: invalid value encountered in true_divide\n",
      "  x = np.divide(x1, x2, out)\n"
     ]
    },
    {
     "name": "stdout",
     "output_type": "stream",
     "text": [
      "/glade/work/jonahshaw/trend_uncertainty/nathan/OBS_LENS/HadCRUT5/20240820//HadCRUT.5.0.2.0.analysis.anomalies.107.5x5degSpatialTrends.190001-202012.nc\n"
     ]
    },
    {
     "name": "stderr",
     "output_type": "stream",
     "text": [
      "/glade/work/jonahshaw/miniconda3/envs/cheydask/lib/python3.7/site-packages/dask/array/numpy_compat.py:41: RuntimeWarning: invalid value encountered in true_divide\n",
      "  x = np.divide(x1, x2, out)\n"
     ]
    },
    {
     "name": "stdout",
     "output_type": "stream",
     "text": [
      "/glade/work/jonahshaw/trend_uncertainty/nathan/OBS_LENS/HadCRUT5/20240820//HadCRUT.5.0.2.0.analysis.anomalies.108.5x5degSpatialTrends.190001-202012.nc\n"
     ]
    },
    {
     "name": "stderr",
     "output_type": "stream",
     "text": [
      "/glade/work/jonahshaw/miniconda3/envs/cheydask/lib/python3.7/site-packages/dask/array/numpy_compat.py:41: RuntimeWarning: invalid value encountered in true_divide\n",
      "  x = np.divide(x1, x2, out)\n"
     ]
    },
    {
     "name": "stdout",
     "output_type": "stream",
     "text": [
      "/glade/work/jonahshaw/trend_uncertainty/nathan/OBS_LENS/HadCRUT5/20240820//HadCRUT.5.0.2.0.analysis.anomalies.109.5x5degSpatialTrends.190001-202012.nc\n"
     ]
    },
    {
     "name": "stderr",
     "output_type": "stream",
     "text": [
      "/glade/work/jonahshaw/miniconda3/envs/cheydask/lib/python3.7/site-packages/dask/array/numpy_compat.py:41: RuntimeWarning: invalid value encountered in true_divide\n",
      "  x = np.divide(x1, x2, out)\n"
     ]
    },
    {
     "name": "stdout",
     "output_type": "stream",
     "text": [
      "/glade/work/jonahshaw/trend_uncertainty/nathan/OBS_LENS/HadCRUT5/20240820//HadCRUT.5.0.2.0.analysis.anomalies.11.5x5degSpatialTrends.190001-202012.nc\n"
     ]
    },
    {
     "name": "stderr",
     "output_type": "stream",
     "text": [
      "/glade/work/jonahshaw/miniconda3/envs/cheydask/lib/python3.7/site-packages/dask/array/numpy_compat.py:41: RuntimeWarning: invalid value encountered in true_divide\n",
      "  x = np.divide(x1, x2, out)\n"
     ]
    },
    {
     "name": "stdout",
     "output_type": "stream",
     "text": [
      "/glade/work/jonahshaw/trend_uncertainty/nathan/OBS_LENS/HadCRUT5/20240820//HadCRUT.5.0.2.0.analysis.anomalies.110.5x5degSpatialTrends.190001-202012.nc\n"
     ]
    },
    {
     "name": "stderr",
     "output_type": "stream",
     "text": [
      "/glade/work/jonahshaw/miniconda3/envs/cheydask/lib/python3.7/site-packages/dask/array/numpy_compat.py:41: RuntimeWarning: invalid value encountered in true_divide\n",
      "  x = np.divide(x1, x2, out)\n"
     ]
    },
    {
     "name": "stdout",
     "output_type": "stream",
     "text": [
      "/glade/work/jonahshaw/trend_uncertainty/nathan/OBS_LENS/HadCRUT5/20240820//HadCRUT.5.0.2.0.analysis.anomalies.111.5x5degSpatialTrends.190001-202012.nc\n"
     ]
    },
    {
     "name": "stderr",
     "output_type": "stream",
     "text": [
      "/glade/work/jonahshaw/miniconda3/envs/cheydask/lib/python3.7/site-packages/dask/array/numpy_compat.py:41: RuntimeWarning: invalid value encountered in true_divide\n",
      "  x = np.divide(x1, x2, out)\n"
     ]
    },
    {
     "name": "stdout",
     "output_type": "stream",
     "text": [
      "/glade/work/jonahshaw/trend_uncertainty/nathan/OBS_LENS/HadCRUT5/20240820//HadCRUT.5.0.2.0.analysis.anomalies.112.5x5degSpatialTrends.190001-202012.nc\n"
     ]
    },
    {
     "name": "stderr",
     "output_type": "stream",
     "text": [
      "/glade/work/jonahshaw/miniconda3/envs/cheydask/lib/python3.7/site-packages/dask/array/numpy_compat.py:41: RuntimeWarning: invalid value encountered in true_divide\n",
      "  x = np.divide(x1, x2, out)\n"
     ]
    },
    {
     "name": "stdout",
     "output_type": "stream",
     "text": [
      "/glade/work/jonahshaw/trend_uncertainty/nathan/OBS_LENS/HadCRUT5/20240820//HadCRUT.5.0.2.0.analysis.anomalies.113.5x5degSpatialTrends.190001-202012.nc\n"
     ]
    },
    {
     "name": "stderr",
     "output_type": "stream",
     "text": [
      "/glade/work/jonahshaw/miniconda3/envs/cheydask/lib/python3.7/site-packages/dask/array/numpy_compat.py:41: RuntimeWarning: invalid value encountered in true_divide\n",
      "  x = np.divide(x1, x2, out)\n"
     ]
    },
    {
     "name": "stdout",
     "output_type": "stream",
     "text": [
      "/glade/work/jonahshaw/trend_uncertainty/nathan/OBS_LENS/HadCRUT5/20240820//HadCRUT.5.0.2.0.analysis.anomalies.114.5x5degSpatialTrends.190001-202012.nc\n"
     ]
    },
    {
     "name": "stderr",
     "output_type": "stream",
     "text": [
      "/glade/work/jonahshaw/miniconda3/envs/cheydask/lib/python3.7/site-packages/dask/array/numpy_compat.py:41: RuntimeWarning: invalid value encountered in true_divide\n",
      "  x = np.divide(x1, x2, out)\n"
     ]
    },
    {
     "name": "stdout",
     "output_type": "stream",
     "text": [
      "/glade/work/jonahshaw/trend_uncertainty/nathan/OBS_LENS/HadCRUT5/20240820//HadCRUT.5.0.2.0.analysis.anomalies.115.5x5degSpatialTrends.190001-202012.nc\n"
     ]
    },
    {
     "name": "stderr",
     "output_type": "stream",
     "text": [
      "/glade/work/jonahshaw/miniconda3/envs/cheydask/lib/python3.7/site-packages/dask/array/numpy_compat.py:41: RuntimeWarning: invalid value encountered in true_divide\n",
      "  x = np.divide(x1, x2, out)\n"
     ]
    },
    {
     "name": "stdout",
     "output_type": "stream",
     "text": [
      "/glade/work/jonahshaw/trend_uncertainty/nathan/OBS_LENS/HadCRUT5/20240820//HadCRUT.5.0.2.0.analysis.anomalies.116.5x5degSpatialTrends.190001-202012.nc\n"
     ]
    },
    {
     "name": "stderr",
     "output_type": "stream",
     "text": [
      "/glade/work/jonahshaw/miniconda3/envs/cheydask/lib/python3.7/site-packages/dask/array/numpy_compat.py:41: RuntimeWarning: invalid value encountered in true_divide\n",
      "  x = np.divide(x1, x2, out)\n"
     ]
    },
    {
     "name": "stdout",
     "output_type": "stream",
     "text": [
      "/glade/work/jonahshaw/trend_uncertainty/nathan/OBS_LENS/HadCRUT5/20240820//HadCRUT.5.0.2.0.analysis.anomalies.117.5x5degSpatialTrends.190001-202012.nc\n"
     ]
    },
    {
     "name": "stderr",
     "output_type": "stream",
     "text": [
      "/glade/work/jonahshaw/miniconda3/envs/cheydask/lib/python3.7/site-packages/dask/array/numpy_compat.py:41: RuntimeWarning: invalid value encountered in true_divide\n",
      "  x = np.divide(x1, x2, out)\n"
     ]
    },
    {
     "name": "stdout",
     "output_type": "stream",
     "text": [
      "/glade/work/jonahshaw/trend_uncertainty/nathan/OBS_LENS/HadCRUT5/20240820//HadCRUT.5.0.2.0.analysis.anomalies.118.5x5degSpatialTrends.190001-202012.nc\n"
     ]
    },
    {
     "name": "stderr",
     "output_type": "stream",
     "text": [
      "/glade/work/jonahshaw/miniconda3/envs/cheydask/lib/python3.7/site-packages/dask/array/numpy_compat.py:41: RuntimeWarning: invalid value encountered in true_divide\n",
      "  x = np.divide(x1, x2, out)\n"
     ]
    },
    {
     "name": "stdout",
     "output_type": "stream",
     "text": [
      "/glade/work/jonahshaw/trend_uncertainty/nathan/OBS_LENS/HadCRUT5/20240820//HadCRUT.5.0.2.0.analysis.anomalies.119.5x5degSpatialTrends.190001-202012.nc\n"
     ]
    },
    {
     "name": "stderr",
     "output_type": "stream",
     "text": [
      "/glade/work/jonahshaw/miniconda3/envs/cheydask/lib/python3.7/site-packages/dask/array/numpy_compat.py:41: RuntimeWarning: invalid value encountered in true_divide\n",
      "  x = np.divide(x1, x2, out)\n"
     ]
    },
    {
     "name": "stdout",
     "output_type": "stream",
     "text": [
      "/glade/work/jonahshaw/trend_uncertainty/nathan/OBS_LENS/HadCRUT5/20240820//HadCRUT.5.0.2.0.analysis.anomalies.12.5x5degSpatialTrends.190001-202012.nc\n"
     ]
    },
    {
     "name": "stderr",
     "output_type": "stream",
     "text": [
      "/glade/work/jonahshaw/miniconda3/envs/cheydask/lib/python3.7/site-packages/dask/array/numpy_compat.py:41: RuntimeWarning: invalid value encountered in true_divide\n",
      "  x = np.divide(x1, x2, out)\n"
     ]
    },
    {
     "name": "stdout",
     "output_type": "stream",
     "text": [
      "/glade/work/jonahshaw/trend_uncertainty/nathan/OBS_LENS/HadCRUT5/20240820//HadCRUT.5.0.2.0.analysis.anomalies.120.5x5degSpatialTrends.190001-202012.nc\n"
     ]
    },
    {
     "name": "stderr",
     "output_type": "stream",
     "text": [
      "/glade/work/jonahshaw/miniconda3/envs/cheydask/lib/python3.7/site-packages/dask/array/numpy_compat.py:41: RuntimeWarning: invalid value encountered in true_divide\n",
      "  x = np.divide(x1, x2, out)\n"
     ]
    },
    {
     "name": "stdout",
     "output_type": "stream",
     "text": [
      "/glade/work/jonahshaw/trend_uncertainty/nathan/OBS_LENS/HadCRUT5/20240820//HadCRUT.5.0.2.0.analysis.anomalies.121.5x5degSpatialTrends.190001-202012.nc\n"
     ]
    },
    {
     "name": "stderr",
     "output_type": "stream",
     "text": [
      "/glade/work/jonahshaw/miniconda3/envs/cheydask/lib/python3.7/site-packages/dask/array/numpy_compat.py:41: RuntimeWarning: invalid value encountered in true_divide\n",
      "  x = np.divide(x1, x2, out)\n"
     ]
    },
    {
     "name": "stdout",
     "output_type": "stream",
     "text": [
      "/glade/work/jonahshaw/trend_uncertainty/nathan/OBS_LENS/HadCRUT5/20240820//HadCRUT.5.0.2.0.analysis.anomalies.122.5x5degSpatialTrends.190001-202012.nc\n"
     ]
    },
    {
     "name": "stderr",
     "output_type": "stream",
     "text": [
      "/glade/work/jonahshaw/miniconda3/envs/cheydask/lib/python3.7/site-packages/dask/array/numpy_compat.py:41: RuntimeWarning: invalid value encountered in true_divide\n",
      "  x = np.divide(x1, x2, out)\n"
     ]
    },
    {
     "name": "stdout",
     "output_type": "stream",
     "text": [
      "/glade/work/jonahshaw/trend_uncertainty/nathan/OBS_LENS/HadCRUT5/20240820//HadCRUT.5.0.2.0.analysis.anomalies.123.5x5degSpatialTrends.190001-202012.nc\n"
     ]
    },
    {
     "name": "stderr",
     "output_type": "stream",
     "text": [
      "/glade/work/jonahshaw/miniconda3/envs/cheydask/lib/python3.7/site-packages/dask/array/numpy_compat.py:41: RuntimeWarning: invalid value encountered in true_divide\n",
      "  x = np.divide(x1, x2, out)\n"
     ]
    },
    {
     "name": "stdout",
     "output_type": "stream",
     "text": [
      "/glade/work/jonahshaw/trend_uncertainty/nathan/OBS_LENS/HadCRUT5/20240820//HadCRUT.5.0.2.0.analysis.anomalies.124.5x5degSpatialTrends.190001-202012.nc\n"
     ]
    },
    {
     "name": "stderr",
     "output_type": "stream",
     "text": [
      "/glade/work/jonahshaw/miniconda3/envs/cheydask/lib/python3.7/site-packages/dask/array/numpy_compat.py:41: RuntimeWarning: invalid value encountered in true_divide\n",
      "  x = np.divide(x1, x2, out)\n"
     ]
    },
    {
     "name": "stdout",
     "output_type": "stream",
     "text": [
      "/glade/work/jonahshaw/trend_uncertainty/nathan/OBS_LENS/HadCRUT5/20240820//HadCRUT.5.0.2.0.analysis.anomalies.125.5x5degSpatialTrends.190001-202012.nc\n"
     ]
    },
    {
     "name": "stderr",
     "output_type": "stream",
     "text": [
      "/glade/work/jonahshaw/miniconda3/envs/cheydask/lib/python3.7/site-packages/dask/array/numpy_compat.py:41: RuntimeWarning: invalid value encountered in true_divide\n",
      "  x = np.divide(x1, x2, out)\n"
     ]
    },
    {
     "name": "stdout",
     "output_type": "stream",
     "text": [
      "/glade/work/jonahshaw/trend_uncertainty/nathan/OBS_LENS/HadCRUT5/20240820//HadCRUT.5.0.2.0.analysis.anomalies.126.5x5degSpatialTrends.190001-202012.nc\n"
     ]
    },
    {
     "name": "stderr",
     "output_type": "stream",
     "text": [
      "/glade/work/jonahshaw/miniconda3/envs/cheydask/lib/python3.7/site-packages/dask/array/numpy_compat.py:41: RuntimeWarning: invalid value encountered in true_divide\n",
      "  x = np.divide(x1, x2, out)\n"
     ]
    },
    {
     "name": "stdout",
     "output_type": "stream",
     "text": [
      "/glade/work/jonahshaw/trend_uncertainty/nathan/OBS_LENS/HadCRUT5/20240820//HadCRUT.5.0.2.0.analysis.anomalies.127.5x5degSpatialTrends.190001-202012.nc\n"
     ]
    },
    {
     "name": "stderr",
     "output_type": "stream",
     "text": [
      "/glade/work/jonahshaw/miniconda3/envs/cheydask/lib/python3.7/site-packages/dask/array/numpy_compat.py:41: RuntimeWarning: invalid value encountered in true_divide\n",
      "  x = np.divide(x1, x2, out)\n"
     ]
    },
    {
     "name": "stdout",
     "output_type": "stream",
     "text": [
      "/glade/work/jonahshaw/trend_uncertainty/nathan/OBS_LENS/HadCRUT5/20240820//HadCRUT.5.0.2.0.analysis.anomalies.128.5x5degSpatialTrends.190001-202012.nc\n"
     ]
    },
    {
     "name": "stderr",
     "output_type": "stream",
     "text": [
      "/glade/work/jonahshaw/miniconda3/envs/cheydask/lib/python3.7/site-packages/dask/array/numpy_compat.py:41: RuntimeWarning: invalid value encountered in true_divide\n",
      "  x = np.divide(x1, x2, out)\n"
     ]
    },
    {
     "name": "stdout",
     "output_type": "stream",
     "text": [
      "/glade/work/jonahshaw/trend_uncertainty/nathan/OBS_LENS/HadCRUT5/20240820//HadCRUT.5.0.2.0.analysis.anomalies.129.5x5degSpatialTrends.190001-202012.nc\n"
     ]
    },
    {
     "name": "stderr",
     "output_type": "stream",
     "text": [
      "/glade/work/jonahshaw/miniconda3/envs/cheydask/lib/python3.7/site-packages/dask/array/numpy_compat.py:41: RuntimeWarning: invalid value encountered in true_divide\n",
      "  x = np.divide(x1, x2, out)\n"
     ]
    },
    {
     "name": "stdout",
     "output_type": "stream",
     "text": [
      "/glade/work/jonahshaw/trend_uncertainty/nathan/OBS_LENS/HadCRUT5/20240820//HadCRUT.5.0.2.0.analysis.anomalies.13.5x5degSpatialTrends.190001-202012.nc\n"
     ]
    },
    {
     "name": "stderr",
     "output_type": "stream",
     "text": [
      "/glade/work/jonahshaw/miniconda3/envs/cheydask/lib/python3.7/site-packages/dask/array/numpy_compat.py:41: RuntimeWarning: invalid value encountered in true_divide\n",
      "  x = np.divide(x1, x2, out)\n"
     ]
    },
    {
     "name": "stdout",
     "output_type": "stream",
     "text": [
      "/glade/work/jonahshaw/trend_uncertainty/nathan/OBS_LENS/HadCRUT5/20240820//HadCRUT.5.0.2.0.analysis.anomalies.130.5x5degSpatialTrends.190001-202012.nc\n"
     ]
    },
    {
     "name": "stderr",
     "output_type": "stream",
     "text": [
      "/glade/work/jonahshaw/miniconda3/envs/cheydask/lib/python3.7/site-packages/dask/array/numpy_compat.py:41: RuntimeWarning: invalid value encountered in true_divide\n",
      "  x = np.divide(x1, x2, out)\n"
     ]
    },
    {
     "name": "stdout",
     "output_type": "stream",
     "text": [
      "/glade/work/jonahshaw/trend_uncertainty/nathan/OBS_LENS/HadCRUT5/20240820//HadCRUT.5.0.2.0.analysis.anomalies.131.5x5degSpatialTrends.190001-202012.nc\n"
     ]
    },
    {
     "name": "stderr",
     "output_type": "stream",
     "text": [
      "/glade/work/jonahshaw/miniconda3/envs/cheydask/lib/python3.7/site-packages/dask/array/numpy_compat.py:41: RuntimeWarning: invalid value encountered in true_divide\n",
      "  x = np.divide(x1, x2, out)\n"
     ]
    },
    {
     "name": "stdout",
     "output_type": "stream",
     "text": [
      "/glade/work/jonahshaw/trend_uncertainty/nathan/OBS_LENS/HadCRUT5/20240820//HadCRUT.5.0.2.0.analysis.anomalies.132.5x5degSpatialTrends.190001-202012.nc\n"
     ]
    },
    {
     "name": "stderr",
     "output_type": "stream",
     "text": [
      "/glade/work/jonahshaw/miniconda3/envs/cheydask/lib/python3.7/site-packages/dask/array/numpy_compat.py:41: RuntimeWarning: invalid value encountered in true_divide\n",
      "  x = np.divide(x1, x2, out)\n"
     ]
    },
    {
     "name": "stdout",
     "output_type": "stream",
     "text": [
      "/glade/work/jonahshaw/trend_uncertainty/nathan/OBS_LENS/HadCRUT5/20240820//HadCRUT.5.0.2.0.analysis.anomalies.133.5x5degSpatialTrends.190001-202012.nc\n"
     ]
    },
    {
     "name": "stderr",
     "output_type": "stream",
     "text": [
      "/glade/work/jonahshaw/miniconda3/envs/cheydask/lib/python3.7/site-packages/dask/array/numpy_compat.py:41: RuntimeWarning: invalid value encountered in true_divide\n",
      "  x = np.divide(x1, x2, out)\n"
     ]
    },
    {
     "name": "stdout",
     "output_type": "stream",
     "text": [
      "/glade/work/jonahshaw/trend_uncertainty/nathan/OBS_LENS/HadCRUT5/20240820//HadCRUT.5.0.2.0.analysis.anomalies.134.5x5degSpatialTrends.190001-202012.nc\n"
     ]
    },
    {
     "name": "stderr",
     "output_type": "stream",
     "text": [
      "/glade/work/jonahshaw/miniconda3/envs/cheydask/lib/python3.7/site-packages/dask/array/numpy_compat.py:41: RuntimeWarning: invalid value encountered in true_divide\n",
      "  x = np.divide(x1, x2, out)\n"
     ]
    },
    {
     "name": "stdout",
     "output_type": "stream",
     "text": [
      "/glade/work/jonahshaw/trend_uncertainty/nathan/OBS_LENS/HadCRUT5/20240820//HadCRUT.5.0.2.0.analysis.anomalies.135.5x5degSpatialTrends.190001-202012.nc\n"
     ]
    },
    {
     "name": "stderr",
     "output_type": "stream",
     "text": [
      "/glade/work/jonahshaw/miniconda3/envs/cheydask/lib/python3.7/site-packages/dask/array/numpy_compat.py:41: RuntimeWarning: invalid value encountered in true_divide\n",
      "  x = np.divide(x1, x2, out)\n"
     ]
    },
    {
     "name": "stdout",
     "output_type": "stream",
     "text": [
      "/glade/work/jonahshaw/trend_uncertainty/nathan/OBS_LENS/HadCRUT5/20240820//HadCRUT.5.0.2.0.analysis.anomalies.136.5x5degSpatialTrends.190001-202012.nc\n"
     ]
    },
    {
     "name": "stderr",
     "output_type": "stream",
     "text": [
      "/glade/work/jonahshaw/miniconda3/envs/cheydask/lib/python3.7/site-packages/dask/array/numpy_compat.py:41: RuntimeWarning: invalid value encountered in true_divide\n",
      "  x = np.divide(x1, x2, out)\n"
     ]
    },
    {
     "name": "stdout",
     "output_type": "stream",
     "text": [
      "/glade/work/jonahshaw/trend_uncertainty/nathan/OBS_LENS/HadCRUT5/20240820//HadCRUT.5.0.2.0.analysis.anomalies.137.5x5degSpatialTrends.190001-202012.nc\n"
     ]
    },
    {
     "name": "stderr",
     "output_type": "stream",
     "text": [
      "/glade/work/jonahshaw/miniconda3/envs/cheydask/lib/python3.7/site-packages/dask/array/numpy_compat.py:41: RuntimeWarning: invalid value encountered in true_divide\n",
      "  x = np.divide(x1, x2, out)\n"
     ]
    },
    {
     "name": "stdout",
     "output_type": "stream",
     "text": [
      "/glade/work/jonahshaw/trend_uncertainty/nathan/OBS_LENS/HadCRUT5/20240820//HadCRUT.5.0.2.0.analysis.anomalies.138.5x5degSpatialTrends.190001-202012.nc\n"
     ]
    },
    {
     "name": "stderr",
     "output_type": "stream",
     "text": [
      "/glade/work/jonahshaw/miniconda3/envs/cheydask/lib/python3.7/site-packages/dask/array/numpy_compat.py:41: RuntimeWarning: invalid value encountered in true_divide\n",
      "  x = np.divide(x1, x2, out)\n"
     ]
    },
    {
     "name": "stdout",
     "output_type": "stream",
     "text": [
      "/glade/work/jonahshaw/trend_uncertainty/nathan/OBS_LENS/HadCRUT5/20240820//HadCRUT.5.0.2.0.analysis.anomalies.139.5x5degSpatialTrends.190001-202012.nc\n"
     ]
    },
    {
     "name": "stderr",
     "output_type": "stream",
     "text": [
      "/glade/work/jonahshaw/miniconda3/envs/cheydask/lib/python3.7/site-packages/dask/array/numpy_compat.py:41: RuntimeWarning: invalid value encountered in true_divide\n",
      "  x = np.divide(x1, x2, out)\n"
     ]
    },
    {
     "name": "stdout",
     "output_type": "stream",
     "text": [
      "/glade/work/jonahshaw/trend_uncertainty/nathan/OBS_LENS/HadCRUT5/20240820//HadCRUT.5.0.2.0.analysis.anomalies.14.5x5degSpatialTrends.190001-202012.nc\n"
     ]
    },
    {
     "name": "stderr",
     "output_type": "stream",
     "text": [
      "/glade/work/jonahshaw/miniconda3/envs/cheydask/lib/python3.7/site-packages/dask/array/numpy_compat.py:41: RuntimeWarning: invalid value encountered in true_divide\n",
      "  x = np.divide(x1, x2, out)\n"
     ]
    },
    {
     "name": "stdout",
     "output_type": "stream",
     "text": [
      "/glade/work/jonahshaw/trend_uncertainty/nathan/OBS_LENS/HadCRUT5/20240820//HadCRUT.5.0.2.0.analysis.anomalies.140.5x5degSpatialTrends.190001-202012.nc\n"
     ]
    },
    {
     "name": "stderr",
     "output_type": "stream",
     "text": [
      "/glade/work/jonahshaw/miniconda3/envs/cheydask/lib/python3.7/site-packages/dask/array/numpy_compat.py:41: RuntimeWarning: invalid value encountered in true_divide\n",
      "  x = np.divide(x1, x2, out)\n"
     ]
    },
    {
     "name": "stdout",
     "output_type": "stream",
     "text": [
      "/glade/work/jonahshaw/trend_uncertainty/nathan/OBS_LENS/HadCRUT5/20240820//HadCRUT.5.0.2.0.analysis.anomalies.141.5x5degSpatialTrends.190001-202012.nc\n"
     ]
    },
    {
     "name": "stderr",
     "output_type": "stream",
     "text": [
      "/glade/work/jonahshaw/miniconda3/envs/cheydask/lib/python3.7/site-packages/dask/array/numpy_compat.py:41: RuntimeWarning: invalid value encountered in true_divide\n",
      "  x = np.divide(x1, x2, out)\n"
     ]
    },
    {
     "name": "stdout",
     "output_type": "stream",
     "text": [
      "/glade/work/jonahshaw/trend_uncertainty/nathan/OBS_LENS/HadCRUT5/20240820//HadCRUT.5.0.2.0.analysis.anomalies.142.5x5degSpatialTrends.190001-202012.nc\n"
     ]
    },
    {
     "name": "stderr",
     "output_type": "stream",
     "text": [
      "/glade/work/jonahshaw/miniconda3/envs/cheydask/lib/python3.7/site-packages/dask/array/numpy_compat.py:41: RuntimeWarning: invalid value encountered in true_divide\n",
      "  x = np.divide(x1, x2, out)\n"
     ]
    },
    {
     "name": "stdout",
     "output_type": "stream",
     "text": [
      "/glade/work/jonahshaw/trend_uncertainty/nathan/OBS_LENS/HadCRUT5/20240820//HadCRUT.5.0.2.0.analysis.anomalies.143.5x5degSpatialTrends.190001-202012.nc\n"
     ]
    },
    {
     "name": "stderr",
     "output_type": "stream",
     "text": [
      "/glade/work/jonahshaw/miniconda3/envs/cheydask/lib/python3.7/site-packages/dask/array/numpy_compat.py:41: RuntimeWarning: invalid value encountered in true_divide\n",
      "  x = np.divide(x1, x2, out)\n"
     ]
    },
    {
     "name": "stdout",
     "output_type": "stream",
     "text": [
      "/glade/work/jonahshaw/trend_uncertainty/nathan/OBS_LENS/HadCRUT5/20240820//HadCRUT.5.0.2.0.analysis.anomalies.144.5x5degSpatialTrends.190001-202012.nc\n"
     ]
    },
    {
     "name": "stderr",
     "output_type": "stream",
     "text": [
      "/glade/work/jonahshaw/miniconda3/envs/cheydask/lib/python3.7/site-packages/dask/array/numpy_compat.py:41: RuntimeWarning: invalid value encountered in true_divide\n",
      "  x = np.divide(x1, x2, out)\n"
     ]
    },
    {
     "name": "stdout",
     "output_type": "stream",
     "text": [
      "/glade/work/jonahshaw/trend_uncertainty/nathan/OBS_LENS/HadCRUT5/20240820//HadCRUT.5.0.2.0.analysis.anomalies.145.5x5degSpatialTrends.190001-202012.nc\n"
     ]
    },
    {
     "name": "stderr",
     "output_type": "stream",
     "text": [
      "/glade/work/jonahshaw/miniconda3/envs/cheydask/lib/python3.7/site-packages/dask/array/numpy_compat.py:41: RuntimeWarning: invalid value encountered in true_divide\n",
      "  x = np.divide(x1, x2, out)\n"
     ]
    },
    {
     "name": "stdout",
     "output_type": "stream",
     "text": [
      "/glade/work/jonahshaw/trend_uncertainty/nathan/OBS_LENS/HadCRUT5/20240820//HadCRUT.5.0.2.0.analysis.anomalies.146.5x5degSpatialTrends.190001-202012.nc\n"
     ]
    },
    {
     "name": "stderr",
     "output_type": "stream",
     "text": [
      "/glade/work/jonahshaw/miniconda3/envs/cheydask/lib/python3.7/site-packages/dask/array/numpy_compat.py:41: RuntimeWarning: invalid value encountered in true_divide\n",
      "  x = np.divide(x1, x2, out)\n"
     ]
    },
    {
     "name": "stdout",
     "output_type": "stream",
     "text": [
      "/glade/work/jonahshaw/trend_uncertainty/nathan/OBS_LENS/HadCRUT5/20240820//HadCRUT.5.0.2.0.analysis.anomalies.147.5x5degSpatialTrends.190001-202012.nc\n"
     ]
    },
    {
     "name": "stderr",
     "output_type": "stream",
     "text": [
      "/glade/work/jonahshaw/miniconda3/envs/cheydask/lib/python3.7/site-packages/dask/array/numpy_compat.py:41: RuntimeWarning: invalid value encountered in true_divide\n",
      "  x = np.divide(x1, x2, out)\n"
     ]
    },
    {
     "name": "stdout",
     "output_type": "stream",
     "text": [
      "/glade/work/jonahshaw/trend_uncertainty/nathan/OBS_LENS/HadCRUT5/20240820//HadCRUT.5.0.2.0.analysis.anomalies.148.5x5degSpatialTrends.190001-202012.nc\n"
     ]
    },
    {
     "name": "stderr",
     "output_type": "stream",
     "text": [
      "/glade/work/jonahshaw/miniconda3/envs/cheydask/lib/python3.7/site-packages/dask/array/numpy_compat.py:41: RuntimeWarning: invalid value encountered in true_divide\n",
      "  x = np.divide(x1, x2, out)\n"
     ]
    },
    {
     "name": "stdout",
     "output_type": "stream",
     "text": [
      "/glade/work/jonahshaw/trend_uncertainty/nathan/OBS_LENS/HadCRUT5/20240820//HadCRUT.5.0.2.0.analysis.anomalies.149.5x5degSpatialTrends.190001-202012.nc\n"
     ]
    },
    {
     "name": "stderr",
     "output_type": "stream",
     "text": [
      "/glade/work/jonahshaw/miniconda3/envs/cheydask/lib/python3.7/site-packages/dask/array/numpy_compat.py:41: RuntimeWarning: invalid value encountered in true_divide\n",
      "  x = np.divide(x1, x2, out)\n"
     ]
    },
    {
     "name": "stdout",
     "output_type": "stream",
     "text": [
      "/glade/work/jonahshaw/trend_uncertainty/nathan/OBS_LENS/HadCRUT5/20240820//HadCRUT.5.0.2.0.analysis.anomalies.15.5x5degSpatialTrends.190001-202012.nc\n"
     ]
    },
    {
     "name": "stderr",
     "output_type": "stream",
     "text": [
      "/glade/work/jonahshaw/miniconda3/envs/cheydask/lib/python3.7/site-packages/dask/array/numpy_compat.py:41: RuntimeWarning: invalid value encountered in true_divide\n",
      "  x = np.divide(x1, x2, out)\n"
     ]
    },
    {
     "name": "stdout",
     "output_type": "stream",
     "text": [
      "/glade/work/jonahshaw/trend_uncertainty/nathan/OBS_LENS/HadCRUT5/20240820//HadCRUT.5.0.2.0.analysis.anomalies.150.5x5degSpatialTrends.190001-202012.nc\n"
     ]
    },
    {
     "name": "stderr",
     "output_type": "stream",
     "text": [
      "/glade/work/jonahshaw/miniconda3/envs/cheydask/lib/python3.7/site-packages/dask/array/numpy_compat.py:41: RuntimeWarning: invalid value encountered in true_divide\n",
      "  x = np.divide(x1, x2, out)\n"
     ]
    },
    {
     "name": "stdout",
     "output_type": "stream",
     "text": [
      "/glade/work/jonahshaw/trend_uncertainty/nathan/OBS_LENS/HadCRUT5/20240820//HadCRUT.5.0.2.0.analysis.anomalies.151.5x5degSpatialTrends.190001-202012.nc\n"
     ]
    },
    {
     "name": "stderr",
     "output_type": "stream",
     "text": [
      "/glade/work/jonahshaw/miniconda3/envs/cheydask/lib/python3.7/site-packages/dask/array/numpy_compat.py:41: RuntimeWarning: invalid value encountered in true_divide\n",
      "  x = np.divide(x1, x2, out)\n"
     ]
    },
    {
     "name": "stdout",
     "output_type": "stream",
     "text": [
      "/glade/work/jonahshaw/trend_uncertainty/nathan/OBS_LENS/HadCRUT5/20240820//HadCRUT.5.0.2.0.analysis.anomalies.152.5x5degSpatialTrends.190001-202012.nc\n"
     ]
    },
    {
     "name": "stderr",
     "output_type": "stream",
     "text": [
      "/glade/work/jonahshaw/miniconda3/envs/cheydask/lib/python3.7/site-packages/dask/array/numpy_compat.py:41: RuntimeWarning: invalid value encountered in true_divide\n",
      "  x = np.divide(x1, x2, out)\n"
     ]
    },
    {
     "name": "stdout",
     "output_type": "stream",
     "text": [
      "/glade/work/jonahshaw/trend_uncertainty/nathan/OBS_LENS/HadCRUT5/20240820//HadCRUT.5.0.2.0.analysis.anomalies.153.5x5degSpatialTrends.190001-202012.nc\n"
     ]
    },
    {
     "name": "stderr",
     "output_type": "stream",
     "text": [
      "/glade/work/jonahshaw/miniconda3/envs/cheydask/lib/python3.7/site-packages/dask/array/numpy_compat.py:41: RuntimeWarning: invalid value encountered in true_divide\n",
      "  x = np.divide(x1, x2, out)\n"
     ]
    },
    {
     "name": "stdout",
     "output_type": "stream",
     "text": [
      "/glade/work/jonahshaw/trend_uncertainty/nathan/OBS_LENS/HadCRUT5/20240820//HadCRUT.5.0.2.0.analysis.anomalies.154.5x5degSpatialTrends.190001-202012.nc\n"
     ]
    },
    {
     "name": "stderr",
     "output_type": "stream",
     "text": [
      "/glade/work/jonahshaw/miniconda3/envs/cheydask/lib/python3.7/site-packages/dask/array/numpy_compat.py:41: RuntimeWarning: invalid value encountered in true_divide\n",
      "  x = np.divide(x1, x2, out)\n"
     ]
    },
    {
     "name": "stdout",
     "output_type": "stream",
     "text": [
      "/glade/work/jonahshaw/trend_uncertainty/nathan/OBS_LENS/HadCRUT5/20240820//HadCRUT.5.0.2.0.analysis.anomalies.155.5x5degSpatialTrends.190001-202012.nc\n"
     ]
    },
    {
     "name": "stderr",
     "output_type": "stream",
     "text": [
      "/glade/work/jonahshaw/miniconda3/envs/cheydask/lib/python3.7/site-packages/dask/array/numpy_compat.py:41: RuntimeWarning: invalid value encountered in true_divide\n",
      "  x = np.divide(x1, x2, out)\n"
     ]
    },
    {
     "name": "stdout",
     "output_type": "stream",
     "text": [
      "/glade/work/jonahshaw/trend_uncertainty/nathan/OBS_LENS/HadCRUT5/20240820//HadCRUT.5.0.2.0.analysis.anomalies.156.5x5degSpatialTrends.190001-202012.nc\n"
     ]
    },
    {
     "name": "stderr",
     "output_type": "stream",
     "text": [
      "/glade/work/jonahshaw/miniconda3/envs/cheydask/lib/python3.7/site-packages/dask/array/numpy_compat.py:41: RuntimeWarning: invalid value encountered in true_divide\n",
      "  x = np.divide(x1, x2, out)\n"
     ]
    },
    {
     "name": "stdout",
     "output_type": "stream",
     "text": [
      "/glade/work/jonahshaw/trend_uncertainty/nathan/OBS_LENS/HadCRUT5/20240820//HadCRUT.5.0.2.0.analysis.anomalies.157.5x5degSpatialTrends.190001-202012.nc\n"
     ]
    },
    {
     "name": "stderr",
     "output_type": "stream",
     "text": [
      "/glade/work/jonahshaw/miniconda3/envs/cheydask/lib/python3.7/site-packages/dask/array/numpy_compat.py:41: RuntimeWarning: invalid value encountered in true_divide\n",
      "  x = np.divide(x1, x2, out)\n"
     ]
    },
    {
     "name": "stdout",
     "output_type": "stream",
     "text": [
      "/glade/work/jonahshaw/trend_uncertainty/nathan/OBS_LENS/HadCRUT5/20240820//HadCRUT.5.0.2.0.analysis.anomalies.158.5x5degSpatialTrends.190001-202012.nc\n"
     ]
    },
    {
     "name": "stderr",
     "output_type": "stream",
     "text": [
      "/glade/work/jonahshaw/miniconda3/envs/cheydask/lib/python3.7/site-packages/dask/array/numpy_compat.py:41: RuntimeWarning: invalid value encountered in true_divide\n",
      "  x = np.divide(x1, x2, out)\n"
     ]
    },
    {
     "name": "stdout",
     "output_type": "stream",
     "text": [
      "/glade/work/jonahshaw/trend_uncertainty/nathan/OBS_LENS/HadCRUT5/20240820//HadCRUT.5.0.2.0.analysis.anomalies.159.5x5degSpatialTrends.190001-202012.nc\n"
     ]
    },
    {
     "name": "stderr",
     "output_type": "stream",
     "text": [
      "/glade/work/jonahshaw/miniconda3/envs/cheydask/lib/python3.7/site-packages/dask/array/numpy_compat.py:41: RuntimeWarning: invalid value encountered in true_divide\n",
      "  x = np.divide(x1, x2, out)\n"
     ]
    },
    {
     "name": "stdout",
     "output_type": "stream",
     "text": [
      "/glade/work/jonahshaw/trend_uncertainty/nathan/OBS_LENS/HadCRUT5/20240820//HadCRUT.5.0.2.0.analysis.anomalies.16.5x5degSpatialTrends.190001-202012.nc\n"
     ]
    },
    {
     "name": "stderr",
     "output_type": "stream",
     "text": [
      "/glade/work/jonahshaw/miniconda3/envs/cheydask/lib/python3.7/site-packages/dask/array/numpy_compat.py:41: RuntimeWarning: invalid value encountered in true_divide\n",
      "  x = np.divide(x1, x2, out)\n"
     ]
    },
    {
     "name": "stdout",
     "output_type": "stream",
     "text": [
      "/glade/work/jonahshaw/trend_uncertainty/nathan/OBS_LENS/HadCRUT5/20240820//HadCRUT.5.0.2.0.analysis.anomalies.160.5x5degSpatialTrends.190001-202012.nc\n"
     ]
    },
    {
     "name": "stderr",
     "output_type": "stream",
     "text": [
      "/glade/work/jonahshaw/miniconda3/envs/cheydask/lib/python3.7/site-packages/dask/array/numpy_compat.py:41: RuntimeWarning: invalid value encountered in true_divide\n",
      "  x = np.divide(x1, x2, out)\n"
     ]
    },
    {
     "name": "stdout",
     "output_type": "stream",
     "text": [
      "/glade/work/jonahshaw/trend_uncertainty/nathan/OBS_LENS/HadCRUT5/20240820//HadCRUT.5.0.2.0.analysis.anomalies.161.5x5degSpatialTrends.190001-202012.nc\n"
     ]
    },
    {
     "name": "stderr",
     "output_type": "stream",
     "text": [
      "/glade/work/jonahshaw/miniconda3/envs/cheydask/lib/python3.7/site-packages/dask/array/numpy_compat.py:41: RuntimeWarning: invalid value encountered in true_divide\n",
      "  x = np.divide(x1, x2, out)\n"
     ]
    },
    {
     "name": "stdout",
     "output_type": "stream",
     "text": [
      "/glade/work/jonahshaw/trend_uncertainty/nathan/OBS_LENS/HadCRUT5/20240820//HadCRUT.5.0.2.0.analysis.anomalies.162.5x5degSpatialTrends.190001-202012.nc\n"
     ]
    },
    {
     "name": "stderr",
     "output_type": "stream",
     "text": [
      "/glade/work/jonahshaw/miniconda3/envs/cheydask/lib/python3.7/site-packages/dask/array/numpy_compat.py:41: RuntimeWarning: invalid value encountered in true_divide\n",
      "  x = np.divide(x1, x2, out)\n"
     ]
    },
    {
     "name": "stdout",
     "output_type": "stream",
     "text": [
      "/glade/work/jonahshaw/trend_uncertainty/nathan/OBS_LENS/HadCRUT5/20240820//HadCRUT.5.0.2.0.analysis.anomalies.163.5x5degSpatialTrends.190001-202012.nc\n"
     ]
    },
    {
     "name": "stderr",
     "output_type": "stream",
     "text": [
      "/glade/work/jonahshaw/miniconda3/envs/cheydask/lib/python3.7/site-packages/dask/array/numpy_compat.py:41: RuntimeWarning: invalid value encountered in true_divide\n",
      "  x = np.divide(x1, x2, out)\n"
     ]
    },
    {
     "name": "stdout",
     "output_type": "stream",
     "text": [
      "/glade/work/jonahshaw/trend_uncertainty/nathan/OBS_LENS/HadCRUT5/20240820//HadCRUT.5.0.2.0.analysis.anomalies.164.5x5degSpatialTrends.190001-202012.nc\n"
     ]
    },
    {
     "name": "stderr",
     "output_type": "stream",
     "text": [
      "/glade/work/jonahshaw/miniconda3/envs/cheydask/lib/python3.7/site-packages/dask/array/numpy_compat.py:41: RuntimeWarning: invalid value encountered in true_divide\n",
      "  x = np.divide(x1, x2, out)\n"
     ]
    },
    {
     "name": "stdout",
     "output_type": "stream",
     "text": [
      "/glade/work/jonahshaw/trend_uncertainty/nathan/OBS_LENS/HadCRUT5/20240820//HadCRUT.5.0.2.0.analysis.anomalies.165.5x5degSpatialTrends.190001-202012.nc\n"
     ]
    },
    {
     "name": "stderr",
     "output_type": "stream",
     "text": [
      "/glade/work/jonahshaw/miniconda3/envs/cheydask/lib/python3.7/site-packages/dask/array/numpy_compat.py:41: RuntimeWarning: invalid value encountered in true_divide\n",
      "  x = np.divide(x1, x2, out)\n"
     ]
    },
    {
     "name": "stdout",
     "output_type": "stream",
     "text": [
      "/glade/work/jonahshaw/trend_uncertainty/nathan/OBS_LENS/HadCRUT5/20240820//HadCRUT.5.0.2.0.analysis.anomalies.166.5x5degSpatialTrends.190001-202012.nc\n"
     ]
    },
    {
     "name": "stderr",
     "output_type": "stream",
     "text": [
      "/glade/work/jonahshaw/miniconda3/envs/cheydask/lib/python3.7/site-packages/dask/array/numpy_compat.py:41: RuntimeWarning: invalid value encountered in true_divide\n",
      "  x = np.divide(x1, x2, out)\n"
     ]
    },
    {
     "name": "stdout",
     "output_type": "stream",
     "text": [
      "/glade/work/jonahshaw/trend_uncertainty/nathan/OBS_LENS/HadCRUT5/20240820//HadCRUT.5.0.2.0.analysis.anomalies.167.5x5degSpatialTrends.190001-202012.nc\n"
     ]
    },
    {
     "name": "stderr",
     "output_type": "stream",
     "text": [
      "/glade/work/jonahshaw/miniconda3/envs/cheydask/lib/python3.7/site-packages/dask/array/numpy_compat.py:41: RuntimeWarning: invalid value encountered in true_divide\n",
      "  x = np.divide(x1, x2, out)\n"
     ]
    },
    {
     "name": "stdout",
     "output_type": "stream",
     "text": [
      "/glade/work/jonahshaw/trend_uncertainty/nathan/OBS_LENS/HadCRUT5/20240820//HadCRUT.5.0.2.0.analysis.anomalies.168.5x5degSpatialTrends.190001-202012.nc\n"
     ]
    },
    {
     "name": "stderr",
     "output_type": "stream",
     "text": [
      "/glade/work/jonahshaw/miniconda3/envs/cheydask/lib/python3.7/site-packages/dask/array/numpy_compat.py:41: RuntimeWarning: invalid value encountered in true_divide\n",
      "  x = np.divide(x1, x2, out)\n"
     ]
    },
    {
     "name": "stdout",
     "output_type": "stream",
     "text": [
      "/glade/work/jonahshaw/trend_uncertainty/nathan/OBS_LENS/HadCRUT5/20240820//HadCRUT.5.0.2.0.analysis.anomalies.169.5x5degSpatialTrends.190001-202012.nc\n"
     ]
    },
    {
     "name": "stderr",
     "output_type": "stream",
     "text": [
      "/glade/work/jonahshaw/miniconda3/envs/cheydask/lib/python3.7/site-packages/dask/array/numpy_compat.py:41: RuntimeWarning: invalid value encountered in true_divide\n",
      "  x = np.divide(x1, x2, out)\n"
     ]
    },
    {
     "name": "stdout",
     "output_type": "stream",
     "text": [
      "/glade/work/jonahshaw/trend_uncertainty/nathan/OBS_LENS/HadCRUT5/20240820//HadCRUT.5.0.2.0.analysis.anomalies.17.5x5degSpatialTrends.190001-202012.nc\n"
     ]
    },
    {
     "name": "stderr",
     "output_type": "stream",
     "text": [
      "/glade/work/jonahshaw/miniconda3/envs/cheydask/lib/python3.7/site-packages/dask/array/numpy_compat.py:41: RuntimeWarning: invalid value encountered in true_divide\n",
      "  x = np.divide(x1, x2, out)\n"
     ]
    },
    {
     "name": "stdout",
     "output_type": "stream",
     "text": [
      "/glade/work/jonahshaw/trend_uncertainty/nathan/OBS_LENS/HadCRUT5/20240820//HadCRUT.5.0.2.0.analysis.anomalies.170.5x5degSpatialTrends.190001-202012.nc\n"
     ]
    },
    {
     "name": "stderr",
     "output_type": "stream",
     "text": [
      "/glade/work/jonahshaw/miniconda3/envs/cheydask/lib/python3.7/site-packages/dask/array/numpy_compat.py:41: RuntimeWarning: invalid value encountered in true_divide\n",
      "  x = np.divide(x1, x2, out)\n"
     ]
    },
    {
     "name": "stdout",
     "output_type": "stream",
     "text": [
      "/glade/work/jonahshaw/trend_uncertainty/nathan/OBS_LENS/HadCRUT5/20240820//HadCRUT.5.0.2.0.analysis.anomalies.171.5x5degSpatialTrends.190001-202012.nc\n"
     ]
    },
    {
     "name": "stderr",
     "output_type": "stream",
     "text": [
      "/glade/work/jonahshaw/miniconda3/envs/cheydask/lib/python3.7/site-packages/dask/array/numpy_compat.py:41: RuntimeWarning: invalid value encountered in true_divide\n",
      "  x = np.divide(x1, x2, out)\n"
     ]
    },
    {
     "name": "stdout",
     "output_type": "stream",
     "text": [
      "/glade/work/jonahshaw/trend_uncertainty/nathan/OBS_LENS/HadCRUT5/20240820//HadCRUT.5.0.2.0.analysis.anomalies.172.5x5degSpatialTrends.190001-202012.nc\n"
     ]
    },
    {
     "name": "stderr",
     "output_type": "stream",
     "text": [
      "/glade/work/jonahshaw/miniconda3/envs/cheydask/lib/python3.7/site-packages/dask/array/numpy_compat.py:41: RuntimeWarning: invalid value encountered in true_divide\n",
      "  x = np.divide(x1, x2, out)\n"
     ]
    },
    {
     "name": "stdout",
     "output_type": "stream",
     "text": [
      "/glade/work/jonahshaw/trend_uncertainty/nathan/OBS_LENS/HadCRUT5/20240820//HadCRUT.5.0.2.0.analysis.anomalies.173.5x5degSpatialTrends.190001-202012.nc\n"
     ]
    },
    {
     "name": "stderr",
     "output_type": "stream",
     "text": [
      "/glade/work/jonahshaw/miniconda3/envs/cheydask/lib/python3.7/site-packages/dask/array/numpy_compat.py:41: RuntimeWarning: invalid value encountered in true_divide\n",
      "  x = np.divide(x1, x2, out)\n"
     ]
    },
    {
     "name": "stdout",
     "output_type": "stream",
     "text": [
      "/glade/work/jonahshaw/trend_uncertainty/nathan/OBS_LENS/HadCRUT5/20240820//HadCRUT.5.0.2.0.analysis.anomalies.174.5x5degSpatialTrends.190001-202012.nc\n"
     ]
    },
    {
     "name": "stderr",
     "output_type": "stream",
     "text": [
      "/glade/work/jonahshaw/miniconda3/envs/cheydask/lib/python3.7/site-packages/dask/array/numpy_compat.py:41: RuntimeWarning: invalid value encountered in true_divide\n",
      "  x = np.divide(x1, x2, out)\n"
     ]
    },
    {
     "name": "stdout",
     "output_type": "stream",
     "text": [
      "/glade/work/jonahshaw/trend_uncertainty/nathan/OBS_LENS/HadCRUT5/20240820//HadCRUT.5.0.2.0.analysis.anomalies.175.5x5degSpatialTrends.190001-202012.nc\n"
     ]
    },
    {
     "name": "stderr",
     "output_type": "stream",
     "text": [
      "/glade/work/jonahshaw/miniconda3/envs/cheydask/lib/python3.7/site-packages/dask/array/numpy_compat.py:41: RuntimeWarning: invalid value encountered in true_divide\n",
      "  x = np.divide(x1, x2, out)\n"
     ]
    },
    {
     "name": "stdout",
     "output_type": "stream",
     "text": [
      "/glade/work/jonahshaw/trend_uncertainty/nathan/OBS_LENS/HadCRUT5/20240820//HadCRUT.5.0.2.0.analysis.anomalies.176.5x5degSpatialTrends.190001-202012.nc\n"
     ]
    },
    {
     "name": "stderr",
     "output_type": "stream",
     "text": [
      "/glade/work/jonahshaw/miniconda3/envs/cheydask/lib/python3.7/site-packages/dask/array/numpy_compat.py:41: RuntimeWarning: invalid value encountered in true_divide\n",
      "  x = np.divide(x1, x2, out)\n"
     ]
    },
    {
     "name": "stdout",
     "output_type": "stream",
     "text": [
      "/glade/work/jonahshaw/trend_uncertainty/nathan/OBS_LENS/HadCRUT5/20240820//HadCRUT.5.0.2.0.analysis.anomalies.177.5x5degSpatialTrends.190001-202012.nc\n"
     ]
    },
    {
     "name": "stderr",
     "output_type": "stream",
     "text": [
      "/glade/work/jonahshaw/miniconda3/envs/cheydask/lib/python3.7/site-packages/dask/array/numpy_compat.py:41: RuntimeWarning: invalid value encountered in true_divide\n",
      "  x = np.divide(x1, x2, out)\n"
     ]
    },
    {
     "name": "stdout",
     "output_type": "stream",
     "text": [
      "/glade/work/jonahshaw/trend_uncertainty/nathan/OBS_LENS/HadCRUT5/20240820//HadCRUT.5.0.2.0.analysis.anomalies.178.5x5degSpatialTrends.190001-202012.nc\n"
     ]
    },
    {
     "name": "stderr",
     "output_type": "stream",
     "text": [
      "/glade/work/jonahshaw/miniconda3/envs/cheydask/lib/python3.7/site-packages/dask/array/numpy_compat.py:41: RuntimeWarning: invalid value encountered in true_divide\n",
      "  x = np.divide(x1, x2, out)\n"
     ]
    },
    {
     "name": "stdout",
     "output_type": "stream",
     "text": [
      "/glade/work/jonahshaw/trend_uncertainty/nathan/OBS_LENS/HadCRUT5/20240820//HadCRUT.5.0.2.0.analysis.anomalies.179.5x5degSpatialTrends.190001-202012.nc\n"
     ]
    },
    {
     "name": "stderr",
     "output_type": "stream",
     "text": [
      "/glade/work/jonahshaw/miniconda3/envs/cheydask/lib/python3.7/site-packages/dask/array/numpy_compat.py:41: RuntimeWarning: invalid value encountered in true_divide\n",
      "  x = np.divide(x1, x2, out)\n"
     ]
    },
    {
     "name": "stdout",
     "output_type": "stream",
     "text": [
      "/glade/work/jonahshaw/trend_uncertainty/nathan/OBS_LENS/HadCRUT5/20240820//HadCRUT.5.0.2.0.analysis.anomalies.18.5x5degSpatialTrends.190001-202012.nc\n"
     ]
    },
    {
     "name": "stderr",
     "output_type": "stream",
     "text": [
      "/glade/work/jonahshaw/miniconda3/envs/cheydask/lib/python3.7/site-packages/dask/array/numpy_compat.py:41: RuntimeWarning: invalid value encountered in true_divide\n",
      "  x = np.divide(x1, x2, out)\n"
     ]
    },
    {
     "name": "stdout",
     "output_type": "stream",
     "text": [
      "/glade/work/jonahshaw/trend_uncertainty/nathan/OBS_LENS/HadCRUT5/20240820//HadCRUT.5.0.2.0.analysis.anomalies.180.5x5degSpatialTrends.190001-202012.nc\n"
     ]
    },
    {
     "name": "stderr",
     "output_type": "stream",
     "text": [
      "/glade/work/jonahshaw/miniconda3/envs/cheydask/lib/python3.7/site-packages/dask/array/numpy_compat.py:41: RuntimeWarning: invalid value encountered in true_divide\n",
      "  x = np.divide(x1, x2, out)\n"
     ]
    },
    {
     "name": "stdout",
     "output_type": "stream",
     "text": [
      "/glade/work/jonahshaw/trend_uncertainty/nathan/OBS_LENS/HadCRUT5/20240820//HadCRUT.5.0.2.0.analysis.anomalies.181.5x5degSpatialTrends.190001-202012.nc\n"
     ]
    },
    {
     "name": "stderr",
     "output_type": "stream",
     "text": [
      "/glade/work/jonahshaw/miniconda3/envs/cheydask/lib/python3.7/site-packages/dask/array/numpy_compat.py:41: RuntimeWarning: invalid value encountered in true_divide\n",
      "  x = np.divide(x1, x2, out)\n"
     ]
    },
    {
     "name": "stdout",
     "output_type": "stream",
     "text": [
      "/glade/work/jonahshaw/trend_uncertainty/nathan/OBS_LENS/HadCRUT5/20240820//HadCRUT.5.0.2.0.analysis.anomalies.182.5x5degSpatialTrends.190001-202012.nc\n"
     ]
    },
    {
     "name": "stderr",
     "output_type": "stream",
     "text": [
      "/glade/work/jonahshaw/miniconda3/envs/cheydask/lib/python3.7/site-packages/dask/array/numpy_compat.py:41: RuntimeWarning: invalid value encountered in true_divide\n",
      "  x = np.divide(x1, x2, out)\n"
     ]
    },
    {
     "name": "stdout",
     "output_type": "stream",
     "text": [
      "/glade/work/jonahshaw/trend_uncertainty/nathan/OBS_LENS/HadCRUT5/20240820//HadCRUT.5.0.2.0.analysis.anomalies.183.5x5degSpatialTrends.190001-202012.nc\n"
     ]
    },
    {
     "name": "stderr",
     "output_type": "stream",
     "text": [
      "/glade/work/jonahshaw/miniconda3/envs/cheydask/lib/python3.7/site-packages/dask/array/numpy_compat.py:41: RuntimeWarning: invalid value encountered in true_divide\n",
      "  x = np.divide(x1, x2, out)\n"
     ]
    },
    {
     "name": "stdout",
     "output_type": "stream",
     "text": [
      "/glade/work/jonahshaw/trend_uncertainty/nathan/OBS_LENS/HadCRUT5/20240820//HadCRUT.5.0.2.0.analysis.anomalies.184.5x5degSpatialTrends.190001-202012.nc\n"
     ]
    },
    {
     "name": "stderr",
     "output_type": "stream",
     "text": [
      "/glade/work/jonahshaw/miniconda3/envs/cheydask/lib/python3.7/site-packages/dask/array/numpy_compat.py:41: RuntimeWarning: invalid value encountered in true_divide\n",
      "  x = np.divide(x1, x2, out)\n"
     ]
    },
    {
     "name": "stdout",
     "output_type": "stream",
     "text": [
      "/glade/work/jonahshaw/trend_uncertainty/nathan/OBS_LENS/HadCRUT5/20240820//HadCRUT.5.0.2.0.analysis.anomalies.185.5x5degSpatialTrends.190001-202012.nc\n"
     ]
    },
    {
     "name": "stderr",
     "output_type": "stream",
     "text": [
      "/glade/work/jonahshaw/miniconda3/envs/cheydask/lib/python3.7/site-packages/dask/array/numpy_compat.py:41: RuntimeWarning: invalid value encountered in true_divide\n",
      "  x = np.divide(x1, x2, out)\n"
     ]
    },
    {
     "name": "stdout",
     "output_type": "stream",
     "text": [
      "/glade/work/jonahshaw/trend_uncertainty/nathan/OBS_LENS/HadCRUT5/20240820//HadCRUT.5.0.2.0.analysis.anomalies.186.5x5degSpatialTrends.190001-202012.nc\n"
     ]
    },
    {
     "name": "stderr",
     "output_type": "stream",
     "text": [
      "/glade/work/jonahshaw/miniconda3/envs/cheydask/lib/python3.7/site-packages/dask/array/numpy_compat.py:41: RuntimeWarning: invalid value encountered in true_divide\n",
      "  x = np.divide(x1, x2, out)\n"
     ]
    },
    {
     "name": "stdout",
     "output_type": "stream",
     "text": [
      "/glade/work/jonahshaw/trend_uncertainty/nathan/OBS_LENS/HadCRUT5/20240820//HadCRUT.5.0.2.0.analysis.anomalies.187.5x5degSpatialTrends.190001-202012.nc\n"
     ]
    },
    {
     "name": "stderr",
     "output_type": "stream",
     "text": [
      "/glade/work/jonahshaw/miniconda3/envs/cheydask/lib/python3.7/site-packages/dask/array/numpy_compat.py:41: RuntimeWarning: invalid value encountered in true_divide\n",
      "  x = np.divide(x1, x2, out)\n"
     ]
    },
    {
     "name": "stdout",
     "output_type": "stream",
     "text": [
      "/glade/work/jonahshaw/trend_uncertainty/nathan/OBS_LENS/HadCRUT5/20240820//HadCRUT.5.0.2.0.analysis.anomalies.188.5x5degSpatialTrends.190001-202012.nc\n"
     ]
    },
    {
     "name": "stderr",
     "output_type": "stream",
     "text": [
      "/glade/work/jonahshaw/miniconda3/envs/cheydask/lib/python3.7/site-packages/dask/array/numpy_compat.py:41: RuntimeWarning: invalid value encountered in true_divide\n",
      "  x = np.divide(x1, x2, out)\n"
     ]
    },
    {
     "name": "stdout",
     "output_type": "stream",
     "text": [
      "/glade/work/jonahshaw/trend_uncertainty/nathan/OBS_LENS/HadCRUT5/20240820//HadCRUT.5.0.2.0.analysis.anomalies.189.5x5degSpatialTrends.190001-202012.nc\n"
     ]
    },
    {
     "name": "stderr",
     "output_type": "stream",
     "text": [
      "/glade/work/jonahshaw/miniconda3/envs/cheydask/lib/python3.7/site-packages/dask/array/numpy_compat.py:41: RuntimeWarning: invalid value encountered in true_divide\n",
      "  x = np.divide(x1, x2, out)\n"
     ]
    },
    {
     "name": "stdout",
     "output_type": "stream",
     "text": [
      "/glade/work/jonahshaw/trend_uncertainty/nathan/OBS_LENS/HadCRUT5/20240820//HadCRUT.5.0.2.0.analysis.anomalies.19.5x5degSpatialTrends.190001-202012.nc\n"
     ]
    },
    {
     "name": "stderr",
     "output_type": "stream",
     "text": [
      "/glade/work/jonahshaw/miniconda3/envs/cheydask/lib/python3.7/site-packages/dask/array/numpy_compat.py:41: RuntimeWarning: invalid value encountered in true_divide\n",
      "  x = np.divide(x1, x2, out)\n"
     ]
    },
    {
     "name": "stdout",
     "output_type": "stream",
     "text": [
      "/glade/work/jonahshaw/trend_uncertainty/nathan/OBS_LENS/HadCRUT5/20240820//HadCRUT.5.0.2.0.analysis.anomalies.190.5x5degSpatialTrends.190001-202012.nc\n"
     ]
    },
    {
     "name": "stderr",
     "output_type": "stream",
     "text": [
      "/glade/work/jonahshaw/miniconda3/envs/cheydask/lib/python3.7/site-packages/dask/array/numpy_compat.py:41: RuntimeWarning: invalid value encountered in true_divide\n",
      "  x = np.divide(x1, x2, out)\n"
     ]
    },
    {
     "name": "stdout",
     "output_type": "stream",
     "text": [
      "/glade/work/jonahshaw/trend_uncertainty/nathan/OBS_LENS/HadCRUT5/20240820//HadCRUT.5.0.2.0.analysis.anomalies.191.5x5degSpatialTrends.190001-202012.nc\n"
     ]
    },
    {
     "name": "stderr",
     "output_type": "stream",
     "text": [
      "/glade/work/jonahshaw/miniconda3/envs/cheydask/lib/python3.7/site-packages/dask/array/numpy_compat.py:41: RuntimeWarning: invalid value encountered in true_divide\n",
      "  x = np.divide(x1, x2, out)\n"
     ]
    },
    {
     "name": "stdout",
     "output_type": "stream",
     "text": [
      "/glade/work/jonahshaw/trend_uncertainty/nathan/OBS_LENS/HadCRUT5/20240820//HadCRUT.5.0.2.0.analysis.anomalies.192.5x5degSpatialTrends.190001-202012.nc\n"
     ]
    },
    {
     "name": "stderr",
     "output_type": "stream",
     "text": [
      "/glade/work/jonahshaw/miniconda3/envs/cheydask/lib/python3.7/site-packages/dask/array/numpy_compat.py:41: RuntimeWarning: invalid value encountered in true_divide\n",
      "  x = np.divide(x1, x2, out)\n"
     ]
    },
    {
     "name": "stdout",
     "output_type": "stream",
     "text": [
      "/glade/work/jonahshaw/trend_uncertainty/nathan/OBS_LENS/HadCRUT5/20240820//HadCRUT.5.0.2.0.analysis.anomalies.193.5x5degSpatialTrends.190001-202012.nc\n"
     ]
    },
    {
     "name": "stderr",
     "output_type": "stream",
     "text": [
      "/glade/work/jonahshaw/miniconda3/envs/cheydask/lib/python3.7/site-packages/dask/array/numpy_compat.py:41: RuntimeWarning: invalid value encountered in true_divide\n",
      "  x = np.divide(x1, x2, out)\n"
     ]
    },
    {
     "name": "stdout",
     "output_type": "stream",
     "text": [
      "/glade/work/jonahshaw/trend_uncertainty/nathan/OBS_LENS/HadCRUT5/20240820//HadCRUT.5.0.2.0.analysis.anomalies.194.5x5degSpatialTrends.190001-202012.nc\n"
     ]
    },
    {
     "name": "stderr",
     "output_type": "stream",
     "text": [
      "/glade/work/jonahshaw/miniconda3/envs/cheydask/lib/python3.7/site-packages/dask/array/numpy_compat.py:41: RuntimeWarning: invalid value encountered in true_divide\n",
      "  x = np.divide(x1, x2, out)\n"
     ]
    },
    {
     "name": "stdout",
     "output_type": "stream",
     "text": [
      "/glade/work/jonahshaw/trend_uncertainty/nathan/OBS_LENS/HadCRUT5/20240820//HadCRUT.5.0.2.0.analysis.anomalies.195.5x5degSpatialTrends.190001-202012.nc\n"
     ]
    },
    {
     "name": "stderr",
     "output_type": "stream",
     "text": [
      "/glade/work/jonahshaw/miniconda3/envs/cheydask/lib/python3.7/site-packages/dask/array/numpy_compat.py:41: RuntimeWarning: invalid value encountered in true_divide\n",
      "  x = np.divide(x1, x2, out)\n"
     ]
    },
    {
     "name": "stdout",
     "output_type": "stream",
     "text": [
      "/glade/work/jonahshaw/trend_uncertainty/nathan/OBS_LENS/HadCRUT5/20240820//HadCRUT.5.0.2.0.analysis.anomalies.196.5x5degSpatialTrends.190001-202012.nc\n"
     ]
    },
    {
     "name": "stderr",
     "output_type": "stream",
     "text": [
      "/glade/work/jonahshaw/miniconda3/envs/cheydask/lib/python3.7/site-packages/dask/array/numpy_compat.py:41: RuntimeWarning: invalid value encountered in true_divide\n",
      "  x = np.divide(x1, x2, out)\n"
     ]
    },
    {
     "name": "stdout",
     "output_type": "stream",
     "text": [
      "/glade/work/jonahshaw/trend_uncertainty/nathan/OBS_LENS/HadCRUT5/20240820//HadCRUT.5.0.2.0.analysis.anomalies.197.5x5degSpatialTrends.190001-202012.nc\n"
     ]
    },
    {
     "name": "stderr",
     "output_type": "stream",
     "text": [
      "/glade/work/jonahshaw/miniconda3/envs/cheydask/lib/python3.7/site-packages/dask/array/numpy_compat.py:41: RuntimeWarning: invalid value encountered in true_divide\n",
      "  x = np.divide(x1, x2, out)\n"
     ]
    },
    {
     "name": "stdout",
     "output_type": "stream",
     "text": [
      "/glade/work/jonahshaw/trend_uncertainty/nathan/OBS_LENS/HadCRUT5/20240820//HadCRUT.5.0.2.0.analysis.anomalies.198.5x5degSpatialTrends.190001-202012.nc\n"
     ]
    },
    {
     "name": "stderr",
     "output_type": "stream",
     "text": [
      "/glade/work/jonahshaw/miniconda3/envs/cheydask/lib/python3.7/site-packages/dask/array/numpy_compat.py:41: RuntimeWarning: invalid value encountered in true_divide\n",
      "  x = np.divide(x1, x2, out)\n"
     ]
    },
    {
     "name": "stdout",
     "output_type": "stream",
     "text": [
      "/glade/work/jonahshaw/trend_uncertainty/nathan/OBS_LENS/HadCRUT5/20240820//HadCRUT.5.0.2.0.analysis.anomalies.199.5x5degSpatialTrends.190001-202012.nc\n"
     ]
    },
    {
     "name": "stderr",
     "output_type": "stream",
     "text": [
      "/glade/work/jonahshaw/miniconda3/envs/cheydask/lib/python3.7/site-packages/dask/array/numpy_compat.py:41: RuntimeWarning: invalid value encountered in true_divide\n",
      "  x = np.divide(x1, x2, out)\n"
     ]
    },
    {
     "name": "stdout",
     "output_type": "stream",
     "text": [
      "/glade/work/jonahshaw/trend_uncertainty/nathan/OBS_LENS/HadCRUT5/20240820//HadCRUT.5.0.2.0.analysis.anomalies.2.5x5degSpatialTrends.190001-202012.nc\n"
     ]
    },
    {
     "name": "stderr",
     "output_type": "stream",
     "text": [
      "/glade/work/jonahshaw/miniconda3/envs/cheydask/lib/python3.7/site-packages/dask/array/numpy_compat.py:41: RuntimeWarning: invalid value encountered in true_divide\n",
      "  x = np.divide(x1, x2, out)\n"
     ]
    },
    {
     "name": "stdout",
     "output_type": "stream",
     "text": [
      "/glade/work/jonahshaw/trend_uncertainty/nathan/OBS_LENS/HadCRUT5/20240820//HadCRUT.5.0.2.0.analysis.anomalies.20.5x5degSpatialTrends.190001-202012.nc\n"
     ]
    },
    {
     "name": "stderr",
     "output_type": "stream",
     "text": [
      "/glade/work/jonahshaw/miniconda3/envs/cheydask/lib/python3.7/site-packages/dask/array/numpy_compat.py:41: RuntimeWarning: invalid value encountered in true_divide\n",
      "  x = np.divide(x1, x2, out)\n"
     ]
    },
    {
     "name": "stdout",
     "output_type": "stream",
     "text": [
      "/glade/work/jonahshaw/trend_uncertainty/nathan/OBS_LENS/HadCRUT5/20240820//HadCRUT.5.0.2.0.analysis.anomalies.200.5x5degSpatialTrends.190001-202012.nc\n"
     ]
    },
    {
     "name": "stderr",
     "output_type": "stream",
     "text": [
      "/glade/work/jonahshaw/miniconda3/envs/cheydask/lib/python3.7/site-packages/dask/array/numpy_compat.py:41: RuntimeWarning: invalid value encountered in true_divide\n",
      "  x = np.divide(x1, x2, out)\n"
     ]
    },
    {
     "name": "stdout",
     "output_type": "stream",
     "text": [
      "/glade/work/jonahshaw/trend_uncertainty/nathan/OBS_LENS/HadCRUT5/20240820//HadCRUT.5.0.2.0.analysis.anomalies.21.5x5degSpatialTrends.190001-202012.nc\n"
     ]
    },
    {
     "name": "stderr",
     "output_type": "stream",
     "text": [
      "/glade/work/jonahshaw/miniconda3/envs/cheydask/lib/python3.7/site-packages/dask/array/numpy_compat.py:41: RuntimeWarning: invalid value encountered in true_divide\n",
      "  x = np.divide(x1, x2, out)\n"
     ]
    },
    {
     "name": "stdout",
     "output_type": "stream",
     "text": [
      "/glade/work/jonahshaw/trend_uncertainty/nathan/OBS_LENS/HadCRUT5/20240820//HadCRUT.5.0.2.0.analysis.anomalies.22.5x5degSpatialTrends.190001-202012.nc\n"
     ]
    },
    {
     "name": "stderr",
     "output_type": "stream",
     "text": [
      "/glade/work/jonahshaw/miniconda3/envs/cheydask/lib/python3.7/site-packages/dask/array/numpy_compat.py:41: RuntimeWarning: invalid value encountered in true_divide\n",
      "  x = np.divide(x1, x2, out)\n"
     ]
    },
    {
     "name": "stdout",
     "output_type": "stream",
     "text": [
      "/glade/work/jonahshaw/trend_uncertainty/nathan/OBS_LENS/HadCRUT5/20240820//HadCRUT.5.0.2.0.analysis.anomalies.23.5x5degSpatialTrends.190001-202012.nc\n"
     ]
    },
    {
     "name": "stderr",
     "output_type": "stream",
     "text": [
      "/glade/work/jonahshaw/miniconda3/envs/cheydask/lib/python3.7/site-packages/dask/array/numpy_compat.py:41: RuntimeWarning: invalid value encountered in true_divide\n",
      "  x = np.divide(x1, x2, out)\n"
     ]
    },
    {
     "name": "stdout",
     "output_type": "stream",
     "text": [
      "/glade/work/jonahshaw/trend_uncertainty/nathan/OBS_LENS/HadCRUT5/20240820//HadCRUT.5.0.2.0.analysis.anomalies.24.5x5degSpatialTrends.190001-202012.nc\n"
     ]
    },
    {
     "name": "stderr",
     "output_type": "stream",
     "text": [
      "/glade/work/jonahshaw/miniconda3/envs/cheydask/lib/python3.7/site-packages/dask/array/numpy_compat.py:41: RuntimeWarning: invalid value encountered in true_divide\n",
      "  x = np.divide(x1, x2, out)\n"
     ]
    },
    {
     "name": "stdout",
     "output_type": "stream",
     "text": [
      "/glade/work/jonahshaw/trend_uncertainty/nathan/OBS_LENS/HadCRUT5/20240820//HadCRUT.5.0.2.0.analysis.anomalies.25.5x5degSpatialTrends.190001-202012.nc\n"
     ]
    },
    {
     "name": "stderr",
     "output_type": "stream",
     "text": [
      "/glade/work/jonahshaw/miniconda3/envs/cheydask/lib/python3.7/site-packages/dask/array/numpy_compat.py:41: RuntimeWarning: invalid value encountered in true_divide\n",
      "  x = np.divide(x1, x2, out)\n"
     ]
    },
    {
     "name": "stdout",
     "output_type": "stream",
     "text": [
      "/glade/work/jonahshaw/trend_uncertainty/nathan/OBS_LENS/HadCRUT5/20240820//HadCRUT.5.0.2.0.analysis.anomalies.26.5x5degSpatialTrends.190001-202012.nc\n"
     ]
    },
    {
     "name": "stderr",
     "output_type": "stream",
     "text": [
      "/glade/work/jonahshaw/miniconda3/envs/cheydask/lib/python3.7/site-packages/dask/array/numpy_compat.py:41: RuntimeWarning: invalid value encountered in true_divide\n",
      "  x = np.divide(x1, x2, out)\n"
     ]
    },
    {
     "name": "stdout",
     "output_type": "stream",
     "text": [
      "/glade/work/jonahshaw/trend_uncertainty/nathan/OBS_LENS/HadCRUT5/20240820//HadCRUT.5.0.2.0.analysis.anomalies.27.5x5degSpatialTrends.190001-202012.nc\n"
     ]
    },
    {
     "name": "stderr",
     "output_type": "stream",
     "text": [
      "/glade/work/jonahshaw/miniconda3/envs/cheydask/lib/python3.7/site-packages/dask/array/numpy_compat.py:41: RuntimeWarning: invalid value encountered in true_divide\n",
      "  x = np.divide(x1, x2, out)\n"
     ]
    },
    {
     "name": "stdout",
     "output_type": "stream",
     "text": [
      "/glade/work/jonahshaw/trend_uncertainty/nathan/OBS_LENS/HadCRUT5/20240820//HadCRUT.5.0.2.0.analysis.anomalies.28.5x5degSpatialTrends.190001-202012.nc\n"
     ]
    },
    {
     "name": "stderr",
     "output_type": "stream",
     "text": [
      "/glade/work/jonahshaw/miniconda3/envs/cheydask/lib/python3.7/site-packages/dask/array/numpy_compat.py:41: RuntimeWarning: invalid value encountered in true_divide\n",
      "  x = np.divide(x1, x2, out)\n"
     ]
    },
    {
     "name": "stdout",
     "output_type": "stream",
     "text": [
      "/glade/work/jonahshaw/trend_uncertainty/nathan/OBS_LENS/HadCRUT5/20240820//HadCRUT.5.0.2.0.analysis.anomalies.29.5x5degSpatialTrends.190001-202012.nc\n"
     ]
    },
    {
     "name": "stderr",
     "output_type": "stream",
     "text": [
      "/glade/work/jonahshaw/miniconda3/envs/cheydask/lib/python3.7/site-packages/dask/array/numpy_compat.py:41: RuntimeWarning: invalid value encountered in true_divide\n",
      "  x = np.divide(x1, x2, out)\n"
     ]
    },
    {
     "name": "stdout",
     "output_type": "stream",
     "text": [
      "/glade/work/jonahshaw/trend_uncertainty/nathan/OBS_LENS/HadCRUT5/20240820//HadCRUT.5.0.2.0.analysis.anomalies.3.5x5degSpatialTrends.190001-202012.nc\n"
     ]
    },
    {
     "name": "stderr",
     "output_type": "stream",
     "text": [
      "/glade/work/jonahshaw/miniconda3/envs/cheydask/lib/python3.7/site-packages/dask/array/numpy_compat.py:41: RuntimeWarning: invalid value encountered in true_divide\n",
      "  x = np.divide(x1, x2, out)\n"
     ]
    },
    {
     "name": "stdout",
     "output_type": "stream",
     "text": [
      "/glade/work/jonahshaw/trend_uncertainty/nathan/OBS_LENS/HadCRUT5/20240820//HadCRUT.5.0.2.0.analysis.anomalies.30.5x5degSpatialTrends.190001-202012.nc\n"
     ]
    },
    {
     "name": "stderr",
     "output_type": "stream",
     "text": [
      "/glade/work/jonahshaw/miniconda3/envs/cheydask/lib/python3.7/site-packages/dask/array/numpy_compat.py:41: RuntimeWarning: invalid value encountered in true_divide\n",
      "  x = np.divide(x1, x2, out)\n"
     ]
    },
    {
     "name": "stdout",
     "output_type": "stream",
     "text": [
      "/glade/work/jonahshaw/trend_uncertainty/nathan/OBS_LENS/HadCRUT5/20240820//HadCRUT.5.0.2.0.analysis.anomalies.31.5x5degSpatialTrends.190001-202012.nc\n"
     ]
    },
    {
     "name": "stderr",
     "output_type": "stream",
     "text": [
      "/glade/work/jonahshaw/miniconda3/envs/cheydask/lib/python3.7/site-packages/dask/array/numpy_compat.py:41: RuntimeWarning: invalid value encountered in true_divide\n",
      "  x = np.divide(x1, x2, out)\n"
     ]
    },
    {
     "name": "stdout",
     "output_type": "stream",
     "text": [
      "/glade/work/jonahshaw/trend_uncertainty/nathan/OBS_LENS/HadCRUT5/20240820//HadCRUT.5.0.2.0.analysis.anomalies.32.5x5degSpatialTrends.190001-202012.nc\n"
     ]
    },
    {
     "name": "stderr",
     "output_type": "stream",
     "text": [
      "/glade/work/jonahshaw/miniconda3/envs/cheydask/lib/python3.7/site-packages/dask/array/numpy_compat.py:41: RuntimeWarning: invalid value encountered in true_divide\n",
      "  x = np.divide(x1, x2, out)\n"
     ]
    },
    {
     "name": "stdout",
     "output_type": "stream",
     "text": [
      "/glade/work/jonahshaw/trend_uncertainty/nathan/OBS_LENS/HadCRUT5/20240820//HadCRUT.5.0.2.0.analysis.anomalies.33.5x5degSpatialTrends.190001-202012.nc\n"
     ]
    },
    {
     "name": "stderr",
     "output_type": "stream",
     "text": [
      "/glade/work/jonahshaw/miniconda3/envs/cheydask/lib/python3.7/site-packages/dask/array/numpy_compat.py:41: RuntimeWarning: invalid value encountered in true_divide\n",
      "  x = np.divide(x1, x2, out)\n"
     ]
    },
    {
     "name": "stdout",
     "output_type": "stream",
     "text": [
      "/glade/work/jonahshaw/trend_uncertainty/nathan/OBS_LENS/HadCRUT5/20240820//HadCRUT.5.0.2.0.analysis.anomalies.34.5x5degSpatialTrends.190001-202012.nc\n"
     ]
    },
    {
     "name": "stderr",
     "output_type": "stream",
     "text": [
      "/glade/work/jonahshaw/miniconda3/envs/cheydask/lib/python3.7/site-packages/dask/array/numpy_compat.py:41: RuntimeWarning: invalid value encountered in true_divide\n",
      "  x = np.divide(x1, x2, out)\n"
     ]
    },
    {
     "name": "stdout",
     "output_type": "stream",
     "text": [
      "/glade/work/jonahshaw/trend_uncertainty/nathan/OBS_LENS/HadCRUT5/20240820//HadCRUT.5.0.2.0.analysis.anomalies.35.5x5degSpatialTrends.190001-202012.nc\n"
     ]
    },
    {
     "name": "stderr",
     "output_type": "stream",
     "text": [
      "/glade/work/jonahshaw/miniconda3/envs/cheydask/lib/python3.7/site-packages/dask/array/numpy_compat.py:41: RuntimeWarning: invalid value encountered in true_divide\n",
      "  x = np.divide(x1, x2, out)\n"
     ]
    },
    {
     "name": "stdout",
     "output_type": "stream",
     "text": [
      "/glade/work/jonahshaw/trend_uncertainty/nathan/OBS_LENS/HadCRUT5/20240820//HadCRUT.5.0.2.0.analysis.anomalies.36.5x5degSpatialTrends.190001-202012.nc\n"
     ]
    },
    {
     "name": "stderr",
     "output_type": "stream",
     "text": [
      "/glade/work/jonahshaw/miniconda3/envs/cheydask/lib/python3.7/site-packages/dask/array/numpy_compat.py:41: RuntimeWarning: invalid value encountered in true_divide\n",
      "  x = np.divide(x1, x2, out)\n"
     ]
    },
    {
     "name": "stdout",
     "output_type": "stream",
     "text": [
      "/glade/work/jonahshaw/trend_uncertainty/nathan/OBS_LENS/HadCRUT5/20240820//HadCRUT.5.0.2.0.analysis.anomalies.37.5x5degSpatialTrends.190001-202012.nc\n"
     ]
    },
    {
     "name": "stderr",
     "output_type": "stream",
     "text": [
      "/glade/work/jonahshaw/miniconda3/envs/cheydask/lib/python3.7/site-packages/dask/array/numpy_compat.py:41: RuntimeWarning: invalid value encountered in true_divide\n",
      "  x = np.divide(x1, x2, out)\n"
     ]
    },
    {
     "name": "stdout",
     "output_type": "stream",
     "text": [
      "/glade/work/jonahshaw/trend_uncertainty/nathan/OBS_LENS/HadCRUT5/20240820//HadCRUT.5.0.2.0.analysis.anomalies.38.5x5degSpatialTrends.190001-202012.nc\n"
     ]
    },
    {
     "name": "stderr",
     "output_type": "stream",
     "text": [
      "/glade/work/jonahshaw/miniconda3/envs/cheydask/lib/python3.7/site-packages/dask/array/numpy_compat.py:41: RuntimeWarning: invalid value encountered in true_divide\n",
      "  x = np.divide(x1, x2, out)\n"
     ]
    },
    {
     "name": "stdout",
     "output_type": "stream",
     "text": [
      "/glade/work/jonahshaw/trend_uncertainty/nathan/OBS_LENS/HadCRUT5/20240820//HadCRUT.5.0.2.0.analysis.anomalies.39.5x5degSpatialTrends.190001-202012.nc\n"
     ]
    },
    {
     "name": "stderr",
     "output_type": "stream",
     "text": [
      "/glade/work/jonahshaw/miniconda3/envs/cheydask/lib/python3.7/site-packages/dask/array/numpy_compat.py:41: RuntimeWarning: invalid value encountered in true_divide\n",
      "  x = np.divide(x1, x2, out)\n"
     ]
    },
    {
     "name": "stdout",
     "output_type": "stream",
     "text": [
      "/glade/work/jonahshaw/trend_uncertainty/nathan/OBS_LENS/HadCRUT5/20240820//HadCRUT.5.0.2.0.analysis.anomalies.4.5x5degSpatialTrends.190001-202012.nc\n"
     ]
    },
    {
     "name": "stderr",
     "output_type": "stream",
     "text": [
      "/glade/work/jonahshaw/miniconda3/envs/cheydask/lib/python3.7/site-packages/dask/array/numpy_compat.py:41: RuntimeWarning: invalid value encountered in true_divide\n",
      "  x = np.divide(x1, x2, out)\n"
     ]
    },
    {
     "name": "stdout",
     "output_type": "stream",
     "text": [
      "/glade/work/jonahshaw/trend_uncertainty/nathan/OBS_LENS/HadCRUT5/20240820//HadCRUT.5.0.2.0.analysis.anomalies.40.5x5degSpatialTrends.190001-202012.nc\n"
     ]
    },
    {
     "name": "stderr",
     "output_type": "stream",
     "text": [
      "/glade/work/jonahshaw/miniconda3/envs/cheydask/lib/python3.7/site-packages/dask/array/numpy_compat.py:41: RuntimeWarning: invalid value encountered in true_divide\n",
      "  x = np.divide(x1, x2, out)\n"
     ]
    },
    {
     "name": "stdout",
     "output_type": "stream",
     "text": [
      "/glade/work/jonahshaw/trend_uncertainty/nathan/OBS_LENS/HadCRUT5/20240820//HadCRUT.5.0.2.0.analysis.anomalies.41.5x5degSpatialTrends.190001-202012.nc\n"
     ]
    },
    {
     "name": "stderr",
     "output_type": "stream",
     "text": [
      "/glade/work/jonahshaw/miniconda3/envs/cheydask/lib/python3.7/site-packages/dask/array/numpy_compat.py:41: RuntimeWarning: invalid value encountered in true_divide\n",
      "  x = np.divide(x1, x2, out)\n"
     ]
    },
    {
     "name": "stdout",
     "output_type": "stream",
     "text": [
      "/glade/work/jonahshaw/trend_uncertainty/nathan/OBS_LENS/HadCRUT5/20240820//HadCRUT.5.0.2.0.analysis.anomalies.42.5x5degSpatialTrends.190001-202012.nc\n"
     ]
    },
    {
     "name": "stderr",
     "output_type": "stream",
     "text": [
      "/glade/work/jonahshaw/miniconda3/envs/cheydask/lib/python3.7/site-packages/dask/array/numpy_compat.py:41: RuntimeWarning: invalid value encountered in true_divide\n",
      "  x = np.divide(x1, x2, out)\n"
     ]
    },
    {
     "name": "stdout",
     "output_type": "stream",
     "text": [
      "/glade/work/jonahshaw/trend_uncertainty/nathan/OBS_LENS/HadCRUT5/20240820//HadCRUT.5.0.2.0.analysis.anomalies.43.5x5degSpatialTrends.190001-202012.nc\n"
     ]
    },
    {
     "name": "stderr",
     "output_type": "stream",
     "text": [
      "/glade/work/jonahshaw/miniconda3/envs/cheydask/lib/python3.7/site-packages/dask/array/numpy_compat.py:41: RuntimeWarning: invalid value encountered in true_divide\n",
      "  x = np.divide(x1, x2, out)\n"
     ]
    },
    {
     "name": "stdout",
     "output_type": "stream",
     "text": [
      "/glade/work/jonahshaw/trend_uncertainty/nathan/OBS_LENS/HadCRUT5/20240820//HadCRUT.5.0.2.0.analysis.anomalies.44.5x5degSpatialTrends.190001-202012.nc\n"
     ]
    },
    {
     "name": "stderr",
     "output_type": "stream",
     "text": [
      "/glade/work/jonahshaw/miniconda3/envs/cheydask/lib/python3.7/site-packages/dask/array/numpy_compat.py:41: RuntimeWarning: invalid value encountered in true_divide\n",
      "  x = np.divide(x1, x2, out)\n"
     ]
    },
    {
     "name": "stdout",
     "output_type": "stream",
     "text": [
      "/glade/work/jonahshaw/trend_uncertainty/nathan/OBS_LENS/HadCRUT5/20240820//HadCRUT.5.0.2.0.analysis.anomalies.45.5x5degSpatialTrends.190001-202012.nc\n"
     ]
    },
    {
     "name": "stderr",
     "output_type": "stream",
     "text": [
      "/glade/work/jonahshaw/miniconda3/envs/cheydask/lib/python3.7/site-packages/dask/array/numpy_compat.py:41: RuntimeWarning: invalid value encountered in true_divide\n",
      "  x = np.divide(x1, x2, out)\n"
     ]
    },
    {
     "name": "stdout",
     "output_type": "stream",
     "text": [
      "/glade/work/jonahshaw/trend_uncertainty/nathan/OBS_LENS/HadCRUT5/20240820//HadCRUT.5.0.2.0.analysis.anomalies.46.5x5degSpatialTrends.190001-202012.nc\n"
     ]
    },
    {
     "name": "stderr",
     "output_type": "stream",
     "text": [
      "/glade/work/jonahshaw/miniconda3/envs/cheydask/lib/python3.7/site-packages/dask/array/numpy_compat.py:41: RuntimeWarning: invalid value encountered in true_divide\n",
      "  x = np.divide(x1, x2, out)\n"
     ]
    },
    {
     "name": "stdout",
     "output_type": "stream",
     "text": [
      "/glade/work/jonahshaw/trend_uncertainty/nathan/OBS_LENS/HadCRUT5/20240820//HadCRUT.5.0.2.0.analysis.anomalies.47.5x5degSpatialTrends.190001-202012.nc\n"
     ]
    },
    {
     "name": "stderr",
     "output_type": "stream",
     "text": [
      "/glade/work/jonahshaw/miniconda3/envs/cheydask/lib/python3.7/site-packages/dask/array/numpy_compat.py:41: RuntimeWarning: invalid value encountered in true_divide\n",
      "  x = np.divide(x1, x2, out)\n"
     ]
    },
    {
     "name": "stdout",
     "output_type": "stream",
     "text": [
      "/glade/work/jonahshaw/trend_uncertainty/nathan/OBS_LENS/HadCRUT5/20240820//HadCRUT.5.0.2.0.analysis.anomalies.48.5x5degSpatialTrends.190001-202012.nc\n"
     ]
    },
    {
     "name": "stderr",
     "output_type": "stream",
     "text": [
      "/glade/work/jonahshaw/miniconda3/envs/cheydask/lib/python3.7/site-packages/dask/array/numpy_compat.py:41: RuntimeWarning: invalid value encountered in true_divide\n",
      "  x = np.divide(x1, x2, out)\n"
     ]
    },
    {
     "name": "stdout",
     "output_type": "stream",
     "text": [
      "/glade/work/jonahshaw/trend_uncertainty/nathan/OBS_LENS/HadCRUT5/20240820//HadCRUT.5.0.2.0.analysis.anomalies.49.5x5degSpatialTrends.190001-202012.nc\n"
     ]
    },
    {
     "name": "stderr",
     "output_type": "stream",
     "text": [
      "/glade/work/jonahshaw/miniconda3/envs/cheydask/lib/python3.7/site-packages/dask/array/numpy_compat.py:41: RuntimeWarning: invalid value encountered in true_divide\n",
      "  x = np.divide(x1, x2, out)\n"
     ]
    },
    {
     "name": "stdout",
     "output_type": "stream",
     "text": [
      "/glade/work/jonahshaw/trend_uncertainty/nathan/OBS_LENS/HadCRUT5/20240820//HadCRUT.5.0.2.0.analysis.anomalies.5.5x5degSpatialTrends.190001-202012.nc\n"
     ]
    },
    {
     "name": "stderr",
     "output_type": "stream",
     "text": [
      "/glade/work/jonahshaw/miniconda3/envs/cheydask/lib/python3.7/site-packages/dask/array/numpy_compat.py:41: RuntimeWarning: invalid value encountered in true_divide\n",
      "  x = np.divide(x1, x2, out)\n"
     ]
    },
    {
     "name": "stdout",
     "output_type": "stream",
     "text": [
      "/glade/work/jonahshaw/trend_uncertainty/nathan/OBS_LENS/HadCRUT5/20240820//HadCRUT.5.0.2.0.analysis.anomalies.50.5x5degSpatialTrends.190001-202012.nc\n"
     ]
    },
    {
     "name": "stderr",
     "output_type": "stream",
     "text": [
      "/glade/work/jonahshaw/miniconda3/envs/cheydask/lib/python3.7/site-packages/dask/array/numpy_compat.py:41: RuntimeWarning: invalid value encountered in true_divide\n",
      "  x = np.divide(x1, x2, out)\n"
     ]
    },
    {
     "name": "stdout",
     "output_type": "stream",
     "text": [
      "/glade/work/jonahshaw/trend_uncertainty/nathan/OBS_LENS/HadCRUT5/20240820//HadCRUT.5.0.2.0.analysis.anomalies.51.5x5degSpatialTrends.190001-202012.nc\n"
     ]
    },
    {
     "name": "stderr",
     "output_type": "stream",
     "text": [
      "/glade/work/jonahshaw/miniconda3/envs/cheydask/lib/python3.7/site-packages/dask/array/numpy_compat.py:41: RuntimeWarning: invalid value encountered in true_divide\n",
      "  x = np.divide(x1, x2, out)\n"
     ]
    },
    {
     "name": "stdout",
     "output_type": "stream",
     "text": [
      "/glade/work/jonahshaw/trend_uncertainty/nathan/OBS_LENS/HadCRUT5/20240820//HadCRUT.5.0.2.0.analysis.anomalies.52.5x5degSpatialTrends.190001-202012.nc\n"
     ]
    },
    {
     "name": "stderr",
     "output_type": "stream",
     "text": [
      "/glade/work/jonahshaw/miniconda3/envs/cheydask/lib/python3.7/site-packages/dask/array/numpy_compat.py:41: RuntimeWarning: invalid value encountered in true_divide\n",
      "  x = np.divide(x1, x2, out)\n"
     ]
    },
    {
     "name": "stdout",
     "output_type": "stream",
     "text": [
      "/glade/work/jonahshaw/trend_uncertainty/nathan/OBS_LENS/HadCRUT5/20240820//HadCRUT.5.0.2.0.analysis.anomalies.53.5x5degSpatialTrends.190001-202012.nc\n"
     ]
    },
    {
     "name": "stderr",
     "output_type": "stream",
     "text": [
      "/glade/work/jonahshaw/miniconda3/envs/cheydask/lib/python3.7/site-packages/dask/array/numpy_compat.py:41: RuntimeWarning: invalid value encountered in true_divide\n",
      "  x = np.divide(x1, x2, out)\n"
     ]
    },
    {
     "name": "stdout",
     "output_type": "stream",
     "text": [
      "/glade/work/jonahshaw/trend_uncertainty/nathan/OBS_LENS/HadCRUT5/20240820//HadCRUT.5.0.2.0.analysis.anomalies.54.5x5degSpatialTrends.190001-202012.nc\n"
     ]
    },
    {
     "name": "stderr",
     "output_type": "stream",
     "text": [
      "/glade/work/jonahshaw/miniconda3/envs/cheydask/lib/python3.7/site-packages/dask/array/numpy_compat.py:41: RuntimeWarning: invalid value encountered in true_divide\n",
      "  x = np.divide(x1, x2, out)\n"
     ]
    },
    {
     "name": "stdout",
     "output_type": "stream",
     "text": [
      "/glade/work/jonahshaw/trend_uncertainty/nathan/OBS_LENS/HadCRUT5/20240820//HadCRUT.5.0.2.0.analysis.anomalies.55.5x5degSpatialTrends.190001-202012.nc\n"
     ]
    },
    {
     "name": "stderr",
     "output_type": "stream",
     "text": [
      "/glade/work/jonahshaw/miniconda3/envs/cheydask/lib/python3.7/site-packages/dask/array/numpy_compat.py:41: RuntimeWarning: invalid value encountered in true_divide\n",
      "  x = np.divide(x1, x2, out)\n"
     ]
    },
    {
     "name": "stdout",
     "output_type": "stream",
     "text": [
      "/glade/work/jonahshaw/trend_uncertainty/nathan/OBS_LENS/HadCRUT5/20240820//HadCRUT.5.0.2.0.analysis.anomalies.56.5x5degSpatialTrends.190001-202012.nc\n"
     ]
    },
    {
     "name": "stderr",
     "output_type": "stream",
     "text": [
      "/glade/work/jonahshaw/miniconda3/envs/cheydask/lib/python3.7/site-packages/dask/array/numpy_compat.py:41: RuntimeWarning: invalid value encountered in true_divide\n",
      "  x = np.divide(x1, x2, out)\n"
     ]
    },
    {
     "name": "stdout",
     "output_type": "stream",
     "text": [
      "/glade/work/jonahshaw/trend_uncertainty/nathan/OBS_LENS/HadCRUT5/20240820//HadCRUT.5.0.2.0.analysis.anomalies.57.5x5degSpatialTrends.190001-202012.nc\n"
     ]
    },
    {
     "name": "stderr",
     "output_type": "stream",
     "text": [
      "/glade/work/jonahshaw/miniconda3/envs/cheydask/lib/python3.7/site-packages/dask/array/numpy_compat.py:41: RuntimeWarning: invalid value encountered in true_divide\n",
      "  x = np.divide(x1, x2, out)\n"
     ]
    },
    {
     "name": "stdout",
     "output_type": "stream",
     "text": [
      "/glade/work/jonahshaw/trend_uncertainty/nathan/OBS_LENS/HadCRUT5/20240820//HadCRUT.5.0.2.0.analysis.anomalies.58.5x5degSpatialTrends.190001-202012.nc\n"
     ]
    },
    {
     "name": "stderr",
     "output_type": "stream",
     "text": [
      "/glade/work/jonahshaw/miniconda3/envs/cheydask/lib/python3.7/site-packages/dask/array/numpy_compat.py:41: RuntimeWarning: invalid value encountered in true_divide\n",
      "  x = np.divide(x1, x2, out)\n"
     ]
    },
    {
     "name": "stdout",
     "output_type": "stream",
     "text": [
      "/glade/work/jonahshaw/trend_uncertainty/nathan/OBS_LENS/HadCRUT5/20240820//HadCRUT.5.0.2.0.analysis.anomalies.59.5x5degSpatialTrends.190001-202012.nc\n"
     ]
    },
    {
     "name": "stderr",
     "output_type": "stream",
     "text": [
      "/glade/work/jonahshaw/miniconda3/envs/cheydask/lib/python3.7/site-packages/dask/array/numpy_compat.py:41: RuntimeWarning: invalid value encountered in true_divide\n",
      "  x = np.divide(x1, x2, out)\n"
     ]
    },
    {
     "name": "stdout",
     "output_type": "stream",
     "text": [
      "/glade/work/jonahshaw/trend_uncertainty/nathan/OBS_LENS/HadCRUT5/20240820//HadCRUT.5.0.2.0.analysis.anomalies.6.5x5degSpatialTrends.190001-202012.nc\n"
     ]
    },
    {
     "name": "stderr",
     "output_type": "stream",
     "text": [
      "/glade/work/jonahshaw/miniconda3/envs/cheydask/lib/python3.7/site-packages/dask/array/numpy_compat.py:41: RuntimeWarning: invalid value encountered in true_divide\n",
      "  x = np.divide(x1, x2, out)\n"
     ]
    },
    {
     "name": "stdout",
     "output_type": "stream",
     "text": [
      "/glade/work/jonahshaw/trend_uncertainty/nathan/OBS_LENS/HadCRUT5/20240820//HadCRUT.5.0.2.0.analysis.anomalies.60.5x5degSpatialTrends.190001-202012.nc\n"
     ]
    },
    {
     "name": "stderr",
     "output_type": "stream",
     "text": [
      "/glade/work/jonahshaw/miniconda3/envs/cheydask/lib/python3.7/site-packages/dask/array/numpy_compat.py:41: RuntimeWarning: invalid value encountered in true_divide\n",
      "  x = np.divide(x1, x2, out)\n"
     ]
    },
    {
     "name": "stdout",
     "output_type": "stream",
     "text": [
      "/glade/work/jonahshaw/trend_uncertainty/nathan/OBS_LENS/HadCRUT5/20240820//HadCRUT.5.0.2.0.analysis.anomalies.61.5x5degSpatialTrends.190001-202012.nc\n"
     ]
    },
    {
     "name": "stderr",
     "output_type": "stream",
     "text": [
      "/glade/work/jonahshaw/miniconda3/envs/cheydask/lib/python3.7/site-packages/dask/array/numpy_compat.py:41: RuntimeWarning: invalid value encountered in true_divide\n",
      "  x = np.divide(x1, x2, out)\n"
     ]
    },
    {
     "name": "stdout",
     "output_type": "stream",
     "text": [
      "/glade/work/jonahshaw/trend_uncertainty/nathan/OBS_LENS/HadCRUT5/20240820//HadCRUT.5.0.2.0.analysis.anomalies.62.5x5degSpatialTrends.190001-202012.nc\n"
     ]
    },
    {
     "name": "stderr",
     "output_type": "stream",
     "text": [
      "/glade/work/jonahshaw/miniconda3/envs/cheydask/lib/python3.7/site-packages/dask/array/numpy_compat.py:41: RuntimeWarning: invalid value encountered in true_divide\n",
      "  x = np.divide(x1, x2, out)\n"
     ]
    },
    {
     "name": "stdout",
     "output_type": "stream",
     "text": [
      "/glade/work/jonahshaw/trend_uncertainty/nathan/OBS_LENS/HadCRUT5/20240820//HadCRUT.5.0.2.0.analysis.anomalies.63.5x5degSpatialTrends.190001-202012.nc\n"
     ]
    },
    {
     "name": "stderr",
     "output_type": "stream",
     "text": [
      "/glade/work/jonahshaw/miniconda3/envs/cheydask/lib/python3.7/site-packages/dask/array/numpy_compat.py:41: RuntimeWarning: invalid value encountered in true_divide\n",
      "  x = np.divide(x1, x2, out)\n"
     ]
    },
    {
     "name": "stdout",
     "output_type": "stream",
     "text": [
      "/glade/work/jonahshaw/trend_uncertainty/nathan/OBS_LENS/HadCRUT5/20240820//HadCRUT.5.0.2.0.analysis.anomalies.64.5x5degSpatialTrends.190001-202012.nc\n"
     ]
    },
    {
     "name": "stderr",
     "output_type": "stream",
     "text": [
      "/glade/work/jonahshaw/miniconda3/envs/cheydask/lib/python3.7/site-packages/dask/array/numpy_compat.py:41: RuntimeWarning: invalid value encountered in true_divide\n",
      "  x = np.divide(x1, x2, out)\n"
     ]
    },
    {
     "name": "stdout",
     "output_type": "stream",
     "text": [
      "/glade/work/jonahshaw/trend_uncertainty/nathan/OBS_LENS/HadCRUT5/20240820//HadCRUT.5.0.2.0.analysis.anomalies.65.5x5degSpatialTrends.190001-202012.nc\n"
     ]
    },
    {
     "name": "stderr",
     "output_type": "stream",
     "text": [
      "/glade/work/jonahshaw/miniconda3/envs/cheydask/lib/python3.7/site-packages/dask/array/numpy_compat.py:41: RuntimeWarning: invalid value encountered in true_divide\n",
      "  x = np.divide(x1, x2, out)\n"
     ]
    },
    {
     "name": "stdout",
     "output_type": "stream",
     "text": [
      "/glade/work/jonahshaw/trend_uncertainty/nathan/OBS_LENS/HadCRUT5/20240820//HadCRUT.5.0.2.0.analysis.anomalies.66.5x5degSpatialTrends.190001-202012.nc\n"
     ]
    },
    {
     "name": "stderr",
     "output_type": "stream",
     "text": [
      "/glade/work/jonahshaw/miniconda3/envs/cheydask/lib/python3.7/site-packages/dask/array/numpy_compat.py:41: RuntimeWarning: invalid value encountered in true_divide\n",
      "  x = np.divide(x1, x2, out)\n"
     ]
    },
    {
     "name": "stdout",
     "output_type": "stream",
     "text": [
      "/glade/work/jonahshaw/trend_uncertainty/nathan/OBS_LENS/HadCRUT5/20240820//HadCRUT.5.0.2.0.analysis.anomalies.67.5x5degSpatialTrends.190001-202012.nc\n"
     ]
    },
    {
     "name": "stderr",
     "output_type": "stream",
     "text": [
      "/glade/work/jonahshaw/miniconda3/envs/cheydask/lib/python3.7/site-packages/dask/array/numpy_compat.py:41: RuntimeWarning: invalid value encountered in true_divide\n",
      "  x = np.divide(x1, x2, out)\n"
     ]
    },
    {
     "name": "stdout",
     "output_type": "stream",
     "text": [
      "/glade/work/jonahshaw/trend_uncertainty/nathan/OBS_LENS/HadCRUT5/20240820//HadCRUT.5.0.2.0.analysis.anomalies.68.5x5degSpatialTrends.190001-202012.nc\n"
     ]
    },
    {
     "name": "stderr",
     "output_type": "stream",
     "text": [
      "/glade/work/jonahshaw/miniconda3/envs/cheydask/lib/python3.7/site-packages/dask/array/numpy_compat.py:41: RuntimeWarning: invalid value encountered in true_divide\n",
      "  x = np.divide(x1, x2, out)\n"
     ]
    },
    {
     "name": "stdout",
     "output_type": "stream",
     "text": [
      "/glade/work/jonahshaw/trend_uncertainty/nathan/OBS_LENS/HadCRUT5/20240820//HadCRUT.5.0.2.0.analysis.anomalies.69.5x5degSpatialTrends.190001-202012.nc\n"
     ]
    },
    {
     "name": "stderr",
     "output_type": "stream",
     "text": [
      "/glade/work/jonahshaw/miniconda3/envs/cheydask/lib/python3.7/site-packages/dask/array/numpy_compat.py:41: RuntimeWarning: invalid value encountered in true_divide\n",
      "  x = np.divide(x1, x2, out)\n"
     ]
    },
    {
     "name": "stdout",
     "output_type": "stream",
     "text": [
      "/glade/work/jonahshaw/trend_uncertainty/nathan/OBS_LENS/HadCRUT5/20240820//HadCRUT.5.0.2.0.analysis.anomalies.7.5x5degSpatialTrends.190001-202012.nc\n"
     ]
    },
    {
     "name": "stderr",
     "output_type": "stream",
     "text": [
      "/glade/work/jonahshaw/miniconda3/envs/cheydask/lib/python3.7/site-packages/dask/array/numpy_compat.py:41: RuntimeWarning: invalid value encountered in true_divide\n",
      "  x = np.divide(x1, x2, out)\n"
     ]
    },
    {
     "name": "stdout",
     "output_type": "stream",
     "text": [
      "/glade/work/jonahshaw/trend_uncertainty/nathan/OBS_LENS/HadCRUT5/20240820//HadCRUT.5.0.2.0.analysis.anomalies.70.5x5degSpatialTrends.190001-202012.nc\n"
     ]
    },
    {
     "name": "stderr",
     "output_type": "stream",
     "text": [
      "/glade/work/jonahshaw/miniconda3/envs/cheydask/lib/python3.7/site-packages/dask/array/numpy_compat.py:41: RuntimeWarning: invalid value encountered in true_divide\n",
      "  x = np.divide(x1, x2, out)\n"
     ]
    },
    {
     "name": "stdout",
     "output_type": "stream",
     "text": [
      "/glade/work/jonahshaw/trend_uncertainty/nathan/OBS_LENS/HadCRUT5/20240820//HadCRUT.5.0.2.0.analysis.anomalies.71.5x5degSpatialTrends.190001-202012.nc\n"
     ]
    },
    {
     "name": "stderr",
     "output_type": "stream",
     "text": [
      "/glade/work/jonahshaw/miniconda3/envs/cheydask/lib/python3.7/site-packages/dask/array/numpy_compat.py:41: RuntimeWarning: invalid value encountered in true_divide\n",
      "  x = np.divide(x1, x2, out)\n"
     ]
    },
    {
     "name": "stdout",
     "output_type": "stream",
     "text": [
      "/glade/work/jonahshaw/trend_uncertainty/nathan/OBS_LENS/HadCRUT5/20240820//HadCRUT.5.0.2.0.analysis.anomalies.72.5x5degSpatialTrends.190001-202012.nc\n"
     ]
    },
    {
     "name": "stderr",
     "output_type": "stream",
     "text": [
      "/glade/work/jonahshaw/miniconda3/envs/cheydask/lib/python3.7/site-packages/dask/array/numpy_compat.py:41: RuntimeWarning: invalid value encountered in true_divide\n",
      "  x = np.divide(x1, x2, out)\n"
     ]
    },
    {
     "name": "stdout",
     "output_type": "stream",
     "text": [
      "/glade/work/jonahshaw/trend_uncertainty/nathan/OBS_LENS/HadCRUT5/20240820//HadCRUT.5.0.2.0.analysis.anomalies.73.5x5degSpatialTrends.190001-202012.nc\n"
     ]
    },
    {
     "name": "stderr",
     "output_type": "stream",
     "text": [
      "/glade/work/jonahshaw/miniconda3/envs/cheydask/lib/python3.7/site-packages/dask/array/numpy_compat.py:41: RuntimeWarning: invalid value encountered in true_divide\n",
      "  x = np.divide(x1, x2, out)\n"
     ]
    },
    {
     "name": "stdout",
     "output_type": "stream",
     "text": [
      "/glade/work/jonahshaw/trend_uncertainty/nathan/OBS_LENS/HadCRUT5/20240820//HadCRUT.5.0.2.0.analysis.anomalies.74.5x5degSpatialTrends.190001-202012.nc\n"
     ]
    },
    {
     "name": "stderr",
     "output_type": "stream",
     "text": [
      "/glade/work/jonahshaw/miniconda3/envs/cheydask/lib/python3.7/site-packages/dask/array/numpy_compat.py:41: RuntimeWarning: invalid value encountered in true_divide\n",
      "  x = np.divide(x1, x2, out)\n"
     ]
    },
    {
     "name": "stdout",
     "output_type": "stream",
     "text": [
      "/glade/work/jonahshaw/trend_uncertainty/nathan/OBS_LENS/HadCRUT5/20240820//HadCRUT.5.0.2.0.analysis.anomalies.75.5x5degSpatialTrends.190001-202012.nc\n"
     ]
    },
    {
     "name": "stderr",
     "output_type": "stream",
     "text": [
      "/glade/work/jonahshaw/miniconda3/envs/cheydask/lib/python3.7/site-packages/dask/array/numpy_compat.py:41: RuntimeWarning: invalid value encountered in true_divide\n",
      "  x = np.divide(x1, x2, out)\n"
     ]
    },
    {
     "name": "stdout",
     "output_type": "stream",
     "text": [
      "/glade/work/jonahshaw/trend_uncertainty/nathan/OBS_LENS/HadCRUT5/20240820//HadCRUT.5.0.2.0.analysis.anomalies.76.5x5degSpatialTrends.190001-202012.nc\n"
     ]
    },
    {
     "name": "stderr",
     "output_type": "stream",
     "text": [
      "/glade/work/jonahshaw/miniconda3/envs/cheydask/lib/python3.7/site-packages/dask/array/numpy_compat.py:41: RuntimeWarning: invalid value encountered in true_divide\n",
      "  x = np.divide(x1, x2, out)\n"
     ]
    },
    {
     "name": "stdout",
     "output_type": "stream",
     "text": [
      "/glade/work/jonahshaw/trend_uncertainty/nathan/OBS_LENS/HadCRUT5/20240820//HadCRUT.5.0.2.0.analysis.anomalies.77.5x5degSpatialTrends.190001-202012.nc\n"
     ]
    },
    {
     "name": "stderr",
     "output_type": "stream",
     "text": [
      "/glade/work/jonahshaw/miniconda3/envs/cheydask/lib/python3.7/site-packages/dask/array/numpy_compat.py:41: RuntimeWarning: invalid value encountered in true_divide\n",
      "  x = np.divide(x1, x2, out)\n"
     ]
    },
    {
     "name": "stdout",
     "output_type": "stream",
     "text": [
      "/glade/work/jonahshaw/trend_uncertainty/nathan/OBS_LENS/HadCRUT5/20240820//HadCRUT.5.0.2.0.analysis.anomalies.78.5x5degSpatialTrends.190001-202012.nc\n"
     ]
    },
    {
     "name": "stderr",
     "output_type": "stream",
     "text": [
      "/glade/work/jonahshaw/miniconda3/envs/cheydask/lib/python3.7/site-packages/dask/array/numpy_compat.py:41: RuntimeWarning: invalid value encountered in true_divide\n",
      "  x = np.divide(x1, x2, out)\n"
     ]
    },
    {
     "name": "stdout",
     "output_type": "stream",
     "text": [
      "/glade/work/jonahshaw/trend_uncertainty/nathan/OBS_LENS/HadCRUT5/20240820//HadCRUT.5.0.2.0.analysis.anomalies.79.5x5degSpatialTrends.190001-202012.nc\n"
     ]
    },
    {
     "name": "stderr",
     "output_type": "stream",
     "text": [
      "/glade/work/jonahshaw/miniconda3/envs/cheydask/lib/python3.7/site-packages/dask/array/numpy_compat.py:41: RuntimeWarning: invalid value encountered in true_divide\n",
      "  x = np.divide(x1, x2, out)\n"
     ]
    },
    {
     "name": "stdout",
     "output_type": "stream",
     "text": [
      "/glade/work/jonahshaw/trend_uncertainty/nathan/OBS_LENS/HadCRUT5/20240820//HadCRUT.5.0.2.0.analysis.anomalies.8.5x5degSpatialTrends.190001-202012.nc\n"
     ]
    },
    {
     "name": "stderr",
     "output_type": "stream",
     "text": [
      "/glade/work/jonahshaw/miniconda3/envs/cheydask/lib/python3.7/site-packages/dask/array/numpy_compat.py:41: RuntimeWarning: invalid value encountered in true_divide\n",
      "  x = np.divide(x1, x2, out)\n"
     ]
    },
    {
     "name": "stdout",
     "output_type": "stream",
     "text": [
      "/glade/work/jonahshaw/trend_uncertainty/nathan/OBS_LENS/HadCRUT5/20240820//HadCRUT.5.0.2.0.analysis.anomalies.80.5x5degSpatialTrends.190001-202012.nc\n"
     ]
    },
    {
     "name": "stderr",
     "output_type": "stream",
     "text": [
      "/glade/work/jonahshaw/miniconda3/envs/cheydask/lib/python3.7/site-packages/dask/array/numpy_compat.py:41: RuntimeWarning: invalid value encountered in true_divide\n",
      "  x = np.divide(x1, x2, out)\n"
     ]
    },
    {
     "name": "stdout",
     "output_type": "stream",
     "text": [
      "/glade/work/jonahshaw/trend_uncertainty/nathan/OBS_LENS/HadCRUT5/20240820//HadCRUT.5.0.2.0.analysis.anomalies.81.5x5degSpatialTrends.190001-202012.nc\n"
     ]
    },
    {
     "name": "stderr",
     "output_type": "stream",
     "text": [
      "/glade/work/jonahshaw/miniconda3/envs/cheydask/lib/python3.7/site-packages/dask/array/numpy_compat.py:41: RuntimeWarning: invalid value encountered in true_divide\n",
      "  x = np.divide(x1, x2, out)\n"
     ]
    },
    {
     "name": "stdout",
     "output_type": "stream",
     "text": [
      "/glade/work/jonahshaw/trend_uncertainty/nathan/OBS_LENS/HadCRUT5/20240820//HadCRUT.5.0.2.0.analysis.anomalies.82.5x5degSpatialTrends.190001-202012.nc\n"
     ]
    },
    {
     "name": "stderr",
     "output_type": "stream",
     "text": [
      "/glade/work/jonahshaw/miniconda3/envs/cheydask/lib/python3.7/site-packages/dask/array/numpy_compat.py:41: RuntimeWarning: invalid value encountered in true_divide\n",
      "  x = np.divide(x1, x2, out)\n"
     ]
    },
    {
     "name": "stdout",
     "output_type": "stream",
     "text": [
      "/glade/work/jonahshaw/trend_uncertainty/nathan/OBS_LENS/HadCRUT5/20240820//HadCRUT.5.0.2.0.analysis.anomalies.83.5x5degSpatialTrends.190001-202012.nc\n"
     ]
    },
    {
     "name": "stderr",
     "output_type": "stream",
     "text": [
      "/glade/work/jonahshaw/miniconda3/envs/cheydask/lib/python3.7/site-packages/dask/array/numpy_compat.py:41: RuntimeWarning: invalid value encountered in true_divide\n",
      "  x = np.divide(x1, x2, out)\n"
     ]
    },
    {
     "name": "stdout",
     "output_type": "stream",
     "text": [
      "/glade/work/jonahshaw/trend_uncertainty/nathan/OBS_LENS/HadCRUT5/20240820//HadCRUT.5.0.2.0.analysis.anomalies.84.5x5degSpatialTrends.190001-202012.nc\n"
     ]
    },
    {
     "name": "stderr",
     "output_type": "stream",
     "text": [
      "/glade/work/jonahshaw/miniconda3/envs/cheydask/lib/python3.7/site-packages/dask/array/numpy_compat.py:41: RuntimeWarning: invalid value encountered in true_divide\n",
      "  x = np.divide(x1, x2, out)\n"
     ]
    },
    {
     "name": "stdout",
     "output_type": "stream",
     "text": [
      "/glade/work/jonahshaw/trend_uncertainty/nathan/OBS_LENS/HadCRUT5/20240820//HadCRUT.5.0.2.0.analysis.anomalies.85.5x5degSpatialTrends.190001-202012.nc\n"
     ]
    },
    {
     "name": "stderr",
     "output_type": "stream",
     "text": [
      "/glade/work/jonahshaw/miniconda3/envs/cheydask/lib/python3.7/site-packages/dask/array/numpy_compat.py:41: RuntimeWarning: invalid value encountered in true_divide\n",
      "  x = np.divide(x1, x2, out)\n"
     ]
    },
    {
     "name": "stdout",
     "output_type": "stream",
     "text": [
      "/glade/work/jonahshaw/trend_uncertainty/nathan/OBS_LENS/HadCRUT5/20240820//HadCRUT.5.0.2.0.analysis.anomalies.86.5x5degSpatialTrends.190001-202012.nc\n"
     ]
    },
    {
     "name": "stderr",
     "output_type": "stream",
     "text": [
      "/glade/work/jonahshaw/miniconda3/envs/cheydask/lib/python3.7/site-packages/dask/array/numpy_compat.py:41: RuntimeWarning: invalid value encountered in true_divide\n",
      "  x = np.divide(x1, x2, out)\n"
     ]
    },
    {
     "name": "stdout",
     "output_type": "stream",
     "text": [
      "/glade/work/jonahshaw/trend_uncertainty/nathan/OBS_LENS/HadCRUT5/20240820//HadCRUT.5.0.2.0.analysis.anomalies.87.5x5degSpatialTrends.190001-202012.nc\n"
     ]
    },
    {
     "name": "stderr",
     "output_type": "stream",
     "text": [
      "/glade/work/jonahshaw/miniconda3/envs/cheydask/lib/python3.7/site-packages/dask/array/numpy_compat.py:41: RuntimeWarning: invalid value encountered in true_divide\n",
      "  x = np.divide(x1, x2, out)\n"
     ]
    },
    {
     "name": "stdout",
     "output_type": "stream",
     "text": [
      "/glade/work/jonahshaw/trend_uncertainty/nathan/OBS_LENS/HadCRUT5/20240820//HadCRUT.5.0.2.0.analysis.anomalies.88.5x5degSpatialTrends.190001-202012.nc\n"
     ]
    },
    {
     "name": "stderr",
     "output_type": "stream",
     "text": [
      "/glade/work/jonahshaw/miniconda3/envs/cheydask/lib/python3.7/site-packages/dask/array/numpy_compat.py:41: RuntimeWarning: invalid value encountered in true_divide\n",
      "  x = np.divide(x1, x2, out)\n"
     ]
    },
    {
     "name": "stdout",
     "output_type": "stream",
     "text": [
      "/glade/work/jonahshaw/trend_uncertainty/nathan/OBS_LENS/HadCRUT5/20240820//HadCRUT.5.0.2.0.analysis.anomalies.89.5x5degSpatialTrends.190001-202012.nc\n"
     ]
    },
    {
     "name": "stderr",
     "output_type": "stream",
     "text": [
      "/glade/work/jonahshaw/miniconda3/envs/cheydask/lib/python3.7/site-packages/dask/array/numpy_compat.py:41: RuntimeWarning: invalid value encountered in true_divide\n",
      "  x = np.divide(x1, x2, out)\n"
     ]
    },
    {
     "name": "stdout",
     "output_type": "stream",
     "text": [
      "/glade/work/jonahshaw/trend_uncertainty/nathan/OBS_LENS/HadCRUT5/20240820//HadCRUT.5.0.2.0.analysis.anomalies.9.5x5degSpatialTrends.190001-202012.nc\n"
     ]
    },
    {
     "name": "stderr",
     "output_type": "stream",
     "text": [
      "/glade/work/jonahshaw/miniconda3/envs/cheydask/lib/python3.7/site-packages/dask/array/numpy_compat.py:41: RuntimeWarning: invalid value encountered in true_divide\n",
      "  x = np.divide(x1, x2, out)\n"
     ]
    },
    {
     "name": "stdout",
     "output_type": "stream",
     "text": [
      "/glade/work/jonahshaw/trend_uncertainty/nathan/OBS_LENS/HadCRUT5/20240820//HadCRUT.5.0.2.0.analysis.anomalies.90.5x5degSpatialTrends.190001-202012.nc\n"
     ]
    },
    {
     "name": "stderr",
     "output_type": "stream",
     "text": [
      "/glade/work/jonahshaw/miniconda3/envs/cheydask/lib/python3.7/site-packages/dask/array/numpy_compat.py:41: RuntimeWarning: invalid value encountered in true_divide\n",
      "  x = np.divide(x1, x2, out)\n"
     ]
    },
    {
     "name": "stdout",
     "output_type": "stream",
     "text": [
      "/glade/work/jonahshaw/trend_uncertainty/nathan/OBS_LENS/HadCRUT5/20240820//HadCRUT.5.0.2.0.analysis.anomalies.91.5x5degSpatialTrends.190001-202012.nc\n"
     ]
    },
    {
     "name": "stderr",
     "output_type": "stream",
     "text": [
      "/glade/work/jonahshaw/miniconda3/envs/cheydask/lib/python3.7/site-packages/dask/array/numpy_compat.py:41: RuntimeWarning: invalid value encountered in true_divide\n",
      "  x = np.divide(x1, x2, out)\n"
     ]
    },
    {
     "name": "stdout",
     "output_type": "stream",
     "text": [
      "/glade/work/jonahshaw/trend_uncertainty/nathan/OBS_LENS/HadCRUT5/20240820//HadCRUT.5.0.2.0.analysis.anomalies.92.5x5degSpatialTrends.190001-202012.nc\n"
     ]
    },
    {
     "name": "stderr",
     "output_type": "stream",
     "text": [
      "/glade/work/jonahshaw/miniconda3/envs/cheydask/lib/python3.7/site-packages/dask/array/numpy_compat.py:41: RuntimeWarning: invalid value encountered in true_divide\n",
      "  x = np.divide(x1, x2, out)\n"
     ]
    },
    {
     "name": "stdout",
     "output_type": "stream",
     "text": [
      "/glade/work/jonahshaw/trend_uncertainty/nathan/OBS_LENS/HadCRUT5/20240820//HadCRUT.5.0.2.0.analysis.anomalies.93.5x5degSpatialTrends.190001-202012.nc\n"
     ]
    },
    {
     "name": "stderr",
     "output_type": "stream",
     "text": [
      "/glade/work/jonahshaw/miniconda3/envs/cheydask/lib/python3.7/site-packages/dask/array/numpy_compat.py:41: RuntimeWarning: invalid value encountered in true_divide\n",
      "  x = np.divide(x1, x2, out)\n"
     ]
    },
    {
     "name": "stdout",
     "output_type": "stream",
     "text": [
      "/glade/work/jonahshaw/trend_uncertainty/nathan/OBS_LENS/HadCRUT5/20240820//HadCRUT.5.0.2.0.analysis.anomalies.94.5x5degSpatialTrends.190001-202012.nc\n"
     ]
    },
    {
     "name": "stderr",
     "output_type": "stream",
     "text": [
      "/glade/work/jonahshaw/miniconda3/envs/cheydask/lib/python3.7/site-packages/dask/array/numpy_compat.py:41: RuntimeWarning: invalid value encountered in true_divide\n",
      "  x = np.divide(x1, x2, out)\n"
     ]
    },
    {
     "name": "stdout",
     "output_type": "stream",
     "text": [
      "/glade/work/jonahshaw/trend_uncertainty/nathan/OBS_LENS/HadCRUT5/20240820//HadCRUT.5.0.2.0.analysis.anomalies.95.5x5degSpatialTrends.190001-202012.nc\n"
     ]
    },
    {
     "name": "stderr",
     "output_type": "stream",
     "text": [
      "/glade/work/jonahshaw/miniconda3/envs/cheydask/lib/python3.7/site-packages/dask/array/numpy_compat.py:41: RuntimeWarning: invalid value encountered in true_divide\n",
      "  x = np.divide(x1, x2, out)\n"
     ]
    },
    {
     "name": "stdout",
     "output_type": "stream",
     "text": [
      "/glade/work/jonahshaw/trend_uncertainty/nathan/OBS_LENS/HadCRUT5/20240820//HadCRUT.5.0.2.0.analysis.anomalies.96.5x5degSpatialTrends.190001-202012.nc\n"
     ]
    },
    {
     "name": "stderr",
     "output_type": "stream",
     "text": [
      "/glade/work/jonahshaw/miniconda3/envs/cheydask/lib/python3.7/site-packages/dask/array/numpy_compat.py:41: RuntimeWarning: invalid value encountered in true_divide\n",
      "  x = np.divide(x1, x2, out)\n"
     ]
    },
    {
     "name": "stdout",
     "output_type": "stream",
     "text": [
      "/glade/work/jonahshaw/trend_uncertainty/nathan/OBS_LENS/HadCRUT5/20240820//HadCRUT.5.0.2.0.analysis.anomalies.97.5x5degSpatialTrends.190001-202012.nc\n"
     ]
    },
    {
     "name": "stderr",
     "output_type": "stream",
     "text": [
      "/glade/work/jonahshaw/miniconda3/envs/cheydask/lib/python3.7/site-packages/dask/array/numpy_compat.py:41: RuntimeWarning: invalid value encountered in true_divide\n",
      "  x = np.divide(x1, x2, out)\n"
     ]
    },
    {
     "name": "stdout",
     "output_type": "stream",
     "text": [
      "/glade/work/jonahshaw/trend_uncertainty/nathan/OBS_LENS/HadCRUT5/20240820//HadCRUT.5.0.2.0.analysis.anomalies.98.5x5degSpatialTrends.190001-202012.nc\n"
     ]
    },
    {
     "name": "stderr",
     "output_type": "stream",
     "text": [
      "/glade/work/jonahshaw/miniconda3/envs/cheydask/lib/python3.7/site-packages/dask/array/numpy_compat.py:41: RuntimeWarning: invalid value encountered in true_divide\n",
      "  x = np.divide(x1, x2, out)\n"
     ]
    },
    {
     "name": "stdout",
     "output_type": "stream",
     "text": [
      "/glade/work/jonahshaw/trend_uncertainty/nathan/OBS_LENS/HadCRUT5/20240820//HadCRUT.5.0.2.0.analysis.anomalies.99.5x5degSpatialTrends.190001-202012.nc\n",
      "CPU times: user 14min 36s, sys: 5min 20s, total: 19min 57s\n",
      "Wall time: 21min 50s\n"
     ]
    }
   ],
   "source": [
    "%%time\n",
    "save_path = '/glade/work/jonahshaw/trend_uncertainty/nathan/OBS_LENS/HadCRUT5/20240820/'\n",
    "\n",
    "# Set File list\n",
    "data_paths = hadcrut5_files\n",
    "\n",
    "# Set var\n",
    "var = 'tas'\n",
    "\n",
    "# Set startyears and durations\n",
    "startyears = [1900]\n",
    "_startyear = 1900\n",
    "durations = np.arange(2,121) # Only goes through 2020\n",
    "\n",
    "record_list = []\n",
    "for _data_path in data_paths:\n",
    "        \n",
    "    data = xr.open_dataset(_data_path,chunks={'time': -1})[var]\n",
    "\n",
    "    data = data.sel(time=slice('1900-01-01',None)) # Select post 1900 period\n",
    "\n",
    "    data_ann = data.groupby('time.year').mean(dim='time')\n",
    "    \n",
    "    _endyears = _startyear + durations\n",
    "    _startyear_str = str(_startyear)\n",
    "    \n",
    "    while len(_startyear_str) < 4: # pad with zeros\n",
    "        _startyear_str = '0' + _startyear_str\n",
    "    \n",
    "    data_ann_slice = data_ann.sel(year=slice(_startyear,_startyear+durations[-1]))\n",
    "    \n",
    "    slopes_by_dur = []\n",
    "    \n",
    "    _endyears = _startyear + durations\n",
    "    _startyear_str = str(_startyear)\n",
    "    \n",
    "    slopes_by_dur.append(dask.delayed(calc_trends_noload)(data=data_ann_slice,\n",
    "                                                          var=var,\n",
    "                                                          startyear=_startyear_str,\n",
    "                                                          endyears=_endyears,\n",
    "                                                          wrapper_func=gettrends_wrapper2,\n",
    "                                                          calc_slopes_func=calc_slopes_spatial_ann2,\n",
    "                                                          ))\n",
    "    \n",
    "    slopes_by_dur_computed = dask.compute(*slopes_by_dur)\n",
    "    \n",
    "    filename = _data_path.split('/')[-1][:-3]\n",
    "    \n",
    "    output_string = '%s/%s.5x5degSpatialTrends.190001-202012.nc' % (save_path,filename)\n",
    "    print(output_string)\n",
    "    \n",
    "    slopes_by_dur_computed_final = slopes_by_dur_computed[0].assign_coords({'realization':data.realization}).expand_dims('realization',axis=-1)    \n",
    "    \n",
    "    slopes_by_dur_computed_final.to_netcdf(output_string)\n"
   ]
  },
  {
   "cell_type": "code",
   "execution_count": null,
   "id": "22e8ee45-b72d-4c7b-bdf8-7eb14e27603c",
   "metadata": {},
   "outputs": [],
   "source": []
  }
 ],
 "metadata": {
  "kernelspec": {
   "display_name": "Python [conda env:miniconda3-cheydask]",
   "language": "python",
   "name": "conda-env-miniconda3-cheydask-py"
  },
  "language_info": {
   "codemirror_mode": {
    "name": "ipython",
    "version": 3
   },
   "file_extension": ".py",
   "mimetype": "text/x-python",
   "name": "python",
   "nbconvert_exporter": "python",
   "pygments_lexer": "ipython3",
   "version": "3.7.8"
  }
 },
 "nbformat": 4,
 "nbformat_minor": 5
}
