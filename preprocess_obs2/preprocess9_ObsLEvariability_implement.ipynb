{
 "cells": [
  {
   "cell_type": "markdown",
   "id": "393e9690-046a-420f-9fa7-e15c71a4701f",
   "metadata": {},
   "source": [
    "# Process Obs-LE (Mckinnon) timeseries into variability data"
   ]
  },
  {
   "cell_type": "markdown",
   "id": "36f1618d-39e0-4094-8fc9-78022fdc9293",
   "metadata": {},
   "source": [
    "__0. Is already at 5x5 deg resolution and on IPCC regions (separately).__\n",
    "\n",
    "__1. Use Dask to perform resampling for variability spatially.__\n",
    "\n",
    "Resample for time periods 2-63 years (to compare with 1960-2023 observations) to generate envelopes of internal variability for each region and each model.  \n",
    "\n",
    "- Output is a dataArray for each model with indexed by time period length (2-63 years) and lat-lon gridcell containing unforced TAS trends.\n",
    "\n",
    "- Should remove the forced trend before performing resampling."
   ]
  },
  {
   "cell_type": "markdown",
   "id": "a355c88e-e8cd-4219-bf9c-42c209b50fc2",
   "metadata": {},
   "source": [
    "## Code!"
   ]
  },
  {
   "cell_type": "markdown",
   "id": "082b84c5-caa3-47a5-ac8e-c326602fb031",
   "metadata": {},
   "source": [
    "Most important taken from: trend_uncertainty/spatialdata_preproc.ipynb"
   ]
  },
  {
   "cell_type": "code",
   "execution_count": 16,
   "id": "aada7f1d-1838-488a-a530-c4e5d3f22a4f",
   "metadata": {},
   "outputs": [],
   "source": [
    "import glob\n",
    "import os\n",
    "import numpy as np\n",
    "import xarray as xr\n",
    "import pandas as pd\n",
    "import dask"
   ]
  },
  {
   "cell_type": "code",
   "execution_count": null,
   "id": "3cc80206-1ebf-49b2-ae6c-380cd35fa320",
   "metadata": {},
   "outputs": [],
   "source": [
    "# import sys,warnings\n",
    "# # Add common resources folder to path\n",
    "# sys.path.append('/glade/u/home/jonahshaw/Scripts/git_repos/internalvar-vs-obsunc/')\n",
    "# sys.path.append('/glade/u/home/jonahshaw/Scripts/git_repos/internalvar-vs-obsunc/Common/')\n",
    "\n",
    "# from imports import (\n",
    "#     np, xr, plt, sns, os,\n",
    "#     glob, dask, xe, pd\n",
    "#     )\n",
    "\n",
    "# %matplotlib inline"
   ]
  },
  {
   "cell_type": "markdown",
   "id": "1a66cb3e-3e33-48c5-aeab-29f831e174d8",
   "metadata": {},
   "source": [
    "### Get files."
   ]
  },
  {
   "cell_type": "code",
   "execution_count": 2,
   "id": "9c796646-b882-4c63-bed1-31cdeed0dd8e",
   "metadata": {},
   "outputs": [],
   "source": [
    "obsle_mc_dir = '/glade/u/home/jonahshaw/w/trend_uncertainty/nathan/OBS_LENS/mckinnon_OLENS'"
   ]
  },
  {
   "cell_type": "code",
   "execution_count": 12,
   "id": "99062bae-1b34-4133-ba2c-c21b7cc9fe14",
   "metadata": {},
   "outputs": [],
   "source": [
    "# obsle_spatial_filepaths = glob.glob('%s/*5x5deg.nc' % obsle_mc_dir)\n",
    "obsle_spatial_filepaths = ['/glade/u/home/jonahshaw/w/trend_uncertainty/nathan/OBS_LENS/mckinnon_OLENS/TREFHT_Annual_1921-2014_ensmem1-1000.5x5deg.nc']\n",
    "obsle_ipcc_filepaths    = glob.glob('%s/*IPCCregions.nc' % obsle_mc_dir)"
   ]
  },
  {
   "cell_type": "markdown",
   "id": "738e1e36-e895-492c-a058-ed649b031bd3",
   "metadata": {},
   "source": [
    "## Define functions for resampling."
   ]
  },
  {
   "cell_type": "code",
   "execution_count": 4,
   "id": "f2d80ce2-71c5-44aa-8311-9a7a68b61698",
   "metadata": {},
   "outputs": [],
   "source": [
    "# need a wrapper function because you can't groupby multiple dimensions\n",
    "def gettrends_wrapper2(dataarray,dim,sel_dim='time.year'):\n",
    "    \n",
    "    dataarray[dim] = dataarray[sel_dim]\n",
    "\n",
    "    return dataarray.polyfit(dim=dim,deg=1)['polyfit_coefficients'].sel(degree=1)\n",
    "\n",
    "\n",
    "def calc_slopes_spatial_ann2(data,_startyr,_endyr,wrapper_func):\n",
    "    '''\n",
    "    Separate function for the annual trends because I was dumb.\n",
    "    '''\n",
    "    \n",
    "    tsel = data.sel(year=slice(None,_endyr))\n",
    "    # print(len(tsel.year))\n",
    "    \n",
    "    slopes_endyr_ann = wrapper_func(tsel,dim='year',sel_dim='year').drop('degree')\n",
    "\n",
    "    # slopes_endyr = xr.concat([slopes_endyr,slopes_endyr_ann.assign_coords({'month':13}).expand_dims('month',axis=-1)],dim='month')\n",
    "\n",
    "    slopes_endyr_ann['startyear']  = int(_startyr)\n",
    "    slopes_endyr_ann['duration'] = len(tsel.year)\n",
    "    \n",
    "    return slopes_endyr_ann\n",
    "\n",
    "\n",
    "def calc_trends_noload(data:xr.DataArray,var:str,startyear:str,endyears:np.ndarray,\n",
    "                       wrapper_func,calc_slopes_func):\n",
    "    \n",
    "    '''\n",
    "    Takes data. Computes trends. Quietly and efficiently :)\n",
    "    '''\n",
    "    \n",
    "    slopes_by_dur = []\n",
    "    \n",
    "    for _endyr in endyears: # Dasking here? Yessir.\n",
    "\n",
    "        slopes_by_dur.append(calc_slopes_func(data=data,_startyr=int(startyear),_endyr=_endyr,wrapper_func=wrapper_func))\n",
    "\n",
    "    forced_olrslopes_monthly = xr.concat(slopes_by_dur,dim='duration')\n",
    "    forced_olrslopes_monthly.name=var\n",
    "    \n",
    "    return forced_olrslopes_monthly"
   ]
  },
  {
   "cell_type": "markdown",
   "id": "25fdd6e5-bb73-48fa-b47f-2ad383cc228f",
   "metadata": {},
   "source": [
    "### Perform Resampling"
   ]
  },
  {
   "cell_type": "markdown",
   "id": "a6153feb-32c3-457f-afc4-fef0d328e1fb",
   "metadata": {},
   "source": [
    "#### IPCC Regioned Data"
   ]
  },
  {
   "cell_type": "markdown",
   "id": "38d1d72f-d228-4b60-9580-0beab96aee4d",
   "metadata": {},
   "source": [
    "Here, I can combine the seasonal data into annual data. I just need to be clear about how. Since it won't be a single calendar year."
   ]
  },
  {
   "cell_type": "markdown",
   "id": "65a97aba-8b40-4f2d-87b9-4a137091dbb7",
   "metadata": {},
   "source": [
    "__The solution here is for the \"year\" to begin in December and end in November. If I group by year, this will make everything line up, and I think it makes the most sense.__"
   ]
  },
  {
   "cell_type": "code",
   "execution_count": 14,
   "id": "258e8aa3-7c5c-4d25-a3bc-c5affd0079e8",
   "metadata": {},
   "outputs": [
    {
     "name": "stdout",
     "output_type": "stream",
     "text": [
      "/glade/u/home/jonahshaw/w/trend_uncertainty/nathan/OBS_LENS/mckinnon_OLENS/TREFHT_SON_1921-2014_ensmem1-1000.IPCCregions.nc\n",
      "/glade/u/home/jonahshaw/w/trend_uncertainty/nathan/OBS_LENS/mckinnon_OLENS/TREFHT_MAM_1921-2014_ensmem1-1000.IPCCregions.nc\n",
      "/glade/u/home/jonahshaw/w/trend_uncertainty/nathan/OBS_LENS/mckinnon_OLENS/TREFHT_JJA_1921-2014_ensmem1-1000.IPCCregions.nc\n",
      "/glade/u/home/jonahshaw/w/trend_uncertainty/nathan/OBS_LENS/mckinnon_OLENS/TREFHT_DJF_1921-2014_ensmem1-1000.IPCCregions.nc\n"
     ]
    }
   ],
   "source": [
    "ds_list = []\n",
    "\n",
    "# open_mfdataset doesn't work for some reason. So I open and merge.\n",
    "for _filepath in obsle_ipcc_filepaths:\n",
    "    print(_filepath)\n",
    "    ds_list.append(xr.open_dataset(_filepath))\n",
    "\n",
    "all_ipcc_ds = xr.merge(ds_list)['TREFHT']\n",
    "\n",
    "# We are concerned with annual average trends\n",
    "all_ipcc_ann = all_ipcc_ds.groupby('time.year').mean(dim='time')\n",
    "\n",
    "# Compute the forced response\n",
    "all_ipcc_forcedresponse = all_ipcc_ann.mean(dim='samples')\n",
    "\n",
    "# Compute the variability component by removing the forced trend\n",
    "all_ipcc_variability = all_ipcc_ann - all_ipcc_forcedresponse"
   ]
  },
  {
   "cell_type": "code",
   "execution_count": 33,
   "id": "c9b284e4-3637-46e7-b6d1-85d0dd1bc663",
   "metadata": {},
   "outputs": [
    {
     "name": "stdout",
     "output_type": "stream",
     "text": [
      "CPU times: user 16.2 s, sys: 763 ms, total: 16.9 s\n",
      "Wall time: 18.3 s\n"
     ]
    }
   ],
   "source": [
    "%%time\n",
    "\n",
    "save_path = obsle_mc_dir\n",
    "\n",
    "# Set var\n",
    "var = 'TREFHT'\n",
    "\n",
    "# Set startyears and durations\n",
    "# durations = np.arange(3,35)\n",
    "# durations = np.arange(35,65)\n",
    "startyears = np.arange(1921,1926)\n",
    "durations = np.arange(3,90)\n",
    "\n",
    "# Open multiple files. Faster with Dask client running.\n",
    "data = all_ipcc_variability\n",
    "\n",
    "slopes_by_dur = []\n",
    "\n",
    "# Iterate and calculate trends\n",
    "for _startyear in startyears:\n",
    "    _endyears = _startyear + durations\n",
    "    _startyear_str = str(_startyear)\n",
    "    \n",
    "    while len(_startyear_str) < 4: # pad with zeros\n",
    "        _startyear_str = '0' + _startyear_str\n",
    "    \n",
    "    data_ann_slice = data.sel(year=slice(_startyear,_startyear+durations[-1]))\n",
    "    \n",
    "    slopes_by_dur.append(dask.delayed(calc_trends_noload)(data=data_ann_slice,\n",
    "                                                          var=var,\n",
    "                                                          startyear=_startyear_str,\n",
    "                                                          endyears=_endyears,\n",
    "                                                          wrapper_func=gettrends_wrapper2,\n",
    "                                                          calc_slopes_func=calc_slopes_spatial_ann2,\n",
    "                                                          ))\n",
    "    \n",
    "    \n",
    "    # There are 1000 realizations so I don't need the startyear dimension to get enough samples.\n",
    "    if _startyear_str == '1950': break\n",
    "\n",
    "slopes_by_dur_computed = dask.compute(*slopes_by_dur)\n",
    "out_concat = xr.concat(slopes_by_dur_computed,dim='startyear').compute() # Concatenate along the iterating dimension. Not sure why another compute is needed here."
   ]
  },
  {
   "cell_type": "code",
   "execution_count": 35,
   "id": "9d4ba2b4-83c2-42f5-924a-598d742191bf",
   "metadata": {},
   "outputs": [
    {
     "data": {
      "text/plain": [
       "[<matplotlib.lines.Line2D at 0x14ea1644ac90>]"
      ]
     },
     "execution_count": 35,
     "metadata": {},
     "output_type": "execute_result"
    },
    {
     "data": {
      "image/png": "[encoded data removed]",
      "text/plain": [
       "<Figure size 432x288 with 1 Axes>"
      ]
     },
     "metadata": {
      "needs_background": "light"
     },
     "output_type": "display_data"
    }
   ],
   "source": [
    "# out_concat.sel(RegionIndex=0,startyear=1921).std(dim=['samples']).plot()\n",
    "out_concat.sel(RegionIndex=0).std(dim=['samples','startyear']).plot()"
   ]
  },
  {
   "cell_type": "markdown",
   "id": "99b06704-9c02-4468-8334-fd420f05e3e7",
   "metadata": {},
   "source": [
    "Now that is a nice, pretty smooth line! Weird that it isn't too smooth over 5000 samples..."
   ]
  },
  {
   "cell_type": "code",
   "execution_count": 37,
   "id": "5834dc62-96e6-4e9c-b2ec-221c16d12f8b",
   "metadata": {},
   "outputs": [],
   "source": [
    "out_concat.to_netcdf('%s/TREFHT_Annual_1921-2014.IPCCregions.Trends_startyears_1921_1925.nc' % obsle_mc_dir)"
   ]
  },
  {
   "cell_type": "code",
   "execution_count": 38,
   "id": "2e01396f-a385-4556-82ef-7be67af6f7f6",
   "metadata": {},
   "outputs": [],
   "source": [
    "del out_concat"
   ]
  },
  {
   "cell_type": "markdown",
   "id": "7ec70063-1507-4137-8ef9-7b77c07b7969",
   "metadata": {},
   "source": [
    "#### 5x5 degree data"
   ]
  },
  {
   "cell_type": "markdown",
   "id": "91ac789e-e9d9-4d03-b564-bc7644b6ea5b",
   "metadata": {},
   "source": [
    "Pre-pre-processing. Skip if the annual tseries has already been created."
   ]
  },
  {
   "cell_type": "code",
   "execution_count": 89,
   "id": "9b32db85-7080-4b01-b79c-b3250aad80dd",
   "metadata": {},
   "outputs": [],
   "source": [
    "ds_5x5_list = []\n",
    "\n",
    "# open_mfdataset doesn't work for some reason. So I open and merge.\n",
    "for _filepath in obsle_spatial_filepaths:\n",
    "    \n",
    "    ds_5x5_list.append(xr.open_mfdataset([_filepath])) # Use mfdataset to get it as a dask object\n",
    "\n",
    "all_5x5_ds = xr.merge(ds_5x5_list)['TREFHT']\n",
    "\n",
    "# We are concerned with annual average trends\n",
    "all_5x5_ann = all_5x5_ds.groupby('time.year').mean(dim='time')\n",
    "\n",
    "# Save the annual average because computing it takes a long time.\n",
    "all_5x5_ann.to_netcdf('%s/TREFHT_Annual_1921-2014_ensmem1-1000.5x5deg.nc' % obsle_mc_dir)\n",
    "\n",
    "del all_5x5_ann"
   ]
  },
  {
   "cell_type": "markdown",
   "id": "f2a9f53b-7997-4130-a5d7-cc943b3d5fc9",
   "metadata": {},
   "source": [
    "Pre-processing."
   ]
  },
  {
   "cell_type": "code",
   "execution_count": 39,
   "id": "056414a6-eb06-40fd-abe9-5e40c45c723f",
   "metadata": {},
   "outputs": [],
   "source": [
    "all_5x5_ann = xr.open_dataarray('%s/TREFHT_Annual_1921-2014_ensmem1-1000.5x5deg.nc' % obsle_mc_dir)#,chunks={'year':-1,'lon':2})"
   ]
  },
  {
   "cell_type": "code",
   "execution_count": 41,
   "id": "296b54de-fd83-45fd-ba82-91dd4aa7eb5d",
   "metadata": {},
   "outputs": [
    {
     "name": "stdout",
     "output_type": "stream",
     "text": [
      "CPU times: user 1.03 s, sys: 1.44 s, total: 2.47 s\n",
      "Wall time: 4.95 s\n"
     ]
    }
   ],
   "source": [
    "%%time\n",
    "\n",
    "# Compute the forced response\n",
    "all_5x5_forcedresponse = all_5x5_ann.mean(dim='samples')\n",
    "\n",
    "# Compute the variability component by removing the forced trend\n",
    "all_5x5_variability = all_5x5_ann - all_5x5_forcedresponse"
   ]
  },
  {
   "cell_type": "code",
   "execution_count": 43,
   "id": "61056186-fe48-44a2-a33e-e7baf21d0e7c",
   "metadata": {},
   "outputs": [
    {
     "ename": "NameError",
     "evalue": "name 'all_5x5_forcedresponse' is not defined",
     "output_type": "error",
     "traceback": [
      "\u001b[0;31m---------------------------------------------------------------------------\u001b[0m",
      "\u001b[0;31mNameError\u001b[0m                                 Traceback (most recent call last)",
      "\u001b[0;32m<ipython-input-43-55bdca7f5e4b>\u001b[0m in \u001b[0;36m<module>\u001b[0;34m\u001b[0m\n\u001b[1;32m      3\u001b[0m \u001b[0;34m\u001b[0m\u001b[0m\n\u001b[1;32m      4\u001b[0m \u001b[0;31m# Free up memory.\u001b[0m\u001b[0;34m\u001b[0m\u001b[0;34m\u001b[0m\u001b[0;34m\u001b[0m\u001b[0m\n\u001b[0;32m----> 5\u001b[0;31m \u001b[0;32mdel\u001b[0m \u001b[0mall_5x5_variability\u001b[0m\u001b[0;34m,\u001b[0m \u001b[0mall_5x5_forcedresponse\u001b[0m\u001b[0;34m,\u001b[0m \u001b[0mall_5x5_ann\u001b[0m\u001b[0;34m\u001b[0m\u001b[0;34m\u001b[0m\u001b[0m\n\u001b[0m",
      "\u001b[0;31mNameError\u001b[0m: name 'all_5x5_forcedresponse' is not defined"
     ]
    }
   ],
   "source": [
    "# Chunk pre-dasking\n",
    "all_5x5_variability_chunkd = all_5x5_variability.chunk(chunks={'year':-1,'lon':2})\n",
    "\n",
    "# Free up memory.\n",
    "del all_5x5_variability, all_5x5_forcedresponse, all_5x5_ann"
   ]
  },
  {
   "cell_type": "markdown",
   "id": "784fcbab-83f1-4130-8dd1-f9aab3c09e81",
   "metadata": {},
   "source": [
    "The merging step is really slow if you have to load 8gb into a login node's memory..."
   ]
  },
  {
   "cell_type": "code",
   "execution_count": 45,
   "id": "17b260bc-7700-49d0-b56a-d02c8527d67a",
   "metadata": {
    "tags": []
   },
   "outputs": [
    {
     "name": "stdout",
     "output_type": "stream",
     "text": [
      "CPU times: user 4min 49s, sys: 45.3 s, total: 5min 34s\n",
      "Wall time: 5min 59s\n"
     ]
    }
   ],
   "source": [
    "%%time\n",
    "\n",
    "save_path = obsle_mc_dir\n",
    "\n",
    "# Set var\n",
    "var = 'TREFHT'\n",
    "\n",
    "# Set startyears and durations\n",
    "# startyears = np.arange(1921,2000)\n",
    "# durations = np.arange(3,65)\n",
    "startyears = np.arange(1921,1926)\n",
    "durations = np.arange(3,90)\n",
    "\n",
    "# Open multiple files. Faster with Dask client running.\n",
    "data = all_5x5_variability_chunkd\n",
    "\n",
    "slopes_by_dur = []\n",
    "\n",
    "# Iterate and calculate trends\n",
    "for _startyear in startyears:\n",
    "    print(_startyear, end=\"\")\n",
    "    _endyears = _startyear + durations\n",
    "    _startyear_str = str(_startyear)\n",
    "    \n",
    "    while len(_startyear_str) < 4: # pad with zeros\n",
    "        _startyear_str = '0' + _startyear_str\n",
    "    \n",
    "    data_ann_slice = data.sel(year=slice(_startyear,_startyear+durations[-1]))\n",
    "    \n",
    "    slopes_by_dur.append(dask.delayed(calc_trends_noload)(data=data_ann_slice,\n",
    "                                                          var=var,\n",
    "                                                          startyear=_startyear_str,\n",
    "                                                          endyears=_endyears,\n",
    "                                                          wrapper_func=gettrends_wrapper2,\n",
    "                                                          calc_slopes_func=calc_slopes_spatial_ann2,\n",
    "                                                         ))\n",
    "    \n",
    "    \n",
    "    # There are 1000 realizations so I don't need the startyear dimension to get enough samples.\n",
    "    if _startyear_str == '1922': break\n",
    "\n",
    "slopes_by_dur_computed = dask.compute(*slopes_by_dur)\n",
    "trends_5x5_concat = xr.concat(slopes_by_dur_computed,dim='startyear').compute() # Concatenate along the iterating dimension. Not sure why another compute is needed here."
   ]
  },
  {
   "cell_type": "markdown",
   "id": "376bfac4-e1cb-44c8-abb7-18c0401d4915",
   "metadata": {},
   "source": [
    "Pretty smooth."
   ]
  },
  {
   "cell_type": "code",
   "execution_count": 48,
   "id": "84a73ebd-75de-4e8a-a76c-1d86507f230b",
   "metadata": {},
   "outputs": [
    {
     "data": {
      "text/plain": [
       "[<matplotlib.lines.Line2D at 0x14ea1631b350>]"
      ]
     },
     "execution_count": 48,
     "metadata": {},
     "output_type": "execute_result"
    },
    {
     "data": {
      "image/png": "[encoded data removed]",
      "text/plain": [
       "<Figure size 432x288 with 1 Axes>"
      ]
     },
     "metadata": {
      "needs_background": "light"
     },
     "output_type": "display_data"
    }
   ],
   "source": [
    "trends_5x5_concat.isel(lat=5,lon=5).std(dim=['samples','startyear']).plot()"
   ]
  },
  {
   "cell_type": "code",
   "execution_count": 47,
   "id": "2dbdc978-63ab-4782-8dcf-d8a756a3bd8b",
   "metadata": {},
   "outputs": [],
   "source": [
    "trends_5x5_concat.to_netcdf('%s/TREFHT_Annual_1921-2014.5x5deg.Trends_startyears_1921_1922.nc' % obsle_mc_dir)"
   ]
  },
  {
   "cell_type": "markdown",
   "id": "403781d9-e872-4d05-8919-c03b5122d370",
   "metadata": {},
   "source": [
    "#### The data was too big. (36 gB) So I broke it into smaller pieces to save."
   ]
  },
  {
   "cell_type": "code",
   "execution_count": 3,
   "id": "39328f0b-cbfd-4997-ab13-35946242f80a",
   "metadata": {},
   "outputs": [],
   "source": [
    "trends_5x5_concat = xr.open_dataarray('%s/TREFHT_Annual_1921-2014.5x5deg.Trends_startyears_1921_1950.nc' % obsle_mc_dir,chunks={'samples':10})"
   ]
  },
  {
   "cell_type": "code",
   "execution_count": 18,
   "id": "0c772946-20ae-4c02-90f7-de2bc02e80c5",
   "metadata": {},
   "outputs": [
    {
     "name": "stdout",
     "output_type": "stream",
     "text": [
      "0\n",
      "1\n",
      "2\n",
      "3\n",
      "4\n",
      "5\n",
      "6\n",
      "7\n",
      "8\n",
      "9\n",
      "10\n",
      "11\n",
      "12\n",
      "13\n",
      "14\n",
      "15\n",
      "16\n",
      "17\n",
      "18\n",
      "19\n",
      "20\n",
      "21\n",
      "22\n",
      "23\n",
      "24\n",
      "25\n",
      "26\n",
      "27\n",
      "28\n",
      "29\n",
      "30\n",
      "31\n",
      "32\n",
      "33\n",
      "34\n",
      "35\n",
      "36\n",
      "37\n",
      "38\n",
      "39\n",
      "40\n",
      "41\n",
      "42\n",
      "43\n",
      "44\n",
      "45\n",
      "46\n",
      "47\n",
      "48\n",
      "49\n",
      "50\n",
      "51\n",
      "52\n",
      "53\n",
      "54\n",
      "55\n",
      "56\n",
      "57\n",
      "58\n",
      "59\n",
      "60\n",
      "61\n",
      "62\n",
      "63\n",
      "64\n",
      "65\n",
      "66\n",
      "67\n",
      "68\n",
      "69\n",
      "70\n",
      "71\n",
      "72\n",
      "73\n",
      "74\n",
      "75\n",
      "76\n",
      "77\n",
      "78\n",
      "79\n",
      "80\n",
      "81\n",
      "82\n",
      "83\n",
      "84\n",
      "85\n",
      "86\n",
      "87\n",
      "88\n",
      "89\n",
      "90\n",
      "91\n",
      "92\n",
      "93\n",
      "94\n",
      "95\n",
      "96\n",
      "97\n",
      "98\n",
      "99\n",
      "CPU times: user 15 s, sys: 1min 8s, total: 1min 23s\n",
      "Wall time: 4min 37s\n"
     ]
    }
   ],
   "source": [
    "%%time\n",
    "\n",
    "for i in range(100):\n",
    "    \n",
    "    _sample_range = 10*i + np.arange(1,11,1)\n",
    "    \n",
    "    # print(_sample_range)\n",
    "    \n",
    "    _trend_5x5deg_subset = trends_5x5_concat.sel(samples=_sample_range)\n",
    "    \n",
    "    _outstring = 'TREFHT_Annual_1921-2014.5x5deg.Trends_startyears_1921_1950.Samples%d_%d.nc' % (_sample_range[0],_sample_range[-1])\n",
    "    # print(_outstring)\n",
    "    \n",
    "    _trend_5x5deg_subset.to_netcdf('%s/%s/%s' % (obsle_mc_dir,'TREFHT_5x5deg_AnnualTrends',_outstring))\n",
    "    \n",
    "    print(i)\n",
    "    # if i == 2: break\n",
    "    # break"
   ]
  },
  {
   "cell_type": "markdown",
   "id": "f4cc0782-1f68-4b33-98db-636f2f51328b",
   "metadata": {},
   "source": [
    "Looking good!"
   ]
  },
  {
   "cell_type": "code",
   "execution_count": 19,
   "id": "26556d47-f6f3-4588-93ad-574d8f0ec8b5",
   "metadata": {},
   "outputs": [
    {
     "data": {
      "text/plain": [
       "[<matplotlib.lines.Line2D at 0x2b86ddc84410>]"
      ]
     },
     "execution_count": 19,
     "metadata": {},
     "output_type": "execute_result"
    },
    {
     "data": {
      "image/png": "[encoded data removed]",
      "text/plain": [
       "<Figure size 432x288 with 1 Axes>"
      ]
     },
     "metadata": {
      "needs_background": "light"
     },
     "output_type": "display_data"
    }
   ],
   "source": [
    "_trend_5x5deg_subset.isel(lat=5,lon=5).std(dim=['samples','startyear']).plot()"
   ]
  },
  {
   "cell_type": "code",
   "execution_count": null,
   "id": "cd7dc996-93f8-4065-ab55-8ac883ed883b",
   "metadata": {},
   "outputs": [],
   "source": []
  }
 ],
 "metadata": {
  "kernelspec": {
   "display_name": "Python [conda env:miniconda3-cheydask]",
   "language": "python",
   "name": "conda-env-miniconda3-cheydask-py"
  },
  "language_info": {
   "codemirror_mode": {
    "name": "ipython",
    "version": 3
   },
   "file_extension": ".py",
   "mimetype": "text/x-python",
   "name": "python",
   "nbconvert_exporter": "python",
   "pygments_lexer": "ipython3",
   "version": "3.7.8"
  }
 },
 "nbformat": 4,
 "nbformat_minor": 5
}
