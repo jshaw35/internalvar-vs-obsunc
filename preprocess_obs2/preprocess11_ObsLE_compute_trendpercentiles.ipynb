{
 "cells": [
  {
   "cell_type": "markdown",
   "id": "b1014406-41cb-4418-81fb-232d633a66fd",
   "metadata": {},
   "source": [
    "# Compute percentiles on the trends for both regional and spatial processed data"
   ]
  },
  {
   "cell_type": "markdown",
   "id": "7a7e6591-838a-4d52-93d0-c92ccb06fc90",
   "metadata": {},
   "source": [
    "### Imports"
   ]
  },
  {
   "cell_type": "code",
   "execution_count": 1,
   "id": "8431c32c-d312-4a80-b8f4-8a0b85b81221",
   "metadata": {},
   "outputs": [],
   "source": [
    "import glob\n",
    "import os\n",
    "import numpy as np\n",
    "import xarray as xr\n",
    "\n",
    "%matplotlib inline"
   ]
  },
  {
   "cell_type": "markdown",
   "id": "c86383b5-6381-4db0-93ec-f142cab38924",
   "metadata": {},
   "source": [
    "### Define functions"
   ]
  },
  {
   "cell_type": "code",
   "execution_count": 2,
   "id": "9ba6c103-27d1-4b0a-8204-904328f2f971",
   "metadata": {},
   "outputs": [],
   "source": [
    "# These functions allow me to calculate a percentile across all variables for each month of the year. \n",
    "# Essentially a poorman's version of creating the numpy.percentile function within xarray. But it works!\n",
    "\n",
    "def xr_percentile_wrapper(nparray,q,axis):\n",
    "    '''\n",
    "    Wrapper for a non-xarray function so that it returns a DataArray object.\n",
    "    I am using nanpercentile here because it handles all cases.\n",
    "    '''\n",
    "    return xr.DataArray(np.nanpercentile(nparray,q=q,axis=axis))\n",
    "\n",
    "def percentile_monthly_wrapper(data,dim,q,axis):\n",
    "    \n",
    "    return data.groupby(dim).map(xr_percentile_wrapper,q=q,axis=axis)"
   ]
  },
  {
   "cell_type": "code",
   "execution_count": 3,
   "id": "e181837b-0650-46da-86ad-b3f56a30870f",
   "metadata": {},
   "outputs": [],
   "source": [
    "def percentile_vec(data,core_dim:str,q,**kwargs):\n",
    "    \n",
    "    data_chunk = data.chunk({core_dim:-1}) # needed!\n",
    "\n",
    "    res_out = xr.apply_ufunc(np.nanpercentile,              # Function to apply\n",
    "                             data_chunk,                      # Positional arguments for the function\n",
    "                             input_core_dims=[[core_dim]],    # Dimension(s) to apply the function over\n",
    "                             kwargs={**{'q':q}, **kwargs},                   # Keyword arguments for the function\n",
    "                             # kwargs=kwargs,                   # Keyword arguments for the function\n",
    "                             dask=\"parallelized\",             # These may be necessary for efficient use via dask.\n",
    "                             output_dtypes=['float64'],\n",
    "                             vectorize = True)                # Vectorize\n",
    "    \n",
    "    return res_out\n",
    "\n",
    "\n",
    "# You can also do this in numpy if you are ok converting back to xarray\n",
    "# out_np = np.nanpercentile(data,q=95,axis=1,keepdims=False)"
   ]
  },
  {
   "cell_type": "code",
   "execution_count": 4,
   "id": "c94bfd4c-8d26-4e22-a698-e469bd8c363c",
   "metadata": {},
   "outputs": [],
   "source": [
    "def percentile_vec_mult(data,core_dims:list,q,**kwargs):\n",
    "    '''\n",
    "    Handle multiple core dimensions.\n",
    "    '''\n",
    "    chunk_dict = {}\n",
    "    for i in core_dims:\n",
    "        chunk_dict[i] = -1\n",
    "    \n",
    "    data_chunk = data.chunk(chunk_dict) # needed!\n",
    "\n",
    "    res_out = xr.apply_ufunc(np.nanpercentile,              # Function to apply\n",
    "                             data_chunk,                      # Positional arguments for the function\n",
    "                             input_core_dims=[core_dims],    # Dimension(s) to apply the function over\n",
    "                             kwargs={**{'q':q}, **kwargs},                   # Keyword arguments for the function\n",
    "                             # kwargs=kwargs,                   # Keyword arguments for the function\n",
    "                             dask=\"parallelized\",             # These may be necessary for efficient use via dask.\n",
    "                             output_dtypes=['float64'],\n",
    "                             vectorize = True)                # Vectorize\n",
    "    \n",
    "    return res_out\n",
    "\n",
    "\n",
    "# You can also do this in numpy if you are ok converting back to xarray\n",
    "# out_np = np.nanpercentile(data,q=95,axis=1,keepdims=False)"
   ]
  },
  {
   "cell_type": "markdown",
   "id": "8f895851-5fda-4e68-8b02-d0b462a037a8",
   "metadata": {},
   "source": [
    "### Load and process regional trend data"
   ]
  },
  {
   "cell_type": "markdown",
   "id": "f6c8f6e1-c07b-428c-b6bd-08656a851160",
   "metadata": {},
   "source": [
    "#### Models"
   ]
  },
  {
   "cell_type": "code",
   "execution_count": 5,
   "id": "e5157658-24e0-49cd-9b54-71dbbcd8d24b",
   "metadata": {},
   "outputs": [],
   "source": [
    "# I need to go from the CAM output variables to the CMOR/CMIP standard names.\n",
    "obsle_tseries_dir = '/glade/u/home/jonahshaw/w/trend_uncertainty/nathan/OBS_LENS/mckinnon_OLENS/'\n",
    "spatial_5x5deg_subdir = 'TREFHT_5x5deg_AnnualTrends'\n",
    "\n",
    "cesm1_cmor_var_dict = {'ts':'TS','tas':'TREFHT','psl':'PSL'}"
   ]
  },
  {
   "cell_type": "code",
   "execution_count": 6,
   "id": "9943ff9b-99bb-49bc-9345-365c477eec2a",
   "metadata": {},
   "outputs": [
    {
     "data": {
      "text/plain": [
       "['TREFHT_Annual_1921-2014.IPCCregions.Trends_startyears_1921_1950.nc',\n",
       " 'TREFHT_DJF_1921-2014_ensmem1-1000.5x5deg.nc',\n",
       " 'TREFHT_SON_1921-2014_ensmem1-1000.5x5deg.nc',\n",
       " 'TREFHT_Annual_1921-2014.5x5deg.Trends_startyears_1921_1950.nc',\n",
       " 'TREFHT_JJA_1921-2014_ensmem1-1000.5x5deg.nc',\n",
       " 'TREFHT_Annual_1921-2014.5x5deg.Trends_startyears_1921_1950.Percentiles.nc',\n",
       " 'TREFHT_Annual_1921-2014.5x5deg.Trends_startyears_1921_1922.nc',\n",
       " 'TREFHT_SON_1921-2014_ensmem1-1000.IPCCregions.nc',\n",
       " 'TREFHT_Annual_1921-2014_ensmem1-1000.5x5deg.nc',\n",
       " 'TREFHT_MAM_1921-2014_ensmem1-1000.5x5deg.nc',\n",
       " 'TREFHT_MAM_1921-2014_ensmem1-1000.IPCCregions.nc',\n",
       " 'TREFHT_JJA_1921-2014_ensmem1-1000.IPCCregions.nc',\n",
       " 'TREFHT_DJF_1921-2014_ensmem1-1000.IPCCregions.nc',\n",
       " 'TREFHT_5x5deg_AnnualTrends',\n",
       " 'TREFHT_Annual_1921-2014.IPCCregions.Trends_startyears_1921_1925.nc',\n",
       " 'TREFHT_Annual_1921-2014.IPCCregions.Trends_startyears_1921_1950.Percentiles.nc']"
      ]
     },
     "execution_count": 6,
     "metadata": {},
     "output_type": "execute_result"
    }
   ],
   "source": [
    "os.listdir(obsle_tseries_dir)"
   ]
  },
  {
   "cell_type": "code",
   "execution_count": 7,
   "id": "f68ba34e-757b-4683-913c-20362bc8275b",
   "metadata": {},
   "outputs": [],
   "source": [
    "obsle_ipcc_trends_filepath = glob.glob(\"%s/TREFHT_Annual_1921-2014.IPCCregions.Trends_startyears_1921_1925.nc\" % (obsle_tseries_dir))\n",
    "obsle_5x5_trend_filepath2  = glob.glob(\"%s/TREFHT_Annual_1921-2014.5x5deg.Trends_startyears_1921_1922.nc\" % (obsle_tseries_dir))"
   ]
  },
  {
   "cell_type": "code",
   "execution_count": 7,
   "id": "4d3e5cd7-d447-4fc7-ac3d-2448f1edc964",
   "metadata": {},
   "outputs": [],
   "source": [
    "# obsle_ipcc_trends_filepath = glob.glob('%s/TREFHT_Annual_1921-2014.IPCCregions.Trends_startyears_1921_1950.nc' % (obsle_tseries_dir))\n",
    "# obsle_5x5_trend_filepath   = glob.glob('%s/%s/TREFHT_Annual_1921-2014.5x5deg.Trends_startyears_1921_1950.Samples*.nc' % (obsle_tseries_dir,spatial_5x5deg_subdir))\n",
    "# obsle_5x5_trend_filepath.sort()\n",
    "\n",
    "# obsle_5x5_trend_filepath2  = glob.glob('%s/TREFHT_Annual_1921-2014.5x5deg.Trends_startyears_1921_1950*.nc' % (obsle_tseries_dir))"
   ]
  },
  {
   "cell_type": "markdown",
   "id": "d74a6391-5393-494c-ab07-e5cd0b7e1e6b",
   "metadata": {},
   "source": [
    "Load the IPCC region trend data."
   ]
  },
  {
   "cell_type": "markdown",
   "id": "b69abbb8-721c-4c27-85f3-cd84fb3617a7",
   "metadata": {},
   "source": [
    "### Compute trend percentiles (regional)"
   ]
  },
  {
   "cell_type": "markdown",
   "id": "38728f76-656f-4b91-862c-8cf4e6aa36d6",
   "metadata": {},
   "source": [
    "Calculate a 95% confidence interval on the PI-Control trends."
   ]
  },
  {
   "cell_type": "markdown",
   "id": "b2619bd4-02e8-4baf-bba7-96a647085e67",
   "metadata": {},
   "source": [
    "Takes 5 minutes with 1 dimension by 10 seconds with 2??"
   ]
  },
  {
   "cell_type": "code",
   "execution_count": 8,
   "id": "8b12dee2-fbce-4530-bfc9-173e303c1fa6",
   "metadata": {},
   "outputs": [],
   "source": [
    "obsle_ipcc_trends_all   = xr.open_dataarray(*obsle_ipcc_trends_filepath).rename('tas')"
   ]
  },
  {
   "cell_type": "code",
   "execution_count": 9,
   "id": "2ec060ab-6bc8-4ba3-a909-a45a8f7afad9",
   "metadata": {},
   "outputs": [
    {
     "name": "stdout",
     "output_type": "stream",
     "text": [
      "CPU times: user 1.28 s, sys: 187 ms, total: 1.47 s\n",
      "Wall time: 2.27 s\n"
     ]
    }
   ],
   "source": [
    "%%time\n",
    "\n",
    "obsle_pic_trends_2_5perc = percentile_vec_mult(obsle_ipcc_trends_all,q=2.5,core_dims=['startyear','samples']).compute()\n",
    "obsle_pic_trends_97_5perc = percentile_vec_mult(obsle_ipcc_trends_all,q=97.5,core_dims=['startyear','samples']).compute()"
   ]
  },
  {
   "cell_type": "code",
   "execution_count": 13,
   "id": "a5e708a1-fc1d-47f4-9a51-013ceba29fcb",
   "metadata": {},
   "outputs": [],
   "source": [
    "obsle_ipccregion_trends_percentiles = xr.merge([obsle_pic_trends_2_5perc.assign_coords({'percentile':2.5}).expand_dims('percentile',axis=-1),\n",
    "                                                obsle_pic_trends_97_5perc.assign_coords({'percentile':97.5}).expand_dims('percentile',axis=-1)])\n",
    "\n",
    "filename = 'TREFHT_Annual_1921-2014.IPCCregions.Trends_startyears_1921_1925.Percentiles.nc'\n",
    "\n",
    "obsle_ipccregion_trends_percentiles.to_netcdf('%s/%s' % (obsle_tseries_dir,filename))"
   ]
  },
  {
   "cell_type": "markdown",
   "id": "f9ab91b0-2dec-43e4-87bb-852c353a4afc",
   "metadata": {},
   "source": [
    "Test plot looks good."
   ]
  },
  {
   "cell_type": "markdown",
   "id": "27cb51fb-e9aa-49a4-8a3f-e99fc5caf945",
   "metadata": {},
   "source": [
    "Not very smooth here now that I am sampling fewer years."
   ]
  },
  {
   "cell_type": "code",
   "execution_count": 14,
   "id": "b380f18e-07d7-4f12-987c-73805f7fec74",
   "metadata": {},
   "outputs": [
    {
     "data": {
      "text/plain": [
       "[<matplotlib.lines.Line2D at 0x14ca64540750>]"
      ]
     },
     "execution_count": 14,
     "metadata": {},
     "output_type": "execute_result"
    },
    {
     "data": {
      "image/png": "[encoded data removed]",
      "text/plain": [
       "<Figure size 432x288 with 1 Axes>"
      ]
     },
     "metadata": {
      "needs_background": "light"
     },
     "output_type": "display_data"
    }
   ],
   "source": [
    "RegionIndex = 7\n",
    "\n",
    "obsle_ipccregion_trends_percentiles['tas'].sel(RegionIndex=RegionIndex,percentile=2.5).plot()\n",
    "obsle_ipccregion_trends_percentiles['tas'].sel(RegionIndex=RegionIndex,percentile=97.5).plot()"
   ]
  },
  {
   "cell_type": "code",
   "execution_count": 15,
   "id": "48f24a01-427a-4fd1-9fe1-d02cb54bc692",
   "metadata": {},
   "outputs": [],
   "source": [
    "del obsle_ipccregion_trends_percentiles,obsle_pic_trends_2_5perc,obsle_pic_trends_97_5perc,obsle_ipcc_trends_all"
   ]
  },
  {
   "cell_type": "markdown",
   "id": "8750652c-732e-46e5-aa8b-e6dc9563cf40",
   "metadata": {},
   "source": [
    "### Compute trend percentiles (spatial 5x5 deg.)"
   ]
  },
  {
   "cell_type": "markdown",
   "id": "b3408e9e-14bb-48a0-969c-40ea240ee5a6",
   "metadata": {},
   "source": [
    "New approach"
   ]
  },
  {
   "cell_type": "code",
   "execution_count": 16,
   "id": "cbbe4919-ef0f-41f2-8309-6bedebea5f9b",
   "metadata": {},
   "outputs": [],
   "source": [
    "# obsle_spatial_trends_all = xr.open_mfdataset(obsle_5x5_trend_filepath,chunks={'startyear':-1,'samples':-1}).rename({'TREFHT':'tas'})\n",
    "obsle_spatial_trends_all = xr.open_dataarray(*obsle_5x5_trend_filepath2,chunks={'startyear':-1,'samples':-1,'duration':1}).rename('tas')\n"
   ]
  },
  {
   "cell_type": "code",
   "execution_count": 17,
   "id": "f0d1b333-3877-4d0d-a838-0bb969425761",
   "metadata": {},
   "outputs": [
    {
     "data": {
      "text/html": [
       "<div><svg style=\"position: absolute; width: 0; height: 0; overflow: hidden\">\n",
       "<defs>\n",
       "<symbol id=\"icon-database\" viewBox=\"0 0 32 32\">\n",
       "<path d=\"M16 0c-8.837 0-16 2.239-16 5v4c0 2.761 7.163 5 16 5s16-2.239 16-5v-4c0-2.761-7.163-5-16-5z\"></path>\n",
       "<path d=\"M16 17c-8.837 0-16-2.239-16-5v6c0 2.761 7.163 5 16 5s16-2.239 16-5v-6c0 2.761-7.163 5-16 5z\"></path>\n",
       "<path d=\"M16 26c-8.837 0-16-2.239-16-5v6c0 2.761 7.163 5 16 5s16-2.239 16-5v-6c0 2.761-7.163 5-16 5z\"></path>\n",
       "</symbol>\n",
       "<symbol id=\"icon-file-text2\" viewBox=\"0 0 32 32\">\n",
       "<path d=\"M28.681 7.159c-0.694-0.947-1.662-2.053-2.724-3.116s-2.169-2.030-3.116-2.724c-1.612-1.182-2.393-1.319-2.841-1.319h-15.5c-1.378 0-2.5 1.121-2.5 2.5v27c0 1.378 1.122 2.5 2.5 2.5h23c1.378 0 2.5-1.122 2.5-2.5v-19.5c0-0.448-0.137-1.23-1.319-2.841zM24.543 5.457c0.959 0.959 1.712 1.825 2.268 2.543h-4.811v-4.811c0.718 0.556 1.584 1.309 2.543 2.268zM28 29.5c0 0.271-0.229 0.5-0.5 0.5h-23c-0.271 0-0.5-0.229-0.5-0.5v-27c0-0.271 0.229-0.5 0.5-0.5 0 0 15.499-0 15.5 0v7c0 0.552 0.448 1 1 1h7v19.5z\"></path>\n",
       "<path d=\"M23 26h-14c-0.552 0-1-0.448-1-1s0.448-1 1-1h14c0.552 0 1 0.448 1 1s-0.448 1-1 1z\"></path>\n",
       "<path d=\"M23 22h-14c-0.552 0-1-0.448-1-1s0.448-1 1-1h14c0.552 0 1 0.448 1 1s-0.448 1-1 1z\"></path>\n",
       "<path d=\"M23 18h-14c-0.552 0-1-0.448-1-1s0.448-1 1-1h14c0.552 0 1 0.448 1 1s-0.448 1-1 1z\"></path>\n",
       "</symbol>\n",
       "</defs>\n",
       "</svg>\n",
       "<style>/* CSS stylesheet for displaying xarray objects in jupyterlab.\n",
       " *\n",
       " */\n",
       "\n",
       ":root {\n",
       "  --xr-font-color0: var(--jp-content-font-color0, rgba(0, 0, 0, 1));\n",
       "  --xr-font-color2: var(--jp-content-font-color2, rgba(0, 0, 0, 0.54));\n",
       "  --xr-font-color3: var(--jp-content-font-color3, rgba(0, 0, 0, 0.38));\n",
       "  --xr-border-color: var(--jp-border-color2, #e0e0e0);\n",
       "  --xr-disabled-color: var(--jp-layout-color3, #bdbdbd);\n",
       "  --xr-background-color: var(--jp-layout-color0, white);\n",
       "  --xr-background-color-row-even: var(--jp-layout-color1, white);\n",
       "  --xr-background-color-row-odd: var(--jp-layout-color2, #eeeeee);\n",
       "}\n",
       "\n",
       "html[theme=dark],\n",
       "body.vscode-dark {\n",
       "  --xr-font-color0: rgba(255, 255, 255, 1);\n",
       "  --xr-font-color2: rgba(255, 255, 255, 0.54);\n",
       "  --xr-font-color3: rgba(255, 255, 255, 0.38);\n",
       "  --xr-border-color: #1F1F1F;\n",
       "  --xr-disabled-color: #515151;\n",
       "  --xr-background-color: #111111;\n",
       "  --xr-background-color-row-even: #111111;\n",
       "  --xr-background-color-row-odd: #313131;\n",
       "}\n",
       "\n",
       ".xr-wrap {\n",
       "  display: block;\n",
       "  min-width: 300px;\n",
       "  max-width: 700px;\n",
       "}\n",
       "\n",
       ".xr-text-repr-fallback {\n",
       "  /* fallback to plain text repr when CSS is not injected (untrusted notebook) */\n",
       "  display: none;\n",
       "}\n",
       "\n",
       ".xr-header {\n",
       "  padding-top: 6px;\n",
       "  padding-bottom: 6px;\n",
       "  margin-bottom: 4px;\n",
       "  border-bottom: solid 1px var(--xr-border-color);\n",
       "}\n",
       "\n",
       ".xr-header > div,\n",
       ".xr-header > ul {\n",
       "  display: inline;\n",
       "  margin-top: 0;\n",
       "  margin-bottom: 0;\n",
       "}\n",
       "\n",
       ".xr-obj-type,\n",
       ".xr-array-name {\n",
       "  margin-left: 2px;\n",
       "  margin-right: 10px;\n",
       "}\n",
       "\n",
       ".xr-obj-type {\n",
       "  color: var(--xr-font-color2);\n",
       "}\n",
       "\n",
       ".xr-sections {\n",
       "  padding-left: 0 !important;\n",
       "  display: grid;\n",
       "  grid-template-columns: 150px auto auto 1fr 20px 20px;\n",
       "}\n",
       "\n",
       ".xr-section-item {\n",
       "  display: contents;\n",
       "}\n",
       "\n",
       ".xr-section-item input {\n",
       "  display: none;\n",
       "}\n",
       "\n",
       ".xr-section-item input + label {\n",
       "  color: var(--xr-disabled-color);\n",
       "}\n",
       "\n",
       ".xr-section-item input:enabled + label {\n",
       "  cursor: pointer;\n",
       "  color: var(--xr-font-color2);\n",
       "}\n",
       "\n",
       ".xr-section-item input:enabled + label:hover {\n",
       "  color: var(--xr-font-color0);\n",
       "}\n",
       "\n",
       ".xr-section-summary {\n",
       "  grid-column: 1;\n",
       "  color: var(--xr-font-color2);\n",
       "  font-weight: 500;\n",
       "}\n",
       "\n",
       ".xr-section-summary > span {\n",
       "  display: inline-block;\n",
       "  padding-left: 0.5em;\n",
       "}\n",
       "\n",
       ".xr-section-summary-in:disabled + label {\n",
       "  color: var(--xr-font-color2);\n",
       "}\n",
       "\n",
       ".xr-section-summary-in + label:before {\n",
       "  display: inline-block;\n",
       "  content: '►';\n",
       "  font-size: 11px;\n",
       "  width: 15px;\n",
       "  text-align: center;\n",
       "}\n",
       "\n",
       ".xr-section-summary-in:disabled + label:before {\n",
       "  color: var(--xr-disabled-color);\n",
       "}\n",
       "\n",
       ".xr-section-summary-in:checked + label:before {\n",
       "  content: '▼';\n",
       "}\n",
       "\n",
       ".xr-section-summary-in:checked + label > span {\n",
       "  display: none;\n",
       "}\n",
       "\n",
       ".xr-section-summary,\n",
       ".xr-section-inline-details {\n",
       "  padding-top: 4px;\n",
       "  padding-bottom: 4px;\n",
       "}\n",
       "\n",
       ".xr-section-inline-details {\n",
       "  grid-column: 2 / -1;\n",
       "}\n",
       "\n",
       ".xr-section-details {\n",
       "  display: none;\n",
       "  grid-column: 1 / -1;\n",
       "  margin-bottom: 5px;\n",
       "}\n",
       "\n",
       ".xr-section-summary-in:checked ~ .xr-section-details {\n",
       "  display: contents;\n",
       "}\n",
       "\n",
       ".xr-array-wrap {\n",
       "  grid-column: 1 / -1;\n",
       "  display: grid;\n",
       "  grid-template-columns: 20px auto;\n",
       "}\n",
       "\n",
       ".xr-array-wrap > label {\n",
       "  grid-column: 1;\n",
       "  vertical-align: top;\n",
       "}\n",
       "\n",
       ".xr-preview {\n",
       "  color: var(--xr-font-color3);\n",
       "}\n",
       "\n",
       ".xr-array-preview,\n",
       ".xr-array-data {\n",
       "  padding: 0 5px !important;\n",
       "  grid-column: 2;\n",
       "}\n",
       "\n",
       ".xr-array-data,\n",
       ".xr-array-in:checked ~ .xr-array-preview {\n",
       "  display: none;\n",
       "}\n",
       "\n",
       ".xr-array-in:checked ~ .xr-array-data,\n",
       ".xr-array-preview {\n",
       "  display: inline-block;\n",
       "}\n",
       "\n",
       ".xr-dim-list {\n",
       "  display: inline-block !important;\n",
       "  list-style: none;\n",
       "  padding: 0 !important;\n",
       "  margin: 0;\n",
       "}\n",
       "\n",
       ".xr-dim-list li {\n",
       "  display: inline-block;\n",
       "  padding: 0;\n",
       "  margin: 0;\n",
       "}\n",
       "\n",
       ".xr-dim-list:before {\n",
       "  content: '(';\n",
       "}\n",
       "\n",
       ".xr-dim-list:after {\n",
       "  content: ')';\n",
       "}\n",
       "\n",
       ".xr-dim-list li:not(:last-child):after {\n",
       "  content: ',';\n",
       "  padding-right: 5px;\n",
       "}\n",
       "\n",
       ".xr-has-index {\n",
       "  font-weight: bold;\n",
       "}\n",
       "\n",
       ".xr-var-list,\n",
       ".xr-var-item {\n",
       "  display: contents;\n",
       "}\n",
       "\n",
       ".xr-var-item > div,\n",
       ".xr-var-item label,\n",
       ".xr-var-item > .xr-var-name span {\n",
       "  background-color: var(--xr-background-color-row-even);\n",
       "  margin-bottom: 0;\n",
       "}\n",
       "\n",
       ".xr-var-item > .xr-var-name:hover span {\n",
       "  padding-right: 5px;\n",
       "}\n",
       "\n",
       ".xr-var-list > li:nth-child(odd) > div,\n",
       ".xr-var-list > li:nth-child(odd) > label,\n",
       ".xr-var-list > li:nth-child(odd) > .xr-var-name span {\n",
       "  background-color: var(--xr-background-color-row-odd);\n",
       "}\n",
       "\n",
       ".xr-var-name {\n",
       "  grid-column: 1;\n",
       "}\n",
       "\n",
       ".xr-var-dims {\n",
       "  grid-column: 2;\n",
       "}\n",
       "\n",
       ".xr-var-dtype {\n",
       "  grid-column: 3;\n",
       "  text-align: right;\n",
       "  color: var(--xr-font-color2);\n",
       "}\n",
       "\n",
       ".xr-var-preview {\n",
       "  grid-column: 4;\n",
       "}\n",
       "\n",
       ".xr-var-name,\n",
       ".xr-var-dims,\n",
       ".xr-var-dtype,\n",
       ".xr-preview,\n",
       ".xr-attrs dt {\n",
       "  white-space: nowrap;\n",
       "  overflow: hidden;\n",
       "  text-overflow: ellipsis;\n",
       "  padding-right: 10px;\n",
       "}\n",
       "\n",
       ".xr-var-name:hover,\n",
       ".xr-var-dims:hover,\n",
       ".xr-var-dtype:hover,\n",
       ".xr-attrs dt:hover {\n",
       "  overflow: visible;\n",
       "  width: auto;\n",
       "  z-index: 1;\n",
       "}\n",
       "\n",
       ".xr-var-attrs,\n",
       ".xr-var-data {\n",
       "  display: none;\n",
       "  background-color: var(--xr-background-color) !important;\n",
       "  padding-bottom: 5px !important;\n",
       "}\n",
       "\n",
       ".xr-var-attrs-in:checked ~ .xr-var-attrs,\n",
       ".xr-var-data-in:checked ~ .xr-var-data {\n",
       "  display: block;\n",
       "}\n",
       "\n",
       ".xr-var-data > table {\n",
       "  float: right;\n",
       "}\n",
       "\n",
       ".xr-var-name span,\n",
       ".xr-var-data,\n",
       ".xr-attrs {\n",
       "  padding-left: 25px !important;\n",
       "}\n",
       "\n",
       ".xr-attrs,\n",
       ".xr-var-attrs,\n",
       ".xr-var-data {\n",
       "  grid-column: 1 / -1;\n",
       "}\n",
       "\n",
       "dl.xr-attrs {\n",
       "  padding: 0;\n",
       "  margin: 0;\n",
       "  display: grid;\n",
       "  grid-template-columns: 125px auto;\n",
       "}\n",
       "\n",
       ".xr-attrs dt, dd {\n",
       "  padding: 0;\n",
       "  margin: 0;\n",
       "  float: left;\n",
       "  padding-right: 10px;\n",
       "  width: auto;\n",
       "}\n",
       "\n",
       ".xr-attrs dt {\n",
       "  font-weight: normal;\n",
       "  grid-column: 1;\n",
       "}\n",
       "\n",
       ".xr-attrs dt:hover span {\n",
       "  display: inline-block;\n",
       "  background: var(--xr-background-color);\n",
       "  padding-right: 10px;\n",
       "}\n",
       "\n",
       ".xr-attrs dd {\n",
       "  grid-column: 2;\n",
       "  white-space: pre-wrap;\n",
       "  word-break: break-all;\n",
       "}\n",
       "\n",
       ".xr-icon-database,\n",
       ".xr-icon-file-text2 {\n",
       "  display: inline-block;\n",
       "  vertical-align: middle;\n",
       "  width: 1em;\n",
       "  height: 1.5em !important;\n",
       "  stroke-width: 0;\n",
       "  stroke: currentColor;\n",
       "  fill: currentColor;\n",
       "}\n",
       "</style><pre class='xr-text-repr-fallback'>&lt;xarray.DataArray &#x27;tas&#x27; (startyear: 2, duration: 87, samples: 1000, lat: 36, lon: 72)&gt;\n",
       "dask.array&lt;open_dataset-1d42451df23b99a6fb41e8a0b9393c41TREFHT, shape=(2, 87, 1000, 36, 72), dtype=float64, chunksize=(2, 1, 1000, 36, 72), chunktype=numpy.ndarray&gt;\n",
       "Coordinates:\n",
       "  * samples    (samples) float64 1.0 2.0 3.0 4.0 5.0 ... 997.0 998.0 999.0 1e+03\n",
       "  * duration   (duration) int64 4 5 6 7 8 9 10 11 12 ... 83 84 85 86 87 88 89 90\n",
       "  * lat        (lat) float64 -87.5 -82.5 -77.5 -72.5 ... 72.5 77.5 82.5 87.5\n",
       "  * lon        (lon) float64 -177.5 -172.5 -167.5 -162.5 ... 167.5 172.5 177.5\n",
       "  * startyear  (startyear) int64 1921 1922</pre><div class='xr-wrap' hidden><div class='xr-header'><div class='xr-obj-type'>xarray.DataArray</div><div class='xr-array-name'>'tas'</div><ul class='xr-dim-list'><li><span class='xr-has-index'>startyear</span>: 2</li><li><span class='xr-has-index'>duration</span>: 87</li><li><span class='xr-has-index'>samples</span>: 1000</li><li><span class='xr-has-index'>lat</span>: 36</li><li><span class='xr-has-index'>lon</span>: 72</li></ul></div><ul class='xr-sections'><li class='xr-section-item'><div class='xr-array-wrap'><input id='section-578371ee-2ffc-487b-b70e-48d63116f28a' class='xr-array-in' type='checkbox' checked><label for='section-578371ee-2ffc-487b-b70e-48d63116f28a' title='Show/hide data repr'><svg class='icon xr-icon-database'><use xlink:href='#icon-database'></use></svg></label><div class='xr-array-preview xr-preview'><span>dask.array&lt;chunksize=(2, 1, 1000, 36, 72), meta=np.ndarray&gt;</span></div><div class='xr-array-data'><table>\n",
       "<tr>\n",
       "<td>\n",
       "<table>\n",
       "  <thead>\n",
       "    <tr><td> </td><th> Array </th><th> Chunk </th></tr>\n",
       "  </thead>\n",
       "  <tbody>\n",
       "    <tr><th> Bytes </th><td> 3.61 GB </td> <td> 41.47 MB </td></tr>\n",
       "    <tr><th> Shape </th><td> (2, 87, 1000, 36, 72) </td> <td> (2, 1, 1000, 36, 72) </td></tr>\n",
       "    <tr><th> Count </th><td> 88 Tasks </td><td> 87 Chunks </td></tr>\n",
       "    <tr><th> Type </th><td> float64 </td><td> numpy.ndarray </td></tr>\n",
       "  </tbody>\n",
       "</table>\n",
       "</td>\n",
       "<td>\n",
       "<svg width=\"371\" height=\"153\" style=\"stroke:rgb(0,0,0);stroke-width:1\" >\n",
       "\n",
       "  <!-- Horizontal lines -->\n",
       "  <line x1=\"0\" y1=\"0\" x2=\"37\" y2=\"0\" style=\"stroke-width:2\" />\n",
       "  <line x1=\"0\" y1=\"25\" x2=\"37\" y2=\"25\" style=\"stroke-width:2\" />\n",
       "\n",
       "  <!-- Vertical lines -->\n",
       "  <line x1=\"0\" y1=\"0\" x2=\"0\" y2=\"25\" style=\"stroke-width:2\" />\n",
       "  <line x1=\"0\" y1=\"0\" x2=\"0\" y2=\"25\" />\n",
       "  <line x1=\"0\" y1=\"0\" x2=\"0\" y2=\"25\" />\n",
       "  <line x1=\"1\" y1=\"0\" x2=\"1\" y2=\"25\" />\n",
       "  <line x1=\"1\" y1=\"0\" x2=\"1\" y2=\"25\" />\n",
       "  <line x1=\"2\" y1=\"0\" x2=\"2\" y2=\"25\" />\n",
       "  <line x1=\"2\" y1=\"0\" x2=\"2\" y2=\"25\" />\n",
       "  <line x1=\"3\" y1=\"0\" x2=\"3\" y2=\"25\" />\n",
       "  <line x1=\"3\" y1=\"0\" x2=\"3\" y2=\"25\" />\n",
       "  <line x1=\"3\" y1=\"0\" x2=\"3\" y2=\"25\" />\n",
       "  <line x1=\"4\" y1=\"0\" x2=\"4\" y2=\"25\" />\n",
       "  <line x1=\"4\" y1=\"0\" x2=\"4\" y2=\"25\" />\n",
       "  <line x1=\"5\" y1=\"0\" x2=\"5\" y2=\"25\" />\n",
       "  <line x1=\"5\" y1=\"0\" x2=\"5\" y2=\"25\" />\n",
       "  <line x1=\"6\" y1=\"0\" x2=\"6\" y2=\"25\" />\n",
       "  <line x1=\"6\" y1=\"0\" x2=\"6\" y2=\"25\" />\n",
       "  <line x1=\"6\" y1=\"0\" x2=\"6\" y2=\"25\" />\n",
       "  <line x1=\"7\" y1=\"0\" x2=\"7\" y2=\"25\" />\n",
       "  <line x1=\"7\" y1=\"0\" x2=\"7\" y2=\"25\" />\n",
       "  <line x1=\"8\" y1=\"0\" x2=\"8\" y2=\"25\" />\n",
       "  <line x1=\"8\" y1=\"0\" x2=\"8\" y2=\"25\" />\n",
       "  <line x1=\"9\" y1=\"0\" x2=\"9\" y2=\"25\" />\n",
       "  <line x1=\"9\" y1=\"0\" x2=\"9\" y2=\"25\" />\n",
       "  <line x1=\"9\" y1=\"0\" x2=\"9\" y2=\"25\" />\n",
       "  <line x1=\"10\" y1=\"0\" x2=\"10\" y2=\"25\" />\n",
       "  <line x1=\"10\" y1=\"0\" x2=\"10\" y2=\"25\" />\n",
       "  <line x1=\"11\" y1=\"0\" x2=\"11\" y2=\"25\" />\n",
       "  <line x1=\"11\" y1=\"0\" x2=\"11\" y2=\"25\" />\n",
       "  <line x1=\"12\" y1=\"0\" x2=\"12\" y2=\"25\" />\n",
       "  <line x1=\"12\" y1=\"0\" x2=\"12\" y2=\"25\" />\n",
       "  <line x1=\"13\" y1=\"0\" x2=\"13\" y2=\"25\" />\n",
       "  <line x1=\"13\" y1=\"0\" x2=\"13\" y2=\"25\" />\n",
       "  <line x1=\"13\" y1=\"0\" x2=\"13\" y2=\"25\" />\n",
       "  <line x1=\"14\" y1=\"0\" x2=\"14\" y2=\"25\" />\n",
       "  <line x1=\"14\" y1=\"0\" x2=\"14\" y2=\"25\" />\n",
       "  <line x1=\"15\" y1=\"0\" x2=\"15\" y2=\"25\" />\n",
       "  <line x1=\"15\" y1=\"0\" x2=\"15\" y2=\"25\" />\n",
       "  <line x1=\"16\" y1=\"0\" x2=\"16\" y2=\"25\" />\n",
       "  <line x1=\"16\" y1=\"0\" x2=\"16\" y2=\"25\" />\n",
       "  <line x1=\"16\" y1=\"0\" x2=\"16\" y2=\"25\" />\n",
       "  <line x1=\"17\" y1=\"0\" x2=\"17\" y2=\"25\" />\n",
       "  <line x1=\"17\" y1=\"0\" x2=\"17\" y2=\"25\" />\n",
       "  <line x1=\"18\" y1=\"0\" x2=\"18\" y2=\"25\" />\n",
       "  <line x1=\"18\" y1=\"0\" x2=\"18\" y2=\"25\" />\n",
       "  <line x1=\"19\" y1=\"0\" x2=\"19\" y2=\"25\" />\n",
       "  <line x1=\"19\" y1=\"0\" x2=\"19\" y2=\"25\" />\n",
       "  <line x1=\"19\" y1=\"0\" x2=\"19\" y2=\"25\" />\n",
       "  <line x1=\"20\" y1=\"0\" x2=\"20\" y2=\"25\" />\n",
       "  <line x1=\"20\" y1=\"0\" x2=\"20\" y2=\"25\" />\n",
       "  <line x1=\"21\" y1=\"0\" x2=\"21\" y2=\"25\" />\n",
       "  <line x1=\"21\" y1=\"0\" x2=\"21\" y2=\"25\" />\n",
       "  <line x1=\"22\" y1=\"0\" x2=\"22\" y2=\"25\" />\n",
       "  <line x1=\"22\" y1=\"0\" x2=\"22\" y2=\"25\" />\n",
       "  <line x1=\"23\" y1=\"0\" x2=\"23\" y2=\"25\" />\n",
       "  <line x1=\"23\" y1=\"0\" x2=\"23\" y2=\"25\" />\n",
       "  <line x1=\"23\" y1=\"0\" x2=\"23\" y2=\"25\" />\n",
       "  <line x1=\"24\" y1=\"0\" x2=\"24\" y2=\"25\" />\n",
       "  <line x1=\"24\" y1=\"0\" x2=\"24\" y2=\"25\" />\n",
       "  <line x1=\"25\" y1=\"0\" x2=\"25\" y2=\"25\" />\n",
       "  <line x1=\"25\" y1=\"0\" x2=\"25\" y2=\"25\" />\n",
       "  <line x1=\"26\" y1=\"0\" x2=\"26\" y2=\"25\" />\n",
       "  <line x1=\"26\" y1=\"0\" x2=\"26\" y2=\"25\" />\n",
       "  <line x1=\"26\" y1=\"0\" x2=\"26\" y2=\"25\" />\n",
       "  <line x1=\"27\" y1=\"0\" x2=\"27\" y2=\"25\" />\n",
       "  <line x1=\"27\" y1=\"0\" x2=\"27\" y2=\"25\" />\n",
       "  <line x1=\"28\" y1=\"0\" x2=\"28\" y2=\"25\" />\n",
       "  <line x1=\"28\" y1=\"0\" x2=\"28\" y2=\"25\" />\n",
       "  <line x1=\"29\" y1=\"0\" x2=\"29\" y2=\"25\" />\n",
       "  <line x1=\"29\" y1=\"0\" x2=\"29\" y2=\"25\" />\n",
       "  <line x1=\"29\" y1=\"0\" x2=\"29\" y2=\"25\" />\n",
       "  <line x1=\"30\" y1=\"0\" x2=\"30\" y2=\"25\" />\n",
       "  <line x1=\"30\" y1=\"0\" x2=\"30\" y2=\"25\" />\n",
       "  <line x1=\"31\" y1=\"0\" x2=\"31\" y2=\"25\" />\n",
       "  <line x1=\"31\" y1=\"0\" x2=\"31\" y2=\"25\" />\n",
       "  <line x1=\"32\" y1=\"0\" x2=\"32\" y2=\"25\" />\n",
       "  <line x1=\"32\" y1=\"0\" x2=\"32\" y2=\"25\" />\n",
       "  <line x1=\"33\" y1=\"0\" x2=\"33\" y2=\"25\" />\n",
       "  <line x1=\"33\" y1=\"0\" x2=\"33\" y2=\"25\" />\n",
       "  <line x1=\"33\" y1=\"0\" x2=\"33\" y2=\"25\" />\n",
       "  <line x1=\"34\" y1=\"0\" x2=\"34\" y2=\"25\" />\n",
       "  <line x1=\"34\" y1=\"0\" x2=\"34\" y2=\"25\" />\n",
       "  <line x1=\"35\" y1=\"0\" x2=\"35\" y2=\"25\" />\n",
       "  <line x1=\"35\" y1=\"0\" x2=\"35\" y2=\"25\" />\n",
       "  <line x1=\"36\" y1=\"0\" x2=\"36\" y2=\"25\" />\n",
       "  <line x1=\"36\" y1=\"0\" x2=\"36\" y2=\"25\" />\n",
       "  <line x1=\"36\" y1=\"0\" x2=\"36\" y2=\"25\" />\n",
       "  <line x1=\"37\" y1=\"0\" x2=\"37\" y2=\"25\" />\n",
       "  <line x1=\"37\" y1=\"0\" x2=\"37\" y2=\"25\" style=\"stroke-width:2\" />\n",
       "\n",
       "  <!-- Colored Rectangle -->\n",
       "  <polygon points=\"0.000000,0.000000 37.811496,0.000000 37.811496,25.412617 0.000000,25.412617\" style=\"fill:#ECB172A0;stroke-width:0\"/>\n",
       "\n",
       "  <!-- Text -->\n",
       "  <text x=\"18.905748\" y=\"45.412617\" font-size=\"1.0rem\" font-weight=\"100\" text-anchor=\"middle\" >87</text>\n",
       "  <text x=\"57.811496\" y=\"12.706308\" font-size=\"1.0rem\" font-weight=\"100\" text-anchor=\"middle\" transform=\"rotate(0,57.811496,12.706308)\">2</text>\n",
       "\n",
       "\n",
       "  <!-- Horizontal lines -->\n",
       "  <line x1=\"107\" y1=\"0\" x2=\"177\" y2=\"70\" style=\"stroke-width:2\" />\n",
       "  <line x1=\"107\" y1=\"32\" x2=\"177\" y2=\"103\" style=\"stroke-width:2\" />\n",
       "\n",
       "  <!-- Vertical lines -->\n",
       "  <line x1=\"107\" y1=\"0\" x2=\"107\" y2=\"32\" style=\"stroke-width:2\" />\n",
       "  <line x1=\"177\" y1=\"70\" x2=\"177\" y2=\"103\" style=\"stroke-width:2\" />\n",
       "\n",
       "  <!-- Colored Rectangle -->\n",
       "  <polygon points=\"107.000000,0.000000 177.588235,70.588235 177.588235,103.079380 107.000000,32.491144\" style=\"fill:#ECB172A0;stroke-width:0\"/>\n",
       "\n",
       "  <!-- Horizontal lines -->\n",
       "  <line x1=\"107\" y1=\"0\" x2=\"143\" y2=\"0\" style=\"stroke-width:2\" />\n",
       "  <line x1=\"177\" y1=\"70\" x2=\"214\" y2=\"70\" style=\"stroke-width:2\" />\n",
       "\n",
       "  <!-- Vertical lines -->\n",
       "  <line x1=\"107\" y1=\"0\" x2=\"177\" y2=\"70\" style=\"stroke-width:2\" />\n",
       "  <line x1=\"143\" y1=\"0\" x2=\"214\" y2=\"70\" style=\"stroke-width:2\" />\n",
       "\n",
       "  <!-- Colored Rectangle -->\n",
       "  <polygon points=\"107.000000,0.000000 143.706830,0.000000 214.295065,70.588235 177.588235,70.588235\" style=\"fill:#ECB172A0;stroke-width:0\"/>\n",
       "\n",
       "  <!-- Horizontal lines -->\n",
       "  <line x1=\"177\" y1=\"70\" x2=\"214\" y2=\"70\" style=\"stroke-width:2\" />\n",
       "  <line x1=\"177\" y1=\"103\" x2=\"214\" y2=\"103\" style=\"stroke-width:2\" />\n",
       "\n",
       "  <!-- Vertical lines -->\n",
       "  <line x1=\"177\" y1=\"70\" x2=\"177\" y2=\"103\" style=\"stroke-width:2\" />\n",
       "  <line x1=\"214\" y1=\"70\" x2=\"214\" y2=\"103\" style=\"stroke-width:2\" />\n",
       "\n",
       "  <!-- Colored Rectangle -->\n",
       "  <polygon points=\"177.588235,70.588235 214.295065,70.588235 214.295065,103.079380 177.588235,103.079380\" style=\"fill:#ECB172A0;stroke-width:0\"/>\n",
       "\n",
       "  <!-- Text -->\n",
       "  <text x=\"195.941650\" y=\"123.079380\" font-size=\"1.0rem\" font-weight=\"100\" text-anchor=\"middle\" >72</text>\n",
       "  <text x=\"234.295065\" y=\"86.833807\" font-size=\"1.0rem\" font-weight=\"100\" text-anchor=\"middle\" transform=\"rotate(0,234.295065,86.833807)\">36</text>\n",
       "  <text x=\"132.294118\" y=\"87.785262\" font-size=\"1.0rem\" font-weight=\"100\" text-anchor=\"middle\" transform=\"rotate(45,132.294118,87.785262)\">1000</text>\n",
       "</svg>\n",
       "</td>\n",
       "</tr>\n",
       "</table></div></div></li><li class='xr-section-item'><input id='section-e5efcf82-5024-4c46-8649-93d0da76f259' class='xr-section-summary-in' type='checkbox'  checked><label for='section-e5efcf82-5024-4c46-8649-93d0da76f259' class='xr-section-summary' >Coordinates: <span>(5)</span></label><div class='xr-section-inline-details'></div><div class='xr-section-details'><ul class='xr-var-list'><li class='xr-var-item'><div class='xr-var-name'><span class='xr-has-index'>samples</span></div><div class='xr-var-dims'>(samples)</div><div class='xr-var-dtype'>float64</div><div class='xr-var-preview xr-preview'>1.0 2.0 3.0 ... 998.0 999.0 1e+03</div><input id='attrs-62eb7935-8f26-4e5f-ac0c-caa0e96b2917' class='xr-var-attrs-in' type='checkbox' disabled><label for='attrs-62eb7935-8f26-4e5f-ac0c-caa0e96b2917' title='Show/Hide attributes'><svg class='icon xr-icon-file-text2'><use xlink:href='#icon-file-text2'></use></svg></label><input id='data-9182a1a9-d538-4136-b2e4-16442178be19' class='xr-var-data-in' type='checkbox'><label for='data-9182a1a9-d538-4136-b2e4-16442178be19' title='Show/Hide data repr'><svg class='icon xr-icon-database'><use xlink:href='#icon-database'></use></svg></label><div class='xr-var-attrs'><dl class='xr-attrs'></dl></div><div class='xr-var-data'><pre>array([   1.,    2.,    3., ...,  998.,  999., 1000.])</pre></div></li><li class='xr-var-item'><div class='xr-var-name'><span class='xr-has-index'>duration</span></div><div class='xr-var-dims'>(duration)</div><div class='xr-var-dtype'>int64</div><div class='xr-var-preview xr-preview'>4 5 6 7 8 9 ... 85 86 87 88 89 90</div><input id='attrs-6dffb9da-710d-4759-9264-bfcb8999c0c2' class='xr-var-attrs-in' type='checkbox' disabled><label for='attrs-6dffb9da-710d-4759-9264-bfcb8999c0c2' title='Show/Hide attributes'><svg class='icon xr-icon-file-text2'><use xlink:href='#icon-file-text2'></use></svg></label><input id='data-ee440ebd-f3f7-427e-9379-a06e4b76c517' class='xr-var-data-in' type='checkbox'><label for='data-ee440ebd-f3f7-427e-9379-a06e4b76c517' title='Show/Hide data repr'><svg class='icon xr-icon-database'><use xlink:href='#icon-database'></use></svg></label><div class='xr-var-attrs'><dl class='xr-attrs'></dl></div><div class='xr-var-data'><pre>array([ 4,  5,  6,  7,  8,  9, 10, 11, 12, 13, 14, 15, 16, 17, 18, 19, 20, 21,\n",
       "       22, 23, 24, 25, 26, 27, 28, 29, 30, 31, 32, 33, 34, 35, 36, 37, 38, 39,\n",
       "       40, 41, 42, 43, 44, 45, 46, 47, 48, 49, 50, 51, 52, 53, 54, 55, 56, 57,\n",
       "       58, 59, 60, 61, 62, 63, 64, 65, 66, 67, 68, 69, 70, 71, 72, 73, 74, 75,\n",
       "       76, 77, 78, 79, 80, 81, 82, 83, 84, 85, 86, 87, 88, 89, 90])</pre></div></li><li class='xr-var-item'><div class='xr-var-name'><span class='xr-has-index'>lat</span></div><div class='xr-var-dims'>(lat)</div><div class='xr-var-dtype'>float64</div><div class='xr-var-preview xr-preview'>-87.5 -82.5 -77.5 ... 82.5 87.5</div><input id='attrs-e4a1cead-47d3-4585-ab5c-06d8c25b3580' class='xr-var-attrs-in' type='checkbox' disabled><label for='attrs-e4a1cead-47d3-4585-ab5c-06d8c25b3580' title='Show/Hide attributes'><svg class='icon xr-icon-file-text2'><use xlink:href='#icon-file-text2'></use></svg></label><input id='data-6ef9206d-a344-4c3c-aa35-c6b9dbd51f37' class='xr-var-data-in' type='checkbox'><label for='data-6ef9206d-a344-4c3c-aa35-c6b9dbd51f37' title='Show/Hide data repr'><svg class='icon xr-icon-database'><use xlink:href='#icon-database'></use></svg></label><div class='xr-var-attrs'><dl class='xr-attrs'></dl></div><div class='xr-var-data'><pre>array([-87.5, -82.5, -77.5, -72.5, -67.5, -62.5, -57.5, -52.5, -47.5, -42.5,\n",
       "       -37.5, -32.5, -27.5, -22.5, -17.5, -12.5,  -7.5,  -2.5,   2.5,   7.5,\n",
       "        12.5,  17.5,  22.5,  27.5,  32.5,  37.5,  42.5,  47.5,  52.5,  57.5,\n",
       "        62.5,  67.5,  72.5,  77.5,  82.5,  87.5])</pre></div></li><li class='xr-var-item'><div class='xr-var-name'><span class='xr-has-index'>lon</span></div><div class='xr-var-dims'>(lon)</div><div class='xr-var-dtype'>float64</div><div class='xr-var-preview xr-preview'>-177.5 -172.5 ... 172.5 177.5</div><input id='attrs-0644ae18-bb8d-44eb-bee1-d99383047412' class='xr-var-attrs-in' type='checkbox' disabled><label for='attrs-0644ae18-bb8d-44eb-bee1-d99383047412' title='Show/Hide attributes'><svg class='icon xr-icon-file-text2'><use xlink:href='#icon-file-text2'></use></svg></label><input id='data-f9f95e01-d039-431c-afd1-394ebf15b604' class='xr-var-data-in' type='checkbox'><label for='data-f9f95e01-d039-431c-afd1-394ebf15b604' title='Show/Hide data repr'><svg class='icon xr-icon-database'><use xlink:href='#icon-database'></use></svg></label><div class='xr-var-attrs'><dl class='xr-attrs'></dl></div><div class='xr-var-data'><pre>array([-177.5, -172.5, -167.5, -162.5, -157.5, -152.5, -147.5, -142.5, -137.5,\n",
       "       -132.5, -127.5, -122.5, -117.5, -112.5, -107.5, -102.5,  -97.5,  -92.5,\n",
       "        -87.5,  -82.5,  -77.5,  -72.5,  -67.5,  -62.5,  -57.5,  -52.5,  -47.5,\n",
       "        -42.5,  -37.5,  -32.5,  -27.5,  -22.5,  -17.5,  -12.5,   -7.5,   -2.5,\n",
       "          2.5,    7.5,   12.5,   17.5,   22.5,   27.5,   32.5,   37.5,   42.5,\n",
       "         47.5,   52.5,   57.5,   62.5,   67.5,   72.5,   77.5,   82.5,   87.5,\n",
       "         92.5,   97.5,  102.5,  107.5,  112.5,  117.5,  122.5,  127.5,  132.5,\n",
       "        137.5,  142.5,  147.5,  152.5,  157.5,  162.5,  167.5,  172.5,  177.5])</pre></div></li><li class='xr-var-item'><div class='xr-var-name'><span class='xr-has-index'>startyear</span></div><div class='xr-var-dims'>(startyear)</div><div class='xr-var-dtype'>int64</div><div class='xr-var-preview xr-preview'>1921 1922</div><input id='attrs-b0b74f6e-744c-4876-9253-654ab7b133a6' class='xr-var-attrs-in' type='checkbox' disabled><label for='attrs-b0b74f6e-744c-4876-9253-654ab7b133a6' title='Show/Hide attributes'><svg class='icon xr-icon-file-text2'><use xlink:href='#icon-file-text2'></use></svg></label><input id='data-2374b16e-2c43-444c-b9dd-3d1bc18b4abb' class='xr-var-data-in' type='checkbox'><label for='data-2374b16e-2c43-444c-b9dd-3d1bc18b4abb' title='Show/Hide data repr'><svg class='icon xr-icon-database'><use xlink:href='#icon-database'></use></svg></label><div class='xr-var-attrs'><dl class='xr-attrs'></dl></div><div class='xr-var-data'><pre>array([1921, 1922])</pre></div></li></ul></div></li><li class='xr-section-item'><input id='section-11878ee2-b54f-4d01-a4d2-44011603b9eb' class='xr-section-summary-in' type='checkbox' disabled ><label for='section-11878ee2-b54f-4d01-a4d2-44011603b9eb' class='xr-section-summary'  title='Expand/collapse section'>Attributes: <span>(0)</span></label><div class='xr-section-inline-details'></div><div class='xr-section-details'><dl class='xr-attrs'></dl></div></li></ul></div></div>"
      ],
      "text/plain": [
       "<xarray.DataArray 'tas' (startyear: 2, duration: 87, samples: 1000, lat: 36, lon: 72)>\n",
       "dask.array<open_dataset-1d42451df23b99a6fb41e8a0b9393c41TREFHT, shape=(2, 87, 1000, 36, 72), dtype=float64, chunksize=(2, 1, 1000, 36, 72), chunktype=numpy.ndarray>\n",
       "Coordinates:\n",
       "  * samples    (samples) float64 1.0 2.0 3.0 4.0 5.0 ... 997.0 998.0 999.0 1e+03\n",
       "  * duration   (duration) int64 4 5 6 7 8 9 10 11 12 ... 83 84 85 86 87 88 89 90\n",
       "  * lat        (lat) float64 -87.5 -82.5 -77.5 -72.5 ... 72.5 77.5 82.5 87.5\n",
       "  * lon        (lon) float64 -177.5 -172.5 -167.5 -162.5 ... 167.5 172.5 177.5\n",
       "  * startyear  (startyear) int64 1921 1922"
      ]
     },
     "execution_count": 17,
     "metadata": {},
     "output_type": "execute_result"
    }
   ],
   "source": [
    "obsle_spatial_trends_all"
   ]
  },
  {
   "cell_type": "markdown",
   "id": "918a5fb8-1824-45f3-95ba-97690d6683dc",
   "metadata": {},
   "source": [
    "It turns out that using the entire data is better than using the poorly chunked data :welp:"
   ]
  },
  {
   "cell_type": "code",
   "execution_count": 18,
   "id": "1f1ac7b5-f776-486b-9889-426584710f9f",
   "metadata": {},
   "outputs": [
    {
     "name": "stdout",
     "output_type": "stream",
     "text": [
      "4 5 6 7 8 9 10 11 12 13 14 15 16 17 18 19 20 21 22 23 24 25 26 27 28 29 30 31 32 33 34 35 36 37 38 39 40 41 42 43 44 45 46 47 48 49 50 51 52 53 54 55 56 57 58 59 60 61 62 63 64 65 66 67 68 69 70 71 72 73 74 75 76 77 78 79 80 81 82 83 84 85 86 87 88 89 90 CPU times: user 45.1 s, sys: 3.74 s, total: 48.9 s\n",
      "Wall time: 1min 10s\n"
     ]
    }
   ],
   "source": [
    "%%time\n",
    "\n",
    "percs_by_dur = []\n",
    "for _dur in obsle_spatial_trends_all.duration:\n",
    "    \n",
    "    print(_dur.values,end=' ')\n",
    "    \n",
    "    _dur_subset = obsle_spatial_trends_all.sel(duration=_dur)\n",
    "    \n",
    "    _obsle_pic_trends5x5_2_5perc = percentile_vec_mult(_dur_subset,q=2.5,core_dims=['startyear','samples']).compute()\n",
    "    _obsle_pic_trends5x5_97_5perc = percentile_vec_mult(_dur_subset,q=97.5,core_dims=['startyear','samples']).compute()\n",
    "        \n",
    "    obsle_spatial_trends_percentiles = xr.merge([_obsle_pic_trends5x5_2_5perc.assign_coords({'percentile':2.5}).expand_dims('percentile',axis=-1),\n",
    "                                                 _obsle_pic_trends5x5_97_5perc.assign_coords({'percentile':97.5}).expand_dims('percentile',axis=-1)])\n",
    "    \n",
    "    percs_by_dur.append(obsle_spatial_trends_percentiles)\n",
    "    \n",
    "    # if _dur.values == 10:\n",
    "    #     break\n",
    "    \n",
    "all_perc = xr.concat(percs_by_dur,dim='duration')"
   ]
  },
  {
   "cell_type": "code",
   "execution_count": 20,
   "id": "df377ab9-2e9d-4a76-89c6-9db5cf722db2",
   "metadata": {},
   "outputs": [],
   "source": [
    "obsle_spatial_trends_percentiles = all_perc\n",
    "\n",
    "filename = 'TREFHT_Annual_1921-2014.5x5deg.Trends_startyears_1921_1922.Percentiles.nc' % _dur.values\n",
    "\n",
    "obsle_spatial_trends_percentiles.to_netcdf('%s/%s' % (obsle_tseries_dir,filename))"
   ]
  },
  {
   "cell_type": "markdown",
   "id": "de3cf236-faa6-49d2-833c-67191e798214",
   "metadata": {},
   "source": [
    "There is no obvious ENSO signal in variability in the tropical pacific."
   ]
  },
  {
   "cell_type": "code",
   "execution_count": 19,
   "id": "88ebcb10-fe86-47ec-a11a-d3c923c9d082",
   "metadata": {},
   "outputs": [
    {
     "data": {
      "text/plain": [
       "[<matplotlib.lines.Line2D at 0x14ca64f11250>]"
      ]
     },
     "execution_count": 19,
     "metadata": {},
     "output_type": "execute_result"
    },
    {
     "data": {
      "image/png": "[encoded data removed]",
      "text/plain": [
       "<Figure size 432x288 with 1 Axes>"
      ]
     },
     "metadata": {
      "needs_background": "light"
     },
     "output_type": "display_data"
    }
   ],
   "source": [
    "all_perc['tas'].isel(percentile=1,lat=17,lon=16).plot()"
   ]
  },
  {
   "cell_type": "code",
   "execution_count": 50,
   "id": "b9bf7b47-f5dc-4847-90e8-b93df85df96f",
   "metadata": {},
   "outputs": [
    {
     "data": {
      "text/plain": [
       "[<matplotlib.lines.Line2D at 0x2b408ab60350>]"
      ]
     },
     "execution_count": 50,
     "metadata": {},
     "output_type": "execute_result"
    },
    {
     "data": {
      "image/png": "[encoded data removed]",
      "text/plain": [
       "<Figure size 432x288 with 1 Axes>"
      ]
     },
     "metadata": {
      "needs_background": "light"
     },
     "output_type": "display_data"
    }
   ],
   "source": [
    "all_perc['tas'].isel(percentile=1,lat=17,lon=16).plot()"
   ]
  },
  {
   "cell_type": "code",
   "execution_count": 21,
   "id": "45487e4f-5c71-4def-9736-4b7812c77c3a",
   "metadata": {},
   "outputs": [
    {
     "data": {
      "text/plain": [
       "<matplotlib.collections.QuadMesh at 0x14ca64327bd0>"
      ]
     },
     "execution_count": 21,
     "metadata": {},
     "output_type": "execute_result"
    },
    {
     "data": {
      "image/png": "[encoded data removed]",
      "text/plain": [
       "<Figure size 432x288 with 2 Axes>"
      ]
     },
     "metadata": {
      "needs_background": "light"
     },
     "output_type": "display_data"
    }
   ],
   "source": [
    "obsle_spatial_trends_percentiles['tas'].sel(percentile=97.5,duration=10).plot() #.isel(lat=5,lon=5)"
   ]
  },
  {
   "cell_type": "code",
   "execution_count": null,
   "id": "c267ffc1-aac7-4082-a17c-da8169cd597f",
   "metadata": {},
   "outputs": [],
   "source": []
  }
 ],
 "metadata": {
  "kernelspec": {
   "display_name": "Python [conda env:miniconda3-cheycomp]",
   "language": "python",
   "name": "conda-env-miniconda3-cheycomp-py"
  },
  "language_info": {
   "codemirror_mode": {
    "name": "ipython",
    "version": 3
   },
   "file_extension": ".py",
   "mimetype": "text/x-python",
   "name": "python",
   "nbconvert_exporter": "python",
   "pygments_lexer": "ipython3",
   "version": "3.7.8"
  }
 },
 "nbformat": 4,
 "nbformat_minor": 5
}
