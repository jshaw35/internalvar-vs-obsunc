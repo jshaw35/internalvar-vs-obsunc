{
 "cells": [
  {
   "cell_type": "markdown",
   "id": "9d5702ab-4316-47a2-af40-56d7ce8ccb57",
   "metadata": {},
   "source": [
    "# Identify when a record begins based on data availability."
   ]
  },
  {
   "cell_type": "markdown",
   "id": "6ede891f-af88-4e6d-90de-32be78682d2b",
   "metadata": {},
   "source": [
    "## Code!"
   ]
  },
  {
   "cell_type": "code",
   "execution_count": 1,
   "id": "8d37ff0a-6540-4fc2-9654-dc2faac44e57",
   "metadata": {},
   "outputs": [],
   "source": [
    "import numpy as np\n",
    "import xarray as xr\n",
    "import pandas as pd\n",
    "import matplotlib.pyplot as plt\n",
    "import os\n",
    "import glob\n",
    "\n",
    "%matplotlib inline"
   ]
  },
  {
   "cell_type": "markdown",
   "id": "5f7faed9-fd82-480f-8918-48b2655ec5c1",
   "metadata": {},
   "source": [
    "### Collect file paths."
   ]
  },
  {
   "cell_type": "code",
   "execution_count": 2,
   "id": "dbb091ff",
   "metadata": {},
   "outputs": [],
   "source": [
    "obslens_tseries_dir = '/glade/u/home/jonahshaw/w/trend_uncertainty/nathan/OBS_LENS/'"
   ]
  },
  {
   "cell_type": "markdown",
   "id": "13704afb-7364-487f-8f97-b08d1a564d37",
   "metadata": {},
   "source": [
    "#### Collect GISTEMP 5x5 file paths."
   ]
  },
  {
   "cell_type": "code",
   "execution_count": 3,
   "id": "3babb705-2f59-40e2-8701-c1cc3827b91d",
   "metadata": {},
   "outputs": [],
   "source": [
    "gistemp_5x5_files = glob.glob('%s/GISTEMP_5x5/20240820/xagg/ensembleChunk_5x5_????.nc' % obslens_tseries_dir)\n",
    "gistemp_5x5_files.sort()"
   ]
  },
  {
   "cell_type": "markdown",
   "id": "1574e91b-ac98-4553-a6a7-7173e935e1bb",
   "metadata": {},
   "source": [
    "#### Collect HadCRUT5 file paths."
   ]
  },
  {
   "cell_type": "code",
   "execution_count": 4,
   "id": "f0e9d6c4-4e77-4db8-b5a0-54589c5c984f",
   "metadata": {},
   "outputs": [],
   "source": [
    "hadcrut5_files = glob.glob('%s/HadCRUT5/20240820/xagg/HadCRUT.5.0.2.0.analysis.anomalies.*.nc' % obslens_tseries_dir)\n",
    "hadcrut5_files = [i for i in hadcrut5_files if \"Trends\" not in i]\n",
    "hadcrut5_files.sort()"
   ]
  },
  {
   "cell_type": "markdown",
   "id": "f446715a",
   "metadata": {},
   "source": [
    "#### Collect DCENT unfilled file paths."
   ]
  },
  {
   "cell_type": "code",
   "execution_count": 5,
   "id": "6ebcd0da",
   "metadata": {},
   "outputs": [],
   "source": [
    "dcent_unfilled_files = glob.glob('%s/DCENT/20240901/xagg/DCENT_ensemble_1850_2023_member_???.nc' % obslens_tseries_dir)\n",
    "dcent_unfilled_files = [i for i in dcent_unfilled_files if \"Trends\" not in i]\n",
    "dcent_unfilled_files.sort()"
   ]
  },
  {
   "cell_type": "markdown",
   "id": "fef157e9",
   "metadata": {},
   "source": [
    "## Identify a start year based on data availability"
   ]
  },
  {
   "cell_type": "markdown",
   "id": "4e0a9d71",
   "metadata": {},
   "source": [
    "Less conservative annual averaging.  \n",
    "To quote Lenssen et al. (2019) \"To have coverage for a year it must have coverage for at least three seasons, which requires at least 2 months in the season.”"
   ]
  },
  {
   "cell_type": "code",
   "execution_count": 6,
   "id": "f7514bbd",
   "metadata": {},
   "outputs": [],
   "source": [
    "def annual_data(\n",
    "    ds: xr.DataArray,\n",
    "    season_threshold: int=3,\n",
    "    intraseason_threshold: int=2,\n",
    "):\n",
    "    \"\"\"\n",
    "    Mask data if any season is missing more than one month.\n",
    "    To quote Lenssen et al. (2019) \"To have coverage for a year it must have coverage for at least \n",
    "    three seasons, which requires at least 2 months in the season.”\n",
    "\n",
    "    Args:\n",
    "        ds (xr.DataArray): Input data\n",
    "\n",
    "    Returns:\n",
    "        ds (xr.DataArray): Mask of availability!\n",
    "    \"\"\"\n",
    "    availability = ds[\"time.season\"].where(~np.isnan(ds))\n",
    "    \n",
    "    complete_seasons = 0\n",
    "    seasons = [\"DJF\", \"MAM\", \"JJA\", \"SON\"]\n",
    "    for _szn in seasons:\n",
    "        complete_seasons += ((availability == _szn).sum(dim=\"time\") >= intraseason_threshold)\n",
    "        \n",
    "    return complete_seasons >= season_threshold"
   ]
  },
  {
   "cell_type": "markdown",
   "id": "fc5c4f3d",
   "metadata": {},
   "source": [
    "The simplest approach excludes too much data!"
   ]
  },
  {
   "cell_type": "code",
   "execution_count": 7,
   "id": "a84d6ad0",
   "metadata": {},
   "outputs": [],
   "source": [
    "def startyear1(\n",
    "    data_annual: xr.DataArray,\n",
    "):\n",
    "    \"\"\"_summary_\n",
    "\n",
    "    Args:\n",
    "        data_annual (xr.DataArray): Actual data in an annual mean resolution. Remember use skipna=False!\n",
    "\n",
    "    Returns:\n",
    "        startyear_full: xarray DataArray with the start year for each region.\n",
    "    \"\"\"\n",
    "    # Compute the last nan year and step one year forward.\n",
    "    startyear = data_annual[\"year\"].where(np.isnan(data_annual)).max(dim=\"year\") + 1\n",
    "\n",
    "    complete_tseries = ~np.isnan(data_annual).any(dim=\"year\") # Identify regions without any nans\n",
    "    absent_tseries = (startyear == data_annual.year[-1]) | (startyear == data_annual.year[-1] + 1) # Identify regions with all nans\n",
    "\n",
    "    # Set the complete years to the record start year\n",
    "    startyear_full = xr.where(complete_tseries, data_annual.year[0], startyear)\n",
    "    # Set the years with consistent missing data to no start year\n",
    "    startyear_full = xr.where(absent_tseries, np.nan, startyear_full)\n",
    "    \n",
    "    return startyear_full"
   ]
  },
  {
   "cell_type": "markdown",
   "id": "5c17bf2a",
   "metadata": {},
   "source": [
    "This approach looks for availability for windows of various lengths beginning in the start year. It seems to work best because data gaps become less important as the record becomes longer."
   ]
  },
  {
   "cell_type": "code",
   "execution_count": 8,
   "id": "71962e9d",
   "metadata": {},
   "outputs": [],
   "source": [
    "def startyear_running_availability(\n",
    "    mask_annual: xr.DataArray,\n",
    "    windows: list = [5, 10, 20, 40],\n",
    "    fraction: float = 0.6666,\n",
    "    fillvalue: int = 2100,\n",
    "):\n",
    "    \"\"\"\n",
    "    This function identifies start years from a Boolean mask indicating \n",
    "    annual data availability input using two conditions:\n",
    "        1. The data is present during the startyear.\n",
    "        2. There is at least \"fraction\" data availability for windows of length \"windows\".\n",
    "\n",
    "    Args:\n",
    "        data_annual (xr.DataArray): Boolean mask in an annual mean resolution. i.e. Produced by annual_mask()\n",
    "        windows (list, optional): Window lengths to test.\n",
    "        fraction (float, optional): Fraction of data availability needed for a window to be considered available.\n",
    "        fillvalue (int, optional): Real values to fill when a startdate is not detected. Defaults to 2100.\n",
    "\n",
    "    Returns:\n",
    "        startyear: xarray DataArray with the start year for each region.\n",
    "    \"\"\"\n",
    "\n",
    "    # Center = False labels at the end of the window when I want the start. i.e. 1920 means the 1911-1920 mean\n",
    "    # True if year represents the beginning of a window with coverage >= fraction.\n",
    "    cumulative_avail_mask = mask_annual\n",
    "    for _length in windows:\n",
    "        _avail_mask = (mask_annual.rolling(\n",
    "                dim={\"year\": _length},\n",
    "                center=False,\n",
    "            ).sum() >= _length * fraction\n",
    "        ).shift(year=1 - _length, fill_value=True) # Shift so labelled by start and fill nans when incomplete\n",
    "        cumulative_avail_mask = cumulative_avail_mask & _avail_mask\n",
    "\n",
    "    startyear = mask_annual[\"year\"].where(cumulative_avail_mask).min(dim=\"year\")\n",
    "    startyear = startyear.where(cumulative_avail_mask.any(dim=\"year\"), fillvalue) # Fill nans if no available gaps\n",
    "\n",
    "    return startyear"
   ]
  },
  {
   "cell_type": "code",
   "execution_count": 9,
   "id": "358317b7",
   "metadata": {},
   "outputs": [],
   "source": [
    "def multidim_groupby_map(\n",
    "    data,\n",
    "    groupby_dims,\n",
    "    ffunc,\n",
    "    **ffunc_kwargs,\n",
    "):\n",
    "    '''\n",
    "    Hilarious recursive solution for the xarray groupby multiple dimensions problem. \n",
    "    xarray groupby objects cannot be grouped again, but you can map a function that does group them again.\n",
    "    The base case is that we are grouping by a single dimension, which xarray can handle.\n",
    "    Otherwise we groupby a new dimension and call our function on the remaining dimensions.\n",
    "    \n",
    "    Pass data as an xarray.DataArray, groupby_dims as a list, ffunc as the final function to apply,\n",
    "    and ffunc_kwargs as arguments for ffunc.\n",
    "    '''\n",
    "    if len(groupby_dims)==1:\n",
    "        return data.groupby(groupby_dims[0]).map(ffunc,**ffunc_kwargs) # using groupby_dims.pop() instead of groupby_dims[0] didn't work for some reason\n",
    "    return data.groupby(groupby_dims.pop()).map(multidim_groupby_map,groupby_dims=groupby_dims,ffunc=ffunc,**ffunc_kwargs)\n",
    "\n",
    "\n",
    "def annual_average_from_seasonal_averages(\n",
    "    data: xr.DataArray,\n",
    "):\n",
    "    \"\"\"Produce annual averages that weight seasons equally even if individual months are missing. \n",
    "\n",
    "    Args:\n",
    "        data (xr.DataArray): Data with a time dimension that can be grouped using\n",
    "        time.year and time.season.\n",
    "\n",
    "    Returns:\n",
    "        annual_avg (xr.DataArray): Averaged data\n",
    "    \"\"\"\n",
    "    \n",
    "    annual_avg = multidim_groupby_map(\n",
    "        data,\n",
    "        groupby_dims=[\"time.year\", \"time.season\"],\n",
    "        ffunc=xr.DataArray.mean,\n",
    "        skipna=True,\n",
    "        dim=[\"time\"],\n",
    "    ).mean(dim=\"season\")\n",
    "    \n",
    "    return annual_avg\n",
    "\n",
    "\n",
    "def reindex_time_by_startyear(\n",
    "    data_ann_avg: xr.DataArray,\n",
    "    startyears: xr.DataArray,\n",
    "    stack_vars: list = None,\n",
    "    spatial_str: str = \"z\"\n",
    "):\n",
    "    \"\"\"Reindex the temporal dimension so records begin according to a supplied array of start years.\n",
    "\n",
    "    Args:\n",
    "        data_ann_avg (xr.DataArray): Annually averaged data with a \"year\" time dimension.\n",
    "        startyears (xr.DataArray): Array of start years for the spatial dimensions of the data.\n",
    "        stack_vars (list, optional): If the spatial dimensions are more than 1, pass them here.. Defaults to None.\n",
    "        spatial_str (str, optional): Variable to assigned stacked spatial fields. Defaults to \"z\".\n",
    "\n",
    "    Returns:\n",
    "        xr.DataArray: Appropriately reindexed data with new time dimension \"recordlength\".\n",
    "    \"\"\"\n",
    "    \n",
    "    # This doesn't work yet but it should eventually.\n",
    "    if stack_vars is not None:\n",
    "        data_stacked = data_ann_avg.stack({spatial_str: stack_vars})\n",
    "        startyears_stacked = startyears.stack({spatial_str: stack_vars})\n",
    "    else:\n",
    "        data_stacked = data_ann_avg\n",
    "        startyears_stacked = startyears\n",
    "\n",
    "    combino_list = []\n",
    "    for _spatial_startyear in startyears_stacked:\n",
    "        time_subset = data_stacked.sel(\n",
    "            {spatial_str: _spatial_startyear[spatial_str],\n",
    "             \"year\": slice(_spatial_startyear, None),\n",
    "             },\n",
    "        )\n",
    "\n",
    "        durations = np.arange(1, time_subset.year.shape[0] + 1)\n",
    "        \n",
    "        time_subset = time_subset.rename({\"year\": \"recordlength\"}).assign_coords(recordlength=durations)\n",
    "        combino_list.append(time_subset)\n",
    "\n",
    "    tseries_indexed_by_duration = xr.combine_nested(\n",
    "        combino_list,\n",
    "        concat_dim=[spatial_str],\n",
    "    )\n",
    "    if stack_vars is not None:\n",
    "        # Need to apply the multi-index again for some reason to be able to unstack.\n",
    "        tseries_indexed_by_duration = tseries_indexed_by_duration.set_index({spatial_str: stack_vars}).unstack(\"z\")\n",
    "    \n",
    "    return tseries_indexed_by_duration"
   ]
  },
  {
   "cell_type": "markdown",
   "id": "a70ba238",
   "metadata": {},
   "source": [
    "## Compute internally consistent start dates for each data product.\n",
    "\n",
    "Compute the startdate for each ensemble member and take the latest one."
   ]
  },
  {
   "cell_type": "code",
   "execution_count": 10,
   "id": "15c26f76",
   "metadata": {},
   "outputs": [],
   "source": [
    "gistemp_tas_var = 'tas'\n",
    "hadcrut5_tas_var = 'tas'\n",
    "dcent_unfilled_tas_var = \"temperature\""
   ]
  },
  {
   "cell_type": "markdown",
   "id": "935c06e5",
   "metadata": {},
   "source": [
    "#### GISTEMP"
   ]
  },
  {
   "cell_type": "markdown",
   "id": "897b38f8",
   "metadata": {},
   "source": [
    "It is weird the GISTEMP has availability in Antarctica and confidence in it...but actually it agrees pretty well with HadCRUT5.\n",
    "\n",
    "E. Antarctica: 1960 (1957)  \n",
    "W. Antarctica: 1984 (never)  \n",
    "Arctic Ocean: 1931 (1933)  "
   ]
  },
  {
   "cell_type": "code",
   "execution_count": 11,
   "id": "9017b6d2",
   "metadata": {},
   "outputs": [
    {
     "name": "stdout",
     "output_type": "stream",
     "text": [
      "0 1 2 3 4 5 6 7 8 9 10 11 12 13 14 15 16 17 18 19 20 21 22 23 24 25 26 27 28 29 30 31 32 33 34 35 36 37 38 39 40 41 42 43 44 45 46 47 48 49 50 51 52 53 54 55 56 57 58 59 60 61 62 63 64 65 66 67 68 69 70 71 72 73 74 75 76 77 78 79 80 81 82 83 84 85 86 87 88 89 90 91 92 93 94 95 96 97 98 99 100 101 102 103 104 105 106 107 108 109 110 111 112 113 114 115 116 117 118 119 120 121 122 123 124 125 126 127 128 129 130 131 132 133 134 135 136 137 138 139 140 141 142 143 144 145 146 147 148 149 150 151 152 153 154 155 156 157 158 159 160 161 162 163 164 165 166 167 168 169 170 171 172 173 174 175 176 177 178 179 180 181 182 183 184 185 186 187 188 189 190 191 192 193 194 195 196 197 198 199 "
     ]
    }
   ],
   "source": [
    "earliest_startyear = 1900\n",
    "fillvalue = 2100\n",
    "gistemp_startyear_list = []\n",
    "gistemp_availability_list = []\n",
    "for i, _file in enumerate(gistemp_5x5_files):\n",
    "    print(i, end=\" \")\n",
    "    _gistemp_ds = xr.open_dataset(_file)[gistemp_tas_var]\n",
    "    \n",
    "    # Create mask of available by Nathan's GISTEMP standard but 4 seasons.\n",
    "    # Require 4 seasons because trends may be influenced by missing seasons.\n",
    "    _availability_mask = _gistemp_ds.groupby(\"time.year\").map(annual_data, season_threshold=4)\n",
    "    _realization_startyears = startyear_running_availability(\n",
    "        _availability_mask,\n",
    "        fillvalue=fillvalue, # Mask nans into reals so that the quantile operation works later.\n",
    "    )\n",
    "\n",
    "    gistemp_startyear_list.append(_realization_startyears)\n",
    "    gistemp_availability_list.append(_availability_mask)\n",
    "\n",
    "del _gistemp_ds\n",
    "gistemp_startyears = xr.concat(gistemp_startyear_list, dim=\"realization\")\n",
    "gistemp_availability = xr.concat(gistemp_availability_list, dim=\"realization\")\n",
    "gistemp_startyear_mid = gistemp_startyears.quantile(0.5, dim=\"realization\")\n",
    "# Set values less than 1900 to 1900.\n",
    "gistemp_startyear_final = xr.where(\n",
    "    gistemp_startyear_mid > earliest_startyear,\n",
    "    gistemp_startyear_mid, \n",
    "    earliest_startyear,\n",
    ")\n",
    "gistemp_startyear_final = gistemp_startyear_final.where(gistemp_startyear_final != fillvalue) # Revert masking to a nan\n",
    "del gistemp_startyear_mid, gistemp_startyear_list, gistemp_availability_list"
   ]
  },
  {
   "cell_type": "code",
   "execution_count": 12,
   "id": "bb21cea2",
   "metadata": {},
   "outputs": [
    {
     "name": "stdout",
     "output_type": "stream",
     "text": [
      "0 1 2 3 4 5 6 7 8 9 10 11 12 13 14 15 16 17 18 19 20 21 22 23 24 25 26 27 28 29 30 31 32 33 34 35 36 37 38 39 40 41 42 43 44 45 46 47 48 49 50 51 52 53 54 55 56 57 58 59 60 61 62 63 64 65 66 67 68 69 70 71 72 73 74 75 76 77 78 79 80 81 82 83 84 85 86 87 88 89 90 91 92 93 94 95 96 97 98 99 100 101 102 103 104 105 106 107 108 109 110 111 112 113 114 115 116 117 118 119 120 121 122 123 124 125 126 127 128 129 130 131 132 133 134 135 136 137 138 139 140 141 142 143 144 145 146 147 148 149 150 151 152 153 154 155 156 157 158 159 160 161 162 163 164 165 166 167 168 169 170 171 172 173 174 175 176 177 178 179 180 181 182 183 184 185 186 187 188 189 190 191 192 193 194 195 196 197 198 199 "
     ]
    }
   ],
   "source": [
    "# Now iterate over the files and re-index them!\n",
    "\n",
    "gistemp_reindexed_list = []\n",
    "for i, _file in enumerate(gistemp_5x5_files):\n",
    "    print(i, end=\" \")\n",
    "    _gistemp_ds = xr.open_dataset(_file)[gistemp_tas_var]\n",
    "    _mask = gistemp_availability.sel(realization=_gistemp_ds.realization)\n",
    "    \n",
    "    _gistemp_ann_avg = annual_average_from_seasonal_averages(_gistemp_ds).where(_mask)\n",
    "\n",
    "    _gistemp_reindex = reindex_time_by_startyear(\n",
    "        data_ann_avg=_gistemp_ann_avg,\n",
    "        startyears=gistemp_startyear_final,\n",
    "        spatial_str=\"RegionIndex\",\n",
    "    )\n",
    "    gistemp_reindexed_list.append(_gistemp_reindex)\n",
    "    # if i == 2: break\n",
    "gistemp_reindexed = xr.concat(gistemp_reindexed_list, dim=\"realization\")\n",
    "del _gistemp_ds, gistemp_reindexed_list"
   ]
  },
  {
   "cell_type": "code",
   "execution_count": 13,
   "id": "d3e199ae",
   "metadata": {},
   "outputs": [],
   "source": [
    "gistemp_reindexed.to_netcdf(f\"{obslens_tseries_dir}/GISTEMP_5x5/20240820/xagg/ensembleChunks_0001_0200.reindexed.IPCCRegions.190001-202012.nc\")\n",
    "gistemp_startyears.to_netcdf(f\"{obslens_tseries_dir}/GISTEMP_5x5/20240820/xagg/ensembleChunks_0001_0200.startyears.IPCCRegions.190001-202012.nc\")\n",
    "gistemp_availability.to_netcdf(f\"{obslens_tseries_dir}/GISTEMP_5x5/20240820/xagg/ensembleChunks_0001_0200.availability.IPCCRegions.190001-202012.nc\")"
   ]
  },
  {
   "cell_type": "markdown",
   "id": "1f1d4a8c",
   "metadata": {},
   "source": [
    "#### HadCRUT5"
   ]
  },
  {
   "cell_type": "code",
   "execution_count": 14,
   "id": "2a9b9620",
   "metadata": {},
   "outputs": [
    {
     "name": "stdout",
     "output_type": "stream",
     "text": [
      "0 1 2 3 4 5 6 7 8 9 10 11 12 13 14 15 16 17 18 19 20 21 22 23 24 25 26 27 28 29 30 31 32 33 34 35 36 37 38 39 40 41 42 43 44 45 46 47 48 49 50 51 52 53 54 55 56 57 58 59 60 61 62 63 64 65 66 67 68 69 70 71 72 73 74 75 76 77 78 79 80 81 82 83 84 85 86 87 88 89 90 91 92 93 94 95 96 97 98 99 100 101 102 103 104 105 106 107 108 109 110 111 112 113 114 115 116 117 118 119 120 121 122 123 124 125 126 127 128 129 130 131 132 133 134 135 136 137 138 139 140 141 142 143 144 145 146 147 148 149 150 151 152 153 154 155 156 157 158 159 160 161 162 163 164 165 166 167 168 169 170 171 172 173 174 175 176 177 178 179 180 181 182 183 184 185 186 187 188 189 190 191 192 193 194 195 196 197 198 199 "
     ]
    }
   ],
   "source": [
    "earliest_startyear = 1900\n",
    "fillvalue = 2100\n",
    "hadcrut5_startyear_list = []\n",
    "hadcrut5_availability_list = []\n",
    "for i, _file in enumerate(hadcrut5_files):\n",
    "    print(i, end=\" \")\n",
    "    _hadcrut5_ds = xr.open_dataset(_file)[hadcrut5_tas_var]\n",
    "    \n",
    "    # Create mask of available by Nathan's GISTEMP standard but 4 seasons.\n",
    "    # Require 4 seasons because trends may be influenced by missing seasons.\n",
    "    _availability_mask = _hadcrut5_ds.groupby(\"time.year\").map(annual_data, season_threshold=4)\n",
    "    _realization_startyears = startyear_running_availability(\n",
    "        _availability_mask,\n",
    "        fillvalue=fillvalue, # Mask nans into reals so that the quantile operation works later.\n",
    "    )\n",
    "\n",
    "    hadcrut5_startyear_list.append(_realization_startyears)\n",
    "    hadcrut5_availability_list.append(_availability_mask)\n",
    "\n",
    "del _hadcrut5_ds\n",
    "hadcrut5_startyears = xr.concat(hadcrut5_startyear_list, dim=\"realization\")\n",
    "hadcrut5_availability = xr.concat(hadcrut5_availability_list, dim=\"realization\")\n",
    "hadcrut5_startyear_mid = hadcrut5_startyears.quantile(0.5, dim=\"realization\")\n",
    "# Set values less than 1900 to 1900.\n",
    "hadcrut5_startyear_final = xr.where(\n",
    "    hadcrut5_startyear_mid > earliest_startyear,\n",
    "    hadcrut5_startyear_mid, \n",
    "    earliest_startyear,\n",
    ")\n",
    "hadcrut5_startyear_final = hadcrut5_startyear_final.where(hadcrut5_startyear_final != fillvalue) # Revert masking to a nan\n",
    "del hadcrut5_startyear_mid, hadcrut5_startyear_list, hadcrut5_availability_list"
   ]
  },
  {
   "cell_type": "code",
   "execution_count": 15,
   "id": "6f880c09",
   "metadata": {},
   "outputs": [
    {
     "name": "stdout",
     "output_type": "stream",
     "text": [
      "0 1 2 3 4 5 6 7 8 9 10 11 12 13 14 15 16 17 18 19 20 21 22 23 24 25 26 27 28 29 30 31 32 33 34 35 36 37 38 39 40 41 42 43 44 45 46 47 48 49 50 51 52 53 54 55 56 57 58 59 60 61 62 63 64 65 66 67 68 69 70 71 72 73 74 75 76 77 78 79 80 81 82 83 84 85 86 87 88 89 90 91 92 93 94 95 96 97 98 99 100 101 102 103 104 105 106 107 108 109 110 111 112 113 114 115 116 117 118 119 120 121 122 123 124 125 126 127 128 129 130 131 132 133 134 135 136 137 138 139 140 141 142 143 144 145 146 147 148 149 150 151 152 153 154 155 156 157 158 159 160 161 162 163 164 165 166 167 168 169 170 171 172 173 174 175 176 177 178 179 180 181 182 183 184 185 186 187 188 189 190 191 192 193 194 195 196 197 198 199 "
     ]
    }
   ],
   "source": [
    "# Now iterate over the files and re-index them!\n",
    "\n",
    "hadcrut5_reindexed_list = []\n",
    "for i, _file in enumerate(hadcrut5_files):\n",
    "    print(i, end=\" \")\n",
    "    _hadcrut5_ds = xr.open_dataset(_file)[hadcrut5_tas_var]\n",
    "    _mask = hadcrut5_availability.sel(realization=_hadcrut5_ds.realization)\n",
    "    \n",
    "    _hadcrut5_ann_avg = annual_average_from_seasonal_averages(_hadcrut5_ds).where(_mask)\n",
    "\n",
    "    _hadcrut5_reindex = reindex_time_by_startyear(\n",
    "        data_ann_avg=_hadcrut5_ann_avg,\n",
    "        startyears=hadcrut5_startyear_final,\n",
    "        spatial_str=\"RegionIndex\",\n",
    "    )\n",
    "    hadcrut5_reindexed_list.append(_hadcrut5_reindex)\n",
    "    # if i == 2: break\n",
    "hadcrut5_reindexed = xr.concat(hadcrut5_reindexed_list, dim=\"realization\")\n",
    "hadcrut5_reindexed = hadcrut5_reindexed.sortby(\"realization\")\n",
    "\n",
    "del _hadcrut5_ds, hadcrut5_reindexed_list"
   ]
  },
  {
   "cell_type": "code",
   "execution_count": 16,
   "id": "964e1095",
   "metadata": {},
   "outputs": [],
   "source": [
    "# Save\n",
    "hadcrut5_reindexed.to_netcdf(f\"{obslens_tseries_dir}/HadCRUT5/20240820/xagg/HadCRUT.5.0.2.0.001_200.reindexed.IPCCRegions.190001-202412.nc\")\n",
    "hadcrut5_availability.to_netcdf(f\"{obslens_tseries_dir}/HadCRUT5/20240820/xagg/HadCRUT.5.0.2.0.001_0200.availability.IPCCRegions.190001-202412.nc\")\n",
    "hadcrut5_startyears.to_netcdf(f\"{obslens_tseries_dir}/HadCRUT5/20240820/xagg/HadCRUT.5.0.2.0.001_0200.startyears.IPCCRegions.190001-202412.nc\")"
   ]
  },
  {
   "cell_type": "markdown",
   "id": "09ab6878",
   "metadata": {},
   "source": [
    "#### DCENT"
   ]
  },
  {
   "cell_type": "code",
   "execution_count": 17,
   "id": "8f025557",
   "metadata": {},
   "outputs": [
    {
     "name": "stdout",
     "output_type": "stream",
     "text": [
      "0 1 2 3 4 5 6 7 8 9 10 11 12 13 14 15 16 17 18 19 20 21 22 23 24 25 26 27 28 29 30 31 32 33 34 35 36 37 38 39 40 41 42 43 44 45 46 47 48 49 50 51 52 53 54 55 56 57 58 59 60 61 62 63 64 65 66 67 68 69 70 71 72 73 74 75 76 77 78 79 80 81 82 83 84 85 86 87 88 89 90 91 92 93 94 95 96 97 98 99 100 101 102 103 104 105 106 107 108 109 110 111 112 113 114 115 116 117 118 119 120 121 122 123 124 125 126 127 128 129 130 131 132 133 134 135 136 137 138 139 140 141 142 143 144 145 146 147 148 149 150 151 152 153 154 155 156 157 158 159 160 161 162 163 164 165 166 167 168 169 170 171 172 173 174 175 176 177 178 179 180 181 182 183 184 185 186 187 188 189 190 191 192 193 194 195 196 197 198 199 "
     ]
    }
   ],
   "source": [
    "earliest_startyear = 1900\n",
    "fillvalue = 2100\n",
    "dcent_unfilled_startyear_list = []\n",
    "dcent_unfilled_availability_list = []\n",
    "for i, _file in enumerate(dcent_unfilled_files):\n",
    "    print(i, end=\" \")\n",
    "    _dcent_ds = xr.open_dataset(_file)[dcent_unfilled_tas_var]\n",
    "    \n",
    "    # Create mask of available by Nathan's GISTEMP standard but 4 seasons.\n",
    "    # Require 4 seasons because trends may be influenced by missing seasons.\n",
    "    _availability_mask = _dcent_ds.groupby(\"time.year\").map(annual_data, season_threshold=4)\n",
    "    _realization_startyears = startyear_running_availability(\n",
    "        _availability_mask,\n",
    "        fillvalue=fillvalue, # Mask nans into reals so that the quantile operation works later.\n",
    "    )\n",
    "\n",
    "    dcent_unfilled_startyear_list.append(_realization_startyears)\n",
    "    dcent_unfilled_availability_list.append(_availability_mask)\n",
    "\n",
    "del _dcent_ds\n",
    "dcent_unfilled_startyears = xr.concat(dcent_unfilled_startyear_list, dim=\"realization\")\n",
    "dcent_unfilled_availability = xr.concat(dcent_unfilled_availability_list, dim=\"realization\")\n",
    "dcent_unfilled_startyear_mid = dcent_unfilled_startyears.quantile(0.5, dim=\"realization\")\n",
    "# Set values less than 1900 to 1900.\n",
    "dcent_unfilled_startyear_final = xr.where(\n",
    "    dcent_unfilled_startyear_mid > earliest_startyear,\n",
    "    dcent_unfilled_startyear_mid, \n",
    "    earliest_startyear,\n",
    ")\n",
    "dcent_unfilled_startyear_final = dcent_unfilled_startyear_final.where(dcent_unfilled_startyear_final != fillvalue) # Revert masking to a nan\n",
    "del dcent_unfilled_startyear_mid, dcent_unfilled_startyear_list, dcent_unfilled_availability_list"
   ]
  },
  {
   "cell_type": "code",
   "execution_count": 18,
   "id": "872d1db7",
   "metadata": {},
   "outputs": [
    {
     "name": "stdout",
     "output_type": "stream",
     "text": [
      "0 1 2 3 4 5 6 7 8 9 10 11 12 13 14 15 16 17 18 19 20 21 22 23 24 25 26 27 28 29 30 31 32 33 34 35 36 37 38 39 40 41 42 43 44 45 46 47 48 49 50 51 52 53 54 55 56 57 58 59 60 61 62 63 64 65 66 67 68 69 70 71 72 73 74 75 76 77 78 79 80 81 82 83 84 85 86 87 88 89 90 91 92 93 94 95 96 97 98 99 100 101 102 103 104 105 106 107 108 109 110 111 112 113 114 115 116 117 118 119 120 121 122 123 124 125 126 127 128 129 130 131 132 133 134 135 136 137 138 139 140 141 142 143 144 145 146 147 148 149 150 151 152 153 154 155 156 157 158 159 160 161 162 163 164 165 166 167 168 169 170 171 172 173 174 175 176 177 178 179 180 181 182 183 184 185 186 187 188 189 190 191 192 193 194 195 196 197 198 199 "
     ]
    }
   ],
   "source": [
    "# Now iterate over the files and re-index them!\n",
    "\n",
    "dcent_unfilled_reindexed_list = []\n",
    "for i, _file in enumerate(dcent_unfilled_files):\n",
    "    print(i, end=\" \")\n",
    "    _dcent_ds = xr.open_dataset(_file)[dcent_unfilled_tas_var]\n",
    "    _mask = dcent_unfilled_availability.sel(realization=_dcent_ds.realization)\n",
    "    \n",
    "    _dcent_unfilled_ann_avg = annual_average_from_seasonal_averages(_dcent_ds).where(_mask)\n",
    "\n",
    "    _dcent_unfilled_reindex = reindex_time_by_startyear(\n",
    "        data_ann_avg=_dcent_unfilled_ann_avg,\n",
    "        startyears=dcent_unfilled_startyear_final,\n",
    "        spatial_str=\"RegionIndex\",\n",
    "    )\n",
    "    dcent_unfilled_reindexed_list.append(_dcent_unfilled_reindex)\n",
    "    # if i == 2: break\n",
    "dcent_unfilled_reindexed = xr.concat(dcent_unfilled_reindexed_list, dim=\"realization\")\n",
    "dcent_unfilled_reindexed = dcent_unfilled_reindexed.sortby(\"realization\")\n",
    "\n",
    "del _dcent_ds, dcent_unfilled_reindexed_list"
   ]
  },
  {
   "cell_type": "code",
   "execution_count": 19,
   "id": "2cee1b68",
   "metadata": {},
   "outputs": [],
   "source": [
    "# Save\n",
    "dcent_unfilled_reindexed.to_netcdf(f\"{obslens_tseries_dir}/DCENT/20240901/xagg/DCENT_ensemble_1850_2023.001_200.reindexed.IPCCRegions.190001-202312.nc\")\n",
    "dcent_unfilled_availability.to_netcdf(f\"{obslens_tseries_dir}/DCENT/20240901/xagg/DCENT_ensemble_1850_2023.001_200.availability.IPCCRegions.190001-202312.nc\")\n",
    "dcent_unfilled_startyears.to_netcdf(f\"{obslens_tseries_dir}/DCENT/20240901/xagg/DCENT_ensemble_1850_2023.001_200.startyears.IPCCRegions.190001-202312.nc\")"
   ]
  },
  {
   "cell_type": "markdown",
   "id": "446d10b9",
   "metadata": {},
   "source": [
    "## Repeat start year calculating and re-indexing for 5x5 deg. data"
   ]
  },
  {
   "cell_type": "code",
   "execution_count": 10,
   "id": "cb43d11b",
   "metadata": {},
   "outputs": [],
   "source": [
    "gistemp_tas_var = 'tas'\n",
    "hadcrut5_tas_var = 'tas'\n",
    "dcent_unfilled_tas_var = \"temperature\""
   ]
  },
  {
   "cell_type": "code",
   "execution_count": 11,
   "id": "8bc1bf37",
   "metadata": {},
   "outputs": [],
   "source": [
    "gistemp_2x2_dir = '/glade/derecho/scratch/lenssen/data4jonah/GISTEMP_Ensemble_Aug/' # I don't want to use this\n",
    "gistemp_dir = \"/glade/derecho/scratch/lenssen/data4jonah/GISTEMP_Ensemble_Aug_5x5/\"\n",
    "hadcrut5_dir = '/glade/derecho/scratch/lenssen/data4jonah/HadCRUT5_Ensemble_Aug/'\n",
    "dcent_unfilled_dir = \"/glade/u/home/jonahshaw/w/trend_uncertainty/nathan/OBS_LENS/DCENT/rawdata/DCENT_ensemble/\""
   ]
  },
  {
   "cell_type": "markdown",
   "id": "97cee396",
   "metadata": {},
   "source": [
    "### Collect file paths."
   ]
  },
  {
   "cell_type": "markdown",
   "id": "c9ef271e",
   "metadata": {},
   "source": [
    "#### Collect GISTEMP file paths."
   ]
  },
  {
   "cell_type": "code",
   "execution_count": 12,
   "id": "ec053153",
   "metadata": {},
   "outputs": [],
   "source": [
    "gistemp_files = glob.glob('%s/ensembleChunk_5x5_????.nc' % gistemp_dir)\n",
    "gistemp_files.sort()"
   ]
  },
  {
   "cell_type": "markdown",
   "id": "4fbde7aa",
   "metadata": {},
   "source": [
    "#### Collect HadCRUT5 file paths."
   ]
  },
  {
   "cell_type": "code",
   "execution_count": 13,
   "id": "933f01b6",
   "metadata": {},
   "outputs": [],
   "source": [
    "hadcrut5_files = glob.glob('%s/HadCRUT.5.0.2.0.analysis.anomalies.*.nc' % hadcrut5_dir)\n",
    "hadcrut5_files.sort()"
   ]
  },
  {
   "cell_type": "markdown",
   "id": "c1b30abd",
   "metadata": {},
   "source": [
    "#### Collect DCENT (unfilled) file paths."
   ]
  },
  {
   "cell_type": "code",
   "execution_count": 14,
   "id": "e8db50f2",
   "metadata": {},
   "outputs": [],
   "source": [
    "dcent_unfilled_files = glob.glob('%s/DCENT_ensemble_1850_2023_member_???.nc' % dcent_unfilled_dir)\n",
    "dcent_unfilled_files.sort()"
   ]
  },
  {
   "cell_type": "markdown",
   "id": "65df1e65",
   "metadata": {},
   "source": [
    "## GISTEMP"
   ]
  },
  {
   "cell_type": "code",
   "execution_count": 15,
   "id": "ea277179",
   "metadata": {},
   "outputs": [
    {
     "name": "stdout",
     "output_type": "stream",
     "text": [
      "0 1 2 3 4 5 6 7 8 9 10 11 12 13 14 15 16 17 18 19 20 21 22 23 24 25 26 27 28 29 30 31 32 33 34 35 36 37 38 39 40 41 42 43 44 45 46 47 48 49 50 51 52 53 54 55 56 57 58 59 60 61 62 63 64 65 66 67 68 69 70 71 72 73 74 75 76 77 78 79 80 81 82 83 84 85 86 87 88 89 90 91 92 93 94 95 96 97 98 99 100 101 102 103 104 105 106 107 108 109 110 111 112 113 114 115 116 117 118 119 120 121 122 123 124 125 126 127 128 129 130 131 132 133 134 135 136 137 138 139 140 141 142 143 144 145 146 147 148 149 150 151 152 153 154 155 156 157 158 159 160 161 162 163 164 165 166 167 168 169 170 171 172 173 174 175 176 177 178 179 180 181 182 183 184 185 186 187 188 189 190 191 192 193 194 195 196 197 198 199 "
     ]
    }
   ],
   "source": [
    "earliest_startyear = 1900\n",
    "fillvalue = 2100\n",
    "gistemp_startyear_list = []\n",
    "gistemp_availability_list = []\n",
    "for i, _file in enumerate(gistemp_files):\n",
    "    print(i, end=\" \")\n",
    "    _gistemp_ds = xr.open_dataset(_file).rename({\"latitude\": \"lat\", \"longitude\": \"lon\"})[gistemp_tas_var]\n",
    "    \n",
    "    # Create mask of available by Nathan's GISTEMP standard but 4 seasons.\n",
    "    # Require 4 seasons because trends may be influenced by missing seasons.\n",
    "    _availability_mask = _gistemp_ds.groupby(\"time.year\").map(annual_data, season_threshold=4)\n",
    "    _realization_startyears = startyear_running_availability(\n",
    "        _availability_mask,\n",
    "        fillvalue=fillvalue, # Mask nans into reals so that the quantile operation works later.\n",
    "    )\n",
    "    _realization_startyears = _realization_startyears.assign_coords(realization=i+1).expand_dims(\"realization\")\n",
    "    _availability_mask = _availability_mask.assign_coords(realization=i+1).expand_dims(\"realization\")\n",
    "\n",
    "    gistemp_startyear_list.append(_realization_startyears)\n",
    "    gistemp_availability_list.append(_availability_mask)\n",
    "    # if i == 5: break\n",
    "\n",
    "del _gistemp_ds\n",
    "gistemp_startyears = xr.concat(gistemp_startyear_list, dim=\"realization\")\n",
    "gistemp_availability = xr.concat(gistemp_availability_list, dim=\"realization\")\n",
    "gistemp_startyear_mid = gistemp_startyears.quantile(0.5, dim=\"realization\")\n",
    "# Set values less than 1900 to 1900.\n",
    "gistemp_startyear_final = xr.where(\n",
    "    gistemp_startyear_mid > earliest_startyear,\n",
    "    gistemp_startyear_mid, \n",
    "    earliest_startyear,\n",
    ")\n",
    "gistemp_startyear_final = gistemp_startyear_final.where(gistemp_startyear_final != fillvalue) # Revert masking to a nan\n",
    "del gistemp_startyear_mid, gistemp_startyear_list, gistemp_availability_list"
   ]
  },
  {
   "cell_type": "code",
   "execution_count": 16,
   "id": "523a1ac4",
   "metadata": {},
   "outputs": [
    {
     "name": "stdout",
     "output_type": "stream",
     "text": [
      "0 1 2 3 4 5 6 7 8 9 10 11 12 13 14 15 16 17 18 19 20 21 22 23 24 25 26 27 28 29 30 31 32 33 34 35 36 37 38 39 40 41 42 43 44 45 46 47 48 49 50 51 52 53 54 55 56 57 58 59 60 61 62 63 64 65 66 67 68 69 70 71 72 73 74 75 76 77 78 79 80 81 82 83 84 85 86 87 88 89 90 91 92 93 94 95 96 97 98 99 100 101 102 103 104 105 106 107 108 109 110 111 112 113 114 115 116 117 118 119 120 121 122 123 124 125 126 127 128 129 130 131 132 133 134 135 136 137 138 139 140 141 142 143 144 145 146 147 148 149 150 151 152 153 154 155 156 157 158 159 160 161 162 163 164 165 166 167 168 169 170 171 172 173 174 175 176 177 178 179 180 181 182 183 184 185 186 187 188 189 190 191 192 193 194 195 196 197 198 199 "
     ]
    }
   ],
   "source": [
    "# Now iterate over the files and re-index them!\n",
    "\n",
    "gistemp_reindexed_list = []\n",
    "for i, _file in enumerate(gistemp_files):\n",
    "    print(i, end=\" \")\n",
    "    _gistemp_ds = xr.open_dataset(_file).rename({\"latitude\": \"lat\", \"longitude\": \"lon\"})[gistemp_tas_var]\n",
    "    _realization = i+1\n",
    "    _mask = gistemp_availability.sel(realization=_realization)\n",
    "    \n",
    "    _gistemp_ann_avg = annual_average_from_seasonal_averages(_gistemp_ds).where(_mask)\n",
    "\n",
    "    _gistemp_reindex = reindex_time_by_startyear(\n",
    "        data_ann_avg=_gistemp_ann_avg,\n",
    "        startyears=gistemp_startyear_final,\n",
    "        stack_vars=[\"lat\", \"lon\"],\n",
    "        spatial_str=\"z\",\n",
    "    )\n",
    "    _gistemp_reindex = _gistemp_reindex.assign_coords(realization=_realization).expand_dims(\"realization\")\n",
    "    \n",
    "    gistemp_reindexed_list.append(_gistemp_reindex)\n",
    "    # if i == 1: break\n",
    "gistemp_reindexed = xr.concat(gistemp_reindexed_list, dim=\"realization\")\n",
    "del _gistemp_ds, gistemp_reindexed_list"
   ]
  },
  {
   "cell_type": "code",
   "execution_count": 17,
   "id": "9c449ce7",
   "metadata": {},
   "outputs": [],
   "source": [
    "gistemp_reindexed.to_netcdf(f\"{obslens_tseries_dir}/GISTEMP_5x5/20240820/xagg/ensembleChunks_0001_0200.reindexed.5x5.190001-202012.nc\")\n",
    "gistemp_startyears.to_netcdf(f\"{obslens_tseries_dir}/GISTEMP_5x5/20240820/xagg/ensembleChunks_0001_0200.startyears.5x5.190001-202012.nc\")\n",
    "gistemp_availability.to_netcdf(f\"{obslens_tseries_dir}/GISTEMP_5x5/20240820/xagg/ensembleChunks_0001_0200.availability.5x5.190001-202012.nc\")\n",
    "del gistemp_reindexed"
   ]
  },
  {
   "cell_type": "markdown",
   "id": "61959042",
   "metadata": {},
   "source": [
    "## HadCRUT5"
   ]
  },
  {
   "cell_type": "code",
   "execution_count": 18,
   "id": "98220fa6",
   "metadata": {},
   "outputs": [
    {
     "name": "stdout",
     "output_type": "stream",
     "text": [
      "0 1 2 3 4 5 6 7 8 9 10 11 12 13 14 15 16 17 18 19 20 21 22 23 24 25 26 27 28 29 30 31 32 33 34 35 36 37 38 39 40 41 42 43 44 45 46 47 48 49 50 51 52 53 54 55 56 57 58 59 60 61 62 63 64 65 66 67 68 69 70 71 72 73 74 75 76 77 78 79 80 81 82 83 84 85 86 87 88 89 90 91 92 93 94 95 96 97 98 99 100 101 102 103 104 105 106 107 108 109 110 111 112 113 114 115 116 117 118 119 120 121 122 123 124 125 126 127 128 129 130 131 132 133 134 135 136 137 138 139 140 141 142 143 144 145 146 147 148 149 150 151 152 153 154 155 156 157 158 159 160 161 162 163 164 165 166 167 168 169 170 171 172 173 174 175 176 177 178 179 180 181 182 183 184 185 186 187 188 189 190 191 192 193 194 195 196 197 198 199 "
     ]
    }
   ],
   "source": [
    "earliest_startyear = 1900\n",
    "fillvalue = 2100\n",
    "hadcrut5_startyear_list = []\n",
    "hadcrut5_availability_list = []\n",
    "for i, _file in enumerate(hadcrut5_files):\n",
    "    print(i, end=\" \")\n",
    "    _hadcrut5_ds = xr.open_dataset(_file).rename({\"latitude\": \"lat\", \"longitude\": \"lon\"})[hadcrut5_tas_var]\n",
    "    \n",
    "    # Create mask of available by Nathan's GISTEMP standard but 4 seasons.\n",
    "    # Require 4 seasons because trends may be influenced by missing seasons.\n",
    "    _availability_mask = _hadcrut5_ds.groupby(\"time.year\").map(annual_data, season_threshold=4)\n",
    "    _realization_startyears = startyear_running_availability(\n",
    "        _availability_mask,\n",
    "        fillvalue=fillvalue, # Mask nans into reals so that the quantile operation works later.\n",
    "    )\n",
    "\n",
    "    hadcrut5_startyear_list.append(_realization_startyears)\n",
    "    hadcrut5_availability_list.append(_availability_mask)\n",
    "    # if i == 5: break\n",
    "\n",
    "del _hadcrut5_ds\n",
    "hadcrut5_startyears = xr.concat(hadcrut5_startyear_list, dim=\"realization\")\n",
    "hadcrut5_availability = xr.concat(hadcrut5_availability_list, dim=\"realization\")\n",
    "hadcrut5_startyear_mid = hadcrut5_startyears.quantile(0.5, dim=\"realization\")\n",
    "# Set values less than 1900 to 1900.\n",
    "hadcrut5_startyear_final = xr.where(\n",
    "    hadcrut5_startyear_mid > earliest_startyear,\n",
    "    hadcrut5_startyear_mid, \n",
    "    earliest_startyear,\n",
    ")\n",
    "hadcrut5_startyear_final = hadcrut5_startyear_final.where(hadcrut5_startyear_final != fillvalue) # Revert masking to a nan\n",
    "del hadcrut5_startyear_mid, hadcrut5_startyear_list, hadcrut5_availability_list"
   ]
  },
  {
   "cell_type": "code",
   "execution_count": 19,
   "id": "b094e8c7",
   "metadata": {},
   "outputs": [
    {
     "name": "stdout",
     "output_type": "stream",
     "text": [
      "0 1 2 3 4 5 6 7 8 9 10 11 12 13 14 15 16 17 18 19 20 21 22 23 24 25 26 27 28 29 30 31 32 33 34 35 36 37 38 39 40 41 42 43 44 45 46 47 48 49 50 51 52 53 54 55 56 57 58 59 60 61 62 63 64 65 66 67 68 69 70 71 72 73 74 75 76 77 78 79 80 81 82 83 84 85 86 87 88 89 90 91 92 93 94 95 96 97 98 99 100 101 102 103 104 105 106 107 108 109 110 111 112 113 114 115 116 117 118 119 120 121 122 123 124 125 126 127 128 129 130 131 132 133 134 135 136 137 138 139 140 141 142 143 144 145 146 147 148 149 150 151 152 153 154 155 156 157 158 159 160 161 162 163 164 165 166 167 168 169 170 171 172 173 174 175 176 177 178 179 180 181 182 183 184 185 186 187 188 189 190 191 192 193 194 195 196 197 198 199 "
     ]
    }
   ],
   "source": [
    "# Now iterate over the files and re-index them!\n",
    "\n",
    "hadcrut5_reindexed_list = []\n",
    "for i, _file in enumerate(hadcrut5_files):\n",
    "    print(i, end=\" \")\n",
    "    _hadcrut5_ds = xr.open_dataset(_file).rename({\"latitude\": \"lat\", \"longitude\": \"lon\"})[gistemp_tas_var]\n",
    "    _mask = hadcrut5_availability.sel(realization=_hadcrut5_ds.realization)\n",
    "    \n",
    "    _hadcrut5_ann_avg = annual_average_from_seasonal_averages(_hadcrut5_ds).where(_mask)\n",
    "\n",
    "    _hadcrut5_reindex = reindex_time_by_startyear(\n",
    "        data_ann_avg=_hadcrut5_ann_avg,\n",
    "        startyears=hadcrut5_startyear_final,\n",
    "        stack_vars=[\"lat\", \"lon\"],\n",
    "        spatial_str=\"z\",\n",
    "    )\n",
    "    \n",
    "    hadcrut5_reindexed_list.append(_hadcrut5_reindex)\n",
    "    # if i == 1: break\n",
    "hadcrut5_reindexed = xr.concat(hadcrut5_reindexed_list, dim=\"realization\")\n",
    "del _hadcrut5_ds, hadcrut5_reindexed_list"
   ]
  },
  {
   "cell_type": "code",
   "execution_count": 20,
   "id": "65b494a4",
   "metadata": {},
   "outputs": [],
   "source": [
    "hadcrut5_availability.to_netcdf(f\"{obslens_tseries_dir}/HadCRUT5/20240820/xagg/HadCRUT.5.0.2.0.0001_0200.availability.5x5.190001-202412.nc\")\n",
    "hadcrut5_reindexed.to_netcdf(f\"{obslens_tseries_dir}/HadCRUT5/20240820/xagg/HadCRUT.5.0.2.0.0001_0200.reindexed.5x5.190001-202412.nc\")\n",
    "hadcrut5_startyears.to_netcdf(f\"{obslens_tseries_dir}/HadCRUT5/20240820/xagg/HadCRUT.5.0.2.0.0001_0200.startyears.5x5.190001-202412.nc\")\n",
    "del hadcrut5_reindexed"
   ]
  },
  {
   "cell_type": "markdown",
   "id": "155e4556",
   "metadata": {},
   "source": [
    "## DCENT (unfilled)"
   ]
  },
  {
   "cell_type": "code",
   "execution_count": 30,
   "id": "e9405168",
   "metadata": {},
   "outputs": [
    {
     "name": "stdout",
     "output_type": "stream",
     "text": [
      "0 1 2 3 4 5 6 7 8 9 10 11 12 13 14 15 16 17 18 19 20 21 22 23 24 25 26 27 28 29 30 31 32 33 34 35 36 37 38 39 40 41 42 43 44 45 46 47 48 49 50 51 52 53 54 55 56 57 58 59 60 61 62 63 64 65 66 67 68 69 70 71 72 73 74 75 76 77 78 79 80 81 82 83 84 85 86 87 88 89 90 91 92 93 94 95 96 97 98 99 100 101 102 103 104 105 106 107 108 109 110 111 112 113 114 115 116 117 118 119 120 121 122 123 124 125 126 127 128 129 130 131 132 133 134 135 136 137 138 139 140 141 142 143 144 145 146 147 148 149 150 151 152 153 154 155 156 157 158 159 160 161 162 163 164 165 166 167 168 169 170 171 172 173 174 175 176 177 178 179 180 181 182 183 184 185 186 187 188 189 190 191 192 193 194 195 196 197 198 199 "
     ]
    }
   ],
   "source": [
    "earliest_startyear = 1900\n",
    "fillvalue = 2100\n",
    "dcent_unfilled_startyear_list = []\n",
    "dcent_unfilled_availability_list = []\n",
    "for i, _file in enumerate(dcent_unfilled_files):\n",
    "    print(i, end=\" \")\n",
    "    _dcent_ds = xr.open_dataset(_file)[dcent_unfilled_tas_var]\n",
    "    _realization = int(_file.split(\"_\")[-1][:3])\n",
    "    \n",
    "    # Create mask of available by Nathan's GISTEMP standard but 4 seasons.\n",
    "    # Require 4 seasons because trends may be influenced by missing seasons.\n",
    "    _availability_mask = _dcent_ds.groupby(\"time.year\").map(annual_data, season_threshold=4)\n",
    "    _realization_startyears = startyear_running_availability(\n",
    "        _availability_mask,\n",
    "        fillvalue=fillvalue, # Mask nans into reals so that the quantile operation works later.\n",
    "    )\n",
    "    _realization_startyears = _realization_startyears.assign_coords(realization=_realization).expand_dims(\"realization\")\n",
    "    _availability_mask = _availability_mask.assign_coords(realization=_realization).expand_dims(\"realization\")\n",
    "    dcent_unfilled_startyear_list.append(_realization_startyears)\n",
    "    dcent_unfilled_availability_list.append(_availability_mask)\n",
    "    # if i == 5: break\n",
    "\n",
    "del _dcent_ds\n",
    "dcent_unfilled_startyears = xr.concat(dcent_unfilled_startyear_list, dim=\"realization\")\n",
    "dcent_unfilled_availability = xr.concat(dcent_unfilled_availability_list, dim=\"realization\")\n",
    "dcent_unfilled_startyear_mid = dcent_unfilled_startyears.quantile(0.5, dim=\"realization\")\n",
    "# Set values less than 1900 to 1900.\n",
    "dcent_unfilled_startyear_final = xr.where(\n",
    "    dcent_unfilled_startyear_mid > earliest_startyear,\n",
    "    dcent_unfilled_startyear_mid, \n",
    "    earliest_startyear,\n",
    ")\n",
    "dcent_unfilled_startyear_final = dcent_unfilled_startyear_final.where(dcent_unfilled_startyear_final != fillvalue) # Revert masking to a nan\n",
    "del dcent_unfilled_startyear_mid, dcent_unfilled_startyear_list, dcent_unfilled_availability_list"
   ]
  },
  {
   "cell_type": "code",
   "execution_count": 31,
   "id": "3c8fa52e",
   "metadata": {},
   "outputs": [
    {
     "name": "stdout",
     "output_type": "stream",
     "text": [
      "0 1 2 3 4 5 6 7 8 9 10 11 12 13 14 15 16 17 18 19 20 21 22 23 24 25 26 27 28 29 30 31 32 33 34 35 36 37 38 39 40 41 42 43 44 45 46 47 48 49 50 51 52 53 54 55 56 57 58 59 60 61 62 63 64 65 66 67 68 69 70 71 72 73 74 75 76 77 78 79 80 81 82 83 84 85 86 87 88 89 90 91 92 93 94 95 96 97 98 99 100 101 102 103 104 105 106 107 108 109 110 111 112 113 114 115 116 117 118 119 120 121 122 123 124 125 126 127 128 129 130 131 132 133 134 135 136 137 138 139 140 141 142 143 144 145 146 147 148 149 150 151 152 153 154 155 156 157 158 159 160 161 162 163 164 165 166 167 168 169 170 171 172 173 174 175 176 177 178 179 180 181 182 183 184 185 186 187 188 189 190 191 192 193 194 195 196 197 198 199 "
     ]
    }
   ],
   "source": [
    "# Now iterate over the files and re-index them!\n",
    "\n",
    "dcent_unfilled_reindexed_list = []\n",
    "for i, _file in enumerate(dcent_unfilled_files):\n",
    "    print(i, end=\" \")\n",
    "    _dcent_ds = xr.open_dataset(_file)[dcent_unfilled_tas_var]\n",
    "    _realization = int(_file.split(\"_\")[-1][:3])\n",
    "    _mask = dcent_unfilled_availability.sel(realization=_realization)\n",
    "    \n",
    "    _dcent_unfilled_ann_avg = annual_average_from_seasonal_averages(_dcent_ds).where(_mask)\n",
    "\n",
    "    _dcent_unfilled_reindex = reindex_time_by_startyear(\n",
    "        data_ann_avg=_dcent_unfilled_ann_avg,\n",
    "        startyears=dcent_unfilled_startyear_final,\n",
    "        stack_vars=[\"lat\", \"lon\"],\n",
    "        spatial_str=\"z\",\n",
    "    )\n",
    "    _dcent_unfilled_reindex =_dcent_unfilled_reindex.assign_coords(realization=_realization).expand_dims(\"realization\")\n",
    "    dcent_unfilled_reindexed_list.append(_dcent_unfilled_reindex)\n",
    "    # if i == 2: break\n",
    "dcent_unfilled_reindexed = xr.concat(dcent_unfilled_reindexed_list, dim=\"realization\")\n",
    "dcent_unfilled_reindexed = dcent_unfilled_reindexed.sortby(\"realization\")\n",
    "\n",
    "del _dcent_ds, dcent_unfilled_reindexed_list"
   ]
  },
  {
   "cell_type": "code",
   "execution_count": 32,
   "id": "c11d3eaf",
   "metadata": {},
   "outputs": [],
   "source": [
    "dcent_unfilled_reindexed.to_netcdf(f\"{obslens_tseries_dir}/DCENT/20240901/xagg/DCENT_ensemble_1850_2023.001_200.reindexed.5x5.190001-202312.nc\")\n",
    "dcent_unfilled_availability.to_netcdf(f\"{obslens_tseries_dir}/DCENT/20240901/xagg/DCENT_ensemble_1850_2023.001_200.availability.5x5.190001-202312.nc\")\n",
    "dcent_unfilled_startyears.to_netcdf(f\"{obslens_tseries_dir}/DCENT/20240901/xagg/DCENT_ensemble_1850_2023.001_200.startyears.5x5.190001-202312.nc\")"
   ]
  },
  {
   "cell_type": "markdown",
   "id": "1c60e4d7",
   "metadata": {},
   "source": [
    "### Old Stuff"
   ]
  },
  {
   "cell_type": "code",
   "execution_count": 175,
   "id": "3232a522",
   "metadata": {},
   "outputs": [
    {
     "data": {
      "text/plain": [
       "<matplotlib.collections.QuadMesh at 0x7f02816f4740>"
      ]
     },
     "execution_count": 175,
     "metadata": {},
     "output_type": "execute_result"
    },
    {
     "data": {
      "image/png": "[encoded data removed]",
      "text/plain": [
       "<Figure size 640x480 with 2 Axes>"
      ]
     },
     "metadata": {},
     "output_type": "display_data"
    }
   ],
   "source": [
    "gistemp_startyear_final.plot(vmin=1900,vmax=2000)\n"
   ]
  },
  {
   "cell_type": "code",
   "execution_count": 176,
   "id": "449d9268",
   "metadata": {},
   "outputs": [
    {
     "data": {
      "text/plain": [
       "<matplotlib.collections.QuadMesh at 0x7f0281e8e150>"
      ]
     },
     "execution_count": 176,
     "metadata": {},
     "output_type": "execute_result"
    },
    {
     "data": {
      "image/png": "[encoded data removed]",
      "text/plain": [
       "<Figure size 640x480 with 2 Axes>"
      ]
     },
     "metadata": {},
     "output_type": "display_data"
    }
   ],
   "source": [
    "hadcrut5_startyear_final.plot(vmin=1900,vmax=2000)"
   ]
  },
  {
   "cell_type": "code",
   "execution_count": null,
   "id": "3d553a68",
   "metadata": {},
   "outputs": [
    {
     "data": {
      "text/plain": [
       "<matplotlib.collections.QuadMesh at 0x7f0284f53890>"
      ]
     },
     "metadata": {},
     "output_type": "display_data"
    },
    {
     "data": {
      "image/png": "[encoded data removed]",
      "text/plain": [
       "<Figure size 640x480 with 2 Axes>"
      ]
     },
     "metadata": {},
     "output_type": "display_data"
    }
   ],
   "source": [
    "dcent_unfilled_startyear_final.plot(vmin=1900, vmax=2000)"
   ]
  },
  {
   "cell_type": "code",
   "execution_count": null,
   "id": "ebffee4d",
   "metadata": {},
   "outputs": [],
   "source": []
  },
  {
   "cell_type": "code",
   "execution_count": 119,
   "id": "579090ba",
   "metadata": {},
   "outputs": [],
   "source": [
    "def select_and_pad(\n",
    "    data: xr.DataArray,\n",
    "    in_dim: str, \n",
    "    out_dim: str, \n",
    "    startyear: int,\n",
    "    durations: np.ndarray,\n",
    "):\n",
    "    \n",
    "    print(type(data))\n",
    "    print(data.shape)\n",
    "    print(data)\n",
    "    subset = data.sel({in_dim: slice(startyear, None)})\n",
    "    subset_padded = subset.pad({in_dim: (0, len(data[in_dim]) - len(subset[in_dim]))})\n",
    "    subset_padded = subset_padded.rename({in_dim: out_dim}).assign_coords({out_dim: durations})\n",
    "    \n",
    "    return subset_padded\n",
    "\n",
    "\n",
    "def vectorized_reindex(\n",
    "    data,\n",
    "    in_dim,\n",
    "    out_dim,\n",
    "    startyear,\n",
    "    durations,\n",
    "):\n",
    "    '''\n",
    "    Package for vectorized linregress call from: \n",
    "    https://stackoverflow.com/questions/52094320/with-xarray-how-to-parallelize-1d-operations-on-a-multidimensional-dataset. \n",
    "    Not very general.\n",
    "    '''\n",
    "        \n",
    "    regressed_month = xr.apply_ufunc(\n",
    "        select_and_pad, \n",
    "        data, in_dim, out_dim, startyear, durations,\n",
    "        input_core_dims=[[in_dim], [in_dim], [in_dim], [in_dim], [in_dim]],\n",
    "        output_core_dims=[[out_dim]],\n",
    "        # vectorize=True,\n",
    "        dask=\"parallelized\",\n",
    "        output_dtypes=['float64'],\n",
    "        output_sizes={\"parameter\": 5},\n",
    "                      )\n",
    "    \n",
    "    return regressed_month"
   ]
  },
  {
   "cell_type": "code",
   "execution_count": null,
   "id": "3eb13fad",
   "metadata": {},
   "outputs": [],
   "source": [
    "# gistemp_reindexed.to_netcdf(f\"{obslens_tseries_dir}/GISTEMP_5x5/20240820/xagg/ensembleChunks_0001_0200.reindexed.IPCCRegions.190001-202012.nc\")"
   ]
  },
  {
   "cell_type": "code",
   "execution_count": 34,
   "id": "d825fa93",
   "metadata": {},
   "outputs": [
    {
     "data": {
      "text/plain": [
       "<matplotlib.collections.QuadMesh at 0x7f02999e62d0>"
      ]
     },
     "execution_count": 34,
     "metadata": {},
     "output_type": "execute_result"
    },
    {
     "data": {
      "image/png": "[encoded data removed]",
      "text/plain": [
       "<Figure size 640x480 with 2 Axes>"
      ]
     },
     "metadata": {},
     "output_type": "display_data"
    }
   ],
   "source": [
    "gistemp_startyear_final.plot()"
   ]
  },
  {
   "cell_type": "code",
   "execution_count": 22,
   "id": "24195108",
   "metadata": {},
   "outputs": [
    {
     "data": {
      "text/plain": [
       "<matplotlib.collections.QuadMesh at 0x7f02a010ea50>"
      ]
     },
     "execution_count": 22,
     "metadata": {},
     "output_type": "execute_result"
    },
    {
     "data": {
      "image/png": "[encoded data removed]",
      "text/plain": [
       "<Figure size 640x480 with 2 Axes>"
      ]
     },
     "metadata": {},
     "output_type": "display_data"
    }
   ],
   "source": [
    "_realization_startyears.plot()"
   ]
  },
  {
   "cell_type": "code",
   "execution_count": null,
   "id": "05d2b829",
   "metadata": {},
   "outputs": [],
   "source": []
  },
  {
   "cell_type": "markdown",
   "id": "ce625bbd",
   "metadata": {},
   "source": [
    "Disagreement between"
   ]
  },
  {
   "cell_type": "code",
   "execution_count": 32,
   "id": "21a5a771",
   "metadata": {},
   "outputs": [
    {
     "data": {
      "text/plain": [
       "Text(0, 0.5, 'SST Anomaly (deg. C)')"
      ]
     },
     "execution_count": 32,
     "metadata": {},
     "output_type": "execute_result"
    },
    {
     "data": {
      "image/png": "[encoded data removed]",
      "text/plain": [
       "<Figure size 600x500 with 1 Axes>"
      ]
     },
     "metadata": {},
     "output_type": "display_data"
    }
   ],
   "source": [
    "fig, ax = plt.subplots(1, 1, figsize=(6,5))\n",
    "\n",
    "ax.plot(\n",
    "    _gistemp_ds[\"time\"],\n",
    "    _gistemp_ds.sel(RegionIndex=51).squeeze(),\n",
    "    label=\"GISTEMP\",\n",
    "    linewidth=1,\n",
    ")\n",
    "ax.plot(\n",
    "    _hadcrut5_ds[\"time\"],\n",
    "    _hadcrut5_ds.sel(RegionIndex=51).squeeze(),\n",
    "    label=\"HadCRUT5\",\n",
    "    linewidth=1,\n",
    ")\n",
    "ax.plot(\n",
    "    _dcent_ds[\"time\"],\n",
    "    _dcent_ds.sel(RegionIndex=51).squeeze(),\n",
    "    label=\"DCENT unfilled\",\n",
    "    linewidth=1,\n",
    ")\n",
    "\n",
    "plt.legend()\n",
    "\n",
    "plt.title(\"SST anomalies in the Equatorial Atlantic Ocean IPCC Region\")\n",
    "\n",
    "ax.set_xlabel(\"Year\")\n",
    "ax.set_ylabel(\"SST Anomaly (deg. C)\")"
   ]
  },
  {
   "cell_type": "markdown",
   "id": "b3cfe0ac-40c3-4739-bd4c-ceb1f47c156c",
   "metadata": {},
   "source": [
    "### Process time series into unforced trends as a function of trend duration"
   ]
  },
  {
   "cell_type": "markdown",
   "id": "120a9157-54f2-4038-8fb9-e1428ee0371e",
   "metadata": {},
   "source": [
    "Using code from:  \n",
    "\n",
    "trend_uncertainty/PIC_trend_preproc.ipynb"
   ]
  },
  {
   "cell_type": "markdown",
   "id": "61854763-36ab-48f7-b297-e0b8cb1c371b",
   "metadata": {},
   "source": [
    "__Define functions:__"
   ]
  },
  {
   "cell_type": "code",
   "execution_count": 6,
   "id": "96c62515-82f9-4d1c-b476-4181a92a264b",
   "metadata": {},
   "outputs": [],
   "source": [
    "def get_trends_allstartyears(data,duration,startyears,dim='year'):\n",
    "    '''\n",
    "    Calculate: \n",
    "    a. trends of a given duration\n",
    "    '''\n",
    "    \n",
    "    description = 'Trends for an unforced Pre-Industrial Control simulation sampled by timeseries startyear and duration.'\n",
    "    \n",
    "    # Initialize list to save to\n",
    "    trends_list = []\n",
    "    \n",
    "    for i,startyear in enumerate(startyears):\n",
    "        \n",
    "        _startyr = startyear\n",
    "        _endyr   = startyear + duration - 1\n",
    "\n",
    "        _tsel = data.sel(year=slice(_startyr,_endyr)) # index differently here because the dates are different\n",
    "\n",
    "        # Calculate the slope\n",
    "        # print(_tsel)\n",
    "        # print(dim)\n",
    "        _tsel_polyfit = _tsel.polyfit(dim=dim, deg=1, skipna=False)['polyfit_coefficients'].sel(degree=1)\n",
    "        _tsel_slopes  = _tsel_polyfit.drop('degree')\n",
    "        \n",
    "        trends_list.append(_tsel_slopes.assign_coords({'startyear':startyear}).expand_dims('startyear'))\n",
    "        \n",
    "    out = xr.concat(trends_list,dim='startyear').assign_coords({'duration':duration}).expand_dims('duration')\n",
    "        \n",
    "    return out"
   ]
  },
  {
   "cell_type": "code",
   "execution_count": 7,
   "id": "ce9656e5-2ad7-464c-b48e-a19cb4ff59db",
   "metadata": {},
   "outputs": [],
   "source": [
    "def compute_trends_wrapper(data,durations=np.arange(5,81,),**kwargs):\n",
    "    '''\n",
    "    Wrapper for running 'get_allvar_allstartyears' for different durations.\n",
    "    Setup with correct startyears and concatenate at the end.\n",
    "    '''\n",
    "    \n",
    "    first_year = data['year'][0]\n",
    "    last_year  = data['year'][-1]\n",
    "\n",
    "    trends_allstartyear_allduration_list = []\n",
    "\n",
    "    for duration in durations:\n",
    "        print(duration,end=' ')\n",
    "        _startyears = np.arange(first_year,last_year+2-duration,1)\n",
    "\n",
    "        allvar_onedur_ds = get_trends_allstartyears(data,\n",
    "                                                    duration=duration,\n",
    "                                                    startyears=_startyears,\n",
    "                                                    **kwargs\n",
    "                                                   )\n",
    "        \n",
    "        trends_allstartyear_allduration_list.append(allvar_onedur_ds)\n",
    "                \n",
    "    trends_allstartyear_allduration_ds = xr.concat(trends_allstartyear_allduration_list,dim='duration')\n",
    "        \n",
    "    # Add metadata\n",
    "    trends_allstartyear_allduration_ds = trends_allstartyear_allduration_ds.assign_coords({\"RegionName\":   (\"RegionIndex\", data.RegionName)})\n",
    "    trends_allstartyear_allduration_ds = trends_allstartyear_allduration_ds.assign_coords({\"RegionAbbrev\": (\"RegionIndex\", data.RegionAbbrev)})\n",
    "\n",
    "    trends_allstartyear_allduration_ds.name = 'TAS_trends'\n",
    "    \n",
    "    return trends_allstartyear_allduration_ds"
   ]
  },
  {
   "cell_type": "markdown",
   "id": "71b6eba9-cedd-4820-b214-c52c7c9cd9a0",
   "metadata": {},
   "source": [
    "### Compute trends for all durations and save"
   ]
  },
  {
   "cell_type": "code",
   "execution_count": 8,
   "id": "2ab1b16f-56e9-49f8-a416-03702a6dc5fb",
   "metadata": {},
   "outputs": [],
   "source": [
    "gistemp_tas_var = 'tas'\n",
    "hadcrut5_tas_var = 'tas'"
   ]
  },
  {
   "cell_type": "markdown",
   "id": "de5a2026-e2d3-4247-962e-d32e3a53f5fc",
   "metadata": {},
   "source": [
    "#### GISTEMP 5x5"
   ]
  },
  {
   "cell_type": "code",
   "execution_count": 9,
   "id": "a5ad17dd-931c-4700-bc6f-e4b8e6c29570",
   "metadata": {},
   "outputs": [],
   "source": [
    "test_ds1 = xr.open_dataset(gistemp_5x5_files[0])\n",
    "test_ds2 = xr.open_dataset(gistemp_5x5_files[1])"
   ]
  },
  {
   "cell_type": "code",
   "execution_count": 10,
   "id": "33a321ee-9770-44fa-a7cc-438e69944e4f",
   "metadata": {},
   "outputs": [],
   "source": [
    "test_ds1 = xr.open_dataset(hadcrut5_files[0])\n",
    "test_ds2 = xr.open_dataset(hadcrut5_files[1])"
   ]
  },
  {
   "cell_type": "code",
   "execution_count": 11,
   "id": "259427ac-4419-4768-af1f-55a67b6ab6f0",
   "metadata": {},
   "outputs": [
    {
     "data": {
      "text/html": [
       "<div><svg style=\"position: absolute; width: 0; height: 0; overflow: hidden\">\n",
       "<defs>\n",
       "<symbol id=\"icon-database\" viewBox=\"0 0 32 32\">\n",
       "<path d=\"M16 0c-8.837 0-16 2.239-16 5v4c0 2.761 7.163 5 16 5s16-2.239 16-5v-4c0-2.761-7.163-5-16-5z\"></path>\n",
       "<path d=\"M16 17c-8.837 0-16-2.239-16-5v6c0 2.761 7.163 5 16 5s16-2.239 16-5v-6c0 2.761-7.163 5-16 5z\"></path>\n",
       "<path d=\"M16 26c-8.837 0-16-2.239-16-5v6c0 2.761 7.163 5 16 5s16-2.239 16-5v-6c0 2.761-7.163 5-16 5z\"></path>\n",
       "</symbol>\n",
       "<symbol id=\"icon-file-text2\" viewBox=\"0 0 32 32\">\n",
       "<path d=\"M28.681 7.159c-0.694-0.947-1.662-2.053-2.724-3.116s-2.169-2.030-3.116-2.724c-1.612-1.182-2.393-1.319-2.841-1.319h-15.5c-1.378 0-2.5 1.121-2.5 2.5v27c0 1.378 1.122 2.5 2.5 2.5h23c1.378 0 2.5-1.122 2.5-2.5v-19.5c0-0.448-0.137-1.23-1.319-2.841zM24.543 5.457c0.959 0.959 1.712 1.825 2.268 2.543h-4.811v-4.811c0.718 0.556 1.584 1.309 2.543 2.268zM28 29.5c0 0.271-0.229 0.5-0.5 0.5h-23c-0.271 0-0.5-0.229-0.5-0.5v-27c0-0.271 0.229-0.5 0.5-0.5 0 0 15.499-0 15.5 0v7c0 0.552 0.448 1 1 1h7v19.5z\"></path>\n",
       "<path d=\"M23 26h-14c-0.552 0-1-0.448-1-1s0.448-1 1-1h14c0.552 0 1 0.448 1 1s-0.448 1-1 1z\"></path>\n",
       "<path d=\"M23 22h-14c-0.552 0-1-0.448-1-1s0.448-1 1-1h14c0.552 0 1 0.448 1 1s-0.448 1-1 1z\"></path>\n",
       "<path d=\"M23 18h-14c-0.552 0-1-0.448-1-1s0.448-1 1-1h14c0.552 0 1 0.448 1 1s-0.448 1-1 1z\"></path>\n",
       "</symbol>\n",
       "</defs>\n",
       "</svg>\n",
       "<style>/* CSS stylesheet for displaying xarray objects in jupyterlab.\n",
       " *\n",
       " */\n",
       "\n",
       ":root {\n",
       "  --xr-font-color0: var(--jp-content-font-color0, rgba(0, 0, 0, 1));\n",
       "  --xr-font-color2: var(--jp-content-font-color2, rgba(0, 0, 0, 0.54));\n",
       "  --xr-font-color3: var(--jp-content-font-color3, rgba(0, 0, 0, 0.38));\n",
       "  --xr-border-color: var(--jp-border-color2, #e0e0e0);\n",
       "  --xr-disabled-color: var(--jp-layout-color3, #bdbdbd);\n",
       "  --xr-background-color: var(--jp-layout-color0, white);\n",
       "  --xr-background-color-row-even: var(--jp-layout-color1, white);\n",
       "  --xr-background-color-row-odd: var(--jp-layout-color2, #eeeeee);\n",
       "}\n",
       "\n",
       "html[theme=dark],\n",
       "body.vscode-dark {\n",
       "  --xr-font-color0: rgba(255, 255, 255, 1);\n",
       "  --xr-font-color2: rgba(255, 255, 255, 0.54);\n",
       "  --xr-font-color3: rgba(255, 255, 255, 0.38);\n",
       "  --xr-border-color: #1F1F1F;\n",
       "  --xr-disabled-color: #515151;\n",
       "  --xr-background-color: #111111;\n",
       "  --xr-background-color-row-even: #111111;\n",
       "  --xr-background-color-row-odd: #313131;\n",
       "}\n",
       "\n",
       ".xr-wrap {\n",
       "  display: block;\n",
       "  min-width: 300px;\n",
       "  max-width: 700px;\n",
       "}\n",
       "\n",
       ".xr-text-repr-fallback {\n",
       "  /* fallback to plain text repr when CSS is not injected (untrusted notebook) */\n",
       "  display: none;\n",
       "}\n",
       "\n",
       ".xr-header {\n",
       "  padding-top: 6px;\n",
       "  padding-bottom: 6px;\n",
       "  margin-bottom: 4px;\n",
       "  border-bottom: solid 1px var(--xr-border-color);\n",
       "}\n",
       "\n",
       ".xr-header > div,\n",
       ".xr-header > ul {\n",
       "  display: inline;\n",
       "  margin-top: 0;\n",
       "  margin-bottom: 0;\n",
       "}\n",
       "\n",
       ".xr-obj-type,\n",
       ".xr-array-name {\n",
       "  margin-left: 2px;\n",
       "  margin-right: 10px;\n",
       "}\n",
       "\n",
       ".xr-obj-type {\n",
       "  color: var(--xr-font-color2);\n",
       "}\n",
       "\n",
       ".xr-sections {\n",
       "  padding-left: 0 !important;\n",
       "  display: grid;\n",
       "  grid-template-columns: 150px auto auto 1fr 20px 20px;\n",
       "}\n",
       "\n",
       ".xr-section-item {\n",
       "  display: contents;\n",
       "}\n",
       "\n",
       ".xr-section-item input {\n",
       "  display: none;\n",
       "}\n",
       "\n",
       ".xr-section-item input + label {\n",
       "  color: var(--xr-disabled-color);\n",
       "}\n",
       "\n",
       ".xr-section-item input:enabled + label {\n",
       "  cursor: pointer;\n",
       "  color: var(--xr-font-color2);\n",
       "}\n",
       "\n",
       ".xr-section-item input:enabled + label:hover {\n",
       "  color: var(--xr-font-color0);\n",
       "}\n",
       "\n",
       ".xr-section-summary {\n",
       "  grid-column: 1;\n",
       "  color: var(--xr-font-color2);\n",
       "  font-weight: 500;\n",
       "}\n",
       "\n",
       ".xr-section-summary > span {\n",
       "  display: inline-block;\n",
       "  padding-left: 0.5em;\n",
       "}\n",
       "\n",
       ".xr-section-summary-in:disabled + label {\n",
       "  color: var(--xr-font-color2);\n",
       "}\n",
       "\n",
       ".xr-section-summary-in + label:before {\n",
       "  display: inline-block;\n",
       "  content: '►';\n",
       "  font-size: 11px;\n",
       "  width: 15px;\n",
       "  text-align: center;\n",
       "}\n",
       "\n",
       ".xr-section-summary-in:disabled + label:before {\n",
       "  color: var(--xr-disabled-color);\n",
       "}\n",
       "\n",
       ".xr-section-summary-in:checked + label:before {\n",
       "  content: '▼';\n",
       "}\n",
       "\n",
       ".xr-section-summary-in:checked + label > span {\n",
       "  display: none;\n",
       "}\n",
       "\n",
       ".xr-section-summary,\n",
       ".xr-section-inline-details {\n",
       "  padding-top: 4px;\n",
       "  padding-bottom: 4px;\n",
       "}\n",
       "\n",
       ".xr-section-inline-details {\n",
       "  grid-column: 2 / -1;\n",
       "}\n",
       "\n",
       ".xr-section-details {\n",
       "  display: none;\n",
       "  grid-column: 1 / -1;\n",
       "  margin-bottom: 5px;\n",
       "}\n",
       "\n",
       ".xr-section-summary-in:checked ~ .xr-section-details {\n",
       "  display: contents;\n",
       "}\n",
       "\n",
       ".xr-array-wrap {\n",
       "  grid-column: 1 / -1;\n",
       "  display: grid;\n",
       "  grid-template-columns: 20px auto;\n",
       "}\n",
       "\n",
       ".xr-array-wrap > label {\n",
       "  grid-column: 1;\n",
       "  vertical-align: top;\n",
       "}\n",
       "\n",
       ".xr-preview {\n",
       "  color: var(--xr-font-color3);\n",
       "}\n",
       "\n",
       ".xr-array-preview,\n",
       ".xr-array-data {\n",
       "  padding: 0 5px !important;\n",
       "  grid-column: 2;\n",
       "}\n",
       "\n",
       ".xr-array-data,\n",
       ".xr-array-in:checked ~ .xr-array-preview {\n",
       "  display: none;\n",
       "}\n",
       "\n",
       ".xr-array-in:checked ~ .xr-array-data,\n",
       ".xr-array-preview {\n",
       "  display: inline-block;\n",
       "}\n",
       "\n",
       ".xr-dim-list {\n",
       "  display: inline-block !important;\n",
       "  list-style: none;\n",
       "  padding: 0 !important;\n",
       "  margin: 0;\n",
       "}\n",
       "\n",
       ".xr-dim-list li {\n",
       "  display: inline-block;\n",
       "  padding: 0;\n",
       "  margin: 0;\n",
       "}\n",
       "\n",
       ".xr-dim-list:before {\n",
       "  content: '(';\n",
       "}\n",
       "\n",
       ".xr-dim-list:after {\n",
       "  content: ')';\n",
       "}\n",
       "\n",
       ".xr-dim-list li:not(:last-child):after {\n",
       "  content: ',';\n",
       "  padding-right: 5px;\n",
       "}\n",
       "\n",
       ".xr-has-index {\n",
       "  font-weight: bold;\n",
       "}\n",
       "\n",
       ".xr-var-list,\n",
       ".xr-var-item {\n",
       "  display: contents;\n",
       "}\n",
       "\n",
       ".xr-var-item > div,\n",
       ".xr-var-item label,\n",
       ".xr-var-item > .xr-var-name span {\n",
       "  background-color: var(--xr-background-color-row-even);\n",
       "  margin-bottom: 0;\n",
       "}\n",
       "\n",
       ".xr-var-item > .xr-var-name:hover span {\n",
       "  padding-right: 5px;\n",
       "}\n",
       "\n",
       ".xr-var-list > li:nth-child(odd) > div,\n",
       ".xr-var-list > li:nth-child(odd) > label,\n",
       ".xr-var-list > li:nth-child(odd) > .xr-var-name span {\n",
       "  background-color: var(--xr-background-color-row-odd);\n",
       "}\n",
       "\n",
       ".xr-var-name {\n",
       "  grid-column: 1;\n",
       "}\n",
       "\n",
       ".xr-var-dims {\n",
       "  grid-column: 2;\n",
       "}\n",
       "\n",
       ".xr-var-dtype {\n",
       "  grid-column: 3;\n",
       "  text-align: right;\n",
       "  color: var(--xr-font-color2);\n",
       "}\n",
       "\n",
       ".xr-var-preview {\n",
       "  grid-column: 4;\n",
       "}\n",
       "\n",
       ".xr-var-name,\n",
       ".xr-var-dims,\n",
       ".xr-var-dtype,\n",
       ".xr-preview,\n",
       ".xr-attrs dt {\n",
       "  white-space: nowrap;\n",
       "  overflow: hidden;\n",
       "  text-overflow: ellipsis;\n",
       "  padding-right: 10px;\n",
       "}\n",
       "\n",
       ".xr-var-name:hover,\n",
       ".xr-var-dims:hover,\n",
       ".xr-var-dtype:hover,\n",
       ".xr-attrs dt:hover {\n",
       "  overflow: visible;\n",
       "  width: auto;\n",
       "  z-index: 1;\n",
       "}\n",
       "\n",
       ".xr-var-attrs,\n",
       ".xr-var-data {\n",
       "  display: none;\n",
       "  background-color: var(--xr-background-color) !important;\n",
       "  padding-bottom: 5px !important;\n",
       "}\n",
       "\n",
       ".xr-var-attrs-in:checked ~ .xr-var-attrs,\n",
       ".xr-var-data-in:checked ~ .xr-var-data {\n",
       "  display: block;\n",
       "}\n",
       "\n",
       ".xr-var-data > table {\n",
       "  float: right;\n",
       "}\n",
       "\n",
       ".xr-var-name span,\n",
       ".xr-var-data,\n",
       ".xr-attrs {\n",
       "  padding-left: 25px !important;\n",
       "}\n",
       "\n",
       ".xr-attrs,\n",
       ".xr-var-attrs,\n",
       ".xr-var-data {\n",
       "  grid-column: 1 / -1;\n",
       "}\n",
       "\n",
       "dl.xr-attrs {\n",
       "  padding: 0;\n",
       "  margin: 0;\n",
       "  display: grid;\n",
       "  grid-template-columns: 125px auto;\n",
       "}\n",
       "\n",
       ".xr-attrs dt, dd {\n",
       "  padding: 0;\n",
       "  margin: 0;\n",
       "  float: left;\n",
       "  padding-right: 10px;\n",
       "  width: auto;\n",
       "}\n",
       "\n",
       ".xr-attrs dt {\n",
       "  font-weight: normal;\n",
       "  grid-column: 1;\n",
       "}\n",
       "\n",
       ".xr-attrs dt:hover span {\n",
       "  display: inline-block;\n",
       "  background: var(--xr-background-color);\n",
       "  padding-right: 10px;\n",
       "}\n",
       "\n",
       ".xr-attrs dd {\n",
       "  grid-column: 2;\n",
       "  white-space: pre-wrap;\n",
       "  word-break: break-all;\n",
       "}\n",
       "\n",
       ".xr-icon-database,\n",
       ".xr-icon-file-text2 {\n",
       "  display: inline-block;\n",
       "  vertical-align: middle;\n",
       "  width: 1em;\n",
       "  height: 1.5em !important;\n",
       "  stroke-width: 0;\n",
       "  stroke: currentColor;\n",
       "  fill: currentColor;\n",
       "}\n",
       "</style><pre class='xr-text-repr-fallback'>&lt;xarray.Dataset&gt;\n",
       "Dimensions:       (RegionIndex: 58, realization: 1, time: 1476)\n",
       "Coordinates:\n",
       "  * realization   (realization) int64 1\n",
       "  * time          (time) datetime64[ns] 1900-01-16T12:00:00 ... 2022-12-16T12...\n",
       "  * RegionIndex   (RegionIndex) int64 0 1 2 3 4 5 6 7 ... 51 52 53 54 55 56 57\n",
       "    RegionAbbrev  (RegionIndex) object &#x27;GIC&#x27; &#x27;NWN&#x27; &#x27;NEN&#x27; ... &#x27;EIO&#x27; &#x27;SIO&#x27; &#x27;SOO&#x27;\n",
       "    RegionName    (RegionIndex) object &#x27;Greenland/Iceland&#x27; ... &#x27;Southern-Ocean&#x27;\n",
       "Data variables:\n",
       "    tas           (realization, time, RegionIndex) float64 -0.4813 ... 0.535</pre><div class='xr-wrap' hidden><div class='xr-header'><div class='xr-obj-type'>xarray.Dataset</div></div><ul class='xr-sections'><li class='xr-section-item'><input id='section-a7326822-eaeb-476d-97ff-9f1a6f7f69a0' class='xr-section-summary-in' type='checkbox' disabled ><label for='section-a7326822-eaeb-476d-97ff-9f1a6f7f69a0' class='xr-section-summary'  title='Expand/collapse section'>Dimensions:</label><div class='xr-section-inline-details'><ul class='xr-dim-list'><li><span class='xr-has-index'>RegionIndex</span>: 58</li><li><span class='xr-has-index'>realization</span>: 1</li><li><span class='xr-has-index'>time</span>: 1476</li></ul></div><div class='xr-section-details'></div></li><li class='xr-section-item'><input id='section-c476af31-888b-46c7-9809-b65e9791972e' class='xr-section-summary-in' type='checkbox'  checked><label for='section-c476af31-888b-46c7-9809-b65e9791972e' class='xr-section-summary' >Coordinates: <span>(5)</span></label><div class='xr-section-inline-details'></div><div class='xr-section-details'><ul class='xr-var-list'><li class='xr-var-item'><div class='xr-var-name'><span class='xr-has-index'>realization</span></div><div class='xr-var-dims'>(realization)</div><div class='xr-var-dtype'>int64</div><div class='xr-var-preview xr-preview'>1</div><input id='attrs-2271a273-941f-49cc-b245-dd2aa4f502b2' class='xr-var-attrs-in' type='checkbox' ><label for='attrs-2271a273-941f-49cc-b245-dd2aa4f502b2' title='Show/Hide attributes'><svg class='icon xr-icon-file-text2'><use xlink:href='#icon-file-text2'></use></svg></label><input id='data-6e07e342-a795-427c-8c35-f317d62ef7c5' class='xr-var-data-in' type='checkbox'><label for='data-6e07e342-a795-427c-8c35-f317d62ef7c5' title='Show/Hide data repr'><svg class='icon xr-icon-database'><use xlink:href='#icon-database'></use></svg></label><div class='xr-var-attrs'><dl class='xr-attrs'><dt><span>units :</span></dt><dd>1</dd><dt><span>standard_name :</span></dt><dd>realization</dd></dl></div><div class='xr-var-data'><pre>array([1])</pre></div></li><li class='xr-var-item'><div class='xr-var-name'><span class='xr-has-index'>time</span></div><div class='xr-var-dims'>(time)</div><div class='xr-var-dtype'>datetime64[ns]</div><div class='xr-var-preview xr-preview'>1900-01-16T12:00:00 ... 2022-12-...</div><input id='attrs-a76d7716-84b9-411c-9555-e10b57e301eb' class='xr-var-attrs-in' type='checkbox' ><label for='attrs-a76d7716-84b9-411c-9555-e10b57e301eb' title='Show/Hide attributes'><svg class='icon xr-icon-file-text2'><use xlink:href='#icon-file-text2'></use></svg></label><input id='data-8247d343-041e-43d3-8c7a-8d67a3521907' class='xr-var-data-in' type='checkbox'><label for='data-8247d343-041e-43d3-8c7a-8d67a3521907' title='Show/Hide data repr'><svg class='icon xr-icon-database'><use xlink:href='#icon-database'></use></svg></label><div class='xr-var-attrs'><dl class='xr-attrs'><dt><span>axis :</span></dt><dd>T</dd><dt><span>bounds :</span></dt><dd>time_bnds</dd><dt><span>standard_name :</span></dt><dd>time</dd><dt><span>long_name :</span></dt><dd>time</dd></dl></div><div class='xr-var-data'><pre>array([&#x27;1900-01-16T12:00:00.000000000&#x27;, &#x27;1900-02-15T00:00:00.000000000&#x27;,\n",
       "       &#x27;1900-03-16T12:00:00.000000000&#x27;, ..., &#x27;2022-10-16T12:00:00.000000000&#x27;,\n",
       "       &#x27;2022-11-16T00:00:00.000000000&#x27;, &#x27;2022-12-16T12:00:00.000000000&#x27;],\n",
       "      dtype=&#x27;datetime64[ns]&#x27;)</pre></div></li><li class='xr-var-item'><div class='xr-var-name'><span class='xr-has-index'>RegionIndex</span></div><div class='xr-var-dims'>(RegionIndex)</div><div class='xr-var-dtype'>int64</div><div class='xr-var-preview xr-preview'>0 1 2 3 4 5 6 ... 52 53 54 55 56 57</div><input id='attrs-65c39a94-2936-4223-a81f-79a12274d743' class='xr-var-attrs-in' type='checkbox' disabled><label for='attrs-65c39a94-2936-4223-a81f-79a12274d743' title='Show/Hide attributes'><svg class='icon xr-icon-file-text2'><use xlink:href='#icon-file-text2'></use></svg></label><input id='data-084dab82-06d0-4e86-b30a-46df061f9a17' class='xr-var-data-in' type='checkbox'><label for='data-084dab82-06d0-4e86-b30a-46df061f9a17' title='Show/Hide data repr'><svg class='icon xr-icon-database'><use xlink:href='#icon-database'></use></svg></label><div class='xr-var-attrs'><dl class='xr-attrs'></dl></div><div class='xr-var-data'><pre>array([ 0,  1,  2,  3,  4,  5,  6,  7,  8,  9, 10, 11, 12, 13, 14, 15, 16, 17,\n",
       "       18, 19, 20, 21, 22, 23, 24, 25, 26, 27, 28, 29, 30, 31, 32, 33, 34, 35,\n",
       "       36, 37, 38, 39, 40, 41, 42, 43, 44, 45, 46, 47, 48, 49, 50, 51, 52, 53,\n",
       "       54, 55, 56, 57])</pre></div></li><li class='xr-var-item'><div class='xr-var-name'><span>RegionAbbrev</span></div><div class='xr-var-dims'>(RegionIndex)</div><div class='xr-var-dtype'>object</div><div class='xr-var-preview xr-preview'>...</div><input id='attrs-fbd94ea7-cabc-4305-9687-671ff70c53a3' class='xr-var-attrs-in' type='checkbox' disabled><label for='attrs-fbd94ea7-cabc-4305-9687-671ff70c53a3' title='Show/Hide attributes'><svg class='icon xr-icon-file-text2'><use xlink:href='#icon-file-text2'></use></svg></label><input id='data-37dae03e-8188-4d8e-9203-9e00b17bdda0' class='xr-var-data-in' type='checkbox'><label for='data-37dae03e-8188-4d8e-9203-9e00b17bdda0' title='Show/Hide data repr'><svg class='icon xr-icon-database'><use xlink:href='#icon-database'></use></svg></label><div class='xr-var-attrs'><dl class='xr-attrs'></dl></div><div class='xr-var-data'><pre>array([&#x27;GIC&#x27;, &#x27;NWN&#x27;, &#x27;NEN&#x27;, &#x27;WNA&#x27;, &#x27;CNA&#x27;, &#x27;ENA&#x27;, &#x27;NCA&#x27;, &#x27;SCA&#x27;, &#x27;CAR&#x27;, &#x27;NWS&#x27;,\n",
       "       &#x27;NSA&#x27;, &#x27;NES&#x27;, &#x27;SAM&#x27;, &#x27;SWS&#x27;, &#x27;SES&#x27;, &#x27;SSA&#x27;, &#x27;NEU&#x27;, &#x27;WCE&#x27;, &#x27;EEU&#x27;, &#x27;MED&#x27;,\n",
       "       &#x27;SAH&#x27;, &#x27;WAF&#x27;, &#x27;CAF&#x27;, &#x27;NEAF&#x27;, &#x27;SEAF&#x27;, &#x27;WSAF&#x27;, &#x27;ESAF&#x27;, &#x27;MDG&#x27;, &#x27;RAR&#x27;,\n",
       "       &#x27;WSB&#x27;, &#x27;ESB&#x27;, &#x27;RFE&#x27;, &#x27;WCA&#x27;, &#x27;ECA&#x27;, &#x27;TIB&#x27;, &#x27;EAS&#x27;, &#x27;ARP&#x27;, &#x27;SAS&#x27;, &#x27;SEA&#x27;,\n",
       "       &#x27;NAU&#x27;, &#x27;CAU&#x27;, &#x27;EAU&#x27;, &#x27;SAU&#x27;, &#x27;NZ&#x27;, &#x27;EAN&#x27;, &#x27;WAN&#x27;, &#x27;ARO&#x27;, &#x27;NPO&#x27;, &#x27;EPO&#x27;,\n",
       "       &#x27;SPO&#x27;, &#x27;NAO&#x27;, &#x27;EAO&#x27;, &#x27;SAO&#x27;, &#x27;ARS&#x27;, &#x27;BOB&#x27;, &#x27;EIO&#x27;, &#x27;SIO&#x27;, &#x27;SOO&#x27;],\n",
       "      dtype=object)</pre></div></li><li class='xr-var-item'><div class='xr-var-name'><span>RegionName</span></div><div class='xr-var-dims'>(RegionIndex)</div><div class='xr-var-dtype'>object</div><div class='xr-var-preview xr-preview'>...</div><input id='attrs-e77ff1ee-5caa-4579-81bb-e4823aeeb641' class='xr-var-attrs-in' type='checkbox' disabled><label for='attrs-e77ff1ee-5caa-4579-81bb-e4823aeeb641' title='Show/Hide attributes'><svg class='icon xr-icon-file-text2'><use xlink:href='#icon-file-text2'></use></svg></label><input id='data-f26f8c2b-c3db-42ce-ac6f-fa5a2b9a9f50' class='xr-var-data-in' type='checkbox'><label for='data-f26f8c2b-c3db-42ce-ac6f-fa5a2b9a9f50' title='Show/Hide data repr'><svg class='icon xr-icon-database'><use xlink:href='#icon-database'></use></svg></label><div class='xr-var-attrs'><dl class='xr-attrs'></dl></div><div class='xr-var-data'><pre>array([&#x27;Greenland/Iceland&#x27;, &#x27;N.W.North-America&#x27;, &#x27;N.E.North-America&#x27;,\n",
       "       &#x27;W.North-America&#x27;, &#x27;C.North-America&#x27;, &#x27;E.North-America&#x27;,\n",
       "       &#x27;N.Central-America&#x27;, &#x27;S.Central-America&#x27;, &#x27;Caribbean&#x27;,\n",
       "       &#x27;N.W.South-America&#x27;, &#x27;N.South-America&#x27;, &#x27;N.E.South-America&#x27;,\n",
       "       &#x27;South-American-Monsoon&#x27;, &#x27;S.W.South-America&#x27;, &#x27;S.E.South-America&#x27;,\n",
       "       &#x27;S.South-America&#x27;, &#x27;N.Europe&#x27;, &#x27;West&amp;Central-Europe&#x27;, &#x27;E.Europe&#x27;,\n",
       "       &#x27;Mediterranean&#x27;, &#x27;Sahara&#x27;, &#x27;Western-Africa&#x27;, &#x27;Central-Africa&#x27;,\n",
       "       &#x27;N.Eastern-Africa&#x27;, &#x27;S.Eastern-Africa&#x27;, &#x27;W.Southern-Africa&#x27;,\n",
       "       &#x27;E.Southern-Africa&#x27;, &#x27;Madagascar&#x27;, &#x27;Russian-Arctic&#x27;, &#x27;W.Siberia&#x27;,\n",
       "       &#x27;E.Siberia&#x27;, &#x27;Russian-Far-East&#x27;, &#x27;W.C.Asia&#x27;, &#x27;E.C.Asia&#x27;,\n",
       "       &#x27;Tibetan-Plateau&#x27;, &#x27;E.Asia&#x27;, &#x27;Arabian-Peninsula&#x27;, &#x27;S.Asia&#x27;, &#x27;S.E.Asia&#x27;,\n",
       "       &#x27;N.Australia&#x27;, &#x27;C.Australia&#x27;, &#x27;E.Australia&#x27;, &#x27;S.Australia&#x27;,\n",
       "       &#x27;New-Zealand&#x27;, &#x27;E.Antarctica&#x27;, &#x27;W.Antarctica&#x27;, &#x27;Arctic-Ocean&#x27;,\n",
       "       &#x27;N.Pacific-Ocean&#x27;, &#x27;Equatorial.Pacific-Ocean&#x27;, &#x27;S.Pacific-Ocean&#x27;,\n",
       "       &#x27;N.Atlantic-Ocean&#x27;, &#x27;Equatorial.Atlantic-Ocean&#x27;, &#x27;S.Atlantic-Ocean&#x27;,\n",
       "       &#x27;Arabian-Sea&#x27;, &#x27;Bay-of-Bengal&#x27;, &#x27;Equatorial.Indic-Ocean&#x27;,\n",
       "       &#x27;S.Indic-Ocean&#x27;, &#x27;Southern-Ocean&#x27;], dtype=object)</pre></div></li></ul></div></li><li class='xr-section-item'><input id='section-c4fc2066-5e50-4e85-9592-91f5f28f6031' class='xr-section-summary-in' type='checkbox'  checked><label for='section-c4fc2066-5e50-4e85-9592-91f5f28f6031' class='xr-section-summary' >Data variables: <span>(1)</span></label><div class='xr-section-inline-details'></div><div class='xr-section-details'><ul class='xr-var-list'><li class='xr-var-item'><div class='xr-var-name'><span>tas</span></div><div class='xr-var-dims'>(realization, time, RegionIndex)</div><div class='xr-var-dtype'>float64</div><div class='xr-var-preview xr-preview'>...</div><input id='attrs-37914c15-3dd7-411d-9f4e-649d78ede929' class='xr-var-attrs-in' type='checkbox' disabled><label for='attrs-37914c15-3dd7-411d-9f4e-649d78ede929' title='Show/Hide attributes'><svg class='icon xr-icon-file-text2'><use xlink:href='#icon-file-text2'></use></svg></label><input id='data-b9c96fd5-c265-47f2-9d00-c882f2519582' class='xr-var-data-in' type='checkbox'><label for='data-b9c96fd5-c265-47f2-9d00-c882f2519582' title='Show/Hide data repr'><svg class='icon xr-icon-database'><use xlink:href='#icon-database'></use></svg></label><div class='xr-var-attrs'><dl class='xr-attrs'></dl></div><div class='xr-var-data'><pre>array([[[-0.481323, -0.745141, ...,  0.22267 , -0.261418],\n",
       "        [-0.971996, -1.245675, ...,  0.122282, -0.254591],\n",
       "        ...,\n",
       "        [ 2.257077,  1.876073, ...,  0.466387,  0.403065],\n",
       "        [ 1.683668,  0.677498, ...,  0.443549,  0.534951]]])</pre></div></li></ul></div></li><li class='xr-section-item'><input id='section-82f65194-e9d2-4f18-8257-d5a65c199ee2' class='xr-section-summary-in' type='checkbox' disabled ><label for='section-82f65194-e9d2-4f18-8257-d5a65c199ee2' class='xr-section-summary'  title='Expand/collapse section'>Attributes: <span>(0)</span></label><div class='xr-section-inline-details'></div><div class='xr-section-details'><dl class='xr-attrs'></dl></div></li></ul></div></div>"
      ],
      "text/plain": [
       "<xarray.Dataset>\n",
       "Dimensions:       (RegionIndex: 58, realization: 1, time: 1476)\n",
       "Coordinates:\n",
       "  * realization   (realization) int64 1\n",
       "  * time          (time) datetime64[ns] 1900-01-16T12:00:00 ... 2022-12-16T12...\n",
       "  * RegionIndex   (RegionIndex) int64 0 1 2 3 4 5 6 7 ... 51 52 53 54 55 56 57\n",
       "    RegionAbbrev  (RegionIndex) object ...\n",
       "    RegionName    (RegionIndex) object ...\n",
       "Data variables:\n",
       "    tas           (realization, time, RegionIndex) float64 ..."
      ]
     },
     "execution_count": 11,
     "metadata": {},
     "output_type": "execute_result"
    }
   ],
   "source": [
    "test_ds2"
   ]
  },
  {
   "cell_type": "code",
   "execution_count": 12,
   "id": "6b90850f-c8ec-41b5-8118-b09f144428d4",
   "metadata": {},
   "outputs": [
    {
     "data": {
      "text/html": [
       "<div><svg style=\"position: absolute; width: 0; height: 0; overflow: hidden\">\n",
       "<defs>\n",
       "<symbol id=\"icon-database\" viewBox=\"0 0 32 32\">\n",
       "<path d=\"M16 0c-8.837 0-16 2.239-16 5v4c0 2.761 7.163 5 16 5s16-2.239 16-5v-4c0-2.761-7.163-5-16-5z\"></path>\n",
       "<path d=\"M16 17c-8.837 0-16-2.239-16-5v6c0 2.761 7.163 5 16 5s16-2.239 16-5v-6c0 2.761-7.163 5-16 5z\"></path>\n",
       "<path d=\"M16 26c-8.837 0-16-2.239-16-5v6c0 2.761 7.163 5 16 5s16-2.239 16-5v-6c0 2.761-7.163 5-16 5z\"></path>\n",
       "</symbol>\n",
       "<symbol id=\"icon-file-text2\" viewBox=\"0 0 32 32\">\n",
       "<path d=\"M28.681 7.159c-0.694-0.947-1.662-2.053-2.724-3.116s-2.169-2.030-3.116-2.724c-1.612-1.182-2.393-1.319-2.841-1.319h-15.5c-1.378 0-2.5 1.121-2.5 2.5v27c0 1.378 1.122 2.5 2.5 2.5h23c1.378 0 2.5-1.122 2.5-2.5v-19.5c0-0.448-0.137-1.23-1.319-2.841zM24.543 5.457c0.959 0.959 1.712 1.825 2.268 2.543h-4.811v-4.811c0.718 0.556 1.584 1.309 2.543 2.268zM28 29.5c0 0.271-0.229 0.5-0.5 0.5h-23c-0.271 0-0.5-0.229-0.5-0.5v-27c0-0.271 0.229-0.5 0.5-0.5 0 0 15.499-0 15.5 0v7c0 0.552 0.448 1 1 1h7v19.5z\"></path>\n",
       "<path d=\"M23 26h-14c-0.552 0-1-0.448-1-1s0.448-1 1-1h14c0.552 0 1 0.448 1 1s-0.448 1-1 1z\"></path>\n",
       "<path d=\"M23 22h-14c-0.552 0-1-0.448-1-1s0.448-1 1-1h14c0.552 0 1 0.448 1 1s-0.448 1-1 1z\"></path>\n",
       "<path d=\"M23 18h-14c-0.552 0-1-0.448-1-1s0.448-1 1-1h14c0.552 0 1 0.448 1 1s-0.448 1-1 1z\"></path>\n",
       "</symbol>\n",
       "</defs>\n",
       "</svg>\n",
       "<style>/* CSS stylesheet for displaying xarray objects in jupyterlab.\n",
       " *\n",
       " */\n",
       "\n",
       ":root {\n",
       "  --xr-font-color0: var(--jp-content-font-color0, rgba(0, 0, 0, 1));\n",
       "  --xr-font-color2: var(--jp-content-font-color2, rgba(0, 0, 0, 0.54));\n",
       "  --xr-font-color3: var(--jp-content-font-color3, rgba(0, 0, 0, 0.38));\n",
       "  --xr-border-color: var(--jp-border-color2, #e0e0e0);\n",
       "  --xr-disabled-color: var(--jp-layout-color3, #bdbdbd);\n",
       "  --xr-background-color: var(--jp-layout-color0, white);\n",
       "  --xr-background-color-row-even: var(--jp-layout-color1, white);\n",
       "  --xr-background-color-row-odd: var(--jp-layout-color2, #eeeeee);\n",
       "}\n",
       "\n",
       "html[theme=dark],\n",
       "body.vscode-dark {\n",
       "  --xr-font-color0: rgba(255, 255, 255, 1);\n",
       "  --xr-font-color2: rgba(255, 255, 255, 0.54);\n",
       "  --xr-font-color3: rgba(255, 255, 255, 0.38);\n",
       "  --xr-border-color: #1F1F1F;\n",
       "  --xr-disabled-color: #515151;\n",
       "  --xr-background-color: #111111;\n",
       "  --xr-background-color-row-even: #111111;\n",
       "  --xr-background-color-row-odd: #313131;\n",
       "}\n",
       "\n",
       ".xr-wrap {\n",
       "  display: block;\n",
       "  min-width: 300px;\n",
       "  max-width: 700px;\n",
       "}\n",
       "\n",
       ".xr-text-repr-fallback {\n",
       "  /* fallback to plain text repr when CSS is not injected (untrusted notebook) */\n",
       "  display: none;\n",
       "}\n",
       "\n",
       ".xr-header {\n",
       "  padding-top: 6px;\n",
       "  padding-bottom: 6px;\n",
       "  margin-bottom: 4px;\n",
       "  border-bottom: solid 1px var(--xr-border-color);\n",
       "}\n",
       "\n",
       ".xr-header > div,\n",
       ".xr-header > ul {\n",
       "  display: inline;\n",
       "  margin-top: 0;\n",
       "  margin-bottom: 0;\n",
       "}\n",
       "\n",
       ".xr-obj-type,\n",
       ".xr-array-name {\n",
       "  margin-left: 2px;\n",
       "  margin-right: 10px;\n",
       "}\n",
       "\n",
       ".xr-obj-type {\n",
       "  color: var(--xr-font-color2);\n",
       "}\n",
       "\n",
       ".xr-sections {\n",
       "  padding-left: 0 !important;\n",
       "  display: grid;\n",
       "  grid-template-columns: 150px auto auto 1fr 20px 20px;\n",
       "}\n",
       "\n",
       ".xr-section-item {\n",
       "  display: contents;\n",
       "}\n",
       "\n",
       ".xr-section-item input {\n",
       "  display: none;\n",
       "}\n",
       "\n",
       ".xr-section-item input + label {\n",
       "  color: var(--xr-disabled-color);\n",
       "}\n",
       "\n",
       ".xr-section-item input:enabled + label {\n",
       "  cursor: pointer;\n",
       "  color: var(--xr-font-color2);\n",
       "}\n",
       "\n",
       ".xr-section-item input:enabled + label:hover {\n",
       "  color: var(--xr-font-color0);\n",
       "}\n",
       "\n",
       ".xr-section-summary {\n",
       "  grid-column: 1;\n",
       "  color: var(--xr-font-color2);\n",
       "  font-weight: 500;\n",
       "}\n",
       "\n",
       ".xr-section-summary > span {\n",
       "  display: inline-block;\n",
       "  padding-left: 0.5em;\n",
       "}\n",
       "\n",
       ".xr-section-summary-in:disabled + label {\n",
       "  color: var(--xr-font-color2);\n",
       "}\n",
       "\n",
       ".xr-section-summary-in + label:before {\n",
       "  display: inline-block;\n",
       "  content: '►';\n",
       "  font-size: 11px;\n",
       "  width: 15px;\n",
       "  text-align: center;\n",
       "}\n",
       "\n",
       ".xr-section-summary-in:disabled + label:before {\n",
       "  color: var(--xr-disabled-color);\n",
       "}\n",
       "\n",
       ".xr-section-summary-in:checked + label:before {\n",
       "  content: '▼';\n",
       "}\n",
       "\n",
       ".xr-section-summary-in:checked + label > span {\n",
       "  display: none;\n",
       "}\n",
       "\n",
       ".xr-section-summary,\n",
       ".xr-section-inline-details {\n",
       "  padding-top: 4px;\n",
       "  padding-bottom: 4px;\n",
       "}\n",
       "\n",
       ".xr-section-inline-details {\n",
       "  grid-column: 2 / -1;\n",
       "}\n",
       "\n",
       ".xr-section-details {\n",
       "  display: none;\n",
       "  grid-column: 1 / -1;\n",
       "  margin-bottom: 5px;\n",
       "}\n",
       "\n",
       ".xr-section-summary-in:checked ~ .xr-section-details {\n",
       "  display: contents;\n",
       "}\n",
       "\n",
       ".xr-array-wrap {\n",
       "  grid-column: 1 / -1;\n",
       "  display: grid;\n",
       "  grid-template-columns: 20px auto;\n",
       "}\n",
       "\n",
       ".xr-array-wrap > label {\n",
       "  grid-column: 1;\n",
       "  vertical-align: top;\n",
       "}\n",
       "\n",
       ".xr-preview {\n",
       "  color: var(--xr-font-color3);\n",
       "}\n",
       "\n",
       ".xr-array-preview,\n",
       ".xr-array-data {\n",
       "  padding: 0 5px !important;\n",
       "  grid-column: 2;\n",
       "}\n",
       "\n",
       ".xr-array-data,\n",
       ".xr-array-in:checked ~ .xr-array-preview {\n",
       "  display: none;\n",
       "}\n",
       "\n",
       ".xr-array-in:checked ~ .xr-array-data,\n",
       ".xr-array-preview {\n",
       "  display: inline-block;\n",
       "}\n",
       "\n",
       ".xr-dim-list {\n",
       "  display: inline-block !important;\n",
       "  list-style: none;\n",
       "  padding: 0 !important;\n",
       "  margin: 0;\n",
       "}\n",
       "\n",
       ".xr-dim-list li {\n",
       "  display: inline-block;\n",
       "  padding: 0;\n",
       "  margin: 0;\n",
       "}\n",
       "\n",
       ".xr-dim-list:before {\n",
       "  content: '(';\n",
       "}\n",
       "\n",
       ".xr-dim-list:after {\n",
       "  content: ')';\n",
       "}\n",
       "\n",
       ".xr-dim-list li:not(:last-child):after {\n",
       "  content: ',';\n",
       "  padding-right: 5px;\n",
       "}\n",
       "\n",
       ".xr-has-index {\n",
       "  font-weight: bold;\n",
       "}\n",
       "\n",
       ".xr-var-list,\n",
       ".xr-var-item {\n",
       "  display: contents;\n",
       "}\n",
       "\n",
       ".xr-var-item > div,\n",
       ".xr-var-item label,\n",
       ".xr-var-item > .xr-var-name span {\n",
       "  background-color: var(--xr-background-color-row-even);\n",
       "  margin-bottom: 0;\n",
       "}\n",
       "\n",
       ".xr-var-item > .xr-var-name:hover span {\n",
       "  padding-right: 5px;\n",
       "}\n",
       "\n",
       ".xr-var-list > li:nth-child(odd) > div,\n",
       ".xr-var-list > li:nth-child(odd) > label,\n",
       ".xr-var-list > li:nth-child(odd) > .xr-var-name span {\n",
       "  background-color: var(--xr-background-color-row-odd);\n",
       "}\n",
       "\n",
       ".xr-var-name {\n",
       "  grid-column: 1;\n",
       "}\n",
       "\n",
       ".xr-var-dims {\n",
       "  grid-column: 2;\n",
       "}\n",
       "\n",
       ".xr-var-dtype {\n",
       "  grid-column: 3;\n",
       "  text-align: right;\n",
       "  color: var(--xr-font-color2);\n",
       "}\n",
       "\n",
       ".xr-var-preview {\n",
       "  grid-column: 4;\n",
       "}\n",
       "\n",
       ".xr-var-name,\n",
       ".xr-var-dims,\n",
       ".xr-var-dtype,\n",
       ".xr-preview,\n",
       ".xr-attrs dt {\n",
       "  white-space: nowrap;\n",
       "  overflow: hidden;\n",
       "  text-overflow: ellipsis;\n",
       "  padding-right: 10px;\n",
       "}\n",
       "\n",
       ".xr-var-name:hover,\n",
       ".xr-var-dims:hover,\n",
       ".xr-var-dtype:hover,\n",
       ".xr-attrs dt:hover {\n",
       "  overflow: visible;\n",
       "  width: auto;\n",
       "  z-index: 1;\n",
       "}\n",
       "\n",
       ".xr-var-attrs,\n",
       ".xr-var-data {\n",
       "  display: none;\n",
       "  background-color: var(--xr-background-color) !important;\n",
       "  padding-bottom: 5px !important;\n",
       "}\n",
       "\n",
       ".xr-var-attrs-in:checked ~ .xr-var-attrs,\n",
       ".xr-var-data-in:checked ~ .xr-var-data {\n",
       "  display: block;\n",
       "}\n",
       "\n",
       ".xr-var-data > table {\n",
       "  float: right;\n",
       "}\n",
       "\n",
       ".xr-var-name span,\n",
       ".xr-var-data,\n",
       ".xr-attrs {\n",
       "  padding-left: 25px !important;\n",
       "}\n",
       "\n",
       ".xr-attrs,\n",
       ".xr-var-attrs,\n",
       ".xr-var-data {\n",
       "  grid-column: 1 / -1;\n",
       "}\n",
       "\n",
       "dl.xr-attrs {\n",
       "  padding: 0;\n",
       "  margin: 0;\n",
       "  display: grid;\n",
       "  grid-template-columns: 125px auto;\n",
       "}\n",
       "\n",
       ".xr-attrs dt, dd {\n",
       "  padding: 0;\n",
       "  margin: 0;\n",
       "  float: left;\n",
       "  padding-right: 10px;\n",
       "  width: auto;\n",
       "}\n",
       "\n",
       ".xr-attrs dt {\n",
       "  font-weight: normal;\n",
       "  grid-column: 1;\n",
       "}\n",
       "\n",
       ".xr-attrs dt:hover span {\n",
       "  display: inline-block;\n",
       "  background: var(--xr-background-color);\n",
       "  padding-right: 10px;\n",
       "}\n",
       "\n",
       ".xr-attrs dd {\n",
       "  grid-column: 2;\n",
       "  white-space: pre-wrap;\n",
       "  word-break: break-all;\n",
       "}\n",
       "\n",
       ".xr-icon-database,\n",
       ".xr-icon-file-text2 {\n",
       "  display: inline-block;\n",
       "  vertical-align: middle;\n",
       "  width: 1em;\n",
       "  height: 1.5em !important;\n",
       "  stroke-width: 0;\n",
       "  stroke: currentColor;\n",
       "  fill: currentColor;\n",
       "}\n",
       "</style><pre class='xr-text-repr-fallback'>&lt;xarray.Dataset&gt;\n",
       "Dimensions:      (duration: 119, latitude: 36, longitude: 72, realization: 1)\n",
       "Coordinates:\n",
       "    startyear    int64 1900\n",
       "  * longitude    (longitude) float64 -177.5 -172.5 -167.5 ... 167.5 172.5 177.5\n",
       "  * latitude     (latitude) float64 -87.5 -82.5 -77.5 -72.5 ... 77.5 82.5 87.5\n",
       "  * duration     (duration) int64 3 4 5 6 7 8 9 ... 115 116 117 118 119 120 121\n",
       "  * realization  (realization) int64 1\n",
       "Data variables:\n",
       "    tas          (duration, latitude, longitude, realization) float64 ...</pre><div class='xr-wrap' hidden><div class='xr-header'><div class='xr-obj-type'>xarray.Dataset</div></div><ul class='xr-sections'><li class='xr-section-item'><input id='section-7c16282a-d1b3-4a14-87e6-8f9265728e88' class='xr-section-summary-in' type='checkbox' disabled ><label for='section-7c16282a-d1b3-4a14-87e6-8f9265728e88' class='xr-section-summary'  title='Expand/collapse section'>Dimensions:</label><div class='xr-section-inline-details'><ul class='xr-dim-list'><li><span class='xr-has-index'>duration</span>: 119</li><li><span class='xr-has-index'>latitude</span>: 36</li><li><span class='xr-has-index'>longitude</span>: 72</li><li><span class='xr-has-index'>realization</span>: 1</li></ul></div><div class='xr-section-details'></div></li><li class='xr-section-item'><input id='section-c7aecf71-5d10-4980-9d96-d885480303f6' class='xr-section-summary-in' type='checkbox'  checked><label for='section-c7aecf71-5d10-4980-9d96-d885480303f6' class='xr-section-summary' >Coordinates: <span>(5)</span></label><div class='xr-section-inline-details'></div><div class='xr-section-details'><ul class='xr-var-list'><li class='xr-var-item'><div class='xr-var-name'><span>startyear</span></div><div class='xr-var-dims'>()</div><div class='xr-var-dtype'>int64</div><div class='xr-var-preview xr-preview'>...</div><input id='attrs-4dbe555d-fd68-4b9e-94ec-ddf1bc71a4c8' class='xr-var-attrs-in' type='checkbox' disabled><label for='attrs-4dbe555d-fd68-4b9e-94ec-ddf1bc71a4c8' title='Show/Hide attributes'><svg class='icon xr-icon-file-text2'><use xlink:href='#icon-file-text2'></use></svg></label><input id='data-54115779-b3c1-41f1-ade0-9c4b68e64237' class='xr-var-data-in' type='checkbox'><label for='data-54115779-b3c1-41f1-ade0-9c4b68e64237' title='Show/Hide data repr'><svg class='icon xr-icon-database'><use xlink:href='#icon-database'></use></svg></label><div class='xr-var-attrs'><dl class='xr-attrs'></dl></div><div class='xr-var-data'><pre>array(1900)</pre></div></li><li class='xr-var-item'><div class='xr-var-name'><span class='xr-has-index'>longitude</span></div><div class='xr-var-dims'>(longitude)</div><div class='xr-var-dtype'>float64</div><div class='xr-var-preview xr-preview'>-177.5 -172.5 ... 172.5 177.5</div><input id='attrs-9a68626b-e7df-44f6-ba9f-91b358531b44' class='xr-var-attrs-in' type='checkbox' disabled><label for='attrs-9a68626b-e7df-44f6-ba9f-91b358531b44' title='Show/Hide attributes'><svg class='icon xr-icon-file-text2'><use xlink:href='#icon-file-text2'></use></svg></label><input id='data-265c7b46-5a71-428d-935c-c5519d8b5959' class='xr-var-data-in' type='checkbox'><label for='data-265c7b46-5a71-428d-935c-c5519d8b5959' title='Show/Hide data repr'><svg class='icon xr-icon-database'><use xlink:href='#icon-database'></use></svg></label><div class='xr-var-attrs'><dl class='xr-attrs'></dl></div><div class='xr-var-data'><pre>array([-177.5, -172.5, -167.5, -162.5, -157.5, -152.5, -147.5, -142.5, -137.5,\n",
       "       -132.5, -127.5, -122.5, -117.5, -112.5, -107.5, -102.5,  -97.5,  -92.5,\n",
       "        -87.5,  -82.5,  -77.5,  -72.5,  -67.5,  -62.5,  -57.5,  -52.5,  -47.5,\n",
       "        -42.5,  -37.5,  -32.5,  -27.5,  -22.5,  -17.5,  -12.5,   -7.5,   -2.5,\n",
       "          2.5,    7.5,   12.5,   17.5,   22.5,   27.5,   32.5,   37.5,   42.5,\n",
       "         47.5,   52.5,   57.5,   62.5,   67.5,   72.5,   77.5,   82.5,   87.5,\n",
       "         92.5,   97.5,  102.5,  107.5,  112.5,  117.5,  122.5,  127.5,  132.5,\n",
       "        137.5,  142.5,  147.5,  152.5,  157.5,  162.5,  167.5,  172.5,  177.5])</pre></div></li><li class='xr-var-item'><div class='xr-var-name'><span class='xr-has-index'>latitude</span></div><div class='xr-var-dims'>(latitude)</div><div class='xr-var-dtype'>float64</div><div class='xr-var-preview xr-preview'>-87.5 -82.5 -77.5 ... 82.5 87.5</div><input id='attrs-9e9d359f-9bc6-4725-8dff-1bfad17ef599' class='xr-var-attrs-in' type='checkbox' disabled><label for='attrs-9e9d359f-9bc6-4725-8dff-1bfad17ef599' title='Show/Hide attributes'><svg class='icon xr-icon-file-text2'><use xlink:href='#icon-file-text2'></use></svg></label><input id='data-02855192-e02d-4363-be94-28c1c62e8771' class='xr-var-data-in' type='checkbox'><label for='data-02855192-e02d-4363-be94-28c1c62e8771' title='Show/Hide data repr'><svg class='icon xr-icon-database'><use xlink:href='#icon-database'></use></svg></label><div class='xr-var-attrs'><dl class='xr-attrs'></dl></div><div class='xr-var-data'><pre>array([-87.5, -82.5, -77.5, -72.5, -67.5, -62.5, -57.5, -52.5, -47.5, -42.5,\n",
       "       -37.5, -32.5, -27.5, -22.5, -17.5, -12.5,  -7.5,  -2.5,   2.5,   7.5,\n",
       "        12.5,  17.5,  22.5,  27.5,  32.5,  37.5,  42.5,  47.5,  52.5,  57.5,\n",
       "        62.5,  67.5,  72.5,  77.5,  82.5,  87.5])</pre></div></li><li class='xr-var-item'><div class='xr-var-name'><span class='xr-has-index'>duration</span></div><div class='xr-var-dims'>(duration)</div><div class='xr-var-dtype'>int64</div><div class='xr-var-preview xr-preview'>3 4 5 6 7 8 ... 117 118 119 120 121</div><input id='attrs-6c9c2257-804d-46a0-a71d-ca4f18f0a810' class='xr-var-attrs-in' type='checkbox' disabled><label for='attrs-6c9c2257-804d-46a0-a71d-ca4f18f0a810' title='Show/Hide attributes'><svg class='icon xr-icon-file-text2'><use xlink:href='#icon-file-text2'></use></svg></label><input id='data-7b61484a-6f93-42c8-a1ab-9f34b5fc06b2' class='xr-var-data-in' type='checkbox'><label for='data-7b61484a-6f93-42c8-a1ab-9f34b5fc06b2' title='Show/Hide data repr'><svg class='icon xr-icon-database'><use xlink:href='#icon-database'></use></svg></label><div class='xr-var-attrs'><dl class='xr-attrs'></dl></div><div class='xr-var-data'><pre>array([  3,   4,   5,   6,   7,   8,   9,  10,  11,  12,  13,  14,  15,  16,\n",
       "        17,  18,  19,  20,  21,  22,  23,  24,  25,  26,  27,  28,  29,  30,\n",
       "        31,  32,  33,  34,  35,  36,  37,  38,  39,  40,  41,  42,  43,  44,\n",
       "        45,  46,  47,  48,  49,  50,  51,  52,  53,  54,  55,  56,  57,  58,\n",
       "        59,  60,  61,  62,  63,  64,  65,  66,  67,  68,  69,  70,  71,  72,\n",
       "        73,  74,  75,  76,  77,  78,  79,  80,  81,  82,  83,  84,  85,  86,\n",
       "        87,  88,  89,  90,  91,  92,  93,  94,  95,  96,  97,  98,  99, 100,\n",
       "       101, 102, 103, 104, 105, 106, 107, 108, 109, 110, 111, 112, 113, 114,\n",
       "       115, 116, 117, 118, 119, 120, 121])</pre></div></li><li class='xr-var-item'><div class='xr-var-name'><span class='xr-has-index'>realization</span></div><div class='xr-var-dims'>(realization)</div><div class='xr-var-dtype'>int64</div><div class='xr-var-preview xr-preview'>1</div><input id='attrs-660a6775-d538-403c-b870-13783bf935b5' class='xr-var-attrs-in' type='checkbox' ><label for='attrs-660a6775-d538-403c-b870-13783bf935b5' title='Show/Hide attributes'><svg class='icon xr-icon-file-text2'><use xlink:href='#icon-file-text2'></use></svg></label><input id='data-6e993e98-e1c2-4918-8a63-bd9fe1ebf2a9' class='xr-var-data-in' type='checkbox'><label for='data-6e993e98-e1c2-4918-8a63-bd9fe1ebf2a9' title='Show/Hide data repr'><svg class='icon xr-icon-database'><use xlink:href='#icon-database'></use></svg></label><div class='xr-var-attrs'><dl class='xr-attrs'><dt><span>units :</span></dt><dd>1</dd><dt><span>standard_name :</span></dt><dd>realization</dd></dl></div><div class='xr-var-data'><pre>array([1])</pre></div></li></ul></div></li><li class='xr-section-item'><input id='section-f451ce56-5eb9-4049-bfbd-143d2e28b566' class='xr-section-summary-in' type='checkbox'  checked><label for='section-f451ce56-5eb9-4049-bfbd-143d2e28b566' class='xr-section-summary' >Data variables: <span>(1)</span></label><div class='xr-section-inline-details'></div><div class='xr-section-details'><ul class='xr-var-list'><li class='xr-var-item'><div class='xr-var-name'><span>tas</span></div><div class='xr-var-dims'>(duration, latitude, longitude, realization)</div><div class='xr-var-dtype'>float64</div><div class='xr-var-preview xr-preview'>...</div><input id='attrs-837d2e90-2aab-4926-adad-d68a8fd158c9' class='xr-var-attrs-in' type='checkbox' disabled><label for='attrs-837d2e90-2aab-4926-adad-d68a8fd158c9' title='Show/Hide attributes'><svg class='icon xr-icon-file-text2'><use xlink:href='#icon-file-text2'></use></svg></label><input id='data-5fd005fc-495c-44b4-b3cc-07f1b5bd9e93' class='xr-var-data-in' type='checkbox'><label for='data-5fd005fc-495c-44b4-b3cc-07f1b5bd9e93' title='Show/Hide data repr'><svg class='icon xr-icon-database'><use xlink:href='#icon-database'></use></svg></label><div class='xr-var-attrs'><dl class='xr-attrs'></dl></div><div class='xr-var-data'><pre>[308448 values with dtype=float64]</pre></div></li></ul></div></li><li class='xr-section-item'><input id='section-2599f728-7799-4d9e-ba6a-cd4d59e2a475' class='xr-section-summary-in' type='checkbox' disabled ><label for='section-2599f728-7799-4d9e-ba6a-cd4d59e2a475' class='xr-section-summary'  title='Expand/collapse section'>Attributes: <span>(0)</span></label><div class='xr-section-inline-details'></div><div class='xr-section-details'><dl class='xr-attrs'></dl></div></li></ul></div></div>"
      ],
      "text/plain": [
       "<xarray.Dataset>\n",
       "Dimensions:      (duration: 119, latitude: 36, longitude: 72, realization: 1)\n",
       "Coordinates:\n",
       "    startyear    int64 ...\n",
       "  * longitude    (longitude) float64 -177.5 -172.5 -167.5 ... 167.5 172.5 177.5\n",
       "  * latitude     (latitude) float64 -87.5 -82.5 -77.5 -72.5 ... 77.5 82.5 87.5\n",
       "  * duration     (duration) int64 3 4 5 6 7 8 9 ... 115 116 117 118 119 120 121\n",
       "  * realization  (realization) int64 1\n",
       "Data variables:\n",
       "    tas          (duration, latitude, longitude, realization) float64 ..."
      ]
     },
     "execution_count": 12,
     "metadata": {},
     "output_type": "execute_result"
    }
   ],
   "source": [
    "test_ds1"
   ]
  },
  {
   "cell_type": "code",
   "execution_count": 13,
   "id": "e3f9799f-eb3c-4ae6-9957-6bfa68521b26",
   "metadata": {},
   "outputs": [],
   "source": [
    "gistemp_5x5_ds = xr.open_mfdataset(gistemp_5x5_files,chunks={'RegionIndex':1})"
   ]
  },
  {
   "cell_type": "code",
   "execution_count": 14,
   "id": "4053209f-50a8-4d3c-9137-00379b2435bd",
   "metadata": {},
   "outputs": [
    {
     "name": "stdout",
     "output_type": "stream",
     "text": [
      "CPU times: user 12.9 s, sys: 239 ms, total: 13.1 s\n",
      "Wall time: 13.9 s\n"
     ]
    }
   ],
   "source": [
    "%%time\n",
    "gistemp_filelist = []\n",
    "for _file in gistemp_5x5_files:\n",
    "    _gistemp_ds = xr.open_dataset(_file)\n",
    "    _gistemp_annual = _gistemp_ds[gistemp_tas_var].groupby('time.year').mean('time')\n",
    "\n",
    "    gistemp_filelist.append(_gistemp_annual)\n",
    "\n",
    "gistemp_annual = xr.concat(gistemp_filelist, dim=\"realization\")"
   ]
  },
  {
   "cell_type": "code",
   "execution_count": 15,
   "id": "16308292-69a6-4974-a0fc-2209446384b1",
   "metadata": {},
   "outputs": [
    {
     "name": "stdout",
     "output_type": "stream",
     "text": [
      "3 4 5 6 7 8 9 10 11 12 13 14 15 16 17 18 19 20 21 22 23 24 25 26 27 28 29 30 31 32 33 34 35 36 37 38 39 40 41 42 43 44 45 46 47 48 49 50 51 52 53 54 55 56 57 58 59 60 61 62 63 64 65 66 67 68 69 70 71 72 73 74 75 76 77 78 79 80 81 82 83 84 85 86 87 88 89 90 91 92 93 94 95 96 97 98 99 100 101 102 103 104 105 106 107 108 109 110 111 112 113 114 115 116 117 118 119 120 121 CPU times: user 1min 4s, sys: 3.33 s, total: 1min 7s\n",
      "Wall time: 1min 13s\n"
     ]
    }
   ],
   "source": [
    "%%time\n",
    "\n",
    "gistemp_trends_all = compute_trends_wrapper(gistemp_annual,durations=np.arange(3,122,1))"
   ]
  },
  {
   "cell_type": "code",
   "execution_count": 17,
   "id": "49d34ccf-ed35-4eda-96ad-3aa71e3e30a0",
   "metadata": {},
   "outputs": [],
   "source": [
    "gistemp_trends_all.to_netcdf('%s/%s/ensembleChunks_0001_0200.trends.190001-202012.nc' % (obslens_tseries_dir,'GISTEMP_5x5/20240820/'))"
   ]
  },
  {
   "cell_type": "code",
   "execution_count": 18,
   "id": "f62e593c-e28d-41b5-83c9-228b9ae8a03a",
   "metadata": {},
   "outputs": [
    {
     "data": {
      "text/plain": [
       "[<matplotlib.lines.Line2D at 0x153afc585f90>]"
      ]
     },
     "execution_count": 18,
     "metadata": {},
     "output_type": "execute_result"
    },
    {
     "data": {
      "image/png": "[encoded data removed]",
      "text/plain": [
       "<Figure size 432x288 with 1 Axes>"
      ]
     },
     "metadata": {
      "needs_background": "light"
     },
     "output_type": "display_data"
    }
   ],
   "source": [
    "gistemp_trends_all.sel(RegionIndex=4, startyear=1900).sortby(\"realization\").std(\"realization\").plot()"
   ]
  },
  {
   "cell_type": "code",
   "execution_count": 19,
   "id": "752fe7cf-1104-4769-90a4-0bb91750ad8a",
   "metadata": {},
   "outputs": [],
   "source": [
    "del gistemp_5x5_ds,gistemp_annual,gistemp_trends_all"
   ]
  },
  {
   "cell_type": "markdown",
   "id": "13b419e1-2828-4298-bad0-15ef0ba769b2",
   "metadata": {},
   "source": [
    "#### HadCRUT5"
   ]
  },
  {
   "cell_type": "code",
   "execution_count": 24,
   "id": "61a250d8-f918-4b88-be71-0c92187afdd1",
   "metadata": {},
   "outputs": [
    {
     "name": "stderr",
     "output_type": "stream",
     "text": [
      "/glade/work/jonahshaw/miniconda3/envs/cheydask/lib/python3.7/site-packages/xarray/core/nanops.py:142: RuntimeWarning: Mean of empty slice\n",
      "  return np.nanmean(a, axis=axis, dtype=dtype)\n",
      "/glade/work/jonahshaw/miniconda3/envs/cheydask/lib/python3.7/site-packages/xarray/core/nanops.py:142: RuntimeWarning: Mean of empty slice\n",
      "  return np.nanmean(a, axis=axis, dtype=dtype)\n",
      "/glade/work/jonahshaw/miniconda3/envs/cheydask/lib/python3.7/site-packages/xarray/core/nanops.py:142: RuntimeWarning: Mean of empty slice\n",
      "  return np.nanmean(a, axis=axis, dtype=dtype)\n",
      "/glade/work/jonahshaw/miniconda3/envs/cheydask/lib/python3.7/site-packages/xarray/core/nanops.py:142: RuntimeWarning: Mean of empty slice\n",
      "  return np.nanmean(a, axis=axis, dtype=dtype)\n",
      "/glade/work/jonahshaw/miniconda3/envs/cheydask/lib/python3.7/site-packages/xarray/core/nanops.py:142: RuntimeWarning: Mean of empty slice\n",
      "  return np.nanmean(a, axis=axis, dtype=dtype)\n",
      "/glade/work/jonahshaw/miniconda3/envs/cheydask/lib/python3.7/site-packages/xarray/core/nanops.py:142: RuntimeWarning: Mean of empty slice\n",
      "  return np.nanmean(a, axis=axis, dtype=dtype)\n",
      "/glade/work/jonahshaw/miniconda3/envs/cheydask/lib/python3.7/site-packages/xarray/core/nanops.py:142: RuntimeWarning: Mean of empty slice\n",
      "  return np.nanmean(a, axis=axis, dtype=dtype)\n",
      "/glade/work/jonahshaw/miniconda3/envs/cheydask/lib/python3.7/site-packages/xarray/core/nanops.py:142: RuntimeWarning: Mean of empty slice\n",
      "  return np.nanmean(a, axis=axis, dtype=dtype)\n",
      "/glade/work/jonahshaw/miniconda3/envs/cheydask/lib/python3.7/site-packages/xarray/core/nanops.py:142: RuntimeWarning: Mean of empty slice\n",
      "  return np.nanmean(a, axis=axis, dtype=dtype)\n",
      "/glade/work/jonahshaw/miniconda3/envs/cheydask/lib/python3.7/site-packages/xarray/core/nanops.py:142: RuntimeWarning: Mean of empty slice\n",
      "  return np.nanmean(a, axis=axis, dtype=dtype)\n",
      "/glade/work/jonahshaw/miniconda3/envs/cheydask/lib/python3.7/site-packages/xarray/core/nanops.py:142: RuntimeWarning: Mean of empty slice\n",
      "  return np.nanmean(a, axis=axis, dtype=dtype)\n",
      "/glade/work/jonahshaw/miniconda3/envs/cheydask/lib/python3.7/site-packages/xarray/core/nanops.py:142: RuntimeWarning: Mean of empty slice\n",
      "  return np.nanmean(a, axis=axis, dtype=dtype)\n",
      "/glade/work/jonahshaw/miniconda3/envs/cheydask/lib/python3.7/site-packages/xarray/core/nanops.py:142: RuntimeWarning: Mean of empty slice\n",
      "  return np.nanmean(a, axis=axis, dtype=dtype)\n",
      "/glade/work/jonahshaw/miniconda3/envs/cheydask/lib/python3.7/site-packages/xarray/core/nanops.py:142: RuntimeWarning: Mean of empty slice\n",
      "  return np.nanmean(a, axis=axis, dtype=dtype)\n",
      "/glade/work/jonahshaw/miniconda3/envs/cheydask/lib/python3.7/site-packages/xarray/core/nanops.py:142: RuntimeWarning: Mean of empty slice\n",
      "  return np.nanmean(a, axis=axis, dtype=dtype)\n",
      "/glade/work/jonahshaw/miniconda3/envs/cheydask/lib/python3.7/site-packages/xarray/core/nanops.py:142: RuntimeWarning: Mean of empty slice\n",
      "  return np.nanmean(a, axis=axis, dtype=dtype)\n",
      "/glade/work/jonahshaw/miniconda3/envs/cheydask/lib/python3.7/site-packages/xarray/core/nanops.py:142: RuntimeWarning: Mean of empty slice\n",
      "  return np.nanmean(a, axis=axis, dtype=dtype)\n",
      "/glade/work/jonahshaw/miniconda3/envs/cheydask/lib/python3.7/site-packages/xarray/core/nanops.py:142: RuntimeWarning: Mean of empty slice\n",
      "  return np.nanmean(a, axis=axis, dtype=dtype)\n",
      "/glade/work/jonahshaw/miniconda3/envs/cheydask/lib/python3.7/site-packages/xarray/core/nanops.py:142: RuntimeWarning: Mean of empty slice\n",
      "  return np.nanmean(a, axis=axis, dtype=dtype)\n",
      "/glade/work/jonahshaw/miniconda3/envs/cheydask/lib/python3.7/site-packages/xarray/core/nanops.py:142: RuntimeWarning: Mean of empty slice\n",
      "  return np.nanmean(a, axis=axis, dtype=dtype)\n",
      "/glade/work/jonahshaw/miniconda3/envs/cheydask/lib/python3.7/site-packages/xarray/core/nanops.py:142: RuntimeWarning: Mean of empty slice\n",
      "  return np.nanmean(a, axis=axis, dtype=dtype)\n",
      "/glade/work/jonahshaw/miniconda3/envs/cheydask/lib/python3.7/site-packages/xarray/core/nanops.py:142: RuntimeWarning: Mean of empty slice\n",
      "  return np.nanmean(a, axis=axis, dtype=dtype)\n",
      "/glade/work/jonahshaw/miniconda3/envs/cheydask/lib/python3.7/site-packages/xarray/core/nanops.py:142: RuntimeWarning: Mean of empty slice\n",
      "  return np.nanmean(a, axis=axis, dtype=dtype)\n",
      "/glade/work/jonahshaw/miniconda3/envs/cheydask/lib/python3.7/site-packages/xarray/core/nanops.py:142: RuntimeWarning: Mean of empty slice\n",
      "  return np.nanmean(a, axis=axis, dtype=dtype)\n",
      "/glade/work/jonahshaw/miniconda3/envs/cheydask/lib/python3.7/site-packages/xarray/core/nanops.py:142: RuntimeWarning: Mean of empty slice\n",
      "  return np.nanmean(a, axis=axis, dtype=dtype)\n",
      "/glade/work/jonahshaw/miniconda3/envs/cheydask/lib/python3.7/site-packages/xarray/core/nanops.py:142: RuntimeWarning: Mean of empty slice\n",
      "  return np.nanmean(a, axis=axis, dtype=dtype)\n",
      "/glade/work/jonahshaw/miniconda3/envs/cheydask/lib/python3.7/site-packages/xarray/core/nanops.py:142: RuntimeWarning: Mean of empty slice\n",
      "  return np.nanmean(a, axis=axis, dtype=dtype)\n",
      "/glade/work/jonahshaw/miniconda3/envs/cheydask/lib/python3.7/site-packages/xarray/core/nanops.py:142: RuntimeWarning: Mean of empty slice\n",
      "  return np.nanmean(a, axis=axis, dtype=dtype)\n",
      "/glade/work/jonahshaw/miniconda3/envs/cheydask/lib/python3.7/site-packages/xarray/core/nanops.py:142: RuntimeWarning: Mean of empty slice\n",
      "  return np.nanmean(a, axis=axis, dtype=dtype)\n",
      "/glade/work/jonahshaw/miniconda3/envs/cheydask/lib/python3.7/site-packages/xarray/core/nanops.py:142: RuntimeWarning: Mean of empty slice\n",
      "  return np.nanmean(a, axis=axis, dtype=dtype)\n",
      "/glade/work/jonahshaw/miniconda3/envs/cheydask/lib/python3.7/site-packages/xarray/core/nanops.py:142: RuntimeWarning: Mean of empty slice\n",
      "  return np.nanmean(a, axis=axis, dtype=dtype)\n",
      "/glade/work/jonahshaw/miniconda3/envs/cheydask/lib/python3.7/site-packages/xarray/core/nanops.py:142: RuntimeWarning: Mean of empty slice\n",
      "  return np.nanmean(a, axis=axis, dtype=dtype)\n",
      "/glade/work/jonahshaw/miniconda3/envs/cheydask/lib/python3.7/site-packages/xarray/core/nanops.py:142: RuntimeWarning: Mean of empty slice\n",
      "  return np.nanmean(a, axis=axis, dtype=dtype)\n",
      "/glade/work/jonahshaw/miniconda3/envs/cheydask/lib/python3.7/site-packages/xarray/core/nanops.py:142: RuntimeWarning: Mean of empty slice\n",
      "  return np.nanmean(a, axis=axis, dtype=dtype)\n",
      "/glade/work/jonahshaw/miniconda3/envs/cheydask/lib/python3.7/site-packages/xarray/core/nanops.py:142: RuntimeWarning: Mean of empty slice\n",
      "  return np.nanmean(a, axis=axis, dtype=dtype)\n",
      "/glade/work/jonahshaw/miniconda3/envs/cheydask/lib/python3.7/site-packages/xarray/core/nanops.py:142: RuntimeWarning: Mean of empty slice\n",
      "  return np.nanmean(a, axis=axis, dtype=dtype)\n",
      "/glade/work/jonahshaw/miniconda3/envs/cheydask/lib/python3.7/site-packages/xarray/core/nanops.py:142: RuntimeWarning: Mean of empty slice\n",
      "  return np.nanmean(a, axis=axis, dtype=dtype)\n",
      "/glade/work/jonahshaw/miniconda3/envs/cheydask/lib/python3.7/site-packages/xarray/core/nanops.py:142: RuntimeWarning: Mean of empty slice\n",
      "  return np.nanmean(a, axis=axis, dtype=dtype)\n",
      "/glade/work/jonahshaw/miniconda3/envs/cheydask/lib/python3.7/site-packages/xarray/core/nanops.py:142: RuntimeWarning: Mean of empty slice\n",
      "  return np.nanmean(a, axis=axis, dtype=dtype)\n",
      "/glade/work/jonahshaw/miniconda3/envs/cheydask/lib/python3.7/site-packages/xarray/core/nanops.py:142: RuntimeWarning: Mean of empty slice\n",
      "  return np.nanmean(a, axis=axis, dtype=dtype)\n",
      "/glade/work/jonahshaw/miniconda3/envs/cheydask/lib/python3.7/site-packages/xarray/core/nanops.py:142: RuntimeWarning: Mean of empty slice\n",
      "  return np.nanmean(a, axis=axis, dtype=dtype)\n",
      "/glade/work/jonahshaw/miniconda3/envs/cheydask/lib/python3.7/site-packages/xarray/core/nanops.py:142: RuntimeWarning: Mean of empty slice\n",
      "  return np.nanmean(a, axis=axis, dtype=dtype)\n",
      "/glade/work/jonahshaw/miniconda3/envs/cheydask/lib/python3.7/site-packages/xarray/core/nanops.py:142: RuntimeWarning: Mean of empty slice\n",
      "  return np.nanmean(a, axis=axis, dtype=dtype)\n",
      "/glade/work/jonahshaw/miniconda3/envs/cheydask/lib/python3.7/site-packages/xarray/core/nanops.py:142: RuntimeWarning: Mean of empty slice\n",
      "  return np.nanmean(a, axis=axis, dtype=dtype)\n",
      "/glade/work/jonahshaw/miniconda3/envs/cheydask/lib/python3.7/site-packages/xarray/core/nanops.py:142: RuntimeWarning: Mean of empty slice\n",
      "  return np.nanmean(a, axis=axis, dtype=dtype)\n",
      "/glade/work/jonahshaw/miniconda3/envs/cheydask/lib/python3.7/site-packages/xarray/core/nanops.py:142: RuntimeWarning: Mean of empty slice\n",
      "  return np.nanmean(a, axis=axis, dtype=dtype)\n",
      "/glade/work/jonahshaw/miniconda3/envs/cheydask/lib/python3.7/site-packages/xarray/core/nanops.py:142: RuntimeWarning: Mean of empty slice\n",
      "  return np.nanmean(a, axis=axis, dtype=dtype)\n",
      "/glade/work/jonahshaw/miniconda3/envs/cheydask/lib/python3.7/site-packages/xarray/core/nanops.py:142: RuntimeWarning: Mean of empty slice\n",
      "  return np.nanmean(a, axis=axis, dtype=dtype)\n",
      "/glade/work/jonahshaw/miniconda3/envs/cheydask/lib/python3.7/site-packages/xarray/core/nanops.py:142: RuntimeWarning: Mean of empty slice\n",
      "  return np.nanmean(a, axis=axis, dtype=dtype)\n",
      "/glade/work/jonahshaw/miniconda3/envs/cheydask/lib/python3.7/site-packages/xarray/core/nanops.py:142: RuntimeWarning: Mean of empty slice\n",
      "  return np.nanmean(a, axis=axis, dtype=dtype)\n",
      "/glade/work/jonahshaw/miniconda3/envs/cheydask/lib/python3.7/site-packages/xarray/core/nanops.py:142: RuntimeWarning: Mean of empty slice\n",
      "  return np.nanmean(a, axis=axis, dtype=dtype)\n",
      "/glade/work/jonahshaw/miniconda3/envs/cheydask/lib/python3.7/site-packages/xarray/core/nanops.py:142: RuntimeWarning: Mean of empty slice\n",
      "  return np.nanmean(a, axis=axis, dtype=dtype)\n",
      "/glade/work/jonahshaw/miniconda3/envs/cheydask/lib/python3.7/site-packages/xarray/core/nanops.py:142: RuntimeWarning: Mean of empty slice\n",
      "  return np.nanmean(a, axis=axis, dtype=dtype)\n",
      "/glade/work/jonahshaw/miniconda3/envs/cheydask/lib/python3.7/site-packages/xarray/core/nanops.py:142: RuntimeWarning: Mean of empty slice\n",
      "  return np.nanmean(a, axis=axis, dtype=dtype)\n",
      "/glade/work/jonahshaw/miniconda3/envs/cheydask/lib/python3.7/site-packages/xarray/core/nanops.py:142: RuntimeWarning: Mean of empty slice\n",
      "  return np.nanmean(a, axis=axis, dtype=dtype)\n",
      "/glade/work/jonahshaw/miniconda3/envs/cheydask/lib/python3.7/site-packages/xarray/core/nanops.py:142: RuntimeWarning: Mean of empty slice\n",
      "  return np.nanmean(a, axis=axis, dtype=dtype)\n",
      "/glade/work/jonahshaw/miniconda3/envs/cheydask/lib/python3.7/site-packages/xarray/core/nanops.py:142: RuntimeWarning: Mean of empty slice\n",
      "  return np.nanmean(a, axis=axis, dtype=dtype)\n",
      "/glade/work/jonahshaw/miniconda3/envs/cheydask/lib/python3.7/site-packages/xarray/core/nanops.py:142: RuntimeWarning: Mean of empty slice\n",
      "  return np.nanmean(a, axis=axis, dtype=dtype)\n",
      "/glade/work/jonahshaw/miniconda3/envs/cheydask/lib/python3.7/site-packages/xarray/core/nanops.py:142: RuntimeWarning: Mean of empty slice\n",
      "  return np.nanmean(a, axis=axis, dtype=dtype)\n",
      "/glade/work/jonahshaw/miniconda3/envs/cheydask/lib/python3.7/site-packages/xarray/core/nanops.py:142: RuntimeWarning: Mean of empty slice\n",
      "  return np.nanmean(a, axis=axis, dtype=dtype)\n",
      "/glade/work/jonahshaw/miniconda3/envs/cheydask/lib/python3.7/site-packages/xarray/core/nanops.py:142: RuntimeWarning: Mean of empty slice\n",
      "  return np.nanmean(a, axis=axis, dtype=dtype)\n",
      "/glade/work/jonahshaw/miniconda3/envs/cheydask/lib/python3.7/site-packages/xarray/core/nanops.py:142: RuntimeWarning: Mean of empty slice\n",
      "  return np.nanmean(a, axis=axis, dtype=dtype)\n",
      "/glade/work/jonahshaw/miniconda3/envs/cheydask/lib/python3.7/site-packages/xarray/core/nanops.py:142: RuntimeWarning: Mean of empty slice\n",
      "  return np.nanmean(a, axis=axis, dtype=dtype)\n",
      "/glade/work/jonahshaw/miniconda3/envs/cheydask/lib/python3.7/site-packages/xarray/core/nanops.py:142: RuntimeWarning: Mean of empty slice\n",
      "  return np.nanmean(a, axis=axis, dtype=dtype)\n",
      "/glade/work/jonahshaw/miniconda3/envs/cheydask/lib/python3.7/site-packages/xarray/core/nanops.py:142: RuntimeWarning: Mean of empty slice\n",
      "  return np.nanmean(a, axis=axis, dtype=dtype)\n",
      "/glade/work/jonahshaw/miniconda3/envs/cheydask/lib/python3.7/site-packages/xarray/core/nanops.py:142: RuntimeWarning: Mean of empty slice\n",
      "  return np.nanmean(a, axis=axis, dtype=dtype)\n",
      "/glade/work/jonahshaw/miniconda3/envs/cheydask/lib/python3.7/site-packages/xarray/core/nanops.py:142: RuntimeWarning: Mean of empty slice\n",
      "  return np.nanmean(a, axis=axis, dtype=dtype)\n",
      "/glade/work/jonahshaw/miniconda3/envs/cheydask/lib/python3.7/site-packages/xarray/core/nanops.py:142: RuntimeWarning: Mean of empty slice\n",
      "  return np.nanmean(a, axis=axis, dtype=dtype)\n",
      "/glade/work/jonahshaw/miniconda3/envs/cheydask/lib/python3.7/site-packages/xarray/core/nanops.py:142: RuntimeWarning: Mean of empty slice\n",
      "  return np.nanmean(a, axis=axis, dtype=dtype)\n",
      "/glade/work/jonahshaw/miniconda3/envs/cheydask/lib/python3.7/site-packages/xarray/core/nanops.py:142: RuntimeWarning: Mean of empty slice\n",
      "  return np.nanmean(a, axis=axis, dtype=dtype)\n",
      "/glade/work/jonahshaw/miniconda3/envs/cheydask/lib/python3.7/site-packages/xarray/core/nanops.py:142: RuntimeWarning: Mean of empty slice\n",
      "  return np.nanmean(a, axis=axis, dtype=dtype)\n",
      "/glade/work/jonahshaw/miniconda3/envs/cheydask/lib/python3.7/site-packages/xarray/core/nanops.py:142: RuntimeWarning: Mean of empty slice\n",
      "  return np.nanmean(a, axis=axis, dtype=dtype)\n",
      "/glade/work/jonahshaw/miniconda3/envs/cheydask/lib/python3.7/site-packages/xarray/core/nanops.py:142: RuntimeWarning: Mean of empty slice\n",
      "  return np.nanmean(a, axis=axis, dtype=dtype)\n",
      "/glade/work/jonahshaw/miniconda3/envs/cheydask/lib/python3.7/site-packages/xarray/core/nanops.py:142: RuntimeWarning: Mean of empty slice\n",
      "  return np.nanmean(a, axis=axis, dtype=dtype)\n",
      "/glade/work/jonahshaw/miniconda3/envs/cheydask/lib/python3.7/site-packages/xarray/core/nanops.py:142: RuntimeWarning: Mean of empty slice\n",
      "  return np.nanmean(a, axis=axis, dtype=dtype)\n",
      "/glade/work/jonahshaw/miniconda3/envs/cheydask/lib/python3.7/site-packages/xarray/core/nanops.py:142: RuntimeWarning: Mean of empty slice\n",
      "  return np.nanmean(a, axis=axis, dtype=dtype)\n",
      "/glade/work/jonahshaw/miniconda3/envs/cheydask/lib/python3.7/site-packages/xarray/core/nanops.py:142: RuntimeWarning: Mean of empty slice\n",
      "  return np.nanmean(a, axis=axis, dtype=dtype)\n",
      "/glade/work/jonahshaw/miniconda3/envs/cheydask/lib/python3.7/site-packages/xarray/core/nanops.py:142: RuntimeWarning: Mean of empty slice\n",
      "  return np.nanmean(a, axis=axis, dtype=dtype)\n",
      "/glade/work/jonahshaw/miniconda3/envs/cheydask/lib/python3.7/site-packages/xarray/core/nanops.py:142: RuntimeWarning: Mean of empty slice\n",
      "  return np.nanmean(a, axis=axis, dtype=dtype)\n",
      "/glade/work/jonahshaw/miniconda3/envs/cheydask/lib/python3.7/site-packages/xarray/core/nanops.py:142: RuntimeWarning: Mean of empty slice\n",
      "  return np.nanmean(a, axis=axis, dtype=dtype)\n",
      "/glade/work/jonahshaw/miniconda3/envs/cheydask/lib/python3.7/site-packages/xarray/core/nanops.py:142: RuntimeWarning: Mean of empty slice\n",
      "  return np.nanmean(a, axis=axis, dtype=dtype)\n",
      "/glade/work/jonahshaw/miniconda3/envs/cheydask/lib/python3.7/site-packages/xarray/core/nanops.py:142: RuntimeWarning: Mean of empty slice\n",
      "  return np.nanmean(a, axis=axis, dtype=dtype)\n",
      "/glade/work/jonahshaw/miniconda3/envs/cheydask/lib/python3.7/site-packages/xarray/core/nanops.py:142: RuntimeWarning: Mean of empty slice\n",
      "  return np.nanmean(a, axis=axis, dtype=dtype)\n",
      "/glade/work/jonahshaw/miniconda3/envs/cheydask/lib/python3.7/site-packages/xarray/core/nanops.py:142: RuntimeWarning: Mean of empty slice\n",
      "  return np.nanmean(a, axis=axis, dtype=dtype)\n",
      "/glade/work/jonahshaw/miniconda3/envs/cheydask/lib/python3.7/site-packages/xarray/core/nanops.py:142: RuntimeWarning: Mean of empty slice\n",
      "  return np.nanmean(a, axis=axis, dtype=dtype)\n",
      "/glade/work/jonahshaw/miniconda3/envs/cheydask/lib/python3.7/site-packages/xarray/core/nanops.py:142: RuntimeWarning: Mean of empty slice\n",
      "  return np.nanmean(a, axis=axis, dtype=dtype)\n",
      "/glade/work/jonahshaw/miniconda3/envs/cheydask/lib/python3.7/site-packages/xarray/core/nanops.py:142: RuntimeWarning: Mean of empty slice\n",
      "  return np.nanmean(a, axis=axis, dtype=dtype)\n",
      "/glade/work/jonahshaw/miniconda3/envs/cheydask/lib/python3.7/site-packages/xarray/core/nanops.py:142: RuntimeWarning: Mean of empty slice\n",
      "  return np.nanmean(a, axis=axis, dtype=dtype)\n",
      "/glade/work/jonahshaw/miniconda3/envs/cheydask/lib/python3.7/site-packages/xarray/core/nanops.py:142: RuntimeWarning: Mean of empty slice\n",
      "  return np.nanmean(a, axis=axis, dtype=dtype)\n",
      "/glade/work/jonahshaw/miniconda3/envs/cheydask/lib/python3.7/site-packages/xarray/core/nanops.py:142: RuntimeWarning: Mean of empty slice\n",
      "  return np.nanmean(a, axis=axis, dtype=dtype)\n",
      "/glade/work/jonahshaw/miniconda3/envs/cheydask/lib/python3.7/site-packages/xarray/core/nanops.py:142: RuntimeWarning: Mean of empty slice\n",
      "  return np.nanmean(a, axis=axis, dtype=dtype)\n",
      "/glade/work/jonahshaw/miniconda3/envs/cheydask/lib/python3.7/site-packages/xarray/core/nanops.py:142: RuntimeWarning: Mean of empty slice\n",
      "  return np.nanmean(a, axis=axis, dtype=dtype)\n",
      "/glade/work/jonahshaw/miniconda3/envs/cheydask/lib/python3.7/site-packages/xarray/core/nanops.py:142: RuntimeWarning: Mean of empty slice\n",
      "  return np.nanmean(a, axis=axis, dtype=dtype)\n",
      "/glade/work/jonahshaw/miniconda3/envs/cheydask/lib/python3.7/site-packages/xarray/core/nanops.py:142: RuntimeWarning: Mean of empty slice\n",
      "  return np.nanmean(a, axis=axis, dtype=dtype)\n",
      "/glade/work/jonahshaw/miniconda3/envs/cheydask/lib/python3.7/site-packages/xarray/core/nanops.py:142: RuntimeWarning: Mean of empty slice\n",
      "  return np.nanmean(a, axis=axis, dtype=dtype)\n",
      "/glade/work/jonahshaw/miniconda3/envs/cheydask/lib/python3.7/site-packages/xarray/core/nanops.py:142: RuntimeWarning: Mean of empty slice\n",
      "  return np.nanmean(a, axis=axis, dtype=dtype)\n",
      "/glade/work/jonahshaw/miniconda3/envs/cheydask/lib/python3.7/site-packages/xarray/core/nanops.py:142: RuntimeWarning: Mean of empty slice\n",
      "  return np.nanmean(a, axis=axis, dtype=dtype)\n",
      "/glade/work/jonahshaw/miniconda3/envs/cheydask/lib/python3.7/site-packages/xarray/core/nanops.py:142: RuntimeWarning: Mean of empty slice\n",
      "  return np.nanmean(a, axis=axis, dtype=dtype)\n",
      "/glade/work/jonahshaw/miniconda3/envs/cheydask/lib/python3.7/site-packages/xarray/core/nanops.py:142: RuntimeWarning: Mean of empty slice\n",
      "  return np.nanmean(a, axis=axis, dtype=dtype)\n",
      "/glade/work/jonahshaw/miniconda3/envs/cheydask/lib/python3.7/site-packages/xarray/core/nanops.py:142: RuntimeWarning: Mean of empty slice\n",
      "  return np.nanmean(a, axis=axis, dtype=dtype)\n",
      "/glade/work/jonahshaw/miniconda3/envs/cheydask/lib/python3.7/site-packages/xarray/core/nanops.py:142: RuntimeWarning: Mean of empty slice\n",
      "  return np.nanmean(a, axis=axis, dtype=dtype)\n",
      "/glade/work/jonahshaw/miniconda3/envs/cheydask/lib/python3.7/site-packages/xarray/core/nanops.py:142: RuntimeWarning: Mean of empty slice\n",
      "  return np.nanmean(a, axis=axis, dtype=dtype)\n",
      "/glade/work/jonahshaw/miniconda3/envs/cheydask/lib/python3.7/site-packages/xarray/core/nanops.py:142: RuntimeWarning: Mean of empty slice\n",
      "  return np.nanmean(a, axis=axis, dtype=dtype)\n",
      "/glade/work/jonahshaw/miniconda3/envs/cheydask/lib/python3.7/site-packages/xarray/core/nanops.py:142: RuntimeWarning: Mean of empty slice\n",
      "  return np.nanmean(a, axis=axis, dtype=dtype)\n",
      "/glade/work/jonahshaw/miniconda3/envs/cheydask/lib/python3.7/site-packages/xarray/core/nanops.py:142: RuntimeWarning: Mean of empty slice\n",
      "  return np.nanmean(a, axis=axis, dtype=dtype)\n",
      "/glade/work/jonahshaw/miniconda3/envs/cheydask/lib/python3.7/site-packages/xarray/core/nanops.py:142: RuntimeWarning: Mean of empty slice\n",
      "  return np.nanmean(a, axis=axis, dtype=dtype)\n",
      "/glade/work/jonahshaw/miniconda3/envs/cheydask/lib/python3.7/site-packages/xarray/core/nanops.py:142: RuntimeWarning: Mean of empty slice\n",
      "  return np.nanmean(a, axis=axis, dtype=dtype)\n",
      "/glade/work/jonahshaw/miniconda3/envs/cheydask/lib/python3.7/site-packages/xarray/core/nanops.py:142: RuntimeWarning: Mean of empty slice\n",
      "  return np.nanmean(a, axis=axis, dtype=dtype)\n",
      "/glade/work/jonahshaw/miniconda3/envs/cheydask/lib/python3.7/site-packages/xarray/core/nanops.py:142: RuntimeWarning: Mean of empty slice\n",
      "  return np.nanmean(a, axis=axis, dtype=dtype)\n",
      "/glade/work/jonahshaw/miniconda3/envs/cheydask/lib/python3.7/site-packages/xarray/core/nanops.py:142: RuntimeWarning: Mean of empty slice\n",
      "  return np.nanmean(a, axis=axis, dtype=dtype)\n",
      "/glade/work/jonahshaw/miniconda3/envs/cheydask/lib/python3.7/site-packages/xarray/core/nanops.py:142: RuntimeWarning: Mean of empty slice\n",
      "  return np.nanmean(a, axis=axis, dtype=dtype)\n",
      "/glade/work/jonahshaw/miniconda3/envs/cheydask/lib/python3.7/site-packages/xarray/core/nanops.py:142: RuntimeWarning: Mean of empty slice\n",
      "  return np.nanmean(a, axis=axis, dtype=dtype)\n",
      "/glade/work/jonahshaw/miniconda3/envs/cheydask/lib/python3.7/site-packages/xarray/core/nanops.py:142: RuntimeWarning: Mean of empty slice\n",
      "  return np.nanmean(a, axis=axis, dtype=dtype)\n",
      "/glade/work/jonahshaw/miniconda3/envs/cheydask/lib/python3.7/site-packages/xarray/core/nanops.py:142: RuntimeWarning: Mean of empty slice\n",
      "  return np.nanmean(a, axis=axis, dtype=dtype)\n",
      "/glade/work/jonahshaw/miniconda3/envs/cheydask/lib/python3.7/site-packages/xarray/core/nanops.py:142: RuntimeWarning: Mean of empty slice\n",
      "  return np.nanmean(a, axis=axis, dtype=dtype)\n",
      "/glade/work/jonahshaw/miniconda3/envs/cheydask/lib/python3.7/site-packages/xarray/core/nanops.py:142: RuntimeWarning: Mean of empty slice\n",
      "  return np.nanmean(a, axis=axis, dtype=dtype)\n",
      "/glade/work/jonahshaw/miniconda3/envs/cheydask/lib/python3.7/site-packages/xarray/core/nanops.py:142: RuntimeWarning: Mean of empty slice\n",
      "  return np.nanmean(a, axis=axis, dtype=dtype)\n",
      "/glade/work/jonahshaw/miniconda3/envs/cheydask/lib/python3.7/site-packages/xarray/core/nanops.py:142: RuntimeWarning: Mean of empty slice\n",
      "  return np.nanmean(a, axis=axis, dtype=dtype)\n",
      "/glade/work/jonahshaw/miniconda3/envs/cheydask/lib/python3.7/site-packages/xarray/core/nanops.py:142: RuntimeWarning: Mean of empty slice\n",
      "  return np.nanmean(a, axis=axis, dtype=dtype)\n",
      "/glade/work/jonahshaw/miniconda3/envs/cheydask/lib/python3.7/site-packages/xarray/core/nanops.py:142: RuntimeWarning: Mean of empty slice\n",
      "  return np.nanmean(a, axis=axis, dtype=dtype)\n",
      "/glade/work/jonahshaw/miniconda3/envs/cheydask/lib/python3.7/site-packages/xarray/core/nanops.py:142: RuntimeWarning: Mean of empty slice\n",
      "  return np.nanmean(a, axis=axis, dtype=dtype)\n",
      "/glade/work/jonahshaw/miniconda3/envs/cheydask/lib/python3.7/site-packages/xarray/core/nanops.py:142: RuntimeWarning: Mean of empty slice\n",
      "  return np.nanmean(a, axis=axis, dtype=dtype)\n",
      "/glade/work/jonahshaw/miniconda3/envs/cheydask/lib/python3.7/site-packages/xarray/core/nanops.py:142: RuntimeWarning: Mean of empty slice\n",
      "  return np.nanmean(a, axis=axis, dtype=dtype)\n",
      "/glade/work/jonahshaw/miniconda3/envs/cheydask/lib/python3.7/site-packages/xarray/core/nanops.py:142: RuntimeWarning: Mean of empty slice\n",
      "  return np.nanmean(a, axis=axis, dtype=dtype)\n",
      "/glade/work/jonahshaw/miniconda3/envs/cheydask/lib/python3.7/site-packages/xarray/core/nanops.py:142: RuntimeWarning: Mean of empty slice\n",
      "  return np.nanmean(a, axis=axis, dtype=dtype)\n",
      "/glade/work/jonahshaw/miniconda3/envs/cheydask/lib/python3.7/site-packages/xarray/core/nanops.py:142: RuntimeWarning: Mean of empty slice\n",
      "  return np.nanmean(a, axis=axis, dtype=dtype)\n",
      "/glade/work/jonahshaw/miniconda3/envs/cheydask/lib/python3.7/site-packages/xarray/core/nanops.py:142: RuntimeWarning: Mean of empty slice\n",
      "  return np.nanmean(a, axis=axis, dtype=dtype)\n",
      "/glade/work/jonahshaw/miniconda3/envs/cheydask/lib/python3.7/site-packages/xarray/core/nanops.py:142: RuntimeWarning: Mean of empty slice\n",
      "  return np.nanmean(a, axis=axis, dtype=dtype)\n",
      "/glade/work/jonahshaw/miniconda3/envs/cheydask/lib/python3.7/site-packages/xarray/core/nanops.py:142: RuntimeWarning: Mean of empty slice\n",
      "  return np.nanmean(a, axis=axis, dtype=dtype)\n",
      "/glade/work/jonahshaw/miniconda3/envs/cheydask/lib/python3.7/site-packages/xarray/core/nanops.py:142: RuntimeWarning: Mean of empty slice\n",
      "  return np.nanmean(a, axis=axis, dtype=dtype)\n",
      "/glade/work/jonahshaw/miniconda3/envs/cheydask/lib/python3.7/site-packages/xarray/core/nanops.py:142: RuntimeWarning: Mean of empty slice\n",
      "  return np.nanmean(a, axis=axis, dtype=dtype)\n",
      "/glade/work/jonahshaw/miniconda3/envs/cheydask/lib/python3.7/site-packages/xarray/core/nanops.py:142: RuntimeWarning: Mean of empty slice\n",
      "  return np.nanmean(a, axis=axis, dtype=dtype)\n",
      "/glade/work/jonahshaw/miniconda3/envs/cheydask/lib/python3.7/site-packages/xarray/core/nanops.py:142: RuntimeWarning: Mean of empty slice\n",
      "  return np.nanmean(a, axis=axis, dtype=dtype)\n",
      "/glade/work/jonahshaw/miniconda3/envs/cheydask/lib/python3.7/site-packages/xarray/core/nanops.py:142: RuntimeWarning: Mean of empty slice\n",
      "  return np.nanmean(a, axis=axis, dtype=dtype)\n",
      "/glade/work/jonahshaw/miniconda3/envs/cheydask/lib/python3.7/site-packages/xarray/core/nanops.py:142: RuntimeWarning: Mean of empty slice\n",
      "  return np.nanmean(a, axis=axis, dtype=dtype)\n",
      "/glade/work/jonahshaw/miniconda3/envs/cheydask/lib/python3.7/site-packages/xarray/core/nanops.py:142: RuntimeWarning: Mean of empty slice\n",
      "  return np.nanmean(a, axis=axis, dtype=dtype)\n",
      "/glade/work/jonahshaw/miniconda3/envs/cheydask/lib/python3.7/site-packages/xarray/core/nanops.py:142: RuntimeWarning: Mean of empty slice\n",
      "  return np.nanmean(a, axis=axis, dtype=dtype)\n",
      "/glade/work/jonahshaw/miniconda3/envs/cheydask/lib/python3.7/site-packages/xarray/core/nanops.py:142: RuntimeWarning: Mean of empty slice\n",
      "  return np.nanmean(a, axis=axis, dtype=dtype)\n",
      "/glade/work/jonahshaw/miniconda3/envs/cheydask/lib/python3.7/site-packages/xarray/core/nanops.py:142: RuntimeWarning: Mean of empty slice\n",
      "  return np.nanmean(a, axis=axis, dtype=dtype)\n",
      "/glade/work/jonahshaw/miniconda3/envs/cheydask/lib/python3.7/site-packages/xarray/core/nanops.py:142: RuntimeWarning: Mean of empty slice\n",
      "  return np.nanmean(a, axis=axis, dtype=dtype)\n",
      "/glade/work/jonahshaw/miniconda3/envs/cheydask/lib/python3.7/site-packages/xarray/core/nanops.py:142: RuntimeWarning: Mean of empty slice\n",
      "  return np.nanmean(a, axis=axis, dtype=dtype)\n",
      "/glade/work/jonahshaw/miniconda3/envs/cheydask/lib/python3.7/site-packages/xarray/core/nanops.py:142: RuntimeWarning: Mean of empty slice\n",
      "  return np.nanmean(a, axis=axis, dtype=dtype)\n",
      "/glade/work/jonahshaw/miniconda3/envs/cheydask/lib/python3.7/site-packages/xarray/core/nanops.py:142: RuntimeWarning: Mean of empty slice\n",
      "  return np.nanmean(a, axis=axis, dtype=dtype)\n",
      "/glade/work/jonahshaw/miniconda3/envs/cheydask/lib/python3.7/site-packages/xarray/core/nanops.py:142: RuntimeWarning: Mean of empty slice\n",
      "  return np.nanmean(a, axis=axis, dtype=dtype)\n",
      "/glade/work/jonahshaw/miniconda3/envs/cheydask/lib/python3.7/site-packages/xarray/core/nanops.py:142: RuntimeWarning: Mean of empty slice\n",
      "  return np.nanmean(a, axis=axis, dtype=dtype)\n",
      "/glade/work/jonahshaw/miniconda3/envs/cheydask/lib/python3.7/site-packages/xarray/core/nanops.py:142: RuntimeWarning: Mean of empty slice\n",
      "  return np.nanmean(a, axis=axis, dtype=dtype)\n",
      "/glade/work/jonahshaw/miniconda3/envs/cheydask/lib/python3.7/site-packages/xarray/core/nanops.py:142: RuntimeWarning: Mean of empty slice\n",
      "  return np.nanmean(a, axis=axis, dtype=dtype)\n",
      "/glade/work/jonahshaw/miniconda3/envs/cheydask/lib/python3.7/site-packages/xarray/core/nanops.py:142: RuntimeWarning: Mean of empty slice\n",
      "  return np.nanmean(a, axis=axis, dtype=dtype)\n",
      "/glade/work/jonahshaw/miniconda3/envs/cheydask/lib/python3.7/site-packages/xarray/core/nanops.py:142: RuntimeWarning: Mean of empty slice\n",
      "  return np.nanmean(a, axis=axis, dtype=dtype)\n",
      "/glade/work/jonahshaw/miniconda3/envs/cheydask/lib/python3.7/site-packages/xarray/core/nanops.py:142: RuntimeWarning: Mean of empty slice\n",
      "  return np.nanmean(a, axis=axis, dtype=dtype)\n",
      "/glade/work/jonahshaw/miniconda3/envs/cheydask/lib/python3.7/site-packages/xarray/core/nanops.py:142: RuntimeWarning: Mean of empty slice\n",
      "  return np.nanmean(a, axis=axis, dtype=dtype)\n",
      "/glade/work/jonahshaw/miniconda3/envs/cheydask/lib/python3.7/site-packages/xarray/core/nanops.py:142: RuntimeWarning: Mean of empty slice\n",
      "  return np.nanmean(a, axis=axis, dtype=dtype)\n",
      "/glade/work/jonahshaw/miniconda3/envs/cheydask/lib/python3.7/site-packages/xarray/core/nanops.py:142: RuntimeWarning: Mean of empty slice\n",
      "  return np.nanmean(a, axis=axis, dtype=dtype)\n",
      "/glade/work/jonahshaw/miniconda3/envs/cheydask/lib/python3.7/site-packages/xarray/core/nanops.py:142: RuntimeWarning: Mean of empty slice\n",
      "  return np.nanmean(a, axis=axis, dtype=dtype)\n",
      "/glade/work/jonahshaw/miniconda3/envs/cheydask/lib/python3.7/site-packages/xarray/core/nanops.py:142: RuntimeWarning: Mean of empty slice\n",
      "  return np.nanmean(a, axis=axis, dtype=dtype)\n",
      "/glade/work/jonahshaw/miniconda3/envs/cheydask/lib/python3.7/site-packages/xarray/core/nanops.py:142: RuntimeWarning: Mean of empty slice\n",
      "  return np.nanmean(a, axis=axis, dtype=dtype)\n",
      "/glade/work/jonahshaw/miniconda3/envs/cheydask/lib/python3.7/site-packages/xarray/core/nanops.py:142: RuntimeWarning: Mean of empty slice\n",
      "  return np.nanmean(a, axis=axis, dtype=dtype)\n",
      "/glade/work/jonahshaw/miniconda3/envs/cheydask/lib/python3.7/site-packages/xarray/core/nanops.py:142: RuntimeWarning: Mean of empty slice\n",
      "  return np.nanmean(a, axis=axis, dtype=dtype)\n",
      "/glade/work/jonahshaw/miniconda3/envs/cheydask/lib/python3.7/site-packages/xarray/core/nanops.py:142: RuntimeWarning: Mean of empty slice\n",
      "  return np.nanmean(a, axis=axis, dtype=dtype)\n",
      "/glade/work/jonahshaw/miniconda3/envs/cheydask/lib/python3.7/site-packages/xarray/core/nanops.py:142: RuntimeWarning: Mean of empty slice\n",
      "  return np.nanmean(a, axis=axis, dtype=dtype)\n",
      "/glade/work/jonahshaw/miniconda3/envs/cheydask/lib/python3.7/site-packages/xarray/core/nanops.py:142: RuntimeWarning: Mean of empty slice\n",
      "  return np.nanmean(a, axis=axis, dtype=dtype)\n",
      "/glade/work/jonahshaw/miniconda3/envs/cheydask/lib/python3.7/site-packages/xarray/core/nanops.py:142: RuntimeWarning: Mean of empty slice\n",
      "  return np.nanmean(a, axis=axis, dtype=dtype)\n",
      "/glade/work/jonahshaw/miniconda3/envs/cheydask/lib/python3.7/site-packages/xarray/core/nanops.py:142: RuntimeWarning: Mean of empty slice\n",
      "  return np.nanmean(a, axis=axis, dtype=dtype)\n",
      "/glade/work/jonahshaw/miniconda3/envs/cheydask/lib/python3.7/site-packages/xarray/core/nanops.py:142: RuntimeWarning: Mean of empty slice\n",
      "  return np.nanmean(a, axis=axis, dtype=dtype)\n",
      "/glade/work/jonahshaw/miniconda3/envs/cheydask/lib/python3.7/site-packages/xarray/core/nanops.py:142: RuntimeWarning: Mean of empty slice\n",
      "  return np.nanmean(a, axis=axis, dtype=dtype)\n",
      "/glade/work/jonahshaw/miniconda3/envs/cheydask/lib/python3.7/site-packages/xarray/core/nanops.py:142: RuntimeWarning: Mean of empty slice\n",
      "  return np.nanmean(a, axis=axis, dtype=dtype)\n",
      "/glade/work/jonahshaw/miniconda3/envs/cheydask/lib/python3.7/site-packages/xarray/core/nanops.py:142: RuntimeWarning: Mean of empty slice\n",
      "  return np.nanmean(a, axis=axis, dtype=dtype)\n",
      "/glade/work/jonahshaw/miniconda3/envs/cheydask/lib/python3.7/site-packages/xarray/core/nanops.py:142: RuntimeWarning: Mean of empty slice\n",
      "  return np.nanmean(a, axis=axis, dtype=dtype)\n",
      "/glade/work/jonahshaw/miniconda3/envs/cheydask/lib/python3.7/site-packages/xarray/core/nanops.py:142: RuntimeWarning: Mean of empty slice\n",
      "  return np.nanmean(a, axis=axis, dtype=dtype)\n",
      "/glade/work/jonahshaw/miniconda3/envs/cheydask/lib/python3.7/site-packages/xarray/core/nanops.py:142: RuntimeWarning: Mean of empty slice\n",
      "  return np.nanmean(a, axis=axis, dtype=dtype)\n",
      "/glade/work/jonahshaw/miniconda3/envs/cheydask/lib/python3.7/site-packages/xarray/core/nanops.py:142: RuntimeWarning: Mean of empty slice\n",
      "  return np.nanmean(a, axis=axis, dtype=dtype)\n",
      "/glade/work/jonahshaw/miniconda3/envs/cheydask/lib/python3.7/site-packages/xarray/core/nanops.py:142: RuntimeWarning: Mean of empty slice\n",
      "  return np.nanmean(a, axis=axis, dtype=dtype)\n",
      "/glade/work/jonahshaw/miniconda3/envs/cheydask/lib/python3.7/site-packages/xarray/core/nanops.py:142: RuntimeWarning: Mean of empty slice\n",
      "  return np.nanmean(a, axis=axis, dtype=dtype)\n",
      "/glade/work/jonahshaw/miniconda3/envs/cheydask/lib/python3.7/site-packages/xarray/core/nanops.py:142: RuntimeWarning: Mean of empty slice\n",
      "  return np.nanmean(a, axis=axis, dtype=dtype)\n",
      "/glade/work/jonahshaw/miniconda3/envs/cheydask/lib/python3.7/site-packages/xarray/core/nanops.py:142: RuntimeWarning: Mean of empty slice\n",
      "  return np.nanmean(a, axis=axis, dtype=dtype)\n",
      "/glade/work/jonahshaw/miniconda3/envs/cheydask/lib/python3.7/site-packages/xarray/core/nanops.py:142: RuntimeWarning: Mean of empty slice\n",
      "  return np.nanmean(a, axis=axis, dtype=dtype)\n",
      "/glade/work/jonahshaw/miniconda3/envs/cheydask/lib/python3.7/site-packages/xarray/core/nanops.py:142: RuntimeWarning: Mean of empty slice\n",
      "  return np.nanmean(a, axis=axis, dtype=dtype)\n",
      "/glade/work/jonahshaw/miniconda3/envs/cheydask/lib/python3.7/site-packages/xarray/core/nanops.py:142: RuntimeWarning: Mean of empty slice\n",
      "  return np.nanmean(a, axis=axis, dtype=dtype)\n",
      "/glade/work/jonahshaw/miniconda3/envs/cheydask/lib/python3.7/site-packages/xarray/core/nanops.py:142: RuntimeWarning: Mean of empty slice\n",
      "  return np.nanmean(a, axis=axis, dtype=dtype)\n",
      "/glade/work/jonahshaw/miniconda3/envs/cheydask/lib/python3.7/site-packages/xarray/core/nanops.py:142: RuntimeWarning: Mean of empty slice\n",
      "  return np.nanmean(a, axis=axis, dtype=dtype)\n",
      "/glade/work/jonahshaw/miniconda3/envs/cheydask/lib/python3.7/site-packages/xarray/core/nanops.py:142: RuntimeWarning: Mean of empty slice\n",
      "  return np.nanmean(a, axis=axis, dtype=dtype)\n",
      "/glade/work/jonahshaw/miniconda3/envs/cheydask/lib/python3.7/site-packages/xarray/core/nanops.py:142: RuntimeWarning: Mean of empty slice\n",
      "  return np.nanmean(a, axis=axis, dtype=dtype)\n",
      "/glade/work/jonahshaw/miniconda3/envs/cheydask/lib/python3.7/site-packages/xarray/core/nanops.py:142: RuntimeWarning: Mean of empty slice\n",
      "  return np.nanmean(a, axis=axis, dtype=dtype)\n",
      "/glade/work/jonahshaw/miniconda3/envs/cheydask/lib/python3.7/site-packages/xarray/core/nanops.py:142: RuntimeWarning: Mean of empty slice\n",
      "  return np.nanmean(a, axis=axis, dtype=dtype)\n",
      "/glade/work/jonahshaw/miniconda3/envs/cheydask/lib/python3.7/site-packages/xarray/core/nanops.py:142: RuntimeWarning: Mean of empty slice\n",
      "  return np.nanmean(a, axis=axis, dtype=dtype)\n",
      "/glade/work/jonahshaw/miniconda3/envs/cheydask/lib/python3.7/site-packages/xarray/core/nanops.py:142: RuntimeWarning: Mean of empty slice\n",
      "  return np.nanmean(a, axis=axis, dtype=dtype)\n",
      "/glade/work/jonahshaw/miniconda3/envs/cheydask/lib/python3.7/site-packages/xarray/core/nanops.py:142: RuntimeWarning: Mean of empty slice\n",
      "  return np.nanmean(a, axis=axis, dtype=dtype)\n",
      "/glade/work/jonahshaw/miniconda3/envs/cheydask/lib/python3.7/site-packages/xarray/core/nanops.py:142: RuntimeWarning: Mean of empty slice\n",
      "  return np.nanmean(a, axis=axis, dtype=dtype)\n",
      "/glade/work/jonahshaw/miniconda3/envs/cheydask/lib/python3.7/site-packages/xarray/core/nanops.py:142: RuntimeWarning: Mean of empty slice\n",
      "  return np.nanmean(a, axis=axis, dtype=dtype)\n",
      "/glade/work/jonahshaw/miniconda3/envs/cheydask/lib/python3.7/site-packages/xarray/core/nanops.py:142: RuntimeWarning: Mean of empty slice\n",
      "  return np.nanmean(a, axis=axis, dtype=dtype)\n",
      "/glade/work/jonahshaw/miniconda3/envs/cheydask/lib/python3.7/site-packages/xarray/core/nanops.py:142: RuntimeWarning: Mean of empty slice\n",
      "  return np.nanmean(a, axis=axis, dtype=dtype)\n",
      "/glade/work/jonahshaw/miniconda3/envs/cheydask/lib/python3.7/site-packages/xarray/core/nanops.py:142: RuntimeWarning: Mean of empty slice\n",
      "  return np.nanmean(a, axis=axis, dtype=dtype)\n",
      "/glade/work/jonahshaw/miniconda3/envs/cheydask/lib/python3.7/site-packages/xarray/core/nanops.py:142: RuntimeWarning: Mean of empty slice\n",
      "  return np.nanmean(a, axis=axis, dtype=dtype)\n",
      "/glade/work/jonahshaw/miniconda3/envs/cheydask/lib/python3.7/site-packages/xarray/core/nanops.py:142: RuntimeWarning: Mean of empty slice\n",
      "  return np.nanmean(a, axis=axis, dtype=dtype)\n",
      "/glade/work/jonahshaw/miniconda3/envs/cheydask/lib/python3.7/site-packages/xarray/core/nanops.py:142: RuntimeWarning: Mean of empty slice\n",
      "  return np.nanmean(a, axis=axis, dtype=dtype)\n",
      "/glade/work/jonahshaw/miniconda3/envs/cheydask/lib/python3.7/site-packages/xarray/core/nanops.py:142: RuntimeWarning: Mean of empty slice\n",
      "  return np.nanmean(a, axis=axis, dtype=dtype)\n",
      "/glade/work/jonahshaw/miniconda3/envs/cheydask/lib/python3.7/site-packages/xarray/core/nanops.py:142: RuntimeWarning: Mean of empty slice\n",
      "  return np.nanmean(a, axis=axis, dtype=dtype)\n",
      "/glade/work/jonahshaw/miniconda3/envs/cheydask/lib/python3.7/site-packages/xarray/core/nanops.py:142: RuntimeWarning: Mean of empty slice\n",
      "  return np.nanmean(a, axis=axis, dtype=dtype)\n",
      "/glade/work/jonahshaw/miniconda3/envs/cheydask/lib/python3.7/site-packages/xarray/core/nanops.py:142: RuntimeWarning: Mean of empty slice\n",
      "  return np.nanmean(a, axis=axis, dtype=dtype)\n",
      "/glade/work/jonahshaw/miniconda3/envs/cheydask/lib/python3.7/site-packages/xarray/core/nanops.py:142: RuntimeWarning: Mean of empty slice\n",
      "  return np.nanmean(a, axis=axis, dtype=dtype)\n"
     ]
    },
    {
     "name": "stdout",
     "output_type": "stream",
     "text": [
      "CPU times: user 13.6 s, sys: 181 ms, total: 13.8 s\n",
      "Wall time: 20.7 s\n"
     ]
    }
   ],
   "source": [
    "%%time\n",
    "hadcrut5_filelist = []\n",
    "for _file in hadcrut5_files:\n",
    "    # print(_file)\n",
    "    _hadcrut5_ds = xr.open_dataset(_file)\n",
    "    _hadcrut5_annual = _hadcrut5_ds[hadcrut5_tas_var].groupby('time.year').mean('time')\n",
    "\n",
    "    hadcrut5_filelist.append(_hadcrut5_annual)\n",
    "\n",
    "hadcrut5_annual = xr.concat(hadcrut5_filelist, dim=\"realization\")"
   ]
  },
  {
   "cell_type": "code",
   "execution_count": 28,
   "id": "d04a33af-f148-448b-b455-70d77f1f1c79",
   "metadata": {},
   "outputs": [
    {
     "name": "stdout",
     "output_type": "stream",
     "text": [
      "3 4 5 6 7 8 9 10 11 12 13 14 15 16 17 18 19 20 21 22 23 24 25 26 27 28 29 30 31 32 33 34 35 36 37 38 39 40 41 42 43 44 45 46 47 48 49 50 51 52 53 54 55 56 57 58 59 60 61 62 63 64 65 66 67 68 69 70 71 72 73 74 75 76 77 78 79 80 81 82 83 84 85 86 87 88 89 90 91 92 93 94 95 96 97 98 99 100 101 102 103 104 105 106 107 108 109 110 111 112 113 114 115 116 117 118 119 120 121 CPU times: user 1min 7s, sys: 1.09 s, total: 1min 8s\n",
      "Wall time: 1min 13s\n"
     ]
    }
   ],
   "source": [
    "%%time\n",
    "\n",
    "hadcrut5_trends_all = compute_trends_wrapper(hadcrut5_annual,durations=np.arange(3,122,1))"
   ]
  },
  {
   "cell_type": "code",
   "execution_count": 29,
   "id": "d3ab9e4d-2db8-490e-9f20-fae582a1107c",
   "metadata": {},
   "outputs": [
    {
     "data": {
      "text/plain": [
       "[<matplotlib.lines.Line2D at 0x153afcda62d0>]"
      ]
     },
     "execution_count": 29,
     "metadata": {},
     "output_type": "execute_result"
    },
    {
     "data": {
      "image/png": "[encoded data removed]",
      "text/plain": [
       "<Figure size 432x288 with 1 Axes>"
      ]
     },
     "metadata": {
      "needs_background": "light"
     },
     "output_type": "display_data"
    }
   ],
   "source": [
    "hadcrut5_trends_all.sel(startyear=1900,RegionIndex=0, realization=10).plot()"
   ]
  },
  {
   "cell_type": "code",
   "execution_count": 30,
   "id": "6cadf39b-7e97-4817-bba6-a435cfb01eb6",
   "metadata": {},
   "outputs": [
    {
     "data": {
      "text/plain": [
       "<matplotlib.collections.QuadMesh at 0x153afd005e10>"
      ]
     },
     "execution_count": 30,
     "metadata": {},
     "output_type": "execute_result"
    },
    {
     "data": {
      "image/png": "[encoded data removed]",
      "text/plain": [
       "<Figure size 432x288 with 2 Axes>"
      ]
     },
     "metadata": {
      "needs_background": "light"
     },
     "output_type": "display_data"
    }
   ],
   "source": [
    "hadcrut5_trends_all.sel(startyear=1900,RegionIndex=0,).sortby(\"realization\").plot()"
   ]
  },
  {
   "cell_type": "markdown",
   "id": "7007b8e3-dd55-4c0c-adf3-e82b217175f1",
   "metadata": {},
   "source": [
    "#### Interesting behavior in the observational uncertainty curve in Central North America when starting the record at 1900."
   ]
  },
  {
   "cell_type": "code",
   "execution_count": 31,
   "id": "f10f7ae9-e21a-4649-9935-bed852502cb0",
   "metadata": {},
   "outputs": [
    {
     "data": {
      "text/plain": [
       "[<matplotlib.lines.Line2D at 0x153afd3efa50>]"
      ]
     },
     "execution_count": 31,
     "metadata": {},
     "output_type": "execute_result"
    },
    {
     "data": {
      "image/png": "[encoded data removed]",
      "text/plain": [
       "<Figure size 432x288 with 1 Axes>"
      ]
     },
     "metadata": {
      "needs_background": "light"
     },
     "output_type": "display_data"
    }
   ],
   "source": [
    "hadcrut5_trends_all.sel(RegionIndex=4, startyear=1900).sortby(\"realization\").std(\"realization\").plot()"
   ]
  },
  {
   "cell_type": "code",
   "execution_count": 32,
   "id": "49269476-8ff4-4dd8-b3d2-1ae75e4f337f",
   "metadata": {},
   "outputs": [],
   "source": [
    "hadcrut5_trends_all.to_netcdf('%s/%s/HadCRUT.5.0.2.0_1_200.trends.190001-202212.nc' % (obslens_tseries_dir,'HadCRUT5/20240820/'))"
   ]
  },
  {
   "cell_type": "code",
   "execution_count": 33,
   "id": "b8c8293b-d54f-4e27-8102-80967ed61e1a",
   "metadata": {},
   "outputs": [],
   "source": [
    "del hadcrut5_annual,hadcrut5_trends_all"
   ]
  },
  {
   "cell_type": "code",
   "execution_count": null,
   "id": "dcbb672b-6624-4368-8786-99727f7b658c",
   "metadata": {},
   "outputs": [],
   "source": []
  }
 ],
 "metadata": {
  "kernelspec": {
   "display_name": "py_xagg",
   "language": "python",
   "name": "python3"
  },
  "language_info": {
   "codemirror_mode": {
    "name": "ipython",
    "version": 3
   },
   "file_extension": ".py",
   "mimetype": "text/x-python",
   "name": "python",
   "nbconvert_exporter": "python",
   "pygments_lexer": "ipython3",
   "version": "3.12.5"
  }
 },
 "nbformat": 4,
 "nbformat_minor": 5
}
