{
 "cells": [
  {
   "cell_type": "markdown",
   "id": "9d5702ab-4316-47a2-af40-56d7ce8ccb57",
   "metadata": {},
   "source": [
    "# Process gridded CMIP6 model data into timeseries"
   ]
  },
  {
   "cell_type": "markdown",
   "id": "18476b97-1df5-45f3-a446-f25bcbe6a735",
   "metadata": {},
   "source": [
    "__1. Process the gridded temperature data into timeseries for each model.__\n",
    "\n",
    "Output is a dataArray for each model with dimensions of time and IPCC region containing a time series of the TAS variable.\n"
   ]
  },
  {
   "cell_type": "markdown",
   "id": "030ff2a2-aa9a-4f90-927d-3d5773e96f1d",
   "metadata": {},
   "source": [
    "Use this tool:  \n",
    "\n",
    "~~https://github.com/IPCC-WG1/Atlas/blob/main/notebooks/reference-regions_Python.ipynb~~"
   ]
  },
  {
   "cell_type": "markdown",
   "id": "26535b5c",
   "metadata": {},
   "source": [
    "Nathan has recommended a tool that not only identifies gridcells within regions but also weights them based on the fraction within a region. We want to avoid land-ocean regions contamination.  \n",
    "\n",
    "https://xagg.readthedocs.io/en/latest/notebooks/full_run.html"
   ]
  },
  {
   "cell_type": "markdown",
   "id": "6ede891f-af88-4e6d-90de-32be78682d2b",
   "metadata": {},
   "source": [
    "## Code!"
   ]
  },
  {
   "cell_type": "code",
   "execution_count": 1,
   "id": "36642082",
   "metadata": {},
   "outputs": [],
   "source": [
    "import numpy as np\n",
    "import xarray as xr\n",
    "import pandas as pd\n",
    "import matplotlib.pyplot as plt\n",
    "import os\n",
    "import glob\n",
    "\n",
    "import xagg as xa\n",
    "import geopandas as gpd\n",
    "\n",
    "%matplotlib inline"
   ]
  },
  {
   "cell_type": "code",
   "execution_count": 2,
   "id": "6a9cdc80",
   "metadata": {},
   "outputs": [],
   "source": [
    "def fix_cesm_time(ds):\n",
    "    '''Fix CESM-style time coordinate issue. Make a new object to avoid confusion!'''\n",
    "    \n",
    "    new_ds = ds.copy()\n",
    "    \n",
    "    try:\n",
    "        new_ds['time'] = new_ds['time_bnds'].isel(bnds=0)\n",
    "    except:\n",
    "        new_ds['time'] = new_ds['time_bnds'].isel(nbnd=0)\n",
    "        \n",
    "    return new_ds"
   ]
  },
  {
   "cell_type": "markdown",
   "id": "141ec8da-5e70-42db-b284-9890bbd8937c",
   "metadata": {},
   "source": [
    "__PI-Control Simulations.__  \n",
    "\n",
    "Nicola/MPI: /glade/scratch/nmaher/mpi_jonah  \n",
    "\n",
    "CESM1-LE: '/glade/campaign/cesm/collections/cesmLE/CESM-CAM5-BGC-LE/atm/proc/tseries/monthly/'\n"
   ]
  },
  {
   "cell_type": "code",
   "execution_count": 3,
   "id": "96bd36fb-7733-4068-88d9-95ce20cf2fe9",
   "metadata": {},
   "outputs": [],
   "source": [
    "# mpi_pic_dir = '/glade/scratch/nmaher/mpi_jonah/'\n",
    "cesm1_pic_dir   = '/glade/campaign/cesm/collections/cesmLE/CESM-CAM5-BGC-LE/atm/proc/tseries/monthly/'\n",
    "mpi_pic_dir     = '/glade/derecho/scratch/jonahshaw/CMIP5/MPI-GE/'\n",
    "canesm2_pic_dir = '/glade/derecho/scratch/jonahshaw/CMIP5/CanESM2/'\n",
    "esm2m_pic_dir   = '/glade/derecho/scratch/jonahshaw/CMIP5/GFDL-ESM2M/'"
   ]
  },
  {
   "cell_type": "markdown",
   "id": "36601876-01f3-4154-9c73-ff1fadf49ebd",
   "metadata": {},
   "source": [
    "#### Collect CESM1 PIC file paths."
   ]
  },
  {
   "cell_type": "code",
   "execution_count": 4,
   "id": "508bc084-4987-4a53-a13d-90da98a69603",
   "metadata": {},
   "outputs": [],
   "source": [
    "# I need to go from the CAM output variables to the CMOR/CMIP standard names.\n",
    "cesm1_cmor_var_dict = {'ts':'TS','tas':'TREFHT','psl':'PSL'}"
   ]
  },
  {
   "cell_type": "code",
   "execution_count": 5,
   "id": "e91f94dc-0594-42e2-8c71-e7c3d00fd037",
   "metadata": {},
   "outputs": [],
   "source": [
    "cesm1_pic_tas_files = glob.glob('%s/%s/b.e11.B1850C5CN.f09_g16.005*.nc' % (cesm1_pic_dir,cesm1_cmor_var_dict['tas']))\n",
    "cesm1_pic_tas_files.sort()\n",
    "\n",
    "cesm1_pic_ts_files = glob.glob('%s/%s/b.e11.B1850C5CN.f09_g16.005*.nc' % (cesm1_pic_dir,cesm1_cmor_var_dict['ts']))\n",
    "cesm1_pic_ts_files.sort()"
   ]
  },
  {
   "cell_type": "code",
   "execution_count": 6,
   "id": "cb5411c9-21ba-4e43-acc1-9f57d5ceee35",
   "metadata": {},
   "outputs": [],
   "source": [
    "mpi_pic_tas_files = glob.glob('%s/*%s*.nc' % (mpi_pic_dir,'tas'))\n",
    "mpi_pic_tas_files.sort()\n",
    "\n",
    "mpi_pic_ts_files = glob.glob('%s/*%s*.nc' % (mpi_pic_dir,'ts'))\n",
    "mpi_pic_ts_files.sort()"
   ]
  },
  {
   "cell_type": "code",
   "execution_count": 7,
   "id": "922b842a-f92d-4266-8185-32a09176ef87",
   "metadata": {},
   "outputs": [],
   "source": [
    "canesm2_pic_tas_files = glob.glob('%s/*%s*.nc' % (canesm2_pic_dir,'tas'))\n",
    "canesm2_pic_tas_files.sort()\n",
    "\n",
    "canesm2_pic_ts_files = glob.glob('%s/*%s*.nc' % (canesm2_pic_dir,'ts'))\n",
    "canesm2_pic_ts_files.sort()"
   ]
  },
  {
   "cell_type": "code",
   "execution_count": 8,
   "id": "c5579a3b-fa3e-4971-970f-9a3c26ed3ab4",
   "metadata": {},
   "outputs": [],
   "source": [
    "esm2m_pic_tas_files = glob.glob('%s/*%s*.nc' % (esm2m_pic_dir,'tas'))\n",
    "esm2m_pic_tas_files.sort()\n",
    "\n",
    "# Nothing here, but that's fine.\n",
    "esm2m_pic_ts_files = glob.glob('%s/*%s*.nc' % (esm2m_pic_dir,'ts'))\n",
    "esm2m_pic_ts_files.sort()"
   ]
  },
  {
   "cell_type": "markdown",
   "id": "d234977b-b7ec-45ce-9e20-1028cdb3646b",
   "metadata": {},
   "source": [
    "Oh no, the MPI files are missing! They were probably removed because they were in Scratch. Well shit, I might need to email Nicola again."
   ]
  },
  {
   "cell_type": "markdown",
   "id": "087859ba-ead5-4eec-828c-f6df03a7b570",
   "metadata": {},
   "source": [
    "Organize file paths into a dictionary indexed by the variable."
   ]
  },
  {
   "cell_type": "code",
   "execution_count": 9,
   "id": "bb6980be-efc9-4e04-aacc-29835fb41a96",
   "metadata": {},
   "outputs": [],
   "source": [
    "lens_vars = ['tas','ts',]\n",
    "\n",
    "cesm1_pic_path_dict = {\n",
    "    'tas':cesm1_pic_tas_files,\n",
    "    'ts' :cesm1_pic_ts_files,\n",
    "}\n",
    "\n",
    "mpi_pic_path_dict = {\n",
    "    'tas':mpi_pic_tas_files,\n",
    "    'ts' :mpi_pic_ts_files,\n",
    "}\n",
    "\n",
    "canesm2_pic_path_dict = {\n",
    "    'tas':canesm2_pic_tas_files,\n",
    "    'ts' :canesm2_pic_ts_files,\n",
    "}\n",
    "\n",
    "esm2m_pic_path_dict = {\n",
    "    'tas':esm2m_pic_tas_files,\n",
    "    'ts' :esm2m_pic_ts_files,\n",
    "}"
   ]
  },
  {
   "cell_type": "markdown",
   "id": "b92608d6-3949-45ee-89fd-19d6e76e05ca",
   "metadata": {},
   "source": [
    "### Load a process timeseries according to IPCC Region designations."
   ]
  },
  {
   "cell_type": "markdown",
   "id": "2cf02f0d-2f0e-4c6d-8329-ebc4bb4b40f1",
   "metadata": {},
   "source": [
    "#### 1. Visualize the IPCC AR6 regions"
   ]
  },
  {
   "cell_type": "code",
   "execution_count": 10,
   "id": "53a3ccc6-952e-410d-a4d9-c9c72c271949",
   "metadata": {},
   "outputs": [
    {
     "data": {
      "text/plain": [
       "'0.12.1'"
      ]
     },
     "execution_count": 10,
     "metadata": {},
     "output_type": "execute_result"
    }
   ],
   "source": [
    "import regionmask\n",
    "\n",
    "regionmask.__version__"
   ]
  },
  {
   "cell_type": "code",
   "execution_count": 11,
   "id": "e2c4d4df-c5ab-47ec-8169-91ebecaea8ef",
   "metadata": {},
   "outputs": [],
   "source": [
    "import cartopy.crs as ccrs\n",
    "import matplotlib.patheffects as pe"
   ]
  },
  {
   "cell_type": "code",
   "execution_count": 12,
   "id": "3d536cfa",
   "metadata": {},
   "outputs": [],
   "source": [
    "# # Load IPCC region shp file:\n",
    "# xagg_dir = \"/glade/u/home/jonahshaw/w/trend_uncertainty/nathan/xagg_resources\"\n",
    "# ipcc_wgi_regions_shp = \"IPCC-WGI-reference-regions-v4.shp\"\n",
    "# gdf = gpd.read_file(os.path.join(xagg_dir, ipcc_wgi_regions_shp))\n",
    "# test_ds = xr.open_dataset(cesm1_pic_tas_files[0])\n",
    "# test_da = test_ds[\"TREFHT\"]\n",
    "# # Calculate overlaps\n",
    "\n",
    "# # Compute weights for entire grid\n",
    "# area_weights = np.cos(np.deg2rad(test_da.lat)).broadcast_like(test_da.isel(time=0).squeeze())\n",
    "\n",
    "# # with xa.set_options(silent=True):\n",
    "# #     weightmap = xa.pixel_overlaps(test_da, gdf, weights=area_weights)\n",
    "# weightmap = xa.pixel_overlaps(test_da, gdf, weights=area_weights)\n",
    "# model_str = \"test\"\n",
    "\n",
    "# if os.path.exists(os.path.join(xagg_dir, f'wm_{model_str}')):\n",
    "#     # Load weightmap\n",
    "#     weightmap = xa.read_wm(os.path.join(xagg_dir, f'wm_{model_str}'))\n",
    "# else:\n",
    "#     # Load IPCC region shp file:\n",
    "#     xagg_dir = \"/glade/u/home/jonahshaw/w/trend_uncertainty/nathan/xagg_resources\"\n",
    "#     ipcc_wgi_regions_shp = \"IPCC-WGI-reference-regions-v4.shp\"\n",
    "#     gdf = gpd.read_file(os.path.join(xagg_dir, ipcc_wgi_regions_shp))\n",
    "    \n",
    "#     # JKS correct naming of \"test_da\"\n",
    "    \n",
    "#     # Compute weights for entire grid\n",
    "#     area_weights = np.cos(np.deg2rad(test_da.lat)).broadcast_like(test_da.isel(time=0).squeeze())\n",
    "    \n",
    "#     weightmap = xa.pixel_overlaps(test_da, gdf, weights=area_weights)\n",
    "#     # Save the weightmap for later:\n",
    "#     weightmap.to_file(os.path.join(xagg_dir, f'wm_{model_str}'))\n",
    "# # Aggregate\n",
    "# aggregated = xa.aggregate(test_da, weightmap)\n",
    "# # Convert to an xarray dataset\n",
    "# aggregated_ds = aggregated.to_dataset()\n",
    "# # Change xarray formatting to match previous file organization.\n",
    "# aggregated_ds = aggregated_ds.set_coords((\"Continent\", \"Type\", \"Name\", \"Acronym\")).rename({\"poly_idx\": \"RegionIndex\", \"Name\": \"RegionName\", \"Acronym\": \"RegionAbbrev\"})\n",
    "# aggregated_ds[\"TREFHT\"]"
   ]
  },
  {
   "cell_type": "code",
   "execution_count": 14,
   "id": "e8a2a744-981a-4b12-a78a-81d4d183e515",
   "metadata": {},
   "outputs": [],
   "source": [
    "def create_ipccregion_timeseries_xagg(\n",
    "    ds_filepath:str,\n",
    "    ds_var:str,\n",
    "    model_str:str,\n",
    "    cesm=False,\n",
    "):\n",
    "    \n",
    "    '''\n",
    "    Compute timeseries for all IPCC AR6 regions when given a simple model output file.\n",
    "    Now using xagg to appropriately weight gridcells that fall partly within a region!\n",
    "    '''\n",
    "    # Load data\n",
    "    ds = xr.open_dataset(ds_filepath)\n",
    "    \n",
    "    # Correct time if CESM\n",
    "    if cesm:\n",
    "        ds  = fix_cesm_time(ds)\n",
    "    \n",
    "    da = ds[ds_var]\n",
    "\n",
    "    xagg_dir = \"/glade/u/home/jonahshaw/w/trend_uncertainty/nathan/xagg_resources\"\n",
    "    if os.path.exists(os.path.join(xagg_dir, f'wm_{model_str}')):\n",
    "        # Load weightmap\n",
    "        weightmap = xa.read_wm(os.path.join(xagg_dir, f'wm_{model_str}'))\n",
    "    else:\n",
    "        # Load IPCC region shp file:\n",
    "        ipcc_wgi_regions_shp = \"IPCC-WGI-reference-regions-v4.shp\"\n",
    "        gdf = gpd.read_file(os.path.join(xagg_dir, ipcc_wgi_regions_shp))\n",
    "                \n",
    "        # Compute weights for entire grid. Assuming lat, lon, time dimension on input\n",
    "        area_weights = np.cos(np.deg2rad(da.lat)).broadcast_like(da.isel(time=0).squeeze())\n",
    "        \n",
    "        weightmap = xa.pixel_overlaps(da, gdf, weights=area_weights)\n",
    "        # Save the weightmap for later:\n",
    "        weightmap.to_file(os.path.join(xagg_dir, f'wm_{model_str}'))\n",
    "\n",
    "    # Aggregate\n",
    "    aggregated = xa.aggregate(da, weightmap)\n",
    "    # Convert to an xarray dataset\n",
    "    aggregated_ds = aggregated.to_dataset()\n",
    "    # Change xarray formatting to match previous file organization.\n",
    "    aggregated_ds = aggregated_ds.set_coords((\"Continent\", \"Type\", \"Name\", \"Acronym\")).rename({\"poly_idx\": \"RegionIndex\", \"Name\": \"RegionName\", \"Acronym\": \"RegionAbbrev\"})\n",
    "        \n",
    "    return aggregated_ds"
   ]
  },
  {
   "cell_type": "code",
   "execution_count": null,
   "id": "736b4150",
   "metadata": {},
   "outputs": [],
   "source": [
    "# Compare with regionmask approach\n",
    "cesm1_testfile = '/glade/u/home/jonahshaw/w/trend_uncertainty/nathan/CMIP6_PIC/CESM1/b.e11.B1850C5CN.f09_g16.005.cam.h0.TREFHT.040001-049912.nc'\n",
    "cesm1_testds = xr.open_dataset(cesm1_testfile)"
   ]
  },
  {
   "cell_type": "code",
   "execution_count": 15,
   "id": "d3e06414",
   "metadata": {},
   "outputs": [
    {
     "data": {
      "text/plain": [
       "'/glade/campaign/cesm/collections/cesmLE/CESM-CAM5-BGC-LE/atm/proc/tseries/monthly//TREFHT/b.e11.B1850C5CN.f09_g16.005.cam.h0.TREFHT.040001-049912.nc'"
      ]
     },
     "execution_count": 15,
     "metadata": {},
     "output_type": "execute_result"
    }
   ],
   "source": [
    "cesm1_pic_path_dict['tas'][0]"
   ]
  },
  {
   "cell_type": "code",
   "execution_count": 16,
   "id": "d459f068",
   "metadata": {},
   "outputs": [
    {
     "name": "stdout",
     "output_type": "stream",
     "text": [
      "aggregating TREFHT...\n",
      "all variables aggregated to polygons!\n"
     ]
    }
   ],
   "source": [
    "xagg_test = create_ipccregion_timeseries_xagg(\n",
    "    ds_filepath=cesm1_pic_path_dict['tas'][0],\n",
    "    ds_var=cesm1_cmor_var_dict['tas'],\n",
    "    model_str=\"CESM1\",\n",
    "    cesm=True\n",
    ")\n"
   ]
  },
  {
   "cell_type": "code",
   "execution_count": 17,
   "id": "32e49bb8",
   "metadata": {},
   "outputs": [
    {
     "data": {
      "text/plain": [
       "<matplotlib.legend.Legend at 0x7f57584b7c20>"
      ]
     },
     "execution_count": 17,
     "metadata": {},
     "output_type": "execute_result"
    },
    {
     "data": {
      "image/png": "[encoded data removed]",
      "text/plain": [
       "<Figure size 640x480 with 1 Axes>"
      ]
     },
     "metadata": {},
     "output_type": "display_data"
    }
   ],
   "source": [
    "xagg_test.isel(time=0)[\"TREFHT\"].plot(label=\"xagg\")\n",
    "\n",
    "cesm1_testds.isel(time=0)[\"TREFHT\"].plot(label=\"regionmask\")\n",
    "\n",
    "plt.legend()"
   ]
  },
  {
   "cell_type": "code",
   "execution_count": 21,
   "id": "f4134676",
   "metadata": {},
   "outputs": [
    {
     "data": {
      "text/plain": [
       "[<matplotlib.lines.Line2D at 0x7f570daea030>]"
      ]
     },
     "execution_count": 21,
     "metadata": {},
     "output_type": "execute_result"
    },
    {
     "data": {
      "image/png": "[encoded data removed]",
      "text/plain": [
       "<Figure size 640x480 with 1 Axes>"
      ]
     },
     "metadata": {},
     "output_type": "display_data"
    }
   ],
   "source": [
    "xagg_test[\"TREFHT\"].sel(RegionIndex=0, time=slice(\"0400\", \"0420\")).plot()\n",
    "cesm1_testds[\"TREFHT\"].sel(RegionIndex=0, time=slice(\"0400\", \"0420\")).plot()"
   ]
  },
  {
   "cell_type": "code",
   "execution_count": null,
   "id": "28658438",
   "metadata": {},
   "outputs": [],
   "source": [
    "def create_ipccregion_timeseries(_ds_filepath:str,_ds_var:str,regions:regionmask.Regions,cesm=False,lon=None,lat=None):\n",
    "    \n",
    "    '''\n",
    "    Compute timeseries for all IPCC AR6 regions when given a simple model output file.\n",
    "    '''\n",
    "    # Load data\n",
    "    ds      = xr.open_dataset(_ds_filepath,chunks={'lat':-1,'lon':-1})\n",
    "    \n",
    "    # Correct time if CESM\n",
    "    if cesm:\n",
    "        ds  = fix_cesm_time(ds)\n",
    "    \n",
    "    da      = ds[_ds_var]\n",
    "    \n",
    "    # Generate mask\n",
    "    if ((lon is not None) and (lat is not None)):\n",
    "        print('Using \"lat\" and \"lon\" supplied as input')\n",
    "        \n",
    "        # Make sure the passed grid values match the data approximately.\n",
    "        np.testing.assert_allclose(lat,da['lat'],atol=5e-2,rtol=1e-1,err_msg='Supplied latitudes do not match data')\n",
    "        np.testing.assert_allclose(lon,da['lon'],atol=5e-2,rtol=1e-1,err_msg='Supplied longitudes do not match data')\n",
    "        \n",
    "        mask    = regions.mask(lon,lat=lat)\n",
    "        \n",
    "        da['lon'] = lon\n",
    "        da['lat'] = lat\n",
    "        \n",
    "    else:\n",
    "        mask    = regions.mask(da)\n",
    "    \n",
    "    # Get unique region indices\n",
    "    reg     = np.unique(mask.values)\n",
    "    reg     = reg[~np.isnan(reg)]\n",
    "    \n",
    "    # for metadata: find abbreviations of all regions that were selected\n",
    "    abbrevs = regions[reg].abbrevs\n",
    "    names   = regions[reg].names\n",
    "    \n",
    "    # Compute weights for entire grid\n",
    "    weights = np.cos(np.deg2rad(da.lat)) # assuming 'lat' used consistently\n",
    "    \n",
    "    # Iterate over regions and compute a weighted time series\n",
    "    region_timeseries = []\n",
    "    for i,_abbrev,_name in zip(reg,abbrevs,names):\n",
    "        \n",
    "        _region = da.where(mask == i)\n",
    "        \n",
    "        _region_avg = _region.weighted(weights).mean(dim=(\"lat\", \"lon\")) # - 273.15\n",
    "                \n",
    "        # Using an int here should help with subsetting later.\n",
    "        _region_avg = _region_avg.assign_coords({'RegionIndex':int(i)}).expand_dims('RegionIndex',axis=-1)\n",
    "\n",
    "        # Include region abbreviation and name for easier use later\n",
    "        _region_avg = _region_avg.assign_coords({'RegionAbbrev':_abbrev})\n",
    "        _region_avg = _region_avg.assign_coords({'RegionName':_name})\n",
    "        \n",
    "        region_timeseries.append(_region_avg)\n",
    "        \n",
    "    region_timeseries_ds = xr.concat(region_timeseries,dim='RegionIndex')\n",
    "    region_timeseries_ds.name = _ds_var\n",
    "        \n",
    "    return region_timeseries_ds"
   ]
  },
  {
   "cell_type": "markdown",
   "id": "c40d3cf7-d349-45d5-a53f-8fc2d4854b1b",
   "metadata": {},
   "source": [
    "### Loop over CESM1 PI-Control files and compute the regional means."
   ]
  },
  {
   "cell_type": "code",
   "execution_count": 12,
   "id": "427058fd-59d9-47c1-a796-6352baa885f0",
   "metadata": {},
   "outputs": [],
   "source": [
    "save_dir = '/glade/u/home/jonahshaw/w/trend_uncertainty/nathan/CMIP6_PIC/'"
   ]
  },
  {
   "cell_type": "markdown",
   "id": "8f1b40f9-4db5-4b7c-a785-8524e518af84",
   "metadata": {},
   "source": [
    "#### CESM1-CAM5 (CESM1-LE)"
   ]
  },
  {
   "cell_type": "code",
   "execution_count": 23,
   "id": "ba612d81-f0a4-48eb-85ea-61c907a519bd",
   "metadata": {
    "tags": []
   },
   "outputs": [],
   "source": [
    "model_subdir = 'CESM1/'\n",
    "\n",
    "# Variable to select and operate over.\n",
    "_ds_var = cesm1_cmor_var_dict['tas']\n",
    "\n",
    "for _ds_filepath in cesm1_pic_path_dict['tas']:\n",
    "    # break\n",
    "    _regional_tseries_delayed = create_ipccregion_timeseries(_ds_filepath=_ds_filepath,\n",
    "                                                             _ds_var=_ds_var,\n",
    "                                                             regions=regionmask.defined_regions.ar6.all,\n",
    "                                                             cesm=True,\n",
    "                                                            )\n",
    "    _regional_tseries = _regional_tseries_delayed.compute()\n",
    "    break\n",
    "    \n",
    "    filename = _ds_filepath.split('/')[-1]\n",
    "    \n",
    "    _outfilepath = '%s/%s/%s' % (save_dir,model_subdir,filename)\n",
    "    \n",
    "    _regional_tseries.to_netcdf(path=_outfilepath)\n",
    "    \n",
    "    print(_outfilepath)"
   ]
  },
  {
   "cell_type": "code",
   "execution_count": 24,
   "id": "3ea04620-e57c-41e4-90f6-8fbeeaf5bff0",
   "metadata": {},
   "outputs": [],
   "source": [
    "cesm1_avgs = _regional_tseries.isel(time=slice(None,600)).mean(dim='time')"
   ]
  },
  {
   "cell_type": "markdown",
   "id": "7b393fce-dd75-4bf7-8cfb-d0a7b63fe6a4",
   "metadata": {},
   "source": [
    "#### MPI-GE"
   ]
  },
  {
   "cell_type": "markdown",
   "id": "5a78bb4f-8fa8-4014-a5c0-86e0adbd0d01",
   "metadata": {},
   "source": [
    "I need to pass the latitude and longitude in on my own, which is weird and annoying."
   ]
  },
  {
   "cell_type": "code",
   "execution_count": 32,
   "id": "47bcdc59-9fa3-45ac-81b1-6bc3c4e5dcd2",
   "metadata": {},
   "outputs": [
    {
     "name": "stdout",
     "output_type": "stream",
     "text": [
      "Using \"lat\" and \"lon\" supplied as input\n",
      "/glade/u/home/jonahshaw/w/trend_uncertainty/nathan/CMIP6_PIC//MPI-GE//tas_Amon_MPI-ESM_piControl_r001i1850p3_185001-189912.nc\n",
      "Using \"lat\" and \"lon\" supplied as input\n",
      "/glade/u/home/jonahshaw/w/trend_uncertainty/nathan/CMIP6_PIC//MPI-GE//tas_Amon_MPI-ESM_piControl_r001i1850p3_190001-199912.nc\n",
      "Using \"lat\" and \"lon\" supplied as input\n",
      "/glade/u/home/jonahshaw/w/trend_uncertainty/nathan/CMIP6_PIC//MPI-GE//tas_Amon_MPI-ESM_piControl_r001i1850p3_200001-209912.nc\n",
      "Using \"lat\" and \"lon\" supplied as input\n",
      "/glade/u/home/jonahshaw/w/trend_uncertainty/nathan/CMIP6_PIC//MPI-GE//tas_Amon_MPI-ESM_piControl_r001i1850p3_210001-219912.nc\n"
     ]
    },
    {
     "name": "stderr",
     "output_type": "stream",
     "text": [
      "/glade/work/jonahshaw/miniconda3/envs/cheydask/lib/python3.7/site-packages/xarray/coding/times.py:427: SerializationWarning: Unable to decode time axis into full numpy.datetime64 objects, continuing using cftime.datetime objects instead, reason: dates out of range\n",
      "  dtype = _decode_cf_datetime_dtype(data, units, calendar, self.use_cftime)\n",
      "/glade/work/jonahshaw/miniconda3/envs/cheydask/lib/python3.7/site-packages/xarray/coding/times.py:427: SerializationWarning: Unable to decode time axis into full numpy.datetime64 objects, continuing using cftime.datetime objects instead, reason: dates out of range\n",
      "  dtype = _decode_cf_datetime_dtype(data, units, calendar, self.use_cftime)\n",
      "/glade/work/jonahshaw/miniconda3/envs/cheydask/lib/python3.7/site-packages/numpy/core/_asarray.py:83: SerializationWarning: Unable to decode time axis into full numpy.datetime64 objects, continuing using cftime.datetime objects instead, reason: dates out of range\n",
      "  return array(a, dtype, copy=False, order=order)\n"
     ]
    },
    {
     "name": "stdout",
     "output_type": "stream",
     "text": [
      "Using \"lat\" and \"lon\" supplied as input\n",
      "/glade/u/home/jonahshaw/w/trend_uncertainty/nathan/CMIP6_PIC//MPI-GE//tas_Amon_MPI-ESM_piControl_r001i1850p3_220001-229912.nc\n"
     ]
    },
    {
     "name": "stderr",
     "output_type": "stream",
     "text": [
      "/glade/work/jonahshaw/miniconda3/envs/cheydask/lib/python3.7/site-packages/xarray/coding/times.py:427: SerializationWarning: Unable to decode time axis into full numpy.datetime64 objects, continuing using cftime.datetime objects instead, reason: dates out of range\n",
      "  dtype = _decode_cf_datetime_dtype(data, units, calendar, self.use_cftime)\n",
      "/glade/work/jonahshaw/miniconda3/envs/cheydask/lib/python3.7/site-packages/xarray/coding/times.py:427: SerializationWarning: Unable to decode time axis into full numpy.datetime64 objects, continuing using cftime.datetime objects instead, reason: dates out of range\n",
      "  dtype = _decode_cf_datetime_dtype(data, units, calendar, self.use_cftime)\n",
      "/glade/work/jonahshaw/miniconda3/envs/cheydask/lib/python3.7/site-packages/numpy/core/_asarray.py:83: SerializationWarning: Unable to decode time axis into full numpy.datetime64 objects, continuing using cftime.datetime objects instead, reason: dates out of range\n",
      "  return array(a, dtype, copy=False, order=order)\n"
     ]
    },
    {
     "name": "stdout",
     "output_type": "stream",
     "text": [
      "Using \"lat\" and \"lon\" supplied as input\n",
      "/glade/u/home/jonahshaw/w/trend_uncertainty/nathan/CMIP6_PIC//MPI-GE//tas_Amon_MPI-ESM_piControl_r001i1850p3_230001-239912.nc\n"
     ]
    },
    {
     "name": "stderr",
     "output_type": "stream",
     "text": [
      "/glade/work/jonahshaw/miniconda3/envs/cheydask/lib/python3.7/site-packages/xarray/coding/times.py:427: SerializationWarning: Unable to decode time axis into full numpy.datetime64 objects, continuing using cftime.datetime objects instead, reason: dates out of range\n",
      "  dtype = _decode_cf_datetime_dtype(data, units, calendar, self.use_cftime)\n",
      "/glade/work/jonahshaw/miniconda3/envs/cheydask/lib/python3.7/site-packages/xarray/coding/times.py:427: SerializationWarning: Unable to decode time axis into full numpy.datetime64 objects, continuing using cftime.datetime objects instead, reason: dates out of range\n",
      "  dtype = _decode_cf_datetime_dtype(data, units, calendar, self.use_cftime)\n",
      "/glade/work/jonahshaw/miniconda3/envs/cheydask/lib/python3.7/site-packages/numpy/core/_asarray.py:83: SerializationWarning: Unable to decode time axis into full numpy.datetime64 objects, continuing using cftime.datetime objects instead, reason: dates out of range\n",
      "  return array(a, dtype, copy=False, order=order)\n"
     ]
    },
    {
     "name": "stdout",
     "output_type": "stream",
     "text": [
      "Using \"lat\" and \"lon\" supplied as input\n",
      "/glade/u/home/jonahshaw/w/trend_uncertainty/nathan/CMIP6_PIC//MPI-GE//tas_Amon_MPI-ESM_piControl_r001i1850p3_240001-249912.nc\n"
     ]
    },
    {
     "name": "stderr",
     "output_type": "stream",
     "text": [
      "/glade/work/jonahshaw/miniconda3/envs/cheydask/lib/python3.7/site-packages/xarray/coding/times.py:427: SerializationWarning: Unable to decode time axis into full numpy.datetime64 objects, continuing using cftime.datetime objects instead, reason: dates out of range\n",
      "  dtype = _decode_cf_datetime_dtype(data, units, calendar, self.use_cftime)\n",
      "/glade/work/jonahshaw/miniconda3/envs/cheydask/lib/python3.7/site-packages/xarray/coding/times.py:427: SerializationWarning: Unable to decode time axis into full numpy.datetime64 objects, continuing using cftime.datetime objects instead, reason: dates out of range\n",
      "  dtype = _decode_cf_datetime_dtype(data, units, calendar, self.use_cftime)\n",
      "/glade/work/jonahshaw/miniconda3/envs/cheydask/lib/python3.7/site-packages/numpy/core/_asarray.py:83: SerializationWarning: Unable to decode time axis into full numpy.datetime64 objects, continuing using cftime.datetime objects instead, reason: dates out of range\n",
      "  return array(a, dtype, copy=False, order=order)\n"
     ]
    },
    {
     "name": "stdout",
     "output_type": "stream",
     "text": [
      "Using \"lat\" and \"lon\" supplied as input\n",
      "/glade/u/home/jonahshaw/w/trend_uncertainty/nathan/CMIP6_PIC//MPI-GE//tas_Amon_MPI-ESM_piControl_r001i1850p3_250001-259912.nc\n"
     ]
    },
    {
     "name": "stderr",
     "output_type": "stream",
     "text": [
      "/glade/work/jonahshaw/miniconda3/envs/cheydask/lib/python3.7/site-packages/xarray/coding/times.py:427: SerializationWarning: Unable to decode time axis into full numpy.datetime64 objects, continuing using cftime.datetime objects instead, reason: dates out of range\n",
      "  dtype = _decode_cf_datetime_dtype(data, units, calendar, self.use_cftime)\n",
      "/glade/work/jonahshaw/miniconda3/envs/cheydask/lib/python3.7/site-packages/xarray/coding/times.py:427: SerializationWarning: Unable to decode time axis into full numpy.datetime64 objects, continuing using cftime.datetime objects instead, reason: dates out of range\n",
      "  dtype = _decode_cf_datetime_dtype(data, units, calendar, self.use_cftime)\n",
      "/glade/work/jonahshaw/miniconda3/envs/cheydask/lib/python3.7/site-packages/numpy/core/_asarray.py:83: SerializationWarning: Unable to decode time axis into full numpy.datetime64 objects, continuing using cftime.datetime objects instead, reason: dates out of range\n",
      "  return array(a, dtype, copy=False, order=order)\n"
     ]
    },
    {
     "name": "stdout",
     "output_type": "stream",
     "text": [
      "Using \"lat\" and \"lon\" supplied as input\n",
      "/glade/u/home/jonahshaw/w/trend_uncertainty/nathan/CMIP6_PIC//MPI-GE//tas_Amon_MPI-ESM_piControl_r001i1850p3_260001-269912.nc\n"
     ]
    },
    {
     "name": "stderr",
     "output_type": "stream",
     "text": [
      "/glade/work/jonahshaw/miniconda3/envs/cheydask/lib/python3.7/site-packages/xarray/coding/times.py:427: SerializationWarning: Unable to decode time axis into full numpy.datetime64 objects, continuing using cftime.datetime objects instead, reason: dates out of range\n",
      "  dtype = _decode_cf_datetime_dtype(data, units, calendar, self.use_cftime)\n",
      "/glade/work/jonahshaw/miniconda3/envs/cheydask/lib/python3.7/site-packages/xarray/coding/times.py:427: SerializationWarning: Unable to decode time axis into full numpy.datetime64 objects, continuing using cftime.datetime objects instead, reason: dates out of range\n",
      "  dtype = _decode_cf_datetime_dtype(data, units, calendar, self.use_cftime)\n",
      "/glade/work/jonahshaw/miniconda3/envs/cheydask/lib/python3.7/site-packages/numpy/core/_asarray.py:83: SerializationWarning: Unable to decode time axis into full numpy.datetime64 objects, continuing using cftime.datetime objects instead, reason: dates out of range\n",
      "  return array(a, dtype, copy=False, order=order)\n"
     ]
    },
    {
     "name": "stdout",
     "output_type": "stream",
     "text": [
      "Using \"lat\" and \"lon\" supplied as input\n",
      "/glade/u/home/jonahshaw/w/trend_uncertainty/nathan/CMIP6_PIC//MPI-GE//tas_Amon_MPI-ESM_piControl_r001i1850p3_270001-279912.nc\n"
     ]
    },
    {
     "name": "stderr",
     "output_type": "stream",
     "text": [
      "/glade/work/jonahshaw/miniconda3/envs/cheydask/lib/python3.7/site-packages/xarray/coding/times.py:427: SerializationWarning: Unable to decode time axis into full numpy.datetime64 objects, continuing using cftime.datetime objects instead, reason: dates out of range\n",
      "  dtype = _decode_cf_datetime_dtype(data, units, calendar, self.use_cftime)\n",
      "/glade/work/jonahshaw/miniconda3/envs/cheydask/lib/python3.7/site-packages/xarray/coding/times.py:427: SerializationWarning: Unable to decode time axis into full numpy.datetime64 objects, continuing using cftime.datetime objects instead, reason: dates out of range\n",
      "  dtype = _decode_cf_datetime_dtype(data, units, calendar, self.use_cftime)\n",
      "/glade/work/jonahshaw/miniconda3/envs/cheydask/lib/python3.7/site-packages/numpy/core/_asarray.py:83: SerializationWarning: Unable to decode time axis into full numpy.datetime64 objects, continuing using cftime.datetime objects instead, reason: dates out of range\n",
      "  return array(a, dtype, copy=False, order=order)\n"
     ]
    },
    {
     "name": "stdout",
     "output_type": "stream",
     "text": [
      "Using \"lat\" and \"lon\" supplied as input\n",
      "/glade/u/home/jonahshaw/w/trend_uncertainty/nathan/CMIP6_PIC//MPI-GE//tas_Amon_MPI-ESM_piControl_r001i1850p3_280001-289912.nc\n"
     ]
    },
    {
     "name": "stderr",
     "output_type": "stream",
     "text": [
      "/glade/work/jonahshaw/miniconda3/envs/cheydask/lib/python3.7/site-packages/xarray/coding/times.py:427: SerializationWarning: Unable to decode time axis into full numpy.datetime64 objects, continuing using cftime.datetime objects instead, reason: dates out of range\n",
      "  dtype = _decode_cf_datetime_dtype(data, units, calendar, self.use_cftime)\n",
      "/glade/work/jonahshaw/miniconda3/envs/cheydask/lib/python3.7/site-packages/xarray/coding/times.py:427: SerializationWarning: Unable to decode time axis into full numpy.datetime64 objects, continuing using cftime.datetime objects instead, reason: dates out of range\n",
      "  dtype = _decode_cf_datetime_dtype(data, units, calendar, self.use_cftime)\n",
      "/glade/work/jonahshaw/miniconda3/envs/cheydask/lib/python3.7/site-packages/numpy/core/_asarray.py:83: SerializationWarning: Unable to decode time axis into full numpy.datetime64 objects, continuing using cftime.datetime objects instead, reason: dates out of range\n",
      "  return array(a, dtype, copy=False, order=order)\n"
     ]
    },
    {
     "name": "stdout",
     "output_type": "stream",
     "text": [
      "Using \"lat\" and \"lon\" supplied as input\n",
      "/glade/u/home/jonahshaw/w/trend_uncertainty/nathan/CMIP6_PIC//MPI-GE//tas_Amon_MPI-ESM_piControl_r001i1850p3_290001-299912.nc\n"
     ]
    },
    {
     "name": "stderr",
     "output_type": "stream",
     "text": [
      "/glade/work/jonahshaw/miniconda3/envs/cheydask/lib/python3.7/site-packages/xarray/coding/times.py:427: SerializationWarning: Unable to decode time axis into full numpy.datetime64 objects, continuing using cftime.datetime objects instead, reason: dates out of range\n",
      "  dtype = _decode_cf_datetime_dtype(data, units, calendar, self.use_cftime)\n",
      "/glade/work/jonahshaw/miniconda3/envs/cheydask/lib/python3.7/site-packages/xarray/coding/times.py:427: SerializationWarning: Unable to decode time axis into full numpy.datetime64 objects, continuing using cftime.datetime objects instead, reason: dates out of range\n",
      "  dtype = _decode_cf_datetime_dtype(data, units, calendar, self.use_cftime)\n",
      "/glade/work/jonahshaw/miniconda3/envs/cheydask/lib/python3.7/site-packages/numpy/core/_asarray.py:83: SerializationWarning: Unable to decode time axis into full numpy.datetime64 objects, continuing using cftime.datetime objects instead, reason: dates out of range\n",
      "  return array(a, dtype, copy=False, order=order)\n"
     ]
    },
    {
     "name": "stdout",
     "output_type": "stream",
     "text": [
      "Using \"lat\" and \"lon\" supplied as input\n",
      "/glade/u/home/jonahshaw/w/trend_uncertainty/nathan/CMIP6_PIC//MPI-GE//tas_Amon_MPI-ESM_piControl_r001i1850p3_300001-309912.nc\n"
     ]
    },
    {
     "name": "stderr",
     "output_type": "stream",
     "text": [
      "/glade/work/jonahshaw/miniconda3/envs/cheydask/lib/python3.7/site-packages/xarray/coding/times.py:427: SerializationWarning: Unable to decode time axis into full numpy.datetime64 objects, continuing using cftime.datetime objects instead, reason: dates out of range\n",
      "  dtype = _decode_cf_datetime_dtype(data, units, calendar, self.use_cftime)\n",
      "/glade/work/jonahshaw/miniconda3/envs/cheydask/lib/python3.7/site-packages/xarray/coding/times.py:427: SerializationWarning: Unable to decode time axis into full numpy.datetime64 objects, continuing using cftime.datetime objects instead, reason: dates out of range\n",
      "  dtype = _decode_cf_datetime_dtype(data, units, calendar, self.use_cftime)\n",
      "/glade/work/jonahshaw/miniconda3/envs/cheydask/lib/python3.7/site-packages/numpy/core/_asarray.py:83: SerializationWarning: Unable to decode time axis into full numpy.datetime64 objects, continuing using cftime.datetime objects instead, reason: dates out of range\n",
      "  return array(a, dtype, copy=False, order=order)\n"
     ]
    },
    {
     "name": "stdout",
     "output_type": "stream",
     "text": [
      "Using \"lat\" and \"lon\" supplied as input\n",
      "/glade/u/home/jonahshaw/w/trend_uncertainty/nathan/CMIP6_PIC//MPI-GE//tas_Amon_MPI-ESM_piControl_r001i1850p3_310001-319912.nc\n"
     ]
    },
    {
     "name": "stderr",
     "output_type": "stream",
     "text": [
      "/glade/work/jonahshaw/miniconda3/envs/cheydask/lib/python3.7/site-packages/xarray/coding/times.py:427: SerializationWarning: Unable to decode time axis into full numpy.datetime64 objects, continuing using cftime.datetime objects instead, reason: dates out of range\n",
      "  dtype = _decode_cf_datetime_dtype(data, units, calendar, self.use_cftime)\n",
      "/glade/work/jonahshaw/miniconda3/envs/cheydask/lib/python3.7/site-packages/xarray/coding/times.py:427: SerializationWarning: Unable to decode time axis into full numpy.datetime64 objects, continuing using cftime.datetime objects instead, reason: dates out of range\n",
      "  dtype = _decode_cf_datetime_dtype(data, units, calendar, self.use_cftime)\n",
      "/glade/work/jonahshaw/miniconda3/envs/cheydask/lib/python3.7/site-packages/numpy/core/_asarray.py:83: SerializationWarning: Unable to decode time axis into full numpy.datetime64 objects, continuing using cftime.datetime objects instead, reason: dates out of range\n",
      "  return array(a, dtype, copy=False, order=order)\n"
     ]
    },
    {
     "name": "stdout",
     "output_type": "stream",
     "text": [
      "Using \"lat\" and \"lon\" supplied as input\n",
      "/glade/u/home/jonahshaw/w/trend_uncertainty/nathan/CMIP6_PIC//MPI-GE//tas_Amon_MPI-ESM_piControl_r001i1850p3_320001-329912.nc\n"
     ]
    },
    {
     "name": "stderr",
     "output_type": "stream",
     "text": [
      "/glade/work/jonahshaw/miniconda3/envs/cheydask/lib/python3.7/site-packages/xarray/coding/times.py:427: SerializationWarning: Unable to decode time axis into full numpy.datetime64 objects, continuing using cftime.datetime objects instead, reason: dates out of range\n",
      "  dtype = _decode_cf_datetime_dtype(data, units, calendar, self.use_cftime)\n",
      "/glade/work/jonahshaw/miniconda3/envs/cheydask/lib/python3.7/site-packages/xarray/coding/times.py:427: SerializationWarning: Unable to decode time axis into full numpy.datetime64 objects, continuing using cftime.datetime objects instead, reason: dates out of range\n",
      "  dtype = _decode_cf_datetime_dtype(data, units, calendar, self.use_cftime)\n",
      "/glade/work/jonahshaw/miniconda3/envs/cheydask/lib/python3.7/site-packages/numpy/core/_asarray.py:83: SerializationWarning: Unable to decode time axis into full numpy.datetime64 objects, continuing using cftime.datetime objects instead, reason: dates out of range\n",
      "  return array(a, dtype, copy=False, order=order)\n"
     ]
    },
    {
     "name": "stdout",
     "output_type": "stream",
     "text": [
      "Using \"lat\" and \"lon\" supplied as input\n",
      "/glade/u/home/jonahshaw/w/trend_uncertainty/nathan/CMIP6_PIC//MPI-GE//tas_Amon_MPI-ESM_piControl_r001i1850p3_330001-339912.nc\n"
     ]
    },
    {
     "name": "stderr",
     "output_type": "stream",
     "text": [
      "/glade/work/jonahshaw/miniconda3/envs/cheydask/lib/python3.7/site-packages/xarray/coding/times.py:427: SerializationWarning: Unable to decode time axis into full numpy.datetime64 objects, continuing using cftime.datetime objects instead, reason: dates out of range\n",
      "  dtype = _decode_cf_datetime_dtype(data, units, calendar, self.use_cftime)\n",
      "/glade/work/jonahshaw/miniconda3/envs/cheydask/lib/python3.7/site-packages/xarray/coding/times.py:427: SerializationWarning: Unable to decode time axis into full numpy.datetime64 objects, continuing using cftime.datetime objects instead, reason: dates out of range\n",
      "  dtype = _decode_cf_datetime_dtype(data, units, calendar, self.use_cftime)\n",
      "/glade/work/jonahshaw/miniconda3/envs/cheydask/lib/python3.7/site-packages/numpy/core/_asarray.py:83: SerializationWarning: Unable to decode time axis into full numpy.datetime64 objects, continuing using cftime.datetime objects instead, reason: dates out of range\n",
      "  return array(a, dtype, copy=False, order=order)\n"
     ]
    },
    {
     "name": "stdout",
     "output_type": "stream",
     "text": [
      "Using \"lat\" and \"lon\" supplied as input\n",
      "/glade/u/home/jonahshaw/w/trend_uncertainty/nathan/CMIP6_PIC//MPI-GE//tas_Amon_MPI-ESM_piControl_r001i1850p3_340001-349912.nc\n"
     ]
    },
    {
     "name": "stderr",
     "output_type": "stream",
     "text": [
      "/glade/work/jonahshaw/miniconda3/envs/cheydask/lib/python3.7/site-packages/xarray/coding/times.py:427: SerializationWarning: Unable to decode time axis into full numpy.datetime64 objects, continuing using cftime.datetime objects instead, reason: dates out of range\n",
      "  dtype = _decode_cf_datetime_dtype(data, units, calendar, self.use_cftime)\n",
      "/glade/work/jonahshaw/miniconda3/envs/cheydask/lib/python3.7/site-packages/xarray/coding/times.py:427: SerializationWarning: Unable to decode time axis into full numpy.datetime64 objects, continuing using cftime.datetime objects instead, reason: dates out of range\n",
      "  dtype = _decode_cf_datetime_dtype(data, units, calendar, self.use_cftime)\n",
      "/glade/work/jonahshaw/miniconda3/envs/cheydask/lib/python3.7/site-packages/numpy/core/_asarray.py:83: SerializationWarning: Unable to decode time axis into full numpy.datetime64 objects, continuing using cftime.datetime objects instead, reason: dates out of range\n",
      "  return array(a, dtype, copy=False, order=order)\n"
     ]
    },
    {
     "name": "stdout",
     "output_type": "stream",
     "text": [
      "Using \"lat\" and \"lon\" supplied as input\n",
      "/glade/u/home/jonahshaw/w/trend_uncertainty/nathan/CMIP6_PIC//MPI-GE//tas_Amon_MPI-ESM_piControl_r001i1850p3_350001-359912.nc\n"
     ]
    },
    {
     "name": "stderr",
     "output_type": "stream",
     "text": [
      "/glade/work/jonahshaw/miniconda3/envs/cheydask/lib/python3.7/site-packages/xarray/coding/times.py:427: SerializationWarning: Unable to decode time axis into full numpy.datetime64 objects, continuing using cftime.datetime objects instead, reason: dates out of range\n",
      "  dtype = _decode_cf_datetime_dtype(data, units, calendar, self.use_cftime)\n",
      "/glade/work/jonahshaw/miniconda3/envs/cheydask/lib/python3.7/site-packages/xarray/coding/times.py:427: SerializationWarning: Unable to decode time axis into full numpy.datetime64 objects, continuing using cftime.datetime objects instead, reason: dates out of range\n",
      "  dtype = _decode_cf_datetime_dtype(data, units, calendar, self.use_cftime)\n",
      "/glade/work/jonahshaw/miniconda3/envs/cheydask/lib/python3.7/site-packages/numpy/core/_asarray.py:83: SerializationWarning: Unable to decode time axis into full numpy.datetime64 objects, continuing using cftime.datetime objects instead, reason: dates out of range\n",
      "  return array(a, dtype, copy=False, order=order)\n"
     ]
    },
    {
     "name": "stdout",
     "output_type": "stream",
     "text": [
      "Using \"lat\" and \"lon\" supplied as input\n",
      "/glade/u/home/jonahshaw/w/trend_uncertainty/nathan/CMIP6_PIC//MPI-GE//tas_Amon_MPI-ESM_piControl_r001i1850p3_360001-369912.nc\n"
     ]
    },
    {
     "name": "stderr",
     "output_type": "stream",
     "text": [
      "/glade/work/jonahshaw/miniconda3/envs/cheydask/lib/python3.7/site-packages/xarray/coding/times.py:427: SerializationWarning: Unable to decode time axis into full numpy.datetime64 objects, continuing using cftime.datetime objects instead, reason: dates out of range\n",
      "  dtype = _decode_cf_datetime_dtype(data, units, calendar, self.use_cftime)\n",
      "/glade/work/jonahshaw/miniconda3/envs/cheydask/lib/python3.7/site-packages/xarray/coding/times.py:427: SerializationWarning: Unable to decode time axis into full numpy.datetime64 objects, continuing using cftime.datetime objects instead, reason: dates out of range\n",
      "  dtype = _decode_cf_datetime_dtype(data, units, calendar, self.use_cftime)\n",
      "/glade/work/jonahshaw/miniconda3/envs/cheydask/lib/python3.7/site-packages/numpy/core/_asarray.py:83: SerializationWarning: Unable to decode time axis into full numpy.datetime64 objects, continuing using cftime.datetime objects instead, reason: dates out of range\n",
      "  return array(a, dtype, copy=False, order=order)\n"
     ]
    },
    {
     "name": "stdout",
     "output_type": "stream",
     "text": [
      "Using \"lat\" and \"lon\" supplied as input\n",
      "/glade/u/home/jonahshaw/w/trend_uncertainty/nathan/CMIP6_PIC//MPI-GE//tas_Amon_MPI-ESM_piControl_r001i1850p3_370001-379912.nc\n"
     ]
    },
    {
     "name": "stderr",
     "output_type": "stream",
     "text": [
      "/glade/work/jonahshaw/miniconda3/envs/cheydask/lib/python3.7/site-packages/xarray/coding/times.py:427: SerializationWarning: Unable to decode time axis into full numpy.datetime64 objects, continuing using cftime.datetime objects instead, reason: dates out of range\n",
      "  dtype = _decode_cf_datetime_dtype(data, units, calendar, self.use_cftime)\n",
      "/glade/work/jonahshaw/miniconda3/envs/cheydask/lib/python3.7/site-packages/xarray/coding/times.py:427: SerializationWarning: Unable to decode time axis into full numpy.datetime64 objects, continuing using cftime.datetime objects instead, reason: dates out of range\n",
      "  dtype = _decode_cf_datetime_dtype(data, units, calendar, self.use_cftime)\n",
      "/glade/work/jonahshaw/miniconda3/envs/cheydask/lib/python3.7/site-packages/numpy/core/_asarray.py:83: SerializationWarning: Unable to decode time axis into full numpy.datetime64 objects, continuing using cftime.datetime objects instead, reason: dates out of range\n",
      "  return array(a, dtype, copy=False, order=order)\n"
     ]
    },
    {
     "name": "stdout",
     "output_type": "stream",
     "text": [
      "Using \"lat\" and \"lon\" supplied as input\n",
      "/glade/u/home/jonahshaw/w/trend_uncertainty/nathan/CMIP6_PIC//MPI-GE//tas_Amon_MPI-ESM_piControl_r001i1850p3_380001-385012.nc\n"
     ]
    }
   ],
   "source": [
    "model_subdir = 'MPI-GE/'\n",
    "\n",
    "# Variable to select and operate over.\n",
    "_ds_var = 'tas'\n",
    "\n",
    "mpi_lats = np.linspace(-88.57,88.57,96)\n",
    "mpi_lons = np.linspace(0,358.125,192)\n",
    "\n",
    "for _ds_filepath in mpi_pic_path_dict['tas']:\n",
    "    \n",
    "    _regional_tseries_delayed = create_ipccregion_timeseries(_ds_filepath=_ds_filepath,\n",
    "                                                             _ds_var=_ds_var,\n",
    "                                                             regions=regionmask.defined_regions.ar6.all,\n",
    "                                                             lon=mpi_lons,\n",
    "                                                             lat=mpi_lats,\n",
    "                                                            )\n",
    "    _regional_tseries = _regional_tseries_delayed.compute()\n",
    "    _regional_tseries = _regional_tseries.drop('height')\n",
    "        \n",
    "    filename = _ds_filepath.split('/')[-1]\n",
    "    \n",
    "    _outfilepath = '%s/%s/%s' % (save_dir,model_subdir,filename)\n",
    "    \n",
    "    _regional_tseries.to_netcdf(path=_outfilepath)\n",
    "    \n",
    "    print(_outfilepath)\n",
    "    \n",
    "del _regional_tseries,_regional_tseries_delayed"
   ]
  },
  {
   "cell_type": "code",
   "execution_count": 26,
   "id": "f8b2d18e-a426-4efe-9142-4a975d6c3b55",
   "metadata": {},
   "outputs": [],
   "source": [
    "mpi_avgs = _regional_tseries.isel(time=slice(None,600)).mean(dim='time')"
   ]
  },
  {
   "cell_type": "markdown",
   "id": "c1c0adf7-bfc2-475e-88ed-26e8fb3e1af5",
   "metadata": {},
   "source": [
    "#### CanESM2"
   ]
  },
  {
   "cell_type": "markdown",
   "id": "87a73ea3-456f-41a4-9d2f-012fe215f5b2",
   "metadata": {},
   "source": [
    "The lat and lon values here also kill the kernel, wut is this??"
   ]
  },
  {
   "cell_type": "code",
   "execution_count": 34,
   "id": "96dd0099-81b3-4977-8e92-ff4fda2be80b",
   "metadata": {},
   "outputs": [
    {
     "name": "stdout",
     "output_type": "stream",
     "text": [
      "Using \"lat\" and \"lon\" supplied as input\n",
      "/glade/u/home/jonahshaw/w/trend_uncertainty/nathan/CMIP6_PIC//CanESM2//tas_Amon_CanESM2_piControl_r1i1p1_201501-231012.nc\n",
      "Using \"lat\" and \"lon\" supplied as input\n",
      "/glade/u/home/jonahshaw/w/trend_uncertainty/nathan/CMIP6_PIC//CanESM2//tas_Amon_CanESM2_piControl_r1i1p1_231101-241012.nc\n",
      "Using \"lat\" and \"lon\" supplied as input\n",
      "/glade/u/home/jonahshaw/w/trend_uncertainty/nathan/CMIP6_PIC//CanESM2//tas_Amon_CanESM2_piControl_r1i1p1_241101-251012.nc\n",
      "Using \"lat\" and \"lon\" supplied as input\n",
      "/glade/u/home/jonahshaw/w/trend_uncertainty/nathan/CMIP6_PIC//CanESM2//tas_Amon_CanESM2_piControl_r1i1p1_251101-261012.nc\n",
      "Using \"lat\" and \"lon\" supplied as input\n",
      "/glade/u/home/jonahshaw/w/trend_uncertainty/nathan/CMIP6_PIC//CanESM2//tas_Amon_CanESM2_piControl_r1i1p1_261101-271012.nc\n",
      "Using \"lat\" and \"lon\" supplied as input\n",
      "/glade/u/home/jonahshaw/w/trend_uncertainty/nathan/CMIP6_PIC//CanESM2//tas_Amon_CanESM2_piControl_r1i1p1_271101-281012.nc\n",
      "Using \"lat\" and \"lon\" supplied as input\n",
      "/glade/u/home/jonahshaw/w/trend_uncertainty/nathan/CMIP6_PIC//CanESM2//tas_Amon_CanESM2_piControl_r1i1p1_281101-291012.nc\n",
      "Using \"lat\" and \"lon\" supplied as input\n",
      "/glade/u/home/jonahshaw/w/trend_uncertainty/nathan/CMIP6_PIC//CanESM2//tas_Amon_CanESM2_piControl_r1i1p1_291101-301012.nc\n"
     ]
    }
   ],
   "source": [
    "model_subdir = 'CanESM2/'\n",
    "\n",
    "# Variable to select and operate over.\n",
    "_ds_var = 'tas'\n",
    "\n",
    "canesm2_lons = np.linspace(0,357.1875,128)\n",
    "canesm2_lats = np.linspace(-87.864,87.864,64)\n",
    "\n",
    "for _ds_filepath in canesm2_pic_path_dict['tas']:\n",
    "    \n",
    "    _regional_tseries_delayed = create_ipccregion_timeseries(_ds_filepath=_ds_filepath,\n",
    "                                                             _ds_var=_ds_var,\n",
    "                                                             regions=regionmask.defined_regions.ar6.all,\n",
    "                                                             lon=canesm2_lons,\n",
    "                                                             lat=canesm2_lats,\n",
    "                                                            )\n",
    "    _regional_tseries = _regional_tseries_delayed.compute()    \n",
    "    _regional_tseries = _regional_tseries.drop('height')\n",
    "        \n",
    "    filename = _ds_filepath.split('/')[-1]\n",
    "    \n",
    "    _outfilepath = '%s/%s/%s' % (save_dir,model_subdir,filename)\n",
    "    \n",
    "    _regional_tseries.to_netcdf(path=_outfilepath)\n",
    "    \n",
    "    print(_outfilepath)\n",
    "    \n",
    "    del _regional_tseries_delayed,_regional_tseries"
   ]
  },
  {
   "cell_type": "code",
   "execution_count": 28,
   "id": "430c8998-957d-49ea-91ce-6dca0a9ba184",
   "metadata": {},
   "outputs": [],
   "source": [
    "canesm2_avgs = _regional_tseries.isel(time=slice(None,600)).mean(dim='time')"
   ]
  },
  {
   "cell_type": "markdown",
   "id": "e9425083-b335-40c4-b41d-4e879a551bda",
   "metadata": {},
   "source": [
    "#### GFDL-ESM2M"
   ]
  },
  {
   "cell_type": "markdown",
   "id": "bb10c9e7-17cd-47f7-91bd-858a31a3aeea",
   "metadata": {},
   "source": [
    "The lat and lon values here also kill the kernel, wut is this??"
   ]
  },
  {
   "cell_type": "code",
   "execution_count": 36,
   "id": "69a9ad55-a40f-4f26-a1d8-82c129ba6e40",
   "metadata": {},
   "outputs": [
    {
     "name": "stderr",
     "output_type": "stream",
     "text": [
      "/glade/work/jonahshaw/miniconda3/envs/cheydask/lib/python3.7/site-packages/xarray/coding/times.py:427: SerializationWarning: Unable to decode time axis into full numpy.datetime64 objects, continuing using cftime.datetime objects instead, reason: dates out of range\n",
      "  dtype = _decode_cf_datetime_dtype(data, units, calendar, self.use_cftime)\n"
     ]
    },
    {
     "name": "stdout",
     "output_type": "stream",
     "text": [
      "Using \"lat\" and \"lon\" supplied as input\n",
      "/glade/u/home/jonahshaw/w/trend_uncertainty/nathan/CMIP6_PIC//ESM2M//tas_Amon_GFDL-ESM2M_piControl_r1i1p1_000101-000512.nc\n",
      "Using \"lat\" and \"lon\" supplied as input\n"
     ]
    },
    {
     "name": "stderr",
     "output_type": "stream",
     "text": [
      "/glade/work/jonahshaw/miniconda3/envs/cheydask/lib/python3.7/site-packages/xarray/coding/times.py:427: SerializationWarning: Unable to decode time axis into full numpy.datetime64 objects, continuing using cftime.datetime objects instead, reason: dates out of range\n",
      "  dtype = _decode_cf_datetime_dtype(data, units, calendar, self.use_cftime)\n"
     ]
    },
    {
     "name": "stdout",
     "output_type": "stream",
     "text": [
      "/glade/u/home/jonahshaw/w/trend_uncertainty/nathan/CMIP6_PIC//ESM2M//tas_Amon_GFDL-ESM2M_piControl_r1i1p1_000601-001012.nc\n",
      "Using \"lat\" and \"lon\" supplied as input\n"
     ]
    },
    {
     "name": "stderr",
     "output_type": "stream",
     "text": [
      "/glade/work/jonahshaw/miniconda3/envs/cheydask/lib/python3.7/site-packages/xarray/coding/times.py:427: SerializationWarning: Unable to decode time axis into full numpy.datetime64 objects, continuing using cftime.datetime objects instead, reason: dates out of range\n",
      "  dtype = _decode_cf_datetime_dtype(data, units, calendar, self.use_cftime)\n"
     ]
    },
    {
     "name": "stdout",
     "output_type": "stream",
     "text": [
      "/glade/u/home/jonahshaw/w/trend_uncertainty/nathan/CMIP6_PIC//ESM2M//tas_Amon_GFDL-ESM2M_piControl_r1i1p1_001101-001512.nc\n",
      "Using \"lat\" and \"lon\" supplied as input\n"
     ]
    },
    {
     "name": "stderr",
     "output_type": "stream",
     "text": [
      "/glade/work/jonahshaw/miniconda3/envs/cheydask/lib/python3.7/site-packages/xarray/coding/times.py:427: SerializationWarning: Unable to decode time axis into full numpy.datetime64 objects, continuing using cftime.datetime objects instead, reason: dates out of range\n",
      "  dtype = _decode_cf_datetime_dtype(data, units, calendar, self.use_cftime)\n"
     ]
    },
    {
     "name": "stdout",
     "output_type": "stream",
     "text": [
      "/glade/u/home/jonahshaw/w/trend_uncertainty/nathan/CMIP6_PIC//ESM2M//tas_Amon_GFDL-ESM2M_piControl_r1i1p1_001601-002012.nc\n",
      "Using \"lat\" and \"lon\" supplied as input\n"
     ]
    },
    {
     "name": "stderr",
     "output_type": "stream",
     "text": [
      "/glade/work/jonahshaw/miniconda3/envs/cheydask/lib/python3.7/site-packages/xarray/coding/times.py:427: SerializationWarning: Unable to decode time axis into full numpy.datetime64 objects, continuing using cftime.datetime objects instead, reason: dates out of range\n",
      "  dtype = _decode_cf_datetime_dtype(data, units, calendar, self.use_cftime)\n"
     ]
    },
    {
     "name": "stdout",
     "output_type": "stream",
     "text": [
      "/glade/u/home/jonahshaw/w/trend_uncertainty/nathan/CMIP6_PIC//ESM2M//tas_Amon_GFDL-ESM2M_piControl_r1i1p1_002101-002512.nc\n",
      "Using \"lat\" and \"lon\" supplied as input\n"
     ]
    },
    {
     "name": "stderr",
     "output_type": "stream",
     "text": [
      "/glade/work/jonahshaw/miniconda3/envs/cheydask/lib/python3.7/site-packages/xarray/coding/times.py:427: SerializationWarning: Unable to decode time axis into full numpy.datetime64 objects, continuing using cftime.datetime objects instead, reason: dates out of range\n",
      "  dtype = _decode_cf_datetime_dtype(data, units, calendar, self.use_cftime)\n"
     ]
    },
    {
     "name": "stdout",
     "output_type": "stream",
     "text": [
      "/glade/u/home/jonahshaw/w/trend_uncertainty/nathan/CMIP6_PIC//ESM2M//tas_Amon_GFDL-ESM2M_piControl_r1i1p1_002601-003012.nc\n",
      "Using \"lat\" and \"lon\" supplied as input\n"
     ]
    },
    {
     "name": "stderr",
     "output_type": "stream",
     "text": [
      "/glade/work/jonahshaw/miniconda3/envs/cheydask/lib/python3.7/site-packages/xarray/coding/times.py:427: SerializationWarning: Unable to decode time axis into full numpy.datetime64 objects, continuing using cftime.datetime objects instead, reason: dates out of range\n",
      "  dtype = _decode_cf_datetime_dtype(data, units, calendar, self.use_cftime)\n"
     ]
    },
    {
     "name": "stdout",
     "output_type": "stream",
     "text": [
      "/glade/u/home/jonahshaw/w/trend_uncertainty/nathan/CMIP6_PIC//ESM2M//tas_Amon_GFDL-ESM2M_piControl_r1i1p1_003101-003512.nc\n",
      "Using \"lat\" and \"lon\" supplied as input\n"
     ]
    },
    {
     "name": "stderr",
     "output_type": "stream",
     "text": [
      "/glade/work/jonahshaw/miniconda3/envs/cheydask/lib/python3.7/site-packages/xarray/coding/times.py:427: SerializationWarning: Unable to decode time axis into full numpy.datetime64 objects, continuing using cftime.datetime objects instead, reason: dates out of range\n",
      "  dtype = _decode_cf_datetime_dtype(data, units, calendar, self.use_cftime)\n"
     ]
    },
    {
     "name": "stdout",
     "output_type": "stream",
     "text": [
      "/glade/u/home/jonahshaw/w/trend_uncertainty/nathan/CMIP6_PIC//ESM2M//tas_Amon_GFDL-ESM2M_piControl_r1i1p1_003601-004012.nc\n",
      "Using \"lat\" and \"lon\" supplied as input\n"
     ]
    },
    {
     "name": "stderr",
     "output_type": "stream",
     "text": [
      "/glade/work/jonahshaw/miniconda3/envs/cheydask/lib/python3.7/site-packages/xarray/coding/times.py:427: SerializationWarning: Unable to decode time axis into full numpy.datetime64 objects, continuing using cftime.datetime objects instead, reason: dates out of range\n",
      "  dtype = _decode_cf_datetime_dtype(data, units, calendar, self.use_cftime)\n"
     ]
    },
    {
     "name": "stdout",
     "output_type": "stream",
     "text": [
      "/glade/u/home/jonahshaw/w/trend_uncertainty/nathan/CMIP6_PIC//ESM2M//tas_Amon_GFDL-ESM2M_piControl_r1i1p1_004101-004512.nc\n",
      "Using \"lat\" and \"lon\" supplied as input\n"
     ]
    },
    {
     "name": "stderr",
     "output_type": "stream",
     "text": [
      "/glade/work/jonahshaw/miniconda3/envs/cheydask/lib/python3.7/site-packages/xarray/coding/times.py:427: SerializationWarning: Unable to decode time axis into full numpy.datetime64 objects, continuing using cftime.datetime objects instead, reason: dates out of range\n",
      "  dtype = _decode_cf_datetime_dtype(data, units, calendar, self.use_cftime)\n"
     ]
    },
    {
     "name": "stdout",
     "output_type": "stream",
     "text": [
      "/glade/u/home/jonahshaw/w/trend_uncertainty/nathan/CMIP6_PIC//ESM2M//tas_Amon_GFDL-ESM2M_piControl_r1i1p1_004601-005012.nc\n",
      "Using \"lat\" and \"lon\" supplied as input\n"
     ]
    },
    {
     "name": "stderr",
     "output_type": "stream",
     "text": [
      "/glade/work/jonahshaw/miniconda3/envs/cheydask/lib/python3.7/site-packages/xarray/coding/times.py:427: SerializationWarning: Unable to decode time axis into full numpy.datetime64 objects, continuing using cftime.datetime objects instead, reason: dates out of range\n",
      "  dtype = _decode_cf_datetime_dtype(data, units, calendar, self.use_cftime)\n"
     ]
    },
    {
     "name": "stdout",
     "output_type": "stream",
     "text": [
      "/glade/u/home/jonahshaw/w/trend_uncertainty/nathan/CMIP6_PIC//ESM2M//tas_Amon_GFDL-ESM2M_piControl_r1i1p1_005101-005512.nc\n",
      "Using \"lat\" and \"lon\" supplied as input\n"
     ]
    },
    {
     "name": "stderr",
     "output_type": "stream",
     "text": [
      "/glade/work/jonahshaw/miniconda3/envs/cheydask/lib/python3.7/site-packages/xarray/coding/times.py:427: SerializationWarning: Unable to decode time axis into full numpy.datetime64 objects, continuing using cftime.datetime objects instead, reason: dates out of range\n",
      "  dtype = _decode_cf_datetime_dtype(data, units, calendar, self.use_cftime)\n"
     ]
    },
    {
     "name": "stdout",
     "output_type": "stream",
     "text": [
      "/glade/u/home/jonahshaw/w/trend_uncertainty/nathan/CMIP6_PIC//ESM2M//tas_Amon_GFDL-ESM2M_piControl_r1i1p1_005601-006012.nc\n",
      "Using \"lat\" and \"lon\" supplied as input\n"
     ]
    },
    {
     "name": "stderr",
     "output_type": "stream",
     "text": [
      "/glade/work/jonahshaw/miniconda3/envs/cheydask/lib/python3.7/site-packages/xarray/coding/times.py:427: SerializationWarning: Unable to decode time axis into full numpy.datetime64 objects, continuing using cftime.datetime objects instead, reason: dates out of range\n",
      "  dtype = _decode_cf_datetime_dtype(data, units, calendar, self.use_cftime)\n"
     ]
    },
    {
     "name": "stdout",
     "output_type": "stream",
     "text": [
      "/glade/u/home/jonahshaw/w/trend_uncertainty/nathan/CMIP6_PIC//ESM2M//tas_Amon_GFDL-ESM2M_piControl_r1i1p1_006101-006512.nc\n",
      "Using \"lat\" and \"lon\" supplied as input\n"
     ]
    },
    {
     "name": "stderr",
     "output_type": "stream",
     "text": [
      "/glade/work/jonahshaw/miniconda3/envs/cheydask/lib/python3.7/site-packages/xarray/coding/times.py:427: SerializationWarning: Unable to decode time axis into full numpy.datetime64 objects, continuing using cftime.datetime objects instead, reason: dates out of range\n",
      "  dtype = _decode_cf_datetime_dtype(data, units, calendar, self.use_cftime)\n"
     ]
    },
    {
     "name": "stdout",
     "output_type": "stream",
     "text": [
      "/glade/u/home/jonahshaw/w/trend_uncertainty/nathan/CMIP6_PIC//ESM2M//tas_Amon_GFDL-ESM2M_piControl_r1i1p1_006601-007012.nc\n",
      "Using \"lat\" and \"lon\" supplied as input\n"
     ]
    },
    {
     "name": "stderr",
     "output_type": "stream",
     "text": [
      "/glade/work/jonahshaw/miniconda3/envs/cheydask/lib/python3.7/site-packages/xarray/coding/times.py:427: SerializationWarning: Unable to decode time axis into full numpy.datetime64 objects, continuing using cftime.datetime objects instead, reason: dates out of range\n",
      "  dtype = _decode_cf_datetime_dtype(data, units, calendar, self.use_cftime)\n"
     ]
    },
    {
     "name": "stdout",
     "output_type": "stream",
     "text": [
      "/glade/u/home/jonahshaw/w/trend_uncertainty/nathan/CMIP6_PIC//ESM2M//tas_Amon_GFDL-ESM2M_piControl_r1i1p1_007101-007512.nc\n",
      "Using \"lat\" and \"lon\" supplied as input\n"
     ]
    },
    {
     "name": "stderr",
     "output_type": "stream",
     "text": [
      "/glade/work/jonahshaw/miniconda3/envs/cheydask/lib/python3.7/site-packages/xarray/coding/times.py:427: SerializationWarning: Unable to decode time axis into full numpy.datetime64 objects, continuing using cftime.datetime objects instead, reason: dates out of range\n",
      "  dtype = _decode_cf_datetime_dtype(data, units, calendar, self.use_cftime)\n"
     ]
    },
    {
     "name": "stdout",
     "output_type": "stream",
     "text": [
      "/glade/u/home/jonahshaw/w/trend_uncertainty/nathan/CMIP6_PIC//ESM2M//tas_Amon_GFDL-ESM2M_piControl_r1i1p1_007601-008012.nc\n",
      "Using \"lat\" and \"lon\" supplied as input\n"
     ]
    },
    {
     "name": "stderr",
     "output_type": "stream",
     "text": [
      "/glade/work/jonahshaw/miniconda3/envs/cheydask/lib/python3.7/site-packages/xarray/coding/times.py:427: SerializationWarning: Unable to decode time axis into full numpy.datetime64 objects, continuing using cftime.datetime objects instead, reason: dates out of range\n",
      "  dtype = _decode_cf_datetime_dtype(data, units, calendar, self.use_cftime)\n"
     ]
    },
    {
     "name": "stdout",
     "output_type": "stream",
     "text": [
      "/glade/u/home/jonahshaw/w/trend_uncertainty/nathan/CMIP6_PIC//ESM2M//tas_Amon_GFDL-ESM2M_piControl_r1i1p1_008101-008512.nc\n",
      "Using \"lat\" and \"lon\" supplied as input\n"
     ]
    },
    {
     "name": "stderr",
     "output_type": "stream",
     "text": [
      "/glade/work/jonahshaw/miniconda3/envs/cheydask/lib/python3.7/site-packages/xarray/coding/times.py:427: SerializationWarning: Unable to decode time axis into full numpy.datetime64 objects, continuing using cftime.datetime objects instead, reason: dates out of range\n",
      "  dtype = _decode_cf_datetime_dtype(data, units, calendar, self.use_cftime)\n"
     ]
    },
    {
     "name": "stdout",
     "output_type": "stream",
     "text": [
      "/glade/u/home/jonahshaw/w/trend_uncertainty/nathan/CMIP6_PIC//ESM2M//tas_Amon_GFDL-ESM2M_piControl_r1i1p1_008601-009012.nc\n",
      "Using \"lat\" and \"lon\" supplied as input\n"
     ]
    },
    {
     "name": "stderr",
     "output_type": "stream",
     "text": [
      "/glade/work/jonahshaw/miniconda3/envs/cheydask/lib/python3.7/site-packages/xarray/coding/times.py:427: SerializationWarning: Unable to decode time axis into full numpy.datetime64 objects, continuing using cftime.datetime objects instead, reason: dates out of range\n",
      "  dtype = _decode_cf_datetime_dtype(data, units, calendar, self.use_cftime)\n"
     ]
    },
    {
     "name": "stdout",
     "output_type": "stream",
     "text": [
      "/glade/u/home/jonahshaw/w/trend_uncertainty/nathan/CMIP6_PIC//ESM2M//tas_Amon_GFDL-ESM2M_piControl_r1i1p1_009101-009512.nc\n",
      "Using \"lat\" and \"lon\" supplied as input\n"
     ]
    },
    {
     "name": "stderr",
     "output_type": "stream",
     "text": [
      "/glade/work/jonahshaw/miniconda3/envs/cheydask/lib/python3.7/site-packages/xarray/coding/times.py:427: SerializationWarning: Unable to decode time axis into full numpy.datetime64 objects, continuing using cftime.datetime objects instead, reason: dates out of range\n",
      "  dtype = _decode_cf_datetime_dtype(data, units, calendar, self.use_cftime)\n"
     ]
    },
    {
     "name": "stdout",
     "output_type": "stream",
     "text": [
      "/glade/u/home/jonahshaw/w/trend_uncertainty/nathan/CMIP6_PIC//ESM2M//tas_Amon_GFDL-ESM2M_piControl_r1i1p1_009601-010012.nc\n",
      "Using \"lat\" and \"lon\" supplied as input\n"
     ]
    },
    {
     "name": "stderr",
     "output_type": "stream",
     "text": [
      "/glade/work/jonahshaw/miniconda3/envs/cheydask/lib/python3.7/site-packages/xarray/coding/times.py:427: SerializationWarning: Unable to decode time axis into full numpy.datetime64 objects, continuing using cftime.datetime objects instead, reason: dates out of range\n",
      "  dtype = _decode_cf_datetime_dtype(data, units, calendar, self.use_cftime)\n"
     ]
    },
    {
     "name": "stdout",
     "output_type": "stream",
     "text": [
      "/glade/u/home/jonahshaw/w/trend_uncertainty/nathan/CMIP6_PIC//ESM2M//tas_Amon_GFDL-ESM2M_piControl_r1i1p1_010101-010512.nc\n",
      "Using \"lat\" and \"lon\" supplied as input\n"
     ]
    },
    {
     "name": "stderr",
     "output_type": "stream",
     "text": [
      "/glade/work/jonahshaw/miniconda3/envs/cheydask/lib/python3.7/site-packages/xarray/coding/times.py:427: SerializationWarning: Unable to decode time axis into full numpy.datetime64 objects, continuing using cftime.datetime objects instead, reason: dates out of range\n",
      "  dtype = _decode_cf_datetime_dtype(data, units, calendar, self.use_cftime)\n"
     ]
    },
    {
     "name": "stdout",
     "output_type": "stream",
     "text": [
      "/glade/u/home/jonahshaw/w/trend_uncertainty/nathan/CMIP6_PIC//ESM2M//tas_Amon_GFDL-ESM2M_piControl_r1i1p1_010601-011012.nc\n",
      "Using \"lat\" and \"lon\" supplied as input\n"
     ]
    },
    {
     "name": "stderr",
     "output_type": "stream",
     "text": [
      "/glade/work/jonahshaw/miniconda3/envs/cheydask/lib/python3.7/site-packages/xarray/coding/times.py:427: SerializationWarning: Unable to decode time axis into full numpy.datetime64 objects, continuing using cftime.datetime objects instead, reason: dates out of range\n",
      "  dtype = _decode_cf_datetime_dtype(data, units, calendar, self.use_cftime)\n"
     ]
    },
    {
     "name": "stdout",
     "output_type": "stream",
     "text": [
      "/glade/u/home/jonahshaw/w/trend_uncertainty/nathan/CMIP6_PIC//ESM2M//tas_Amon_GFDL-ESM2M_piControl_r1i1p1_011101-011512.nc\n",
      "Using \"lat\" and \"lon\" supplied as input\n"
     ]
    },
    {
     "name": "stderr",
     "output_type": "stream",
     "text": [
      "/glade/work/jonahshaw/miniconda3/envs/cheydask/lib/python3.7/site-packages/xarray/coding/times.py:427: SerializationWarning: Unable to decode time axis into full numpy.datetime64 objects, continuing using cftime.datetime objects instead, reason: dates out of range\n",
      "  dtype = _decode_cf_datetime_dtype(data, units, calendar, self.use_cftime)\n"
     ]
    },
    {
     "name": "stdout",
     "output_type": "stream",
     "text": [
      "/glade/u/home/jonahshaw/w/trend_uncertainty/nathan/CMIP6_PIC//ESM2M//tas_Amon_GFDL-ESM2M_piControl_r1i1p1_011601-012012.nc\n",
      "Using \"lat\" and \"lon\" supplied as input\n"
     ]
    },
    {
     "name": "stderr",
     "output_type": "stream",
     "text": [
      "/glade/work/jonahshaw/miniconda3/envs/cheydask/lib/python3.7/site-packages/xarray/coding/times.py:427: SerializationWarning: Unable to decode time axis into full numpy.datetime64 objects, continuing using cftime.datetime objects instead, reason: dates out of range\n",
      "  dtype = _decode_cf_datetime_dtype(data, units, calendar, self.use_cftime)\n"
     ]
    },
    {
     "name": "stdout",
     "output_type": "stream",
     "text": [
      "/glade/u/home/jonahshaw/w/trend_uncertainty/nathan/CMIP6_PIC//ESM2M//tas_Amon_GFDL-ESM2M_piControl_r1i1p1_012101-012512.nc\n",
      "Using \"lat\" and \"lon\" supplied as input\n"
     ]
    },
    {
     "name": "stderr",
     "output_type": "stream",
     "text": [
      "/glade/work/jonahshaw/miniconda3/envs/cheydask/lib/python3.7/site-packages/xarray/coding/times.py:427: SerializationWarning: Unable to decode time axis into full numpy.datetime64 objects, continuing using cftime.datetime objects instead, reason: dates out of range\n",
      "  dtype = _decode_cf_datetime_dtype(data, units, calendar, self.use_cftime)\n"
     ]
    },
    {
     "name": "stdout",
     "output_type": "stream",
     "text": [
      "/glade/u/home/jonahshaw/w/trend_uncertainty/nathan/CMIP6_PIC//ESM2M//tas_Amon_GFDL-ESM2M_piControl_r1i1p1_012601-013012.nc\n",
      "Using \"lat\" and \"lon\" supplied as input\n"
     ]
    },
    {
     "name": "stderr",
     "output_type": "stream",
     "text": [
      "/glade/work/jonahshaw/miniconda3/envs/cheydask/lib/python3.7/site-packages/xarray/coding/times.py:427: SerializationWarning: Unable to decode time axis into full numpy.datetime64 objects, continuing using cftime.datetime objects instead, reason: dates out of range\n",
      "  dtype = _decode_cf_datetime_dtype(data, units, calendar, self.use_cftime)\n"
     ]
    },
    {
     "name": "stdout",
     "output_type": "stream",
     "text": [
      "/glade/u/home/jonahshaw/w/trend_uncertainty/nathan/CMIP6_PIC//ESM2M//tas_Amon_GFDL-ESM2M_piControl_r1i1p1_013101-013512.nc\n",
      "Using \"lat\" and \"lon\" supplied as input\n"
     ]
    },
    {
     "name": "stderr",
     "output_type": "stream",
     "text": [
      "/glade/work/jonahshaw/miniconda3/envs/cheydask/lib/python3.7/site-packages/xarray/coding/times.py:427: SerializationWarning: Unable to decode time axis into full numpy.datetime64 objects, continuing using cftime.datetime objects instead, reason: dates out of range\n",
      "  dtype = _decode_cf_datetime_dtype(data, units, calendar, self.use_cftime)\n"
     ]
    },
    {
     "name": "stdout",
     "output_type": "stream",
     "text": [
      "/glade/u/home/jonahshaw/w/trend_uncertainty/nathan/CMIP6_PIC//ESM2M//tas_Amon_GFDL-ESM2M_piControl_r1i1p1_013601-014012.nc\n",
      "Using \"lat\" and \"lon\" supplied as input\n"
     ]
    },
    {
     "name": "stderr",
     "output_type": "stream",
     "text": [
      "/glade/work/jonahshaw/miniconda3/envs/cheydask/lib/python3.7/site-packages/xarray/coding/times.py:427: SerializationWarning: Unable to decode time axis into full numpy.datetime64 objects, continuing using cftime.datetime objects instead, reason: dates out of range\n",
      "  dtype = _decode_cf_datetime_dtype(data, units, calendar, self.use_cftime)\n"
     ]
    },
    {
     "name": "stdout",
     "output_type": "stream",
     "text": [
      "/glade/u/home/jonahshaw/w/trend_uncertainty/nathan/CMIP6_PIC//ESM2M//tas_Amon_GFDL-ESM2M_piControl_r1i1p1_014101-014512.nc\n",
      "Using \"lat\" and \"lon\" supplied as input\n"
     ]
    },
    {
     "name": "stderr",
     "output_type": "stream",
     "text": [
      "/glade/work/jonahshaw/miniconda3/envs/cheydask/lib/python3.7/site-packages/xarray/coding/times.py:427: SerializationWarning: Unable to decode time axis into full numpy.datetime64 objects, continuing using cftime.datetime objects instead, reason: dates out of range\n",
      "  dtype = _decode_cf_datetime_dtype(data, units, calendar, self.use_cftime)\n"
     ]
    },
    {
     "name": "stdout",
     "output_type": "stream",
     "text": [
      "/glade/u/home/jonahshaw/w/trend_uncertainty/nathan/CMIP6_PIC//ESM2M//tas_Amon_GFDL-ESM2M_piControl_r1i1p1_014601-015012.nc\n",
      "Using \"lat\" and \"lon\" supplied as input\n"
     ]
    },
    {
     "name": "stderr",
     "output_type": "stream",
     "text": [
      "/glade/work/jonahshaw/miniconda3/envs/cheydask/lib/python3.7/site-packages/xarray/coding/times.py:427: SerializationWarning: Unable to decode time axis into full numpy.datetime64 objects, continuing using cftime.datetime objects instead, reason: dates out of range\n",
      "  dtype = _decode_cf_datetime_dtype(data, units, calendar, self.use_cftime)\n"
     ]
    },
    {
     "name": "stdout",
     "output_type": "stream",
     "text": [
      "/glade/u/home/jonahshaw/w/trend_uncertainty/nathan/CMIP6_PIC//ESM2M//tas_Amon_GFDL-ESM2M_piControl_r1i1p1_015101-015512.nc\n",
      "Using \"lat\" and \"lon\" supplied as input\n"
     ]
    },
    {
     "name": "stderr",
     "output_type": "stream",
     "text": [
      "/glade/work/jonahshaw/miniconda3/envs/cheydask/lib/python3.7/site-packages/xarray/coding/times.py:427: SerializationWarning: Unable to decode time axis into full numpy.datetime64 objects, continuing using cftime.datetime objects instead, reason: dates out of range\n",
      "  dtype = _decode_cf_datetime_dtype(data, units, calendar, self.use_cftime)\n"
     ]
    },
    {
     "name": "stdout",
     "output_type": "stream",
     "text": [
      "/glade/u/home/jonahshaw/w/trend_uncertainty/nathan/CMIP6_PIC//ESM2M//tas_Amon_GFDL-ESM2M_piControl_r1i1p1_015601-016012.nc\n",
      "Using \"lat\" and \"lon\" supplied as input\n"
     ]
    },
    {
     "name": "stderr",
     "output_type": "stream",
     "text": [
      "/glade/work/jonahshaw/miniconda3/envs/cheydask/lib/python3.7/site-packages/xarray/coding/times.py:427: SerializationWarning: Unable to decode time axis into full numpy.datetime64 objects, continuing using cftime.datetime objects instead, reason: dates out of range\n",
      "  dtype = _decode_cf_datetime_dtype(data, units, calendar, self.use_cftime)\n"
     ]
    },
    {
     "name": "stdout",
     "output_type": "stream",
     "text": [
      "/glade/u/home/jonahshaw/w/trend_uncertainty/nathan/CMIP6_PIC//ESM2M//tas_Amon_GFDL-ESM2M_piControl_r1i1p1_016101-016512.nc\n",
      "Using \"lat\" and \"lon\" supplied as input\n"
     ]
    },
    {
     "name": "stderr",
     "output_type": "stream",
     "text": [
      "/glade/work/jonahshaw/miniconda3/envs/cheydask/lib/python3.7/site-packages/xarray/coding/times.py:427: SerializationWarning: Unable to decode time axis into full numpy.datetime64 objects, continuing using cftime.datetime objects instead, reason: dates out of range\n",
      "  dtype = _decode_cf_datetime_dtype(data, units, calendar, self.use_cftime)\n"
     ]
    },
    {
     "name": "stdout",
     "output_type": "stream",
     "text": [
      "/glade/u/home/jonahshaw/w/trend_uncertainty/nathan/CMIP6_PIC//ESM2M//tas_Amon_GFDL-ESM2M_piControl_r1i1p1_016601-017012.nc\n",
      "Using \"lat\" and \"lon\" supplied as input\n"
     ]
    },
    {
     "name": "stderr",
     "output_type": "stream",
     "text": [
      "/glade/work/jonahshaw/miniconda3/envs/cheydask/lib/python3.7/site-packages/xarray/coding/times.py:427: SerializationWarning: Unable to decode time axis into full numpy.datetime64 objects, continuing using cftime.datetime objects instead, reason: dates out of range\n",
      "  dtype = _decode_cf_datetime_dtype(data, units, calendar, self.use_cftime)\n"
     ]
    },
    {
     "name": "stdout",
     "output_type": "stream",
     "text": [
      "/glade/u/home/jonahshaw/w/trend_uncertainty/nathan/CMIP6_PIC//ESM2M//tas_Amon_GFDL-ESM2M_piControl_r1i1p1_017101-017512.nc\n",
      "Using \"lat\" and \"lon\" supplied as input\n"
     ]
    },
    {
     "name": "stderr",
     "output_type": "stream",
     "text": [
      "/glade/work/jonahshaw/miniconda3/envs/cheydask/lib/python3.7/site-packages/xarray/coding/times.py:427: SerializationWarning: Unable to decode time axis into full numpy.datetime64 objects, continuing using cftime.datetime objects instead, reason: dates out of range\n",
      "  dtype = _decode_cf_datetime_dtype(data, units, calendar, self.use_cftime)\n"
     ]
    },
    {
     "name": "stdout",
     "output_type": "stream",
     "text": [
      "/glade/u/home/jonahshaw/w/trend_uncertainty/nathan/CMIP6_PIC//ESM2M//tas_Amon_GFDL-ESM2M_piControl_r1i1p1_017601-018012.nc\n",
      "Using \"lat\" and \"lon\" supplied as input\n"
     ]
    },
    {
     "name": "stderr",
     "output_type": "stream",
     "text": [
      "/glade/work/jonahshaw/miniconda3/envs/cheydask/lib/python3.7/site-packages/xarray/coding/times.py:427: SerializationWarning: Unable to decode time axis into full numpy.datetime64 objects, continuing using cftime.datetime objects instead, reason: dates out of range\n",
      "  dtype = _decode_cf_datetime_dtype(data, units, calendar, self.use_cftime)\n"
     ]
    },
    {
     "name": "stdout",
     "output_type": "stream",
     "text": [
      "/glade/u/home/jonahshaw/w/trend_uncertainty/nathan/CMIP6_PIC//ESM2M//tas_Amon_GFDL-ESM2M_piControl_r1i1p1_018101-018512.nc\n",
      "Using \"lat\" and \"lon\" supplied as input\n"
     ]
    },
    {
     "name": "stderr",
     "output_type": "stream",
     "text": [
      "/glade/work/jonahshaw/miniconda3/envs/cheydask/lib/python3.7/site-packages/xarray/coding/times.py:427: SerializationWarning: Unable to decode time axis into full numpy.datetime64 objects, continuing using cftime.datetime objects instead, reason: dates out of range\n",
      "  dtype = _decode_cf_datetime_dtype(data, units, calendar, self.use_cftime)\n"
     ]
    },
    {
     "name": "stdout",
     "output_type": "stream",
     "text": [
      "/glade/u/home/jonahshaw/w/trend_uncertainty/nathan/CMIP6_PIC//ESM2M//tas_Amon_GFDL-ESM2M_piControl_r1i1p1_018601-019012.nc\n",
      "Using \"lat\" and \"lon\" supplied as input\n"
     ]
    },
    {
     "name": "stderr",
     "output_type": "stream",
     "text": [
      "/glade/work/jonahshaw/miniconda3/envs/cheydask/lib/python3.7/site-packages/xarray/coding/times.py:427: SerializationWarning: Unable to decode time axis into full numpy.datetime64 objects, continuing using cftime.datetime objects instead, reason: dates out of range\n",
      "  dtype = _decode_cf_datetime_dtype(data, units, calendar, self.use_cftime)\n"
     ]
    },
    {
     "name": "stdout",
     "output_type": "stream",
     "text": [
      "/glade/u/home/jonahshaw/w/trend_uncertainty/nathan/CMIP6_PIC//ESM2M//tas_Amon_GFDL-ESM2M_piControl_r1i1p1_019101-019512.nc\n",
      "Using \"lat\" and \"lon\" supplied as input\n"
     ]
    },
    {
     "name": "stderr",
     "output_type": "stream",
     "text": [
      "/glade/work/jonahshaw/miniconda3/envs/cheydask/lib/python3.7/site-packages/xarray/coding/times.py:427: SerializationWarning: Unable to decode time axis into full numpy.datetime64 objects, continuing using cftime.datetime objects instead, reason: dates out of range\n",
      "  dtype = _decode_cf_datetime_dtype(data, units, calendar, self.use_cftime)\n"
     ]
    },
    {
     "name": "stdout",
     "output_type": "stream",
     "text": [
      "/glade/u/home/jonahshaw/w/trend_uncertainty/nathan/CMIP6_PIC//ESM2M//tas_Amon_GFDL-ESM2M_piControl_r1i1p1_019601-020012.nc\n",
      "Using \"lat\" and \"lon\" supplied as input\n"
     ]
    },
    {
     "name": "stderr",
     "output_type": "stream",
     "text": [
      "/glade/work/jonahshaw/miniconda3/envs/cheydask/lib/python3.7/site-packages/xarray/coding/times.py:427: SerializationWarning: Unable to decode time axis into full numpy.datetime64 objects, continuing using cftime.datetime objects instead, reason: dates out of range\n",
      "  dtype = _decode_cf_datetime_dtype(data, units, calendar, self.use_cftime)\n"
     ]
    },
    {
     "name": "stdout",
     "output_type": "stream",
     "text": [
      "/glade/u/home/jonahshaw/w/trend_uncertainty/nathan/CMIP6_PIC//ESM2M//tas_Amon_GFDL-ESM2M_piControl_r1i1p1_020101-020512.nc\n",
      "Using \"lat\" and \"lon\" supplied as input\n"
     ]
    },
    {
     "name": "stderr",
     "output_type": "stream",
     "text": [
      "/glade/work/jonahshaw/miniconda3/envs/cheydask/lib/python3.7/site-packages/xarray/coding/times.py:427: SerializationWarning: Unable to decode time axis into full numpy.datetime64 objects, continuing using cftime.datetime objects instead, reason: dates out of range\n",
      "  dtype = _decode_cf_datetime_dtype(data, units, calendar, self.use_cftime)\n"
     ]
    },
    {
     "name": "stdout",
     "output_type": "stream",
     "text": [
      "/glade/u/home/jonahshaw/w/trend_uncertainty/nathan/CMIP6_PIC//ESM2M//tas_Amon_GFDL-ESM2M_piControl_r1i1p1_020601-021012.nc\n",
      "Using \"lat\" and \"lon\" supplied as input\n"
     ]
    },
    {
     "name": "stderr",
     "output_type": "stream",
     "text": [
      "/glade/work/jonahshaw/miniconda3/envs/cheydask/lib/python3.7/site-packages/xarray/coding/times.py:427: SerializationWarning: Unable to decode time axis into full numpy.datetime64 objects, continuing using cftime.datetime objects instead, reason: dates out of range\n",
      "  dtype = _decode_cf_datetime_dtype(data, units, calendar, self.use_cftime)\n"
     ]
    },
    {
     "name": "stdout",
     "output_type": "stream",
     "text": [
      "/glade/u/home/jonahshaw/w/trend_uncertainty/nathan/CMIP6_PIC//ESM2M//tas_Amon_GFDL-ESM2M_piControl_r1i1p1_021101-021512.nc\n",
      "Using \"lat\" and \"lon\" supplied as input\n"
     ]
    },
    {
     "name": "stderr",
     "output_type": "stream",
     "text": [
      "/glade/work/jonahshaw/miniconda3/envs/cheydask/lib/python3.7/site-packages/xarray/coding/times.py:427: SerializationWarning: Unable to decode time axis into full numpy.datetime64 objects, continuing using cftime.datetime objects instead, reason: dates out of range\n",
      "  dtype = _decode_cf_datetime_dtype(data, units, calendar, self.use_cftime)\n"
     ]
    },
    {
     "name": "stdout",
     "output_type": "stream",
     "text": [
      "/glade/u/home/jonahshaw/w/trend_uncertainty/nathan/CMIP6_PIC//ESM2M//tas_Amon_GFDL-ESM2M_piControl_r1i1p1_021601-022012.nc\n",
      "Using \"lat\" and \"lon\" supplied as input\n"
     ]
    },
    {
     "name": "stderr",
     "output_type": "stream",
     "text": [
      "/glade/work/jonahshaw/miniconda3/envs/cheydask/lib/python3.7/site-packages/xarray/coding/times.py:427: SerializationWarning: Unable to decode time axis into full numpy.datetime64 objects, continuing using cftime.datetime objects instead, reason: dates out of range\n",
      "  dtype = _decode_cf_datetime_dtype(data, units, calendar, self.use_cftime)\n"
     ]
    },
    {
     "name": "stdout",
     "output_type": "stream",
     "text": [
      "/glade/u/home/jonahshaw/w/trend_uncertainty/nathan/CMIP6_PIC//ESM2M//tas_Amon_GFDL-ESM2M_piControl_r1i1p1_022101-022512.nc\n",
      "Using \"lat\" and \"lon\" supplied as input\n"
     ]
    },
    {
     "name": "stderr",
     "output_type": "stream",
     "text": [
      "/glade/work/jonahshaw/miniconda3/envs/cheydask/lib/python3.7/site-packages/xarray/coding/times.py:427: SerializationWarning: Unable to decode time axis into full numpy.datetime64 objects, continuing using cftime.datetime objects instead, reason: dates out of range\n",
      "  dtype = _decode_cf_datetime_dtype(data, units, calendar, self.use_cftime)\n"
     ]
    },
    {
     "name": "stdout",
     "output_type": "stream",
     "text": [
      "/glade/u/home/jonahshaw/w/trend_uncertainty/nathan/CMIP6_PIC//ESM2M//tas_Amon_GFDL-ESM2M_piControl_r1i1p1_022601-023012.nc\n",
      "Using \"lat\" and \"lon\" supplied as input\n"
     ]
    },
    {
     "name": "stderr",
     "output_type": "stream",
     "text": [
      "/glade/work/jonahshaw/miniconda3/envs/cheydask/lib/python3.7/site-packages/xarray/coding/times.py:427: SerializationWarning: Unable to decode time axis into full numpy.datetime64 objects, continuing using cftime.datetime objects instead, reason: dates out of range\n",
      "  dtype = _decode_cf_datetime_dtype(data, units, calendar, self.use_cftime)\n"
     ]
    },
    {
     "name": "stdout",
     "output_type": "stream",
     "text": [
      "/glade/u/home/jonahshaw/w/trend_uncertainty/nathan/CMIP6_PIC//ESM2M//tas_Amon_GFDL-ESM2M_piControl_r1i1p1_023101-023512.nc\n",
      "Using \"lat\" and \"lon\" supplied as input\n"
     ]
    },
    {
     "name": "stderr",
     "output_type": "stream",
     "text": [
      "/glade/work/jonahshaw/miniconda3/envs/cheydask/lib/python3.7/site-packages/xarray/coding/times.py:427: SerializationWarning: Unable to decode time axis into full numpy.datetime64 objects, continuing using cftime.datetime objects instead, reason: dates out of range\n",
      "  dtype = _decode_cf_datetime_dtype(data, units, calendar, self.use_cftime)\n"
     ]
    },
    {
     "name": "stdout",
     "output_type": "stream",
     "text": [
      "/glade/u/home/jonahshaw/w/trend_uncertainty/nathan/CMIP6_PIC//ESM2M//tas_Amon_GFDL-ESM2M_piControl_r1i1p1_023601-024012.nc\n",
      "Using \"lat\" and \"lon\" supplied as input\n"
     ]
    },
    {
     "name": "stderr",
     "output_type": "stream",
     "text": [
      "/glade/work/jonahshaw/miniconda3/envs/cheydask/lib/python3.7/site-packages/xarray/coding/times.py:427: SerializationWarning: Unable to decode time axis into full numpy.datetime64 objects, continuing using cftime.datetime objects instead, reason: dates out of range\n",
      "  dtype = _decode_cf_datetime_dtype(data, units, calendar, self.use_cftime)\n"
     ]
    },
    {
     "name": "stdout",
     "output_type": "stream",
     "text": [
      "/glade/u/home/jonahshaw/w/trend_uncertainty/nathan/CMIP6_PIC//ESM2M//tas_Amon_GFDL-ESM2M_piControl_r1i1p1_024101-024512.nc\n",
      "Using \"lat\" and \"lon\" supplied as input\n"
     ]
    },
    {
     "name": "stderr",
     "output_type": "stream",
     "text": [
      "/glade/work/jonahshaw/miniconda3/envs/cheydask/lib/python3.7/site-packages/xarray/coding/times.py:427: SerializationWarning: Unable to decode time axis into full numpy.datetime64 objects, continuing using cftime.datetime objects instead, reason: dates out of range\n",
      "  dtype = _decode_cf_datetime_dtype(data, units, calendar, self.use_cftime)\n"
     ]
    },
    {
     "name": "stdout",
     "output_type": "stream",
     "text": [
      "/glade/u/home/jonahshaw/w/trend_uncertainty/nathan/CMIP6_PIC//ESM2M//tas_Amon_GFDL-ESM2M_piControl_r1i1p1_024601-025012.nc\n",
      "Using \"lat\" and \"lon\" supplied as input\n"
     ]
    },
    {
     "name": "stderr",
     "output_type": "stream",
     "text": [
      "/glade/work/jonahshaw/miniconda3/envs/cheydask/lib/python3.7/site-packages/xarray/coding/times.py:427: SerializationWarning: Unable to decode time axis into full numpy.datetime64 objects, continuing using cftime.datetime objects instead, reason: dates out of range\n",
      "  dtype = _decode_cf_datetime_dtype(data, units, calendar, self.use_cftime)\n"
     ]
    },
    {
     "name": "stdout",
     "output_type": "stream",
     "text": [
      "/glade/u/home/jonahshaw/w/trend_uncertainty/nathan/CMIP6_PIC//ESM2M//tas_Amon_GFDL-ESM2M_piControl_r1i1p1_025101-025512.nc\n",
      "Using \"lat\" and \"lon\" supplied as input\n"
     ]
    },
    {
     "name": "stderr",
     "output_type": "stream",
     "text": [
      "/glade/work/jonahshaw/miniconda3/envs/cheydask/lib/python3.7/site-packages/xarray/coding/times.py:427: SerializationWarning: Unable to decode time axis into full numpy.datetime64 objects, continuing using cftime.datetime objects instead, reason: dates out of range\n",
      "  dtype = _decode_cf_datetime_dtype(data, units, calendar, self.use_cftime)\n"
     ]
    },
    {
     "name": "stdout",
     "output_type": "stream",
     "text": [
      "/glade/u/home/jonahshaw/w/trend_uncertainty/nathan/CMIP6_PIC//ESM2M//tas_Amon_GFDL-ESM2M_piControl_r1i1p1_025601-026012.nc\n",
      "Using \"lat\" and \"lon\" supplied as input\n"
     ]
    },
    {
     "name": "stderr",
     "output_type": "stream",
     "text": [
      "/glade/work/jonahshaw/miniconda3/envs/cheydask/lib/python3.7/site-packages/xarray/coding/times.py:427: SerializationWarning: Unable to decode time axis into full numpy.datetime64 objects, continuing using cftime.datetime objects instead, reason: dates out of range\n",
      "  dtype = _decode_cf_datetime_dtype(data, units, calendar, self.use_cftime)\n"
     ]
    },
    {
     "name": "stdout",
     "output_type": "stream",
     "text": [
      "/glade/u/home/jonahshaw/w/trend_uncertainty/nathan/CMIP6_PIC//ESM2M//tas_Amon_GFDL-ESM2M_piControl_r1i1p1_026101-026512.nc\n",
      "Using \"lat\" and \"lon\" supplied as input\n"
     ]
    },
    {
     "name": "stderr",
     "output_type": "stream",
     "text": [
      "/glade/work/jonahshaw/miniconda3/envs/cheydask/lib/python3.7/site-packages/xarray/coding/times.py:427: SerializationWarning: Unable to decode time axis into full numpy.datetime64 objects, continuing using cftime.datetime objects instead, reason: dates out of range\n",
      "  dtype = _decode_cf_datetime_dtype(data, units, calendar, self.use_cftime)\n"
     ]
    },
    {
     "name": "stdout",
     "output_type": "stream",
     "text": [
      "/glade/u/home/jonahshaw/w/trend_uncertainty/nathan/CMIP6_PIC//ESM2M//tas_Amon_GFDL-ESM2M_piControl_r1i1p1_026601-027012.nc\n",
      "Using \"lat\" and \"lon\" supplied as input\n"
     ]
    },
    {
     "name": "stderr",
     "output_type": "stream",
     "text": [
      "/glade/work/jonahshaw/miniconda3/envs/cheydask/lib/python3.7/site-packages/xarray/coding/times.py:427: SerializationWarning: Unable to decode time axis into full numpy.datetime64 objects, continuing using cftime.datetime objects instead, reason: dates out of range\n",
      "  dtype = _decode_cf_datetime_dtype(data, units, calendar, self.use_cftime)\n"
     ]
    },
    {
     "name": "stdout",
     "output_type": "stream",
     "text": [
      "/glade/u/home/jonahshaw/w/trend_uncertainty/nathan/CMIP6_PIC//ESM2M//tas_Amon_GFDL-ESM2M_piControl_r1i1p1_027101-027512.nc\n",
      "Using \"lat\" and \"lon\" supplied as input\n"
     ]
    },
    {
     "name": "stderr",
     "output_type": "stream",
     "text": [
      "/glade/work/jonahshaw/miniconda3/envs/cheydask/lib/python3.7/site-packages/xarray/coding/times.py:427: SerializationWarning: Unable to decode time axis into full numpy.datetime64 objects, continuing using cftime.datetime objects instead, reason: dates out of range\n",
      "  dtype = _decode_cf_datetime_dtype(data, units, calendar, self.use_cftime)\n"
     ]
    },
    {
     "name": "stdout",
     "output_type": "stream",
     "text": [
      "/glade/u/home/jonahshaw/w/trend_uncertainty/nathan/CMIP6_PIC//ESM2M//tas_Amon_GFDL-ESM2M_piControl_r1i1p1_027601-028012.nc\n",
      "Using \"lat\" and \"lon\" supplied as input\n"
     ]
    },
    {
     "name": "stderr",
     "output_type": "stream",
     "text": [
      "/glade/work/jonahshaw/miniconda3/envs/cheydask/lib/python3.7/site-packages/xarray/coding/times.py:427: SerializationWarning: Unable to decode time axis into full numpy.datetime64 objects, continuing using cftime.datetime objects instead, reason: dates out of range\n",
      "  dtype = _decode_cf_datetime_dtype(data, units, calendar, self.use_cftime)\n"
     ]
    },
    {
     "name": "stdout",
     "output_type": "stream",
     "text": [
      "/glade/u/home/jonahshaw/w/trend_uncertainty/nathan/CMIP6_PIC//ESM2M//tas_Amon_GFDL-ESM2M_piControl_r1i1p1_028101-028512.nc\n",
      "Using \"lat\" and \"lon\" supplied as input\n"
     ]
    },
    {
     "name": "stderr",
     "output_type": "stream",
     "text": [
      "/glade/work/jonahshaw/miniconda3/envs/cheydask/lib/python3.7/site-packages/xarray/coding/times.py:427: SerializationWarning: Unable to decode time axis into full numpy.datetime64 objects, continuing using cftime.datetime objects instead, reason: dates out of range\n",
      "  dtype = _decode_cf_datetime_dtype(data, units, calendar, self.use_cftime)\n"
     ]
    },
    {
     "name": "stdout",
     "output_type": "stream",
     "text": [
      "/glade/u/home/jonahshaw/w/trend_uncertainty/nathan/CMIP6_PIC//ESM2M//tas_Amon_GFDL-ESM2M_piControl_r1i1p1_028601-029012.nc\n",
      "Using \"lat\" and \"lon\" supplied as input\n"
     ]
    },
    {
     "name": "stderr",
     "output_type": "stream",
     "text": [
      "/glade/work/jonahshaw/miniconda3/envs/cheydask/lib/python3.7/site-packages/xarray/coding/times.py:427: SerializationWarning: Unable to decode time axis into full numpy.datetime64 objects, continuing using cftime.datetime objects instead, reason: dates out of range\n",
      "  dtype = _decode_cf_datetime_dtype(data, units, calendar, self.use_cftime)\n"
     ]
    },
    {
     "name": "stdout",
     "output_type": "stream",
     "text": [
      "/glade/u/home/jonahshaw/w/trend_uncertainty/nathan/CMIP6_PIC//ESM2M//tas_Amon_GFDL-ESM2M_piControl_r1i1p1_029101-029512.nc\n",
      "Using \"lat\" and \"lon\" supplied as input\n"
     ]
    },
    {
     "name": "stderr",
     "output_type": "stream",
     "text": [
      "/glade/work/jonahshaw/miniconda3/envs/cheydask/lib/python3.7/site-packages/xarray/coding/times.py:427: SerializationWarning: Unable to decode time axis into full numpy.datetime64 objects, continuing using cftime.datetime objects instead, reason: dates out of range\n",
      "  dtype = _decode_cf_datetime_dtype(data, units, calendar, self.use_cftime)\n"
     ]
    },
    {
     "name": "stdout",
     "output_type": "stream",
     "text": [
      "/glade/u/home/jonahshaw/w/trend_uncertainty/nathan/CMIP6_PIC//ESM2M//tas_Amon_GFDL-ESM2M_piControl_r1i1p1_029601-030012.nc\n",
      "Using \"lat\" and \"lon\" supplied as input\n"
     ]
    },
    {
     "name": "stderr",
     "output_type": "stream",
     "text": [
      "/glade/work/jonahshaw/miniconda3/envs/cheydask/lib/python3.7/site-packages/xarray/coding/times.py:427: SerializationWarning: Unable to decode time axis into full numpy.datetime64 objects, continuing using cftime.datetime objects instead, reason: dates out of range\n",
      "  dtype = _decode_cf_datetime_dtype(data, units, calendar, self.use_cftime)\n"
     ]
    },
    {
     "name": "stdout",
     "output_type": "stream",
     "text": [
      "/glade/u/home/jonahshaw/w/trend_uncertainty/nathan/CMIP6_PIC//ESM2M//tas_Amon_GFDL-ESM2M_piControl_r1i1p1_030101-030512.nc\n",
      "Using \"lat\" and \"lon\" supplied as input\n"
     ]
    },
    {
     "name": "stderr",
     "output_type": "stream",
     "text": [
      "/glade/work/jonahshaw/miniconda3/envs/cheydask/lib/python3.7/site-packages/xarray/coding/times.py:427: SerializationWarning: Unable to decode time axis into full numpy.datetime64 objects, continuing using cftime.datetime objects instead, reason: dates out of range\n",
      "  dtype = _decode_cf_datetime_dtype(data, units, calendar, self.use_cftime)\n"
     ]
    },
    {
     "name": "stdout",
     "output_type": "stream",
     "text": [
      "/glade/u/home/jonahshaw/w/trend_uncertainty/nathan/CMIP6_PIC//ESM2M//tas_Amon_GFDL-ESM2M_piControl_r1i1p1_030601-031012.nc\n",
      "Using \"lat\" and \"lon\" supplied as input\n"
     ]
    },
    {
     "name": "stderr",
     "output_type": "stream",
     "text": [
      "/glade/work/jonahshaw/miniconda3/envs/cheydask/lib/python3.7/site-packages/xarray/coding/times.py:427: SerializationWarning: Unable to decode time axis into full numpy.datetime64 objects, continuing using cftime.datetime objects instead, reason: dates out of range\n",
      "  dtype = _decode_cf_datetime_dtype(data, units, calendar, self.use_cftime)\n"
     ]
    },
    {
     "name": "stdout",
     "output_type": "stream",
     "text": [
      "/glade/u/home/jonahshaw/w/trend_uncertainty/nathan/CMIP6_PIC//ESM2M//tas_Amon_GFDL-ESM2M_piControl_r1i1p1_031101-031512.nc\n",
      "Using \"lat\" and \"lon\" supplied as input\n"
     ]
    },
    {
     "name": "stderr",
     "output_type": "stream",
     "text": [
      "/glade/work/jonahshaw/miniconda3/envs/cheydask/lib/python3.7/site-packages/xarray/coding/times.py:427: SerializationWarning: Unable to decode time axis into full numpy.datetime64 objects, continuing using cftime.datetime objects instead, reason: dates out of range\n",
      "  dtype = _decode_cf_datetime_dtype(data, units, calendar, self.use_cftime)\n"
     ]
    },
    {
     "name": "stdout",
     "output_type": "stream",
     "text": [
      "/glade/u/home/jonahshaw/w/trend_uncertainty/nathan/CMIP6_PIC//ESM2M//tas_Amon_GFDL-ESM2M_piControl_r1i1p1_031601-032012.nc\n",
      "Using \"lat\" and \"lon\" supplied as input\n"
     ]
    },
    {
     "name": "stderr",
     "output_type": "stream",
     "text": [
      "/glade/work/jonahshaw/miniconda3/envs/cheydask/lib/python3.7/site-packages/xarray/coding/times.py:427: SerializationWarning: Unable to decode time axis into full numpy.datetime64 objects, continuing using cftime.datetime objects instead, reason: dates out of range\n",
      "  dtype = _decode_cf_datetime_dtype(data, units, calendar, self.use_cftime)\n"
     ]
    },
    {
     "name": "stdout",
     "output_type": "stream",
     "text": [
      "/glade/u/home/jonahshaw/w/trend_uncertainty/nathan/CMIP6_PIC//ESM2M//tas_Amon_GFDL-ESM2M_piControl_r1i1p1_032101-032512.nc\n",
      "Using \"lat\" and \"lon\" supplied as input\n"
     ]
    },
    {
     "name": "stderr",
     "output_type": "stream",
     "text": [
      "/glade/work/jonahshaw/miniconda3/envs/cheydask/lib/python3.7/site-packages/xarray/coding/times.py:427: SerializationWarning: Unable to decode time axis into full numpy.datetime64 objects, continuing using cftime.datetime objects instead, reason: dates out of range\n",
      "  dtype = _decode_cf_datetime_dtype(data, units, calendar, self.use_cftime)\n"
     ]
    },
    {
     "name": "stdout",
     "output_type": "stream",
     "text": [
      "/glade/u/home/jonahshaw/w/trend_uncertainty/nathan/CMIP6_PIC//ESM2M//tas_Amon_GFDL-ESM2M_piControl_r1i1p1_032601-033012.nc\n",
      "Using \"lat\" and \"lon\" supplied as input\n"
     ]
    },
    {
     "name": "stderr",
     "output_type": "stream",
     "text": [
      "/glade/work/jonahshaw/miniconda3/envs/cheydask/lib/python3.7/site-packages/xarray/coding/times.py:427: SerializationWarning: Unable to decode time axis into full numpy.datetime64 objects, continuing using cftime.datetime objects instead, reason: dates out of range\n",
      "  dtype = _decode_cf_datetime_dtype(data, units, calendar, self.use_cftime)\n"
     ]
    },
    {
     "name": "stdout",
     "output_type": "stream",
     "text": [
      "/glade/u/home/jonahshaw/w/trend_uncertainty/nathan/CMIP6_PIC//ESM2M//tas_Amon_GFDL-ESM2M_piControl_r1i1p1_033101-033512.nc\n",
      "Using \"lat\" and \"lon\" supplied as input\n"
     ]
    },
    {
     "name": "stderr",
     "output_type": "stream",
     "text": [
      "/glade/work/jonahshaw/miniconda3/envs/cheydask/lib/python3.7/site-packages/xarray/coding/times.py:427: SerializationWarning: Unable to decode time axis into full numpy.datetime64 objects, continuing using cftime.datetime objects instead, reason: dates out of range\n",
      "  dtype = _decode_cf_datetime_dtype(data, units, calendar, self.use_cftime)\n"
     ]
    },
    {
     "name": "stdout",
     "output_type": "stream",
     "text": [
      "/glade/u/home/jonahshaw/w/trend_uncertainty/nathan/CMIP6_PIC//ESM2M//tas_Amon_GFDL-ESM2M_piControl_r1i1p1_033601-034012.nc\n",
      "Using \"lat\" and \"lon\" supplied as input\n"
     ]
    },
    {
     "name": "stderr",
     "output_type": "stream",
     "text": [
      "/glade/work/jonahshaw/miniconda3/envs/cheydask/lib/python3.7/site-packages/xarray/coding/times.py:427: SerializationWarning: Unable to decode time axis into full numpy.datetime64 objects, continuing using cftime.datetime objects instead, reason: dates out of range\n",
      "  dtype = _decode_cf_datetime_dtype(data, units, calendar, self.use_cftime)\n"
     ]
    },
    {
     "name": "stdout",
     "output_type": "stream",
     "text": [
      "/glade/u/home/jonahshaw/w/trend_uncertainty/nathan/CMIP6_PIC//ESM2M//tas_Amon_GFDL-ESM2M_piControl_r1i1p1_034101-034512.nc\n",
      "Using \"lat\" and \"lon\" supplied as input\n"
     ]
    },
    {
     "name": "stderr",
     "output_type": "stream",
     "text": [
      "/glade/work/jonahshaw/miniconda3/envs/cheydask/lib/python3.7/site-packages/xarray/coding/times.py:427: SerializationWarning: Unable to decode time axis into full numpy.datetime64 objects, continuing using cftime.datetime objects instead, reason: dates out of range\n",
      "  dtype = _decode_cf_datetime_dtype(data, units, calendar, self.use_cftime)\n"
     ]
    },
    {
     "name": "stdout",
     "output_type": "stream",
     "text": [
      "/glade/u/home/jonahshaw/w/trend_uncertainty/nathan/CMIP6_PIC//ESM2M//tas_Amon_GFDL-ESM2M_piControl_r1i1p1_034601-035012.nc\n",
      "Using \"lat\" and \"lon\" supplied as input\n"
     ]
    },
    {
     "name": "stderr",
     "output_type": "stream",
     "text": [
      "/glade/work/jonahshaw/miniconda3/envs/cheydask/lib/python3.7/site-packages/xarray/coding/times.py:427: SerializationWarning: Unable to decode time axis into full numpy.datetime64 objects, continuing using cftime.datetime objects instead, reason: dates out of range\n",
      "  dtype = _decode_cf_datetime_dtype(data, units, calendar, self.use_cftime)\n"
     ]
    },
    {
     "name": "stdout",
     "output_type": "stream",
     "text": [
      "/glade/u/home/jonahshaw/w/trend_uncertainty/nathan/CMIP6_PIC//ESM2M//tas_Amon_GFDL-ESM2M_piControl_r1i1p1_035101-035512.nc\n",
      "Using \"lat\" and \"lon\" supplied as input\n"
     ]
    },
    {
     "name": "stderr",
     "output_type": "stream",
     "text": [
      "/glade/work/jonahshaw/miniconda3/envs/cheydask/lib/python3.7/site-packages/xarray/coding/times.py:427: SerializationWarning: Unable to decode time axis into full numpy.datetime64 objects, continuing using cftime.datetime objects instead, reason: dates out of range\n",
      "  dtype = _decode_cf_datetime_dtype(data, units, calendar, self.use_cftime)\n"
     ]
    },
    {
     "name": "stdout",
     "output_type": "stream",
     "text": [
      "/glade/u/home/jonahshaw/w/trend_uncertainty/nathan/CMIP6_PIC//ESM2M//tas_Amon_GFDL-ESM2M_piControl_r1i1p1_035601-036012.nc\n",
      "Using \"lat\" and \"lon\" supplied as input\n"
     ]
    },
    {
     "name": "stderr",
     "output_type": "stream",
     "text": [
      "/glade/work/jonahshaw/miniconda3/envs/cheydask/lib/python3.7/site-packages/xarray/coding/times.py:427: SerializationWarning: Unable to decode time axis into full numpy.datetime64 objects, continuing using cftime.datetime objects instead, reason: dates out of range\n",
      "  dtype = _decode_cf_datetime_dtype(data, units, calendar, self.use_cftime)\n"
     ]
    },
    {
     "name": "stdout",
     "output_type": "stream",
     "text": [
      "/glade/u/home/jonahshaw/w/trend_uncertainty/nathan/CMIP6_PIC//ESM2M//tas_Amon_GFDL-ESM2M_piControl_r1i1p1_036101-036512.nc\n",
      "Using \"lat\" and \"lon\" supplied as input\n"
     ]
    },
    {
     "name": "stderr",
     "output_type": "stream",
     "text": [
      "/glade/work/jonahshaw/miniconda3/envs/cheydask/lib/python3.7/site-packages/xarray/coding/times.py:427: SerializationWarning: Unable to decode time axis into full numpy.datetime64 objects, continuing using cftime.datetime objects instead, reason: dates out of range\n",
      "  dtype = _decode_cf_datetime_dtype(data, units, calendar, self.use_cftime)\n"
     ]
    },
    {
     "name": "stdout",
     "output_type": "stream",
     "text": [
      "/glade/u/home/jonahshaw/w/trend_uncertainty/nathan/CMIP6_PIC//ESM2M//tas_Amon_GFDL-ESM2M_piControl_r1i1p1_036601-037012.nc\n",
      "Using \"lat\" and \"lon\" supplied as input\n"
     ]
    },
    {
     "name": "stderr",
     "output_type": "stream",
     "text": [
      "/glade/work/jonahshaw/miniconda3/envs/cheydask/lib/python3.7/site-packages/xarray/coding/times.py:427: SerializationWarning: Unable to decode time axis into full numpy.datetime64 objects, continuing using cftime.datetime objects instead, reason: dates out of range\n",
      "  dtype = _decode_cf_datetime_dtype(data, units, calendar, self.use_cftime)\n"
     ]
    },
    {
     "name": "stdout",
     "output_type": "stream",
     "text": [
      "/glade/u/home/jonahshaw/w/trend_uncertainty/nathan/CMIP6_PIC//ESM2M//tas_Amon_GFDL-ESM2M_piControl_r1i1p1_037101-037512.nc\n",
      "Using \"lat\" and \"lon\" supplied as input\n"
     ]
    },
    {
     "name": "stderr",
     "output_type": "stream",
     "text": [
      "/glade/work/jonahshaw/miniconda3/envs/cheydask/lib/python3.7/site-packages/xarray/coding/times.py:427: SerializationWarning: Unable to decode time axis into full numpy.datetime64 objects, continuing using cftime.datetime objects instead, reason: dates out of range\n",
      "  dtype = _decode_cf_datetime_dtype(data, units, calendar, self.use_cftime)\n"
     ]
    },
    {
     "name": "stdout",
     "output_type": "stream",
     "text": [
      "/glade/u/home/jonahshaw/w/trend_uncertainty/nathan/CMIP6_PIC//ESM2M//tas_Amon_GFDL-ESM2M_piControl_r1i1p1_037601-038012.nc\n",
      "Using \"lat\" and \"lon\" supplied as input\n"
     ]
    },
    {
     "name": "stderr",
     "output_type": "stream",
     "text": [
      "/glade/work/jonahshaw/miniconda3/envs/cheydask/lib/python3.7/site-packages/xarray/coding/times.py:427: SerializationWarning: Unable to decode time axis into full numpy.datetime64 objects, continuing using cftime.datetime objects instead, reason: dates out of range\n",
      "  dtype = _decode_cf_datetime_dtype(data, units, calendar, self.use_cftime)\n"
     ]
    },
    {
     "name": "stdout",
     "output_type": "stream",
     "text": [
      "/glade/u/home/jonahshaw/w/trend_uncertainty/nathan/CMIP6_PIC//ESM2M//tas_Amon_GFDL-ESM2M_piControl_r1i1p1_038101-038512.nc\n",
      "Using \"lat\" and \"lon\" supplied as input\n"
     ]
    },
    {
     "name": "stderr",
     "output_type": "stream",
     "text": [
      "/glade/work/jonahshaw/miniconda3/envs/cheydask/lib/python3.7/site-packages/xarray/coding/times.py:427: SerializationWarning: Unable to decode time axis into full numpy.datetime64 objects, continuing using cftime.datetime objects instead, reason: dates out of range\n",
      "  dtype = _decode_cf_datetime_dtype(data, units, calendar, self.use_cftime)\n"
     ]
    },
    {
     "name": "stdout",
     "output_type": "stream",
     "text": [
      "/glade/u/home/jonahshaw/w/trend_uncertainty/nathan/CMIP6_PIC//ESM2M//tas_Amon_GFDL-ESM2M_piControl_r1i1p1_038601-039012.nc\n",
      "Using \"lat\" and \"lon\" supplied as input\n"
     ]
    },
    {
     "name": "stderr",
     "output_type": "stream",
     "text": [
      "/glade/work/jonahshaw/miniconda3/envs/cheydask/lib/python3.7/site-packages/xarray/coding/times.py:427: SerializationWarning: Unable to decode time axis into full numpy.datetime64 objects, continuing using cftime.datetime objects instead, reason: dates out of range\n",
      "  dtype = _decode_cf_datetime_dtype(data, units, calendar, self.use_cftime)\n"
     ]
    },
    {
     "name": "stdout",
     "output_type": "stream",
     "text": [
      "/glade/u/home/jonahshaw/w/trend_uncertainty/nathan/CMIP6_PIC//ESM2M//tas_Amon_GFDL-ESM2M_piControl_r1i1p1_039101-039512.nc\n",
      "Using \"lat\" and \"lon\" supplied as input\n"
     ]
    },
    {
     "name": "stderr",
     "output_type": "stream",
     "text": [
      "/glade/work/jonahshaw/miniconda3/envs/cheydask/lib/python3.7/site-packages/xarray/coding/times.py:427: SerializationWarning: Unable to decode time axis into full numpy.datetime64 objects, continuing using cftime.datetime objects instead, reason: dates out of range\n",
      "  dtype = _decode_cf_datetime_dtype(data, units, calendar, self.use_cftime)\n"
     ]
    },
    {
     "name": "stdout",
     "output_type": "stream",
     "text": [
      "/glade/u/home/jonahshaw/w/trend_uncertainty/nathan/CMIP6_PIC//ESM2M//tas_Amon_GFDL-ESM2M_piControl_r1i1p1_039601-040012.nc\n",
      "Using \"lat\" and \"lon\" supplied as input\n"
     ]
    },
    {
     "name": "stderr",
     "output_type": "stream",
     "text": [
      "/glade/work/jonahshaw/miniconda3/envs/cheydask/lib/python3.7/site-packages/xarray/coding/times.py:427: SerializationWarning: Unable to decode time axis into full numpy.datetime64 objects, continuing using cftime.datetime objects instead, reason: dates out of range\n",
      "  dtype = _decode_cf_datetime_dtype(data, units, calendar, self.use_cftime)\n"
     ]
    },
    {
     "name": "stdout",
     "output_type": "stream",
     "text": [
      "/glade/u/home/jonahshaw/w/trend_uncertainty/nathan/CMIP6_PIC//ESM2M//tas_Amon_GFDL-ESM2M_piControl_r1i1p1_040101-040512.nc\n",
      "Using \"lat\" and \"lon\" supplied as input\n"
     ]
    },
    {
     "name": "stderr",
     "output_type": "stream",
     "text": [
      "/glade/work/jonahshaw/miniconda3/envs/cheydask/lib/python3.7/site-packages/xarray/coding/times.py:427: SerializationWarning: Unable to decode time axis into full numpy.datetime64 objects, continuing using cftime.datetime objects instead, reason: dates out of range\n",
      "  dtype = _decode_cf_datetime_dtype(data, units, calendar, self.use_cftime)\n"
     ]
    },
    {
     "name": "stdout",
     "output_type": "stream",
     "text": [
      "/glade/u/home/jonahshaw/w/trend_uncertainty/nathan/CMIP6_PIC//ESM2M//tas_Amon_GFDL-ESM2M_piControl_r1i1p1_040601-041012.nc\n",
      "Using \"lat\" and \"lon\" supplied as input\n"
     ]
    },
    {
     "name": "stderr",
     "output_type": "stream",
     "text": [
      "/glade/work/jonahshaw/miniconda3/envs/cheydask/lib/python3.7/site-packages/xarray/coding/times.py:427: SerializationWarning: Unable to decode time axis into full numpy.datetime64 objects, continuing using cftime.datetime objects instead, reason: dates out of range\n",
      "  dtype = _decode_cf_datetime_dtype(data, units, calendar, self.use_cftime)\n"
     ]
    },
    {
     "name": "stdout",
     "output_type": "stream",
     "text": [
      "/glade/u/home/jonahshaw/w/trend_uncertainty/nathan/CMIP6_PIC//ESM2M//tas_Amon_GFDL-ESM2M_piControl_r1i1p1_041101-041512.nc\n",
      "Using \"lat\" and \"lon\" supplied as input\n"
     ]
    },
    {
     "name": "stderr",
     "output_type": "stream",
     "text": [
      "/glade/work/jonahshaw/miniconda3/envs/cheydask/lib/python3.7/site-packages/xarray/coding/times.py:427: SerializationWarning: Unable to decode time axis into full numpy.datetime64 objects, continuing using cftime.datetime objects instead, reason: dates out of range\n",
      "  dtype = _decode_cf_datetime_dtype(data, units, calendar, self.use_cftime)\n"
     ]
    },
    {
     "name": "stdout",
     "output_type": "stream",
     "text": [
      "/glade/u/home/jonahshaw/w/trend_uncertainty/nathan/CMIP6_PIC//ESM2M//tas_Amon_GFDL-ESM2M_piControl_r1i1p1_041601-042012.nc\n",
      "Using \"lat\" and \"lon\" supplied as input\n"
     ]
    },
    {
     "name": "stderr",
     "output_type": "stream",
     "text": [
      "/glade/work/jonahshaw/miniconda3/envs/cheydask/lib/python3.7/site-packages/xarray/coding/times.py:427: SerializationWarning: Unable to decode time axis into full numpy.datetime64 objects, continuing using cftime.datetime objects instead, reason: dates out of range\n",
      "  dtype = _decode_cf_datetime_dtype(data, units, calendar, self.use_cftime)\n"
     ]
    },
    {
     "name": "stdout",
     "output_type": "stream",
     "text": [
      "/glade/u/home/jonahshaw/w/trend_uncertainty/nathan/CMIP6_PIC//ESM2M//tas_Amon_GFDL-ESM2M_piControl_r1i1p1_042101-042512.nc\n",
      "Using \"lat\" and \"lon\" supplied as input\n"
     ]
    },
    {
     "name": "stderr",
     "output_type": "stream",
     "text": [
      "/glade/work/jonahshaw/miniconda3/envs/cheydask/lib/python3.7/site-packages/xarray/coding/times.py:427: SerializationWarning: Unable to decode time axis into full numpy.datetime64 objects, continuing using cftime.datetime objects instead, reason: dates out of range\n",
      "  dtype = _decode_cf_datetime_dtype(data, units, calendar, self.use_cftime)\n"
     ]
    },
    {
     "name": "stdout",
     "output_type": "stream",
     "text": [
      "/glade/u/home/jonahshaw/w/trend_uncertainty/nathan/CMIP6_PIC//ESM2M//tas_Amon_GFDL-ESM2M_piControl_r1i1p1_042601-043012.nc\n",
      "Using \"lat\" and \"lon\" supplied as input\n"
     ]
    },
    {
     "name": "stderr",
     "output_type": "stream",
     "text": [
      "/glade/work/jonahshaw/miniconda3/envs/cheydask/lib/python3.7/site-packages/xarray/coding/times.py:427: SerializationWarning: Unable to decode time axis into full numpy.datetime64 objects, continuing using cftime.datetime objects instead, reason: dates out of range\n",
      "  dtype = _decode_cf_datetime_dtype(data, units, calendar, self.use_cftime)\n"
     ]
    },
    {
     "name": "stdout",
     "output_type": "stream",
     "text": [
      "/glade/u/home/jonahshaw/w/trend_uncertainty/nathan/CMIP6_PIC//ESM2M//tas_Amon_GFDL-ESM2M_piControl_r1i1p1_043101-043512.nc\n",
      "Using \"lat\" and \"lon\" supplied as input\n"
     ]
    },
    {
     "name": "stderr",
     "output_type": "stream",
     "text": [
      "/glade/work/jonahshaw/miniconda3/envs/cheydask/lib/python3.7/site-packages/xarray/coding/times.py:427: SerializationWarning: Unable to decode time axis into full numpy.datetime64 objects, continuing using cftime.datetime objects instead, reason: dates out of range\n",
      "  dtype = _decode_cf_datetime_dtype(data, units, calendar, self.use_cftime)\n"
     ]
    },
    {
     "name": "stdout",
     "output_type": "stream",
     "text": [
      "/glade/u/home/jonahshaw/w/trend_uncertainty/nathan/CMIP6_PIC//ESM2M//tas_Amon_GFDL-ESM2M_piControl_r1i1p1_043601-044012.nc\n",
      "Using \"lat\" and \"lon\" supplied as input\n"
     ]
    },
    {
     "name": "stderr",
     "output_type": "stream",
     "text": [
      "/glade/work/jonahshaw/miniconda3/envs/cheydask/lib/python3.7/site-packages/xarray/coding/times.py:427: SerializationWarning: Unable to decode time axis into full numpy.datetime64 objects, continuing using cftime.datetime objects instead, reason: dates out of range\n",
      "  dtype = _decode_cf_datetime_dtype(data, units, calendar, self.use_cftime)\n"
     ]
    },
    {
     "name": "stdout",
     "output_type": "stream",
     "text": [
      "/glade/u/home/jonahshaw/w/trend_uncertainty/nathan/CMIP6_PIC//ESM2M//tas_Amon_GFDL-ESM2M_piControl_r1i1p1_044101-044512.nc\n",
      "Using \"lat\" and \"lon\" supplied as input\n"
     ]
    },
    {
     "name": "stderr",
     "output_type": "stream",
     "text": [
      "/glade/work/jonahshaw/miniconda3/envs/cheydask/lib/python3.7/site-packages/xarray/coding/times.py:427: SerializationWarning: Unable to decode time axis into full numpy.datetime64 objects, continuing using cftime.datetime objects instead, reason: dates out of range\n",
      "  dtype = _decode_cf_datetime_dtype(data, units, calendar, self.use_cftime)\n"
     ]
    },
    {
     "name": "stdout",
     "output_type": "stream",
     "text": [
      "/glade/u/home/jonahshaw/w/trend_uncertainty/nathan/CMIP6_PIC//ESM2M//tas_Amon_GFDL-ESM2M_piControl_r1i1p1_044601-045012.nc\n",
      "Using \"lat\" and \"lon\" supplied as input\n"
     ]
    },
    {
     "name": "stderr",
     "output_type": "stream",
     "text": [
      "/glade/work/jonahshaw/miniconda3/envs/cheydask/lib/python3.7/site-packages/xarray/coding/times.py:427: SerializationWarning: Unable to decode time axis into full numpy.datetime64 objects, continuing using cftime.datetime objects instead, reason: dates out of range\n",
      "  dtype = _decode_cf_datetime_dtype(data, units, calendar, self.use_cftime)\n"
     ]
    },
    {
     "name": "stdout",
     "output_type": "stream",
     "text": [
      "/glade/u/home/jonahshaw/w/trend_uncertainty/nathan/CMIP6_PIC//ESM2M//tas_Amon_GFDL-ESM2M_piControl_r1i1p1_045101-045512.nc\n",
      "Using \"lat\" and \"lon\" supplied as input\n"
     ]
    },
    {
     "name": "stderr",
     "output_type": "stream",
     "text": [
      "/glade/work/jonahshaw/miniconda3/envs/cheydask/lib/python3.7/site-packages/xarray/coding/times.py:427: SerializationWarning: Unable to decode time axis into full numpy.datetime64 objects, continuing using cftime.datetime objects instead, reason: dates out of range\n",
      "  dtype = _decode_cf_datetime_dtype(data, units, calendar, self.use_cftime)\n"
     ]
    },
    {
     "name": "stdout",
     "output_type": "stream",
     "text": [
      "/glade/u/home/jonahshaw/w/trend_uncertainty/nathan/CMIP6_PIC//ESM2M//tas_Amon_GFDL-ESM2M_piControl_r1i1p1_045601-046012.nc\n",
      "Using \"lat\" and \"lon\" supplied as input\n"
     ]
    },
    {
     "name": "stderr",
     "output_type": "stream",
     "text": [
      "/glade/work/jonahshaw/miniconda3/envs/cheydask/lib/python3.7/site-packages/xarray/coding/times.py:427: SerializationWarning: Unable to decode time axis into full numpy.datetime64 objects, continuing using cftime.datetime objects instead, reason: dates out of range\n",
      "  dtype = _decode_cf_datetime_dtype(data, units, calendar, self.use_cftime)\n"
     ]
    },
    {
     "name": "stdout",
     "output_type": "stream",
     "text": [
      "/glade/u/home/jonahshaw/w/trend_uncertainty/nathan/CMIP6_PIC//ESM2M//tas_Amon_GFDL-ESM2M_piControl_r1i1p1_046101-046512.nc\n",
      "Using \"lat\" and \"lon\" supplied as input\n"
     ]
    },
    {
     "name": "stderr",
     "output_type": "stream",
     "text": [
      "/glade/work/jonahshaw/miniconda3/envs/cheydask/lib/python3.7/site-packages/xarray/coding/times.py:427: SerializationWarning: Unable to decode time axis into full numpy.datetime64 objects, continuing using cftime.datetime objects instead, reason: dates out of range\n",
      "  dtype = _decode_cf_datetime_dtype(data, units, calendar, self.use_cftime)\n"
     ]
    },
    {
     "name": "stdout",
     "output_type": "stream",
     "text": [
      "/glade/u/home/jonahshaw/w/trend_uncertainty/nathan/CMIP6_PIC//ESM2M//tas_Amon_GFDL-ESM2M_piControl_r1i1p1_046601-047012.nc\n",
      "Using \"lat\" and \"lon\" supplied as input\n"
     ]
    },
    {
     "name": "stderr",
     "output_type": "stream",
     "text": [
      "/glade/work/jonahshaw/miniconda3/envs/cheydask/lib/python3.7/site-packages/xarray/coding/times.py:427: SerializationWarning: Unable to decode time axis into full numpy.datetime64 objects, continuing using cftime.datetime objects instead, reason: dates out of range\n",
      "  dtype = _decode_cf_datetime_dtype(data, units, calendar, self.use_cftime)\n"
     ]
    },
    {
     "name": "stdout",
     "output_type": "stream",
     "text": [
      "/glade/u/home/jonahshaw/w/trend_uncertainty/nathan/CMIP6_PIC//ESM2M//tas_Amon_GFDL-ESM2M_piControl_r1i1p1_047101-047512.nc\n",
      "Using \"lat\" and \"lon\" supplied as input\n"
     ]
    },
    {
     "name": "stderr",
     "output_type": "stream",
     "text": [
      "/glade/work/jonahshaw/miniconda3/envs/cheydask/lib/python3.7/site-packages/xarray/coding/times.py:427: SerializationWarning: Unable to decode time axis into full numpy.datetime64 objects, continuing using cftime.datetime objects instead, reason: dates out of range\n",
      "  dtype = _decode_cf_datetime_dtype(data, units, calendar, self.use_cftime)\n"
     ]
    },
    {
     "name": "stdout",
     "output_type": "stream",
     "text": [
      "/glade/u/home/jonahshaw/w/trend_uncertainty/nathan/CMIP6_PIC//ESM2M//tas_Amon_GFDL-ESM2M_piControl_r1i1p1_047601-048012.nc\n",
      "Using \"lat\" and \"lon\" supplied as input\n"
     ]
    },
    {
     "name": "stderr",
     "output_type": "stream",
     "text": [
      "/glade/work/jonahshaw/miniconda3/envs/cheydask/lib/python3.7/site-packages/xarray/coding/times.py:427: SerializationWarning: Unable to decode time axis into full numpy.datetime64 objects, continuing using cftime.datetime objects instead, reason: dates out of range\n",
      "  dtype = _decode_cf_datetime_dtype(data, units, calendar, self.use_cftime)\n"
     ]
    },
    {
     "name": "stdout",
     "output_type": "stream",
     "text": [
      "/glade/u/home/jonahshaw/w/trend_uncertainty/nathan/CMIP6_PIC//ESM2M//tas_Amon_GFDL-ESM2M_piControl_r1i1p1_048101-048512.nc\n",
      "Using \"lat\" and \"lon\" supplied as input\n"
     ]
    },
    {
     "name": "stderr",
     "output_type": "stream",
     "text": [
      "/glade/work/jonahshaw/miniconda3/envs/cheydask/lib/python3.7/site-packages/xarray/coding/times.py:427: SerializationWarning: Unable to decode time axis into full numpy.datetime64 objects, continuing using cftime.datetime objects instead, reason: dates out of range\n",
      "  dtype = _decode_cf_datetime_dtype(data, units, calendar, self.use_cftime)\n"
     ]
    },
    {
     "name": "stdout",
     "output_type": "stream",
     "text": [
      "/glade/u/home/jonahshaw/w/trend_uncertainty/nathan/CMIP6_PIC//ESM2M//tas_Amon_GFDL-ESM2M_piControl_r1i1p1_048601-049012.nc\n",
      "Using \"lat\" and \"lon\" supplied as input\n"
     ]
    },
    {
     "name": "stderr",
     "output_type": "stream",
     "text": [
      "/glade/work/jonahshaw/miniconda3/envs/cheydask/lib/python3.7/site-packages/xarray/coding/times.py:427: SerializationWarning: Unable to decode time axis into full numpy.datetime64 objects, continuing using cftime.datetime objects instead, reason: dates out of range\n",
      "  dtype = _decode_cf_datetime_dtype(data, units, calendar, self.use_cftime)\n"
     ]
    },
    {
     "name": "stdout",
     "output_type": "stream",
     "text": [
      "/glade/u/home/jonahshaw/w/trend_uncertainty/nathan/CMIP6_PIC//ESM2M//tas_Amon_GFDL-ESM2M_piControl_r1i1p1_049101-049512.nc\n",
      "Using \"lat\" and \"lon\" supplied as input\n"
     ]
    },
    {
     "name": "stderr",
     "output_type": "stream",
     "text": [
      "/glade/work/jonahshaw/miniconda3/envs/cheydask/lib/python3.7/site-packages/xarray/coding/times.py:427: SerializationWarning: Unable to decode time axis into full numpy.datetime64 objects, continuing using cftime.datetime objects instead, reason: dates out of range\n",
      "  dtype = _decode_cf_datetime_dtype(data, units, calendar, self.use_cftime)\n"
     ]
    },
    {
     "name": "stdout",
     "output_type": "stream",
     "text": [
      "/glade/u/home/jonahshaw/w/trend_uncertainty/nathan/CMIP6_PIC//ESM2M//tas_Amon_GFDL-ESM2M_piControl_r1i1p1_049601-050012.nc\n"
     ]
    }
   ],
   "source": [
    "model_subdir = 'ESM2M/'\n",
    "\n",
    "# Variable to select and operate over.\n",
    "_ds_var = 'tas'\n",
    "\n",
    "esm2m_lons = np.linspace(1.25,358.75,144)\n",
    "esm2m_lats = np.linspace(-89.494,89.494,90)\n",
    "\n",
    "for _ds_filepath in esm2m_pic_path_dict['tas']:\n",
    "    \n",
    "    _regional_tseries_delayed = create_ipccregion_timeseries(_ds_filepath=_ds_filepath,\n",
    "                                                             _ds_var=_ds_var,\n",
    "                                                             regions=regionmask.defined_regions.ar6.all,\n",
    "                                                             lon=esm2m_lons,\n",
    "                                                             lat=esm2m_lats,\n",
    "                                                            )\n",
    "    _regional_tseries = _regional_tseries_delayed.compute()    \n",
    "    _regional_tseries = _regional_tseries.drop('height')\n",
    "        \n",
    "    filename = _ds_filepath.split('/')[-1]\n",
    "    \n",
    "    _outfilepath = '%s/%s/%s' % (save_dir,model_subdir,filename)\n",
    "    \n",
    "    _regional_tseries.to_netcdf(path=_outfilepath)\n",
    "    \n",
    "    print(_outfilepath)\n",
    "    \n",
    "    del _regional_tseries_delayed,_regional_tseries"
   ]
  },
  {
   "cell_type": "code",
   "execution_count": 30,
   "id": "dcd452d0-f16f-4f1a-b7ae-78452a7b90b1",
   "metadata": {},
   "outputs": [],
   "source": [
    "esm2m_avgs = _regional_tseries.mean(dim='time')"
   ]
  },
  {
   "cell_type": "markdown",
   "id": "a85bfdd8-35ab-4d40-b552-cfd513d5d644",
   "metadata": {},
   "source": [
    "#### Check for model agreement"
   ]
  },
  {
   "cell_type": "markdown",
   "id": "99c5023d-d2b8-4374-8364-864f17d3f2da",
   "metadata": {},
   "source": [
    "There is excellent agreement, though most of the variance by region is due to latitudes. Still heartening to see."
   ]
  },
  {
   "cell_type": "code",
   "execution_count": 31,
   "id": "9083f53f-c2e8-4368-9b29-d8c9d8f89525",
   "metadata": {},
   "outputs": [
    {
     "data": {
      "text/plain": [
       "<matplotlib.legend.Legend at 0x2aafb28490d0>"
      ]
     },
     "execution_count": 31,
     "metadata": {},
     "output_type": "execute_result"
    },
    {
     "data": {
      "image/png": "[encoded data removed]",
      "text/plain": [
       "<Figure size 432x288 with 1 Axes>"
      ]
     },
     "metadata": {
      "needs_background": "light"
     },
     "output_type": "display_data"
    }
   ],
   "source": [
    "cesm1_avgs.plot(label='CESM1-LE')\n",
    "mpi_avgs.plot(label='MPI')\n",
    "canesm2_avgs.plot(label='CanESM2')\n",
    "esm2m_avgs.plot(label='GFDL-ESM2M')\n",
    "\n",
    "plt.legend()"
   ]
  },
  {
   "cell_type": "code",
   "execution_count": null,
   "id": "1605b302-bfde-4cd7-ac1a-a0d9ba847ca8",
   "metadata": {},
   "outputs": [],
   "source": []
  },
  {
   "cell_type": "markdown",
   "id": "6ef83182-badc-408c-93e3-82c75927be0d",
   "metadata": {},
   "source": [
    "#### Check that files can be loaded and concatenated."
   ]
  },
  {
   "cell_type": "code",
   "execution_count": 56,
   "id": "fd024b43-d282-45f5-b3f7-680e4cd42645",
   "metadata": {},
   "outputs": [],
   "source": [
    "cesm1_pic_tseries_paths = glob.glob('%s/%s/*.nc' % (save_dir,model_subdir))\n",
    "cesm1_pic_tseries_paths.sort()"
   ]
  },
  {
   "cell_type": "code",
   "execution_count": 57,
   "id": "d8ae109d-6b9f-4119-8345-0dd16e3265a2",
   "metadata": {},
   "outputs": [],
   "source": [
    "cesm1_pic_all_tseries = xr.open_mfdataset(cesm1_pic_tseries_paths,chunks={'time':-1})"
   ]
  },
  {
   "cell_type": "code",
   "execution_count": 35,
   "id": "6d31e845-ff25-4563-85fa-603ca8f36b81",
   "metadata": {},
   "outputs": [
    {
     "data": {
      "text/html": [
       "<div><svg style=\"position: absolute; width: 0; height: 0; overflow: hidden\">\n",
       "<defs>\n",
       "<symbol id=\"icon-database\" viewBox=\"0 0 32 32\">\n",
       "<path d=\"M16 0c-8.837 0-16 2.239-16 5v4c0 2.761 7.163 5 16 5s16-2.239 16-5v-4c0-2.761-7.163-5-16-5z\"></path>\n",
       "<path d=\"M16 17c-8.837 0-16-2.239-16-5v6c0 2.761 7.163 5 16 5s16-2.239 16-5v-6c0 2.761-7.163 5-16 5z\"></path>\n",
       "<path d=\"M16 26c-8.837 0-16-2.239-16-5v6c0 2.761 7.163 5 16 5s16-2.239 16-5v-6c0 2.761-7.163 5-16 5z\"></path>\n",
       "</symbol>\n",
       "<symbol id=\"icon-file-text2\" viewBox=\"0 0 32 32\">\n",
       "<path d=\"M28.681 7.159c-0.694-0.947-1.662-2.053-2.724-3.116s-2.169-2.030-3.116-2.724c-1.612-1.182-2.393-1.319-2.841-1.319h-15.5c-1.378 0-2.5 1.121-2.5 2.5v27c0 1.378 1.122 2.5 2.5 2.5h23c1.378 0 2.5-1.122 2.5-2.5v-19.5c0-0.448-0.137-1.23-1.319-2.841zM24.543 5.457c0.959 0.959 1.712 1.825 2.268 2.543h-4.811v-4.811c0.718 0.556 1.584 1.309 2.543 2.268zM28 29.5c0 0.271-0.229 0.5-0.5 0.5h-23c-0.271 0-0.5-0.229-0.5-0.5v-27c0-0.271 0.229-0.5 0.5-0.5 0 0 15.499-0 15.5 0v7c0 0.552 0.448 1 1 1h7v19.5z\"></path>\n",
       "<path d=\"M23 26h-14c-0.552 0-1-0.448-1-1s0.448-1 1-1h14c0.552 0 1 0.448 1 1s-0.448 1-1 1z\"></path>\n",
       "<path d=\"M23 22h-14c-0.552 0-1-0.448-1-1s0.448-1 1-1h14c0.552 0 1 0.448 1 1s-0.448 1-1 1z\"></path>\n",
       "<path d=\"M23 18h-14c-0.552 0-1-0.448-1-1s0.448-1 1-1h14c0.552 0 1 0.448 1 1s-0.448 1-1 1z\"></path>\n",
       "</symbol>\n",
       "</defs>\n",
       "</svg>\n",
       "<style>/* CSS stylesheet for displaying xarray objects in jupyterlab.\n",
       " *\n",
       " */\n",
       "\n",
       ":root {\n",
       "  --xr-font-color0: var(--jp-content-font-color0, rgba(0, 0, 0, 1));\n",
       "  --xr-font-color2: var(--jp-content-font-color2, rgba(0, 0, 0, 0.54));\n",
       "  --xr-font-color3: var(--jp-content-font-color3, rgba(0, 0, 0, 0.38));\n",
       "  --xr-border-color: var(--jp-border-color2, #e0e0e0);\n",
       "  --xr-disabled-color: var(--jp-layout-color3, #bdbdbd);\n",
       "  --xr-background-color: var(--jp-layout-color0, white);\n",
       "  --xr-background-color-row-even: var(--jp-layout-color1, white);\n",
       "  --xr-background-color-row-odd: var(--jp-layout-color2, #eeeeee);\n",
       "}\n",
       "\n",
       "html[theme=dark],\n",
       "body.vscode-dark {\n",
       "  --xr-font-color0: rgba(255, 255, 255, 1);\n",
       "  --xr-font-color2: rgba(255, 255, 255, 0.54);\n",
       "  --xr-font-color3: rgba(255, 255, 255, 0.38);\n",
       "  --xr-border-color: #1F1F1F;\n",
       "  --xr-disabled-color: #515151;\n",
       "  --xr-background-color: #111111;\n",
       "  --xr-background-color-row-even: #111111;\n",
       "  --xr-background-color-row-odd: #313131;\n",
       "}\n",
       "\n",
       ".xr-wrap {\n",
       "  display: block;\n",
       "  min-width: 300px;\n",
       "  max-width: 700px;\n",
       "}\n",
       "\n",
       ".xr-text-repr-fallback {\n",
       "  /* fallback to plain text repr when CSS is not injected (untrusted notebook) */\n",
       "  display: none;\n",
       "}\n",
       "\n",
       ".xr-header {\n",
       "  padding-top: 6px;\n",
       "  padding-bottom: 6px;\n",
       "  margin-bottom: 4px;\n",
       "  border-bottom: solid 1px var(--xr-border-color);\n",
       "}\n",
       "\n",
       ".xr-header > div,\n",
       ".xr-header > ul {\n",
       "  display: inline;\n",
       "  margin-top: 0;\n",
       "  margin-bottom: 0;\n",
       "}\n",
       "\n",
       ".xr-obj-type,\n",
       ".xr-array-name {\n",
       "  margin-left: 2px;\n",
       "  margin-right: 10px;\n",
       "}\n",
       "\n",
       ".xr-obj-type {\n",
       "  color: var(--xr-font-color2);\n",
       "}\n",
       "\n",
       ".xr-sections {\n",
       "  padding-left: 0 !important;\n",
       "  display: grid;\n",
       "  grid-template-columns: 150px auto auto 1fr 20px 20px;\n",
       "}\n",
       "\n",
       ".xr-section-item {\n",
       "  display: contents;\n",
       "}\n",
       "\n",
       ".xr-section-item input {\n",
       "  display: none;\n",
       "}\n",
       "\n",
       ".xr-section-item input + label {\n",
       "  color: var(--xr-disabled-color);\n",
       "}\n",
       "\n",
       ".xr-section-item input:enabled + label {\n",
       "  cursor: pointer;\n",
       "  color: var(--xr-font-color2);\n",
       "}\n",
       "\n",
       ".xr-section-item input:enabled + label:hover {\n",
       "  color: var(--xr-font-color0);\n",
       "}\n",
       "\n",
       ".xr-section-summary {\n",
       "  grid-column: 1;\n",
       "  color: var(--xr-font-color2);\n",
       "  font-weight: 500;\n",
       "}\n",
       "\n",
       ".xr-section-summary > span {\n",
       "  display: inline-block;\n",
       "  padding-left: 0.5em;\n",
       "}\n",
       "\n",
       ".xr-section-summary-in:disabled + label {\n",
       "  color: var(--xr-font-color2);\n",
       "}\n",
       "\n",
       ".xr-section-summary-in + label:before {\n",
       "  display: inline-block;\n",
       "  content: '►';\n",
       "  font-size: 11px;\n",
       "  width: 15px;\n",
       "  text-align: center;\n",
       "}\n",
       "\n",
       ".xr-section-summary-in:disabled + label:before {\n",
       "  color: var(--xr-disabled-color);\n",
       "}\n",
       "\n",
       ".xr-section-summary-in:checked + label:before {\n",
       "  content: '▼';\n",
       "}\n",
       "\n",
       ".xr-section-summary-in:checked + label > span {\n",
       "  display: none;\n",
       "}\n",
       "\n",
       ".xr-section-summary,\n",
       ".xr-section-inline-details {\n",
       "  padding-top: 4px;\n",
       "  padding-bottom: 4px;\n",
       "}\n",
       "\n",
       ".xr-section-inline-details {\n",
       "  grid-column: 2 / -1;\n",
       "}\n",
       "\n",
       ".xr-section-details {\n",
       "  display: none;\n",
       "  grid-column: 1 / -1;\n",
       "  margin-bottom: 5px;\n",
       "}\n",
       "\n",
       ".xr-section-summary-in:checked ~ .xr-section-details {\n",
       "  display: contents;\n",
       "}\n",
       "\n",
       ".xr-array-wrap {\n",
       "  grid-column: 1 / -1;\n",
       "  display: grid;\n",
       "  grid-template-columns: 20px auto;\n",
       "}\n",
       "\n",
       ".xr-array-wrap > label {\n",
       "  grid-column: 1;\n",
       "  vertical-align: top;\n",
       "}\n",
       "\n",
       ".xr-preview {\n",
       "  color: var(--xr-font-color3);\n",
       "}\n",
       "\n",
       ".xr-array-preview,\n",
       ".xr-array-data {\n",
       "  padding: 0 5px !important;\n",
       "  grid-column: 2;\n",
       "}\n",
       "\n",
       ".xr-array-data,\n",
       ".xr-array-in:checked ~ .xr-array-preview {\n",
       "  display: none;\n",
       "}\n",
       "\n",
       ".xr-array-in:checked ~ .xr-array-data,\n",
       ".xr-array-preview {\n",
       "  display: inline-block;\n",
       "}\n",
       "\n",
       ".xr-dim-list {\n",
       "  display: inline-block !important;\n",
       "  list-style: none;\n",
       "  padding: 0 !important;\n",
       "  margin: 0;\n",
       "}\n",
       "\n",
       ".xr-dim-list li {\n",
       "  display: inline-block;\n",
       "  padding: 0;\n",
       "  margin: 0;\n",
       "}\n",
       "\n",
       ".xr-dim-list:before {\n",
       "  content: '(';\n",
       "}\n",
       "\n",
       ".xr-dim-list:after {\n",
       "  content: ')';\n",
       "}\n",
       "\n",
       ".xr-dim-list li:not(:last-child):after {\n",
       "  content: ',';\n",
       "  padding-right: 5px;\n",
       "}\n",
       "\n",
       ".xr-has-index {\n",
       "  font-weight: bold;\n",
       "}\n",
       "\n",
       ".xr-var-list,\n",
       ".xr-var-item {\n",
       "  display: contents;\n",
       "}\n",
       "\n",
       ".xr-var-item > div,\n",
       ".xr-var-item label,\n",
       ".xr-var-item > .xr-var-name span {\n",
       "  background-color: var(--xr-background-color-row-even);\n",
       "  margin-bottom: 0;\n",
       "}\n",
       "\n",
       ".xr-var-item > .xr-var-name:hover span {\n",
       "  padding-right: 5px;\n",
       "}\n",
       "\n",
       ".xr-var-list > li:nth-child(odd) > div,\n",
       ".xr-var-list > li:nth-child(odd) > label,\n",
       ".xr-var-list > li:nth-child(odd) > .xr-var-name span {\n",
       "  background-color: var(--xr-background-color-row-odd);\n",
       "}\n",
       "\n",
       ".xr-var-name {\n",
       "  grid-column: 1;\n",
       "}\n",
       "\n",
       ".xr-var-dims {\n",
       "  grid-column: 2;\n",
       "}\n",
       "\n",
       ".xr-var-dtype {\n",
       "  grid-column: 3;\n",
       "  text-align: right;\n",
       "  color: var(--xr-font-color2);\n",
       "}\n",
       "\n",
       ".xr-var-preview {\n",
       "  grid-column: 4;\n",
       "}\n",
       "\n",
       ".xr-var-name,\n",
       ".xr-var-dims,\n",
       ".xr-var-dtype,\n",
       ".xr-preview,\n",
       ".xr-attrs dt {\n",
       "  white-space: nowrap;\n",
       "  overflow: hidden;\n",
       "  text-overflow: ellipsis;\n",
       "  padding-right: 10px;\n",
       "}\n",
       "\n",
       ".xr-var-name:hover,\n",
       ".xr-var-dims:hover,\n",
       ".xr-var-dtype:hover,\n",
       ".xr-attrs dt:hover {\n",
       "  overflow: visible;\n",
       "  width: auto;\n",
       "  z-index: 1;\n",
       "}\n",
       "\n",
       ".xr-var-attrs,\n",
       ".xr-var-data {\n",
       "  display: none;\n",
       "  background-color: var(--xr-background-color) !important;\n",
       "  padding-bottom: 5px !important;\n",
       "}\n",
       "\n",
       ".xr-var-attrs-in:checked ~ .xr-var-attrs,\n",
       ".xr-var-data-in:checked ~ .xr-var-data {\n",
       "  display: block;\n",
       "}\n",
       "\n",
       ".xr-var-data > table {\n",
       "  float: right;\n",
       "}\n",
       "\n",
       ".xr-var-name span,\n",
       ".xr-var-data,\n",
       ".xr-attrs {\n",
       "  padding-left: 25px !important;\n",
       "}\n",
       "\n",
       ".xr-attrs,\n",
       ".xr-var-attrs,\n",
       ".xr-var-data {\n",
       "  grid-column: 1 / -1;\n",
       "}\n",
       "\n",
       "dl.xr-attrs {\n",
       "  padding: 0;\n",
       "  margin: 0;\n",
       "  display: grid;\n",
       "  grid-template-columns: 125px auto;\n",
       "}\n",
       "\n",
       ".xr-attrs dt, dd {\n",
       "  padding: 0;\n",
       "  margin: 0;\n",
       "  float: left;\n",
       "  padding-right: 10px;\n",
       "  width: auto;\n",
       "}\n",
       "\n",
       ".xr-attrs dt {\n",
       "  font-weight: normal;\n",
       "  grid-column: 1;\n",
       "}\n",
       "\n",
       ".xr-attrs dt:hover span {\n",
       "  display: inline-block;\n",
       "  background: var(--xr-background-color);\n",
       "  padding-right: 10px;\n",
       "}\n",
       "\n",
       ".xr-attrs dd {\n",
       "  grid-column: 2;\n",
       "  white-space: pre-wrap;\n",
       "  word-break: break-all;\n",
       "}\n",
       "\n",
       ".xr-icon-database,\n",
       ".xr-icon-file-text2 {\n",
       "  display: inline-block;\n",
       "  vertical-align: middle;\n",
       "  width: 1em;\n",
       "  height: 1.5em !important;\n",
       "  stroke-width: 0;\n",
       "  stroke: currentColor;\n",
       "  fill: currentColor;\n",
       "}\n",
       "</style><pre class='xr-text-repr-fallback'>&lt;xarray.DataArray &#x27;TREFHT&#x27; (time: 21612, RegionIndex: 46)&gt;\n",
       "dask.array&lt;rechunk-merge, shape=(21612, 46), dtype=float64, chunksize=(21612, 46), chunktype=numpy.ndarray&gt;\n",
       "Coordinates:\n",
       "    RegionName    (RegionIndex) object dask.array&lt;chunksize=(46,), meta=np.ndarray&gt;\n",
       "    RegionAbbrev  (RegionIndex) object dask.array&lt;chunksize=(46,), meta=np.ndarray&gt;\n",
       "  * RegionIndex   (RegionIndex) int64 0 1 2 3 4 5 6 7 ... 39 40 41 42 43 44 45\n",
       "  * time          (time) object 0400-02-01 00:00:00 ... 2201-01-01 00:00:00</pre><div class='xr-wrap' hidden><div class='xr-header'><div class='xr-obj-type'>xarray.DataArray</div><div class='xr-array-name'>'TREFHT'</div><ul class='xr-dim-list'><li><span class='xr-has-index'>time</span>: 21612</li><li><span class='xr-has-index'>RegionIndex</span>: 46</li></ul></div><ul class='xr-sections'><li class='xr-section-item'><div class='xr-array-wrap'><input id='section-fea02d52-6b6d-4a9a-b881-86abf85d2e11' class='xr-array-in' type='checkbox' checked><label for='section-fea02d52-6b6d-4a9a-b881-86abf85d2e11' title='Show/hide data repr'><svg class='icon xr-icon-database'><use xlink:href='#icon-database'></use></svg></label><div class='xr-array-preview xr-preview'><span>dask.array&lt;chunksize=(21612, 46), meta=np.ndarray&gt;</span></div><div class='xr-array-data'><table>\n",
       "<tr>\n",
       "<td>\n",
       "<table>\n",
       "  <thead>\n",
       "    <tr><td> </td><th> Array </th><th> Chunk </th></tr>\n",
       "  </thead>\n",
       "  <tbody>\n",
       "    <tr><th> Bytes </th><td> 7.95 MB </td> <td> 7.95 MB </td></tr>\n",
       "    <tr><th> Shape </th><td> (21612, 46) </td> <td> (21612, 46) </td></tr>\n",
       "    <tr><th> Count </th><td> 55 Tasks </td><td> 1 Chunks </td></tr>\n",
       "    <tr><th> Type </th><td> float64 </td><td> numpy.ndarray </td></tr>\n",
       "  </tbody>\n",
       "</table>\n",
       "</td>\n",
       "<td>\n",
       "<svg width=\"75\" height=\"170\" style=\"stroke:rgb(0,0,0);stroke-width:1\" >\n",
       "\n",
       "  <!-- Horizontal lines -->\n",
       "  <line x1=\"0\" y1=\"0\" x2=\"25\" y2=\"0\" style=\"stroke-width:2\" />\n",
       "  <line x1=\"0\" y1=\"120\" x2=\"25\" y2=\"120\" style=\"stroke-width:2\" />\n",
       "\n",
       "  <!-- Vertical lines -->\n",
       "  <line x1=\"0\" y1=\"0\" x2=\"0\" y2=\"120\" style=\"stroke-width:2\" />\n",
       "  <line x1=\"25\" y1=\"0\" x2=\"25\" y2=\"120\" style=\"stroke-width:2\" />\n",
       "\n",
       "  <!-- Colored Rectangle -->\n",
       "  <polygon points=\"0.000000,0.000000 25.412617,0.000000 25.412617,120.000000 0.000000,120.000000\" style=\"fill:#ECB172A0;stroke-width:0\"/>\n",
       "\n",
       "  <!-- Text -->\n",
       "  <text x=\"12.706308\" y=\"140.000000\" font-size=\"1.0rem\" font-weight=\"100\" text-anchor=\"middle\" >46</text>\n",
       "  <text x=\"45.412617\" y=\"60.000000\" font-size=\"1.0rem\" font-weight=\"100\" text-anchor=\"middle\" transform=\"rotate(-90,45.412617,60.000000)\">21612</text>\n",
       "</svg>\n",
       "</td>\n",
       "</tr>\n",
       "</table></div></div></li><li class='xr-section-item'><input id='section-b7cc0979-9768-47f7-b599-cf12f33343a6' class='xr-section-summary-in' type='checkbox'  checked><label for='section-b7cc0979-9768-47f7-b599-cf12f33343a6' class='xr-section-summary' >Coordinates: <span>(4)</span></label><div class='xr-section-inline-details'></div><div class='xr-section-details'><ul class='xr-var-list'><li class='xr-var-item'><div class='xr-var-name'><span>RegionName</span></div><div class='xr-var-dims'>(RegionIndex)</div><div class='xr-var-dtype'>object</div><div class='xr-var-preview xr-preview'>dask.array&lt;chunksize=(46,), meta=np.ndarray&gt;</div><input id='attrs-f8f6b746-5c93-484d-b6ff-34743517f5f3' class='xr-var-attrs-in' type='checkbox' disabled><label for='attrs-f8f6b746-5c93-484d-b6ff-34743517f5f3' title='Show/Hide attributes'><svg class='icon xr-icon-file-text2'><use xlink:href='#icon-file-text2'></use></svg></label><input id='data-0a54954e-baa9-4669-a6b7-7f4902950521' class='xr-var-data-in' type='checkbox'><label for='data-0a54954e-baa9-4669-a6b7-7f4902950521' title='Show/Hide data repr'><svg class='icon xr-icon-database'><use xlink:href='#icon-database'></use></svg></label><div class='xr-var-attrs'><dl class='xr-attrs'></dl></div><div class='xr-var-data'><table>\n",
       "<tr>\n",
       "<td>\n",
       "<table>\n",
       "  <thead>\n",
       "    <tr><td> </td><th> Array </th><th> Chunk </th></tr>\n",
       "  </thead>\n",
       "  <tbody>\n",
       "    <tr><th> Bytes </th><td> 368 B </td> <td> 368 B </td></tr>\n",
       "    <tr><th> Shape </th><td> (46,) </td> <td> (46,) </td></tr>\n",
       "    <tr><th> Count </th><td> 85 Tasks </td><td> 1 Chunks </td></tr>\n",
       "    <tr><th> Type </th><td> object </td><td> numpy.ndarray </td></tr>\n",
       "  </tbody>\n",
       "</table>\n",
       "</td>\n",
       "<td>\n",
       "<svg width=\"170\" height=\"79\" style=\"stroke:rgb(0,0,0);stroke-width:1\" >\n",
       "\n",
       "  <!-- Horizontal lines -->\n",
       "  <line x1=\"0\" y1=\"0\" x2=\"120\" y2=\"0\" style=\"stroke-width:2\" />\n",
       "  <line x1=\"0\" y1=\"29\" x2=\"120\" y2=\"29\" style=\"stroke-width:2\" />\n",
       "\n",
       "  <!-- Vertical lines -->\n",
       "  <line x1=\"0\" y1=\"0\" x2=\"0\" y2=\"29\" style=\"stroke-width:2\" />\n",
       "  <line x1=\"120\" y1=\"0\" x2=\"120\" y2=\"29\" style=\"stroke-width:2\" />\n",
       "\n",
       "  <!-- Colored Rectangle -->\n",
       "  <polygon points=\"0.000000,0.000000 120.000000,0.000000 120.000000,29.503487 0.000000,29.503487\" style=\"fill:#ECB172A0;stroke-width:0\"/>\n",
       "\n",
       "  <!-- Text -->\n",
       "  <text x=\"60.000000\" y=\"49.503487\" font-size=\"1.0rem\" font-weight=\"100\" text-anchor=\"middle\" >46</text>\n",
       "  <text x=\"140.000000\" y=\"14.751743\" font-size=\"1.0rem\" font-weight=\"100\" text-anchor=\"middle\" transform=\"rotate(0,140.000000,14.751743)\">1</text>\n",
       "</svg>\n",
       "</td>\n",
       "</tr>\n",
       "</table></div></li><li class='xr-var-item'><div class='xr-var-name'><span>RegionAbbrev</span></div><div class='xr-var-dims'>(RegionIndex)</div><div class='xr-var-dtype'>object</div><div class='xr-var-preview xr-preview'>dask.array&lt;chunksize=(46,), meta=np.ndarray&gt;</div><input id='attrs-6bcbaca6-2676-4934-ad34-f6d7fbc26d02' class='xr-var-attrs-in' type='checkbox' disabled><label for='attrs-6bcbaca6-2676-4934-ad34-f6d7fbc26d02' title='Show/Hide attributes'><svg class='icon xr-icon-file-text2'><use xlink:href='#icon-file-text2'></use></svg></label><input id='data-6b4673c5-a915-4e04-93e7-1ea4424abf4d' class='xr-var-data-in' type='checkbox'><label for='data-6b4673c5-a915-4e04-93e7-1ea4424abf4d' title='Show/Hide data repr'><svg class='icon xr-icon-database'><use xlink:href='#icon-database'></use></svg></label><div class='xr-var-attrs'><dl class='xr-attrs'></dl></div><div class='xr-var-data'><table>\n",
       "<tr>\n",
       "<td>\n",
       "<table>\n",
       "  <thead>\n",
       "    <tr><td> </td><th> Array </th><th> Chunk </th></tr>\n",
       "  </thead>\n",
       "  <tbody>\n",
       "    <tr><th> Bytes </th><td> 368 B </td> <td> 368 B </td></tr>\n",
       "    <tr><th> Shape </th><td> (46,) </td> <td> (46,) </td></tr>\n",
       "    <tr><th> Count </th><td> 85 Tasks </td><td> 1 Chunks </td></tr>\n",
       "    <tr><th> Type </th><td> object </td><td> numpy.ndarray </td></tr>\n",
       "  </tbody>\n",
       "</table>\n",
       "</td>\n",
       "<td>\n",
       "<svg width=\"170\" height=\"79\" style=\"stroke:rgb(0,0,0);stroke-width:1\" >\n",
       "\n",
       "  <!-- Horizontal lines -->\n",
       "  <line x1=\"0\" y1=\"0\" x2=\"120\" y2=\"0\" style=\"stroke-width:2\" />\n",
       "  <line x1=\"0\" y1=\"29\" x2=\"120\" y2=\"29\" style=\"stroke-width:2\" />\n",
       "\n",
       "  <!-- Vertical lines -->\n",
       "  <line x1=\"0\" y1=\"0\" x2=\"0\" y2=\"29\" style=\"stroke-width:2\" />\n",
       "  <line x1=\"120\" y1=\"0\" x2=\"120\" y2=\"29\" style=\"stroke-width:2\" />\n",
       "\n",
       "  <!-- Colored Rectangle -->\n",
       "  <polygon points=\"0.000000,0.000000 120.000000,0.000000 120.000000,29.503487 0.000000,29.503487\" style=\"fill:#ECB172A0;stroke-width:0\"/>\n",
       "\n",
       "  <!-- Text -->\n",
       "  <text x=\"60.000000\" y=\"49.503487\" font-size=\"1.0rem\" font-weight=\"100\" text-anchor=\"middle\" >46</text>\n",
       "  <text x=\"140.000000\" y=\"14.751743\" font-size=\"1.0rem\" font-weight=\"100\" text-anchor=\"middle\" transform=\"rotate(0,140.000000,14.751743)\">1</text>\n",
       "</svg>\n",
       "</td>\n",
       "</tr>\n",
       "</table></div></li><li class='xr-var-item'><div class='xr-var-name'><span class='xr-has-index'>RegionIndex</span></div><div class='xr-var-dims'>(RegionIndex)</div><div class='xr-var-dtype'>int64</div><div class='xr-var-preview xr-preview'>0 1 2 3 4 5 6 ... 40 41 42 43 44 45</div><input id='attrs-18d38639-6546-44f4-93ff-98cd07ace7a3' class='xr-var-attrs-in' type='checkbox' disabled><label for='attrs-18d38639-6546-44f4-93ff-98cd07ace7a3' title='Show/Hide attributes'><svg class='icon xr-icon-file-text2'><use xlink:href='#icon-file-text2'></use></svg></label><input id='data-1e95d76a-334a-4acf-a098-e4ef2cfecd19' class='xr-var-data-in' type='checkbox'><label for='data-1e95d76a-334a-4acf-a098-e4ef2cfecd19' title='Show/Hide data repr'><svg class='icon xr-icon-database'><use xlink:href='#icon-database'></use></svg></label><div class='xr-var-attrs'><dl class='xr-attrs'></dl></div><div class='xr-var-data'><pre>array([ 0,  1,  2,  3,  4,  5,  6,  7,  8,  9, 10, 11, 12, 13, 14, 15, 16, 17,\n",
       "       18, 19, 20, 21, 22, 23, 24, 25, 26, 27, 28, 29, 30, 31, 32, 33, 34, 35,\n",
       "       36, 37, 38, 39, 40, 41, 42, 43, 44, 45])</pre></div></li><li class='xr-var-item'><div class='xr-var-name'><span class='xr-has-index'>time</span></div><div class='xr-var-dims'>(time)</div><div class='xr-var-dtype'>object</div><div class='xr-var-preview xr-preview'>0400-02-01 00:00:00 ... 2201-01-...</div><input id='attrs-7a27c98c-43c3-4f0b-8ec9-65957c5611f1' class='xr-var-attrs-in' type='checkbox' ><label for='attrs-7a27c98c-43c3-4f0b-8ec9-65957c5611f1' title='Show/Hide attributes'><svg class='icon xr-icon-file-text2'><use xlink:href='#icon-file-text2'></use></svg></label><input id='data-9165cfed-174f-480d-99dd-67942dda7a2e' class='xr-var-data-in' type='checkbox'><label for='data-9165cfed-174f-480d-99dd-67942dda7a2e' title='Show/Hide data repr'><svg class='icon xr-icon-database'><use xlink:href='#icon-database'></use></svg></label><div class='xr-var-attrs'><dl class='xr-attrs'><dt><span>long_name :</span></dt><dd>time</dd><dt><span>bounds :</span></dt><dd>time_bnds</dd></dl></div><div class='xr-var-data'><pre>array([cftime.DatetimeNoLeap(400, 2, 1, 0, 0, 0, 0),\n",
       "       cftime.DatetimeNoLeap(400, 3, 1, 0, 0, 0, 0),\n",
       "       cftime.DatetimeNoLeap(400, 4, 1, 0, 0, 0, 0), ...,\n",
       "       cftime.DatetimeNoLeap(2200, 11, 1, 0, 0, 0, 0),\n",
       "       cftime.DatetimeNoLeap(2200, 12, 1, 0, 0, 0, 0),\n",
       "       cftime.DatetimeNoLeap(2201, 1, 1, 0, 0, 0, 0)], dtype=object)</pre></div></li></ul></div></li><li class='xr-section-item'><input id='section-34797791-daef-48cc-a8d1-381cb5b84a41' class='xr-section-summary-in' type='checkbox' disabled ><label for='section-34797791-daef-48cc-a8d1-381cb5b84a41' class='xr-section-summary'  title='Expand/collapse section'>Attributes: <span>(0)</span></label><div class='xr-section-inline-details'></div><div class='xr-section-details'><dl class='xr-attrs'></dl></div></li></ul></div></div>"
      ],
      "text/plain": [
       "<xarray.DataArray 'TREFHT' (time: 21612, RegionIndex: 46)>\n",
       "dask.array<rechunk-merge, shape=(21612, 46), dtype=float64, chunksize=(21612, 46), chunktype=numpy.ndarray>\n",
       "Coordinates:\n",
       "    RegionName    (RegionIndex) object dask.array<chunksize=(46,), meta=np.ndarray>\n",
       "    RegionAbbrev  (RegionIndex) object dask.array<chunksize=(46,), meta=np.ndarray>\n",
       "  * RegionIndex   (RegionIndex) int64 0 1 2 3 4 5 6 7 ... 39 40 41 42 43 44 45\n",
       "  * time          (time) object 0400-02-01 00:00:00 ... 2201-01-01 00:00:00"
      ]
     },
     "execution_count": 35,
     "metadata": {},
     "output_type": "execute_result"
    }
   ],
   "source": [
    "cesm1_pic_all_tseries['TREFHT'].chunk({'time':-1})"
   ]
  },
  {
   "cell_type": "code",
   "execution_count": 46,
   "id": "46c789ee-02a4-469f-b331-0b31ea22462f",
   "metadata": {},
   "outputs": [
    {
     "data": {
      "text/plain": [
       "[<matplotlib.lines.Line2D at 0x2b6547527d50>]"
      ]
     },
     "execution_count": 46,
     "metadata": {},
     "output_type": "execute_result"
    },
    {
     "data": {
      "image/png": "[encoded data removed]",
      "text/plain": [
       "<Figure size 432x288 with 1 Axes>"
      ]
     },
     "metadata": {
      "needs_background": "light"
     },
     "output_type": "display_data"
    }
   ],
   "source": [
    "cesm1_pic_all_tseries['TREFHT'].sel(RegionIndex=5).groupby('time.year').mean('time').plot()"
   ]
  },
  {
   "cell_type": "code",
   "execution_count": 58,
   "id": "8e78c8b2-9faf-4aa9-91f5-fe72df357f9d",
   "metadata": {},
   "outputs": [
    {
     "data": {
      "text/html": [
       "<div><svg style=\"position: absolute; width: 0; height: 0; overflow: hidden\">\n",
       "<defs>\n",
       "<symbol id=\"icon-database\" viewBox=\"0 0 32 32\">\n",
       "<path d=\"M16 0c-8.837 0-16 2.239-16 5v4c0 2.761 7.163 5 16 5s16-2.239 16-5v-4c0-2.761-7.163-5-16-5z\"></path>\n",
       "<path d=\"M16 17c-8.837 0-16-2.239-16-5v6c0 2.761 7.163 5 16 5s16-2.239 16-5v-6c0 2.761-7.163 5-16 5z\"></path>\n",
       "<path d=\"M16 26c-8.837 0-16-2.239-16-5v6c0 2.761 7.163 5 16 5s16-2.239 16-5v-6c0 2.761-7.163 5-16 5z\"></path>\n",
       "</symbol>\n",
       "<symbol id=\"icon-file-text2\" viewBox=\"0 0 32 32\">\n",
       "<path d=\"M28.681 7.159c-0.694-0.947-1.662-2.053-2.724-3.116s-2.169-2.030-3.116-2.724c-1.612-1.182-2.393-1.319-2.841-1.319h-15.5c-1.378 0-2.5 1.121-2.5 2.5v27c0 1.378 1.122 2.5 2.5 2.5h23c1.378 0 2.5-1.122 2.5-2.5v-19.5c0-0.448-0.137-1.23-1.319-2.841zM24.543 5.457c0.959 0.959 1.712 1.825 2.268 2.543h-4.811v-4.811c0.718 0.556 1.584 1.309 2.543 2.268zM28 29.5c0 0.271-0.229 0.5-0.5 0.5h-23c-0.271 0-0.5-0.229-0.5-0.5v-27c0-0.271 0.229-0.5 0.5-0.5 0 0 15.499-0 15.5 0v7c0 0.552 0.448 1 1 1h7v19.5z\"></path>\n",
       "<path d=\"M23 26h-14c-0.552 0-1-0.448-1-1s0.448-1 1-1h14c0.552 0 1 0.448 1 1s-0.448 1-1 1z\"></path>\n",
       "<path d=\"M23 22h-14c-0.552 0-1-0.448-1-1s0.448-1 1-1h14c0.552 0 1 0.448 1 1s-0.448 1-1 1z\"></path>\n",
       "<path d=\"M23 18h-14c-0.552 0-1-0.448-1-1s0.448-1 1-1h14c0.552 0 1 0.448 1 1s-0.448 1-1 1z\"></path>\n",
       "</symbol>\n",
       "</defs>\n",
       "</svg>\n",
       "<style>/* CSS stylesheet for displaying xarray objects in jupyterlab.\n",
       " *\n",
       " */\n",
       "\n",
       ":root {\n",
       "  --xr-font-color0: var(--jp-content-font-color0, rgba(0, 0, 0, 1));\n",
       "  --xr-font-color2: var(--jp-content-font-color2, rgba(0, 0, 0, 0.54));\n",
       "  --xr-font-color3: var(--jp-content-font-color3, rgba(0, 0, 0, 0.38));\n",
       "  --xr-border-color: var(--jp-border-color2, #e0e0e0);\n",
       "  --xr-disabled-color: var(--jp-layout-color3, #bdbdbd);\n",
       "  --xr-background-color: var(--jp-layout-color0, white);\n",
       "  --xr-background-color-row-even: var(--jp-layout-color1, white);\n",
       "  --xr-background-color-row-odd: var(--jp-layout-color2, #eeeeee);\n",
       "}\n",
       "\n",
       "html[theme=dark],\n",
       "body.vscode-dark {\n",
       "  --xr-font-color0: rgba(255, 255, 255, 1);\n",
       "  --xr-font-color2: rgba(255, 255, 255, 0.54);\n",
       "  --xr-font-color3: rgba(255, 255, 255, 0.38);\n",
       "  --xr-border-color: #1F1F1F;\n",
       "  --xr-disabled-color: #515151;\n",
       "  --xr-background-color: #111111;\n",
       "  --xr-background-color-row-even: #111111;\n",
       "  --xr-background-color-row-odd: #313131;\n",
       "}\n",
       "\n",
       ".xr-wrap {\n",
       "  display: block;\n",
       "  min-width: 300px;\n",
       "  max-width: 700px;\n",
       "}\n",
       "\n",
       ".xr-text-repr-fallback {\n",
       "  /* fallback to plain text repr when CSS is not injected (untrusted notebook) */\n",
       "  display: none;\n",
       "}\n",
       "\n",
       ".xr-header {\n",
       "  padding-top: 6px;\n",
       "  padding-bottom: 6px;\n",
       "  margin-bottom: 4px;\n",
       "  border-bottom: solid 1px var(--xr-border-color);\n",
       "}\n",
       "\n",
       ".xr-header > div,\n",
       ".xr-header > ul {\n",
       "  display: inline;\n",
       "  margin-top: 0;\n",
       "  margin-bottom: 0;\n",
       "}\n",
       "\n",
       ".xr-obj-type,\n",
       ".xr-array-name {\n",
       "  margin-left: 2px;\n",
       "  margin-right: 10px;\n",
       "}\n",
       "\n",
       ".xr-obj-type {\n",
       "  color: var(--xr-font-color2);\n",
       "}\n",
       "\n",
       ".xr-sections {\n",
       "  padding-left: 0 !important;\n",
       "  display: grid;\n",
       "  grid-template-columns: 150px auto auto 1fr 20px 20px;\n",
       "}\n",
       "\n",
       ".xr-section-item {\n",
       "  display: contents;\n",
       "}\n",
       "\n",
       ".xr-section-item input {\n",
       "  display: none;\n",
       "}\n",
       "\n",
       ".xr-section-item input + label {\n",
       "  color: var(--xr-disabled-color);\n",
       "}\n",
       "\n",
       ".xr-section-item input:enabled + label {\n",
       "  cursor: pointer;\n",
       "  color: var(--xr-font-color2);\n",
       "}\n",
       "\n",
       ".xr-section-item input:enabled + label:hover {\n",
       "  color: var(--xr-font-color0);\n",
       "}\n",
       "\n",
       ".xr-section-summary {\n",
       "  grid-column: 1;\n",
       "  color: var(--xr-font-color2);\n",
       "  font-weight: 500;\n",
       "}\n",
       "\n",
       ".xr-section-summary > span {\n",
       "  display: inline-block;\n",
       "  padding-left: 0.5em;\n",
       "}\n",
       "\n",
       ".xr-section-summary-in:disabled + label {\n",
       "  color: var(--xr-font-color2);\n",
       "}\n",
       "\n",
       ".xr-section-summary-in + label:before {\n",
       "  display: inline-block;\n",
       "  content: '►';\n",
       "  font-size: 11px;\n",
       "  width: 15px;\n",
       "  text-align: center;\n",
       "}\n",
       "\n",
       ".xr-section-summary-in:disabled + label:before {\n",
       "  color: var(--xr-disabled-color);\n",
       "}\n",
       "\n",
       ".xr-section-summary-in:checked + label:before {\n",
       "  content: '▼';\n",
       "}\n",
       "\n",
       ".xr-section-summary-in:checked + label > span {\n",
       "  display: none;\n",
       "}\n",
       "\n",
       ".xr-section-summary,\n",
       ".xr-section-inline-details {\n",
       "  padding-top: 4px;\n",
       "  padding-bottom: 4px;\n",
       "}\n",
       "\n",
       ".xr-section-inline-details {\n",
       "  grid-column: 2 / -1;\n",
       "}\n",
       "\n",
       ".xr-section-details {\n",
       "  display: none;\n",
       "  grid-column: 1 / -1;\n",
       "  margin-bottom: 5px;\n",
       "}\n",
       "\n",
       ".xr-section-summary-in:checked ~ .xr-section-details {\n",
       "  display: contents;\n",
       "}\n",
       "\n",
       ".xr-array-wrap {\n",
       "  grid-column: 1 / -1;\n",
       "  display: grid;\n",
       "  grid-template-columns: 20px auto;\n",
       "}\n",
       "\n",
       ".xr-array-wrap > label {\n",
       "  grid-column: 1;\n",
       "  vertical-align: top;\n",
       "}\n",
       "\n",
       ".xr-preview {\n",
       "  color: var(--xr-font-color3);\n",
       "}\n",
       "\n",
       ".xr-array-preview,\n",
       ".xr-array-data {\n",
       "  padding: 0 5px !important;\n",
       "  grid-column: 2;\n",
       "}\n",
       "\n",
       ".xr-array-data,\n",
       ".xr-array-in:checked ~ .xr-array-preview {\n",
       "  display: none;\n",
       "}\n",
       "\n",
       ".xr-array-in:checked ~ .xr-array-data,\n",
       ".xr-array-preview {\n",
       "  display: inline-block;\n",
       "}\n",
       "\n",
       ".xr-dim-list {\n",
       "  display: inline-block !important;\n",
       "  list-style: none;\n",
       "  padding: 0 !important;\n",
       "  margin: 0;\n",
       "}\n",
       "\n",
       ".xr-dim-list li {\n",
       "  display: inline-block;\n",
       "  padding: 0;\n",
       "  margin: 0;\n",
       "}\n",
       "\n",
       ".xr-dim-list:before {\n",
       "  content: '(';\n",
       "}\n",
       "\n",
       ".xr-dim-list:after {\n",
       "  content: ')';\n",
       "}\n",
       "\n",
       ".xr-dim-list li:not(:last-child):after {\n",
       "  content: ',';\n",
       "  padding-right: 5px;\n",
       "}\n",
       "\n",
       ".xr-has-index {\n",
       "  font-weight: bold;\n",
       "}\n",
       "\n",
       ".xr-var-list,\n",
       ".xr-var-item {\n",
       "  display: contents;\n",
       "}\n",
       "\n",
       ".xr-var-item > div,\n",
       ".xr-var-item label,\n",
       ".xr-var-item > .xr-var-name span {\n",
       "  background-color: var(--xr-background-color-row-even);\n",
       "  margin-bottom: 0;\n",
       "}\n",
       "\n",
       ".xr-var-item > .xr-var-name:hover span {\n",
       "  padding-right: 5px;\n",
       "}\n",
       "\n",
       ".xr-var-list > li:nth-child(odd) > div,\n",
       ".xr-var-list > li:nth-child(odd) > label,\n",
       ".xr-var-list > li:nth-child(odd) > .xr-var-name span {\n",
       "  background-color: var(--xr-background-color-row-odd);\n",
       "}\n",
       "\n",
       ".xr-var-name {\n",
       "  grid-column: 1;\n",
       "}\n",
       "\n",
       ".xr-var-dims {\n",
       "  grid-column: 2;\n",
       "}\n",
       "\n",
       ".xr-var-dtype {\n",
       "  grid-column: 3;\n",
       "  text-align: right;\n",
       "  color: var(--xr-font-color2);\n",
       "}\n",
       "\n",
       ".xr-var-preview {\n",
       "  grid-column: 4;\n",
       "}\n",
       "\n",
       ".xr-var-name,\n",
       ".xr-var-dims,\n",
       ".xr-var-dtype,\n",
       ".xr-preview,\n",
       ".xr-attrs dt {\n",
       "  white-space: nowrap;\n",
       "  overflow: hidden;\n",
       "  text-overflow: ellipsis;\n",
       "  padding-right: 10px;\n",
       "}\n",
       "\n",
       ".xr-var-name:hover,\n",
       ".xr-var-dims:hover,\n",
       ".xr-var-dtype:hover,\n",
       ".xr-attrs dt:hover {\n",
       "  overflow: visible;\n",
       "  width: auto;\n",
       "  z-index: 1;\n",
       "}\n",
       "\n",
       ".xr-var-attrs,\n",
       ".xr-var-data {\n",
       "  display: none;\n",
       "  background-color: var(--xr-background-color) !important;\n",
       "  padding-bottom: 5px !important;\n",
       "}\n",
       "\n",
       ".xr-var-attrs-in:checked ~ .xr-var-attrs,\n",
       ".xr-var-data-in:checked ~ .xr-var-data {\n",
       "  display: block;\n",
       "}\n",
       "\n",
       ".xr-var-data > table {\n",
       "  float: right;\n",
       "}\n",
       "\n",
       ".xr-var-name span,\n",
       ".xr-var-data,\n",
       ".xr-attrs {\n",
       "  padding-left: 25px !important;\n",
       "}\n",
       "\n",
       ".xr-attrs,\n",
       ".xr-var-attrs,\n",
       ".xr-var-data {\n",
       "  grid-column: 1 / -1;\n",
       "}\n",
       "\n",
       "dl.xr-attrs {\n",
       "  padding: 0;\n",
       "  margin: 0;\n",
       "  display: grid;\n",
       "  grid-template-columns: 125px auto;\n",
       "}\n",
       "\n",
       ".xr-attrs dt, dd {\n",
       "  padding: 0;\n",
       "  margin: 0;\n",
       "  float: left;\n",
       "  padding-right: 10px;\n",
       "  width: auto;\n",
       "}\n",
       "\n",
       ".xr-attrs dt {\n",
       "  font-weight: normal;\n",
       "  grid-column: 1;\n",
       "}\n",
       "\n",
       ".xr-attrs dt:hover span {\n",
       "  display: inline-block;\n",
       "  background: var(--xr-background-color);\n",
       "  padding-right: 10px;\n",
       "}\n",
       "\n",
       ".xr-attrs dd {\n",
       "  grid-column: 2;\n",
       "  white-space: pre-wrap;\n",
       "  word-break: break-all;\n",
       "}\n",
       "\n",
       ".xr-icon-database,\n",
       ".xr-icon-file-text2 {\n",
       "  display: inline-block;\n",
       "  vertical-align: middle;\n",
       "  width: 1em;\n",
       "  height: 1.5em !important;\n",
       "  stroke-width: 0;\n",
       "  stroke: currentColor;\n",
       "  fill: currentColor;\n",
       "}\n",
       "</style><pre class='xr-text-repr-fallback'>&lt;xarray.DataArray &#x27;time&#x27; (time: 21612)&gt;\n",
       "array([cftime.DatetimeNoLeap(400, 2, 1, 0, 0, 0, 0),\n",
       "       cftime.DatetimeNoLeap(400, 3, 1, 0, 0, 0, 0),\n",
       "       cftime.DatetimeNoLeap(400, 4, 1, 0, 0, 0, 0), ...,\n",
       "       cftime.DatetimeNoLeap(2200, 11, 1, 0, 0, 0, 0),\n",
       "       cftime.DatetimeNoLeap(2200, 12, 1, 0, 0, 0, 0),\n",
       "       cftime.DatetimeNoLeap(2201, 1, 1, 0, 0, 0, 0)], dtype=object)\n",
       "Coordinates:\n",
       "  * time     (time) object 0400-02-01 00:00:00 ... 2201-01-01 00:00:00\n",
       "Attributes:\n",
       "    long_name:  time\n",
       "    bounds:     time_bnds</pre><div class='xr-wrap' hidden><div class='xr-header'><div class='xr-obj-type'>xarray.DataArray</div><div class='xr-array-name'>'time'</div><ul class='xr-dim-list'><li><span class='xr-has-index'>time</span>: 21612</li></ul></div><ul class='xr-sections'><li class='xr-section-item'><div class='xr-array-wrap'><input id='section-db06c516-5d93-4b88-9021-c584a92f14e4' class='xr-array-in' type='checkbox' checked><label for='section-db06c516-5d93-4b88-9021-c584a92f14e4' title='Show/hide data repr'><svg class='icon xr-icon-database'><use xlink:href='#icon-database'></use></svg></label><div class='xr-array-preview xr-preview'><span>0400-02-01 00:00:00 0400-03-01 00:00:00 ... 2201-01-01 00:00:00</span></div><div class='xr-array-data'><pre>array([cftime.DatetimeNoLeap(400, 2, 1, 0, 0, 0, 0),\n",
       "       cftime.DatetimeNoLeap(400, 3, 1, 0, 0, 0, 0),\n",
       "       cftime.DatetimeNoLeap(400, 4, 1, 0, 0, 0, 0), ...,\n",
       "       cftime.DatetimeNoLeap(2200, 11, 1, 0, 0, 0, 0),\n",
       "       cftime.DatetimeNoLeap(2200, 12, 1, 0, 0, 0, 0),\n",
       "       cftime.DatetimeNoLeap(2201, 1, 1, 0, 0, 0, 0)], dtype=object)</pre></div></div></li><li class='xr-section-item'><input id='section-e8d0cb94-a137-4299-a197-9a7bf83f090a' class='xr-section-summary-in' type='checkbox'  checked><label for='section-e8d0cb94-a137-4299-a197-9a7bf83f090a' class='xr-section-summary' >Coordinates: <span>(1)</span></label><div class='xr-section-inline-details'></div><div class='xr-section-details'><ul class='xr-var-list'><li class='xr-var-item'><div class='xr-var-name'><span class='xr-has-index'>time</span></div><div class='xr-var-dims'>(time)</div><div class='xr-var-dtype'>object</div><div class='xr-var-preview xr-preview'>0400-02-01 00:00:00 ... 2201-01-...</div><input id='attrs-6609527e-f281-4793-b495-8bcf6ae4c71f' class='xr-var-attrs-in' type='checkbox' ><label for='attrs-6609527e-f281-4793-b495-8bcf6ae4c71f' title='Show/Hide attributes'><svg class='icon xr-icon-file-text2'><use xlink:href='#icon-file-text2'></use></svg></label><input id='data-6626b842-2d9a-438b-a484-2ee861431243' class='xr-var-data-in' type='checkbox'><label for='data-6626b842-2d9a-438b-a484-2ee861431243' title='Show/Hide data repr'><svg class='icon xr-icon-database'><use xlink:href='#icon-database'></use></svg></label><div class='xr-var-attrs'><dl class='xr-attrs'><dt><span>long_name :</span></dt><dd>time</dd><dt><span>bounds :</span></dt><dd>time_bnds</dd></dl></div><div class='xr-var-data'><pre>array([cftime.DatetimeNoLeap(400, 2, 1, 0, 0, 0, 0),\n",
       "       cftime.DatetimeNoLeap(400, 3, 1, 0, 0, 0, 0),\n",
       "       cftime.DatetimeNoLeap(400, 4, 1, 0, 0, 0, 0), ...,\n",
       "       cftime.DatetimeNoLeap(2200, 11, 1, 0, 0, 0, 0),\n",
       "       cftime.DatetimeNoLeap(2200, 12, 1, 0, 0, 0, 0),\n",
       "       cftime.DatetimeNoLeap(2201, 1, 1, 0, 0, 0, 0)], dtype=object)</pre></div></li></ul></div></li><li class='xr-section-item'><input id='section-267cdc49-7e71-46b9-b213-967279bb11f4' class='xr-section-summary-in' type='checkbox'  checked><label for='section-267cdc49-7e71-46b9-b213-967279bb11f4' class='xr-section-summary' >Attributes: <span>(2)</span></label><div class='xr-section-inline-details'></div><div class='xr-section-details'><dl class='xr-attrs'><dt><span>long_name :</span></dt><dd>time</dd><dt><span>bounds :</span></dt><dd>time_bnds</dd></dl></div></li></ul></div></div>"
      ],
      "text/plain": [
       "<xarray.DataArray 'time' (time: 21612)>\n",
       "array([cftime.DatetimeNoLeap(400, 2, 1, 0, 0, 0, 0),\n",
       "       cftime.DatetimeNoLeap(400, 3, 1, 0, 0, 0, 0),\n",
       "       cftime.DatetimeNoLeap(400, 4, 1, 0, 0, 0, 0), ...,\n",
       "       cftime.DatetimeNoLeap(2200, 11, 1, 0, 0, 0, 0),\n",
       "       cftime.DatetimeNoLeap(2200, 12, 1, 0, 0, 0, 0),\n",
       "       cftime.DatetimeNoLeap(2201, 1, 1, 0, 0, 0, 0)], dtype=object)\n",
       "Coordinates:\n",
       "  * time     (time) object 0400-02-01 00:00:00 ... 2201-01-01 00:00:00\n",
       "Attributes:\n",
       "    long_name:  time\n",
       "    bounds:     time_bnds"
      ]
     },
     "execution_count": 58,
     "metadata": {},
     "output_type": "execute_result"
    }
   ],
   "source": [
    "cesm1_pic_all_tseries.time"
   ]
  },
  {
   "cell_type": "code",
   "execution_count": null,
   "id": "5eb5cdb3-ecc3-446c-87af-ff0358f38376",
   "metadata": {},
   "outputs": [],
   "source": []
  }
 ],
 "metadata": {
  "kernelspec": {
   "display_name": "Python 3",
   "language": "python",
   "name": "python3"
  },
  "language_info": {
   "codemirror_mode": {
    "name": "ipython",
    "version": 3
   },
   "file_extension": ".py",
   "mimetype": "text/x-python",
   "name": "python",
   "nbconvert_exporter": "python",
   "pygments_lexer": "ipython3",
   "version": "3.12.5"
  }
 },
 "nbformat": 4,
 "nbformat_minor": 5
}
